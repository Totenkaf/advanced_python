{
 "cells": [
  {
   "cell_type": "code",
   "execution_count": 9,
   "id": "73685466",
   "metadata": {},
   "outputs": [],
   "source": [
    "def add(a, b, c=3):\n",
    "    print(f\"{a=}, {b=}, {c=}\")\n",
    "    return a + b + c"
   ]
  },
  {
   "cell_type": "code",
   "execution_count": 33,
   "id": "95d0f528",
   "metadata": {},
   "outputs": [
    {
     "name": "stdout",
     "output_type": "stream",
     "text": [
      "a=2, b=10, c=3\n"
     ]
    },
    {
     "data": {
      "text/plain": [
       "15"
      ]
     },
     "execution_count": 33,
     "metadata": {},
     "output_type": "execute_result"
    }
   ],
   "source": [
    "add(b=10, a=2)"
   ]
  },
  {
   "cell_type": "code",
   "execution_count": 14,
   "id": "2c1721d7",
   "metadata": {},
   "outputs": [
    {
     "name": "stdout",
     "output_type": "stream",
     "text": [
      "10 2 sdfsdf sfd {}\n"
     ]
    },
    {
     "data": {
      "text/plain": [
       "10"
      ]
     },
     "execution_count": 14,
     "metadata": {},
     "output_type": "execute_result"
    }
   ],
   "source": [
    "print(10, 2, \"sdfsdf\", \"sfd\", dict())\n",
    "sum([1,2,3,4])"
   ]
  },
  {
   "cell_type": "code",
   "execution_count": 36,
   "id": "f45397ca",
   "metadata": {},
   "outputs": [],
   "source": [
    "def my_sum(*args, **kwargs):\n",
    "    print(f\"{args=}\", type(args))\n",
    "    print(f\"{kwargs=}\", type(kwargs))\n",
    "    if 'arg2' in kwargs:\n",
    "        return kwargs['arg2']\n",
    "    return sum(args)"
   ]
  },
  {
   "cell_type": "code",
   "execution_count": 37,
   "id": "4bd15cde",
   "metadata": {},
   "outputs": [
    {
     "name": "stdout",
     "output_type": "stream",
     "text": [
      "args=(1, 3, 5, 10) <class 'tuple'>\n",
      "kwargs={'arg1': 'Hello', 'arg2': 100500, 'p': []} <class 'dict'>\n"
     ]
    },
    {
     "data": {
      "text/plain": [
       "100500"
      ]
     },
     "execution_count": 37,
     "metadata": {},
     "output_type": "execute_result"
    }
   ],
   "source": [
    "my_sum(1, 3, 5, 10, arg1='Hello', arg2=100500, p=[])"
   ]
  },
  {
   "cell_type": "code",
   "execution_count": 26,
   "id": "f0a85598",
   "metadata": {},
   "outputs": [],
   "source": [
    "def foo(l=[]):\n",
    "    l.append(100)\n",
    "    return l"
   ]
  },
  {
   "cell_type": "code",
   "execution_count": 1,
   "id": "d6c95359",
   "metadata": {},
   "outputs": [
    {
     "ename": "NameError",
     "evalue": "name 'foo' is not defined",
     "output_type": "error",
     "traceback": [
      "\u001b[0;31m---------------------------------------------------------------------------\u001b[0m",
      "\u001b[0;31mNameError\u001b[0m                                 Traceback (most recent call last)",
      "Cell \u001b[0;32mIn [1], line 1\u001b[0m\n\u001b[0;32m----> 1\u001b[0m l1 \u001b[38;5;241m=\u001b[39m \u001b[43mfoo\u001b[49m()\n\u001b[1;32m      2\u001b[0m l2 \u001b[38;5;241m=\u001b[39m foo()\n\u001b[1;32m      3\u001b[0m l1\n",
      "\u001b[0;31mNameError\u001b[0m: name 'foo' is not defined"
     ]
    }
   ],
   "source": [
    "l1 = foo()\n",
    "l2 = foo()\n",
    "l1"
   ]
  },
  {
   "cell_type": "markdown",
   "id": "e1c8185d",
   "metadata": {},
   "source": [
    "# Декораторы"
   ]
  },
  {
   "cell_type": "code",
   "execution_count": null,
   "id": "16ee6739",
   "metadata": {},
   "outputs": [],
   "source": [
    "\n",
    "import time\n",
    "\n",
    "def timer(func):\n",
    "    def wrapper(*args, **kwargs):\n",
    "        print(f\"We are inside timer!\")\n",
    "        start_ts = time.time()\n",
    "        res = func(*args, **kwargs)\n",
    "        end_ts = time.time()\n",
    "        print(f\"{args=}, {kwargs=}\")\n",
    "        print(f\"{func.__name__}: {(end_ts - start_ts) * 1000} ms.\")\n",
    "        return res\n",
    "    return wrapper\n",
    "\n",
    "def sleeper(delay=0.5):\n",
    "    def _sleeper(func):\n",
    "        def wrapper(*args, **kwargs):\n",
    "            print(f\"We are inside sleeper!\")\n",
    "            time.sleep(delay)\n",
    "            res = func(*args, **kwargs)\n",
    "            return res\n",
    "        return wrapper\n",
    "    return _sleeper\n",
    "\n",
    "\n",
    "@timer\n",
    "def boo(a, b):\n",
    "    return a + b\n",
    "\n",
    "@timer\n",
    "@sleeper(1.1)\n",
    "def moo():\n",
    "    print(\"I'm moo function.\")\n",
    "    time.sleep(0.5) # 500 ms"
   ]
  },
  {
   "cell_type": "code",
   "execution_count": 99,
   "id": "da939433",
   "metadata": {},
   "outputs": [
    {
     "name": "stdout",
     "output_type": "stream",
     "text": [
      "We are inside timer!\n",
      "args=(5, -10), kwargs={}\n",
      "boo: 0.0019073486328125 ms.\n",
      "-5\n",
      "We are inside timer!\n",
      "We are inside sleeper!\n",
      "I'm moo function.\n",
      "args=(), kwargs={}\n",
      "wrapper: 1608.2608699798584 ms.\n"
     ]
    }
   ],
   "source": [
    "res = boo(5, -10)\n",
    "print(res)\n",
    "moo()"
   ]
  },
  {
   "cell_type": "code",
   "execution_count": 111,
   "id": "f1b14617",
   "metadata": {},
   "outputs": [],
   "source": [
    "def fn1(*, a, b):\n",
    "    return a + b"
   ]
  },
  {
   "cell_type": "code",
   "execution_count": 116,
   "id": "06d47cf6",
   "metadata": {},
   "outputs": [
    {
     "data": {
      "text/plain": [
       "11"
      ]
     },
     "execution_count": 116,
     "metadata": {},
     "output_type": "execute_result"
    }
   ],
   "source": [
    "fn1(b=10, a=1)"
   ]
  },
  {
   "cell_type": "code",
   "execution_count": 108,
   "id": "752a6186",
   "metadata": {},
   "outputs": [],
   "source": [
    "len?"
   ]
  },
  {
   "cell_type": "code",
   "execution_count": 110,
   "id": "67578b87",
   "metadata": {},
   "outputs": [
    {
     "data": {
      "text/plain": [
       "3"
      ]
     },
     "execution_count": 110,
     "metadata": {},
     "output_type": "execute_result"
    }
   ],
   "source": [
    "len([1,2,3])"
   ]
  },
  {
   "cell_type": "code",
   "execution_count": 117,
   "id": "ce90f886",
   "metadata": {},
   "outputs": [
    {
     "name": "stdout",
     "output_type": "stream",
     "text": [
      "name='skynet', age=999, kw=12, args=(54,), kwargs={'aim': 'term'}\n"
     ]
    }
   ],
   "source": [
    "def make_function(name, *args, kw=12, **kwargs):\n",
    "   '''makes inner function'''\n",
    "   def inner(age=999):\n",
    "      print(f\"{name=}, {age=}, {kw=}, {args=}, {kwargs=}\")\n",
    "   return inner\n",
    "fn = make_function('skynet', 54, aim='term')\n",
    "fn()"
   ]
  },
  {
   "cell_type": "code",
   "execution_count": 118,
   "id": "527a6ea2",
   "metadata": {},
   "outputs": [],
   "source": [
    "def fake_decorator(func, name, *args, kw=12, **kwargs):\n",
    "    def inner(age=10):\n",
    "        print(f\"{func.__name__=}, {name=}, {args=}\")\n",
    "    return inner"
   ]
  },
  {
   "cell_type": "code",
   "execution_count": 123,
   "id": "85d8663b",
   "metadata": {},
   "outputs": [],
   "source": [
    "f1 = timer(moo)"
   ]
  },
  {
   "cell_type": "code",
   "execution_count": 125,
   "id": "0a97e7a2",
   "metadata": {},
   "outputs": [],
   "source": [
    "f2 = fake_decorator(moo, \"Walter\", white=True)"
   ]
  },
  {
   "cell_type": "markdown",
   "id": "f4d632ee",
   "metadata": {},
   "source": [
    "# Globals / locals"
   ]
  },
  {
   "cell_type": "code",
   "execution_count": 155,
   "id": "75e48620",
   "metadata": {},
   "outputs": [],
   "source": [
    "glob = 'global'\n",
    "\n",
    "def f1():\n",
    "    p1 = 1\n",
    "    lst = []\n",
    "    def f2():\n",
    "        p2 = 2\n",
    "        nonlocal p1\n",
    "        global glob\n",
    "        p1 = 100\n",
    "        glob = 'nonglobal'\n",
    "        globals()['jesse'] = 'Pinkman'\n",
    "        lst.append(10)\n",
    "        print(f\"{p2=}\", locals())\n",
    "    f2()\n",
    "    print(f\"{p1=}\", locals(), glob, globals()['jesse'])"
   ]
  },
  {
   "cell_type": "code",
   "execution_count": 156,
   "id": "3363de6c",
   "metadata": {},
   "outputs": [
    {
     "name": "stdout",
     "output_type": "stream",
     "text": [
      "p2=2 {'p2': 2, 'lst': [10], 'p1': 100}\n",
      "p1=100 {'f2': <function f1.<locals>.f2 at 0x110227700>, 'lst': [10], 'p1': 100} nonglobal Pinkman\n"
     ]
    }
   ],
   "source": [
    "f1()"
   ]
  },
  {
   "cell_type": "code",
   "execution_count": 174,
   "id": "6548831d",
   "metadata": {},
   "outputs": [],
   "source": [
    "lst = list(range(-10, 0))\n",
    "lst = [-5, 1, -2, -3, 5, 6]"
   ]
  },
  {
   "cell_type": "code",
   "execution_count": 181,
   "id": "5820f0ed",
   "metadata": {},
   "outputs": [],
   "source": [
    "import random\n",
    "random.shuffle(lst)\n",
    "sorted(lst)\n",
    "key_fn = lambda x: x ** 2\n",
    "lst.sort(key=key_fn, reverse=True)"
   ]
  },
  {
   "cell_type": "code",
   "execution_count": 182,
   "id": "12d2d1d2",
   "metadata": {},
   "outputs": [
    {
     "data": {
      "text/plain": [
       "[6, 5, -5, -3, -2, 1]"
      ]
     },
     "execution_count": 182,
     "metadata": {},
     "output_type": "execute_result"
    }
   ],
   "source": [
    "lst"
   ]
  },
  {
   "cell_type": "code",
   "execution_count": 184,
   "id": "4b0e720c",
   "metadata": {},
   "outputs": [
    {
     "data": {
      "text/plain": [
       "[(1, 'ab', True), (2, 'cd', False), (3, 'ef', None)]"
      ]
     },
     "execution_count": 184,
     "metadata": {},
     "output_type": "execute_result"
    }
   ],
   "source": [
    "a = [1,2,3]\n",
    "b = [\"ab\", \"cd\", \"ef\"]\n",
    "c = (True, False, None,)\n",
    "list(zip(a,b,c))"
   ]
  },
  {
   "cell_type": "code",
   "execution_count": 185,
   "id": "3464bcdc",
   "metadata": {},
   "outputs": [],
   "source": [
    " def map_fn(a, b, c):\n",
    "        return f\"{a=}|{b=}|{c=}\""
   ]
  },
  {
   "cell_type": "code",
   "execution_count": 191,
   "id": "6f99dc84",
   "metadata": {},
   "outputs": [
    {
     "data": {
      "text/plain": [
       "[\"a=1|b='a'|c=True\", \"a=2|b='b'|c=False\"]"
      ]
     },
     "execution_count": 191,
     "metadata": {},
     "output_type": "execute_result"
    }
   ],
   "source": [
    "list(map(lambda a,b,c: f\"{a=}|{b=}|{c=}\", [1,2,3,4], \"abcd\", (True, False)))"
   ]
  },
  {
   "cell_type": "code",
   "execution_count": 199,
   "id": "67456253",
   "metadata": {},
   "outputs": [
    {
     "name": "stdout",
     "output_type": "stream",
     "text": [
      "a1=1, a2=3\n",
      "a1=None, a2=5\n"
     ]
    }
   ],
   "source": [
    "from functools import reduce\n",
    "\n",
    "reduce(lambda a1, a2: print(f\"{a1=}, {a2=}\"), [1, 3, 5])"
   ]
  },
  {
   "cell_type": "code",
   "execution_count": 219,
   "id": "52619051",
   "metadata": {},
   "outputs": [],
   "source": [
    "source = \"x = 1\\nzara = x + 5\\nprint('4 + 5 =', 4+5+zara)\"\n",
    "y = compile(source, '<fake filename>', 'exec')"
   ]
  },
  {
   "cell_type": "code",
   "execution_count": 220,
   "id": "b8a735b1",
   "metadata": {},
   "outputs": [
    {
     "data": {
      "text/plain": [
       "<code object <module> at 0x110256190, file \"<fake filename>\", line 1>"
      ]
     },
     "execution_count": 220,
     "metadata": {},
     "output_type": "execute_result"
    }
   ],
   "source": [
    "y"
   ]
  },
  {
   "cell_type": "code",
   "execution_count": 221,
   "id": "d6cd5a61",
   "metadata": {},
   "outputs": [
    {
     "name": "stdout",
     "output_type": "stream",
     "text": [
      "4 + 5 = 15\n"
     ]
    },
    {
     "data": {
      "text/plain": [
       "6"
      ]
     },
     "execution_count": 221,
     "metadata": {},
     "output_type": "execute_result"
    }
   ],
   "source": [
    "exec(y)\n",
    "zara"
   ]
  },
  {
   "cell_type": "markdown",
   "id": "75048433",
   "metadata": {},
   "source": [
    "# Домашнее задание"
   ]
  },
  {
   "cell_type": "code",
   "execution_count": 222,
   "id": "e083324a",
   "metadata": {},
   "outputs": [],
   "source": [
    "import json\n",
    "json_source = '{\"key1\": \"123 34\", \"key2\": \"value\", \"key3\": null}'\n",
    "# def keyword_handler(keyword):\n",
    "#    print(keyword)\n",
    "# def some_function(json_source, required_fields=[], keywords=[], keyword_handler)"
   ]
  },
  {
   "cell_type": "code",
   "execution_count": 223,
   "id": "7f6352f7",
   "metadata": {},
   "outputs": [],
   "source": [
    "d = json.loads(json_source)"
   ]
  },
  {
   "cell_type": "code",
   "execution_count": 224,
   "id": "9e95c4dc",
   "metadata": {},
   "outputs": [
    {
     "data": {
      "text/plain": [
       "{'key1': 123, 'key2': 'value', 'key3': None}"
      ]
     },
     "execution_count": 224,
     "metadata": {},
     "output_type": "execute_result"
    }
   ],
   "source": [
    "d"
   ]
  },
  {
   "cell_type": "code",
   "execution_count": 225,
   "id": "1e7a3661",
   "metadata": {},
   "outputs": [],
   "source": [
    "required_fields = ['key1', 'key3']\n",
    "for "
   ]
  },
  {
   "cell_type": "code",
   "execution_count": null,
   "id": "361c65cc",
   "metadata": {},
   "outputs": [],
   "source": []
  }
 ],
 "metadata": {
  "celltoolbar": "Отсутствует",
  "kernelspec": {
   "display_name": "Python 3 (ipykernel)",
   "language": "python",
   "name": "python3"
  },
  "language_info": {
   "codemirror_mode": {
    "name": "ipython",
    "version": 3
   },
   "file_extension": ".py",
   "mimetype": "text/x-python",
   "name": "python",
   "nbconvert_exporter": "python",
   "pygments_lexer": "ipython3",
   "version": "3.9.13"
  }
 },
 "nbformat": 4,
 "nbformat_minor": 5
}
