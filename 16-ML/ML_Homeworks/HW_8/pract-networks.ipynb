{
 "cells": [
  {
   "cell_type": "markdown",
   "metadata": {
    "slideshow": {
     "slide_type": "slide"
    }
   },
   "source": [
    "<center><img src=\"images/header1.png\" width=400></center>\n",
    "<h1><center>Основы машинного обучения</center></h1>\n",
    "<hr>\n",
    "<h2><center>Анализ графов и социальных сетей</center></h2>\n",
    "<h3><center>Шестаков Андрей</center></h3>"
   ]
  },
  {
   "cell_type": "code",
   "execution_count": 1,
   "metadata": {
    "ExecuteTime": {
     "end_time": "2022-05-18T16:26:40.647893Z",
     "start_time": "2022-05-18T16:26:40.248601Z"
    },
    "slideshow": {
     "slide_type": "notes"
    }
   },
   "outputs": [],
   "source": [
    "%matplotlib inline"
   ]
  },
  {
   "cell_type": "code",
   "execution_count": 2,
   "metadata": {
    "ExecuteTime": {
     "end_time": "2022-05-18T16:26:41.084644Z",
     "start_time": "2022-05-18T16:26:40.650033Z"
    },
    "slideshow": {
     "slide_type": "notes"
    }
   },
   "outputs": [],
   "source": [
    "import pandas as pd\n",
    "import numpy as np\n",
    "import matplotlib.pyplot as plt\n",
    "\n",
    "plt.style.use('seaborn-talk')\n",
    "plt.rcParams['figure.figsize'] = (12,8)\n",
    "\n",
    "# Для кириллицы на графиках\n",
    "font = {'family': 'Verdana',\n",
    "        'weight': 'normal'}\n",
    "plt.rc('font', **font)\n",
    "\n",
    "try:\n",
    "    from ipywidgets import interact, IntSlider, fixed, FloatSlider\n",
    "except ImportError:\n",
    "    print(u'Так надо')"
   ]
  },
  {
   "cell_type": "code",
   "execution_count": 3,
   "metadata": {
    "ExecuteTime": {
     "end_time": "2022-05-18T16:26:59.860105Z",
     "start_time": "2022-05-18T16:26:59.695318Z"
    }
   },
   "outputs": [],
   "source": [
    "import networkx as nx"
   ]
  },
  {
   "cell_type": "code",
   "execution_count": null,
   "metadata": {
    "ExecuteTime": {
     "end_time": "2022-05-18T14:22:56.318967Z",
     "start_time": "2022-05-18T14:22:56.317162Z"
    }
   },
   "outputs": [],
   "source": [
    "# Uncomment if you are using colab\n",
    "# !mkdir ./data\n",
    "# !mkdir ./data/1504653\n",
    "\n",
    "# !wget https://raw.githubusercontent.com/vadim0912/MLIntro2022_Spring/blob/master/lecture11/data/chapters.csv -O ./data/chapters.csv\n",
    "# !wget https://raw.githubusercontent.com/vadim0912/MLIntro2022_Spring/blob/master/lecture11/data/characters.csv -O ./data/characters.csv\n",
    "# !wget https://raw.githubusercontent.com/vadim0912/MLIntro2022_Spring/blob/master/lecture11/data/events.csv -O ./data/events.csv\n",
    "# !wget https://raw.githubusercontent.com/vadim0912/MLIntro2022_Spring/blob/master/lecture11/data/teams.csv -O ./data/teams.csv\n",
    "# !wget https://raw.githubusercontent.com/vadim0912/MLIntro2022_Spring/blob/master/lecture11/data/nested_partition.gml -O ./data/nested_partition.gml\n",
    "# !wget https://raw.githubusercontent.com/vadim0912/MLIntro2022_Spring/blob/master/lecture11/data/Princeton.gml -O ./data/Princeton.gml\n",
    "# !wget https://raw.githubusercontent.com/vadim0912/MLIntro2022_Spring/blob/master/lecture11/data/network.gml -O ./data/network.gml\n",
    "# !wget https://raw.githubusercontent.com/vadim0912/MLIntro2022_Spring/blob/master/lecture11/data/1504653/friends_1504653.json -O ./data/1504653/friends_1504653.json\n",
    "# !wget https://raw.githubusercontent.com/vadim0912/MLIntro2022_Spring/blob/master/lecture11/data/1504653/common_friends_1504653.json -O ./data/1504653/common_friends_1504653.json"
   ]
  },
  {
   "cell_type": "markdown",
   "metadata": {},
   "source": [
    "# Создадим граф в [networkX](https://networkx.github.io/documentation/stable/)"
   ]
  },
  {
   "cell_type": "code",
   "execution_count": null,
   "metadata": {
    "ExecuteTime": {
     "end_time": "2022-05-18T14:22:56.321243Z",
     "start_time": "2022-05-18T14:22:56.319667Z"
    }
   },
   "outputs": [],
   "source": [
    "g = nx.Graph()"
   ]
  },
  {
   "cell_type": "code",
   "execution_count": null,
   "metadata": {
    "ExecuteTime": {
     "end_time": "2022-05-18T14:22:56.324931Z",
     "start_time": "2022-05-18T14:22:56.322140Z"
    }
   },
   "outputs": [],
   "source": [
    "g"
   ]
  },
  {
   "cell_type": "code",
   "execution_count": null,
   "metadata": {
    "ExecuteTime": {
     "end_time": "2022-05-18T14:22:56.327172Z",
     "start_time": "2022-05-18T14:22:56.325729Z"
    }
   },
   "outputs": [],
   "source": [
    "# Как корабль назовешь..\n",
    "g.graph['some title'] = 'first graph'"
   ]
  },
  {
   "cell_type": "code",
   "execution_count": null,
   "metadata": {
    "ExecuteTime": {
     "end_time": "2022-05-18T14:22:56.329955Z",
     "start_time": "2022-05-18T14:22:56.327920Z"
    }
   },
   "outputs": [],
   "source": [
    "g.graph"
   ]
  },
  {
   "cell_type": "markdown",
   "metadata": {},
   "source": [
    "## Добавим вершины"
   ]
  },
  {
   "cell_type": "code",
   "execution_count": null,
   "metadata": {
    "ExecuteTime": {
     "end_time": "2022-05-18T14:22:56.332432Z",
     "start_time": "2022-05-18T14:22:56.330730Z"
    }
   },
   "outputs": [],
   "source": [
    "g.add_node(1)"
   ]
  },
  {
   "cell_type": "code",
   "execution_count": null,
   "metadata": {
    "ExecuteTime": {
     "end_time": "2022-05-18T14:22:56.337008Z",
     "start_time": "2022-05-18T14:22:56.334928Z"
    }
   },
   "outputs": [],
   "source": [
    "g.number_of_nodes()"
   ]
  },
  {
   "cell_type": "code",
   "execution_count": null,
   "metadata": {
    "ExecuteTime": {
     "end_time": "2022-05-18T14:22:56.339829Z",
     "start_time": "2022-05-18T14:22:56.337820Z"
    }
   },
   "outputs": [],
   "source": [
    "g.add_node('some_node') # можно создавать вершины с произвольным идентификатором"
   ]
  },
  {
   "cell_type": "markdown",
   "metadata": {},
   "source": [
    "## Добавим ребра"
   ]
  },
  {
   "cell_type": "code",
   "execution_count": null,
   "metadata": {
    "ExecuteTime": {
     "end_time": "2022-05-18T14:22:56.342513Z",
     "start_time": "2022-05-18T14:22:56.340829Z"
    }
   },
   "outputs": [],
   "source": [
    "g.add_edge(0, 1) # если вершины с идентификатором х еще не было, то она автоматически сгенерируется"
   ]
  },
  {
   "cell_type": "code",
   "execution_count": null,
   "metadata": {
    "ExecuteTime": {
     "end_time": "2022-05-18T14:22:56.345884Z",
     "start_time": "2022-05-18T14:22:56.343442Z"
    }
   },
   "outputs": [],
   "source": [
    "g.edges()"
   ]
  },
  {
   "cell_type": "code",
   "execution_count": null,
   "metadata": {
    "ExecuteTime": {
     "end_time": "2022-05-18T14:22:56.349104Z",
     "start_time": "2022-05-18T14:22:56.346779Z"
    }
   },
   "outputs": [],
   "source": [
    "g.nodes()"
   ]
  },
  {
   "cell_type": "code",
   "execution_count": null,
   "metadata": {
    "ExecuteTime": {
     "end_time": "2022-05-18T14:22:56.351885Z",
     "start_time": "2022-05-18T14:22:56.349875Z"
    }
   },
   "outputs": [],
   "source": [
    "g.add_edges_from([(0,2), \n",
    "                  (1,3), \n",
    "                  (4,3), \n",
    "                  (1,2), \n",
    "                  (2,2), \n",
    "                  (3,2)])"
   ]
  },
  {
   "cell_type": "code",
   "execution_count": null,
   "metadata": {
    "ExecuteTime": {
     "end_time": "2022-05-18T14:22:56.355317Z",
     "start_time": "2022-05-18T14:22:56.352760Z"
    }
   },
   "outputs": [],
   "source": [
    "g.edges()"
   ]
  },
  {
   "cell_type": "markdown",
   "metadata": {},
   "source": [
    "## Различные операции с вершинами и ребрами"
   ]
  },
  {
   "cell_type": "code",
   "execution_count": null,
   "metadata": {
    "ExecuteTime": {
     "end_time": "2022-05-18T14:22:56.359066Z",
     "start_time": "2022-05-18T14:22:56.356382Z"
    }
   },
   "outputs": [],
   "source": [
    "g.degree() # Степени вершин (количество связей для каждой вершины)"
   ]
  },
  {
   "cell_type": "code",
   "execution_count": null,
   "metadata": {
    "ExecuteTime": {
     "end_time": "2022-05-18T14:22:56.362256Z",
     "start_time": "2022-05-18T14:22:56.359939Z"
    }
   },
   "outputs": [],
   "source": [
    "g.degree['some_node']"
   ]
  },
  {
   "cell_type": "markdown",
   "metadata": {},
   "source": [
    "Вершинам можно задавать различные атрибуты (читай \"признаки\")"
   ]
  },
  {
   "cell_type": "code",
   "execution_count": null,
   "metadata": {
    "ExecuteTime": {
     "end_time": "2022-05-18T14:22:56.364986Z",
     "start_time": "2022-05-18T14:22:56.363237Z"
    }
   },
   "outputs": [],
   "source": [
    "for n_id in g.nodes():\n",
    "    g.nodes[n_id]['label'] = 'v_{}'.format(n_id)"
   ]
  },
  {
   "cell_type": "code",
   "execution_count": null,
   "metadata": {
    "ExecuteTime": {
     "end_time": "2022-05-18T14:22:56.368223Z",
     "start_time": "2022-05-18T14:22:56.365816Z"
    }
   },
   "outputs": [],
   "source": [
    "nx.get_node_attributes(g, 'label')"
   ]
  },
  {
   "cell_type": "code",
   "execution_count": null,
   "metadata": {
    "ExecuteTime": {
     "end_time": "2022-05-18T14:22:56.371559Z",
     "start_time": "2022-05-18T14:22:56.369084Z"
    }
   },
   "outputs": [],
   "source": [
    "g.nodes[1]"
   ]
  },
  {
   "cell_type": "code",
   "execution_count": null,
   "metadata": {
    "ExecuteTime": {
     "end_time": "2022-05-18T14:22:56.374848Z",
     "start_time": "2022-05-18T14:22:56.372354Z"
    }
   },
   "outputs": [],
   "source": [
    "g.nodes.data()"
   ]
  },
  {
   "cell_type": "markdown",
   "metadata": {},
   "source": [
    "Иногда это удобнее делать так:"
   ]
  },
  {
   "cell_type": "code",
   "execution_count": null,
   "metadata": {
    "ExecuteTime": {
     "end_time": "2022-05-18T14:22:56.377667Z",
     "start_time": "2022-05-18T14:22:56.375751Z"
    }
   },
   "outputs": [],
   "source": [
    "some_attributes = {0: 'val1', 1: 'val2'}\n",
    "nx.set_node_attributes(g, some_attributes, 'attr')"
   ]
  },
  {
   "cell_type": "code",
   "execution_count": null,
   "metadata": {
    "ExecuteTime": {
     "end_time": "2022-05-18T14:22:56.381553Z",
     "start_time": "2022-05-18T14:22:56.378487Z"
    }
   },
   "outputs": [],
   "source": [
    "g.nodes.data()"
   ]
  },
  {
   "cell_type": "markdown",
   "metadata": {},
   "source": [
    "Тоже самое для ребер"
   ]
  },
  {
   "cell_type": "code",
   "execution_count": null,
   "metadata": {
    "ExecuteTime": {
     "end_time": "2022-05-18T14:22:56.384104Z",
     "start_time": "2022-05-18T14:22:56.382312Z"
    }
   },
   "outputs": [],
   "source": [
    "g.edges[1,0]['type'] = 'friendship'"
   ]
  },
  {
   "cell_type": "code",
   "execution_count": null,
   "metadata": {
    "ExecuteTime": {
     "end_time": "2022-05-18T14:22:56.387322Z",
     "start_time": "2022-05-18T14:22:56.385024Z"
    }
   },
   "outputs": [],
   "source": [
    "g.edges[1,0]"
   ]
  },
  {
   "cell_type": "code",
   "execution_count": null,
   "metadata": {
    "ExecuteTime": {
     "end_time": "2022-05-18T14:22:56.390666Z",
     "start_time": "2022-05-18T14:22:56.388296Z"
    }
   },
   "outputs": [],
   "source": [
    "# проверка различных свойств графа\n",
    "g.is_directed() "
   ]
  },
  {
   "cell_type": "code",
   "execution_count": null,
   "metadata": {
    "ExecuteTime": {
     "end_time": "2022-05-18T14:22:56.397761Z",
     "start_time": "2022-05-18T14:22:56.395522Z"
    }
   },
   "outputs": [],
   "source": [
    "nx.is_connected(g)"
   ]
  },
  {
   "cell_type": "markdown",
   "metadata": {},
   "source": [
    "## Объединение графов"
   ]
  },
  {
   "cell_type": "code",
   "execution_count": null,
   "metadata": {
    "ExecuteTime": {
     "end_time": "2022-05-18T14:22:56.400435Z",
     "start_time": "2022-05-18T14:22:56.398478Z"
    }
   },
   "outputs": [],
   "source": [
    "g1 = g.copy()\n",
    "g2 = nx.erdos_renyi_graph(10, 0.3)"
   ]
  },
  {
   "cell_type": "code",
   "execution_count": null,
   "metadata": {
    "ExecuteTime": {
     "end_time": "2022-05-18T14:22:56.403170Z",
     "start_time": "2022-05-18T14:22:56.401318Z"
    }
   },
   "outputs": [],
   "source": [
    "# g3 = nx.disjoint_union(g1, g2)\n",
    "g3 = nx.union(g1, g2, rename=('g1_', 'g2_'))"
   ]
  },
  {
   "cell_type": "code",
   "execution_count": null,
   "metadata": {
    "ExecuteTime": {
     "end_time": "2022-05-18T14:22:56.406606Z",
     "start_time": "2022-05-18T14:22:56.404008Z"
    }
   },
   "outputs": [],
   "source": [
    "print(g1.number_of_nodes())\n",
    "print(g2.number_of_nodes())\n",
    "print(g3.number_of_nodes())"
   ]
  },
  {
   "cell_type": "code",
   "execution_count": null,
   "metadata": {
    "ExecuteTime": {
     "end_time": "2022-05-18T14:22:56.409918Z",
     "start_time": "2022-05-18T14:22:56.407522Z"
    }
   },
   "outputs": [],
   "source": [
    "g1.nodes()"
   ]
  },
  {
   "cell_type": "code",
   "execution_count": null,
   "metadata": {
    "ExecuteTime": {
     "end_time": "2022-05-18T14:22:56.414500Z",
     "start_time": "2022-05-18T14:22:56.412115Z"
    }
   },
   "outputs": [],
   "source": [
    "g3.nodes()"
   ]
  },
  {
   "cell_type": "markdown",
   "metadata": {},
   "source": [
    "Создадите граф с рисунка"
   ]
  },
  {
   "cell_type": "markdown",
   "metadata": {},
   "source": [
    "<img src='./images/clique_init.png' width=\"550\"/>"
   ]
  },
  {
   "cell_type": "code",
   "execution_count": null,
   "metadata": {
    "ExecuteTime": {
     "end_time": "2022-05-18T14:22:56.416782Z",
     "start_time": "2022-05-18T14:22:56.415448Z"
    }
   },
   "outputs": [],
   "source": [
    "# Your Code Here"
   ]
  },
  {
   "cell_type": "code",
   "execution_count": null,
   "metadata": {
    "ExecuteTime": {
     "end_time": "2022-05-18T14:22:56.488342Z",
     "start_time": "2022-05-18T14:22:56.417735Z"
    }
   },
   "outputs": [],
   "source": [
    "nx.draw_spring(g)"
   ]
  },
  {
   "cell_type": "markdown",
   "metadata": {},
   "source": [
    "Выведем матрицу смежности, список смежности и список ребер этого графа"
   ]
  },
  {
   "cell_type": "code",
   "execution_count": null,
   "metadata": {
    "ExecuteTime": {
     "end_time": "2022-05-18T14:22:56.804699Z",
     "start_time": "2022-05-18T14:22:56.489145Z"
    }
   },
   "outputs": [],
   "source": [
    "A = nx.adj_matrix(g)\n",
    "A"
   ]
  },
  {
   "cell_type": "code",
   "execution_count": null,
   "metadata": {
    "ExecuteTime": {
     "end_time": "2022-05-18T14:22:56.810683Z",
     "start_time": "2022-05-18T14:22:56.807465Z"
    }
   },
   "outputs": [],
   "source": [
    "A.todense()"
   ]
  },
  {
   "cell_type": "code",
   "execution_count": null,
   "metadata": {
    "ExecuteTime": {
     "end_time": "2022-05-18T14:22:56.814951Z",
     "start_time": "2022-05-18T14:22:56.811622Z"
    }
   },
   "outputs": [],
   "source": [
    "nx.adjacency_data(g)"
   ]
  },
  {
   "cell_type": "markdown",
   "metadata": {},
   "source": [
    "Сохраним что-нибудь из этого:"
   ]
  },
  {
   "cell_type": "code",
   "execution_count": null,
   "metadata": {
    "ExecuteTime": {
     "end_time": "2022-05-18T14:22:56.911828Z",
     "start_time": "2022-05-18T14:22:56.816001Z"
    }
   },
   "outputs": [],
   "source": [
    "nx.write_edgelist(g, 'graph.edglist')\n",
    "nx.write_graphml(g, 'graph.gml')"
   ]
  },
  {
   "cell_type": "code",
   "execution_count": null,
   "metadata": {
    "ExecuteTime": {
     "end_time": "2022-05-18T14:22:57.061212Z",
     "start_time": "2022-05-18T14:22:56.912738Z"
    }
   },
   "outputs": [],
   "source": [
    "!head graph.gml # на Windows не сработает"
   ]
  },
  {
   "cell_type": "code",
   "execution_count": null,
   "metadata": {
    "ExecuteTime": {
     "end_time": "2022-05-18T14:22:57.190325Z",
     "start_time": "2022-05-18T14:22:57.062469Z"
    }
   },
   "outputs": [],
   "source": [
    "!head graph.edglist # на Windows не сработает"
   ]
  },
  {
   "cell_type": "markdown",
   "metadata": {},
   "source": [
    "# (ваши) Соц-графы\n",
    "\n",
    "* [Туториал](https://nbviewer.jupyter.org/github/allatambov/Py-programming-3/blob/master/15-06/lect-vk-api.ipynb) по выгрузке данных с помощью VKAPI"
   ]
  },
  {
   "cell_type": "code",
   "execution_count": 7,
   "metadata": {
    "ExecuteTime": {
     "end_time": "2022-05-18T16:28:44.288356Z",
     "start_time": "2022-05-18T16:28:44.284437Z"
    }
   },
   "outputs": [],
   "source": [
    "import json\n",
    "import os\n",
    "\n",
    "VKID = '317674518'\n",
    "\n",
    "DATA_FOLDER = os.path.join('.', 'data')\n",
    "VK_DATA_FOLDER = os.path.join(DATA_FOLDER, VKID)"
   ]
  },
  {
   "cell_type": "code",
   "execution_count": 8,
   "metadata": {
    "ExecuteTime": {
     "end_time": "2022-05-18T16:28:44.604624Z",
     "start_time": "2022-05-18T16:28:44.600406Z"
    }
   },
   "outputs": [
    {
     "data": {
      "text/plain": [
       "'./data/317674518'"
      ]
     },
     "execution_count": 8,
     "metadata": {},
     "output_type": "execute_result"
    }
   ],
   "source": [
    "VK_DATA_FOLDER"
   ]
  },
  {
   "cell_type": "code",
   "execution_count": 9,
   "metadata": {
    "ExecuteTime": {
     "end_time": "2022-05-18T16:28:45.038398Z",
     "start_time": "2022-05-18T16:28:45.031620Z"
    }
   },
   "outputs": [],
   "source": [
    "\n",
    "filepath = os.path.join(VK_DATA_FOLDER, 'friends_{}.json'.format(VKID))\n",
    "\n",
    "with open(filepath, 'r') as fin:\n",
    "    friends_temp = json.load(fin)[0]"
   ]
  },
  {
   "cell_type": "code",
   "execution_count": 10,
   "metadata": {
    "ExecuteTime": {
     "end_time": "2022-05-18T16:28:47.238785Z",
     "start_time": "2022-05-18T16:28:47.167982Z"
    }
   },
   "outputs": [
    {
     "data": {
      "text/plain": [
       "{'397219': {'id': 397219,\n",
       "  'first_name': 'Alexey',\n",
       "  'last_name': 'Shakurov',\n",
       "  'can_access_closed': True,\n",
       "  'is_closed': False,\n",
       "  'sex': 2,\n",
       "  'bdate': '12.4.1987',\n",
       "  'city': {'id': 1, 'title': 'Moscow'},\n",
       "  'track_code': 'eb5ec3d4JIve71K0fiyAfzqqpd56aYCcAyZOeu5oUTsLEeiVnCJJ4IPXZb8lLtAtAxZja7QG94hxTw'},\n",
       " '2101914': {'id': 2101914,\n",
       "  'first_name': 'Nikolay',\n",
       "  'last_name': 'Martynov',\n",
       "  'can_access_closed': True,\n",
       "  'is_closed': False,\n",
       "  'sex': 2,\n",
       "  'bdate': '7.3',\n",
       "  'city': {'id': 1, 'title': 'Moscow'},\n",
       "  'track_code': '8d747e80UXLrqvin1FbXQqUw5X2SoyaNQE_wstq3NAY9rP4jBw88GbOfm6DXX4Qalb5IxE_VX45AJpU'},\n",
       " '4732102': {'id': 4732102,\n",
       "  'first_name': 'Artyom',\n",
       "  'last_name': 'Borisenko',\n",
       "  'can_access_closed': True,\n",
       "  'is_closed': False,\n",
       "  'sex': 2,\n",
       "  'bdate': '2.8.1991',\n",
       "  'city': {'id': 20680, 'title': 'Zvezdny Gorodok'},\n",
       "  'track_code': '4369ef18EEx_kbWCP1auB7KQK7gmXVvnoaptlHCbpKz4ENmSHEN9JyOn09A8V_0OgBiGAfsrIuShwwg'},\n",
       " '10106209': {'id': 10106209,\n",
       "  'first_name': 'Alexander',\n",
       "  'last_name': 'Khinkis',\n",
       "  'can_access_closed': True,\n",
       "  'is_closed': False,\n",
       "  'sex': 2,\n",
       "  'bdate': '31.5.1995',\n",
       "  'city': {'id': 1, 'title': 'Moscow'},\n",
       "  'university': 250,\n",
       "  'university_name': 'МГТУ им. Н. Э. Баумана',\n",
       "  'faculty': 1043,\n",
       "  'faculty_name': 'Факультет энергомашиностроения',\n",
       "  'graduation': 2019,\n",
       "  'education_form': 'Full-time',\n",
       "  'education_status': 'Student (Specialist)',\n",
       "  'relation': 0,\n",
       "  'track_code': '515b36a9Uda1L-4pmL8Rw6PsrpdtaPXLKj3Il3MM3q9lWvq2cQM8velKgHqf6BaQkmY8RbwNlcY9Jq35'},\n",
       " '11203942': {'id': 11203942,\n",
       "  'first_name': 'Roman',\n",
       "  'last_name': 'Fedosov',\n",
       "  'can_access_closed': True,\n",
       "  'is_closed': False,\n",
       "  'sex': 2,\n",
       "  'bdate': '31.5.1998',\n",
       "  'city': {'id': 1, 'title': 'Moscow'},\n",
       "  'track_code': '2a7ae215OJAa4RcV_PM6vWyuYCSDIMK227iDZ_NkGGz2VHxRn29V-0jSfRD79D_qUSD59lJForvMo-YJ'},\n",
       " '12980077': {'id': 12980077,\n",
       "  'first_name': 'Polina',\n",
       "  'last_name': 'Maltseva',\n",
       "  'can_access_closed': True,\n",
       "  'is_closed': False,\n",
       "  'sex': 1,\n",
       "  'bdate': '24.4.1998',\n",
       "  'city': {'id': 1, 'title': 'Moscow'},\n",
       "  'university': 250,\n",
       "  'university_name': 'МГТУ им. Н. Э. Баумана',\n",
       "  'faculty': 1034,\n",
       "  'faculty_name': 'Факультет машиностроительных технологий',\n",
       "  'graduation': 0,\n",
       "  'relation': 0,\n",
       "  'track_code': '839b80fdibhBP9LOcdRwjRSMnQyBRzBCbu8FkiYrzJ-VuPMk6BPk00wJ6p162y7cIgEB3lAiUE959GD8'},\n",
       " '13568184': {'id': 13568184,\n",
       "  'first_name': 'Alexander',\n",
       "  'last_name': 'Scherbinkin',\n",
       "  'can_access_closed': True,\n",
       "  'is_closed': False,\n",
       "  'sex': 2,\n",
       "  'bdate': '2.6',\n",
       "  'city': {'id': 1, 'title': 'Moscow'},\n",
       "  'track_code': '23a844dd2QN41UeZ7JxrhWDLTpTJvmjjSALyk73Vq9Xr5GRnBHm0aCXjLcm5yGyNVknRRhjbCO5fGZf9'},\n",
       " '17868720': {'id': 17868720,\n",
       "  'first_name': 'Alexander',\n",
       "  'last_name': 'Ustsov',\n",
       "  'can_access_closed': True,\n",
       "  'is_closed': False,\n",
       "  'sex': 2,\n",
       "  'bdate': '18.9',\n",
       "  'city': {'id': 66, 'title': 'Kirov'},\n",
       "  'track_code': '6c23caa0uZGCA8FQVU3QuQB52_plFrkJpE8JVfUtXeL4RmtmNIfU-tFnrVZWTN-wPfFAKLRz2QSzVGw7'},\n",
       " '21164327': {'id': 21164327,\n",
       "  'first_name': 'Dima',\n",
       "  'last_name': 'Khatyushin',\n",
       "  'can_access_closed': True,\n",
       "  'is_closed': False,\n",
       "  'sex': 2,\n",
       "  'bdate': '25.9',\n",
       "  'city': {'id': 1, 'title': 'Moscow'},\n",
       "  'track_code': '7693d3bbAmF4ITeqmGaTYcwep9jcvXlYNOhV1YJe4sWROMvhcjZvCnIYCK2QNcNg9JY7Cg3YGVUj8zC7'},\n",
       " '22720249': {'id': 22720249,\n",
       "  'first_name': 'Viktoria',\n",
       "  'last_name': 'Kononova',\n",
       "  'can_access_closed': True,\n",
       "  'is_closed': False,\n",
       "  'sex': 1,\n",
       "  'city': {'id': 1, 'title': 'Moscow'},\n",
       "  'university': 250,\n",
       "  'university_name': 'МГТУ им. Н. Э. Баумана',\n",
       "  'faculty': 1043,\n",
       "  'faculty_name': 'Факультет энергомашиностроения',\n",
       "  'graduation': 0,\n",
       "  'relation': 0,\n",
       "  'track_code': 'ba8eb1b2c-LCbri790qIaEMURRh_p7ZYRn03jvvodyaws_VKrtMeiZhf0r6nH4xpfZrXyq7C1lVRZlLg'},\n",
       " '25085082': {'id': 25085082,\n",
       "  'first_name': 'Anya',\n",
       "  'last_name': 'Nazarova',\n",
       "  'can_access_closed': True,\n",
       "  'is_closed': False,\n",
       "  'sex': 1,\n",
       "  'city': {'id': 1, 'title': 'Moscow'},\n",
       "  'university': 250,\n",
       "  'university_name': 'МГТУ им. Н. Э. Баумана',\n",
       "  'faculty': 0,\n",
       "  'faculty_name': '',\n",
       "  'graduation': 2018,\n",
       "  'relation': 0,\n",
       "  'track_code': '12df842atIfd0jhuqca9P7b6zCoEm1jZX3ikwTw3iVqadYIaKgnZ7ICzCDiowbJui3hV-NX-ONRIY8Gv'},\n",
       " '25605760': {'id': 25605760,\n",
       "  'first_name': 'Valentin',\n",
       "  'last_name': 'Vyguzov',\n",
       "  'can_access_closed': True,\n",
       "  'is_closed': False,\n",
       "  'sex': 2,\n",
       "  'bdate': '20.1.1999',\n",
       "  'city': {'id': 1, 'title': 'Moscow'},\n",
       "  'university': 0,\n",
       "  'university_name': '',\n",
       "  'faculty': 0,\n",
       "  'faculty_name': '',\n",
       "  'graduation': 0,\n",
       "  'relation': 0,\n",
       "  'track_code': 'd9c1c9fepCo_ividok7E8JycofqbR-tmwScaDgLQMcEj4BUUw6vJQWDpyZugSJGjpRA6KEoii2vWPH9g'},\n",
       " '26372920': {'id': 26372920,\n",
       "  'first_name': 'Artyom',\n",
       "  'last_name': 'Karyanov',\n",
       "  'can_access_closed': True,\n",
       "  'is_closed': False,\n",
       "  'sex': 2,\n",
       "  'bdate': '27.9',\n",
       "  'city': {'id': 1, 'title': 'Moscow'},\n",
       "  'track_code': '6fec598c4XpolfGS2eltlGiYoZ2P4OSV8nICJOJI9LXS0cO9AfmMETX3ncSMu2uQQRA6T16FhJjlaWdK'},\n",
       " '29008600': {'id': 29008600,\n",
       "  'first_name': 'Inna',\n",
       "  'last_name': 'Kozurenko',\n",
       "  'can_access_closed': True,\n",
       "  'is_closed': False,\n",
       "  'sex': 1,\n",
       "  'city': {'id': 1, 'title': 'Moscow'},\n",
       "  'track_code': '9af97f5cHXciKVD59QVaIH4qdc3XZ6rFrTmo_NQZ9zsUslH6ZOZwHC0aPfL4BF0gWaDuHwYCysi6Is2S'},\n",
       " '29565765': {'id': 29565765,\n",
       "  'first_name': 'Alexander',\n",
       "  'last_name': 'Chaplygin',\n",
       "  'can_access_closed': True,\n",
       "  'is_closed': False,\n",
       "  'sex': 2,\n",
       "  'bdate': '5.9',\n",
       "  'city': {'id': 1, 'title': 'Moscow'},\n",
       "  'track_code': '65af5774S3-NGgbGH_ppDY1iLkGRBrK6GIpwpWI2DaqDHOd8MsAmFNQtP8cS92xZqO6wk0Bj0rcPkRXL'},\n",
       " '36313709': {'id': 36313709,\n",
       "  'first_name': 'Darya',\n",
       "  'last_name': 'Sutormina',\n",
       "  'can_access_closed': True,\n",
       "  'is_closed': False,\n",
       "  'sex': 1,\n",
       "  'bdate': '2.12.1997',\n",
       "  'city': {'id': 1, 'title': 'Moscow'},\n",
       "  'track_code': 'dae6f41eyfBBn8ZhxsJ20KhyrauO4Pia0vU50SDD7OWGfxfeO0Kkmx38qGLDwHTWiPg_eV-FmJfF7ly_'},\n",
       " '37065111': {'id': 37065111,\n",
       "  'first_name': 'Sofia',\n",
       "  'last_name': 'Kislitsyna',\n",
       "  'can_access_closed': True,\n",
       "  'is_closed': False,\n",
       "  'sex': 1,\n",
       "  'bdate': '7.7.1998',\n",
       "  'city': {'id': 1, 'title': 'Moscow'},\n",
       "  'track_code': 'f5a2e8a4UjvQ9O1TSYP3Sluody_cchg0LTCA9Zayglbm1Ukr4BQ_UN_Dh1ZIhfJGciPt_Q0XeDk6K-Wb'},\n",
       " '37108120': {'id': 37108120,\n",
       "  'first_name': 'Alexander',\n",
       "  'last_name': 'Kuznetsov',\n",
       "  'can_access_closed': True,\n",
       "  'is_closed': False,\n",
       "  'sex': 2,\n",
       "  'bdate': '2.6',\n",
       "  'city': {'id': 1, 'title': 'Moscow'},\n",
       "  'university': 250,\n",
       "  'university_name': 'МГТУ им. Н. Э. Баумана',\n",
       "  'faculty': 0,\n",
       "  'faculty_name': '',\n",
       "  'graduation': 0,\n",
       "  'relation': 2,\n",
       "  'relation_partner': {'id': 304693228,\n",
       "   'first_name': 'Vladislav',\n",
       "   'last_name': 'Karasev'},\n",
       "  'track_code': 'f60ad652pBuk433XI3azGxQNk9Bt77NI9c7IF3JWnry-KSLUbdTJcKuAENEjf7AXPIUIAryK00Xi1a15'},\n",
       " '38411341': {'id': 38411341,\n",
       "  'first_name': 'Polina',\n",
       "  'last_name': 'Vasilyeva',\n",
       "  'can_access_closed': True,\n",
       "  'is_closed': False,\n",
       "  'sex': 1,\n",
       "  'bdate': '15.8',\n",
       "  'university': 250,\n",
       "  'university_name': 'МГТУ им. Н. Э. Баумана',\n",
       "  'faculty': 1043,\n",
       "  'faculty_name': 'Факультет энергомашиностроения',\n",
       "  'graduation': 2020,\n",
       "  'relation': 0,\n",
       "  'track_code': 'a4cd8793oyIngxWNEoC_rudG0Vya9xP1Ro9KbY3dvlTH0u3m1Z3OSXS2LtxJjOv-zshLjkuSc_hRlC8D'},\n",
       " '39377152': {'id': 39377152,\n",
       "  'first_name': 'Sergey',\n",
       "  'last_name': 'Sokol',\n",
       "  'can_access_closed': True,\n",
       "  'is_closed': False,\n",
       "  'sex': 2,\n",
       "  'bdate': '18.7.1998',\n",
       "  'city': {'id': 1, 'title': 'Moscow'},\n",
       "  'track_code': '7bcbd1fesalz0wDpjpyCuwZ1wBEiJrFULTz_BV-wHw6F7W8QEArcwn3jbr-EltfvLPpZw_ND0Vk6J5pr'},\n",
       " '41869880': {'id': 41869880,\n",
       "  'first_name': 'Natalya',\n",
       "  'last_name': 'Kislyakova',\n",
       "  'can_access_closed': True,\n",
       "  'is_closed': False,\n",
       "  'sex': 1,\n",
       "  'bdate': '18.1.1998',\n",
       "  'city': {'id': 1, 'title': 'Moscow'},\n",
       "  'university': 128,\n",
       "  'university_name': 'НИУ ВШЭ (ГУ-ВШЭ)',\n",
       "  'faculty': 0,\n",
       "  'faculty_name': '',\n",
       "  'graduation': 2020,\n",
       "  'relation': 0,\n",
       "  'track_code': 'f410ff14Z9auv40exJdV3xoY2KayCUcF3IPAVWWkJ2Sozl74g5MKvaGOvRnAylqAPJpDdGNsJwjLmKU7'},\n",
       " '42089630': {'id': 42089630,\n",
       "  'first_name': 'Dmitry',\n",
       "  'last_name': 'Pronin',\n",
       "  'can_access_closed': True,\n",
       "  'is_closed': False,\n",
       "  'sex': 2,\n",
       "  'bdate': '4.11.1995',\n",
       "  'city': {'id': 1, 'title': 'Moscow'},\n",
       "  'university': 250,\n",
       "  'university_name': 'МГТУ им. Н. Э. Баумана',\n",
       "  'faculty': 1043,\n",
       "  'faculty_name': 'Факультет энергомашиностроения',\n",
       "  'graduation': 2020,\n",
       "  'education_form': 'Full-time',\n",
       "  'education_status': \"Alumnus (Master's)\",\n",
       "  'relation': 1,\n",
       "  'track_code': '19224f2e_L8aXL1pFInj9ymRAEHcxT4aa0jFTnQbL98uJecH4yaR1EZohzxA27n-ABibkw2gXhd8U6Ag'},\n",
       " '43896274': {'id': 43896274,\n",
       "  'first_name': 'Anna',\n",
       "  'last_name': 'Skobyolkina',\n",
       "  'can_access_closed': True,\n",
       "  'is_closed': False,\n",
       "  'sex': 1,\n",
       "  'bdate': '24.11',\n",
       "  'city': {'id': 66, 'title': 'Kirov'},\n",
       "  'university': 0,\n",
       "  'university_name': '',\n",
       "  'faculty': 0,\n",
       "  'faculty_name': '',\n",
       "  'graduation': 0,\n",
       "  'relation': 4,\n",
       "  'track_code': '1cd4f751F-z3reBIsM55Cds2RtV0RCbe-WbjEzb2agPIORtZ7dp6h6iY20jmwiRcybvZB6UhRtPufYZ9'},\n",
       " '44306981': {'id': 44306981,\n",
       "  'first_name': 'Darya',\n",
       "  'last_name': 'Zykova',\n",
       "  'can_access_closed': True,\n",
       "  'is_closed': False,\n",
       "  'sex': 1,\n",
       "  'track_code': '3bd55091y2IpI2ISQehHcsjZrJBIF_icOPtTWMmLBZyYz301tkGmCSMWXh4U4hVx0Fs2QplymJEv4DY2'},\n",
       " '44683700': {'id': 44683700,\n",
       "  'first_name': 'Anastasia',\n",
       "  'last_name': 'Zhigalova',\n",
       "  'can_access_closed': True,\n",
       "  'is_closed': False,\n",
       "  'sex': 1,\n",
       "  'bdate': '22.2.1998',\n",
       "  'city': {'id': 1, 'title': 'Moscow'},\n",
       "  'track_code': 'df013ff09e18F9l9oZmguO6xjBP4K54Yc-GLE5Lmd0h7V3gQLVOYhnVz4yr3yvu8-zsXwSlO_hVk-u59'},\n",
       " '49688800': {'id': 49688800,\n",
       "  'first_name': 'Alexey',\n",
       "  'last_name': 'Biryukov',\n",
       "  'can_access_closed': True,\n",
       "  'is_closed': False,\n",
       "  'sex': 2,\n",
       "  'bdate': '8.12',\n",
       "  'city': {'id': 95, 'title': 'Nizhny Novgorod'},\n",
       "  'track_code': '501c1764OSkMJrwe3_DKp6Td-TCiFJl1ebla8R3DrAWQ9N2fsgpUQlcU1hvWpZGnuVdi4nNx-Xhuoj-f'},\n",
       " '50333297': {'id': 50333297,\n",
       "  'first_name': 'Anastasia',\n",
       "  'last_name': 'Alexandrova',\n",
       "  'can_access_closed': True,\n",
       "  'is_closed': False,\n",
       "  'sex': 1,\n",
       "  'bdate': '27.2',\n",
       "  'city': {'id': 1, 'title': 'Moscow'},\n",
       "  'track_code': 'd2729c41S4Dj9tm430XNck4XFrJgJ1zq5V60A2DdGssUHrjNuvYm6-3E6OjYRJgiWpSKYLFCPOfyRdFt'},\n",
       " '50752810': {'id': 50752810,\n",
       "  'first_name': 'Nikita',\n",
       "  'last_name': 'Kazakov',\n",
       "  'can_access_closed': True,\n",
       "  'is_closed': False,\n",
       "  'sex': 2,\n",
       "  'bdate': '19.5.1998',\n",
       "  'city': {'id': 1, 'title': 'Moscow'},\n",
       "  'track_code': '54b007f9d8rIU_soq-b9M9PqtCb0rBVgXKtmZ2fRVm7H9t-krM4aocZhknz65f5jzGEv9CXJdW1LsAMJ'},\n",
       " '51213941': {'id': 51213941,\n",
       "  'first_name': 'Lena',\n",
       "  'last_name': 'Nazarova',\n",
       "  'can_access_closed': True,\n",
       "  'is_closed': False,\n",
       "  'sex': 1,\n",
       "  'bdate': '21.6',\n",
       "  'city': {'id': 1, 'title': 'Moscow'},\n",
       "  'university': 1171834,\n",
       "  'university_name': 'Сколтех',\n",
       "  'faculty': 2236886,\n",
       "  'faculty_name': 'Space and Engineering Systems',\n",
       "  'graduation': 2022,\n",
       "  'relation': 0,\n",
       "  'track_code': '9cf65dddcGwBB7ZfAkiVb07avICyJ1VkMfGGq64ElMn_Gv9QLhEdB1k2i10HS5ZqX1QmUmNCNWkm6uPF'},\n",
       " '51693292': {'id': 51693292,\n",
       "  'first_name': 'Ivan',\n",
       "  'last_name': 'Bilenko',\n",
       "  'can_access_closed': True,\n",
       "  'is_closed': False,\n",
       "  'sex': 2,\n",
       "  'bdate': '25.4.1998',\n",
       "  'city': {'id': 157, 'title': 'Cheboxary'},\n",
       "  'track_code': '9940937ayU44jyWCyWc9NplqDzLC4YXrkk45JUPVlXAMnyKuSJGkJTK5ToWbZmYygumW4BOE5eaFVVxL'},\n",
       " '52130830': {'id': 52130830,\n",
       "  'first_name': 'Andrey',\n",
       "  'last_name': 'Kasyanenko',\n",
       "  'can_access_closed': True,\n",
       "  'is_closed': False,\n",
       "  'sex': 2,\n",
       "  'bdate': '21.12',\n",
       "  'city': {'id': 1, 'title': 'Moscow'},\n",
       "  'track_code': 'dede43b1ZSq5HFg2VKnP8VUPUvjmfshto6FqIhEVXuDghS-VjmkIQeIkaTJQ_MugR4bJKjcbqGC0ug9M'},\n",
       " '52413596': {'id': 52413596,\n",
       "  'first_name': 'Katerina',\n",
       "  'last_name': 'Grin',\n",
       "  'can_access_closed': True,\n",
       "  'is_closed': False,\n",
       "  'sex': 1,\n",
       "  'bdate': '29.1.1999',\n",
       "  'city': {'id': 1, 'title': 'Moscow'},\n",
       "  'university': 0,\n",
       "  'university_name': '',\n",
       "  'faculty': 0,\n",
       "  'faculty_name': '',\n",
       "  'graduation': 0,\n",
       "  'relation': 0,\n",
       "  'track_code': '342c320bOSHtUiMaZkM_iM9daiYVmwiz0MZ8_HmszSLn4UglzidUSrZjHkxhRTuC0d739MT-aL7H3RmS'},\n",
       " '54674664': {'id': 54674664,\n",
       "  'first_name': 'Danila',\n",
       "  'last_name': 'Nechitaylo',\n",
       "  'can_access_closed': True,\n",
       "  'is_closed': False,\n",
       "  'sex': 2,\n",
       "  'bdate': '20.7.1998',\n",
       "  'city': {'id': 1, 'title': 'Moscow'},\n",
       "  'university': 2,\n",
       "  'university_name': 'МГУ',\n",
       "  'faculty': 23,\n",
       "  'faculty_name': 'Факультет вычислительной математики и кибернетики',\n",
       "  'graduation': 1998,\n",
       "  'education_form': 'Full-time',\n",
       "  'education_status': \"Alumnus (Master's)\",\n",
       "  'relation': 1,\n",
       "  'track_code': 'cb7f287a9Cz7F7Jym0DJuVsNXLhJlqvdMBvakPg3ioqj3PiYqWuZR6EijXGbR8e1QIHDapjzy9AnAL_-'},\n",
       " '55249755': {'id': 55249755,\n",
       "  'first_name': 'Evgeny',\n",
       "  'last_name': 'Skobyolkin',\n",
       "  'can_access_closed': True,\n",
       "  'is_closed': False,\n",
       "  'sex': 2,\n",
       "  'bdate': '13.4',\n",
       "  'city': {'id': 66, 'title': 'Kirov'},\n",
       "  'university': 22184,\n",
       "  'university_name': 'КФ МФЮА',\n",
       "  'faculty': 7793,\n",
       "  'faculty_name': 'Экономический факультет',\n",
       "  'graduation': 0,\n",
       "  'education_form': 'Full-time',\n",
       "  'relation': 0,\n",
       "  'track_code': '0d847eec_ydSiCw2ESCWthsyo6Fh58HA8-_Cvr-xWDbmO2I0DuuSTF2wQGdHdsTtAr09c7CCoc3k9KfQ'},\n",
       " '55786070': {'id': 55786070,\n",
       "  'first_name': 'Elina',\n",
       "  'last_name': 'Pakhomova',\n",
       "  'can_access_closed': True,\n",
       "  'is_closed': False,\n",
       "  'sex': 1,\n",
       "  'bdate': '16.7',\n",
       "  'city': {'id': 1, 'title': 'Moscow'},\n",
       "  'track_code': 'be74b239hCXBw86gnN13RNBQQOaVx02AeFQonjWuojqg0r0c6r3pTp3xoK2YiHlA0N3bNESiLY1vT03w'},\n",
       " '58261523': {'id': 58261523,\n",
       "  'first_name': 'Georgy',\n",
       "  'last_name': 'Khalfin',\n",
       "  'can_access_closed': True,\n",
       "  'is_closed': False,\n",
       "  'sex': 2,\n",
       "  'bdate': '7.10',\n",
       "  'city': {'id': 1, 'title': 'Moscow'},\n",
       "  'university': 250,\n",
       "  'university_name': 'МГТУ им. Н. Э. Баумана',\n",
       "  'faculty': 1043,\n",
       "  'faculty_name': 'Факультет энергомашиностроения',\n",
       "  'graduation': 0,\n",
       "  'relation': 0,\n",
       "  'track_code': '0c94ae20cIqFpt_T1BGTbtDAEkV_yhQJpao8fRcOP5ar3va-LGMd4d-X49LdEMZm1EiKl66vdASysVkT'},\n",
       " '58261993': {'id': 58261993,\n",
       "  'first_name': 'Zhenya',\n",
       "  'last_name': 'Khalfin',\n",
       "  'can_access_closed': True,\n",
       "  'is_closed': False,\n",
       "  'sex': 2,\n",
       "  'bdate': '7.10.1998',\n",
       "  'city': {'id': 1, 'title': 'Moscow'},\n",
       "  'track_code': '3c18e967cghUfr3w8tmPxuTd4q3LeVi-swkM_8eXalXDl-hjqbIfYwtN1_D93IrP7156fxocOLOkEmmR'},\n",
       " '59542958': {'id': 59542958,\n",
       "  'first_name': 'Alexey',\n",
       "  'last_name': 'Samokhin',\n",
       "  'can_access_closed': True,\n",
       "  'is_closed': False,\n",
       "  'sex': 2,\n",
       "  'track_code': '6ff8ce92aRPTDBIWa4_RRBR5Ef_YscHwV2iiItUNMkUWzIoANT0EeIloLhc2gtcSGfaCLQnUof1Ac8dM'},\n",
       " '65256295': {'id': 65256295,\n",
       "  'first_name': 'Rodion',\n",
       "  'last_name': 'Romanov',\n",
       "  'can_access_closed': True,\n",
       "  'is_closed': False,\n",
       "  'sex': 2,\n",
       "  'bdate': '23.1.1998',\n",
       "  'city': {'id': 1, 'title': 'Moscow'},\n",
       "  'track_code': '0b3276fe331jpC6QebfViOHHfYmDSn55lG5sadLca2i2GaTtArCyFmzCQJApsdPc5UTjW1IvHnSDdQkH'},\n",
       " '66142595': {'id': 66142595,\n",
       "  'first_name': 'Kirill',\n",
       "  'last_name': 'Kryuchkov',\n",
       "  'can_access_closed': True,\n",
       "  'is_closed': False,\n",
       "  'sex': 2,\n",
       "  'bdate': '16.11.1997',\n",
       "  'city': {'id': 1, 'title': 'Moscow'},\n",
       "  'university': 250,\n",
       "  'university_name': 'МГТУ им. Н. Э. Баумана',\n",
       "  'faculty': 0,\n",
       "  'faculty_name': '',\n",
       "  'graduation': 0,\n",
       "  'relation': 0,\n",
       "  'track_code': '3ab3ab59uFNQcpvNyOq1SLAdfbBUJOwh8HFfEtwuS5NzG66X_BrVOF9D9p2burccvZ7jYoVBjCznajp8'},\n",
       " '69846342': {'id': 69846342,\n",
       "  'first_name': 'Nikita',\n",
       "  'last_name': 'Manonin',\n",
       "  'can_access_closed': True,\n",
       "  'is_closed': False,\n",
       "  'sex': 2,\n",
       "  'city': {'id': 1, 'title': 'Moscow'},\n",
       "  'university': 250,\n",
       "  'university_name': 'МГТУ им. Н. Э. Баумана',\n",
       "  'faculty': 0,\n",
       "  'faculty_name': '',\n",
       "  'graduation': 2020,\n",
       "  'relation': 0,\n",
       "  'track_code': '1bf06e2bAX3GrPjmWxrEesP_7z7f-ZaJLRIQJBkpMP-fPb5EyfhsFs7Nx-JWFsF_y3F27A6c9oQ6CXVK'},\n",
       " '74225143': {'id': 74225143,\n",
       "  'first_name': 'Nikita',\n",
       "  'last_name': 'Orekhov',\n",
       "  'can_access_closed': True,\n",
       "  'is_closed': False,\n",
       "  'sex': 2,\n",
       "  'bdate': '20.1.1998',\n",
       "  'city': {'id': 1, 'title': 'Moscow'},\n",
       "  'track_code': '41430fd92GAK0Lo1dCmOOff12M_lyaOdZO_DgVWDsV9dYBVV_e-1C1fg1zUieow5-ntAHTSsw5Bz9Kbv'},\n",
       " '79400760': {'id': 79400760,\n",
       "  'first_name': 'Ildar',\n",
       "  'last_name': 'Abdrakhmanov',\n",
       "  'can_access_closed': True,\n",
       "  'is_closed': False,\n",
       "  'sex': 2,\n",
       "  'city': {'id': 1, 'title': 'Moscow'},\n",
       "  'university': 1171834,\n",
       "  'university_name': 'Сколтех',\n",
       "  'faculty': 0,\n",
       "  'faculty_name': '',\n",
       "  'graduation': 0,\n",
       "  'relation': 0,\n",
       "  'track_code': 'f6dcf83fPqQb9OxD9C-vqXe56X6x0B6KiJjC43HnhUZzSLOT9ztTz0DD0BL7ffugfTVyrGC1foefg6eN'},\n",
       " '84066939': {'id': 84066939,\n",
       "  'first_name': 'Svyatoslav',\n",
       "  'last_name': 'Prutyan',\n",
       "  'can_access_closed': True,\n",
       "  'is_closed': False,\n",
       "  'sex': 2,\n",
       "  'bdate': '5.11.1997',\n",
       "  'city': {'id': 1, 'title': 'Moscow'},\n",
       "  'university': 2,\n",
       "  'university_name': 'МГУ',\n",
       "  'faculty': 38,\n",
       "  'faculty_name': 'Физический факультет',\n",
       "  'graduation': 2020,\n",
       "  'education_form': 'Full-time',\n",
       "  'education_status': \"Alumnus (Bachelor's)\",\n",
       "  'relation': 0,\n",
       "  'track_code': 'b1fa92b68bqLg6Qmocxdh7Br77lc4dgeEIvGQIARiW9d1DmhBM2c0dm7my_xzF6HtuJ9a42EuBMHkKMu'},\n",
       " '85034026': {'id': 85034026,\n",
       "  'first_name': 'Albert',\n",
       "  'last_name': 'Razyapov',\n",
       "  'can_access_closed': True,\n",
       "  'is_closed': False,\n",
       "  'sex': 2,\n",
       "  'bdate': '13.6.1998',\n",
       "  'city': {'id': 1, 'title': 'Moscow'},\n",
       "  'track_code': '5796e11a6t-SkCGjNw8hDgvnO5CIL6Pq3U7caPgfzOTpOu7x3siHtMjyEapgXnZfe2-mQllKw-fKVbkG'},\n",
       " '87696728': {'id': 87696728,\n",
       "  'first_name': 'Ilya',\n",
       "  'last_name': 'Makhotin',\n",
       "  'can_access_closed': True,\n",
       "  'is_closed': False,\n",
       "  'sex': 2,\n",
       "  'bdate': '15.4.1998',\n",
       "  'city': {'id': 1, 'title': 'Moscow'},\n",
       "  'university': 250,\n",
       "  'university_name': 'МГТУ им. Н. Э. Баумана',\n",
       "  'faculty': 0,\n",
       "  'faculty_name': '',\n",
       "  'graduation': 0,\n",
       "  'relation': 0,\n",
       "  'track_code': 'c79e1096vc_Xe02l2DeqvmUeLEEetrh1NLBcx7pPANesHlq39z7QpIxLJ6_aYKW-E5a_k8_T2Hgjqzmp'},\n",
       " '89075283': {'id': 89075283,\n",
       "  'first_name': 'Viktoria',\n",
       "  'last_name': 'Klimova',\n",
       "  'can_access_closed': True,\n",
       "  'is_closed': False,\n",
       "  'sex': 1,\n",
       "  'bdate': '30.4',\n",
       "  'track_code': 'e6a2a157inMDroK7bjiWZNS9FqJCQ5cwhbVW7mvHmPgpvGU-R_HnGF_P7OUyMZdipD-OcJMm9z2SrjOA'},\n",
       " '93883145': {'id': 93883145,\n",
       "  'first_name': 'Sergey',\n",
       "  'last_name': 'Alikov',\n",
       "  'can_access_closed': True,\n",
       "  'is_closed': False,\n",
       "  'sex': 2,\n",
       "  'bdate': '26.9',\n",
       "  'city': {'id': 1, 'title': 'Moscow'},\n",
       "  'university': 250,\n",
       "  'university_name': 'МГТУ им. Н. Э. Баумана',\n",
       "  'faculty': 0,\n",
       "  'faculty_name': '',\n",
       "  'graduation': 0,\n",
       "  'education_form': 'Full-time',\n",
       "  'education_status': \"Student (Bachelor's)\",\n",
       "  'relation': 0,\n",
       "  'track_code': 'ea469d57YLp9cA_U2qwDkHrPCsGLaD5h8cS3TaSMfbmK75nWpIAN0XRGMY6IowOXDUGUE1oNXmzm39Ij'},\n",
       " '94946566': {'id': 94946566,\n",
       "  'first_name': 'Ilya',\n",
       "  'last_name': 'Chudinovskikh',\n",
       "  'can_access_closed': True,\n",
       "  'is_closed': False,\n",
       "  'sex': 2,\n",
       "  'bdate': '18.5',\n",
       "  'city': {'id': 2, 'title': 'Saint Petersburg'},\n",
       "  'university': 53,\n",
       "  'university_name': 'Университет ИТМО',\n",
       "  'faculty': 2185901,\n",
       "  'faculty_name': 'Факультет низкотемпературной энергетики (Мегафакультет биотехнологий и низкотемпературных систем)',\n",
       "  'graduation': 2020,\n",
       "  'education_form': 'Full-time',\n",
       "  'education_status': \"Student (Bachelor's)\",\n",
       "  'relation': 0,\n",
       "  'track_code': '0008e02fV0pYqxEU98JWDkuphNRZ6wqaL6LLii1veBpsmRikLbk6IQPPfEigyAcOOSUZBoiOapc4ua7k'},\n",
       " '98429003': {'id': 98429003,\n",
       "  'first_name': 'Nikita',\n",
       "  'last_name': 'Prasolov',\n",
       "  'can_access_closed': True,\n",
       "  'is_closed': False,\n",
       "  'sex': 2,\n",
       "  'bdate': '17.7',\n",
       "  'city': {'id': 1, 'title': 'Moscow'},\n",
       "  'university': 250,\n",
       "  'university_name': 'МГТУ им. Н. Э. Баумана',\n",
       "  'faculty': 0,\n",
       "  'faculty_name': '',\n",
       "  'graduation': 0,\n",
       "  'relation': 0,\n",
       "  'track_code': '28267cb6PMAqxp5zcl8KRyKaQbJe2E6gbtxEDseaejZXNua3cu5Rq3Cgr3wvCg0dWxDZYI-9Lq15xyFg'},\n",
       " '100252914': {'id': 100252914,\n",
       "  'first_name': 'Ivan',\n",
       "  'last_name': 'Volkov',\n",
       "  'can_access_closed': True,\n",
       "  'is_closed': False,\n",
       "  'sex': 2,\n",
       "  'bdate': '7.6.1997',\n",
       "  'city': {'id': 1, 'title': 'Moscow'},\n",
       "  'track_code': '8849205aoqt3o3SPkV0XqCEh73VvfljMK5w2LvX_O3oNIk5t-1bPwCrGTonCWBKoWaJ1ldUXK9gykCFAkQ'},\n",
       " '100606381': {'id': 100606381,\n",
       "  'first_name': 'Ekaterina',\n",
       "  'last_name': 'Karpova',\n",
       "  'can_access_closed': True,\n",
       "  'is_closed': False,\n",
       "  'sex': 1,\n",
       "  'bdate': '26.7.1998',\n",
       "  'city': {'id': 66, 'title': 'Kirov'},\n",
       "  'university': 2,\n",
       "  'university_name': 'МГУ',\n",
       "  'faculty': 93976,\n",
       "  'faculty_name': 'Высшая школа современных социальных наук',\n",
       "  'graduation': 0,\n",
       "  'relation': 1,\n",
       "  'track_code': '8f89d134rofjbX2jNQ6eIReaFXY6g-LE5yFmxpMQLJSvVdDznqLD7LlcQPE2CpEmahOGk4DqkdD-LXGo9w'},\n",
       " '101260685': {'id': 101260685,\n",
       "  'first_name': 'Evgeny',\n",
       "  'last_name': 'Zhuravlev',\n",
       "  'can_access_closed': True,\n",
       "  'is_closed': False,\n",
       "  'sex': 2,\n",
       "  'bdate': '28.2.1998',\n",
       "  'city': {'id': 95, 'title': 'Nizhny Novgorod'},\n",
       "  'university': 1179,\n",
       "  'university_name': 'НИУ ВШЭ – НН',\n",
       "  'faculty': 0,\n",
       "  'faculty_name': '',\n",
       "  'graduation': 0,\n",
       "  'relation': 0,\n",
       "  'track_code': '8a523164zVmj6y18e0VtImQPWunoLc6zITtihmbkd9H1QA9TNOygMquPHXp-TTsjGIPJCFJEvac4N3XoAg'},\n",
       " '101897697': {'id': 101897697,\n",
       "  'first_name': 'Artem',\n",
       "  'last_name': 'Proklov',\n",
       "  'can_access_closed': True,\n",
       "  'is_closed': False,\n",
       "  'sex': 2,\n",
       "  'bdate': '12.6.1997',\n",
       "  'track_code': '9df8c134M4DMA_7NqlypgWiFJkSnZZ-1_qCcQIQ1XDsels3Zwtle65Y7xcyuW6GIEgm0px0M7KHnrIsu4A'},\n",
       " '105195895': {'id': 105195895,\n",
       "  'first_name': 'Dmitry',\n",
       "  'last_name': 'Belov',\n",
       "  'can_access_closed': True,\n",
       "  'is_closed': False,\n",
       "  'sex': 2,\n",
       "  'bdate': '7.4',\n",
       "  'city': {'id': 1, 'title': 'Moscow'},\n",
       "  'university': 250,\n",
       "  'university_name': 'МГТУ им. Н. Э. Баумана',\n",
       "  'faculty': 1042,\n",
       "  'faculty_name': 'Факультет фундаментальных наук',\n",
       "  'graduation': 0,\n",
       "  'education_form': 'Full-time',\n",
       "  'education_status': \"Student (Bachelor's)\",\n",
       "  'relation': 0,\n",
       "  'track_code': 'a6bfed7aQpm5jqe8BeVQHrAJ-_kzIRyM4spB8dQ2O9-vkmiuN4Mv8uXsn7hW5wQey4tpGIlIb5j7xlafsA'},\n",
       " '105843974': {'id': 105843974,\n",
       "  'first_name': 'Igor',\n",
       "  'last_name': 'Shelyakin',\n",
       "  'can_access_closed': True,\n",
       "  'is_closed': False,\n",
       "  'sex': 2,\n",
       "  'bdate': '21.10.1996',\n",
       "  'city': {'id': 80, 'title': 'Lyubertsy'},\n",
       "  'track_code': 'af6e955aZ_mCgSu_lp53n4fVwhbGTOC5NUJJgab2U4VpbZtBywcKkoy4QbmQz3qS-1Ze9nwlk60sTl7vwg'},\n",
       " '107012941': {'id': 107012941,\n",
       "  'first_name': 'Anna',\n",
       "  'last_name': 'Sayfullina',\n",
       "  'can_access_closed': True,\n",
       "  'is_closed': False,\n",
       "  'sex': 1,\n",
       "  'bdate': '2.11.1998',\n",
       "  'city': {'id': 1, 'title': 'Moscow'},\n",
       "  'university': 250,\n",
       "  'university_name': 'МГТУ им. Н. Э. Баумана',\n",
       "  'faculty': 1043,\n",
       "  'faculty_name': 'Факультет энергомашиностроения',\n",
       "  'graduation': 0,\n",
       "  'relation': 0,\n",
       "  'track_code': 'bbae4917DE2T1dHIQGPZTTv8hiK7MY4m4ovU0GXJ5ZfyJn4HZuVhJsvnvphGNdhFWX8ZxwFY_TL7h8O-AQ'},\n",
       " '108905937': {'id': 108905937,\n",
       "  'first_name': 'Sergey',\n",
       "  'last_name': 'Solovyov',\n",
       "  'can_access_closed': True,\n",
       "  'is_closed': False,\n",
       "  'sex': 2,\n",
       "  'bdate': '9.5',\n",
       "  'city': {'id': 1, 'title': 'Moscow'},\n",
       "  'track_code': '7ec8195b66Qmrh3xWKcPzpK_jCAxPgzc10mNKk_sn7WWcfHy3QCGz3nMJKYM-leY9jwUw4tXf8jORZpEKw'},\n",
       " '111578056': {'id': 111578056,\n",
       "  'first_name': 'Alexander',\n",
       "  'last_name': 'Smirnov',\n",
       "  'can_access_closed': True,\n",
       "  'is_closed': False,\n",
       "  'sex': 2,\n",
       "  'bdate': '1.3',\n",
       "  'university': 0,\n",
       "  'university_name': '',\n",
       "  'faculty': 0,\n",
       "  'faculty_name': '',\n",
       "  'graduation': 0,\n",
       "  'relation': 0,\n",
       "  'track_code': 'a85a03d8WjYWoS7m-TqVdBUZxwZ0LY7Z5G32LDZl70cwcohGO-o3XRyZRO6rO5R0f5NZ5M5E_c39YeFCUg'},\n",
       " '111588514': {'id': 111588514,\n",
       "  'first_name': 'Nikita',\n",
       "  'last_name': 'Bratischev',\n",
       "  'can_access_closed': True,\n",
       "  'is_closed': False,\n",
       "  'sex': 2,\n",
       "  'bdate': '14.1',\n",
       "  'city': {'id': 1, 'title': 'Moscow'},\n",
       "  'track_code': 'ffdd9025mWKScRv8WmQ7Ig5MQMtxKpcsXzkcqSTD__0QsaEs8jT0CZhJIqtfYWx7ZcPaK8tD5DhGNQvHQA'},\n",
       " '112125332': {'id': 112125332,\n",
       "  'first_name': 'Olga',\n",
       "  'last_name': 'Klochkova',\n",
       "  'can_access_closed': True,\n",
       "  'is_closed': False,\n",
       "  'sex': 1,\n",
       "  'bdate': '10.2',\n",
       "  'city': {'id': 1, 'title': 'Moscow'},\n",
       "  'track_code': 'ad05df2fpSrLp3J32we098CZRFHT3f-AwAVPYK0xRlWDiWbkqGDIQZWSHnKOALfxoRDct2m0jJTZCVgOyQ'},\n",
       " '117742490': {'id': 117742490,\n",
       "  'first_name': 'Alisa',\n",
       "  'last_name': 'Klyatova',\n",
       "  'can_access_closed': True,\n",
       "  'is_closed': False,\n",
       "  'sex': 1,\n",
       "  'bdate': '16.12',\n",
       "  'university': 330,\n",
       "  'university_name': 'РНИМУ (бывш. РГМУ) им. Н. И. Пирогова',\n",
       "  'faculty': 1467,\n",
       "  'faculty_name': 'Педиатрический факультет',\n",
       "  'graduation': 2022,\n",
       "  'education_status': 'Student (Specialist)',\n",
       "  'relation': 0,\n",
       "  'track_code': 'bfff5902KJUzxLvmr8HLRWL5nkpENLJEfGNQXEWghV6TGBe5Nj1F_mr01OH_l8VDBXcMrv5dwVBlb0cyIQ'},\n",
       " '119583702': {'id': 119583702,\n",
       "  'first_name': 'Vladimir',\n",
       "  'last_name': 'Bolgar',\n",
       "  'can_access_closed': True,\n",
       "  'is_closed': False,\n",
       "  'sex': 2,\n",
       "  'city': {'id': 1, 'title': 'Moscow'},\n",
       "  'track_code': '617c31ffIVMQEEufOehdA6iTmR0wALKjKsCCYDw-JXl7mKCFFMJMOE1ydMs74FFezR4C-4ppwbczzJUOWA'},\n",
       " '132585496': {'id': 132585496,\n",
       "  'first_name': 'Lyubov',\n",
       "  'last_name': 'Ustsova',\n",
       "  'can_access_closed': True,\n",
       "  'is_closed': False,\n",
       "  'sex': 1,\n",
       "  'bdate': '13.9.1996',\n",
       "  'track_code': 'f60270acdLfwPcVs8ZCQ4OTbONPJXzZx_wMPAyhegf6YqCxsdjUZ3P8EqGukxMO9iVWqMXM2RWXmDxhtTA'},\n",
       " '132780448': {'id': 132780448,\n",
       "  'first_name': 'Andrey',\n",
       "  'last_name': 'Nikolaev',\n",
       "  'can_access_closed': True,\n",
       "  'is_closed': False,\n",
       "  'sex': 2,\n",
       "  'bdate': '24.6.1998',\n",
       "  'city': {'id': 1, 'title': 'Moscow'},\n",
       "  'track_code': 'ce6aa6efZQpcX8RAjR1MdsORlM8zjmqVDxmkZgsOT3RDoVwRTAwIYVRp9BLdGkJ3qh8LI4nnGYEWFbMIbw'},\n",
       " '134142687': {'id': 134142687,\n",
       "  'first_name': 'Anatoly',\n",
       "  'last_name': 'Solovyov',\n",
       "  'can_access_closed': True,\n",
       "  'is_closed': False,\n",
       "  'sex': 2,\n",
       "  'bdate': '26.11',\n",
       "  'city': {'id': 1, 'title': 'Moscow'},\n",
       "  'track_code': 'd0e77a0d6fG2fQpbbTkEPHwiEIIYnfPjjCjfEJiJm803lnzo4QeEmr4ZZl9ua1E4Fa6DYaL0gPeVJMh-_A'},\n",
       " '135883018': {'id': 135883018,\n",
       "  'first_name': 'Sergey',\n",
       "  'last_name': 'Finogenov',\n",
       "  'can_access_closed': True,\n",
       "  'is_closed': False,\n",
       "  'sex': 2,\n",
       "  'bdate': '24.11.1998',\n",
       "  'city': {'id': 20404, 'title': 'Ivanteevka'},\n",
       "  'university': 250,\n",
       "  'university_name': 'МГТУ им. Н. Э. Баумана',\n",
       "  'faculty': 1043,\n",
       "  'faculty_name': 'Факультет энергомашиностроения',\n",
       "  'graduation': 0,\n",
       "  'education_form': 'Full-time',\n",
       "  'education_status': \"Student (Bachelor's)\",\n",
       "  'relation': 0,\n",
       "  'track_code': '6b6635886IihDHh5-TOwaYWkgYN_ICABhlwlznLr6pKof6MEGt6F46k4FHj_Mrxo6i4bb8VJUxWfUDKgFg'},\n",
       " '136508404': {'id': 136508404,\n",
       "  'first_name': 'Alexander',\n",
       "  'last_name': 'Struchkov',\n",
       "  'can_access_closed': True,\n",
       "  'is_closed': False,\n",
       "  'sex': 2,\n",
       "  'city': {'id': 134, 'title': 'Stavropol'},\n",
       "  'university': 250,\n",
       "  'university_name': 'МГТУ им. Н. Э. Баумана',\n",
       "  'faculty': 1043,\n",
       "  'faculty_name': 'Факультет энергомашиностроения',\n",
       "  'graduation': 0,\n",
       "  'education_status': \"Student (Master's)\",\n",
       "  'relation': 0,\n",
       "  'track_code': '51791cebkM4tfEcPKdi6LZCtOpxTUQFgoH6rk2ut_ByUOLYnyKn9pX4YeAgr2r189SOhfOk4cnS5crz9Dw'},\n",
       " '136658710': {'id': 136658710,\n",
       "  'first_name': 'Valentin',\n",
       "  'last_name': 'Khlyzov',\n",
       "  'can_access_closed': True,\n",
       "  'is_closed': False,\n",
       "  'sex': 2,\n",
       "  'bdate': '25.6',\n",
       "  'city': {'id': 66, 'title': 'Kirov'},\n",
       "  'track_code': '6b50da9awnFifEV5YFjecnO5cR8zIKPi3vVw3H7VapAnpgRHcXmvGmxNeCxgV95-FTTr-4lJ0PbH-WeyGg'},\n",
       " '136901690': {'id': 136901690,\n",
       "  'first_name': 'Andrey',\n",
       "  'last_name': 'Belyaev',\n",
       "  'can_access_closed': True,\n",
       "  'is_closed': False,\n",
       "  'sex': 2,\n",
       "  'city': {'id': 1, 'title': 'Moscow'},\n",
       "  'university': 250,\n",
       "  'university_name': 'МГТУ им. Н. Э. Баумана',\n",
       "  'faculty': 0,\n",
       "  'faculty_name': '',\n",
       "  'graduation': 0,\n",
       "  'relation': 0,\n",
       "  'track_code': '9784885eu2L-dgluntUJVsl1Tbw4UCVWVt8fWDhDgkNWeXyzzG7WCfNDZGidhwlQp_nfWII5VkJP0wg2XA'},\n",
       " '137524812': {'id': 137524812,\n",
       "  'first_name': 'Artem',\n",
       "  'last_name': 'Verkhovny',\n",
       "  'can_access_closed': True,\n",
       "  'is_closed': False,\n",
       "  'sex': 2,\n",
       "  'city': {'id': 1, 'title': 'Moscow'},\n",
       "  'university': 250,\n",
       "  'university_name': 'МГТУ им. Н. Э. Баумана',\n",
       "  'faculty': 1043,\n",
       "  'faculty_name': 'Факультет энергомашиностроения',\n",
       "  'graduation': 2017,\n",
       "  'education_form': 'Full-time',\n",
       "  'education_status': 'Student (Specialist)',\n",
       "  'relation': 0,\n",
       "  'track_code': '6e74fb21WlAbv5Kjh2BSz-C21wGjrS0l_HbtQOZjPJ_-TlFtfZk3OxKLrfONZVDFtDRN5xnEXjHlevougg'},\n",
       " '137577482': {'id': 137577482,\n",
       "  'first_name': 'Diana',\n",
       "  'last_name': 'Mikhaylova',\n",
       "  'can_access_closed': True,\n",
       "  'is_closed': False,\n",
       "  'sex': 1,\n",
       "  'bdate': '3.4.1999',\n",
       "  'city': {'id': 312, 'title': 'Mytischi'},\n",
       "  'track_code': '30239ddblG9TYnKSjzK1LFO1ogntKlIHMLtjtxo_fwrTfwkPgAX5BAwHQsGNMOEqBTsx71dDIRMpt3TZfg'},\n",
       " '138226638': {'id': 138226638,\n",
       "  'first_name': 'Makar',\n",
       "  'last_name': 'Kamenschikov',\n",
       "  'can_access_closed': True,\n",
       "  'is_closed': False,\n",
       "  'sex': 2,\n",
       "  'bdate': '11.4',\n",
       "  'city': {'id': 1, 'title': 'Moscow'},\n",
       "  'university': 250,\n",
       "  'university_name': 'МГТУ им. Н. Э. Баумана',\n",
       "  'faculty': 1038,\n",
       "  'faculty_name': 'Факультет радиоэлектроники и лазерной техники',\n",
       "  'graduation': 0,\n",
       "  'relation': 0,\n",
       "  'track_code': '0e079051YPeoTKex5sF48UJcvnWPVn2mn0eiUHspA8BE0-xbiEANnPIpz-HknHymFtAmmTU_DrKGS7U-Hw'},\n",
       " '138585690': {'id': 138585690,\n",
       "  'first_name': 'Ksenia',\n",
       "  'last_name': 'Ustsova',\n",
       "  'can_access_closed': True,\n",
       "  'is_closed': False,\n",
       "  'sex': 1,\n",
       "  'bdate': '25.7',\n",
       "  'city': {'id': 1, 'title': 'Moscow'},\n",
       "  'track_code': '628e8c85oZfslaKKNVuqsvkxd41KE-KtU8oDwIgx0LON_ui09lXM_LWgn4wxVa2zr73lafB6kblKxhSu7A'},\n",
       " '143660399': {'id': 143660399,\n",
       "  'first_name': 'Alexander',\n",
       "  'last_name': 'Lubyanov',\n",
       "  'can_access_closed': True,\n",
       "  'is_closed': False,\n",
       "  'sex': 2,\n",
       "  'bdate': '16.11.1998',\n",
       "  'city': {'id': 1, 'title': 'Moscow'},\n",
       "  'university': 250,\n",
       "  'university_name': 'МГТУ им. Н. Э. Баумана',\n",
       "  'faculty': 1040,\n",
       "  'faculty_name': 'Факультет робототехники и комплексной автоматизации',\n",
       "  'graduation': 0,\n",
       "  'education_form': 'Full-time',\n",
       "  'education_status': \"Student (Bachelor's)\",\n",
       "  'relation': 0,\n",
       "  'track_code': 'bdac3a61eml7QiixinXNlre6cF4PeWXCFpTE5eKM07kJOgUy35sXAiQgFrDbds-T4zPis7UQFtYPmNOLhg'},\n",
       " '144721771': {'id': 144721771,\n",
       "  'first_name': 'Ulyana',\n",
       "  'last_name': 'Zemtsova',\n",
       "  'can_access_closed': True,\n",
       "  'is_closed': False,\n",
       "  'sex': 1,\n",
       "  'bdate': '26.11.1999',\n",
       "  'track_code': 'f968825aJRzJXY-yT5U7ZbXOdj3yHKY543XbFfXTarC7SBuji5NId8Q-v-cYwzll4UPq2Eh11S36ecx7kQ'},\n",
       " '147118604': {'id': 147118604,\n",
       "  'first_name': 'Sasha',\n",
       "  'last_name': 'Koropenko',\n",
       "  'can_access_closed': True,\n",
       "  'is_closed': False,\n",
       "  'sex': 2,\n",
       "  'bdate': '24.7.1998',\n",
       "  'city': {'id': 1, 'title': 'Moscow'},\n",
       "  'university': 250,\n",
       "  'university_name': 'МГТУ им. Н. Э. Баумана',\n",
       "  'faculty': 0,\n",
       "  'faculty_name': '',\n",
       "  'graduation': 0,\n",
       "  'relation': 0,\n",
       "  'track_code': '4da58ce9HQM3zLh3MijAyymhK790ZOWUbrUlhjlpnXY9UxVygJdwaGuo0nE3eZCbdy2wX84NloB3uTLoXQ'},\n",
       " '149408932': {'id': 149408932,\n",
       "  'first_name': 'Konstantin',\n",
       "  'last_name': 'Gurov',\n",
       "  'can_access_closed': True,\n",
       "  'is_closed': False,\n",
       "  'sex': 2,\n",
       "  'bdate': '16.7.1998',\n",
       "  'city': {'id': 1, 'title': 'Moscow'},\n",
       "  'track_code': 'cd4695c7RpfV0JJjnwhFHEfV1EIq7JKZYRpBNNQMctdOmFEYaVwr_Nuy_jOSABQaF1ZMpJCF4Y14FlZasA'},\n",
       " '153463359': {'id': 153463359,\n",
       "  'first_name': 'Nikita',\n",
       "  'last_name': 'Mamonov',\n",
       "  'can_access_closed': True,\n",
       "  'is_closed': False,\n",
       "  'sex': 2,\n",
       "  'bdate': '17.4.1998',\n",
       "  'city': {'id': 1, 'title': 'Moscow'},\n",
       "  'university': 250,\n",
       "  'university_name': 'МГТУ им. Н. Э. Баумана',\n",
       "  'faculty': 0,\n",
       "  'faculty_name': '',\n",
       "  'graduation': 0,\n",
       "  'education_form': 'Full-time',\n",
       "  'education_status': \"Student (Bachelor's)\",\n",
       "  'relation': 0,\n",
       "  'track_code': '9e90a198pCjsXIzDlLJYs7yDFMAWjftSiKzhQh9KkhVOVmCgGnbJQ-Q948eUuQ695AqKLazkiEaRoPYsew'},\n",
       " '153755962': {'id': 153755962,\n",
       "  'first_name': 'Alexander',\n",
       "  'last_name': 'Solovyev',\n",
       "  'can_access_closed': True,\n",
       "  'is_closed': False,\n",
       "  'sex': 2,\n",
       "  'bdate': '1.4.1999',\n",
       "  'city': {'id': 1, 'title': 'Moscow'},\n",
       "  'university': 250,\n",
       "  'university_name': 'МГТУ им. Н. Э. Баумана',\n",
       "  'faculty': 1043,\n",
       "  'faculty_name': 'Факультет энергомашиностроения',\n",
       "  'graduation': 0,\n",
       "  'education_status': 'Student (Specialist)',\n",
       "  'relation': 0,\n",
       "  'track_code': '2b327d58efgyx_Ef1GnGCAhdFnrqevCWv-lHMy7k0OVoaV_gtUwUkzr0nhuFbpcIUd6LnFATg4Km5VBdSg'},\n",
       " '156657948': {'id': 156657948,\n",
       "  'first_name': 'Vitaly',\n",
       "  'last_name': 'Shulakov',\n",
       "  'can_access_closed': True,\n",
       "  'is_closed': False,\n",
       "  'sex': 2,\n",
       "  'bdate': '23.1.1953',\n",
       "  'city': {'id': 66, 'title': 'Kirov'},\n",
       "  'track_code': 'b5477502l5wr4AKYuoq5P6X0uLvbUL8dj8CzkK7kiEDMLWNmcnr693SCbci22Os9_HcnV2E5zAmWzKT-yg'},\n",
       " '157914158': {'id': 157914158,\n",
       "  'first_name': 'Kira',\n",
       "  'last_name': 'Sinelschikova',\n",
       "  'can_access_closed': True,\n",
       "  'is_closed': False,\n",
       "  'sex': 1,\n",
       "  'bdate': '1.5',\n",
       "  'city': {'id': 1, 'title': 'Moscow'},\n",
       "  'track_code': 'e967b53dk1gUivyVf1NVhGqYm9hNEQIY7hXb-h8nYdx-gkfUNHL-M06ywZwrAlTUMRMFNPd4cQz3GcyUew'},\n",
       " '161173906': {'id': 161173906,\n",
       "  'first_name': 'Ivan',\n",
       "  'last_name': 'Sinev',\n",
       "  'can_access_closed': True,\n",
       "  'is_closed': False,\n",
       "  'sex': 2,\n",
       "  'bdate': '6.11.1998',\n",
       "  'city': {'id': 1, 'title': 'Moscow'},\n",
       "  'track_code': 'a616e300LKw5c2qioD9Cj8rYHcK7B8PVQsrWudlA9RplWUr4z5NBxzdLAav3OUbbiVuGIAFusMFbxsHXvQ'},\n",
       " '162154597': {'id': 162154597,\n",
       "  'first_name': 'Vasily',\n",
       "  'last_name': 'Dontsov',\n",
       "  'can_access_closed': True,\n",
       "  'is_closed': False,\n",
       "  'sex': 2,\n",
       "  'city': {'id': 11307, 'title': 'Kunicha'},\n",
       "  'track_code': 'be2229e9wUFYWB0ekDBFhxnPE_o9dAYx3NTATYi-_EGUpumwfcOsKgphchufMUDUXECBGYcddSXF2Ncj7A'},\n",
       " '170118838': {'id': 170118838,\n",
       "  'first_name': 'Milana',\n",
       "  'last_name': 'Prozorova',\n",
       "  'can_access_closed': True,\n",
       "  'is_closed': False,\n",
       "  'sex': 1,\n",
       "  'track_code': '7f176956j3GbciiwmxY0iRdT40qTcdQmvrJvFmnQ87pSJZa1r9fiGpYXGLTIQ2SLXdF7pikYpzKnvnh4DQ'},\n",
       " '172577430': {'id': 172577430,\n",
       "  'first_name': 'Vitaly',\n",
       "  'last_name': 'Kolevatov',\n",
       "  'can_access_closed': True,\n",
       "  'is_closed': False,\n",
       "  'sex': 2,\n",
       "  'bdate': '2.5',\n",
       "  'track_code': '0497553eGw_umZD7CBNpYFv2aLTg8xTx33iMr1YXNmobv_Mm8u52ZLz6qP1dEW4yH3jwUFqaZ-XGdJvBMg'},\n",
       " '174030334': {'id': 174030334,\n",
       "  'first_name': 'Ivan',\n",
       "  'last_name': 'Bychenko',\n",
       "  'can_access_closed': True,\n",
       "  'is_closed': False,\n",
       "  'sex': 2,\n",
       "  'bdate': '2.5',\n",
       "  'city': {'id': 1, 'title': 'Moscow'},\n",
       "  'track_code': 'a7c23ef25xoHGjsQV4IwxpxuApFwTKYjxL4i_ry5GXyIhPnRU8iKcQkrChlU0zaX2Oeaccol1TfdsjWQ2A'},\n",
       " '176867509': {'id': 176867509,\n",
       "  'first_name': 'Ayna',\n",
       "  'last_name': 'Bagybekova',\n",
       "  'can_access_closed': True,\n",
       "  'is_closed': False,\n",
       "  'sex': 1,\n",
       "  'bdate': '14.5.1999',\n",
       "  'city': {'id': 1, 'title': 'Moscow'},\n",
       "  'university': 0,\n",
       "  'university_name': '',\n",
       "  'faculty': 0,\n",
       "  'faculty_name': '',\n",
       "  'graduation': 0,\n",
       "  'relation': 0,\n",
       "  'track_code': '0e3ea13bjqSNbH6uxtr4vG8re9VuiDgL1KxdsPqq_zi60bGp_PHjz4NbRqfAiPfsLaTgONThSx_NoEreng'},\n",
       " '185134165': {'id': 185134165,\n",
       "  'first_name': 'Almaz',\n",
       "  'last_name': 'Rakhimov',\n",
       "  'can_access_closed': True,\n",
       "  'is_closed': False,\n",
       "  'sex': 2,\n",
       "  'bdate': '10.9.2000',\n",
       "  'university': 0,\n",
       "  'university_name': '',\n",
       "  'faculty': 0,\n",
       "  'faculty_name': '',\n",
       "  'graduation': 0,\n",
       "  'relation': 0,\n",
       "  'track_code': '4dfd7078EvGSW1_JHQrCqREsItAiNW34wY3YZ0ajjLLaGjvUleV_mps5Y5kTXMWuUqe_MZhcHuzYgc8JIg'},\n",
       " '185313669': {'id': 185313669,\n",
       "  'first_name': 'Nikita',\n",
       "  'last_name': 'Arsyonov',\n",
       "  'can_access_closed': True,\n",
       "  'is_closed': False,\n",
       "  'sex': 2,\n",
       "  'bdate': '22.9',\n",
       "  'city': {'id': 1, 'title': 'Moscow'},\n",
       "  'track_code': '3ff5beaeP8gnlm2R5gxk3O-j9o001WDbQGEgDSeg2sNUIGkX4TBSoymuB5LoATLYpC9rYI68E89ZbTdjQw'},\n",
       " '188447798': {'id': 188447798,\n",
       "  'first_name': 'Musa',\n",
       "  'last_name': 'Musin',\n",
       "  'can_access_closed': True,\n",
       "  'is_closed': False,\n",
       "  'sex': 2,\n",
       "  'bdate': '10.4',\n",
       "  'city': {'id': 169, 'title': 'Yaroslavl'},\n",
       "  'track_code': '26001bd6pBTkyeG3k1UZE1nBHzDa0cr62Nm2iP0c71lEkW6tBJbJf7z437GTXBsSFEyN3GC4ue7B1aHmmQ'},\n",
       " '196215366': {'id': 196215366,\n",
       "  'first_name': 'Darya',\n",
       "  'last_name': 'Korepina',\n",
       "  'can_access_closed': True,\n",
       "  'is_closed': False,\n",
       "  'sex': 1,\n",
       "  'bdate': '18.8',\n",
       "  'city': {'id': 1519, 'title': 'Gatchina'},\n",
       "  'track_code': '007a4a4fOrbbHlO3n4NCa29RUOOx9JX6tqQ1O24KT1pNblLBp31X3YB6PrWUjBU5IdjNAQud5u6vqCJVCg'},\n",
       " '201646125': {'id': 201646125,\n",
       "  'first_name': 'Oleg',\n",
       "  'last_name': 'Kislitsyn',\n",
       "  'can_access_closed': True,\n",
       "  'is_closed': False,\n",
       "  'sex': 2,\n",
       "  'bdate': '9.10.1966',\n",
       "  'city': {'id': 66, 'title': 'Kirov'},\n",
       "  'university': 555,\n",
       "  'university_name': 'ВятГУ (бывш. ВятГТУ, КирПИ)',\n",
       "  'faculty': 0,\n",
       "  'faculty_name': '',\n",
       "  'graduation': 0,\n",
       "  'relation': 4,\n",
       "  'relation_partner': {'id': 393598275,\n",
       "   'first_name': 'Irina',\n",
       "   'last_name': 'Kislitsyna'},\n",
       "  'track_code': '99f21705z2ERSyReOo5HMPI1SnJszXExImp57ShMYnN5APiWJgOiChlyHF04iBBmuL7Tk9akAiU7Zm6DTA'},\n",
       " '206316761': {'id': 206316761,\n",
       "  'first_name': 'Vlada',\n",
       "  'last_name': 'Borisova',\n",
       "  'can_access_closed': True,\n",
       "  'is_closed': False,\n",
       "  'sex': 1,\n",
       "  'bdate': '4.2.1998',\n",
       "  'city': {'id': 1, 'title': 'Moscow'},\n",
       "  'track_code': '0722d6e0lyI2hvLl7iGh4gaSgchPrVH4yphM9Qfjc9rbHHuMa6f6STywzrbmdvTkTR8cLfXEIuzTlFubYw'},\n",
       " '209882930': {'id': 209882930,\n",
       "  'first_name': 'Nikita',\n",
       "  'last_name': 'Komarov',\n",
       "  'can_access_closed': True,\n",
       "  'is_closed': False,\n",
       "  'sex': 2,\n",
       "  'bdate': '9.10.1997',\n",
       "  'university': 250,\n",
       "  'university_name': 'МГТУ им. Н. Э. Баумана',\n",
       "  'faculty': 1043,\n",
       "  'faculty_name': 'Факультет энергомашиностроения',\n",
       "  'graduation': 2020,\n",
       "  'education_form': 'Full-time',\n",
       "  'education_status': \"Alumnus (Bachelor's)\",\n",
       "  'relation': 4,\n",
       "  'track_code': '909690dd9rw9KaYMn1GEZ4lcV1Qh8U8Frw3v4oqhsvEqnummBeub12Ucmg6XCdptxd_PsJuYPBG2AfiM7g'},\n",
       " '211513644': {'id': 211513644,\n",
       "  'first_name': 'Roman',\n",
       "  'last_name': 'Sarychev',\n",
       "  'can_access_closed': True,\n",
       "  'is_closed': False,\n",
       "  'sex': 2,\n",
       "  'bdate': '13.7.1991',\n",
       "  'track_code': 'b1cdb976y26Psd1g3JgPJHMVL3E-hdhvjH0_qxqfvddqMrJxia2mBYDT7DaOmgp3P5mwkYTsq3uVcSjFfg'},\n",
       " '216174660': {'id': 216174660,\n",
       "  'first_name': 'Danila',\n",
       "  'last_name': 'Serezhenko',\n",
       "  'can_access_closed': True,\n",
       "  'is_closed': False,\n",
       "  'sex': 2,\n",
       "  'bdate': '6.5.1996',\n",
       "  'university': 250,\n",
       "  'university_name': 'МГТУ им. Н. Э. Баумана',\n",
       "  'faculty': 0,\n",
       "  'faculty_name': '',\n",
       "  'graduation': 0,\n",
       "  'relation': 2,\n",
       "  'relation_partner': {'id': 449813333,\n",
       "   'first_name': 'Elizaveta',\n",
       "   'last_name': 'Chenskaya'},\n",
       "  'track_code': '34a87eb4ZvVlDWWHMKXDmqRxTEFm7nPipWPTjoJsKjTvRHBEF0IIkj5fUu009ZOZE0TA3IJUGpGxet-Z7Ag'},\n",
       " '222702846': {'id': 222702846,\n",
       "  'first_name': 'Vladislav',\n",
       "  'last_name': 'Kulpin',\n",
       "  'can_access_closed': True,\n",
       "  'is_closed': False,\n",
       "  'sex': 2,\n",
       "  'track_code': '9f7d1674akFpW57B6SRijESGxBAKAalqe39qBy_ktOLvB87XJTwEJjoGrvviLmSK9rVGj-i7wBlvZmYQQYA'},\n",
       " '234628752': {'id': 234628752,\n",
       "  'first_name': 'Egor',\n",
       "  'last_name': 'Sizov',\n",
       "  'can_access_closed': True,\n",
       "  'is_closed': False,\n",
       "  'sex': 2,\n",
       "  'city': {'id': 859, 'title': 'Korolyov'},\n",
       "  'track_code': '827fdf02ScPrlOw15VY-LZiTJIr_PKi5c0OHkpjvj-9mW1kzjeonpOvH31ruBz4qKaqpFBmGwcpnWouF9os'},\n",
       " '277047973': {'id': 277047973,\n",
       "  'first_name': 'Dmitry',\n",
       "  'last_name': 'Kolomeychuk',\n",
       "  'can_access_closed': True,\n",
       "  'is_closed': False,\n",
       "  'sex': 2,\n",
       "  'track_code': '084caecfRIYCv03O0nTRSdTvNPHsoC-GBn1vwsP1_eHVhGfu67kq4VWyK_bQcdEYZdm3bQsaRvUSZGPVrZE'},\n",
       " '284432114': {'id': 284432114,\n",
       "  'first_name': 'Ilkin',\n",
       "  'last_name': 'Murtuzaev',\n",
       "  'can_access_closed': True,\n",
       "  'is_closed': False,\n",
       "  'sex': 2,\n",
       "  'bdate': '15.10',\n",
       "  'track_code': '33b1949eN5TXlMTv7y_mtPk0VyMgNSgJZfDcI3GWgFtnTigOBl9Z89fN_NPvJbe4TAfcucCPQXpx6dA0H_I'},\n",
       " '294852584': {'id': 294852584,\n",
       "  'first_name': 'Ilya',\n",
       "  'last_name': 'Shubin',\n",
       "  'can_access_closed': True,\n",
       "  'is_closed': False,\n",
       "  'sex': 2,\n",
       "  'city': {'id': 66, 'title': 'Kirov'},\n",
       "  'track_code': '6341988cZF7P51T1TbXuC7toM0oNALInn9oyv3s1WIYq4PNxZpIKOZvuMsRH7e4HCVu82e2621SLwz6oFVE'},\n",
       " '317918309': {'id': 317918309,\n",
       "  'first_name': 'Viktoria',\n",
       "  'last_name': 'Tsart',\n",
       "  'can_access_closed': True,\n",
       "  'is_closed': False,\n",
       "  'sex': 1,\n",
       "  'bdate': '26.4',\n",
       "  'city': {'id': 1, 'title': 'Moscow'},\n",
       "  'university': 0,\n",
       "  'university_name': '',\n",
       "  'faculty': 0,\n",
       "  'faculty_name': '',\n",
       "  'graduation': 0,\n",
       "  'relation': 0,\n",
       "  'track_code': 'c6f6354ebGjHZc2nsbMgDQjoJ9U3x_tIe9wq1t3Fe1lXNXDm9Q4CD5Fq-pa7sy4GsNGuTtp9kjtvxSbBs6E'},\n",
       " '322297391': {'id': 322297391,\n",
       "  'first_name': 'Alexander',\n",
       "  'last_name': 'Abramov',\n",
       "  'can_access_closed': True,\n",
       "  'is_closed': False,\n",
       "  'sex': 2,\n",
       "  'bdate': '25.12.1998',\n",
       "  'city': {'id': 1, 'title': 'Moscow'},\n",
       "  'university': 250,\n",
       "  'university_name': 'МГТУ им. Н. Э. Баумана',\n",
       "  'faculty': 1043,\n",
       "  'faculty_name': 'Факультет энергомашиностроения',\n",
       "  'graduation': 0,\n",
       "  'education_form': 'Full-time',\n",
       "  'education_status': 'Student (Specialist)',\n",
       "  'relation': 0,\n",
       "  'track_code': 'e317b618t-XLat9I749kYHBN-yczfTjin46RQ380VdYO5n86o1XZgp0zunXpizRgwntytdbHUZGLl51UEVA'},\n",
       " '325745051': {'id': 325745051,\n",
       "  'first_name': 'Darya',\n",
       "  'last_name': 'Morozova',\n",
       "  'can_access_closed': True,\n",
       "  'is_closed': False,\n",
       "  'sex': 1,\n",
       "  'bdate': '7.10',\n",
       "  'university': 250,\n",
       "  'university_name': 'МГТУ им. Н. Э. Баумана',\n",
       "  'faculty': 0,\n",
       "  'faculty_name': '',\n",
       "  'graduation': 0,\n",
       "  'relation': 0,\n",
       "  'track_code': 'cd20c964snucG-k5JD7LoCvsDlfeaUEObAQGAMf221ZqemmywQXcHM1D3gZ1aJ_0k9iEyTvTKH14HQoXqZI'},\n",
       " '328595920': {'id': 328595920,\n",
       "  'first_name': 'Eleonora',\n",
       "  'last_name': 'Kropaneva',\n",
       "  'can_access_closed': True,\n",
       "  'is_closed': False,\n",
       "  'sex': 1,\n",
       "  'city': {'id': 66, 'title': 'Kirov'},\n",
       "  'university': 554,\n",
       "  'university_name': 'ВятГГУ (бывш. ВГПУ)',\n",
       "  'faculty': 5187,\n",
       "  'faculty_name': 'Факультет информатики, математики и физики',\n",
       "  'graduation': 0,\n",
       "  'relation': 0,\n",
       "  'track_code': 'cb96cf24_9YcJXjcZx8b_u_OT7mGJtyqkXLWHpJ2Af5ivmfEIH6RsRstHLQ1HRP-W_rMIGKctdmFa9oJ_BI'},\n",
       " '355323293': {'id': 355323293,\n",
       "  'first_name': 'Georgy',\n",
       "  'last_name': 'Novikov',\n",
       "  'can_access_closed': True,\n",
       "  'is_closed': False,\n",
       "  'sex': 2,\n",
       "  'bdate': '1.8.1997',\n",
       "  'city': {'id': 66, 'title': 'Kirov'},\n",
       "  'university': 554,\n",
       "  'university_name': 'ВятГГУ (бывш. ВГПУ)',\n",
       "  'faculty': 5187,\n",
       "  'faculty_name': 'Факультет информатики, математики и физики',\n",
       "  'graduation': 0,\n",
       "  'relation': 0,\n",
       "  'track_code': '16fa877fU1W9Oa_lzPQGCuGidVZLmJ5fXKlobNtaP4NJaW9jE3c9MrhgntTJ8AsOXZD9xKwi9yxIsGR7tT4'},\n",
       " '357178840': {'id': 357178840,\n",
       "  'first_name': 'Rodion',\n",
       "  'last_name': 'Sokolov',\n",
       "  'can_access_closed': True,\n",
       "  'is_closed': False,\n",
       "  'sex': 2,\n",
       "  'bdate': '7.5.1998',\n",
       "  'city': {'id': 1, 'title': 'Moscow'},\n",
       "  'university': 250,\n",
       "  'university_name': 'МГТУ им. Н. Э. Баумана',\n",
       "  'faculty': 1043,\n",
       "  'faculty_name': 'Факультет энергомашиностроения',\n",
       "  'graduation': 0,\n",
       "  'relation': 0,\n",
       "  'track_code': '9ebcd9b73Ae3X4q7UC5iIWadiTtJ2ab5AbX8zxFzPz7WX67CfDayYLIAuoEBLW113qQLpK1jz4oVrPDYfxc'},\n",
       " '372963512': {'id': 372963512,\n",
       "  'first_name': 'Maria',\n",
       "  'last_name': 'Shubina',\n",
       "  'can_access_closed': True,\n",
       "  'is_closed': False,\n",
       "  'sex': 1,\n",
       "  'bdate': '29.11',\n",
       "  'city': {'id': 66, 'title': 'Kirov'},\n",
       "  'track_code': '0f5832e8Rn3X4DYTU_X4_oKb5hS9QVHE7Vjce1SEZMW5s7JasoIoGoW7ASJYoPL_JKlpjlv7OLf5QdBsOuA'},\n",
       " '381679010': {'id': 381679010,\n",
       "  'first_name': 'Ivan',\n",
       "  'last_name': 'Nekipelov',\n",
       "  'can_access_closed': True,\n",
       "  'is_closed': False,\n",
       "  'sex': 2,\n",
       "  'bdate': '27.9.1998',\n",
       "  'city': {'id': 1, 'title': 'Moscow'},\n",
       "  'track_code': '85f6c9fd5EOy_lNhC22Tf2Y-EVEHpXPEsDFcILIYjsjWnNRk5o-KJOL0MFENYsQswAaby-MfGrekKFA33Hw'},\n",
       " '393598275': {'id': 393598275,\n",
       "  'first_name': 'Irina',\n",
       "  'last_name': 'Kislitsyna',\n",
       "  'can_access_closed': True,\n",
       "  'is_closed': False,\n",
       "  'sex': 1,\n",
       "  'bdate': '8.7',\n",
       "  'city': {'id': 66, 'title': 'Kirov'},\n",
       "  'university': 555,\n",
       "  'university_name': 'ВятГУ (бывш. ВятГТУ, КирПИ)',\n",
       "  'faculty': 160158,\n",
       "  'faculty_name': 'Электротехнический факультет (Политехнический институт)',\n",
       "  'graduation': 1989,\n",
       "  'education_form': 'Full-time',\n",
       "  'relation': 4,\n",
       "  'relation_partner': {'id': 201646125,\n",
       "   'first_name': 'Oleg',\n",
       "   'last_name': 'Kislitsyn'},\n",
       "  'track_code': '589cc116vQyVc8b3DwDN2PUTpAbl96eqtBSVQPGbZOL1fg_2upXTa5d5ostfD53bXiosmgRNztmgDZlXn_8'},\n",
       " '402274728': {'id': 402274728,\n",
       "  'first_name': 'Ilya',\n",
       "  'last_name': 'Belikov',\n",
       "  'can_access_closed': True,\n",
       "  'is_closed': False,\n",
       "  'sex': 2,\n",
       "  'bdate': '13.5.2003',\n",
       "  'university': 0,\n",
       "  'university_name': '',\n",
       "  'faculty': 0,\n",
       "  'faculty_name': '',\n",
       "  'graduation': 0,\n",
       "  'relation': 0,\n",
       "  'track_code': '4177945cUojE4fCml2uvojCPm7wr84W2eiHq2iVn3qpII9NWS48875S7lJyWPqyilLoWJcdJ7MVuOObNSwM'},\n",
       " '404340085': {'id': 404340085,\n",
       "  'first_name': 'Dima',\n",
       "  'last_name': 'Martovsky',\n",
       "  'can_access_closed': True,\n",
       "  'is_closed': False,\n",
       "  'sex': 2,\n",
       "  'track_code': 'bd90edb3zJ_APBHt79ixfx7N3MdOpeuh5W2Lc3HUcZD17s7HLFSi-JE0Itzv3OF8vvxWVK8fgtLxdIdkH7A'},\n",
       " '439096650': {'id': 439096650,\n",
       "  'first_name': 'Sergey',\n",
       "  'last_name': 'Syutkin',\n",
       "  'can_access_closed': True,\n",
       "  'is_closed': False,\n",
       "  'sex': 2,\n",
       "  'bdate': '5.4.1974',\n",
       "  'city': {'id': 66, 'title': 'Kirov'},\n",
       "  'university': 0,\n",
       "  'university_name': '',\n",
       "  'faculty': 0,\n",
       "  'faculty_name': '',\n",
       "  'graduation': 0,\n",
       "  'relation': 4,\n",
       "  'track_code': '922d757emQVBPnrIu5lX23yz78kn775KWLlo-5aIas0c00fDxu33YkFtTfK8kl_T0IRjV8NV1zlMoGTs-Ow'},\n",
       " '441325882': {'id': 441325882,\n",
       "  'first_name': 'Sveta',\n",
       "  'last_name': 'Shulakova',\n",
       "  'can_access_closed': True,\n",
       "  'is_closed': False,\n",
       "  'sex': 1,\n",
       "  'bdate': '19.8.1974',\n",
       "  'city': {'id': 66, 'title': 'Kirov'},\n",
       "  'university': 0,\n",
       "  'university_name': '',\n",
       "  'faculty': 0,\n",
       "  'faculty_name': '',\n",
       "  'graduation': 0,\n",
       "  'relation': 0,\n",
       "  'track_code': 'efc690e7HsM_F-XUoiQ1LlTjfFvTq42JJVQZ5awGUav8cR_2mLxwpG8ah-yhKTEo8Nf-yDUR5PoxTRXywmI'},\n",
       " '478771085': {'id': 478771085,\n",
       "  'first_name': 'Andrey',\n",
       "  'last_name': 'Leushin',\n",
       "  'can_access_closed': True,\n",
       "  'is_closed': False,\n",
       "  'sex': 2,\n",
       "  'bdate': '14.12.1998',\n",
       "  'university': 250,\n",
       "  'university_name': 'МГТУ им. Н. Э. Баумана',\n",
       "  'faculty': 0,\n",
       "  'faculty_name': '',\n",
       "  'graduation': 0,\n",
       "  'relation': 0,\n",
       "  'track_code': '2fb703730kvy45ykOp3i4EFdd139DAE9eK17EynbjJwyB2wq9KO8LPftrs43nOvn7m39zhy2aE5stHcER78'},\n",
       " '480602029': {'id': 480602029,\n",
       "  'first_name': 'Igor',\n",
       "  'last_name': 'Ustsov',\n",
       "  'can_access_closed': True,\n",
       "  'is_closed': False,\n",
       "  'sex': 2,\n",
       "  'bdate': '3.9.1967',\n",
       "  'university': 0,\n",
       "  'university_name': '',\n",
       "  'faculty': 0,\n",
       "  'faculty_name': '',\n",
       "  'graduation': 0,\n",
       "  'relation': 0,\n",
       "  'track_code': 'da59c277VBUKK3at2qaI2v4Dqumt9kp21QlNKSqymEr-w29UT0w6clp0QpLcq4uIVzAgcEBMIwXBEEE-RNY'},\n",
       " '490312935': {'id': 490312935,\n",
       "  'first_name': 'Elizaveta',\n",
       "  'last_name': 'Skobyolkina',\n",
       "  'can_access_closed': True,\n",
       "  'is_closed': False,\n",
       "  'sex': 1,\n",
       "  'bdate': '3.3.2006',\n",
       "  'city': {'id': 66, 'title': 'Kirov'},\n",
       "  'track_code': '96ee343cyvtllsTF7elj2qCKwp7Oriu8Y9jYMQ42CNSr38RxkmiknDDNov-65WXYC7lBBi8UQs93wdQmYFI'},\n",
       " '532415000': {'id': 532415000,\n",
       "  'first_name': 'Remi',\n",
       "  'last_name': 'RENAUDIE',\n",
       "  'can_access_closed': True,\n",
       "  'is_closed': False,\n",
       "  'sex': 2,\n",
       "  'bdate': '17.12.1995',\n",
       "  'city': {'id': 320, 'title': 'Lyon'},\n",
       "  'university': 455582,\n",
       "  'university_name': 'Ecole centrale de Lyon',\n",
       "  'faculty': 2258867,\n",
       "  'faculty_name': '',\n",
       "  'graduation': 2019,\n",
       "  'education_form': 'Full-time',\n",
       "  'education_status': \"Alumnus (Master's)\",\n",
       "  'relation': 0,\n",
       "  'track_code': 'f1521a9bvYRcyeezK2eevw7EEsFaQcNoZf0ZAH15PlU54FEuJ-vT416Q1NwsYZq_ovCYWr77qhtx5BUXEx0'}}"
      ]
     },
     "execution_count": 10,
     "metadata": {},
     "output_type": "execute_result"
    }
   ],
   "source": [
    "# Словарь с вашими друзьями\n",
    "friends_temp"
   ]
  },
  {
   "cell_type": "code",
   "execution_count": 11,
   "metadata": {
    "ExecuteTime": {
     "end_time": "2022-05-18T16:28:49.218910Z",
     "start_time": "2022-05-18T16:28:49.216366Z"
    }
   },
   "outputs": [],
   "source": [
    "# Просто меняем строковый ключ на числовой\n",
    "friends = dict()\n",
    "for k in friends_temp.keys():\n",
    "    friends[int(k)] = friends_temp[k]"
   ]
  },
  {
   "cell_type": "code",
   "execution_count": 12,
   "metadata": {
    "ExecuteTime": {
     "end_time": "2022-05-18T16:28:51.169768Z",
     "start_time": "2022-05-18T16:28:51.165797Z"
    }
   },
   "outputs": [],
   "source": [
    "filepath = os.path.join(VK_DATA_FOLDER, 'common_friends_{}.json'.format(VKID))\n",
    "\n",
    "with open(filepath, 'r') as fin:\n",
    "    common_friends_temp = json.load(fin)"
   ]
  },
  {
   "cell_type": "code",
   "execution_count": 13,
   "metadata": {
    "ExecuteTime": {
     "end_time": "2022-05-18T16:28:52.017699Z",
     "start_time": "2022-05-18T16:28:51.979202Z"
    }
   },
   "outputs": [
    {
     "data": {
      "text/plain": [
       "{'397219': [2101914,\n",
       "  4732102,\n",
       "  22720249,\n",
       "  30878462,\n",
       "  42089630,\n",
       "  49118976,\n",
       "  52795085,\n",
       "  58261993,\n",
       "  65552805,\n",
       "  105843974,\n",
       "  107012941,\n",
       "  135883018,\n",
       "  137524812,\n",
       "  162154597,\n",
       "  234628752,\n",
       "  270343734,\n",
       "  530918279],\n",
       " '2101914': [397219,\n",
       "  12608978,\n",
       "  12980077,\n",
       "  22720249,\n",
       "  26372920,\n",
       "  42089630,\n",
       "  49118976,\n",
       "  51693292,\n",
       "  52795085,\n",
       "  69846342,\n",
       "  79400760,\n",
       "  89075283,\n",
       "  132948246,\n",
       "  134142687,\n",
       "  137524812,\n",
       "  185134165,\n",
       "  209882930,\n",
       "  216174660,\n",
       "  222702846,\n",
       "  357178840],\n",
       " '4732102': [397219,\n",
       "  22720249,\n",
       "  42089630,\n",
       "  49118976,\n",
       "  50752810,\n",
       "  65552805,\n",
       "  105843974,\n",
       "  137524812,\n",
       "  153755962,\n",
       "  162154597,\n",
       "  209882930,\n",
       "  222702846,\n",
       "  234628752],\n",
       " '10106209': [12980077, 21164327, 55786070, 66992343, 325745051],\n",
       " '11203942': [21164327,\n",
       "  25605760,\n",
       "  25637116,\n",
       "  58261523,\n",
       "  58261993,\n",
       "  62118936,\n",
       "  65256295,\n",
       "  66142595,\n",
       "  101897697,\n",
       "  105843974,\n",
       "  107012941,\n",
       "  111588514,\n",
       "  132948246,\n",
       "  162154597,\n",
       "  209882930,\n",
       "  216843111],\n",
       " '12980077': [2101914,\n",
       "  10106209,\n",
       "  15623958,\n",
       "  25085082,\n",
       "  25605760,\n",
       "  25637116,\n",
       "  26372920,\n",
       "  36313709,\n",
       "  38411341,\n",
       "  44683700,\n",
       "  50333297,\n",
       "  50752810,\n",
       "  51213941,\n",
       "  51693292,\n",
       "  55786070,\n",
       "  59291349,\n",
       "  65256295,\n",
       "  66917275,\n",
       "  66992343,\n",
       "  89138817,\n",
       "  93370269,\n",
       "  93883145,\n",
       "  98429003,\n",
       "  101897697,\n",
       "  105195895,\n",
       "  111588514,\n",
       "  132948246,\n",
       "  136901690,\n",
       "  138226638,\n",
       "  147118604,\n",
       "  150319735,\n",
       "  157914158,\n",
       "  162154597,\n",
       "  174030334,\n",
       "  180400759,\n",
       "  185808628,\n",
       "  216843111,\n",
       "  277047973,\n",
       "  325745051,\n",
       "  381679010,\n",
       "  478771085],\n",
       " '13568184': [66142595, 101897697, 105843974, 209882930],\n",
       " '17868720': [132585496, 138585690, 156657948, 480602029],\n",
       " '21164327': [10106209,\n",
       "  11203942,\n",
       "  25605760,\n",
       "  25637116,\n",
       "  38411341,\n",
       "  58261523,\n",
       "  58261993,\n",
       "  65256295,\n",
       "  66142595,\n",
       "  74225143,\n",
       "  101897697,\n",
       "  105843974,\n",
       "  107012941,\n",
       "  111588514,\n",
       "  132948246,\n",
       "  162154597,\n",
       "  209882930,\n",
       "  216843111],\n",
       " '22720249': [397219,\n",
       "  2101914,\n",
       "  4732102,\n",
       "  12608978,\n",
       "  30878462,\n",
       "  49118976,\n",
       "  65552805,\n",
       "  89075283,\n",
       "  137524812,\n",
       "  162154597,\n",
       "  209882930,\n",
       "  222702846,\n",
       "  530918279],\n",
       " '25085082': [12980077,\n",
       "  26372920,\n",
       "  36313709,\n",
       "  51213941,\n",
       "  55786070,\n",
       "  65256295,\n",
       "  66917275,\n",
       "  66992343,\n",
       "  79400760,\n",
       "  101897697,\n",
       "  136901690,\n",
       "  138226638,\n",
       "  150319735,\n",
       "  157914158,\n",
       "  174030334,\n",
       "  325745051],\n",
       " '25605760': [11203942,\n",
       "  12980077,\n",
       "  21164327,\n",
       "  25637116,\n",
       "  26372920,\n",
       "  37108120,\n",
       "  38411341,\n",
       "  39377152,\n",
       "  44683700,\n",
       "  50333297,\n",
       "  58261523,\n",
       "  58261993,\n",
       "  59291349,\n",
       "  62118936,\n",
       "  65256295,\n",
       "  66142595,\n",
       "  74225143,\n",
       "  87696728,\n",
       "  89138817,\n",
       "  93883145,\n",
       "  105843974,\n",
       "  107012941,\n",
       "  111588514,\n",
       "  132948246,\n",
       "  135883018,\n",
       "  162154597,\n",
       "  174030334,\n",
       "  180400759,\n",
       "  216843111,\n",
       "  277047973],\n",
       " '26372920': [2101914,\n",
       "  12980077,\n",
       "  25085082,\n",
       "  25605760,\n",
       "  25637116,\n",
       "  29565765,\n",
       "  31969674,\n",
       "  36313709,\n",
       "  37108120,\n",
       "  39377152,\n",
       "  44683700,\n",
       "  50752810,\n",
       "  51213941,\n",
       "  51693292,\n",
       "  55786070,\n",
       "  58261523,\n",
       "  58261993,\n",
       "  59291349,\n",
       "  65256295,\n",
       "  66917275,\n",
       "  66992343,\n",
       "  69846342,\n",
       "  74225143,\n",
       "  89138817,\n",
       "  98429003,\n",
       "  101897697,\n",
       "  105195895,\n",
       "  108905937,\n",
       "  131988117,\n",
       "  132948246,\n",
       "  136901690,\n",
       "  138226638,\n",
       "  147118604,\n",
       "  153463359,\n",
       "  162154597,\n",
       "  174030334,\n",
       "  180400759,\n",
       "  185313669,\n",
       "  185808628,\n",
       "  357178840,\n",
       "  381679010],\n",
       " '29008600': [12608978,\n",
       "  30878462,\n",
       "  33677821,\n",
       "  50752810,\n",
       "  52413596,\n",
       "  512368158,\n",
       "  532415000],\n",
       " '29565765': [26372920,\n",
       "  31969674,\n",
       "  39377152,\n",
       "  58261523,\n",
       "  58261993,\n",
       "  59291349,\n",
       "  69846342,\n",
       "  74225143,\n",
       "  89138817,\n",
       "  98429003,\n",
       "  131988117,\n",
       "  147118604,\n",
       "  153463359,\n",
       "  180400759,\n",
       "  185313669,\n",
       "  381679010],\n",
       " '36313709': [12980077,\n",
       "  25085082,\n",
       "  26372920,\n",
       "  51213941,\n",
       "  55786070,\n",
       "  66917275,\n",
       "  138226638,\n",
       "  157914158,\n",
       "  174030334],\n",
       " '37065111': [41570771,\n",
       "  41869880,\n",
       "  46229240,\n",
       "  49688800,\n",
       "  54674664,\n",
       "  59542958,\n",
       "  100606381,\n",
       "  101260685,\n",
       "  136658710,\n",
       "  143660399,\n",
       "  144721771,\n",
       "  170118838,\n",
       "  196215366,\n",
       "  201646125,\n",
       "  294852584,\n",
       "  321320754,\n",
       "  372963512,\n",
       "  393598275,\n",
       "  445811204],\n",
       " '37108120': [25605760,\n",
       "  25637116,\n",
       "  26372920,\n",
       "  38411341,\n",
       "  39377152,\n",
       "  44683700,\n",
       "  50333297,\n",
       "  50752810,\n",
       "  52130830,\n",
       "  58261523,\n",
       "  58261993,\n",
       "  59291349,\n",
       "  62118936,\n",
       "  65256295,\n",
       "  66142595,\n",
       "  74225143,\n",
       "  87696728,\n",
       "  89138817,\n",
       "  107012941,\n",
       "  111588514,\n",
       "  132948246,\n",
       "  135883018,\n",
       "  162154597,\n",
       "  216843111,\n",
       "  270343734,\n",
       "  277047973],\n",
       " '38411341': [12608978,\n",
       "  12980077,\n",
       "  21164327,\n",
       "  25605760,\n",
       "  30878462,\n",
       "  37108120,\n",
       "  39377152,\n",
       "  44683700,\n",
       "  50333297,\n",
       "  50752810,\n",
       "  51693292,\n",
       "  52795085,\n",
       "  55363199,\n",
       "  58261523,\n",
       "  58261993,\n",
       "  59291349,\n",
       "  62118936,\n",
       "  65256295,\n",
       "  69846342,\n",
       "  74225143,\n",
       "  84066939,\n",
       "  89138817,\n",
       "  93883145,\n",
       "  105843974,\n",
       "  107012941,\n",
       "  111588514,\n",
       "  132948246,\n",
       "  135883018,\n",
       "  147118604,\n",
       "  162154597,\n",
       "  180400759,\n",
       "  185313669,\n",
       "  185808628,\n",
       "  216843111,\n",
       "  234628752,\n",
       "  270343734,\n",
       "  277047973,\n",
       "  512368158],\n",
       " '39377152': [25605760,\n",
       "  25637116,\n",
       "  26372920,\n",
       "  29565765,\n",
       "  31969674,\n",
       "  37108120,\n",
       "  38411341,\n",
       "  44683700,\n",
       "  58261523,\n",
       "  58261993,\n",
       "  59291349,\n",
       "  62118936,\n",
       "  65256295,\n",
       "  69846342,\n",
       "  74225143,\n",
       "  87696728,\n",
       "  89138817,\n",
       "  107012941,\n",
       "  111588514,\n",
       "  117742490,\n",
       "  131988117,\n",
       "  132948246,\n",
       "  135883018,\n",
       "  153463359,\n",
       "  162154597,\n",
       "  185313669,\n",
       "  216843111,\n",
       "  277047973,\n",
       "  381679010],\n",
       " '41869880': [37065111, 41570771, 59542958, 101260685, 321320754, 372963512],\n",
       " '42089630': [397219,\n",
       "  2101914,\n",
       "  4732102,\n",
       "  65256295,\n",
       "  79400760,\n",
       "  93370269,\n",
       "  105843974,\n",
       "  135883018,\n",
       "  153755962,\n",
       "  162154597,\n",
       "  234628752],\n",
       " '43896274': [16345138,\n",
       "  55249755,\n",
       "  138585690,\n",
       "  149035118,\n",
       "  156657948,\n",
       "  441325882,\n",
       "  480602029,\n",
       "  490312935,\n",
       "  638406738],\n",
       " '44306981': [30878462,\n",
       "  33677821,\n",
       "  46229240,\n",
       "  50752810,\n",
       "  52413596,\n",
       "  137577482,\n",
       "  512368158,\n",
       "  532415000],\n",
       " '44683700': [12608978,\n",
       "  12980077,\n",
       "  25605760,\n",
       "  25637116,\n",
       "  26372920,\n",
       "  30878462,\n",
       "  33677821,\n",
       "  37108120,\n",
       "  38411341,\n",
       "  39377152,\n",
       "  50333297,\n",
       "  50752810,\n",
       "  52130830,\n",
       "  52413596,\n",
       "  52795085,\n",
       "  55363199,\n",
       "  58261523,\n",
       "  62118936,\n",
       "  65256295,\n",
       "  74225143,\n",
       "  84066939,\n",
       "  87696728,\n",
       "  89075283,\n",
       "  89138817,\n",
       "  93370269,\n",
       "  93883145,\n",
       "  105843974,\n",
       "  107012941,\n",
       "  111588514,\n",
       "  132948246,\n",
       "  135883018,\n",
       "  137577482,\n",
       "  147118604,\n",
       "  162154597,\n",
       "  180400759,\n",
       "  185313669,\n",
       "  185808628,\n",
       "  216843111,\n",
       "  277047973,\n",
       "  357178840],\n",
       " '49688800': [37065111, 41570771, 59542958, 97397557, 101260685],\n",
       " '50333297': [12980077,\n",
       "  25605760,\n",
       "  25637116,\n",
       "  37108120,\n",
       "  38411341,\n",
       "  44683700,\n",
       "  51693292,\n",
       "  52130830,\n",
       "  58261523,\n",
       "  58261993,\n",
       "  59291349,\n",
       "  62118936,\n",
       "  65256295,\n",
       "  87696728,\n",
       "  89075283,\n",
       "  89138817,\n",
       "  105843974,\n",
       "  107012941,\n",
       "  111588514,\n",
       "  132948246,\n",
       "  135883018,\n",
       "  147118604,\n",
       "  153463359,\n",
       "  162154597,\n",
       "  216843111,\n",
       "  277047973],\n",
       " '50752810': [4732102,\n",
       "  12608978,\n",
       "  12980077,\n",
       "  26372920,\n",
       "  29008600,\n",
       "  30878462,\n",
       "  33677821,\n",
       "  37108120,\n",
       "  38411341,\n",
       "  44306981,\n",
       "  44683700,\n",
       "  55363199,\n",
       "  58261523,\n",
       "  58261993,\n",
       "  62118936,\n",
       "  65256295,\n",
       "  74225143,\n",
       "  84066939,\n",
       "  87696728,\n",
       "  89075283,\n",
       "  89138817,\n",
       "  93370269,\n",
       "  93883145,\n",
       "  107012941,\n",
       "  111588514,\n",
       "  112125332,\n",
       "  132780448,\n",
       "  132948246,\n",
       "  137577482,\n",
       "  162154597,\n",
       "  185313669,\n",
       "  185808628,\n",
       "  206316761,\n",
       "  222702846,\n",
       "  322297391,\n",
       "  512368158,\n",
       "  532415000],\n",
       " '51213941': [12980077,\n",
       "  25085082,\n",
       "  26372920,\n",
       "  36313709,\n",
       "  66917275,\n",
       "  138226638,\n",
       "  150319735,\n",
       "  174030334],\n",
       " '51693292': [2101914,\n",
       "  12980077,\n",
       "  26372920,\n",
       "  38411341,\n",
       "  50333297,\n",
       "  65256295,\n",
       "  66992343,\n",
       "  89138817,\n",
       "  101897697,\n",
       "  108905937,\n",
       "  147118604,\n",
       "  161173906,\n",
       "  174030334,\n",
       "  216843111,\n",
       "  381679010],\n",
       " '52130830': [37108120,\n",
       "  44683700,\n",
       "  50333297,\n",
       "  58261523,\n",
       "  58261993,\n",
       "  87696728,\n",
       "  111588514,\n",
       "  132948246,\n",
       "  277047973],\n",
       " '52413596': [12608978,\n",
       "  29008600,\n",
       "  30878462,\n",
       "  33677821,\n",
       "  44306981,\n",
       "  44683700,\n",
       "  52130830,\n",
       "  58261993,\n",
       "  87696728,\n",
       "  117742490,\n",
       "  137577482,\n",
       "  176867509,\n",
       "  512368158],\n",
       " '54674664': [37065111,\n",
       "  59542958,\n",
       "  136658710,\n",
       "  144721771,\n",
       "  294852584,\n",
       "  321320754,\n",
       "  404340085],\n",
       " '55249755': [16345138,\n",
       "  43896274,\n",
       "  93715618,\n",
       "  138585690,\n",
       "  149035118,\n",
       "  156657948,\n",
       "  441325882,\n",
       "  480602029,\n",
       "  490312935,\n",
       "  638406738],\n",
       " '55786070': [10106209,\n",
       "  12980077,\n",
       "  25085082,\n",
       "  26372920,\n",
       "  36313709,\n",
       "  66917275,\n",
       "  89138817,\n",
       "  119583702,\n",
       "  157914158,\n",
       "  174030334,\n",
       "  325745051,\n",
       "  381679010],\n",
       " '58261523': [11203942,\n",
       "  21164327,\n",
       "  25605760,\n",
       "  25637116,\n",
       "  26372920,\n",
       "  29565765,\n",
       "  31969674,\n",
       "  37108120,\n",
       "  38411341,\n",
       "  39377152,\n",
       "  44683700,\n",
       "  50333297,\n",
       "  50752810,\n",
       "  52130830,\n",
       "  58261993,\n",
       "  59291349,\n",
       "  62118936,\n",
       "  65256295,\n",
       "  66142595,\n",
       "  69846342,\n",
       "  74225143,\n",
       "  87696728,\n",
       "  89138817,\n",
       "  107012941,\n",
       "  111588514,\n",
       "  117742490,\n",
       "  132948246,\n",
       "  135883018,\n",
       "  147118604,\n",
       "  162154597,\n",
       "  176867509,\n",
       "  216174660,\n",
       "  216843111,\n",
       "  234628752,\n",
       "  277047973],\n",
       " '58261993': [397219,\n",
       "  11203942,\n",
       "  21164327,\n",
       "  25605760,\n",
       "  25637116,\n",
       "  26372920,\n",
       "  29565765,\n",
       "  31969674,\n",
       "  37108120,\n",
       "  38411341,\n",
       "  39377152,\n",
       "  50333297,\n",
       "  50752810,\n",
       "  52130830,\n",
       "  52413596,\n",
       "  52795085,\n",
       "  58261523,\n",
       "  59291349,\n",
       "  62118936,\n",
       "  65256295,\n",
       "  66142595,\n",
       "  74225143,\n",
       "  87696728,\n",
       "  89138817,\n",
       "  93883145,\n",
       "  105843974,\n",
       "  107012941,\n",
       "  111588514,\n",
       "  117742490,\n",
       "  131988117,\n",
       "  132948246,\n",
       "  135883018,\n",
       "  147118604,\n",
       "  162154597,\n",
       "  176867509,\n",
       "  277047973],\n",
       " '59542958': [37065111,\n",
       "  41570771,\n",
       "  41869880,\n",
       "  49688800,\n",
       "  54674664,\n",
       "  93715618,\n",
       "  94946566,\n",
       "  97397557,\n",
       "  101260685,\n",
       "  136658710,\n",
       "  144721771,\n",
       "  284432114,\n",
       "  294852584,\n",
       "  321320754,\n",
       "  372963512],\n",
       " '65256295': [11203942,\n",
       "  12980077,\n",
       "  21164327,\n",
       "  25085082,\n",
       "  25605760,\n",
       "  25637116,\n",
       "  26372920,\n",
       "  30878462,\n",
       "  31969674,\n",
       "  37108120,\n",
       "  38411341,\n",
       "  39377152,\n",
       "  42089630,\n",
       "  44683700,\n",
       "  50333297,\n",
       "  50752810,\n",
       "  51693292,\n",
       "  58261523,\n",
       "  58261993,\n",
       "  59291349,\n",
       "  62118936,\n",
       "  66142595,\n",
       "  69846342,\n",
       "  74225143,\n",
       "  87696728,\n",
       "  89138817,\n",
       "  98429003,\n",
       "  105843974,\n",
       "  107012941,\n",
       "  111588514,\n",
       "  117742490,\n",
       "  131988117,\n",
       "  132948246,\n",
       "  135883018,\n",
       "  137524812,\n",
       "  153463359,\n",
       "  157914158,\n",
       "  162154597,\n",
       "  180400759,\n",
       "  216843111,\n",
       "  234628752,\n",
       "  277047973,\n",
       "  532415000],\n",
       " '66142595': [11203942,\n",
       "  13568184,\n",
       "  21164327,\n",
       "  25605760,\n",
       "  25637116,\n",
       "  37108120,\n",
       "  52795085,\n",
       "  58261523,\n",
       "  58261993,\n",
       "  62118936,\n",
       "  65256295,\n",
       "  74225143,\n",
       "  87696728,\n",
       "  101897697,\n",
       "  105843974,\n",
       "  107012941,\n",
       "  111588514,\n",
       "  132948246,\n",
       "  137524812,\n",
       "  162154597,\n",
       "  209882930,\n",
       "  216843111,\n",
       "  277047973],\n",
       " '69846342': [2101914,\n",
       "  25637116,\n",
       "  26372920,\n",
       "  29565765,\n",
       "  31969674,\n",
       "  38411341,\n",
       "  39377152,\n",
       "  52795085,\n",
       "  58261523,\n",
       "  59291349,\n",
       "  65256295,\n",
       "  74225143,\n",
       "  79400760,\n",
       "  93883145,\n",
       "  105843974,\n",
       "  111588514,\n",
       "  131988117,\n",
       "  147118604,\n",
       "  162154597,\n",
       "  209882930,\n",
       "  222702846,\n",
       "  270343734,\n",
       "  277047973,\n",
       "  381679010],\n",
       " '74225143': [12608978,\n",
       "  21164327,\n",
       "  25605760,\n",
       "  25637116,\n",
       "  26372920,\n",
       "  29565765,\n",
       "  31969674,\n",
       "  37108120,\n",
       "  38411341,\n",
       "  39377152,\n",
       "  44683700,\n",
       "  50752810,\n",
       "  58261523,\n",
       "  58261993,\n",
       "  62118936,\n",
       "  65256295,\n",
       "  66142595,\n",
       "  69846342,\n",
       "  84066939,\n",
       "  87696728,\n",
       "  89138817,\n",
       "  98429003,\n",
       "  101897697,\n",
       "  107012941,\n",
       "  108905937,\n",
       "  111588514,\n",
       "  132948246,\n",
       "  135883018,\n",
       "  162154597,\n",
       "  185808628,\n",
       "  206316761,\n",
       "  216843111,\n",
       "  222702846,\n",
       "  277047973,\n",
       "  381679010],\n",
       " '79400760': [2101914,\n",
       "  25085082,\n",
       "  31504498,\n",
       "  42089630,\n",
       "  69846342,\n",
       "  174030334,\n",
       "  185808628],\n",
       " '84066939': [38411341,\n",
       "  44683700,\n",
       "  50752810,\n",
       "  74225143,\n",
       "  93883145,\n",
       "  132948246,\n",
       "  162154597,\n",
       "  532415000],\n",
       " '85034026': [66917275],\n",
       " '87696728': [25605760,\n",
       "  25637116,\n",
       "  31969674,\n",
       "  37108120,\n",
       "  39377152,\n",
       "  44683700,\n",
       "  50333297,\n",
       "  50752810,\n",
       "  52130830,\n",
       "  52413596,\n",
       "  58261523,\n",
       "  58261993,\n",
       "  59291349,\n",
       "  62118936,\n",
       "  65256295,\n",
       "  66142595,\n",
       "  74225143,\n",
       "  89138817,\n",
       "  93370269,\n",
       "  93883145,\n",
       "  107012941,\n",
       "  111588514,\n",
       "  117742490,\n",
       "  132948246,\n",
       "  135883018,\n",
       "  147118604,\n",
       "  162154597,\n",
       "  176867509,\n",
       "  180400759,\n",
       "  216843111,\n",
       "  277047973],\n",
       " '89075283': [2101914,\n",
       "  12608978,\n",
       "  12980077,\n",
       "  22720249,\n",
       "  30878462,\n",
       "  33677821,\n",
       "  44683700,\n",
       "  50333297,\n",
       "  50752810,\n",
       "  93370269,\n",
       "  132780448,\n",
       "  132948246,\n",
       "  162154597,\n",
       "  322297391,\n",
       "  532415000],\n",
       " '93883145': [12980077,\n",
       "  25605760,\n",
       "  25637116,\n",
       "  30878462,\n",
       "  38411341,\n",
       "  44683700,\n",
       "  50752810,\n",
       "  52795085,\n",
       "  55363199,\n",
       "  58261993,\n",
       "  59291349,\n",
       "  69846342,\n",
       "  84066939,\n",
       "  87696728,\n",
       "  89138817,\n",
       "  98429003,\n",
       "  105843974,\n",
       "  132948246,\n",
       "  162154597,\n",
       "  180400759,\n",
       "  185313669,\n",
       "  185808628,\n",
       "  209882930,\n",
       "  216843111,\n",
       "  234628752,\n",
       "  270343734,\n",
       "  277047973,\n",
       "  357178840],\n",
       " '94946566': [46229240, 59542958, 93715618, 321320754],\n",
       " '98429003': [12980077,\n",
       "  26372920,\n",
       "  29565765,\n",
       "  31969674,\n",
       "  59291349,\n",
       "  65256295,\n",
       "  74225143,\n",
       "  93883145,\n",
       "  108905937,\n",
       "  131988117,\n",
       "  132948246,\n",
       "  147118604,\n",
       "  153463359,\n",
       "  161173906,\n",
       "  162154597,\n",
       "  174030334,\n",
       "  180400759,\n",
       "  185313669,\n",
       "  185808628,\n",
       "  357178840,\n",
       "  381679010],\n",
       " '100252914': [33677821, 137577482, 512368158],\n",
       " '100606381': [37065111, 46229240, 372963512, 393598275],\n",
       " '101260685': [37065111,\n",
       "  41570771,\n",
       "  41869880,\n",
       "  49688800,\n",
       "  59542958,\n",
       "  97397557,\n",
       "  196215366,\n",
       "  317918309,\n",
       "  372963512],\n",
       " '101897697': [11203942,\n",
       "  12980077,\n",
       "  13568184,\n",
       "  15623958,\n",
       "  21164327,\n",
       "  25085082,\n",
       "  26372920,\n",
       "  51693292,\n",
       "  62118936,\n",
       "  66142595,\n",
       "  74225143,\n",
       "  111588514,\n",
       "  136508404,\n",
       "  137524812,\n",
       "  206316761,\n",
       "  209882930],\n",
       " '105195895': [12980077, 26372920, 66917275, 157914158, 174030334, 325745051],\n",
       " '105843974': [397219,\n",
       "  4732102,\n",
       "  11203942,\n",
       "  13568184,\n",
       "  21164327,\n",
       "  25605760,\n",
       "  38411341,\n",
       "  42089630,\n",
       "  44683700,\n",
       "  50333297,\n",
       "  52795085,\n",
       "  58261993,\n",
       "  62118936,\n",
       "  65256295,\n",
       "  66142595,\n",
       "  69846342,\n",
       "  89138817,\n",
       "  93883145,\n",
       "  107012941,\n",
       "  111588514,\n",
       "  132948246,\n",
       "  135883018,\n",
       "  137524812,\n",
       "  162154597,\n",
       "  180400759,\n",
       "  185808628,\n",
       "  209882930,\n",
       "  216843111,\n",
       "  234628752,\n",
       "  270343734,\n",
       "  277047973],\n",
       " '107012941': [397219,\n",
       "  11203942,\n",
       "  21164327,\n",
       "  25605760,\n",
       "  25637116,\n",
       "  30878462,\n",
       "  33677821,\n",
       "  37108120,\n",
       "  38411341,\n",
       "  39377152,\n",
       "  44683700,\n",
       "  50333297,\n",
       "  50752810,\n",
       "  52795085,\n",
       "  58261523,\n",
       "  58261993,\n",
       "  59291349,\n",
       "  62118936,\n",
       "  65256295,\n",
       "  66142595,\n",
       "  74225143,\n",
       "  87696728,\n",
       "  89138817,\n",
       "  105843974,\n",
       "  111588514,\n",
       "  131988117,\n",
       "  132948246,\n",
       "  135883018,\n",
       "  153463359,\n",
       "  162154597,\n",
       "  180400759,\n",
       "  216843111,\n",
       "  234628752,\n",
       "  270343734,\n",
       "  277047973],\n",
       " '108905937': [26372920,\n",
       "  31969674,\n",
       "  51693292,\n",
       "  59291349,\n",
       "  74225143,\n",
       "  98429003,\n",
       "  131988117,\n",
       "  147118604,\n",
       "  153463359,\n",
       "  161173906,\n",
       "  172577430,\n",
       "  185313669,\n",
       "  381679010],\n",
       " '111578056': [],\n",
       " '111588514': [11203942,\n",
       "  12980077,\n",
       "  15623958,\n",
       "  21164327,\n",
       "  25605760,\n",
       "  25637116,\n",
       "  37108120,\n",
       "  38411341,\n",
       "  39377152,\n",
       "  44683700,\n",
       "  50333297,\n",
       "  50752810,\n",
       "  52130830,\n",
       "  58261523,\n",
       "  58261993,\n",
       "  59291349,\n",
       "  62118936,\n",
       "  65256295,\n",
       "  66142595,\n",
       "  66917275,\n",
       "  69846342,\n",
       "  74225143,\n",
       "  87696728,\n",
       "  89138817,\n",
       "  101897697,\n",
       "  105843974,\n",
       "  107012941,\n",
       "  117742490,\n",
       "  131988117,\n",
       "  132948246,\n",
       "  135883018,\n",
       "  138226638,\n",
       "  147118604,\n",
       "  162154597,\n",
       "  180400759,\n",
       "  216843111,\n",
       "  270343734,\n",
       "  277047973,\n",
       "  532415000],\n",
       " '112125332': [50752810, 132948246, 162154597],\n",
       " '117742490': [39377152,\n",
       "  52413596,\n",
       "  58261523,\n",
       "  58261993,\n",
       "  59291349,\n",
       "  65256295,\n",
       "  87696728,\n",
       "  111588514,\n",
       "  132948246,\n",
       "  162154597,\n",
       "  176867509],\n",
       " '119583702': [55786070, 138226638, 157914158, 325745051],\n",
       " '132585496': [17868720, 138585690, 480602029],\n",
       " '132780448': [12608978,\n",
       "  31504498,\n",
       "  50752810,\n",
       "  89075283,\n",
       "  93370269,\n",
       "  132948246,\n",
       "  162154597,\n",
       "  322297391,\n",
       "  357178840],\n",
       " '134142687': [2101914],\n",
       " '135883018': [397219,\n",
       "  25605760,\n",
       "  37108120,\n",
       "  38411341,\n",
       "  39377152,\n",
       "  42089630,\n",
       "  44683700,\n",
       "  50333297,\n",
       "  52795085,\n",
       "  58261523,\n",
       "  58261993,\n",
       "  59291349,\n",
       "  62118936,\n",
       "  65256295,\n",
       "  74225143,\n",
       "  87696728,\n",
       "  89138817,\n",
       "  105843974,\n",
       "  107012941,\n",
       "  111588514,\n",
       "  132948246,\n",
       "  153755962,\n",
       "  162154597,\n",
       "  216843111,\n",
       "  234628752,\n",
       "  277047973],\n",
       " '136508404': [101897697],\n",
       " '136658710': [37065111,\n",
       "  41570771,\n",
       "  54674664,\n",
       "  59542958,\n",
       "  144721771,\n",
       "  294852584,\n",
       "  321320754],\n",
       " '136901690': [12980077, 25085082, 26372920, 66992343, 174030334],\n",
       " '137524812': [397219,\n",
       "  2101914,\n",
       "  4732102,\n",
       "  22720249,\n",
       "  49118976,\n",
       "  65256295,\n",
       "  66142595,\n",
       "  101897697,\n",
       "  105843974,\n",
       "  209882930,\n",
       "  222702846,\n",
       "  530918279],\n",
       " '137577482': [12608978,\n",
       "  30878462,\n",
       "  33677821,\n",
       "  44306981,\n",
       "  44683700,\n",
       "  50752810,\n",
       "  52413596,\n",
       "  100252914,\n",
       "  512368158],\n",
       " '138226638': [12980077,\n",
       "  25085082,\n",
       "  26372920,\n",
       "  36313709,\n",
       "  51213941,\n",
       "  66917275,\n",
       "  111588514,\n",
       "  119583702,\n",
       "  157914158,\n",
       "  174030334,\n",
       "  325745051,\n",
       "  381679010],\n",
       " '138585690': [17868720,\n",
       "  43896274,\n",
       "  55249755,\n",
       "  132585496,\n",
       "  156657948,\n",
       "  441325882,\n",
       "  480602029,\n",
       "  638406738],\n",
       " '143660399': [37065111, 41570771, 149408932, 151250371, 196215366, 372963512],\n",
       " '144721771': [33677821,\n",
       "  37065111,\n",
       "  54674664,\n",
       "  59542958,\n",
       "  136658710,\n",
       "  294852584,\n",
       "  321320754,\n",
       "  445811204],\n",
       " '147118604': [12980077,\n",
       "  25637116,\n",
       "  26372920,\n",
       "  29565765,\n",
       "  31969674,\n",
       "  38411341,\n",
       "  44683700,\n",
       "  50333297,\n",
       "  51693292,\n",
       "  58261523,\n",
       "  58261993,\n",
       "  59291349,\n",
       "  69846342,\n",
       "  87696728,\n",
       "  98429003,\n",
       "  108905937,\n",
       "  111588514,\n",
       "  131988117,\n",
       "  153463359,\n",
       "  180400759,\n",
       "  277047973,\n",
       "  381679010],\n",
       " '149408932': [143660399, 151250371],\n",
       " '153463359': [26372920,\n",
       "  29565765,\n",
       "  31969674,\n",
       "  39377152,\n",
       "  50333297,\n",
       "  59291349,\n",
       "  65256295,\n",
       "  98429003,\n",
       "  107012941,\n",
       "  108905937,\n",
       "  131988117,\n",
       "  147118604,\n",
       "  180400759,\n",
       "  185313669,\n",
       "  381679010],\n",
       " '153755962': [4732102, 42089630, 135883018, 162154597],\n",
       " '156657948': [17868720,\n",
       "  43896274,\n",
       "  55249755,\n",
       "  138585690,\n",
       "  149035118,\n",
       "  441325882,\n",
       "  480602029,\n",
       "  638406738],\n",
       " '157914158': [12980077,\n",
       "  25085082,\n",
       "  36313709,\n",
       "  55786070,\n",
       "  65256295,\n",
       "  66917275,\n",
       "  105195895,\n",
       "  119583702,\n",
       "  138226638,\n",
       "  174030334,\n",
       "  325745051],\n",
       " '161173906': [25637116,\n",
       "  51693292,\n",
       "  55363199,\n",
       "  59291349,\n",
       "  98429003,\n",
       "  108905937,\n",
       "  381679010],\n",
       " '162154597': [397219,\n",
       "  4732102,\n",
       "  11203942,\n",
       "  12608978,\n",
       "  12980077,\n",
       "  21164327,\n",
       "  22720249,\n",
       "  25605760,\n",
       "  25637116,\n",
       "  26372920,\n",
       "  30878462,\n",
       "  37108120,\n",
       "  38411341,\n",
       "  39377152,\n",
       "  42089630,\n",
       "  44683700,\n",
       "  50333297,\n",
       "  50752810,\n",
       "  52795085,\n",
       "  55363199,\n",
       "  58261523,\n",
       "  58261993,\n",
       "  59291349,\n",
       "  62118936,\n",
       "  65256295,\n",
       "  66142595,\n",
       "  69846342,\n",
       "  74225143,\n",
       "  84066939,\n",
       "  87696728,\n",
       "  89075283,\n",
       "  89138817,\n",
       "  93370269,\n",
       "  93883145,\n",
       "  98429003,\n",
       "  105843974,\n",
       "  107012941,\n",
       "  111588514,\n",
       "  112125332,\n",
       "  117742490,\n",
       "  132780448,\n",
       "  132948246,\n",
       "  135883018,\n",
       "  153755962,\n",
       "  180400759,\n",
       "  185808628,\n",
       "  209882930,\n",
       "  216843111,\n",
       "  234628752,\n",
       "  270343734,\n",
       "  277047973,\n",
       "  357178840],\n",
       " '170118838': [37065111, 46229240],\n",
       " '172577430': [108905937],\n",
       " '174030334': [12980077,\n",
       "  25085082,\n",
       "  25605760,\n",
       "  26372920,\n",
       "  36313709,\n",
       "  51213941,\n",
       "  51693292,\n",
       "  55786070,\n",
       "  66917275,\n",
       "  66992343,\n",
       "  79400760,\n",
       "  98429003,\n",
       "  105195895,\n",
       "  136901690,\n",
       "  138226638,\n",
       "  150319735,\n",
       "  157914158,\n",
       "  180400759,\n",
       "  216843111],\n",
       " '176867509': [52413596, 58261523, 58261993, 87696728, 117742490],\n",
       " '185134165': [2101914],\n",
       " '185313669': [26372920,\n",
       "  29565765,\n",
       "  31969674,\n",
       "  38411341,\n",
       "  39377152,\n",
       "  44683700,\n",
       "  50752810,\n",
       "  59291349,\n",
       "  93883145,\n",
       "  98429003,\n",
       "  108905937,\n",
       "  131988117,\n",
       "  153463359,\n",
       "  180400759,\n",
       "  381679010],\n",
       " '188447798': [41570771, 59542958],\n",
       " '196215366': [37065111, 41570771, 101260685, 143660399, 321320754, 372963512],\n",
       " '201646125': [37065111, 393598275],\n",
       " '206316761': [50752810, 74225143, 101897697, 132948246],\n",
       " '209882930': [2101914,\n",
       "  4732102,\n",
       "  11203942,\n",
       "  13568184,\n",
       "  21164327,\n",
       "  22720249,\n",
       "  52795085,\n",
       "  62118936,\n",
       "  66142595,\n",
       "  69846342,\n",
       "  89138817,\n",
       "  93883145,\n",
       "  101897697,\n",
       "  105843974,\n",
       "  132948246,\n",
       "  137524812,\n",
       "  162154597,\n",
       "  185808628,\n",
       "  216843111,\n",
       "  234628752,\n",
       "  270343734,\n",
       "  277047973,\n",
       "  322297391],\n",
       " '211513644': [],\n",
       " '216174660': [2101914, 58261523],\n",
       " '222702846': [2101914,\n",
       "  4732102,\n",
       "  22720249,\n",
       "  50752810,\n",
       "  69846342,\n",
       "  74225143,\n",
       "  89138817,\n",
       "  137524812],\n",
       " '234628752': [397219,\n",
       "  4732102,\n",
       "  38411341,\n",
       "  42089630,\n",
       "  52795085,\n",
       "  58261523,\n",
       "  62118936,\n",
       "  65256295,\n",
       "  93883145,\n",
       "  105843974,\n",
       "  107012941,\n",
       "  132948246,\n",
       "  135883018,\n",
       "  162154597,\n",
       "  180400759,\n",
       "  185808628,\n",
       "  209882930,\n",
       "  270343734,\n",
       "  277047973],\n",
       " '277047973': [12980077,\n",
       "  25605760,\n",
       "  25637116,\n",
       "  37108120,\n",
       "  38411341,\n",
       "  39377152,\n",
       "  41330909,\n",
       "  44683700,\n",
       "  50333297,\n",
       "  52130830,\n",
       "  52795085,\n",
       "  58261523,\n",
       "  58261993,\n",
       "  59291349,\n",
       "  62118936,\n",
       "  65256295,\n",
       "  66142595,\n",
       "  69846342,\n",
       "  74225143,\n",
       "  87696728,\n",
       "  89138817,\n",
       "  93883145,\n",
       "  105843974,\n",
       "  107012941,\n",
       "  111588514,\n",
       "  132948246,\n",
       "  135883018,\n",
       "  147118604,\n",
       "  162154597,\n",
       "  180400759,\n",
       "  185808628,\n",
       "  209882930,\n",
       "  216843111,\n",
       "  234628752,\n",
       "  270343734],\n",
       " '284432114': [59542958],\n",
       " '294852584': [37065111,\n",
       "  54674664,\n",
       "  59542958,\n",
       "  136658710,\n",
       "  144721771,\n",
       "  321320754,\n",
       "  445811204],\n",
       " '317918309': [101260685, 402274728],\n",
       " '322297391': [12608978,\n",
       "  50752810,\n",
       "  89075283,\n",
       "  93370269,\n",
       "  132780448,\n",
       "  209882930,\n",
       "  357178840],\n",
       " '325745051': [10106209,\n",
       "  12980077,\n",
       "  25085082,\n",
       "  55786070,\n",
       "  66917275,\n",
       "  66992343,\n",
       "  105195895,\n",
       "  119583702,\n",
       "  138226638,\n",
       "  150319735,\n",
       "  157914158],\n",
       " '328595920': [59542958],\n",
       " '355323293': [],\n",
       " '357178840': [2101914,\n",
       "  26372920,\n",
       "  31504498,\n",
       "  44683700,\n",
       "  62118936,\n",
       "  89138817,\n",
       "  93883145,\n",
       "  98429003,\n",
       "  132780448,\n",
       "  132948246,\n",
       "  162154597,\n",
       "  322297391],\n",
       " '372963512': [37065111,\n",
       "  41570771,\n",
       "  41869880,\n",
       "  59542958,\n",
       "  100606381,\n",
       "  101260685,\n",
       "  143660399,\n",
       "  154187167,\n",
       "  196215366],\n",
       " '381679010': [12980077,\n",
       "  25637116,\n",
       "  26372920,\n",
       "  29565765,\n",
       "  31969674,\n",
       "  39377152,\n",
       "  51693292,\n",
       "  55786070,\n",
       "  59291349,\n",
       "  69846342,\n",
       "  74225143,\n",
       "  98429003,\n",
       "  108905937,\n",
       "  131988117,\n",
       "  138226638,\n",
       "  147118604,\n",
       "  153463359,\n",
       "  161173906,\n",
       "  180400759,\n",
       "  185313669],\n",
       " '393598275': [37065111, 100606381, 201646125],\n",
       " '402274728': [317918309],\n",
       " '404340085': [54674664, 321320754],\n",
       " '439096650': [321320754],\n",
       " '441325882': [16345138,\n",
       "  43896274,\n",
       "  55249755,\n",
       "  138585690,\n",
       "  149035118,\n",
       "  156657948,\n",
       "  480602029,\n",
       "  638406738,\n",
       "  695211444],\n",
       " '478771085': [12980077, 66992343],\n",
       " '480602029': [17868720,\n",
       "  43896274,\n",
       "  55249755,\n",
       "  132585496,\n",
       "  138585690,\n",
       "  156657948,\n",
       "  441325882],\n",
       " '490312935': [43896274, 55249755, 149035118],\n",
       " '532415000': [12608978,\n",
       "  29008600,\n",
       "  33677821,\n",
       "  44306981,\n",
       "  50752810,\n",
       "  65256295,\n",
       "  84066939,\n",
       "  89075283,\n",
       "  111588514,\n",
       "  512368158]}"
      ]
     },
     "execution_count": 13,
     "metadata": {},
     "output_type": "execute_result"
    }
   ],
   "source": [
    "# Словарь с общими друзьями между вами и вашими друзьями\n",
    "common_friends_temp"
   ]
  },
  {
   "cell_type": "code",
   "execution_count": 14,
   "metadata": {
    "ExecuteTime": {
     "end_time": "2022-05-18T16:28:52.628937Z",
     "start_time": "2022-05-18T16:28:52.625905Z"
    }
   },
   "outputs": [],
   "source": [
    "# Просто меняем строковый ключ на числовой\n",
    "common_friends = dict()\n",
    "for k in common_friends_temp.keys():\n",
    "    common_friends[int(k)] = common_friends_temp[k]"
   ]
  },
  {
   "cell_type": "code",
   "execution_count": 15,
   "metadata": {
    "ExecuteTime": {
     "end_time": "2022-05-18T16:28:53.410521Z",
     "start_time": "2022-05-18T16:28:53.407167Z"
    }
   },
   "outputs": [],
   "source": [
    "g = nx.Graph()"
   ]
  },
  {
   "cell_type": "code",
   "execution_count": 16,
   "metadata": {
    "ExecuteTime": {
     "end_time": "2022-05-18T16:28:53.983517Z",
     "start_time": "2022-05-18T16:28:53.979381Z"
    }
   },
   "outputs": [],
   "source": [
    "# Делаем список из пар (vkid, словарь с характеристиками)\n",
    "\n",
    "g.add_nodes_from((fid, {'sex': friend.get('sex', '-1'), \n",
    "                        'first_name': friend.get('first_name', '-1'), \n",
    "                        'last_name': friend.get('last_name', '-1'), \n",
    "                        'university_name': friend.get('university_name', '-1')}) for fid, friend in friends.items())"
   ]
  },
  {
   "cell_type": "code",
   "execution_count": 17,
   "metadata": {
    "ExecuteTime": {
     "end_time": "2022-05-18T16:28:55.342887Z",
     "start_time": "2022-05-18T16:28:55.332553Z"
    }
   },
   "outputs": [
    {
     "data": {
      "text/plain": [
       "119"
      ]
     },
     "execution_count": 17,
     "metadata": {},
     "output_type": "execute_result"
    }
   ],
   "source": [
    "g.number_of_nodes()"
   ]
  },
  {
   "cell_type": "code",
   "execution_count": 18,
   "metadata": {
    "ExecuteTime": {
     "end_time": "2022-05-18T16:28:55.855956Z",
     "start_time": "2022-05-18T16:28:55.849166Z"
    }
   },
   "outputs": [],
   "source": [
    "# Делаем список из пар (vkid1, vkid2)\n",
    "g.add_edges_from((f1, f2) for f1, f_list in common_friends.items() for f2 in f_list)"
   ]
  },
  {
   "cell_type": "code",
   "execution_count": 19,
   "metadata": {
    "ExecuteTime": {
     "end_time": "2022-05-18T16:28:56.445096Z",
     "start_time": "2022-05-18T16:28:56.441479Z"
    }
   },
   "outputs": [
    {
     "data": {
      "text/plain": [
       "997"
      ]
     },
     "execution_count": 19,
     "metadata": {},
     "output_type": "execute_result"
    }
   ],
   "source": [
    "g.number_of_edges()"
   ]
  },
  {
   "cell_type": "code",
   "execution_count": 20,
   "metadata": {
    "ExecuteTime": {
     "end_time": "2022-05-18T16:28:57.745083Z",
     "start_time": "2022-05-18T16:28:56.925666Z"
    }
   },
   "outputs": [
    {
     "data": {
      "image/png": "[encoded data removed]",
      "text/plain": [
       "<Figure size 864x576 with 1 Axes>"
      ]
     },
     "metadata": {},
     "output_type": "display_data"
    }
   ],
   "source": [
    "nx.draw_kamada_kawai(g)"
   ]
  },
  {
   "cell_type": "code",
   "execution_count": 21,
   "metadata": {
    "ExecuteTime": {
     "end_time": "2022-05-18T16:29:00.923257Z",
     "start_time": "2022-05-18T16:29:00.841028Z"
    }
   },
   "outputs": [],
   "source": [
    "nx.write_graphml(g, 'vk_graph.graphml')"
   ]
  },
  {
   "cell_type": "markdown",
   "metadata": {},
   "source": [
    "Попробуем открыть это дело в gephi!"
   ]
  },
  {
   "cell_type": "markdown",
   "metadata": {},
   "source": [
    "##  Поиск и вывод наиболее значимых вершин в вашей сети"
   ]
  },
  {
   "cell_type": "code",
   "execution_count": null,
   "metadata": {
    "ExecuteTime": {
     "end_time": "2022-05-18T14:22:59.787419Z",
     "start_time": "2022-05-18T14:22:59.783118Z"
    }
   },
   "outputs": [],
   "source": [
    "btw = nx"
   ]
  },
  {
   "cell_type": "code",
   "execution_count": null,
   "metadata": {
    "ExecuteTime": {
     "end_time": "2022-05-18T14:22:59.796493Z",
     "start_time": "2022-05-18T14:22:59.792709Z"
    }
   },
   "outputs": [],
   "source": [
    "btw"
   ]
  },
  {
   "cell_type": "markdown",
   "metadata": {},
   "source": [
    "## Выявление сообществ с помощью спектральной на матрице схожести\n",
    "* Загрузим граф из `nested_partition.gml`. Это граф, построенный с помощью [генератора](https://sites.google.com/view/santofortunato/inthepress2) Benchmark сетей для тестов алгоритмов выявления сообществ.\n",
    "* Визуализируем матрицу смежности графа с помощью метода `plt.spy(A)` (и саму сеть, если получится)\n",
    "* Рассчитаем реализованные в `nexworkx` меры схожести вершин\n",
    "\n",
    "По большому счету, полученные схожести можно подавать на вход любому алгоритму кластеризации, который изначально может работать со мерами близости (например аггломеративная кластеризация)"
   ]
  },
  {
   "cell_type": "code",
   "execution_count": null,
   "metadata": {
    "ExecuteTime": {
     "end_time": "2022-05-18T14:22:59.849231Z",
     "start_time": "2022-05-18T14:22:59.797773Z"
    }
   },
   "outputs": [],
   "source": [
    "g = nx.read_gml('./data/nested_partition.gml', label='id')"
   ]
  },
  {
   "cell_type": "code",
   "execution_count": null,
   "metadata": {
    "ExecuteTime": {
     "end_time": "2022-05-18T14:22:59.854614Z",
     "start_time": "2022-05-18T14:22:59.850170Z"
    }
   },
   "outputs": [],
   "source": [
    "g.number_of_nodes()"
   ]
  },
  {
   "cell_type": "code",
   "execution_count": null,
   "metadata": {
    "ExecuteTime": {
     "end_time": "2022-05-18T14:22:59.984274Z",
     "start_time": "2022-05-18T14:22:59.859751Z"
    }
   },
   "outputs": [],
   "source": [
    "A = nx.adj_matrix(g)\n",
    "plt.spy(A, markersize=2)"
   ]
  },
  {
   "cell_type": "code",
   "execution_count": null,
   "metadata": {
    "ExecuteTime": {
     "end_time": "2022-05-18T14:23:00.166540Z",
     "start_time": "2022-05-18T14:22:59.985524Z"
    }
   },
   "outputs": [],
   "source": [
    "# Что бы мы увидили в реальной жизни\n",
    "idx = np.random.permutation(range(128))\n",
    "i = np.ix_(idx, idx)\n",
    "plt.spy(A[i], markersize=2)"
   ]
  },
  {
   "cell_type": "code",
   "execution_count": null,
   "metadata": {
    "ExecuteTime": {
     "end_time": "2022-05-18T14:23:00.312615Z",
     "start_time": "2022-05-18T14:23:00.170234Z"
    }
   },
   "outputs": [],
   "source": [
    "# Все положительные похожести по Жаккару\n",
    "jac = nx.jaccard_coefficient(g)\n",
    "jac = np.array(list(jac))"
   ]
  },
  {
   "cell_type": "code",
   "execution_count": null,
   "metadata": {
    "ExecuteTime": {
     "end_time": "2022-05-18T14:23:00.318532Z",
     "start_time": "2022-05-18T14:23:00.313586Z"
    }
   },
   "outputs": [],
   "source": [
    "jac"
   ]
  },
  {
   "cell_type": "code",
   "execution_count": null,
   "metadata": {
    "ExecuteTime": {
     "end_time": "2022-05-18T14:23:00.330374Z",
     "start_time": "2022-05-18T14:23:00.323790Z"
    }
   },
   "outputs": [],
   "source": [
    "# Немного магии, чтобы получить из этого матрицу попарных СХОЖЕСТЕЙ по жаккару\n",
    "from scipy.sparse import coo_matrix\n",
    "\n",
    "# Переводим все в формат разреженной матрицы\n",
    "D = coo_matrix((jac[:,2], (jac[:,0], jac[:,1])), shape=(128,128))\n",
    "\n",
    "# Делаем ее симметричной\n",
    "D = D+D.T"
   ]
  },
  {
   "cell_type": "code",
   "execution_count": null,
   "metadata": {
    "ExecuteTime": {
     "end_time": "2022-05-18T14:23:00.444862Z",
     "start_time": "2022-05-18T14:23:00.331449Z"
    }
   },
   "outputs": [],
   "source": [
    "plt.imshow(D.toarray())"
   ]
  },
  {
   "cell_type": "code",
   "execution_count": null,
   "metadata": {
    "ExecuteTime": {
     "end_time": "2022-05-18T14:23:01.320181Z",
     "start_time": "2022-05-18T14:23:00.446181Z"
    }
   },
   "outputs": [],
   "source": [
    "# Попробуем посчитать на этой близости спектральную кластеризацию\n",
    "from sklearn.cluster import SpectralClustering, DBSCAN"
   ]
  },
  {
   "cell_type": "code",
   "execution_count": null,
   "metadata": {
    "ExecuteTime": {
     "end_time": "2022-05-18T14:23:01.332204Z",
     "start_time": "2022-05-18T14:23:01.322674Z"
    }
   },
   "outputs": [],
   "source": [
    "model = DBSCAN(metric='precomputed', eps=0.05)\n",
    "model.fit(D.toarray())\n"
   ]
  },
  {
   "cell_type": "code",
   "execution_count": null,
   "metadata": {
    "ExecuteTime": {
     "end_time": "2022-05-18T14:23:01.335531Z",
     "start_time": "2022-05-18T14:23:01.333096Z"
    }
   },
   "outputs": [],
   "source": [
    "labels = model.labels_"
   ]
  },
  {
   "cell_type": "code",
   "execution_count": null,
   "metadata": {
    "ExecuteTime": {
     "end_time": "2022-05-18T14:23:01.339182Z",
     "start_time": "2022-05-18T14:23:01.336440Z"
    }
   },
   "outputs": [],
   "source": [
    "true_labeling = list(nx.get_node_attributes(g, 'label').values())"
   ]
  },
  {
   "cell_type": "code",
   "execution_count": null,
   "metadata": {
    "ExecuteTime": {
     "end_time": "2022-05-18T14:23:01.490368Z",
     "start_time": "2022-05-18T14:23:01.340287Z"
    }
   },
   "outputs": [],
   "source": [
    "layout = nx.layout.spectral_layout(g)\n",
    "nx.draw(g, pos=layout, node_color=true_labeling,)"
   ]
  },
  {
   "cell_type": "code",
   "execution_count": null,
   "metadata": {
    "ExecuteTime": {
     "end_time": "2022-05-18T14:23:01.616611Z",
     "start_time": "2022-05-18T14:23:01.492287Z"
    }
   },
   "outputs": [],
   "source": [
    "nx.draw(g, pos=layout, node_color=labels)"
   ]
  },
  {
   "cell_type": "markdown",
   "metadata": {},
   "source": [
    "## Label propagation"
   ]
  },
  {
   "cell_type": "markdown",
   "metadata": {},
   "source": [
    "Методы для выявления сообществ, которые реализованы в networkX можно найти [тут](https://networkx.github.io/documentation/stable/reference/algorithms/community.html#module-networkx.algorithms.community.community_utils)"
   ]
  },
  {
   "cell_type": "code",
   "execution_count": null,
   "metadata": {
    "ExecuteTime": {
     "end_time": "2022-05-18T14:23:01.619631Z",
     "start_time": "2022-05-18T14:23:01.617717Z"
    }
   },
   "outputs": [],
   "source": [
    "lp_partition = nx.community.asyn_lpa_communities(g) # должен быть seed"
   ]
  },
  {
   "cell_type": "code",
   "execution_count": null,
   "metadata": {
    "ExecuteTime": {
     "end_time": "2022-05-18T14:23:01.634476Z",
     "start_time": "2022-05-18T14:23:01.623027Z"
    }
   },
   "outputs": [],
   "source": [
    "lp_partition = list(lp_partition) # разбиение на сообщества "
   ]
  },
  {
   "cell_type": "code",
   "execution_count": null,
   "metadata": {
    "ExecuteTime": {
     "end_time": "2022-05-18T14:23:01.640189Z",
     "start_time": "2022-05-18T14:23:01.635468Z"
    }
   },
   "outputs": [],
   "source": [
    "len(lp_partition)"
   ]
  },
  {
   "cell_type": "code",
   "execution_count": null,
   "metadata": {
    "ExecuteTime": {
     "end_time": "2022-05-18T14:23:01.645321Z",
     "start_time": "2022-05-18T14:23:01.641820Z"
    }
   },
   "outputs": [],
   "source": [
    "# Функция, которая из разбиения получает разметку для каждого объекта\n",
    "def get_labeling_from_partition(partition):\n",
    "    \n",
    "    all_nodes = set()\n",
    "    for cluster in partition:\n",
    "        all_nodes |= cluster\n",
    "    num_nodes = len(all_nodes)\n",
    "    labeling = np.ones((num_nodes,), dtype=int)\n",
    "\n",
    "    for label, ids in enumerate(partition):\n",
    "        ids = list(ids)\n",
    "        labeling[ids] = label\n",
    "        \n",
    "    return labeling"
   ]
  },
  {
   "cell_type": "code",
   "execution_count": null,
   "metadata": {
    "ExecuteTime": {
     "end_time": "2022-05-18T14:23:01.648591Z",
     "start_time": "2022-05-18T14:23:01.646385Z"
    }
   },
   "outputs": [],
   "source": [
    "lp_labeling = get_labeling_from_partition(lp_partition)"
   ]
  },
  {
   "cell_type": "code",
   "execution_count": null,
   "metadata": {
    "ExecuteTime": {
     "end_time": "2022-05-18T14:23:01.767985Z",
     "start_time": "2022-05-18T14:23:01.649613Z"
    }
   },
   "outputs": [],
   "source": [
    "nx.draw(g, pos=layout, node_color=lp_labeling)"
   ]
  },
  {
   "cell_type": "markdown",
   "metadata": {},
   "source": [
    "## Edge betweenness"
   ]
  },
  {
   "cell_type": "code",
   "execution_count": null,
   "metadata": {
    "ExecuteTime": {
     "end_time": "2022-05-18T14:23:01.770832Z",
     "start_time": "2022-05-18T14:23:01.768928Z"
    }
   },
   "outputs": [],
   "source": [
    "eb_partitions = nx.community.girvan_newman(g)"
   ]
  },
  {
   "cell_type": "code",
   "execution_count": null,
   "metadata": {
    "ExecuteTime": {
     "end_time": "2022-05-18T14:23:16.490775Z",
     "start_time": "2022-05-18T14:23:01.773155Z"
    }
   },
   "outputs": [],
   "source": [
    "k = 4 # Вернем разбиение на k сообщества\n",
    "for partition in eb_partitions:\n",
    "    if len(partition) == k:\n",
    "        break"
   ]
  },
  {
   "cell_type": "code",
   "execution_count": null,
   "metadata": {
    "ExecuteTime": {
     "end_time": "2022-05-18T14:23:16.493851Z",
     "start_time": "2022-05-18T14:23:16.491973Z"
    }
   },
   "outputs": [],
   "source": [
    "eb_partition = list(partition) # разбиение на сообщества "
   ]
  },
  {
   "cell_type": "code",
   "execution_count": null,
   "metadata": {
    "ExecuteTime": {
     "end_time": "2022-05-18T14:23:16.499291Z",
     "start_time": "2022-05-18T14:23:16.495208Z"
    }
   },
   "outputs": [],
   "source": [
    "eb_partition"
   ]
  },
  {
   "cell_type": "code",
   "execution_count": null,
   "metadata": {
    "ExecuteTime": {
     "end_time": "2022-05-18T14:23:16.512569Z",
     "start_time": "2022-05-18T14:23:16.510914Z"
    }
   },
   "outputs": [],
   "source": [
    "eb_labeling = get_labeling_from_partition(eb_partition)"
   ]
  },
  {
   "cell_type": "code",
   "execution_count": null,
   "metadata": {
    "ExecuteTime": {
     "end_time": "2022-05-18T14:23:16.516257Z",
     "start_time": "2022-05-18T14:23:16.513582Z"
    }
   },
   "outputs": [],
   "source": [
    "eb_labeling"
   ]
  },
  {
   "cell_type": "code",
   "execution_count": null,
   "metadata": {
    "ExecuteTime": {
     "end_time": "2022-05-18T14:23:16.627748Z",
     "start_time": "2022-05-18T14:23:16.517170Z"
    }
   },
   "outputs": [],
   "source": [
    "nx.draw(g, pos=layout, node_color=eb_labeling)"
   ]
  },
  {
   "cell_type": "markdown",
   "metadata": {},
   "source": [
    "### Modularity"
   ]
  },
  {
   "cell_type": "code",
   "execution_count": null,
   "metadata": {
    "ExecuteTime": {
     "end_time": "2022-05-18T14:23:16.633530Z",
     "start_time": "2022-05-18T14:23:16.628688Z"
    }
   },
   "outputs": [],
   "source": [
    "# Просто функция, которая считает модулярность\n",
    "from itertools import product\n",
    "def modularity(G, communities, weight='weight'):\n",
    "    multigraph = G.is_multigraph()\n",
    "    directed = G.is_directed()\n",
    "    m = G.size(weight=weight)\n",
    "    if directed:\n",
    "        out_degree = dict(G.out_degree(weight=weight))\n",
    "        in_degree = dict(G.in_degree(weight=weight))\n",
    "        norm = 1 / m\n",
    "    else:\n",
    "        out_degree = dict(G.degree(weight=weight))\n",
    "        in_degree = out_degree\n",
    "        norm = 1 / (2 * m)\n",
    "\n",
    "    def val(u, v):\n",
    "        try:\n",
    "            if multigraph:\n",
    "                w = sum(d.get(weight, 1) for k, d in G[u][v].items())\n",
    "            else:\n",
    "                w = G[u][v].get(weight, 1)\n",
    "        except KeyError:\n",
    "            w = 0\n",
    "        # Double count self-loops if the graph is undirected.\n",
    "        if u == v and not directed:\n",
    "            w *= 2\n",
    "        return w - in_degree[u] * out_degree[v] * norm\n",
    "\n",
    "    Q = sum(val(u, v) for c in communities for u, v in product(c, repeat=2))\n",
    "    return Q * norm"
   ]
  },
  {
   "cell_type": "code",
   "execution_count": null,
   "metadata": {
    "ExecuteTime": {
     "end_time": "2022-05-18T14:23:16.636670Z",
     "start_time": "2022-05-18T14:23:16.634608Z"
    }
   },
   "outputs": [],
   "source": [
    "eb_partitions = nx.community.girvan_newman(g)"
   ]
  },
  {
   "cell_type": "code",
   "execution_count": null,
   "metadata": {
    "ExecuteTime": {
     "end_time": "2022-05-18T14:23:31.954476Z",
     "start_time": "2022-05-18T14:23:16.637637Z"
    },
    "scrolled": true
   },
   "outputs": [],
   "source": [
    "# Посчитаем модулярность для разбиений на 1,2,..10 сообществ\n",
    "for partition in eb_partitions:\n",
    "    num_com = len(partition)\n",
    "    if num_com < 10:\n",
    "        mod = modularity(g, partition)\n",
    "        print('For {} communities modularity = {}'.format(num_com, mod))\n",
    "    else:\n",
    "        break"
   ]
  },
  {
   "cell_type": "markdown",
   "metadata": {},
   "source": [
    "## Сообщества на графе друзей"
   ]
  },
  {
   "cell_type": "markdown",
   "metadata": {},
   "source": [
    "Попробуйте найти сообщества на графе друзей\n",
    "\n",
    "Перед этим, возможно, стоит \"почистить граф\""
   ]
  },
  {
   "cell_type": "code",
   "execution_count": null,
   "metadata": {},
   "outputs": [],
   "source": []
  },
  {
   "cell_type": "markdown",
   "metadata": {},
   "source": [
    "# Пример расчета Асортативности"
   ]
  },
  {
   "cell_type": "markdown",
   "metadata": {},
   "source": [
    "В файле `Princeton.gml` содержится граф дружбы студентов соответствующих, собранных в 2005 году из Facebook. Каждая вершина обладает следующими аттрибутами:\n",
    "* Факультет\n",
    "* Пол\n",
    "* Основное направление подготовки\n",
    "* Дополнительный направление подготовки (если есть)\n",
    "* Общежитие проживания, домашнее проживание\n",
    "* Год поступления\n",
    "* Школа\n",
    "\n",
    "Пропуски помечены значением `0`.\n",
    "\n",
    "#### Задание\n",
    "Посчитайте ассортативность для каждого из аттрибутов и ассортативность по степени узлов.\n",
    "\n",
    "Сравните результаты между сетями и проинтерпретируйте их."
   ]
  },
  {
   "cell_type": "code",
   "execution_count": null,
   "metadata": {
    "ExecuteTime": {
     "end_time": "2022-05-18T14:23:32.092884Z",
     "start_time": "2022-05-18T14:23:31.955205Z"
    }
   },
   "outputs": [],
   "source": [
    "!head ./data/Princeton.gml"
   ]
  },
  {
   "cell_type": "code",
   "execution_count": null,
   "metadata": {
    "ExecuteTime": {
     "end_time": "2022-05-18T14:23:41.182641Z",
     "start_time": "2022-05-18T14:23:32.094510Z"
    }
   },
   "outputs": [],
   "source": [
    "g = nx.read_gml('./data/Princeton.gml', label='id')"
   ]
  },
  {
   "cell_type": "code",
   "execution_count": null,
   "metadata": {
    "ExecuteTime": {
     "end_time": "2022-05-18T14:24:06.587162Z",
     "start_time": "2022-05-18T14:24:06.582552Z"
    }
   },
   "outputs": [],
   "source": [
    "attributes = g.nodes[0]"
   ]
  },
  {
   "cell_type": "code",
   "execution_count": null,
   "metadata": {
    "ExecuteTime": {
     "end_time": "2022-05-18T14:24:10.157254Z",
     "start_time": "2022-05-18T14:24:10.153967Z"
    }
   },
   "outputs": [],
   "source": [
    "attributes = g.nodes[0].keys()"
   ]
  },
  {
   "cell_type": "code",
   "execution_count": null,
   "metadata": {
    "ExecuteTime": {
     "end_time": "2022-05-18T14:24:15.343816Z",
     "start_time": "2022-05-18T14:24:11.830106Z"
    }
   },
   "outputs": [],
   "source": [
    "for attr in attributes:\n",
    "    print('{} assortativity = {}'.format(attr, \n",
    "                                         nx.assortativity.attribute_assortativity_coefficient(g, attr)))"
   ]
  },
  {
   "cell_type": "code",
   "execution_count": null,
   "metadata": {
    "ExecuteTime": {
     "end_time": "2022-05-18T14:24:16.491265Z",
     "start_time": "2022-05-18T14:24:16.126047Z"
    }
   },
   "outputs": [],
   "source": [
    "# Матрица перемешивания e_ij\n",
    "E = nx.assortativity.attribute_mixing_matrix(g, 'year')"
   ]
  },
  {
   "cell_type": "code",
   "execution_count": null,
   "metadata": {
    "ExecuteTime": {
     "end_time": "2022-05-18T14:24:16.582686Z",
     "start_time": "2022-05-18T14:24:16.492375Z"
    }
   },
   "outputs": [],
   "source": [
    "plt.imshow(E)"
   ]
  },
  {
   "cell_type": "code",
   "execution_count": null,
   "metadata": {
    "ExecuteTime": {
     "end_time": "2022-05-18T14:24:17.139687Z",
     "start_time": "2022-05-18T14:24:16.583968Z"
    }
   },
   "outputs": [],
   "source": [
    "nx.assortativity.degree_assortativity_coefficient(g)"
   ]
  },
  {
   "cell_type": "markdown",
   "metadata": {
    "slideshow": {
     "slide_type": "slide"
    }
   },
   "source": [
    "# Сеть на основе вселенной Игры Престолов (spoiler alert!)"
   ]
  },
  {
   "cell_type": "markdown",
   "metadata": {
    "slideshow": {
     "slide_type": "subslide"
    }
   },
   "source": [
    "Рассмотрим две таблички: `characters.csv` и `events.csv`. Названия говорят сами за себя - в  `characters.csv` содержится информация о персонажах серии романов, а в `events.csv` описание событий. Мы будем рассматривать события, которыми славится Игры Престолов - убийства.\n",
    "\n",
    "В первом файле, помимо индетификатора персонажа (`characterID`), нас будут интересовать поля имени (`Name`) и его группы (`Team`). <br/>\n",
    "Во втором - события убийства  (`event = killed`) и поле с указанием убитого (`characterID`) и убийцы (`withID`)\n",
    "\n",
    "#### Задание\n",
    "* Постройте сеть (направленный граф nx.DiGraph) убийств персонажей. В каждой вершине должен быть сохранен атрибут имени и группы\n",
    "* Оставим только персонажей из самых частых групп (для наглядности): `['Stark', 'Night Watch', 'Lannister', 'Robert', 'none', 'Wildlings (north of wall)', 'Greyjoy']`\n",
    "* Переобозначте значения атрибута Team числами начиная с `0`\n",
    "* Нарисуйте граф со стрелочками, раскрасив каждую вершину в цвет, в зависимости от их фрацкии\n",
    "* Посчитайте коэффициент ассортативности по отношению к атрибуту \"Team\", который в данном контексте можно интерпретировать как \"склонность убивать своих или чужих\". Проинтерпретируйте полученный результат"
   ]
  },
  {
   "cell_type": "code",
   "execution_count": null,
   "metadata": {
    "ExecuteTime": {
     "end_time": "2022-05-18T14:24:20.074001Z",
     "start_time": "2022-05-18T14:24:20.049229Z"
    },
    "slideshow": {
     "slide_type": "subslide"
    }
   },
   "outputs": [],
   "source": [
    "df_char = pd.read_csv('./data/characters.csv')\n",
    "df_events = pd.read_csv('./data/events.csv')"
   ]
  },
  {
   "cell_type": "code",
   "execution_count": null,
   "metadata": {
    "ExecuteTime": {
     "end_time": "2022-05-18T14:24:20.221622Z",
     "start_time": "2022-05-18T14:24:20.197057Z"
    },
    "scrolled": true,
    "slideshow": {
     "slide_type": "subslide"
    }
   },
   "outputs": [],
   "source": [
    "df_events.head()"
   ]
  },
  {
   "cell_type": "code",
   "execution_count": null,
   "metadata": {
    "ExecuteTime": {
     "end_time": "2022-05-18T14:24:20.351102Z",
     "start_time": "2022-05-18T14:24:20.336164Z"
    }
   },
   "outputs": [],
   "source": [
    "df_char.head()"
   ]
  },
  {
   "cell_type": "code",
   "execution_count": null,
   "metadata": {
    "ExecuteTime": {
     "end_time": "2022-05-18T14:24:20.508337Z",
     "start_time": "2022-05-18T14:24:20.483997Z"
    }
   },
   "outputs": [],
   "source": [
    "df_kill = df_events.query('event == \"killed\"').loc[:, ['characterID', 'withID']].dropna()\n",
    "df_kill.loc[:, 'withID'] = df_kill.loc[:, 'withID'].astype(int)"
   ]
  },
  {
   "cell_type": "code",
   "execution_count": null,
   "metadata": {
    "ExecuteTime": {
     "end_time": "2022-05-18T14:24:21.991343Z",
     "start_time": "2022-05-18T14:24:21.986984Z"
    }
   },
   "outputs": [],
   "source": [
    "# Оставим только самые частые категории (для наглядности)\n",
    "teams = ['Stark', 'Night Watch', 'Lannister', 'Robert', 'none', 'Wildlings (north of wall)', 'Greyjoy']"
   ]
  },
  {
   "cell_type": "code",
   "execution_count": null,
   "metadata": {
    "ExecuteTime": {
     "end_time": "2022-05-18T14:24:22.209705Z",
     "start_time": "2022-05-18T14:24:22.196388Z"
    }
   },
   "outputs": [],
   "source": [
    "idx = df_char.Team.isin(teams)\n",
    "df_char = df_char.loc[idx, ['characterID', 'Name', 'Team']]\n",
    "\n",
    "idx = df_kill.characterID.isin(df_char.characterID) & df_kill.withID.isin(df_char.characterID)\n",
    "df_kill = df_kill.loc[idx, :]"
   ]
  },
  {
   "cell_type": "code",
   "execution_count": null,
   "metadata": {
    "ExecuteTime": {
     "end_time": "2022-05-18T14:24:22.536586Z",
     "start_time": "2022-05-18T14:24:22.530701Z"
    }
   },
   "outputs": [],
   "source": [
    "id_team_mapper = dict(zip(df_char.Team.unique(), range(df_char.Team.nunique())))"
   ]
  },
  {
   "cell_type": "code",
   "execution_count": null,
   "metadata": {
    "ExecuteTime": {
     "end_time": "2022-05-18T14:24:22.798547Z",
     "start_time": "2022-05-18T14:24:22.787046Z"
    }
   },
   "outputs": [],
   "source": [
    "idx = ( df_char.characterID.isin(df_kill.characterID) | df_char.characterID.isin(df_kill.withID) )\n",
    "df_char_kill = df_char.loc[idx, :].reset_index(drop=True)\n",
    "df_char_kill.loc[:, 'Team'] = df_char_kill.loc[:, 'Team'].replace(id_team_mapper)"
   ]
  },
  {
   "cell_type": "code",
   "execution_count": null,
   "metadata": {
    "ExecuteTime": {
     "end_time": "2022-05-18T14:24:23.106293Z",
     "start_time": "2022-05-18T14:24:23.095939Z"
    }
   },
   "outputs": [],
   "source": [
    "df_char_kill.head()"
   ]
  },
  {
   "cell_type": "code",
   "execution_count": null,
   "metadata": {
    "ExecuteTime": {
     "end_time": "2022-05-18T14:24:23.685980Z",
     "start_time": "2022-05-18T14:24:23.682017Z"
    }
   },
   "outputs": [],
   "source": [
    "id_mapper = dict(zip(df_char_kill.characterID.values, df_char_kill.index.values))"
   ]
  },
  {
   "cell_type": "code",
   "execution_count": null,
   "metadata": {
    "ExecuteTime": {
     "end_time": "2022-05-18T14:24:24.929997Z",
     "start_time": "2022-05-18T14:24:24.905681Z"
    }
   },
   "outputs": [],
   "source": [
    "df_kill.loc[:, 'characterID'] = df_kill.loc[:, 'characterID'].replace(id_mapper)\n",
    "df_kill.loc[:, 'withID'] = df_kill.loc[:, 'withID'].replace(id_mapper)"
   ]
  },
  {
   "cell_type": "code",
   "execution_count": null,
   "metadata": {
    "ExecuteTime": {
     "end_time": "2022-05-18T14:24:25.090383Z",
     "start_time": "2022-05-18T14:24:25.079531Z"
    }
   },
   "outputs": [],
   "source": [
    "df_kill.head()"
   ]
  },
  {
   "cell_type": "code",
   "execution_count": null,
   "metadata": {
    "ExecuteTime": {
     "end_time": "2022-05-18T14:23:41.311904Z",
     "start_time": "2022-05-18T14:23:41.311896Z"
    }
   },
   "outputs": [],
   "source": [
    "# Теперь можно сделать граф и посчитать ассортативность с атрибутом Team"
   ]
  },
  {
   "cell_type": "code",
   "execution_count": null,
   "metadata": {},
   "outputs": [],
   "source": []
  },
  {
   "cell_type": "code",
   "execution_count": null,
   "metadata": {},
   "outputs": [],
   "source": []
  }
 ],
 "metadata": {
  "kernelspec": {
   "display_name": "Python 3 (ipykernel)",
   "language": "python",
   "name": "python3"
  },
  "language_info": {
   "codemirror_mode": {
    "name": "ipython",
    "version": 3
   },
   "file_extension": ".py",
   "mimetype": "text/x-python",
   "name": "python",
   "nbconvert_exporter": "python",
   "pygments_lexer": "ipython3",
   "version": "3.8.10"
  },
  "latex_envs": {
   "LaTeX_envs_menu_present": true,
   "autoclose": false,
   "autocomplete": true,
   "bibliofile": "biblio.bib",
   "cite_by": "apalike",
   "current_citInitial": 1,
   "eqLabelWithNumbers": true,
   "eqNumInitial": 1,
   "hotkeys": {
    "equation": "Ctrl-E",
    "itemize": "Ctrl-I"
   },
   "labels_anchors": false,
   "latex_user_defs": false,
   "report_style_numbering": false,
   "user_envs_cfg": false
  },
  "nbTranslate": {
   "displayLangs": [
    "*"
   ],
   "hotkey": "alt-t",
   "langInMainMenu": true,
   "sourceLang": "en",
   "targetLang": "fr",
   "useGoogleTranslate": true
  },
  "toc": {
   "base_numbering": 1,
   "nav_menu": {},
   "number_sections": false,
   "sideBar": true,
   "skip_h1_title": false,
   "title_cell": "Table of Contents",
   "title_sidebar": "Contents",
   "toc_cell": false,
   "toc_position": {},
   "toc_section_display": true,
   "toc_window_display": false
  },
  "varInspector": {
   "cols": {
    "lenName": 16,
    "lenType": 16,
    "lenVar": 40
   },
   "kernels_config": {
    "python": {
     "delete_cmd_postfix": "",
     "delete_cmd_prefix": "del ",
     "library": "var_list.py",
     "varRefreshCmd": "print(var_dic_list())"
    },
    "r": {
     "delete_cmd_postfix": ") ",
     "delete_cmd_prefix": "rm(",
     "library": "var_list.r",
     "varRefreshCmd": "cat(var_dic_list()) "
    }
   },
   "types_to_exclude": [
    "module",
    "function",
    "builtin_function_or_method",
    "instance",
    "_Feature"
   ],
   "window_display": false
  }
 },
 "nbformat": 4,
 "nbformat_minor": 2
}
