{
 "cells": [
  {
   "cell_type": "markdown",
   "metadata": {},
   "source": [
    "# Домашнее задание №5.\n",
    "Основы машинн\n",
    "ого обучения. В.Журавлев  \n",
    "Группа ML-11. __Студент - Усцов Артем Алексеевич__"
   ]
  },
  {
   "cell_type": "markdown",
   "metadata": {},
   "source": [
    "- Участникам предоставлен набор данных объявлений о продаже недвижимости в некотором волшебном городе N.  \n",
    "- __Задача__ - предсказать цену недвижимости по содержанию объявления"
   ]
  },
  {
   "cell_type": "code",
   "execution_count": null,
   "metadata": {
    "ExecuteTime": {
     "end_time": "2022-05-08T10:05:03.885978Z",
     "start_time": "2022-05-08T10:05:03.861448Z"
    }
   },
   "outputs": [],
   "source": [
    "# Для функционирования watermark - раскомментируйте строку ниже, либо установите библиотеку в консоли вручную\n",
    "# !pip install watermark\n",
    "%load_ext watermark"
   ]
  },
  {
   "cell_type": "code",
   "execution_count": null,
   "metadata": {
    "ExecuteTime": {
     "end_time": "2022-05-08T10:05:05.309928Z",
     "start_time": "2022-05-08T10:05:04.073753Z"
    }
   },
   "outputs": [],
   "source": [
    "%watermark -v -m -p numpy,scipy,matplotlib,pandas,sklearn,seaborn,tqdm -g"
   ]
  },
  {
   "cell_type": "code",
   "execution_count": null,
   "metadata": {
    "ExecuteTime": {
     "end_time": "2022-05-08T10:05:05.439904Z",
     "start_time": "2022-05-08T10:05:05.320515Z"
    }
   },
   "outputs": [],
   "source": [
    "!lscpu"
   ]
  },
  {
   "cell_type": "markdown",
   "metadata": {
    "ExecuteTime": {
     "end_time": "2022-05-06T22:05:47.437672Z",
     "start_time": "2022-05-06T22:05:47.434892Z"
    }
   },
   "source": [
    "## Service function declaration"
   ]
  },
  {
   "cell_type": "code",
   "execution_count": null,
   "metadata": {
    "ExecuteTime": {
     "end_time": "2022-05-08T10:05:05.823020Z",
     "start_time": "2022-05-08T10:05:05.596601Z"
    },
    "id": "WJd12UvKD7Rf"
   },
   "outputs": [],
   "source": [
    "# Future Python versions compatibility\n",
    "from __future__ import division\n",
    "\n",
    "# Warnings Ignore\n",
    "import warnings\n",
    "warnings.filterwarnings(\"ignore\")\n",
    "\n",
    "# System libraries\n",
    "import os\n",
    "\n",
    "# Object libraries\n",
    "import pandas as pd\n",
    "import numpy as np\n",
    "import seaborn as sns\n",
    "\n",
    "\n",
    "# ML libraries\n",
    "from sklearn.svm import SVR\n",
    "from sklearn.linear_model import LinearRegression\n",
    "from sklearn.model_selection import train_test_split\n",
    "from sklearn.metrics import mean_absolute_error, accuracy_score, recall_score, classification_report\n",
    "from sklearn.pipeline import Pipeline\n",
    "\n",
    "from sklearn.decomposition import PCA\n",
    "from sklearn.model_selection import RandomizedSearchCV, cross_val_score\n",
    "\n",
    "# Data Transformers\n",
    "from sklearn.preprocessing import PowerTransformer, StandardScaler\n",
    "from sklearn.compose import ColumnTransformer\n",
    "\n",
    "# Visualize libraries\n",
    "import matplotlib.pyplot as plt\n",
    "import matplotlib.colors as colors\n",
    "\n",
    "# Colors map\n",
    "colors_list = list(colors._colors_full_map.values())\n",
    "%matplotlib inline\n",
    "\n",
    "# Time libraries\n",
    "from tqdm import tqdm_notebook\n",
    "import time\n",
    "\n",
    "# ML clusterisation\n",
    "from sklearn.mixture import BayesianGaussianMixture\n",
    "from sklearn.mixture import GaussianMixture"
   ]
  },
  {
   "cell_type": "code",
   "execution_count": null,
   "metadata": {
    "ExecuteTime": {
     "end_time": "2022-05-08T10:05:05.952531Z",
     "start_time": "2022-05-08T10:05:05.948235Z"
    }
   },
   "outputs": [],
   "source": [
    "# Missing values detection function\n",
    "def missing_values_table(df):\n",
    "    mis_val = df.isnull().sum()\n",
    "    mis_val_percent = 100 * df.isnull().sum() / len(df)\n",
    "    mis_val_table = pd.concat([mis_val, mis_val_percent], axis=1)\n",
    "    mis_val_table_ren_columns = mis_val_table.rename(\n",
    "    columns = {0 : 'Missing Values', 1 : '% of Total Values'})\n",
    "    mis_val_table_ren_columns = mis_val_table_ren_columns[\n",
    "                                mis_val_table_ren_columns.iloc[:,1] != 0].sort_values(\n",
    "                                '% of Total Values', ascending=False).round(2)\n",
    "\n",
    "    print(\"Your selected dataframe has \"  + str(df.shape[0]) + \" objects with \" + str(df.shape[1]) \n",
    "                                          + \" features.\\n\"\n",
    "                             \"There are \" + str(mis_val_table_ren_columns.shape[0]) +\n",
    "                             \" features that have missing values.\")\n",
    "\n",
    "    return mis_val_table_ren_columns"
   ]
  },
  {
   "cell_type": "code",
   "execution_count": null,
   "metadata": {
    "ExecuteTime": {
     "end_time": "2022-05-08T10:05:06.683018Z",
     "start_time": "2022-05-08T10:05:06.453948Z"
    },
    "id": "2-yOBkOQP0dJ"
   },
   "outputs": [],
   "source": [
    "# Gradient Boosting Machine libraries\n",
    "\n",
    "# !pip install catboost\n",
    "import catboost\n",
    "\n",
    "from catboost import CatBoostClassifier\n",
    "from catboost import CatBoostRegressor\n",
    "from catboost import Pool\n",
    "\n",
    "# Optimizers librairy\n",
    "# !pip install hyperopt\n",
    "import hyperopt\n",
    "from hyperopt import hp, fmin, tpe, STATUS_OK, Trials"
   ]
  },
  {
   "cell_type": "markdown",
   "metadata": {},
   "source": [
    "Отмечу особенность, GPU на локальном ноутбуке слабоват + catboost не заточен под него.  \n",
    "Оттого вычисления на видеокарте отложены в сторону("
   ]
  },
  {
   "cell_type": "markdown",
   "metadata": {
    "id": "cFPOPIc-Bb23"
   },
   "source": [
    "## Data Processing"
   ]
  },
  {
   "cell_type": "markdown",
   "metadata": {},
   "source": [
    "### Overview"
   ]
  },
  {
   "cell_type": "code",
   "execution_count": null,
   "metadata": {
    "ExecuteTime": {
     "end_time": "2022-05-08T10:05:07.803656Z",
     "start_time": "2022-05-08T10:05:07.409294Z"
    }
   },
   "outputs": [],
   "source": [
    "# При работе в GColab нужно добавить ссылки на raw файлы из репозитория\n",
    "df = pd.read_csv('data/Train.csv')\n",
    "df_test = pd.read_csv('data/Test.csv')"
   ]
  },
  {
   "cell_type": "code",
   "execution_count": null,
   "metadata": {
    "ExecuteTime": {
     "end_time": "2022-05-08T10:05:07.919995Z",
     "start_time": "2022-05-08T10:05:07.898428Z"
    }
   },
   "outputs": [],
   "source": [
    "df.head()"
   ]
  },
  {
   "cell_type": "code",
   "execution_count": null,
   "metadata": {
    "ExecuteTime": {
     "end_time": "2022-05-08T10:05:07.939321Z",
     "start_time": "2022-05-08T10:05:07.921368Z"
    }
   },
   "outputs": [],
   "source": [
    "df_test.head()"
   ]
  },
  {
   "cell_type": "code",
   "execution_count": null,
   "metadata": {
    "ExecuteTime": {
     "end_time": "2022-05-08T10:05:08.206879Z",
     "start_time": "2022-05-08T10:05:08.185842Z"
    }
   },
   "outputs": [],
   "source": [
    "df.info()"
   ]
  },
  {
   "cell_type": "code",
   "execution_count": null,
   "metadata": {
    "ExecuteTime": {
     "end_time": "2022-05-08T10:05:08.541050Z",
     "start_time": "2022-05-08T10:05:08.529181Z"
    }
   },
   "outputs": [],
   "source": [
    "df.head().T"
   ]
  },
  {
   "cell_type": "code",
   "execution_count": null,
   "metadata": {
    "ExecuteTime": {
     "end_time": "2022-05-08T10:05:10.981195Z",
     "start_time": "2022-05-08T10:05:08.730397Z"
    }
   },
   "outputs": [],
   "source": [
    "# Посмотрим на общее распределение данных\n",
    "df.hist(figsize=(15, 10))\n",
    "plt.show()"
   ]
  },
  {
   "cell_type": "code",
   "execution_count": null,
   "metadata": {
    "ExecuteTime": {
     "end_time": "2022-05-08T10:05:11.081732Z",
     "start_time": "2022-05-08T10:05:11.066811Z"
    }
   },
   "outputs": [],
   "source": [
    "# Непонятный признак g_lift.\n",
    "df[{'price', 'g_lift'}].groupby(['g_lift']).mean()"
   ]
  },
  {
   "cell_type": "markdown",
   "metadata": {},
   "source": [
    "Хочется сказать, что наличие лифта не повышает стоимость жилплощади, что чисто по житейскому опыту совсем не так."
   ]
  },
  {
   "cell_type": "code",
   "execution_count": null,
   "metadata": {
    "ExecuteTime": {
     "end_time": "2022-05-08T10:05:12.026444Z",
     "start_time": "2022-05-08T10:05:11.167587Z"
    }
   },
   "outputs": [],
   "source": [
    "# А также посмотрим, как фичи кореллируют с ценой\n",
    "sns.set(rc = {'figure.figsize':(25,15)})\n",
    "matrix = np.triu(df.corr())\n",
    "sns.heatmap(df.corr(), fmt='.1g', cmap= 'coolwarm', square=True, mask=matrix, vmin=-1, vmax=1, center= 0)"
   ]
  },
  {
   "cell_type": "markdown",
   "metadata": {},
   "source": [
    "Как и ожидалось, сильнейшая связь цены с площадью, количеством комнат, а также расстоянием до метро.\n",
    "Также отметим, что наличие лифта и вправду не коррелирует с ценой квартиры.  \n",
    "\n",
    "Принимаю решение убрать признак полностью из модели."
   ]
  },
  {
   "cell_type": "code",
   "execution_count": null,
   "metadata": {
    "ExecuteTime": {
     "end_time": "2022-05-08T10:05:12.058985Z",
     "start_time": "2022-05-08T10:05:12.027676Z"
    },
    "colab": {
     "base_uri": "https://localhost:8080/",
     "height": 204
    },
    "id": "HY43AtA6ENrM",
    "outputId": "e2a4af9f-ea48-4c86-cc22-29f9894d4cbc"
   },
   "outputs": [],
   "source": [
    "# Удалим неинформативные столбецы\n",
    "df.drop(['id', 'g_lift'], axis=1, inplace=True)\n",
    "df_test.drop(['id', 'g_lift'], axis=1, inplace=True)\n",
    "df.head()"
   ]
  },
  {
   "cell_type": "markdown",
   "metadata": {},
   "source": [
    "Посмотрим на признаки наличия ключевых слов в объявлении о продаже - kw1_kw13"
   ]
  },
  {
   "cell_type": "code",
   "execution_count": null,
   "metadata": {
    "ExecuteTime": {
     "end_time": "2022-05-08T10:05:14.037339Z",
     "start_time": "2022-05-08T10:05:12.224050Z"
    }
   },
   "outputs": [],
   "source": [
    "df.iloc[:, 9:22].hist(figsize=(15, 10))\n",
    "plt.show()"
   ]
  },
  {
   "cell_type": "markdown",
   "metadata": {},
   "source": [
    "Как видно, kw3-kw 13 очень разряжены. Пока оставим фичи в датасете"
   ]
  },
  {
   "cell_type": "code",
   "execution_count": null,
   "metadata": {
    "ExecuteTime": {
     "end_time": "2022-05-08T10:05:14.181630Z",
     "start_time": "2022-05-08T10:05:14.154405Z"
    }
   },
   "outputs": [],
   "source": [
    "missing_values_table(df)"
   ]
  },
  {
   "cell_type": "markdown",
   "metadata": {},
   "source": [
    "Как видно, существует большое количество пропусков в 2 фичах. Удаление здесь не поможет, требуется замена значений"
   ]
  },
  {
   "cell_type": "code",
   "execution_count": null,
   "metadata": {
    "ExecuteTime": {
     "end_time": "2022-05-08T10:05:14.295855Z",
     "start_time": "2022-05-08T10:05:14.289631Z"
    }
   },
   "outputs": [],
   "source": [
    "print(f\"1) build_tech unique values: {pd.unique(df['build_tech'])}\")\n",
    "print(f\"2) metro_dist unique values: {pd.unique(df['metro_dist'])}\")"
   ]
  },
  {
   "cell_type": "markdown",
   "metadata": {},
   "source": [
    "Медианное значение возможно поставить только для metro_dist. Все остальные фичи - категориальные"
   ]
  },
  {
   "cell_type": "code",
   "execution_count": null,
   "metadata": {
    "ExecuteTime": {
     "end_time": "2022-05-08T10:05:14.320497Z",
     "start_time": "2022-05-08T10:05:14.297169Z"
    },
    "colab": {
     "base_uri": "https://localhost:8080/",
     "height": 204
    },
    "id": "bpRBXnEwZ6zE",
    "outputId": "ff546c6d-2e1c-4ca5-976d-4baa61586ea3"
   },
   "outputs": [],
   "source": [
    "# Приведем дату к нужному формату\n",
    "df[\"date\"] = pd.to_datetime(df[\"date\"])\n",
    "df_test[\"date\"] = pd.to_datetime(df[\"date\"])"
   ]
  },
  {
   "cell_type": "code",
   "execution_count": null,
   "metadata": {
    "ExecuteTime": {
     "end_time": "2022-05-08T10:05:14.338341Z",
     "start_time": "2022-05-08T10:05:14.322978Z"
    }
   },
   "outputs": [],
   "source": [
    "df.head()"
   ]
  },
  {
   "cell_type": "markdown",
   "metadata": {},
   "source": [
    "### Feature Generation"
   ]
  },
  {
   "cell_type": "markdown",
   "metadata": {},
   "source": [
    "Предположим, что с течением времени цена на квартиры меняется в связи с инфляцией и прочими факторами. Оттого, чем раньше была продана квартира, тем меньше ее целевой вес в модели."
   ]
  },
  {
   "cell_type": "code",
   "execution_count": null,
   "metadata": {
    "ExecuteTime": {
     "end_time": "2022-05-08T10:05:14.617275Z",
     "start_time": "2022-05-08T10:05:14.575929Z"
    }
   },
   "outputs": [],
   "source": [
    "# Для train выборки\n",
    "df['year'] = pd.DatetimeIndex(df[\"date\"]).year - 2011\n",
    "df['mohth_from_begin'] = df[\"year\"] * 12 + pd.DatetimeIndex(df[\"date\"]).month\n",
    "\n",
    "# Для test выборки\n",
    "df_test['year'] = pd.DatetimeIndex(df_test.date).year - 2011\n",
    "df_test['mohth_from_begin'] = df_test[\"year\"] * 12 + pd.DatetimeIndex(df_test[\"date\"]).month\n",
    "\n",
    "\n",
    "# Сразу же удалим из датасета излишние фичи\n",
    "del df['date']\n",
    "del df['year']\n",
    "\n",
    "del df_test['date']\n",
    "del df_test['year']"
   ]
  },
  {
   "cell_type": "code",
   "execution_count": null,
   "metadata": {
    "ExecuteTime": {
     "end_time": "2022-05-08T10:05:14.712264Z",
     "start_time": "2022-05-08T10:05:14.696402Z"
    }
   },
   "outputs": [],
   "source": [
    "df.head()"
   ]
  },
  {
   "cell_type": "code",
   "execution_count": null,
   "metadata": {
    "ExecuteTime": {
     "end_time": "2022-05-08T10:05:14.729963Z",
     "start_time": "2022-05-08T10:05:14.713394Z"
    }
   },
   "outputs": [],
   "source": [
    "df_test.head()"
   ]
  },
  {
   "cell_type": "code",
   "execution_count": null,
   "metadata": {
    "ExecuteTime": {
     "end_time": "2022-05-08T10:05:15.171719Z",
     "start_time": "2022-05-08T10:05:14.887207Z"
    }
   },
   "outputs": [],
   "source": [
    "plt.figure(figsize=(7,7))\n",
    "plt.hist(df[\"mohth_from_begin\"].values, bins=100)\n",
    "plt.title(\"Распределение объявлений о продажах во времени\", fontsize=16)\n",
    "plt.xlabel(\"Month from begin\")\n",
    "plt.ylabel(\"Number of views\")\n",
    "None"
   ]
  },
  {
   "cell_type": "markdown",
   "metadata": {},
   "source": [
    "Очередная особенность. Отсутствуют продажи спустя год от начала объявлений."
   ]
  },
  {
   "cell_type": "code",
   "execution_count": null,
   "metadata": {
    "ExecuteTime": {
     "end_time": "2022-05-08T10:05:15.708686Z",
     "start_time": "2022-05-08T10:05:15.277261Z"
    },
    "colab": {
     "base_uri": "https://localhost:8080/",
     "height": 602
    },
    "id": "0FVJXv9Q91v3",
    "outputId": "d6fa9ea7-8764-43d7-ca30-ceabbd220ba4"
   },
   "outputs": [],
   "source": [
    "# Предполагаю, что цена в первую очередь зависит от площади квартиры.\n",
    "# Гипотеза подтверждается визуально на heatmap\n",
    "# Проверим\n",
    "plt.figure(figsize=(20, 10))\n",
    "plt.scatter(df[\"area\"].values, df[\"price\"].values,alpha=0.1)\n",
    "plt.title(\"Зависимость цены квартиры от площади\", fontsize=16)\n",
    "plt.xlabel(\"Area, m2\", fontsize=16)\n",
    "plt.ylabel(\"Price, y.e\", fontsize=16)\n",
    "plt.grid()\n",
    "\n",
    "plt.show()"
   ]
  },
  {
   "cell_type": "markdown",
   "metadata": {},
   "source": [
    "Да, похоже на линейную зависимость. В глаза сразу бросается особенность. Одинаковая цена за разные площади, что выглядит необычно"
   ]
  },
  {
   "cell_type": "code",
   "execution_count": null,
   "metadata": {
    "ExecuteTime": {
     "end_time": "2022-05-08T10:05:15.720328Z",
     "start_time": "2022-05-08T10:05:15.710512Z"
    }
   },
   "outputs": [],
   "source": [
    "df['price'].value_counts()"
   ]
  },
  {
   "cell_type": "markdown",
   "metadata": {},
   "source": [
    "Особенность налицо, похоже что-то фиктивное. Уберу из датасета, чтобы не смещать предсказание"
   ]
  },
  {
   "cell_type": "code",
   "execution_count": null,
   "metadata": {
    "ExecuteTime": {
     "end_time": "2022-05-08T10:05:15.934463Z",
     "start_time": "2022-05-08T10:05:15.919907Z"
    }
   },
   "outputs": [],
   "source": [
    "df = df.iloc[df['price'].values != 1000000, :]"
   ]
  },
  {
   "cell_type": "code",
   "execution_count": null,
   "metadata": {
    "ExecuteTime": {
     "end_time": "2022-05-08T10:05:16.407419Z",
     "start_time": "2022-05-08T10:05:16.043807Z"
    }
   },
   "outputs": [],
   "source": [
    "# Проверим теперь\n",
    "plt.figure(figsize=(20, 10))\n",
    "plt.scatter(df[\"area\"].values, df[\"price\"].values,alpha=0.1)\n",
    "plt.xlabel(\"Area, m2\", fontsize=16)\n",
    "plt.ylabel(\"Price, y.e\", fontsize=16)\n",
    "plt.grid()\n",
    "\n",
    "plt.show()"
   ]
  },
  {
   "cell_type": "markdown",
   "metadata": {},
   "source": [
    "Много лучше, теперь все чисто"
   ]
  },
  {
   "cell_type": "markdown",
   "metadata": {},
   "source": [
    "Так как существует сильная зависимость между ценой и площадью квартиры, попробуем синтезировать искуственный признак - среднюю цену за квадратный метр квартиры"
   ]
  },
  {
   "cell_type": "code",
   "execution_count": null,
   "metadata": {
    "ExecuteTime": {
     "end_time": "2022-05-08T10:05:16.577044Z",
     "start_time": "2022-05-08T10:05:16.558374Z"
    }
   },
   "outputs": [],
   "source": [
    "df['price_per_m2'] = df[\"price\"] / df[\"area\"]\n",
    "df.reset_index(inplace=True) # учтем смещение id в результате удаления квартир за 1 000 000\n",
    "del df['index']\n",
    "df.head()"
   ]
  },
  {
   "cell_type": "markdown",
   "metadata": {},
   "source": [
    "### Fill in the blanks"
   ]
  },
  {
   "cell_type": "markdown",
   "metadata": {},
   "source": [
    "Пропуски: build_tech, metro_dist.  \n",
    "Проставим веса наблюдениями по принципу:есть пропуск - вес меньше."
   ]
  },
  {
   "cell_type": "markdown",
   "metadata": {},
   "source": [
    "Считаю веса наблюдений. Редкие более ценны чем частые"
   ]
  },
  {
   "cell_type": "code",
   "execution_count": null,
   "metadata": {
    "ExecuteTime": {
     "end_time": "2022-05-08T10:05:28.094272Z",
     "start_time": "2022-05-08T10:05:17.617927Z"
    }
   },
   "outputs": [],
   "source": [
    "# Заполним все пропуски в датасете на очень маленькое число\n",
    "df.fillna(value=-9999, inplace=True)\n",
    "df_test.fillna(value=-9999, inplace=True)\n",
    "\n",
    "# у квартир с одинаковой ценой вес меньше\n",
    "df['weights_unique'] = 0  \n",
    "counts = df[\"price\"].value_counts().values\n",
    "values = df[\"price\"].value_counts().index.values\n",
    "for i in range(values.shape[0]):\n",
    "    df.weights_unique[df[\"price\"].values == values[i]] = 1 / np.cbrt(counts[i])  # веса наблюдений\n",
    "\n",
    "    \n",
    "# у квартир с пропусками вес меньше\n",
    "df['weights_miss'] = 1  \n",
    "df.weights_miss[df[\"metro_dist\"].values == -9999] = df['weights_miss'][df[\"metro_dist\"].values == -9999] * 0.7 # предсказывается средне\n",
    "df.weights_miss[df[\"build_tech\"].values == -9999] = df['weights_miss'][df[\"build_tech\"].values == -9999] * 0.8  # предсказывается хорошо\n",
    "\n",
    "# более поздние наблюдения имеют больший вес\n",
    "df['month_weights'] = np.cbrt(df[\"mohth_from_begin\"].values)  \n",
    "\n",
    "\n",
    "df['weights'] = df['weights_unique'] * df['weights_miss'] + df['month_weights']\n",
    "\n",
    "del df['weights_miss']\n",
    "del df['month_weights']\n",
    "del df['weights_unique']\n",
    "df.head()"
   ]
  },
  {
   "cell_type": "code",
   "execution_count": null,
   "metadata": {
    "ExecuteTime": {
     "end_time": "2022-05-08T10:05:28.192585Z",
     "start_time": "2022-05-08T10:05:28.179582Z"
    }
   },
   "outputs": [],
   "source": [
    "check = df[{'metro_dist', 'price'}].groupby(['metro_dist']).mean() # скорее всего просто разбросаны. Имеет смысл заполнять моделью \n",
    "check.head(20)"
   ]
  },
  {
   "cell_type": "markdown",
   "metadata": {},
   "source": [
    "Заполним пропуски в build_tech. Данные категориальные, оттого используем мультиклассификационные деревья  \n",
    "Вначале проведем валидацию, посмотрим на ошибку."
   ]
  },
  {
   "cell_type": "code",
   "execution_count": null,
   "metadata": {
    "ExecuteTime": {
     "end_time": "2022-05-08T10:06:02.920352Z",
     "start_time": "2022-05-08T10:05:28.270540Z"
    }
   },
   "outputs": [],
   "source": [
    "# На валидацию берем как раз те данные, что были после 20 месяца\n",
    "df_train = df[(df[\"mohth_from_begin\"].values < 20) * (df[\"build_tech\"].values != -9999)]\n",
    "df_valid = df[(df[\"mohth_from_begin\"].values > 20) * (df[\"build_tech\"].values != -9999)]\n",
    "\n",
    "features = ['street_id', 'floor', 'area', 'rooms', 'balcon', 'n_photos',\n",
    "            'kw1', 'kw2', 'kw3', 'kw4', 'kw5', 'kw6', 'kw7', 'kw8', 'kw9', 'kw10', 'kw11', 'kw12', 'kw13']\n",
    "cat_features = ['street_id']\n",
    "\n",
    "\n",
    "train_pool = Pool(data=df_train[features], label=df_train.build_tech.values, \n",
    "                  cat_features=cat_features, weight = df_train.weights.values)\n",
    "valid_pool = Pool(df_valid[features], label=df_valid.build_tech.values, \n",
    "                  cat_features=cat_features)\n",
    "\n",
    "build_model = CatBoostClassifier(random_state=42)\n",
    "build_model.fit(train_pool, eval_set=valid_pool, verbose = False, plot=True)\n",
    "\n",
    "pred_train = build_model.predict(df_train[features])\n",
    "pred_valid = build_model.predict(df_valid[features])"
   ]
  },
  {
   "cell_type": "code",
   "execution_count": null,
   "metadata": {
    "ExecuteTime": {
     "end_time": "2022-05-08T10:06:03.179626Z",
     "start_time": "2022-05-08T10:06:03.058255Z"
    }
   },
   "outputs": [],
   "source": [
    "print(\"train: \\n\", classification_report(pred_train, df_train.build_tech.values))\n",
    "print(\"valid: \\n\", classification_report(pred_valid, df_valid.build_tech.values))"
   ]
  },
  {
   "cell_type": "markdown",
   "metadata": {},
   "source": [
    "Будем считать качество на дефолтных деревьях удовлетворительным (за неимением другого).   \n",
    "В качестве оптимизации можно попробовать подобрать гиперпараметры, однако KIS никто не отменял"
   ]
  },
  {
   "cell_type": "code",
   "execution_count": null,
   "metadata": {
    "ExecuteTime": {
     "end_time": "2022-05-08T10:06:49.619845Z",
     "start_time": "2022-05-08T10:06:03.346374Z"
    }
   },
   "outputs": [],
   "source": [
    "# Теперь проведем подстановку фич на всем датасете\n",
    "mask = df[\"build_tech\"].values != -9999\n",
    "features = ['street_id', 'floor', 'area', 'rooms', 'balcon', 'n_photos',\n",
    "            'kw1', 'kw2', 'kw3', 'kw4', 'kw5', 'kw6', 'kw7', 'kw8', 'kw9', 'kw10', 'kw11', 'kw12', 'kw13']\n",
    "cat_features = ['street_id']\n",
    "\n",
    "train_pool = Pool(data=df[features][mask], label=df.build_tech[mask].values, \n",
    "                  cat_features=cat_features, weight = df.weights[mask].values)\n",
    "\n",
    "build_model = CatBoostClassifier(random_state=42)\n",
    "build_model.fit(train_pool, verbose = False, plot=True)\n",
    "\n",
    "pred_train = build_model.predict(train_pool)"
   ]
  },
  {
   "cell_type": "code",
   "execution_count": null,
   "metadata": {
    "ExecuteTime": {
     "end_time": "2022-05-08T10:06:49.818466Z",
     "start_time": "2022-05-08T10:06:49.622625Z"
    }
   },
   "outputs": [],
   "source": [
    "df[\"build_tech\"][df[\"build_tech\"].values == -9999] =\\\n",
    "                build_model.predict(df[df[\"build_tech\"].values == -9999][features].values).reshape(-1)\n",
    "df_test[\"build_tech\"][df_test[\"build_tech\"].values == -9999] =\\\n",
    "                build_model.predict(df_test[df_test[\"build_tech\"].values == -9999][features].values).reshape(-1)"
   ]
  },
  {
   "cell_type": "code",
   "execution_count": null,
   "metadata": {
    "ExecuteTime": {
     "end_time": "2022-05-08T10:06:50.308797Z",
     "start_time": "2022-05-08T10:06:50.144291Z"
    }
   },
   "outputs": [],
   "source": [
    "# Посмотрим на общее распределение данных\n",
    "df[\"build_tech\"].hist(figsize=(5, 5))\n",
    "plt.show()"
   ]
  },
  {
   "cell_type": "markdown",
   "metadata": {
    "ExecuteTime": {
     "end_time": "2022-05-07T10:54:29.884889Z",
     "start_time": "2022-05-07T10:54:29.872785Z"
    }
   },
   "source": [
    "Заполним пропуски в metro_dist. Данные вещественные, оттого используем регрессионные деревья  \n",
    "По аналогии с мультиклассификацией, вначале проведем валидацию. Разбиение на выборку - то же."
   ]
  },
  {
   "cell_type": "code",
   "execution_count": null,
   "metadata": {
    "ExecuteTime": {
     "end_time": "2022-05-08T10:07:50.552705Z",
     "start_time": "2022-05-08T10:06:50.501704Z"
    }
   },
   "outputs": [],
   "source": [
    "# На валидацию берем как раз те данные, что были после 20 месяца\n",
    "df_train = df[(df[\"mohth_from_begin\"].values < 20) * (df[\"metro_dist\"].values != -9999)]\n",
    "df_valid = df[(df[\"mohth_from_begin\"].values > 20) * (df[\"metro_dist\"].values != -9999)]\n",
    "\n",
    "features = ['street_id', 'floor', 'area', 'rooms', 'balcon', 'n_photos',\n",
    "            'kw1', 'kw2', 'kw3', 'kw4', 'kw5', 'kw6', 'kw7', 'kw8', 'kw9', 'kw10', 'kw11', 'kw12', 'kw13']\n",
    "cat_features = ['street_id']\n",
    "\n",
    "\n",
    "train_pool = Pool(data=df_train[features], label=df_train[\"metro_dist\"], \n",
    "                  cat_features=cat_features, weight=df_train[\"weights\"].values)\n",
    "valid_pool = Pool(data=df_valid[features], label=df_valid[\"metro_dist\"], \n",
    "                  cat_features=cat_features)\n",
    "\n",
    "metro_model = CatBoostRegressor(loss_function='MAE', eval_metric='MAE', \n",
    "                random_state=42, n_estimators=3000,\n",
    ")\n",
    "metro_model.fit(train_pool, eval_set=valid_pool, verbose = False, plot=True)\n",
    "\n",
    "pred_train = metro_model.predict(df_train[features])\n",
    "pred_valid = metro_model.predict(df_valid[features])"
   ]
  },
  {
   "cell_type": "code",
   "execution_count": null,
   "metadata": {
    "ExecuteTime": {
     "end_time": "2022-05-08T10:07:50.560016Z",
     "start_time": "2022-05-08T10:07:50.554338Z"
    }
   },
   "outputs": [],
   "source": [
    "print(\"train: \\n\", mean_absolute_error(pred_train, df_train.metro_dist.values))\n",
    "print(\"valid: \\n\", mean_absolute_error(pred_valid, df_valid.metro_dist.values))"
   ]
  },
  {
   "cell_type": "markdown",
   "metadata": {},
   "source": [
    "MAE в 5% будем считать приемлемой, как инженерную погрешность"
   ]
  },
  {
   "cell_type": "code",
   "execution_count": null,
   "metadata": {
    "ExecuteTime": {
     "end_time": "2022-05-08T10:08:52.467786Z",
     "start_time": "2022-05-08T10:07:50.897295Z"
    }
   },
   "outputs": [],
   "source": [
    "# Замена значений во всей выборке\n",
    "mask = df.metro_dist.values != -9999\n",
    "features = ['street_id', 'floor', 'area', 'rooms', 'balcon', 'n_photos',\n",
    "            'kw1', 'kw2', 'kw3', 'kw4', 'kw5', 'kw6', 'kw7', 'kw8', 'kw9', 'kw10', 'kw11', 'kw12', 'kw13']\n",
    "cat_features = ['street_id']\n",
    "\n",
    "train_pool = Pool(data=df[features][mask], label=df[\"metro_dist\"][mask], \n",
    "                  cat_features=cat_features, weight = df[\"weights\"][mask].values)\n",
    "\n",
    "metro_model = CatBoostRegressor(loss_function='MAE', eval_metric='MAE', \n",
    "                random_state=42, n_estimators=3000)\n",
    "metro_model.fit(train_pool, verbose = False, plot=True)"
   ]
  },
  {
   "cell_type": "code",
   "execution_count": null,
   "metadata": {
    "ExecuteTime": {
     "end_time": "2022-05-08T10:08:52.665731Z",
     "start_time": "2022-05-08T10:08:52.615410Z"
    }
   },
   "outputs": [],
   "source": [
    "df[\"metro_dist\"][df[\"metro_dist\"].values == -9999] =\\\n",
    "                                metro_model.predict(df[df[\"metro_dist\"].values == -9999][features])\n",
    "df_test[\"metro_dist\"][df_test[\"metro_dist\"] == -9999] =\\\n",
    "                                metro_model.predict(df_test[df_test[\"metro_dist\"].values == -9999][features])"
   ]
  },
  {
   "cell_type": "code",
   "execution_count": null,
   "metadata": {
    "ExecuteTime": {
     "end_time": "2022-05-08T10:34:57.183374Z",
     "start_time": "2022-05-08T10:34:57.175258Z"
    }
   },
   "outputs": [],
   "source": [
    "df[\"metro_dist\"] = round(df[\"metro_dist\"] / 5) * 5\n",
    "df_test[\"metro_dist\"] = round(df_test[\"metro_dist\"] / 5) * 5"
   ]
  },
  {
   "cell_type": "code",
   "execution_count": null,
   "metadata": {
    "ExecuteTime": {
     "end_time": "2022-05-08T10:35:02.599643Z",
     "start_time": "2022-05-08T10:35:02.420937Z"
    }
   },
   "outputs": [],
   "source": [
    "# Посмотрим на общее распределение данных\n",
    "df[\"metro_dist\"].hist(figsize=(5, 5))\n",
    "plt.show()"
   ]
  },
  {
   "cell_type": "markdown",
   "metadata": {},
   "source": [
    "### Time series impact in price"
   ]
  },
  {
   "cell_type": "markdown",
   "metadata": {},
   "source": [
    "Посмотрим, как влияет временная компонента на распределение цен. Нет ли выбросов"
   ]
  },
  {
   "cell_type": "code",
   "execution_count": null,
   "metadata": {
    "ExecuteTime": {
     "end_time": "2022-05-08T10:35:48.945961Z",
     "start_time": "2022-05-08T10:35:45.723960Z"
    },
    "scrolled": true
   },
   "outputs": [],
   "source": [
    "y = df[\"mohth_from_begin\"].values\n",
    "df['normal_price_month'] = 0.0\n",
    "\n",
    "for i in np.unique(y):\n",
    "    df[\"normal_price_month\"][y == i] = df[\"price\"][y == i].values.reshape(-1, 1).reshape(-1)\n",
    "\n",
    "fig, ax = plt.subplots(6, 3, figsize=(25,50))\n",
    "n, k, i = 0, 0, 0\n",
    "for i, month in enumerate(np.unique(y)):\n",
    "    ax[i // 3, i % 3].hist(df[\"normal_price_month\"][y == month].values, bins=40)\n",
    "    ax[i // 3, i % 3].set_title('month from begin =' + str(month))"
   ]
  },
  {
   "cell_type": "markdown",
   "metadata": {},
   "source": [
    "Как видно, данные распределяются ненормально. Попробуем применить преобразования Бокса-Кокса для нормализации.  \n",
    "Удобнее отслеживать пороговые значения"
   ]
  },
  {
   "cell_type": "code",
   "execution_count": null,
   "metadata": {
    "ExecuteTime": {
     "end_time": "2022-05-08T10:35:56.625991Z",
     "start_time": "2022-05-08T10:35:52.851842Z"
    },
    "scrolled": true
   },
   "outputs": [],
   "source": [
    "PW_array = []\n",
    "y = df[\"mohth_from_begin\"].values\n",
    "df['normal_price_month'] = 0.0\n",
    "\n",
    "for i in np.unique(y):\n",
    "    PW = PowerTransformer(method='box-cox')\n",
    "    PW.fit(df[\"price\"][y == i].values.reshape(-1, 1))\n",
    "    df[\"normal_price_month\"][y == i] = PW.transform(df[\"price\"][y == i].values.reshape(-1, 1)).reshape(-1)\n",
    "    PW_array.append(PW)\n",
    "    \n",
    "fig, ax = plt.subplots(6, 3, figsize=(25,50))\n",
    "n, k, i = 0, 0, 0\n",
    "for i, month in enumerate(np.unique(y)):\n",
    "    ax[i // 3, i % 3].hist(df[\"normal_price_month\"][y == month].values, bins=40)\n",
    "    ax[i // 3, i % 3].set_title('month from begin =' + str(month))"
   ]
  },
  {
   "cell_type": "markdown",
   "metadata": {},
   "source": [
    "Картина обычная, аномалий в течение времени не обнаружилось"
   ]
  },
  {
   "cell_type": "markdown",
   "metadata": {},
   "source": [
    "Теперь посмотрим, как обстоят дела со стоимостью квартиры в зависимости от улицы"
   ]
  },
  {
   "cell_type": "code",
   "execution_count": null,
   "metadata": {
    "ExecuteTime": {
     "end_time": "2022-05-08T10:36:00.830295Z",
     "start_time": "2022-05-08T10:35:58.108916Z"
    }
   },
   "outputs": [],
   "source": [
    "PW_stree_array = []\n",
    "y = df[\"street_id\"].values\n",
    "df['normal_price_street'] = 0.0\n",
    "\n",
    "for i in np.unique(y):\n",
    "    PW = PowerTransformer(method='box-cox')\n",
    "    PW.fit(df[\"price\"][y == i].values.reshape(-1, 1))\n",
    "    df[\"normal_price_street\"][y == i] = PW.transform(df[\"price\"][y == i].values.reshape(-1, 1)).reshape(-1)\n",
    "    PW_stree_array.append(PW)"
   ]
  },
  {
   "cell_type": "code",
   "execution_count": null,
   "metadata": {
    "ExecuteTime": {
     "end_time": "2022-05-08T10:37:50.178359Z",
     "start_time": "2022-05-08T10:37:49.986658Z"
    }
   },
   "outputs": [],
   "source": [
    "# Обычная оценка средней цены\n",
    "mean_price = df[['price', 'mohth_from_begin']].groupby(['mohth_from_begin']).mean()\n",
    "\n",
    "# вклад в стоимость, нет пропусков и уникальное значение стоимости - большой вклад\n",
    "df['weight_price'] = df[\"price\"] * df[\"weights\"]\n",
    "\n",
    "# Выберем только квартиры с ценами в пределах -2-2 стандартных отклонений по месяцам\n",
    "mask1 = (df['normal_price_month'].values < 2) * (df['normal_price_month'].values > -2) \n",
    "# Выберем только квартиры с ценами в пределах -3-3 стандартных отклонений по улицам \n",
    "mask2 = (df['normal_price_street'].values < 3) * (df['normal_price_street'].values > -3)\n",
    "\n",
    "mask = mask1 * mask2\n",
    "# Посмотрим на более устойчивую к маленьким измнениям статистику - среднюю цену\n",
    "robast_mean_price = df[['weight_price', 'mohth_from_begin']][mask].groupby(['mohth_from_begin']).sum() /\\\n",
    "                    df[['weights', 'mohth_from_begin']][mask].groupby(['mohth_from_begin']).sum().values\n",
    "\n",
    "plt.figure(figsize=(7,7))\n",
    "plt.scatter(mean_price.index, mean_price.values, label = \"Mean\")\n",
    "plt.scatter(robast_mean_price.index, robast_mean_price.values, label = \"Robast mean\", color=\"red\")\n",
    "plt.grid()\n",
    "plt.legend()\n",
    "plt.show()"
   ]
  },
  {
   "cell_type": "markdown",
   "metadata": {},
   "source": [
    "Хорошая линейная зависимость. Можно поробовать решить задачу линейной регрессии, и синтезировать еще один признак в модель"
   ]
  },
  {
   "cell_type": "code",
   "execution_count": null,
   "metadata": {
    "ExecuteTime": {
     "end_time": "2022-05-08T10:37:52.779692Z",
     "start_time": "2022-05-08T10:37:52.594416Z"
    }
   },
   "outputs": [],
   "source": [
    "train = robast_mean_price\n",
    "linear_model = SVR(kernel='poly', degree=1, C=1e5).fit(X = train.index.values.reshape(-1, 1), y = train.values)\n",
    "pred = linear_model.predict(X = np.arange(0, 40).reshape(-1, 1))\n",
    "\n",
    "plt.figure(figsize=(5,5))\n",
    "plt.plot(np.arange(0, 40).reshape(-1, 1), pred, label = \"Pred\")\n",
    "plt.scatter(robast_mean_price.index, robast_mean_price.values, label = \"Robast mean\", color=\"red\")\n",
    "plt.grid()\n",
    "plt.legend()\n",
    "plt.show()"
   ]
  },
  {
   "cell_type": "markdown",
   "metadata": {},
   "source": [
    "Вычисляю коэффицент стоимости от месяца по модели"
   ]
  },
  {
   "cell_type": "code",
   "execution_count": null,
   "metadata": {
    "ExecuteTime": {
     "end_time": "2022-05-08T10:37:54.566184Z",
     "start_time": "2022-05-08T10:37:54.486298Z"
    }
   },
   "outputs": [],
   "source": [
    "time_24 = linear_model.predict([[24]])\n",
    "\n",
    "# Прогноз средней цены\n",
    "df['pred_mean'] = linear_model.predict(df[\"mohth_from_begin\"].values.reshape(-1, 1))\n",
    "\n",
    "# Коэффициент стоимости от времени\n",
    "df['model_time_coef'] = df[\"pred_mean\"] / time_24\n",
    "\n",
    "# Цена с поправкой на время\n",
    "df['model_price_without_time'] = df[\"price\"] / df[\"model_time_coef\"]\n",
    "\n",
    "# Прогноз средней цены для теста\n",
    "df_test['model_pred_mean'] = linear_model.predict(df_test[\"mohth_from_begin\"].values.reshape(-1, 1))\n",
    "# Опорным берется последний месяц\n",
    "df_test['model_time_coef'] = df_test[\"model_pred_mean\"] / time_24"
   ]
  },
  {
   "cell_type": "markdown",
   "metadata": {},
   "source": [
    "Стоимость квадратного метра в зависимости от даты и улицы"
   ]
  },
  {
   "cell_type": "code",
   "execution_count": null,
   "metadata": {
    "ExecuteTime": {
     "end_time": "2022-05-08T10:37:59.413565Z",
     "start_time": "2022-05-08T10:37:55.604711Z"
    },
    "scrolled": true
   },
   "outputs": [],
   "source": [
    "PW_street_data_array = []\n",
    "\n",
    "y = df[\"mohth_from_begin\"].values\n",
    "df['normal_price_month_m2'] = 0.0\n",
    "\n",
    "for i in np.unique(y):\n",
    "    PW = PowerTransformer(method='box-cox')\n",
    "    PW.fit(df[\"price_per_m2\"][y == i].values.reshape(-1, 1))\n",
    "    df[\"normal_price_month_m2\"][y == i] =\\\n",
    "                                    PW.transform(df[\"price_per_m2\"][y == i].values.reshape(-1, 1)).reshape(-1)\n",
    "    PW_street_data_array.append(PW)\n",
    "    \n",
    "fig, ax = plt.subplots(6, 3, figsize=(25,50))\n",
    "n, k, i = 0, 0, 0\n",
    "for i, month in enumerate(np.unique(y)):\n",
    "    ax[i // 3, i % 3].hist(df[\"normal_price_month_m2\"][y == month].values, bins=40)\n",
    "    ax[i // 3, i % 3].set_title('month from begin =' + str(month))"
   ]
  },
  {
   "cell_type": "markdown",
   "metadata": {},
   "source": [
    "Картина обычная, аномалий нет"
   ]
  },
  {
   "cell_type": "code",
   "execution_count": null,
   "metadata": {
    "ExecuteTime": {
     "end_time": "2022-05-08T10:38:02.799361Z",
     "start_time": "2022-05-08T10:37:59.821032Z"
    }
   },
   "outputs": [],
   "source": [
    "PW_street_array = []\n",
    "y = df[\"street_id\"].values\n",
    "df['normal_price_street_m2'] = 0.0\n",
    "\n",
    "for i in np.unique(y):\n",
    "    PW = PowerTransformer(method='box-cox')\n",
    "    PW.fit(df[\"price_per_m2\"][y == i].values.reshape(-1, 1))\n",
    "    df[\"normal_price_street_m2\"][y == i] =\\\n",
    "                                    PW.transform(df[\"price_per_m2\"][y == i].values.reshape(-1, 1)).reshape(-1)\n",
    "    PW_street_array.append(PW)"
   ]
  },
  {
   "cell_type": "markdown",
   "metadata": {},
   "source": [
    "Считаю среднюю и робастную среднюю оценки средней цены за квадратный метр."
   ]
  },
  {
   "cell_type": "code",
   "execution_count": null,
   "metadata": {
    "ExecuteTime": {
     "end_time": "2022-05-08T10:38:03.408309Z",
     "start_time": "2022-05-08T10:38:03.221397Z"
    }
   },
   "outputs": [],
   "source": [
    "# Средняя оценка стоимости квадратного метра\n",
    "mean_price_m2 = df[['price_per_m2', 'mohth_from_begin']].groupby(['mohth_from_begin']).mean()\n",
    "\n",
    "# Вклад в стоимость, нет пропусков и уникальное значение стоимости - большой вклад\n",
    "df['weight_price_m2'] = df[\"price_per_m2\"] * df[\"weights\"]\n",
    "\n",
    "# Выбираем только квартиры с ценами в пределах -2-2 стандартных отклонений по месяцам\n",
    "mask1 = (df['normal_price_month'].values < 2) * (df['normal_price_month'].values > -2)\n",
    "\n",
    "# Выбираем только квартиры с ценами в пределах -3-3 стандартных отклонений по улицам\n",
    "mask2 = (df['normal_price_street'].values < 3) * (df['normal_price_street'].values > -3)\n",
    "mask = mask1 * mask2\n",
    "\n",
    "robast_mean_price_m2 = df[['weight_price_m2', 'mohth_from_begin']][mask].groupby(['mohth_from_begin']).sum() /\\\n",
    "                        df[['weights', 'mohth_from_begin']][mask].groupby(['mohth_from_begin']).sum().values\n",
    "\n",
    "plt.figure(figsize=(7,7))\n",
    "plt.scatter(mean_price_m2.index, mean_price_m2.values, label = \"mean\")\n",
    "plt.scatter(robast_mean_price_m2.index, robast_mean_price_m2.values, label = \"Robast mean\", color=\"red\")\n",
    "plt.grid()\n",
    "plt.legend()\n",
    "plt.show()"
   ]
  },
  {
   "cell_type": "markdown",
   "metadata": {},
   "source": [
    "Также видна хорошая линейная зависимость. Решим регрессию, получим синтезированный признак в модель"
   ]
  },
  {
   "cell_type": "code",
   "execution_count": null,
   "metadata": {
    "ExecuteTime": {
     "end_time": "2022-05-08T10:38:04.818683Z",
     "start_time": "2022-05-08T10:38:04.626915Z"
    }
   },
   "outputs": [],
   "source": [
    "train = robast_mean_price_m2\n",
    "linear_model = SVR(kernel='poly', degree=1, C=10000).fit(X=train.index.values.reshape(-1, 1), y=train.values)\n",
    "\n",
    "pred = linear_model.predict(X=np.arange(0, 40).reshape(-1, 1))\n",
    "\n",
    "plt.figure(figsize=(7,7))\n",
    "plt.plot(np.arange(0, 40).reshape(-1, 1), pred, label=\"Pred\")\n",
    "plt.scatter(robast_mean_price_m2.index, robast_mean_price_m2.values, label=\"Robast mean\", color=\"red\")\n",
    "plt.grid()\n",
    "plt.legend()\n",
    "plt.show()"
   ]
  },
  {
   "cell_type": "code",
   "execution_count": null,
   "metadata": {
    "ExecuteTime": {
     "end_time": "2022-05-08T10:38:06.527960Z",
     "start_time": "2022-05-08T10:38:06.436474Z"
    }
   },
   "outputs": [],
   "source": [
    "time_24 = linear_model.predict([[24]])\n",
    "\n",
    "# Прогноз средней цены\n",
    "df['model_pred_mean_m2'] = linear_model.predict(df[\"mohth_from_begin\"].values.reshape(-1, 1))\n",
    "\n",
    "# Во сколько квартира лучше средней\n",
    "df['model_coef_price_m2'] = df['price_per_m2'] / df['model_pred_mean_m2']\n",
    "\n",
    "# Коэффициент стоимости от времени\n",
    "df['model_time_coef_m2'] = df[\"model_pred_mean_m2\"] / time_24\n",
    "# Цена с поправкой на время\n",
    "df['model_price_m2_without_time'] = df[\"price_per_m2\"] / df[\"model_time_coef_m2\"]\n",
    "\n",
    "# Прогноз средней цены для теста\n",
    "df_test['model_pred_mean_m2'] = linear_model.predict(df_test.mohth_from_begin.values.reshape(-1, 1))\n",
    "\n",
    "# Опорным берется последний месяц\n",
    "df_test['model_time_coef_m2'] = df_test[\"model_pred_mean_m2\"] / time_24"
   ]
  },
  {
   "cell_type": "markdown",
   "metadata": {},
   "source": [
    "## Data Clusterisation"
   ]
  },
  {
   "cell_type": "markdown",
   "metadata": {},
   "source": [
    "Выполняю кластеризацию. По площади и стомости квадратного метра с поправкой на время.\n",
    "Дополнительная фича для catboost."
   ]
  },
  {
   "cell_type": "code",
   "execution_count": null,
   "metadata": {
    "ExecuteTime": {
     "end_time": "2022-05-08T10:40:50.926391Z",
     "start_time": "2022-05-08T10:38:13.563989Z"
    }
   },
   "outputs": [],
   "source": [
    "# Введем список цветов\n",
    "colors_list = list(colors._colors_full_map.values())\n",
    "train = df.sample(frac=0.7, replace=True, random_state=42, weights=df[\"weights\"])\n",
    "\n",
    "claster = ['model_price_m2_without_time', 'area']\n",
    "# Количество кластеров заранее неизвестно, DBCSAN потребует подбор гиперпараметров, оттого воспользуемся\n",
    "# простейшими гауссовскими кластеризаторами\n",
    "classtering = Pipeline([\n",
    "    ('SS', StandardScaler()),\n",
    "    ('GaussianMixture', GaussianMixture(n_components=30, random_state=42, n_init=10)) \n",
    "])\n",
    "\n",
    "labels = classtering.fit_predict(train[claster])\n",
    "\n",
    "\n",
    "plt.figure(figsize=(15, 10))\n",
    "plt.grid()\n",
    "for i in np.unique(labels):\n",
    "    plt.scatter(train[\"area\"][i == labels].values,\\\n",
    "                train[\"model_price_m2_without_time\"][i==labels].values, cmap=colors_list[i], alpha=0.1)\n",
    "plt.show()"
   ]
  },
  {
   "cell_type": "code",
   "execution_count": null,
   "metadata": {
    "ExecuteTime": {
     "end_time": "2022-05-08T10:40:51.831098Z",
     "start_time": "2022-05-08T10:40:51.436062Z"
    }
   },
   "outputs": [],
   "source": [
    "df['labels'] = classtering.predict(df[claster])\n",
    "print(f\"Итого получилось {len(pd.unique(df['labels']))} уникальных меток кластеров\")"
   ]
  },
  {
   "cell_type": "markdown",
   "metadata": {},
   "source": [
    "Попробуем предсказать метрики на датасете"
   ]
  },
  {
   "cell_type": "code",
   "execution_count": null,
   "metadata": {
    "ExecuteTime": {
     "end_time": "2022-05-08T10:50:06.645595Z",
     "start_time": "2022-05-08T10:46:01.682575Z"
    }
   },
   "outputs": [],
   "source": [
    "train, valid = train_test_split(df, train_size=0.5)\n",
    "features = ['street_id', 'build_tech', 'floor', 'area', 'rooms', 'balcon', 'metro_dist','n_photos', \n",
    "           'kw1', 'kw2', 'kw3', 'kw4', 'kw5', 'kw6', 'kw7', 'kw8', 'kw9', 'kw10', 'kw11', 'kw12', 'kw13']\n",
    "cat_features = ['street_id']\n",
    "\n",
    "target = ['labels']\n",
    "\n",
    "train_pool = Pool(train[features], label=train[target], weight = train[\"weights\"].values)\n",
    "valid_pool = Pool(valid[features], label=valid[target])\n",
    "\n",
    "model = CatBoostClassifier(n_estimators=2000, random_state=42,\n",
    "                           auto_class_weights='SqrtBalanced'\n",
    "                           )\n",
    "\n",
    "model.fit(train_pool, eval_set=valid_pool, verbose=False, plot=True)"
   ]
  },
  {
   "cell_type": "code",
   "execution_count": null,
   "metadata": {
    "ExecuteTime": {
     "end_time": "2022-05-08T10:50:07.995789Z",
     "start_time": "2022-05-08T10:50:07.074216Z"
    }
   },
   "outputs": [],
   "source": [
    "pred_train = model.predict(train_pool)\n",
    "pred_valid = model.predict(valid_pool)\n",
    "\n",
    "train['pred_labels'] = pred_train\n",
    "valid['pred_labels'] = pred_valid"
   ]
  },
  {
   "cell_type": "code",
   "execution_count": null,
   "metadata": {
    "ExecuteTime": {
     "end_time": "2022-05-08T10:50:08.633646Z",
     "start_time": "2022-05-08T10:50:08.433692Z"
    }
   },
   "outputs": [],
   "source": [
    "print(\"train: \\n\", classification_report(pred_train, train[\"labels\"].values))\n",
    "print(\"valid: \\n\", classification_report(pred_valid, valid[\"labels\"].values))"
   ]
  },
  {
   "cell_type": "code",
   "execution_count": null,
   "metadata": {
    "ExecuteTime": {
     "end_time": "2022-05-08T10:50:10.752021Z",
     "start_time": "2022-05-08T10:50:09.060501Z"
    }
   },
   "outputs": [],
   "source": [
    "# Истинные метки\n",
    "plt.figure(figsize=(15, 10))\n",
    "plt.grid()\n",
    "for i in np.unique(train[\"pred_labels\"].unique()):\n",
    "    plt.scatter(valid[\"area\"][i == valid[\"labels\"]].values,\n",
    "                valid[\"model_price_m2_without_time\"][i==valid[\"labels\"]].values,\n",
    "                cmap=colors_list[i], alpha=0.2, label ='cluster: ' + str(i))\n",
    "plt.legend()\n",
    "plt.show()"
   ]
  },
  {
   "cell_type": "code",
   "execution_count": null,
   "metadata": {
    "ExecuteTime": {
     "end_time": "2022-05-08T10:50:12.862055Z",
     "start_time": "2022-05-08T10:50:11.206663Z"
    }
   },
   "outputs": [],
   "source": [
    "# Прогнозные\n",
    "plt.figure(figsize=(15, 10))\n",
    "plt.grid()\n",
    "for i in np.unique(valid.pred_labels.unique()):\n",
    "    plt.scatter(valid[\"area\"][i == valid[\"pred_labels\"]].values, \n",
    "                valid[\"model_price_m2_without_time\"][i==valid[\"pred_labels\"]].values,\n",
    "                cmap=colors_list[i], alpha=0.2, label ='claster: ' + str(i))\n",
    "plt.legend()\n",
    "plt.show()"
   ]
  },
  {
   "cell_type": "markdown",
   "metadata": {},
   "source": [
    "Визуально качество разметки - неудовлетворительное. Попробуем обучится вместе с ним, в случае чего - уберем"
   ]
  },
  {
   "cell_type": "code",
   "execution_count": null,
   "metadata": {
    "ExecuteTime": {
     "end_time": "2022-05-08T10:50:15.230597Z",
     "start_time": "2022-05-08T10:50:13.291985Z"
    }
   },
   "outputs": [],
   "source": [
    "df['labels'] = model.predict(df[features])\n",
    "df_test['labels'] = model.predict(df_test[features])"
   ]
  },
  {
   "cell_type": "markdown",
   "metadata": {},
   "source": [
    "## Valid Training\n",
    "Теперь попробуем валидироваться на всей train выборке, проверим качество, используем все фичи"
   ]
  },
  {
   "cell_type": "code",
   "execution_count": null,
   "metadata": {
    "ExecuteTime": {
     "end_time": "2022-05-08T10:50:15.727985Z",
     "start_time": "2022-05-08T10:50:15.670757Z"
    }
   },
   "outputs": [],
   "source": [
    "df_train = df[df['mohth_from_begin'].values < 20]\n",
    "df_valid = df[df['mohth_from_begin'].values > 20]\n",
    "\n",
    "labels = ['labels'] \n",
    "initial_features = ['street_id', 'build_tech', 'floor', 'area', 'rooms', 'balcon', 'metro_dist', \n",
    "                   'kw1', 'kw2']\n",
    "cat_features_ = ['street_id']\n",
    "\n",
    "target = ['model_price_without_time']\n",
    "\n",
    "cat_features = cat_features_ + labels\n",
    "features = initial_features + labels\n",
    "\n",
    "train_pool = Pool(data = df_train[features], label = df_train[target], cat_features=cat_features)\n",
    "valid_pool = Pool(data = df_valid[features], label = df_valid[target], cat_features=cat_features)"
   ]
  },
  {
   "cell_type": "code",
   "execution_count": null,
   "metadata": {
    "ExecuteTime": {
     "start_time": "2022-05-08T10:46:15.845Z"
    }
   },
   "outputs": [],
   "source": [
    "# Итоговые значения гиперпараметров могут отличаться от тех, что выдал hyperopt в связи с ручной корректировкой\n",
    "model = CatBoostRegressor(random_state=42, n_estimators=15000, loss_function='MAE', eval_metric='MAE',\n",
    "                          bagging_temperature=0.43, depth=6, l2_leaf_reg=299, learning_rate=0.056)\n",
    "\n",
    "model.fit(train_pool, eval_set=valid_pool, verbose=False, plot=True)\n",
    "\n",
    "pred_train = model.predict(df_train[features])\n",
    "pred_valid = model.predict(df_valid[features])"
   ]
  },
  {
   "cell_type": "code",
   "execution_count": null,
   "metadata": {
    "ExecuteTime": {
     "start_time": "2022-05-08T10:46:16.842Z"
    }
   },
   "outputs": [],
   "source": [
    "dict(zip(model.feature_names_, model.feature_importances_))"
   ]
  },
  {
   "cell_type": "markdown",
   "metadata": {},
   "source": [
    "Выясняется, что kw_1-kw_13 вообще не влияют на ценообразование.\n",
    "А labels все-таки вносит вес"
   ]
  },
  {
   "cell_type": "code",
   "execution_count": null,
   "metadata": {
    "ExecuteTime": {
     "start_time": "2022-05-08T10:46:23.584Z"
    }
   },
   "outputs": [],
   "source": [
    "print(\"Mae for model_price without time\")\n",
    "\n",
    "print(\"train: \", mean_absolute_error(pred_train, df_train[target]))\n",
    "print(\"valid: \", mean_absolute_error(pred_valid, df_valid[target]))"
   ]
  },
  {
   "cell_type": "code",
   "execution_count": null,
   "metadata": {
    "ExecuteTime": {
     "start_time": "2022-05-08T10:46:25.017Z"
    }
   },
   "outputs": [],
   "source": [
    "print(\"Mae for result_price\")\n",
    "print(\"train: \", mean_absolute_error(pred_train * df_train[\"model_time_coef\"], df_train[\"price\"]))\n",
    "print(\"valid: \", mean_absolute_error(pred_valid * df_valid[\"model_time_coef\"], df_valid[\"price\"])) "
   ]
  },
  {
   "cell_type": "code",
   "execution_count": null,
   "metadata": {
    "ExecuteTime": {
     "start_time": "2022-05-08T10:46:26.854Z"
    }
   },
   "outputs": [],
   "source": [
    "df_train['pred'] = pred_train\n",
    "df_valid['pred'] = pred_valid"
   ]
  },
  {
   "cell_type": "code",
   "execution_count": null,
   "metadata": {
    "ExecuteTime": {
     "start_time": "2022-05-08T10:46:27.656Z"
    }
   },
   "outputs": [],
   "source": [
    "df_train['error'] = df_train[\"model_price_without_time\"] - df_train[\"pred\"]\n",
    "df_train['abs_error'] = np.abs(df_train['error'])\n",
    "df_valid['error'] = df_valid[\"model_price_without_time\"] - df_valid[\"pred\"]\n",
    "df_valid['abs_error'] = np.abs(df_valid['error'])\n",
    "df_train['fraction_error'] = df_train[\"abs_error\"] / df_train[\"model_price_without_time\"]\n",
    "df_valid['fraction_error'] = df_valid[\"abs_error\"] / df_valid[\"model_price_without_time\"]"
   ]
  },
  {
   "cell_type": "code",
   "execution_count": null,
   "metadata": {
    "ExecuteTime": {
     "start_time": "2022-05-08T10:46:29.447Z"
    }
   },
   "outputs": [],
   "source": [
    "plt.figure(figsize=(20, 15))\n",
    "plt.grid()\n",
    "plt.hist(df_valid[\"error\"].values, bins=100)\n",
    "plt.show()"
   ]
  },
  {
   "cell_type": "markdown",
   "metadata": {},
   "source": [
    "Ошибка слабо смещена"
   ]
  },
  {
   "cell_type": "code",
   "execution_count": null,
   "metadata": {
    "ExecuteTime": {
     "start_time": "2022-05-08T10:46:33.456Z"
    }
   },
   "outputs": [],
   "source": [
    "params = ['street_id', 'build_tech', 'floor', 'area','rooms', 'balcon', 'metro_dist', 'n_photos', \n",
    "          'kw1', 'kw2', 'kw3', 'kw4', 'kw5', 'kw6', 'kw7', 'kw8', 'kw9', 'kw10', 'kw11', 'kw12', 'kw13',\n",
    "          'mohth_from_begin', 'price',  'pred', 'error', 'abs_error', 'fraction_error']\n",
    "\n",
    "df_train[params].sort_values(by='fraction_error', ascending=False).head(10)"
   ]
  },
  {
   "cell_type": "markdown",
   "metadata": {},
   "source": [
    "## Model hyperopts optimisation\n",
    "Попробуем подобрать гиперпараметры модели, затем переобучимся и посмотрим качество на валидацинной выборке"
   ]
  },
  {
   "cell_type": "code",
   "execution_count": null,
   "metadata": {
    "ExecuteTime": {
     "end_time": "2022-05-07T21:30:34.365737Z",
     "start_time": "2022-05-07T21:30:34.360131Z"
    }
   },
   "outputs": [],
   "source": [
    "space = {\n",
    "        'n_estimators': hp.quniform('n_estimators', 5000, 15000, 1),\n",
    "        'depth': hp.quniform(\"depth\", 5, 9, 1),\n",
    "        'learning_rate': hp.loguniform('learning_rate', -3.0, -2),\n",
    "        'l2_leaf_reg': hp.uniform('l2_leaf_reg', 100, 300),\n",
    "        'bagging_temperature': hp.uniform('bagging_temperature', 0.2, 1), \n",
    "       }\n",
    "cur_loss = np.inf"
   ]
  },
  {
   "cell_type": "code",
   "execution_count": null,
   "metadata": {
    "ExecuteTime": {
     "end_time": "2022-05-07T23:38:44.017663Z",
     "start_time": "2022-05-07T21:30:34.367037Z"
    }
   },
   "outputs": [],
   "source": [
    "def objective(params):\n",
    "    model = catboost.CatBoostRegressor(\n",
    "                                         iterations=params['n_estimators'], \n",
    "                                         learning_rate=params['learning_rate'],\n",
    "                                         depth=int(params['depth']),\n",
    "                                         l2_leaf_reg=params['l2_leaf_reg'],\n",
    "                                         bagging_temperature=params['bagging_temperature'],\n",
    "                                         loss_function='MAE',\n",
    "                                         use_best_model=True,\n",
    "                                         eval_metric='MAE'\n",
    "                                       )\n",
    "\n",
    "    model.fit(train_pool, eval_set = valid_pool, verbose = False)\n",
    "    y_pred = model.predict(valid_pool) \n",
    "    loss = mean_absolute_error(valid_pool.get_label(), y_pred)\n",
    "    print(loss)\n",
    "    return {'loss':loss, 'status':STATUS_OK }\n",
    "\n",
    "best = hyperopt.fmin(\n",
    "                     fn=objective, \n",
    "                     space=space,\n",
    "                     algo=tpe.suggest,\n",
    "                     max_evals=20,\n",
    "                     verbose=True,\n",
    "                     )\n"
   ]
  },
  {
   "cell_type": "code",
   "execution_count": null,
   "metadata": {
    "ExecuteTime": {
     "end_time": "2022-05-07T23:38:45.272584Z",
     "start_time": "2022-05-07T23:38:45.269445Z"
    }
   },
   "outputs": [],
   "source": [
    "print(best)"
   ]
  },
  {
   "cell_type": "markdown",
   "metadata": {},
   "source": [
    "## Final model learning"
   ]
  },
  {
   "cell_type": "code",
   "execution_count": null,
   "metadata": {
    "ExecuteTime": {
     "start_time": "2022-05-08T10:46:40.539Z"
    }
   },
   "outputs": [],
   "source": [
    "labels = ['labels'] \n",
    "initial_features = ['street_id', 'build_tech', 'floor', 'area', 'rooms', 'balcon', 'metro_dist', \n",
    "                   'kw1', 'kw2']\n",
    "cat_features_ = ['street_id']\n",
    "\n",
    "target = ['model_price_without_time']\n",
    "\n",
    "cat_features = cat_features_ #+ labels\n",
    "features = initial_features #+ labels\n",
    "\n",
    "train_pool = Pool(data=df[features], label=df[target], cat_features=cat_features)"
   ]
  },
  {
   "cell_type": "code",
   "execution_count": null,
   "metadata": {
    "ExecuteTime": {
     "start_time": "2022-05-08T10:46:41.635Z"
    }
   },
   "outputs": [],
   "source": [
    "# Итоговые значения гиперпараметров могут отличаться от тех, что выдал hyperopt в связи с ручной корректировкой\n",
    "model = CatBoostRegressor(random_state=42, n_estimators=15000, loss_function='MAE', eval_metric='MAE',\n",
    "                          bagging_temperature=0.430, depth=6, l2_leaf_reg=299, learning_rate=0.056)\n",
    "\n",
    "model.fit(train_pool, verbose=False, plot=True)\n",
    "\n",
    "pred_train = model.predict(df_train[features])\n",
    "pred_valid = model.predict(df_valid[features])"
   ]
  },
  {
   "cell_type": "code",
   "execution_count": null,
   "metadata": {
    "ExecuteTime": {
     "start_time": "2022-05-08T10:46:42.713Z"
    }
   },
   "outputs": [],
   "source": [
    "dict(zip(model.feature_names_, model.feature_importances_))"
   ]
  },
  {
   "cell_type": "code",
   "execution_count": null,
   "metadata": {
    "ExecuteTime": {
     "start_time": "2022-05-08T10:46:43.292Z"
    }
   },
   "outputs": [],
   "source": [
    "df_test['result_price'] = model.predict(df_test[features])  * df_test[\"model_time_coef\"]\n",
    "df_test['result_price']"
   ]
  },
  {
   "cell_type": "code",
   "execution_count": null,
   "metadata": {
    "ExecuteTime": {
     "start_time": "2022-05-08T10:46:43.889Z"
    }
   },
   "outputs": [],
   "source": [
    "# При работе в GColab нужно добавить ссылки на raw файлы из репозитория\n",
    "sub = pd.read_csv('data/SampleSubmission.csv')\n",
    "sub.price = df_test[\"result_price\"]\n",
    "sub.to_csv(\"submit_catboost.csv\", index=False)"
   ]
  },
  {
   "cell_type": "markdown",
   "metadata": {},
   "source": [
    "## Conclusion\n",
    "Работа CatBoost с оптимизацией параметров хорошо показала себя на валидационной выборке.  \n",
    "На Kaggle результаты оказались хуже ожидаемых.\n",
    "\n",
    "Ссылка на сабмит [здесь](https://www.kaggle.com/competitions/spring-2022-property-prices/leaderboard)  \n",
    "Полученный лучший score = 700241.74465 (MAE метрика)"
   ]
  },
  {
   "cell_type": "code",
   "execution_count": null,
   "metadata": {},
   "outputs": [],
   "source": []
  }
 ],
 "metadata": {
  "colab": {
   "collapsed_sections": [],
   "name": "ensemles.ipynb",
   "provenance": [],
   "toc_visible": true
  },
  "kernelspec": {
   "display_name": "Python 3 (ipykernel)",
   "language": "python",
   "name": "python3"
  },
  "language_info": {
   "codemirror_mode": {
    "name": "ipython",
    "version": 3
   },
   "file_extension": ".py",
   "mimetype": "text/x-python",
   "name": "python",
   "nbconvert_exporter": "python",
   "pygments_lexer": "ipython3",
   "version": "3.8.10"
  },
  "latex_envs": {
   "LaTeX_envs_menu_present": true,
   "autoclose": false,
   "autocomplete": true,
   "bibliofile": "biblio.bib",
   "cite_by": "apalike",
   "current_citInitial": 1,
   "eqLabelWithNumbers": true,
   "eqNumInitial": 1,
   "hotkeys": {
    "equation": "Ctrl-E",
    "itemize": "Ctrl-I"
   },
   "labels_anchors": false,
   "latex_user_defs": false,
   "report_style_numbering": false,
   "user_envs_cfg": false
  },
  "nbTranslate": {
   "displayLangs": [
    "*"
   ],
   "hotkey": "alt-t",
   "langInMainMenu": true,
   "sourceLang": "en",
   "targetLang": "fr",
   "useGoogleTranslate": true
  },
  "toc": {
   "base_numbering": 1,
   "nav_menu": {},
   "number_sections": true,
   "sideBar": true,
   "skip_h1_title": false,
   "title_cell": "Table of Contents",
   "title_sidebar": "Contents",
   "toc_cell": false,
   "toc_position": {},
   "toc_section_display": true,
   "toc_window_display": true
  },
  "varInspector": {
   "cols": {
    "lenName": 16,
    "lenType": 16,
    "lenVar": 40
   },
   "kernels_config": {
    "python": {
     "delete_cmd_postfix": "",
     "delete_cmd_prefix": "del ",
     "library": "var_list.py",
     "varRefreshCmd": "print(var_dic_list())"
    },
    "r": {
     "delete_cmd_postfix": ") ",
     "delete_cmd_prefix": "rm(",
     "library": "var_list.r",
     "varRefreshCmd": "cat(var_dic_list()) "
    }
   },
   "types_to_exclude": [
    "module",
    "function",
    "builtin_function_or_method",
    "instance",
    "_Feature"
   ],
   "window_display": false
  },
  "widgets": {
   "application/vnd.jupyter.widget-state+json": {
    "088ec946c5e44e0f9a4c1f606143a1a6": {
     "model_module": "@jupyter-widgets/base",
     "model_name": "LayoutModel",
     "state": {
      "_model_module": "@jupyter-widgets/base",
      "_model_module_version": "1.2.0",
      "_model_name": "LayoutModel",
      "_view_count": null,
      "_view_module": "@jupyter-widgets/base",
      "_view_module_version": "1.2.0",
      "_view_name": "LayoutView",
      "align_content": null,
      "align_items": null,
      "align_self": null,
      "border": null,
      "bottom": null,
      "display": null,
      "flex": null,
      "flex_flow": null,
      "grid_area": null,
      "grid_auto_columns": null,
      "grid_auto_flow": null,
      "grid_auto_rows": null,
      "grid_column": null,
      "grid_gap": null,
      "grid_row": null,
      "grid_template_areas": null,
      "grid_template_columns": null,
      "grid_template_rows": null,
      "height": null,
      "justify_content": null,
      "justify_items": null,
      "left": null,
      "margin": null,
      "max_height": null,
      "max_width": null,
      "min_height": null,
      "min_width": null,
      "object_fit": null,
      "object_position": null,
      "order": null,
      "overflow": null,
      "overflow_x": null,
      "overflow_y": null,
      "padding": null,
      "right": null,
      "top": null,
      "visibility": null,
      "width": null
     }
    },
    "164065c71c9e46718a754bb6d1286657": {
     "model_module": "@jupyter-widgets/base",
     "model_name": "LayoutModel",
     "state": {
      "_model_module": "@jupyter-widgets/base",
      "_model_module_version": "1.2.0",
      "_model_name": "LayoutModel",
      "_view_count": null,
      "_view_module": "@jupyter-widgets/base",
      "_view_module_version": "1.2.0",
      "_view_name": "LayoutView",
      "align_content": null,
      "align_items": null,
      "align_self": null,
      "border": null,
      "bottom": null,
      "display": null,
      "flex": null,
      "flex_flow": null,
      "grid_area": null,
      "grid_auto_columns": null,
      "grid_auto_flow": null,
      "grid_auto_rows": null,
      "grid_column": null,
      "grid_gap": null,
      "grid_row": null,
      "grid_template_areas": null,
      "grid_template_columns": null,
      "grid_template_rows": null,
      "height": null,
      "justify_content": null,
      "justify_items": null,
      "left": null,
      "margin": null,
      "max_height": null,
      "max_width": null,
      "min_height": null,
      "min_width": null,
      "object_fit": null,
      "object_position": null,
      "order": null,
      "overflow": null,
      "overflow_x": null,
      "overflow_y": null,
      "padding": null,
      "right": null,
      "top": null,
      "visibility": null,
      "width": null
     }
    },
    "19fcdae0d4544d90a3cb517d1186bc5c": {
     "model_module": "@jupyter-widgets/controls",
     "model_name": "HTMLModel",
     "state": {
      "_dom_classes": [],
      "_model_module": "@jupyter-widgets/controls",
      "_model_module_version": "1.5.0",
      "_model_name": "HTMLModel",
      "_view_count": null,
      "_view_module": "@jupyter-widgets/controls",
      "_view_module_version": "1.5.0",
      "_view_name": "HTMLView",
      "description": "",
      "description_tooltip": null,
      "layout": "IPY_MODEL_e527968bd55942dd83bcdc99dbc9fd31",
      "placeholder": "​",
      "style": "IPY_MODEL_8baf53c665134ff8a34ca3fecc86af46",
      "value": " 5/5 [01:59&lt;00:00, 23.85s/it]"
     }
    },
    "4f4f8633b65a467095d83e31e6dba30d": {
     "model_module": "@jupyter-widgets/controls",
     "model_name": "HBoxModel",
     "state": {
      "_dom_classes": [],
      "_model_module": "@jupyter-widgets/controls",
      "_model_module_version": "1.5.0",
      "_model_name": "HBoxModel",
      "_view_count": null,
      "_view_module": "@jupyter-widgets/controls",
      "_view_module_version": "1.5.0",
      "_view_name": "HBoxView",
      "box_style": "",
      "children": [
       "IPY_MODEL_c7e7f320f72a4186a4857313baed3326",
       "IPY_MODEL_19fcdae0d4544d90a3cb517d1186bc5c"
      ],
      "layout": "IPY_MODEL_088ec946c5e44e0f9a4c1f606143a1a6"
     }
    },
    "6f5f6ec96c7a47aaa0717661c3151e48": {
     "model_module": "@jupyter-widgets/base",
     "model_name": "LayoutModel",
     "state": {
      "_model_module": "@jupyter-widgets/base",
      "_model_module_version": "1.2.0",
      "_model_name": "LayoutModel",
      "_view_count": null,
      "_view_module": "@jupyter-widgets/base",
      "_view_module_version": "1.2.0",
      "_view_name": "LayoutView",
      "align_content": null,
      "align_items": null,
      "align_self": null,
      "border": null,
      "bottom": null,
      "display": null,
      "flex": null,
      "flex_flow": null,
      "grid_area": null,
      "grid_auto_columns": null,
      "grid_auto_flow": null,
      "grid_auto_rows": null,
      "grid_column": null,
      "grid_gap": null,
      "grid_row": null,
      "grid_template_areas": null,
      "grid_template_columns": null,
      "grid_template_rows": null,
      "height": null,
      "justify_content": null,
      "justify_items": null,
      "left": null,
      "margin": null,
      "max_height": null,
      "max_width": null,
      "min_height": null,
      "min_width": null,
      "object_fit": null,
      "object_position": null,
      "order": null,
      "overflow": null,
      "overflow_x": null,
      "overflow_y": null,
      "padding": null,
      "right": null,
      "top": null,
      "visibility": null,
      "width": null
     }
    },
    "7a5a79f464ec4080b352c768da5e2dd9": {
     "model_module": "@jupyter-widgets/controls",
     "model_name": "HTMLModel",
     "state": {
      "_dom_classes": [],
      "_model_module": "@jupyter-widgets/controls",
      "_model_module_version": "1.5.0",
      "_model_name": "HTMLModel",
      "_view_count": null,
      "_view_module": "@jupyter-widgets/controls",
      "_view_module_version": "1.5.0",
      "_view_name": "HTMLView",
      "description": "",
      "description_tooltip": null,
      "layout": "IPY_MODEL_c252c4c5ea85490689ebc1d91e033956",
      "placeholder": "​",
      "style": "IPY_MODEL_bada5a93e0614d3e8dcd1090f54ba421",
      "value": " 5/5 [02:29&lt;00:00, 29.97s/it]"
     }
    },
    "8baf53c665134ff8a34ca3fecc86af46": {
     "model_module": "@jupyter-widgets/controls",
     "model_name": "DescriptionStyleModel",
     "state": {
      "_model_module": "@jupyter-widgets/controls",
      "_model_module_version": "1.5.0",
      "_model_name": "DescriptionStyleModel",
      "_view_count": null,
      "_view_module": "@jupyter-widgets/base",
      "_view_module_version": "1.2.0",
      "_view_name": "StyleView",
      "description_width": ""
     }
    },
    "926b4eeb26594002b611ef4e1323b029": {
     "model_module": "@jupyter-widgets/controls",
     "model_name": "FloatProgressModel",
     "state": {
      "_dom_classes": [],
      "_model_module": "@jupyter-widgets/controls",
      "_model_module_version": "1.5.0",
      "_model_name": "FloatProgressModel",
      "_view_count": null,
      "_view_module": "@jupyter-widgets/controls",
      "_view_module_version": "1.5.0",
      "_view_name": "ProgressView",
      "bar_style": "success",
      "description": "100%",
      "description_tooltip": null,
      "layout": "IPY_MODEL_6f5f6ec96c7a47aaa0717661c3151e48",
      "max": 5,
      "min": 0,
      "orientation": "horizontal",
      "style": "IPY_MODEL_e4d3bfe431a2433d9c4ab5c7f4855b2a",
      "value": 5
     }
    },
    "bada5a93e0614d3e8dcd1090f54ba421": {
     "model_module": "@jupyter-widgets/controls",
     "model_name": "DescriptionStyleModel",
     "state": {
      "_model_module": "@jupyter-widgets/controls",
      "_model_module_version": "1.5.0",
      "_model_name": "DescriptionStyleModel",
      "_view_count": null,
      "_view_module": "@jupyter-widgets/base",
      "_view_module_version": "1.2.0",
      "_view_name": "StyleView",
      "description_width": ""
     }
    },
    "c252c4c5ea85490689ebc1d91e033956": {
     "model_module": "@jupyter-widgets/base",
     "model_name": "LayoutModel",
     "state": {
      "_model_module": "@jupyter-widgets/base",
      "_model_module_version": "1.2.0",
      "_model_name": "LayoutModel",
      "_view_count": null,
      "_view_module": "@jupyter-widgets/base",
      "_view_module_version": "1.2.0",
      "_view_name": "LayoutView",
      "align_content": null,
      "align_items": null,
      "align_self": null,
      "border": null,
      "bottom": null,
      "display": null,
      "flex": null,
      "flex_flow": null,
      "grid_area": null,
      "grid_auto_columns": null,
      "grid_auto_flow": null,
      "grid_auto_rows": null,
      "grid_column": null,
      "grid_gap": null,
      "grid_row": null,
      "grid_template_areas": null,
      "grid_template_columns": null,
      "grid_template_rows": null,
      "height": null,
      "justify_content": null,
      "justify_items": null,
      "left": null,
      "margin": null,
      "max_height": null,
      "max_width": null,
      "min_height": null,
      "min_width": null,
      "object_fit": null,
      "object_position": null,
      "order": null,
      "overflow": null,
      "overflow_x": null,
      "overflow_y": null,
      "padding": null,
      "right": null,
      "top": null,
      "visibility": null,
      "width": null
     }
    },
    "c7e7f320f72a4186a4857313baed3326": {
     "model_module": "@jupyter-widgets/controls",
     "model_name": "FloatProgressModel",
     "state": {
      "_dom_classes": [],
      "_model_module": "@jupyter-widgets/controls",
      "_model_module_version": "1.5.0",
      "_model_name": "FloatProgressModel",
      "_view_count": null,
      "_view_module": "@jupyter-widgets/controls",
      "_view_module_version": "1.5.0",
      "_view_name": "ProgressView",
      "bar_style": "success",
      "description": "100%",
      "description_tooltip": null,
      "layout": "IPY_MODEL_eacee39ea7094d9e83b744b9d1954ff0",
      "max": 5,
      "min": 0,
      "orientation": "horizontal",
      "style": "IPY_MODEL_de2069a7809b4fb2932854f716725637",
      "value": 5
     }
    },
    "de2069a7809b4fb2932854f716725637": {
     "model_module": "@jupyter-widgets/controls",
     "model_name": "ProgressStyleModel",
     "state": {
      "_model_module": "@jupyter-widgets/controls",
      "_model_module_version": "1.5.0",
      "_model_name": "ProgressStyleModel",
      "_view_count": null,
      "_view_module": "@jupyter-widgets/base",
      "_view_module_version": "1.2.0",
      "_view_name": "StyleView",
      "bar_color": null,
      "description_width": "initial"
     }
    },
    "e4d3bfe431a2433d9c4ab5c7f4855b2a": {
     "model_module": "@jupyter-widgets/controls",
     "model_name": "ProgressStyleModel",
     "state": {
      "_model_module": "@jupyter-widgets/controls",
      "_model_module_version": "1.5.0",
      "_model_name": "ProgressStyleModel",
      "_view_count": null,
      "_view_module": "@jupyter-widgets/base",
      "_view_module_version": "1.2.0",
      "_view_name": "StyleView",
      "bar_color": null,
      "description_width": "initial"
     }
    },
    "e527968bd55942dd83bcdc99dbc9fd31": {
     "model_module": "@jupyter-widgets/base",
     "model_name": "LayoutModel",
     "state": {
      "_model_module": "@jupyter-widgets/base",
      "_model_module_version": "1.2.0",
      "_model_name": "LayoutModel",
      "_view_count": null,
      "_view_module": "@jupyter-widgets/base",
      "_view_module_version": "1.2.0",
      "_view_name": "LayoutView",
      "align_content": null,
      "align_items": null,
      "align_self": null,
      "border": null,
      "bottom": null,
      "display": null,
      "flex": null,
      "flex_flow": null,
      "grid_area": null,
      "grid_auto_columns": null,
      "grid_auto_flow": null,
      "grid_auto_rows": null,
      "grid_column": null,
      "grid_gap": null,
      "grid_row": null,
      "grid_template_areas": null,
      "grid_template_columns": null,
      "grid_template_rows": null,
      "height": null,
      "justify_content": null,
      "justify_items": null,
      "left": null,
      "margin": null,
      "max_height": null,
      "max_width": null,
      "min_height": null,
      "min_width": null,
      "object_fit": null,
      "object_position": null,
      "order": null,
      "overflow": null,
      "overflow_x": null,
      "overflow_y": null,
      "padding": null,
      "right": null,
      "top": null,
      "visibility": null,
      "width": null
     }
    },
    "e8bbb35479f044728ba4d39068c0619a": {
     "model_module": "@jupyter-widgets/controls",
     "model_name": "HBoxModel",
     "state": {
      "_dom_classes": [],
      "_model_module": "@jupyter-widgets/controls",
      "_model_module_version": "1.5.0",
      "_model_name": "HBoxModel",
      "_view_count": null,
      "_view_module": "@jupyter-widgets/controls",
      "_view_module_version": "1.5.0",
      "_view_name": "HBoxView",
      "box_style": "",
      "children": [
       "IPY_MODEL_926b4eeb26594002b611ef4e1323b029",
       "IPY_MODEL_7a5a79f464ec4080b352c768da5e2dd9"
      ],
      "layout": "IPY_MODEL_164065c71c9e46718a754bb6d1286657"
     }
    },
    "eacee39ea7094d9e83b744b9d1954ff0": {
     "model_module": "@jupyter-widgets/base",
     "model_name": "LayoutModel",
     "state": {
      "_model_module": "@jupyter-widgets/base",
      "_model_module_version": "1.2.0",
      "_model_name": "LayoutModel",
      "_view_count": null,
      "_view_module": "@jupyter-widgets/base",
      "_view_module_version": "1.2.0",
      "_view_name": "LayoutView",
      "align_content": null,
      "align_items": null,
      "align_self": null,
      "border": null,
      "bottom": null,
      "display": null,
      "flex": null,
      "flex_flow": null,
      "grid_area": null,
      "grid_auto_columns": null,
      "grid_auto_flow": null,
      "grid_auto_rows": null,
      "grid_column": null,
      "grid_gap": null,
      "grid_row": null,
      "grid_template_areas": null,
      "grid_template_columns": null,
      "grid_template_rows": null,
      "height": null,
      "justify_content": null,
      "justify_items": null,
      "left": null,
      "margin": null,
      "max_height": null,
      "max_width": null,
      "min_height": null,
      "min_width": null,
      "object_fit": null,
      "object_position": null,
      "order": null,
      "overflow": null,
      "overflow_x": null,
      "overflow_y": null,
      "padding": null,
      "right": null,
      "top": null,
      "visibility": null,
      "width": null
     }
    }
   }
  }
 },
 "nbformat": 4,
 "nbformat_minor": 1
}
