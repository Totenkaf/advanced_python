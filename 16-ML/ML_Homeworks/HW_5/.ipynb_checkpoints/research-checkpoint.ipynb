{
 "cells": [
  {
   "cell_type": "code",
   "execution_count": 1,
   "metadata": {
    "id": "WJd12UvKD7Rf"
   },
   "source": [
    "import numpy as np\n",
    "import pandas as pd\n",
    "import matplotlib.pyplot as plt\n",
    "from tqdm.notebook import tqdm\n",
    "import warnings\n",
    "warnings.filterwarnings('ignore')"
   ],
   "outputs": []
  },
  {
   "cell_type": "code",
   "execution_count": 2,
   "metadata": {
    "colab": {
     "base_uri": "https://localhost:8080/",
     "height": 1000
    },
    "id": "2-yOBkOQP0dJ",
    "outputId": "b0e6e9e9-3115-447b-d381-1c72962aa474"
   },
   "source": [
    "# !wget https://raw.githubusercontent.com/andrey-source/tehnopark/main/price_of_flats/Test.csv -O Test.csv\n",
    "# !wget https://raw.githubusercontent.com/andrey-source/tehnopark/main/price_of_flats/Train.csv -O Train.csv\n",
    "# !wget https://raw.githubusercontent.com/andrey-source/tehnopark/main/price_of_flats/SampleSubmission.csv -O SampleSubmission.csv\n",
    "# !pip install catboost\n",
    "# !pip install category_encoders\n",
    "import catboost\n",
    "df = pd.read_csv('Train.csv')\n",
    "df_test = pd.read_csv('Test.csv')\n",
    "\n",
    "df.head()"
   ],
   "outputs": []
  },
  {
   "cell_type": "code",
   "execution_count": 3,
   "metadata": {
    "colab": {
     "base_uri": "https://localhost:8080/"
    },
    "id": "BHH8O-9muOE2",
    "outputId": "4d063aca-6b0b-4fab-f758-a49548fcee68"
   },
   "source": [
    "df['year'] = pd.DatetimeIndex(df.date).year - 2011\n",
    "df['month'] = pd.DatetimeIndex(df.date).month\n",
    "df['mohth_from_begin'] = df.year * 12 + pd.DatetimeIndex(df.date).month\n",
    "df_test['year'] = pd.DatetimeIndex(df_test.date).year - 2011\n",
    "df_test['month'] = pd.DatetimeIndex(df_test.date).month\n",
    "df_test['mohth_from_begin'] = df_test.year * 12 + pd.DatetimeIndex(df_test.date).month\n",
    "\n",
    "del df['date']\n",
    "del df_test['date']\n",
    "df = df.iloc[df.price.values != 1000000, :]  # удаляю вброс\n",
    "\n",
    "\n",
    "df['price_m2'] = df.price / df.area\n",
    "df.reset_index(inplace=True)\n",
    "del df['index']\n",
    "del df['id']\n",
    "df.shape"
   ],
   "outputs": []
  },
  {
   "cell_type": "code",
   "execution_count": 4,
   "metadata": {
    "id": "EwfrchqwuOE2"
   },
   "source": [
    "# df[df.year.values == 1].groupby('month').mean().price.plot()  # цикличности вроде нет\n",
    "# df[df.year.values == 0].groupby('month').mean().price.plot()  \n",
    "del df['month']"
   ],
   "outputs": []
  },
  {
   "cell_type": "code",
   "execution_count": 5,
   "metadata": {
    "colab": {
     "base_uri": "https://localhost:8080/",
     "height": 878
    },
    "id": "5w47967-uOE3",
    "outputId": "7ba8c7c5-2941-4b52-aa42-14ff49061b8a"
   },
   "source": [
    "df.hist(figsize=(20, 15))\n",
    "None"
   ],
   "outputs": []
  },
  {
   "cell_type": "markdown",
   "metadata": {},
   "source": [
    "Тренировочная выборка mohth_from_begin<= 15, валидационная >15"
   ]
  },
  {
   "cell_type": "code",
   "execution_count": 6,
   "metadata": {
    "colab": {
     "base_uri": "https://localhost:8080/",
     "height": 264
    },
    "id": "RQbjtOFguOE3",
    "outputId": "d1be720c-1be7-484a-ca55-c3041cebe0b5"
   },
   "source": [
    "plt.hist(df.mohth_from_begin.values, bins=100)\n",
    "None"
   ],
   "outputs": []
  },
  {
   "cell_type": "markdown",
   "metadata": {},
   "source": [
    "Проверяю связь признака с ценой"
   ]
  },
  {
   "cell_type": "code",
   "execution_count": 7,
   "metadata": {
    "colab": {
     "base_uri": "https://localhost:8080/",
     "height": 144
    },
    "id": "bfwgcNhuuOE4",
    "outputId": "dd3882fa-b967-4ece-a843-21b1c7e1313a"
   },
   "source": [
    "# check = df[{'price', 'build_tech'}].groupby('build_tech').mean()  # можно рассматривать как числовой признак\n",
    "# check = df[{'price', 'street_id'}].groupby('street_id').mean()  # категориальный\n",
    "# check = df[{'price', 'floor'}].groupby('floor').mean()  # числовой \n",
    "# check = df[{'price', 'balcon'}].groupby('balcon').mean()  # можно рассматривать как числовой признак\n",
    "# check = df[{'price', 'metro_dist'}].groupby('metro_dist').mean()  # числовой\n",
    "# check = df[{'price', 'g_lift'}].groupby(['g_lift']).mean()  # бесполезный на первый взгляд\n",
    "# check = df[{'price', 'street_id', 'g_lift'}].groupby(['street_id', 'g_lift']).mean()  # а так очень даже ничего - числовой\n",
    "# check = df[{'price', 'n_photos'}].groupby('n_photos').mean()  # числовой\n",
    "# check = df[{'price', 'kw1'}].groupby('kw1').mean()  # числовой\n",
    "# check = df[{'price', 'kw2'}].groupby('kw2').mean()  # числовой\n",
    "# check = df[{'price', 'kw3'}].groupby('kw3').mean()  # числовой\n",
    "# check = df[{'price', 'kw4'}].groupby('kw4').mean()  # числовой\n",
    "# check = df[{'price', 'kw5'}].groupby('kw5').mean()  # числовой\n",
    "# check = df[{'price', 'kw6'}].groupby('kw6').mean()  # числовой\n",
    "# check = df[{'price', 'kw7'}].groupby('kw7').mean()  # числовой\n",
    "# check = df[{'price', 'kw8'}].groupby('kw8').mean()  # числовой  # не вижу информативности, при том, что сильно несбалансированы - выкидываю\n",
    "# check = df[{'price', 'kw9'}].groupby('kw9').mean()  # числовой  #не вижу информативност, что сильно несбалансированы - выкидываю\n",
    "# check = df[{'price', 'kw10'}].groupby('kw10').mean()  # числовой\n",
    "# check = df[{'price', 'kw11'}].groupby('kw11').mean()  # числовой\n",
    "# check = df[{'price', 'kw12'}].groupby('kw12').mean()  # числовой\n",
    "check = df[{'price', 'kw13'}].groupby('kw13').mean()  # числовой\n",
    "check"
   ],
   "outputs": []
  },
  {
   "cell_type": "code",
   "execution_count": 8,
   "metadata": {
    "id": "dAvDSxNLuOE5"
   },
   "source": [
    "del (df['kw8'])\n",
    "del (df['kw9'])\n",
    "del (df_test['kw8'])\n",
    "del (df_test['kw9'])\n",
    "del (df_test['g_lift'])\n",
    "# del (df['g_lift'])"
   ],
   "outputs": []
  },
  {
   "cell_type": "markdown",
   "metadata": {
    "id": "wHGq1NEzuOE6"
   },
   "source": [
    "Пропуски: build_tech, metro_dist, g_lift Проверяю с чем это связано. Так же проставляю веса наблюдениями. По принципу, есть пропуск - вес меньше. В конце все же выяснилось, что g_lift мусорный признак. Его удаляю."
   ]
  },
  {
   "cell_type": "markdown",
   "metadata": {
    "id": "W3tuYBwguOE7"
   },
   "source": [
    "Считаю веса наблюдений. Редкие более ценны чем частые"
   ]
  },
  {
   "cell_type": "code",
   "execution_count": 9,
   "metadata": {
    "id": "W2-tzGIxuOE8"
   },
   "source": [
    "df['weights_unique'] = 0\n",
    "counts = df.price.value_counts().values\n",
    "values = df.price.value_counts().index.values\n",
    "for i in range(values.shape[0]):\n",
    "    df.weights_unique[df.price.values == values[i]] = 1 / np.cbrt(counts[i])  # веса наблюдений"
   ],
   "outputs": []
  },
  {
   "cell_type": "code",
   "execution_count": 10,
   "metadata": {
    "id": "Gm6NKubxuOE8"
   },
   "source": [
    "df['weights_miss'] = 1\n",
    "df.fillna(value=-9999, inplace=True)\n",
    "df.weights_miss[df.metro_dist.values == -9999] = df.weights_miss[df.metro_dist.values == -9999] * 0.7 # предсказывается средне\n",
    "df.weights_miss[df.build_tech.values == -9999] = df.weights_miss[df.build_tech.values == -9999] * 0.8  # предсказывается хорошо\n",
    "df['weights'] = df.weights_unique * df.weights_miss\n",
    "df_test.fillna(value=-9999, inplace=True)\n"
   ],
   "outputs": []
  },
  {
   "cell_type": "code",
   "execution_count": 11,
   "metadata": {
    "colab": {
     "base_uri": "https://localhost:8080/",
     "height": 331
    },
    "id": "LMxqKccruOE9",
    "outputId": "f916eb0a-23b8-4417-90e9-04df10b3e153"
   },
   "source": [
    "# check = df.groupby('build_tech').mean()  # скорее всего просто разбросаны. Имеет смысл заполнять моделью\n",
    "# check = df.groupby(['g_lift']).mean() # скорее всего просто разбросаны. Имеет смысл заполнять моделью\n",
    "# check = df[{'street_id', 'g_lift', 'price'}].groupby(['street_id', 'g_lift']).mean() \n",
    "# check = df.groupby(['g_lift']).mean()\n",
    "check = df[{'metro_dist', 'price'}].groupby(['metro_dist']).mean() # скорее всего просто разбросаны. Имеет смысл заполнять моделью \n",
    "check.head(20)"
   ],
   "outputs": []
  },
  {
   "cell_type": "markdown",
   "metadata": {
    "id": "J5ScsO2PuOE9"
   },
   "source": [
    "Заполняю build_tech"
   ]
  },
  {
   "cell_type": "code",
   "execution_count": 12,
   "metadata": {
    "colab": {
     "base_uri": "https://localhost:8080/"
    },
    "id": "9ERf5s66uOE-",
    "outputId": "4fc32594-eba7-4898-8b12-eec4e6c66f08"
   },
   "source": [
    "from catboost import CatBoostClassifier \n",
    "from catboost import Pool\n",
    "\n",
    "df_train = df[(df.mohth_from_begin.values < 20) * (df.build_tech.values != -9999)]\n",
    "df_valid = df[(df.mohth_from_begin.values > 20) * (df.build_tech.values != -9999)]\n",
    "\n",
    "features = ['street_id', 'floor', 'area', 'rooms', 'balcon', 'n_photos',\n",
    "            'kw1', 'kw2', 'kw3', 'kw4', 'kw5', 'kw6', 'kw7', 'kw10', 'kw11', 'kw12', 'kw13']\n",
    "cat_features = ['street_id']\n",
    "\n",
    "\n",
    "train_pool = Pool(data=df_train[features], label=df_train.build_tech.values, cat_features=cat_features, weight = df_train.weights.values)\n",
    "valid_pool = Pool(df_valid[features], label=df_valid.build_tech.values, cat_features=cat_features)\n",
    "build_model = CatBoostClassifier(random_state=42, task_type = 'GPU'\n",
    "                                 )\n",
    "build_model.fit(train_pool, eval_set=valid_pool, verbose = False)\n",
    "pred_train = build_model.predict(df_train[features])\n",
    "pred_valid = build_model.predict(df_valid[features])"
   ],
   "outputs": []
  },
  {
   "cell_type": "code",
   "execution_count": 13,
   "metadata": {
    "colab": {
     "base_uri": "https://localhost:8080/"
    },
    "id": "JVjktSBsuOE-",
    "outputId": "042f4f2f-1412-4cd2-922e-11a4306143bc"
   },
   "source": [
    "from sklearn.metrics import classification_report\n",
    "print(\"train: \\n\", classification_report(pred_train, df_train.build_tech.values))\n",
    "print(\"valid: \\n\", classification_report(pred_valid, df_valid.build_tech.values))"
   ],
   "outputs": []
  },
  {
   "cell_type": "code",
   "execution_count": 14,
   "metadata": {
    "id": "-F7Ww4_tuOE_"
   },
   "source": [
    "df.build_tech[df.build_tech.values == -9999] = build_model.predict(df[df.build_tech.values == -9999][features].values).reshape(-1)\n",
    "df_test.build_tech[df_test.build_tech == -9999] = build_model.predict(df_test[df_test.build_tech.values == -9999][features].values).reshape(-1)"
   ],
   "outputs": []
  },
  {
   "cell_type": "code",
   "execution_count": 15,
   "metadata": {
    "colab": {
     "base_uri": "https://localhost:8080/"
    },
    "id": "htd_q5jjuOE_",
    "outputId": "0d3462b0-04cd-4d11-fe7a-c1846f76c26f"
   },
   "source": [
    "from catboost import CatBoostRegressor\n",
    "\n",
    "df_train = df[(df.mohth_from_begin.values < 20) * (df.metro_dist.values != -9999)]\n",
    "df_valid = df[(df.mohth_from_begin.values > 20) * (df.metro_dist.values != -9999)]\n",
    "\n",
    "features = ['build_tech', 'street_id', 'floor', 'area', 'rooms', 'balcon', 'n_photos',\n",
    "            'kw1', 'kw2', 'kw3', 'kw4', 'kw5', 'kw6', 'kw7', 'kw10', 'kw11', 'kw12', 'kw13']\n",
    "cat_features = ['street_id']\n",
    "\n",
    "train_pool = Pool(data=df_train[features], label=df_train.metro_dist, cat_features=cat_features, weight = df_train.weights.values)\n",
    "valid_pool = Pool(data=df_valid[features], label=df_valid.metro_dist, cat_features=cat_features)\n",
    "metro_model = CatBoostRegressor(loss_function = 'MAE', eval_metric='MAE', \n",
    "                random_state=42, n_estimators=3000,\n",
    ")\n",
    "metro_model.fit(train_pool, eval_set=valid_pool, verbose = False)\n",
    "pred_train = metro_model.predict(df_train[features])\n",
    "pred_valid = metro_model.predict(df_valid[features])"
   ],
   "outputs": []
  },
  {
   "cell_type": "code",
   "execution_count": 16,
   "metadata": {
    "colab": {
     "base_uri": "https://localhost:8080/"
    },
    "id": "79xTfMxWuOE_",
    "outputId": "163dead2-3751-4302-d282-793535d8ede4"
   },
   "source": [
    "from sklearn.metrics import mean_absolute_error\n",
    "print(\"train: \\n\", mean_absolute_error(pred_train, df_train.metro_dist.values))\n",
    "print(\"valid: \\n\", mean_absolute_error(pred_valid, df_valid.metro_dist.values))"
   ],
   "outputs": []
  },
  {
   "cell_type": "code",
   "execution_count": 17,
   "metadata": {
    "id": "Idaf37SBuOFA"
   },
   "source": [
    "df.metro_dist[df.metro_dist.values == -9999] = metro_model.predict(df[df.metro_dist.values == -9999][features])\n",
    "df_test.metro_dist[df_test.metro_dist == -9999] = metro_model.predict(df_test[df_test.metro_dist.values == -9999][features])"
   ],
   "outputs": []
  },
  {
   "cell_type": "code",
   "execution_count": 18,
   "metadata": {
    "id": "cPaoSHX0uOFA"
   },
   "source": [
    "# округляю\n",
    "df.metro_dist = round(df.metro_dist / 5) * 5  \n",
    "df_test.metro_dist = round(df_test.metro_dist / 5) * 5"
   ],
   "outputs": []
  },
  {
   "cell_type": "markdown",
   "metadata": {
    "id": "JUslE_8ruOFA"
   },
   "source": [
    "Анализирую стомость квартир в каждом месяце. Делаю преобразование Бокса-Кокса. Получаю распределения очень похожие на нормальные. Удобно отслеживать пороговые значения -3, 3 стандартных отклонений, на предмет выбросов."
   ]
  },
  {
   "cell_type": "code",
   "execution_count": 19,
   "metadata": {
    "colab": {
     "base_uri": "https://localhost:8080/",
     "height": 1000
    },
    "id": "5Ymwi7FkuOFA",
    "outputId": "1b0f7ec8-e8e0-4aae-f54a-f49f0cd5a930"
   },
   "source": [
    "from sklearn.preprocessing import PowerTransformer\n",
    "spisok = []\n",
    "y = df.mohth_from_begin.values\n",
    "df['normal_price_month'] = 0.0\n",
    "for i in np.unique(y):\n",
    "    PW = PowerTransformer(method='box-cox')\n",
    "    PW.fit(df.price[y == i].values.reshape(-1, 1))\n",
    "    df.normal_price_month[y == i] = PW.transform(df.price[y == i].values.reshape(-1, 1)).reshape(-1)\n",
    "    spisok.append(PW)\n",
    "    \n",
    "fig, ax = plt.subplots(6, 3, figsize=(25,120))\n",
    "n, k, i = 0, 0, 0\n",
    "for i, month in enumerate(np.unique(y)):\n",
    "    ax[i // 3, i % 3].hist(df.normal_price_month[y == month].values, bins = 30)\n",
    "    ax[i // 3, i % 3].set_title('month from begin =' + str(month))"
   ],
   "outputs": []
  },
  {
   "cell_type": "markdown",
   "metadata": {
    "id": "Nz7Hp9EFuOFB"
   },
   "source": [
    "Стоймость квартир в зависимости от улицы"
   ]
  },
  {
   "cell_type": "code",
   "execution_count": 20,
   "metadata": {
    "id": "ZfX1xu4UuOFB"
   },
   "source": [
    "street_spisok = []\n",
    "y = df.street_id.values\n",
    "df['normal_price_street'] = 0.0\n",
    "for i in np.unique(y):\n",
    "    PW = PowerTransformer(method='box-cox')\n",
    "    PW.fit(df.price[y == i].values.reshape(-1, 1))\n",
    "    df.normal_price_street[y == i] = PW.transform(df.price[y == i].values.reshape(-1, 1)).reshape(-1)\n",
    "    street_spisok.append(PW)"
   ],
   "outputs": []
  },
  {
   "cell_type": "code",
   "execution_count": 21,
   "metadata": {
    "colab": {
     "base_uri": "https://localhost:8080/",
     "height": 276
    },
    "id": "S-AMT0iSuOFB",
    "outputId": "ba4a722c-2f36-4a7a-89f2-c423812cf641"
   },
   "source": [
    "mean_price = df[['price', 'mohth_from_begin']].groupby(['mohth_from_begin']).mean()  # просто средня цена\n",
    "\n",
    "\n",
    "df['weight_price'] = df.price * df.weights  # вклад в стоймость, нет пропусков и уникальное значение стоймости - большой вклад\n",
    "mask1 = (df['normal_price_month'].values < 2) * (df['normal_price_month'].values > -2) # выбираю только квартиры с ценами в пределах -2 2 стандартных отклонений по месяцам\n",
    "mask2 = (df['normal_price_street'].values < 3) * (df['normal_price_street'].values > -3) # выбираю только квартиры с ценами в пределах -3 3 стандартных отклонений по улицам \n",
    "mask = mask1 * mask2\n",
    "robast_mean_price = df[['weight_price', 'mohth_from_begin']][mask].groupby(['mohth_from_begin']).sum() / df[['weights', 'mohth_from_begin']][mask].groupby(['mohth_from_begin']).sum().values\n",
    "plt.scatter(mean_price.index, mean_price.values, label = \"mean\")\n",
    "plt.scatter(robast_mean_price.index, robast_mean_price.values, label = \"robast mean\")\n",
    "plt.grid()\n",
    "plt.legend()\n",
    "plt.show()"
   ],
   "outputs": []
  },
  {
   "cell_type": "markdown",
   "metadata": {},
   "source": [
    "В старых данных был экспонециальный рост!!!"
   ]
  },
  {
   "cell_type": "code",
   "execution_count": 22,
   "metadata": {
    "colab": {
     "base_uri": "https://localhost:8080/",
     "height": 276
    },
    "id": "s_ykranTuOFB",
    "outputId": "557b9087-322d-4bfe-caf1-4a0ed21019eb"
   },
   "source": [
    "from sklearn.svm import SVR\n",
    "from sklearn.linear_model import LinearRegression\n",
    "\n",
    "train = robast_mean_price[:15]\n",
    "linear_model = SVR(kernel = 'poly', degree= 1, C = 1e5).fit(X = train.index.values.reshape(-1, 1), y = train.values)\n",
    "pred = linear_model.predict(X = np.arange(0, 40).reshape(-1, 1))\n",
    "\n",
    "plt.plot(np.arange(0, 40).reshape(-1, 1), pred, label = \"Pred\")\n",
    "plt.scatter(robast_mean_price.index, robast_mean_price.values, label = \"robast mean\")\n",
    "plt.grid()\n",
    "plt.legend()\n",
    "plt.show()"
   ],
   "outputs": []
  },
  {
   "cell_type": "markdown",
   "metadata": {},
   "source": [
    "Вычисляю коэффицент стоймости от месяца по модели"
   ]
  },
  {
   "cell_type": "code",
   "execution_count": 23,
   "metadata": {
    "colab": {
     "base_uri": "https://localhost:8080/",
     "height": 234
    },
    "id": "TS7-C1mluOFB",
    "outputId": "23c43908-13b1-41ae-f4fc-d3ca4f1d7c1b"
   },
   "source": [
    "time_0 = linear_model.predict([[0]])\n",
    "df['pred_mean'] = linear_model.predict(df.mohth_from_begin.values.reshape(-1, 1))  # прогноз средней цены\n",
    "df['model_time_coef'] = df.pred_mean / time_0  # коэффициент стоймости от времени\n",
    "df['model_price_without_time'] = df.price / df.model_time_coef  # цена с поправкой на время\n",
    "df_test['model_pred_mean'] = linear_model.predict(df_test.mohth_from_begin.values.reshape(-1, 1))  # прогноз средней цены для теста\n",
    "df_test['model_time_coef'] = df_test.model_pred_mean / time_0"
   ],
   "outputs": []
  },
  {
   "cell_type": "markdown",
   "metadata": {},
   "source": [
    "Вычисляю коэффицент стоймости от месяца, как отношение рабастных оценок стоймости"
   ]
  },
  {
   "cell_type": "code",
   "execution_count": 24,
   "metadata": {},
   "source": [
    "df['time_coef'] = 0\n",
    "for i in df.mohth_from_begin.unique():\n",
    "    df.time_coef[df.mohth_from_begin.values == i] = robast_mean_price.loc[i].values / robast_mean_price.loc[1].values\n",
    "df['price_without_time'] = df.price / df.time_coef"
   ],
   "outputs": []
  },
  {
   "cell_type": "markdown",
   "metadata": {
    "id": "PfKVikG4uOFC"
   },
   "source": [
    "Стоймость квадратного метра в зависимости от даты и улицы"
   ]
  },
  {
   "cell_type": "code",
   "execution_count": 25,
   "metadata": {
    "colab": {
     "base_uri": "https://localhost:8080/",
     "height": 1000
    },
    "id": "UNfVkG9suOFC",
    "outputId": "247403f3-00b2-4906-d797-30f3ec26a9c6"
   },
   "source": [
    "spisok = []\n",
    "y = df.mohth_from_begin.values\n",
    "df['normal_price_month_m2'] = 0.0\n",
    "for i in np.unique(y):\n",
    "    PW = PowerTransformer(method='box-cox')\n",
    "    PW.fit(df.price_m2[y == i].values.reshape(-1, 1))\n",
    "    df.normal_price_month_m2[y == i] = PW.transform(df.price_m2[y == i].values.reshape(-1, 1)).reshape(-1)\n",
    "    spisok.append(PW)\n",
    "    \n",
    "fig, ax = plt.subplots(6, 3, figsize=(25,120))\n",
    "n, k, i = 0, 0, 0\n",
    "for i, month in enumerate(np.unique(y)):\n",
    "    ax[i // 3, i % 3].hist(df.normal_price_month_m2[y == month].values, bins = 30)\n",
    "    ax[i // 3, i % 3].set_title('month from begin =' + str(month))"
   ],
   "outputs": []
  },
  {
   "cell_type": "code",
   "execution_count": 26,
   "metadata": {
    "id": "CmGqtyF4uOFC"
   },
   "source": [
    "street_spisok = []\n",
    "y = df.street_id.values\n",
    "df['normal_price_street_m2'] = 0.0\n",
    "for i in np.unique(y):\n",
    "    PW = PowerTransformer(method='box-cox')\n",
    "    PW.fit(df.price_m2[y == i].values.reshape(-1, 1))\n",
    "    df.normal_price_street_m2[y == i] = PW.transform(df.price_m2[y == i].values.reshape(-1, 1)).reshape(-1)\n",
    "    street_spisok.append(PW)\n"
   ],
   "outputs": []
  },
  {
   "cell_type": "code",
   "execution_count": 27,
   "metadata": {
    "colab": {
     "base_uri": "https://localhost:8080/",
     "height": 602
    },
    "id": "Ki9Fbx7wuOFC",
    "outputId": "dcf27e14-81da-4ef9-eeb8-15343017712c"
   },
   "source": [
    "df[df.normal_price_street_m2.values > 3]"
   ],
   "outputs": []
  },
  {
   "cell_type": "code",
   "execution_count": 28,
   "metadata": {
    "colab": {
     "base_uri": "https://localhost:8080/",
     "height": 264
    },
    "id": "Dh3JbPH7_fSn",
    "outputId": "bc93b368-6936-4a13-96f7-d7d996549401"
   },
   "source": [
    "mean_price_m2 = df[['price_m2', 'mohth_from_begin']].groupby(['mohth_from_begin']).mean()  # просто средня цена\n",
    "\n",
    "\n",
    "df['weight_price_m2'] = df.price_m2 * df.weights  # вклад в стоймость, нет пропусков и уникальное значение стоймости - большой вклад\n",
    "mask1 = (df['normal_price_month'].values < 2) * (df['normal_price_month'].values > -2) # выбираю только квартиры с ценами в пределах -1 1 стандартных отклонений по месяцам\n",
    "mask2 = (df['normal_price_street'].values < 3) * (df['normal_price_street'].values > -3) # выбираю только квартиры с ценами в пределах -2 2 стандартных отклонений по улицам (здесь 2 тк их выборка для каждого меньше)\n",
    "mask = mask1 * mask2\n",
    "robast_mean_price_m2 = df[['weight_price_m2', 'mohth_from_begin']][mask].groupby(['mohth_from_begin']).sum() / df[['weights', 'mohth_from_begin']][mask].groupby(['mohth_from_begin']).sum().values\n",
    "plt.scatter(mean_price_m2.index, mean_price_m2.values, label = \"mean\")\n",
    "plt.scatter(robast_mean_price_m2.index, robast_mean_price_m2.values, label = \"robast mean\")\n",
    "plt.grid()\n",
    "plt.legend()\n",
    "plt.show()"
   ],
   "outputs": []
  },
  {
   "cell_type": "code",
   "execution_count": 29,
   "metadata": {
    "colab": {
     "base_uri": "https://localhost:8080/",
     "height": 234
    },
    "id": "i06GZGkcuOFD",
    "outputId": "c45baca9-dbc8-4959-de37-831068fd55df"
   },
   "source": [
    "train = robast_mean_price_m2[:15]\n",
    "linear_model = SVR(kernel = 'poly', degree = 1,  C = 10000).fit(X = train.index.values.reshape(-1, 1), y = train.values)\n",
    "\n",
    "pred = linear_model.predict(X = np.arange(0, 40).reshape(-1, 1))\n",
    "\n",
    "plt.plot(np.arange(0, 40).reshape(-1, 1), pred, label = \"Pred\")\n",
    "plt.scatter(robast_mean_price_m2.index, robast_mean_price_m2.values, label = \"robast mean\")\n",
    "plt.grid()\n",
    "plt.legend()\n",
    "plt.show()"
   ],
   "outputs": []
  },
  {
   "cell_type": "code",
   "execution_count": 30,
   "metadata": {
    "id": "RSqVjTXNuOFD"
   },
   "source": [
    "time_0 = linear_model.predict([[0]])\n",
    "df['model_pred_mean_m2'] = linear_model.predict(df.mohth_from_begin.values.reshape(-1, 1))\n",
    "df_test['model_pred_mean_m2'] = linear_model.predict(df_test.mohth_from_begin.values.reshape(-1, 1))\n",
    "df['model_coef_price_m2'] = df['price_m2'] / df['model_pred_mean_m2'] # во сколько квартира лучше средней\n",
    "df['model_time_coef_m2'] = df.model_pred_mean_m2 / time_0\n",
    "df['model_price_m2_without_time'] = df.price_m2 / df.model_time_coef_m2\n"
   ],
   "outputs": []
  },
  {
   "cell_type": "code",
   "execution_count": 31,
   "metadata": {
    "colab": {
     "base_uri": "https://localhost:8080/",
     "height": 225
    },
    "id": "1NM2dRbCuOFD",
    "outputId": "7b9f9b44-9000-4754-c0af-f0915f5b6d9b"
   },
   "source": [
    "df['time_coef_m2'] = 0\n",
    "for i in df.mohth_from_begin.unique():\n",
    "    df.time_coef_m2[df.mohth_from_begin.values == i] = robast_mean_price_m2.loc[i].values / robast_mean_price_m2.loc[1].values\n",
    "df['price_m2_without_time'] = df.price_m2 / df.time_coef_m2"
   ],
   "outputs": []
  },
  {
   "cell_type": "markdown",
   "metadata": {
    "id": "3cd32VDYuOFD"
   },
   "source": [
    "Выполняю кластеризацию. По площади и стоймости квадратного метра с поправкой на время"
   ]
  },
  {
   "cell_type": "code",
   "execution_count": 35,
   "metadata": {
    "colab": {
     "base_uri": "https://localhost:8080/",
     "height": 592
    },
    "id": "1ebEA9kyuOFD",
    "outputId": "6d63e65d-07b8-4fef-df02-5f3a81ef2fe0"
   },
   "source": [
    "from sklearn.mixture import BayesianGaussianMixture\n",
    "from sklearn.mixture import GaussianMixture\n",
    "from sklearn.model_selection import train_test_split\n",
    "from sklearn.preprocessing import StandardScaler\n",
    "from sklearn.pipeline import Pipeline\n",
    "import matplotlib.colors as colors\n",
    "colors_list = list(colors._colors_full_map.values())  # список цветов\n",
    "\n",
    "means_init = []\n",
    "\n",
    "df_train = df[(df.mohth_from_begin.values < 20) * (df.build_tech.values != -9999)]\n",
    "train = df_train.sample(frac = 0.6, replace = True, random_state = 42, weights = df_train.weights)\n",
    "\n",
    "claster = ['model_price_m2_without_time', 'area']\n",
    "claster = ['model_price_without_time', 'area']\n",
    "classtering = Pipeline([\n",
    "    ('SS', StandardScaler()),\n",
    "    ('GaussianMixture', GaussianMixture(n_components = 25, random_state = 42, n_init = 10)) \n",
    "])\n",
    "\n",
    "labels = classtering.fit_predict(train[claster])\n",
    "\n",
    "\n",
    "plt.figure(figsize=(15, 10))\n",
    "plt.grid()\n",
    "for i in np.unique(labels):\n",
    "    plt.scatter(train.area[i == labels].values, train.model_price_m2_without_time[i==labels].values, cmap=colors_list[i], alpha=0.1)\n",
    "plt.show()"
   ],
   "outputs": []
  },
  {
   "cell_type": "code",
   "execution_count": 36,
   "metadata": {
    "id": "aybCgO1IuOFD"
   },
   "source": [
    "df_train['labels'] = classtering.predict(df_train[claster])"
   ],
   "outputs": []
  },
  {
   "cell_type": "markdown",
   "metadata": {
    "id": "xQYSrjImuOFE"
   },
   "source": [
    "Предсказываю метку кластера по известным признакам"
   ]
  },
  {
   "cell_type": "code",
   "execution_count": 37,
   "metadata": {
    "colab": {
     "base_uri": "https://localhost:8080/"
    },
    "id": "c6Rr6dEBuOFE",
    "outputId": "667d2c54-cfec-42cf-e9a4-63950b46a4fc"
   },
   "source": [
    "train, valid = train_test_split(df_train, train_size=0.7)\n",
    "features = ['street_id', 'build_tech', 'floor', 'g_lift', 'area', 'rooms', 'balcon', 'metro_dist', 'n_photos', \n",
    "           'kw1', 'kw2', 'kw3', 'kw4', 'kw5', 'kw6', 'kw7', 'kw10', 'kw11', 'kw12', 'kw13']\n",
    "cat_features = ['street_id']\n",
    "\n",
    "target = ['labels']\n",
    "\n",
    "train_pool = Pool(train[features], label=train[target], weight = train.weights.values)\n",
    "valid_pool  =Pool(valid[features], label=valid[target])\n",
    "\n",
    "model = CatBoostClassifier(n_estimators=2000, random_state=42,\n",
    "                           auto_class_weights='SqrtBalanced'\n",
    "                    \n",
    ")\n",
    "model.fit(train_pool, eval_set=valid_pool, verbose = False)"
   ],
   "outputs": []
  },
  {
   "cell_type": "code",
   "execution_count": 38,
   "metadata": {
    "id": "0nCvwPVUuOFE"
   },
   "source": [
    "pred_train = model.predict(train_pool)\n",
    "pred_valid = model.predict(valid_pool)"
   ],
   "outputs": []
  },
  {
   "cell_type": "code",
   "execution_count": 39,
   "metadata": {
    "id": "dYNcOqqSuOFE"
   },
   "source": [
    "train['pred_labels'] = pred_train\n",
    "valid['pred_labels'] = pred_valid"
   ],
   "outputs": []
  },
  {
   "cell_type": "code",
   "execution_count": 40,
   "metadata": {
    "colab": {
     "base_uri": "https://localhost:8080/"
    },
    "id": "NzoSsp2ruOFE",
    "outputId": "a95ee73e-1a43-44e2-b0b4-fc4ef440fe0d"
   },
   "source": [
    "from sklearn.metrics import classification_report\n",
    "print(\"train: \\n\", classification_report(pred_train, train.labels.values))\n",
    "print(\"valid: \\n\", classification_report(pred_valid, valid.labels.values))"
   ],
   "outputs": []
  },
  {
   "cell_type": "markdown",
   "metadata": {
    "id": "r113PLYUuOFE"
   },
   "source": [
    "Так выглядят истинные метки"
   ]
  },
  {
   "cell_type": "code",
   "execution_count": 41,
   "metadata": {
    "colab": {
     "base_uri": "https://localhost:8080/",
     "height": 592
    },
    "id": "4XcI7VnjuOFE",
    "outputId": "9f842ef7-a9a8-4559-f11f-f9b087f2504c"
   },
   "source": [
    "plt.figure(figsize=(15, 10))\n",
    "plt.grid()\n",
    "for i in np.unique(train.pred_labels.unique()):\n",
    "    plt.scatter(valid.area[i == valid.labels].values, valid.price_m2_without_time[i==valid.labels].values,\n",
    "                cmap=colors_list[i], alpha=0.2, label ='cluster: ' + str(i))\n",
    "plt.legend()\n",
    "plt.show()"
   ],
   "outputs": []
  },
  {
   "cell_type": "markdown",
   "metadata": {
    "id": "1fpeWWowuOFE"
   },
   "source": [
    "А так прогнозные"
   ]
  },
  {
   "cell_type": "code",
   "execution_count": 42,
   "metadata": {
    "colab": {
     "base_uri": "https://localhost:8080/",
     "height": 592
    },
    "id": "N_P_vrbUuOFF",
    "outputId": "22a9f22f-37e5-4059-f757-18b8a5ef7bf9"
   },
   "source": [
    "plt.figure(figsize=(15, 10))\n",
    "plt.grid()\n",
    "for i in np.unique(valid.pred_labels.unique()):\n",
    "    plt.scatter(valid.area[i == valid.pred_labels].values, valid.price_m2_without_time[i==valid.pred_labels].values,\n",
    "                cmap=colors_list[i], alpha=0.2, label ='claster: ' + str(i))\n",
    "plt.legend()\n",
    "plt.show()"
   ],
   "outputs": []
  },
  {
   "cell_type": "code",
   "execution_count": 43,
   "metadata": {
    "id": "s_qYgnahuOFF"
   },
   "source": [
    "df['labels'] = model.predict(df[features])\n",
    "# df_test['labels'] = model.predict(df_test[features])"
   ],
   "outputs": []
  },
  {
   "cell_type": "code",
   "execution_count": 44,
   "metadata": {},
   "source": [
    "mask1 = (df['normal_price_month'].values < 2) * (df['normal_price_month'].values > -2) # выбираю только квартиры с ценами в пределах -2 2 стандартных отклонений по месяцам\n",
    "mask2 = (df['normal_price_street'].values < 3) * (df['normal_price_street'].values > -3) # выбираю только квартиры с ценами в пределах -3 3 стандартных отклонений по улицам \n"
   ],
   "outputs": []
  },
  {
   "cell_type": "code",
   "execution_count": 45,
   "metadata": {},
   "source": [
    "df.info()"
   ],
   "outputs": []
  },
  {
   "cell_type": "code",
   "execution_count": 46,
   "metadata": {
    "id": "KK06I6aNZbGU"
   },
   "source": [
    "df_train = df[df['mohth_from_begin'].values < 20]\n",
    "df_valid = df[df['mohth_from_begin'].values > 20]\n",
    "\n",
    "mask1_train =  (df_train['normal_price_month_m2'].values < 3) * (df_train['normal_price_month_m2'].values > -3)\n",
    "mask2_train = (df_train['normal_price_street_m2'].values < 3) * (df_train['normal_price_street_m2'].values > -3)\n",
    "mask_train = mask1_train * mask2_train\n",
    "mask1_valid =  (df_valid['normal_price_month_m2'].values < 3) * (df_valid['normal_price_month_m2'].values > -3)\n",
    "mask2_valid = (df_valid['normal_price_street_m2'].values < 3) * (df_valid['normal_price_street_m2'].values > -3)\n",
    "mask_valid = mask1_valid * mask2_valid\n",
    "\n",
    "\n",
    "\n",
    "\n",
    "labels = ['labels'] \n",
    "\n",
    "initial_features = ['street_id', 'build_tech', 'floor', 'area', 'rooms', 'balcon', 'metro_dist', 'n_photos', 'kw1', 'kw2',\n",
    "                    'kw3', 'kw4',\n",
    "         #   'kw5', 'kw6', 'kw7', 'kw10', 'kw11', 'kw12', 'kw13'\n",
    "                   ]\n",
    "\n",
    "\n",
    "cat_features_ = ['street_id']\n",
    "\n",
    "target = ['model_price_without_time']\n",
    "\n",
    "cat_features = cat_features_ + labels\n",
    "\n",
    "features = initial_features + labels\n",
    "\n",
    "\n",
    "train_pool = Pool(data = df_train[features][mask_train], label = df_train[target][mask_train], cat_features=cat_features\n",
    "#                  , weight=df_train.weights\n",
    "                  )\n",
    "valid_pool = Pool(data =df_valid[features][mask_valid], label = df_valid[target][mask_valid], cat_features=cat_features)"
   ],
   "outputs": []
  },
  {
   "cell_type": "code",
   "execution_count": 47,
   "metadata": {
    "colab": {
     "base_uri": "https://localhost:8080/"
    },
    "id": "jUWMKlVxuOFF",
    "outputId": "7a807dbe-2c3c-4581-ea72-e8cff74cefd6"
   },
   "source": [
    "model = CatBoostRegressor(\n",
    "    random_state=42, n_estimators = 15000, loss_function='MAE', eval_metric = 'MAE',\n",
    "                          bagging_temperature =  0.43, depth=6, l2_leaf_reg = 199, learning_rate = 0.056, \n",
    "#                          task_type = 'GPU', \n",
    "                       \n",
    "                         ) \n",
    "model.fit(train_pool, eval_set=valid_pool, verbose = False)                      \n",
    "                \n",
    "pred_train = model.predict(df_train[features])\n",
    "pred_valid = model.predict(df_valid[features])\n",
    "# pred_test = model.predict(df_test[features])"
   ],
   "outputs": []
  },
  {
   "cell_type": "code",
   "execution_count": 48,
   "metadata": {
    "colab": {
     "base_uri": "https://localhost:8080/"
    },
    "id": "vkvRTkkguOFF",
    "outputId": "e90f0e56-bde5-43ba-8294-7c4c46d7a420"
   },
   "source": [
    "dict(zip(model.feature_names_, model.feature_importances_))"
   ],
   "outputs": []
  },
  {
   "cell_type": "code",
   "execution_count": 49,
   "metadata": {
    "colab": {
     "base_uri": "https://localhost:8080/"
    },
    "id": "H-MlutY9uOFG",
    "outputId": "c19bbbf6-0037-41ad-e5be-4edfdd12689d"
   },
   "source": [
    "from sklearn.metrics import mean_absolute_error\n",
    "print(\"mae for model_price without time\")\n",
    "\n",
    "print(\"train: \",mean_absolute_error(pred_train, df_train[target]))\n",
    "print(\"valid: \", mean_absolute_error(pred_valid, df_valid[target]))"
   ],
   "outputs": []
  },
  {
   "cell_type": "code",
   "execution_count": 50,
   "metadata": {
    "colab": {
     "base_uri": "https://localhost:8080/"
    },
    "id": "fmDjliLHuOFG",
    "outputId": "a9186839-9701-4bf9-a4d2-f5a85a45e156"
   },
   "source": [
    "print(\"mae for result_price\")\n",
    "print(\"train: \", mean_absolute_error(pred_train * df_train.model_time_coef, df_train.price))\n",
    "print(\"valid: \", mean_absolute_error(pred_valid * df_valid.model_time_coef, df_valid.price)) "
   ],
   "outputs": []
  },
  {
   "cell_type": "code",
   "execution_count": 51,
   "metadata": {},
   "source": [
    "df_train['pred'] = pred_train\n",
    "df_valid['pred'] = pred_valid"
   ],
   "outputs": []
  },
  {
   "cell_type": "code",
   "execution_count": 52,
   "metadata": {},
   "source": [
    "df_train['error'] = df_train.model_price_without_time - df_train.pred\n",
    "df_train['abs_error'] = np.abs(df_train['error'])\n",
    "df_valid['error'] = df_valid.model_price_without_time - df_valid.pred\n",
    "df_valid['abs_error'] = np.abs(df_valid['error'])\n",
    "df_train['fraction_error'] = df_train.abs_error / df_train.model_price_without_time\n",
    "df_valid['fraction_error'] = df_valid.abs_error / df_valid.model_price_without_time"
   ],
   "outputs": []
  },
  {
   "cell_type": "code",
   "execution_count": 59,
   "metadata": {},
   "source": [
    "plt.figure(figsize = (20, 15))\n",
    "plt.grid()\n",
    "plt.hist(df_valid.error.values, bins = 100)\n",
    "plt.show()"
   ],
   "outputs": []
  },
  {
   "cell_type": "code",
   "execution_count": 57,
   "metadata": {},
   "source": [
    "params = ['street_id', 'build_tech', 'floor', 'area','rooms', 'balcon', 'metro_dist', 'n_photos', 'kw1', 'kw2', 'mohth_from_begin',\n",
    "          'price',  'pred', 'error', 'abs_error', 'fraction_error']\n",
    "\n",
    "df_train[params].sort_values(by='fraction_error', ascending=False).head(10)"
   ],
   "outputs": []
  },
  {
   "cell_type": "markdown",
   "metadata": {},
   "source": [
    "Подбираю гиперпараметры модели"
   ]
  },
  {
   "cell_type": "code",
   "execution_count": null,
   "metadata": {},
   "source": [
    "import hyperopt\n",
    "from hyperopt import hp, fmin, tpe, STATUS_OK, Trials\n",
    "space = {\n",
    "        'n_estimators': hp.quniform('n_estimators', 5000, 15000, 1),\n",
    "        'depth': hp.quniform(\"depth\", 5, 9, 1),\n",
    "        'learning_rate': hp.loguniform('learning_rate', -3.0, -2),\n",
    "        'l2_leaf_reg': hp.uniform('l2_leaf_reg', 100, 300),\n",
    "        'bagging_temperature': hp.uniform('bagging_temperature', 0.2, 1), \n",
    "       }\n",
    "cur_loss = np.inf"
   ],
   "outputs": []
  },
  {
   "cell_type": "code",
   "execution_count": null,
   "metadata": {},
   "source": [
    "def objective(params):\n",
    "    model = catboost.CatBoostRegressor(\n",
    "                                       iterations= params['n_estimators'], \n",
    "                                       learning_rate = params['learning_rate'],\n",
    "                                       depth = int(params['depth']),\n",
    "                                       l2_leaf_reg = params['l2_leaf_reg'],\n",
    "                                       bagging_temperature = params['bagging_temperature'],\n",
    "                                       loss_function = 'MAE',\n",
    "                                       use_best_model = True,\n",
    "                                    #    task_type = 'GPU',\n",
    "                                       eval_metric = 'MAE'\n",
    "                                       )\n",
    "    model.fit(train_pool, eval_set = valid_pool, verbose = False)\n",
    "    y_pred = model.predict(valid_pool) \n",
    "    loss = mean_absolute_error(valid_pool.get_label(), y_pred)\n",
    "    print(loss)\n",
    "\n",
    "\n",
    "    return {'loss':loss, 'status': STATUS_OK }\n",
    "\n",
    "\n",
    "\n",
    "best = hyperopt.fmin(fn = objective, \n",
    "                     space = space,\n",
    "                     algo = tpe.suggest,\n",
    "                     max_evals = 20,\n",
    "                     verbose = True,\n",
    "                     )\n"
   ],
   "outputs": []
  },
  {
   "cell_type": "code",
   "execution_count": null,
   "metadata": {},
   "source": [
    "print(best)"
   ],
   "outputs": []
  },
  {
   "cell_type": "markdown",
   "metadata": {},
   "source": [
    "{'bagging_temperature': 0.4284125413656453, 'depth': 6.0, 'l2_leaf_reg': 198.82058063891878, 'learning_rate': 0.05555877573482939, 'n_estimators': 14393.0, 'rsm': 0.996676586540747}"
   ]
  }
 ],
 "metadata": {
  "colab": {
   "collapsed_sections": [
    "prkmRsdyBKom"
   ],
   "name": "hw5 (2) (2) (1).ipynb",
   "provenance": []
  },
  "kernelspec": {
   "display_name": "Python 3 (ipykernel)",
   "language": "python",
   "name": "python3"
  },
  "language_info": {
   "codemirror_mode": {
    "name": "ipython",
    "version": 3
   },
   "file_extension": ".py",
   "mimetype": "text/x-python",
   "name": "python",
   "nbconvert_exporter": "python",
   "pygments_lexer": "ipython3",
   "version": "3.8.10"
  },
  "latex_envs": {
   "LaTeX_envs_menu_present": true,
   "autoclose": false,
   "autocomplete": true,
   "bibliofile": "biblio.bib",
   "cite_by": "apalike",
   "current_citInitial": 1,
   "eqLabelWithNumbers": true,
   "eqNumInitial": 1,
   "hotkeys": {
    "equation": "Ctrl-E",
    "itemize": "Ctrl-I"
   },
   "labels_anchors": false,
   "latex_user_defs": false,
   "report_style_numbering": false,
   "user_envs_cfg": false
  },
  "nbTranslate": {
   "displayLangs": [
    "*"
   ],
   "hotkey": "alt-t",
   "langInMainMenu": true,
   "sourceLang": "en",
   "targetLang": "fr",
   "useGoogleTranslate": true
  },
  "toc": {
   "base_numbering": 1,
   "nav_menu": {},
   "number_sections": true,
   "sideBar": true,
   "skip_h1_title": false,
   "title_cell": "Table of Contents",
   "title_sidebar": "Contents",
   "toc_cell": false,
   "toc_position": {},
   "toc_section_display": true,
   "toc_window_display": false
  },
  "varInspector": {
   "cols": {
    "lenName": 16,
    "lenType": 16,
    "lenVar": 40
   },
   "kernels_config": {
    "python": {
     "delete_cmd_postfix": "",
     "delete_cmd_prefix": "del ",
     "library": "var_list.py",
     "varRefreshCmd": "print(var_dic_list())"
    },
    "r": {
     "delete_cmd_postfix": ") ",
     "delete_cmd_prefix": "rm(",
     "library": "var_list.r",
     "varRefreshCmd": "cat(var_dic_list()) "
    }
   },
   "types_to_exclude": [
    "module",
    "function",
    "builtin_function_or_method",
    "instance",
    "_Feature"
   ],
   "window_display": false
  }
 },
 "nbformat": 4,
 "nbformat_minor": 1
}
