{
 "cells": [
  {
   "cell_type": "code",
   "execution_count": 1,
   "metadata": {
    "ExecuteTime": {
     "end_time": "2022-05-06T22:42:10.344833Z",
     "start_time": "2022-05-06T22:42:09.885383Z"
    },
    "id": "WJd12UvKD7Rf"
   },
   "source": [
    "import numpy as np\n",
    "import pandas as pd\n",
    "import matplotlib.pyplot as plt\n",
    "from tqdm.notebook import tqdm\n",
    "import warnings\n",
    "warnings.filterwarnings('ignore')"
   ],
   "outputs": []
  },
  {
   "cell_type": "code",
   "execution_count": 2,
   "metadata": {
    "ExecuteTime": {
     "end_time": "2022-05-06T22:42:20.547670Z",
     "start_time": "2022-05-06T22:42:14.949676Z"
    },
    "colab": {
     "base_uri": "https://localhost:8080/"
    },
    "id": "2-yOBkOQP0dJ",
    "outputId": "53668c18-846e-4e1b-b383-13d9d7ee6f71"
   },
   "source": [
    "!wget https://raw.githubusercontent.com/andrey-source/tehnopark/main/price_of_flats/Test.csv -O Test.csv\n",
    "!wget https://raw.githubusercontent.com/andrey-source/tehnopark/main/price_of_flats/Train.csv -O Train.csv\n",
    "!wget https://raw.githubusercontent.com/andrey-source/tehnopark/main/price_of_flats/SampleSubmission.csv -O SampleSubmission.csv\n",
    "# !pip install catboost"
   ],
   "outputs": []
  },
  {
   "cell_type": "code",
   "execution_count": 3,
   "metadata": {
    "ExecuteTime": {
     "end_time": "2022-05-06T22:42:23.031470Z",
     "start_time": "2022-05-06T22:42:22.597015Z"
    },
    "colab": {
     "base_uri": "https://localhost:8080/",
     "height": 205
    },
    "id": "BHH8O-9muOE2",
    "outputId": "3328344c-1213-4a31-d4f6-81437fe3aa04"
   },
   "source": [
    "import catboost\n",
    "df = pd.read_csv('Train.csv')\n",
    "df_test = pd.read_csv('Test.csv')\n",
    "df['year'] = pd.DatetimeIndex(df.date).year - 2011\n",
    "df['mohth_from_begin'] = df.year * 12 + pd.DatetimeIndex(df.date).month\n",
    "df_test['year'] = pd.DatetimeIndex(df_test.date).year - 2011\n",
    "df_test['mohth_from_begin'] = df_test.year * 12 + pd.DatetimeIndex(df_test.date).month\n",
    "\n",
    "del df['date']\n",
    "del df_test['date']\n",
    "del df['year']\n",
    "del df_test['year']\n",
    "df = df.iloc[df.price.values != 1000000, :]\n",
    "df['price_m2'] = df.price / df.area\n",
    "df.reset_index(inplace=True)\n",
    "del df['index']\n",
    "del df['id']\n",
    "del (df['kw8'])\n",
    "del (df['kw9'])\n",
    "del (df['g_lift'])\n",
    "del (df_test['kw8'])\n",
    "del (df_test['kw9'])\n",
    "del (df_test['g_lift'])\n",
    "df.head()"
   ],
   "outputs": []
  },
  {
   "cell_type": "code",
   "execution_count": 4,
   "metadata": {
    "ExecuteTime": {
     "end_time": "2022-05-06T22:42:35.012972Z",
     "start_time": "2022-05-06T22:42:25.047604Z"
    },
    "colab": {
     "base_uri": "https://localhost:8080/",
     "height": 423
    },
    "id": "Gm6NKubxuOE8",
    "outputId": "b1a75eb7-afc1-4df8-bcbe-1d646ac2829b"
   },
   "source": [
    "df['weights_unique'] = 0  # у квартир с одинаковой ценой вес меньше\n",
    "counts = df.price.value_counts().values\n",
    "values = df.price.value_counts().index.values\n",
    "for i in range(values.shape[0]):\n",
    "    df.weights_unique[df.price.values == values[i]] = 1 / np.cbrt(counts[i])  # веса наблюдений\n",
    "\n",
    "\n",
    "df['weights_miss'] = 1  # у квартир с пропусками вес меньше\n",
    "df.fillna(value=-9999, inplace=True)\n",
    "df.weights_miss[df.metro_dist.values == -9999] = df.weights_miss[df.metro_dist.values == -9999] * 0.7 # предсказывается средне\n",
    "df.weights_miss[df.build_tech.values == -9999] = df.weights_miss[df.build_tech.values == -9999] * 0.8  # предсказывается хорошо\n",
    "\n",
    "\n",
    "df['month_weights'] = np.cbrt(df.mohth_from_begin.values)  # более поздние наблюдения имеют больший вес\n",
    "\n",
    "\n",
    "df['weights'] = df.weights_unique * df.weights_miss + df.month_weights\n",
    "del df['weights_miss']\n",
    "del df['month_weights']\n",
    "del df['weights_unique']\n",
    "df_test.fillna(value=-9999, inplace=True)\n",
    "df"
   ],
   "outputs": []
  },
  {
   "cell_type": "markdown",
   "metadata": {
    "id": "J5ScsO2PuOE9"
   },
   "source": [
    "Заполняю build_tech"
   ]
  },
  {
   "cell_type": "code",
   "execution_count": 5,
   "metadata": {
    "ExecuteTime": {
     "end_time": "2022-05-06T22:43:07.668548Z",
     "start_time": "2022-05-06T22:42:35.090736Z"
    },
    "id": "9ERf5s66uOE-"
   },
   "source": [
    "from catboost import CatBoostClassifier \n",
    "from catboost import Pool\n",
    "\n",
    "mask = df.build_tech.values != -9999\n",
    "features = ['street_id', 'floor', 'area', 'rooms', 'balcon', 'n_photos',\n",
    "            'kw1', 'kw2', 'kw3', 'kw4', 'kw5', 'kw6', 'kw7', 'kw10', 'kw11', 'kw12', 'kw13']\n",
    "cat_features = ['street_id']\n",
    "train_pool = Pool(data=df[features][mask], label=df.build_tech[mask].values, cat_features=cat_features, weight = df.weights[mask].values)\n",
    "build_model = CatBoostClassifier(random_state=42)\n",
    "build_model.fit(train_pool, verbose = False)\n",
    "pred_train = build_model.predict(train_pool)\n"
   ],
   "outputs": []
  },
  {
   "cell_type": "code",
   "execution_count": 6,
   "metadata": {
    "ExecuteTime": {
     "end_time": "2022-05-06T22:43:07.901023Z",
     "start_time": "2022-05-06T22:43:07.753402Z"
    },
    "id": "-F7Ww4_tuOE_"
   },
   "source": [
    "df.build_tech[df.build_tech.values == -9999] = build_model.predict(df[df.build_tech.values == -9999][features].values).reshape(-1)\n",
    "df_test.build_tech[df_test.build_tech == -9999] = build_model.predict(df_test[df_test.build_tech.values == -9999][features].values).reshape(-1)"
   ],
   "outputs": []
  },
  {
   "cell_type": "markdown",
   "metadata": {
    "id": "CKwDt65khCgB"
   },
   "source": [
    "Заполняю metro_dist"
   ]
  },
  {
   "cell_type": "code",
   "execution_count": null,
   "metadata": {
    "ExecuteTime": {
     "start_time": "2022-05-06T22:42:28.410Z"
    },
    "colab": {
     "base_uri": "https://localhost:8080/"
    },
    "id": "htd_q5jjuOE_",
    "outputId": "35305035-d196-4fc4-d5d9-7b229946f3d3"
   },
   "source": [
    "from catboost import CatBoostRegressor\n",
    "\n",
    "mask = df.metro_dist.values != -9999\n",
    "features = ['build_tech', 'street_id', 'floor', 'area', 'rooms', 'balcon', 'n_photos',\n",
    "            'kw1', 'kw2', 'kw3', 'kw4', 'kw5', 'kw6', 'kw7', 'kw10', 'kw11', 'kw12', 'kw13']\n",
    "cat_features = ['street_id']\n",
    "\n",
    "train_pool = Pool(data=df[features][mask], label=df.metro_dist[mask], cat_features=cat_features, weight = df.weights[mask].values)\n",
    "metro_model = CatBoostRegressor(loss_function = 'MAE', eval_metric='MAE', \n",
    "                random_state=42, n_estimators=3000)\n",
    "metro_model.fit(train_pool, verbose = False)"
   ],
   "outputs": []
  },
  {
   "cell_type": "code",
   "execution_count": null,
   "metadata": {
    "ExecuteTime": {
     "start_time": "2022-05-06T22:42:28.928Z"
    },
    "id": "Idaf37SBuOFA"
   },
   "source": [
    "df.metro_dist[df.metro_dist.values == -9999] = metro_model.predict(df[df.metro_dist.values == -9999][features])\n",
    "df_test.metro_dist[df_test.metro_dist == -9999] = metro_model.predict(df_test[df_test.metro_dist.values == -9999][features])"
   ],
   "outputs": []
  },
  {
   "cell_type": "code",
   "execution_count": null,
   "metadata": {
    "ExecuteTime": {
     "start_time": "2022-05-06T22:42:30.231Z"
    },
    "id": "cPaoSHX0uOFA"
   },
   "source": [
    "df.metro_dist = round(df.metro_dist / 5) * 5\n",
    "df_test.metro_dist = round(df_test.metro_dist / 5) * 5"
   ],
   "outputs": []
  },
  {
   "cell_type": "markdown",
   "metadata": {
    "id": "JUslE_8ruOFA"
   },
   "source": [
    "Анализирую стоймость квартир в каждом месяце"
   ]
  },
  {
   "cell_type": "code",
   "execution_count": null,
   "metadata": {
    "ExecuteTime": {
     "start_time": "2022-05-06T22:42:31.095Z"
    },
    "colab": {
     "base_uri": "https://localhost:8080/",
     "height": 1000
    },
    "id": "5Ymwi7FkuOFA",
    "outputId": "8dff8abc-a577-4f16-d0a5-0b34f734534f"
   },
   "source": [
    "from sklearn.preprocessing import PowerTransformer\n",
    "spisok = []\n",
    "y = df.mohth_from_begin.values\n",
    "df['normal_price_month'] = 0.0\n",
    "for i in np.unique(y):\n",
    "    PW = PowerTransformer(method='box-cox')\n",
    "    PW.fit(df.price[y == i].values.reshape(-1, 1))\n",
    "    df.normal_price_month[y == i] = PW.transform(df.price[y == i].values.reshape(-1, 1)).reshape(-1)\n",
    "    spisok.append(PW)\n",
    "    \n",
    "fig, ax = plt.subplots(6, 3, figsize=(25,120))\n",
    "n, k, i = 0, 0, 0\n",
    "for i, month in enumerate(np.unique(y)):\n",
    "    ax[i // 3, i % 3].hist(df.normal_price_month[y == month].values, bins = 30)\n",
    "    ax[i // 3, i % 3].set_title('month from begin =' + str(month))"
   ],
   "outputs": []
  },
  {
   "cell_type": "markdown",
   "metadata": {
    "id": "Nz7Hp9EFuOFB"
   },
   "source": [
    "Стоймость квартир в зависимости от улицы"
   ]
  },
  {
   "cell_type": "code",
   "execution_count": null,
   "metadata": {
    "ExecuteTime": {
     "start_time": "2022-05-06T22:42:32.219Z"
    },
    "id": "ZfX1xu4UuOFB"
   },
   "source": [
    "street_spisok = []\n",
    "y = df.street_id.values\n",
    "df['normal_price_street'] = 0.0\n",
    "for i in np.unique(y):\n",
    "    PW = PowerTransformer(method='box-cox')\n",
    "    PW.fit(df.price[y == i].values.reshape(-1, 1))\n",
    "    df.normal_price_street[y == i] = PW.transform(df.price[y == i].values.reshape(-1, 1)).reshape(-1)\n",
    "    street_spisok.append(PW)"
   ],
   "outputs": []
  },
  {
   "cell_type": "code",
   "execution_count": null,
   "metadata": {
    "ExecuteTime": {
     "start_time": "2022-05-06T22:42:33.650Z"
    },
    "id": "crTD0m-85opb"
   },
   "source": [
    "df['weight_price'] = df.price * df.weights"
   ],
   "outputs": []
  },
  {
   "cell_type": "code",
   "execution_count": null,
   "metadata": {
    "ExecuteTime": {
     "start_time": "2022-05-06T22:42:34.065Z"
    },
    "colab": {
     "base_uri": "https://localhost:8080/",
     "height": 276
    },
    "id": "S-AMT0iSuOFB",
    "outputId": "38effc2d-4b37-4ff2-9421-ef16d281e41d"
   },
   "source": [
    "mean_price = df[['price', 'mohth_from_begin']].groupby(['mohth_from_begin']).mean()  # просто средня цена\n",
    "\n",
    "\n",
    "df['weight_price'] = df.price * df.weights  # вклад в стоймость, нет пропусков и уникальное значение стоймости - большой вклад\n",
    "mask1 = (df['normal_price_month'].values < 2) * (df['normal_price_month'].values > -2) # выбираю только квартиры с ценами в пределах -2 2 стандартных отклонений по месяцам\n",
    "mask2 = (df['normal_price_street'].values < 3) * (df['normal_price_street'].values > -3) # выбираю только квартиры с ценами в пределах -3 3 стандартных отклонений по улицам \n",
    "mask = mask1 * mask2\n",
    "robast_mean_price = df[['weight_price', 'mohth_from_begin']][mask].groupby(['mohth_from_begin']).sum() / df[['weights', 'mohth_from_begin']][mask].groupby(['mohth_from_begin']).sum().values\n",
    "plt.scatter(mean_price.index, mean_price.values, label = \"mean\")\n",
    "plt.scatter(robast_mean_price.index, robast_mean_price.values, label = \"robast mean\")\n",
    "plt.grid()\n",
    "plt.legend()\n",
    "plt.show()"
   ],
   "outputs": []
  },
  {
   "cell_type": "code",
   "execution_count": null,
   "metadata": {
    "ExecuteTime": {
     "start_time": "2022-05-06T22:42:35.065Z"
    },
    "colab": {
     "base_uri": "https://localhost:8080/",
     "height": 276
    },
    "id": "s_ykranTuOFB",
    "outputId": "bacbefe3-2b08-4f57-f51c-c2e92740f8e7"
   },
   "source": [
    "from sklearn.svm import SVR\n",
    "from sklearn.linear_model import LinearRegression\n",
    "\n",
    "train = robast_mean_price\n",
    "linear_model = SVR(kernel = 'poly', degree= 1, C = 1e5).fit(X = train.index.values.reshape(-1, 1), y = train.values)\n",
    "pred = linear_model.predict(X = np.arange(0, 40).reshape(-1, 1))\n",
    "\n",
    "plt.plot(np.arange(0, 40).reshape(-1, 1), pred, label = \"Pred\")\n",
    "plt.scatter(robast_mean_price.index, robast_mean_price.values, label = \"robast mean\")\n",
    "plt.grid()\n",
    "plt.legend()\n",
    "plt.show()"
   ],
   "outputs": []
  },
  {
   "cell_type": "markdown",
   "metadata": {
    "id": "EwwvyXwgVQgo"
   },
   "source": [
    "Вычисляю коэффицент стоймости от месяца по модели"
   ]
  },
  {
   "cell_type": "code",
   "execution_count": null,
   "metadata": {
    "ExecuteTime": {
     "start_time": "2022-05-06T22:42:36.557Z"
    },
    "id": "TS7-C1mluOFB"
   },
   "source": [
    "time_24 = linear_model.predict([[24]]) \n",
    "df['pred_mean'] = linear_model.predict(df.mohth_from_begin.values.reshape(-1, 1))  # прогноз средней цены\n",
    "df['model_time_coef'] = df.pred_mean / time_24  # коэффициент стоймости от времени\n",
    "df['model_price_without_time'] = df.price / df.model_time_coef  # цена с поправкой на время\n",
    "df_test['model_pred_mean'] = linear_model.predict(df_test.mohth_from_begin.values.reshape(-1, 1))  # прогноз средней цены для теста\n",
    "df_test['model_time_coef'] = df_test.model_pred_mean / time_24  # опорным беру последний месяц"
   ],
   "outputs": []
  },
  {
   "cell_type": "markdown",
   "metadata": {
    "id": "PfKVikG4uOFC"
   },
   "source": [
    "Стоймость квадратного метра в зависимости от даты и улицы"
   ]
  },
  {
   "cell_type": "code",
   "execution_count": null,
   "metadata": {
    "ExecuteTime": {
     "start_time": "2022-05-06T22:42:38.141Z"
    },
    "colab": {
     "base_uri": "https://localhost:8080/",
     "height": 1000
    },
    "id": "UNfVkG9suOFC",
    "outputId": "387eca4f-9294-49e6-9665-f0b0b8222c10"
   },
   "source": [
    "spisok = []\n",
    "y = df.mohth_from_begin.values\n",
    "df['normal_price_month_m2'] = 0.0\n",
    "for i in np.unique(y):\n",
    "    PW = PowerTransformer(method='box-cox')\n",
    "    PW.fit(df.price_m2[y == i].values.reshape(-1, 1))\n",
    "    df.normal_price_month_m2[y == i] = PW.transform(df.price_m2[y == i].values.reshape(-1, 1)).reshape(-1)\n",
    "    spisok.append(PW)\n",
    "    \n",
    "fig, ax = plt.subplots(6, 3, figsize=(25,120))\n",
    "n, k, i = 0, 0, 0\n",
    "for i, month in enumerate(np.unique(y)):\n",
    "    ax[i // 3, i % 3].hist(df.normal_price_month_m2[y == month].values, bins = 30)\n",
    "    ax[i // 3, i % 3].set_title('month from begin =' + str(month))"
   ],
   "outputs": []
  },
  {
   "cell_type": "code",
   "execution_count": null,
   "metadata": {
    "ExecuteTime": {
     "start_time": "2022-05-06T22:42:38.851Z"
    },
    "id": "CmGqtyF4uOFC"
   },
   "source": [
    "street_spisok = []\n",
    "y = df.street_id.values\n",
    "df['normal_price_street_m2'] = 0.0\n",
    "for i in np.unique(y):\n",
    "    PW = PowerTransformer(method='box-cox')\n",
    "    PW.fit(df.price_m2[y == i].values.reshape(-1, 1))\n",
    "    df.normal_price_street_m2[y == i] = PW.transform(df.price_m2[y == i].values.reshape(-1, 1)).reshape(-1)\n",
    "    street_spisok.append(PW)\n"
   ],
   "outputs": []
  },
  {
   "cell_type": "markdown",
   "metadata": {
    "id": "iyP645L2uOFC"
   },
   "source": [
    "Считаю среднюю и робастную среднюю оценки средней цены за квадратный метр. Удивительно, но цена почему-то растет линейно. Хотя в старых данных экспонециально!!!!"
   ]
  },
  {
   "cell_type": "code",
   "execution_count": null,
   "metadata": {
    "ExecuteTime": {
     "start_time": "2022-05-06T22:42:46.165Z"
    },
    "colab": {
     "base_uri": "https://localhost:8080/",
     "height": 264
    },
    "id": "Dh3JbPH7_fSn",
    "outputId": "e8747d86-98ee-4652-b775-c751e3f60b8e"
   },
   "source": [
    "mean_price_m2 = df[['price_m2', 'mohth_from_begin']].groupby(['mohth_from_begin']).mean()  # просто средняя цена\n",
    "df['weight_price_m2'] = df.price_m2 * df.weights  # вклад в стоймость, нет пропусков и уникальное значение стоймости - большой вклад\n",
    "mask1 = (df['normal_price_month'].values < 2) * (df['normal_price_month'].values > -2) # выбираю только квартиры с ценами в пределах -1 1 стандартных отклонений по месяцам\n",
    "mask2 = (df['normal_price_street'].values < 3) * (df['normal_price_street'].values > -3) # выбираю только квартиры с ценами в пределах -2 2 стандартных отклонений по улицам (здесь 2 тк их выборка для каждого меньше)\n",
    "mask = mask1 * mask2\n",
    "robast_mean_price_m2 = df[['weight_price_m2', 'mohth_from_begin']][mask].groupby(['mohth_from_begin']).sum() / df[['weights', 'mohth_from_begin']][mask].groupby(['mohth_from_begin']).sum().values\n",
    "plt.scatter(mean_price_m2.index, mean_price_m2.values, label = \"mean\")\n",
    "plt.scatter(robast_mean_price_m2.index, robast_mean_price_m2.values, label = \"robast mean\")\n",
    "plt.grid()\n",
    "plt.legend()\n",
    "plt.show()"
   ],
   "outputs": []
  },
  {
   "cell_type": "code",
   "execution_count": null,
   "metadata": {
    "ExecuteTime": {
     "start_time": "2022-05-06T22:42:47.670Z"
    },
    "colab": {
     "base_uri": "https://localhost:8080/",
     "height": 266
    },
    "id": "i06GZGkcuOFD",
    "outputId": "f583ca7f-dd7c-414a-b3eb-af8c1b1a9886"
   },
   "source": [
    "train = robast_mean_price_m2\n",
    "linear_model = SVR(kernel = 'poly', degree = 1,  C = 10000).fit(X = train.index.values.reshape(-1, 1), y = train.values)\n",
    "\n",
    "pred = linear_model.predict(X = np.arange(0, 40).reshape(-1, 1))\n",
    "\n",
    "plt.plot(np.arange(0, 40).reshape(-1, 1), pred, label = \"Pred\")\n",
    "plt.scatter(robast_mean_price_m2.index, robast_mean_price_m2.values, label = \"robast mean\")\n",
    "plt.grid()\n",
    "plt.legend()\n",
    "plt.show()"
   ],
   "outputs": []
  },
  {
   "cell_type": "code",
   "execution_count": null,
   "metadata": {
    "ExecuteTime": {
     "start_time": "2022-05-06T22:42:48.233Z"
    },
    "id": "RSqVjTXNuOFD"
   },
   "source": [
    "time_24 = linear_model.predict([[24]])\n",
    "df['model_pred_mean_m2'] = linear_model.predict(df.mohth_from_begin.values.reshape(-1, 1))\n",
    "df_test['model_pred_mean_m2'] = linear_model.predict(df_test.mohth_from_begin.values.reshape(-1, 1))\n",
    "df['model_coef_price_m2'] = df['price_m2'] / df['model_pred_mean_m2'] # во сколько квартира лучше средней\n",
    "df['model_time_coef_m2'] = df.model_pred_mean_m2 / time_24\n",
    "df['model_price_m2_without_time'] = df.price_m2 / df.model_time_coef_m2\n"
   ],
   "outputs": []
  },
  {
   "cell_type": "markdown",
   "metadata": {
    "id": "3cd32VDYuOFD"
   },
   "source": [
    "Выполняю кластеризацию. По площади и стоймости квадратного метра с поправкой на время"
   ]
  },
  {
   "cell_type": "code",
   "execution_count": null,
   "metadata": {
    "ExecuteTime": {
     "start_time": "2022-05-06T22:42:49.791Z"
    },
    "colab": {
     "base_uri": "https://localhost:8080/",
     "height": 592
    },
    "id": "1ebEA9kyuOFD",
    "outputId": "ea9d462c-fe03-4896-a607-8ee2bc980117"
   },
   "source": [
    "from sklearn.mixture import BayesianGaussianMixture\n",
    "from sklearn.mixture import GaussianMixture\n",
    "from sklearn.model_selection import train_test_split\n",
    "from sklearn.preprocessing import StandardScaler\n",
    "from sklearn.pipeline import Pipeline\n",
    "import matplotlib.colors as colors\n",
    "colors_list = list(colors._colors_full_map.values())  # список цветов\n",
    "\n",
    "\n",
    "train = df.sample(frac = 0.7, replace = True, random_state = 42, weights=df.weights)\n",
    "\n",
    "claster = ['model_price_m2_without_time', 'area']\n",
    "classtering = Pipeline([\n",
    "    ('SS', StandardScaler()),\n",
    "    ('GaussianMixture', GaussianMixture(n_components = 30, random_state = 42, n_init = 10)) \n",
    "])\n",
    "\n",
    "labels = classtering.fit_predict(train[claster])\n",
    "\n",
    "\n",
    "plt.figure(figsize=(15, 10))\n",
    "plt.grid()\n",
    "for i in np.unique(labels):\n",
    "    plt.scatter(train.area[i == labels].values, train.model_price_m2_without_time[i==labels].values, cmap=colors_list[i], alpha=0.1)\n",
    "plt.show()"
   ],
   "outputs": []
  },
  {
   "cell_type": "code",
   "execution_count": null,
   "metadata": {
    "ExecuteTime": {
     "start_time": "2022-05-06T22:42:50.591Z"
    },
    "id": "aybCgO1IuOFD"
   },
   "source": [
    "df['labels'] = classtering.predict(df[claster])"
   ],
   "outputs": []
  },
  {
   "cell_type": "markdown",
   "metadata": {
    "id": "xQYSrjImuOFE"
   },
   "source": [
    "Предсказываю метку кластера по известным признакам"
   ]
  },
  {
   "cell_type": "code",
   "execution_count": null,
   "metadata": {
    "ExecuteTime": {
     "start_time": "2022-05-06T22:42:52.090Z"
    },
    "colab": {
     "base_uri": "https://localhost:8080/"
    },
    "id": "c6Rr6dEBuOFE",
    "outputId": "f3bfef7a-c569-45d6-c287-ce7454624d0b"
   },
   "source": [
    "train, valid = train_test_split(df, train_size=0.5)\n",
    "features = ['street_id', 'build_tech', 'floor', 'area', 'rooms', 'balcon', 'metro_dist','n_photos', \n",
    "           'kw1', 'kw2', 'kw3', 'kw4', 'kw5', 'kw6', 'kw7', 'kw10', 'kw11', 'kw12', 'kw13']\n",
    "cat_features = ['street_id']\n",
    "\n",
    "target = ['labels']\n",
    "\n",
    "train_pool = Pool(train[features], label=train[target], weight = train.weights.values)\n",
    "valid_pool  =Pool(valid[features], label=valid[target])\n",
    "\n",
    "model = CatBoostClassifier(n_estimators=2000, random_state=42,\n",
    "                           auto_class_weights='SqrtBalanced'\n",
    "                    \n",
    ")\n",
    "model.fit(train_pool, eval_set=valid_pool, verbose = False)"
   ],
   "outputs": []
  },
  {
   "cell_type": "code",
   "execution_count": null,
   "metadata": {
    "ExecuteTime": {
     "start_time": "2022-05-06T22:42:52.740Z"
    },
    "id": "0nCvwPVUuOFE"
   },
   "source": [
    "pred_train = model.predict(train_pool)\n",
    "pred_valid = model.predict(valid_pool)"
   ],
   "outputs": []
  },
  {
   "cell_type": "code",
   "execution_count": null,
   "metadata": {
    "ExecuteTime": {
     "start_time": "2022-05-06T22:42:53.556Z"
    },
    "id": "dYNcOqqSuOFE"
   },
   "source": [
    "train['pred_labels'] = pred_train\n",
    "valid['pred_labels'] = pred_valid"
   ],
   "outputs": []
  },
  {
   "cell_type": "code",
   "execution_count": null,
   "metadata": {
    "ExecuteTime": {
     "start_time": "2022-05-06T22:42:53.897Z"
    },
    "colab": {
     "base_uri": "https://localhost:8080/"
    },
    "id": "NzoSsp2ruOFE",
    "outputId": "454fa558-97f6-49c5-c58b-c6d871d3d9e0"
   },
   "source": [
    "from sklearn.metrics import classification_report\n",
    "print(\"train: \\n\", classification_report(pred_train, train.labels.values))\n",
    "print(\"valid: \\n\", classification_report(pred_valid, valid.labels.values))"
   ],
   "outputs": []
  },
  {
   "cell_type": "markdown",
   "metadata": {
    "id": "r113PLYUuOFE"
   },
   "source": [
    "Так выглядят истинные метки"
   ]
  },
  {
   "cell_type": "code",
   "execution_count": null,
   "metadata": {
    "ExecuteTime": {
     "start_time": "2022-05-06T22:42:56.415Z"
    },
    "colab": {
     "base_uri": "https://localhost:8080/",
     "height": 592
    },
    "id": "4XcI7VnjuOFE",
    "outputId": "40fb2121-6b84-4634-9793-5e3bbffe1d9d"
   },
   "source": [
    "plt.figure(figsize=(15, 10))\n",
    "plt.grid()\n",
    "for i in np.unique(train.pred_labels.unique()):\n",
    "    plt.scatter(valid.area[i == valid.labels].values, valid.model_price_m2_without_time[i==valid.labels].values,\n",
    "                cmap=colors_list[i], alpha=0.2, label ='cluster: ' + str(i))\n",
    "plt.legend()\n",
    "plt.show()"
   ],
   "outputs": []
  },
  {
   "cell_type": "markdown",
   "metadata": {
    "id": "1fpeWWowuOFE"
   },
   "source": [
    "А так прогнозные"
   ]
  },
  {
   "cell_type": "code",
   "execution_count": null,
   "metadata": {
    "ExecuteTime": {
     "start_time": "2022-05-06T22:42:58.040Z"
    },
    "colab": {
     "base_uri": "https://localhost:8080/",
     "height": 592
    },
    "id": "N_P_vrbUuOFF",
    "outputId": "cfe064c3-c188-470c-cd81-c17cf303571d"
   },
   "source": [
    "plt.figure(figsize=(15, 10))\n",
    "plt.grid()\n",
    "for i in np.unique(valid.pred_labels.unique()):\n",
    "    plt.scatter(valid.area[i == valid.pred_labels].values, valid.model_price_m2_without_time[i==valid.pred_labels].values,\n",
    "                cmap=colors_list[i], alpha=0.2, label ='claster: ' + str(i))\n",
    "plt.legend()\n",
    "plt.show()"
   ],
   "outputs": []
  },
  {
   "cell_type": "markdown",
   "metadata": {},
   "source": [
    "Финальная модель"
   ]
  },
  {
   "cell_type": "code",
   "execution_count": null,
   "metadata": {
    "ExecuteTime": {
     "start_time": "2022-05-06T22:42:59.381Z"
    },
    "id": "s_qYgnahuOFF"
   },
   "source": [
    "df['labels'] = model.predict(df[features])\n",
    "df_test['labels'] = model.predict(df_test[features])"
   ],
   "outputs": []
  },
  {
   "cell_type": "code",
   "execution_count": null,
   "metadata": {
    "ExecuteTime": {
     "start_time": "2022-05-06T22:42:59.985Z"
    },
    "id": "xpqymgmxrDbY"
   },
   "source": [
    "labels = ['labels'] \n",
    "initial_features = ['street_id', 'build_tech', 'floor', 'area', 'rooms', 'balcon', 'metro_dist', 'kw1', 'kw2']\n",
    "cat_features_ = ['street_id']\n",
    "\n",
    "target = ['model_price_without_time']\n",
    "\n",
    "cat_features = cat_features_  #+ labels\n",
    "\n",
    "features = initial_features  #+ labels\n",
    "\n",
    "\n",
    "train_pool = Pool(data = df[features], label = df[target], cat_features=cat_features)"
   ],
   "outputs": []
  },
  {
   "cell_type": "code",
   "execution_count": null,
   "metadata": {
    "ExecuteTime": {
     "start_time": "2022-05-06T22:43:00.438Z"
    },
    "colab": {
     "base_uri": "https://localhost:8080/"
    },
    "id": "jUWMKlVxuOFF",
    "outputId": "70e9f9ad-ed23-4e96-96a1-71e474dbb4cd"
   },
   "source": [
    "model = CatBoostRegressor(random_state=42, n_estimators = 15000, loss_function='MAE', eval_metric = 'MAE',\n",
    "                          bagging_temperature =  0.43, depth=6, l2_leaf_reg = 299, learning_rate = 0.056,\n",
    "                        #  task_type = 'GPU'\n",
    "#                           rsm = 0.6\n",
    "                         ) \n",
    "model.fit(train_pool, verbose = False)                      \n",
    "                \n",
    "# pred_train = model.predict(df_train[features])\n",
    "# pred_valid = model.predict(df_valid[features])\n",
    "# pred_test = model.predict(df_test[features])"
   ],
   "outputs": []
  },
  {
   "cell_type": "code",
   "execution_count": null,
   "metadata": {
    "ExecuteTime": {
     "start_time": "2022-05-06T22:43:01.282Z"
    },
    "id": "vkvRTkkguOFF"
   },
   "source": [
    "dict(zip(model.feature_names_, model.feature_importances_))"
   ],
   "outputs": []
  },
  {
   "cell_type": "code",
   "execution_count": null,
   "metadata": {
    "ExecuteTime": {
     "start_time": "2022-05-06T22:43:02.975Z"
    },
    "id": "L-yQmfAquOFG"
   },
   "source": [
    "df_test['result_price'] = model.predict(df_test[features])  * df_test.model_time_coef"
   ],
   "outputs": []
  },
  {
   "cell_type": "markdown",
   "metadata": {},
   "source": [
    "без меток получилось лучше на 6к, возможно переобучился"
   ]
  },
  {
   "cell_type": "code",
   "execution_count": null,
   "metadata": {
    "ExecuteTime": {
     "start_time": "2022-05-06T22:43:06.514Z"
    },
    "id": "7u2A1h2huOFG"
   },
   "source": [
    "sub = pd.read_csv('SampleSubmission.csv')\n",
    "sub.price = df_test.result_price\n",
    "sub.to_csv(\"submit_no_labels1.csv\", index = False)"
   ],
   "outputs": []
  },
  {
   "cell_type": "code",
   "execution_count": null,
   "metadata": {},
   "source": [],
   "outputs": []
  }
 ],
 "metadata": {
  "colab": {
   "collapsed_sections": [],
   "name": "hw5 (1).ipynb",
   "provenance": []
  },
  "kernelspec": {
   "display_name": "Python 3 (ipykernel)",
   "language": "python",
   "name": "python3"
  },
  "language_info": {
   "codemirror_mode": {
    "name": "ipython",
    "version": 3
   },
   "file_extension": ".py",
   "mimetype": "text/x-python",
   "name": "python",
   "nbconvert_exporter": "python",
   "pygments_lexer": "ipython3",
   "version": "3.8.10"
  },
  "latex_envs": {
   "LaTeX_envs_menu_present": true,
   "autoclose": false,
   "autocomplete": true,
   "bibliofile": "biblio.bib",
   "cite_by": "apalike",
   "current_citInitial": 1,
   "eqLabelWithNumbers": true,
   "eqNumInitial": 1,
   "hotkeys": {
    "equation": "Ctrl-E",
    "itemize": "Ctrl-I"
   },
   "labels_anchors": false,
   "latex_user_defs": false,
   "report_style_numbering": false,
   "user_envs_cfg": false
  },
  "nbTranslate": {
   "displayLangs": [
    "*"
   ],
   "hotkey": "alt-t",
   "langInMainMenu": true,
   "sourceLang": "en",
   "targetLang": "fr",
   "useGoogleTranslate": true
  },
  "toc": {
   "base_numbering": 1,
   "nav_menu": {},
   "number_sections": true,
   "sideBar": true,
   "skip_h1_title": false,
   "title_cell": "Table of Contents",
   "title_sidebar": "Contents",
   "toc_cell": false,
   "toc_position": {},
   "toc_section_display": true,
   "toc_window_display": false
  },
  "varInspector": {
   "cols": {
    "lenName": 16,
    "lenType": 16,
    "lenVar": 40
   },
   "kernels_config": {
    "python": {
     "delete_cmd_postfix": "",
     "delete_cmd_prefix": "del ",
     "library": "var_list.py",
     "varRefreshCmd": "print(var_dic_list())"
    },
    "r": {
     "delete_cmd_postfix": ") ",
     "delete_cmd_prefix": "rm(",
     "library": "var_list.r",
     "varRefreshCmd": "cat(var_dic_list()) "
    }
   },
   "types_to_exclude": [
    "module",
    "function",
    "builtin_function_or_method",
    "instance",
    "_Feature"
   ],
   "window_display": false
  }
 },
 "nbformat": 4,
 "nbformat_minor": 1
}
