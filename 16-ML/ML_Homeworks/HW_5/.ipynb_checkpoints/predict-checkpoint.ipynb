{
 "cells": [
  {
   "cell_type": "code",
   "execution_count": 1,
   "metadata": {
    "ExecuteTime": {
     "end_time": "2022-05-06T22:42:10.344833Z",
     "start_time": "2022-05-06T22:42:09.885383Z"
    },
    "id": "WJd12UvKD7Rf"
   },
   "outputs": [],
   "source": [
    "import numpy as np\n",
    "import pandas as pd\n",
    "import matplotlib.pyplot as plt\n",
    "from tqdm.notebook import tqdm\n",
    "import warnings\n",
    "warnings.filterwarnings('ignore')"
   ]
  },
  {
   "cell_type": "code",
   "execution_count": 2,
   "metadata": {
    "ExecuteTime": {
     "end_time": "2022-05-06T22:42:20.547670Z",
     "start_time": "2022-05-06T22:42:14.949676Z"
    },
    "colab": {
     "base_uri": "https://localhost:8080/"
    },
    "id": "2-yOBkOQP0dJ",
    "outputId": "53668c18-846e-4e1b-b383-13d9d7ee6f71"
   },
   "outputs": [
    {
     "name": "stdout",
     "output_type": "stream",
     "text": [
      "--2022-05-07 01:42:14--  https://raw.githubusercontent.com/andrey-source/tehnopark/main/price_of_flats/Test.csv\n",
      "Распознаётся raw.githubusercontent.com (raw.githubusercontent.com)... 185.199.111.133, 185.199.110.133, 185.199.109.133, ...\n",
      "Подключение к raw.githubusercontent.com (raw.githubusercontent.com)|185.199.111.133|:443... соединение установлено.\n",
      "HTTP-запрос отправлен. Ожидание ответа... 200 OK\n",
      "Длина: 6609106 (6,3M) [text/plain]\n",
      "Сохранение в каталог: ««Test.csv»».\n",
      "\n",
      "Test.csv            100%[===================>]   6,30M  6,24MB/s    за 1,0s    \n",
      "\n",
      "2022-05-07 01:42:16 (6,24 MB/s) - «Test.csv» сохранён [6609106/6609106]\n",
      "\n",
      "--2022-05-07 01:42:16--  https://raw.githubusercontent.com/andrey-source/tehnopark/main/price_of_flats/Train.csv\n",
      "Распознаётся raw.githubusercontent.com (raw.githubusercontent.com)... 185.199.111.133, 185.199.110.133, 185.199.109.133, ...\n",
      "Подключение к raw.githubusercontent.com (raw.githubusercontent.com)|185.199.111.133|:443... соединение установлено.\n",
      "HTTP-запрос отправлен. Ожидание ответа... 200 OK\n",
      "Длина: 7323254 (7,0M) [text/plain]\n",
      "Сохранение в каталог: ««Train.csv»».\n",
      "\n",
      "Train.csv           100%[===================>]   6,98M  3,20MB/s    за 2,2s    \n",
      "\n",
      "2022-05-07 01:42:19 (3,20 MB/s) - «Train.csv» сохранён [7323254/7323254]\n",
      "\n",
      "--2022-05-07 01:42:19--  https://raw.githubusercontent.com/andrey-source/tehnopark/main/price_of_flats/SampleSubmission.csv\n",
      "Распознаётся raw.githubusercontent.com (raw.githubusercontent.com)... 185.199.111.133, 185.199.110.133, 185.199.109.133, ...\n",
      "Подключение к raw.githubusercontent.com (raw.githubusercontent.com)|185.199.111.133|:443... соединение установлено.\n",
      "HTTP-запрос отправлен. Ожидание ответа... 200 OK\n",
      "Длина: 1800009 (1,7M) [text/plain]\n",
      "Сохранение в каталог: ««SampleSubmission.csv»».\n",
      "\n",
      "SampleSubmission.cs 100%[===================>]   1,72M  3,75MB/s    за 0,5s    \n",
      "\n",
      "2022-05-07 01:42:20 (3,75 MB/s) - «SampleSubmission.csv» сохранён [1800009/1800009]\n",
      "\n"
     ]
    }
   ],
   "source": [
    "!wget https://raw.githubusercontent.com/andrey-source/tehnopark/main/price_of_flats/Test.csv -O Test.csv\n",
    "!wget https://raw.githubusercontent.com/andrey-source/tehnopark/main/price_of_flats/Train.csv -O Train.csv\n",
    "!wget https://raw.githubusercontent.com/andrey-source/tehnopark/main/price_of_flats/SampleSubmission.csv -O SampleSubmission.csv\n",
    "# !pip install catboost"
   ]
  },
  {
   "cell_type": "code",
   "execution_count": 3,
   "metadata": {
    "ExecuteTime": {
     "end_time": "2022-05-06T22:42:23.031470Z",
     "start_time": "2022-05-06T22:42:22.597015Z"
    },
    "colab": {
     "base_uri": "https://localhost:8080/",
     "height": 205
    },
    "id": "BHH8O-9muOE2",
    "outputId": "3328344c-1213-4a31-d4f6-81437fe3aa04"
   },
   "outputs": [
    {
     "data": {
      "text/html": [
       "<div>\n",
       "<style scoped>\n",
       "    .dataframe tbody tr th:only-of-type {\n",
       "        vertical-align: middle;\n",
       "    }\n",
       "\n",
       "    .dataframe tbody tr th {\n",
       "        vertical-align: top;\n",
       "    }\n",
       "\n",
       "    .dataframe thead th {\n",
       "        text-align: right;\n",
       "    }\n",
       "</style>\n",
       "<table border=\"1\" class=\"dataframe\">\n",
       "  <thead>\n",
       "    <tr style=\"text-align: right;\">\n",
       "      <th></th>\n",
       "      <th>street_id</th>\n",
       "      <th>build_tech</th>\n",
       "      <th>floor</th>\n",
       "      <th>area</th>\n",
       "      <th>rooms</th>\n",
       "      <th>balcon</th>\n",
       "      <th>metro_dist</th>\n",
       "      <th>n_photos</th>\n",
       "      <th>kw1</th>\n",
       "      <th>kw2</th>\n",
       "      <th>...</th>\n",
       "      <th>kw5</th>\n",
       "      <th>kw6</th>\n",
       "      <th>kw7</th>\n",
       "      <th>kw10</th>\n",
       "      <th>kw11</th>\n",
       "      <th>kw12</th>\n",
       "      <th>kw13</th>\n",
       "      <th>price</th>\n",
       "      <th>mohth_from_begin</th>\n",
       "      <th>price_m2</th>\n",
       "    </tr>\n",
       "  </thead>\n",
       "  <tbody>\n",
       "    <tr>\n",
       "      <th>0</th>\n",
       "      <td>30</td>\n",
       "      <td>0.0</td>\n",
       "      <td>10</td>\n",
       "      <td>48</td>\n",
       "      <td>2</td>\n",
       "      <td>0</td>\n",
       "      <td>30.0</td>\n",
       "      <td>4</td>\n",
       "      <td>0</td>\n",
       "      <td>1</td>\n",
       "      <td>...</td>\n",
       "      <td>0</td>\n",
       "      <td>0</td>\n",
       "      <td>0</td>\n",
       "      <td>0</td>\n",
       "      <td>0</td>\n",
       "      <td>0</td>\n",
       "      <td>0</td>\n",
       "      <td>4252000</td>\n",
       "      <td>1</td>\n",
       "      <td>88583.333333</td>\n",
       "    </tr>\n",
       "    <tr>\n",
       "      <th>1</th>\n",
       "      <td>376</td>\n",
       "      <td>1.0</td>\n",
       "      <td>2</td>\n",
       "      <td>53</td>\n",
       "      <td>2</td>\n",
       "      <td>0</td>\n",
       "      <td>30.0</td>\n",
       "      <td>0</td>\n",
       "      <td>0</td>\n",
       "      <td>1</td>\n",
       "      <td>...</td>\n",
       "      <td>0</td>\n",
       "      <td>0</td>\n",
       "      <td>0</td>\n",
       "      <td>0</td>\n",
       "      <td>0</td>\n",
       "      <td>0</td>\n",
       "      <td>0</td>\n",
       "      <td>4463000</td>\n",
       "      <td>1</td>\n",
       "      <td>84207.547170</td>\n",
       "    </tr>\n",
       "    <tr>\n",
       "      <th>2</th>\n",
       "      <td>549</td>\n",
       "      <td>NaN</td>\n",
       "      <td>8</td>\n",
       "      <td>61</td>\n",
       "      <td>3</td>\n",
       "      <td>1</td>\n",
       "      <td>30.0</td>\n",
       "      <td>1</td>\n",
       "      <td>0</td>\n",
       "      <td>0</td>\n",
       "      <td>...</td>\n",
       "      <td>0</td>\n",
       "      <td>0</td>\n",
       "      <td>0</td>\n",
       "      <td>0</td>\n",
       "      <td>0</td>\n",
       "      <td>0</td>\n",
       "      <td>0</td>\n",
       "      <td>4518000</td>\n",
       "      <td>1</td>\n",
       "      <td>74065.573770</td>\n",
       "    </tr>\n",
       "    <tr>\n",
       "      <th>3</th>\n",
       "      <td>321</td>\n",
       "      <td>1.0</td>\n",
       "      <td>10</td>\n",
       "      <td>47</td>\n",
       "      <td>1</td>\n",
       "      <td>1</td>\n",
       "      <td>30.0</td>\n",
       "      <td>6</td>\n",
       "      <td>0</td>\n",
       "      <td>1</td>\n",
       "      <td>...</td>\n",
       "      <td>0</td>\n",
       "      <td>0</td>\n",
       "      <td>0</td>\n",
       "      <td>0</td>\n",
       "      <td>0</td>\n",
       "      <td>0</td>\n",
       "      <td>0</td>\n",
       "      <td>6785000</td>\n",
       "      <td>1</td>\n",
       "      <td>144361.702128</td>\n",
       "    </tr>\n",
       "    <tr>\n",
       "      <th>4</th>\n",
       "      <td>636</td>\n",
       "      <td>NaN</td>\n",
       "      <td>3</td>\n",
       "      <td>58</td>\n",
       "      <td>3</td>\n",
       "      <td>0</td>\n",
       "      <td>25.0</td>\n",
       "      <td>2</td>\n",
       "      <td>0</td>\n",
       "      <td>0</td>\n",
       "      <td>...</td>\n",
       "      <td>0</td>\n",
       "      <td>0</td>\n",
       "      <td>0</td>\n",
       "      <td>0</td>\n",
       "      <td>0</td>\n",
       "      <td>0</td>\n",
       "      <td>0</td>\n",
       "      <td>1677000</td>\n",
       "      <td>1</td>\n",
       "      <td>28913.793103</td>\n",
       "    </tr>\n",
       "  </tbody>\n",
       "</table>\n",
       "<p>5 rows × 22 columns</p>\n",
       "</div>"
      ],
      "text/plain": [
       "   street_id  build_tech  floor  area  rooms  balcon  metro_dist  n_photos  \\\n",
       "0         30         0.0     10    48      2       0        30.0         4   \n",
       "1        376         1.0      2    53      2       0        30.0         0   \n",
       "2        549         NaN      8    61      3       1        30.0         1   \n",
       "3        321         1.0     10    47      1       1        30.0         6   \n",
       "4        636         NaN      3    58      3       0        25.0         2   \n",
       "\n",
       "   kw1  kw2  ...  kw5  kw6  kw7  kw10  kw11  kw12  kw13    price  \\\n",
       "0    0    1  ...    0    0    0     0     0     0     0  4252000   \n",
       "1    0    1  ...    0    0    0     0     0     0     0  4463000   \n",
       "2    0    0  ...    0    0    0     0     0     0     0  4518000   \n",
       "3    0    1  ...    0    0    0     0     0     0     0  6785000   \n",
       "4    0    0  ...    0    0    0     0     0     0     0  1677000   \n",
       "\n",
       "   mohth_from_begin       price_m2  \n",
       "0                 1   88583.333333  \n",
       "1                 1   84207.547170  \n",
       "2                 1   74065.573770  \n",
       "3                 1  144361.702128  \n",
       "4                 1   28913.793103  \n",
       "\n",
       "[5 rows x 22 columns]"
      ]
     },
     "execution_count": 3,
     "metadata": {},
     "output_type": "execute_result"
    }
   ],
   "source": [
    "import catboost\n",
    "df = pd.read_csv('Train.csv')\n",
    "df_test = pd.read_csv('Test.csv')\n",
    "df['year'] = pd.DatetimeIndex(df.date).year - 2011\n",
    "df['mohth_from_begin'] = df.year * 12 + pd.DatetimeIndex(df.date).month\n",
    "df_test['year'] = pd.DatetimeIndex(df_test.date).year - 2011\n",
    "df_test['mohth_from_begin'] = df_test.year * 12 + pd.DatetimeIndex(df_test.date).month\n",
    "\n",
    "del df['date']\n",
    "del df_test['date']\n",
    "del df['year']\n",
    "del df_test['year']\n",
    "df = df.iloc[df.price.values != 1000000, :]\n",
    "df['price_m2'] = df.price / df.area\n",
    "df.reset_index(inplace=True)\n",
    "del df['index']\n",
    "del df['id']\n",
    "del (df['kw8'])\n",
    "del (df['kw9'])\n",
    "del (df['g_lift'])\n",
    "del (df_test['kw8'])\n",
    "del (df_test['kw9'])\n",
    "del (df_test['g_lift'])\n",
    "df.head()"
   ]
  },
  {
   "cell_type": "code",
   "execution_count": 4,
   "metadata": {
    "ExecuteTime": {
     "end_time": "2022-05-06T22:42:35.012972Z",
     "start_time": "2022-05-06T22:42:25.047604Z"
    },
    "colab": {
     "base_uri": "https://localhost:8080/",
     "height": 423
    },
    "id": "Gm6NKubxuOE8",
    "outputId": "b1a75eb7-afc1-4df8-bcbe-1d646ac2829b"
   },
   "outputs": [
    {
     "data": {
      "text/html": [
       "<div>\n",
       "<style scoped>\n",
       "    .dataframe tbody tr th:only-of-type {\n",
       "        vertical-align: middle;\n",
       "    }\n",
       "\n",
       "    .dataframe tbody tr th {\n",
       "        vertical-align: top;\n",
       "    }\n",
       "\n",
       "    .dataframe thead th {\n",
       "        text-align: right;\n",
       "    }\n",
       "</style>\n",
       "<table border=\"1\" class=\"dataframe\">\n",
       "  <thead>\n",
       "    <tr style=\"text-align: right;\">\n",
       "      <th></th>\n",
       "      <th>street_id</th>\n",
       "      <th>build_tech</th>\n",
       "      <th>floor</th>\n",
       "      <th>area</th>\n",
       "      <th>rooms</th>\n",
       "      <th>balcon</th>\n",
       "      <th>metro_dist</th>\n",
       "      <th>n_photos</th>\n",
       "      <th>kw1</th>\n",
       "      <th>kw2</th>\n",
       "      <th>...</th>\n",
       "      <th>kw6</th>\n",
       "      <th>kw7</th>\n",
       "      <th>kw10</th>\n",
       "      <th>kw11</th>\n",
       "      <th>kw12</th>\n",
       "      <th>kw13</th>\n",
       "      <th>price</th>\n",
       "      <th>mohth_from_begin</th>\n",
       "      <th>price_m2</th>\n",
       "      <th>weights</th>\n",
       "    </tr>\n",
       "  </thead>\n",
       "  <tbody>\n",
       "    <tr>\n",
       "      <th>0</th>\n",
       "      <td>30</td>\n",
       "      <td>0.0</td>\n",
       "      <td>10</td>\n",
       "      <td>48</td>\n",
       "      <td>2</td>\n",
       "      <td>0</td>\n",
       "      <td>30.0</td>\n",
       "      <td>4</td>\n",
       "      <td>0</td>\n",
       "      <td>1</td>\n",
       "      <td>...</td>\n",
       "      <td>0</td>\n",
       "      <td>0</td>\n",
       "      <td>0</td>\n",
       "      <td>0</td>\n",
       "      <td>0</td>\n",
       "      <td>0</td>\n",
       "      <td>4252000</td>\n",
       "      <td>1</td>\n",
       "      <td>88583.333333</td>\n",
       "      <td>1.362460</td>\n",
       "    </tr>\n",
       "    <tr>\n",
       "      <th>1</th>\n",
       "      <td>376</td>\n",
       "      <td>1.0</td>\n",
       "      <td>2</td>\n",
       "      <td>53</td>\n",
       "      <td>2</td>\n",
       "      <td>0</td>\n",
       "      <td>30.0</td>\n",
       "      <td>0</td>\n",
       "      <td>0</td>\n",
       "      <td>1</td>\n",
       "      <td>...</td>\n",
       "      <td>0</td>\n",
       "      <td>0</td>\n",
       "      <td>0</td>\n",
       "      <td>0</td>\n",
       "      <td>0</td>\n",
       "      <td>0</td>\n",
       "      <td>4463000</td>\n",
       "      <td>1</td>\n",
       "      <td>84207.547170</td>\n",
       "      <td>1.449644</td>\n",
       "    </tr>\n",
       "    <tr>\n",
       "      <th>2</th>\n",
       "      <td>549</td>\n",
       "      <td>-9999.0</td>\n",
       "      <td>8</td>\n",
       "      <td>61</td>\n",
       "      <td>3</td>\n",
       "      <td>1</td>\n",
       "      <td>30.0</td>\n",
       "      <td>1</td>\n",
       "      <td>0</td>\n",
       "      <td>0</td>\n",
       "      <td>...</td>\n",
       "      <td>0</td>\n",
       "      <td>0</td>\n",
       "      <td>0</td>\n",
       "      <td>0</td>\n",
       "      <td>0</td>\n",
       "      <td>0</td>\n",
       "      <td>4518000</td>\n",
       "      <td>1</td>\n",
       "      <td>74065.573770</td>\n",
       "      <td>1.349432</td>\n",
       "    </tr>\n",
       "    <tr>\n",
       "      <th>3</th>\n",
       "      <td>321</td>\n",
       "      <td>1.0</td>\n",
       "      <td>10</td>\n",
       "      <td>47</td>\n",
       "      <td>1</td>\n",
       "      <td>1</td>\n",
       "      <td>30.0</td>\n",
       "      <td>6</td>\n",
       "      <td>0</td>\n",
       "      <td>1</td>\n",
       "      <td>...</td>\n",
       "      <td>0</td>\n",
       "      <td>0</td>\n",
       "      <td>0</td>\n",
       "      <td>0</td>\n",
       "      <td>0</td>\n",
       "      <td>0</td>\n",
       "      <td>6785000</td>\n",
       "      <td>1</td>\n",
       "      <td>144361.702128</td>\n",
       "      <td>1.522758</td>\n",
       "    </tr>\n",
       "    <tr>\n",
       "      <th>4</th>\n",
       "      <td>636</td>\n",
       "      <td>-9999.0</td>\n",
       "      <td>3</td>\n",
       "      <td>58</td>\n",
       "      <td>3</td>\n",
       "      <td>0</td>\n",
       "      <td>25.0</td>\n",
       "      <td>2</td>\n",
       "      <td>0</td>\n",
       "      <td>0</td>\n",
       "      <td>...</td>\n",
       "      <td>0</td>\n",
       "      <td>0</td>\n",
       "      <td>0</td>\n",
       "      <td>0</td>\n",
       "      <td>0</td>\n",
       "      <td>0</td>\n",
       "      <td>1677000</td>\n",
       "      <td>1</td>\n",
       "      <td>28913.793103</td>\n",
       "      <td>1.400000</td>\n",
       "    </tr>\n",
       "    <tr>\n",
       "      <th>...</th>\n",
       "      <td>...</td>\n",
       "      <td>...</td>\n",
       "      <td>...</td>\n",
       "      <td>...</td>\n",
       "      <td>...</td>\n",
       "      <td>...</td>\n",
       "      <td>...</td>\n",
       "      <td>...</td>\n",
       "      <td>...</td>\n",
       "      <td>...</td>\n",
       "      <td>...</td>\n",
       "      <td>...</td>\n",
       "      <td>...</td>\n",
       "      <td>...</td>\n",
       "      <td>...</td>\n",
       "      <td>...</td>\n",
       "      <td>...</td>\n",
       "      <td>...</td>\n",
       "      <td>...</td>\n",
       "      <td>...</td>\n",
       "      <td>...</td>\n",
       "    </tr>\n",
       "    <tr>\n",
       "      <th>95988</th>\n",
       "      <td>327</td>\n",
       "      <td>0.0</td>\n",
       "      <td>9</td>\n",
       "      <td>37</td>\n",
       "      <td>1</td>\n",
       "      <td>0</td>\n",
       "      <td>25.0</td>\n",
       "      <td>1</td>\n",
       "      <td>0</td>\n",
       "      <td>1</td>\n",
       "      <td>...</td>\n",
       "      <td>0</td>\n",
       "      <td>0</td>\n",
       "      <td>0</td>\n",
       "      <td>0</td>\n",
       "      <td>0</td>\n",
       "      <td>0</td>\n",
       "      <td>3198000</td>\n",
       "      <td>15</td>\n",
       "      <td>86432.432432</td>\n",
       "      <td>2.855123</td>\n",
       "    </tr>\n",
       "    <tr>\n",
       "      <th>95989</th>\n",
       "      <td>249</td>\n",
       "      <td>0.0</td>\n",
       "      <td>2</td>\n",
       "      <td>33</td>\n",
       "      <td>1</td>\n",
       "      <td>0</td>\n",
       "      <td>20.0</td>\n",
       "      <td>1</td>\n",
       "      <td>0</td>\n",
       "      <td>1</td>\n",
       "      <td>...</td>\n",
       "      <td>0</td>\n",
       "      <td>0</td>\n",
       "      <td>0</td>\n",
       "      <td>0</td>\n",
       "      <td>0</td>\n",
       "      <td>0</td>\n",
       "      <td>2366000</td>\n",
       "      <td>15</td>\n",
       "      <td>71696.969697</td>\n",
       "      <td>2.903002</td>\n",
       "    </tr>\n",
       "    <tr>\n",
       "      <th>95990</th>\n",
       "      <td>537</td>\n",
       "      <td>-9999.0</td>\n",
       "      <td>3</td>\n",
       "      <td>61</td>\n",
       "      <td>3</td>\n",
       "      <td>0</td>\n",
       "      <td>30.0</td>\n",
       "      <td>6</td>\n",
       "      <td>1</td>\n",
       "      <td>1</td>\n",
       "      <td>...</td>\n",
       "      <td>0</td>\n",
       "      <td>0</td>\n",
       "      <td>0</td>\n",
       "      <td>0</td>\n",
       "      <td>0</td>\n",
       "      <td>0</td>\n",
       "      <td>3816000</td>\n",
       "      <td>15</td>\n",
       "      <td>62557.377049</td>\n",
       "      <td>2.743557</td>\n",
       "    </tr>\n",
       "    <tr>\n",
       "      <th>95991</th>\n",
       "      <td>425</td>\n",
       "      <td>1.0</td>\n",
       "      <td>4</td>\n",
       "      <td>35</td>\n",
       "      <td>1</td>\n",
       "      <td>1</td>\n",
       "      <td>10.0</td>\n",
       "      <td>2</td>\n",
       "      <td>0</td>\n",
       "      <td>1</td>\n",
       "      <td>...</td>\n",
       "      <td>0</td>\n",
       "      <td>0</td>\n",
       "      <td>0</td>\n",
       "      <td>0</td>\n",
       "      <td>0</td>\n",
       "      <td>0</td>\n",
       "      <td>3410000</td>\n",
       "      <td>15</td>\n",
       "      <td>97428.571429</td>\n",
       "      <td>2.823095</td>\n",
       "    </tr>\n",
       "    <tr>\n",
       "      <th>95992</th>\n",
       "      <td>544</td>\n",
       "      <td>-9999.0</td>\n",
       "      <td>2</td>\n",
       "      <td>49</td>\n",
       "      <td>2</td>\n",
       "      <td>0</td>\n",
       "      <td>5.0</td>\n",
       "      <td>0</td>\n",
       "      <td>0</td>\n",
       "      <td>0</td>\n",
       "      <td>...</td>\n",
       "      <td>0</td>\n",
       "      <td>0</td>\n",
       "      <td>0</td>\n",
       "      <td>0</td>\n",
       "      <td>0</td>\n",
       "      <td>0</td>\n",
       "      <td>2563000</td>\n",
       "      <td>15</td>\n",
       "      <td>52306.122449</td>\n",
       "      <td>2.771469</td>\n",
       "    </tr>\n",
       "  </tbody>\n",
       "</table>\n",
       "<p>95993 rows × 23 columns</p>\n",
       "</div>"
      ],
      "text/plain": [
       "       street_id  build_tech  floor  area  rooms  balcon  metro_dist  \\\n",
       "0             30         0.0     10    48      2       0        30.0   \n",
       "1            376         1.0      2    53      2       0        30.0   \n",
       "2            549     -9999.0      8    61      3       1        30.0   \n",
       "3            321         1.0     10    47      1       1        30.0   \n",
       "4            636     -9999.0      3    58      3       0        25.0   \n",
       "...          ...         ...    ...   ...    ...     ...         ...   \n",
       "95988        327         0.0      9    37      1       0        25.0   \n",
       "95989        249         0.0      2    33      1       0        20.0   \n",
       "95990        537     -9999.0      3    61      3       0        30.0   \n",
       "95991        425         1.0      4    35      1       1        10.0   \n",
       "95992        544     -9999.0      2    49      2       0         5.0   \n",
       "\n",
       "       n_photos  kw1  kw2  ...  kw6  kw7  kw10  kw11  kw12  kw13    price  \\\n",
       "0             4    0    1  ...    0    0     0     0     0     0  4252000   \n",
       "1             0    0    1  ...    0    0     0     0     0     0  4463000   \n",
       "2             1    0    0  ...    0    0     0     0     0     0  4518000   \n",
       "3             6    0    1  ...    0    0     0     0     0     0  6785000   \n",
       "4             2    0    0  ...    0    0     0     0     0     0  1677000   \n",
       "...         ...  ...  ...  ...  ...  ...   ...   ...   ...   ...      ...   \n",
       "95988         1    0    1  ...    0    0     0     0     0     0  3198000   \n",
       "95989         1    0    1  ...    0    0     0     0     0     0  2366000   \n",
       "95990         6    1    1  ...    0    0     0     0     0     0  3816000   \n",
       "95991         2    0    1  ...    0    0     0     0     0     0  3410000   \n",
       "95992         0    0    0  ...    0    0     0     0     0     0  2563000   \n",
       "\n",
       "       mohth_from_begin       price_m2   weights  \n",
       "0                     1   88583.333333  1.362460  \n",
       "1                     1   84207.547170  1.449644  \n",
       "2                     1   74065.573770  1.349432  \n",
       "3                     1  144361.702128  1.522758  \n",
       "4                     1   28913.793103  1.400000  \n",
       "...                 ...            ...       ...  \n",
       "95988                15   86432.432432  2.855123  \n",
       "95989                15   71696.969697  2.903002  \n",
       "95990                15   62557.377049  2.743557  \n",
       "95991                15   97428.571429  2.823095  \n",
       "95992                15   52306.122449  2.771469  \n",
       "\n",
       "[95993 rows x 23 columns]"
      ]
     },
     "execution_count": 4,
     "metadata": {},
     "output_type": "execute_result"
    }
   ],
   "source": [
    "df['weights_unique'] = 0  # у квартир с одинаковой ценой вес меньше\n",
    "counts = df.price.value_counts().values\n",
    "values = df.price.value_counts().index.values\n",
    "for i in range(values.shape[0]):\n",
    "    df.weights_unique[df.price.values == values[i]] = 1 / np.cbrt(counts[i])  # веса наблюдений\n",
    "\n",
    "\n",
    "df['weights_miss'] = 1  # у квартир с пропусками вес меньше\n",
    "df.fillna(value=-9999, inplace=True)\n",
    "df.weights_miss[df.metro_dist.values == -9999] = df.weights_miss[df.metro_dist.values == -9999] * 0.7 # предсказывается средне\n",
    "df.weights_miss[df.build_tech.values == -9999] = df.weights_miss[df.build_tech.values == -9999] * 0.8  # предсказывается хорошо\n",
    "\n",
    "\n",
    "df['month_weights'] = np.cbrt(df.mohth_from_begin.values)  # более поздние наблюдения имеют больший вес\n",
    "\n",
    "\n",
    "df['weights'] = df.weights_unique * df.weights_miss + df.month_weights\n",
    "del df['weights_miss']\n",
    "del df['month_weights']\n",
    "del df['weights_unique']\n",
    "df_test.fillna(value=-9999, inplace=True)\n",
    "df"
   ]
  },
  {
   "cell_type": "markdown",
   "metadata": {
    "id": "J5ScsO2PuOE9"
   },
   "source": [
    "Заполняю build_tech"
   ]
  },
  {
   "cell_type": "code",
   "execution_count": 5,
   "metadata": {
    "ExecuteTime": {
     "end_time": "2022-05-06T22:43:07.668548Z",
     "start_time": "2022-05-06T22:42:35.090736Z"
    },
    "id": "9ERf5s66uOE-"
   },
   "outputs": [],
   "source": [
    "from catboost import CatBoostClassifier \n",
    "from catboost import Pool\n",
    "\n",
    "mask = df.build_tech.values != -9999\n",
    "features = ['street_id', 'floor', 'area', 'rooms', 'balcon', 'n_photos',\n",
    "            'kw1', 'kw2', 'kw3', 'kw4', 'kw5', 'kw6', 'kw7', 'kw10', 'kw11', 'kw12', 'kw13']\n",
    "cat_features = ['street_id']\n",
    "train_pool = Pool(data=df[features][mask], label=df.build_tech[mask].values, cat_features=cat_features, weight = df.weights[mask].values)\n",
    "build_model = CatBoostClassifier(random_state=42)\n",
    "build_model.fit(train_pool, verbose = False)\n",
    "pred_train = build_model.predict(train_pool)\n"
   ]
  },
  {
   "cell_type": "code",
   "execution_count": 6,
   "metadata": {
    "ExecuteTime": {
     "end_time": "2022-05-06T22:43:07.901023Z",
     "start_time": "2022-05-06T22:43:07.753402Z"
    },
    "id": "-F7Ww4_tuOE_"
   },
   "outputs": [],
   "source": [
    "df.build_tech[df.build_tech.values == -9999] = build_model.predict(df[df.build_tech.values == -9999][features].values).reshape(-1)\n",
    "df_test.build_tech[df_test.build_tech == -9999] = build_model.predict(df_test[df_test.build_tech.values == -9999][features].values).reshape(-1)"
   ]
  },
  {
   "cell_type": "markdown",
   "metadata": {
    "id": "CKwDt65khCgB"
   },
   "source": [
    "Заполняю metro_dist"
   ]
  },
  {
   "cell_type": "code",
   "execution_count": null,
   "metadata": {
    "ExecuteTime": {
     "start_time": "2022-05-06T22:42:28.410Z"
    },
    "colab": {
     "base_uri": "https://localhost:8080/"
    },
    "id": "htd_q5jjuOE_",
    "outputId": "35305035-d196-4fc4-d5d9-7b229946f3d3"
   },
   "outputs": [],
   "source": [
    "from catboost import CatBoostRegressor\n",
    "\n",
    "mask = df.metro_dist.values != -9999\n",
    "features = ['build_tech', 'street_id', 'floor', 'area', 'rooms', 'balcon', 'n_photos',\n",
    "            'kw1', 'kw2', 'kw3', 'kw4', 'kw5', 'kw6', 'kw7', 'kw10', 'kw11', 'kw12', 'kw13']\n",
    "cat_features = ['street_id']\n",
    "\n",
    "train_pool = Pool(data=df[features][mask], label=df.metro_dist[mask], cat_features=cat_features, weight = df.weights[mask].values)\n",
    "metro_model = CatBoostRegressor(loss_function = 'MAE', eval_metric='MAE', \n",
    "                random_state=42, n_estimators=3000)\n",
    "metro_model.fit(train_pool, verbose = False)"
   ]
  },
  {
   "cell_type": "code",
   "execution_count": null,
   "metadata": {
    "ExecuteTime": {
     "start_time": "2022-05-06T22:42:28.928Z"
    },
    "id": "Idaf37SBuOFA"
   },
   "outputs": [],
   "source": [
    "df.metro_dist[df.metro_dist.values == -9999] = metro_model.predict(df[df.metro_dist.values == -9999][features])\n",
    "df_test.metro_dist[df_test.metro_dist == -9999] = metro_model.predict(df_test[df_test.metro_dist.values == -9999][features])"
   ]
  },
  {
   "cell_type": "code",
   "execution_count": null,
   "metadata": {
    "ExecuteTime": {
     "start_time": "2022-05-06T22:42:30.231Z"
    },
    "id": "cPaoSHX0uOFA"
   },
   "outputs": [],
   "source": [
    "df.metro_dist = round(df.metro_dist / 5) * 5\n",
    "df_test.metro_dist = round(df_test.metro_dist / 5) * 5"
   ]
  },
  {
   "cell_type": "markdown",
   "metadata": {
    "id": "JUslE_8ruOFA"
   },
   "source": [
    "Анализирую стоймость квартир в каждом месяце"
   ]
  },
  {
   "cell_type": "code",
   "execution_count": null,
   "metadata": {
    "ExecuteTime": {
     "start_time": "2022-05-06T22:42:31.095Z"
    },
    "colab": {
     "base_uri": "https://localhost:8080/",
     "height": 1000
    },
    "id": "5Ymwi7FkuOFA",
    "outputId": "8dff8abc-a577-4f16-d0a5-0b34f734534f"
   },
   "outputs": [],
   "source": [
    "from sklearn.preprocessing import PowerTransformer\n",
    "spisok = []\n",
    "y = df.mohth_from_begin.values\n",
    "df['normal_price_month'] = 0.0\n",
    "for i in np.unique(y):\n",
    "    PW = PowerTransformer(method='box-cox')\n",
    "    PW.fit(df.price[y == i].values.reshape(-1, 1))\n",
    "    df.normal_price_month[y == i] = PW.transform(df.price[y == i].values.reshape(-1, 1)).reshape(-1)\n",
    "    spisok.append(PW)\n",
    "    \n",
    "fig, ax = plt.subplots(6, 3, figsize=(25,120))\n",
    "n, k, i = 0, 0, 0\n",
    "for i, month in enumerate(np.unique(y)):\n",
    "    ax[i // 3, i % 3].hist(df.normal_price_month[y == month].values, bins = 30)\n",
    "    ax[i // 3, i % 3].set_title('month from begin =' + str(month))"
   ]
  },
  {
   "cell_type": "markdown",
   "metadata": {
    "id": "Nz7Hp9EFuOFB"
   },
   "source": [
    "Стоймость квартир в зависимости от улицы"
   ]
  },
  {
   "cell_type": "code",
   "execution_count": null,
   "metadata": {
    "ExecuteTime": {
     "start_time": "2022-05-06T22:42:32.219Z"
    },
    "id": "ZfX1xu4UuOFB"
   },
   "outputs": [],
   "source": [
    "street_spisok = []\n",
    "y = df.street_id.values\n",
    "df['normal_price_street'] = 0.0\n",
    "for i in np.unique(y):\n",
    "    PW = PowerTransformer(method='box-cox')\n",
    "    PW.fit(df.price[y == i].values.reshape(-1, 1))\n",
    "    df.normal_price_street[y == i] = PW.transform(df.price[y == i].values.reshape(-1, 1)).reshape(-1)\n",
    "    street_spisok.append(PW)"
   ]
  },
  {
   "cell_type": "code",
   "execution_count": null,
   "metadata": {
    "ExecuteTime": {
     "start_time": "2022-05-06T22:42:33.650Z"
    },
    "id": "crTD0m-85opb"
   },
   "outputs": [],
   "source": [
    "df['weight_price'] = df.price * df.weights"
   ]
  },
  {
   "cell_type": "code",
   "execution_count": null,
   "metadata": {
    "ExecuteTime": {
     "start_time": "2022-05-06T22:42:34.065Z"
    },
    "colab": {
     "base_uri": "https://localhost:8080/",
     "height": 276
    },
    "id": "S-AMT0iSuOFB",
    "outputId": "38effc2d-4b37-4ff2-9421-ef16d281e41d"
   },
   "outputs": [],
   "source": [
    "mean_price = df[['price', 'mohth_from_begin']].groupby(['mohth_from_begin']).mean()  # просто средня цена\n",
    "\n",
    "\n",
    "df['weight_price'] = df.price * df.weights  # вклад в стоймость, нет пропусков и уникальное значение стоймости - большой вклад\n",
    "mask1 = (df['normal_price_month'].values < 2) * (df['normal_price_month'].values > -2) # выбираю только квартиры с ценами в пределах -2 2 стандартных отклонений по месяцам\n",
    "mask2 = (df['normal_price_street'].values < 3) * (df['normal_price_street'].values > -3) # выбираю только квартиры с ценами в пределах -3 3 стандартных отклонений по улицам \n",
    "mask = mask1 * mask2\n",
    "robast_mean_price = df[['weight_price', 'mohth_from_begin']][mask].groupby(['mohth_from_begin']).sum() / df[['weights', 'mohth_from_begin']][mask].groupby(['mohth_from_begin']).sum().values\n",
    "plt.scatter(mean_price.index, mean_price.values, label = \"mean\")\n",
    "plt.scatter(robast_mean_price.index, robast_mean_price.values, label = \"robast mean\")\n",
    "plt.grid()\n",
    "plt.legend()\n",
    "plt.show()"
   ]
  },
  {
   "cell_type": "code",
   "execution_count": null,
   "metadata": {
    "ExecuteTime": {
     "start_time": "2022-05-06T22:42:35.065Z"
    },
    "colab": {
     "base_uri": "https://localhost:8080/",
     "height": 276
    },
    "id": "s_ykranTuOFB",
    "outputId": "bacbefe3-2b08-4f57-f51c-c2e92740f8e7"
   },
   "outputs": [],
   "source": [
    "from sklearn.svm import SVR\n",
    "from sklearn.linear_model import LinearRegression\n",
    "\n",
    "train = robast_mean_price\n",
    "linear_model = SVR(kernel = 'poly', degree= 1, C = 1e5).fit(X = train.index.values.reshape(-1, 1), y = train.values)\n",
    "pred = linear_model.predict(X = np.arange(0, 40).reshape(-1, 1))\n",
    "\n",
    "plt.plot(np.arange(0, 40).reshape(-1, 1), pred, label = \"Pred\")\n",
    "plt.scatter(robast_mean_price.index, robast_mean_price.values, label = \"robast mean\")\n",
    "plt.grid()\n",
    "plt.legend()\n",
    "plt.show()"
   ]
  },
  {
   "cell_type": "markdown",
   "metadata": {
    "id": "EwwvyXwgVQgo"
   },
   "source": [
    "Вычисляю коэффицент стоймости от месяца по модели"
   ]
  },
  {
   "cell_type": "code",
   "execution_count": null,
   "metadata": {
    "ExecuteTime": {
     "start_time": "2022-05-06T22:42:36.557Z"
    },
    "id": "TS7-C1mluOFB"
   },
   "outputs": [],
   "source": [
    "time_24 = linear_model.predict([[24]]) \n",
    "df['pred_mean'] = linear_model.predict(df.mohth_from_begin.values.reshape(-1, 1))  # прогноз средней цены\n",
    "df['model_time_coef'] = df.pred_mean / time_24  # коэффициент стоймости от времени\n",
    "df['model_price_without_time'] = df.price / df.model_time_coef  # цена с поправкой на время\n",
    "df_test['model_pred_mean'] = linear_model.predict(df_test.mohth_from_begin.values.reshape(-1, 1))  # прогноз средней цены для теста\n",
    "df_test['model_time_coef'] = df_test.model_pred_mean / time_24  # опорным беру последний месяц"
   ]
  },
  {
   "cell_type": "markdown",
   "metadata": {
    "id": "PfKVikG4uOFC"
   },
   "source": [
    "Стоймость квадратного метра в зависимости от даты и улицы"
   ]
  },
  {
   "cell_type": "code",
   "execution_count": null,
   "metadata": {
    "ExecuteTime": {
     "start_time": "2022-05-06T22:42:38.141Z"
    },
    "colab": {
     "base_uri": "https://localhost:8080/",
     "height": 1000
    },
    "id": "UNfVkG9suOFC",
    "outputId": "387eca4f-9294-49e6-9665-f0b0b8222c10"
   },
   "outputs": [],
   "source": [
    "spisok = []\n",
    "y = df.mohth_from_begin.values\n",
    "df['normal_price_month_m2'] = 0.0\n",
    "for i in np.unique(y):\n",
    "    PW = PowerTransformer(method='box-cox')\n",
    "    PW.fit(df.price_m2[y == i].values.reshape(-1, 1))\n",
    "    df.normal_price_month_m2[y == i] = PW.transform(df.price_m2[y == i].values.reshape(-1, 1)).reshape(-1)\n",
    "    spisok.append(PW)\n",
    "    \n",
    "fig, ax = plt.subplots(6, 3, figsize=(25,120))\n",
    "n, k, i = 0, 0, 0\n",
    "for i, month in enumerate(np.unique(y)):\n",
    "    ax[i // 3, i % 3].hist(df.normal_price_month_m2[y == month].values, bins = 30)\n",
    "    ax[i // 3, i % 3].set_title('month from begin =' + str(month))"
   ]
  },
  {
   "cell_type": "code",
   "execution_count": null,
   "metadata": {
    "ExecuteTime": {
     "start_time": "2022-05-06T22:42:38.851Z"
    },
    "id": "CmGqtyF4uOFC"
   },
   "outputs": [],
   "source": [
    "street_spisok = []\n",
    "y = df.street_id.values\n",
    "df['normal_price_street_m2'] = 0.0\n",
    "for i in np.unique(y):\n",
    "    PW = PowerTransformer(method='box-cox')\n",
    "    PW.fit(df.price_m2[y == i].values.reshape(-1, 1))\n",
    "    df.normal_price_street_m2[y == i] = PW.transform(df.price_m2[y == i].values.reshape(-1, 1)).reshape(-1)\n",
    "    street_spisok.append(PW)\n"
   ]
  },
  {
   "cell_type": "markdown",
   "metadata": {
    "id": "iyP645L2uOFC"
   },
   "source": [
    "Считаю среднюю и робастную среднюю оценки средней цены за квадратный метр. Удивительно, но цена почему-то растет линейно. Хотя в старых данных экспонециально!!!!"
   ]
  },
  {
   "cell_type": "code",
   "execution_count": null,
   "metadata": {
    "ExecuteTime": {
     "start_time": "2022-05-06T22:42:46.165Z"
    },
    "colab": {
     "base_uri": "https://localhost:8080/",
     "height": 264
    },
    "id": "Dh3JbPH7_fSn",
    "outputId": "e8747d86-98ee-4652-b775-c751e3f60b8e"
   },
   "outputs": [],
   "source": [
    "mean_price_m2 = df[['price_m2', 'mohth_from_begin']].groupby(['mohth_from_begin']).mean()  # просто средняя цена\n",
    "df['weight_price_m2'] = df.price_m2 * df.weights  # вклад в стоймость, нет пропусков и уникальное значение стоймости - большой вклад\n",
    "mask1 = (df['normal_price_month'].values < 2) * (df['normal_price_month'].values > -2) # выбираю только квартиры с ценами в пределах -1 1 стандартных отклонений по месяцам\n",
    "mask2 = (df['normal_price_street'].values < 3) * (df['normal_price_street'].values > -3) # выбираю только квартиры с ценами в пределах -2 2 стандартных отклонений по улицам (здесь 2 тк их выборка для каждого меньше)\n",
    "mask = mask1 * mask2\n",
    "robast_mean_price_m2 = df[['weight_price_m2', 'mohth_from_begin']][mask].groupby(['mohth_from_begin']).sum() / df[['weights', 'mohth_from_begin']][mask].groupby(['mohth_from_begin']).sum().values\n",
    "plt.scatter(mean_price_m2.index, mean_price_m2.values, label = \"mean\")\n",
    "plt.scatter(robast_mean_price_m2.index, robast_mean_price_m2.values, label = \"robast mean\")\n",
    "plt.grid()\n",
    "plt.legend()\n",
    "plt.show()"
   ]
  },
  {
   "cell_type": "code",
   "execution_count": null,
   "metadata": {
    "ExecuteTime": {
     "start_time": "2022-05-06T22:42:47.670Z"
    },
    "colab": {
     "base_uri": "https://localhost:8080/",
     "height": 266
    },
    "id": "i06GZGkcuOFD",
    "outputId": "f583ca7f-dd7c-414a-b3eb-af8c1b1a9886"
   },
   "outputs": [],
   "source": [
    "train = robast_mean_price_m2\n",
    "linear_model = SVR(kernel = 'poly', degree = 1,  C = 10000).fit(X = train.index.values.reshape(-1, 1), y = train.values)\n",
    "\n",
    "pred = linear_model.predict(X = np.arange(0, 40).reshape(-1, 1))\n",
    "\n",
    "plt.plot(np.arange(0, 40).reshape(-1, 1), pred, label = \"Pred\")\n",
    "plt.scatter(robast_mean_price_m2.index, robast_mean_price_m2.values, label = \"robast mean\")\n",
    "plt.grid()\n",
    "plt.legend()\n",
    "plt.show()"
   ]
  },
  {
   "cell_type": "code",
   "execution_count": null,
   "metadata": {
    "ExecuteTime": {
     "start_time": "2022-05-06T22:42:48.233Z"
    },
    "id": "RSqVjTXNuOFD"
   },
   "outputs": [],
   "source": [
    "time_24 = linear_model.predict([[24]])\n",
    "df['model_pred_mean_m2'] = linear_model.predict(df.mohth_from_begin.values.reshape(-1, 1))\n",
    "df_test['model_pred_mean_m2'] = linear_model.predict(df_test.mohth_from_begin.values.reshape(-1, 1))\n",
    "df['model_coef_price_m2'] = df['price_m2'] / df['model_pred_mean_m2'] # во сколько квартира лучше средней\n",
    "df['model_time_coef_m2'] = df.model_pred_mean_m2 / time_24\n",
    "df['model_price_m2_without_time'] = df.price_m2 / df.model_time_coef_m2\n"
   ]
  },
  {
   "cell_type": "markdown",
   "metadata": {
    "id": "3cd32VDYuOFD"
   },
   "source": [
    "Выполняю кластеризацию. По площади и стоймости квадратного метра с поправкой на время"
   ]
  },
  {
   "cell_type": "code",
   "execution_count": null,
   "metadata": {
    "ExecuteTime": {
     "start_time": "2022-05-06T22:42:49.791Z"
    },
    "colab": {
     "base_uri": "https://localhost:8080/",
     "height": 592
    },
    "id": "1ebEA9kyuOFD",
    "outputId": "ea9d462c-fe03-4896-a607-8ee2bc980117"
   },
   "outputs": [],
   "source": [
    "from sklearn.mixture import BayesianGaussianMixture\n",
    "from sklearn.mixture import GaussianMixture\n",
    "from sklearn.model_selection import train_test_split\n",
    "from sklearn.preprocessing import StandardScaler\n",
    "from sklearn.pipeline import Pipeline\n",
    "import matplotlib.colors as colors\n",
    "colors_list = list(colors._colors_full_map.values())  # список цветов\n",
    "\n",
    "\n",
    "train = df.sample(frac = 0.7, replace = True, random_state = 42, weights=df.weights)\n",
    "\n",
    "claster = ['model_price_m2_without_time', 'area']\n",
    "classtering = Pipeline([\n",
    "    ('SS', StandardScaler()),\n",
    "    ('GaussianMixture', GaussianMixture(n_components = 30, random_state = 42, n_init = 10)) \n",
    "])\n",
    "\n",
    "labels = classtering.fit_predict(train[claster])\n",
    "\n",
    "\n",
    "plt.figure(figsize=(15, 10))\n",
    "plt.grid()\n",
    "for i in np.unique(labels):\n",
    "    plt.scatter(train.area[i == labels].values, train.model_price_m2_without_time[i==labels].values, cmap=colors_list[i], alpha=0.1)\n",
    "plt.show()"
   ]
  },
  {
   "cell_type": "code",
   "execution_count": null,
   "metadata": {
    "ExecuteTime": {
     "start_time": "2022-05-06T22:42:50.591Z"
    },
    "id": "aybCgO1IuOFD"
   },
   "outputs": [],
   "source": [
    "df['labels'] = classtering.predict(df[claster])"
   ]
  },
  {
   "cell_type": "markdown",
   "metadata": {
    "id": "xQYSrjImuOFE"
   },
   "source": [
    "Предсказываю метку кластера по известным признакам"
   ]
  },
  {
   "cell_type": "code",
   "execution_count": null,
   "metadata": {
    "ExecuteTime": {
     "start_time": "2022-05-06T22:42:52.090Z"
    },
    "colab": {
     "base_uri": "https://localhost:8080/"
    },
    "id": "c6Rr6dEBuOFE",
    "outputId": "f3bfef7a-c569-45d6-c287-ce7454624d0b"
   },
   "outputs": [],
   "source": [
    "train, valid = train_test_split(df, train_size=0.5)\n",
    "features = ['street_id', 'build_tech', 'floor', 'area', 'rooms', 'balcon', 'metro_dist','n_photos', \n",
    "           'kw1', 'kw2', 'kw3', 'kw4', 'kw5', 'kw6', 'kw7', 'kw10', 'kw11', 'kw12', 'kw13']\n",
    "cat_features = ['street_id']\n",
    "\n",
    "target = ['labels']\n",
    "\n",
    "train_pool = Pool(train[features], label=train[target], weight = train.weights.values)\n",
    "valid_pool  =Pool(valid[features], label=valid[target])\n",
    "\n",
    "model = CatBoostClassifier(n_estimators=2000, random_state=42,\n",
    "                           auto_class_weights='SqrtBalanced'\n",
    "                    \n",
    ")\n",
    "model.fit(train_pool, eval_set=valid_pool, verbose = False)"
   ]
  },
  {
   "cell_type": "code",
   "execution_count": null,
   "metadata": {
    "ExecuteTime": {
     "start_time": "2022-05-06T22:42:52.740Z"
    },
    "id": "0nCvwPVUuOFE"
   },
   "outputs": [],
   "source": [
    "pred_train = model.predict(train_pool)\n",
    "pred_valid = model.predict(valid_pool)"
   ]
  },
  {
   "cell_type": "code",
   "execution_count": null,
   "metadata": {
    "ExecuteTime": {
     "start_time": "2022-05-06T22:42:53.556Z"
    },
    "id": "dYNcOqqSuOFE"
   },
   "outputs": [],
   "source": [
    "train['pred_labels'] = pred_train\n",
    "valid['pred_labels'] = pred_valid"
   ]
  },
  {
   "cell_type": "code",
   "execution_count": null,
   "metadata": {
    "ExecuteTime": {
     "start_time": "2022-05-06T22:42:53.897Z"
    },
    "colab": {
     "base_uri": "https://localhost:8080/"
    },
    "id": "NzoSsp2ruOFE",
    "outputId": "454fa558-97f6-49c5-c58b-c6d871d3d9e0"
   },
   "outputs": [],
   "source": [
    "from sklearn.metrics import classification_report\n",
    "print(\"train: \\n\", classification_report(pred_train, train.labels.values))\n",
    "print(\"valid: \\n\", classification_report(pred_valid, valid.labels.values))"
   ]
  },
  {
   "cell_type": "markdown",
   "metadata": {
    "id": "r113PLYUuOFE"
   },
   "source": [
    "Так выглядят истинные метки"
   ]
  },
  {
   "cell_type": "code",
   "execution_count": null,
   "metadata": {
    "ExecuteTime": {
     "start_time": "2022-05-06T22:42:56.415Z"
    },
    "colab": {
     "base_uri": "https://localhost:8080/",
     "height": 592
    },
    "id": "4XcI7VnjuOFE",
    "outputId": "40fb2121-6b84-4634-9793-5e3bbffe1d9d"
   },
   "outputs": [],
   "source": [
    "plt.figure(figsize=(15, 10))\n",
    "plt.grid()\n",
    "for i in np.unique(train.pred_labels.unique()):\n",
    "    plt.scatter(valid.area[i == valid.labels].values, valid.model_price_m2_without_time[i==valid.labels].values,\n",
    "                cmap=colors_list[i], alpha=0.2, label ='cluster: ' + str(i))\n",
    "plt.legend()\n",
    "plt.show()"
   ]
  },
  {
   "cell_type": "markdown",
   "metadata": {
    "id": "1fpeWWowuOFE"
   },
   "source": [
    "А так прогнозные"
   ]
  },
  {
   "cell_type": "code",
   "execution_count": null,
   "metadata": {
    "ExecuteTime": {
     "start_time": "2022-05-06T22:42:58.040Z"
    },
    "colab": {
     "base_uri": "https://localhost:8080/",
     "height": 592
    },
    "id": "N_P_vrbUuOFF",
    "outputId": "cfe064c3-c188-470c-cd81-c17cf303571d"
   },
   "outputs": [],
   "source": [
    "plt.figure(figsize=(15, 10))\n",
    "plt.grid()\n",
    "for i in np.unique(valid.pred_labels.unique()):\n",
    "    plt.scatter(valid.area[i == valid.pred_labels].values, valid.model_price_m2_without_time[i==valid.pred_labels].values,\n",
    "                cmap=colors_list[i], alpha=0.2, label ='claster: ' + str(i))\n",
    "plt.legend()\n",
    "plt.show()"
   ]
  },
  {
   "cell_type": "markdown",
   "metadata": {},
   "source": [
    "Финальная модель"
   ]
  },
  {
   "cell_type": "code",
   "execution_count": null,
   "metadata": {
    "ExecuteTime": {
     "start_time": "2022-05-06T22:42:59.381Z"
    },
    "id": "s_qYgnahuOFF"
   },
   "outputs": [],
   "source": [
    "df['labels'] = model.predict(df[features])\n",
    "df_test['labels'] = model.predict(df_test[features])"
   ]
  },
  {
   "cell_type": "code",
   "execution_count": null,
   "metadata": {
    "ExecuteTime": {
     "start_time": "2022-05-06T22:42:59.985Z"
    },
    "id": "xpqymgmxrDbY"
   },
   "outputs": [],
   "source": [
    "labels = ['labels'] \n",
    "initial_features = ['street_id', 'build_tech', 'floor', 'area', 'rooms', 'balcon', 'metro_dist', 'kw1', 'kw2']\n",
    "cat_features_ = ['street_id']\n",
    "\n",
    "target = ['model_price_without_time']\n",
    "\n",
    "cat_features = cat_features_  #+ labels\n",
    "\n",
    "features = initial_features  #+ labels\n",
    "\n",
    "\n",
    "train_pool = Pool(data = df[features], label = df[target], cat_features=cat_features)"
   ]
  },
  {
   "cell_type": "code",
   "execution_count": null,
   "metadata": {
    "ExecuteTime": {
     "start_time": "2022-05-06T22:43:00.438Z"
    },
    "colab": {
     "base_uri": "https://localhost:8080/"
    },
    "id": "jUWMKlVxuOFF",
    "outputId": "70e9f9ad-ed23-4e96-96a1-71e474dbb4cd"
   },
   "outputs": [],
   "source": [
    "model = CatBoostRegressor(random_state=42, n_estimators = 15000, loss_function='MAE', eval_metric = 'MAE',\n",
    "                          bagging_temperature =  0.43, depth=6, l2_leaf_reg = 299, learning_rate = 0.056,\n",
    "                        #  task_type = 'GPU'\n",
    "#                           rsm = 0.6\n",
    "                         ) \n",
    "model.fit(train_pool, verbose = False)                      \n",
    "                \n",
    "# pred_train = model.predict(df_train[features])\n",
    "# pred_valid = model.predict(df_valid[features])\n",
    "# pred_test = model.predict(df_test[features])"
   ]
  },
  {
   "cell_type": "code",
   "execution_count": null,
   "metadata": {
    "ExecuteTime": {
     "start_time": "2022-05-06T22:43:01.282Z"
    },
    "id": "vkvRTkkguOFF"
   },
   "outputs": [],
   "source": [
    "dict(zip(model.feature_names_, model.feature_importances_))"
   ]
  },
  {
   "cell_type": "code",
   "execution_count": null,
   "metadata": {
    "ExecuteTime": {
     "start_time": "2022-05-06T22:43:02.975Z"
    },
    "id": "L-yQmfAquOFG"
   },
   "outputs": [],
   "source": [
    "df_test['result_price'] = model.predict(df_test[features])  * df_test.model_time_coef"
   ]
  },
  {
   "cell_type": "markdown",
   "metadata": {},
   "source": [
    "без меток получилось лучше на 6к, возможно переобучился"
   ]
  },
  {
   "cell_type": "code",
   "execution_count": null,
   "metadata": {
    "ExecuteTime": {
     "start_time": "2022-05-06T22:43:06.514Z"
    },
    "id": "7u2A1h2huOFG"
   },
   "outputs": [],
   "source": [
    "sub = pd.read_csv('SampleSubmission.csv')\n",
    "sub.price = df_test.result_price\n",
    "sub.to_csv(\"submit_no_labels1.csv\", index = False)"
   ]
  },
  {
   "cell_type": "code",
   "execution_count": null,
   "metadata": {},
   "outputs": [],
   "source": []
  }
 ],
 "metadata": {
  "colab": {
   "collapsed_sections": [],
   "name": "hw5 (1).ipynb",
   "provenance": []
  },
  "kernelspec": {
   "display_name": "Python 3 (ipykernel)",
   "language": "python",
   "name": "python3"
  },
  "language_info": {
   "codemirror_mode": {
    "name": "ipython",
    "version": 3
   },
   "file_extension": ".py",
   "mimetype": "text/x-python",
   "name": "python",
   "nbconvert_exporter": "python",
   "pygments_lexer": "ipython3",
   "version": "3.8.10"
  },
  "latex_envs": {
   "LaTeX_envs_menu_present": true,
   "autoclose": false,
   "autocomplete": true,
   "bibliofile": "biblio.bib",
   "cite_by": "apalike",
   "current_citInitial": 1,
   "eqLabelWithNumbers": true,
   "eqNumInitial": 1,
   "hotkeys": {
    "equation": "Ctrl-E",
    "itemize": "Ctrl-I"
   },
   "labels_anchors": false,
   "latex_user_defs": false,
   "report_style_numbering": false,
   "user_envs_cfg": false
  },
  "nbTranslate": {
   "displayLangs": [
    "*"
   ],
   "hotkey": "alt-t",
   "langInMainMenu": true,
   "sourceLang": "en",
   "targetLang": "fr",
   "useGoogleTranslate": true
  },
  "toc": {
   "base_numbering": 1,
   "nav_menu": {},
   "number_sections": true,
   "sideBar": true,
   "skip_h1_title": false,
   "title_cell": "Table of Contents",
   "title_sidebar": "Contents",
   "toc_cell": false,
   "toc_position": {},
   "toc_section_display": true,
   "toc_window_display": false
  },
  "varInspector": {
   "cols": {
    "lenName": 16,
    "lenType": 16,
    "lenVar": 40
   },
   "kernels_config": {
    "python": {
     "delete_cmd_postfix": "",
     "delete_cmd_prefix": "del ",
     "library": "var_list.py",
     "varRefreshCmd": "print(var_dic_list())"
    },
    "r": {
     "delete_cmd_postfix": ") ",
     "delete_cmd_prefix": "rm(",
     "library": "var_list.r",
     "varRefreshCmd": "cat(var_dic_list()) "
    }
   },
   "types_to_exclude": [
    "module",
    "function",
    "builtin_function_or_method",
    "instance",
    "_Feature"
   ],
   "window_display": false
  }
 },
 "nbformat": 4,
 "nbformat_minor": 1
}
