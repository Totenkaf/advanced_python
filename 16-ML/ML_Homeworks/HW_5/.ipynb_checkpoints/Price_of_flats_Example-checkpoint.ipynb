{
 "cells": [
  {
   "cell_type": "code",
   "execution_count": null,
   "metadata": {
    "id": "WJd12UvKD7Rf"
   },
   "source": [
    "import numpy as np\n",
    "import pandas as pd\n",
    "import matplotlib.pyplot as plt\n",
    "from sklearn.model_selection import train_test_split\n",
    "from sklearn.metrics import mean_absolute_error, accuracy_score, recall_score\n",
    "from sklearn.pipeline import Pipeline\n",
    "\n",
    "from sklearn.decomposition import  PCA\n",
    "from sklearn.model_selection import RandomizedSearchCV, cross_val_score\n",
    "from sklearn.preprocessing import PowerTransformer, StandardScaler\n",
    "\n",
    "\n",
    "from sklearn.compose import ColumnTransformer\n",
    "\n",
    "import matplotlib.colors as colors\n",
    "colors_list = list(colors._colors_full_map.values())  # список цветов\n",
    "from tqdm import tqdm_notebook"
   ],
   "outputs": []
  },
  {
   "cell_type": "code",
   "execution_count": null,
   "metadata": {
    "id": "2-yOBkOQP0dJ"
   },
   "source": [
    "# !pip install catboost\n",
    "import catboost"
   ],
   "outputs": []
  },
  {
   "cell_type": "markdown",
   "metadata": {
    "id": "cFPOPIc-Bb23"
   },
   "source": [
    "# Подготовка данных"
   ]
  },
  {
   "cell_type": "code",
   "execution_count": null,
   "metadata": {
    "colab": {
     "base_uri": "https://localhost:8080/",
     "height": 204
    },
    "id": "HY43AtA6ENrM",
    "outputId": "e2a4af9f-ea48-4c86-cc22-29f9894d4cbc"
   },
   "source": [
    "df = pd.read_csv('Train.csv')\n",
    "df.drop('id', axis=1, inplace=True)  # удалил неинформативный столбец\n",
    "# df.drop(df.columns[12:23], axis=1, inplace=True)  # остальные очень разреженные\n",
    "df.head()"
   ],
   "outputs": []
  },
  {
   "cell_type": "code",
   "execution_count": null,
   "metadata": {
    "colab": {
     "base_uri": "https://localhost:8080/",
     "height": 204
    },
    "id": "bpRBXnEwZ6zE",
    "outputId": "ff546c6d-2e1c-4ca5-976d-4baa61586ea3"
   },
   "source": [
    "df.metro_dist.fillna(df.metro_dist.median(), inplace=True) # заполнил пропуски медианой\n",
    "# отформатировал дату\n",
    "df.date = pd.to_datetime(df.date)\n",
    "start = min(df.date)\n",
    "df.date = df.date - start\n",
    "df.date = df.date.convert_dtypes(float) / 24 / 60 / 60 / 10 ** 9  + 100 # дни (+100 нужно для корректного расчета весов для бустинга)\n",
    "df.head()"
   ],
   "outputs": []
  },
  {
   "cell_type": "markdown",
   "metadata": {
    "id": "V1aeyScoCs1g"
   },
   "source": [
    "## Удаляю пасхалку"
   ]
  },
  {
   "cell_type": "code",
   "execution_count": null,
   "metadata": {
    "colab": {
     "base_uri": "https://localhost:8080/",
     "height": 620
    },
    "id": "lE1Ofgjwn4Nr",
    "outputId": "90a3312e-1d87-4020-fab3-f10381d49d1c"
   },
   "source": [
    "df.hist(figsize=(15, 10))\n",
    "plt.show()"
   ],
   "outputs": []
  },
  {
   "cell_type": "code",
   "execution_count": null,
   "metadata": {
    "colab": {
     "base_uri": "https://localhost:8080/",
     "height": 602
    },
    "id": "0FVJXv9Q91v3",
    "outputId": "d6fa9ea7-8764-43d7-ca30-ceabbd220ba4"
   },
   "source": [
    "plt.figure(figsize=(20, 10))\n",
    "plt.grid()\n",
    "plt.scatter(df.area.values, df.price.values,alpha=0.1 )\n",
    "plt.show()"
   ],
   "outputs": []
  },
  {
   "cell_type": "code",
   "execution_count": null,
   "metadata": {
    "id": "Lecdtr0-91v3"
   },
   "source": [
    "unique = np.unique(df.price.values, return_counts=True)\n",
    "arg = np.argsort(unique[1])\n",
    "# пасхалка с 1кк\n",
    "# np.sort(unique[1])"
   ],
   "outputs": []
  },
  {
   "cell_type": "code",
   "execution_count": null,
   "metadata": {
    "id": "VjCKEEaV91v4"
   },
   "source": [
    "k = np.sort(unique[1])[::-1]"
   ],
   "outputs": []
  },
  {
   "cell_type": "code",
   "execution_count": null,
   "metadata": {
    "colab": {
     "base_uri": "https://localhost:8080/"
    },
    "id": "QowJ3rqy91v4",
    "outputId": "bad21833-4ea8-407e-fd1b-05939cac2834"
   },
   "source": [
    "df = df.iloc[df.price.values != 1000000, :]\n",
    "df.shape"
   ],
   "outputs": []
  },
  {
   "cell_type": "markdown",
   "metadata": {
    "id": "mg-EjqQ4CjDK"
   },
   "source": [
    "## Удаляю выброс"
   ]
  },
  {
   "cell_type": "code",
   "execution_count": null,
   "metadata": {
    "colab": {
     "base_uri": "https://localhost:8080/",
     "height": 592
    },
    "id": "e6me1LgE91v5",
    "outputId": "5f34eb21-7b38-492b-aae4-9df32b837d43"
   },
   "source": [
    "from sklearn.preprocessing import PowerTransformer\n",
    "PT = PowerTransformer(method='box-cox', standardize=True)\n",
    "PT.fit(df.price.values.reshape(-1, 1))\n",
    "test = PT.transform(df.price.values.reshape(-1, 1))\n",
    "plt.figure(figsize=(15, 10))\n",
    "plt.hist(test, bins=400)\n",
    "plt.grid()\n",
    "plt.show()"
   ],
   "outputs": []
  },
  {
   "cell_type": "code",
   "execution_count": null,
   "metadata": {
    "id": "n0sdH02I91v5"
   },
   "source": [
    "# Разбираю выброс\n",
    "k = np.histogram(test, bins=400)\n",
    "arg = np.argmax(k[:][0])  # номер столбика - выброса\n",
    "p = k[:][0] / np.sum(k[:][0])"
   ],
   "outputs": []
  },
  {
   "cell_type": "code",
   "execution_count": null,
   "metadata": {
    "id": "sHFvKBRl91v5"
   },
   "source": [
    "# вероятности  оставлять/не оставлять элемент в выборке (прореживаю)\n",
    "p = [(k[0][arg + 1] + k[0][arg - 1]) / 2 / k[0][arg], 1 - (k[0][arg + 1] + k[0][arg - 1]) / 2 / k[0][arg]]  "
   ],
   "outputs": []
  },
  {
   "cell_type": "code",
   "execution_count": null,
   "metadata": {
    "id": "xgFFLI_X91v6"
   },
   "source": [
    "np.random.seed(seed=42)\n",
    "mask1 = np.random.choice([False, True], size = k[0][arg], p = p)  # маска элементов в выбросе\n",
    "mask2 = ((test < k[1][arg + 1]) * (test > k[1][arg])).reshape(-1)  # общая масска участков"
   ],
   "outputs": []
  },
  {
   "cell_type": "code",
   "execution_count": null,
   "metadata": {
    "colab": {
     "base_uri": "https://localhost:8080/",
     "height": 602
    },
    "id": "L3nQytVQ91v6",
    "outputId": "37ea4994-2d54-4fd8-aaae-a5a7805e62e2"
   },
   "source": [
    "# похоже дом построили)))\n",
    "plt.figure(figsize=(15, 10))\n",
    "plt.scatter(df.area[mask2].values, df.price[mask2].values, alpha = 0.3)\n",
    "plt.grid()\n",
    "plt.show()"
   ],
   "outputs": []
  },
  {
   "cell_type": "code",
   "execution_count": null,
   "metadata": {
    "colab": {
     "base_uri": "https://localhost:8080/",
     "height": 602
    },
    "id": "E12oBkLg91v6",
    "outputId": "c7f7bc9b-7749-49c3-84ec-a4c820b115ba"
   },
   "source": [
    "plt.figure(figsize=(15, 10))\n",
    "plt.scatter(df.area[mask2].values[mask1], df.price[mask2].values[mask1], alpha = 0.3)\n",
    "plt.grid()\n",
    "plt.show()"
   ],
   "outputs": []
  },
  {
   "cell_type": "code",
   "execution_count": null,
   "metadata": {
    "colab": {
     "base_uri": "https://localhost:8080/"
    },
    "id": "dX97OkeW91v6",
    "outputId": "17d34574-bce6-4881-908a-4a4618199e44"
   },
   "source": [
    "index = df.price.iloc[mask2][mask1].index\n",
    "df.drop(index, inplace = True)\n",
    "df.shape"
   ],
   "outputs": []
  },
  {
   "cell_type": "code",
   "execution_count": null,
   "metadata": {
    "colab": {
     "base_uri": "https://localhost:8080/",
     "height": 592
    },
    "id": "eTwhxX2T91v7",
    "outputId": "20ce02a9-8dd7-4b42-a7f3-5099c5e7bf3a"
   },
   "source": [
    "# вроде красивее \n",
    "PT = PowerTransformer(method='box-cox', standardize=True)\n",
    "PT.fit(df.price.values.reshape(-1, 1))\n",
    "test = PT.transform(df.price.values.reshape(-1, 1))\n",
    "plt.figure(figsize=(15, 10))\n",
    "plt.hist(test, bins=400)\n",
    "plt.grid()\n",
    "plt.show()"
   ],
   "outputs": []
  },
  {
   "cell_type": "markdown",
   "metadata": {
    "id": "IsfUM96TMwK3"
   },
   "source": [
    "## Заполняю build_tech (т.к довольно сильный признак)"
   ]
  },
  {
   "cell_type": "code",
   "execution_count": null,
   "metadata": {
    "colab": {
     "base_uri": "https://localhost:8080/"
    },
    "id": "ZPiAwJd3Mx27",
    "outputId": "2bb8211a-13e6-4838-9614-528b0acac0c4"
   },
   "source": [
    "print('0 - Медиана:', np.median(df[df.build_tech.values == 0].price))\n",
    "print('0 - Среднее:', np.mean(df[df.build_tech.values == 0].price))\n",
    "print('1 - Медиана:', np.median(df[df.build_tech.values == 1].price))\n",
    "print('1 - Среднее:', np.mean(df[df.build_tech.values == 1].price))\n",
    "print('2 - Медиана:', np.median(df[df.build_tech.values == 2].price))\n",
    "print('2 - Среднее:', np.mean(df[df.build_tech.values == 2].price))\n",
    "df.info()"
   ],
   "outputs": []
  },
  {
   "cell_type": "code",
   "execution_count": null,
   "metadata": {
    "id": "2thSneWcPwU7"
   },
   "source": [
    "df_build = df.iloc[df.build_tech.notna().values, :]\n",
    "y = 'build_tech'\n",
    "x = {'street_id', 'date', 'floor', 'area', 'rooms', 'balcon', 'metro_dist', 'n_photos', 'kw1', 'kw2'}\n",
    "x_cat = {'street_id', 'kw1', 'kw2'}"
   ],
   "outputs": []
  },
  {
   "cell_type": "code",
   "execution_count": null,
   "metadata": {
    "id": "W47cv6V4Re7Z"
   },
   "source": [
    "df_train_x, df_valid_x, build_y_train, build_y_valid = train_test_split(df_build[x], df_build[y].values)\n",
    "weights_train_build = df_train_x.date.values / np.sum(df_train_x.date.values)  # приоритет у более поздних квартир\n"
   ],
   "outputs": []
  },
  {
   "cell_type": "code",
   "execution_count": null,
   "metadata": {
    "id": "-g141RT1VFP5"
   },
   "source": [
    "Pool_build = catboost.Pool(df_train_x, label = build_y_train, cat_features=x_cat, weight=weights_train_build)  # для обучения классификатора\n",
    "Pool_test = catboost.Pool(df_valid_x, cat_features=x_cat)  # для теста качества предсказания"
   ],
   "outputs": []
  },
  {
   "cell_type": "code",
   "execution_count": null,
   "metadata": {
    "id": "4TYWB2PBUfI9"
   },
   "source": [
    "Cls = catboost.CatBoostClassifier(random_seed=42)\n",
    "Cls.fit(Pool_build, verbose=False)\n",
    "build_train = pred_train_build = Cls.predict(Pool_build)\n",
    "build_test = pred_test_build = Cls.predict(Pool_test)"
   ],
   "outputs": []
  },
  {
   "cell_type": "code",
   "execution_count": null,
   "metadata": {
    "colab": {
     "base_uri": "https://localhost:8080/"
    },
    "id": "w4snkUsRWed7",
    "outputId": "fe2f4fc1-c8cb-4f35-cdf6-cbf2bd7e48e6"
   },
   "source": [
    "print(accuracy_score(build_train, build_y_train))  # 0.952\n",
    "print(accuracy_score(build_test, build_y_valid))  # 0.949\n",
    "print(recall_score(build_train, build_y_train, average='weighted'))  # 0.955\n",
    "print(recall_score(build_test, build_y_valid, average='weighted'))  # 0.949"
   ],
   "outputs": []
  },
  {
   "cell_type": "code",
   "execution_count": null,
   "metadata": {
    "id": "FvpeI_TgwAl_"
   },
   "source": [
    "weights_full_build = df_build.date.values / np.sum(df_build.date.values) # приоритет у более поздних квартир\n",
    "df_build_isna = df.iloc[df.build_tech.isna().values, :]\n",
    "\n",
    "# данные для заполнения нанов\n",
    "Pool_pred = catboost.Pool(df_build_isna, cat_features=x_cat)  \n",
    "Pool_build_all = catboost.Pool(df_build[x], label = df_build[y], weight=weights_full_build, cat_features=x_cat)  # для обучения конечной модели"
   ],
   "outputs": []
  },
  {
   "cell_type": "code",
   "execution_count": null,
   "metadata": {
    "colab": {
     "base_uri": "https://localhost:8080/"
    },
    "id": "J6A1Kn0yXH0-",
    "outputId": "21dbf879-c5a2-4e2e-8eaa-20357d35115b"
   },
   "source": [
    "Cls = catboost.CatBoostClassifier()\n",
    "Cls.fit(Pool_build_all, verbose = False)\n",
    "test = Cls.predict(Pool_build_all)\n",
    "print(recall_score(test, df_build[y], average='weighted'))  # 0.955\n",
    "print(accuracy_score(test, df_build[y]))  # 0.955"
   ],
   "outputs": []
  },
  {
   "cell_type": "code",
   "execution_count": null,
   "metadata": {
    "colab": {
     "base_uri": "https://localhost:8080/"
    },
    "id": "uC_Kz4QJulLI",
    "outputId": "1df3e88f-27e0-406d-c0d1-3018be3f2810"
   },
   "source": [
    "pred_build = Cls.predict(Pool_pred)\n",
    "df.iloc[df.build_tech.isna().values, 2]= pred_build\n",
    "df.info()"
   ],
   "outputs": []
  },
  {
   "cell_type": "code",
   "execution_count": null,
   "metadata": {
    "colab": {
     "base_uri": "https://localhost:8080/",
     "height": 272
    },
    "id": "SQqeYwQZ2PqX",
    "outputId": "2f099e3f-93ea-4308-ffb1-b657e328a6f4"
   },
   "source": [
    "print('0 - Медиана:', np.median(df[df.g_lift.values == 0].price))\n",
    "print('0 - Среднее:', np.mean(df[df.g_lift.values == 0].price))\n",
    "print('1 - Медиана:', np.median(df[df.g_lift.values == 1].price))\n",
    "print('1 - Среднее:', np.mean(df[df.g_lift.values == 1].price))\n",
    "df.drop('g_lift', axis=1, inplace=True)  # Похоже вообще никак не связан с ценой, просто удаляю\n",
    "df.head()"
   ],
   "outputs": []
  },
  {
   "cell_type": "code",
   "execution_count": null,
   "metadata": {
    "id": "SP8Rkq-i49iH"
   },
   "source": [
    "# # Полезный признак\n",
    "# for i in np.unique(df.floor.values):\n",
    "#     print(i, '- Медиана:', np.median(df[df.floor.values == i].price))\n",
    "#     print(i, '- Среднее:', np.mean(df[df.floor.values == i].price))"
   ],
   "outputs": []
  },
  {
   "cell_type": "markdown",
   "metadata": {
    "id": "pf36-r3hTlCZ"
   },
   "source": [
    "## Кластеризация"
   ]
  },
  {
   "cell_type": "code",
   "execution_count": null,
   "metadata": {
    "id": "tPgMQQZkTlCZ"
   },
   "source": [
    "from sklearn.metrics import adjusted_rand_score\n",
    "from sklearn.mixture import BayesianGaussianMixture\n",
    "from sklearn.cluster import KMeans\n",
    "from sklearn.manifold import TSNE"
   ],
   "outputs": []
  },
  {
   "cell_type": "code",
   "execution_count": null,
   "metadata": {
    "id": "PJzpn2mOTlCa"
   },
   "source": [
    "claster = {'build_tech', 'area', 'metro_dist', 'rooms', 'floor'}\n",
    "classtering = Pipeline([\n",
    "    ('SS', StandardScaler()),\n",
    "    # ('Kmeans', KMeans(n_clusters=7))\n",
    "    ('BayesianGaussianMixture', BayesianGaussianMixture(n_components = 7, random_state = 42)) \n",
    "])"
   ],
   "outputs": []
  },
  {
   "cell_type": "code",
   "execution_count": null,
   "metadata": {
    "colab": {
     "base_uri": "https://localhost:8080/"
    },
    "id": "6pwKR-iOTlCa",
    "outputId": "e8a35745-7326-4402-e2d1-4631d52c8c6f"
   },
   "source": [
    "labels = classtering.fit_predict(df[claster])\n",
    "df.insert(11, value=labels, column='Class')  # добавил в дф столбец с метками кластера\n",
    "np.unique(labels, return_counts = True)"
   ],
   "outputs": []
  },
  {
   "cell_type": "markdown",
   "metadata": {
    "id": "80pUD3LXy8oM"
   },
   "source": [
    "## Визуализация кластеризации (очень долго считается, но красиво, похоже на кулич)"
   ]
  },
  {
   "cell_type": "code",
   "execution_count": null,
   "metadata": {
    "id": "O1n0miqcsqFZ"
   },
   "source": [
    "SS = StandardScaler()\n",
    "for_tsne = SS.fit_transform(df[claster])\n",
    "tsne = TSNE(n_components=2)\n",
    "for_tsne = tsne.fit_transform(for_tsne)"
   ],
   "outputs": []
  },
  {
   "cell_type": "code",
   "execution_count": null,
   "metadata": {
    "colab": {
     "base_uri": "https://localhost:8080/",
     "height": 592
    },
    "id": "0v4cBX-WssiA",
    "outputId": "9e9e1b59-51cb-410f-c086-8acbd655a0b3"
   },
   "source": [
    "plt.figure(figsize=(15, 10))\n",
    "for i in np.unique(labels):\n",
    "    plt.scatter(for_tsne[i == labels, 0], for_tsne[i==labels, 1], cmap=colors_list[i], alpha=0.02)\n",
    "plt.show()"
   ],
   "outputs": []
  },
  {
   "cell_type": "markdown",
   "metadata": {
    "id": "wAFrW-k1DLxS"
   },
   "source": [
    "## Финальная подготовка данных для обучения и теста"
   ]
  },
  {
   "cell_type": "code",
   "execution_count": null,
   "metadata": {
    "colab": {
     "base_uri": "https://localhost:8080/"
    },
    "id": "bZ9RqExeDiRI",
    "outputId": "0590c688-b17d-4e75-b55e-a4a1c2d857f3"
   },
   "source": [
    "df.info()"
   ],
   "outputs": []
  },
  {
   "cell_type": "code",
   "execution_count": null,
   "metadata": {
    "colab": {
     "base_uri": "https://localhost:8080/",
     "height": 204
    },
    "id": "pl50azVRDk58",
    "outputId": "2d782e74-0846-410e-ed92-f72699ae863f"
   },
   "source": [
    "cat_index = {'street_id', 'kw1', 'kw2', 'Class'}\n",
    "df_train, df_valid, y_train, y_valid = train_test_split(df.iloc[:, :12], df.price, random_state = 42, shuffle = False)\n",
    "df_valid.head()"
   ],
   "outputs": []
  },
  {
   "cell_type": "code",
   "execution_count": null,
   "metadata": {
    "id": "4PFmBDr-Doy5"
   },
   "source": [
    "weights = df_train.date.values / np.sum(df_train.date.values) # веса для наблюдений, тк предсказываем в будущее они возрастают со временем\n",
    "D_train = catboost.Pool(df_train, y_train, cat_features=cat_index, weight=weights)\n",
    "D_valid = catboost.Pool(df_valid, y_valid, cat_features=cat_index)\n",
    "\n",
    "full_weights = df.date.values / np.sum(df.date.values)\n",
    "X_train = catboost.Pool(df.iloc[:, :12], df.price, cat_features=cat_index, weight=full_weights)"
   ],
   "outputs": []
  },
  {
   "cell_type": "markdown",
   "metadata": {
    "id": "s1Gy8mFSWxZm"
   },
   "source": [
    "# Catboost"
   ]
  },
  {
   "cell_type": "markdown",
   "metadata": {
    "id": "D-kicDOa2A04"
   },
   "source": [
    "## Обучение и валидация на разбитой выборке"
   ]
  },
  {
   "cell_type": "code",
   "execution_count": null,
   "metadata": {
    "colab": {
     "base_uri": "https://localhost:8080/",
     "height": 117,
     "referenced_widgets": [
      "4f4f8633b65a467095d83e31e6dba30d",
      "088ec946c5e44e0f9a4c1f606143a1a6",
      "c7e7f320f72a4186a4857313baed3326",
      "19fcdae0d4544d90a3cb517d1186bc5c",
      "de2069a7809b4fb2932854f716725637",
      "eacee39ea7094d9e83b744b9d1954ff0",
      "8baf53c665134ff8a34ca3fecc86af46",
      "e527968bd55942dd83bcdc99dbc9fd31"
     ]
    },
    "id": "LdEPyyqNQHk3",
    "outputId": "7d6b316f-8c4e-495c-d19f-13b7ae5af04c"
   },
   "source": [
    "models = []\n",
    "n_models = 5\n",
    "for i in tqdm_notebook(range(n_models)):\n",
    "    model = catboost.CatBoostRegressor(loss_function='MAE',\n",
    "                                       learning_rate = 0.15,\n",
    "                                       max_depth = 6,\n",
    "                                       n_estimators = 1200,\n",
    "                                       l2_leaf_reg = 50,\n",
    "                                       random_state = i,\n",
    "                                    #    bootstrap_type= 'Bernoulli', subsample=0.6,\n",
    "                                       bootstrap_type= 'Bayesian',  bagging_temperature = 0.5,\n",
    "                                       rsm = 0.7\n",
    "                                       )\n",
    "    model.fit(D_train,  verbose = False)\n",
    "    models.append(model)"
   ],
   "outputs": []
  },
  {
   "cell_type": "code",
   "execution_count": null,
   "metadata": {
    "id": "uCOv7wNj3Q3N"
   },
   "source": [
    "model_avg = catboost.sum_models(models=models, weights=[1.0 / len(models)] * len(models))"
   ],
   "outputs": []
  },
  {
   "cell_type": "code",
   "execution_count": null,
   "metadata": {
    "id": "SXwJaYnx_HSp"
   },
   "source": [
    "pred_train = model_avg.predict(D_train)\n",
    "pred_test = model_avg.predict(D_valid)"
   ],
   "outputs": []
  },
  {
   "cell_type": "code",
   "execution_count": null,
   "metadata": {
    "colab": {
     "base_uri": "https://localhost:8080/"
    },
    "id": "Ar-CJFWOyVaP",
    "outputId": "d182d0ca-36aa-4c22-e242-5f6e7b1f548f"
   },
   "source": [
    "print(mean_absolute_error(pred_train, y_train))  #  364 - 13\n",
    "print(mean_absolute_error(pred_test, y_valid))  #   458"
   ],
   "outputs": []
  },
  {
   "cell_type": "markdown",
   "metadata": {
    "id": "Vec2634pdjX-"
   },
   "source": [
    "## Обучение на всей выборке"
   ]
  },
  {
   "cell_type": "code",
   "execution_count": null,
   "metadata": {
    "colab": {
     "base_uri": "https://localhost:8080/",
     "height": 117,
     "referenced_widgets": [
      "e8bbb35479f044728ba4d39068c0619a",
      "164065c71c9e46718a754bb6d1286657",
      "926b4eeb26594002b611ef4e1323b029",
      "7a5a79f464ec4080b352c768da5e2dd9",
      "e4d3bfe431a2433d9c4ab5c7f4855b2a",
      "6f5f6ec96c7a47aaa0717661c3151e48",
      "bada5a93e0614d3e8dcd1090f54ba421",
      "c252c4c5ea85490689ebc1d91e033956"
     ]
    },
    "id": "VCPDw-Hudc1R",
    "outputId": "fb24b50d-49d3-40f6-db88-237656bcc38f"
   },
   "source": [
    "models_full = []\n",
    "for i in tqdm_notebook(range(n_models)):\n",
    "    model = catboost.CatBoostRegressor(loss_function='MAE',\n",
    "                                       learning_rate = 0.15,\n",
    "                                       max_depth = 6,\n",
    "                                       n_estimators = 1200,\n",
    "                                       l2_leaf_reg = 50,\n",
    "                                       random_state = i,\n",
    "                                    #    bootstrap_type= 'Bernoulli', subsample=0.6,\n",
    "                                       bootstrap_type= 'Bayesian',  bagging_temperature = 0.5,\n",
    "                                       rsm = 0.7\n",
    "                                       )\n",
    "    model.fit(X_train,  verbose = False)\n",
    "    models_full.append(model)"
   ],
   "outputs": []
  },
  {
   "cell_type": "code",
   "execution_count": null,
   "metadata": {
    "id": "qCJ2yydGii_L"
   },
   "source": [
    "model_avg_full = catboost.sum_models(models=models_full, weights=[1.0 / len(models_full)] * len(models_full))"
   ],
   "outputs": []
  },
  {
   "cell_type": "markdown",
   "metadata": {
    "id": "ObZeVXK_CSOX"
   },
   "source": [
    "# Предсказание"
   ]
  },
  {
   "cell_type": "code",
   "execution_count": null,
   "metadata": {
    "colab": {
     "base_uri": "https://localhost:8080/",
     "height": 204
    },
    "id": "CX6dpj2qATOS",
    "outputId": "3e5e8730-2755-4166-f636-51f19db14e0c"
   },
   "source": [
    "df_pred = pd.read_csv('Test.csv')\n",
    "df_pred.drop('id', axis=1, inplace=True)  # удалил неинформативный столбец\n",
    "df_pred.metro_dist.fillna(df_pred.metro_dist.median(), inplace=True) # заполнил пропуски медианой\n",
    "df_pred.drop(df_pred.columns[12:23], axis=1, inplace=True)  # остальные очень разреженные\n",
    "df_pred.drop('g_lift', axis=1, inplace=True)  # Похоже вообще никак не связан с ценой, просто удаляю\n",
    "df_pred.head()"
   ],
   "outputs": []
  },
  {
   "cell_type": "code",
   "execution_count": null,
   "metadata": {
    "colab": {
     "base_uri": "https://localhost:8080/",
     "height": 204
    },
    "id": "8jIIpt_JIqtd",
    "outputId": "c1bb922c-5f76-4444-dca7-382ce8678b6c"
   },
   "source": [
    "# отформатировал дату\n",
    "df_pred.date = pd.to_datetime(df_pred.date)\n",
    "df_pred.date = df_pred.date - start\n",
    "df_pred.date = df_pred.date.convert_dtypes(float) / 24 / 60 / 60 / 10 ** 9  + 100# дни\n",
    "df_pred.head()"
   ],
   "outputs": []
  },
  {
   "cell_type": "code",
   "execution_count": null,
   "metadata": {
    "colab": {
     "base_uri": "https://localhost:8080/",
     "height": 828
    },
    "id": "4DCA_ugaYlk9",
    "outputId": "64b32ac8-baad-4a66-cfc3-ac3d5e6d3d19"
   },
   "source": [
    "df_pred.hist(figsize=(15, 10))"
   ],
   "outputs": []
  },
  {
   "cell_type": "markdown",
   "metadata": {
    "id": "kSXLNeomOqo3"
   },
   "source": [
    "## Заполняю build_tech по актуальным данным, аналогично как для тренировочной выборки (без приоритета по дате)"
   ]
  },
  {
   "cell_type": "code",
   "execution_count": null,
   "metadata": {
    "id": "lmzsq5SROz_9"
   },
   "source": [
    "df_build = df_pred.iloc[df_pred.build_tech.notna().values, :]\n",
    "y = 'build_tech'\n",
    "x = {'street_id', 'date', 'floor', 'area', 'rooms', 'balcon', 'metro_dist', 'n_photos', 'kw1', 'kw2'}\n",
    "x_cat = {'street_id', 'kw1', 'kw2'}\n",
    "df_train_x, df_valid_x, build_y_train, build_y_valid = train_test_split(df_build[x], df_build[y].values)\n",
    "Pool_build = catboost.Pool(df_train_x, label = build_y_train, cat_features=x_cat)  # для обучения классификатора\n",
    "Pool_test = catboost.Pool(df_valid_x, cat_features=x_cat)  # для теста качества предсказания"
   ],
   "outputs": []
  },
  {
   "cell_type": "code",
   "execution_count": null,
   "metadata": {
    "id": "03NAPwfCO1pY"
   },
   "source": [
    "Cls = catboost.CatBoostClassifier()\n",
    "Cls.fit(Pool_build, verbose=False)\n",
    "build_train = pred_train_build = Cls.predict(Pool_build)\n",
    "build_test = pred_test_build = Cls.predict(Pool_test)"
   ],
   "outputs": []
  },
  {
   "cell_type": "code",
   "execution_count": null,
   "metadata": {
    "colab": {
     "base_uri": "https://localhost:8080/"
    },
    "id": "LQ9kfFxeQqoh",
    "outputId": "ce9afb70-3006-4cb4-d402-6ecf4a98b9de"
   },
   "source": [
    "print(accuracy_score(build_train, build_y_train))  # 0.955\n",
    "print(accuracy_score(build_test, build_y_valid))  # 0.942\n",
    "print(recall_score(build_train, build_y_train, average='weighted'))  # 0.955\n",
    "print(recall_score(build_test, build_y_valid, average='weighted'))  # 0.942"
   ],
   "outputs": []
  },
  {
   "cell_type": "code",
   "execution_count": null,
   "metadata": {
    "id": "Z33ujb0JRD4q"
   },
   "source": [
    "df_build_isna = df_pred.iloc[df_pred.build_tech.isna().values, :]\n",
    "\n",
    "# данные для заполнения нанов\n",
    "Pool_pred = catboost.Pool(df_build_isna, cat_features=x_cat)  \n",
    "Pool_build_all = catboost.Pool(df_build[x], label = df_build[y], cat_features=x_cat)  "
   ],
   "outputs": []
  },
  {
   "cell_type": "code",
   "execution_count": null,
   "metadata": {
    "colab": {
     "base_uri": "https://localhost:8080/"
    },
    "id": "hDQAf98MRISi",
    "outputId": "1bbae251-8f5f-4153-a72a-a3ae64ba3501"
   },
   "source": [
    "Cls = catboost.CatBoostClassifier()\n",
    "Cls.fit(Pool_build_all, verbose = False)\n",
    "test = Cls.predict(Pool_build_all)\n",
    "print(recall_score(test, df_build[y], average='weighted'))  \n",
    "print(accuracy_score(test, df_build[y]))  "
   ],
   "outputs": []
  },
  {
   "cell_type": "code",
   "execution_count": null,
   "metadata": {
    "colab": {
     "base_uri": "https://localhost:8080/"
    },
    "id": "4zGdLVY-QTUl",
    "outputId": "d7585f0c-c947-489f-98e4-e41d8061da74"
   },
   "source": [
    "pred_build = Cls.predict(Pool_pred)\n",
    "df_pred.iloc[df_pred.build_tech.isna().values, 2]= pred_build\n",
    "df_pred.info()"
   ],
   "outputs": []
  },
  {
   "cell_type": "code",
   "execution_count": null,
   "metadata": {
    "colab": {
     "base_uri": "https://localhost:8080/"
    },
    "id": "cOJ97o7V4GXN",
    "outputId": "f69398d0-b128-4562-cccb-bebd4a9c206c"
   },
   "source": [
    "labels_pred = classtering.predict(df_pred[claster])\n",
    "df_pred.insert(11, value=labels_pred, column='Class')  # добавил в дф столбец с метками кластера\n",
    "np.unique(labels_pred, return_counts = True)"
   ],
   "outputs": []
  },
  {
   "cell_type": "code",
   "execution_count": null,
   "metadata": {
    "id": "vrWORh1bmUNA"
   },
   "source": [
    "X_pred = catboost.Pool(df_pred, cat_features=cat_index)"
   ],
   "outputs": []
  },
  {
   "cell_type": "code",
   "execution_count": null,
   "metadata": {
    "id": "yNXW3NqY91v_"
   },
   "source": [
    "Pred = model_avg_full.predict(X_pred)"
   ],
   "outputs": []
  },
  {
   "cell_type": "code",
   "execution_count": null,
   "metadata": {
    "id": "I_psgJb-_v3a"
   },
   "source": [
    "submission = pd.read_csv('SampleSubmission.csv')\n",
    "submission.price = Pred \n",
    "submission.to_csv('boost_ensemble.csv', index=False)"
   ],
   "outputs": []
  }
 ],
 "metadata": {
  "colab": {
   "collapsed_sections": [],
   "name": "ensemles.ipynb",
   "provenance": [],
   "toc_visible": true
  },
  "kernelspec": {
   "display_name": "Python 3 (ipykernel)",
   "language": "python",
   "name": "python3"
  },
  "language_info": {
   "codemirror_mode": {
    "name": "ipython",
    "version": 3
   },
   "file_extension": ".py",
   "mimetype": "text/x-python",
   "name": "python",
   "nbconvert_exporter": "python",
   "pygments_lexer": "ipython3",
   "version": "3.8.10"
  },
  "widgets": {
   "application/vnd.jupyter.widget-state+json": {
    "088ec946c5e44e0f9a4c1f606143a1a6": {
     "model_module": "@jupyter-widgets/base",
     "model_name": "LayoutModel",
     "state": {
      "_model_module": "@jupyter-widgets/base",
      "_model_module_version": "1.2.0",
      "_model_name": "LayoutModel",
      "_view_count": null,
      "_view_module": "@jupyter-widgets/base",
      "_view_module_version": "1.2.0",
      "_view_name": "LayoutView",
      "align_content": null,
      "align_items": null,
      "align_self": null,
      "border": null,
      "bottom": null,
      "display": null,
      "flex": null,
      "flex_flow": null,
      "grid_area": null,
      "grid_auto_columns": null,
      "grid_auto_flow": null,
      "grid_auto_rows": null,
      "grid_column": null,
      "grid_gap": null,
      "grid_row": null,
      "grid_template_areas": null,
      "grid_template_columns": null,
      "grid_template_rows": null,
      "height": null,
      "justify_content": null,
      "justify_items": null,
      "left": null,
      "margin": null,
      "max_height": null,
      "max_width": null,
      "min_height": null,
      "min_width": null,
      "object_fit": null,
      "object_position": null,
      "order": null,
      "overflow": null,
      "overflow_x": null,
      "overflow_y": null,
      "padding": null,
      "right": null,
      "top": null,
      "visibility": null,
      "width": null
     }
    },
    "164065c71c9e46718a754bb6d1286657": {
     "model_module": "@jupyter-widgets/base",
     "model_name": "LayoutModel",
     "state": {
      "_model_module": "@jupyter-widgets/base",
      "_model_module_version": "1.2.0",
      "_model_name": "LayoutModel",
      "_view_count": null,
      "_view_module": "@jupyter-widgets/base",
      "_view_module_version": "1.2.0",
      "_view_name": "LayoutView",
      "align_content": null,
      "align_items": null,
      "align_self": null,
      "border": null,
      "bottom": null,
      "display": null,
      "flex": null,
      "flex_flow": null,
      "grid_area": null,
      "grid_auto_columns": null,
      "grid_auto_flow": null,
      "grid_auto_rows": null,
      "grid_column": null,
      "grid_gap": null,
      "grid_row": null,
      "grid_template_areas": null,
      "grid_template_columns": null,
      "grid_template_rows": null,
      "height": null,
      "justify_content": null,
      "justify_items": null,
      "left": null,
      "margin": null,
      "max_height": null,
      "max_width": null,
      "min_height": null,
      "min_width": null,
      "object_fit": null,
      "object_position": null,
      "order": null,
      "overflow": null,
      "overflow_x": null,
      "overflow_y": null,
      "padding": null,
      "right": null,
      "top": null,
      "visibility": null,
      "width": null
     }
    },
    "19fcdae0d4544d90a3cb517d1186bc5c": {
     "model_module": "@jupyter-widgets/controls",
     "model_name": "HTMLModel",
     "state": {
      "_dom_classes": [],
      "_model_module": "@jupyter-widgets/controls",
      "_model_module_version": "1.5.0",
      "_model_name": "HTMLModel",
      "_view_count": null,
      "_view_module": "@jupyter-widgets/controls",
      "_view_module_version": "1.5.0",
      "_view_name": "HTMLView",
      "description": "",
      "description_tooltip": null,
      "layout": "IPY_MODEL_e527968bd55942dd83bcdc99dbc9fd31",
      "placeholder": "​",
      "style": "IPY_MODEL_8baf53c665134ff8a34ca3fecc86af46",
      "value": " 5/5 [01:59&lt;00:00, 23.85s/it]"
     }
    },
    "4f4f8633b65a467095d83e31e6dba30d": {
     "model_module": "@jupyter-widgets/controls",
     "model_name": "HBoxModel",
     "state": {
      "_dom_classes": [],
      "_model_module": "@jupyter-widgets/controls",
      "_model_module_version": "1.5.0",
      "_model_name": "HBoxModel",
      "_view_count": null,
      "_view_module": "@jupyter-widgets/controls",
      "_view_module_version": "1.5.0",
      "_view_name": "HBoxView",
      "box_style": "",
      "children": [
       "IPY_MODEL_c7e7f320f72a4186a4857313baed3326",
       "IPY_MODEL_19fcdae0d4544d90a3cb517d1186bc5c"
      ],
      "layout": "IPY_MODEL_088ec946c5e44e0f9a4c1f606143a1a6"
     }
    },
    "6f5f6ec96c7a47aaa0717661c3151e48": {
     "model_module": "@jupyter-widgets/base",
     "model_name": "LayoutModel",
     "state": {
      "_model_module": "@jupyter-widgets/base",
      "_model_module_version": "1.2.0",
      "_model_name": "LayoutModel",
      "_view_count": null,
      "_view_module": "@jupyter-widgets/base",
      "_view_module_version": "1.2.0",
      "_view_name": "LayoutView",
      "align_content": null,
      "align_items": null,
      "align_self": null,
      "border": null,
      "bottom": null,
      "display": null,
      "flex": null,
      "flex_flow": null,
      "grid_area": null,
      "grid_auto_columns": null,
      "grid_auto_flow": null,
      "grid_auto_rows": null,
      "grid_column": null,
      "grid_gap": null,
      "grid_row": null,
      "grid_template_areas": null,
      "grid_template_columns": null,
      "grid_template_rows": null,
      "height": null,
      "justify_content": null,
      "justify_items": null,
      "left": null,
      "margin": null,
      "max_height": null,
      "max_width": null,
      "min_height": null,
      "min_width": null,
      "object_fit": null,
      "object_position": null,
      "order": null,
      "overflow": null,
      "overflow_x": null,
      "overflow_y": null,
      "padding": null,
      "right": null,
      "top": null,
      "visibility": null,
      "width": null
     }
    },
    "7a5a79f464ec4080b352c768da5e2dd9": {
     "model_module": "@jupyter-widgets/controls",
     "model_name": "HTMLModel",
     "state": {
      "_dom_classes": [],
      "_model_module": "@jupyter-widgets/controls",
      "_model_module_version": "1.5.0",
      "_model_name": "HTMLModel",
      "_view_count": null,
      "_view_module": "@jupyter-widgets/controls",
      "_view_module_version": "1.5.0",
      "_view_name": "HTMLView",
      "description": "",
      "description_tooltip": null,
      "layout": "IPY_MODEL_c252c4c5ea85490689ebc1d91e033956",
      "placeholder": "​",
      "style": "IPY_MODEL_bada5a93e0614d3e8dcd1090f54ba421",
      "value": " 5/5 [02:29&lt;00:00, 29.97s/it]"
     }
    },
    "8baf53c665134ff8a34ca3fecc86af46": {
     "model_module": "@jupyter-widgets/controls",
     "model_name": "DescriptionStyleModel",
     "state": {
      "_model_module": "@jupyter-widgets/controls",
      "_model_module_version": "1.5.0",
      "_model_name": "DescriptionStyleModel",
      "_view_count": null,
      "_view_module": "@jupyter-widgets/base",
      "_view_module_version": "1.2.0",
      "_view_name": "StyleView",
      "description_width": ""
     }
    },
    "926b4eeb26594002b611ef4e1323b029": {
     "model_module": "@jupyter-widgets/controls",
     "model_name": "FloatProgressModel",
     "state": {
      "_dom_classes": [],
      "_model_module": "@jupyter-widgets/controls",
      "_model_module_version": "1.5.0",
      "_model_name": "FloatProgressModel",
      "_view_count": null,
      "_view_module": "@jupyter-widgets/controls",
      "_view_module_version": "1.5.0",
      "_view_name": "ProgressView",
      "bar_style": "success",
      "description": "100%",
      "description_tooltip": null,
      "layout": "IPY_MODEL_6f5f6ec96c7a47aaa0717661c3151e48",
      "max": 5,
      "min": 0,
      "orientation": "horizontal",
      "style": "IPY_MODEL_e4d3bfe431a2433d9c4ab5c7f4855b2a",
      "value": 5
     }
    },
    "bada5a93e0614d3e8dcd1090f54ba421": {
     "model_module": "@jupyter-widgets/controls",
     "model_name": "DescriptionStyleModel",
     "state": {
      "_model_module": "@jupyter-widgets/controls",
      "_model_module_version": "1.5.0",
      "_model_name": "DescriptionStyleModel",
      "_view_count": null,
      "_view_module": "@jupyter-widgets/base",
      "_view_module_version": "1.2.0",
      "_view_name": "StyleView",
      "description_width": ""
     }
    },
    "c252c4c5ea85490689ebc1d91e033956": {
     "model_module": "@jupyter-widgets/base",
     "model_name": "LayoutModel",
     "state": {
      "_model_module": "@jupyter-widgets/base",
      "_model_module_version": "1.2.0",
      "_model_name": "LayoutModel",
      "_view_count": null,
      "_view_module": "@jupyter-widgets/base",
      "_view_module_version": "1.2.0",
      "_view_name": "LayoutView",
      "align_content": null,
      "align_items": null,
      "align_self": null,
      "border": null,
      "bottom": null,
      "display": null,
      "flex": null,
      "flex_flow": null,
      "grid_area": null,
      "grid_auto_columns": null,
      "grid_auto_flow": null,
      "grid_auto_rows": null,
      "grid_column": null,
      "grid_gap": null,
      "grid_row": null,
      "grid_template_areas": null,
      "grid_template_columns": null,
      "grid_template_rows": null,
      "height": null,
      "justify_content": null,
      "justify_items": null,
      "left": null,
      "margin": null,
      "max_height": null,
      "max_width": null,
      "min_height": null,
      "min_width": null,
      "object_fit": null,
      "object_position": null,
      "order": null,
      "overflow": null,
      "overflow_x": null,
      "overflow_y": null,
      "padding": null,
      "right": null,
      "top": null,
      "visibility": null,
      "width": null
     }
    },
    "c7e7f320f72a4186a4857313baed3326": {
     "model_module": "@jupyter-widgets/controls",
     "model_name": "FloatProgressModel",
     "state": {
      "_dom_classes": [],
      "_model_module": "@jupyter-widgets/controls",
      "_model_module_version": "1.5.0",
      "_model_name": "FloatProgressModel",
      "_view_count": null,
      "_view_module": "@jupyter-widgets/controls",
      "_view_module_version": "1.5.0",
      "_view_name": "ProgressView",
      "bar_style": "success",
      "description": "100%",
      "description_tooltip": null,
      "layout": "IPY_MODEL_eacee39ea7094d9e83b744b9d1954ff0",
      "max": 5,
      "min": 0,
      "orientation": "horizontal",
      "style": "IPY_MODEL_de2069a7809b4fb2932854f716725637",
      "value": 5
     }
    },
    "de2069a7809b4fb2932854f716725637": {
     "model_module": "@jupyter-widgets/controls",
     "model_name": "ProgressStyleModel",
     "state": {
      "_model_module": "@jupyter-widgets/controls",
      "_model_module_version": "1.5.0",
      "_model_name": "ProgressStyleModel",
      "_view_count": null,
      "_view_module": "@jupyter-widgets/base",
      "_view_module_version": "1.2.0",
      "_view_name": "StyleView",
      "bar_color": null,
      "description_width": "initial"
     }
    },
    "e4d3bfe431a2433d9c4ab5c7f4855b2a": {
     "model_module": "@jupyter-widgets/controls",
     "model_name": "ProgressStyleModel",
     "state": {
      "_model_module": "@jupyter-widgets/controls",
      "_model_module_version": "1.5.0",
      "_model_name": "ProgressStyleModel",
      "_view_count": null,
      "_view_module": "@jupyter-widgets/base",
      "_view_module_version": "1.2.0",
      "_view_name": "StyleView",
      "bar_color": null,
      "description_width": "initial"
     }
    },
    "e527968bd55942dd83bcdc99dbc9fd31": {
     "model_module": "@jupyter-widgets/base",
     "model_name": "LayoutModel",
     "state": {
      "_model_module": "@jupyter-widgets/base",
      "_model_module_version": "1.2.0",
      "_model_name": "LayoutModel",
      "_view_count": null,
      "_view_module": "@jupyter-widgets/base",
      "_view_module_version": "1.2.0",
      "_view_name": "LayoutView",
      "align_content": null,
      "align_items": null,
      "align_self": null,
      "border": null,
      "bottom": null,
      "display": null,
      "flex": null,
      "flex_flow": null,
      "grid_area": null,
      "grid_auto_columns": null,
      "grid_auto_flow": null,
      "grid_auto_rows": null,
      "grid_column": null,
      "grid_gap": null,
      "grid_row": null,
      "grid_template_areas": null,
      "grid_template_columns": null,
      "grid_template_rows": null,
      "height": null,
      "justify_content": null,
      "justify_items": null,
      "left": null,
      "margin": null,
      "max_height": null,
      "max_width": null,
      "min_height": null,
      "min_width": null,
      "object_fit": null,
      "object_position": null,
      "order": null,
      "overflow": null,
      "overflow_x": null,
      "overflow_y": null,
      "padding": null,
      "right": null,
      "top": null,
      "visibility": null,
      "width": null
     }
    },
    "e8bbb35479f044728ba4d39068c0619a": {
     "model_module": "@jupyter-widgets/controls",
     "model_name": "HBoxModel",
     "state": {
      "_dom_classes": [],
      "_model_module": "@jupyter-widgets/controls",
      "_model_module_version": "1.5.0",
      "_model_name": "HBoxModel",
      "_view_count": null,
      "_view_module": "@jupyter-widgets/controls",
      "_view_module_version": "1.5.0",
      "_view_name": "HBoxView",
      "box_style": "",
      "children": [
       "IPY_MODEL_926b4eeb26594002b611ef4e1323b029",
       "IPY_MODEL_7a5a79f464ec4080b352c768da5e2dd9"
      ],
      "layout": "IPY_MODEL_164065c71c9e46718a754bb6d1286657"
     }
    },
    "eacee39ea7094d9e83b744b9d1954ff0": {
     "model_module": "@jupyter-widgets/base",
     "model_name": "LayoutModel",
     "state": {
      "_model_module": "@jupyter-widgets/base",
      "_model_module_version": "1.2.0",
      "_model_name": "LayoutModel",
      "_view_count": null,
      "_view_module": "@jupyter-widgets/base",
      "_view_module_version": "1.2.0",
      "_view_name": "LayoutView",
      "align_content": null,
      "align_items": null,
      "align_self": null,
      "border": null,
      "bottom": null,
      "display": null,
      "flex": null,
      "flex_flow": null,
      "grid_area": null,
      "grid_auto_columns": null,
      "grid_auto_flow": null,
      "grid_auto_rows": null,
      "grid_column": null,
      "grid_gap": null,
      "grid_row": null,
      "grid_template_areas": null,
      "grid_template_columns": null,
      "grid_template_rows": null,
      "height": null,
      "justify_content": null,
      "justify_items": null,
      "left": null,
      "margin": null,
      "max_height": null,
      "max_width": null,
      "min_height": null,
      "min_width": null,
      "object_fit": null,
      "object_position": null,
      "order": null,
      "overflow": null,
      "overflow_x": null,
      "overflow_y": null,
      "padding": null,
      "right": null,
      "top": null,
      "visibility": null,
      "width": null
     }
    }
   }
  }
 },
 "nbformat": 4,
 "nbformat_minor": 1
}
