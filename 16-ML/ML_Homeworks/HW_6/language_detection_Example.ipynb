{
 "nbformat": 4,
 "nbformat_minor": 0,
 "metadata": {
  "colab": {
   "name": "language_detection.ipynb",
   "provenance": [],
   "collapsed_sections": [],
   "toc_visible": true
  },
  "kernelspec": {
   "display_name": "Python 3",
   "language": "python",
   "name": "python3"
  },
  "language_info": {
   "codemirror_mode": {
    "name": "ipython",
    "version": 3
   },
   "file_extension": ".py",
   "mimetype": "text/x-python",
   "name": "python",
   "nbconvert_exporter": "python",
   "pygments_lexer": "ipython3",
   "version": "3.8.5"
  },
  "toc": {
   "base_numbering": 1,
   "nav_menu": {},
   "number_sections": true,
   "sideBar": true,
   "skip_h1_title": false,
   "title_cell": "Table of Contents",
   "title_sidebar": "Contents",
   "toc_cell": true,
   "toc_position": {},
   "toc_section_display": true,
   "toc_window_display": false
  }
 },
 "cells": [
  {
   "cell_type": "code",
   "metadata": {
    "ExecuteTime": {
     "end_time": "2021-04-14T09:20:04.248094Z",
     "start_time": "2021-04-14T09:20:01.514286Z"
    },
    "id": "Js1cz8rmcNyA"
   },
   "source": [
    "import pandas as pd\n",
    "import matplotlib.pyplot as plt\n",
    "plt.style.use('ggplot')\n",
    "import string\n",
    "from sklearn.preprocessing  import LabelEncoder\n",
    "from sklearn.feature_extraction.text import TfidfVectorizer\n",
    "from sklearn.linear_model import SGDClassifier\n",
    "from sklearn.pipeline import Pipeline\n",
    "from sklearn.metrics import balanced_accuracy_score\n",
    "from tqdm import tqdm_notebook\n",
    "from sklearn.model_selection import train_test_split\n",
    "import numpy as np"
   ],
   "execution_count": null,
   "outputs": []
  },
  {
   "cell_type": "code",
   "metadata": {
    "colab": {
     "base_uri": "https://localhost:8080/"
    },
    "id": "onjMLfl3-l8e",
    "outputId": "fc810c5b-9acb-4987-c101-5503f460c83d"
   },
   "source": [
    "from google.colab import drive\n",
    "drive.mount('/content/drive')"
   ],
   "execution_count": null,
   "outputs": []
  },
  {
   "cell_type": "code",
   "metadata": {
    "ExecuteTime": {
     "end_time": "2021-04-14T09:20:04.825956Z",
     "start_time": "2021-04-14T09:20:04.823335Z"
    },
    "id": "2bIYmLxncNyB"
   },
   "source": [
    "SEED = 42"
   ],
   "execution_count": null,
   "outputs": []
  },
  {
   "cell_type": "markdown",
   "metadata": {
    "id": "Y1WZt8-ocNyC"
   },
   "source": [
    "\n",
    "**[Kaggle InClass: Language Detection](https://www.kaggle.com/t/bb11ace54b1a465e91b8c3f46a840ce0)**"
   ]
  },
  {
   "cell_type": "markdown",
   "metadata": {
    "ExecuteTime": {
     "end_time": "2020-10-30T12:22:00.913789Z",
     "start_time": "2020-10-30T12:22:00.909736Z"
    },
    "id": "T2mVf3fEcNyC"
   },
   "source": [
    "# Загрузка и чистка "
   ]
  },
  {
   "cell_type": "code",
   "metadata": {
    "ExecuteTime": {
     "end_time": "2021-04-14T09:21:10.272384Z",
     "start_time": "2021-04-14T09:20:53.723570Z"
    },
    "id": "BhvHZX9GcNyC"
   },
   "source": [
    "train_df = pd.read_csv('/content/drive/MyDrive/kaggle/train.csv')\n",
    "test_df = pd.read_csv('/content/drive/MyDrive/kaggle/test.csv')\n",
    "# train_df = pd.read_csv('train.csv')\n",
    "# test_df = pd.read_csv('test.csv')"
   ],
   "execution_count": null,
   "outputs": []
  },
  {
   "cell_type": "code",
   "metadata": {
    "ExecuteTime": {
     "end_time": "2021-04-14T09:21:16.634662Z",
     "start_time": "2021-04-14T09:21:16.627193Z"
    },
    "colab": {
     "base_uri": "https://localhost:8080/"
    },
    "id": "AxtGUJ4fcNyD",
    "outputId": "9e76be06-393f-4862-8f4a-03c59a02182e"
   },
   "source": [
    "train_df.shape, test_df.shape"
   ],
   "execution_count": null,
   "outputs": []
  },
  {
   "cell_type": "code",
   "metadata": {
    "id": "M_a7OfaHMVYm"
   },
   "source": [
    "train_df.sentence = train_df.sentence.str.replace('[0-9:!\"#$%&\\'()*+,-./:;<=>?@[\\\\]^_`{|}~]',repl='', regex=True)\n",
    "train_df.sentence = train_df.sentence.str.replace('quot',repl='', regex=True)\n",
    "\n",
    "train_df['len'] = train_df.sentence.str.len()\n",
    "train_df = train_df.iloc[train_df.len.values > 0, :]\n",
    "LE = LabelEncoder().fit(train_df.language)\n",
    "y = LE.transform(train_df.language)"
   ],
   "execution_count": null,
   "outputs": []
  },
  {
   "cell_type": "code",
   "metadata": {
    "colab": {
     "base_uri": "https://localhost:8080/",
     "height": 204
    },
    "id": "Ztxof4PyG5zo",
    "outputId": "187d050d-f655-43d2-b34b-57bb879cee10"
   },
   "source": [
    "train_df.head()"
   ],
   "execution_count": null,
   "outputs": []
  },
  {
   "cell_type": "markdown",
   "metadata": {
    "id": "B_Cb0qYHtVnV"
   },
   "source": [
    "## Удаляю вбросы ))"
   ]
  },
  {
   "cell_type": "code",
   "metadata": {
    "id": "gk4P9gUbE0CT"
   },
   "source": [
    "from sklearn.preprocessing import PowerTransformer"
   ],
   "execution_count": null,
   "outputs": []
  },
  {
   "cell_type": "code",
   "metadata": {
    "id": "CjxU_uKyHt4i"
   },
   "source": [
    "spisok = []\n",
    "for i in np.unique(y):\n",
    "    PW = PowerTransformer(method='box-cox').fit(train_df.len.values[y == i].reshape(-1, 1))\n",
    "    train_df.iloc[y == i, 2] = PW.transform(train_df.len.values[y == i].reshape(-1, 1))\n",
    "    spisok.append(PW)\n",
    "\n"
   ],
   "execution_count": null,
   "outputs": []
  },
  {
   "cell_type": "code",
   "metadata": {
    "colab": {
     "base_uri": "https://localhost:8080/",
     "height": 1000
    },
    "id": "EvNsT_N3St1Z",
    "outputId": "f0a8b941-76a2-4729-914b-7134bfab6f56"
   },
   "source": [
    "fig, ax = plt.subplots(20, 3, figsize=(25,120))\n",
    "n, k, i = 0, 0, 0\n",
    "while i < 59:\n",
    "    if n < 3:\n",
    "        ax[k, n].hist(train_df.len[y == i].values, bins = 100)\n",
    "        ax[k, n].set_title(str(LE.inverse_transform(np.array([i]))) + ' y='+ str(i))\n",
    "        n += 1\n",
    "        i += 1\n",
    "    else:\n",
    "        k += 1\n",
    "        n = 0"
   ],
   "execution_count": null,
   "outputs": []
  },
  {
   "cell_type": "code",
   "metadata": {
    "id": "PrM-eKmAX-1P"
   },
   "source": [
    "train_df.iloc[y == 10, :].head(30)\n",
    "\n",
    "s10 = train_df.sentence[345]\n",
    "mask10 = train_df.sentence.values != s10\n",
    "\n",
    "s13 = train_df.sentence[51]\n",
    "mask13 = train_df.sentence.values != s13\n",
    "\n",
    "s17 = train_df.sentence[110]\n",
    "mask17 = train_df.sentence.values != s17\n",
    "\n",
    "s31 = train_df.sentence[34]\n",
    "mask31 = train_df.sentence.values != s31\n",
    "\n",
    "s44 = train_df.sentence[26]\n",
    "mask44 = train_df.sentence.values != s44\n",
    "\n",
    "s50 = train_df.sentence[164]\n",
    "mask50 = train_df.sentence.values != s50\n",
    "\n",
    "s51_1 = train_df.sentence[74]\n",
    "s51_2 = train_df.sentence[243]\n",
    "mask51 = (train_df.sentence.values != s51_1) * (train_df.sentence.values != s51_2)\n",
    "\n",
    "\n",
    "s55 = train_df.sentence[86]\n",
    "mask55 = (train_df.sentence.values != s55)\n",
    "\n",
    "\n",
    "mask_all = mask10 * mask13 * mask17 * mask31 * mask44 * mask50 * mask51 * mask55"
   ],
   "execution_count": null,
   "outputs": []
  },
  {
   "cell_type": "code",
   "metadata": {
    "id": "kzCiBHNU-Yfa"
   },
   "source": [
    "train_df = train_df.iloc[mask_all, :]\n",
    "y = y[mask_all]"
   ],
   "execution_count": null,
   "outputs": []
  },
  {
   "cell_type": "code",
   "metadata": {
    "id": "QIa0I9m1-Yfa"
   },
   "source": [
    "# train_df.shape"
   ],
   "execution_count": null,
   "outputs": []
  },
  {
   "cell_type": "code",
   "metadata": {
    "id": "pBrnw5tu-Yfa"
   },
   "source": [
    "# train_df.iloc[y == 13., :].head(30)"
   ],
   "execution_count": null,
   "outputs": []
  },
  {
   "cell_type": "code",
   "metadata": {
    "id": "p2r8nzWy-Yfa"
   },
   "source": [
    "# Перехожу в исходный масштаб по длине\n",
    "for i, PW in enumerate (spisok):\n",
    "    train_df.iloc[y == i, 2] = PW.inverse_transform(train_df.len.values[y == i].reshape(-1, 1))"
   ],
   "execution_count": null,
   "outputs": []
  },
  {
   "cell_type": "markdown",
   "metadata": {
    "id": "EpBUmecL-Yfb"
   },
   "source": [
    "## Результаты чистки"
   ]
  },
  {
   "cell_type": "code",
   "metadata": {
    "id": "FaUOXMSG-Yfb"
   },
   "source": [
    "spisok1 = []\n",
    "for i in np.unique(y):\n",
    "    PW = PowerTransformer(method='box-cox').fit(train_df.len.values[y == i].reshape(-1, 1))\n",
    "    train_df.iloc[y == i, 2] = PW.transform(train_df.len.values[y == i].reshape(-1, 1))\n",
    "    spisok1.append(PW)"
   ],
   "execution_count": null,
   "outputs": []
  },
  {
   "cell_type": "code",
   "metadata": {
    "colab": {
     "base_uri": "https://localhost:8080/",
     "height": 1000
    },
    "id": "i_l_KNEg-Yfb",
    "outputId": "b40b8bfc-8a07-449e-c628-4f5861a03b08"
   },
   "source": [
    "fig, ax = plt.subplots(20, 3, figsize=(25,120))\n",
    "\n",
    "n, k, i = 0, 0, 0\n",
    "while i < 59:\n",
    "    if n < 3:\n",
    "        ax[k, n].hist(train_df.len[y == i].values, bins = 100)\n",
    "        ax[k, n].set_title(str(LE.inverse_transform(np.array([i]))) + ' y='+ str(i))\n",
    "        n += 1\n",
    "        i += 1\n",
    "    else:\n",
    "        k += 1\n",
    "        n = 0"
   ],
   "execution_count": null,
   "outputs": []
  },
  {
   "cell_type": "code",
   "metadata": {
    "id": "i2gQSJuykTuX"
   },
   "source": [
    "# train_df.iloc[y == 54, :].head(50)"
   ],
   "execution_count": null,
   "outputs": []
  },
  {
   "cell_type": "markdown",
   "metadata": {
    "id": "OOPK2cSy-Yfc"
   },
   "source": [
    "# Модель"
   ]
  },
  {
   "cell_type": "code",
   "metadata": {
    "id": "lrXq2s3W-Yfc"
   },
   "source": [
    "x_train, x_valid, y_train, y_valid = train_test_split(train_df.sentence.values, y, random_state = SEED)"
   ],
   "execution_count": null,
   "outputs": []
  },
  {
   "cell_type": "code",
   "metadata": {
    "id": "mkzmrUZl2CbC"
   },
   "source": [
    "pipe = Pipeline([\n",
    "                 ('TfidfVectorizer', TfidfVectorizer(analyzer='char_wb', ngram_range = (1, 3))),  # запускать в колабе (1, 3) - опасно для психики\n",
    "                 ('SGD',SGDClassifier(random_state=SEED, class_weight='balanced',\n",
    "                                      learning_rate = 'adaptive', eta0 = 0.1,  # это тоже\n",
    "                                      loss = 'perceptron', alpha=0.00001,\n",
    "                                    #   early_stopping = True, validation_fraction = 0.2,\n",
    "                                      n_jobs = -1)\n",
    "                 )\n",
    "])"
   ],
   "execution_count": null,
   "outputs": []
  },
  {
   "cell_type": "code",
   "metadata": {
    "id": "z7XJGbJY-Yfc"
   },
   "source": [
    "# pipe.fit(train_df.sentence.values, y)  # для финального предсказания"
   ],
   "execution_count": null,
   "outputs": []
  },
  {
   "cell_type": "code",
   "metadata": {
    "id": "r_zqSfBb26ld",
    "colab": {
     "base_uri": "https://localhost:8080/"
    },
    "outputId": "2b6e50d5-cb63-4203-db5d-2b264ad8cdcb"
   },
   "source": [
    "pipe.fit(x_train, y_train)"
   ],
   "execution_count": null,
   "outputs": []
  },
  {
   "cell_type": "code",
   "metadata": {
    "id": "VeeRTqRK2_Zl"
   },
   "source": [
    "pred_train = pipe.predict(x_train)\n",
    "pred_valid = pipe.predict(x_valid)"
   ],
   "execution_count": null,
   "outputs": []
  },
  {
   "cell_type": "code",
   "metadata": {
    "id": "t7qLwaHF3jRR",
    "colab": {
     "base_uri": "https://localhost:8080/"
    },
    "outputId": "f6654a77-3159-4886-b88c-01bcf6a0a9f3"
   },
   "source": [
    "print(balanced_accuracy_score(y_train, pred_train)) # ~0.967 c (1, 3)\n",
    "print(balanced_accuracy_score(y_valid, pred_valid ))  # ~0.935 c (1, 3)"
   ],
   "execution_count": null,
   "outputs": []
  },
  {
   "cell_type": "markdown",
   "metadata": {
    "id": "pQHIaRJpcNyH"
   },
   "source": [
    "# Предсказание"
   ]
  },
  {
   "cell_type": "code",
   "metadata": {
    "id": "0ew7eDi_-Yfe"
   },
   "source": [
    "test_df.sentence = test_df.sentence.str.replace('[0-9:!\"#$%&\\'()*+,-./:;<=>?@[\\\\]^_`{|}~]',repl='', regex=True)\n",
    "test_df.sentence = test_df.sentence.str.replace('quot',repl='', regex=True)"
   ],
   "execution_count": null,
   "outputs": []
  },
  {
   "cell_type": "code",
   "metadata": {
    "ExecuteTime": {
     "end_time": "2021-04-14T09:37:56.096959Z",
     "start_time": "2021-04-14T09:36:08.364057Z"
    },
    "id": "SVVEQKq0cNyH"
   },
   "source": [
    "submit_predictions = pipe.predict(test_df.sentence.values)"
   ],
   "execution_count": null,
   "outputs": []
  },
  {
   "cell_type": "code",
   "metadata": {
    "ExecuteTime": {
     "end_time": "2021-04-14T09:37:56.332183Z",
     "start_time": "2021-04-14T09:37:56.107040Z"
    },
    "id": "AC-mHiTacNyH"
   },
   "source": [
    "test_df['language'] = LE.classes_[submit_predictions]\n",
    "\n",
    "test_df.head()"
   ],
   "execution_count": null,
   "outputs": []
  },
  {
   "cell_type": "code",
   "metadata": {
    "ExecuteTime": {
     "end_time": "2021-04-14T09:38:02.684073Z",
     "start_time": "2021-04-14T09:37:56.338439Z"
    },
    "id": "K4TOMpbgcNyH"
   },
   "source": [
    "(\n",
    "    test_df[['index', 'language']]\n",
    "    .to_csv('sample_submission.csv', index=False)\n",
    ")"
   ],
   "execution_count": null,
   "outputs": []
  }
 ]
}
