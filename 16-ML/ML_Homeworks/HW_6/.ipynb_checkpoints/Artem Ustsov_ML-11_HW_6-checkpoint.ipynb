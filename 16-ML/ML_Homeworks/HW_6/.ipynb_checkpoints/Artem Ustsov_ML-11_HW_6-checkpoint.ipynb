{
 "cells": [
  {
   "cell_type": "markdown",
   "id": "d1370e53",
   "metadata": {},
   "source": [
    "# Домашнее задание №6.\n",
    "Основы машинного обучения. Г.Господинов  \n",
    "Группа ML-11. __Студент - Усцов Артем Алексеевич__"
   ]
  },
  {
   "cell_type": "code",
   "execution_count": 1,
   "id": "076b72f5",
   "metadata": {
    "ExecuteTime": {
     "end_time": "2022-05-10T22:39:18.957205Z",
     "start_time": "2022-05-10T22:39:18.941931Z"
    }
   },
   "outputs": [],
   "source": [
    "# Для функционирования watermark - раскомментируйте строку ниже, либо установите библиотеку в консоли вручную\n",
    "# !pip install watermark\n",
    "%load_ext watermark"
   ]
  },
  {
   "cell_type": "code",
   "execution_count": 2,
   "id": "3f6dbb7e",
   "metadata": {
    "ExecuteTime": {
     "end_time": "2022-05-10T22:39:19.979039Z",
     "start_time": "2022-05-10T22:39:19.121355Z"
    }
   },
   "outputs": [
    {
     "name": "stdout",
     "output_type": "stream",
     "text": [
      "Python implementation: CPython\n",
      "Python version       : 3.8.10\n",
      "IPython version      : 7.28.0\n",
      "\n",
      "numpy     : 1.20.1\n",
      "scipy     : 1.6.2\n",
      "matplotlib: 3.4.3\n",
      "pandas    : 1.2.2\n",
      "sklearn   : 0.0\n",
      "seaborn   : 0.11.2\n",
      "tqdm      : 4.62.3\n",
      "\n",
      "Compiler    : GCC 9.3.0\n",
      "OS          : Linux\n",
      "Release     : 5.4.0-88-generic\n",
      "Machine     : x86_64\n",
      "Processor   : x86_64\n",
      "CPU cores   : 8\n",
      "Architecture: 64bit\n",
      "\n",
      "Git hash: af14cdf0fd62ff0b2f07b18b24a2d0c0619a7920\n",
      "\n"
     ]
    }
   ],
   "source": [
    "%watermark -v -m -p numpy,scipy,matplotlib,pandas,sklearn,seaborn,tqdm -g"
   ]
  },
  {
   "cell_type": "code",
   "execution_count": 3,
   "id": "28b3d010",
   "metadata": {
    "ExecuteTime": {
     "end_time": "2022-05-10T22:39:20.130644Z",
     "start_time": "2022-05-10T22:39:19.993969Z"
    }
   },
   "outputs": [
    {
     "name": "stdout",
     "output_type": "stream",
     "text": [
      "Архитектура:                     x86_64\r\n",
      "CPU op-mode(s):                  32-bit, 64-bit\r\n",
      "Порядок байт:                    Little Endian\r\n",
      "Address sizes:                   39 bits physical, 48 bits virtual\r\n",
      "CPU(s):                          8\r\n",
      "On-line CPU(s) list:             0-7\r\n",
      "Потоков на ядро:                 2\r\n",
      "Ядер на сокет:                   4\r\n",
      "Сокетов:                         1\r\n",
      "NUMA node(s):                    1\r\n",
      "ID прроизводителя:               GenuineIntel\r\n",
      "Семейство ЦПУ:                   6\r\n",
      "Модель:                          142\r\n",
      "Имя модели:                      Intel(R) Core(TM) i5-8250U CPU @ 1.60GHz\r\n",
      "Степпинг:                        10\r\n",
      "CPU МГц:                         3083.203\r\n",
      "CPU max MHz:                     3400,0000\r\n",
      "CPU min MHz:                     400,0000\r\n",
      "BogoMIPS:                        3600.00\r\n",
      "Виртуализация:                   VT-x\r\n",
      "L1d cache:                       128 KiB\r\n",
      "L1i cache:                       128 KiB\r\n",
      "L2 cache:                        1 MiB\r\n",
      "L3 cache:                        6 MiB\r\n",
      "NUMA node0 CPU(s):               0-7\r\n",
      "Vulnerability Itlb multihit:     KVM: Mitigation: Split huge pages\r\n",
      "Vulnerability L1tf:              Mitigation; PTE Inversion; VMX conditional cach\r\n",
      "                                 e flushes, SMT vulnerable\r\n",
      "Vulnerability Mds:               Mitigation; Clear CPU buffers; SMT vulnerable\r\n",
      "Vulnerability Meltdown:          Mitigation; PTI\r\n",
      "Vulnerability Spec store bypass: Mitigation; Speculative Store Bypass disabled v\r\n",
      "                                 ia prctl and seccomp\r\n",
      "Vulnerability Spectre v1:        Mitigation; usercopy/swapgs barriers and __user\r\n",
      "                                  pointer sanitization\r\n",
      "Vulnerability Spectre v2:        Mitigation; Full generic retpoline, IBPB condit\r\n",
      "                                 ional, IBRS_FW, STIBP conditional, RSB filling\r\n",
      "Vulnerability Srbds:             Mitigation; Microcode\r\n",
      "Vulnerability Tsx async abort:   Not affected\r\n",
      "Флаги:                           fpu vme de pse tsc msr pae mce cx8 apic sep mtr\r\n",
      "                                 r pge mca cmov pat pse36 clflush dts acpi mmx f\r\n",
      "                                 xsr sse sse2 ss ht tm pbe syscall nx pdpe1gb rd\r\n",
      "                                 tscp lm constant_tsc art arch_perfmon pebs bts \r\n",
      "                                 rep_good nopl xtopology nonstop_tsc cpuid aperf\r\n",
      "                                 mperf pni pclmulqdq dtes64 monitor ds_cpl vmx e\r\n",
      "                                 st tm2 ssse3 sdbg fma cx16 xtpr pdcm pcid sse4_\r\n",
      "                                 1 sse4_2 x2apic movbe popcnt tsc_deadline_timer\r\n",
      "                                  aes xsave avx f16c rdrand lahf_lm abm 3dnowpre\r\n",
      "                                 fetch cpuid_fault epb invpcid_single pti ssbd i\r\n",
      "                                 brs ibpb stibp tpr_shadow vnmi flexpriority ept\r\n",
      "                                  vpid ept_ad fsgsbase tsc_adjust bmi1 avx2 smep\r\n",
      "                                  bmi2 erms invpcid mpx rdseed adx smap clflusho\r\n",
      "                                 pt intel_pt xsaveopt xsavec xgetbv1 xsaves dthe\r\n",
      "                                 rm ida arat pln pts hwp hwp_notify hwp_act_wind\r\n",
      "                                 ow hwp_epp md_clear flush_l1d\r\n"
     ]
    }
   ],
   "source": [
    "!lscpu"
   ]
  },
  {
   "cell_type": "markdown",
   "id": "e55f34a3",
   "metadata": {},
   "source": [
    "# Service function declaration"
   ]
  },
  {
   "cell_type": "markdown",
   "id": "71935560",
   "metadata": {},
   "source": [
    "Uncomment if you are using Colab"
   ]
  },
  {
   "cell_type": "code",
   "execution_count": 4,
   "id": "e03a1434",
   "metadata": {
    "ExecuteTime": {
     "end_time": "2022-05-10T22:39:20.154056Z",
     "start_time": "2022-05-10T22:39:20.151282Z"
    }
   },
   "outputs": [],
   "source": [
    "# !pip install crowd-kit==1.0.0"
   ]
  },
  {
   "cell_type": "code",
   "execution_count": 5,
   "id": "9939078d",
   "metadata": {
    "ExecuteTime": {
     "end_time": "2022-05-10T22:39:22.605203Z",
     "start_time": "2022-05-10T22:39:20.738682Z"
    }
   },
   "outputs": [
    {
     "name": "stderr",
     "output_type": "stream",
     "text": [
      "2022-05-11 01:39:21.262070: W tensorflow/stream_executor/platform/default/dso_loader.cc:64] Could not load dynamic library 'libcudart.so.11.0'; dlerror: libcudart.so.11.0: cannot open shared object file: No such file or directory\n",
      "2022-05-11 01:39:21.262104: I tensorflow/stream_executor/cuda/cudart_stub.cc:29] Ignore above cudart dlerror if you do not have a GPU set up on your machine.\n"
     ]
    }
   ],
   "source": [
    "# Future Python versions compatibility\n",
    "from __future__ import division\n",
    "\n",
    "# Warnings Ignore\n",
    "import warnings\n",
    "warnings.filterwarnings(\"ignore\")\n",
    "\n",
    "# System libraries\n",
    "import os\n",
    "\n",
    "# Object libraries\n",
    "import pandas as pd\n",
    "import numpy as np\n",
    "import seaborn as sns\n",
    "\n",
    "# Iterable libraries\n",
    "import hashlib\n",
    "from typing import Iterable, Tuple, List, Dict, Set\n",
    "from functools import lru_cache\n",
    "from collections import Counter, defaultdict\n",
    "\n",
    "# Graphical libraries\n",
    "import matplotlib.pyplot as plt\n",
    "plt.style.use('ggplot')\n",
    "import IPython.display as ipd\n",
    "\n",
    "# Word preprocessing\n",
    "import nltk\n",
    "from crowdkit.aggregation import ROVER\n",
    "\n",
    "# Status Bar\n",
    "from tqdm.auto import tqdm"
   ]
  },
  {
   "cell_type": "markdown",
   "id": "cfa9a5e5",
   "metadata": {},
   "source": [
    "Uncomment if you are using Colab.  \n",
    "Audio files downloading"
   ]
  },
  {
   "cell_type": "code",
   "execution_count": 6,
   "id": "bbc7ab78",
   "metadata": {
    "ExecuteTime": {
     "end_time": "2022-05-10T22:39:22.622419Z",
     "start_time": "2022-05-10T22:39:22.619882Z"
    }
   },
   "outputs": [],
   "source": [
    "# %%bash\n",
    "# mkdir -p ./data/audio\n",
    "# wget -q https://raw.githubusercontent.com/vadim0912/MLIntro2022_Spring/main/lecture08/data/noisy_text_aggregation_test.jsonl -P data/\n",
    "# wget -q https://raw.githubusercontent.com/vadim0912/MLIntro2022_Spring/main/lecture08/data/noisy_text_aggregation_train.jsonl -P data/\n",
    "# wget -q https://raw.githubusercontent.com/vadim0912/MLIntro2022_Spring/main/lecture08/data/noisy_text_aggregation_text_only.csv -P data/\n",
    "\n",
    "# declare -a files=(\n",
    "#   \"98962310d56cd7095d9893f5ed657f81.wav\"\n",
    "#   \"3c2875271fb918da312865549d444653.wav\"\n",
    "#   \"b4f6a8d9e2eba8085d25d4122b52d55a.wav\"\n",
    "#   \"ed0f6706f75681a7915fec15d336aca5.wav\"\n",
    "#   \"f3dba379c6280536aaa65a56c4358268.wav\"\n",
    "# )\n",
    "\n",
    "# for file in \"${files[@]}\"; do\n",
    "#    wget -q https://raw.githubusercontent.com/vadim0912/MLIntro2022_Spring/main/lecture08/data/audio/$file -P data/audio\n",
    "# done"
   ]
  },
  {
   "cell_type": "markdown",
   "id": "e6e59615",
   "metadata": {},
   "source": [
    "# Problem Statement"
   ]
  },
  {
   "cell_type": "markdown",
   "id": "c1a39a5b",
   "metadata": {},
   "source": [
    "Дано:\n",
    "* три модели распознавания речи:\n",
    "    * `qnet`: [QuartzNet](https://arxiv.org/abs/1910.10261)\n",
    "    * `w2v`: [wav2vec XLS-R](https://arxiv.org/pdf/2111.09296.pdf)\n",
    "    * `w2v-tts`: тот же [wav2vec XLS-R](https://arxiv.org/pdf/2111.09296.pdf), но в дообучении использовались синтезированные (Text-To-Speech) данные\n",
    "   \n",
    "   \n",
    " * модели имеют разную структуру (QuartzNet — сверточная, wav2vec — Трансформер) и обучались на разных данных => из их предсказаний можно построить композицию, которая сильнее любого кандидата в отдельности\n",
    " * В тренировочном наборе данных ~ 60 тысяч примеров с референсной транскрипцией `text` (ground truth) и гипотезой каждой из моделей\n",
    " * В тестовом наборе данных ~ 20 тысяч примеров с гипотезами от каждой из моделей, но без референсной транскрипции (ее нужно предсказать)\n",
    " * Также доступен миллион референсных фраз из того же домена (запросы к ассистентам), но без предсказаний моделей\n",
    "\n",
    "Задача: улучшить распознавание речи с помощью:\n",
    " * агрегации транскрипций\n",
    " * выбора лучшей транскрипции\n",
    " * исправления ошибок в транскрипциях"
   ]
  },
  {
   "cell_type": "code",
   "execution_count": 7,
   "id": "7dcd29f9",
   "metadata": {
    "ExecuteTime": {
     "end_time": "2022-05-10T22:39:24.054356Z",
     "start_time": "2022-05-10T22:39:23.575285Z"
    }
   },
   "outputs": [
    {
     "data": {
      "text/html": [
       "<div>\n",
       "<style scoped>\n",
       "    .dataframe tbody tr th:only-of-type {\n",
       "        vertical-align: middle;\n",
       "    }\n",
       "\n",
       "    .dataframe tbody tr th {\n",
       "        vertical-align: top;\n",
       "    }\n",
       "\n",
       "    .dataframe thead th {\n",
       "        text-align: right;\n",
       "    }\n",
       "</style>\n",
       "<table border=\"1\" class=\"dataframe\">\n",
       "  <thead>\n",
       "    <tr style=\"text-align: right;\">\n",
       "      <th></th>\n",
       "      <th>task</th>\n",
       "      <th>text</th>\n",
       "      <th>qnet</th>\n",
       "      <th>w2v</th>\n",
       "      <th>w2v_tts</th>\n",
       "    </tr>\n",
       "  </thead>\n",
       "  <tbody>\n",
       "    <tr>\n",
       "      <th>0</th>\n",
       "      <td>ed0f6706f75681a7915fec15d336aca5</td>\n",
       "      <td>дамира николаевича</td>\n",
       "      <td>дамира николаевича</td>\n",
       "      <td>до мира николаевича</td>\n",
       "      <td>домера николаевича</td>\n",
       "    </tr>\n",
       "    <tr>\n",
       "      <th>1</th>\n",
       "      <td>3c2875271fb918da312865549d444653</td>\n",
       "      <td>антонине татариновой</td>\n",
       "      <td>онпанине то тариновый</td>\n",
       "      <td>антонине татариновый</td>\n",
       "      <td>антонини татариновый</td>\n",
       "    </tr>\n",
       "    <tr>\n",
       "      <th>2</th>\n",
       "      <td>f3dba379c6280536aaa65a56c4358268</td>\n",
       "      <td>жидкову</td>\n",
       "      <td>жит куву</td>\n",
       "      <td>жит куву</td>\n",
       "      <td>жидкову</td>\n",
       "    </tr>\n",
       "    <tr>\n",
       "      <th>3</th>\n",
       "      <td>98962310d56cd7095d9893f5ed657f81</td>\n",
       "      <td>главатских</td>\n",
       "      <td>лалаки</td>\n",
       "      <td>главатских</td>\n",
       "      <td>главацки</td>\n",
       "    </tr>\n",
       "    <tr>\n",
       "      <th>4</th>\n",
       "      <td>b4f6a8d9e2eba8085d25d4122b52d55a</td>\n",
       "      <td>мошкова</td>\n",
       "      <td>мошкова</td>\n",
       "      <td>машкова</td>\n",
       "      <td>мошкова</td>\n",
       "    </tr>\n",
       "  </tbody>\n",
       "</table>\n",
       "</div>"
      ],
      "text/plain": [
       "                               task                  text  \\\n",
       "0  ed0f6706f75681a7915fec15d336aca5    дамира николаевича   \n",
       "1  3c2875271fb918da312865549d444653  антонине татариновой   \n",
       "2  f3dba379c6280536aaa65a56c4358268               жидкову   \n",
       "3  98962310d56cd7095d9893f5ed657f81            главатских   \n",
       "4  b4f6a8d9e2eba8085d25d4122b52d55a               мошкова   \n",
       "\n",
       "                    qnet                   w2v               w2v_tts  \n",
       "0     дамира николаевича   до мира николаевича    домера николаевича  \n",
       "1  онпанине то тариновый  антонине татариновый  антонини татариновый  \n",
       "2               жит куву              жит куву               жидкову  \n",
       "3                 лалаки            главатских              главацки  \n",
       "4                мошкова               машкова               мошкова  "
      ]
     },
     "execution_count": 7,
     "metadata": {},
     "output_type": "execute_result"
    }
   ],
   "source": [
    "train_df = pd.read_json(\"data/noisy_text_aggregation_train.jsonl\", lines=True)\n",
    "train_df.head()"
   ]
  },
  {
   "cell_type": "code",
   "execution_count": 8,
   "id": "2b1f1c82",
   "metadata": {
    "ExecuteTime": {
     "end_time": "2022-05-10T22:39:24.618479Z",
     "start_time": "2022-05-10T22:39:24.610653Z"
    }
   },
   "outputs": [],
   "source": [
    "MODEL_LIST = [\"qnet\", \"w2v\", \"w2v_tts\"]"
   ]
  },
  {
   "cell_type": "code",
   "execution_count": 9,
   "id": "269062f3",
   "metadata": {
    "ExecuteTime": {
     "end_time": "2022-05-10T22:39:25.254499Z",
     "start_time": "2022-05-10T22:39:25.062322Z"
    }
   },
   "outputs": [
    {
     "data": {
      "text/html": [
       "<style  type=\"text/css\" >\n",
       "#T_f3b1b_row0_col0{\n",
       "            background-color:  #aaffaa;\n",
       "            width:  150px;\n",
       "        }#T_f3b1b_row0_col1,#T_f3b1b_row0_col2{\n",
       "            background-color:  #ffaaaa;\n",
       "            width:  150px;\n",
       "        }</style><table id=\"T_f3b1b_\" ><thead>    <tr>        <th class=\"blank level0\" ></th>        <th class=\"col_heading level0 col0\" >qnet</th>        <th class=\"col_heading level0 col1\" >w2v</th>        <th class=\"col_heading level0 col2\" >w2v_tts</th>    </tr></thead><tbody>\n",
       "                <tr>\n",
       "                        <th id=\"T_f3b1b_level0_row0\" class=\"row_heading level0 row0\" >0</th>\n",
       "                        <td id=\"T_f3b1b_row0_col0\" class=\"data row0 col0\" >дамира николаевича</td>\n",
       "                        <td id=\"T_f3b1b_row0_col1\" class=\"data row0 col1\" >до мира николаевича</td>\n",
       "                        <td id=\"T_f3b1b_row0_col2\" class=\"data row0 col2\" >домера николаевича</td>\n",
       "            </tr>\n",
       "    </tbody></table>"
      ],
      "text/plain": [
       "<pandas.io.formats.style.Styler at 0x7f277fe41e20>"
      ]
     },
     "metadata": {},
     "output_type": "display_data"
    },
    {
     "data": {
      "text/html": [
       "\n",
       "                <audio  controls=\"controls\" >\n",
       "                    <source src=\"data:audio/x-wav;base64,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\" type=\"audio/x-wav\" />\n",
       "                    Your browser does not support the audio element.\n",
       "                </audio>\n",
       "              "
      ],
      "text/plain": [
       "<IPython.lib.display.Audio object>"
      ]
     },
     "metadata": {},
     "output_type": "display_data"
    },
    {
     "data": {
      "text/html": [
       "<style  type=\"text/css\" >\n",
       "#T_0a4e6_row0_col0,#T_0a4e6_row0_col1,#T_0a4e6_row0_col2{\n",
       "            background-color:  #ffaaaa;\n",
       "            width:  150px;\n",
       "        }</style><table id=\"T_0a4e6_\" ><thead>    <tr>        <th class=\"blank level0\" ></th>        <th class=\"col_heading level0 col0\" >qnet</th>        <th class=\"col_heading level0 col1\" >w2v</th>        <th class=\"col_heading level0 col2\" >w2v_tts</th>    </tr></thead><tbody>\n",
       "                <tr>\n",
       "                        <th id=\"T_0a4e6_level0_row0\" class=\"row_heading level0 row0\" >1</th>\n",
       "                        <td id=\"T_0a4e6_row0_col0\" class=\"data row0 col0\" >онпанине то тариновый</td>\n",
       "                        <td id=\"T_0a4e6_row0_col1\" class=\"data row0 col1\" >антонине татариновый</td>\n",
       "                        <td id=\"T_0a4e6_row0_col2\" class=\"data row0 col2\" >антонини татариновый</td>\n",
       "            </tr>\n",
       "    </tbody></table>"
      ],
      "text/plain": [
       "<pandas.io.formats.style.Styler at 0x7f27315cf2e0>"
      ]
     },
     "metadata": {},
     "output_type": "display_data"
    },
    {
     "data": {
      "text/html": [
       "\n",
       "                <audio  controls=\"controls\" >\n",
       "                    <source src=\"data:audio/x-wav;base64,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\" type=\"audio/x-wav\" />\n",
       "                    Your browser does not support the audio element.\n",
       "                </audio>\n",
       "              "
      ],
      "text/plain": [
       "<IPython.lib.display.Audio object>"
      ]
     },
     "metadata": {},
     "output_type": "display_data"
    },
    {
     "data": {
      "text/html": [
       "<style  type=\"text/css\" >\n",
       "#T_9be54_row0_col0,#T_9be54_row0_col1{\n",
       "            background-color:  #ffaaaa;\n",
       "            width:  150px;\n",
       "        }#T_9be54_row0_col2{\n",
       "            background-color:  #aaffaa;\n",
       "            width:  150px;\n",
       "        }</style><table id=\"T_9be54_\" ><thead>    <tr>        <th class=\"blank level0\" ></th>        <th class=\"col_heading level0 col0\" >qnet</th>        <th class=\"col_heading level0 col1\" >w2v</th>        <th class=\"col_heading level0 col2\" >w2v_tts</th>    </tr></thead><tbody>\n",
       "                <tr>\n",
       "                        <th id=\"T_9be54_level0_row0\" class=\"row_heading level0 row0\" >2</th>\n",
       "                        <td id=\"T_9be54_row0_col0\" class=\"data row0 col0\" >жит куву</td>\n",
       "                        <td id=\"T_9be54_row0_col1\" class=\"data row0 col1\" >жит куву</td>\n",
       "                        <td id=\"T_9be54_row0_col2\" class=\"data row0 col2\" >жидкову</td>\n",
       "            </tr>\n",
       "    </tbody></table>"
      ],
      "text/plain": [
       "<pandas.io.formats.style.Styler at 0x7f2731882760>"
      ]
     },
     "metadata": {},
     "output_type": "display_data"
    },
    {
     "data": {
      "text/html": [
       "\n",
       "                <audio  controls=\"controls\" >\n",
       "                    <source src=\"data:audio/x-wav;base64,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\" type=\"audio/x-wav\" />\n",
       "                    Your browser does not support the audio element.\n",
       "                </audio>\n",
       "              "
      ],
      "text/plain": [
       "<IPython.lib.display.Audio object>"
      ]
     },
     "metadata": {},
     "output_type": "display_data"
    },
    {
     "data": {
      "text/html": [
       "<style  type=\"text/css\" >\n",
       "#T_a3c83_row0_col0,#T_a3c83_row0_col2{\n",
       "            background-color:  #ffaaaa;\n",
       "            width:  150px;\n",
       "        }#T_a3c83_row0_col1{\n",
       "            background-color:  #aaffaa;\n",
       "            width:  150px;\n",
       "        }</style><table id=\"T_a3c83_\" ><thead>    <tr>        <th class=\"blank level0\" ></th>        <th class=\"col_heading level0 col0\" >qnet</th>        <th class=\"col_heading level0 col1\" >w2v</th>        <th class=\"col_heading level0 col2\" >w2v_tts</th>    </tr></thead><tbody>\n",
       "                <tr>\n",
       "                        <th id=\"T_a3c83_level0_row0\" class=\"row_heading level0 row0\" >3</th>\n",
       "                        <td id=\"T_a3c83_row0_col0\" class=\"data row0 col0\" >лалаки</td>\n",
       "                        <td id=\"T_a3c83_row0_col1\" class=\"data row0 col1\" >главатских</td>\n",
       "                        <td id=\"T_a3c83_row0_col2\" class=\"data row0 col2\" >главацки</td>\n",
       "            </tr>\n",
       "    </tbody></table>"
      ],
      "text/plain": [
       "<pandas.io.formats.style.Styler at 0x7f27315cf310>"
      ]
     },
     "metadata": {},
     "output_type": "display_data"
    },
    {
     "data": {
      "text/html": [
       "\n",
       "                <audio  controls=\"controls\" >\n",
       "                    <source src=\"data:audio/x-wav;base64,UklGRiQnAQBXQVZFZm10IBAAAAABAAEAgD4AAAB9AAACABAAZGF0YQAnAQAAAAAAAAAAAAAAAAAAAAAAAAAAAAAAAAAAAAAAAAAAAAAAAAAAAAAAAAAAAAAAAAAAAAAAAAAAAAAAAAAAAAAAAAAAAAAAAAAAAAAAAAAAAAAAAAAAAAAAAAAAAAAAAAAAAAAAAAAAAAAAAAAAAAAAAAAAAAAAAAAAAAAAAAAAAAAAAAAAAAAAAAAAAAAAAAAAAAAAAAAAAAAAAAAAAAAAAAAAAAAAAAAAAAAAAAAAAAAAAAAAAAAAAAAAAAAAAAAAAAAAAAAAAAAAAAAAAAAAAAAAAAAAAAAAAAAAAAAAAAAAAAAAAAAAAAAAAAAAAAAAAAAAAAAAAAAAAAAAAAAAAAAAAAAAAAAAAAAAAAAAAAAAAAAAAAAAAAAAAAAAAAAAAAAAAAAAAAAAAAAAAAAAAAAAAAAAAAAAAAAAAAAAAAAAAAAAAAAAAAAAAAAAAAAAAAAAAAAAAAAAAAAAAAAAAAAAAAAAAAAAAAAAAAAAAAAAAAAAAAAAAAAAAAAAAAAAAAAAAAAAAAAAAAAAAAAAAAAAAAAAAAAAAAAAAAAAAAAAAAAAAAAAAAAAAAAAAAAAAAAAAAAAAAAAAAAAAAAAAAAAAAAAAAAAAAAAAAAAAAAAAAAAAAAAAAAAAAAAAAAAAAAAAAAAAAAAAAAAAAAAAAAAAAAAAAAAAAAAAAAAAAAAAAAAAAAAAAAAAAAAAAAAAAAAAAAAAAAAAAAAAAAAAAAAAAAAAAAAAAAAAAAAAAAAAAAAAAAAAAAAAAAAAAAAAAAAAAAAAAAAAAAAAAAAAAAAAAAAAAAAAAAAAAAAAAAAAAAAAAAAAAAAAAAAAAAAAAAAAAAAAAAAAAAAAAAAAAAAAAAAAAAAAAAAAAAAAAAAAAAAAAAAAAAAAAAAAAAAAAAAAAAAAAAAAAAAAAAAAAAAAAAAAAAAAAAAAAAAAAAAAAAAAAAAAAAAAAAAAAAAAAAAAAAAAAAAAAAAAAAAAAAAAAAAAAAAAAAAAAAAAAAAAAAAAAAAAAAAAAAAAAAAAAAAAAAAAAAAAAAAAAAAAAAAAAAAAAAAAAAAAAAAAAAAAAAAAAAAAAAAAAAAAAAAAAAAAAAAAAAAAAAAAAAAAAAAAAAAAAAAAAAAAAAAAAAAAAAAAAAAAAAAAAAAAAAAAAAAAAAAAAAAAAAAAAAAAAAAAAAAAAAAAAAAAAAAAAAAAAAAAAAAAAAAAAAAAAAAAAAAAAAAAAAAAAAAAAAAAAAAAAAAAAAAAAAAAAAAAAAAAAAAAAAAAAAAAAAAAAAAAAAAAAAAAAAAAAAAAAAAAAAAAAAAAAAAAAAAAAAAAAAAAAAAAAAAAAAAAAAAAAAAAAAAAAAAAAAAAAAAAAAAAAAAAAAAAAAAAAAAAAAAAAAAAAAAAAAAAAAAAAAAAAAAAAAAAAAAAAAAAAAAAAAAAAAAAAAAAAAAAAAAAAAAAAAAAAAAAAAAAAAAAAAAAAAAAAAAAAAAAAAAAAAAAAAAAAAAAAAAAAAAAAAAAAAAAAAAAAAAAAAAAAAAAAAAAAAAAAAAAAAAAAAAAAAAAAAAAAAAAAAAAAAAAAAAAAAAAAAAAAAAAAAAAAAAAAAAAAAAAAAAAAAAAAAAAAAAAAAAAAAAAAAAAAAAAAAAAAAAAAAAAAAAAAAAAAAAAAAAAAAAAAAAAAAAAAAAAAAAAAAAAAAAAAAAAAAAAAAAAAAAAAAAAAAAAAAAAAAAAAAAAAAAAAAAAAAAAAAAAAAAAAAAAAAAAAAAAAAAAAAAAAAAAAAAAAAAAAAAAAAAAAAAAAAAAAAAAAAAAAAAAAAAAAAAAAAAAAAAAAAAAAAAAAAAAAAAAAAAAAAAAAAAAAAAAAAAAAAAAAAAAAAAAAAAAAAAAAAAAAAAAAAAAAAAAAAAAAAAAAAAAAAAAAAAAAAAAAAAAAAAAAAAAAAAAAAAAAAAAAAAAAAAAAAAAAAAAAAAAAAAAAAAAAAAAAAAAAAAAAAAAAAAAAAAAAAAAAAAAAAAAAAAAAAAAAAAAAAAAAAAAAAAAAAAAAAAAAAAAAAAAAAAAAAAAAAAAAAAAAAAAAAAAAAAAAAAAAAAAAAAAAAAAAAAAAAAAAAAAAAAAAAAAAAAAAAAAAAAAAAAAAAAAAAAAAAAAAAAAAAAAAAAAAAAAAAAAAAAAAAAAAAAAAAAAAAAAAAAAAAAAAAAAAAAAAAAAAAAAAAAAAAAAAAAAAAAAAAAAAAAAAAAAAAAAAAAAAAAAAAAAAAAAAAAAAAAAAAAAAAAAAAAAAAAAAAAAAAAAAAAAAAAAAAAAAAAAAAAAAAAAAAAAAAAAAAAAAAAAAAAAAAAAAAAAAAAAAAAAAAAAAAAAAAAAAAAAAAAAAAAAAAAAAAAAAAAAAAAAAAAAAAAAAAAAAAAAAAAAAAAAAAAAAAAAAAAAAAAAAAAAAAAAAAAAAAAAAAAAAAAAAAAAAAAAAAAAAAAAAAAAAAAAAAAAAAAAAAAAAAAAAAAAAAAAAAAAAAAAAAAAAAAAAAAAAAAAAAAAAAAAAAAAAAAAAAAAAAAAAAAAAAAAAAAAAAAAAAAAAAAAAAAAAAAAAAAAAAAAAAAAAAAAAAAAAAAAAAAAAAAAAAAAAAAAAAAAAAAAAAAAAAAAAAAAAAAAAAAAAAAAAAAAAAAAAAAAAAAAAAAAAAAAAAAAAAAAAAAAAAAAAAAAAAAAAAAAAAAAAAAAAAAAAAAAAAAAAAAAAAAAAAAAAAAAAAAAAAAAAAAAAAAAAAAAAAAAAAAAAAAAAAAAAAAAAAAAAAAAAAAAAAAAAAAAAAAAAAAAAAAAAAAAAAAAAAAAAAAAAAAAAAAAAAAAAAAAAAAAAAAAAAAAAAAAAAAAAAAAAAAAAAAAAAAAAAAAAAAAAAAAAAAAAAAAAAAAAAAAAAAAAAAAAAAAAAAAAAAAAAAAAAAAAAAAAAAAAAAAAAAAAAAAAAAAAAAAAAAAAAAAAAAAAAAAAAAAAAAAAAAAAAAAAAAAAAAAAAAAAAAAAAAAAAAAAAAAAAAAAAAAAAAAAAAAAAAAAAAAAAAAAAAAAAAAAAAAAAAAAAAAAAAAAAAAAAAAAAAAAAAAAAAAAAAAAAAAAAAAAAAAAAAAAAAAAAAAAAAAAAAAAAAAAAAAAAAAAAAAAAAAAAAAAAAAAAAAAAAAAAAAAAAAAAAAAAAAAAAAAAAAAAAAAAAAAAAAAAAAAAAAAAAAAAAAAAAAAAAAAAAAAAAAAAAAAAAAAAAAAAAAAAAAAAAAAAAAAAAAAAAAAAAAAAAAAAAAAAAAAAAAAAAAAAAAAAAAAAAAAAAAAAAAAAAAAAAAAAAAAAAAAAAAAAAAAAAAAAAAAAAAAAAAAAAAAAAAAAAAAAAAAAAAAAAAAAAAAAAAAAAAAAAAAAAAAAAAAAAAAAAAAAAAAAAAAAAAAAAAAAAAAAAAAAAAAAAAAAAAAAAAAAAAAAAAAAAAAAAAAAAAAAAAAAAAAAAAAAAAAAAAAAAAAAAAAAAAAAAAAAAAAAAAAAAAAAAAAAAAAAAAAAAAAAAAAAAAAAAAAAAAAAAAAAAAAAAAAAAAAAAAAAAAAAAAAAAAAAAAAAAAAAAAAAAAAAAAAAAAAAAAAAAAAAAAAAAAAAAAAAAAAAAAAAAAAAAAAAAAAAAAAAAAAAAAAAAAAAAAAAAAAAAAAAAAAAAAAAAAAAAAAAAAAAAAAAAAAAAAAAAAAAAAAAAAAAAAAAAAAAAAAAAAAAAAAAAAAAAAAAAAAAAAAAAAAAAAAAAAAAAAAAAAAAAAAAAAAAAAAAAAAAAAAAAAAAAAAAAAAAAAAAAAAAAAAAAAAAAAAAAAAAAAAAAAAAAAAAAAAAAAAAAAAAAAAAAAAAAAAAAAAAAAAAAAAAAAAAAAAAAAAAAAAAAAAAAAAAAAAAAAAAAAAAAAAAAAAAAAAAAAAAAAAAAAAAAAAAAAAAAAAAAAAAAAAAAAAAAAAAAAAAAAAAAAAAAAAAAAAAAAAAAAAAAAAAAAAAAAAAAAAAAAAAAAAAAAAAAAAAAAAAAAAAAAAAAAAAAAAAAAAAAAAAAAAAAAAAAAAAAAAAAAAAAAAAAAAAAAAAAAAAAAAAAAAAAAAAAAAAAAAAAAAAAAAAAAAAAAAAAAAAAAAAAAAAAAAAAAAAAAAAAAAAAAAAAAAAAAAAAAAAAAAAAAAAAAAAAAAAAAAAAAAAAAAAAAAAAAAAAAAAAAAAAAAAAAAAAAAAAAAAAAAAAAAAAAAAAAAAAAAAAAAAAAAAAAAAAAAAAAAAAAAAAAAAAAAAAAAAAAAAAAAAAAAAAAAAAAAAAAAAAAAAAAAAAAAAAAAAAAAAAAAAAAAAAAAAAAAAAAAAAAAAAAAAAAAAAAAAAAAAAAAAAAAAAAAAAAAAAAAAAAAAAAAAAAAAAAAAAAAAAAAAAAAAAAAAAAAAAAAAAAAAAAAAAAAAAAAAAAAAAAAAAAAAAAAAAAAAAAAAAAAAAAAAAAAAAAAAAAAAAAAAAAAAAAAAAAAAAAAAAAAAAAAAAAAAAAAAAAAAAAAAAAAAAAAAAAAAAAAAAAAAAAAAAAAAAAAAAAAAAAAAAAAAAAAAAAAAAAAAAAAAAAAAAAAAAAAAAAAAAAAAAAAAAAAAAAAAAAAAAAAAAAAAAAAAAAAAAAAAAAAAAAAAAAAAAAAAAAAAAAAAAAAAAAAAAAAAAAAAAAAAAAAAAAAAAAAAAAAAAAAAAAAAAAAAAAAAAAAAAAAAAAAAAAAAAAAAAAAAAAAAAAAAAAAAAAAAAAAAAAAAAAAAAAAAAAAAAAAAAAAAAAAAAAAAAAAAAAAAAAAAAAAAAAAAAAAAAAAAAAAAAAAAAAAAAAAAAAAAAAAAAAAAAAAAAAAAAAAAAAAAAAAAAAAAAAAAAAAAAAAAAAAAAAAAAAAAAAAAAAAAAAAAAAAAAAAAAAAAAAAAAAAAAAAAAAAAAAAAAAAAAAAAAAAAAAAAAAAAAAAAAAAAAAAAAAAAAAAAAAAAAAAAAAAAAAAAAAAAAAAAAAAAAAAAAAAAAAAAAAAAAAAAAAAAAAAAAAAAAAAAAAAAAAAAAAAAAAAAAAAAAAAAAAAAAAAAAAAAAAAAAAAAAAAAAAAAAAAAAAAAAAAAAAAAAAAAAAAAAAAAAAAAAAAAAAAAAAAAAAAAAAAAAAAAAAAAAAAAAAAAAAAAAAAAAAAAAAAAAAAAAAAAAAAAAAAAAAAAAAAAAAAAAAAAAAAAAAAAAAAAAAAAAAAAAAAAAAAAAAAAAAAAAAAAAAAAAAAAAAAAAAAAAAAAAAAAAAAAAAAAAAAAAAAAAAAAAAAAAAAAAAAAAAAAAAAAAAAAAAAAAAAAAAAAAAAAAAAAAAAAAAAAAAAAAAAAAAAAAAAAAAAAAAAAAAAAAAAAAAAAAAAAAAAAAAAAAAAAAAAAAAAAAAAAAAAAAAAAAAAAAAAAAAAAAAAAAAAAAAAAAAAAAAAAAAAAAAAAAAAAAAAAAAAAAAAAAAAAAAAAAAAAAAAAAAAAAAAAAAAAAAAAAAAAAAAAAAAAAAAAAAAAAAAAAAAAAAAAAAAAAAAAAAAAAAAAAAAAAAAAAAAAAAAAAAAAAAAAAAAAAAAAAAAAAAAAAAAAAAAAAAAAAAAAAAAAAAAAAAAAAAAAAAAAAAAAAAAAAAAAAAAAAAAAAAAAAAAAAAAAAAAAAAAAAAAAAAAAAAAAAAAAAAAAAAAAAAAAAAAAAAAAAAAAAAAAAAAAAAAAAAAAAAAAAAAAAAAAAAAAAAAAAAAAAAAAAAAAAAAAAAAAAAAAAAAAAAAAAAAAAAAAAAAAAAAAAAAAAAAAAAAAAAAAAAAAAAAAAAAAAAAAAAAAAAAAAAAAAAAAAAAAAAAAAAAAAAAAAAAAAAAAAAAAAAAAAAAAAAAAAAAAAAAAAAAAAAAAAAAAAAAAAAAAAAAAAAAAAAAAAAAAAAAAAAAAAAAAAAAAAAAAAAAAAAAAAAAAAAAAAAAAAAAAAAAAAAAAAAAAAAAAAAAAAAAAAAAAAAAAAAAAAAAAAAAAAAAAAAAAAAAAAAAAAAAAAAAAAAAAAAAAAAAAAAAAAAAAAAAAAAAAAAAAAAAAAAAAAAAAAAAAAAAAAAAAAAAAAAAAAAAAAAAAAAAAAAAAAAAAAAAAAAAAAAAAAAAAAAAAAAAAAAAAAAAAAAAAAAAAAAAAAAAAAAAAAAAAAAAAAAAAAAAAAAAAAAAAAAAAAAAAAAAAAAAAAAAAAAAAAAAAAAAAAAAAAAAAAAAAAAAAAAAAAAAAAAAAAAAAAAAAAAAAAAAAAAAAAAAAAAAAAAAAAAAAAAAAAAAAAAAAAAAAAAAAAAAAAAAAAAAAAAAAAAAAAAAAAAAAAAAAAAAAAAAAAAAAAAAAAAAAAAAAAAAAAAAAAAAAAAAAAAAAAAAAAAAAAAAAAAAAAAAAAAAAAAAAAAAAAAAAAAAAAAAAAAAAAAAAAAAAAAAAAAAAAAAAAAAAAAAAAAAAAAAAAAAAAAAAAAAAAAAAAAAAAAAAAAAAAAAAAAAAAAAAAAAAAAAAAAAAAAAAAAAAAAAAAAAAAAAAAAAAAAAAAAAAAAAAAAAAAAAAAAAAAAAAAAAAAAAAAAAAAAAAAAAAAAAAAAAAAAAAAAAAAAAAAAAAAAAAAAAAAAAAAAAAAAAAAAAAAAAAAAAAAAAAAAAAAAAAAAAAAAAAAAAAAAAAAAAAAAAAAAAAAAAAAAAAAAAAAAAAAAAAAAAAAAAAAAAAAAAAAAAAAAAAAAAAAAAAAAAAAAAAAAAAAAAAAAAAAAAAAAAAAAAAAAAAAAAAAAAAAAAAAAAAAAAAAAAAAAAAAAAAAAAAAAAAAAAAAAAAAAAAAAAAAAAAAAAAAAAAAAAAAAAAAAAAAAAAAAAAAAAAAAAAAAAAAAAAAAAAAAAAAAAAAAAAAAAAAAAAAAAAAAAAAAAAAAAAAAAAAAAAAAAAAAAAAAAAAAAAAAAAAAAAAAAAAAAAAAAAAAAAAAAAAAAAAAAAAAAAAAAAAAAAAAAAAAAAAAAAAAAAAAAAAAAAAAAAAAAAAAAAAAAAAAAAAAAAAAAAAAAAAAAAAAAAAAAAAAAAAAAAAAAAAAAAAAAAAAAAAAAAAAAAAAAAAAAAAAAAAAAAAAAAAAAAAAAAAAAAAAAAAAAAAAAAAAAAAAAAAAAAAAAAAAAAAAAAAAAAAAAAAAAAAAAAAAAAAAAAAAAAAAAAAAAAAAAAAAAAAAAAAAAAAAAAAAAAAAAAAAAAAAAAAAAAAAAAAAAAAAAAAAAAAAAAAAAAAAAAAAAAAAAAAAAAAAAAAAAAAAAAAAAAAAAAAAAAAAAAAAAAAAAAAAAAAAAAAAAAAAAAAAAAAAAAAAAAAAAAAAAAAAAAAAAAAAAAAAAAAAAAAAAAAAAAAAAAAAAAAAAAAAAAAAAAAAAAAAAAAAAAAAAAAAAAAAAAAAAAAAAAAAAAAAAAAAAAAAAAAAAAAAAAAAAAAAAAAAAAAAAAAAAAAAAAAAAAAAAAAAAAAAAAAAAAAAAAAAAAAAAAAAAAAAAAAAAAAAAAAAAAAAAAAAAAAAAAAAAAAAAAAAAAAAAAAAAAAAAAAAAAAAAAAAAAAAAAAAAAAAAAAAAAAAAAAAAAAAAAAAAAAAAAAAAAAAAAAAAAAAAAAAAAAAAAAAAAAAAAAAAAAAAAAAAAAAAAAAAAAAAAAAAAAAAAAAAAAAAAAAAAAAAAAAAAAAAAAAAAAAAAAAAAAAAAAAAAAAAAAAAAAAAAAAAAAAAAAAAAAAAAAAAAAAAAAAAAAAAAAAAAAAAAAAAAAAAAAAAAAAAAAAAAAAAAAAAAAAAAAAAAAAAAAAAAAAAAAAAAAAAAAAAAAAAAAAAAAAAAAAAAAAAAAAAAAAAAAAAAAAAAAAAAAAAAAAAAAAAAAAAAAAAAAAAAAAAAAAAAAAAAAAAAAAAAAAAAAAAAAAAAAAAAAAAAAAAAAAAAAAAAAAAAAAAAAAAAAAAAAAAAAAAAAAAAAAAAAAAAAAAAAAAAAAAAAAAAAAAAAAAAAAAAAAAAAAAAAAAAAAAAAAAAAAAAAAAAAAAAAAAAAAAAAAAAAAAAAAAAAAAAAAAAAAAAAAAAAAAAAAAAAAAAAAAAAAAAAAAAAAAAAAAAAAAAAAAAAAAAAAAAAAAAAAAAAAAAAAAAAAAAAAAAAAAAAAAAAAAAAAAAAAAAAAAAAAAAAAAAAAAAAAAAAAAAAAAAAAAAAAAAAAAAAAAAAAAAAAAAAAAAAAAAAAAAAAAAAAAAAAAAAAAAAAAAAAAAAAAAAAAAAAAAAAAAAAAAAAAAAAAAAAAAAAAAAAAAAAAAAAAAAAAAAAAAAAAAAAAAAAAAAAAAAAAAAAAAAAAAAAAAAAAAAAAAAAAAAAAAAAAAAAAAAAAAAAAAAAAAAAAAAAAAAAAAAAAAAAAAAAAAAAAAAAAAAAAAAAAAAAAAAAAAAAAAAAAAAAAAAAAAAAAAAAAAAAAAAAAAAAAAAAAAAAAAAAAAAAAAAAAAAAAAAAAAAAAAAAAAAAAAAAAAAAAAAAAAAAAAAAAAAAAAAAAAAAAAAAAAAAAAAAAAAAAAAAAAAAAAAAAAAAAAAAAAAAP///v/8////BgAIAAEA+/8OAPf/+f8jAOj/HQAYAO3/JAD+/wwADwAQAAEAGgDp/+n/DADK/wAA4v/P//T/1f/b//v/1f8FAAUA7/8HABQAAAAIABsAAgA1ABYAEABCAB0AJQAnAAIAHQAbAAoAHgASAPP/IwDs/wMA/P/s/+//8//c/+j/8P/M//P/4v/e//b//f/I/xMAw/8JAOj/9/8HAOf/DQANAPr/AAAnAPf/MgAAAAgA9/8SAOf/HADw/w8AEwDx/wQAFgAHABwAIwD3/zgABAAJABwA/f8LABwAzP8zANb/6v8TAN//9v/9/+n/9f8MAM//FADt//T/CADn/+f/BQDX/+b/EADC/y4A6v8eABsAFgAKABoABQAUADYA5/87AAIA/v8OAAEA6/8iANX/HADS/wUA4f/3/9T/CQD3/+T/AQDe//T/4//7/93/GgDZ/y4A7v8jABAANQAAAC0ABwAXAAIADAD4/wUA8f8DAAsA0P8jAN3/AgDo//z/4//7/87/9P/e/+X/8//l/8v/BgDa/+v//f/5/w4AEQALABsAGAAdACEABwAyACcAJAASACcA/f8WAAUAAAD6/wMA9f/z/+z//P/x//D/+f/7/+r/EADt/wkACwADABMAIAAPAAgACwD2/w0A8f8ZAPb/EAD//wsA2P8NAOL//f/u/wAA2P8CAPL/5P/5/+v/CwDc//L/4/8EANj/DgDX/xQA5v8hAPT/EgAGAB4A9/8UABQACQAXAPX/JgDx/ycA+f8gAPT/KQDw/ygA6f8dAPf/DwD0//X/+v/l//P/4P/6/8b/FQDV/w8A9v8AAPf/EgD0/xsABwAXABgA9v8JABcA/P8EAAYA4/8YAOP/CgADAPr/FwDt//v/BQDt//7/6P/x//T/6v/w//X/0v/9/+b/7v/k/+v/5P/q/+z/8P/5//r/CgDk/woA/P/z//n/EgAAABwADQAnAPP/IQALAAsABgD8//z/8/8FAP3/AAADABwA5v8bAAUAFwD//yoA8f8TAAAADAAHAP3/9f/2//X/5//x/9H/BADK//7/2v/0/+7/+P8BAPr/AgAcAAsACQAVAAAAGwAKABIAGAAdACQADQD9/wkADgAEAAAA9v/u//P/3f/d/9v/6//x/+L/6v/o/9n/8//m/+r/8v/i/wAA+P/4/w0A8/8UAAkABwAjAA4AGwAiAAsAGQAaAAcAFwDy/w4ACwDt/+3/8P/2//f/8P/s/+r/7v/p/+3/2//s/+v/3v/2//P//v8FAP//AAAQAAkAMAALADcAGAAlABYAHgAcABIAFgACABIA5f8IAO3/7//2/+7/7v8CAOv/AwDR/wMA8P/4//X/DQD8/xUADQAIABUABQAnAPD/GAADACQA6/8ZAN7/DgDm//L/+v/j/wAA6f/t/+j/AADz/xEA6/8RAPL/+//3//3/8/8HAAEA/v/w//j/AgDy/wwA5v8SAAUAFgANABgAIAAnABgAFwAhAP7/KAD4/xsAAwAgAA8AGwD5/wgAAwDw/wYA7/8EAPX/CgDj/xEA5f8DAOL/7P/t//P/2//4/9b/5//7/9f/AQDx/wcAAwAXAPL/GAAEABUAEAAJAAgAEAAEAAMA+f/+/xMA8/8MAAoA//8KAAkACAAFABQADgD4//3/CwAAAAYA9/8DAPT/8//z/+D/9P/z//f//v8AAOj/EwDk/wEA7f///wkAEgAGABwA+f8RAB0A6f8gAOr/DQACAPT/6v8MAOn/CQDk//D/9//o/+L/3P/p/+H/7f/x/+j/9//1/9//BgDf/w4A9//y////CAAEAA8A7////wMA//8BAAEA/v8HAAoABAARAPz/DQAOAPr/8P8JAOX/AQD2/wAADgADAPH/DgDy/xwADQAGABwACgAQABMADwAJACIACgAsAAQAEAAHACEAAQAWAAAAEAAOAAMA/P/4/wkA8v8LANr/8//f/9//5P/w/9P/9P/c/+H/8//j//f/7v/y/wQACAD1/w4A+v8LAAwABAAVAA0A+/8MAAEAAQAVAO//AQD8/wgAAAAAABQA//8FAPT/+f///+P/7P/s/9j/+v/c/+T/AQDp//3/BwDp/xcAAgAEABoABwAmAAwAFgAIAAUADwASAAEA9v8GAOf/9P///+j///8FAPf/AgADAPv/AwD0/wIACgD6/wYAAQDz//7/BwD1/wAA///1/wcA8//5//b/+P/7/wEA8P8CAPL/9f8aAPH/BwADAP3/8/8AAPD/CQD2////+/8BAPz/AADy/+L//f/r/wQA8f/4/wIAAwAHAAsA/P8dAAAABwD+/wkACAAGAAgA+v8HAAMA+f/4//H///8DAPb/EAD6/wgAEQAGABAAFAAPABMABgAJAAwAEAD6/wsA9f8DAAMAAAABAPn/+P8DAP//9v/+/+///f/r/+//8v/8/+7/9P/j/wYA+P/0//r/6v8GAPv//////+7//////+f/DwAIAPv/DQD2/wUADAAOAAkAAgAWAAsACQAJAAkAAwALAAUA9v/5//f/+f/t//r/9P/j//n/5////97/CwD//wAAIQD3/x8ADwAOAPv/CwACAAIA8v8CAPn/+f/4/+v/+f/h//3/7f/u//7/+//4/wkA+//9/wMAAwD4//n/+/8IAAUA8f/9/wIA/////wAA/////wEA+v/2/wcACgDx//b/AwDu/wkA5P8SAPf///8OAAEADAAKABQACAAVAPn/DAALAA0A/v8pAAsAFQARAPr/BwAFAAIABQALAPr/BgD3//P/7//t//L/+P/g/+7/6v/w//L/+P/2//v/AwDu////DwAEAAYADgD6/xgA+//+////7v8EAAQABQAOAPz/CAD4//r//f8PABgA//8MAOz/DQDl/wIABQD2/xsACQAKABoABgAJAAwA/P8aAAkAAAABAPn/8v/3//f/7//9/+f/4//t/9v/6v/q/+v/9v/n/+3/AgDq//3/AwAAAAQABQDq////AgDs/wQA//8FAPr/9P8GAAQAAwAUAAYAFAAUAAEAEQACAAYAEwD7/xMAAQAEAAAA+P/3//H//f/1//7/BAD4/+r/BgD1//b////y//n/7//5/wQA/P8YAPv/EAASAAQAFwAHABUACQAFAAYABgAEAPv/+v/9/9f//f/r/+r/8f/3/wAA9v/8/xIACwAHABEAAwAVAA4ADwD3/wYA+P8OAOL/AQD0/+v/6//j//3/6/8EAOf/CADo//T/7P8IAPn/AAASAPf/KgD4/wIAEAAHAAkADgAAACYAEwATAAcADwAgAAYABwD//xMAAAAIAAkA9v/4/wIA+P/s/+v/DwD0/w0A5v8SAOH//P/v////DADo/yEA1v8mAOL/DgD2/w4ADwDr/ysA5f8RAPr/7P/w//P/5v/a//f/4v///8//EgDi/wwAEQDm/yQA+P89AN7/MgAkAAQAQwDw/yUAJwAHAA4A4P8mAOv/+//q/9X/EwDk//v/0v8MAPL/7f/d/wQA+f/g/x4Awv8QAAcA+//d/xMA+f/T/ycA1P8RANn/HQDQ/x0ADgDj/zsA3/8jAPz/9/8DABMA1v8fAP3/5v8zAOr/AgAMAP3/9f/x/w8Ayv8LAO3/CAAZAOH/HADo/wgA9P8fAM//FwAMALj/PgDi/wUACwARAO3/CAAVAO//CwD0/xoA4/8PAOH/DQDi/wUADwDv/zsA1f/y/xIABQDN/zQA5f/5/ywAx//9/9P/FwDu//f/EACo/0AAvP/d/zAAwP9qANX/JAAmADYAMAAoAGoAvf+UAMv/FABHAMb/MAD3/9X/zP8EALz/6v/H/+//6f/r/+T/8f8BAPD/HwDS//z////K/w8A7P/y/wkA9f8gAND/KgDX/xgA9P/x/x8ACwAZAO7/LwDh/0wA5v8DADgA+/8bANn/HAD///7/HADL/ywA+f8DAOv//P8QAMr/EwDS/wsA6f/7/xcAy/8HAAwA5P8hACEA2f8cAOj/DQAQAPX/LQDo/xYA5v/l/wIA8v/y/+z/+//k/+H/AgD9/9n/OgDe/xsAOgDD/xgA9/8JAAgAJQDz/yoA1v8IABsA4P85AOL/FQD4/wIA9P8eACgACQAVACcADQDm/xYA8f8eAAUA3v8tAOf/OgDT/wYAGwDQ/zkAsv8FAO//yv8KAKb/DADc/9f/9f/U/xkA1f8dANX/GwDV//f/6f/q/zsAy/8qAOT/EwAQAOL/OAD0/x4AGQD3/zIAGwAFAAsAPADi/1gAzv8vADYAz/9AAMP/MAD0/+z/CwDw/y4A4P/4/y4Awv85AO//7v8kAPD/KADe/ycA+P8kAAgA9f/2/9X/EwC2/zcAv/8hAOj/zv8lAL3/GQDm/+3/2//p/93/5f/f//z/5v8FANv/5/8DAPv/AAAJAB4ACAANAA4A9v8WABgAAwAUAOb/KADN/xQABQDy/xUA5/8FAAYA9/8SAPf/7v8hANj/DQAJANH//f/E/+D/GQDw/xUA9P/s/wgA8v8uAC4ADwA7AOr/QQASAEQACgAiADIA1f8yALL/MQDb/+7/CgDY/wYAs//r/9D/4v/3/63/BAD4/8r/7P/Y/wwA+P/r/+////8TANf/6v/4/wIA6f8WAN3/KADP/+7/KgDy/ykAy/8oAPX/FQAHAPz/NwAOAAIADQAVAB8ADQDX/wAAIADg//P/1/8UAPH/7f/a//v/HAD5//L/9P8WAAQABQDx/zQAAQA5APj/GgD///n/FAAGACIA/v/6/+j/BQDr/wAA7//2//b/yf/O/87/5//V/8//7P/i/9n/6f/t/xUAGADi/ygA8v8eAAUA+f8eAB0AFADs/zIA/v8mABgADAAiAEMASwAlAEAAHgBYABsATQALACMA9v/S/ycAp/8FAKP/3f+//6H/zf+l/+P/tf/d/+3/BQDZ/+f/CgD6/0QA5P8hAAwAEgAPABEAJAAhADAA5P8aAPn/GwAbAC8A+P8JABkA/P8OAAAA7//r//7/9P8AANz/CgAJAPH/BwDx/+v/HQDi/+X//v/2/xsA1/8WAAIA8v8JAPT/EwD5/yEADwAQAP3/AgAhAAkALAAHADYAEgAOABgA6/8OAO///v8PAPL/AgDi/+j/9v8DAAAA7f/5/9z/9v/7/9n/DAAMAAAA9P/q/wsA9v8YAAMA/P///wkA8v/8/97/EwD5/w8ACQAMAAcABQD8/9L/NAD0/xAADwDc/wUA9//X/+z/xv8BAND/0P+9/+D/0//p/9v/3/8MAOb/9v/L/yYA8v/4/ysAGAAYAAkAEgAqACAAHwADADMAOQDM/xQAIgArACUA8/8YAAYAEADv//D/BAAvAN7/6v8XAP3/8//l/wAA9v8LAPP//P8ZAPf/CADe/yIADgDt/x8A4v8bAOP/FQD2/+b/CADi///////W/+r/9P8oAPX/+//q/+7/8v/h//z/1v8FAN//0v/P//H/4f/5/93/5f/c/w8A6//a//v//v/1/wIAAAAVAAIAEgAAAA0AMADX/zwA2/8zACAAHQAdAC4AFgA4AP7/+P8sAAQABAD2/yUA4/8aAOD/FADs//7/4//Z/xEA6P/p/9b/AADz/9L/AQDL/wQAFgDZ/+P/7//7/w8A8v8MADQACAADAOb/JABCAA8A7f8cAPz/HgD1/xsADQAeAAoA1/8gAAMAIAALAOj/BAALAAQAAADc/wIACQDy/wAA3f/r/9f/+v8LAN7/CwAGAP3/+P/f/woALAD5/+//xP8eAPv/3P/F/xoAGQD5//j/8f8fAAQA4f8bACQAEwADAPL/PAD7/zsA5/80AAUAFQDw/+b/LQD7/xgA7f8BAOX/7P8KAOn/6v/C//T/7f/W/wEA6v8CANz/3/8SACAADADv/wsAQAD6/xAA5/9WAB8ACADk/xcASgDy/wkA4P86ANn/9P/k/+v/JgABAAAA1P8LANL/9v/8//T/9//Y/woA7/////L/CwAEAPb/uP8JABUADAC//+f/JwAJAAgA0/8sAE0AJQDW/xEALQBJAPf///8dAC8ALgDt/wMAKwAtAP3/0//h/xcAAQDZ/8z/JAD9//f/z//j/zEA6v8RANn/CgAbAAYAAADr/xsACQAbANn/+P/4/xcA7v/h/+n/DwANAOr/7P/3/xIA+v/9//T/8//4/+n/0//0/7j/NQDI/wQAyv/+/wQA3P/6/9f/CQDR/+r/wf/u//L/9v/R//v/wP/y/+H/MwD+//f/IwAcADwAGwAjAFIAYAAfAP7/KgBJAEEADgD1/zQAIwAGAOD/KgAFABsAz//m/xQA5//m//P/3//1/9b/7P/g/9v/x//z//3/w//f/9v/NQDh/wEA1/89ABoA0/8MAPf/RQDq/+H/DAAlAAYA8/8VACkADwDm//P/GAAIAOH/CgDl/xMAq//b/w4AEQDG/8n/8P8DAPv/k//1//r/JgDM/+r/EAAoABoA9P8fAEYADAD6/wYAOgAKABwACQAPAEIA7f9CABsAKADx//b/TgAkAC4A3P8jAEwA3f/8/8j/RwDw/8P/wf8KAPv/zP/r/97/KADX/9v/0P/4/+3/EwDO//r/AgABAAQA9f/s/yMAIwDt/+j/7f9EABkAxf/U/xwABgADAJX/+P/5//f/tf/p/wgA5f/u/7z/FwD//wUA0/8PABkAJAD//w4AFQAQABsAFAArAAQAFQAUAGQANwD2//b/QABeAA8A7v/1/zwADQAGAOH/MQAUAND/7v/e/yAA3//u/83/7v/5/+3//v/W/+X/3//3/9r/1//s/zIA4P/N/9n/CQAxANb/1//8/z8ADQDo/+X/KQAgAA0A4/8fAAcADgDx////DAD3//X/6P8PAAMAGgD1/xUA0v8JAPD/NgDU/+v/2/80ADQA0v////f/ZADq/+//EABMAEAADwD5/zQANgD+/+P/DwAJAAwA7//T/wAA8//p/9n/3f/m//j/+f/K//P/y/8JAPv/x//Y/+f/HgDl//D/zv9AAOf/4P////7/EwDk/+T/BAAJAOX/5f8QAB8A5v/n//X/DADY/xIADgAbAOb/8v8nADgAJwDx//z/DQBRAOD/JAD9/w0AFwDv/xUA+f8jAOX/IgDa/xgADQD//yIA4P8ZAB0A///l/wwADgAPAPP/y/8JAAwAwv///8r/JQD8/8f/4//X//L/3f/s/+b/AADH/+z/3v8DAOn/9/8nAAMA5f/T/ysAIwAlAOj/EAA1APX/DQD+/10ACgDt/+j/NwArAAkAAgDs/y8A9v8EAOb/OwD2/+j/3P8bAA0A5P/5/wcAFgDk/+z/BwA1AOz/3v8RABAA4//Z/wcAIwD9/83/3P8NAAQAuP+0/w4A6P/0/7b/DQAGAOH/x//0/z8A4v/6//P/PADt/9T/6v83ACQAzv/A/wMANgDl/9D/BwApAN3/3f8OACgAFADB/wAAKAAHAAYA6/9JABgADQARAEIAIQAZABQAGwA9APj//P84ADsA0//7//3/GAD6/9f/2/8lAOn/5P/B//7/CgCx/+P/5v8aAO//0v/C/ysADwDE/9///P/9//j/z/8DABIA5P/f/93/PwD6/9D/9f8JAAEA6v8CAP3/NwALAPP/MwAiAC0A8/8yADMAGgAkAAgANgBAAB8A2f8lABwAHwDl//3/NQDw/wUA0P8RACAAz//w//j/GADU/wQA+//3/+//u/8lAML/KQC8//r/FQDi/+b/z/8wANr///+1/wgAIgDm/97/6P8YAAYA5//s/wcAFgDp/9//HAA7AAUA1v8IAEUAGwAGAAEABAAcAPP/AADz/yoA5v/6/xsACgABAAAAIwAFAAQA8f8UACsAIgABAA0ARQAJAPv/BgAUACwA1f////v/KgD8/+D//P8mABIAv/8bAOz/BQDu//b/BgAAAOT/z/8eANb/7P/P//L/CgC5//7/y/8AALr/8P/P//j/AwCa/wsA4/8kAK//AAAKAC4A+P/a/wgALwBGANL/LwAWAE8A8f8RAB0AIQAaAOj/MwAUABgA7f8iABMA8v/7//7/HQDj//f/EQAFAAsA9v/w/w4ADADn//T/FwAeAO7/+v8RAC8AAwAgAOz/GwAcANv/JQDh/wUAxv/h/+T/+P/Q/8P/3//F//3/pP/a/+v/0v/O/+b/CgDX/+v/wP8RAOv/AgD+/9n/NADe/yEAIQAOAAYAGAAuACEADQD5/yAAAwAjAAcA+v8dAAwA3P8JAEEA/v8tANL/LAA2AAIA+P8BACAA9/8OAMr/OQDj/9r/GADw//3/7v8KAAMAAwABAO7/KADd/wcA///4/yAAqP8UAPP/BADu/93/MQD1/wkAu/8aABEA+P/l/9z/KwDb/xkA5/8FAOr/6P/0/+D/CwDa/+L/8v/r//v/5P/v/wAA/v/s/+///v8DACcA8/8wADAACQAWACsAEgBfACoA8/8iAB8AIAAXACEAHQArAO7/7f/x/xcABgC5/9z/GgDd/9D/1//q/8X/4f/O/+n/4//e//H/4/8cAN7/+P/7/xIA9f8gAAcAGwAgABoADAAKACsA8f8BAAEAJgD6/8r/3//u/wMA4f+k//f/5v/5/83/CwD3/wwAFwDa/y4A8P9FAO//KQDu/wQADAACAA8A+f8pAOr/FgD5/y8AGgADAPP/DwAdAAwA4f8aAB8A/f/w/wIABQADAA4A3v8RAPr//v/J//P/7//f/+v/2v/a/+b/5f/h//H/8f/Z/9f/BQAGABcAx/8NAA0AFwAVAOj/DgAHAAAA3P8eAAsABgAAAO3/HADw/wAAEAD7/wgADAAHABwAKgDq/yYAIAAjAB4A8f8qAB0AEQDp////IgAlAPn/4P8OAPX//P/1/wMADwD3/wsA9f8FABMA8//8/+P/CwD9//T/xP/z/xsAzP/u/9H/EQDU/+L/x//9//P/3v/k/8j/GgDb/+3/7P8BAOv/DgAJAA8AEwAAAP3/GgAiABUAFgAgABIAGAAIACUAEwAXADIAEQAkABMAKgARADgADAAmAO//NQAVAAIAEwD7/y0A6//x//v/HwDk/wsACAD8/xIA2/8DAAMA+P/6/9L//f/z/+L/vP8BANf/v//X/7j/4P/C/9X/2v/V/9j/xf/V/+L/4//T/+3/8//+/xwA6f8OABwAEQAjADgAQAArAAkALwAtADgAKwANAB8AKwD7/wEALAD5/wUADAAFAA8A8//z/wEAEAAEANz/+v8PAPv/CwABAAQA/f8HAAMABgAcAOH/LADv/xkA1f///yYA7f/3/7v/EADO/+n/zP8DAN3/uv/s/+b/GADR/+3/1f8AAAIA1//0//L/AgC4//L/BgD6//v/1////xQA7v8kAAIAMwARAAIAIgALADsA/P9KAO//EQAeAAUAGQAQABEA9/8cAB0ACwAVACwAFQAIABAACgACAPf/2P8eABUAAADV//D/CQAkAOH/1/8SAO7/9f/l/+b/FAD4/6z/IADj/+v/x//O/w0Azf/R/8f/6v/G/9T/BADo/wMA7/8AAAkA8/8IAP7/IwAEAA4ADQD+/wwAEgAUAPH/8v8QAA8AGQAjABsA8f8vABYADwAkAP3/HgDq/xIA/v8AACwA9//8/xEAPgDu/xAAHADw/x8A8f8KACMAEgD7/wsA9v8eAMb/BgAGAPX/6f/Y/wAA6P/0/6f/CQD6/+b/4P+///j/7v+//+j/2v/i/8n/xf/b/wQA6f/J/+X/DADo/+b/2f8TAAYA7P8rAOX/SgAAAAoAKAAuABsAIwAWACYAGQAdAEAAJQAzAAwAHAAYACAAAQAJAAYACQDw/w8AEADu/+7/DQAWABIADgDf/wIAIQD7//v/FgAOAOv/6v8CAPX/GQDi/+r/LQDl/wMA7f8SAO//2P8PANP/BwDe/+T/yv/m/93/zf/i/+v/4//M//7/5f/5/9X/AwDk/9X/8f/p//j/1f////L/BgAGAAwAEAATABoAKAAfADYATQA9ABcANgBoACsAHgAAAFQA8v/u/wYA8//+/+7/6v8DAPj/2f/6/9n/JADu/+v/EQAAACYACAD1/yAA+P8XAAkA6P8CAOn/HAADABUAGQD3/wQAAQAhANf/6v///9r/2P/r/8//xP/K/8n/tP+//9z/wv/E/83/7f/n//r/AwD1//r/FQDy/ywAAQAsAC4AGwDn/x4AXgDz/yoAJwBKABcAEwA5ADwACAAZACEA9/8xAP7/3/8SAAwA/P/2//T/9/8VAN3//v8nAOP//v8NAB0AJwDv/xAACQDn/xIADADu/wcACQDo//r/7P/6/9j/1//7/9P/zv/U/9j/6v/J/8//9v/l/9z/6P/q//P/4v8BANX/FwDy/+7/AwDy/0gA8v8kAAcAIgD6/yEASQD7/yoAKgAqADAAFQAIAEgADQAIADgAGQDz/xwA3f8/AB0AuP8iAN7/CQDm//b/7/8hANn/7v8jAL//FQDw//j/3f8tAPf/xf8gAAMA7//x/wEA+P8QAPD/9/8PABMAz/8EAAIA9P/U/9n/4v/E/woAv//d/9j/CAC1/+H/KwDf/9z/DwAIAA0AEgDt/yEAHADT/xUAEwDZ/xQABgADACEAGwABAEEABQAnADIAAwAcAHYA7f8aAFkAAgD6/zwA///7//z/9f8nAKX/DwD///z/w//m//P/BADg/9n/BADm/+r//P/0//H/EwABAPf/8//8/w8ABgDY/w0ACwDG/xIAGgCz/xsAHQCW/yYA8v/Y/xAAx//1//H/9f/h/wcA/v8dANP/OQAVANj/HABKAOD/BwBWAPP/7f8fAFwA3f8aAB8A8P8FABoA1v9MAOj/x/9QAO//4v////b/3f/s//n/8f8GAMf/FgAEALz/QQDM/8z/SwCn/wEAEQDj/8X/3P9BALb/MgDM/+//FwAJAMH/PAD2/+3/KwDS/yAABwAUANP/IwDM//7/+P/r//D/FwD5/xgABQDt/xsADgAEAPn/HgD9/0IA4f8DABoA0P81ANP/EgD3/xoAFADO/0AA6v/v/x0A+P/s/xEAzf/d/8r/FADd/+X/+v/b//n/DwDw/wEAJAAFAAEAHgAbAPz/JwA1AAMA9f83ANn/6P8+AAoAzv9NAAcAyf8SAAcA3P/m/y0A4P8OACYA5f8UAPP/AADE/1gAvv+p/24AxP/m/w0AIQCw/wkALwDD//z/SQDs/7r/AQAvANv/AAAAAOz/HAACAND/HAA8AI7/VADi/+P/QQARALT/SABHAMD/OADT/2wAz//a/4QA1f8BAB0AEQDw/x0A7v/+/1YAvv8MAOb/BADS/yYA+//D/0cAEwDf//f/SwDt//T/JQDy/w0AGwD//wQAAQDp/wEAEwC6/yYA8//4/6//+v8kAL7/BwD7//H/uf8oAOb/v/83AMb/5/8GAB4Ajv8vAAMAof9OANL/EAALABEA/P/j/00A9v+2/1gA6P/U//D/QgCl/xQAUwDK//7/MQD6/9r/PADq/+7/NQDm/+7/MgDX/9b/HgDw//3/+//5/x8AvP9DAOH/JgDs/yAAAgAUAEsA4//9/1oA6v/w/0sAxP8KACwA7/+k/3UAzv/F/0QA0P/z//j/8v/8//j/AAADAPH/wP86ANj/EwDw/8D/JQD5/77/JAD7/97/FQDx/yEAvf/2/1MAjv8tAA0Aqv9DAJP/VgDL/9v/FAARALT/5f8WAMj/9v/3/+j/8P8dALn/PQC7/y0ALgCc/zwA5f88APP/9v8KADEA7/8IAEcACwAgAPf/KQDq/zsA7P8MAAYAOQDQ/yoABAD8/xwAHAD5/wkAEwDg/ywA3P9HAKL/XwDE/xIAGADc/zkA0/8/AMX//v8RAPj/tP9lAJT/HAAJAKD/UgBh/4gAYv87AAUAkf88AKf/KwDS/wUA2P8aAM7/IgDC/zoAAwDT/xgALADq//n/RQDX/1IA3P8wAOv/UQDs/0IA8P84AAwA5/8VAA0A9P+p/2cAd/8qAO3/vv8XAPf/r/8FABcAu/8WAA4A+//n/04A1v8FADIA5v9QAKL/TwAeAPf/HQA0ANT/DAA3AOX/8P8fAAMA7v8iALj/EgAJAK//6v9WAHb/SQDS/x0A0f8HACAAv/8/ANH/PgDG/zsAu/8gAAkA8P/1/8H/PgC4/yQA6P8fALb/TQDV/xEAXADL/y0AGgASAAwAWwCw/0kAAAAMAMX/bACl/wUAHACy/yQAwP8aAL3/BwDQ/woAov8vAM3/0P8ZAMj/LwC5/0gAnf9DACAAyv8rAPr/GwCr/3oAj/8XAEUA1/+z/3IAwv/m/0IAkf9CAPP/6//v/xkAxP8UAND/IwCp/y0Atv8aAMz/DwBCAI//ZgDN/zgA0P9rANz/+/9wAO3//f9pAPT/CABYAMH/XQDw/xgA4P8yAAQAwv9vAK//FQDg//v/3f8NAMn/7//9/7//6f8GAMz/DgDb/+n/MACW/2cArf89AKn/VwDR/wEAPQDH/yIALwDa/97/ZgBg/4sArv8jAAgAuv9zAJT/RgC9/zkAzP/u/2YAUv+NAMz///8JADkAuP8XAEoAk/8rAFoAkP8oAB4A7/8IAAEAFgDA/04AuP8vAK//UQCa/zkAx/8FANz/KAC2/wIAIgCT/0oAxv9EAIv/iAC0/yQA9/80APj/xv95ANn/1f+BANn/LAADACMAJgDQ/1cAqf9iAKz/7/9OAGr/TQCw/wAA/P+4/1gAtv8PAMP/WwCe/yYA+v8HABoADQDY/ywA4P8kANj//P86AHj/jwBZ/30Ajf85AJn/HgDh/8f/FQDO/w4Ai/+aACz/zQB3/1wAKgC8/3gAwf9mAJ7/igCT/3MAwP8EADoA3v/m/xEAAgCy/3UAbf+dAHz/XwDy/9T/WwDY/1kA7//1/2oACADi/1kA2/9QAKP/ZACw/xcAGQCJ/5MARf8vAPn/qf9XAHz/YQDz/8n/IgATANX/+P9FAMT/xP9lAMf/wv9SAJf/MQAUAJD/gwDR/8X/YgDH/wEABQD8//D/+f/u/zMA4f8GAAUAMQCM/5IAqf8nABoA1v85AOD/FADk/10Afv9kAN7/7v8fABQAvP9mAKn/XQDj/xkADwA2AAkA3P9iALf/VgDW/ywAvP8yAAEAsv8pAOf/1P8fALj/FADT/wIAnP9XAJb/GgAPALf/LADX/yEA0v8KAOL/IAC9/zoAwf8tANz/CQAFAOD/SgCX/y4AFgC1/xYA5//5/9v/EgDL/9T/FwCq/wUA+v/K/zoApf8nAOb/EQAfAMv/WADF/24AvP9FABgA6/9hANb/RgAPAOX/XQDM/zUA4v8hAOz/9/8XAP3/9/8WAOz/2f98AEz/gACb/y0A5P/3/+n/AgAIAO7/FAADACoAr/+NAGj/kgCU/yYAKQCQ/1cAy/8DAAUA4f8mANj/7f8+AMn/EwDX/0IAtP8RABQAwf8OAPL/0f/b//7/3f8eAJr/WQC6/wIADgDD/yoAAQDv/+j/RwC5/0YA4v8hABIA//8wAAMAAAAjACwAxP9mAMv/9/85AMn/KwCx/24Ai/9CAAUAvf99AID/TAAlAIv/qwBo/20A+P+O/7AAVP+XAKH/PAA+AKP/ZAAHAJT/uwBF/5wAif8uAAEAkP+QAGr/UQAAANH/HgD3//v/5//r/zQAZ/+XAFH/RQCR/yoAmP8VANX/0////+T/1/8KAPP/3P9gAIz/kwCb/1oACwDL/1wABQDT/4cAm/9jAMj/SQDt/woAOADv//j/UACi/0oA3v/e/2kAh/+PAHL/tgCM/wsAOgDq//H/MAC4/2wAlv9HAOn/uP95AFr/ggCT/x4A/v/X/w0A+P++/1cAhP88AAAAlv+CAFj/ZgCs/xIAJwB5/5YAVf+FAK//FAAgAPH/9v8eAAkAtv90AO3/AQA8AEgAdP8JATX/swDg//D/XgDE/0cAzP8kAPP/yP9DAOD/rP+hAAn/0gBJ/1sA4/+7/10Anv9OAJj/VwCU/zoA2v/+/97/JgC4//H/MABe/7MARP8/ABkAiv9LAMH/CwATAOb/VQDW/zMAFgD1/zMA6v9EAL3/PQDu/8z/QAC8/9D/OQCo/+//DAC5/wMA//8LANH/OQAAAPD/RACt/5YAXf+3AHT/cQDW/wYANQCg/2gAxP87ANP/ewBo/44Aiv9EAOv/0f8sALr/4f8nAIX/WABw/24Aa/8rAOj/qv+BAGP/jQC9/yYAIAAoAMj/TAD9/wYACwA6AN7/LQAWAAQA1/9wAHz/fwB//3wAnv8zAPP/tv9yAEX/oAB4/yEAEwDA/+7/PgCG/2UAgv9YAKb/KwDP////8P/e/w8A8f/f/x4A5P/W/zQAq/9kAJ3/UADv//b/OwDV/xUALwDd/1EAzP9PAMH/aQCP/28Apv9MANf/x/9SALP/OACQ/6EAJP+YAKL/AAARAMH//P/8/97////W/x4A3f/x/w0A2v88AKX/RwD0/xAADgD1/wIANQCe/0wA3f/g/ysA4f8YAN7/LADV/y4A+v8KAAoAEgAJACQA1/8bADUAhf95AKr/8/9PALn/HgAKAPb/GQDZ/04Arf9AAAgAz/9IANL/NwDg/z8A5P8XAB0A0v8ZAN//+v8RAN//JgC//1kAlf9QANr/4v86ALD/RgCn/yoA0/8+ALf/KwAPAOz/EQAaAOv/BgAyANj/TADB/yoA/v/b/zoAwP9rAIn/eACC/zoA//+C/58AOv+nAIP/TwDS/+X/JgDk//j/CQARAPX/CgAZAM//TwDU/x8ABgADABgAGAALAOf/WACw/1YA0P8qAM7/QQCs/z4AqP9SAJT/WACc/xwABQDT/00ArP9JAMf/HgDT/zIApf9UAN7/BwDm/zUAvP9LAJb/LQDW/+z/BACo/zUAvf/d/x8Aqv8pAJ3/MgCm/wwA8//O/1YAiv9+ALD/RQDO/3YAcv+BAMr/FQDv/x0ABgD3/xoA/v8oAMT/YACm/y4ACQDt/x4A+f/V/1QAqf9EANL/IwDj/wQA9P8eANP/GAD8//j/DAAbAAIA3v9xAH3/gAC0/ykA5f8RAOP/HgDt/+j/HQDr/wIA+v8AAOP/TQB+/4YAl/8PAEEAnP9DAO7/5v9KAKT/QQDg/xwA6/8iAA0A1P94AIr/ZwDU/yoAz/9eAJX/UgDS/woAEADl/wsA6f8uAND/OgDK/1wArP9VAKz/VQC4/0IA/v/T/3sAm/87AAAAu/9dAHL/ggCJ/yEABgCU/2MAgv9PAMH/LwC9/y4AtP8gANP/IwCq/2MAZv9yAKz/+/8QAAQA5//2/z8Anf+jAHr/wABu/8YAjv+IANn/GgA6AOD/PgDh/ywA8/8RAOr/AAAQAOv/HADZ//f/JQC1/yEAkP99AHf/OwDZ//D/CgDy/9r/MQDP/xUAEAD4/wUA+/8sAMr/+f8GAPr/1f8xANP/IADI/18Alf9EAO7/JwD4/wcAOQDt/zIA9P9FAMX/bQCq/0AACgC6/z4A6f8EABkABQD1/yIABQDz/xEAEADu/zIAwP87AAIA4f9iALL/PAAFAPn/DQD9/yIA3P9HAMT/DwABAND/CwDT/wYAFwDl/xMA+//r/zAA6f/V/yUABgDT/1QAov9NANr//v/0/+n/GgDi/xgA2f8mAAQA2/8jAPr/1f9PAKH/PwDV/wAAJwDf/ycACAD8/0EA6/8rAPn/HAALAPT/+P/x/+3/3v/5/8b/5v/X//n/kP9BAI//QwCR/zsA6//8/xcACwANAP//WADX/1AA8/8bAAUAIQCx/1kAqf8PAOv/CADP/xIA3f/2//f/2f8QANv/8P8TAMX/AgASALv/PgDI/w8A6/8AAMv/GADN//j/+//0/9T/LwDT/xMA8v/q/xcA2f/M/2AAmf8sAB4A4P89AM3/dACP/6oAmf9gAPb/FAAgAAoAEAACACYAqf9bALP/HwDy/wEA8f8NAAQAyf8mAOD/DwDX/w8A7P/f/x8Aov8iAMv/AwDf//z/DADl/w8AAwDx/0IA7f8aACMAAAAMAPT/LQCt/zoAw//q/xAAyP8LAAAA6P8lANz/DAAEAPL/EwDp/ywAyf81AMn/HgDv//H/9P/w/x0Axv9EAMv/IQDz//7/CwDu/w4A9f8TAOn/BQAIANn/LgDN/+//FAC//xsA3f/5//L/9/8AANj/7v/i/+7/5//d//r/0/8EAOz/FgD9/ycA+/9XANH/SgAvANj/igDh/0YA+/9fANL/VgDG/wYAAQD9/73/JwDe/+T///+o/ykAtP/l/9v/AwCZ/ygAvP8RAIv/YwCC/xgA2v/l//T/2v8KAOb/HwADADIA7/9lAPH/WAD3/2cA1P+LAMX/agDH/1gAw/8ZABQAvf8bAOL/DwDz/xwA1/9HAKn/VwBm/5cAXP9sAKr/JAAEAAwABwADABwA5/8lAOr/LQDT/1kAwP8oAPL/EgC9/1IAhP9dAMr/EwD5/wgA7v8BAP7/6P/y//b/7f8HAOr/0P8sAJv/HACk/wcA1v/5/97/5/8nAOv/AgAWAAwACgAcABAADAAZAA4AMgD3/zgABgBQAOT/KQAUANX/PADM//H/EADG/yMA4f8SANb/HwDy/8j/LACk/yIA4/++/yEAxP8HAAsAyv8YAP7/BADs/ycA4v9HANL/OwDs/1wAwf9YAMT/WADE/y0ADgDb/zkAq/9UAIv/dABw/2MAif8uAML/9P/g//T/0v/M/xcApf8OAOD/8v8GAAkA/v8LABkACwAHACYA/P8ZACcAIgAAAEAAIAAYABsANgATABsACwAmAAkAFADb/0kAs/8UAPz/zv8MAN//5f/6/9v/+v/x/8r/DwDP/xAAv/8gAP3/CAALAAgAIgATABQANgD4/0IA+f9LAAAAEAAsAPf/FAABAAwA5P8RAL7/HwCw//v/yP/+/93/yP8uAML/BAADAND/EADg/xsA7v8gAAMAEwAJABUAFQAOAPz/CAAbAMz/NADW/yoAuP8+AMf/KQDW/y4A5f8wAP3/+/8SAPH/IADD/xgA1v8eALf/JQDo/xEA9f8wANH/VwDU/0oA5f89AN3/GQAFAOf/MwDI/x0A+v8AAOj/JADU/0gA2/83APT/OADf/ysA3P8wAM7/CADi//D//P/q/xQAw/9JANL/GQDy/xoA7P8wANH/FwDq//7/6v/d//H/0//o/8//+f/B/xgA1v8GAPD/DQDy/wQACwDv/yIA8P8vAPn/BwAMAAIA+f/s//D//v/h/yQAtf8kAPT/3v8RANv/BQD9//3/FgAQABkAJAAmADQA3f90AMD/VADW/0MA5/8fAAUA6f8HAN3////A//v/w/8hAKT/HgCu/yYAu/8cAMv/EQDo/wYA/P/q/wsACgDx/wgA/P/7/woA1v8iAMP/JQDC/0gAov9XANf/KgD9/zgA8/8rABMA+P8aAPP/FwDi/xgAzP8pAMH/DgDT/wcAyf81AKn/RQCw/yIA+v/c/w8A+/8bAO7/PADc/0YA/P8jAAkAIAAWAA4ABQD2/wIA9f/U/w0An/8FAMn/x//2/8v/+v/1//j/CAD1/x8A8/8DAAYA7/8HAPn/8v8RAPn/+P8aAPD/HAD8/x8A/f8SAPn/HgD0/yYA4/8sAPP/DwD1/+T/JQDv/wsA6f8lAPP/BgAMAOv/BgATAOr/HADn/wgA6f/5/woA7v8OAPr/+/8AAPb/HQDg/yMA8f/o/woA3v/o/wEA0P8BAOz/6//5/+X/KQDh/xoABAD1/xUABAAJABUA6v9QAN7/NQD9/xMACgDp/xUA5P///+3/+//t/+f/7f8NANj/CADr/xAA8/8XAAAAGQAIAB4A6v8SAAkA2P8kANn/GQDk/wsA4/8KAPP/AQAFAPj/CwD//+7//f/0/+P/BADS/yYAsf8KANL/DgDJ/yUA7f8CAC4A4P8mAO7/LgDg/08Axv86APP/AQANABMA8/8rAPL/CwAJAAEAAwD8/wEA2v8iAMT/AQDU//n/x/8TANf/IwDc/yAA7/8FAAcAAwAdAOv/DwAHAAgAFgD0/wMADADh/xcA0v8IANb/BQDe/wQA7P8QAOT/IADJ/zwA6/8KABIA8f81APb/UwD3/ygA8/8qAPX/BADs/wQAzP8lAMT/CQD//+P/GQDR/xkA9P////X/JgDh/yMA/f8LAOD/LwD6//n/DwDt/zgA1v8ZAPn/BgD2/x0A6P8HABAA6P8XAN7///8DAAQA9//z/x8A6v8WAAAA+v8HAPH/DADR/wIA7v/v/+f/7v/4//z/+P/8//D/AAAFAP/////6//v/BwACAPL/DAAcAAMAFgAhAAwALgAaACAACwAVACEA///8/+//7f/f/+r/0P/T/+v/3f/s/9P/DADp/w4A7P8XAOr/JAAEAO//CQD2/x8A1P8jAOX/BgD7/wAA/f8MAAYADAAJAPn//f/4//n/9P/q/+v/8v/l/+r/5//6//7/3P8BAOH/BwDQ/wYA4f8HAAMA7f8PAOn/EwD5/xcA9/8gAAAAJwD5/yIACwAtAPT/IgD1///////4//f//v/w//3/7v/o/9v/7f/y/9n/AgDT/ysAzv8vANn/IwD4/xcA9P8EAA0A7f8LAOX/BgDf/woA+P/l/woA8v8WAN3/HAD6/wMAHgD7/zEAAwAxAAYAKADr/xwA6P8LAOH/8P/x//v/5f8SAPH/BQAGABIA+v/8/wsA9P8TAOX/HADx/yQA4v8oAO7/HgDz/xAA4P8FAPb/5P/5/+f////r/+X/9P/k/+7/9P/X//n/2/8OAOL/JwD2/ysADAAkAAkAFgD0/wkA+v/0//P/4f8NAN3/AgD8/wUABQAAACQA9v8lACQAAwBDAA0AMwAYACwA/P81AAgAFwDx/x8A7P8dAPn/+/8AAPL/BADX/w0A2/8SAMn/DwDM/wkA5v8IAO3/8f8YAOX/DQD3//z/CwD6//z/DgAQAAQAGwD7/xMAEQAHAPz/BwD3//7/CADx//P/+//5/+z/GQDj/y8A6P8+AOn/IAAHABgACwAPAB8ADgA4AP//KgD//zIAAwA1APP/JwAPAPD/9//y/9X/7f/G/8b/AAC5//n/3//u//H/+f8AAPP//f8LAAMAHgD5/ygAAAAOABwA9/8rAAUAMAAJAB8AGgAdAAgAGwD4/xIA9P8HAOn/9v/w/9j//v/L/wsA4v8UAOP/FwD+/xYAEAD8/wAADQD+/wUA9/8BAAAA/P///+b/FQD1/xQACgAOAAEAFwD0/xwA4v8CAAUACADb/w8AAADo/wgAzv8QANX/+P/v/+v/7P/6/wAA5v//////9f8FAAsA//8RAPb/EQATAPL/MgD8/xoABQAMAAEA/f/0//j/7P/2/+L/7f/m/+L/9P/N//P/y//q/+n/2//r/xAA5P8dAPz/JAAHACUAGQAPACEACgATAAEA+/8BAPT/9P/3/9//AQDq/+r/7P/7/9P/IADF/wUA2v/7/+b/BgDc//L/+P/l//v/3P8WAN//JQDo/xkA5/8YAO//DwDr/yIA6//8//3/AwDv//3/DQD0/xYA4f8nAN7/BwDz//3/4v///8z/CwC6/wAA4P/r/8j/8/8CANT/GgDn/yQABAACAAEAKADw////9v8CAND/HADE/wEA6v/1/+r//v/+/wAAFwDq/zAA9/8YACkA//8XAAsA8v8kAO7/GwDM/y0A1v8MAPT/8v/8//f/2P/h/wIAwf8gAL3/KwDj/ykA0v8tAAMA5P9KAMD/OAD0/wQAHQAVAAkAIADu/xIA6/8QANv/9/8UANP/BgDb/xsAyP8CAMz/FQDp/w0A3f8gAAIA5P86ALz/UQDm//X/7v/r//j/z/8eAMz/DgADAOP/QADk/0cAAQApACEAJwATADUAJAAGAPj/CQDV/wAAAQC0/y0A4v8KAN///f8JABEA8f/+/wUAKADc/xsA4/8oAPT/5v/6/wEA7v8PAAUA0/8SANH/HgC6/xUA4//p/xEA0P/4/ywAt/8xANr/EgAVAAkALQABADIAAwAuAAwAAgA+APD/GQATAM3/RgC3/xMA7v8EAAgA8v8LAAIA9/8jANP/QQDD/yoAFAC+/4oAg/9eAN7/9P8WAN7/GAAWAN//HAANAPL/NQDo/x0A//8nAN3/HgDh/wwAOACu/0EA8f/t/xwA0v8EAPX/1P/g/+D/AQDe//3/4f/Q/zsAqP8nANv/FwAKAMf/MQD8/x8A+f8gABUAQgD0/yUAIgAgAO7/DgDT/zAA2//S/x0AsP8cAOD/6P8DAB8Avf82AO7/BAAYAPX/+v8QAPD/4v8dAK7/EQAAAL//JwDz/9D/MQDo/xEAHADq/yUADgAAACUAAwADACYA4P8HAB8A8f8AAAcA6P8RAP7/1f8tAMj/8P/k/8j/CwDd/9b/AQDa//3///8LAPz/HgD5/xwAJQD4/0EA/f8lAO//GgD1/xMA7f8MAN7/CgDW/wEA6P/f/w4Av/8HAN3/9P/t/+n/0P8RAL3/EACt//n/5f/a/8//5v8GANn/BADF/yYA/P8qAPj/GQAVAD4AJwAcAFEAKABNADQANQAOAEYA/P8pABwA6f8kAO7/5f/y//H/7v/q/8n/EgC//xcAzv8JAAsA3v8wAPb/HgAyAAUANgASACwAOQAGAD8A3/8iANz/7P8WAKz/9f/s/5//JQCY/wIAzv/s/9H/3v/x/+b/JgDe/wMAEADr/+X/HwDD/0IA3v8aAAsAIgAkAEAACgAoABIAJQD7/xYA+/8BABkA1f8wANL/FgABAAQA3f8UAPL/JgDa/wYA7/8AAAsA4v/2//D/HwDV//T//f/P/0AA0//0/0oA3P89AOn/DAASAPf/5v/w/9j/+P/V/wYAyf8IAO3/AgD5//f/PwDm/x0A5f8XABQAJQDm/yAA4/8WAAEA9P/d/xEAy//e//7/q/80AN7/AgAMAA4AAAAmAN3/HADu/xAAGQARAEUAIgBBABQANQATAAoAGgDn/+z/BwDZ/y8A4/8MAA8A3f8GANz/u//u/7v/5//V/8f/+P/l/+n/4P/u/+D/4f/p/+P/yP/x/8L/LQCx/ykA4/8nAAAADwAPAAoADQAPADMA/v8/ABgAOQD1/1AA4v8nALv/CQDE//r/r//w/9v/AgDb/+L/EwDv/xwA5P8fAPP/QQDl/0oACgA1AEoAKQAlAEgA6/9kAAEA/v8gAO//DwADAOP/AgAJAMn/1v/e/9f/4//a/6//BgDP/wQA/f8BAA8AEwDa//D/7//+//H/7f/r/zwAFAAQACAABgAmANn/6/8EAPH/+f8SAOL/NAD//+b/BwDB//n/4f/B/9j/2//8//j/LgDf/ysAGQD9/ywADwD7/0cAzP8eAC0A1v9ZAMv/IADZ/w0A4f/e/+b/1P/U/8L/0v/6/93/2f/v/+D/JQDd/xQA//8HACMAFgATADcALAA0AEwAEwA3AEYAEgAdAAYA9f8NAAwAy/8HAO3/AgDW/9j/zf/w/97/0P/w/+3/EwAIAAcADAA+AAUAKQDb/zkAAQAfAAcA9v8iAA8ADgD1/woA5//x/9z/0f/Z/+3/zf/P/9n/zv8CAMf/9//c/xIA6/8OAAwABgBEANj/OQAHAAkA/f8sAN3/LgDX/yMA9f8lAO//DQAAABcAMAD7/0QA8P86AOz/EQDo/xAA4v8LALz/JQDa/w8A8v/1/+z/DwD0/+b/GgDt/zEACwASABcAEAAGABIA3P8SAP3/EQDH/xwA0P8IAPj/zP8BAAcAz/8SAND/6/8eAMr/FgDL/xQABQDp/wsA8P8UAAkA6/8XAPz/KgANABYAGAAgADcA9P8aAAUA9P8LAOf////V//f/yv8BANP/+//R/9n/4P/R//j/6v/4////+v8HAA0ADABHAOv/ZwDx/zsAAQAoAAwAFQASAPj/IgADAPj/+f/S/+z/1P+q/wIAjv/l/8//0//v/+v/6f8KAOv////w/wcA6P8KAOn//P8XAOz/FwD+/+3/QQDg/zYADAAAADgAAgA3AAsAJgD6/xwA8//z/xkA6v/m/wIAs/8uAMP/AwDf//7/FQDz/+v/HAATAAoAHAD2/y4AHAAcAAEAKADt/zQA7P8FAAwA7f/x/ycAzP8DANz/7/+z/+z/xP/M//D/sv/1/9L/9v/9//7/5/8lAPT/KwDo/0MADgA1AAQAIwAuAAkA9/8JAAMA+/8CAN7/CQDX/+H/3/8IANf/5//z//D/DAAAAAAAIwDl/wIACwD5/wEACwDn/xQA7/8nABcAEAArADkAGwAtAA0AJAAhAPD/DAD0/+T/8P/y/83/FADD/+//5//7/+r/9P/k//f/3P/y//T/AAATACcA9/8pABUADABJAAwALAApABoAJAAmAA8ARQD//wkA9/8UAOr/+//D/+7/EAC9//v/6f8MAAgA1v8BABkA9v8bAOT/8P/3//L/CQDn/8z/DgAhANj/DwATAAEACgAlACgAFQDl/0cA+//M/wMA8//9//z/7/8BAAoA//8dAOX/+P8OABcA7P8LAB8AGADx/wMAEgAWAO//BAD+/w8A/P8NAPn/3/8SAPz/5v/s//z/7v///9v/8f/p/wUA7f/r/9z/FAAUABoA7f8aAA4AAAATAP//EQAJABIADQAaAAUANAAEABIAHAAJABQAAgD2/xIA8f8DAM3/6v/s//v/5v/b/wAA6f/o/+L/5P/i//f/4f8aANz/KQAOAB8ACgASAAsAJwAcAAAAJQAjABUAHgAlAOn/JwDZ/yIAyP/+/+X//v/N/wMA8P/j/wsA2v8bAMr/IADi/w4A+P8iAPX/GAD3/w4ANgD+/ycAIAAwABMANgDm/xkA2v/q//L/1f/h/8//7P/s//L/2P8yAO//CwDl/wgA+P/+/wAA2/8aAPj/AwDo/xAA9/8DAO7/FwD6/xsA/P/j/w4A6//y/+v/4v/2/+P/2/8QANv///8AAAoA/P8OAP7/GQBDAPz/GQARACsAFwAGACIADgALABUAFQD8/xwAAgDz/9//7f/y/9X/3f/s//L/AQD4/+n/HgD0/yMA+P/5/xYA9/8iAOj/BgAkAB8A+v/r/wEA+P8SAMr/EgDb//X/AwCt/xsA2f/s/wcAtv/0//v/uf8PALP/DAD2/+z/BQABAA8A9P8hAOH/BgAcAOP//P8PAND/OADr/ykA/P8HACUAAAAPACEAHAAOACQACQATAA0A8P/Y/xwA0v8RAOb//P8RAPH/CgABABAAFAD9/wEAEwAHAPv//v8MAPT/GwD2/xAAFwDv/z4A5/8LAAAA+P///9H/2f+8//L/tf/b/9D/2f/k/9//z//t/9f//f/c//n/FwD8/xoA//88AAsANwAZABwAHwAgAB8AHgAbACMAGAAUACMA5/8LAPH/8v/k/97/8v/w//T/0f/q/8T/8f/d/+P/6v/t//X//f/8//r/LAD4/yoALAA2ADEALwAqADMADAAnABUADQDy/w0ACwDc/wEAxP/l/8n/u/++/9H/tf/P/8v/1//X//n/6f/1//3/4v8kAAwAEQATAB8AJgAvABQAPgAPADMADQAPAAoA9P/+/+D/4v/e/xcA5f/k/+f/+//l/wQA0/8QAOP/CQAAAMr/KQATABsAFQAKADkAMwASAEsAHQBXAA0ASQAJABUANQD1/yAA2//2/wMAyv/V/9f/vP/W/6b/1/+4/+3/yP/P/9n/5f8IAOT/+v/w/xIA/v8PAPP/AAAIAAgA+P8RAB0AMgA5ABoACwAoAB4AEQDv/wAADgADAPX/4f/6/+z/7f/N//L/5P/0////4v8eACcACQAyAPf/TAAFABEAHgD4//P/BQD+/+v/EQDo/w0A8f/+/wgAAwD0/zUA5/8zAN3/JgAkAOP/9f/0/+7/6//n/97/6f/a/xgA1/8ZAN7/JQD3//P/FQAOAPf/CADy/wMA8f/F/wgA6f/j/+L/+v/o//r/9v8LAOr/3v/4//H/3f/1/+P/7P8NAPj/FwAMAAIANAAFAAwAIQABACAAEgAJABoADQAKAB4AAAAeACIABgAQAAgA/v8WAAkABwAEAPr/HQACABgABgAVAA8A/P8OAPX////z/+L/8v8HAPr/DgAKAAMAHwD2//z/7f/a//b/0//6/+P/zP/n/9z/0v/c/+X/9//m//X/7f/0//X/6/8iAM3/BgDy/wIAEAD5/xcADgAaABsABQAhACYACwArAAUAQgAVACcAFgAEAB8A9v8FAPT/6//6/97/+f8JAOz/DQDz/w8A4v8JAAYA///7/+f/LgAEACYA9v8OACcAGwAEAAsAGAAoABUAAAD7//v/DgDO//T/u/8IANn/w//L/9P/wP/F/8z/4//e//H/FADk/xYAAAAnAA0AGQADABUAIAAqAA4AHgAZACAA/f/1/wUACwD8//b//P/9/wgA5f8GAO//+f8OABQAEQAWAAwAIgACAAIADAAdAAcADgD2/wAAEgD5/wcA3f/8/wYA7v/9//z//v8DAPb/AAAhAAwAAAAXAOn/+f8CAMz/3f/K/7b/1v/C/8z/1v/O/+H/6//r/wUA/P8CAAgABgAFABkAHQD4/ywA8f8MABAAFQAjAAEAIgATAAwACgAjAPz/JQD6/wwA9P8OAN3/7P/r/+b/BwDd/xYA6f/8/wYAFQD6/ygAAAAuAPf/OgAVACYAGQAgAB4A9v8SAOj/BADd//b/7v/j/7//BwC+/wAAyf/8/+b/8f/T/9//+v/1/w8A7v8oAAUAGAATABoACQAgAAYAHwDr/xcABAAEAPL/AQDy//T/6//r/9n/6f/s/9r/7f/T/w4A7P8CAPX/GAAdAAgA+f8AAOb/CADw//z/4P8IAA0A+/8OABwAFgAFACUADQAoAOT/GwAEAPH/5/8EAPn/0P/v//b/8P/x/+T/BgABAAEAFQAJABIAEAAUABMAEgAGAA8A+v8EAPf/+f/z//X/+P/3//b/FAAPAP//BQACAPz/DwDz/+//BwDe/+7/7P/r/wgA/P8LAPj/CAAcAAwALQARAAkAFAD//wwA7v/9//L/6P/l/97/CwDd/wkA7//+/wgACAADAAUA//8KAP7/AQD7/wUAHQD//wgA+f8ZAO7/CQD3////CAAaAP//BwAdAA4ACgAEAAkABAAJAPn/+v8BABEA/v/n////1//5/+X/xf/9/+7/DgDl//7/AQD///7/DwD5/xEABwAFAOn/9P/q//f/9P/I/x0A4/8IAOj/AAACAA4A5//1//3/+//0/+z/9//7/xIA9f8ZAP7/FAAcABoAAwANAAQAJgD1/wIABQAKABIADAARAP//HAAOAAwAAwD5/xYACADy/woA2/8IAOP/5//1/+H//P/t/+T/9//n/wMA9P/m/+3//v////f/AgDi/xkA9f/t/wEA6P/6/wgA9P8GANf/6/8CANP/3//6//j/7f/x/wIAIgAHABkAIAAhAAwAHgAMAOb/AAD4//z/2v/s/wMA/v/Z//z/8P/x//P/8P/n//3//P/r////3/8RAPX/8f/2/wQABgApAP3/HgAgAC0AMAAFABwAFgAPABsA+P8FAAYA9f/4/9r/7v/f//7/2v/2//v/DAABABMA7/8AAP3//v/0/+z/+P8DAPH/5f8KAPX/DADn/xgAAAAXAP7/FQAQAAoADgAFAAIA+v/8//b/9P/v/wUA4//z//D/BgDv//7///8AAPX/+f8BAPv//P/l/wUAAgACAAcAFAAbACcAJAAjABEAIAAcAA8ADgABAA4AAgD3/+r/AAD3/wIA7//u/wUA8/8DAAMA9v8BAAkACgD0////DgADAAcABgAcAA8AEgACAPr/7//u//D/5//b/+n/2//w/+z/7P8UAAAADQAXAA0AEgAaAAQACAD9/xcACgAGAAUAEwAJAAIA+f8CAP7/9f/i/9v/1P/L/9b/y//Z/+D/9v/9//7/FAAnACIAIwAYACwAGgAnABUAIgAAAB4ADAAiAAUAEQAQAPz/CQDx//n/8f/1/93/6f+5//X/yv/0/9T/8v/2/wIA+P8AACMAIAAjABkAMAAtADAABwAoAP7/HAD5////+P/q//j/7//H/9D/0f+8/8L/u//a/+X/7v/r/wkA9/8bABAAFgAWACEAJAAEABcA/P8fAAwAFAAZAAwAJAAhAPz/BgALAAoABgDx/wEA8f/5//f/5v/h//j/8P/3/+X/9//z//j/7P/4//n/6/8DAPT/8//x/xEABQAEAAsAIwAgACoAFgAzAAkAEQAJAPr/BwD8/wAA/P/u//H/AADv////1f/r/+D/+f+9/+H/0v/j/+n/3v/x//D//P/4/wcA//8UAPP/+v/g/wEA8P/x/+v////0/wYA+/8QAPX/DQARAA8ABQAMADQA/v8jABMAHgABABEAAgAHAPL/FwAFAAgA9P8GAAMA5P/0/+D/9f/Y/+v/9//z/+n/AwDw//b/9P8DAPn//v/x//X/BQDv/wIA9f8IAAgABwAKAB4AHgAdAAwAGgAWABIAFAD5/wUA9f/7//n/+/8HAAIABAAQAAEAFAD9/wgAAQD3//n/8P////H/9v/4/wcA8//6//X/9P/x//j/8P/i//3/AQAFAPP/8v8AAAIABgD1/woA8//9//r/9f/1/+//9v/f/+//7v8NAPD/BQAIAAoACgADAAIACQANAAkAIwAPACYAGwAjACcAHQAmACQAGQASACgAFAAXAAYACgASAP3/DAD6//j/+P8AAO//9v/o////8f/x/+3/5//y/9f/6v/Z/+3/4f/v/+n/7P/1////7f/8//D/5P/w/+f//v/0/wIA/f8HAP7/EQAOAAQADgAIAAQACwAWAAQADwAKAAsACQD1/wMA9P/l/w4A9/8EAPf/9/8HAOr/+v/z//L/6f/9//z/CAAEAAgADQAGAAYACAD8/wAABgABAPb/7f/3/woA8v/w/w8ABQARAAoAEgALAA8ACAARAAMAEwD9/xYA/P8CAAMAAgAAAOf/CgDw/+z/7P/z/+L/6v/V/+D/0v/i/9z/8//W/+z/+v/z//X/AwAKAAoACwAAABoACQAKAP//+//2/wQA+/8JAO//AwADAAYA8f/7////6v/r//X/+f8CAPr/CQAFAPj/DQANAAEA+f/5/wEAAwDz/wwA6v/r/+j/6P/v/+7/9f/9//T//v/0/wMA6v8KAPr/+P8EAPn/AQDq//T//P/4//X////t/w0A/v/7//v/AgAJAP7/CAADAAYAEQD7/yAACAAfABIAHQASAAsADwAJAP3/+f8DAPL/8f/s//j/6f8HANz/BADf/+//7v/s//n////7/wwACAAVACsAHAAnABYAJgAXABYA9f8BAN//6v/f/+n/4//p/+P/9//u//b/CgABAA8A/P8OAAEAAgD3/wEA9v8DAAEADwAMABUAFAAfABgAIQAaABIAEgAOAAEA/v/6//T/7v/e//D/3//0/+H////v//j/7P/7/+3/7v/t//f/7P/z/xAABAAZAAUAEAAQABUAAQAZAAQAGAAEABEADAAKABcADQARAAUABgAEAAcA6v/z/+j/7P/w//r/7//2//b/+v8JAAEAIAARABAAJAAlACUAEAARAB8ABgD6/xQA/v8FAP7/AwAAAPL////3/+//6//7//v/8v/v/+3/4P/m/+D/7v/b/97/6//r/+v/+P/0/wcABwABABIADQAOAPz/EAADABcADAAfAAoADQAQAAsA+f///wsADAAQAPv/GwD5/wUA/P8AAOf/+v/+//f/9f/z/w0ACgD+/wwADwAHABIAAwAfABcAHwAcABgAAgAIAAcAAgD8//z////0/+f/7f/x/97/6f/V/+7/2f/j/9b/3//U/+j/5//p//v/CAALAAQAGQAIACIA/v8bAPH/AwAIAAcA/v/7//3//P/5//D/+P/1//7/8P8BAPP/DAD7/w0A+v8MAAkAEQAJAAMAAgAGAAcA7/8GAAAAEgDx/wEA/P/6//L////s//b/+f8DAP//AgAZAAkADQD8/w0A8P/8/+n/9//g/9L/9f/w//P/8P/2//v/+v/1//7/BAABAAMACAD5/wEAAQD2//7/+P/6//X/+P8CAAIA///8/wYA8/8DAP//9P////v/CAALABAAGgAWAA8AEgANAPj//P/2//r/7f/t//H/6//k/+L/3P/w/+f/1v/j/9//9f/z//L/BQATAAEAIQAIABMAEgAnABYAEwAiABYAIQARAC0AFAAeABYADQAOAPn/9P/8/+H/5//k/+X/5//s//T/+/8BAP7/BQD7/woABAAKAPv/AgAMAAkAEAANABQACQALAPn/+//y//n/+//0//r/BwAGAAUA/v/+/wUA6P/1/93/6f/f/+H/7f/h/+f/6v/o/+//7P/6/wEA+v8OAAkAFQAKABIAFwAlABwAGgAeABgAGwAbACAAEQAIABMACwD///v/9v/8/wkA9v/9//n/+/8KAPD/9f/3/wIA7P/8//n/+//6//H/9P/w/wQABQAFABAAHQAVAB0AFAAUABcADQD9//r/7f/0//T/3//k/+//9//y/+3/7f/o/+v/5f/r/+//+f/5/+7/AAD2////AwD8//n/AAALAA0ADgALABgAEwAVAA8ABwADAAsAEgAMABkAHwAhABIACgAIAAMAAADy/+r/9P/t//H/5v/r//j//P/2//z///8CAAwACAD9////DwADAAYA9/8HAA0AAgD9/wAA/f8BAOv/9v8FAP//+v/v//j/+P8CAAQA///+/wMABQAIAPj/CAD//wYAAgD0/w4ADAAOABAABQAEAA4AEQAKAAAACAAKAAMAAAD5//f/9v/t/+3/8P/1//r/8P/2//n/CAAEAPz/8P/r//3/7//w/+f/8v/2/+b/7v/2/+v/8v/v//T/AQD3/wgAAQAIAAwABQAMAAoACQALAAoABQAKAAkADgADAAcA+/8DAPT/BAACAPf/BwD6/woAAAAAAPv/DwD8//z/6//2//H/7P/y//j/+P/y/wIA//8OAAsABgAIAAkABQANAO7//f/z//n//v/1//X/9//6//7/AADx//X/9f/q//j/9f/9/xEABwAPAA4AGwAdAA8ADQALAP3/EQD2//H/8f/3//b/9//9/wEAAAAEAAEAAAAOAAUADwAJAAkAEwAWAA0AFAANABMADAAKAP3/9//v//T/6f/f/+3/5P/i/+D/2//p/+b/6//w//H//v/w//z/9v8BAP3/DwASABIAGQARACEADwARABgAEgATAAYACwAMAAkAAQAFAP//AAAHAPT/+v8AAP3/AAAEAAQACwAHAA4AGwALAA0ABwAEAAAA9v/7//j/9v/4//P/9f/6//H/AQD4/woABAAHAP7/BgATAAgAAQAGAA0ADAAIAAUAAwD9/wMA2f/v/93/5P/e/+H/4//y//P/9f/0/wMA/v///wQA+/8WAAwAHQARABoABwAeAAkAFQD7/wQA/P8KAPn/+f8CAAIABgDz/xEA9P8QAPX/BwAAAAkA+v8JAPj/CwD//wUADQD//xcACgAJAAIAAwD0//7/7f////L/AwAHAAcA9v8HAPn/9//x/+L/+f/z//P/7f/8//P/BwD4/wcABQAOAAcABgAKAAkADwAAAA0A/f/+////AADz//v/8v8CAO7/7P/3//b//f/+////AwD4/+//+v/n/wIA9/8LAAEADQAMABAACgAMAA4ACQASAAsABQAQABUAAgAUAPT/EADy//P/5//v/+3/5f/l/+H/3//b/+L/5P/z/+H/AwD0/wMA/P8GAAEABgAGAP//CQAEAAMAAQACAP3/+//y//D/6v/p/+7/6f/q/+f/7//5/+b/AQD8/xAA/f8PAAoAFAAWABAAGgAQAAsA/P8PAP7/BAD3/wQABQABAPf/DAD2/wMAAQD+/wgA+P8AAAQAAAD//wgA/v8JAP///v8EAPD/+f/8/wAAAgD1//3/AAADAAMADgACABUACQAAAA4ABAD//xMA+/8LAAUA9v////b/+v/4//3/8P8GAPz//f8CAAYAGgACAAAACwD4//n/8P/4//L/9//z//z/+P/1//n/9/////7/9f/2/wEA6P/s/+b/7f/2//H/AgDx//D/8v/y/+//7f/9//7/DAD6/wwAFgARAAgADQAAAAEACgABAA4A//8SABYADwAbABoAFAAQAP7///8CAPH/9v/y//3/9v/9//X/7f/u//b/7v/t//H/7v8IAOz/EgD3/wkABgD2//3///8HAAMAAwD7/xAADwARAPb////y//z/6//0//P/7//w//b/9/8BAAUADgAOAAwAFQAcAB4AEgAXAAkAGAD+/wkAAgD//wAAAwD6//j/BwAAAP7/8f/w//n/9v///woABwAZABYAFgAUABIAEAAWAAkA/v8EAAAABgDr/////v/5//j/9//z/wAABAD4//j/8P8HAPv/+//2/wEA+P/9/+X/+//t/+3/7f/1//T/AwD6/wAABgDv/wQA7v/8/+r/+f/5/w4A+P8LAA8AHQAFABQAEQAXAA4ABAAJAP3/AgABAPn/4v/4/+f/+//i/wAA9f8GAPv////8/wgA/v/9//7/AAAKAPz/CADu//b/7//5/+j/9/8AAPr/+//9//r////4//n/8f/0/+3/6f/v/9j/7P/s/+f/8P/l//P/8v/6/wQAAQAMAAcACgABAAMA/f/7//v//f8CAAcAAwD5/wIADAAJAAwA//8EAAgABQACAAYABQD//wEA/f8DAAMA/P/5/wMA9/8AAPj/AQD+//n/AgAEAP//BAAHAAsAEAAAAAYACwAKABEADgAKABEACwALAAAA9//8/wEA+//5//j/+P8BAP3/9v////H/8v/0//T/+f/2//b/+//6//7/BwAIAAYAEAAJAA0ABgAHAPv/CQALAAMAEAADAA8AAgARAP//AwAGAAMA+f/4////BgD8//z/8/8AAPT/8v/0/+//9f/1/wYA9v///wIAFwD7/xkAAgAXAA8ABQAIAAsAEQAHAAIA9/8LAAAABgD9//v/8v/4/+//9P/u//f/8P/u//T////+/wkA+P8AAAIAAgAMAAIA+/8JAAUABQAMAAIAFQAFAP///P8IAAAACgD6/w8ABAASAAEABAD7//v//P/v/+7/6v/1/+3/9v/t/wEA+v8EAP3//v///woA+v8FAAMABwACAP7/BAAAAPn/AgD3/+r//P/0//n/9f8AAPr//P/6//H/+f/5/woA//8FABgAGgAfABAADwASAA4ABwAHAPz/CAD7/wEA7//1/+3/8f/p//P/9//7/wIA/v8FAP7/CAAIAAIA/v8MAAMADwAAABMAAwAQAAUACAAHABcACwAEAAUABwAJAPr/9f/p//P/6v/2/+P/9//1//7/9v/7//7/CwD///v/BgACAPz/+v/6//X//f///wMA9//7/wIABQD9/wUADwANAAkA+v8BAAIA/P/9//b//f/6/+r/+v/3/9v/7P/0/+P/0//u/+z/8v/m//X/8v8AAP3/+/8LAA8AFgACAAsA8/8VAPP/+f/7/w4A7P/w/wYA+v/u//T/DgDp/w8A9f/z/wIADwDj/+v/EADY/+b////6//T/AwD//xIAGwANABcACwAyABAAEgAUAB4A9f8EABkA7v8NAPn/8v/f/w0Ay//7//P//f/2//X/CgDo/w4A6v8FAPb/GwDh/xgAIgAKAA8A//8OAAIAEQD9/wEA9/8QANv/9v8MAO//3f/5/+v/8v8ZAPT/DQACAAgAFAAhABQALQACACYAGAD7/xYAAgD+/wMA9//j//r/9P/n/7L/EQDg//r/6P/m/wwA/f/8/9z/GwD7/wUA4/8vAPj//P/p/wgA+//o/yEA0f83AOX/GwD5/y4A+f8BAAUA7/8bAM7/KgDg/w0Ax/8QANT/FgDm//j/BQDp/zgArv9KAOv/BQAYAP//FAAfAOf/EwAMANj/MQDF/ycA7v8DAPb/KQD4/+L/RwC9/0kA1/8KAPD/BADg/+z/+f/p////5v8WAN3/DwDh/y4A2P8wAPr/8P8OAOn/6v/w/xcA3f8FAAkAAwAGAB4A/v8MABsADAABAB8ADAAPAAYACgDt/+//9v/z/w8Avf8qANb/AgAsALH/QwDr//v/BgD2/xkAAQDo/w4A8v8KAPj/BQAQAAkADADd/zcAwP8+AMr/JAAEANf/KwDo/wYA9////9b/QgCt/yYA1v8PAMz/5f///+H/LAC9/xcA3/8RAOP/IgDC/1EA1f8BABwAAQA7ANj/RwDf/14A0/8dAAcA+/8aAOL/GgAYAPb/9v/1/+z/AwDP/xQA0/8yANH/5v8SAOf/FgDz/w8A9//8/9X/CwDX/yoA2v/0//7/uP/z/8b/BwDd/xsA1v8kANr/AwAjAAwAKAAIAPn/HAA5AM3/NgDk/xQA8P/0/wAADgDv/93/2//+/97/CADf/+7/DwCg/xsAvv8YAN//DgDp/+H/IgDP/yUAIADu/ykABAAIADoACgADADkAAwACACsA+v8OABUA3f/q/0YAvP8qAPL/5v8XAM7/3P8EAA0A2f8DAAUA/v8LAP7/FQAyAAAA//8EABcA8f8ZAPb/AwAdAAMABwAUAAAA5f8OANf/HAAeANz/IADe/+T/CgDQ/woA9P/U/wIAt//o/87/4v8XANL//v/N//v/1v8cAM7/IwAmAMX/RQCy/zUAEQDz/yMABQAQAAUADwARAAgAFADX//n/+P/m/xkA0v8RAL7/BADA/yIA4//p//3/xP8gAML/MQD0/xwA+/////b/DAALACUACgAXAAYACAD6/woALgAKACgA/v////7/8f/7/wkA7v8cAOH/KgDz/xQA3v/7/+r///8MAPH/CQD2/+3/7/8NAP7/KADd/zEA3f8ZAPP/BAAjAB8ADgAVABEACQD+//n/EQACAA4A3P8NANb/8f/W/8D/xv/x/9D/8f/o/9b//f/l/wAADQD8/xUAEwDw//v/6P8jAB4AEgD3/+X/EADg/y0A7/8+AC0AAwAgAOr/VwDg/zEAFAAXABUADQD1/yMA7P8CANH/EQAJAMz/DwCf/0MAp/8mAOn/GwDZ/+j/9v/z/yYA7P87ABAAGgDp/xcAAwA6APL/JADx/xcA3f/+//T/EwANAN//JQDY/x0Ayv/+//v/CADy//f/CwD+//D/8//n/w8A8P/3/yEAAwABAPf/JAD+/yMADQAWADEAEAACAAYADQAMABUAEADy/wkA3P/9//H/4//q/+3/5v/W/9H/0f/h/9n/0P/P/woA0//o/9D/zP/v//7/yv8pAOb/8P8CANb/JQARAD4AEwArABkAIQA6ABEAOgA0ACEAKQANADkAHQATAAsAGwAtAAgAEAATANb/CQDL//z/6//1/9v/zv/z/6T/7f/F//v/2v/y/93//P/6/wAADQAFABMACAAEABAA7v/6/wMABgAIAPf/FQD+/xYA6f8OAO3/CgAXAOb/AwDn//b/7v8KAPb/7v8dAOX/AgDp/wEA+/8dAOr/AwD8/wIA/P8CABIADgAWAPL/IADx/wIA9/8KAOX/PADQ/wkA8v8HAOb/+P/k/9X/AADF/w0A5/8UANj/GgDV/xoA9f///wcA4v/y//L/+v/g/xAA8P8FAPv///8MAAQAKgD8/w8ANgAnACMAKwAPABMALgAHACAAIQAMAAgAFQABABUA9/8YAPH/CADx/xgADgD8/xUA0/8UAPH////8/wIA+f/w/+L////w////2v/k/9//7f/f/9v/9f/i/wMA0f8ZAO7//f/6/wUAAgACAOj/BAATAPv/9//1/wcA5//9//X/EQDZ/yIAAgD+/wcA//8KAPj/BwD5/wIADAAjABgAFgAmABEAFgAWAB0AKAAMABkAAAAlAOv/CQDu/wwA1//R//n/3f8CANz/4P/W////zv8DAOH/EQDh//z/+v/2/w4AAAAIAOj/HQDj/yIA/P8hAPz/CAAHAP7/HAAVAAsA/f/y/+H/FwD1/yUA6//5////7/8MAOr/CQDv/wAAyf/5/+b/9P8EAOn/+v/Z/xYA6//y/+T/+//3//v/9v8SABkADQDu/+r/6v8kAA8ABQAAAOb/JgDk/xYAAQAfACAADgATABcADwAYAAYAEwAdAB8AHgD9/w4A9v8AAPf/8/8YAAAA4f/p/9z/8f/6//L/8f/L/+X/5//g/9b/CQAEAND/FAC+//v/BwDe/wYA8f8OABkADAASAA4AEQAhAB0AFwAZACMACwALABUABQAkAAoAEQD4/wUAEQAGAAAAEgATAO3/FADZ/xYA6v8HAOT/8//6/+r/EgDy/xUABwDw/wQAGgDy/x4A6P8NAND/9P8KANv/IgDf//P/z//V/wwADwASAAIA+v/V/8L/9P/f////9f/M//z/sv8JAOL/AAAIAPv/FADv/woADAAXADgAFQAKAEwA7v8wAA8ADQAKAAoAAQAcAPT/9f/f/+L/5//X/wQA3P8JALr/DgDz/wQA+//w/xsA6v8UAAYAFQAYAAQA9P8SAPn/AQAUAPb/EgDn/wEA9f8GAAkAIgARAPj///8FABMAHwADAB4AHQAAACEA7f8eAPv/FAD7/wgAAwAEAN3/+P/3//X/9f/a/+n/3//n/9T/BgAIAOL/8v/a//n/FwDT/yoA8v/5/8z/0//2/x0AGQASAP7/8P/s/+L/CADs/xYABQAHAOD/9P/u/wMAEgDw//D/7v/k/+z//f/1/xsADQD2/xEAJwAiADoAIwAIAEwA9v8eACUAFQAUAAcAAgD4/wIA6v8WAPT/9/8CAAEA0f/d/9T/9P/4//n/5//P//L/t//e//f//v8KAOj/zv/7//z//f8eAAAACADs/+P/9f8zAAEAIgD+/93/CgDv/xkAKAAdAOL/MwDv/xgA8f8YABUAIADz//b/MwDc/w4A4/8JAAMAGwDz/xsA6P/+/wIAMgD+/yEADQD//w4A0P8GABUAKQDN/xoA1v8HAOX/0v8QAAIA7v/b/+n/1f/f/8D/0v/r/73/1P/S/9H/9f/u/+z/+f/W//z/7/8bAAgABAArAPH/LgDt/yYAOwAxAC4AJQD8/ywAGwApAFQAKgAmAP//DgAQABMAFAAxABIA6//T/9n/+P8DAOb/5P/w/7r/3P/b/93//v/X/93/0P/j/6b/BgD//+7/CgC2/xQABgDx/ywAIQARABMA//8VADAALgAFACwA/v/m/yQA//8uAPv/1P8JAAgA8f8dACAAGwAQAOz/6f8oACQA/v9AAOT/EwDg/+D/GwD2/+b/AAD1//j/6P/Y////+v/j/+T/FQDa/woAyf/l//j/0v/X//z/+P/u/8//wP/l/93/5//e//f/7v/E//j///8GABgA/v8YABwADwAQAD8AIAAuACMAHAAdACwA+P8qABwAIQAPAPX/GgABACYA8/8fAP//CgDn/wIADwAPAAEA5//p/9v/9f/6/yQA7v/w/7//1v/X/w4A+//o/93/rv/1/9T/AQAEAP7/6v/k/+H/DAAYAC8ABgAKAOj/+f8YAAQAOAAXAAMA+//7/wYAJwAAAP//8//w//T/+f/r/xgA/v8PAPX/FwAfADMAOgDz/x8AFQBPACcAMwAjACcADwD9/wcA//8SAA4A5P/q/9r/0P/v//D//f/m//b/xv/u/8X/+//p/9j/0P/G/+f/3P/+/9f/DgDe/+//+f8lABQAEQDw/w4ALwAZABAAGQAWAP3/AQDW/04AAQAjAP7/5//2//H/HQAbAC4A6f/z/w4ACQAKAAoA8f9AANr/6P/3//v/GgAFAPL/0P/5/9v//P8FAAkABAD2/9r/BgDU//n/JQDn//j/x//t//3//v/9/+3/IADS/93/+v/+/zYABQDk/wgA8v8FABoAJgAXAOz/AADt/0oAFAAaABoA8f/4/+f/7/8iAAwACwDf/+//BQDw/yMA8v8VANf/7P/4/wMAIgADAAcAAwDf/+//9/8cABUABADT/+//8f/s/xMA6//1/9r/7v/l//n/CgAOAOX/2f/b//L/9/8XAPb/9f/o//j/DwASABoA+f8dAAwAAQAEABcAGAAnAO//EQD1/w4A+P8AABYA8/8PAP3/9v8GAAEAGQAgAPX/FADR/x0ADAAQAOj/4f/x//j/8f/r/wYA+f/1/9n/9f/s/xsA5v/t/9z/7P/r//3/HwACAPz/4f/n/+v/8P83ABUAFADr/+j/HwALABMAEwAlABcA+v/r/yIAHgAeAOL/KAD1/xIAAgD6/xgA9//r/wQAEQAFABUA5f8UAPL/BADs/zYACQAYAAAA1/8HAAYABgAQABwAAgDl/+b//f8OAAIA2v/1/+n/6P/h/wIABQDt/83/1v8FAPv/8v/6/9z/7P/Z/+X/BQAOAOX/5v/i/+3//v8AAB4ADgAAAOb/DgAiAC8ALQAoABQAIwDo/wgAJAD+/xUAGgAHAPX/3f/v/wwAFwABAN//8f/v/xYA8f8aAPT/5v/r/+X/GQDo//X/+//i/+r/5P8FACEAAgDq/+D/AQDz/w8ADQANAAwA5//X//j/BgAEAAQABwD+//v/AwAIAA8A+P8cAAwAEgAsAAEAEgA1APf////0/wgANwD8//3/FQALACUA5//3/xUACAAJAOj/BQAGAAMADQAEAO3/4f/1/+n/CAAJAOz/AQDJ/8//2v8TAAMA+v/q/9L/6P/q/xQABAAJAOf/4v/k//r/HQD0/wwA5/8CAAgA7P8hAAMAKwDi/wMACAAiADcA+P8oAOr/GAABABwADwAWAPn/GgD//+D/8f/s/ywA5P8HAMz////d//z/BgAOABcAAADj//T/+v/4/xoABAAgANP/AQD0/wgA9/8PAA0A7v8YANn/GAD1/+3/+//x/wYAAgATAAEADwDk/xcA9v81ABgAFwABABcAHQD7/xsAEQAUAPb/8f/P/w4AAQAiAN7/7v/R//T//P/t/+D/BwDv/9X/5v8OABoA6//8//v/GQDv//X/+P8TAOP/2f/V/+z//P8RAPb/+v/s/+z//P8hABQAMAAWAP7/8P/3/xwAIwArANf//v/x//L/EAAbAAIARwD3//z/7/8GABEABwAMAOn/CQDM//D/BAAIAPP/DgDk/x4A2P/6/xAABgAPAN//DgDb/xsA+f8NAPb/8/8KAAgA9v8EAPX//f8CAO7/FgD3/woA+//9/wUA4P/q/w0AAwD6//D/CwAaAAUA2P8HAP3/DgDz/wsAJQAvAAgA4/8LAOr/IADz/yAAEgD0/+f/6P/1/+T/AAAGAP//+v/C/woAHAD+//r/7/8jABIA7P++/z8AGwDr//T/w/8VAAMAy/8PAAEACAAFAND/CgAjABsACwAGAPP/8/8hAB4AMAAOABkAFADy/xEA/f8uAAIA8v/Q/9j/BQDu/+7/6v/d/w0Aw//0/wEAEABGAPP/GwDv/xsAAQABACMAHQACANj/2P8DAP//HwDj/+//7//G/+3/7//h/wYA2P/4/+r/9f8RAP7/NwDr//z/4f8hAPr//P/2/xcA/v/1/8H/BAD3/wYA8f/m/wEA7v8FAMf/IwAWAB8AFwAZAPn/LwD6/woAHwABAAAAAADu/wwA5/8FAPH/+P/i/+j/EQD6/wEA2P8IABYAAADp/xcADQAIAOT/CAA0ADAA5//2/w4AFwAAAOL/BQAeAPT/2f/O//v/5f/a/wYA+P8JAOf/9v/8/wwA/f8gAAwAAgD8/8H/GQArABQA7f/2/x0A9/8FAP3/IQArAO7/6//z/wsAIwDs/ykA7//8/+z/7P8rAOL/IwD///P/4//G/yAAGgDl/9j/r/8BAPD/9f8IAOT/+//N/wQACgAjAC0ABAAaAOT/BgAlAB0AHQD6/wAABwDf/wUA3f8XABgA6/8KAOH/LwD4//f/9f8RAB0A8v8DAP3/FQAmAOj/9P/8/+b/GwDv/wAAEgD1//X/6//+/wEAGQALAPv/IQDZ/xcADgAAACUA4v8ZAPr/DgACAOr/GQC8/+D/0P/1/wYA5v////P/9v/W/9b/8f8WAPz/AwDg/xUA5f/8/xUAEwAlACMADgABAAgA+P8YAB8AIAD2/xYAFAAHAOn/4f/8/xgA9P/w/9v/LQD4//f/7/8FACYA4v/7//T/EQD0/9z/2//9/9T/3v/c/yIACQD+//P/6v/x//7/GQATAAMA5//x/xEAIAALABoA/v81APX/7v8IAAwAOwDj/97/7f/u/w4Azv8GAPT/7v/v/8H/CAAjABkAAgD6/w0ABgAJABsA8P8jAOX/CAAAAOv/PwACAAUA8v/z/wsAJQAXAOn/BQAkAPf/7v/n/xcAJwDe//X/+P8gAA8A3//j/+P//v/1/+b//f/u/+L/z//U//n/7//+/+H/4P/o/xUAIgATABgA7v8EACUAGgDv/w0AKQAxAO3/8/8LAAQADwDf/xYAQAAsAOT/2f/1/zsAFwAUAAgAJwAGAMf/CAD8/zAA2f/P/8L/5//m//b//P/g/7r/vf/f/wQA/P/X/woA6v8fAPT/JQAfACAADgDv/wAAEgD//+D/1P/q//j/6f8NAOf/BAD9//v/HQD6/////v8hADUABgAlAPb/JQAkABAAPQA/AB8AEwDv//P/FwARAAoA/P/a/9H/8v/3//L/4//w/+v/BgDh/yAA+P/2/wgA5f8TAAEA9v/u//f/4v/g//D/8f/1/9//vv8EAOP/BgAgAPf/CgDW/wgA7P8IAP7/HAAoANP/MgAtABIA3v8fAC4ADgAHAA4AHwANANb/7/8mAPf/DgD2/w4A4/8IAAQA+P/m/xEADADc////BgDd/9v/7//d//f///8KAOP/CwC5/ycA9f/n/w0A7v/+/9v/EADp/wUA7v8FAAoACAABAPv/CAAXAAwA+v8HAB0ADQDl//D/GwAWAAQA/f///ycACQD//yEA/v8yAAYAx//5/wMABgDX/wUA1f8JAOv/2P8QAO3/+f8BAPj/AgABAOv/NwDq//r//f8jAOn/JQABAOv/QQAJACYA0f9SAP7/3f///+T/KgDS/+H/DwDS/+//6P/R/+j/CgDy/9b/FAAVAAUAyP8IABUAxP8MAOr/8v/x/+r/IQDf/xEAHQD3/w4AAwAlAM7/KABPAMv/BAAAADoAs/8JACAA2f8BAO3/DwDq/8H/NQAKAJf/9f8+APT/wP9UANf/EwDN/woAJwCm/zUAPQC8/yQAPAANABIAEgAVABsAMQDV/zUA2P/0/ygAxf/Y/0QABQDe//j/9v/u/xYA5f/v/yUA0v/6/yMA6f/1/yAA9f/Z/97/DADp/xMAw/8EANT/5/8HANL/7P8rACwAtP8JAEwA3P/z/x4Awv8yAM3/GAAAAL3/SAAJALT/EQAjANf/6f85AAkADAAMACcAIwC3/2cAGwDO/woAJAD2/7z/GAAEALj/KwDr/8T/3f8FAO7/9P/i//j/6/+h/wEAIAD0/xIAJgCq//P/+v8PAA8AEgAQADsAlv83AAYAuf8SAPz/GgCV/1AAAgD4/wEAEQApAN7/CQAwABEAIwA4ABAA/P8KABIABgAJACoABAAeAOb//P8IAP7/CADn////5f8UAKL/JwAUAL7/NQDU////DADb/xQAJAAUANj/BwARABkA2P/d/zEA0P/0/87/GgD6/8//RQDC/9n/SAD+/+3/CgAiANH/9/8FABYAHwDj/14A3f8YANP/KADX/yIAMwCY/yoAEADs/9b/IgAOAAcA2/8kANv/PADW/yEA5P///ygAk/9PALj/8P/t/9z/DQDB/z4Ag/8vAAAA2/8vAN7/RwDq/+P//P9LAKv/UgDO/0sADwDm/x4A/v8QAOf/EgAKAEQA7//h/wIA///w//b/zP8qAMn/FgDe//X/2/8lAAwACwDn/y0A5/8JAO//3f9CAND/SACt/ykA/v/9/+j/EADE/xoA8//h/w0A8/9jAJH/dAAQAJv/aQADAO3/KAA1ANz/LwDw/+f/HADo/0EAy//O/0EA/P+i/ycA9v/J/yEACgDA/0cAGQCu/0MAu/8RABcAxv/j/yUA9/+p/0MAsv8vANz/EQD0/x0A8f8fABoAr/+DAK7/IADh/10AsP88APP/+v8RAPj/FAD4/+b/2P9SAJv/FwDt/xsA5v/W//n/MQCQ/48Asf/q/0oAov9+AKT/MwAzAMb/EgAZAPL/wP+TAMH/AgA4AKr/fwBg/34Aof/9/ywAhv9jAIP/OwAGAKD/BQAcAKL/UQD6//r/TgCk/1sAwv82AMj/TQASAKL/bgDo/y8A5f9CAOT/UwDL/zwACgDJ/zcA+//b/xoAIACm/0IAtv8AAAwAAADS//v/OgC9/yQAOACP/1AA9f+t/xoAIgCy/zUA+f/J/wQA1v8GAOn/LQDJ/zAAnP9VANT/zP88ALb/NgDu/wgA9v8/ANf/IwA8AOr/QQAiAA4A5/82APn/NQDw/x4ACACq/1EAq/8jAOr/KQDf/+v/BADI/z4AnP8/AMf/OADH/x4AAgD9/63/NAD3/6z/kwBo/1oAqv/u/7//HQC//wwA2v8hAOD/wf9VAJj/bgDe//n/TwDh/wsAZgCX/4sA2v/s/18Apv9+AKr/OQDb/xMAIgCI/3YAmv9fAH3/SgD5/8b/XQCn/y0AMQCt/yQANQDR/1MA3f8pANT/SQC8/yIAFAArAJv/lABk/18AuP/+/2IAT//cAGT/jwBt/2IAuP8eAOv/BAC8/yEArP/z/+v/t/8hAID/SgCp/00AsP8tAN3/IgDC/2QA0f8uAPT/DwASANP/TgD4/zcA/v9TAOX/DABBALv/NQDb/9v/XwCo/y0A2P8BAPL/AADL/1EAwf/9////yf9DAKT/SQDB//7/BQDb/xQAs/9ZAID/SQCr/x8A7//f/x8Asf8uANL////Y/1oAvf9PAJb/awCd/z0AEAAIACkAGADc/yQAEQDT/zsAGAAEAPn/SQC4/4gAvP9JAOz/EQApANP/9/9DALT/UACY//3/8v/S/+T/z/8CAND/+f/E/xYAt/81AIT/MgD7/8j/IgDH/wkA9v/P/xMAGQDb/xcAJgD+/xMA5f9TAMD/UQAAAN3/YwCw/3AA0f8nAAQAPwD1/7r/mACd/yYAHQDb/yEAsP8JAC8AjP81APv/1v/o////9P/Q/0gA8/8AAPb/FQDk/xIA4v8/ANP/2f84AL3/RgDP/x4AGwCx/zoA1P8NABAAPAC6/w8ALwDM/zwA8f8oAAsACADZ/y8A+f/4/0IAz//1/xsA1/8MABYACQDU/zMAHwC1/x8A1P8QAAgA0P84AAQA+f/5/9n/AgDx//3/LgDk/y8ABADn/ygA5/8sANf/GAAXAOH/IADh//X/4v8BAO3/8f87AOz/AAD7//D/IADq//P/NwDd//T/GADc/wwA4P8WAMP/AwAQAMH/TwCf/xwA5v8HAAYA9v/j//b/AwDH/xgA6P8aANT/LADQ/yMABwAJAAgAAQDR/1AADgDu/z0A3/8zANT/ZACv/1IAGQDM/z8AEwD3/wsACgDM/yIA2v/+/+D/BAC8/0oAw/8EAAcACADQ/zgA4f/e/0oAsf8lAMf/SAC4/1sAyf8AAMb/SAC1/+n/HQDj//X/4v8ZANX/KADY/xMA6/8SAOz/PgDZ/ycA9v8zAO3/GgASAO3/EQAsANr/KgD///7/6f/l/woA5f8pANf/PQDU/+v/KADm/8//KgDn/wkA3f8cAAoAyv8rAPH/8/8oAPb/FgDd/wsABgACAAAA8f////b/r/8cAO3/+P8tAOb/PwDX/x4AIwDw/yYAIQDw/zoAAgDs//P/IwC2/xEA9f/u//7/0/8CAOb//f+x/yoA2v/a/xQA4f/l//P////R/xQAAwD3/yUA7f8VACMA/v8YAC8AGQDP/zEADQC4/z8A9P8WABQA+f81ANT/6/9AALT/GQAYAPL/EACz/0YAr/8XAMr/EgDc/+f/DgD3/+n/3f89AIv/RgDT/z4Aw/8/AMj/5f8BAOb/DAD3/yUA//8BAOD/MADP/ysACwAlAOj/JwDY/wcA2v8YABAA+P8NAOn/DwDL/ysA+//i/zMA5f/+/wUA1P8IAAcA7v8hAOP/EQALANT/EADv/wsAJQDf/xQAPQDP/zYA8f/8/wkABwDg/1EA7//V/ysAzf/q//D/5f8kAMr/FQDt/+n/9P/r/w8A1f8MABMAEgDP/zsABgANAO3/QgDm/w8ABwAHAAwAGwD8/yQA3f/r/zQA1v8iAAcAHADI/yAA3//q/wgA4/8AABwAuf8TAP7/7P8qANX/FgDt/xQAAADR/z4AAQDv/wYA8f/4/xQABAAEAAYAKwD4/w0AHwDv/y0A3v8qAN3/9f8dANH/FADq/9z/FADE/wAA7v/4/xAA2//w/9n/4v/v/8n/8//p/9T/JQDE/wsAFgD2//n/NgD9/yoADgAjAAAAEAASADcAEwD8/zcA/f8HANz/AwDc/xAA2v8VAOn/EADe/xsAtP8FAP7/8//k//v/9f/v/w8A2f8PAMv/GwDc/xMA3/8CAO//EADR/yMABQAlAAMA+P/6//H/JADS/ygAAwAWAAAA/v/q//7/8v/3/w4ACwD+/yMAIwDG/zkADwDu/zoAAwAXAAIAJADo/8b/IQDi/wEA9P/0//j/9v/1/+r/FQAAAAcA9f/v/+b/GAAEAAIA9f8SAOj/8f/f/w4A5/8kAO3/AgAMAN3/IQDQ/wMAAgAmAOP/TQDU/zgA7//4/xEADwAbABwALADl/zYA3v8kAOb/JQACACsA6P8sAOf/CgAPANT/IwDQ/xgA5/8LALX/DgC8/yAArv8AAAEA7P8ZAPX/KgDY/zYA8P////z/NwDe/wsA0P8KANr/9f/v//f/DgDU/ywA6//l/wMA8P8WABYAAgARACAAAwDt/wEA8v/w/+H/AADi/xAA4v8NAOH/AQDo//f/6v8AAB0A7/8hAAgAFgDq/wcAIgAIAA8AHQADAA8A7v8KAAEAFAABABAABQDw/xIA7f/w/wQACADv/97/CAAOALb/MgDX////CgDg/xAA7v8BABEABgDo/yYA8v8LAAAAGgD7/wUA8P8LAN3/7f/9/+3/5v/x/+X/6v8MAOr/BQDb/zEA3P/7/yQA9P8aABAA5v82AAQADgAlAAEADQAgAPT/7P8pAN3/IwDr//r/HwDi/wgA8f/x/+v/8v8JABsA5P8UAPD/7v/p/+T/7f/p/+P/EADZ/+n/LwDR/ykABQAhACgAFQDq/xgA+/8dAPn//v/z//b/BQDF//z/+v/6/xEA2/8uAPn/CQAKACEAFQARAEIA8v8fAAUAKwD2/wgA+f8YANj/KQDE/yYA2P8TAPb/7v/r/wEA2P/c//X/x/8mALv/EQC0/xIAof80AN3//f8hAO///P/q/woADwAAAA4ALADo/yAAAwDc//7/5v8LAAgA3/8uAOz/6P8UAPb/9/8yACcAEQAEABwABQAEAPP/JgAOAA4ACwDr/9f/9f/9/+D/FwDF/yoAuf8RAPH/1v83AOD/NgDO/w4A3//0/+T/EAD7/yoABgAOABgAFAAEAOb/IQD0/xkA8v8WAPj//f/k/x4A0f8dAO7/+v/q////7//e/wcA4v/z//z/AAANAOj/4//9/9z/8//s/xYACAAYAP//IgDn/0AAGAALAOv/KgD9/+r/HQD1/x0A4P8fAN7/CwAAACAA6f/h/xUA3f8UAPn/AgABAPf/4f8WAML/FQD0/wEA+P/q/zcAvv8SAOX/AgD4/ysAz//7/xAA0v/l/+b/BQAFAPf/9f/i//X/8v8BAPP/DQDy/9T/HwCz/ywA0/8gACcA2f8vAPj/BwAZAOT/KQAsANv/PwDh/xoAJgDz/xMA9//y/+j/DAC2/zIA7P/p/x4A1v/y/9j/8//K/w0A8f8BAAcA+f/v/wsA9/8iAPj/CQAgAO7/JQDo/ykA5v8qAAQA+/8TAPj/BwD+/xUAFQAPADQABAA5AAkAAQAfANf/EQDh/wwA2//z/8X/7v/O/xMA1f/+/9j/AgD4/6H/CwDd/ycA0v8QABIADQD5/xEA+v8NACYA+f/l/yYA5P8MAPD/AQAVAO7/8f8KAM3/PgD5/+//MgDE/0IA3/9dAM7/QADf/xkABADU/0UA6P/5//n/7v/e/xkA+f8cAAMANQDv/wwAAgAEABYA6f8UAAEA+//4/yUA///O/0AAgP8zAPb/sf81ANz/yf/5/9X/zf8AAN3/6v/w//D/0f84AJH/ZQDk/zkALwDu/08A2/9SAP3/MQBwAA4AGQA1AAAACwDt/yEA1P8eAKr/EADp/67/GACz/wAA9/+//+X/wv8LAN3/CgAqAAIAfACO/10A8//0/2IA3f9VACYAAgAdAPj/BgAVAA0A8f8+AOn/8v8XAMn/DgDn/83/HADV/7H/LACe/0MAqP8DAOz/AwDu/+P/+//M/zcAwf8sAPv/NADu/zkA4f8uADgAx/8/APT/MAAnAOb/DAAJAB4A6f8rAMT/JwDr/93/4v/T//j/8//s//3/GgCb/00Al/8sAPP/CwAfAA8ADAABACEA8/8KAAEAAgAgAPj/9/8KAM//GADC/yUA5f/v/xsA9P/8/+X/uf80ALP//P/+/9r/+//j//T/8v8OAOb/+v8RABAADgD8/+7/MgDl/yIA1v83ABAABgAIAAsAMAAAAN//JgDY/xsA9f/r//3/3/8DAND/+v/m//T/wf8VALf/UgC8/x4AHgDk/xAA9//y/wgA+f8DACQA9/8nAOv/BwDZ/zcA5f8BACYAAAAdAB8ACwAwAA8AMgAFAA8A9/8QAAAACwAYAAgAx//r/+T/zf/P/9T/9//B/zEAuP8zAMz//P/W/wwACgDY//n/4//+//T/DgD+/yQA5P8CABIA/P84AAwACQAuAPf/RQDr/zwA2/8pAAQAEwAVAOr/QADj/xEA+P8LAPn/CQDq/wAA3//1/+n/xf8dAMH/EwDG/wQAEgCz/zgAwv9NANT/9v8LABwAHAAMACYA9/8zAP//4v/m/xQAvf9FAKD/HwAaANH/GgDI/zEAwf8aAMn/AAADANf/DgABANv/DwACAND/YgC0/2kA/f9SABQAGAA8APL/hgCl/3QA8f88AAoAFgDg/zkAGwDR/ycA0f81ALf/EwDD/wYAyf/K/93/z//C/9T/xP/K//n/vP8JAPz/9v8eAN7/8v8KAAkAEwAQABkAHABCAAsABQD8//z//P84AOL/KAAoANb/GwDT/9//EwDU/zwA2//4/+j/4P8IAOr////m/ywAx/8DAOz/8v/6//H/0v8dAPb//v/+/93/IAAGAAAA9v8oANr/MwDO/wkAPwDQ/0EAsv88AMz/AQDY//P/LwDU/zQA/v8vABYAHwDz/0MA4v8fAOz/OgAFACEADQD7/zQAy/8ZANf/HgDr/+7/EQD2/xQA7v/Z/x8A+v/u/yQA7f8fAPL/x/8AAMb/LQDB/xMAxv8NAPr/tv8OANT/EAAJAPb/4v8xAJz/MAC+//f/MgDK/xMA3P/8/63/AQDe/9T/JwDe/wYAKQDj/+j/BgDW/yQADwD3/zgACgAJACQACgAKAEAAEwA8APj/EADv/xYABgD7/xwA6/8qANT/+P/r/+//BQAHAA0AFwAMACkAAAAIAO//FQAMADgA9//6/yUAzv8bAMT/KAD4/w0A+P8MAAkAGADB/xAA0P/5/xMAgv9eAJf/HQCu//T/0f8PAMP/0P8wAML/OwC4/ywA9/8pAMf/SgDg/zIA+//s/yEA4/8YAKX/MQDJ/zoA6v/7/yMACQD0/+b/2P8nAOD/8/9CAMv/KgDW/xoAJQD0/wYA+P8uAOb/GgDt/wkAUADd/xEA9v8CAN3/AwC0/xYA/v/o/wgA0f/1/+X/+P/Q/xwA+f8eANj/JwD5//r/GQDz/x8A+f89APr/NAAJAAQAJgDg/xMAGADi//r/AQDm/zwA2f/8/93/zv8WAN7/+//t/9r/7P/m/97/9f/K/xcA5v/2/wEADQAYACkA9/8NACEAFwAjAO3/HgAXAB4AAwAWANj/OQC2/x8A9v8MAE8AwP83ANX/FAD5/wAAGQASAPb/FQDs/xcA/P/r//r/+f/8/9//7P/N//D/wf/s/+z/CQALAO3/4/8JAO3/9v/5//7/LQANACcA6v8oAAEA7P8oANz/UQADAP//IwACAC8AFwAoACcAAwAWAOD/DgD3//X/FgDP/zkA+v8DAAMA4/8KABAAyv87AOr/CAD4/9n/BwDR/wIA0f8JAOL/9P/a//f/wv/1/6//3P8QAM3/7v/o/+T/6P/4/8n/HADx/x0ACgDw/wkAMQD//wcAPADr/yoACQDw/woAEgD5/ycA8P/+/xMA7v/9//f/BADc//7/4f8eAO///v/x/wAA6//L/wUA4f8BAPT//f8IAP7/AwDz/+b/HwDt/woA+P8vAOL/DQD2/yMAHgDq/1MAxP9qANL/KAAPANP/NACx//r/yv/e/9X/wP/4/8z//v/V/+3/AwC8/wgAAwANACAAIgAnAB4AKwAFAPz/HQDb/zIA6v82AB8A5P8lAO//EwAKABQACgAjAA8AEAD0/xcA7v8WAAoA7//9/97/KAD1/+3/CQDh//b/3f/0/+n/BQD9/wYA9v/v/x4A6P/p/wsA/v/r/xcA6f8jAOz/JQDf/wIA3//L//7/zv8xAMb/9P/+/93////o//X/BQABAAwADQARAA0AFgAUAAEAJgD5/x0AHAD3/zQA9f8dAAwAEQD6/xUAGgAQABsAAQADAA8A6f8FAPz/FQD6//n/BADW/+j/tv/u/8j//P/h/+b/7f8GANr/EQD4/wsAFAAMACoADgAjABQAHgAFACcADAAdAA0AAwANABIA/v8TAPX/AQDe/+H/5f/n//v/EQAPAAQADQANAOr/7P8AAOD/GwDy/yMA/f/1/xcA2P///+z/AQASABoA9/8TAAQABQANAAwANAAVAA8A4v8DAN3/BgDx/wUA5f///93/5P/m/9j/DgDX/xcA4P8TAPP/AQDV//X/7//2/woAAwAdAP//9f/3/wgA8/8eAO7/GwASABAAIAARAPj/EADp//3/BgDv/xsAGQAAAAIA//8EABEA8v8ZAPr/JgAHAO3/BADo/+//+//v/+3/+P/S/+T/0f/e/wEA7P/l//T/9f/s/yQA8f8hABcAHQArABwAOwAhAD0ABAAPACwAEwAvABQAEQAYANP//v/Y//z/6//3//T/6P/u//H/6f/Z/+//2v/8//X/4//0/xMA9f8OAPj/GgAXAAsABQATABIAFAD///D/FwABAPb/EADq/+r/CgDO//T/5f8EAOL/AQDu//n/4P/1//f/6v8IAPH/FwDe/yMA2f8NAPH//f/y/wwA+f8BAAsA/P8tAOP/LgDj/xsABwAmABAAMwAPAAkADgDr////6f/9/+X/9//w/wMAzP/1/9j/9f/p/wYABgAXACwAAQAqABUAJAAaAB8A//8VAAsA9f8JANr/BQDj/+H/AwDg/9X/+f/q/9z/BwDJ//f/zv/k/+f/5f/o/+//7f/c/w0A8//3//D/DADz/wUA5P8KAA8A+v8mAA8ABwAzAA0AAAAYAPX/HwAHAOr/DwDu//X/+//e//D/4v/g/+L/CADz/x0ADwDw/w8A7/8EABgABgAgAB8AHQAUABcACQAWACQA+f8mAAwA+//5/93/xP/c/8//8f/i/+b/8v/Y/9P/2//p/+j/FADm/xoA/f/v/wkA6P/s/w0A4v8JAAwA7P8XAN7/CgAPAP//AAAgAOH/DAD4//f/EADr/yEA6v8RAAAA8v/c/+///P8SAOz/KgAUAO//IwDF/xsAAwAPAAoAFQAVAP7////z/xcABAAoAAcAEAAFAP7/8v/k/+v/2//2/9H/7P/I/93/5f/a/wMACAANABQADQAKAAMA/v8GAAEAEAACACIA7v8VAOX/7P/u/+b/+P/Z//X/8P/q/+L/+f/r/xwA7v8eABUAJgAdABYACwALAB0A9f8uAPz/KQAIAP//9v/4//b/+f8BAOz/EQDt/wUA8f8QAAMACgACAO//+P/m/9r/zv/x/+X/9v/q/9//4v/t/97/CAD0/wQAEgD1/xgACAAQAAYAHgANABoAIwAjABoAAAAIAAUAFgD9/wcA+/8FAAAA8f8LAPX/BgDp/+7/1P/z/wMA3/8WAP3/DwDz/wUADAD0/xIA//8KABEAFQAKAAkAIAAJAAwAHAAAABwA6P8JAPr///8DAOv/GADs//7/8v/g//r////q/xEA8v8fAAEACgD3//r/DQDl/w0A9v8eAOb/BgAEAAIAJAAWAB0AFAAVAP7/CgAJABkADAAcABYADQACAPP/BwDt/xYA6v8HAO7/5//W/83/5f/l//T/6v/y//D/+f/Y/+//6/8fAOn/BADt//f/7//4/wsA8f8WAAAACADn////8//3//j/CgD+/xEABwAIAOD//P8IAPr/MwDm/ycA/f8VAPz///8ZAPv/JgDo/xkA2v////X/BgD//wgABQDx//3/9/8FAA4ACQD0/yQA8/8zANX/GgAKACMALgD7/y4A+//m/9//5f/y/wgA2P/7/9L/CQDb//3/0/8CAOj/+f8wAM7/MQDV/yAA/v8FAA0AAwAYAO7/AQD1//v/EgDl//L/8f/p/woA1P8LAAMAFwD2/x0AEgAKACQA3v8WABAAGwAlAAMAEQASAOT/BgD//+H/KQD8/wkAEQD//wsA8v8FAPH/AwAvAAcAFgD2/+T/GADf/+7/2v/y//v/v//y/9z/8v/s//D/9f/a/zsA5/8mAC4ABQA4AA8AIwAMAPP/NQDL/xoAHgDX/0UAyP8aANv/DQAIAAoAHwAkADEA+P8xAPr/6/8mANv/AwAcAMj/HgDD/xsA3//3//T/2//8/+n//P/c/xYAxf8HAO7/5P/+//X/IQATABMAFwAAADEABgAPABsA9P8zAOn/GQDz//7/GwDh/wkA///k/xMAzP/4/wwA0v8wAMr/BwDg/9L//v/h/+z/+/8PAMT/FwDx/+X/QwDl/wQAKwC9/18A4f8HAG8Asf+cAOn/NABBAA0AXQDU/10A2P8wAP//sv8hAKn/+v/J/7v/AgCd//j/uv/s/wQA6/8fAPb/GAADAAcA9/8JAPb/+f8bAPL/AwAMANf/KwDx/wAADQAFAA0A/P/z/wMABQDe/yIAyf8vAP///f8OAPj/FwADAAQABgAFAN3/BQDA//X/5P/y/+P/CQDq/+r/EgDW/xQA/v8KAPr/EwDj/wsA7v/s/wIA3P/n/wEA3f/u//b/s/8uALP/EgDp/+v/FADU/xQA6P8tAPX/GwDq/yEAEAACACEA/v8rAAYAIAD6/ygA8P8hABEAz/9OAML/NQDP/wEAHADY/0cA1f8iAPz/BADm/+3/9v/s//3/DgDc/w4Auv/4//D/xv8LANL//v/k/9v/3P/3/+D/3f/p/9//+P8LAMf/DAADAPn/+/8cAAIAJwAAAPz/JQAEABAAHgD9/zcA7/8eAA8Axf8/AJL/RgC//xUADADn/xMA3P/j/7P/JADS//r/FADP/ykA9//T/z4A3/82AOn//v8AAAEAJwDd/xMAJwDY/z8A5P8DAC0ADAAPAPf/GgDA/0wAi/8eAN7/y/86AKz/AQAAAOr/+P/n/wcA2v8aAPb/1v9OAMT/NQDq/+L/BADf//r/+v8IAAgAEgAqAPP/KAAIABUADAABACsA4v8uAPz/5v8oAN3/GQAiAMP/PQC9/xoA1/8YAOD/GAATAK3/HQDQ/9//7//E//7/8//Z/x8Aw/82AOr/BQDl/yAADwAhACMAAgAlABQA7/8iAAwAIwAQAOf/HwDT/xwA3P/7/+f/9//l////4/8KAOf/+v8OAOf/CwDu/woA9v8YAOf/GQANADEA8P89AAAA7P83APH/IgAJAAkA9P8EAP3/EQAAAB0A7v8XAO///P8RAAEACwDs/wgA8v/y//b/6P8GANr/3P/s/7L/JwDR/+j/IQDb/0AAv/8dABkA+/8pAOb/MQDf/y4A3f8GABAA1P8MAPP/CgAOAP3/HwAbAB4AHgAmAB8AGgARAAEAAgAFABEA+v8SAOP/7v/5/9X/5f/l/+3/8f/T//v/2f/4/9j/7v/u/+j/CQDx/xQADgAaAA8AGQAgAB0AGgAdABcADQASAPT/AQD0//n/0v/h/+b/xf/c/9r/4//f//3/0f/z/8L/7P/l//D/4//Z//P/DAD3//L/LADk/0YA9/8sADwAKgBaAAwAQAA6ABIAPwAaAD8ANQAFAEYA/P8uABIABgAZAPT/CwAFAAIA6f/0/+b/6v/8/9P/7v/5/97/+P/H/xEADADx/wYAGAD6/xQA+//l/z8A6P8kAAcACAA4AAMA9P8QAPf/5P8AAOj/7v8AANn/1//v/9D/8f/Q//b/6P8AAOr/4/8GAOT//P/P/w4AAwDl/w8A/v8uACQA8f8hAAoAIgDz/xMAIgAbACcA/P8tAPr/DAAUAP7/IQADAPL/DwDz//b/+v/6/wQA8f/6//L/BAD8/woA9v/6/xcA2/8WAOz/9f8NAOz/CAD3/wIAFgDq/xoA+v/9/xoA/P8sAOz/GQAMAOr//f/z////7f/+/9f/AwAEAM3/BQDk/xMA2v/0//f/9f8dAMb//f/t/+H/BwDj/woABwDp/wsA6f8UAPP/AQAWAOH/HQACAOj/HgAIAAwABAALABkA//8OAOr/EgDo//D/+//c/xQAy//j//D/9/8AAOb/BAAXAA8A+P8AAEUA/f8BAB8AHwBEABMAIQAIAC4AIQDo/xMAIAALAPv//v8rAN3/9P/1/wMA5P/o//L/1/8JAMX/AwD1//f/9P/r//D/+f/Y//H/6/8FAO//BgATAPT/EwDy/xcABwAqAAIAGwAUABIA8P8MAPj/GQDf/wQA7//V/xwA3/8MAO7/AADu//D/4v8JANb/CgDl//v/CAD6/xgA0v8MAPj/AQAcAP//JQAGAPn/5/8cAAIA//8aAL7/FgDp////CgDZ/wwA1v/b//n/2f8QABMA9//G/+b/0//4/9v/z/8PAAAA3v/q//z/AAASANT/BwAPAAwAGAAvABQASQAcABcAJAARAB0A+v8YAAQAJgAYACIACQDv/wAAzv/r/wEA+v/r/9v/0f/o/+T/3f/7/woA5//5/+b/8P8PAOj/CwDp/xEA9P/5//z/HgAJAOj/AQAIABQA/f8MABQAIQDk//H//v8qAOH////s//b/CQDA/+3/9P/8/8X/5f/o/+z/4//n/9z/AgDf/+r/7P///yMADwAlACgAJAABAB4ADgBMACsAMQAOACEAFgA0AB4AEwA6APb/EgD2/w8ABgASAPr/4v/m//P//v/n/+v/zP/e/+//x//9/+j/6//b/+L/7f8IABEA7//+//P/9P8ZAOz/IwATAOL/KgDc/xQADQATAAYA8f/7/+r/AQD6//L/7//V/97/4f/K/+L/5P/d/+b/0f/b/+T/6//3/93/9P/+/x0ACwAjABkA/v8cAA0ANABFACMAIgAPAAwAKQANADIAIQAUAPz/7v/8/wYAEQAVAB0A7//k/9P/5P8FAOb/AADn/9v/9//Z/+X/8f8CAOj/5v/L/+D/4P/m/8T/AAD6/+P/0f/b/+3/8P/8//X/GwAAABQA8/8sAB8AMgAUABwAAQATABEAFQAVAAEAAwDp//L/CAAJAPj/AAD3/ykA+/8eAPb/IQAQAPP/DgAwABEACAAVAO//FwD8/wEAHQAbAOT/9v/w/x0AEwD1//H/6//d//H/BgABAAwA5v/z//D//v/8/xkAGAAFAPH//f/4/yAAMQD1/wcA7f/u//P/BQAeAB8A8f/d/+3/6P8CAO3/BwAJAAAA7v/m/yoADAASANj/5f8DABAAAwAUAOz/6P86APX/LAAfAP3/FAD7//3/LAAXABoABwDi/97//f8SAB0ABwD1//j/1v/p//z/FgAZAOH/5f/m/+T/EADf/w8AAQD0/+r/y/8GAPr/FQD9/xUAAwDZ/xMA7P8dACcA9P8fAPT/AgDv//n/LQD7//j/z/8WAAwA7v8AAPv/FwASAPT/DQAeABcAHgDp/zIAGQAPAPv/FQAvAAMAEQAYAAkADAAGAP7/CAADABMA+/8TAPT/7v8UAAkADgADAOz//v/s/+v/4v8QAO7/BQDx/83/DQDj/wUA3f/w/wAA+f/c/+X/AAD+/+D/+//l//T/HQDN/yYA7/8QAAcA5P8MAP3/LgACAA8ABgD2/yQA7P8kABwA7v8mAOb/JQAZAP7/8P/4/ykA6P8OAOb/8v/+/8v/KgAXABgAIwDs/wAA+/8aACMAFwAqANf/2f/z/wUAMAALAAYA7v/1/+T///8cAPz/LQDj//r//f/s/xUA5P8sANr/7f/O/9j/1P/E/xEAwv/x/8H/1f/j/9X//f/4/wMA9f/P//z/+P8SAB0ABgAKAO3/BAAMACcAEwAXAA0ADAAIABcABAAkAAcABgAWANP/IgDq//j/AADv/wcA0f/v/97/HwADAAcALQAAACYA//8rABMAMQAjABEA/v/m/wgA4f/w/9L/yv/c/7//v//D/+P/4//M//H/2f/3/9//7P/3//7/+v8QAPz/8//7//j/JgASACgAHQATAAEAEAANAC4AGAARAPv/9v8WAAUACwDp/xIA+P8RAAcA7v8bAAkA9/8NAAsACwAJAOD/FgDz//v////2/+T/7//d/9H/EgDa//7/4f/i//j/6v/7//f//P/q/wQA7f/9//D/9v/3/xMAAgDg//P/2P8LAOf/GAD5/+//AgDd/xEA+v8MADQA8v8EAOL/DwA4AAAAIwDg/xMA+P/5/wEA/v8cANr/AwAmAAkAFgDc/wAALgAIACgA9/8fAP3/AQAhAAIAMQAAAPv////f/zkA6P8rAPv/y/8PANf/OQDZ/wEA9f/r/w8A1f8eAOT/2v/6/7r/LgDc/97/2/+//9z/x/8SAM3/AwDN/8v/BADb/wIA///m//H/7//+/xcADQAHAAsA//8HAAkAJwAXAPf/DgAWABgAEgAPACcAPAAnAAsAEwAUABsAFwAbACwA4//m/83/3/8iAN//GgDi/9D/7/+r/xYA9f8PAP//vv/z/7X///8BAAgAHQDV/xsA5f8kAPb/CQAtAP//NADL/xgA/f8OABsA2/81AMz//P/r/+j/JADR/w8A0f8KAMr/6v/3/+3/CAD7/+7/8//5/+j/IgDo/xoA2f8SAPD/CwD//w4AIgD7/wkA8P8LABgAEAD6/xQADQAuAOj/AQAAAPb/EADy/w0AAADs/w4A7/8mAPv/CQAHAO7/AQDk/xIAIQDv/xMA6v/t/wwA0v8rAND/FADe//D/+P/2/xUA3/8VAOn/EgDz//z/GwD8/wgA9P/4/xUAEADy/xUACwAHAPv/9f/7//j/FgAEABsABQD1//f/CQAbAB4ACAAnABkAIgD+/yYAHQArAAIA8/8LAA4ADQADAAUA5f8fAPD/BgAHAAAA+f8PAOD/FADh//7/9v/p/xYA4/8IANb/AAABAOX/DAD4/wYADwDy/xQAAAAUAB8A7v8rAN3/GQDt/w4ACwDG/yIAuP8tALT/AgD1/+j/EQDU//7/4v/q/w4A+v8BAPD//P///+3/DgDW/ygA6//q//b/3v8ZAA4ABAAoAOn/KwDm/x0AGQAvACgAKgAcAB8AIgAfADEAEAA7APf/HQC2/yIA4P8nAOn/6v///+f/CgDi/wAAAAD1/9f/1f/J/woA1v/m/9X/5//h/+j/+P/y//7/6//o//P/9P8DAPX/BgD1//z/+f8IAAQAAgAJAP//MgATACAA9P8TAAwAJAAZAAMAMQDs/wgA5v8TACQA8P/w/9L/BwD2//T/EgAEABQAz//9////EgAeAN3/MgDu/yQABwD4/zUA3f8hAA8ABAAFAMX/CgDr//7/7P/i/+j/1f///9b/IAALAPr/7P/f/wkACADt//7/6P8AAN//AQAFAPb/JgDV/wsA7f/+/x4ABgD+/wAA6P8RAAUAAgAOAPT/HwDr/wYA9f/9/x8AAgAaAP//EQAJABQAEwAfADQAEADo/xEAEwD6////CQAEAP//6v/u//j/yf8TAMj/7f/U//P/7f8BAO7/9v8SAAgABgDq/xQAAQAwAPr/FwDp//7/9v8DAAEACgDt//H/8P/8//v/DgD0//f/AwDq/wYACQANABMAEQD5/wsA+v/w/wwABQDq/xoA1P8eAOn/7f/5/wcA+v/o//T/BwAGAAUAEAALAA4AAAASABcAEQAPAO//BgAaAN3/MADs/wwAAwD5/wwA/v/9//b/BwD//woA9//e/wEA5f8AAOX/8f8PAPH/9v/M/wMA9f/w/+//3v/x//X/2P8NAOP////x/9b/EQDi/xUA3/8XAP3/BwD8/wYAHAAEACMA//8cAAsAFQD0/xUA+v8XAPf/BwAUAAcA/v8CAAcABgAVAO3/EgDu/wYA2f8AAPT////u/93/7f/c/xEA6/8JAO//BwD4//H/CgD6/wYA+v/f/x0A4/8GAAwA6P8QAMr/DADZ/wAA5//g//v/0/8MANf/GQDz/wsADAD6/ysA/f8mAAIAKAAiABgA/v8XAP3/HgD6/xQA9P///+//8//9//L/JgDh/wYA2P/z//H/AwDn/wkA6f8CANb/7f/W//3/5v/y/+v/3//7/9D//P/u/xUA+//4//f/9//0/xIABAAZAAIABAD3/wgA7v8QAOP/EQDu//H/DgDs/xcA5//9/wkA8//+//n/CQAmAAYAJADh/ycA+/8FAAUA8v8SAPH/+//o/xIAEAAfAPf/DgAGAAoAHAAQACgABQATAO///v8AAAUABQAHANv/9//S/+T/+v/n/w4A7P8BAOP/BwD1/z4A+/8NAPb/7P8aAO3/FwD5/wwAAwD4/wYABAAVAPr/6/8GAPf/DQD1//v/9P/7/w4A+/8FAAEA/P8MAP7/JQD4/xAACgAAAA8A9f8nAPz/CQDv//3/DgAMAAcA+v8HAA0A6f/3/wUA//8KANn/5v/6//T/DgDv/wAAAADp/wgA5/8JABQA7P8HAOT/FAD+/+//AQDz/xQA8P8GAOL/BADz/w4ACwD//wsA9P8JAAcAAgASAAMAGAAAAAIAHwD//xgA+v8EABMACgD+/wcA9v8JAAEAEAACAP///v8AAP7//v/8/wwA8P/6//L/BwD4//H/AgDu/w8A/v8IAAQABwD//xAA+f8bAAYAIgD7/wgA9/8FABEA9v/5/93/+v/p//P/8v/t//7/4v8BAPT/9f8hAPH/BgDo/wYA8v/6/wYA9v8DAPL/BwADAPT/BgDu/yAA/P8IABIAAgANAOP/EwAMAPD/AQDr//n/6//2/wIA6/8PAOj/JADe/w4ABwAFACAABQAUABoAJAAJABUAFQAxABoAHwAUABsABAASAA4AIQAIABMA8//5/w0A6/8AAOv/AwDy//L/+v/2//L/7//0/9r/8P/X/+X/+P/w//v/6P8IAOj//P/j/xUA4/8cAOD/JgDz/xIAKwDi/zEA5v9GAOv/NADx/w4AAAAAAAQABQD8/+z/5P/a/wEA4P8YAO//CADl//7/DgD9/w4A8v8JAPT/CQD2/xsAEwABAPr/7/8FAAsA/v8FAPn/4/8VANP/BgATAAgABgAOAAIAIgDv/xoACwD4/xkAGwAEABcA7v8MAP3////0/9z/CgDO/wcAzv8ZAOD/+v/X//j/7f8HAPj/AwD9//X/DgD+/xIA9//8//j/+/8CAP3/EwAVAP3/EwDg/xkA2P8VAPn/FgARAA0ACgD5/xwA9f8YAPL/GgAGAAAA6v8CAO7/7f8CALP/IgC//xoA3f8CAA8A6v8nAOf/FwDy/wQA9//2/+//+f/5//n/4/8AAMX/IQC6/wcA3f/y/+f/DQAbANz/+f8nAMf/1v8CAOf/EwDR/1QA6/85ANP/XACx/zMA6f8nAAMA7f81AO//IADZ/yYA1/8jAMf/GQDV/y0Az/9JAOn/HwD5//z/BgAIABoABQAcAAEAEwABAAcA4v8SAND/LgC0/y0ArP86AMH/EQD2/83/LQCu/xgA5v/e/xgAy/8MAN3/+v8EAOX/LwDO/1QAvP89AOj/HgDi/+//7P/+/+v/8//h/wsA7//t/x0Ayv9IALn/UQD4/xsACgDo/zQA1P8bAOL/9/8EANb/FQDK/wQA+f8FAOr/DwDd/xkABQAaAAYAGQANAPj/KQC+/0QAuv8sANL/6f/9/9/////H/wkAzf8DAOf/9P/y/wgA9//3/wUAGQD1/xIABQDt/ywA6v8uAPX/HwANAOL/GwDK/0oAKQAXAD8Ayv8hAK3//f/v//r/HQDq/zYA0P8TAAEAwv85AJP/PgDk//D/NQCw/1UApf8rAMP/CgD3/wcA+v8WAAkAMgAbAN//KgAAAAkAMgDb/zwACAACADEAx/9CALD/OQCN/24Aj/9SAPH/wf82AIv/QQCk/wkA2f/q//7/CwDY/z0Aq/9kAL//6/8kAKD/cQCJ/z8Axv8bABEArf8/AKT/VgDW/w0ADgAIAD0A6f81AA8ACAAyAMv/FAD8/8b/VAB1/14Ayv8OAOD/AwDl/+j/LQCi/1IAp/8xANr/NwC+/2MAxf8jACkAu/99AJ7/dQCb/yMA0//Z/yoAqf87AOr/CgD0/zQAyv9zAMH/WADb/zAAIwD1/1YAjP+pAED/eACg/+D/NACa/zIA0v/+/y8Arf9vAHP/kwCR/wYAWQBB//sANv+zANP/BQB6AIv/egDL//n/LACp/2IAfP9RAJT/BAAFAGb/oAAp/1QA3v9j/+AA5f7XAID/1/9eACb/tAA4/3AAjv8pAOf/8P8VAPr/DQAqALz/awDR/0oAFQDX/4YAfP/AAHT/sgCh/y8APQB+/7IAcf9VANr/i/+HAEz/LQAEAKL/JgDW/8j/HgDc/+n/RQC8/00ALgDR/5EAzv8KAGIAxf+EAJ3/VwDQ/xwAGwAVABAAKAAyAMf/pgCh/5QA/f+7/7wAPf+FAOX/yv9LAKj/PgCt/ywA0v/q/zMAq/9GAPD/wP9+AE3/gwC+/8L/WQBs/ygAzP/U/yYAs/8PAP3/JQDU/z0A0f/V/5wA+f4GATb/BQBpAOX+jgCj/5f/NACK//P/5f+5/xMAsP8NAK3/PACK/yQA9v+v/34Ajv9RAMD/RgD4/9//LgCp/4UAhv9TAPj/CgBLAND/SwAjAPT/PwDo/04A6P8uADAAzP92ALv/NgAHACkA8f9DAAsA/v+HAI7/uADw/xcAiACR/8wAiP/IAKr/sQAYAB0ApQCg//QA3P9uAGUA9P9sACAAAgBKALn/fABZ/1QAnP8LAOz/sf9EAJj/LADB//z/CwC9/0UArv8YAAMAt/9+AHL/RQDv/5H/YwCI/woA1/98/3oAGf8dAJX/iv/i/0P/7v9j/7X/hv+H/8T/TP80APz+EgCM/2H/FgBJ/+j/ov+Z/6z/9/9I/0sAYP9AAMD/DADj//n/KQCH/1QAwP/v/67/qv+i/8H/rv+Q/6H/r/+d/wkAuv8WABgAJQBMAI4AfQDUAL0APwHPAMQBCAFyAcIBuwAnAvkAQQE9Ae4AnABNAUAAzwBhAEUAOACAALb/RgDe/7T/EwA2/0QA+f4VAB7/vv+T/1H/1P9c/73/2/+Y/9T/4//i/9r/RwD7/w4AVgDI/2oAHwANAFwA6f8UADkAtf/9/yMAdf/c/5z/XP+D/3H/Av+d//f+Sf8u//L+wv+2/vr/tP7v/1D/Wf/z/0//o/+n/3X/mv+H/6j/bf+1/6L/Y/8PACP/IgBk/5v/vP9c/5H/a/97/2v/Uv+r//P+xP9T/5z/hv+S//z/gP80AMD/PAAVAIEATwCRAPMA8QD+AEwBVwHIAZUB9gEEAqIBBQJ/AdoBUgFwAeoA6gAyAOAAKgABAGYAff8UAI3/lv+6/27/QP++/xH/j/9F/0P/Zv9n/0P/oP9a/7f/hf/L/x4A0f80ADYAIQBcAGAAOADhADQA6ACNAM8ArQCuAIkAjwDGAE8ApwA4ACUAOQAPAPv/CwDJ/7P/8P+v/5z/3P+K/6j/7f9Q/0UAmP/V//r/mP8oANj/FADP/y4A+P8cANf/JQC3/yEA5/+v/wsAnP++/4v/mf94/8n/HP+M/0r/NP9y/xL/Kf9o/+j+N/86/8D+ff+6/l7/9P4Z/zP/9/58/+f+f/9E/07/hv8P/4j/b/+b/4X/kf+W/9n/l//d/77/BADX/wIAUAAYANgAZwDnABYBHQFRAawBeQEJAsgBCwKfAQsCZwHIAXcBUAFPAdIAzgCRAMcAQQBeACMADwC+/wQAaP/+/2H/jP9Q/5v/Mv94/zP/QP9x/y3/m/91/47/pP+x/8L/5v8jAAsALQCHAPD/6wAgAMoAjQBxAB0BZQC/ALMATgDFADoAuwA7AGAARwD1/1gAzP9FANv/yf/5/7f/nf/q/43/yP+D/7r/eP/A/4H/h/+p/3r/yP9q/87/tP+g/+H/hv/8/+3/n/8CAMX/5P///67/3v/F/+P/pf+1//r/Wv8CAFH/qf+6/4r/kv+r/3r/g/+c/1//oP+z/3L/uP+5/5P/CgCR/wAA2P/a/+f/6v/0/xQAq/8rANH/7f/+/8P/JQDI/+r////b/w4ABQD0/wwABwAUAPf/UQAOAI8AEQBsAJIAVwCoAIIAgwDYAH8AmQCnALAAewCyAL8AOQARATIAkgB5ADkAxAD6/24AWQD+/zUA6f81AJn/DgDP/8r/5f+x/x4Amf8TAPD/zP9CALj/NgDo//f/HwDs/yYA3f8uAO3/+f8BAAQA9f8XAMX/PwDl/w4AFQAIAD8ACQBSABkAKgBDAAUAUQAqAAcAZgDc/wsAOgCg/w4AtP/1/9P/hP8NAJD/AQCF/ykAcP8cAOT/r/8fAKX/PQDG/wMADAAKABgA7P8dAAEA9P8wANn/HADR/xsA0P/W/wcAqf8dAI//3P/f/5H/9v+O/6H/w/+J/5X/oP9y/63/WP+M/2n/mP9Z/4f/iv9k/73/jv/E/5r/7/+t/+P/vP8CAM7/9//i/+//9f/W/wEAyf8LAPb/8P/8/w0A6v8JACgAHAAoAE0ABQB0AEoAYACpAFoAeADIAJQApAAKAZQA/ADVAJUA2ADTALcArwCrAHoAswBqAH4AaABKAIQAIQBUABwAKAAkAOX/GQC6/wAA0P+m/87/hv/4/2//vP+e/5H/vf95/9D/j//O/9f/kv/0/+L/uf8TAKH/MQC//yIA8P8AAAgA4f86ANP/IwAYAP3/LgDv/xgACQD2/zAA1f9GAN3/LwD1/wcA7/8XAOz/FQD6/+7/HwAUAAsACAAlABIAOQDj/x0A9f8QAAAAxP8ZAOb/BgDQ/7f//f+5/83/lf/o/37/8f+D/7D/j/+b/5T/dP+Y/3H/kP9R/5T/Uf+F/3n/ev+F/67/Zv/G/5n/wP/a/8n/8//7/+v/+P8mAAUAMQABAFcA/v8tADIA8/8+AO7/CwADABwA7P9CABIA8v9wAP7/QABmAAgAiQAzAGMAZgA5AJMAQQCcAEQAlwBAAGAAfwBDAJIAIwB8AFsALABqADMAbgBIADMAVQANAFYACQAxAB4ACgBBAND/EwDs//H/+v/M//z/ov8cAKb/sf/p/6f/9v+c/8n/2f/Z/8L/+//H/woAyP8XANf/KwAhAPT/SQDk/3QA+f89ABwAGwAyADIAEgA7AAkALwAPADMAJwAQAA8A5/85ALf/MADN/+z/zv+6/9P/pv/O/7T/w/+Z//j/wv9VAEoAZwCAAAUAMP8V/wn/MP7n/sX+Z/+H/3EAsQCUAPsAlwBnAJv/nf8t/93+zP5d/3j/yP+WAH8A1ACBAMQA9//p/1n/E/8h/xv/FQAUAN8ATgFbAIMAdAC3/mP/Vv58/hT+3/5g/3L/kACNAIgBgwArAZ4A6P+r/3f/PP8+//L/IADKAPgAmgF5AWMBOQHNAFYA/v/D/53/sf/D/2UAcgDRAAYBJAHmAOUAWQD3/+j/qv9z/4z/v//m/1wAbwB8AJQAsABHAD4AGADN/5T/rP9x/7D/6v/Z/3AAFwBYAJMACwA8AAMA4P/R/+H/qP/p/9X/MgADADcAWABEAFEA5P8aAJL/6P+O/6//mf/c/7X/9//t/wYABQDm/xMAvv/7/5//tP+U/7r/s//x//L/4f8qAMP/7/8OAJf/+P/A/6n/yf+m/8r/3//s/wgA0//u/9D/uv/S/3H/yP+L/3X/mf+N/6v/s/+1/5j/ov+5/4X/w/+J/7n/lv+j/6j/pf///5j/DwDC/+P/8f8AAPH/EgAqABkAOQBAAGIAcQB5AJ8AkgC7ALsAyADzAJYAIAGpANwA4gCFALMAfQBaAGAAOAAmADUACgAEACAACQAaAFQANAAjAJgA6/8UAJkAwP8oACUAo/+f/2f/a/9w/x7/h/+4/4v/3f9GAB8AUABpAIYA+v9BADQAtf9NAPv/HgBtAF0AkwDbAKUAowDGADcAJQA9AJL/5P/Y/5j/FgASAAMALQAZAPj/+v+w/4n/gv85/3z/Kv+p/5H/yP8pAMz/TwAPABEAyv/r/6H/if+t/3r/mv+0/6z/0f+3/8j/x/9q/7L/fP9k/03/dP9P/1X/pf9t/4r/pf9y/1P/cv9N/0j/Iv9t/zP/av+d/1n/zv+U/9j/rv/U/8P/0P/G/8r/EQDe/zcANABlAFsAsACYAL0AMgHpAEUBiQFMAaYBbAF9AZMBBQFsAfEAywDaAFUAiwAsAEoAGwDk/xQApf/U/3v/iP9x/0v/c/9V/3P/jP+J/7n/sP/4//b/+f8dAOr/AQD0/+v/GAALABEAUgBFAGAAfACmAJkAwwDIAKUAXAAiATsAWgBWAbX/2ADjAIL/SQFhAJ//UgHE/7P/7wCA/8f/ZAAa/8r/w/8P/5r/vf9J/6L/0P9t/9P/xf+a/3b/2/9i/zf/zf8D/zD/s//v/mD/u/8f/8n/s/9s/+r/2v9j/wEAuP9F/8//Zf8d/23/Nv8I/0D/Gv8D/+b+DP/R/g//6/4H/xH/4/4x/w7/V/9W/yX/lf9Q/2//6/+v/wcARgBNAHQA+wDpAD8BnQGfAdsBaAJlAlsC7AJuAkICmALXAbYB1QGqAPMAqwDP/z4A4v9t/6b/Zv/z/mn/Af+2/iz/tP63/hj/wf7a/oz/Kf+k/9n/DABKAH8AjACxAPoApAAFAekAuwAOAdcAqgAKAY8A1QCbALsAogCBAIIAQQDn/1UAov+//10ALv99ACQAsf8dARUACgBiAa//XgCpAF3/CgC//zX/mP9q/0//gv+w/4H/2P8QAM///f8MAL7/vf/e/yr/a/9F/8v+Bf8R/7z+Gv8n/+v+Rv9K/xT/Qf8R//n+D/+//uD+3f7T/gX/BP8v/yv/dP9Q/1n/af8K/wX/1/6b/p3+iP6B/sv+q/4v/z//if/i/xgALwCVAMYAzgBJAaUBigFnAkoCdwJHA9kCYQNcA/gCywLRAssB9AFtAawAkwAZAKL/1f9p/x7/XP/r/sH+5v6h/pL+6f52/tz+3P4M/yz/lv+n/w4ATACGAMsADAEvAWYBeQFnAbQBRAFwAUIB+wDcALAAcwBjACUAAADc/7z/m//P/2D/oP+Z/w7/mf+0/yL/XACKAKP/xgG1AIAAdQKAAKkA/wFg/zoABgFM/jQAFgAg/m0Ar//X/qAAq/8Q/04AJP/F/rP/eP54/vb+Kf5Y/ur+gv6v/lH/7v4k/7P/If9y/7T/Bv9F/2P/u/5U/y7/3P5q/yb/F/97/0j/H/9v/wD/0P4Z/6T+sf4N/4P+4v4F/8/+E/84/zr/Uf+J/3D/nv/V/zoAvQAzARQCfQL8AukDAASKBOYEKQT3A9IDbwJZAhgCYgDpAOj/Kv8UAAf/MP/Q/8/+1f4g/1j+P/6V/qD92/1e/mj93v7l/uH+awAkANEArgF/AfIBNwLIAbgB4gFUAVoBVAGpAPwArgBrANQAYgBjAGMAtv+i/4v/Df/z/vf+oP72/gH/g//l/1MA8AAbAa4BkgHAAdYB7QAmAbcAo/+RAEf/av8HANj+zf/o/23/LQAPAG3/GQBJ//D+PP9L/lv+WP4Q/ln+i/6a/vj+Jf9w/2z/mP+4/zj/Yf8D/97+6P7Q/vb+y/4h/xD/Iv9U/zz/GP83//H+vv7s/mv+gv6M/iH+lf6v/iX+Af+z/nz+dv/R/hn/8P8O/z4A3QDqAHcCvQIwA2oEkwTsBOAF3ATPBLAEQgPLAs0C1QDOAEQAuv7C/6j+ev46/17+M/6n/g7+Rf4j/pT99v3L/cD9X/66/iD/DwBJAAsB/QH9AbcCywKRArUCSAIbAtQBZgEmAdwAkQB8ADoALQACAL7/X/9g/wb/if59/kD+Mv5l/pP+/v5p//7/mwD+AAUC3AEyAn0C2AHPAZ0B6ACuAG4AqP/M/+n/Yf/r/+n/hv8LAJn/gv+A/wn/wf58/iv+I/4T/kP+S/5h/vT+AP9O/4L/Z/+F/23/E/9B/wz/1P4P/8n+2v4R//X+FP9J/x7/HP81/8L+8v7N/nj+6v6V/mv+4/5q/nb+AP9B/pT+GP8i/qP+UP8r/p7/wv9J/60BawEfAkEE7AOaBE4GnQWVBRcGyAQhBLUDJQKAAfYAjv9V/zf/eP6t/tv+c/6L/n7+N/4g/gX+fP2Z/bH9Z/0G/oL+w/4RAJIA9wBgAoMC3AJlAxMD1ALaAhACrgGPAaMApACHAPf/KAAKAMn/0v9t/zL/Mv+4/oj+ff5I/nz+gv7m/jv/vv9lANYApgH6AR4CfgI+AusB9QGRAdkAwQAjAFb/+/8f/yH/v//h/nT/gf8G/3v/P//B/gn/dP5n/pX+O/6Y/nL+0/4j/zT/qP+4/6H/7f+C/1j/q//p/gj/7P6S/qb+3/51/sz++v5l/g3/6f6N/gD/v/5J/u3+kv5F/tL+kv41/g//uf6x/m3/lf4O/2v/Ev++/w0AcAAdATACXgPQAwEFgQU/BfwFkQWiBNkEHwPYAagB5/9//1D/W/5b/pX+NP66/vP+jf7o/q3+Pv5O/in+7f03/jr+lP5e//T/zgCZAVECxAI4A2gDLwM+A4IC8gF3AbkAQgAFAJ//Yf9l/y3/Uv9d/0D/MP8i/8n+2P6Y/tL+x/7n/kD/YP8NAD4A8QBMAaEBEQIXAmQCWwJCAmoCsQHjAQ8BRAD5AAP/W/+S/1393P4z/i39/P7O/dr9If9L/rD+b//x/jP/c/88/07/eP+W/xr/fv+K/+3+lv9V/+j+Zv/3/rz+N/+V/sL+zP6A/qH+Xf66/pL+rv4V/8v+Tf90/+T+3v///uf+eP9s/qb+Bv9V/kX+OP9z/rb+KQCn/zQAPgLAAdICzwQQBPEEYwbiBO8EnAWFAwMD2QLGACkALwCe/qb+If8X/qz+Cf9I/gD/vP5l/qj+Ef7u/Ur+Dv44/iz/Qv8RAEABWgFeAicDywJNA2YDgwJ+AgQC5gDFACQAc/+H/0//8/42/zH/Dv9J/y7/E/8s/wT/Cf83/zT/fP+6//H/TwDSANkAZAGjAZYBWAL1AUQCnwLHATECSQJqAC0BtQBB/kgAN/71/En/ePwo/ef+1Pxz/oz/Rf6v/zMAkf88AD0A1f+c/wkAe//p/sf/9f6t/pj/j/7A/mT/QP6m/q3+/f07/l/+6P0z/l3+Rv7T/vL+Ef+E/5v/oP+r/7X/oP8j/2P/s/61/kL/m/7g/g3/Lf6z/n3/A/9lADsBHgHlAooDZATFBZwFBAbABb0EwwRMAxAChAGF/w//tv70/S/+g/4Y/nz+C/+S/uv+B/88/kX+QP7K/WX+sv4O/+3/swCBAaoCUAOuAxUEmQM1A90CzwFPAbUAbP8b/97+Av5a/tX+Rf4X/1v/8P7L/4P/Tf+f/0f/Z//m/+b/RAD0ABoByAEeAmUCVwI8AicCnwFGAfsAXgDu/60A1f8WABQBjv44AJj/I/0PAP78xfxa/vf73v2n/kP+/P+OANQApQHWAfQB9QD8AA0Amf4//9b9bv0J/hf9nP2X/gP+yf4a/3T+3/6R/nn+J/4Y/vz9tf2F/r7+O/8kANf/XwBuAA4A3v8h/4L+y/17/YP91f2u/V7+4f4z/+UAlgFzAuEDLAQiBYkF2gUPBigFigWyA6MCNgMEAB4A3f8a/Wv+s/29/Cv+0v1q/WD+hf4N/gL/Vv+p/hMALAAlACYC7wGaAucDVAPbAwoE+ALHAhYCiwDU/yP///3g/Xr94fyP/Z39gv17/nn+kP4+/wr/jf9CAE4AMQEGAigCJQOFA5ED4gOfAwMDTAKzAUEAqP9K/zn+Q/41/gT+c/4y/63/DgD0ALwAw/9eAHT/KP7E/979j/2u/7T9pv8jAfz/pQHGAfQAZQELAfP/bv/k/vT9TP3g/UT9Ev3A/Rb9Z/0o/qP92f2b/ov9Rf7r/lr+s//L/2P/WwAlADAA1gCaAA8A//9c/3v+mv4d/u/9lv3t/bL9m/08/4/+fv/2ALr/6AGyAzQDEgbBBncFWAdOBvgEZAUtA1gBIgDQ/kn9ff1g/Uz8zf2F/aT9dv+i/hH/bf9r/gX/Jf9F/1UA4wB6AaQCuwNbBLoEIwWgA1ADTgJYABsAY/57/Rf9hvy1/G39o/39/W/+mf6w/iX/E/9I/7z/zv/rAJ0B2AKQA0oEiwRMBE4EcwO8AkoB9P/R/rL9pP27/QL+pf48/3P/nwCoACYAEAFS/8/+Kf99/aX+nv5k/tv/OAD2AJ4BQALGAagB7wAjAJD/3v5G/pj97f2A/eT9YP5B/nH+PP7y/c390P1k/Tf9rv2A/Sj+JP9N/0QAoQCOAAQB3gB4ADQAn//l/gT/Yv5o/lX+hv3o/Wj97/0Y/oX+1f5G/pP/vv5z/5kBXQGkA80FngV0B68I+AY5B/MGxwOvAmYBPP6R/T/9T/tg/CP9Zfz3/cD+Hf5K/+z+Nv4h/1f+v/58/08A/wDhAowDOAT5BdgE7QQ+BIwCYQHW/6j+Ov0V/XX8evxT/Vv9Qf54/sT+/v4h//T+M/9y/8H/uwB0AX4CvwNYBMcEnQTGBI8DlgJtAY3/3v7a/fX8fv0H/t79cf/b/4gAnQARAVgAx//L/yT+Zv5E/r79zP49/3X/OwEOAZMBXAJVAZIBmgDU/3z/cv5P/gv+1f3r/Vv+Dv6l/kX++f1u/j39DP6D/Y79TP7s/f7+bf/d/2cAigCOAHQAGwDU/0b/Qv+7/iz+p/5G/vb9fv7c/ez9SP4r/gn+LP41/3v9cv9uAL//zwP+A6QFUwhhB64IMAjCBh0GrgP1Abz/+/3c/B38d/za+yL9pP1x/ST/zf6K/jL/6v0h/nX+cf6j/ykAswHLAgUEZAVqBfcFGQXeAyMD0QBJAGH+S/06/Vj8xPxD/bD9OP5y/pr+yP7s/gn/qv5p/5f/NwCHAScClwNtBFoEGwWqBCIEqwLUAcj/rP4T/pX8Kv00/Yz9r/76/z0AZAH7AMMAzAAs/x3/Rv4P/Sj+Rf2X/rv/KwB7AQQCdAJQAoQCKwGmABz/tf6h/XD9y/0Z/TX+Lv6T/h//+P4D/5b+Mv7I/a39k/3X/Uf+of61/00A8gBzAYMBOQHDAHAAo//y/qL+XP2Z/YD9If2t/an9nP1I/qX+nv5n//v+nv5b/zf/6/+rASkCGQRRBlEGJgilCFQH0QczBdkDsAFN/9T95PvO+7b6Yftt/Hz8D/6h/gD/2P8k/47/Sv8g/1//kf+2AD4BvQLfA20E2wVcBS8FpwT8AsAB7v9Q/jH9O/zo++P7i/zz/Mj9x/5X/z8AOQChAJkAcwCrAJsAWQENAikCAQOUA74DJgSTA5wCAQKdAIX/av4C/hz9QP1N/Sr9HP9o/j//BQDQ/g8AIP/k/mT/lf4n/xT/CQB/ACgB5gHkAUUCBQJmAaAAEACu/kj+nP0q/WH9Lv2o/cv9q/6l/u7+Dv+x/o/+Uv5E/iP+Yf6f/hj/1/8uANsAUQE2AVEB5AB5AMb/If+2/vr92f3B/UP90f1f/Yr9U/7r/bn++f7C/lT/WP87ANwABgIcA8ED3QWzBeQGjgcTBuEGvwQNA4QCgv/a/pD9UPwO/PX7gPyh/OL9Jv6b/vT/P//i/ysASv9pAN3/ZwBKAcwBugI0A+0DHQQrBAcE7AJVAukAav/V/jf9K/1e/I/88/xS/Xv+uP78/wgAlwAzAcwAUAEbAfQAggE7AV8BDQLKATICJgK6AZIBLAFqAMv/JP9C/tT9nP1b/Zz9IP5a/pD/iAAHAeYB9gGJAaoB+gA9AEMA5v6h/q/+If44/yX/xP8VAIUAxABuAJcAyP8U/4z+t/1w/Uz9+/wU/Yb9F/6Q/qf/+f+HAEYANQBlAC4A2/+K/2r/Mv8K/+f+Jf9F/1f/Dv9E/yT/rf5o/tr9f/1b/Tr9Qv0F/in+YP5g/33/zgBeATkB7gLLAsoDwgSEBO0FYgVzBRYFNQToA0wCGQEjAJD+/P35/ML80vyY/Hb9cP3x/gf/hP/9/9r/VADm/zkAVgBGAMQAwQCgAS4CdAIVA+gCRwPWAjICugHdAN3/Nf9d/hn+rv3T/Q7+SP4n/z3//P93AIoANAHeADcBGAHHAOwAnAC/AKIA2gCFAJMAsQAcAFwAUwARABwAAADx/6f/bgCf/xUAaAA1/zgAkP9Z/+r/OP+I/z//s/96/7P/CwBu/zIArv+N/6j/kP/M/hP/sP5F/nH+Kv5P/k/+gf6t/vz+a/9L/3v/4/+7/8//r/+9/8v/nv9r/4z/cP9s/zH/MP8d//L+z/6m/o/+pv5e/kz+Xf4F/hj+Rv4e/mH+wv6w/hz/AP+G/6r/lACkAf8BdQRQBFEF2gYgBqsHSgbjBQsFAAPuAab/Hv9C/aP8cfyR+wP9rvx3/aH+mv6J/3n/sP/W/5D/Yv9P/3v/9f84ABMBeQGuAjoDhANdBNID+AM2A04CngFdAIf/df4K/o/9P/3D/bH9cv6a/ir/3f/q/10AQQA4AFYA9//o/+z/8//7/zMAnQCcACsBTwHCAcUBqQHkAXMBUgF7AD4AvP8p/wf/PP6b/mH+Yv53/qX+Pv8R/47/eP/P/+j/o//K/5f/lv/u/mH/CP81/2b/CP+X/4n/AAD3/yYADwD8/+X/tP+J/zv/O/8Q/yX/7P79/j3/3P4B/+L+Ef8P/6v+pP5n/o3+i/64/oX+vP5p/kz+zv4+/pr+hv5r/ur+mv4a/8v/AgAaAaABtgISBKAEoAXIBX0GXwbbBWUF9wMpA6kBNwBJ/9r9Qf1u/Bb8cfwh/Cv9P/3C/VH+mf5R/4//7/8TABsAdQCgAA0BlwHDAW4CbwIfAycDgQOCA0IDJgNmArMBCQE8AHT/kP72/Zn9Lv01/UH93P0K/n/+Vv/w/3kAhgClAAkBAAHoAJYAygDDAH8AmADUAG4BpwGAAc8B+AHxAVQBLQGAAPH/J/8P/in+UP1B/fD8Mf24/dL9Zv7S/nP/8f8gAF4AgQBTAEAA6/8IAPz/rP/F/5b/zP/l/yAAXwAvABQAzf/o/5r/Uf8B/53+1v4y/l7+P/5a/pn+Nf5d/on+6v62/rf+y/4E/+v+1v4l/w//V/8y/+/+D/8r/1//o/+O/6v/vP/G/18AjwBWAbABmwI7A88DfATABCsF5gS4BB8EXgNJAv8AJgD5/i/+Zv2e/L/8i/xB/Yr9Ef7O/mj/KgBZAAQBPQFgATsB7wA1AfoACwH4AAQBYgFVAY0B0gEBAtUB1wFdARMBkQDb/5b/3P5A/sj90/0O/g7+Qf7H/oj/zv9XANAARgGxAVEBWwFxAUYBFQGQAIYAuACTAIIAfwCzAJQAoQAmABEA0f8u/wb/TP46/rf9rf3U/Yr9If5R/vH+Mf+C/0wAXwDHAKoAEAFVAecAxQCRAMMAmAAMAAEA8v8TAG///P4s/yv/Bf+V/qb+rv69/nP+iP7d/sz+6/7n/tv+0/7i/hX/F/8P//z+FP93/zz/eP9c/3z/of8E/1j/Wv93/1P/G/8X/4r/XP+H/5n//P+IAJEAjgEGAsECJAOIAw0EGwRBBAsEUgM2A/IBagGhAIj/8f4l/jL+Bv4l/iD+lv4l/0P/3f///18AvgA+AJIAJgASACEAAQD7/+3/AQAlAIYApwDBAA8BKAEfAQkBDgEpAdEAnwCLAH0ATABbAN3/YwAzAEYAcAAQAHQALwAwACwAMgDe//n//f/5/8j/2v/j/yUA0/+z/xYA2v///2b/f/9//1L/Av/Q/gL/5f4Z/5z+Gv9x/3z/zv+9/5EAnAC2AL0AyADLAIwAQgAOANT/hf8M/+P+8v7t/tP+lf7T/t7+7f4T/1n/V/+C/yL/nv+5/5j/jv+V/+P/wv+D/0z/yv+I/3L/NP/x/jj//f7h/tv+zv7//vT+wP6//hP/xf4A/9H+n/4q/8z+Ff+W/xMA6gCyATcC2wLoA0EEjwTBBL0EbQQVBA0DXQKkAb0A/f8v/yL/rv6M/hP+gf6Q/mr+5v74/lv/cv/l/m7/pP+G/5b/pf/v/+P/9v/R/1IAjwBzAIgAzQAGAU0BOAFMAbkBtgHEAYIBfwFxAVEBzAB9AIoA+/8qAGr/n/+c/47/hP8b/7r/Vf9E/1P/QP91/1P/P/96/9D/ov+7/zQA5P8+APj/+P8zAMb/uP+U/3f/mv9w/5j/u/8EAOr/CwBUAEkAXAAIAPH/2v+T/3T/QP8P/zv/Df8n/yj/O/9n/4z/gP/E/8P/9v+S/9z/EAARADMAv//v/6X/2v9E/0j/D//r/rf+I/44/nf+af5T/mb+n/7n/pn+5/4Q/0P/IP8r/wH/gf94/2j/lv+//2QAHgCxAFcBAAJRAn8CKgNRA5sDrAOcA9EDaQPFAmACugFUAYAAxv+i/zP/vf4h/nT+TP7Z/rP+Gf93/4H/x/+L/97/CgA5ALP/0//b////QgCq/z0AigBxAMgAkQAFAR4BCwHZAEQBXwE9AS4BBwF4ATwB3gArAdQAsAACABEAg/+c/wf/f/7c/mX+oP5j/sH+4/5g/yr/ov8TACoALgCVAIMAvwB6ADwAZQAwAP7/lP+m/6j/iv8L/2L/rf+u/9z/pv8zAFkAYwBWAD0ATQACAPr/nP/j/2j/sv9L/y7/f//G/8L/pf+j/8z/IgCI/8H/qv/W/1L/Sf/5/jH/3f6a/qr+df68/jj+Wf5O/tX+WP6Q/u3+A/8c/xr/NP9o/4b/Lv9v/0X/nv9W/4D/pv+5//f/UQAMAZYB7wEwAv4CbANgA3AD0wPZA58D2QJVAlECsAHkAD4A8v+N/xv/lf6f/sP+pf7s/s/+OP96/7T/mv/J/97/8P/9/6T/p/+g/5v/n/+e/63//f/U/1QAnAD7ACcBcAFpAQ8C9AHMAQ4C6gGaATIB8AByAIUAZv+p/+X+pv6t/lL+nv6W/n7+y/4r/4T/r//W/zMANQBtAAUAXAAgABoA/v+x////v//R/8j/wv8oABwARwArAH0AVQBPAFoACgDp/+P/xP9+/7T/g//E/5j/nP/J/8z/yP/r/7T/v//q/63/jP+W/5P/bf8q/1P/S//2/rz+qf63/lr+Yf4W/mr+ev5e/pH+Sv6x/vb+sv5O/z7/av96/3j/1P+V/8f/of/O/7D/pf+6/5v/0v++/+j/lADpAIsB+gFuAkQDjgMTBCgEcQQrBLYDCwOLAvUBBQGFAHz/bf+k/pj+GP5i/or+cP7Y/pj+KP8D/0P/QP9K/7X/nP+K/7j/+v8qAFEATwCKAP0AxgAZASgBeAG5Aa0BpwH0AbQBwwFVAVEB6wBkAB0Aqv+Q/7L+p/5a/nj+Zv59/pP+L/8k/6r/u/9aAJIAlgDdAMcAHwHoAMkAVwCWADgAIAC0/6j/YP97/zr/Jv96/1L/m/9G/4T/z//h/7//4//f/woA5P/r/xMA5v8VAOz/6P/x/8f/1P/L/2z/tv+X/6z/af9v/0//I/8m/5f+5P53/pb+YP5T/pz+W/5k/nD+tf6p/un+EP8s/3T/Tf98//T/of+q/6H/df/K/zv/G/9I/3//Zv9n/5T/TwDZADgB+wFgAoUDmgP0A3MEoASNBA8EeQMKA2cCJQFjAKT/5P5p/sP90v3L/Yf9HP4l/o7+5f7q/oz/f//2/8T/6v+GACYAfgDu/7gArACeANQAzAAvAUUBPQFNAaEBsQFrAScBOgEIAegAFAAFAJj/vv9B///+wv7e/kr//v4k/y3/4P/b//v/8P+AANIAsAAYAaQANgHiAMEAkQA0AGQAh/+7/xr/Df8P/27+DP+u/vr+LP/8/pz/fP8aAOf/AQBqAPb/VwAYAEoAYwDe/0QAAgAzAOr/1f/U/87/yf9u/5T/fP+O/xr/LP8o/+L+5f68/q7+5v52/kv+gf5m/mr+hv5M/qz+yv6x/tH+Cv9K/0r/T/9C/5//bP9y/2j/Vf98/3T///7G//T/QQACAXYBlQLtAsYDBATSBNYEIgV2BDYEngNWAtwBhgAdAOn+bf5m/Yb9dv0r/ar9zP2F/oj+QP9P/83/NQD7/1IAeACrADwAWADDAMkAxgCgAM0ANwEdAUQBCwG2AXsBIwEhAf0AGAFrAEMAov/x/4X/U/81/0f/ff8u/7H/k//i/zsASQA0AHwA1ACoAPkA0ADBAMQAvwCoAE0APwDp/8j/XP88/9L+xv62/mX+lP60/tH+0P4p/xn/t//Z/wQAUQBIAHYAaAB3AJYAQQA+AAQA6v/e/4v/gv9+/0j/NP8+/1D/Qf/v/lX/FP9D/+v+6v7t/tn+zP6E/on+mP5z/kH+gP5l/qb+wf6w/i//+/42/17/PP/l/07/ev9s/0b/c/9//2H/fv/r/0kA4wDpAYYCLAP8A4MEEwVFBXwFsgSGBJYDkQKqARQAh/8r/qz9Xf3R/Pn87vxf/cz9b/7D/kX/1P/o/yMAOwBUAJYAaABuAGYAogDrAMoAMQFkAZoBqAG2Af8BsAGdARYBsAB2AAQAjP8n/wP/sf7g/qv+J/9B/5v/8v9KAJUAngA1AfAAMgH6AM8A5wCfAJIARgBWAGEAKgBDAOL/TgC8/+X/x/9K/0n/tv7R/l3+t/6F/mr+6v7J/mP/i//a/zUAJAC8ACgAzwA+AFQAJwDB/8H/cf+T/y7/Uf8G/0//Nf9F/5r/Zv9W/1z/Nv99/xf/Ev/l/rr+vP6E/oL+j/5K/o7+Kv5Q/mv+Y/5x/kP+iv7N/uX+zv5b/x3/lv9o/8f/JQBlAG8A1QCFAS4CHANUAx4EuwREBS4FcgXRBMsEkgOVAowBNACy/9L9iP2t/M38RvyF/Bv9b/1+/mr+hf+z/3cAaQBIAPMAqAAGAWoAKAE8AUcBggG1AT4CVgJJAg8CMgLQAUYBagATAEf/u/7Y/dv9n/2v/c/9Gf41/7z/OwAEAagB+wExAuEBOgLFAVAB1ABLAEEAKADc/6z/TwBrAFoAwACuAO4AdAD7/9b/Mf8A//b9DP6W/cr9O/7j/eH+Gf/P/w8AeQDvAOUAvQB2AE4A4f+D/23/8P70/hH/yv4j/xz/df9a/2P/df9e/zH/Ff8I/5/+1f54/rT+q/7f/v3+3f4o/zX/C/+h/mv+gP4Z/r39vv13/RP+i/1A/rv+1/4YAGv/VwDRACMBhAHqAaACCwNcBCkEZwXUBYQF2gVjBcoENwR5AmMB1P/a/lz9uvwQ/Mj7T/zi+279ev28/iP/7/9AAKYA0ACjANAArQC0AMoABQF9AeQBBgKWAs0C8wLZAlQC6gE0ATgAWv9g/uf9BP3i/Jz8Cf2v/TP++v7T/wgBjgH7AX4CcQLdAgUC3AFqAewAhgAGAOT/o//z/3n/9v8+AF8AugAfATgBwQE0AXIAwADN/wf/vf6H/bn9Jv3N/LD9z/3Y/hL/PwD4AF0BLwJsAe4B7gCSAKH//P6W/oL9of0t/dD94/14/ub+O/++/6v/7f/o/3b/UP/e/uX+qv6V/ln+r/5z/pn+0/7J/qP+a/4J/ur92v2X/QT+Lf06/vf9Of5P/2P/KgD2AJUByAKTA6QEWgUcBrkGiAYFB54FHgX8AykChQEh/17+9vxK/GT8/vu2/Jv8Uv5H/ir/AwDn/3YALwBWAFUAJwCWAI0AJQGtAUkCNgPyAicEOQNnA6QCcQHMABD/af4p/Zz8LfwT/If8zPyt/aD+Kv9/ALAAgwGoAdQBLgLLARsCmwHiAe0B0QECAqkBEAJnAVQB9wCcADkAW/9Q/6z+8P6N/m/+2/7w/h7/Zf9y/9L/gv+2/4r/rv/L/8H/wv/8/0kAIwCXAIAAcAAtANz/Z/9W/5z+YP70/fb93f3q/R7+bf7E/gT/b/9V/8v/mf+n/0v/Nv9x/y3/+P6d/tX+dP67/qb+Zv64/mb+eP4A/iv+3P3k/Qb+3v0x/jP+8/19/hP/pv9DAX0C+QPxBYoG1gdHCWEIkgiTBkAFTAP1APH+3fwZ/EH6QPu4+r/7MP2C/Qz/Q/84AHcAKADy/6v/9f+d/3UANwHMAWUD+QMoBX0FoAXjBLQDcgJwAAv/xfzq++v6XvrM+nX7m/wC/tv+x//4ADMBaAEHARsBlwB+AEoA+wCIAc8BxAIMA/0DAwRvA9gCmAGmAFH/5P2M/RP9sPxN/dH96v5RAJ8AtwG7AZcBlwFcABMA/P7C/hX+Gv74/tj+EgBWADwBNQF8AQ0BbACc/4f+EP42/Sr91vxL/XT9gP7r/qz/w//t//j/mv+u/9D+9f5X/q7+uf4e/2v/1//e/7v/8P9b/+L+HP6b/ez8vPyN/Lf8vvx5/Sn+lv4W/10AeP9cAPcA4wBMA5MDogVlBmYHIAi/B5gIFgZ2BQMDq/8l//L7afsu+sz5v/rl+vP8hv1y/5b/EAAJAb7/PwHl/50A3QDqAK4CBQPyBDAF6gXoBQkFagRUAqkA3f6J/KX7P/pX+qL6SvtT/IT9H//H/90A3wAGAe4AlAC1ANsAPAGnAWACawMfBJwEcQQHBBcDlQFRAEX+WP24+2L7yfs0/PD9kf5iAE4BLQIUA4ACZAJYASQAjv+5/nX+VP6n/i7/vP++AOAAVwEqAW4AHwAL/3D+1P1//Q79uv0U/qP+ff/F/3gAAgBFAJ//PP/B/vz9Df7y/Yf+HP9q/0EAjgD1AL0AXADS/zr+x/1i/B/8uPuc+y38tfwt/W/+Yv9m/wIBGACOAGEAhv9LAPn/LwLTAoQFRgeUB2wKWAiyCE0HEgQ9Ao7+dfwD+jv5pvga+Tb7Q/sw/jD/NQC3AXAAAwFsAMv/zf9oAPYA8gHwA7AESgZQB4oGbQY5BHMCUgDO/Rv8uPoH+uL5yfrw+xb9pf5y/zAAvAAzAK8A2//y/ywAfwC2AaUC8QO4BJUFeQXdBAoE9AGGACj+nvzJ+6v6IPtb+878R/7X/24B4AHsAmoCQgI6AhQB2wBGAOz/9/8YADUAMAA4ABwAL/9f/4r+OP4J/pT95/0n/vH+CP/5/7D/MQArANb/uP9B/8b+Y/6x/kP+Ev/6/qr/IgD1/4YALQAiAIz/zf5S/vz9pv1+/S79U/3q/E39WP1V/RH+Qv3E/fP9Nv75/vH/x/+JAS0BCQGzAlgB7AMkBOsEwAahBkkHSAeJBocEqAPlAI/+MP2t+kL6/PmQ+TT7ufxK/Xf/VwC3ALQBVQFvAdgBeQHjAewCGwNOBAgFCgVMBbMEPAOoASYAD/6//Fr7o/rg+gL7+/vn/DP+Ef8GAEUAqAAWAdYAPwFKAfwBpwJAA9YDKgRQBNwDNgPnAZ4APP+f/dT8CvwS/DL8rfxK/dn9I/+D/xkA0gDgAIoBiwL0A0sEWAU2BPACcgPw/0wAlf4p+2f85/lE+0D8Q/3W/nz+tgEsAFYC+AHIACABZf+I/w7/yv/x/oD/9/41/4X/tP9T/0H/7v46/vX+kP5R//D+4/5Q/hz+5f2G/Xf9SPyu/Cn8wfyf/RP+8v42/1v/mf8GADsAVQCHANn/Av/IANz/IgIRBRkFEgnDCMMInAgHBr8ERAG9/+b7mvqr+U34UPt2+lv9Xf7l/q0AcwADAT0AAQHc/yIBEALOAgMFaQUiBnUGlQWnBGQD6QAa/2b94ftM+5v7XPuD/Ov8ef2Q/p3+Nv9d/17/eP9VAPsA9gFKA5kDpgShBGYELATpAvIBkgBS/2v+xP1M/Vz9Mv3C/QH+/v1a/qH+kf6F/wEAmQAMAhACTwOKAyEDpANQAr4BMAFO/yj/2P1r/Rn9zvxI/Q39DP7x/YX+E/9p/wwAZQCvANsAJgENARsB0ACLABkAwP9x/yT/8/7O/pT+gv6d/on+ff5b/iP+zP3a/Vf9Yf1w/fr8UP0l/c78xv3U/T3+vP+C////0AAkAND/lQDO/2z/TgD//igAYwIyBNMHzQjKCRAIoQZFBVECVAF6/bX7sPkY+av6U/ua/c79vf4J/3H/LwDG/0wAxP9yAJMBSAPhBDsGbAb4BSwFQgQBA24B4f+n/fP8APx4/Mf8N/1N/Un9DP2u/TP+Ov5A/0j/VABrAcoC3QOqBFYEKwRqA6ICPgLgACIAf//f/pn+1/59/ur+J/72/eH9gv0w/ib+tf5a/4IADQGjAtgCbgOJA0ECoQKRAdsAzwBv/zX/a/79/c79Av3P/Zn8dP11/QH+Av9+/3EA/gBvAUkBtwFNAR0BcwBXAMz/rv+z/0b/Ov8g/6b+m/5S/hH+KP6M/bT9o/27/bv9zP0X/lD91P3c/SD9HP5V/j7+t/+o/97/wQCk/zsAs/9U/zkAMv9eAJYACQICBckGkwg0CYQHpwXsBP4AtQBQ/tn7dvtv+m77dfxI/uz9nv9d/nf+c/96/ov/pf9NAG8BJwMABAUGAQZ1BSwFeQOFAnEBUADZ/pr+jv14/dv9of3b/Wb9H/0M/Ur9zP2b/nT/TwAsAWIC4wLtA+MDSgN0A0MCCAKuATMBzQC0AOr/Wv9U/1/+bP68/VT9ff0u/fD9ev7J/jQAdQBYATQCUgK4AvkBeQJnATMBxwG0/2sAR//x/WT+Uv1y/eD8EP4Z/Vj+W//M/tEARAAZAQYBKgGWAP8AtwBMAGkACACo/zD/L/8D/on+Dv6S/QT+4P3t/Wn+Pf6L/uP+0f5T/r3+fv7a/c3+0/0d/l/+gf4P/yv/PwCH/lIAk/+X/pMB0f3y/+YAPv/CBFsFIAdxCYwG0QYvBcQC2gGD/yb+dfxg/B78If2r/oT9hf+H/hP+H/8j/Xn+Vv66/mkAqQGvAgUEiwRrBOsEEAQmA6kCfwF3AGcAV/+9/1D/t/6H/uH9Rv1F/Sr9Lv3U/dv92/5M/1sAFgHQARMCBAKTAlkC3QLuAmkCgQItAk0BaAGoALf/a/80/gr+xP3x/af9S/6W/rj+5/8PAE8AtQAFAREA1gH/ALEAwAHQ/0gACgD4/lj/Mv+Y/lf/Kv/p/r7/qP9v/7j/9v98/5z/DABp/yIAMwDX//3/pP8+/w//1P4G/nr+3v0M/tP+uf43/2L/bv8H/xL/7/4h/jr+Vv6F/fH+sv71/i4Auf5D/2z/Gf5w/vH+8vwH/zP+Dv6BAD7/2AJ7A/YE3gfOBdMGPgZMA+wEBQK/AIcBav7G/6r/N/96/zP/kv70/Tn+8/xD/VL9A/1R/jL/tP9BAQUBdwGiAhkCsgKwAu0BGAI5AsUBeAKxAYwBSQEnAEUAuP8c//v+df5j/rP+j/4a//z+BP9g/7D/Vf8HAFIAu/8EAaQAjwCoAXcA4wCHAQ0ATAElAe7/cAE9AHAAqgA2AFMA7P8CAHn/f/8R//D+hv7U/iH+c/61/i/+Jv8F/wD/EADJ/+D/bAACAJkAQgBXAH8AeQBfAHUAYwBCAFUA7P8IAIH/ev/8/on+pP5G/iX+e/6V/sH+A/8H/6H/Gf9o/0z/E/9S/2D/k/+S/ycADwBVAG0AYQBUAOz/h/87/5z+ov6n/on+I/8A/37/hf/p/74AAgG8ARkCPwIrAk0CJQIPApYBsQH3ABUBYQHpAM4BGAEeAS8BgQBkABsAWf9y/yf/2P7H/4n/wv82AKr/dQDP/7//3f8h/5//JP91/5r/1//T/zsAIgBVAHYAKgB3AG4AmwCMAKoApwADAfUAEgHGAPkAegA6ADEAlv/a/2b/dv+p/4P/jv/W/8T/1f/W/+L/sP+H/8X/bv9N/7L/ev8D/67/D//k/kj/5/4J/1L/1/95/z8AjgARALUAeQA1AHMA9P8/AA4ACQCKAEEAmgCOAJIAKAA8ALX/hf+G/yP/aP8Q/3v/c/9u/1AAu/+w/30AG/8HALn/fv8YAL3/CAA/AHEADAD1ANb/HwDt/5L/lv8r/4P//f5q/2b/2v/a/ysAVgDe/zQAHwD2/+7/1P/Q/wIAw/8vAOn/BgAEAKT/BgCm/8f/0/+c/5P/+P+N/w4AzP8HADcA8/+jAEYAzwDQAHEAxwBkAHkAZwAgAHAAKQA/AC4AWwBhAFYASQBGAC8AKAAKAAMAAwDy/xEAHQA5AG0AqABzALgAjQCNAF8AbACDAEgAhwBZAHsAdgB4AE8AMQApANH/u/+o/2n/Vv9I/wb/bP8R/yr/TP/p/iP/Af8s/zT/gv97/+j/7P8iAHUATQB0AF0AeAA0AGoAPwB8AFAAXgBtAB8AVgAuAOD/CQC+/8r/+f+h/zgA0P/5/xwA3/8QAA8AMAAUAEYAZABmAHUARACNADcAJgBOAOz/uf+Y/2j/Ov8+/1T/Uf8s/6D/wv+l/wQAMwACAFAADABuAFMAYABwAEYAfgA+AIAAGgAtACQA8//C/7//o/+k/1b/gv9z/13/pP+X/7n/5f/q/wAAPAACAFAADQAhAEoAHQBDADMAHwBPAAEAOwAHADAAEQDb/xYAkP8JAJr/ef/f/7P/j//0/+H/6P9PAPL/HgBIACsAVABMAFoAkwBfAIsAhACEAK4ASgBXACAAPwCK/8b/hP8W/7n/Gv9o/3z/Zv9g/3D/gf+0/3T/4P+i/wgALwAIALIAKgCxAHkAPwC2AHgAKwCMAPf/ZABSAP//TQA1ADEA9P8mAAcA/P/5//L/oP8bAKr/5v/m/+//LwAOAJYAKQDCAI8AbwBOAIQAPgDq/1kAif/k/6n/av+k/13/K/9o/0L/Qf+9/1//5P/q/xQANgAqAI8ATgBzAJUAXgCcAGUAgABqACsAdADU//L/5/+n/4j/z/84//D/ff+o/xYAj/+ZAJ//ZgA5APb/OwBxAJD/tQAqAJj/vQBX/3EAnP/A/9j/jv/S/43/if+7/3P/xP93/2D/7/81/wAAj//z/1IAGQBtAKIAagCXALQAQgC4ACkAUgAfAAQAZQCK/1oA3P/e/+7/kv+7/4b/Wv9a/4H/Q/92/6L/UP+f/1EAG/+zAOT/PAADAUIAtQA1AUYA1gDBAND/9QBZ/7IAUv8DACcAZv8+AOf/tf9QANn/pv+hAAX/bQC3/1T/iQBt//z/4QBT//0AOwD5/xsBzf9yAEwADwDi/30Arf/2/3EAbf+K/1sAqf6C/9n/L/4WAKD/s/77AKL/gv+LAZX/UAA4ARAA6v+iAVD/pAAMAR//EAFYAPj+3QBAACL+mwHL/jf/vADy/qP/0wD+/kIAxAC1/mEBm/8EAJ4A9P8dAJkA0/+DAFQAsv+OAC4Anv9YAAgADf88AB3/H/+F/1T/7P7R/2j/nP93AML/hwDTAO//uwD1AMn/CwGHAKT/AwFCAML/LwG4/xIA0ADJ/p8Acv///ksAlf6r/47/D//X/3H/tP/h/6v/JgAAAAMAQQCNABcAtQDHACEA2ACXAPj/fwDx/87/rf/0/07/tf8PAL7+3gAo/8D/8gDQ/p0AaABV/zoBzP85AA4Bwf/PAH4ANQBiADIAEQDU/wIA5f+n//z/4v+y/+n/1P+x/8r/lv+y/1j/xP+c/2L/FwCw/+D/NQD6/xYAaADK/0kATAD0/xkAnwCt/3AAdwBs/8oAd//Q/y0AVv+4/w0AEP81AJ7/lf9FAMf/wf9fAMr/j//gAIz/WAC0ACAAJwD+ALn/kgBmAJn/ZgDa/y7/GACx/9D+HwAS/4r/vP94/9z/AQDY/4YAQgAPAO4ATwAbAFcBq/+2AAQBFf94Aff/iP8bAUT/xv8yAMj+xP///u7+Lf/S/uH+wP8m/1D/sgBM/ygAIQHK/8kAUAGg/2IB9QC9/38ByAAS/+cBi/8N/8oBc/6R/1MAhf7X/7f/Dv+0/8X/Vf+7/6wAK//uAIAAdP/FAej/JgC3AbT/UgAhAQYApf8FAaj/bf9bAbT+MgCQAHD+uACd/3j+CAGg/i3/vABc/tb/swDX/ocAwwDV/lgBvv+U/zQBAf/JAA8Aav+UAcD+JQHHAJX+9AGj/yf/xQEy/hgAEQFb/ZIBEP/S/jYBJv6ZALj/Lv8qAQ3/mgDNAGkATgBVAfr/8P/dAA8A0f8JAS//qf9JAdr8GgKZ/lL+awG4/bf/aQCI/j4ApgBz/uEA7wC9/b0Cuf/O/lIDFv4PAVoBBv/XALEA2v7WAIn/w/95/8n/2P8X/mgB3f3B/5IAyf3rAI7/EP8TATf/pwCsAIn/ZwIx/3kBSgEg/2MC5v6xAA0Bev4FATkANP4oAWj/6v7NAPL+6v84AGj/kgD8/0oAhwBS/74Bwf5XAer/xf8TAVH+pQFg/kAAfAD4/pQARABt/tYBlv51/6oBBf3LAQD/3/7RAGn/gP8dATj/iQBSAI3/6AD6/gcByP/A/yYAYABd/5IA4AAm/z0BFQCt/8MAa//2AFH/3v/BAZj9cwGVAGf9ywGN/+n9kgG8/wL+1AEZABz+CQOA/tT/DwJa/k4BJQBOADT/tgHN/gcA/gBI/sIArv6iALT9dQFy/qH+CwLw/AcBjACj/o8AXgH5/ccBHwHf/OED+v4P/kIEUf2SAFICVf3KAab/jf6xAW79LgH+/hf/PwGM/QkCvP44APsAWf83AMEARAAK/2UCCf92/xUCGP+W/6oBWQAa/R4EyfwM/58Dc/pRA57+B/+5ABkADf+iAMYA/f2XA6X9XAFFAUr+WQGIAKz+fgF0//H+hwHR/WEBCQBPAGQAUwBK/5D/9/83/08Amf8i/9n/EgHg/CkDCv9x/nADhv5lAGwB9v4kALgAm/9aAFj/OAJ7/YEBbQFj/VMCSQHI/IMDZv9M/SUEavyzAEgBkP0SAAYCF/snBCL+N/4LBMv7awKXAK39xAHhAB/8cAWv/GQAJQOS/IECvv8g/7MA6v/9/XcCnvwzATgBcPxlA2H+Mv9xAcD+iwDf/woA0gCY/m0CnP7xAKEAuP8t/0MCU/0bAaYAtftmBbP5oQPn/lj+lwKo/7L/hAHG/w0At/9BAUn/Tv+3Alz8hgOs/fsA2P+3/+n/gwAe/4r/eADj/qj/1wBr/gcA3QDW/SwCcv58AJMAKAAwAA0BUQC7/x8BuACg/i4DNP3zADoBxPyEAo7+HgDZ/k4B2/0zABoAxP4YAAj/pwCM/pwAFACR/3oABAF9/loCZv8f/14CIv7UAN7/nwAS/6sAVQE4/i8BFwET/mEBeADr/vcADf+yAID+xADy//b+hAAhALv+tACt/x3/RgEE/mICzP4vAOUBIf4GAesA6/4zAYoAQ//BABMAUf8hAMUAAf74AI//S/4DAqH9jQBjAbX8AQNt/rH/3wGy/VUC/f5CAHABGf/9ALEAzv58AeH/JP/IAQb/Ev9uATf+pf74Adr8UADnAJD96QDu/xT/cQA5ANb/LgA4AV3/yADYAB3/lwFh/7IAn/+xAKD/l//xAGP+wwDg/igAgP9GAJ3/9v98AC3/RQEVAHEAhQARADgAsABe//EAIgD8/iYBHP8aAMH/W/+OAE7+ZQBYAAf+2AD6/zz+4AFI/kIAAAGZ/UICYf/n/hkCpf51ABAAEgBvAO7+aQLB/esA0AAI/oIBC/+VAEP/af9LAsP8HwJAAAn+rAH+/k4AQf+/ABz/awCU/4P/CQEQ/yEAewEs/yABYACTAAQA9f/HAXL+0QGI/3AAAQAE//oAI/9P/6oABv+N/yIAZf+N/7f/kwBi/ocBhf9G/38Bsf5HAdf/jwCyAL7/iwCAAKD/xf8NAZn+EwA+ABn/EP+lAAL/xP9DAHf/h/94AF3/WgARAaT99QLm/hv/iwOz/ZIACwLX/TkB9AAd/tEBlv8h/6QBd/70/6YA1f4oAOoAQ/5nAUf/EgC3AJv/6QFH/rkBywAS/iYCVQCh/bkCLP7X/14B3fxZAqL+NP5MAjv+U//IAV/+gv+1AUH+hQBtAer9wQFeALL9NANV/mP/RQLT/ZEAMwF4/ocANAEK/W4CmP+5/QwD3P4k/h0Dz/3h/9oBm/2nAV//kf+fAAEAG/9IAcv/jf6UAtb+N/9nAiP+rgC9AJH/CgCeAPYA6v20Al//cv52An3+Z/8+AdL+gv8HAPr/5P0TApr+dv4DAzb9VwBSAT//r/5IA7r9tQA/AlL9NALK//D+fAFg/37/eAAM/0AAcP6KARP+vwC3/8j/6v99/5EBwv1sArX/rf50AuH+J//SAsb9AgGjAIX/yP9XAMv/ev/4/7j/BgAl/6cB+P3sAQL/fACMAJT+OgP2/P4BywFn/HYDHQCR/KMEQ/0x/z4DVPyKAWgAN/0EAqf+pP4EAiD97AAkAKT+NQG1/zP/IgLn/SgBdgG8/X8CDQBm/lUCOv++/uECUv1/AYL/LADY/usADgBI/jsCp/3DAT3/V//wAbL9cQAgAa795gEQ/w0AQgA2/3EB+/0iAgz/Q/9fApD9OwIj/4IA+//g/3kBrf1dAwT+TP82AwT8GgJWAHr9eALk/cQAuP9w/z0AHQC5/tMBHv5vAQwAk/6VAr/9VwGv/0ABTv5yAh7/sv5GAnn9WgFF/3D/LwJl/AYDvv5s/qAClf3pAPYA1f74AMcAkf6bAeH/f/+/ANQA3/4FAYP/+v/y/u4AxP6pAEn/3f/UAOv8ngOy/B8BWgGQ/QMD0P7o/y0CTf7xAfn/lv9mARP/LwDPAGL+bQEP/ooAkQAQ/UsD5vyFAHkAWP51AHQA9/7e/wkB0/4gADgBBv96ADEBeP8FAC0BVf8sAHAA3v/EADb+jAIx/iUA2wAa/8b/GABXAED+vgGi/hX/SwL1/LUBMgDz/ZYB0P9J/6UA/AAN/hACvv4EADcB0/67AOcAi/6vAWn/OwDEANT+FwI8/owArwDq/vj/LQDp///+SgCxAF/+wABSACv/GQCgABH/yQCQ/6f/9wEw/vAAcgH5/fUAzABQ/o8Aq/+8/8X/rf/r/yoA2v6FAPL/Xf97AOr/5P/c/5AAZ/+8ADr/8wBv/x8AggAN/7IATf88AE4A6//u/zIAdf+D/xsA3//y/2UAeADY/4gA8v/5/3AAjP8bAav/rwDZ/9v/UQCp/5z/qACA/3n/cAD3/lcAk/9PAMr/fQCq/0wA0f9bAC0Az//lAML/DgBSAMX/mf97AB3/TADm/6//PACg/+n/3v/9/+f/MQAZACwADACu/2QA0P+g/44Apf8LAGkAhv+DAMP/QQAoAK//qwAt/9UARf9zALP/2/97AGb/mwDC/5UAaf+6AOD/u/9aADMAbf+TAKT/FADU/8j/OACc//n/3P8jAF//aQC3/zwAu/+FAMn/IQBPAMP/IQA3AMT/NADM/9L/EgCG/yEAmf8kAKT/wv9aAF7/MAA8AFL/4gBN/3EAFADZ/1IAyP/r/xcAEQCK/5kAfv9oAKz/5P9/AHf/gwASAAIAIwAGADUAs/9UAAgA+v97ANf/QwAhAMT/EAAFAJH/2f81AAr/PgCQ/6//CACd/zwArv84AA8AAwAUAFUAtf+FAAMA+f/AAMH/ZgBLAMD/OgAIALb/HACM/xQAg//A/9r/oP8sAJP/fQCA/28A3/8wAMb/XAARAO//bwAmADwAGwAoAEIAv//l/24A/v6qABn/cQCE/yQAAgDl/wUAVwCi/2wA7//Z/6EAUv+fAMn/AgAeAAAAvP9VAJn/VACu/yAA9v+//1wAuP8bAG4Ahf+AAMz/BQDq/14Aqv8sAB0A/f8GAOL/UABZ/60AMf+FAKv/GABxAIb/ogD9/+z/nACb/3cA7f/z/04Anv9YAL//AQAAAPv/lv8RACYAQv9vALv/w/8ZAPL/1f8BAHMAqf9tADEAAwBUAOD/fAC//yMAbABm/1cArv/c/9v/ev/X/7X/UP8IAGT/pv89AFX/RQAAAP7/OAArAHoAtP/sAM3/OACNAMn/awA/AO//SgAmAOT/UwC0/1IAlv9EAJf/BgC0/+X/0//Z/9r/HQDD/1EACQDX/3oAd//QADX/kQCd/zUAvf8MAA0Adf9mAJD/JQDd/1YAeP/xAGv/OAC1AGv/dwAYAL3/TADg/6n/WwCD/wwA5P+R/+//OgD4/t8AYP/p/5MAXf93ABsAff/AAMH/9v/GAFH/BAF0/5IA4f8qAEoAyv9eAMb/OQAaALf/kABl/5MAiv/n/yUAd/96ADn/ngBu/z4A+/+h/3UAeP83AAQAk//OAET/nAC7/0YA2v/8/zQApv9FAMf/IAAQAAsA9f9eAGj/fACa/+b/zf/r/07/XAAM/ycAwv9v/54ATf9eAOP/bgCh/8IAmP+dABcAOABKAC0AMwBBABkAxv+yAB//mACe/6//VwCm//r//P/l/wkA1P8zAKn/WgBw/2AA8v+M/7MAZf9yAOv/7f9gAKz/OwD1/6T/PACj/0IAkP8DAEcAiP9XALn/FgDw/+H/AQDp/xgABwBcAL7/qwCR/6kAof9fAOT/s/9+AB//wgBY//H/kQA8/30Ax/8fAAkArf+iADT/wgCk/14AvP+SAMr/MAA3AK3/YQDW/7v/RwCH/zwACgCc/48AOP/vABn/dgDH/8T/LwB3/zMA2v+f/58ATv+CANT/9f+FAGH/qgC7/x0A9/9LANr/DwBJAPb/BAA4ABMACQDy/y8AoP/0/x4ATP9JAHf/BAAFAHj/WwCi/00Akf+QALD/NgBmAMz/VAALAD0ABABCALz/ZgC//+//CwD5/5j/bgBc//7/EgB//0YApP9JAJX/YAC8/ygAHwC4/6cAkv9cAAsAJAAOAPP/MQDL/ygA6v/X/xEArv8AAO7/wv8CANn/+/+3//v/6v/Z/ycA4f/o/2gAqf9AAOv/CQDu/0QAov+HAK3/WwAgANT/mwCT/4AAwv8bAN7/JgCW/4AAQv+iAG//AQBDAI3/MQDi/8r/FQDt/87/BAAbAOX///8fALL/rgAw/54Ap/8RAOv/9v8SALT/ZACo/yAAJQBy/+UA5/6+ALX/xf9aAJ//HADi//j/BwA0AHn//gD//hkBQP/TALj/OwBhALj/PADw/+P/4P8FAJD/VgA2/88A8v7QAGT/QAAKAJH/iQBi/3IAlf9KAMj/FQDw/9z/BQDc/9//1//v/6X/CQCv/wIA3v/u/ykAz/9VAN//IwArAPj/AAAyANP/RgAFAPX/ZADb/0AAJwAiANj/XQDZ//r/AQDv/7r/SgBt/xYAPwAj/xIBGP9rAAQADQD5/zYALADb/2QAqP+bAIH/UADx/9H/5v8PAKP/VwCG/3wAlv8tAB4ApP9SAJr/egBW/6oAdv88AA8Anf9AANL/8P89AIj/aACv/yQAGgDl/x0AGADp//D/NgBg/5EAfv8fAPf/1f9eAKD/ZADz/+7/egCw/00AIAD5/ykAOQDG/2AA4/84APz/LwDU/1MA8/8CAAsAxf9KAHn/JwCs/wkA0P8aALD/RgCx/y4A3P/x//X/3f9FAIP/jQCG/04ACgDR/1wAx/9dAMn/LwD7/+3/CwDj/9//+v/O/z4Aof9DAMT/EwAUAM//JgD2/zQA0f+LAK//bgD1/xsAHAApAIv/vgBG/0oABACK/3YAeP81ABUA3v8UACIAt/9zAJ7/fQCf/zoAIgCm/44AcP85AP3/lf9OAGT/ZQBh/1IAo/8VABsAov9uAGj/MwDr/+v/+/8rAN3/TwAKADEAGgBRAPn/WQDd/xUAJgDP/w4A1v84ANH/BAGRAED/g/+5/kj+gAFcAlT/iP/u/qP8IAF0A6MAbgDs/v7+8/5xAdEBG//e//3+agBCAJoAaQAi/y0Atf8OAfj/qf9a/7//GAD//0YAI/8MAIH/agAIALr/tP8fAMv/SAAGAAkAjP9IACcA2f+ZAH3/VQDC/wsABAAFAJb/MQC5//3/t/8OAK3/JAAGAOn/cwCJ/5IA4f8vACQAGADj/xsA9v/x/9D/YwCQ/3YAGgCx/10Ayf86AKP/sABe/0gAtv8HAOj/QQAFAPX/PwDr/+z/IQBQAHb/nQCD/ykAzP8vAML/0/9SAIf/EwAqAHf/IAAGALL/7P+GAB3/ngCy/8//kwCy/ysA8/8BAKX/kwCW/4kACAA0AMr/4QCI/+AAiACEANsA6v9KAC7/tQDM/57/6P8a/xf/5v/G/23/EgBT/7//hwA3/8AAgv8VAD8ATAARAEcANQDA/3wAKAAqAPr/ZAB5/5wA4P8BANv/9f8OAPP/EQC+/9H/7P8hAOz/PgCA/4AAaf+CABMAuP8oAOf/9P/X/5oAbv9AAM//1P/L/0wAqf/A/yYAiv/Q/4AAV//V/5kAbf9CAHsAs/+d/74AIgDc/0AASQBk/28ALABOAKz/6f8mAL//sgCP/+T/1//i/+n/7wBf/6z/XQC8/1UADgAeAFf/EQBAABUAMgCU/+r/8v/x/6EA+P9K//r/BwBYABQATgDh/yz/9AAwAPv/nACr/0v/XQBnADj/nAAAALr+CAGj/5r/yACK/33/+/9RAIv/OQAkALb/FwBCANH/5v80AA4Axf8UAPL/b//v//v/DQCI/y0A5P+j/wQA7/8oALz/KAA0AKr/GAAvACMA3//n/0sAYP8tADUA4P+9/1QAff/5/5kA///K/28A5v93/+AAAgB9/30AkAAj/7cAAQCj/0oAcACL/x8Aq/8oAJv/2P8hAJb/tP9eAJT/yP+YAN/+DAFV/zgA5P/5//z/fACF/6UAFgBC//gAwv+g/7UAmP9e/y8B4/50AD0Ae/8jAC8AIv++ANP/ov8mAOz/7v8aAG4ANQC6/0kATwBS/w4Bwv8IAA8Auf/i/3sAyP8jAPX/u/+p/4wA7v+G/xQAaf/Z/5gAzP+N/1EAZP8WACIAZQCC/yoATQCR//P/0AB2/0gAXwDc/9n/BgA7AE3/wgDs/1P/cACz/6T/zACq/9n/DADn/9//ZwCf/04Amv9HACQAf/+UADP/BAGd/xAAQwDN//X/9v+xAIX/kwAoAAf/rgDq/3n/LgE1/8P/fABz/8H/5ABn/9v/iQB5/3UA8P8WAM3/4v98ACz/QAClAL/+5wD1/yT/rwABAIL/yACB//D/cgD+/63/bQAlAHT/lgAOABsAd/8FAS7/BQCgAMv+XgB0ADf/agAeAEb/z/93AAAAuP8lAPH/RP9hAAcBAv9tACgAHP/EAJ0AQ/+UABcAvf+r//EAov+L/5gA6v+6//z/WwCt/8z/IwCt/1oAyv+U/wgBwv5fAJsA6f+j//oARv8EAJ4Aev8mAK4AZf8VAJ4Asf5eANj/cgCm/zQAi//K/6f/XQCJAMD/q/9LAFv/2f/SAKH/PwCx/+X/XAD6/6n/PwA/AHr/7QC1AKH+igDA/2b/HwEmAJj/SgAK/zMAKwDj/08AUP/k//b/UP8/ASn/CgCeAPX+awCMAHz/vv/ZAGj/QgBjANX/lP/sAIz/qwD5/77/JwBCAKT/6f8uAOf/NgDN/0oA+P5XAMv/ZAB0ACj/CQDU//3/ZQAXALIA7P7n/9UAm/87AOEAI/90/9UAyv8FAK0A/f7Y/08AwP+fAFIAAf+x/xUB5P72AFAAFP+l/0sARQCg/3sAhP9l/9j/FwAdABQAz/+w/wUA+/9JAEAA2/+TAIL/yf/UAF3/ewCoAIX/KwBAAOb/6f/AAMT/GAA/AKn/YgCx//T/bQDG/8L/hAB1/wsA0P/r/3cAd/8XAFQAOv/R/5EA1v/W/zMA2P9W/1kA+P88ACv/XwDk/1j/swATAKb/7v9iAP7/NwCL/3oATf/T/wABMgCc/7L/DgBv/z8A1wBDANX/o//G/+v//P9gALkAo/+7/xwAg/8gACcAcwCU/wMAYgCE/9//nAAnAJH/eQAFAIX/RAAmAMj/MwD+/x8AKgBv//L/SgAW/zEBNgCL/0IAEf/8/9X/rAAtANH/dP/P/6j/0/9fAN//4f/9/wMAiv9oAO7/UQBDALv/WgDB/z0AGADX/y4AOQCP/wYAZQC5/xAAwv8HAI3/+v8YAOX/pP/8/y4AHQAEAJUALACx/9QAk/9qAAIA+//y/w8Azv+u/3AAZP9dAJEAzv8VAIgAyv7OAF4ATf+xAFr/rf/j/yMA7//t/+b/8v8Z/2YA4P/I/28A6P/p/8v/EQCo/0AAZQApABAA4v9Q/4oA0v+AAIYAh/++/z4ACgArAEcAIgDU/7n/ZgDN/wIArP+nANv/pf8MAAEAd/8QAIUAy//X/73/SwBb//D/OwDx/wsARABCAJD/xP8zACAAlQDk/+v/ogDd/qQA3//V/zEAxv9SAIf/BgC8/5YAKgA6ACgAu/9k/x4ApQCEACsAy/85ADX/8f/oANz/Nf/5/5b/q/66AMP/uv/Z//f/BABf/7YA/v/5/+D/LQDx////+/8aAAQA5P9AAFcA0P/V/9T/7P/m/14AvwCD/97/9/+m/1gAWwBnALn/2P+I/1v/1v8bAB0AtP9GAIz/a//Z/2MAn//LAAoAy//e/9f/dv+S/6EA9P+d/98A2f9G/8EAff9ZABsAyQDp/1kAAADm/wAAd/+ZADgA5v+BANT/Mv8ZANz/6f/bAAsAfv9uAD7/2f9/AGQAM/8/AO//TP/AAAwAWgC4/8v/JwAUADMAlABBALD/dQBu/8f/PQAZAGcAXQCq/9v/n/+7/38A4P80AMz/LQDJ/37/YQB6ADn/6AAiAFD/0/8ZAFIAnf9BAQQAq/+B/+L/+P8+ANoAcAB//93/4f9s/4sAjQB4AND/BAAx/xAAyP9FADoAuv8yAOf/EwCR/2QA0v8aAEoABgBb/5//0v/c/ysAdgDH/8H/iP/u//r/KQBxAK7/CwAWALr/MACkALD/sgA2AOv/iv8pAIv/rwBKADUAx/9y/97/iv/DAM7/JQAiAKT/qv+QADr/MwDp/+j/RADg/z4AAgCt//3/3P+8/wMALgApAMj/rf81ALD/rP/nAHr/2/8PAPr//P/h/xsAcQCp/1MABQDM/5n/8P8xAEoA5ACv/0EAV/9F/0IATQByAIQARgCc/2v/oP+j/0cApgCMAH4Ayf+l/5n/Xf8+ADMAewBdAAsAev+F/7z/yP+CAIoALgCd/xgAnv8S/zcApADR/1QAPwCJ/4H/HQD3/zAAOABYAAwAYP+LAFv/BgBuALr/aQDW/5H/q/8hAA8AyP97AL7/sP8KAHz/XgBw/4cAAgCV/+oA5v4sAE4Avv+bAM7/RwDQ/8b/MQCc/zQADwDu/yEAvP8wAMr/PwBVALL/hwD8/6b/+/8/AJP/KQBIAGIAxf8bAFgAwP/w/0MAUACH/2oAwP/U/87/5P9HANX/9/9VACz/7//y/9b/ZgDJ/0cAMv/z/2kAhf+LAB0Arf+//yIA8/8VAFwArf84AA4Apv/a/w4Anv9ZAFoAQQBbAJz/uP/v/yv/ugA4AGwAQACg/8b/B/9XAAYAqQBNAE8ADgDW/jYAhP/I//wAFQCYAJT/3/8r/2X/tgCCACQBcQB6/xj/ef/h/2AA+gA0AF0AU/9A/5L/N/9nAKMAmwAfACsAmP8H/wUA9/8gAOUAPQAbAFf/2P+B/6j/NACRAJQAAAAhAMX/5v5WAPz/IwBjACQAfwAQ/0oAvf8UACMA2ABEALb/gACK/4L/+f8NAEoAAQDR/zQAAP+o/3EAq/99AIQAHABZ/9n/xP/m/3sAUQB0AAUAr/+w/4n/RQCcACoAuADU/8T/df90//T/gQAPAOkA9f/i/zD/nP/l/8v/hAAjAEcAnv/h/zP/DQD0/4YAXAAsACcA3f+Z/+L/zf9NAPj/qgADALP/MgBj/zQA6f97ACwA3/8hANH/ZP////P/2v8EAEcAu/8EAHP/NAA7AOP/twCM/yUAsP8LABcAbwA2ACYAWAB3/zEA7f8zAFgANgA4AP7/n/+U/xMA8v/d/9QAOwCC/67/W/8T/w0ATQBKALUADwC2/2v/0v9U/5sAjgCEAKIAyP9t/1b/+P+W/44AnQARAFoAoP9Q/5//PP91ANEAogBfANz/Nv/N/oP/uP+5AKMAxAAsAEX/lv96/+b/cwCJAKMAPABg/w//aP+v/+v/9QDtADsAxP/M/zv/7P5iAMYARwDDACoAa/9n/3H/aAD8/28ArgAGAKz/rf/x/0n/XgB5AEUARQAXAOn/j/+i/xwANwAZAKQA8P+E/5v/gf+Q/+3/TwCMAP7/v//1/2v/QP9GACcA1/+hACAAfP+s/93/MwDh/7IAuwAZAD4A0//X/7L/KgB0ABgAMwAvALP/df/E/zMACgDj/2QA0P+S/z4AuP+9/10ASAANAPX/HQAjAIn/WwA7AOP//P9pAKb/kv9zAOz/wf8vAE8AvP/I/x4Auv+F/yUANgDc/5f/fwBX/8L/HgCm/8L/BABdAIr/zf9EAIz/s/9qAOj/z/9VAEwA7/9kAAUA5v9z/xMAWwDS/14ASQDe/43/MwBgADcA3v9/APL/ef8zAMP/r//y/4UA8P8KAHkA9v9+/+b/FAAbACgAVwAkANT/8P8mANL/0P8FAEkA6P/r/04Aev+z//D/GgDy/1kA+//v/43/gP/J/7H///9FABwA0P/f/wsAsP/S/1cA//9JABQAOAD8//H/3v8iADEAOACYAPj/1f8UAJf/5f8wAP7/FwBGANb/dv8MAJz/MQDw//r/ZgCf/y4ACgCs/yIATQA3AEMAtQA3AO7/AQAHAM3/AAAnAK3/r/9OABEA/f8uAMP/+/9t//3/zf8AACgAcADY/6L/CADB/wMA/f8OAEEA3f+e/woAKQBIAGIAYwDP/ywAw/9SANH/HQBLANX/xP8bAFP/wP8uAMn/aACt/68AoP+k//n/KQDp/z8AoADW/xAAGwDZ/wkA+P9VADgAtf8CAJD/BgC5/1EANACj/2cAFwBk/+j/CACN/7j/MgCy/yEAVACp/+L/wv9EACAAegBaAGQA1v/o/z8AlP8lAJsA+P82AO//8P/H/zL/OgAjAAoAEwBpADn/7//+/5X/VgBEAAMAOgDi/5H/y/+8/zYA6v+wADUARgARAPv/MgAjAFgASgAVAOz/GwDp//L/8f8QAAAA3v80AJz/hv/2/3j/FAC+/ygA7f9i/9f/iv8YAOb/aAA3ANP/HQCW/0EAl/9NAFYAr/+dAD4A3v/R//7/JwD//0AAmAAXAJn/w/8AAHL/3P8nAB0AAQAIAE4Axv+N/0IA2f8NAFQAKgBbAM7/KQAwAML/IgAuACAALAAzAAEAmP/l/8T/FQDq/ysAPwCG/wgA7v+q/xYA6v8KAG//EwADAH7/VAD7/87/gP8MAMf/RgAxABEALADM/w4ABQAoAH8ARwAaAGMAFgBZACYA4f8JAAkAxP81AND/x//s/67/4//n/9X////5/6P/1f/R/wgAAwBNABoAFgBUAGoAEwAYAFMA9P85AMH/YgDm/ysALACl/x8Aw/8EAPr/RACe/ykAd/+Z/6L/1P9nAKn/GwD5/5H/5v/e/9f/yv/8/xMApv+ZAMv/JgAJAA8A8f8GAHUAFAAtAGwA7v85APv/4/9JAM//aADv//z/wv8XANn/9f/s/0wAz//9/x4ABADD/wEANgCn/2sAu/8EAP//6v/h/yAAov8IAAkAJgD4/zoA9//P/xIAs/+MAM//HgBFAJ//wv/t/wAAWgCr/6EAmP95/9b/RP+2//T/aAAXAHEAt/8GAJj/1f8KACwAGAAhADUA1P8uALD/HgAXAC0A/f/6/zIAoP++/xEAwf/e/4IAEwAQAP7/BwBEAJr/HwBTANP/1P+IAC0Auf9BACwAef/Z/2cA4/+C/+b/GwBZ//n/QwDT//T/GQAYALv/wP+NAPT/5/8XADAAkv+O/4UApf8LADUAOgDU/+//VQCM/8j/AwAwACgACABgAKL/s//t/zAA/f8KAG0Ax/+T/+j/3f/T/+L///9jAIj/KwAdALH/KQAbABYARgA7ADUA8f8oAOP/NABSAAcAjAC8/0UA5v+9/yIA2P/A/+H/vP8WAMT/KQCy/9L/BgCG/5gA5v8VAPX/PQD5/0gATgAMADoABQDR/9n/8P8GABIA6P9VAML/of8BAKT/5/8RACYAdQDt/1AACgDF//3/PABrAAMAFwBPAJT/n/+9/xIAhf/f/2QAkf/+/8//WADY/8P/hADb/wYAewAxADQA5f84AN7/u/9PACEA4f8OAE8Af/+4/+D/vf/j/ysAlQDI/+L/LQB3/9b/OQBhAC4ASQB1AMv/vv/F//X/KABLAIAAwv+z/7n/sP8hABwAJgAuANH/AgAaAJP/tf/f/zYA9/9qADYAwf/f/9z/nP+2/zUA2/+m/z8A1f/F/wcApP9IANv/DAAeABcA1/9+AAMACQBkAA4ASQDU/xcAFgAAAG0AFwCo//n/l//S/w8ALwDQ//7/EADt/7j/6f9bAAoA/v+gAAsA+//U/9f/qP+b/yoAcQDo/0gAIgAu/37/af+KAMP/mwAyAAAA1//J//X/3P/1/1cAaQD9/+D/zP8QAI7/UwAMAPv/FAAcAAUA/v/A/xoArP/s/w0ALgAZAB4AHQC6/+T/3v8jACoADQAAADEAlv++/yUAEwAZAA4ANAABAKf/TADf/+n/AgB6ANv/9P9AANz/AwDU/1EA4//g/w0Aqf/D/9//df8PAKv/zP+0/8H/g/+9/z4AAwBXAPD/NwATAOX/GwAYAEQAagAtAB4AtP9EAPT/2f///wwA7P+3/+v/g/8rAM7/6/8BAMr/EQBFAAoAYQA8ABwAkQDv/1MADAD5/1QA0f99ACkARQD8/67/LQC4/1gA7v9LABoA1/84AIT/BQD9/w0AYwCf/wQAlv+V/6P/nv8tAMb/FQDK/7j/f//B/w8Az/8eAD4AEwAsAKf/EADp/8r/PgAHAHgA5P8HAOL/fv/y/+f/LwAfAA4A/P9//7X/mv8GAPD/GwCQAOn/HwDl/7j/HwD8/48AdwBjACYA5/8YAMf/7f8qAFAAGwBQABgA9v+4//n/v//U/wsAPwAlAI7/CgDD//P/8f8vACYA4/9FAPT/3f/s/+7/4//h/0wAHgDf/xEAy//X/+X/8v8fAC0AsAA+ADQAlv+i/zQApv9pAI3/s//+/1j/WADb/zYAw//g//H/tP+UAO//qQAfABMAPQCr/y8AcQBWAD8AHwD2/8L/uv9DADMAEAAyAAYA9/+y/ycAtf/Z/xUApv/r/97/DACw/9P/DgAIAN3/AQDz//H/1P9yAPj/RgBPAPb/5P/Q/y8A5f/2/9r/AQDT/5b/sf/Y/4r/NgDq/+//QQDK/6z/5P/Y/0QABAA3AEMA4P/g//z/CwDz/2gAVgAgAAsALADx/7T/JAARAOL/ZQAfACoAAQDm/9//2f8JACUA/v8aANX/BADY/ycAEAAWAFIADQAdAMj//v/t/+D/JwAfAP7/GAD6/+//r//z/wIAFQABAPf/5//C/7D/8f/Y/wwA+v8AALP/tv+5/87/vv/7/ysA+P8lAPX/JwD2/w0ACwBOAAsAYwAFADAA8f8VAFoA/P8zADkA\" type=\"audio/x-wav\" />\n",
       "                    Your browser does not support the audio element.\n",
       "                </audio>\n",
       "              "
      ],
      "text/plain": [
       "<IPython.lib.display.Audio object>"
      ]
     },
     "metadata": {},
     "output_type": "display_data"
    },
    {
     "data": {
      "text/html": [
       "<style  type=\"text/css\" >\n",
       "#T_50b50_row0_col0,#T_50b50_row0_col2{\n",
       "            background-color:  #aaffaa;\n",
       "            width:  150px;\n",
       "        }#T_50b50_row0_col1{\n",
       "            background-color:  #ffaaaa;\n",
       "            width:  150px;\n",
       "        }</style><table id=\"T_50b50_\" ><thead>    <tr>        <th class=\"blank level0\" ></th>        <th class=\"col_heading level0 col0\" >qnet</th>        <th class=\"col_heading level0 col1\" >w2v</th>        <th class=\"col_heading level0 col2\" >w2v_tts</th>    </tr></thead><tbody>\n",
       "                <tr>\n",
       "                        <th id=\"T_50b50_level0_row0\" class=\"row_heading level0 row0\" >4</th>\n",
       "                        <td id=\"T_50b50_row0_col0\" class=\"data row0 col0\" >мошкова</td>\n",
       "                        <td id=\"T_50b50_row0_col1\" class=\"data row0 col1\" >машкова</td>\n",
       "                        <td id=\"T_50b50_row0_col2\" class=\"data row0 col2\" >мошкова</td>\n",
       "            </tr>\n",
       "    </tbody></table>"
      ],
      "text/plain": [
       "<pandas.io.formats.style.Styler at 0x7f27a66d7eb0>"
      ]
     },
     "metadata": {},
     "output_type": "display_data"
    },
    {
     "data": {
      "text/html": [
       "\n",
       "                <audio  controls=\"controls\" >\n",
       "                    <source src=\"data:audio/x-wav;base64,UklGRiTmAABXQVZFZm10IBAAAAABAAEAgD4AAAB9AAACABAAZGF0YQDmAADr//7/4v/D/7r//f8aANH/jv+W/8//qv9m/23/w//P/63/uv/D/9r/4P/S/9v/+v8QABUAGwAfABgALgAnAAsABwAlADMAIgAJAC0ASAAwABAAGQAvADsAMAAkADIASwBQAEQAOwBCAEUALQAOAAAAFgAVAB8AIQA+AEoAVwBmAGoAaABjAG0AYABdAFUARwA6ACEACAAMAAcABgADAAwAEgADAPv/5//v/+T/zP/A/8T/sv+q/6z/vv/N/9j/2v/V/9z/8P/2/+X/3v/Q/8//yv+8/7v/yf/J/8b/yf/P/9v/3P/h/+j/8//4//T/9v/o//D/7P/r/+j/4f/r//f/8P/s//P/AAALAB8AIQAVAA8AHAAoABUAHQApABsABwAAAAcAEwATABsAOABVAGoAfACNAKEAqACfAIYAagBPADAAHAD5//b/8/8AAPj/7//8//7/AwD2/+z/5P/m/+X/4v/j/9z/3v/u//f/AAAcADgASQBUAFYAVgA+ACoADgD3//L/3f+//8L/yf/P/9D/2v/i/+n/5//J/8D/t/+//73/v//N/9P/1//g/+X/4v/i/9n/vv+//8//4//t//3/DgAeACEAEwD+/+3/4v/U/8L/wP/B/8f/z//W/+H/5f/r/+v/7//t//D/+//6//j/+f/7/wUACQAEABQAFwAhABsAIAAiACkAJAAiACsAJgAtAEEAUgBZAFkAVgBhAFsATgBCADcANAApABIAAwD0/9n/zf/I/8//yf/M/9T/3P/d/+f/8P8AABwAIgAoABgAFgADAAEACgAIAAsA/f8QACUAIAAQABUADAD///r/BAANAAcACAAIAAIA9//p/+H/1P/D/8b/x//Q/8P/v//D/8P/vP+6/7//yv/Z/+v///8VACgAKgA3AFEARAA+AD0ANgAwACkAGAAEAP3/AAAIABsAMwA1ADkAOAAwACIAIgAbAA4ADwAfABUAEQAKAP7/7f/f/9b/xf/B/8H/yP/G/8b/z//Y/9z/7f/u//L///8AAAoAGAAdABMAFQAbACgAOgBPAFsAVwBQADsAOAAdABMACAD9/xMAFQAwAEAARwBNAEwAQwAwACIAHAAHAPD/4v/T/9H/3P/l/+r/+/8KABcAIwAwADoAOwBHAEMAUABWAGMAbwBwAHgAhgCaAJoAjQCEAH0AfQB/AIAAdQBrAGsAaQBTAEEANQApAC0AKwAlACcAJgAZABMAHwAnACkANwAvADEAIgAZAAUAAAD6//f/8//8/wAA/P////L/4P/S/8X/r/+j/6T/uv/V//L/CQAUACAALAAyADQALgAeAA8ABADy/+P/z//I/7//uP+0/7v/wv/P/93/6P/3/wcACgALAAAA/v/4//v/+v/1//b/7f/4//3/CAAjADUASwBMAFEAUQBSAEcAMwAtACAAIgAfACYAKwA9ADQAQABPAFAAUABLAE4ATAA8ADAAGAANAAIA9//j/9r/2//M/9T/0v/i/+b/AAAPABsAIAAXAA4ACgABAPz//f8KABgAJwAxADQAKQAjABQA+f/r/97/4f/q//L/+/8AAAAABQAIABgAJwAtADAANQAlAB0ADgAGAPz/BAAQABcALQA6AEUASQBHAE8ATwBBADkAKgAXAAUAAAD8//7/CwAMABgAHQAdACIAJwAmACYALAAsADcAMwA1AC8ALAAaAAkA///x/+v/7////xoAKwBJAGMAYgB1AHEAZQBSAD4AIAANAP//+f/7//f//P8HAA8AHAAtADMARwBOAE8AVgBQAD8AOAAlABoADgAIAAsACgAWACgAOgBAAEwASwBGAEcAPAA1ACsAIgASAAUA+v/t/+b/6v/0/wEADwAiADYAPgBBAE4ARgBCAEgARwBHADoANwArABkAEQD+//n/+/8FAA0AHAAcACwASABVAF8AZQBmAGIAVwBBACsAJAAbAA4ABgAHAAUA/P8GAAMAEgARABYAGwAcABwAHAAjACgAIAAqADMALAAcAAQABwAEAAcAAwAKAA8ACQD+/+r/3f/G/8P/xP/E/8b/zP/f//T/AAD///v/9v/1/+7/6P/a/9r/1//J/8P/tP+x/7T/uP+6/8f/0v/Q/97/3f/a/9j/1P/f/+f/+f/3//n/AAAAAAUACQADAAsADQAcAB0AIgAhABkAGwAcACYAHQAdABEADgAIAAAA+f/7//v/BAANAP3/+//3//X//P/8//7/BQAMABUAGQAfACEAIgAoACEAHgAkACAALAA2ADcANwA1ACkAGAD4/+f/zf+5/7v/u//D/8X/xf/S/9T/3P/f/+j/5f/m/+H/2P/Y/9D/xv+//7j/sP+l/6f/p/+u/7r/wf/S/9T/5f/m/+//8//v/+7/4v/Y/9L/wv+y/7D/tv+5/8L/1//7/xkANQBUAGsAdQB2AGUATwBEADgANAAyADUANQA6ADAASABLAFUAYABgAGYAYgBUAEEANgAmAB8AEQAOAAIA+//w//X/+f/+/wsAFwAfACYAJwAiABgAEgAaAB4AFwATAAoACgD5//f/7v/2/wUACwAnAC8ANwBAADoAJQARAPH/3v/G/7T/rv+u/7D/s/+5/8D/xP/Q/9z/4f/n/+r/8P/o/93/1v/M/8b/0//c/9z/5f/z////CQAUABMAGAAPABMACgAHAAwACQALABMAJQApADIAOAA7AC8AIQAcABYADwAPAAUABgADAAQADgAOAA8ADgANAAoABAD+/wEA+/8DAAkACQALABMACgAHAAEA/v/0//b/+/8AAAEA/P/9//L/+f/4//f/+f/r/97/2P/J/8X/xP/Y/+X/6P/u/+n/8v/x//f/6P/m/+D/yf+o/5P/mf+W/57/sv/C/9r/6P/v/+b/5//a/9D/wf+4/7L/qv+u/7T/xf/Q/+D/6//x//H/8P/6/wAAAwASABcAGgAcACkALAAuAC8AIgApACkAGgAJAPv/+/8IACIAMAA4AEQATwBRAE4ARQBGADcAKwAjAAgAAgD3//n/8//6/+3/3//W/9P/1P/d/+r/9P///wcABAD+//v/6P/a/8r/vP+7/7b/tv/H/9X/4f/1//j/CQAYABsAIgAZABkACAAAAO//6P/i/9z/3f/n/+//9v8DAAEAEAAWABQACwARAAgA+//5/+3/8f/s/+X/4v/X/9//4v/o//P/AgAEAA4AGAAjACIAFQAKAP//AwD8//v/AQAUACEANwBDAFIAXQBaAFcATQBLAEgARgBCADcAKwAoACwAMwA9AD8ARABHAEQANQAmAB8AEgAEAPz/+P/w/+T/4f/n/+b/5//l/+z/+v//////BQAEABMAHAAhADoAPwBGAEEAPQA8ADgAKgAcABMACAAFAPT/8f/1//j//f/0/+v/3//Z/8v/uv/D/8n/yf/R/83/yv/P/8//0//Q/8z/x//N/9b/5f/v//b/8P/z//n//f/9/wIA/f8BAAMACwALABAAFAAaACoANgA3ADMAJwAaAAcA9f/y//T/AwANABoAKwA4AEwAXABrAG8AZgBlAFcASAA/ACcAGAAOAAsADwAKAA8AEQAaAB0AHAAfAB4AMAAxADYAKQAwACIAGgAHAPD/5P/a/+n/8f/9/xcAOABFAFEAUQBJAD4AJwAYAAcA/f/p/9T/0//T/97/5v/y//n/BgAGAAcA8v/u/+b/3v/a/+D/6P/x//n/+v8HAA4AEQAfACUAIAAmABsAEAAKAAIAAAD9//n/BgAMAB0AIAArADYAOgA+AEcAWgBZAF8AaABkAHEAYQBVAEQAMAAjAB4AJgAmADcASABHADoAOwAzACsAGQAHAOr/3//Q/8j/yP/S/9n/0P/a/9n/5f/s//b/CgANABAAFgAOABAABgAGAA0ABgAMAA4ACgARAA0AEgAMAAgACwAHAAkABgD8//X/9P/w//H/6//b/9n/2P/U/9f/5v/z//v/BAAOACAAMAAsACsAKwAuACYAGgANAAsADQAJABsAGwAfACAAIwArACQAMwA4AEAARQBKAE0AQwA7ADQAKAAiAB0AGgAQAAkA/P/y/+n/2//p/+T/7//3//v/BgAHAAkAAQAMAAwAGAAPAA0ADQAhADQAQQBFAEsATwBPAEAAMAAfAAYA5v/H/7z/tP/A/8L/2f/z/wMACgAOACUAHQATABEAGQAYAA0ABAAFAPn/7f/e/9D/zP/K/8n/1//a/+X/7P/3/wkAGAAmACEAHAAKAPn/4P/K/7j/of+k/6z/r//D/9D/5v/w/wIAAAADAAQAAAD9//7/DAAYAB0AJQAvACUAHQAaABQAGwASAB0AGQAkABsAGAAVAAgAAQD8//P/7f/x//f//f/9/wgADwAQAAoA//8FAAcA8//v/93/0//Q/8n/zf/V/+P/5f/l/97/4v/i//L/9//5//v/7//e/7//s/+n/5b/jP+c/77/zP/l//7/FAAfACIAHQAEAO//2v/J/7j/rP+q/6r/sv/E/87/6v/+/w8AHwAjACUAIQAlACkAHAATAP3/9P/0//L/8v/s//n/DgAiADIAPgBJAE8ASwBGAEIAPgAxACMAHAAUAAsA+v/n/+X/8f/6/woADQAiACkAMAAyACgAIQASAAYA/P/6//v////3/wAAGgAZACwALAA2ACQAAQDe/8X/rf+U/3f/Zf9t/3L/gf+Q/7T/yv/V/+z/6f/a/8j/vP+u/5j/lf+R/6H/r/+3/8r/8f8AAAwAIwApACsAFgAJAPf/7//e/8//yf/P/9X/2//r//v/EwAgACIAKAAnACQAGAASAAYABwD8/wAA/P8CAA8AEgAfABsAIwAmACMAHgAxADoAQQA3ACgAEgD6/93/wv+x/6r/tf/M/+r/DAAWABgADwD7/+z/2f++/6P/hP95/2X/Z/9r/23/gf+V/6n/wf/e//n/EQAYABsAFwD2/+z/1P+0/7D/pv+w/73/0f/j/+//9f8AAAUADwAgACMAGwAFAAMA8f/Y/8X/uf+5/8f/wP++/9H/1//b/9f/4v/s/+v/5P/j/9v/1v/M/8X/0f/R/+H/5v/8/wEADwAiACkAKgAsACwALAAwACQAKQAZABMAEAAIAAQAAQD8//f/9P/r/+H/4//X/+H/7f/y//L/4//U/8v/xP+4/57/n/+o/7X/x//u/xYAKQAvACkALQAdAA4A9P/p/+H/2P/d/9j/6//7/wcAFAAhADUAPABDAEQASwBBADgAHgAVAAcA+v/2/+//9v/2//b/6v/q/+H/5//k/+L/6P/2/w8ALAAyAD4ATQBTAGAATwA3AC4AOAA7ADsANQBDAEkATABEAE8AUAA9ADEAIgAdABIADAD///f/5//t/+r/2//N/+D/6P/K/7L/tv+8/7X/sv/H/+H/2v/b/+P/8v/v/+T/3//o/+P/2v/i/+z/8v8DAAcACgAHABQACQAOAA0AEQAeACUALwAjAB0AEwAaABUAFQAkACwALAAqADgANgAbAAgA/v/8//b/+P/t/wcAGwAVAAwABgD5//H/6P/i/+j/9f8KABUAIQAnAC0AGQAPAAMABQD9/wMAAwAAAP////8AAPT/6//q/+7/2//M/8T/t/+e/5D/k/+n/7H/u//O/9v/2//S/9b/4//0/woAFAAYACwANQAqACoAJgAtACkAKQAvAC4AMAA1ADcAOwA6AC0AFQAOAAMA+//1/+X/3v/T/9z/5//5/wgAGwAwAD4ARAA/ADAAKwAhAAwA/f/r/9f/y//C/7j/uP+8/8v/5P/l//P/7P/z//v/+//0//D/9f/1/+3/2v/Q/9z/6P/y//r/EAARABQAEgAYABsAEQD6/93/zf/O/8L/u/+1/8//9P8EAB8AOwBcAGwAXQBPAEoAMgAWAPn/7f/a/83/xv+//9D/4f/1/wYAMABOAG4AaABkAFgAQgAeAAMA3v+9/5j/ff9x/3L/iP+f/8f/4v/4/xUAIgAlABYA/P/u/+P/0P+//7v/zP/P/9b/6P8DACEALgAxACMAHAAEAOz/1f/E/7f/p/+k/7P/0f/l//n/GAA6AFAAXABcAGAAUQAsAAUA6P/W/7//qf+L/53/uf/S/+v/BwApADoAPgAuACsAGwANAPr/4P/N/8L/vP+q/8T/3P/9/woAKwA4AEIARQBGAEQANwAXAAoA+v/b/8b/uP/E/8v/4f8CABgAKgA+AEgATABAAD0AHwDz/9b/v/+r/6n/o/+q/77/3v/2/wkAIgAxAEAAPgA6ADEAOAAbAPv/4f/W/8r/wf+//9L/5f/5/wsAJwA0ADoANwA2AD4AKQAQAAAA8//k/9b/1//m//f/AwAWACYAJAAqAB0AFAANAP3/6v/a/8//yf/J/8b/x//W/+j/BgAZACYAOwBCAEcAOwAwACIAFAAOAP7//P8LAAAA/v/0/+H/3f/T/8//yf/T/+D/1P/K/8j/zP/T/9f/3v/g/+v//P/8/xEAFgAcABIAFwAEAPT/6P/d/9j/1v/X/97/6P/q/+3//f8fACAAHAAbABUABwD3/+T/6//h/9//2f/k/+z/7f/9/w0AEwAmADMANwAwADEAHwANAPv/7//j/+P/5P/r/+T/5P/p/+j/6//c/9D/0f/H/8f/wP/D/8z/1f/Z/9T/0//X/9r/3v/c/+j/5f/j/9X/3//h/9T/yf+7/7X/qv+Z/4r/iv+I/5L/nf+j/6X/yP/X/+j/6P/0/w0ABAD2/+f/5//s/+H/0P/d/+P/7f/o//b/+f/0/93/vv+u/5n/kv+N/6b/uf/W//L/BgARAAYA+//i/97/2f/O/9b/1//X/+T/4//b/9//3v/d/9v/4P/z//L/8v/9/wYAAgD2//b/BAD8//P/5f/l//L/7//w//H/BgAWABYACQAdAB8AFgAaAB4AKQAhABoADQAPAAMACQAKAAYADQAYACUAHAAeADEAPQAvABUAHAAIAOj/4f/f/+7/5v/v//f/BAAHAAQADgAMAA8ABwAHAAoACgAEAPr/9//y//n/9//7/xcAGgAoADAAOwA4ACoAOwA3ADgAJQAhACoAMAAgAB8AKgAmADMANAA6AD8APQBMAFQAUgBRAE4ASQAzACcAIQAgABQAAQADAAAA+P/v//n/AQAKABkAJwA+AEkAWgBYAFIAUgBVAGEAWgBgAG4AagBfAEoAOwAvABUABQDt/+P/5P/o/+//8/8DABoAIgAvADsAPgBHAEgAPQA0ADEAKQAVABoAEQADAPz/9v/j/9j/1v/R/9b/4P/f/+f/7P/1//n/BQAQAP3/DgABAAYA7f/M/8L/uv+4/7X/xv/X/+L/5//y//n/+v/+//3/CgALAAoAAgAMAAsA9v/0/+///f/z/+//9v8KAAcADgAYABUACgADABUADgAJABEAJQAvADkAPgBLAFkAUAA9ADkANgAgABQACQABAA0AGgAqADYAQgA4ACwAHwAbACQAHQAWACsAIAAdABIABwAFAAUABQADAP//9v/q/+n/5//l/9//3P/m/+T/7v/x//X/7v/7/+f/5//p/+L/2//T/9H/0f/d/9n/3f/t//T/BgAcACkANwAwACwAJAAVAAkA/P/2//b/9f/8//b//v8CABAAIwAkACkAMgA6ADQAKQArACwANwA3ADIAPgBJAEkATQBZAF8AZQBNAEUAOQAqACYALQA7AE8AWQBbAFMATQA/ADMAMgAvADcALAAvAB4AJAAYAAIABAD7//r/8v/1//f/+/8HABAAFQAPABoACQAHAAUAAgARABkAKgApACMALAAsACgAMABCAEYATQBIAEoARQBGAEkASgBIAEwAQgA4AC4AMQApACgAHwAdAC8AHgASABUAHwAcABwAEAAcACUAJwAxAD8AOQA3ADUANwAxACUALQA2ADYALQA3AEUAQAA+ADEAKwAuACkALAAyAC8AOQA8ADcANgA9AEEAQAA8AEgASQBDADoAOQAzADEALAAfACMAHgAhABgAGgAQAA0AEQALAA8AFwAfACcALQBDAEUASQA9ADMALwAkABwAEgAZABYAEQAKAAYACwALABAA/v8HAAYA+P/y/+v/4P/N/9z/5f/0/+b/6P8AAAcA///y/wQA/v/0/+H/2//J/7P/t/+3/7z/vf+5/9D/z//X/9D/1//g/+P/5f/q//7/EgAfAB0AJwAkABgADgATAB0AEgAIABYAHAARABYAIgA5AEgAVwBdAHAAXwBiAGMAYwBiAF0AYQBXAEMARABNAFAAOAAxADAAOAAlABUAGAAYABIAAQABAAQADAAfACwAOwBLAE4ATQA9AD0APgA5ACQAKQAdABEABQDm/+v/2f/s/+T/5f/d/93/7f/d/9f/yv/X/9j/zf/T/9L/0v/O/9P/4f/o/+v/8P////f/9v/y//j/9/8LAAcADgAbACAAKwA4AEEAVABgAGMAXQBUAEIALQAjABkAEwAIAA4AAAAAABMAGAAsAD4AVwBcAGgAYwBpAFgATwBFADEAKQAPAAYA9//3//D/5f/u/+T/8v/2//f/BgALAPr/6P/t/+j/7v/2/wAAKgA3AD4AQABeAFgAVABOADYAMAAPAAkA6//X/7z/v//W/8r/zf/c//f/9//9/xYAGgAgAAYA/P/6//D/8v/0/wgACwAgAC4AOgAzADkAUABDAE0ARQBZAFMARwBDADwATgAxADEALwAvACkAGQAnAC0AKAAzAEQASABCAEQAPAAzADMAHgAgACAAEQAJAPP/8P/r/+f/yv/Q/9T/2f/F/8L/xf/C/9D/xv/c/+j/7P/w////HwAgABgAEgALAPn/4//a/8X/uP+9/87/xv/c/93/7//1//z/CgAQABQADgACAPr/9f/n/9L/xP+//7//u//A/+f/9P/5/wMAEQAZAA0A/f///w8A/v/z//L/9v/0//z//f8QACIAJwA6AC4ALgAkADsANwApAC8ALwA5ACwAJwAhADUAJQASABkAHgAPAPj/7f/u/+v/3v/h//D/+//5//H/8v/W/8z/wv+7/6j/qv+g/5b/iP+B/37/ev9z/3f/h/+R/5D/mv+q/67/uP+o/8j/xf/E/7n/ov+F/2j/Wv9F/zv/Pv9M/2X/Yv9r/3X/m/+k/5X/n/+7/9L/y//E/9n/7P/l/+X/9f8fABIAFgATAB4AFQDy//P/7f/h/7r/u/+2/57/iv+L/5v/oP+c/7f/yv/K/8r/3P/z/+T/5f/2/wwABQDr/+X/5f/Z/7P/x//b//n/+P8HABcAJgAtAAYAGAANAAAA5//b/8//r/+s/6T/oP+T/5n/rv+x/63/oP+f/5r/f/+F/4H/kf9//4f/lf+U/6P/nf+d/47/hv+S/4n/lf+T/6//wP+4/8n/0P/k/9j/5f/d/97/0P+n/5v/qP+g/4j/fv+Z/6P/lP+W/7r/yP/I/8T/+f8KAPz/9//8/w0A1f/S/8v/4f/C/8D/2P/l//P/6v8AABEAIAAGAAsAAgD9/+7/5P/T/8L/0//P/97/6f/5/wwABwAQAAAABADz/93/4P/r//T/3f/i/97/7P/N/8b/1//L/9D/vv/d/+n/9v8GAAkAIAAbABgAAADk/9r/w/+s/5n/tf/D/8n/y//S/+v/0/+y/5//q/+e/3f/dv+Z/5//mP+Y/73/y/+y/7v/0P/s/+D/3P/D/9P/uP+h/5b/lP+c/6L/sf+x/9P/3v/u//b/+v8LABYABQDy//f//P/o/+X/0P/x//X//P/5/wwAHwAkAEgARwBYAFIAVgAzAAwA+f/u/8b/m/+N/4//nP+K/5j/t//d/+z/7/8GAAQA+v/x/+r/4f/b/8n/tv+u/7H/yP/T/9X/0P/T/8r/rP+C/3f/a/9R/0X/Mf9E/1D/Uf9u/4L/o/+h/5z/ov+i/5z/mf+k/8D/0P/h/+j/+f8NAAkA+P/1//b/6P/T/8v/x//J/6//rv+u/8H/wf/C/+f//f8AAAcAFQAeABgACgAEAPf/4f+4/7r/tf+U/5D/iP+4/8v/1P/h//X/CgADAAMA9v/4/9f/vv/C/5n/o/+S/6T/sf+3/8n/zv/o/+f//f8DABcAFADt/+P/2P/P/8D/qv/G/7j/t/+8/9L/8/8BABMANwBWAFUAQQBBAD8AIAAEAO3/9v/t//b/CAApADYATQBYAGYAbwBuAF4ATgA2ACgAFQD5/+//9f8BAPj//P8TABwAIAAZACQAGAAAAOn/5P/f/9P/xv/N/9z/5//i//H//P8AAA0AAAAcAB0ALgAbAAMADwD8//b/yf/a/+L/7f/g/9X/BQD9/woAAwAwADcAKwAwACwANwAeABwAGQArABsAGAAcAAoACwD8/wQADQALAAQAEgAsAA8ABwACAPL/6//j/+r/5f/s//n/DQAYACEALgA6ADYAQgBHAFIARAAwAEIAOwAmABMAKQAlABQAAAD5/w0AEgAGABoAMgA6AEoAQwBGACgAKwA4ADMALAAcAD0AOwA7AEsAWwByAFYAcwBqAF4AUgBNAF4ARQBOAE0AVgBZACwAJwAAAAkADAD5/wcAAAAsABcAGwAXABYALwAJAB0A///2/+//1P/l/9L//P8OABYAKwA5AGoAWABLAE4ASQBHAA4ADgALAB8ABwD3/wMAFQAcAPb/+f/6/wYA5f/k/wEADgAHAAwADgAQAP7/+v/+/wYA+v8HAAwA5//O/9z/7v/k/+b///8kACUAIwArACsAFAAOABkAKgAmACEAQwBIAFkAUgBVAFgAVQBFACkAHgD4//X/BgAIACYALgBBAEkASgBYAFkAbwBUAEkARABDAEEAMAA7ACoAMAAiAAoAEAAJAAsA+v8CAPL/8v/+/+X/6f/U/+3////9//z/AAAaAAkABwARACIAGQAOACkAMABEAE0AXABqAF8AZwBoAFYAVwBWAGcAagBUAFoATgBTADIAOQA0ADgARQBAAEQARwBFADEAGwD9/wcACgAUABkAJgBKAFcAewB8AIoAjwCWAI0AfwBqAGoAXQBFADMAQgBPACkADgAMACAAIwAUAA4AHgAmACQADgATABQAJwAhAAUAGAAlADIACwARACEAIAAiAAQAIgAeAB8AEgAWADAACQAAAPL/7f/l/9j/4//x/xcALAA7AE0AXQBjAFMAVgBXAG4AVQBCAEMAOgAmAP//FQD4/wUA9/8LACIAJAA2ADQAVABEAEgASAA8ADAAAQD//+j//P/x//j/GwAWAD8AMwBHAFEAWABjADQAOgAeAB4AFAAAABsABAAaABQALAA0ACcAWABbAF8APAAsADkAIgAiAAwAPQBDACkAJwAzAEoAUQBOAHUAiQCBAGAAVgBWADQAPAAkACQAGAAbABgABgAQAAUAGwAgAB8AKAAbABgAAwDn//L/3P////b/AgAFABMAJwAKACQAIwBLAEkASwBYAGEAbwBIAEoASwBDADQAKAAfAB0ACwAYACYAGAApAEMAXABKAEgATwBZADsAGwAtACYACgDf//H/JAALAPr/8f8NAAMA5P/a/9P/7v/i/+T/5f/9/wMA7//m//7/GAAmADAAHAAsADoANwAzADMAPwA/AEwAOgA3AEgAQQBPAEYAVwBKADQAKQAmADoANgA7AEIAVQBdAEAATwBZAFcAVgBAADkAPQBDACkAKwA1AEUAWwBZAHkAfwChAJMAgwCAAHgAZQBBAEMAOAA0ADMAQABZAFsATgBgAHUAiQB9AJIAoQClAJAAdQB+AGIAVgA2AEgATwA/AEcATgB2AHUAdwB4AJkAjABoAGsAVAA6ABAA8v/w/9L/vP+1/8X/4//y/w8AMwBJAGAAVQBRAEAANgApAAYABAD2/xIAFwAaADcAWQBnAHAAjACnAK8AowCOAIkAhQByAGsAYgBUAF8AUwBYAFMAXwBkAGMAeABZAG4AXABNADsAJgAnACQAMQAVACIALAAqAB8AIQA8AD8APgA/AFAAbABYAEwAVgBWAFYAPABMAE8AYgBnAGQAcgBXAFwASABPADwAKwA3AC4AIwAOABYACgD+/w4AGwAqACcAPQBgAFoATQBPAGIARgA9ACkALgAcAA4AFAARACMAEwApADcANAAwAFQAWQA5ADEAKQAeACIACwANAA0ABwAaAC4ARQBBAEQAVgBHAEIAOwAmABoADgAFAP//+f/y/wIAEwAbADEAMQASABAAEgAFAOv/2f+4/6//nP+U/6r/tv/M/+H/FgAcACMAJAAiACYAKQAwADcANgAwAB8AEQAHABMAKQAfABkAGAAfABUACwApADQAOAAuAEcAQgAkAAwAGwAoAA4ACwAxADUAHAAAAA4AGAD2/+P/5/8BANT/4P8LABQA8v/1/xQAOwAfABwANgBSAF4APwBRADIASQA6ADQAQwA1AFAAYQBfAEUAQABzAFgANAApAB0AJAAIAOz/8/8TAAcA9f8KACQAKAA2ADsAVABaAC0ALQAMAPr/0v/a/9r/yv/c/+H/6v/b/9z/EAAbABIA9f8AAPL/u/+t/6D/ov+I/5//nP+o/7L/zP/5/wUAAgAYADsAJgD7/9//9//i/97/2f/h/wUA7P8AAA4AIQA5ADoARAAlABcABQDy//r/zv/l/9T/v/+6/7L/1v++/93/5//w/wAA6//2//v/DgD8/97/5f/e/+j/8//n//3/EAAmABQACQD+//X/DAAGAAcACwAZACcALQBAAEMAQwBOADcALQAjAB8A/v8AAA8AFQAMAOv/7//Z/8n/rv+s/7v/uf+r/5v/nP+f/6f/uv/X/+v/AwAVAA8AAwD8/+//4//O/9H/xv+4/6f/nf/D/93/1//G/9f/zf/F/67/o/+h/7n/t/+l/53/j/+b/5b/if+J/5r/qv+a/47/df+c/7v/rv+//9j/7v/s/93/4v8BABQAFgAWACwADQAOAOf/1//b/77/r/+f/5n/m/+N/6f/p/+8/7D/qf/S/9D/6P/d/+v/4//a/7//pP+2/6j/mf+s/9r/yf+//6v/x//J/67/rP/k/wgA1P/H/+7/+f/a/7r/xv/3/97/yP+4/9P/yf+w/9r/8P/1/+P/BQAgAB4AFgAbADAACgDc/+f/7f/z/+b/4f/z/wQACwDy////BgAjACoAHwAtAB8ANgAgAAoACgAiACEADQD8/9D/y/+u/53/nf+4/6j/kP+g/6H/uP+q/6f/wv/O/7//o/+w/5//n/+V/53/yf/D/8z/tv/F/8b/z//r/+z/9f/h/9f/2P/H/77/q/+g/5r/lP+a/57/pv+8/8X/wv/U/83/y//I/7b/sf+f/4z/kP+Z/4X/eP9//6f/ov+f/6H/wv/P/7//vv/D/9f/vP+i/6f/mf90/3H/hf+e/4//gf+N/5//of+i/7j/zP/R/73/wP+7/8L/sP/G/97/6//o/+z/CQDt/9v/2P/k/9b/0f+z/7j/ov+W/5//tf/b/7n/1P/j/+P/z/+n/7v/uf+q/4v/mf+4/6X/nf+j/6//rv+0/8P/w//B/6v/ov+U/3H/Xf9t/3j/h/+C/3r/iv+c/6H/nv+m/53/rv+S/4L/ff+B/4L/X/9c/0z/Xf9c/1X/Xf9l/4b/qf+s/6n/wf/n/+P/yv+9/7L/vP+x/5D/l/+j/6j/sP+y/7z/x//V/8f/0f/c/8//yP+j/4L/Z/9d/0v/U/93/4v/o/+9/8f/xf+z/5//iP9+/3r/ev+O/53/t//W/+7/7//9/wAA/f/y/+T/5v/l/8n/p/+q/6P/r/+n/6z/rv/J/9P/y//S/8f/zP/N/6r/n/+l/7v/0P/E/8j/1v/l/8n/tf/E/9//6//i/+T/9P/a/9//3f/h/+j/wv/K/8f/sP+P/5L/ov+r/6n/z//n/+H/wv+9/9b/y/+0/7X/yP/T/7T/n/+k/5X/h/9q/3//lf+t/77/3f/e/+X/1//N/8X/nv+I/6D/n/+A/5n/pP+3/6f/nv+n/8v/0P+u/7n/1f/k/+j/+v8LADMALgAhABsADAD6/+H/3v/F/7H/pf+S/5b/of+W/5//qv+x/67/tf+x/6n/q/+m/6f/lv+S/5n/jf9//4D/of+u/6D/r//O/8P/sf+g/6f/tv+C/27/df93/27/VP9j/3P/cP9p/3f/k/+T/6D/qv+w/5//tf+6/6v/n/+l/67/pv+H/3//nv+j/5X/o/+v/7L/qv+j/6z/pP+u/7n/wv+t/6z/0v/b/8n/2P/v/xYAFwD3/xEAJwAPAPH/5//u/83/tP+S/3n/gP92/37/jv+T/5v/qv/K/8T/1P/l/+D/4P/C/8//zv/D/7D/q//C/8H/zf/Z/93/0v/Y/9b/1P/D/8r/w/+0/53/lv+k/5L/if+F/7L/wv/i/wEAFAAiABwACQACAPP/0f/a/8//zP/J/+P/8P/t//3/BwApADoAKQAZAA8ABAD0/9j/2v/e//j/8f/f/+3/7P/r/+f/+/8JACUAIgAQAP//7f/1//7/AADw/+7/+v/1/9j/wv/U/9T/zf/G/7r/0P/Q/9P/6f8DABQAGQAaABgAEQAJAAoA/f8CAO3/6v/s/+T/3//q//3/DAALABQAGAAXAA0AAAAHAAAA8//h/9H/2P/W/9f/5P/w/wkAEwAGAPL/+//s//H/5P/y//j/+v/1//n/DAAOABUAIgA2ADoAOgAgAB0AMQBGAC4ANgBOAE4AMwAlACoAOwBBACoAHwAoACgACAACAPP/AAAbABwAIgAtADUANQApABMABwAEAAUA7P/o//D//P8MAAwADQAMAAUA8//s//b/+P8FAAwAAAD+/wAA9v/8//r/AAAfACwAKwAgACQAKQAiAA0ADAAQAP7/4//p//z/CAALAAcAAwD2/9z/tP+5/63/rf+7/8n/3v/X/+//5f/z/+3/9f/3//H/AgAHAB8AJQAsADEAPQBAAEAASwBRAFQAYwBqAGQAWwBZAGAAaQBlAHUAewBrAEsAOwA9ACkAHwAfACgANwAsACUANABAADwAMAAmACYAMgAwACYAHgAQAO//5//m/+H/7f/x/wcAIwAmAB0AHAAnACgAKQA4AE8APgAtABwAIQApAB4AJAAwACkAJAAVAAgABAAHAAkA9f/+//D////6//L/+f/7/woADgARABEAGwA1AEEAUwBPAEwAMQApABwAAwABAPr/DQAJABQAEgAqAEMARAA8ADAAPQA7ADIAJwAtADcAMAAmAC0AJQANAAMACQAFABAAHQAmADoAMQBAAE8ARwA5ADIAPgAxACwAKQAwADoAKwAuAC0AGgAIAPz/AwDv/+n/3v/a/8T/tP+z/7P/r/+x/8L/1//o/+r/6v/y//z/5P/S/8T/zP+9/6D/lP+K/5D/mP+g/6T/uP+//9L/1P/r//r/DQAeABgAHAAaAAcA7f/l/+3/AwASAAkAFgBHAFIAQQBEAFEAVQAuAB8AGwAUAAoA/P8FAAEACgD3/+3/9P/t//L/+f8HAAYA+//6//b/9v////7/AQAPACMAMwAtACcALABAAEkANAAqACIAJAApACoAMABLAGIAYABXAFsAWgBNADsAJgAlACQAFAD7/+//8v/9/wAAAgATABgADgD8/wEABAAIAAIA/P8HAAcAEgAXACgAJwASAP//8f/m/+X/7//1/wYAIgAzAEAAPAAwADcAIwANAAAA6v/V/7z/q/+j/5X/lP+Z/6H/p/+i/6n/u//F/83/x//X/+3/4f/Z/9j/3//j/9n/3P/X/+r/4//h/+v/8P/5/+//8P/w//v/9f8DAAUAEQAbAB0AKQAmADkAQQBMAEsASwBEAEIAQAA2AEQAUwBRAEgARABPAFEATABLAE0ATgA5ACYAHgAYABEACQAMAAUAAQDw/9//1f+//7r/pv+t/5f/kP+U/6T/sv+8/8L/yv/e/9r/4f/b/+3/5P/l/+X/0//Y/87/x//A/67/rf+n/63/rf++/8n/zf/U/9L/3f/Q/9D/v/+//7j/uP/F/8r/1P/X/+X/4v/s//X/6v/l/+H/3v/N/73/t/+x/7j/rP+q/7T/sf+t/7v/x/+8/7T/u/+9/7b/vP+z/9P/4f/r//P/BAAAAPf//f/3/+//7v/y//f/CAACAPz/AAAGAA0ACAAbACMAJgAoACUAGwANAPX/0P/E/8X/wP/D/8T/yf/U/9v/5f/q/+//9f8BAPr/+f/z/+3/6v/h/8//wf/E/83/v/+7/8X/y//M/9L/7/8AAAoABwAEAPL/6P/j/9f/6P/n/+r/3v/V/9n/4v/j/+j/8P///xQAAQD+//j/7v/h/9f/1//X/93/4//x/wkADwAMABIAGAAOABAAAAD4/wYA9//w/+L/6v/3//f/AgAKAAkADgAYAAcA8v/o/9//z/+1/6T/mP+l/5H/pf+3/9D/6P8EABgAEwAhABcACgD5/+//9f/u/+T/3v/M/8n/w/+s/57/oP+Z/6H/mP+c/6z/t//I/87/5//9/woAGAAlAC4AOwBBAEwAVABKAEoAOwA6ADEALQAqABwAGAAJAP//9P/q/+f/5v/G/77/0P/Q/8r/yP/Z/9L/zP/D/7P/sv+h/5n/kv+f/5X/kP+O/4n/kP+F/4j/jP+K/4X/lv+F/37/e/+B/4n/jf+h/6v/sP+q/5f/lP+d/53/lf+n/8D/1//o//L/+P/3//n/+f/z/+v/5f/w//L/7//8//n/AQD5/wAABAAFAAgABwAXABoAGQAUABgAFQAQABcAFwAZABcAEAALAPj/7//2//7/DQAWABgAGAAVAP//+P/y//b/8//m/9P/xv/I/8L/uP+o/67/sP+f/5r/nP+t/8L/wP/C/8X/0f/F/8P/zP/J/9L/0P/T/9b/1//U/9f/0//K/8b/yP/M/9D/2P/d/9n/1P/U/9n/0P/g//D/BwARACUAPQBNAEgALgAbABIAAwADAAMADwAaAC0AQwA3ADwAMAApABoADQALAAMA/f/0//H/CQATABwALgBIAFwAUgBLAEAAOAArABsA+v/n/9f/wP+z/6H/pf+Z/5n/nf+g/6n/uf+6/8T/x//D/8//zP/I/8r/1P/c/+j/5v/i/+r/6f/k/+f/6//t//n/9/8AAPv/8P/h/9P/wf+t/6H/jv+O/4z/ov+W/6D/tf/H/8n/wv+9/7//rf+d/5n/lP+I/4//lv+k/7j/xv/U/+n/+f8RAB8AKgAsACkALgAtABEABwD6//P/3v/S/9b/4//o//b/CwAgADQARABDADsALAASAPL/2P+8/7D/sf+r/7T/v//G/9P/1v/b/+//7f/u/+7/4//b/9n/1//N/8//0f/j/+z/9v/+/xAAEwAXACYAOgA9ADgANAA3ADIAMAAiABUAGAAHAPz/7P/s/+j/3f/e/+D/2v/o/+H/4P/b/9b/yf+z/6D/kv+M/4n/g/+O/6D/rv++/8X/zv/S/9T/w/+v/63/of+P/4T/eP94/4L/i/+T/6P/o/+u/7b/w//J/8z/xP+//7X/rf+o/7D/rv+7/9D/2v/r//j/+/8DAPv/7//b/9P/y/+8/73/tP+z/7H/uv/L/+3/AQAcADQAQABLAEsAUwA/ACoAIAATABUADQD//wgACgATABkAHgAzAEgAVgBeAFoAYABSAEQAIwAZAA4ABgD3//X/+v8RAAoAIAAbADsABgAiACEANgBRAFUAVgAKAB0A1v/S/73/0P/9/yEARgBhAFwAWwA7ACYAAADl/+j/tv/K/97/+P/4/wAACwD2//H/3//p/+n/4//0/wYAFgAWABcAAgARAP//+f/9//z///8AAPr/5v/e/9f/wf+3/6b/pP/N/8n/4f/l/wYA2//X/+H/1P8MAPT/JwAPACUA7P8KABsA7f/8/9//0f/U//P/8P8gACIAAwD7//3/2v/Z/+T/2P8EABgAGwArAD0ANwA2ADoAIQASAB0ACQAMABgAEQAYABkABwANABQA+/8EABEADgAPAA4A9v/x/+f/2f/X/9f/2f/e//X/AQAOABwAGAAUABoAGAAUABQAEwAYAC0APwBBAEcASABVAE8AQAAxACUAGwAPAAoAAwD5//r/BQAEABEAFgAaABwAIgAhACAAFwAFAP3//f/1//P/8//v//f/8//8/wUADQAcADMANwA5AFIAVwBcAFgATwBHAC4AHQALAAQA8//g/93/1//U/9f/7v/z/wkAFwAiAC0AQQBGAFAATQBBAEMARAA+ADUAKAAhACAAHAAkACEAKgApACcAHgASAA4ABwAOAA4AFQAVABsAHQAdACAAGAAeACgAJwA5AEgARgBGADcAMAA7AD0AQgBCAEoATQBPAE4ATwBNAEwASwBEAD4ALgAtACgAJgApAC0AQQBKAFEASABNAEwAQQA7AD0AQgAzAC8AKwAhAB4AGQAWAAYAAAADAPv/BgAMAB8AMgA5AEgASgBHAEgAUABJAEoASwA9AEEAOwA+ADIAOgAwABgAEQAEAPz/9P/y/+3/6v/o/+//8v/z//r/BAAUABIAGAARAA4AEQANAAgABAABAAEA8f///w4ACwAPAAwALwAzADoAOgBEAEUAQABCAEMATgBTAGAAaABsAHMAbwB1AG4AYwBWAEcALAAmAB0AFgAZABUAGAALAAcA/f/1//H/7f/i/97/1f/T/+H/5//z//3/AAD6//v/+P/9//3/BQACABMAHQAeACsAKwAtACoALAA6AC4ANgA1ACoALAAtAC4AMwAyADoARABCAEcAQwBDAC8AJQAhACMAIwAoADIANgAyADAANwA0ADkAQgBCAEcASwBFAD8AMwAkABgADgAAAO//9f8DAA4AIwAtADoARABDADsAKgAiABoAFgAKAPj/8P/q/+L/5//x//z/CAAZACsAMAA+AEYARQBJAFEARgBFADYABgByAEAANAAtADUAVQANADoA+f9SAAEA8/8FAPX/EgABACYACgAfACAANQBMADAAMgBCAFcAOABQAFMAWABUAEsAVQBXAFkAOABNADcAKAAsACUAMgBCAF0AYQB4AIIAhACJAH4AbgBnAGQAVgBHADAAKwAjACIAHwApADgAQQBFAD4APwA3ADUAGwASAAcABwACAAcAFQAmADsAPgBLAE8ATwBYAFgATgBIAEEANwAwACkAIAAZABkAFgAaACgANgBFAFwAbwB+AH4AYABJACcAFAD7/+7/6v/6/wcAIgA6AEsAYABpAHEAgwB9AHsAhAB7AGwAXABNADAAKwAlACYAKQAsADoAPwBIAGEAcgB2AH4AfQB+AHgAcQBtAGYAWwBWAFMAVgBRAF0AWgBWAE8APAAsABgADgAFAP//+f/r/+3/7f/0/wcAEgAlADYASwBgAHwAiwCQAJEAlgCVAIsAhgB5AGwAYABdAFUATwBFAEoAUQBPAE8AVwBSAEsAPwArACIAIAAkACYAHwAlADMAMwBBAE8AZgByAH0AmQCWAI8AeQBrAGYAUQBDADQAMAAsACwAMAA8AEcAUgBWAFMAVQBPAFcAQwA2ACwAHAAcABwAEAAMAAMA/v/7//P/7P/o//n//f8DAAsA///u/+P/6P/g/+P/6f/t//j//P8KABAAGAAcACkANgA0ADkAQwBFAF4AWgBnAHQAcQCCAIEAjACIAI0AigCNAIYAigCJAIIAiQCAAI4AkACUAJ4AkwCaAI0AggBkAFIAPgAvAC0AKQA5AD8ASQBQAE8AUABIAEIAQgA7ADkAKQAnABgAHAAkAB0ALwBBAEgAUQBpAHEAcgB4AG0AaQBTAFAASAA+ADUAMAApAB4AFAAWACQALwBBAFYAYQBtAG4AZABWAEQALwAPAPT/4f/T/7//v//L/93/9f8aADUAVABrAHwAiACKAIkAgQBsAFkARQAsACIAEwAXABUAGwAiADEAUQBTAGYAZgBaAFAAQwA2ACsAMwA9AEwAaAB5AIkAkgCTAJgAlACRAIAAcgBnAFYAWQBKAEMAPQA5ADcAMAAjACMAKQAxADYAPQBDAEwAUQBVAEwARgAxACUAGgAVABgAIAAqAC0APgBHAFcAYwB5AIkAjgCPAJAAkACGAHgAaABcAFYAVgBMAE8ASgBFAEsAPQA6ADMANgA0ACsAJgAYAPf/7//o/+L/7//+/xwAJQA6AEIARwBGAD8ANgApACMAJgAaABEACAD3/+v/2//U/8T/yf/C/9H/1v/b/9T/zf/Q/8P/vv/C/8v/0//d/9z/5P/a/9j/x//B/6v/pv+j/6T/rP/E/9f/5v/7/wUACgAOABoAIAAqADQAQQBIAEsAUABNAFMASgBLAEgATgBcAF0AYgBfAFkARgA7ACwAIgAeABEADwD+//L/6v/Y/9T/2P/l//P/BQAYACUAIwAgABwADwD+//X/9v/y//f/+P/5//T/8v/7//r//f/7//r/7v/p/9r/0f/N/83/1//l////BwAiACUAMQA0AC4AJwAXABwAIQAsACYAKwA2ACwALQAvADEAOgBAAEcARwBBAD0ANwA0ACwAJwApACsAIgAXAAcA+//w/+3/7P/q/+//8v/z//T/6P/f/7z/pv+X/47/lP+V/57/rP+7/8f/xf/M/9//6//s//b/+f/3//j/6P/U/9D/zf/U/+H/7v/6/xIAMAA+AFkAWABnAGAAUgBFADEAHQALAAUAAAATABgAOgBVAGAAZABsAGcAUQA2AB4ACQACAPn/+P/8/wkAGQApADEAOQBFAFAAUgBGAEQAMwA1AB8AEgAPABEAEQAcACMAKgAoACkALgAmAC0AKQAuADMANgBAADgANQAtACEADAD6//j/7f/y//7/AAAPAA4AFQAaABEACgAFAPj/9P/v/+D/4v/h/+H/7////wMAEgAgACgAOQA4ADAAKAAVAP3/6f/d/8z/z//Q/97/8f/+/xIAJgAiAB4AEgAEAPj/6//n/+b/3v/c/+z/6f/1//T/8f/y/+3/5v/4//f/8//5//b//v/6//X/6P/m/+X/7f/z/+7/7v/1/+r/7P/q/+r/7//u/+j/6////wAABgANAAoABQADAPr/AgAGAA4AGgAmACsAKwApACYAGwAEAPn/2f/J/7f/sP+0/7X/wf/N/+H/7////woAHQAnADAAPAA3ADEAKQAeAB0ABgAAAPj/+f/2//3/DQATABcACwACAPH/5v/d/9T/0f/K/8P/xf+8/8P/v//J/9b/4f/w//b/BwANAA4ACQAHAP7/7P/s/+D/3P/T/8n/xf+7/7n/t/+x/7H/u//B/7//yv/T/93/5v/q/+j/6P/n/+v/7P/u//z/+/8GAA4AIQA6AFEAXABlAGoAZABiAFkAUQBEADsANAAmAC0AKwA3AEAAQgA9ACoAHgAZAAwA/f/1/+j/5v/U/8r/x//S/9j/3f/r//L/9v/+//7/CwAVABUADgARAAYA///x/+T/4v/f/97/7P/7/wMAEQAfAC4AMwA2ACcAGAD6/+X/yv+5/7H/tP/A/9T/8/8GABIAGAAYABYAEgAHAAQA+//4//n/AQAGAA4ACgAHAAcAAgAJABoAIQAzAEUASABTAFUAPwA0ACIAEAAEAPv/9v/8/wQAAwAHAAsAFwAcACkAKQAkACkAHwAiAB4AHgAYAAUABgD6//j/7//u/+r/3//b/9f/3v/X/8n/zf/O/93/5P/v//n/AwAHAAQA+v/8//L/+P/9//v/BQD9//z/+//2/+z/4//a/9r/0f/N/8j/xv+7/67/qP+t/7f/sv/I/8r/2f/k/93/4f/T/9L/2v/V/+D/5//y/+X/5f/s/+X/8f/m//P/8f/7/wYACQAQAAgACQAAAP3/7v/s/9v/1P/a/9P/1f/Q/8f/zv/Q/9b/zP/E/7z/uP+x/7D/v/+r/7X/sf+y/7j/rP+g/53/mP+V/5n/of+o/7f/x//Z/+D/3v/Y/9b/zf/H/73/rf+k/5P/i/+P/5j/of+6/8b/1f/p/+z/6P/t/+H/1f/X/87/zv/R/9n/1//s//L//v8OABMAGQASAAcABAAJAAAA9f/y/+r/6v/l/+f/7//y//H/6//s/+j/4//Y/9H/z//F/7P/qv+n/5//p/+t/8P/2f/j/+v/7P/s//H/6v/s/+7/6P/y//H/7v/k/+H/1//W/9f/6v/3//f/+P/+//P/5P/c/9L/yf/Y/9r/4f/u//X/+/8AAAoACwAEAPr/8v/g/8//tP+i/53/pP+r/7X/xv/R/+X/AAAIAB0AKQAhABwAFAAKAAAA9v/y/+3/6P/s//j/9v/5//v/+//+/wEAAwDs/+P/0//M/8r/uf+y/6r/oP+g/6j/sf+n/63/s/+5/8b/0f/k/93/3v/k/9z/2f/Z/+b/6v/8/xEAHgAuADoAQwBNAEoARwA/AD0AKwAWAAoA7//f/9b/0P/g/+///P8PAB0ALQAsACkAJgAVAAwA9f/a/7//u/+r/67/yv/X/+P/9v/+/wYABAAFAP3/+v/i/87/uf+f/5n/gv97/3b/fv+L/5n/qv+7/8H/vv+7/7T/qv+q/5L/i/+P/5P/nf+X/5r/o/+g/6r/sv+4/7j/u/+5/7X/tP+0/7f/uP/D/8T/zf/Q/9b/2//V/93/4f/s/+3/7//t/+P/3v/S/87/w/+4/63/p/+q/6H/p/+3/7v/yP/Q/9P/1v/U/9r/5P/2//n/BAAPABUAGwAZABkAFQAXAB8AIgA0ADgAPgArACIAGQAVAAAA6P/X/7v/w/+5/6//qf+i/6L/pP+d/6D/qP+n/6f/pf+g/6b/qv+p/6n/pP+S/5n/jv+U/5H/kP+V/5b/l/+h/6T/qv+0/7j/yv/T/+H/6//r/+X/5f/s/+3/+P/3/wQACgAVACAAIgA3ADkAOwApACoAGQAKAAgA/f/5//T//P/8/woAAAD7//7/9P/2/+n/8v/v/wMADAAXACUAJQAqACkAJwAgABEACAAIAAoACAAEAAQAAwAMAAkAFwAMAAsADAAGAAAA8P/o/+z/6v/t/+//8f/0//7/BwD+//b/6f/b/9P/yf+4/67/q/+u/7b/uP/H/8T/zP/V/9//5f/g/+L/6P/o/+v/5//n/+v/8//1//3/DgAWABoAHwAxADoAOQAyAB8AGwAXAAYA+//o/+X/4//i/+D/4v/j/+7/8v8CABgAIgA9AEsAVABSAEEAMQAfAA4A8//b/9b/2v/m/wEAGQAtAEoAaQCDAJcAoQCoAKcAnQCUAHsAYAA4AAYA4v/E/7H/r/+y/7n/yf/V/+L/6//4//n/8v/z/9//0f/L/7//uP+8/7z/wP/M/9b/2v/g/+j///8QABoAJgAsADYAPwBTAFYAXQBqAHUAjQCaAJsAmQCXAJkAigCHAHwAdQBnAFYAPwAmABQA+//v/97/0f/S/9T/6f8AABwAKgA2ADcAKAAfABAA+f/s/+n/6P/b/9f/1P/W/+L/6//5/wAACwAKAAEA9//s/+H/1f/Q/8X/uP+7/77/yP/S/9T/3f/o/+b/5f/o/+b/7P/s//X/9f/z/+//5//b/8f/y/+//8T/xf+//8b/v//A/7f/tf+v/6r/sP+0/8H/w//J/9T/4f/t//T//v8NABYALwAuADcAOgBCAD4AMwAmABkADQD8/+//3f/T/9P/4P/v/wgALABJAGQAfQCEAJcAlACDAHoAbQBgAFUATwBHAEkAOgA4ADwAPAA6AC4AIgAPAAQA6P/W/8v/vP+//8L/yv/R/+H/9P8KAB8AJwA2ADMAQQBFAEoAXABdAGQAWABOAEIAMwApAB4AIgAfADcAQQBMAFgAUgBWAFQAVgBPAD4ALAAcAA4AAQD+/wQAGAAsAD8AVgBmAHYAfgCRAJYAkwCTAIAAegBcAEsAPQAyADwAPgBOAFYAZQBnAGYAYwBaAFYASABEADsANwAhABkAGQAUACcAKAAwADgANQA4ADgAOwA5AD0APwAyADIAIgAVAA4AAQD3//P/6//o/+7/8v/o/+b/3//U/9b/zf/P/8f/0//T/9j/4f/h/+P/5f/k/+z//f/6/wEABwAHAAcA/v8HAAAABAD+//n//f8AABQAIQA5AEkAYwBgAFoAYABSAFIATABSAE4AXABcAFgAUwBOAEMAMQAjAA4ABADx/+H/4P/a/9j/6P/v//L//P///wcAAgD9/wAADAAOABAADQALAAsABgAHAAsABwAVACMALAA4AEYAPgBIAEQAPQA2AC0AJAAaAAwABwAKABUAFQAnACUAIgATAAQA+v/3//L/8//1/+7/4v/a/9n/0P/Q/8T/xv/A/8X/yv/d/+H/9P/+/woAFAAQABcADAAVABYAIgATAAoACAAJAAwAGAAlADcAPwBFAEwASwBLAEsAQAA4AD8APgA1ADQANQApACUAIQAaABAAAwACAOr/3f/J/8z/0//U/+r/7/8SABgAHAAjACIAJQAqACYALAAwADsAOQBFAEwAVABZAE8ATwBEAD4AKgAlAB8AJgAmACYALQAuACkAHQAWABMABwD5//L/8f/n/+L/3//q/+v/9v/3//P/8P/r/+H/3P/K/8L/uv+1/7X/vP/E/9P/6P///xMAIwAxACsALQAZAAgA+v/y/+n/5P/h/+z/AAADABoAGgASABEAFQAdABYAEQAEAP7/5v/Y/93/yP/J/8j/yv/K/9f/2v/o/+n/8//5//L/6P/k/9f/0v/N/9b/5P/w//z/DAAbACMAMAA3AEcATABGAEAANQAwAC0ANQA6AEQATABPAFsAYgBlAG4AawBoAGQAXgBXAFEARQBBADoAKAAcABgAEgAVABsAKgAvADIAMwAwABwAEQAPAPn//f/0//j/+v/+/wYADAAcADAAQgBEAEYAOAAkABMA/f/x/+j/8v/j/+T/6P/e/97/4//m//P/7P/2//L/7//3//L/7v/i/97/0//U/9H/3P/o/wAAIQAsAEYASgBNAEUAOgA1ACgAIQAWABEAEAARAAwAEAAUACMANABLAFIAYgBaAFwAUwBFAEMAMwAlABMADAABAPr//f8FABUAGAAgAC8AMAAzAC0AKgAYAAwAAQDy/+j/zf/H/77/0//h/+//AAAJAB0AGAAbACIAGAAUAPf/6//T/7//uP/I/9j/7P8AABIAJgAxAD4AOQA1ACoAHwAZAA0AAADx/+f/4f/b/87/yv/B/8b/v//E/8L/zP/K/8b/u/+r/7X/tv+7/8r/0P/Y/8//wf+3/7f/sf+4/8b/1v/h/+f/+f8AAAkAEwAbAB8AIwAnACMAIgAoADAALAAiAC0AKgA0AD4AQQBEAEcAPAApABcA/f/q/9b/w/+1/6n/of+W/4n/iP+I/5P/nP+0/7//1f/p//T/9//9//7/9//w//L/6f/q/+T/3v/k/+T/3f/o//r/CgAZACUAKQAfAA8ACAD2/+j/2//I/8b/wf/E/8X/w/+6/7//tv+8/7//w//N/8n/xf/A/67/rv+w/6//tv/G/9D/0f/e/+P/8v/u/+f/4v/k/+T/4f/c/+P/8//9/wUACwASABsAEgARAA4ABgDv/+v/4v/a/+L/2//c/+v/+P8KABUAFQAUABMAGgAPAAsABgAAAPX/7//v//D/+P8EAAMADAAVAAoAAgD2/+3/5v/l/+T/8f/i/97/0v/X/9X/2//a/+j/7P/s/+3/7//o/9//3//l/+X/4v/e/9n/yv/L/7r/uP+u/6z/u/+7/7//yf/H/9H/1v/i/+3/9/8FAAMA///2/+7/4f/S/8D/s/+t/6z/sf+8/8b/y//c/+T/7//p/+T/4//Z/8n/sP+W/4n/fP+C/4v/iv+W/6L/wf/F/8v/2P/V/+X/5f/o/9n/z/+5/53/lf+R/4r/hf+E/5P/pv+o/7H/tv++/8X/w/+3/73/uP+y/7X/t//C/8X/0v/X/93/3v/f////AwATAA4ADwAQAPX/6//a/8X/s/+n/6v/q/+9/83/3//x////HwAhABoAFgAgAB0AGwAOAPz/9f/z/9v/0P++/6z/sP+z/7b/s//F/9j/2v/k/+///f/y/+H/0v+y/6D/k/+B/4H/kv+g/7D/uf/M/93/8P/5/wAA/P/x/+j/0f+8/7T/p/+f/5X/nP+q/7v/wv/J/9j/2v/f/9P/xP+x/6f/o/+e/5f/nv+t/8D/w//T/9b/2//b/9r/1f/Z/97/2//d/93/4f/h/9f/1P/h/+b/6f/l/+z/6v/n/+L/4f/n/+r/3P/d/9z/1//L/73/v/+z/7H/p/+o/6T/pf+o/6b/nf+k/6f/o/+j/6v/vv/B/8D/uv+7/7T/vP+y/7r/yf/H/+b/7//8/w4AIwAlACkAJQApACUAFAALAAcACgAOAA8ACwAZAB0AHgAZAA0A+f/q/9v/xv+n/6//sP+v/7L/wf/T/9f/5P/b/97/2f/M/73/of+S/4H/df9z/3v/gf+N/5z/rP+4/77/v/+0/77/tf+4/77/q/+o/5f/nf+d/4n/d/92/3T/df9+/4T/iP+T/4//nf+j/6T/tP+2/8L/tP/D/73/w/+7/7T/u/+g/6T/lv+i/7T/vf/I/8z/zv/V/+H/5f/o//X/AgDx//f/7//2/+//6v/t//X/8//9//z/BQARABMAEAAFAPr/7//Y/8H/sv+q/63/sv+6/73/1P/i//P/8f/o/+L/2//F/6v/pP+S/4b/f/9+/37/fP9//4L/gf+D/4//lP+W/6L/r/+9/8L/v//A/7z/tv+u/6v/q/+u/53/nP+m/7D/uv/A/83/4//z/+P/5f/a/9z/zf+v/5j/i/9+/23/af90/4T/m/++/+T///8YACQAFgAMAAcA/v/r/93/yf/J/7//xf/H/8X/wf+7/77/tv+5/8X/zf/T/97/3v/o//L//P8KABgAKwApACoAKQA5AEEAQgBDADQAKgAmABQA/v/z/+j/1f/S/9X/3f/k/+P/6//5//z/AAAHAAYABQD9//P/3f/R/8v/uv+m/6D/oP+d/67/w//S/+D/4v/Z/9j/2//f/93/1//X/9j/0f/V/9z/6P/z//T//f///wQAAwAAAPz/BwAGAPT/6P/i/+j/6P/v//L//P8KABEAGgAiACUAMwAkABQA9v/V/83/u/+y/7b/wv/G/+D/+f/8/wsAEQAbABQAFwAYABgAFQAMAAEA8v/y//D/8P///wYADgAaACgAJgAjACYAHAAgABQADAACAPv/6v/a/87/2P/e/9r/3v/f/+r/9v/5//n/AAADAAMA9//m/+H/1P/N/8r/1v/f//b/AAARACMANwA5AD0APAAzACoAHAASAP//+f/3//L/4v/b/97/2f/V/9//2//m/+P/4v/i/9b/x/+1/6f/mv+g/5b/m/+g/6H/rv+0/8r/1P/n//f/9v/+/wIABAAAAPn/7//k/9X/xf/L/8v/2//r//r/FAAqADUANwA3ACgAFQACAPP/9//3//v/AgD9/wAAGAAcABQAFAAVABUAAAD6/woACwAWAAQA+f/2/+X/5P/o/+3/+P8EAPv/8v/1/+r/1P+//7j/wP+0/6z/l/+n/7D/sf+8/8b/1v/m/////P8KACEALgAoABQACQD8/+r/y/+x/5b/jv+L/4z/mP+//97/+v8fADgAVQBNAEAAPQAvABoAEAAHAPj/AwABABAADAAOAA4ACgAFAAAABAD8/wMA+f////P/+v8BAAUAFQAQABEAFQAnAC4AMAAtADcAJgAQAAAA+f/4/+f/9v8GAAsAFwArACwAOgBUAE8ATQBBADsAJQACAAkADAAIAPb/AAD9/woADAAVADgAOgA3ACUAIgAVAAsA9v/z/+z/7//o/+L/5f/5/xgAFQAbACkASwBHAD8APABKAEUAQgBFAEUAWQAzACwAIgAcAAEAAQAAAOz////9/wkACwAYACYAFwAOAAoA///v//b/CAAOAB4AGgAHAAcACgDv/+7/7//5//b/+v8FACQALQA3AEIAOwBEAEYASABIAFYAYABwAGwAbwBqAGQAXABWAGMAbwB4AGwAegCGAG4AUABWAEkAOAA6ADMAMAA0ADQAOgAvACwAQwA+ADgAPQBIAEQAMQAnABwAIQAIAOT/0//a/9f/zf/X/9v/6f/7/wcA+f/o/+7/4f/Z/83/zv/c/+L/4//i//D/BAAFABEAEgAuAE4AWgBaAFUAQgA6ACgA+v/p//v/9v/g/+P/6P8DAAUADQAWACIAOwA8AEIAPQBFAFAAPAApACcANQAvADUAIQAiAEkAWQBTAFYAYwBuAGQAYABbAFsARwA6AC0AGAAmAB8AFAAGAPj/BgAFAP//+P/5//P/0v/C/6//rP+y/7j/vf/E/8b/xv/Y/9T/0P/U/+z/7f/4/wYAEAATAAkAEAAKAPX//P/2/wIAEgAaAD8AWQBbAF8AkAC2AL0AvwDLAOMA1QCwAKQAnwCjAI8AjQB8AGcAewB/AGkATwBTAEMAKQAGAPb/CgDy/8v/pv+c/5T/bf9T/1H/Sf9R/2b/Y/9a/2b/gf+E/3v/ff+M/4f/bf9P/2H/XP9d/3v/l/+9/9z/DAA3AFoAbQCNAJcAjACPAJ4AoQChAK4A3QAWASsBUwFtAYcBngGtAa8BvwHYAcEBvQG+AbYBnAGGAWkBXgFUATkBLQEYAQkB+QDXALIAoQCLAF0AKQDh/7T/g/9I/xf/7f7W/rH+jv54/nD+X/5F/in+D/4E/uP9tP15/Vr9R/1C/Uj9Tv1o/aT98P0X/mL+pf7w/h//Pf9l/6D/xv/e/w8AQQCBAKgA+gAyAXwBwQEIAlMCjwLoAhsDUQNnA4YDqwOmA6QDpwO+A8YDvgOxA7sDtQOUA2gDNgMSA9MCiQIuAssBYgEIAZkAHwCy/1//C/+S/j/+6v2R/Q/9ofw7/NL7cfsc+9H6lfpn+kr6Hfr7+ev59/kE+gT6OvqV+un6NvuF+/X7fvz7/Gj90/02/rn+M/+1/zoA4gCcAUgC5wJ4AysExQQ+BZ4F9wVDBnkGlgayBssG2QbkBtoGzQa6Bp4GcwYoBs8FawUPBZcE/ANjA8kCMwKDAeQASAC2/xf/df7b/VL91fxk/N/7X/vj+m76B/qQ+Ur5BfnL+Gz4Gvjb9733sveq98n3GPiJ+PL4bfn2+YH6+/pk+9P7Pvy9/Dv9vv1O/v/+1f+cAHUBXgJEAyUE7wSRBTIGwAYrB38HvgfxBxIIJggxCDsIIwgXCPwHyQeBBzIH6QaIBiUGtQUiBZQE9gNIA4sC2QEOAUUAhv+//v79V/3I/Fj8+Pub+zr75fp9+vH5c/kH+Y/49/eJ9yL36/a79rz23PYm95H3DPib+Dj51/lo+vD6Vfu8+yj8lvwM/Yf9NP76/sn/mgCOAZACgwNaBDUFBga+BlAHwAcYCGQIngi7CMcIxQi9CKgIjQhYCCEI7AehB0IH0QZYBtwFRwWWBNsDLQNgAo8BvwDq/yH/WP6b/eL8Qvy1+1n7DfvD+of6SPru+XH55Ph1+Pb3jPcE97D2c/ZN9lf2hPb09pL3MvjE+Fr57/mE+g/7b/vS+0781fxU/db9d/5k/3EAewFyAn0DfQSFBVIGFAekB1MInwgRCQ0JWQkpCWgJ5AhwCV4KlghFCWQI0QjkB20HvwYQBpkFWwS4A8gC/QEDAQQAMf9R/kn9RPx++8b6A/qV+er4Y/jy94P3H/eE9gX2mvVO9fj0o/SH9Hz0sPQA9aD1oPaz9/D4bvoA/Gr9ov7p/xUBDAKnAjcD0wNEBKAE/gR0BdMFEQZYBncGfAZmBjkGHwbcBaMFXQU2BfAEyATIBMAE2ATMBNgE8ATfBJ4EaARCBO4DegMPA7ICSQLCATgBqAD3/xn/Hf41/R78BPvx+Rv5hvjw93j3Vvc19xH34PbQ9rz2tfag9pL2hvaK9tn2ifdz+Kf5Lfu8/Hb+CABXAZkCsgNuBLsE2ASxBIoEXQQOBNYD1wPYA9oD9AMMBDsEiQTLBAUFSwV2Ba0F1QXVBaAFfAU1BcYEMwSIAwIDkAIIAqIBaAFTATwBNwEtATEBEAGkANf/9/7V/Z38SvsG+i/5dPgZ+B/4WfiL+MD47/jT+ID4APhP97P2R/ba9Qf25PZA+Pf5PPyK/vsAMwOzBJ4FDwbuBUMFPwQGAwwCawHqAM0AUAEMAgkDMgQ5BRoG4AY9B3AHUgfOBlYG4gVaBYwE4ANPA90CTwK+AX8BiAGGAYwB0gH7AUYCTAIyAuQBTwFWAE3/8/1I/MD6eflD+MH3nffi92H46/iN+eL51vlZ+fH4J/hD93b2PfZ29nv30fg9+wz+YQCAApAEmAVzBekE0wO9An4BJwDQ/2YAAAHyAaYDLgVwBkQHnAeZB08HaAazBVgFlgREBFYEZwRcBEwEJgT2A4oDwQIpAswBWgEIATgBZAF5AawBvwF0AdEAq/+C/gv9KPts+Xb4s/dd95r3c/gZ+c756Pkq+vP5xfiK9972PPZU9Wv1bfZG+Oz6lP0uAMMCowRTBT4FJgScAmEBNwDx/p/+Qf+MAFcCxgNFBcoGqAdqB+sGRwZuBeUEmARuBJcEAAVeBdAFsgU7BcgEJgQzAwUCOgGZAJcAxwBNAdkBhwLfAiwDnQIxAab/9P3z+7v5w/fK9oT2ePb39gX4IPny+Xn6MfqW+dX4vPdv9or1VvWj9dr27fjt+wP/bAGrA4YFCgb7BFAD2gGeABz/C/5N/rX/OQHjAkEFXwcxCHsIXQizBz4G3gQTBDkE/AP2A8QExAX7BdsFmwUhBWAE9AJDAvEBkQFGAfgBygI0A04DbAM3A2kC/gAy/7/9DPwg+mb4V/e49rf2BPe597f4p/ka+jn65Pn++Cn43PbI9T/1o/Uw9hb4B/sb/pYA/wINBc8F/QQWA6YBdgAI/+79Tf7C/4UBewPeBdsHvwgCCcQI2QdYBv8EgwSZBGcEZwRhBSYGHgazBWEF1ATuA+UCiAJKAg8CGQLJAn0DiwOaA54D7ALRAYwAAf+D/b/7Dfrr+IX4Y/cY99H3I/iY+Lf4wfhy+ED4JvdU9m/1E/UA9ZP1g/YB+Tr8e/62AOQCpgTLBLcDGgJEAWkAY/8H/w8AcgEHA9wE8waoCNAI1Qj6CGkI+wb7BcEF7AW6BZkF3gUgBgAGdgXsBC4ElwMzA+wCnwKKAq4COQNjA+kCuwKFAuYBnwBF/yH+j/wF+zr5tPgQ+CL30/bw90P4J/jV97H31fd49zr2T/VZ9Ub1XPU29gT4qPoB/RD/PwEnA2sDMwOOAqcBowDX/23/+/8GATsC5gNABucHQgjZCCcJbghfB5cGHQYhBt8FmQUCBj0G3AWbBWIFxwREBOsDjgNtA04DDAMuA0cDmAJPAqwB7ADD/4v+Uf1S/L76Ffkn+Ob3Uve49nL3Hvji90j3LPdq9yz3zfXp9Fz1UfbU9i/4mvqj/SIAhQGKAmUDBwO1AbEA3v+I/4//zP/YAJEC4QMqBeEGhgeIB7gHsQdUBxAHmQaNBtYGjgYlBhYGpwXsBKIEfAQMBNgDwQMYBFkE/wOeA+UD3gPuAvcBHAGEAFD/dP0O/IH6ffiv91j3Xfa09Zv2/PcH+Dj3Mvcj97z2d/VT9JH1yvWC9kT5O/2k/xMAjwK4BJoEUAJhABoAMwDr/mz+6v8IAtwCcwRvBqcHwAcbB5kHHwj1BvkFfgb4Bt0GYQY2BicG7gU4BfwE4ASGBBsETAR9BA4EeQOWA7IDBQNTAgACBgEWAM7+Wf0R/KL6rPiM9+T2VvYs9tn2TPda9wX3j/ZF9uH1TvUv9RL2F/dL+Xr89f5qAC0CuAMzBBADJAFLAFYAjf/j/jcAQwJwA90EVgZcB9IHswdWB4IHDgdfBpoGKwehBhcG8wWRBf0EbgQJBNoDyQOJA/EDQAQBBLoD5QN0A8sC4wE1AVIAr/+4/uH83vsP+2f5HPjJ9h72Bfd99+T2mfYT9xL3SPZ39Rb1t/Vg9kD3W/mb/M/+bgD+Ac8D8wOKAvAAzQCRAKD/L/+OAGICfwM3BLsF4wdVB8oGuwdXCHEH8QYgBxIIHgibBs4FlQYNBmkEHgSvBHYE6QPNA10EzQTFA9ECMANWA40BIQCn/x0A2f4D/JD6G/su+mj3b/Vd9tH3oPaa9Hn0iPaV9hz13vNO9Xb3HPh++Kb7SP/zAJ4B6ALOA0kDowEDAPb/YgARACAAQQLSBAwGMgb1BpEHmQf6Bm8GdAazBr0G6gYIB6wG7AVaBVsF+QQKBJsDPgS2BIgEKQQLBK4D2QL1AWEB2wBxAO3/5f/n/mP8HvvO+i/5v/Z59TH2avcM95L1lfXv9kD2TfRS9GD2aPc898X51/5dAdUA1QFaBKYEHgIYAEsAdAE+AZMARwIpBWAGhQX/BYAHJgfRBeEF0wZJB1YHSQeJB3QHxwafBTYFCgV5BE8EswSiBFMEcQQbBHkDoQK2AScB8QAbAHH/jP8Q/hn8ovsc+7j4uPbf9jv3nPYD9jL27vaj9if19fQW9sj21/Yc+FT7Uv68/8QAxgI3BI8DRgLfATgC+gFZAQMCVgSXBcMECQWgBvEGFQZuBfIFeAedB1wGYgZlBw8HSQVEBCgECQR1Ax0DhwMzBE8EogNTA+ACvwGNADwAvv+Q/vn9i/28/JP70/nu+DX5SfhG96z3k/hU+KD3/fYe9vb1tPWO9Q/2X/cG+kz9SP+jAFgC1wMuBA8DtQHqAS8DbgORAwkFwAa3BjEGggaVBgIGTwWHBbMGWAfZBrcGbwdcByIGBAXKBOoEUgTIAxYEqwQfBL8CEQLLAfQAgP+f/ur+w/62/Xv82/vC+5367Pc79jj3Ifg595L2Yfc8+DT4mvfV9o32ifdW+Nj4c/qe/FD+FgDlAVICxAIbBOUEqgQjBVEGNQa9BbEFTQXeBLwEvARWBZcGMwd0Bz4IrQjlB6MGDga8BZsErgOnAwgEKQTiA4ADegMiA9gBsgBFAAAAI/8C/jb9jfxF/Or6CPmD+Iv4r/ha+Mr3xfcI+Nz3Svf99vL2wvZs9v/2Nvn8+pL75vxM/xIDMgaBBcoDJgV6BxwGiwJSAaYCHQRwA+IBmQJTBcgGwQVWBRUHRwjBB88GpwaQBicGgwWEBNADeAMQA/kCOgPbAgECGQKYAv4BbwA5/+D+V/4r/eb7yPs7/Lr7PPp++fL5Ufmb9832MvcR+AP4Q/ec9+P4lvkS+TX5yPqD/P/8Uf3k/pMAWQGIAZ8BdwKtA5IDpQI4A8wEQQW4BG0EHQX3BQoGKgWfBDsF5AWfBfAEuQQRBTwF0gQ0BNMDxwPQA58DDwOAAt0BSQEPAU4ACf8v/ub92f2f/S/9Xfwh/Jr8Zfwh+7b5dPn++fj5KPkS+P73JvnD+Qf5DviJ+Pf5efs9/Cb8Ff02/54AqQBOAMIAGAIpA0sD1gIaA34EVwUQBU8ERwTtBIQFaAWeBLUEvgVPBtEFKQXqBMMEmgQbBI8DjgP4AwIEggNQA+kCHgI2AXkA9f9I/8D+Sv4l/i/+s/3Q/DX8GvyO+6v6Cfq++e/5Kfq3+dz4ovhU+cj5Uvm++DD5nPrt++/7q/uo/LH+AQDZ/7//7gCnAoUD9QJpAukC4QMEBFYDEwN2A1gE2ATlBMIEnQT0BAsF6QR5BNUDqwOpA8QDPQORAlgCpALYAlECyAF0AX0BewG0AIb/pv6h/p3+Af5w/fz8gf0E/p795fwk/FX8MPzl+0v79/po+237TPvz+gj7ZPvn+2j8Dv1M/ZX9Jf4K/6b/sP+v/y4AIAE4ARABygAfAdEBJAIBAvUBkQJtA34DiQOmAtQC0QIrA7ECGgJIAkkCNwLQAWwCqQGEAQcBgQEmAawBk/+B/qf/wAB1AMD+xP7s/TAA8v58/b7+ovyW/gn/7f2T/+n7OP6U/Db/d/6Q/En+nfn0AFb+fv57/L77RgJdAD3/T/yk/ncAQgIRATr/p/7GAGYDPQQeAAL/mQD3AzoDmP+z/y0AzALQAUcC4P/W/sAAcAEWBpf9uf4r/jMAbgVe/mD/AfxUAXIDkwK7/3n6bv+LA6QDygB2+SX9hAK5AoX/b/qR/XYC/QAxAR78lf9BAKf/nwFw/OAAZf4v/x3+DAPl/A3/WAMJ/XoGCf2GAW8AzwHTBAT+xADD/YAG1QA7/xQBcv1mAswBSgIe/FwADgDlBO79yftv/wcDHgAN/ev9RQBHBi/9Jf1TANgDPv4P/p4A0fwEAL/8AwQX/lb94/5KAW0DO/yF/dv7BQbJAEn9lPs1/7wFlfyTAbL7+/+FBegB/v79/F0B2QRvAd79w/xdA64E+QNd/m7+2QSYCB0CTvrr+h4DxAcl/xv4OP8bBs8HZv5T/HP9KgDRBGT9F/+o+fUBEAX5A9z9oPhQADYEbwDd93L29v+gA+MB7/v4+3b7rgNhA3T36fbh+ykDmQFz/9H4kf23BGUCh/48+oz+4ALHAsD+zf6J+6QEJgXp/yQBpf0dArkEYv9zAnL9Iv+1BUUC0QFU/Ur+sgKQBU4AB/6+/c4EYQHN/W7/TQBaAfH+IwKj/zYArv5O/sABIf1S/Sz/HQC7++v/BPxaAa4CB/pS/zT6W/4KAJ//Of6f+sQCH/wJBlkC+Pmx/t/8ggX6Aw7+MvyP/YEGOgJJApT+2PpLBhMBJwOY/5z8ngbOAmcEaP0DAFwEPv4PAuD/KP6iAdsDjwTi/UAAhQD1/4sDiPwvAh3+HALh/1D9VwEwALcBc/p1/3UEj/74AYT6R/+EAGUBZAWt+lP5IP0VBfoDvvvS+ZX+qwZ4AxT9Y/k3/nkESwH1ATX+fv0EA1UAEgMk/zL/hv2DAEcFS/1bBcz5ZQBNCbMDagGD+fz9rQeaAH3/7viBA4kDlQOtBYD4Ugav/v0ArAZc/YIAy/37//YE1gCrAkj8AQRJ/cEByAN0+/r8z/1t/sMGUf82+5L9wwCfAlADg/tT9h0BwQRf/cj9JPqB/TkFjQLcAPP+SfseAcgDJQGQ+0P9fP3fADYJef1A/rv67QTLCNUBHfkR/MYBngTcBPL44vv4BDcFQQQI+9L6qwOaAYMA1vpG/5gCyALC/qsAWQGU+cMAeQaa+kD92v3U/WIH3fyE/Q756gfx+6UEhfrD+5oBcf1mBLT56P4s+3cGVQGK/JP+Jv4AANUGv/vt/W/95P8TA4kB4/+D+7IDBgTlAGf+qP7F/RcDhf5YArz9pACZ/5EB/wRLAEb7YQGR/Z4Dqv9b/DsBlv/oAzcDxv1NAF0Aef1iAtX/e/+e+w8B/QVc+Y//6gNN/ggDb/ow/OoEggDwAOD8mf1IAaQB/QcD92X+gP1DBf8CRfyEAg36VAUr/3UFXv7c/Kr+uwIYB1L9agDt/DQFEQDY/6gF8vovA24AIgAr/m4EmwGa+v0GFwOu/9T8nQG7A40Br/zP+qIFbAT6/yP7gf79AsED4/zsAcH+Mv6CAIb8ggLo/8P8ngDIAJEC/wRG+ZICxf5L/54A0AAaASb9MQNt/60B5gQy/9L/eABA/rQFnv3T/Q8AfP9MBJUDbv9ZABsABf6LAjP9agO5/bj/hP5cBPID9P8Y/Er8NwGGBDcAJf7d/Nr8TAUw/gwCf/5m+qz8oAMQApf9h/hk/TUEJACW+1r+ofob+lYF0P/a+0P+Gf5jAgIFZfoo9/cBHwHa/4j6Q/6YANX/jAFX/tIFxPWw/6gBkf6j/hb8PP+uAQED4P9U/4T9YQJm/UH/kP5+/V8Bjf3BAagAkgIKAWgAuP9j/n0BIAJf+vH9SgJIAFsCg/2X/vP/WAN+Ae/7YQGRASr9aQYX/qn+tv0dA7/9UQJT/en/YQEd/9MDi/9ABf36QgCk//X/tgT5+p/9vAF+AB0B8wBCASf+xv8f/4ADk/9sAAP7vgCSAsgAyfxuAgP/TADkAAj+fwDr+77/aQLQAG3+5f/5/6v/ggQfAOz8a/7CA0v+2v3hAb//1f1E/S0E2AZK/CUAhgDj/k0EUAE6AEr+PwVg/8/+mAQsA/P8QQC5A7sE6wD0/vf9RQJwApgBnv/D/a4C6AOWABEAnQLKAKcA3/zFAsMA9wKH/oP8KAIiA+gDcQDg/eX7Tf5uBQ4EqftP/cr8tgGuB9r/Efzk/nj9SgJNA5/8XACJ/eH/vgQB/2gCHP95/dH+dP5KBOf/7AAT/6H+qQPRAGgAtQFj+mgArgHh/8gBPf3d/tD/EgT2AWn+HQIv+AACXwKL/ucD3PsNAA8E7AIkAln9Gv6x/xr/FQMD/kQAiv1IAFgACwBcA2H9Yv3d/xYBnwAF/pT9OwGG/bD+Qv+t/tn9xftE/yYAsANhAmz72/9RAcsBCwEn+wT9Gv97ARkCXf1L/h8A0wGcBLABeABH+3wAEQCUAO/+xP0NADL9YgSOAF7/IP47A4MByf8OARL+OgBuANEAtf+S/yj/uf8iALcAuQD1AJL/Hv+bAZcAFP4pAaH+9f52AUD+aAAM//b/6P8EAPcBVP+Z/1P+8AGkAo3+JALpAEr/0gGtAmv/0P9e/n3+iAJKATIARv8WAN0CGgTtADj+LgHN/vwALAHw/Q8A2v6MAbcA3wE4AdEAp/+lAhIB7P/k/nP/OQDN/y4AIP6V//7/gP9cAP3/tgDoAMf+6/9D/5/+Sv+L/yH+OP5b//n/9v/VAJkAZQBkAC3/i/6w/VD+BP6M/hX/7v9HAEMBGQF0AHUAc/8V/7398v2i/gb/Qf/K/9sAjQEhAhwBLQCt/yH/Bf8d/i3+bP5J/zwAvwAPATYBCAHEAPH/sf/f/m3+tP6A/pr/xv9YALYApQAVARUBkAAHAGT/K//A/tP+x/7Y/kD/f/9WADMAZABEAMr/DwD4/3j/dP80/wf/Hv/C/3j/vv9BAHIA7QB3AdcANgBrACAAQADw/9v/yv8VAF8AgAC8ABYAIwDKAJMAtQAYACkADQDr/2gAPgCBAGoANwB5AFUAWwBGABQAMwBnALAAwwCKAIIAXQBLAJcAZgBnAO3/6/9MAGwAtwBSAIkAcQAXARwBmgD9ALYAEgFyASUB9QAaAekA2wAWAekAxwCpAKIAkgDRAOMA5gDYAK8A4gDlAPgArwDNAPkA1QDwALUAhAAkADoAMwCFAHsAcQCnAOQA7ADHAHkADwBJAB8A4f/Y/8//lf/O/wMA9v8CANH/2v8LAD4AMwDo/87/4P8BAL7/q/91/5L/gv+//8z/ff+v/x8ANwCHAIAAEwByAHAAOgB7ADoAGAAgAGEAewDmAKwArADAAL0AuADUAIoAMQBHAFQAPgBjAH8ADgBSAGcAaABZAPX/1P/r/wAAJQAaAPL//v8kAE4AogByACUAGQBlAHYAkwALAJT/oP/v//z/3f/G/7H/8f9EAEEA9//+/97/NAA5ADYANABaAJYArwDMAKwAuQDgAKwAiADKAI0AVABmAEsAVgCLAFwAOQA2ABYAIQBCAFUAMgALAD4AiwCTAH0AMQArAFwAkgCWAI4AagBeAMQABQEiAfgAlQCvAM4AxQC7AHcAUgBgAFEAggCuABwAEwA2AGoAYwBIACMAEgAKAFgAcwCXAIoAWgDAAK4AxwDuANwA3AA6AV8BawFaASwBCwH9AD0BEgH6AOIAqACqAN0AtwCCAGAAIgCLAKQASAAjAA0ABQB9AIQAcgBWAEwAUABIAHIAGwD6/y4ATQB2AH0AJwA6AGMAbwCDADoAIQBDADcAdwBZACIADgD3/z4AWQAtACgADAAqAEIAWgBZAG0AcABIAHMAhQBhAEgAMwBJAKQAiABiAIcARgBVAJ0AVAAbAAkA6/8fAEoAAADE/9f/3/8DADcALQAZAAcA/v8QACkA/f/T/8n/2P8bAB8A2/+n/7H/2P/w/wEAEgDK/+r////z//H/rf+4/7j/5f/l/67/tP/u/xkAEgASAAIACQAcAAQA7//K/8v/+v/J/9r/BgAHAEgAUQA6AC4AVgCKAEgANwARAPH/CwAPAO7/xf+5/9v/+v/y//L/5f/s/xcAHAD9/woAFAARAP3/5P8TABQA8v/1/8P/BwA5AP3/FQDg/7//5f/v//H/1/+6/7z/xv/F/73/lf+x/8b/yv/g/8L/vP/J/7j/x//J/83/yf/D/9f/2f/5/xwA0//x/yoA7/8XAA8A1//W/8j/x//f/6j/l/+g/7r/1v/k/xAAKgAUAEwAdwBtAGAAOgD6/+f/yf+9/9b/if+e/4//yf/q/9r//P/z/x4ADwDz/zsA8f/x/+X/r//I/7f/r/+g/6v/6f8EABAAHgAnAGEAUwAoAP3/6//g/9b/u/+m/7n/zP/g/xkAJgAGACkALgAlACkAHgDi/9//z//f/+f/0//i/83/6P8LABEAGQDz/+L/8f8NABQADQAHAPr/PgBLAC0AOQD0/xUAQAAkAC4ALQAyAEMASABfAFMAUwBxAGAAUwA6AC0AOAAXABwACQDh/wAA9v/o/9v/0//d/9//xf+//7b/o/+n/6D/wv/g/+r/3//n/9r/5v/L/8P/wv+s/6D/pv+Z/5H/Zv9p/3r/mf/A/6X/tf/K/9r/5//n/7z/sf/A/77/0v/E/7H/3v/S/9L/BwDx////JgBSAGQAZAB6AHgAYwA0ACwAKAAoABAA8v/r/wAA+f/5/wkABgD8/woAFgAXAPr/xf/G/7b/r/+d/5L/iv+J/6L/xP/O/wMA8f/o/wsA5P/X/73/hv97/2T/df+M/6j/o/+S/6f/w//I/9D/tf+1/9D/1//v/+j/wf+x/7j/uP+4/5T/gf+B/5T/vv/J/7T/sf/J/+L/6//m/+H/0P/f//7/7//6/wkA9f8VADUAFwAtADYAQQBbAE0AUwA9ADkAHwD7/xQA4f/e/+//0P8AABUADQAfABwAHAANAO7/+P/l/9D/2v+7/77/zP/C/9T/zf/W/+b/7//1/+T/BgD2/wYAAADU/+v/zv/i//X/9v8/AEEAUABiAGMAeQByAE4AXgBEADoAWAA+ADAAHAARAA8ABADd/7j/v//E/7//yP+2/9D/+v/g/+f/1f+7/6r/xv/C/87/v/+s/8z/2P/e/+H/5f/w/w4AGwAbABIACAAhACYALwA/ADQASwAwABsAJgAhACAAKgAWABgAGwAGAAAA/v/o/9f/9v/8/wcAJQAoAEMAUwBkAFAAOwA6ABQADAAGAPn/9/8EADIARABLAGEAdgB+AIUAZgBEADEAFwD9/9//xf+6/7n/xf/N/8L/w//J/+n/+f/X/9b/2//S/+T/4f/c/+X/8f/y/w0AAQAAAP3/DQAhABgAEAANAP7/AwAJAAQAAwAHABYADAANAAkABQAEAAgAIwAhACkAOgA0AEgAQgBAACYAEQAUAAsAFAD7//r/6f/o//L/9P/s//n/5f/j/wQA/f/2//3/6//t//T/6//b/73/o/+f/57/nv+a/5v/l/+y/7P/rf+p/6//t//P/8//3f/U/9j//P/e/+H/4v/l//j/9v/X/9b/z//V/+v/7/8BAA4AIAApACYAJQAVADAAPwAsAEAAPQA6AE8ASgA9AEMAMAAvAB4AIgAUAAsA///z/+b/4//e/83/0v/H/8P/yv+7/67/x//E/9f/6P/d/+j/AwANAAEABgD5/+j/4v/Q/8D/uf+n/6z/s/+v/7H/uv/M/9v/0v/G/67/pv+w/5//lv+D/3v/dP+C/5f/of+6/8f/0//0//3/FgAUAAcAIgAjACUAIQAJAAgACgAIAAIA9P/k/+D/1v/M/9T/wf+0/7r/yv/J/8X/wP/J/73/wv+9/6z/mf+d/6b/oP+n/6r/rv/M/93/5v/c/9f/3//T/+H/5P/t//X/BQAdABYAHwALAP3//P8HABAABQAMAAsAKQA3ADQANgAqADkAMAA7ADgALAAnABIADQAOABwAHAAVABMAJAAvACgALAAdAAoAEwARABoAAwACAAgA9v8BAAMA7//+//L/5//8//n/8v/v/97/3v/V/8n/0v/W/9n/7v/u//b/+f8KAAgADAADAPb/+P/8//X//P/5/+f/AwD8//n/AAD5/wQAEAAJAA8ACgAMAAQAAwD5/+H/5P/U/93/4v/j/+H/0f/e/+H/3v/k/9//4v/t/+H/3f/z/+f/+f/4//X/BAADAAgADQARAB0AJAAsACoANAA/ADQARwA7ACgAFgD3/+b/4//Q/8n/xf/P/+f/5//3/wcAGAArACwANgAsACgAMAAkAC8AKQAwACYAHgAVAAcAAAAYAAcA///z/+7//f/w//D/8P/+/xEAIgAbABgAEgAMAP3/BAD3/+f/5f/m//z/DQAJAAYACwASAA4A+//t/+r/5f/a/9z/xv++/63/pv+g/43/iv+O/6T/pP+q/5L/iv9+/3H/bv9X/z3/KP8i/yn/Sv9w/4//sf/R/+3//P/3/+//7//x/+T/7f/q//T/BgATACcANQBGAFIAYwBoAFcAUwBIACcADQD0/9//5P/h/+H/6v/3/xAAJAAwADcALgAiAAgA+f/z//r/+f/z//z/AwAQABEAEwALAAYAEgAcADMATQBbAGwAfgCKAIEAcgBaADcAFQD2/9//0P+7/8D/uv/L/+D/6v/1//3/CwAKABgAKwAxADcAWgB7AKAArwDZAOkAIAH6AKkBVgGRAXQBswFSAeYAzgBaAPn/MP8b/3X+EP7k/c/99f3s/YX+mP4I/2H/8v8pAHMAywAiARcBUgFGAVQB7gDmALsAeQBJAA0A//+X/8z/l//D/4j/0//V/+H/8f/w/ywA7P8iAA8A+v/2/+v/CADl//L/6//5//n/BQAsAB8AKQA9AC4AMgAHACYAGwAJAEEA+v83AOD/JgDh/wgAw//i/63/sP9q/3H/L/9k/yn/kf9D/53/Wf/T/9UAOv/MAUYAqQK7ANUC/wErAvIBZAGiAQUAMwBu/xf/af60/lz+ev6E/kT/F/9o/7j/HwAVABsAggBfAEgAWwBXAEAAAgAjAPP/9//y/yMAHgAiAEwAcwBWAGMAawByAEsAPgCCADMAggAXAJIAAwB8ABcAWgDy/xYA+//G/7X/if+P/zf/W/9i/3b/j/+q/+3//P8YAHkAMACUACkAyQAdAIIA8/8cAMD/vv+q/1//Yv9V/1X/S/9c/6P/mf/n/+D/RQASAKAAbABGAh8AOAOiAZUDjgJ6A9kDlgKOA6QBswJQAK4AlP8v/xP+S/6Q/XL9zfyO/cD8Wv00/RL+v/2P/uP+n/+a/0AAqQDDANsAGQFNASoB9wA7AbgAiQAWADYAVf9P/7z+EP8l/qT+NP6h/kr+pv7W/sX+//7h/kz/AP+G/1r/xv+h/wcARABSAK0AqAASAbIAQgHqAAcBvwDKAM0AJQKr/0MDCAF8AwgCqwO4A/EC0QM0AhADDgG0ABsA3/4r/rb9Rv02/Z387P0t/Wz+l/6+/83/owAbAZEBYwEMAt4B2wFwAUMBMAGTADYAEgCv/63/Mv+w/wz/PP8a/w7/4/6i/sv+gP5c/oD+Rv6U/l7+8P7i/jz/R//X/+3/JwBvAM4A1QAFAUIBQAFDAS4BWQEBAQsBoACzABAAEgDA/4v/bf8g/zn/7f4h/wv/QP9J/4X/qf/I//T/NgBGAIYAhgDDAMEAwQCoALIAiwBiAFEAJQAKANP/4P+W/7j/XP+I/yn/a/8s/1X/W/9T/5D/i//B/7P/3P/w/+T/BAALABkAKQAmAEkAIgBSAFEAXwBZAE8AYgAYACoAAwDu/6f/qf+h/2z/Q/9g/03/Xv9Z/7j/wf/a/zAASAB9AGIAkgBoAGwAKwBJABwAGQAVABEADwDz/xgAAwARAPP/7P/X/7v/zP+X/6n/ZP+a/2z/kP+U/8H/wf/f/xYALQBdAGAApAB0AIsAagBmACcACwACAOX/3v/M/9X/1f/L/9f/xv+u/4z/m/9k/1//Qf9a/zX/av9+/6b/qP/P/+H/AgAZAAcANwAmAF8AOwBwAFwAlgB7AJcAhQCmAIcAiABoAFEATQAUACUAw//f/4X/nP9k/3z/Zv+S/6r/wv/v/yAAIgA8ADcASQBFACYARgAVAC0AFQBSADAAbgBkAJMAlgCeAKYAmACRAIAAewBcAEsALQAgAOb/8v/R/9D/u/+8/6j/w/+3/9b/6P/x/x4APgBuAHoAxQCzANIAoQCyAHcAXgApABAAAADO/9r/zv/J/7j/7f+7/8b/sf/X/67/tf+1/8L/yf+z/+3/+P8PABsAPABWAFsAhQB/AJsAXQCdAFYAaAA2ADkAKwD7/0EA3f8sANT/BwDi/+v/9P/q/wAAzf8BAAQABgAKACwARQBHAGMAYABaAEUASgAvABYA6f/r//X/wf/I/93/3v/X/+b/6v/b/8b/wf+u/6H/o/+t/8D/3f8CACUAQQBYAG4AiQCPAIIAfwCAAHAAXwBvAGQAaQBIAG8ARwBCACwALQAbAPb/7v+//6n/j/+T/3b/Zf9j/4D/iv+X/7//9v8FAB0AMAAsAB8AHQAmAP7/9v/v/+v/2v/V/+P/7//u////AAAOAPX/6//p/8T/wP+2/8P/nP+0/7L/vP++/+v/CQAVADEAbQCJAI0AqACuANEAsQDAAMMAvACaAKAAnwB0AEwATwATAPX/9P/Y/8X/wv/L/8X/zv/L/97/5v/l/+P/AwDb/+T/+f8LAAAAEQBBAD4AQQBUAGsAagBtAHYAiQBmAFsAPwBBAAMAzv/J/5D/kP97/4//df99/7P/0P/Y/+v/CwD9//n/EwALAAQAFQAiADQAQwBaAIYAcwCIAH8AkwB4AIsAlACnAKEApQC4ALIApACRAKYAdgBxAEsAUgArACIAMAAbAP7/BwAaAAMAAwAHAAAA9f/P/6T/mv9r/3r/dv9d/17/nP+3/7L/2v/1//3/EAARAAcA5f/z//X/5v/b/9b/CwD2/xIAMgBRAGoAhACcAJAAeACBAHEATQAoAB0A/v/X/8n/rP+l/6f/xv+//8X/5/8RABEAGABPAEEAVQBsAE4AKgA2ACQA9v/X/8P/xP+s/6z/qv+q/6r/rP+X/4L/ev9V/zz/LP8K/+v+Av/d/tz+5P7V/uT+9P7//g3/Nv9f/4v/of/F/+X/DgAOABsANgAwAE8AVwBqAHgAlwCrANUA8AAZAUMBWgFXAVwBXAFEASoBEQELAdMAygDAAKUAngCtAK4ArACkAKsAqwCKAG0AYgA5APv/4//X/6D/kP+A/2//Of8k/xn/6P6v/oT+V/4o/tv9s/2T/WH9Jf0R/QH94vzm/Of8+vwR/UT9av2R/Zv9xP0a/lz+hv4D/4P/+v+PAFMB7wF6AkADwgMkBGsErATMBLQEnQRvBEUE5wOwA3gDKgP0At0CtgKaAoMCbAJeAhoCAQLQAaUBWgE2AQQB3QC+AJoAhQBXADoA//+4/y7/x/4+/p794Pwq/IH79fpL+tP5WPkO+f/4xfiq+LP4+vj6+B75cPm/+R76t/pw+078Uv2I/gwAfQH3AosEQgaEB7cIrglZCowKcwovCnMJowiiB6oGbwVwBJUDyQIsAq0BUwEZAd8ArACNAFwAPAA8ADkAKQA2AG4AlgDhACABggG6AeMBHgIXAtYBRQHHAM3/iv46/QP8mfo1+fz3G/dO9rT1ZfVP9Ub1XvWg9fP1Yvb69sP3xvgN+of7dP2B/74BDASFBqIIigoKDDgNyQ3hDXkNlwxkC/4JUwiTBgQFdQM8AjEBZADS/5b/bv9w/3v/jP/B/+//FAAoAFIAiQDAAAUBUwGyASsCnwLuAjwDWwM4A6oC3QHsAJ3/6v01/Lr67PhO9xT2EvVC9M/zufPB8/7zRvTq9Jv1Uvb89kr4pfki+9L8Fv98Aa8DIwZFCDkKlgu1DDENIQ14DIkLFApcCJ8G6gRVA/cB8QA+AOD/oP/M/+z/JQBfALcA2QDTAOgA+gAFASgBbgHZAWUC/AK3A1kE5gRNBXcFXAXsBC0EMAPcAUcAnP4C/TT7Y/kJ+ML2y/UV9cT0ofTW9C/1pfU59rr2PPe99yn4lPhZ+TL6QvuV/GL+agCVAr4E8gbrCFsKWgvdC7wLBgsACpEI2gY8BdQDcAJOAb4AcQBgAK8AQQG+ATMCsAL1AgwD0wKQAkMCzgFXAS0BKAE2AY0BJAKwAj0D1QM0BFMEMATCAwED8AGDAAz/c/25+yn6yPjC98P2KPba9dL12fU09qT25vYp93r33ff69zH4nvh6+UP6c/sm/UD/PAGMA98F1wd5CcYKfgtyCxELDQrZCDEHlwUNBOICsgHzANMA1gAJAbgBWwLEAkQDjAOcA0YD8gJ7AgECfQEvASoBQAFsAQYCswJOA+YDeATOBMIEbgTeA/ICnwErAIP+6PxM+935mvi09w/3v/a59p/2wvYV91z3g/eX96732/fk9+v3Nvjm+MT5C/vW/Kj+2QBNA50FmQdRCagKTAtrC+QK5gmRCPwGYwUCBMwC1QFqAXgBoAHxAZ8CMAOaA9AD1AOKAxIDYQKuAQUBaAAnAD0AbQDjAKcBfAIwA+gDawSoBIsEIwRqA04CHAG9/2r++PzX+5b6uvkW+VH4OvgV+On3/fdI+Dn4MPg/+Df46Pf499j37/c5+MH42fkR+878qf7+APwCKgUlB5EIfAkPChIKdgmQCGEHEwa9BLEDvgJEAvcBLQKVAgUDhQP6A10EVwQxBLsDEQNQApMB4gBUABMADABMAMsAegEnAusCdQPaAwME4QNzA74C0gGpAGT/DP7V/Nf7z/oa+oH5Lvnl+Jr4f/h2+G74Jfj998/3Xff/9tr2xvbF9hv3DPg3+af6evzE/gcBOANSBVgHnwiCCQQKCwpeCYgIqQecBoUFjATvA4gDOgMXA1UDWANwA2YDZQPsAosCHAKKAfcAaQAZAOT/7f8iAKEAQgEFAssChQP7A0cEaAQjBJ0D5QIIAvMAwv+T/oj9evx2+4z6x/kH+X/49Pec92f3Effn9q72kPZU9ln2RvaQ9g730/fi+Hb6P/xE/nQAmQLNBKMGSAhsCTMKQgoXCnQJeAhbBz0GMAUiBIQD9AKgAo8CoQKxAtkCzAK3AqsCXQLxAaMBbQEXAfoABgFCAZQBJAK5AlkD1gM+BJsElARRBOEDOwMsAigB+/+x/lH9JvwD+yD6O/mC+AT4rvdY9y/3Kffw9vb2xvb+9tT2yvba9mf36veW+M/5XPsa/R//bAFkA4wFfwcXCdAJewplCvoJFQnmB60GbwVbBGQD/AKQApICxQInA04DoQPGA7MDdwMXA7sCOgLhAXkBeQFvAa0BHQKiAhsDoAMjBFcETgQMBK8D6wIsAkYBTQBG/zX+S/1j/Gv7ovoP+kD5yvhj+Oj3cfc49+T2i/ZX9hr2z/XL9e71YvYK9+X3Q/kH+/j86/5AAWIDZAUKB14IHQleCUYJygj1B9wGyQXPBBkEagMdA/0CMwNnA7QD9wMeBC4E/wOPAw0DjgLjAWkBCgHTAOQAKAF8AQ4CswI0A64DFQQkBAAEtQMzA28CmgGRAH7/e/5n/X/8dPvN+iH6kvkN+aT4WPgF+JX3OPfI9l720fWn9VP1LfWB9Rv27vY9+AP68vtZ/sAACgM4BTsHiAifCQ4K5Ql1CbwIlQd7BnoFewTiA4gDWgNTA7wD5wMjBEEEKgTKA3IDzAL/AWEByABDABAAEQBJANgAfQFDAiUD5gNeBLkEtQRaBMMD/QLuAcwAmv98/lX9R/xq+4H63/lf+cT4a/jf96D3SPcH95L2bfZS9vn1EvY29m/25PbV9834QPrX+9L90/8WAgAEAwa5B8QIjQneCb0J/whgCE4HRAZABWsEqgNFAwID/QI+A3sDqgPRA/UDtwNxAwoDdALxAZQBOgEbATQBeQH3AYwCIgOwAz8EcARqBEgEzAMdA0wCTwElACb/Jf4r/T78jfvL+lT61/la+QL5f/gq+Ob3ePfr9sT2iPZS9jP2aPZ19gL3pPeG+K35NPv+/Of+EAH1AggFtwYjCOgIhQlfCRQJWgh4B2oGegWYBOsDngNDA0ADTgOTA5YDoANpA0ADvwIdAoMB4gBeAAYAAAAOAH8ADAHWAY4CRQPfA1YEhwRuBDIEnQPnAvkBJwEZACb/Of5p/aH8zfsy+6D6CvpY+dD4KPi79x/3p/Yk9ur1m/V99Y31pPU19tr28vc8+Qn73vwM/z0BbgNuBTAHighvCfYJwQlcCZEImQdbBnQFhATJA2ADGwP+AvsCFwMEA/8CsQJdAu4BYQHLAFYAAQDA/+T/MgDLAHUBTwIVA9YDcATZBOcEvgRsBMMDBQMPAi4BMgBJ/0/+U/2H/Jz7/Pos+nP51/hz+Nv3NffQ9oz2WPb79ef16/VN9mz22/aD94L4hPnc+o38MP4+AC4CNwTYBWkHXQg/CWoJJwmXCMUHxAaiBcMEvwM6A9ECwgKtAtcCAgM9AzsD/wKoAlEC3AFLAfkAngCBALIALgGbAUMCCwPTA2QE2AQDBRAFyAREBIwDsQKdAagAqP+i/p/90fwN/D/7j/q7+UP5hvj892r3H/eI9nH2b/Zj9jn2ePbX9hH3mfcy+Er5Tfrb+2b9X/8OARYD/wShBq4HmghFCTwJ5gguCHcHbwaJBYkE8gNeAyYDFQM2AyUDTwOXA3gDNQP7ArwCNALMAWgBOQEQATQBlwEdAqECOgP8A3MEpQTFBK4ERgS3A/8CHgIsATcAVf96/qX90Pwz/Ib7xvoe+of57fgh+K33KffG9oD2VvZR9kH2bPa49g73avcd+O347fkJ+6X8Tv4JANUBvQNtBaAGzQd+CMUIlwhaCMUH/AYkBnYFtwQlBMADjAN9A2IDbgN6A3gDNwMPA80CbgICArkBZgErAR8BSwGgAfwBbwLxAngDuAPjAwEE0QNrAwMDUwKLAb8AEAA2/2b+eP2q/Or7Avsn+pf54/gt+LH3U/fw9q32o/aN9pj2xfb29ij3f/cK+Kb4aPlz+qb7Kf3G/okARgL/A3EFrgacBwQIGQjvB2IHrAbtBRQFZATSA20DOANFA1kDiAO+A9UDwQOZA0wD0wJmAtkBdQEaAfoA+QBPAaQBFgKtAicDdwOrA9gDuAN0AwIDjALQASIBYACP/63+2P0K/UP8lPuv+iH6kfkV+Zr4UvgS+Ob3z/eM93T3V/dR91H3e/e291T4D/n0+UL7wfxt/iQA9AGKAw4FNQYWB4EHrAd2BxYHiwbRBUUFugRcBAkE/QPkAwQEEQQCBOgDuwNOA8cCRAKjARkBpgBlAB4ALwBDAJoAAQF6Af8BiALaAg0DLwMGA84CXgLiASoBoADu/2D/wf4n/pP9C/2F/MH7VPuq+iz6f/kN+ZH4RfgA+Mn3r/ex96/3w/cO+En40vhH+Vb6Wvu9/Bz+uP87AbYCIgQ4BRYGogb4BvAGzgZaBgMGgQUlBcQEmQR5BH8EdQRZBDUE9AOxAzEDkwLlATsBjQAPAJ3/cf91/8H/HwCcAPwAUwGjAe0BJwJNAlcCOwIIAroBOwHCAFMA0P9a/93+V/6i/fn8PfyZ+z/7vvpV+of5EPmZ+CD42vev95P3vffA9+73Fvhy+Ab52vnk+gr8bf2V/gsAUQGcAoADdgQZBX4FoAWPBVoFFwXuBK4EoQSBBIIEjwSyBKEEoQR6BE0EvgMXA3QC4wFlAdoAfgA3AA4A+/8dAGwA3gA1AYkBvQHTAQ0C+wEXAsUBkQF/ARMBggB1APL/h//w/q3+5f05/oj9wPwR/ND7fPt8+hv6k/nf+RL53Pin+MX4u/jg+Af5Jfnq+V766/qc+3T8Z/2B/oj/jgB+ATwC9AKYAxwEoATtBB8FTAV5BYAFaAVsBYoFkwVYBR0FjARFBOgDsQNdA5IC3AEmAR4BZQDGANj/hgBeAFwAWQCuAAEBNAF6AIQAbACjAKoAAgCEAOX/oQDt/7b/o/9i/73+zP6C/jn9a/xX/IL8uPtg+0j7DvvP+tX6d/qC+n76K/qQ+nz6v/rs+k37M/wZ/ZL9c/5o/4YARwEaAq8CPwPGAwsEWwR+BMMErAQYBVUFZAUpBSoFyQThBHQEcgT3AykDDQMZAhkCPwFTAcoAvADW//z/yv8mANP/RgAuAIgA9gCJANAAMADyAKsAqAAoAB0AGwASAOH/Rv8G/1P+Tf7K/Wz9tfym/Ov7Cvwz+1T7P/vC+lr6+/kG+vH5EPoP+m367vqB+/H7wPxw/XX+G//k/30APgHVAWcCzwIyA3gDyQPqAykEUARoBKoEogTMBKIEkARsBAoEuQMvA7kCOQLsAZkBWAHCAHgAlACJAKsAjQAOAaIADAGFAKMAyAB9AJwAeQAEAA4AKAAXAPr/JgBz/9P/4P4h/27+fv4g/pr9lv21/OL8Rfxx/Df80/ux+4H7i/so+2H7Hfs1+1P7Y/sG/Nf71Pw8/R3+c/5a/9T/ZQDUAF4BiAHdATcCiwLhAkQDegPFA78D/QP9Ay0EywP/A8EDoAMvA/MCnAJbAuYBigFjAe4A7ACpAOgApQDwAIAA2wBOAKMAFABSADQAAgAlACcAPQD5/10A0/8/ANT/yP9v/4z+ov49/jf+o/0r/nn9mv3i/FH9Df2I/Fz80fst/G37Bfxc+2z7C/xH/H78B/1R/fr9RP4r/0D/FgBdAK8AQAFhAekB7AFnApwCOQNDA38DjQPgA8wD2wOKA4kDkAPgAuQChALQAhACHAKVAeoBjQFhASgBlwHfACcBlwDpAAYAvABWAJMAqP9BABcAwAAlAOn/tgBdAEEA3f/D/9X/If/o/rX+iv6u/VD9ef0S/Z/8Pvw3/Nv7W/wU+/r7nvv6+4L7APz++3v8hPwf/Zv9P/6h/kT/xf9iAJoARQE2AeEB9wEmAkICQQKdAnICBQMeA04DGgN3A0ADXAP1AtcCmQKeAhgCgQGfAXoBZwHxAF8BwwBHARcBkQDSANMAbQDfAG8AjADKAFEA2AD1/zQB+/9XAVn/egDR/2z/iv8E//T+7f2I/tf88f22/A79rvxg/Gf8kfw7/AP8gfuh+3D7yftL+3T72vtQ/N/8X/3//YX+H/9y/+z/JwCUALoACgFTAaYBGQIxAm4CygKqAh0DBwN/AxYDOwMeA8QCpAJdAiQCgwG8ARYBUwE9AQ4BRAEEAVoB8QAlAX4AAwFQAI0AfwBiAM0AagDLANwA0QB4AKcAawAXAHz/f//1/r/+pf5T/jH+qv5G/cf9/vyR/Uj8n/y/+yf8B/y++9b7IfwV/GT8m/zE/Pr8cP15/fL9cP5t/iD/RP/i/ykA5QDkAJEBvgEuAo4C+QIPAwkDjQNXA7QDbQNZAyIDPgPSArMClQJMAmEC4AHcAdUB3gHiATQBYQFCATgBKAHDAH4ArwC2ADgAIgBpAE8A4v9rAAMAMwD5AEH/BQAe/5v/Jv/+/ST+Lv34/RT91fyS/Z38w/2P/M/8kPzY/HT8vvsA/Bj8LPwN/Cn8efwf/bT97/22/uf+mf8tADIAwAC2AFgBjwHJAeIBTgKpAv4CAwNYAzoD2gN0Aw0D8ALkAmECKgL+ARMC3gHpASoCgwHtAaYBxQEVATMB4gCyANEAv/+cAJn/HQHg/+QA3P/ZAIAAw/83AF//wv+b/sL/Of4x/p/+n/01/hb9y/20/ML9qfwa/fb74fzO/Ar89fvG+3T8g/x8/H/8f/yn/bb9IP48/kv/vv8ZAHsADgEzAdEB4wEYAkQCjwKlAuAC/QI2A3QDKgN3A18DUgP5AvkCfwJCAtUBaAEsAS0BfgAcAXcAtgDcALIAZABqAGwAcQBpAFcAtgDx/1MAtP+aAP//kwAmAM3/vP8G/0D/4P55/oH+B/6u/v39Z/0q/eH8NP1j/Bj8e/s6+9n7VftO+5/7DPxb/IX8oPws/Zr9xf2S/iP/1P81AJ0A7wBLAfQB3AGSAnYC1gLuAk4DTQOPA5cDvwNkAzADkQKuAmMC+QEQAtUB6QFXAbcBLAF4AasB9gAgARAB2AD5AJYA/wD0ANMAkADEAKcApwBbAP7/jgCIAJz/sP+F/1r/yP77/hb+VP7N/ZT9wPwq/ef8/fxx/L/8RPxy/NX7F/yo+wf8yPwz/K/86fy0/dz9f/7a/iX/yf83AIEAvQBMAcoB+QEpAisCjAKUAqwCBAMDAzADRQNAAwkDUwPoAqcCAQIdAsMBsAE+ASkBUQE8AR0BFAEzASMBKwHuAAIB2wAmAa8AzACCAOIAjgA7AKr/TwDR/38Ai/+a/1n/+f4D/zb+pP70/eb9ZP0x/Q/9uvzC/HH8ePyT/Cv8Uvw9/FH8Xvyn/AH9a/3Z/Tv+fP4//+X/IACpABcBlQHoAQYCRwKcApsCsAIKAyQDOQMiA1UDPwM3AyMD/gICA4ECVwI1AqcBdgGNAQ0B/gDvAPsAJQHvAK8A5gDqAJcAowCpABwAGwBnAAYAaQCB/0oA7//9/+H/j//r/63/+P7+/u39hP4n/cL9vvxJ/b38EP2o/L/82vy1/Jv8Sfyc/H78f/yJ/M38Pv3S/TX+6P6o/zgAkgA6AakBPAJTAqoC6QIUA18DlwOyA9cD7gP7A8UDlwOaA1cDEQPSAjkCNAKgAaoBKQEOAUUB4QDTAEQA6ACdANAAiwAbADoArQAFAU4AbgA8AAEBrgAtAMMAGACdAOH/PgCV//L/IP+O/7v+cf4G/rL9gf3H/C79M/xJ/JP71/sr/JH7+/vK+zD8ufsK/H/8ofxC/bv9jf6F/yYA8gCnAYAC8gJHA60DsQPFA8QDnwO4A2oDkgO4A78DygPDA8kDYgMdA9ICoAJHAuABWwE4AdAAsACwAMMArgC8ALUA2wCmAJUAhABwAEwAFwBdAEoAhABhAJcAYQBOAP//sv9w/9v+Z/6I/R/9lPxz/Dr8DPza+6v7fftk+0z7CPsC+9f6uPqI+qf63/pZ+xv8Jv1U/pz/2QA3AkoDPATRBBsFKgX0BKAEKwTfA6YDigOSA7cD4QMHBBQE+gPMA38DEAN3AtABLQGtAGcAKgAuAE4AkQDGAO0AFgEbAQ8BxwCbAFUAMAAUACMAPgBmAIcAhQBVAAsAq/8a/4D+z/0c/Y78RvwL/M771Pvk++771/uV+1/7E/u7+kv6AvrZ+fP5VPr4+vD7K/2m/hIAlAHpAhsE8QR8BcwFywWNBSAF0gR5BEkEFwQeBDYEPwQ5BB8E8QOfAysDrAI8AswBbgFFATQBTgFwAZUBpAG9AZ8BWgEkAdcAbQAaAPf/0P/E/8P/8v8zAGQAdQByAEQA2v8y/2/+sv3o/CP8d/sF+9n60/rv+g37TvuN+6X7i/sr+936iPpD+hv6Yvr8+vD7TP3o/qQAcwIWBE4FaQbfBt0GewbpBTEFiQTrA3MDWwNSA4IDwgMABAQE+QPgA34D/gJwAgIClQFeATsBTwF7AZkB0QHRAbMBVwHhAFYAt/8m/7z+kv6S/sz+GP9+/9P/EQAnANf/Of+L/tn9FP1J/Kv7i/uE+4j7rvvx+yH8GfwF/MT7OPuV+gH6m/lm+VL5tfm4+gz8gf1E/zwBDwN7BKYFfwb0Bt8GhwYNBmEFrAQ0BPoDzAO/A+sDMgRgBEQEMwQRBMoDZwPzAq0CaAJEAj8CVgJiAksCOAIQAqYBCwF7AAoAjP8h//v+Ff87/3b/yf8YAEIAKQDp/3r/2P4G/if9YPze+3D7KPtA+8T7N/yc/Kv8p/yc/D78evuS+sH5HvnI+NT4IPn6+XD7Ov0f//gAlgIlBFAFxgXuBbYFIAVmBNEDUAP4AswC2AI1A4sDtQPVA/ED3AN9AwkDnAJXAhkCBgIZAjkCZgJ5ApQCbAIWApkBBAFwAND/cv9G/2H/h//o/0wAuwABAS4BQAHoAF8Aqv/b/vX9If13/A/80vvY+yL8Y/yB/MP85vzK/F382ftp+9z6VPra+c35KvqU+kD7V/yl/dn+FwBqAZACeQMxBKIE8gTeBJYEYAQfBMMDbQNWA0oDQwNEA08DUgNAAx0DCgP8Ar8CjwKGAnsCZgJbAlkCRQIdAvMBmwFCAd8AeAAgAOP/nf+B/4//wP/t/x8AKwA9AC0Azf84/5T+3P0P/Vj80fuP+2P7Wfut+yX8rvzl/B79O/0+/dH8RPyu+wP7a/rq+bv59flt+gf7Lvy6/R3/aADHAQAD4gN0BJ0EpASVBDIExwOjA4sDSwNSA4kDrAPJA80DzQPXA7QDeQNaA0QDGgMHAwoD8ALbAr4CjgI5AswBZQEXAckAZwAzABgAFAAcAEQAWwBqAHwAbQBMAP3/j/8m/8z+W/7A/S794/yk/In8Svwy/Cz8R/wr/B386/vR+6H7l/uS+0/7IvsZ+0D7PPtf+4z7D/y+/Lf9vv7P/+QACgIfA9IDKgRFBDsEHgTAA0oD7QLTAskC5QIMA0oDbQOnA9sD6gO+A3gDQQMRA9ACewI4AiECHAIXAvMBtAFiAScB0gBpAAAAuP+m/6T/q//R/wEAQQBnAHEAQQDh/2X/3/4V/k39pvwH/K/7k/t6+5P7/Ps9/IT81vze/Kv8kfxN/PL7WPuz+oL6m/ql+tD6e/tu/Gv9bP6A/6QAiQFAAtkCPQNAAw0DBgMTAwIDzAL7AkQDZQOGA70D9QP4A9oDrwOTAx0DtwJ5AnQCVwIgAjUCYgKEAk0CNQL2Ac4BSQHhAIkADQAaAO//BwApAEIAawBrAH8ADADJ/4r/7v6t/hv+//16/YP9SP1C/T797vz8/KT8kPwr/Pb7sftQ+3v7dPup+337q/vW+9X74fvY+1f8l/wM/ZX9iv59/zYAGwH1AbgCBAM2A1YDTgMAA6oCgAJSAjICLAJnAqQCyQL1AkkDnAN4A0IDKAMfA+oCgQJNAjkCNwIoAgIC6wG+AacBggFQAQIB2QDjAOsA9ADiAPMAHgEgAfoAkgAxAND/XP/I/j/+vf2X/Sb9C/3o/GX8LPw3/Bv84vsv/HD8nPwI/RH9I/0m/Rr9xvyc/E388fs5/HP8x/xF/Vr+WP9AAAwBkgFDAqoCfQITAg8CvQFIARYBFwE0AYUBzgEEAncC0gLIAtcC7gLMAsUCrQKHAmoChwJnAjcCOgIkAisCOQIWAg8CJAIlAvUB4AG/AYYBVwEPAcoApwCMAFYAOAD//7z/oP9M/8X+bP4Y/s79Tv3T/I38hvyK/Hb8m/za/AH9EP0b/eD8p/xv/CX86vuo+4D7xftJ/NH8Sv3o/ar+R/+1//v/QgCNAMcA7gAaAToBTAFqAaUBxgGfAZYBzgH3AfAB2wEPAlUCoQLIAuACGwNWA1YDLQMjA+cClQJbAiUC7gG9AbwB4wHxAf0B9gEJAhECygGHAVkBEwGoAEwA/P+k/1z///6w/mT+C/6X/Vf9Mv3H/Hj8ifx8/HD8gPyg/J/8pvyz/KX8qfyP/Hn8dPx//Jj8pfzA/Av9af2U/c/9Nv6z/ib/pf82AMwAOgF0AaMB6AH2AdUBmQGcAa4BpwGiAcYBHAJPAmUCeQK6AugC9wIUAx8DMgNRA20DeQNpA1oDJAP/AskCagIxAiYC8gGoAYwBbAFNASUB3gCnAHEAEACZ/y7/5P5h/uT9n/1//Vz9BP3Q/MX8xvzE/Iv8kPyq/NT8zfyU/ID8sPwI/df8lPy0/Bn9Qv0S/RD9dP3r/Q3+HP6w/lT/1v8TAHkAFgFpAUsBEAFTAVQBBAHmAAcBYAGUAcQBEwKYAucC8QI1AzYDJAMeAw8D8QLFAroCtgLQArwCiwKhAoQCUQL/AeYBrgGBAU8BAwHgAKoAcQBJAAQAtv9j/yv/8f6e/kr+Cf7g/ZT9UP0k/Rf9Hf0L/Sj9Pf1f/Wv9Z/1u/T79Jv3+/Oz88vwA/SP9a/3O/Rf+X/6s/uH+Av8s/1j/e/+4//z/QgCHAKQAwAD9ACMBFQE4AV0BjQGlAc0BDgJTAnACcwKOAsYC1ALjAvwCHAM2AzgDOAMXA+wCnwJKAhMCvAGFAWIBUAEaAeUA0AC/AKMAUQD5/7//dP8L/6T+bP5C/gX+wv2c/Zn9p/2e/X39hv1//XD9bv1a/UX9Sv1Z/Xn9iP2l/c79G/5r/nr+fP6C/p/+hf5W/k/+l/77/jb/WP+b/wsAaACZAM0A6AAhATwBRAE5AVABggGoAcgBxQHIAQkCMQI/AlICiAK7AtAC1QLMAtsCyQKfAocCWAIdAvQBwgF/AVIBOgEmARgBCQEEASMBBwHOAHwAUgAHAKL/P//c/pn+Rv77/eb91/3S/eD98v35/fL99P3f/cz9of2D/ZP9ov2l/bz9/P0h/i7+O/5Z/oj+bf5f/m3+k/6q/rD+Cf98/9v/BABQAKcA4gD0AAsBKgFNAVQBWQFuAZcBvgHwAR4CJgIyAjYCOQIsAh8CEwIZAiwCDAIEAvgB0QGjAVcBLgEIAdgAqwB7AGAAOwAlAA8A4v/F/7f/lf9h/yz/DP/g/rX+iv57/or+d/5w/nP+mf6W/n3+hv6H/o7+Zv5a/oD+nP6b/pf+u/7T/q3+iP58/nP+UP4S/i3+aP6v/rv+Af9a/6v/8v8cAGAAlwDFANAA6AAMARUBLQE7AVEBZgFzAYoBiwGpAcQB6AEKAg4CJAIdAg8CAALVAakBfQFPASQB+gDYALkAmgCEAHAAdQB0AHEAWAA2ACIACwDz/8r/vP+k/5L/h/+C/3f/d/9i/zb/Bv/X/pj+aP5N/kP+V/5N/mX+ff69/u7+Fv84/z7/Mv///uX+sf6g/pb+nv6b/qD+zf7i/g//T/+X/9H/+v8aAEsAfAB/AIwAkACjAKsAmACkAL8A1ADQAPIAHwFFAWkBfgGOAZcBjAF8AX8BZgFIATUBEAHdAMAAqwCnAJ4AmgCQAJoAkgBzAF0ARAAeAPD/3v/Y/8//tf+Z/4//c/9g/1//Zv9p/23/cv94/37/ff9y/2z/eP9q/1n/Q/8b/wv/9f7x/vT+8/7l/uD++P4Z/xf/Nf9X/2//ef92/4r/lf+f/67/4f8SADgARwBtAIwAjwCLAKEA2QDqAPwAEgE3AUMBNwE8ATsBKwH3ANgA1QDDAKoAogCiAIYAdwBmAGkAaQBGAEIASQBcAFoAbgB3AH8AfQBeAFwAUABIABsA+f/g/9D/tv+n/5//lv+N/5T/n/+S/4j/g/9u/1L/Nf8e/wn/9/7z/ub+8f7n/vf++/4E/w3/+P7//vj+FP8h/z3/Y/+J/8L/5v8sAF4AgwCmAN0AEgEyAUIBVgGAAYoBhgF1AXIBZAFQAUABLwEzATEBOAFGAUUBPgEsARwBCgHwANQAowCHAGkAPQAWAPn/5f+5/6D/i/9s/0n/Gv8F//L+4/7I/rf+s/6s/p3+nP6w/rP+nP6P/o3+i/6V/pD+pv7D/tf+6v7j/gL/C/8N/yD/TP9r/37/oP+7/93/5f/+/xwAWgCXALMA1ADwAPUA8gDnANwA3wDUAM0AywDOAOYA7gALARoBPQE+ASgBGwEFAfEAwgCjAI0AfgBnAEoAMgAdAB0AGgAaAAEA7f/g/87/vP+a/5v/kv+C/4H/dP9t/1n/Pv86/zv/M/8a/wv/CP/+/uv+4/7k/uL+1f7e/vP+9f4F/xT/M/9D/1b/bf95/5z/pf/G/+n/CwAgADYAYQB4AJkAnQCsALYAtQDBALAAuQCdAIoAhwCJAIQAhAB/AH8AawBVAEQANQAdAAAA6//t/+z/6//y/wEAFQAuAEYAYABzAFgATwAwACYADwD6//z/7//t/93/0//Q/9D/0P/G/8b/q/+I/3H/X/9S/y//Gf8P/wb/AP/z/vz+GP8w/zr/Qv9z/4v/rP+//+L//f/8/wcAFAA5AFUAWgB2AIMAmgCQAIQAiQB8AHYAcgB8AHAAYABdAGgAbwBhAFcAWgBaAFwAUgBjAHQAbABVAEQASQAwABwA8P/b/9T/wv/P/7v/x/+7/7v/tP+g/6b/nv+v/5z/oP+t/5n/fv9Y/13/Tf89/zP/KP8+/0L/Tv9J/1X/V/9p/2D/Vf9L/zn/Pf82/03/bv+Q/6v/tP/Z//T/+f/y//L//f8GAAwAEgAlACsAOQA3AEYAWQBfAGAAYQBnAGUAXgBZAFQAVwBRADsAOQAtAC0ALAAmACYAGAAPAAwACAD//wMADwAJAAcA8//i/9r/4f/Z/87/wv+m/4//gP91/2v/Zv9t/23/Yv9A/yL/Kf8n/yf/IP8m/yr/OP9C/1H/d/+F/4//kP+e/6D/mf+d/6v/uP/D/9f/6f/y//T/DQApAEgARwBTAFwAZwBzAGoAdwB4AGsASQAtABoAEgAAAOn/9v8EAAIAHAAtAEsARwA+AD4AOAAxAP//AwDp/97/1f/Y/+f/6v/5//T/CQD8/+v/7//b/9L/uv+0/63/mv+Q/4f/ef9e/0P/R/9Q/17/Uf9U/2//cP+F/4z/p/+g/4//iv+S/43/eP+C/3z/fv+C/6D/wP/k/wQAIQAwADoAKAAfACEAFQAaABQADwAcACQANQBGAGoAeQCMAH8AdACFAHQAbABSAEcAOQAcAPr/7f/x//b/9P/r/+z/5P/J/5v/hf97/1P/Tv9Z/2f/cP99/5P/p/+4/7T/x//K/8r/wf/X/+3/8//2/+z/0v+y/6P/lf+W/5v/k/+R/4n/hP93/27/h/99/37/e/+K/5j/mf+0/9f/3P/M/8b/wP+y/67/oP+5/+v/9v/2/+v/7//t/+j/7//l/+T/3P/o//v//v8EAAEA9f/6//z/8f/Z/8z/zf/R/8r/x//A/7D/oP+B/2z/Zv9d/1f/Xv9t/37/hf+V/6L/qv+p/6r/pf+f/5D/dP9+/3v/eP93/3X/j/+X/5n/kf+B/4H/ef96/3r/iP+J/4z/mf+c/6f/pP+y/8j/1P/J/7X/tf+q/6X/nP+f/7r/pf+f/5X/sf/N/+L/BAAzAD0ALgAcABgALAAcABMADgAKAOz/zv/N/9//0P/M/8X/y//N/8L/wP+y/7T/k/9v/2D/R/85/y//NP9N/0//Zv+E/6f/tP/H/8//wv/H/7L/pP+C/3D/bv9g/17/av+H/4n/lf+j/8X/5v/z//z/BAACAPD/5//W/87/uP+u/7H/uP+6/8L/2//l//n///8dADUAPgA/ADYAMwApABoACAD8//n/7v/r//P//f8PAA8AFgAVABcABAD7/+j/4P/e/8r/0P/n//P/7P/m/+r/3v/Z/+P/+v8AAPD/7v/m/+f/zv/G/8T/1v/L/8b/2P/n//b/9f8BAAoAEQD4/97/3v/h/9H/qP+h/4//k/+R/4v/p//B/9z/7P8BAA0A+f/l/9L/xv/O/8L/wv+6/8D/rf+9/9D/1P/t//P/+/8IAA4AGgASAA0ABAALAAMA9P/2//n/DAAVABsAIgAVAAUAAwDs//D/5v/X/8j/tv+1/63/rf+9/9D/1//d/+j/7v/k/9H/vf+3/63/sv+y/8H/z//I/8L/0P/k//j/CQAgADkANwAVABgAKQAvACAAGwAxADEAIwAbADYARQAxAP//6P/X/8X/pP+I/5P/nf+f/5L/lP+I/3z/e/+P/5v/of+n/6D/nv+h/6z/tP/G/+T/+f/6/wEACAACAAQA+f/n//L/7P/d/9P/5P/z/wIACQAfAB4AHQAdABgAAwDd/8H/u/+j/5n/mf+x/9L/5f/3/yIANwAaAAoA+v/8/+7/yv/L/8L/v/+j/5r/sv+7/73/yv/j//b/AAAAAA0ACQD6/+X/1f/V/9P/u/+0/7z/z//Z/8r/zf/P/9z/0P+4/6H/pf+h/4f/hv+D/5r/pf+q/8b/4/8JABUAIgBBAEUARwBMAFIAXgBLADIAHAAXABEA//8UACgAQgBFADoAPwBAACYAHwAYAAsABwDl/+z/6//y/+v/3//h/9z/5P/A/7v/tP+1/7P/rv/E/8P/zf/Q/9r/5P/U/8n/sf+l/5X/fv93/3L/a/94/4P/kP+U/53/pv+q/6X/pf+e/5b/sf/G/83/1v/Y/9f/z//c/+f/5v/u/8//0P/a/+T/7/8EACkALwAoADMAPQBDADoASABVAEwAPgAfAA8AEQARABYACgAQAA0ADAARAAsAFAAQACEAJgAnACIAHQAjABwADAANABkAEwAGAPT/1P/R/8j/vP/A/8X/2f/C/7j/u//a/+j/5//y/wkA/f/i/9D/1f/R/7z/tv+7/7P/pP+h/7j/zv/l//7/DQAoABsAJgAbAB4AGgANAP7/7f/j/8P/uP+3/8X/0P/a//H/AAAFAPv/7f/6//X/3f/T/83/yP+Z/5T/rf+3/8P/uP/N/9P/pP+K/43/o/+g/4n/gf+c/5n/dv+B/5P/rf+m/63/x//F/8v/sv/C/9T/yv/R/9L/2v/X/9f/2//n/+7/6v/4//H/6f/R/8z/y//P/8n/zf/O/9T/0P/O/+j/8//2/+v/4v/Y/8z/zv/R/9f/2v/i//D/EQAbABcAKQA2AEsAOwAqACkAJQAcAAEA9//8//f/7v/2/wkAEgAHAPn/+//0/9f/xv+2/8H/sP+c/5z/mP+n/57/nf+g/7f/0P/T/93/8//4/9z/w/+z/6r/oP+K/5D/n/+h/5//pv/G/+b///8GABcAMABBADkAKQAvACMAFwDz//L/+f8AAAYAEQAaABwAEgAEAAcADgAZABQAEgAlACcAMAApAC0AFgALABgAFAALAAMADwAAAAcA+f8CAAYA8f/b/7b/nv+G/3j/df9+/5r/tP/H/9z/8P/6//T/7P/m//f/+P/f/9T/4P/o/97/5P///xMAIQAeACkALgA0ACQAFQAAAN3/0//N/8X/q/+g/6D/nv+S/5f/pv+3/8r/3f/0/xIAHAAbABwACAD3/+f/4v/k/+r/6//w//z/CgAMAAsADwAHAAYA7P/X/8j/tP+j/53/pv+j/5//jv+X/57/qf+m/53/pP+z/7n/q/+6/73/0f/S/9z/6//u//L/8v/8//T/7f/n/+H/5f/p/+j/8v/7/wYACwACAP3/AAAOABQAFgAcADsAVwBWAFAAUgBgAFQARAA5ADwAPwApACMAFwAKAP3/8v/x/+z/5f/J/8n/xv+6/6r/vf/a/9//2v/i//T/8//q/9z/5//r/+n/8/8AAA8ADgAFAAEA+//0/97/4//4//T//P8CAA0ADQD8//P//f/s/9f/zP/k//////8AAAIAEQAiAC4AMAA0AD4AOAA4AEAARwBAAEMASQBNAEgAOgAuADYALAAOAAcAAwD7//7/FQAqAC8ALwA5AEsATgBIAD4AOQAsAAwA/P////7/AAAFABgAIAAnACUAIgAlABQA///w/9v/xv+1/7D/uf+7/7X/wv/P/9P/6P/w/+//8v/o/+b/8P/x//T/7P/k/9n/4v/g/+j///8RABQAGAAgACMAKAAwADQAMwAiABUADQDz/+L/3v/b/97/3//v/wAAFwAsAEsAUABQAEMAMgAiAAMA6f/Q/8b/xv/G/83/6P/5/wMABAAPACEAKAA0AC0AIwASAAAA7//m/+H/6P/o/+//+P8EAAMA/f/9//n/9//w/+v/6P/u//X/8v/o/+z/5P/W/8X/tP+y/7D/r/+7/9L/7v///wcAGAAqACQAFwAHAA8AEgD3//b/6v/a/8X/tv/C/9X/5//1/x8ANwBBAD4AOwAyABsA+//h/87/wP+6/7//2P/q//b/8P/z/+r/5P/Y/8z/0v/N/8r/w//C/8v/z//V//P/CgAUABQAIQAgACMAKgA6AD8AOAAcAAIA7//a/9H/yf/X/9T/wP+1/7r/vv+5/7//sf++/7n/r/+p/6r/q/+n/6f/pP+j/5r/kv+W/5//rv+r/6z/sv+u/6v/nf+W/6T/t/+1/8L/0P/c//L/8v/1//r/8v/2//b/9P/y/+7/7f/l/97/2f/R/9f/2//r//P//P/9/wEADQAOAA4ACAAPAAYA+f/5/+//9P/5/wIA//8TADAAPgBDAD8AOgAgAAcA8//r/+T/3v/g/+f/4f/j/+X/+/8IAA8AJgAtADUAJQAfABsADwAHAAUAAgD2/+z/8f/s//X/8v/5/wQABwAHAPz/+v/o/9n/yP+t/57/l/+f/6j/vv/a/+L/9P/9/wAADQACAAMA+P/0//j/+P/w//L/6P/v//L/9v///wYADgAOABAADAD5/9z/1//W/9//6f/4/woAEAAQAAkAEQAYACAAKgAxAC0ALAAXABcAGwARAAUA6//X/7z/qv+Z/5X/nf+h/57/pP+u/7v/tf/F/8z/0//T/+D/6f/w//z/AQATABIAGAAZACsALwA0ADcARQBNAF4AZABhAFcATABAADIAJAANAA0ACAAFAAIABwD+/wAACwAKAAgAAQD5/+7/7P/b/9T/yf/E/8b/wf/D/9D/5P/v//7/CwALAAYA+f/q/+H/yP+z/63/pP+i/6D/rv+x/7v/z//g/+n/4v/h/9b/zv/H/7j/rP+r/6T/qv+k/73/5f/2/wcAIgAsADcAKQAXAAIA9v/t/9f/2f/h//L/AAAQACoANwA4ADUAMwAnABYABQDs/+P/0//F/8n/2f/X/97/7P/0/wIADAAhACkANAA+AEAAQQBEADsALQAZAAYA8P/Y/8j/zP/D/8r/3f/u//z/CQAVAA0AAQDn/8//uP+m/5r/hv+C/37/hf+R/5L/qP+7/9b/4//x/wAA/f/3/+//8v/j/9L/1f/h/93/9P8HABMAIQAYABsAHAAbABcAFwAkACcAIgAVAAcA/v/5//n/BQAIABgAIwAkACwAKgAwADAALwAiAB4ADAAKAAYAEQAiACcALAAxADsAPQBFAEQAPwBIAEUASABGAEgARgBJAEUAQwBCAEEAOgA6ADQAMwAdABUACwD3/+b/yv/J/8j/yv/J/9n/4v/s//T/BwALAAsAEAAHAAQA+f/h/9D/yv+8/7r/rv+5/8f/1v/9/xYANgBMAG0AiACaAJ0AmwCcAI8AcgBYAEwAOAAyADAALAAvADMAMQA3ADAANAA1ACgAGAALAAYA5f/X/8r/xf+//8H/0P/r/wUAFgAmACwAMwAsACgAHQAWABMACAAAAPr/+f/5/xQANQBOAHEAiwCUAIwAjgCIAHgAYQBKADoALQAoACcALgA8AE0AUwBcAFwAWQBdAFAARQA9ACYAEAAAAOL/2P/G/7n/t/+5/7z/v//P/9X/2//W/8f/tP+p/4n/hP97/3f/aP9X/1D/Uf9O/17/Xv9l/2n/df9y/2j/bP9h/1n/QP8y/yf/Gf8R/wn/Df8N/xf/Fv8f/xz/G/8R/xj/Gv8U/yL/L/8+/07/af96/5n/tf/I/9n/7P/4/wQA9//p/+X/2P/M/8n/y//a/+7/+/8eAEgAdQCdALUAvADEAMMAuACtAJoAigBxAFgAVQBVAE4AUgBaAGkAhQCXAKEArgC4ALsAsgCeAIoAcQBgAFUAQgA6AE4AXwBnAH0AjwCvALIAtgC8AK4AqwCbAI0AjgCCAHQAawBnAGsAcQB9AIkAjACTAIoAmAClAKMAmgCTAJAAigCDAIQAkACRAJQAiwCQAKEAqACqAKcApQCfAJMAiQB2AGYAXQBhAGQAZgBsAG0AZQBvAFoAVwBeAG4AgwCKAKEAogCdAJAAfwBkAEIAIAALAOf/zv+8/6v/o/+n/6//uv/N/9z/1P/c/87/uf+n/5X/if+Q/5r/mf+k/6b/pP+n/67/of+h/5P/jP+M/5P/n/+t/8P/2P/u//v/CwAiACAAJQAjAAcA7//f/9P/1v/j/wMAGAA3AFUAdACGAJAAoQCiAJcAiAByAFoARAA3AEQAUABmAI8ApQC4AMAAygDEAK4AmQB+AGEAUABDAD0ANAAzAEEAWQBtAH4AigCTAJQAiQCFAHIAYwBLAEUASQBaAGwAewCHAJoAnACXAJUAkACFAHUAYwBRAFQATQBLAFIAXQBzAIcAngCzAM0A4wD1APsA7gDmAMkAvwCfAH4AbwBnAGcAbQB8AJgAsQDAALgApwCRAHIAWQA7ACMAEAAAAPf/9v/z//v/+P/3//n//f/9//f/6P/h/8//z//G/8b/xv/K/8z/zf/T/9D/2f/f/+L/4//e/9T/2P/d/9//4v/l/+b/7v/t/+v/8v/v/+z/4P/e/9H/vv+5/6z/oP+Q/4T/ev9l/2z/av9w/2b/cv91/4L/hP+M/5//p/+q/73/yf/d/+z/8v/y/wIACgAOAAMACQD//+//6//i/9j/x//J/8P/yf/E/8X/v//E/9L/yv/C/7n/p/+Q/3b/Zf9U/0v/T/9Y/1v/af90/37/hv+V/6f/s//A/83/vv+8/7X/r/+s/5z/h/94/3D/bP94/47/rP/C/9n/6f/5/wcA///6/wIACAAHAPn/5//N/7j/p/+k/6z/vP/R/+D/+f8DABwAJgAzADAAIgANAPv/6//y//D//P8FACAAPABQAGgAeACCAH0AewBxAGoATwBCAD8ANwA3AEEAPgBFAEkAVQBYAFwAYABgAGIATQBDACsAGwAWAA0AEAAaACQAJQAqAC4ALQAlACsALQApABsADwAIAAoAAAD4//L/9P/8/wIAAwACABgAIgApADQAPABIAEsATwBUAFcAVQBVAFkAWQBSAEgAPAAwACYAMAA4AEwAYQBpAHIAeQB+AHUAYABMADcAIgAVAA0ACgAEAAsADQAVACQAJgAqAC0AJQAgAB0AGwAcABQAFQAMABEACwAKABQAHwAtAD4ASwBDAEEAPAAzACwAIAAbACQAJQAoADMARQBTAF8AYQBuAHkAgACIAI4AlACOAIwAhAByAHEAZwBVAEgAUQBXAF0AbACCAJYAtADHANgA3ADYAMYAtgChAH8AeABqAG8AZwB0AIcAowDCANEA4ADmAOkA3gDXAL4AqQCOAH8AdgBuAGkAYgBgAGUAaABkAGMAYQBaAE8AQAA5ADAANAAyACoALQAwACsAJAAhABoADQAHAAcABQARABMAGAAiACUAFgAEAPb/8v/r/+j/1//U/8z/x//K/8T/yv/J/8r/yv/A/7b/rP+k/6L/pP+X/6P/oP+W/53/lP+a/4z/if+M/4j/hP+A/5f/nf+g/67/tP+y/6v/sv+0/73/vP/C/9D/0//o/+7/+/8FAAwACwANAAoABAAHAAYAEgAqADkATwBeAG0AeQB/AHsAhwCJAIIAdgB0AF0AQgAxADAAPABDAFcAXgBsAG8AZgBVAEIAKgAfABsAIgAsADcATgBhAIMAnQCvALwAzADKAL4AtwCaAIIAdABXAEkATABGAFAAUwBVAGQAYwBhAGwAZQBZAEIAMgARAPb/7f/k/+j/+f8BABMAFgAkADAAOgBDAD0ALgAPAO3/yP+z/5n/kv+G/4P/jP+d/7D/sv+o/5f/iP96/2L/Wv9U/2j/c/+B/5H/jv+V/5b/kv+N/4n/jv+S/5L/mv+s/7z/v//F/87/0P/F/7z/rP+l/6P/mv+h/6v/rv+4/8r/1v/e/+b/6P/t/+T/0v+9/6v/n/+S/6H/rv+6/8D/3f/w//z/DgASAAkAFQAUAA0A8v/o/9b/0//R/8v/1v/T/9j/2v/N/8r/q/+Y/4b/ev9u/17/ZP9v/3r/gv+b/6L/sf/A/8n/2f/g//H//f////b///8BAA4AHwAoADYAQgBTAGgAiACQAKkAygDaAN4A5gD2APYA9gDuAPEA8wDxAN8A5ADbAOIA8wAKASEBLgE3ATwBMgEnAQgB4gDHALUApACXAJsAoAC7AMwA3gDtAPsAAwEEAQAB+ADpAN8AzgDJAL8AuACyALIApgCjAI0AhACGAIIAfQCCAHsAhQCRAIoAfgBqAFMANAAcAAcABwADAPz/8f/z//7/+f8CAAwAJwBCAFMAXQBhAG8AYQBIADgAKQAeABsAGwAfACwALQAoAB8ACwD5/+D/z/+5/57/nP+T/5L/jv+W/6D/pP+k/5v/oP+Y/5f/jv+L/4v/mP+u/73/zP/S/+D/2v/X/9T/x/+7/7P/rP+y/63/pf+g/6f/rP+y/7L/t/+7/7//v//H/8z/zv/T/8//1//k/+z/7f/1/wcADQAKAAcA/v/8/+j/4//o//D/9f/6/xEALAA3ADgANAA1ADYAKgAeABwADAD9//j/7//q/97/4//r//z/BwAPABkAGgAbAAwA///v/+z/6//g//D/AAAWACsAPgBWAFcAVgBSAFMASAA6ADEAJwAcAA8ABwAJAAcADwAUAA0ACQATABsAGwAVAAsAFgAUAAkA9v/u//L/+f/1//3/GQAUACYAKwApACUAGAAIAP//8v/p/+v/6P/2/wMADwAVABIA/v/2/9//y/+6/6n/rP+v/8D/2//o/+//6P/j/9r/yP/C/8f/vv/C/8P/uf+n/6n/sf+4/8n/3v/o/+//8v/x//P/6//Y/9D/0f/O/+D/6P/7/wkAHwApACgALgA2ACwAKAAkAB8AIQAcACkALwA+ADoARgBGADMAHwAcAB0ADwARABUALwA6AEgAVgBcAG0AeAB5AHEAcABcAEwAQgAzACsAJQAvADAAQQBLAFsAbgCAAIsAkQCUAJAAjAB+AG4AWwBGADEAIQAhACUAJwAdACAAHQAZAAUA8//p/+r/6P/n/+T/5v/s/+b/7f/s/+T/2f/C/6L/lP+M/33/d/9n/13/SP82/zD/MP82/y7/NP8t/yj/JP8U/xL/Bv8C//n+8/72/vT+Cf8Q/xn/LP8v/yf/Hf8W/wv/Cf8H/xH/Hv8v/0H/Wf9q/33/if+L/5//nP+p/7T/sP+5/7P/wP/J/9r/6v/9/w8AEQAuAEQAUQBgAGgAcwB7AHYAewB8AHsAeACBAI0AnwCxALkAxgDUANgA2gDVAMkAvQCvAKsAsQCzAMgA1QDmAAIBDQELAQkBCgEHAQEB9QDvANsAvAC1AJkAlwCZAJ4AnwCuALkAwwDbAOcA7QD4APEA4ADGAK8AoACdAKQAqACkAKYArACrAKYAoQCaAJAAgABoAGcAWQBTAE4AQQA+ADEAHwAKAPP/2f/B/8T/x//R/97/9f8EAAcAEwAUABIABAD8/+v/4P/R/8j/v/+//8r/0//k//H/+P/9//n/9v/v/93/1//H/7X/rv+k/5D/jf+Q/4r/hP+L/5r/pf+r/7z/yP/P/9T/z//R/9P/y//B/7b/t/+1/7D/r/+w/7H/vv/I/9f/4f/j/+n/6//p/9//y/+7/7z/tP+s/6X/pv+a/5r/pf+u/8D/zP/b/8//1//I/7v/v/+7/73/rv+k/5X/j/+I/4X/hP9+/3z/b/9g/0f/MP8j/xT/G/8e/y//Qv9Y/3D/gf+R/4n/hv91/2P/YP9c/2j/cv+O/6D/t//E/9T/5v/j/+v/7v/0/+z/6P/o/9v/0P/J/7//vP++/9P/7v8KACQAQABRAFQAVgBaAF0AUwBHAEEANQAsABEA9f/c/8v/yf/Q/+H///8bADMAQQBGAEgAOAAoAB8AFgAFAP//9v/r/+H/5f/w//b/+P/9/wkACAAJAAEA///2/+n/4v/d/9T/zP/G/7z/tv+4/77/uP++/77/uf+y/5z/lP+P/5L/mP+f/6X/r/+2/8X/x//I/8r/xP/A/7r/xv/N/9D/0//I/7j/q/+i/5n/iv+R/47/lv+P/43/j/+L/43/mP+u/7//0P/X/+D/5v/u/+7/6//b/8n/v/+1/6z/tP+7/7r/wP+7/8T/t/++/8f/0P/k//j/EwAwAEUASgBVAE8ARgBDAD4ALwAzADYAQAA9ADwARgAwACcAGAAEAAoACAAUAA8ADgAYABkAHwAoADAANwBOAFsAdwCOAJsArACkAKoApwCjAJcAkwCQAJAAlgCVAKEAqACoAKwAmgCTAIkAfgB/AH4AhwCCAIwAiACGAHgAbwBfAFIASABJAEQAPABIAEYASQBKAEoASwBgAGUAcAB/AJAApACuAKwAqAChAIwAewBnAEsAMwAfABQABQD3//T/BQAhAEQAXgBuAIcAkACJAHEAYgBNACEA+v/a/8X/sv+x/7r/xP/Y/+7/AAARABcAFAATAAMA7//Y/8z/vf+3/7v/y//W//H//P8DAAsAAAD2/+r/2f/O/8r/wf/D/7//wf/K/8//y//G/7X/qv+n/5//qf+g/6H/oP+t/7r/wv/L/9T/6P/w//X/9f/t/+//8v/8/w8AKwBAAEkAXwBgAGQAZwBeAFAAPgBAADoAPAA8AD0ALQApADAANgBMAFcAbQBxAHMAbQBkAF4AOwAtABgACQDx/+v/3v/f/+v/8v/4//z/BAAJAAsAAgADAPn/9//4/+j/3P/g/+T/5P/d/9v/3v/e/9n/2f/q/+j/6f/0/wgAHQAmADAAPQA7ADMAJQAYAA8ABwAAAPz/AgAAAAEACgAQABQAFAAOAP7/7P/h/9T/zf/a/+z/CAAsAEMAXABvAHgAegCEAG8AZgBZAEAAKwAfAB4AKQA0ADcAVABaAGEAagBxAGsAWwBFADkALwAYAAcA+P/z//T///8CAAsADAASABEAHwAVAAYA+v/u/97/1P/O/8z/zf/E/7v/uP/G/8T/0f/e/+P/5f/f/9r/zf/B/7r/qf+a/5D/hv+M/4D/hP99/37/gv+C/4X/fv98/2b/XP9O/0r/Uv9Z/2P/Wv9f/1//Xv9b/1z/Vv9a/13/Yv9z/3D/fv+J/5L/lP+S/5v/lv+J/43/iv+M/57/sP/E/8z/2//s//v/BwABAAMA///q/+H/1//U/9r/5//9/w8AJAArAC0AJwAbAAcA9//i/9f/yf/Q/9D/3v/u/+//+v////L/6P/o/+T/5f/s//X///8LAAsAEQAeACcAMgA9AEMASAAzADMAJQAiACoAJgA3AD4ATwBaAHMAkQCsAMEAzgDfAO8A6QDpAOcA7gDkAOkA+QD9AAYBBwENAQkBBwH3AOwA3ADKALkAogCaAJgAmwCkAK4ArAChAIQAZABFADsALgAkACoAPQBIAFMAbgCAAJQAowClAKsApwChAJ4AlgCRAI0AiQCCAIUAgwB9AI4AmwCtALwAugC6AKYAkACJAG0AUABBAC4AIQAQAAEAAAAGAAQADQALAAMA/v/3//b/8//2//7//f/+//b/8v/v/+f/9f/3/xMAJgA3AE8AVABeAFQATQBAACwADQDu/97/zv/U/+L/9v8MACQAPwBPAFwAaABjAFgAMgAFAN//sf+K/2v/ZP9h/3H/ff+P/5T/mf+c/4//gf9+/3P/Zv9e/0//Tf9A/zX/MP8//0r/XP9l/23/bv+B/3z/if+I/4X/f/99/3P/Y/9X/0P/Ov80/yn/Gv8U/wn/E/8V/yj/LP8z/0r/Sf9O/1T/X/9f/1b/Wf9a/2f/bP9+/4v/kv+b/57/oP+P/4H/dv9m/2j/cf9+/4f/oP+1/9X///8kAEoAWQBlAGUAZgBeAE0APwA1ACkAHQAbABwAJgAwACkAHgASAAAA+f/p/9v/1//a/9n/2v/W/9b/2v/Z/+T/5v/5/wgAHQA6AFIAbwBxAHEAeAB2AHMAcgBzAH4AegB3AHgAeQB7AHUAcQBuAG4AZABeAGMAYABTAEYAPgAyACgAHQAQAP7/9f/6//7/CgANABYAFQAmACsAMQA6ADMANgA2ACwAKQAtACcAJgAoADUAOgBCAEcAPgA6ACUAHQAIAPn/5f/n/+L/6f/u//7/BgAHAAQAAwDx/9//z//D/8X/vP/C/8//4f/n//v/DAAiAD0ASwBaAFUAUABBADEAJwAcABkAGgAXABIAFwAVABUAHQAiADMANAAxADAANwA1ACsAJgAVAA0ACAAJAA4AHQApADEANwA3ADMAKgAmABIAAADy/+v/6f/q/+//9/8HAAsAFAAWABEAFQAUAAoAAADt/9X/w/+2/6j/of+j/67/wv/P/9T/3P/R/8T/r/+q/63/sP+8/9b/1//n/+//6v/q/9r/yf+1/6D/jf+B/2z/av94/4j/n/+1/8L/zP/L/8H/rv+X/37/a/9e/07/S/9S/13/b/9+/4T/iv+Q/5n/l/+S/5b/nv+g/6H/tv/G/9T/7f8HABsALAA3AD8APgA8ACYADQAAAPb/+v///xoAIgAeACIAIgAlABsAGwAUAAoA/f/6//z/+P/z/wAAAwAIAA0AGgAjAB0AFQAaABcADgATABAAIQA/AF0AdACAAIkAhQB1AGsAVwBBACgAGAD6//b/AwAKACYAQgBTAFoAbQBqAGYAYABLAC4ACgD1/+b/3f/t/wAAFwAqAD0AXgBiAFwAWQA7ADAAKQAwADkARwBSAF8AVgBYAE4ASAAxABwAFAD8//f/7//5/wAAEgAtADwAVQBgAEoARAArABEA+v/u/+P/7/8HABMALgBFAFwAZgByAHIAawBlAFEAPgAsABgAEQAVAB8AIwA8AEEAWgBhAGwAcABgAFgASQA8ACgAJgAVAAMA9v/x//3/CgAUACwAPABEAEgASwA5ACwAGwAYABIAAAAGAAAA+P/l/9j/1P/P/9X/2f/m//b//v8LAAgAAAD///f/9P/p/93/yv/F/8n/1P/l//b/BgASABUADwAUAAwABwAFAPv/8//q/+f/7f/x/+7/9/8SACYAOQA0ADsARQBHAEsATQBMAFIAUABMAE0ARgBCAD4ARgBMAFsAVwBVAFIATwBOAE4ASQBJAEQAPAA3ACkAFQADAPb/5P/W/9D/yf/S/9T/3f/t//H//f8FABUAMAA4AEAARQBCADsAMAAtAB8AHwAjACwANAAvACwAIAAbABUAEAANAAMA+f/v/+n/7v/z//v/CAAVACoAPABNAE8AUQBQAEcAMgAeABMACQAGABIAIgAvADwARwBMAEYARQA9AC4AHAALAAcA8f/e/9X/yP+//7j/wv+//8v/2//h/+f/6//1//r///8CAAEA+f/4//D/5//Z/8H/tf+z/6z/tP+n/6L/rv+1/8H/1v/h/+v/9f/+/wQACQD8//P/4v/f/9r/yf/G/8n/1//e/+z/8//u//n/9v/9/wMABgAWABgAHwAwADUAKwAuADAAKQArACAAHwAhADAAUAB0AIwAoQCvAKgAqQCkAJsAoACQAIkAjACQAI4AlACeAKQAqACsAKsApACmAJgAkgCIAH8AdQB3AG4AbABiAFkAXQBZAFoAVABYAFYAVgBIAEoATwBEAEEAMAAiACYAMQA1ADMARgBSAFMAVQBFAEMAOwAwACkAHAAYABQAGAAmACoAIgAaABEACgABAAMA+f/y/+T/0P+7/6j/nv+Q/5r/lv+h/5n/lv+a/4z/iP93/2b/Vf9H/zz/Mf86/0P/U/9m/4D/pf/M/9//9/8TAB8AIQAWAP//6v/H/6P/j/9x/2f/a/90/4L/nP+1/8T/2//g/+D/1v/C/6n/jv9z/1z/Tf88/0n/Uf9t/5H/q//P/93/+f8EAAwADwD8//H/5v/j/+T/5f/q//j/AAAHAAoAEAAPAAoA/v/5/+//9f/8//X/8f/3//z/+/8HAAoAEQAeABUAFAAcABkAEQALAAgABwADAAcADQAXACAAJQAgAB8AHgAYABgAFAAgACkANABFAE4AVABWAFIAPAAjAA8AAADv/+j/5//q//P/8//0//f/7//l/9f/u/+o/5z/mv+R/4r/kP+f/7P/u//P/+D/8P/3/wUAEwAUAB8AIwAtADAAKQAsACYAIgAdACsAKQAkACkAKgAlABoAFAD9//f/7f/i/97/3v/h/+7/8P/9/woAEwAdAC0ALwA2AEAASwBOAEcAOwAtABAA9//h/+X/7f8FABsAMABMAGAAdABzAHgAcwBZAEMAMAAbAAoACQAEAAoABAAIAA4ABwAXACEAKAAzAD8ARgBPAFMAXgBxAHYAcABsAFcAUwBPAFUAcACIAJMAngCpAKsAsQCqAJ8AnQCVAI4AjgCJAJAAjQCUAJQAlACSAIsAkQCNAJkAnAChAJoAhQBxAFEAOgAuACwAKgA6AEwAUwBZAFkAWABHAEAAKwAbABgABQABAPn/4v/a/8b/tf+8/8b/yP/Q/+X/9v8GABIAGgAbABgAEgANABEADwAPABgAHAAfAB0AFwAJAAEA7f/h/9n/1v/K/8D/yP/P/9v/5f/6/w0AFQAeAB8AEgACAPb/7v/n/+H/w/+8/73/0P/U/9b/8v/3/wkABwADAP//9//1/+//7f/2////CgAcAC0AMwAoABkADgALABgAGwAlACwANgBDAD4AMgAeAAQA8//f/9b/yf/D/7v/vf/E/8P/xf+5/6//r/+f/5j/nP+V/5P/jf+K/4n/iv+P/5X/nP+b/5L/jf+M/4n/lv+O/5L/hf93/3D/Y/9Z/1r/WP9b/1z/W/9p/2z/cv98/3//dv9o/0z/Sf9i/3L/gP+X/6n/w/+//8D/yP/a/+f/5P/p/+3/4P/a/9n/0P+5/6L/nP+P/4T/hf+W/7T/1//x/xUALQAtACwAGwAHAPb/2v/P/87/0P/c/+f/9f8MABEAFAAOAA4ACAD5/+z/6P/l/+D/3f/b/9v/4P/n/wEAGAAzAEIAWQBtAGkAagBWAE4AOwAsAB0ADQAAAPT/7//u//n/AQAXACgAPwBNAF0AXQBbAEgAKQAVAAMA7P/i/9P/2v/o//n/FAAeACoAMgA4ACwAMgA4ADUAKQAUAAkA/P/7//f/6f/k/9r/1P/K/8j/0//g//b/+f8HAAQA6f/a/8v/v//B/8v/1P/i//X/BgAXACIAJQAfABMABQDx/+z/2P/J/8L/uP+5/8L/yf/T/87/3f/o/+n/+P/6//j/9v/4//P/8//w/+X/2//P/8n/u/+d/4z/e/9e/0v/Pv8t/yr/Gv8X/xP/JP8v/y//Pf9N/07/VP9W/1r/Xf9W/1r/Y/9i/2n/b/93/3//i/+T/6H/tf++/8z/5//v/wMAGgArADsARABKAEgASgBKAFEAVQBTAGMAYQBwAIEAmACrALcAxwDVANoAzwDUAMoAvwC3ALQAvQDGAMgA1QDgAOUA5wDrAOUA2ADYANQA0ADYAOQA5AD6AAoBIAEtATQBRgFUAUYBPAErAQ8B+wDcANEAwgC/ALwAvQDBANEA2ADYANsA2gDDAK8AlgB4AFMAOQAxADQATQBmAIkAoQCyAMMAwwC7AKAAggBpAEkALAAOAAoACgAPAB8AMgBHAFcAYABUAE8ARAA0ACQABQD1/+L/4v/n//n/CAARABwAJQAmABYAEAAIAAEA///o/+f/5P/Y/9H/yf/F/7v/sf+y/7H/s/+u/7z/yf/Q/87/zv/J/7j/sP+i/6P/jP9+/3r/e/92/23/if+d/6v/tf+0/8L/vP+y/6P/jv98/17/S/86/zn/O/9H/0v/Uf9j/2n/dP+H/4z/kf+W/5j/kf98/2z/Yv9W/0v/Sv9K/07/Vv9s/3P/g/+Q/6f/tP+3/7f/tf+t/7L/rv+q/6H/qv+4/7n/wf+1/73/uv/C/8r/2//k/+X/8f/v//b/AgD+/woAEQAkAC0ALQA7AEAAOgAwACcADQD9//b/AgAOABsAKgA8AE8AYgBvAHUAawBqAGIAVQBNAEAAPAA6AEAASwBSAGMAeACGAJAAmwCsAK8AtAC5AMcAywDQAMcAvgCnAJ4AigB7AG0AZwBeAFkAVQBYAFkAXQBdAFcAXABaAGQAcAB4AHsAeQBzAHQAZQBrAHgAeQCFAJMAowCrALIAvAC3ALYAtQCtAKoAmQCBAIEAegB0AHUAgACKAJUAsACyALYAsQCXAIUAbwBeAEIALwAkACMAJgAsADEAQgBRAF0AYgBjAGAAVABVAEYANgAfAAgABwAKABkAKAAyADIAMAAmABYADQAHAAsADQAPAA0AEQAPAA4ADwAMABIAFgAKAAUA9v/e/9L/yf+1/6P/nP+V/5n/m/+i/6f/pv+n/6P/k/+G/4L/df+E/4H/eP97/4X/jf+P/53/nv+u/7P/s/+5/8L/yf/H/8T/zf/T/9T/0//S/8r/t/+t/5b/k/+O/5b/of+k/67/uP/F/9T/5f/r//b/9v/5//T/AgAIABUAIQAwADkAMwA+AEIARwBFAEQATABKAE4ATwBfAGQAawBjAFwAUQBIAD8AOgA+AEQARQBMAE4ATABTAFIATwBcAGEAWgBaAFUASwBIAEMAOgA5ADIAQABJAFMAYQBqAGwAYwBQADwALQAWABIACwANABAAHgAeACkALgAbABQAAgD2/+f/4P/Y/9j/4f/l/+//9v/z//f/+//9//D/7//p/+3/+f/8/wwADQAVACMALAA4AEEARgBEAEMAKQAjAA0ABwD9////8f/x//T/8//z//X/9v/t/+D/1//O/8L/uP+z/7H/q/+3/7b/sf+3/7H/sf+h/5b/nv+V/5r/kv+f/6X/sv+3/7r/s/+z/7P/mv+K/3n/d/9r/1v/VP9O/0j/Vf9n/3H/fv+K/5r/nv+q/5v/mv+k/6T/rv+x/7//xf/P/9b/5//4/////v8AAAEA6v/k/+T/4//r//r/+f8CABEAEQAcACEAGQAoAB8AKgApAC8APgBBAEsATQBTAF4AYABgAGAAXwBbAF0AWgBYAEcAPQA5ADUALQAkACcAIQAcACEAHAAkADQAPwBEAEIARQA7AC4AFgAVABcACgALAAEACQAHAAkAFAAVACoAQQBLAEgASAA6ACUAIgAiABYAFwAkADEAPgBPAFkAZQBrAGAAVQBIAEsAQwBEADgAMAA5ADoAMgAsACAADAADAPP/6f/h/+n/BQASACAANQBKAFoAUQBLAEUASAA6ADEAMAA4ADwAPQBMAFsAcAB1AHcAfAB9AHUAbQBcAFkARQAuABoADwD5//P/7//1//f/9v8SABcAFgAZAA8ADAADAO7/7f/x//H/9v8BAP3/AQD+//r/+f8AAAcADgAYAB8AJgAcAB4AEgAIAAAA6//m/97/1f/S/9H/0f/N/9L/0v/M/8X/zP/M/8H/yf/D/7j/tf+1/7X/r/+//8X/1//e/97/4f/e/93/0//S/8L/uv+q/53/kf+B/4P/gv+H/4//jf+M/5L/kv+U/5L/h/95/3X/av92/3b/ef+J/5b/o/+l/7v/xf/K/8z/1P/Z/9b/4f/r//X/9f/r//T/7f/y//7/BQAWACAAIgARAAsABAD9//P/4f/U/8b/r/+s/6//tP+4/7r/tf+2/73/v//L/9z/6P/o/+b/6f/p/9z/2v/X/77/rf+g/6f/rv+1/7n/u/+4/7//vv+v/7v/wf/E/9T/yv/Q/9P/0//k/+n/5P/l/+P/5v/3/wYACAAbAB0AIwAoADUAPQBAAEgAQwBFAEcAQQBGAEMARQBQAEwATABNAFYAVwBWAFwAXQBXAE8AVABRAEwARgBCADgAMwAzACMAFQARABUAFwAoADIAPQA2ACoAHAAGAOz/5P/Q/8r/yv/W/+P/8/8JAB8AKgAnAC0AHAAHAPz/5P/S/8H/rv+g/5T/l/+Z/57/lP+Q/5D/h/+M/5H/lf+j/6T/of+m/67/v//E/8L/vf/F/7X/sv+t/7H/rv+x/8P/0v/a/97/6v/s/wAA/f/9//3/AAD0/+r/5P/Z/9D/0P/U/+D/9f8AAAoAEwANAP3/8f/t/+//8/8RACYANABOAF4AagBeAEkANAARAPz/4f/i/+b//P8VAC8AUABwAIoAigCXAI4AhAB4AGQAWQBCAC0AMAAyADIAOwBBAE8AVgBdAFgAUgBTAFEASwBIAD4AOQBEAEcAUABbAGAAYQBiAF0ASQA+ADcALwAqACoAOwBBAEQAUABWAFEASgBAADYAMwAkACIAFAAGAAMA/v///wQAEgAcAC0AOwBAAEUAQQA4ABoABADw/+P/2f/F/8n/1P/Z/+v/7f/3//z/9//r/9P/u/+n/5P/f/92/3j/jf+g/7b/yv/r//v/+f/9//7/8//o/9b/xP+8/7j/s/+x/8v/1P/k//X/+f/7/wAADwARAB0AIwAbABsAGQAXABYAFQAdACAAJgAsAC8AKAAiABMACgACAPX/8//v//z//v8IACEAPQBZAGEAcAB1AGwAZwBaAEwAOgAhABMACwAHAP//CQASACUAKQAsADcAQQBHAEEAQwBEADgAIQAJAPr/5P/d/9L/yf/J/8X/uf+6/8r/z//e/+v/+/8OAA8AHAAhAC0APwA9ADoAMAAnACQAIwAmADIARwBMAFAAVABRAE0ARgA7ADcAMwArACIADgACAPL/4P/V/8r/yv/G/8H/x//A/8D/wv/D/9D/4P/s/+3/8v/t/9z/1P/O/83/zP/X/97/1P/Z/+f/6//z/wcAFwAlADcAPwBAAEsATwBNAEMALQAYAAQAAAACAAcADgAZACAALQAxAEQAUQBXAGIAUgBHAC0AEQDz/97/y/+9/8P/0f/m/woAKABGAFgAVgBLAEQANQAcAAkA8//m/+L/4//q/+X/7v/5/wcACgAYACUAKQAzAD8APgAsAB4ADQAKAPz/9v/y/+j/3v/Y/9f/0v/U/+H/6f/1/wAA0v/d/9v/4v/a/9P/vv+z/7X/s/++/8P/wv/M/93/5//4//n/BgABAP//CwARAAgAAwD2/+v/5P/o/9v/5v/x//3/DQAYACMAGgADAOv/0v/A/7j/qv+q/7r/1f/t/wUAEQAlACoAHQAJAO//3v/B/7D/o/+D/37/gv+N/6H/sf+//9L/2P/i/+T/5//b/9D/wP+y/6j/kf+b/5n/of+//8X/1v/k//j/+v////T/3f/O/7z/vf/J/87/3v/r//T/5v/i/+z/7v/s//D//f/5//z/+P/4//b/9f/v/+n/5P/k/+r/6//8/wMABwAbACUAOAA1ADoALgAbAA4A+f/r/+z/6//7/wAACgAYACsAMwBGAE8ARwBEAEMAQAA9ADEALgAcABMABwAKABUAEwAYABYAIAAfACMAJwAoACAAIwAdABsAFQAVABwAFQAeABwAHAAEAPL/5//e/9D/yP/M/8j/xP/Y/+3/8/8FABMAFQAZAB8ALAAqAB8AKgAoAB8AEgAHAPv/6P/f/9n/3v/m//X/CgAVAC4ANQA8AEAASgBIAE8ARgA/AEEANwAnABkAFAALAAwABgAAAA8ADgAQABIAEQAUAAUA/f/0/+z/5//Y/8b/yv/I/6z/oP+h/6f/rf+3/8L/0v/f/+j/9P/r/+T/4//e/9f/0//b/97/5f/n/+H/3v/d/9j/2v/T/8L/vf+w/6v/qv+1/8f/2f/r/+//8f/r/9b/x//K/7v/wf/L/9P/4//t//7/AAAEAAAA///9//T/2P/N/8T/u/++/7P/tf+9/73/wv/Q/97/6//t//X/+P/0//f//P8KABAAGQAnAC0AKQAqACQAHAASAA4AGAAJAAcABwD4/+3/0f+7/7L/rf+k/5//qP+i/6r/tP/M/87/2f/Z/+z/+P/+/wMAAgAEAPz/BAD5//b/+/8HAAwABwAJAAsAFwAgAB8AHwAkADIAKwAfABAACwAFAAoAAQAEAAoAAQD5//n////5//r/+//9//v/7P/s/+//7f/t//L/9//9/woAFQAYABgAJwAzADsAPABFAE8ASABCADgAPQBCAEwATgBFAEwASwBDADAAJgAVAAEA+f/1/+r/4//f/9z/2P/J/8v/z//H/8L/xP/N/9L/yv/C/77/vP/D/9H/6f/4/wgAGwAxAD0ASQBLAEgAUgBBADIAIAAOAP3/4v/d/9//2v/i/+3/+v8RAAkAAgD5/+z/0P+u/5X/l/+Z/5j/o/+6/9f/3v/o//T/+P/5//P/9f/q/+f/4f/b/+D/1P/R/8H/wP+9/8X/y//Y//D/AAASABUAGQAQAAUA9f/a/8b/tf+1/7v/vP/V/+P/8f/5//r/BwACAPz/5f/Y/8n/uv+o/5r/j/+G/4v/kv+e/7n/0P/r//b/AADy/9j/tv+g/5b/jf+N/5H/of+z/8P/0v/Q/9j/1//M/9T/3f/c/9n/0P/M/7z/tf+v/7L/tP+0/7f/vf/N/8v/yv++/8L/vv+y/67/n/+q/6//pP+g/5n/i/+O/4n/jP+U/6L/sf/C/8z/2v/R/8j/vv+z/6D/jv+I/5D/oP+x/8f/2v/r//f/CgASABcAHgAeABgAGwARAAQA8P/l/+D/1//i/+X/+//4//X/6P/e/8b/rv+Z/5D/jP+I/5L/pP+9/9f/7/8DABcAGAAdABUAFQAEAPT/+P/x//X/7v/0/+7/+f/7/wkADQAYACEAIwAtADMAQQBFAEUAPAAzADAAKgArACkAKwAqACEAJQAmACgAHQAbAAcA/v/z/+r/7//r/+7/+//7//z/CAAYABgAGAAYABcAIAAVABsAIgA2AD4AQgBWAGIAbQB+AJIApACtAKsAqACdAIMAawBiAE0APwAxADUALgAtACgALAA3AD0ATABWAF4AZABWAEoAOwAvABwADgALAAcAAwAAAAkADwAcACUAOgBMAE8ASQA9ADMAKgASAAEA8f/v//b/+f8DABYAIgAxAEsAZAByAIQAiAB+AGsAWAA4ACcADgADAPb/5P/Y/87/3P/i/9v/6P/3/wYACwAhADAANwA4AC8AMgAoACUAFQASAAsABwARABEAHgAkADIALQAwADYAQABCAEEAQQA5AB0AEAD4/+L/yf/A/7P/pv+m/5n/lP+k/67/u//F/83/0//U/9T/zf/G/8P/uP+n/6r/sv/D/87/4v8AAAoAEQAiABcAEwAGAPf/5//G/73/sf+l/6b/qP+9/9f/6f8HABYAGgAaAA0A/v/y/+r/3//d/9r/2P/L/7X/rP+n/7b/rv+n/6//sf+v/5//lv+U/4z/gv9//3j/d/94/37/gP+C/3v/dv9t/2r/cv+L/5T/of+4/8P/yv/N/9P/1//G/7//pf+U/4X/ff92/3r/iv+O/57/ov+l/7P/ov+r/7L/qP+k/6r/qf+r/6D/nf+W/5X/m/+e/6z/q/+0/7//yv/e/+//AgAIAAoADgADAAEA+v/0/+f/3v/m/+b/7/8CABMAHAAvADMAQQA7ADkANwAvACYAFgAFAPL/5P/T/7n/vf/E/8X/xf/Q/+H/7//9/wwAFAAXAAwA9v/u/9P/vv+5/7j/uP/L/9//BAAMACMAMAA8ADcANAAyADEAJgAYAA4ACAASABIAKAAwADgARgBPAFAATwA8AC0AGwAOAP3/8/8GABAAGQAlADAALAAXAAkADgD7/+3/5f/d/9v/0v/P/9L/1v/T/9D/3f/l//v/CQAYAB8AGwASAPj/8//o/9f/1f/j//P/BAARABgAGQAVABsAGQAgACMAJQAhABYAEwAEAPf/7//v//z/AAAHABYAKgAuACwALQAsADIAKwAuADUANgAyADAAJQAdABQABAD8//j/+f8NACAAOQBLAE4AWQBlAGYAWgBMAEQANwA0ACoAJgAcABUAFAASABIAEwAfADIAMAA7ADsAPgA+ADMAKwAlACMAGgATAB8AMQA6AD4APQA7ADYAJgAlACkALAA3AEIAVwBhAGcAbgBzAHIAYgBaAFYAUgBXAEwARAA0ADEALAA4ADUANgBBAEEAOwA1AC8AHgANAPr/5P/T/8L/vP+5/7z/yP/M/9T/2P/e/+H/2/+//7n/q/+d/5f/ov+p/7v/0f/Y/9X/yP/J/7j/tv+u/67/qv+i/5X/lP+Z/6H/tf+8/87/2//l/+f/5f/e/9H/2P/G/7z/s/+y/7X/sv+4/7z/x//Q/9P/zP/J/8j/wv/J/7//wv/P/9T/1v/V/9j/0f/W/97/7v/k/9v/1v/Q/8L/wv+1/63/of+c/5f/nv+m/7j/x//O/83/1f/V/9X/yf+9/7//uP+8/73/wP/J/8j/x//E/7X/rf+c/5n/oP+n/6T/n/+R/4D/ZP9a/1L/Vv9d/2z/fv+R/6P/sf/C/83/1P/f/+//8v/l/97/2//F/7T/nf+i/5z/mv+h/5z/rf+4/8H/x//S/9T/z//R/83/1P/k/+z/9v/1///////5/+z/7//q/97/3f/g/+///P8UADEASQBXAGEAbABsAGkAYwBlAFsAUABSAEcAQQBEAEcAWwBfAGgAagBsAHQAbABvAGcAYQBYAFQARAA3ADwARABJAEwAXQBtAGsAcwBvAGsAbQBvAGYAXgBSAEEAPgAmACcAIwA6AEgATwBVAFEASAA0AB0ACAAEAPb/6//6/wQABAD7//3/+P/s/+v/5//v/+v/8//x//f/+v/7//T/8v/q/+H/z//K/8b/1P/f/+7/BQAdADoATwBfAFAARAA2AB8A/f/l/+L/4v/m/+r/9v8DAA8AGwArAD0ATgBTAFEATwBIADoAJAAaAA0AEwAhACcARABoAIgApgC7AMIAyQDGALkApwCLAHwAdQBmAFEAOwAoACEAIQApADcAQgBCAEgAUgBPAEIANwA2ADkAMwAmACQALAA1AD8ARgBXAGEAXgBjAGAAVABPAE0ASAA+AEQARgA6ADgANgAzADoAQwBTAFkAaQBnAF0AWQBCAA==\" type=\"audio/x-wav\" />\n",
       "                    Your browser does not support the audio element.\n",
       "                </audio>\n",
       "              "
      ],
      "text/plain": [
       "<IPython.lib.display.Audio object>"
      ]
     },
     "metadata": {},
     "output_type": "display_data"
    }
   ],
   "source": [
    "for i,row in train_df.head(5).iterrows():\n",
    "    \n",
    "    labels = [ row[model] == row[\"text\"] for model in MODEL_LIST ]\n",
    "\n",
    "    row_df = (\n",
    "        train_df\n",
    "        .drop({\"task\", \"text\"}, axis=1)\n",
    "        .iloc[[i]]\n",
    "        .style.set_properties(\n",
    "            **{'background-color': '#aaffaa'},\n",
    "            subset=[model for model, label in zip(MODEL_LIST, labels) if label]\n",
    "        )\n",
    "        .set_properties(\n",
    "            **{'background-color': '#ffaaaa'}, \n",
    "            subset=[model for model, label in zip(MODEL_LIST, labels) if not label]\n",
    "        )\n",
    "        .set_properties(width=\"150px\")\n",
    "    )\n",
    "    ipd.display(row_df)\n",
    "    ipd.display(ipd.Audio(f\"data/audio/{row['task']}.wav\"))"
   ]
  },
  {
   "cell_type": "code",
   "execution_count": 10,
   "id": "0d79bce3",
   "metadata": {
    "ExecuteTime": {
     "end_time": "2022-05-10T22:39:25.595323Z",
     "start_time": "2022-05-10T22:39:25.515222Z"
    }
   },
   "outputs": [
    {
     "data": {
      "text/html": [
       "<div>\n",
       "<style scoped>\n",
       "    .dataframe tbody tr th:only-of-type {\n",
       "        vertical-align: middle;\n",
       "    }\n",
       "\n",
       "    .dataframe tbody tr th {\n",
       "        vertical-align: top;\n",
       "    }\n",
       "\n",
       "    .dataframe thead th {\n",
       "        text-align: right;\n",
       "    }\n",
       "</style>\n",
       "<table border=\"1\" class=\"dataframe\">\n",
       "  <thead>\n",
       "    <tr style=\"text-align: right;\">\n",
       "      <th></th>\n",
       "      <th>task</th>\n",
       "      <th>qnet</th>\n",
       "      <th>w2v</th>\n",
       "      <th>w2v_tts</th>\n",
       "    </tr>\n",
       "  </thead>\n",
       "  <tbody>\n",
       "    <tr>\n",
       "      <th>0</th>\n",
       "      <td>73aff8bc8d99278c6ca6d1ac243557e3</td>\n",
       "      <td>дели</td>\n",
       "      <td>зили</td>\n",
       "      <td>зили</td>\n",
       "    </tr>\n",
       "    <tr>\n",
       "      <th>1</th>\n",
       "      <td>ba8443f3cc91e56667278db36dea02b7</td>\n",
       "      <td>вектор упавнович чунула к лещенуму</td>\n",
       "      <td>виктору павловичу новокрещеному</td>\n",
       "      <td>виктору павлновичу навокрещинову  оо</td>\n",
       "    </tr>\n",
       "    <tr>\n",
       "      <th>2</th>\n",
       "      <td>af346fae1d5686a357e32710c5d4f13e</td>\n",
       "      <td>риме менниковой</td>\n",
       "      <td>римми мельниковой</td>\n",
       "      <td>рымми мельниковой</td>\n",
       "    </tr>\n",
       "    <tr>\n",
       "      <th>3</th>\n",
       "      <td>262fda7ab40a8417b99ecb314b3f7405</td>\n",
       "      <td>александровик провичо</td>\n",
       "      <td>александру викторовичу</td>\n",
       "      <td>александру викторовичу</td>\n",
       "    </tr>\n",
       "    <tr>\n",
       "      <th>4</th>\n",
       "      <td>08bd8fb35ceaf2843734ffeb389f2283</td>\n",
       "      <td>я ро славцов</td>\n",
       "      <td>ерославцев</td>\n",
       "      <td>ярославцев</td>\n",
       "    </tr>\n",
       "  </tbody>\n",
       "</table>\n",
       "</div>"
      ],
      "text/plain": [
       "                               task                                qnet  \\\n",
       "0  73aff8bc8d99278c6ca6d1ac243557e3                                дели   \n",
       "1  ba8443f3cc91e56667278db36dea02b7  вектор упавнович чунула к лещенуму   \n",
       "2  af346fae1d5686a357e32710c5d4f13e                     риме менниковой   \n",
       "3  262fda7ab40a8417b99ecb314b3f7405               александровик провичо   \n",
       "4  08bd8fb35ceaf2843734ffeb389f2283                        я ро славцов   \n",
       "\n",
       "                               w2v                               w2v_tts  \n",
       "0                             зили                                  зили  \n",
       "1  виктору павловичу новокрещеному  виктору павлновичу навокрещинову  оо  \n",
       "2                римми мельниковой                     рымми мельниковой  \n",
       "3           александру викторовичу                александру викторовичу  \n",
       "4                       ерославцев                            ярославцев  "
      ]
     },
     "execution_count": 10,
     "metadata": {},
     "output_type": "execute_result"
    }
   ],
   "source": [
    "test_df = pd.read_json(\"data/noisy_text_aggregation_test.jsonl\", lines=True)\n",
    "test_df.head()"
   ]
  },
  {
   "cell_type": "code",
   "execution_count": 11,
   "id": "dd5978f4",
   "metadata": {
    "ExecuteTime": {
     "end_time": "2022-05-10T22:39:27.837351Z",
     "start_time": "2022-05-10T22:39:26.384926Z"
    }
   },
   "outputs": [
    {
     "data": {
      "text/html": [
       "<div>\n",
       "<style scoped>\n",
       "    .dataframe tbody tr th:only-of-type {\n",
       "        vertical-align: middle;\n",
       "    }\n",
       "\n",
       "    .dataframe tbody tr th {\n",
       "        vertical-align: top;\n",
       "    }\n",
       "\n",
       "    .dataframe thead th {\n",
       "        text-align: right;\n",
       "    }\n",
       "</style>\n",
       "<table border=\"1\" class=\"dataframe\">\n",
       "  <thead>\n",
       "    <tr style=\"text-align: right;\">\n",
       "      <th></th>\n",
       "      <th>0</th>\n",
       "    </tr>\n",
       "  </thead>\n",
       "  <tbody>\n",
       "    <tr>\n",
       "      <th>0</th>\n",
       "      <td>алиби</td>\n",
       "    </tr>\n",
       "    <tr>\n",
       "      <th>1</th>\n",
       "      <td>сказка</td>\n",
       "    </tr>\n",
       "    <tr>\n",
       "      <th>2</th>\n",
       "      <td>найди в нете мульт стальной гигант</td>\n",
       "    </tr>\n",
       "    <tr>\n",
       "      <th>3</th>\n",
       "      <td>мона лиза</td>\n",
       "    </tr>\n",
       "    <tr>\n",
       "      <th>4</th>\n",
       "      <td>смотреть сериал восемь с половиной</td>\n",
       "    </tr>\n",
       "    <tr>\n",
       "      <th>5</th>\n",
       "      <td>вруби российский фильм мосгорсмех</td>\n",
       "    </tr>\n",
       "    <tr>\n",
       "      <th>6</th>\n",
       "      <td>найди на ютубе фильм меня зовут мохаммед али</td>\n",
       "    </tr>\n",
       "    <tr>\n",
       "      <th>7</th>\n",
       "      <td>можешь мне поставить мультфильм квадратные зве...</td>\n",
       "    </tr>\n",
       "    <tr>\n",
       "      <th>8</th>\n",
       "      <td>сваты побыстрее включи пожалуйста</td>\n",
       "    </tr>\n",
       "    <tr>\n",
       "      <th>9</th>\n",
       "      <td>рокетмен смотреть сериал рокетмен</td>\n",
       "    </tr>\n",
       "  </tbody>\n",
       "</table>\n",
       "</div>"
      ],
      "text/plain": [
       "                                                   0\n",
       "0                                              алиби\n",
       "1                                             сказка\n",
       "2                 найди в нете мульт стальной гигант\n",
       "3                                          мона лиза\n",
       "4                 смотреть сериал восемь с половиной\n",
       "5                  вруби российский фильм мосгорсмех\n",
       "6       найди на ютубе фильм меня зовут мохаммед али\n",
       "7  можешь мне поставить мультфильм квадратные зве...\n",
       "8                  сваты побыстрее включи пожалуйста\n",
       "9                  рокетмен смотреть сериал рокетмен"
      ]
     },
     "execution_count": 11,
     "metadata": {},
     "output_type": "execute_result"
    }
   ],
   "source": [
    "# Референсные фразы из того же домена (запросы к ассистентам), но без предсказаний моделей\n",
    "text_data = pd.read_csv(\"data/noisy_text_aggregation_text_only.csv\", header=None)\n",
    "text_data.head(10)"
   ]
  },
  {
   "cell_type": "code",
   "execution_count": 12,
   "id": "207730f6",
   "metadata": {
    "ExecuteTime": {
     "end_time": "2022-05-10T22:39:27.984184Z",
     "start_time": "2022-05-10T22:39:27.895114Z"
    }
   },
   "outputs": [],
   "source": [
    "# Получение хэша от хэша, по-уму, для разделения на train и test. Перемешивание выборки\n",
    "def hash_reminder(str_, base: int=10) -> int:\n",
    "    return int(hashlib.md5(str_.encode()).hexdigest(), 16) % base\n",
    "\n",
    "train_mask = train_df['task'].apply(lambda x: hash_reminder(x, 10) <= 7)\n",
    "\n",
    "val_df = train_df[~train_mask]\n",
    "train_df = train_df[train_mask]"
   ]
  },
  {
   "cell_type": "code",
   "execution_count": 13,
   "id": "db91ccc6",
   "metadata": {
    "ExecuteTime": {
     "end_time": "2022-05-10T22:39:27.993832Z",
     "start_time": "2022-05-10T22:39:27.985514Z"
    }
   },
   "outputs": [
    {
     "data": {
      "text/html": [
       "<div>\n",
       "<style scoped>\n",
       "    .dataframe tbody tr th:only-of-type {\n",
       "        vertical-align: middle;\n",
       "    }\n",
       "\n",
       "    .dataframe tbody tr th {\n",
       "        vertical-align: top;\n",
       "    }\n",
       "\n",
       "    .dataframe thead th {\n",
       "        text-align: right;\n",
       "    }\n",
       "</style>\n",
       "<table border=\"1\" class=\"dataframe\">\n",
       "  <thead>\n",
       "    <tr style=\"text-align: right;\">\n",
       "      <th></th>\n",
       "      <th>task</th>\n",
       "      <th>text</th>\n",
       "      <th>qnet</th>\n",
       "      <th>w2v</th>\n",
       "      <th>w2v_tts</th>\n",
       "    </tr>\n",
       "  </thead>\n",
       "  <tbody>\n",
       "    <tr>\n",
       "      <th>1</th>\n",
       "      <td>3c2875271fb918da312865549d444653</td>\n",
       "      <td>антонине татариновой</td>\n",
       "      <td>онпанине то тариновый</td>\n",
       "      <td>антонине татариновый</td>\n",
       "      <td>антонини татариновый</td>\n",
       "    </tr>\n",
       "    <tr>\n",
       "      <th>6</th>\n",
       "      <td>1254c97d2434297a886e4dc4b2a16863</td>\n",
       "      <td>илюши власова</td>\n",
       "      <td>илюши влассво</td>\n",
       "      <td>и люши власово</td>\n",
       "      <td>и люше власова</td>\n",
       "    </tr>\n",
       "    <tr>\n",
       "      <th>7</th>\n",
       "      <td>867e45b9a914fffff0c8ef976ee0a275</td>\n",
       "      <td>терехину</td>\n",
       "      <td>тере гину</td>\n",
       "      <td>терехину</td>\n",
       "      <td>терьехину</td>\n",
       "    </tr>\n",
       "    <tr>\n",
       "      <th>19</th>\n",
       "      <td>32d052f80c431869e7c13914b88f958e</td>\n",
       "      <td>айдарчике</td>\n",
       "      <td>а и дарчики</td>\n",
       "      <td>аидарчике</td>\n",
       "      <td>а и дарчике</td>\n",
       "    </tr>\n",
       "    <tr>\n",
       "      <th>21</th>\n",
       "      <td>719cbc316c0f3caa6324c110ad899b81</td>\n",
       "      <td>ксении валерьевны волковой</td>\n",
       "      <td>сени и воверивны в волколы</td>\n",
       "      <td>к сени и валеревны волковой</td>\n",
       "      <td>ксение ивалиревной волковой</td>\n",
       "    </tr>\n",
       "  </tbody>\n",
       "</table>\n",
       "</div>"
      ],
      "text/plain": [
       "                                task                        text  \\\n",
       "1   3c2875271fb918da312865549d444653        антонине татариновой   \n",
       "6   1254c97d2434297a886e4dc4b2a16863               илюши власова   \n",
       "7   867e45b9a914fffff0c8ef976ee0a275                    терехину   \n",
       "19  32d052f80c431869e7c13914b88f958e                   айдарчике   \n",
       "21  719cbc316c0f3caa6324c110ad899b81  ксении валерьевны волковой   \n",
       "\n",
       "                          qnet                          w2v  \\\n",
       "1        онпанине то тариновый         антонине татариновый   \n",
       "6                илюши влассво               и люши власово   \n",
       "7                    тере гину                     терехину   \n",
       "19                 а и дарчики                    аидарчике   \n",
       "21  сени и воверивны в волколы  к сени и валеревны волковой   \n",
       "\n",
       "                        w2v_tts  \n",
       "1          антонини татариновый  \n",
       "6                и люше власова  \n",
       "7                     терьехину  \n",
       "19                  а и дарчике  \n",
       "21  ксение ивалиревной волковой  "
      ]
     },
     "execution_count": 13,
     "metadata": {},
     "output_type": "execute_result"
    }
   ],
   "source": [
    "val_df.head()"
   ]
  },
  {
   "cell_type": "code",
   "execution_count": 14,
   "id": "b45b7a81",
   "metadata": {
    "ExecuteTime": {
     "end_time": "2022-05-10T22:39:28.120097Z",
     "start_time": "2022-05-10T22:39:28.112245Z"
    }
   },
   "outputs": [
    {
     "data": {
      "text/html": [
       "<div>\n",
       "<style scoped>\n",
       "    .dataframe tbody tr th:only-of-type {\n",
       "        vertical-align: middle;\n",
       "    }\n",
       "\n",
       "    .dataframe tbody tr th {\n",
       "        vertical-align: top;\n",
       "    }\n",
       "\n",
       "    .dataframe thead th {\n",
       "        text-align: right;\n",
       "    }\n",
       "</style>\n",
       "<table border=\"1\" class=\"dataframe\">\n",
       "  <thead>\n",
       "    <tr style=\"text-align: right;\">\n",
       "      <th></th>\n",
       "      <th>task</th>\n",
       "      <th>text</th>\n",
       "      <th>qnet</th>\n",
       "      <th>w2v</th>\n",
       "      <th>w2v_tts</th>\n",
       "    </tr>\n",
       "  </thead>\n",
       "  <tbody>\n",
       "    <tr>\n",
       "      <th>0</th>\n",
       "      <td>ed0f6706f75681a7915fec15d336aca5</td>\n",
       "      <td>дамира николаевича</td>\n",
       "      <td>дамира николаевича</td>\n",
       "      <td>до мира николаевича</td>\n",
       "      <td>домера николаевича</td>\n",
       "    </tr>\n",
       "    <tr>\n",
       "      <th>2</th>\n",
       "      <td>f3dba379c6280536aaa65a56c4358268</td>\n",
       "      <td>жидкову</td>\n",
       "      <td>жит куву</td>\n",
       "      <td>жит куву</td>\n",
       "      <td>жидкову</td>\n",
       "    </tr>\n",
       "    <tr>\n",
       "      <th>3</th>\n",
       "      <td>98962310d56cd7095d9893f5ed657f81</td>\n",
       "      <td>главатских</td>\n",
       "      <td>лалаки</td>\n",
       "      <td>главатских</td>\n",
       "      <td>главацки</td>\n",
       "    </tr>\n",
       "    <tr>\n",
       "      <th>4</th>\n",
       "      <td>b4f6a8d9e2eba8085d25d4122b52d55a</td>\n",
       "      <td>мошкова</td>\n",
       "      <td>мошкова</td>\n",
       "      <td>машкова</td>\n",
       "      <td>мошкова</td>\n",
       "    </tr>\n",
       "    <tr>\n",
       "      <th>5</th>\n",
       "      <td>6bde4ff468980a927dd4f2e0a48e587f</td>\n",
       "      <td>светлану магомедовну федоренко</td>\n",
       "      <td>светланамога медавно фитаренка</td>\n",
       "      <td>светламны могомедовно ветаренка</td>\n",
       "      <td>светлану магомедовну фитаренка</td>\n",
       "    </tr>\n",
       "  </tbody>\n",
       "</table>\n",
       "</div>"
      ],
      "text/plain": [
       "                               task                            text  \\\n",
       "0  ed0f6706f75681a7915fec15d336aca5              дамира николаевича   \n",
       "2  f3dba379c6280536aaa65a56c4358268                         жидкову   \n",
       "3  98962310d56cd7095d9893f5ed657f81                      главатских   \n",
       "4  b4f6a8d9e2eba8085d25d4122b52d55a                         мошкова   \n",
       "5  6bde4ff468980a927dd4f2e0a48e587f  светлану магомедовну федоренко   \n",
       "\n",
       "                             qnet                              w2v  \\\n",
       "0              дамира николаевича              до мира николаевича   \n",
       "2                        жит куву                         жит куву   \n",
       "3                          лалаки                       главатских   \n",
       "4                         мошкова                          машкова   \n",
       "5  светланамога медавно фитаренка  светламны могомедовно ветаренка   \n",
       "\n",
       "                          w2v_tts  \n",
       "0              домера николаевича  \n",
       "2                         жидкову  \n",
       "3                        главацки  \n",
       "4                         мошкова  \n",
       "5  светлану магомедовну фитаренка  "
      ]
     },
     "execution_count": 14,
     "metadata": {},
     "output_type": "execute_result"
    }
   ],
   "source": [
    "train_df.head()"
   ]
  },
  {
   "cell_type": "markdown",
   "id": "0f37da24",
   "metadata": {},
   "source": [
    "# Metrics\n",
    "В качестве меры близости фраз используется расстояние Левенштейна.  \n",
    "Вычисление производилось путем динамического программирования"
   ]
  },
  {
   "cell_type": "markdown",
   "id": "e5a8471d",
   "metadata": {},
   "source": [
    "$$\n",
    "\\mathrm{L}(a, b) = \n",
    "\\begin{cases}\n",
    "    |a|,& \\text{if } |b| = 0, ~ ~ ~ ~ ~ ~ ~ ~ ~ ~ ~ ~ ~ ~ ~ ~ ~ ~ ~ ~ \\text{# second sequence is empty} \\\\\n",
    "    |b|,& \\text{if } |a| = 0, ~ ~ ~ ~ ~ ~ ~ ~ ~ ~ ~ ~ ~ ~ ~ ~ ~ ~ ~ ~ \\text{# first sequence is empty} \\\\\n",
    "    \\mathrm{L}(\\mathrm{tail}(a), \\mathrm{tail}(b)),& \\text{if } \\mathrm{head}(a) = \\mathrm{head}(b), ~ ~ \\text{# first elements of two sequencies are equal} \\\\\n",
    "    1 + min \n",
    "    \\begin{cases} \n",
    "        \\mathrm{L}(\\mathrm{tail}(a), b), ~ ~ ~ ~ ~ ~ ~ ~ ~ ~ ~ ~ \\text{# deletion from first sequence} \\\\ \n",
    "        \\mathrm{L}(a, \\mathrm{tail}(b)), ~ ~ ~ ~ ~ ~ ~ ~ ~ ~ ~ ~ \\text{# insertion into first sequence} \\\\ \n",
    "        \\mathrm{L}(\\mathrm{tail}(a), \\mathrm{tail}(b)); ~ ~ ~ ~ \\text{# substitution}\n",
    "    \\end{cases} & \\text{, otherwise.}\n",
    "\\end{cases}\n",
    "$$"
   ]
  },
  {
   "cell_type": "code",
   "execution_count": 15,
   "id": "14181a52",
   "metadata": {
    "ExecuteTime": {
     "end_time": "2022-05-10T22:39:29.844612Z",
     "start_time": "2022-05-10T22:39:29.837317Z"
    }
   },
   "outputs": [],
   "source": [
    "def edit_distance(ref: Iterable, hyp: Iterable) -> int:\n",
    "    \"\"\"\n",
    "    dummy levenshtein implementation O(3^n)\n",
    "    \"\"\"\n",
    "    if not ref:\n",
    "        return len(hyp)\n",
    "    if not hyp:\n",
    "        return len(ref)\n",
    "    return min(\n",
    "        edit_distance(ref[1:], hyp[1:]) + (ref[0] != hyp[0]), # Correct / Insertion\n",
    "        edit_distance(ref, hyp[1:]) + 1, # Deletion\n",
    "        edit_distance(ref[1:], hyp) + 1 # Substitution\n",
    "    )\n",
    "\n",
    "\n",
    "def edit_distance(ref: Iterable, hyp: Iterable, plot: bool=False) -> int:\n",
    "    \"\"\"\n",
    "    dynamic programming levenshtein implementation O(n^2)\n",
    "    \"\"\"\n",
    "    \n",
    "    dist = np.zeros((len(hyp) + 1, len(ref) + 1), dtype=np.int32)\n",
    "    \n",
    "    dist[:, 0] = np.arange(len(hyp) + 1)\n",
    "    dist[0, :] = np.arange(len(ref) + 1)\n",
    "\n",
    "    for i, r in enumerate(hyp, start=1):\n",
    "        for j, h in enumerate(ref, start=1):\n",
    "            dist[i, j] = min(\n",
    "                dist[i - 1, j - 1] + (r != h),\n",
    "                dist[i, j - 1] + 1,\n",
    "                dist[i - 1, j] + 1\n",
    "            )\n",
    "    if plot:\n",
    "        sns.heatmap(\n",
    "            pd.DataFrame(\n",
    "                dist,\n",
    "                index=[' '] + list(hyp),\n",
    "                columns=[' '] + list(ref)\n",
    "            ),\n",
    "            annot=True,\n",
    "            cmap='coolwarm_r',\n",
    "            linewidth=2\n",
    "        )\n",
    "        plt.tick_params(\n",
    "            axis='both', which='major', labelsize=14, left=False, labelbottom=False, \n",
    "            bottom=False, top=False, labeltop=True\n",
    "        )\n",
    "        plt.yticks(rotation=0)\n",
    "            \n",
    "    return dist[-1, -1]"
   ]
  },
  {
   "cell_type": "code",
   "execution_count": 16,
   "id": "bb222326",
   "metadata": {
    "ExecuteTime": {
     "end_time": "2022-05-10T22:39:31.487682Z",
     "start_time": "2022-05-10T22:39:30.858243Z"
    }
   },
   "outputs": [
    {
     "data": {
      "text/plain": [
       "5"
      ]
     },
     "execution_count": 16,
     "metadata": {},
     "output_type": "execute_result"
    },
    {
     "data": {
      "image/png": "[encoded data removed]",
      "text/plain": [
       "<Figure size 432x288 with 2 Axes>"
      ]
     },
     "metadata": {},
     "output_type": "display_data"
    }
   ],
   "source": [
    "edit_distance('мама мыла раму', 'мама раму', plot=True)"
   ]
  },
  {
   "cell_type": "markdown",
   "id": "7dcc7c05",
   "metadata": {},
   "source": [
    "* Подходит ли само по себе расстояние Левенштейна в качестве метрики? Почему?\n",
    "* __Это абсолютная метрика. Требуется введение отношения правильно распознанных к общему количеству__"
   ]
  },
  {
   "cell_type": "code",
   "execution_count": 17,
   "id": "41e7e0cd",
   "metadata": {
    "ExecuteTime": {
     "end_time": "2022-05-10T22:39:32.221955Z",
     "start_time": "2022-05-10T22:39:32.215828Z"
    }
   },
   "outputs": [],
   "source": [
    "def error_rate(refs: Iterable[Iterable], hyps: Iterable[Iterable]) -> float:\n",
    "    \"\"\"\n",
    "    ignoring hypotheses with empty references\n",
    "    \"\"\"\n",
    "    \n",
    "    wrong_words, all_words = 0, 0\n",
    "    \n",
    "    for ref, hyp in tqdm(zip(refs, hyps), total=len(refs)):\n",
    "        if len(ref) > 0:\n",
    "            wrong_words += edit_distance(ref, hyp)\n",
    "            all_words += len(ref)\n",
    "        else:\n",
    "            continue\n",
    "    return wrong_words / all_words\n",
    "\n",
    "\n",
    "def wer(refs: Iterable[str], hyps: Iterable[str]) -> float:\n",
    "    \"\"\"\n",
    "    Word Error Rate\n",
    "    \"\"\"\n",
    "    return error_rate(\n",
    "        [ref.split() for ref in refs],\n",
    "        [hyp.split() for hyp in hyps]\n",
    "    )\n",
    "\n",
    "\n",
    "def cer(refs: Iterable[str], hyps: Iterable[str]) -> float:\n",
    "    \"\"\"\n",
    "    Character Error Rate\n",
    "    \"\"\"\n",
    "    return error_rate(refs, hyps)"
   ]
  },
  {
   "cell_type": "markdown",
   "id": "915402ea",
   "metadata": {},
   "source": [
    "* Может ли Error Rate быть > 1 ?\n",
    "* __Может, если референсных слов меньше вводимых__\n",
    "\n",
    "  \n",
    "* Что дольше считать WER или CER ?\n",
    "* __CER считается дольше__"
   ]
  },
  {
   "cell_type": "code",
   "execution_count": 18,
   "id": "f92973ab",
   "metadata": {
    "ExecuteTime": {
     "end_time": "2022-05-10T22:39:35.543484Z",
     "start_time": "2022-05-10T22:39:33.252256Z"
    }
   },
   "outputs": [
    {
     "data": {
      "application/vnd.jupyter.widget-view+json": {
       "model_id": "ad49406122c3453b863a2daba292f6b7",
       "version_major": 2,
       "version_minor": 0
      },
      "text/plain": [
       "  0%|          | 0/12354 [00:00<?, ?it/s]"
      ]
     },
     "metadata": {},
     "output_type": "display_data"
    },
    {
     "data": {
      "application/vnd.jupyter.widget-view+json": {
       "model_id": "3d7b3124362a44ceb456e55ba6b15a7b",
       "version_major": 2,
       "version_minor": 0
      },
      "text/plain": [
       "  0%|          | 0/12354 [00:00<?, ?it/s]"
      ]
     },
     "metadata": {},
     "output_type": "display_data"
    },
    {
     "data": {
      "application/vnd.jupyter.widget-view+json": {
       "model_id": "47f348aeb57b4625bd4b2b05d2909293",
       "version_major": 2,
       "version_minor": 0
      },
      "text/plain": [
       "  0%|          | 0/12354 [00:00<?, ?it/s]"
      ]
     },
     "metadata": {},
     "output_type": "display_data"
    }
   ],
   "source": [
    "method2wer = {model: wer(val_df[model], val_df['text']) for model in MODEL_LIST}"
   ]
  },
  {
   "cell_type": "markdown",
   "id": "87fb8c50",
   "metadata": {},
   "source": [
    "# Alignment"
   ]
  },
  {
   "cell_type": "code",
   "execution_count": 19,
   "id": "d5237d67",
   "metadata": {
    "ExecuteTime": {
     "end_time": "2022-05-10T22:39:35.638049Z",
     "start_time": "2022-05-10T22:39:35.626539Z"
    }
   },
   "outputs": [],
   "source": [
    "def align(ref: Iterable, hyp: Iterable) -> List[Tuple[str, str, str]]:\n",
    "    \n",
    "    dist = np.zeros((len(hyp) + 1, len(ref) + 1), dtype=np.int32)\n",
    "    \n",
    "    dist[:, 0] = np.arange(len(hyp) + 1)\n",
    "    dist[0, :] = np.arange(len(ref) + 1)\n",
    "    \n",
    "    cache = [[None] * (len(ref) + 1) for _ in range(len(hyp) + 1)]\n",
    "    \n",
    "    for i, h in enumerate(hyp, start=1):\n",
    "        cache[i][0] = ('I', '%', h)\n",
    "    \n",
    "    for i, r in enumerate(ref, start=1):\n",
    "        cache[0][i] = ('D', r, '#')\n",
    "        \n",
    "    for i, h in enumerate(hyp, start=1):\n",
    "        for j, r in enumerate(ref, start=1):\n",
    "        \n",
    "            cases = []\n",
    "            \n",
    "            if r == h:\n",
    "                cases.append((\n",
    "                    dist[i - 1, j - 1],\n",
    "                    ('C', r, h)\n",
    "                ))\n",
    "            else:\n",
    "                cases.append((\n",
    "                    dist[i - 1, j - 1] + 1,\n",
    "                    ('S', r, h)\n",
    "                ))\n",
    "            cases.append((\n",
    "                dist[i, j - 1] + 1,\n",
    "                ('D', r, '#')\n",
    "            ))\n",
    "            cases.append((\n",
    "                dist[i - 1, j] + 1,\n",
    "                ('I', '%', h)\n",
    "            ))\n",
    "            \n",
    "            dist[i, j], cache[i][j] = min(cases, key=lambda x: x[0])\n",
    "            \n",
    "    alignment = []\n",
    "    i, j = len(hyp), len(ref)\n",
    "    \n",
    "    while i != 0 or j != 0:\n",
    "        action, r, h = cache[i][j]\n",
    "        alignment.append((action, r, h))\n",
    "        if action in {'C', 'S'}:\n",
    "            i -= 1\n",
    "            j -= 1\n",
    "        elif action == 'I':\n",
    "            i -= 1\n",
    "        else:\n",
    "            j -= 1\n",
    "\n",
    "    return alignment[::-1]"
   ]
  },
  {
   "cell_type": "code",
   "execution_count": 20,
   "id": "c0eadbbb",
   "metadata": {
    "ExecuteTime": {
     "end_time": "2022-05-10T22:39:36.375328Z",
     "start_time": "2022-05-10T22:39:36.354224Z"
    }
   },
   "outputs": [
    {
     "data": {
      "text/plain": [
       "[('C', 'м', 'м'),\n",
       " ('S', 'ы', 'а'),\n",
       " ('C', 'ш', 'ш'),\n",
       " ('C', 'и', 'и'),\n",
       " ('I', '%', 'н'),\n",
       " ('C', 'н', 'н'),\n",
       " ('C', 'о', 'о'),\n",
       " ('C', 'е', 'е'),\n",
       " ('C', ' ', ' '),\n",
       " ('C', 'о', 'о'),\n",
       " ('C', 'б', 'б'),\n",
       " ('D', 'о', '#'),\n",
       " ('D', 'з', '#'),\n",
       " ('D', 'н', '#'),\n",
       " ('S', 'а', 'у'),\n",
       " ('C', 'ч', 'ч'),\n",
       " ('C', 'е', 'е'),\n",
       " ('C', 'н', 'н'),\n",
       " ('C', 'и', 'и'),\n",
       " ('C', 'е', 'е')]"
      ]
     },
     "execution_count": 20,
     "metadata": {},
     "output_type": "execute_result"
    }
   ],
   "source": [
    "align('мышиное обозначение', 'машинное обучение')"
   ]
  },
  {
   "cell_type": "code",
   "execution_count": 21,
   "id": "95fac17e",
   "metadata": {
    "ExecuteTime": {
     "end_time": "2022-05-10T22:39:37.031364Z",
     "start_time": "2022-05-10T22:39:37.025691Z"
    }
   },
   "outputs": [
    {
     "data": {
      "text/plain": [
       "[('C', 'мама', 'мама'),\n",
       " ('C', 'мыла', 'мыла'),\n",
       " ('D', 'раму', '#'),\n",
       " ('C', 'с', 'с'),\n",
       " ('S', 'мылом', 'млом')]"
      ]
     },
     "execution_count": 21,
     "metadata": {},
     "output_type": "execute_result"
    }
   ],
   "source": [
    "align('мама мыла раму с мылом'.split(), 'мама мыла с млом'.split())"
   ]
  },
  {
   "cell_type": "markdown",
   "id": "b4ab7ef6",
   "metadata": {},
   "source": [
    "# Aggregation"
   ]
  },
  {
   "cell_type": "code",
   "execution_count": 22,
   "id": "4dffe94e",
   "metadata": {
    "ExecuteTime": {
     "end_time": "2022-05-10T22:39:38.058979Z",
     "start_time": "2022-05-10T22:39:38.056358Z"
    }
   },
   "outputs": [],
   "source": [
    "from crowdkit.aggregation import ROVER"
   ]
  },
  {
   "cell_type": "markdown",
   "id": "4cc14dff",
   "metadata": {},
   "source": [
    "**R**ecognizer **O**utput **V**oting **E**rror **R**eduction\n",
    "\n",
    "https://ieeexplore.ieee.org/document/659110\n",
    "\n",
    "https://arxiv.org/pdf/2107.01091.pdf"
   ]
  },
  {
   "cell_type": "code",
   "execution_count": 23,
   "id": "b97ef617",
   "metadata": {
    "ExecuteTime": {
     "end_time": "2022-05-10T22:39:39.485855Z",
     "start_time": "2022-05-10T22:39:39.478060Z"
    }
   },
   "outputs": [
    {
     "data": {
      "text/html": [
       "<div>\n",
       "<style scoped>\n",
       "    .dataframe tbody tr th:only-of-type {\n",
       "        vertical-align: middle;\n",
       "    }\n",
       "\n",
       "    .dataframe tbody tr th {\n",
       "        vertical-align: top;\n",
       "    }\n",
       "\n",
       "    .dataframe thead th {\n",
       "        text-align: right;\n",
       "    }\n",
       "</style>\n",
       "<table border=\"1\" class=\"dataframe\">\n",
       "  <thead>\n",
       "    <tr style=\"text-align: right;\">\n",
       "      <th></th>\n",
       "      <th>task</th>\n",
       "      <th>text</th>\n",
       "      <th>qnet</th>\n",
       "      <th>w2v</th>\n",
       "      <th>w2v_tts</th>\n",
       "    </tr>\n",
       "  </thead>\n",
       "  <tbody>\n",
       "    <tr>\n",
       "      <th>1</th>\n",
       "      <td>3c2875271fb918da312865549d444653</td>\n",
       "      <td>антонине татариновой</td>\n",
       "      <td>онпанине то тариновый</td>\n",
       "      <td>антонине татариновый</td>\n",
       "      <td>антонини татариновый</td>\n",
       "    </tr>\n",
       "    <tr>\n",
       "      <th>6</th>\n",
       "      <td>1254c97d2434297a886e4dc4b2a16863</td>\n",
       "      <td>илюши власова</td>\n",
       "      <td>илюши влассво</td>\n",
       "      <td>и люши власово</td>\n",
       "      <td>и люше власова</td>\n",
       "    </tr>\n",
       "    <tr>\n",
       "      <th>7</th>\n",
       "      <td>867e45b9a914fffff0c8ef976ee0a275</td>\n",
       "      <td>терехину</td>\n",
       "      <td>тере гину</td>\n",
       "      <td>терехину</td>\n",
       "      <td>терьехину</td>\n",
       "    </tr>\n",
       "    <tr>\n",
       "      <th>19</th>\n",
       "      <td>32d052f80c431869e7c13914b88f958e</td>\n",
       "      <td>айдарчике</td>\n",
       "      <td>а и дарчики</td>\n",
       "      <td>аидарчике</td>\n",
       "      <td>а и дарчике</td>\n",
       "    </tr>\n",
       "    <tr>\n",
       "      <th>21</th>\n",
       "      <td>719cbc316c0f3caa6324c110ad899b81</td>\n",
       "      <td>ксении валерьевны волковой</td>\n",
       "      <td>сени и воверивны в волколы</td>\n",
       "      <td>к сени и валеревны волковой</td>\n",
       "      <td>ксение ивалиревной волковой</td>\n",
       "    </tr>\n",
       "  </tbody>\n",
       "</table>\n",
       "</div>"
      ],
      "text/plain": [
       "                                task                        text  \\\n",
       "1   3c2875271fb918da312865549d444653        антонине татариновой   \n",
       "6   1254c97d2434297a886e4dc4b2a16863               илюши власова   \n",
       "7   867e45b9a914fffff0c8ef976ee0a275                    терехину   \n",
       "19  32d052f80c431869e7c13914b88f958e                   айдарчике   \n",
       "21  719cbc316c0f3caa6324c110ad899b81  ксении валерьевны волковой   \n",
       "\n",
       "                          qnet                          w2v  \\\n",
       "1        онпанине то тариновый         антонине татариновый   \n",
       "6                илюши влассво               и люши власово   \n",
       "7                    тере гину                     терехину   \n",
       "19                 а и дарчики                    аидарчике   \n",
       "21  сени и воверивны в волколы  к сени и валеревны волковой   \n",
       "\n",
       "                        w2v_tts  \n",
       "1          антонини татариновый  \n",
       "6                и люше власова  \n",
       "7                     терьехину  \n",
       "19                  а и дарчике  \n",
       "21  ксение ивалиревной волковой  "
      ]
     },
     "execution_count": 23,
     "metadata": {},
     "output_type": "execute_result"
    }
   ],
   "source": [
    "val_df.head()"
   ]
  },
  {
   "cell_type": "code",
   "execution_count": 24,
   "id": "0f2dab3c",
   "metadata": {
    "ExecuteTime": {
     "end_time": "2022-05-10T22:39:40.470346Z",
     "start_time": "2022-05-10T22:39:40.465762Z"
    }
   },
   "outputs": [],
   "source": [
    "def get_rover_df(df: pd.DataFrame, model_cols: List[str], tmp_col: str=\"__tmp\") -> pd.DataFrame:\n",
    "\n",
    "    rover_df = df.copy()\n",
    "    \n",
    "    if \"text\" in rover_df.columns:\n",
    "        rover_df.drop(\"text\", axis=1, inplace=True)\n",
    "    \n",
    "    rover_df[tmp_col] = rover_df.apply(lambda row: [(model, row[model]) for model in model_cols], axis=1)\n",
    "    \n",
    "    rover_df = rover_df.drop(model_cols, axis=1).explode(tmp_col)\n",
    "\n",
    "    return pd.DataFrame({\n",
    "        \"task\": rover_df[\"task\"],\n",
    "        \"performer\": rover_df[tmp_col].apply(lambda x: x[0]),\n",
    "        \"text\": rover_df[tmp_col].apply(lambda x: x[1])\n",
    "    })"
   ]
  },
  {
   "cell_type": "code",
   "execution_count": 25,
   "id": "1c39d8e7",
   "metadata": {
    "ExecuteTime": {
     "end_time": "2022-05-10T22:39:41.373237Z",
     "start_time": "2022-05-10T22:39:41.156442Z"
    }
   },
   "outputs": [],
   "source": [
    "val_rover_df = get_rover_df(val_df, model_cols=MODEL_LIST)"
   ]
  },
  {
   "cell_type": "code",
   "execution_count": 26,
   "id": "5e2882ea",
   "metadata": {
    "ExecuteTime": {
     "end_time": "2022-05-10T22:39:42.239300Z",
     "start_time": "2022-05-10T22:39:42.232272Z"
    }
   },
   "outputs": [
    {
     "data": {
      "text/html": [
       "<div>\n",
       "<style scoped>\n",
       "    .dataframe tbody tr th:only-of-type {\n",
       "        vertical-align: middle;\n",
       "    }\n",
       "\n",
       "    .dataframe tbody tr th {\n",
       "        vertical-align: top;\n",
       "    }\n",
       "\n",
       "    .dataframe thead th {\n",
       "        text-align: right;\n",
       "    }\n",
       "</style>\n",
       "<table border=\"1\" class=\"dataframe\">\n",
       "  <thead>\n",
       "    <tr style=\"text-align: right;\">\n",
       "      <th></th>\n",
       "      <th>task</th>\n",
       "      <th>performer</th>\n",
       "      <th>text</th>\n",
       "    </tr>\n",
       "  </thead>\n",
       "  <tbody>\n",
       "    <tr>\n",
       "      <th>1</th>\n",
       "      <td>3c2875271fb918da312865549d444653</td>\n",
       "      <td>qnet</td>\n",
       "      <td>онпанине то тариновый</td>\n",
       "    </tr>\n",
       "    <tr>\n",
       "      <th>1</th>\n",
       "      <td>3c2875271fb918da312865549d444653</td>\n",
       "      <td>w2v</td>\n",
       "      <td>антонине татариновый</td>\n",
       "    </tr>\n",
       "    <tr>\n",
       "      <th>1</th>\n",
       "      <td>3c2875271fb918da312865549d444653</td>\n",
       "      <td>w2v_tts</td>\n",
       "      <td>антонини татариновый</td>\n",
       "    </tr>\n",
       "    <tr>\n",
       "      <th>6</th>\n",
       "      <td>1254c97d2434297a886e4dc4b2a16863</td>\n",
       "      <td>qnet</td>\n",
       "      <td>илюши влассво</td>\n",
       "    </tr>\n",
       "    <tr>\n",
       "      <th>6</th>\n",
       "      <td>1254c97d2434297a886e4dc4b2a16863</td>\n",
       "      <td>w2v</td>\n",
       "      <td>и люши власово</td>\n",
       "    </tr>\n",
       "  </tbody>\n",
       "</table>\n",
       "</div>"
      ],
      "text/plain": [
       "                               task performer                   text\n",
       "1  3c2875271fb918da312865549d444653      qnet  онпанине то тариновый\n",
       "1  3c2875271fb918da312865549d444653       w2v   антонине татариновый\n",
       "1  3c2875271fb918da312865549d444653   w2v_tts   антонини татариновый\n",
       "6  1254c97d2434297a886e4dc4b2a16863      qnet          илюши влассво\n",
       "6  1254c97d2434297a886e4dc4b2a16863       w2v         и люши власово"
      ]
     },
     "execution_count": 26,
     "metadata": {},
     "output_type": "execute_result"
    }
   ],
   "source": [
    "val_rover_df.head()"
   ]
  },
  {
   "cell_type": "code",
   "execution_count": 27,
   "id": "a9b0159c",
   "metadata": {
    "ExecuteTime": {
     "end_time": "2022-05-10T22:40:57.102120Z",
     "start_time": "2022-05-10T22:39:43.078886Z"
    }
   },
   "outputs": [
    {
     "data": {
      "application/vnd.jupyter.widget-view+json": {
       "model_id": "139d648f565d46c0a125da85ca29ecb7",
       "version_major": 2,
       "version_minor": 0
      },
      "text/plain": [
       "  0%|          | 0/12354 [00:00<?, ?it/s]"
      ]
     },
     "metadata": {},
     "output_type": "display_data"
    }
   ],
   "source": [
    "rover_result = (\n",
    "    ROVER(\n",
    "        tokenizer=lambda x: list(x),\n",
    "        detokenizer=lambda s: \"\".join(s),\n",
    "        silent=False\n",
    "    )\n",
    "    .fit_predict(val_rover_df)\n",
    ")"
   ]
  },
  {
   "cell_type": "code",
   "execution_count": 28,
   "id": "6bded76e",
   "metadata": {
    "ExecuteTime": {
     "end_time": "2022-05-10T22:40:57.800096Z",
     "start_time": "2022-05-10T22:40:57.781306Z"
    }
   },
   "outputs": [],
   "source": [
    "rover_result = pd.merge(\n",
    "    val_df,\n",
    "    rover_result.reset_index(),\n",
    "    on='task'\n",
    ")"
   ]
  },
  {
   "cell_type": "code",
   "execution_count": 29,
   "id": "4f4ecfbf",
   "metadata": {
    "ExecuteTime": {
     "end_time": "2022-05-10T22:40:58.462074Z",
     "start_time": "2022-05-10T22:40:58.437515Z"
    }
   },
   "outputs": [
    {
     "data": {
      "text/html": [
       "<div>\n",
       "<style scoped>\n",
       "    .dataframe tbody tr th:only-of-type {\n",
       "        vertical-align: middle;\n",
       "    }\n",
       "\n",
       "    .dataframe tbody tr th {\n",
       "        vertical-align: top;\n",
       "    }\n",
       "\n",
       "    .dataframe thead th {\n",
       "        text-align: right;\n",
       "    }\n",
       "</style>\n",
       "<table border=\"1\" class=\"dataframe\">\n",
       "  <thead>\n",
       "    <tr style=\"text-align: right;\">\n",
       "      <th></th>\n",
       "      <th>task</th>\n",
       "      <th>text</th>\n",
       "      <th>qnet</th>\n",
       "      <th>w2v</th>\n",
       "      <th>w2v_tts</th>\n",
       "      <th>agg_text</th>\n",
       "    </tr>\n",
       "  </thead>\n",
       "  <tbody>\n",
       "    <tr>\n",
       "      <th>0</th>\n",
       "      <td>3c2875271fb918da312865549d444653</td>\n",
       "      <td>антонине татариновой</td>\n",
       "      <td>онпанине то тариновый</td>\n",
       "      <td>антонине татариновый</td>\n",
       "      <td>антонини татариновый</td>\n",
       "      <td>антонине татариновый</td>\n",
       "    </tr>\n",
       "    <tr>\n",
       "      <th>1</th>\n",
       "      <td>1254c97d2434297a886e4dc4b2a16863</td>\n",
       "      <td>илюши власова</td>\n",
       "      <td>илюши влассво</td>\n",
       "      <td>и люши власово</td>\n",
       "      <td>и люше власова</td>\n",
       "      <td>и люши власово</td>\n",
       "    </tr>\n",
       "    <tr>\n",
       "      <th>2</th>\n",
       "      <td>867e45b9a914fffff0c8ef976ee0a275</td>\n",
       "      <td>терехину</td>\n",
       "      <td>тере гину</td>\n",
       "      <td>терехину</td>\n",
       "      <td>терьехину</td>\n",
       "      <td>терехину</td>\n",
       "    </tr>\n",
       "    <tr>\n",
       "      <th>3</th>\n",
       "      <td>32d052f80c431869e7c13914b88f958e</td>\n",
       "      <td>айдарчике</td>\n",
       "      <td>а и дарчики</td>\n",
       "      <td>аидарчике</td>\n",
       "      <td>а и дарчике</td>\n",
       "      <td>а и дарчике</td>\n",
       "    </tr>\n",
       "    <tr>\n",
       "      <th>4</th>\n",
       "      <td>719cbc316c0f3caa6324c110ad899b81</td>\n",
       "      <td>ксении валерьевны волковой</td>\n",
       "      <td>сени и воверивны в волколы</td>\n",
       "      <td>к сени и валеревны волковой</td>\n",
       "      <td>ксение ивалиревной волковой</td>\n",
       "      <td>ксени и валеревный волковой</td>\n",
       "    </tr>\n",
       "  </tbody>\n",
       "</table>\n",
       "</div>"
      ],
      "text/plain": [
       "                               task                        text  \\\n",
       "0  3c2875271fb918da312865549d444653        антонине татариновой   \n",
       "1  1254c97d2434297a886e4dc4b2a16863               илюши власова   \n",
       "2  867e45b9a914fffff0c8ef976ee0a275                    терехину   \n",
       "3  32d052f80c431869e7c13914b88f958e                   айдарчике   \n",
       "4  719cbc316c0f3caa6324c110ad899b81  ксении валерьевны волковой   \n",
       "\n",
       "                         qnet                          w2v  \\\n",
       "0       онпанине то тариновый         антонине татариновый   \n",
       "1               илюши влассво               и люши власово   \n",
       "2                   тере гину                     терехину   \n",
       "3                 а и дарчики                    аидарчике   \n",
       "4  сени и воверивны в волколы  к сени и валеревны волковой   \n",
       "\n",
       "                       w2v_tts                     agg_text  \n",
       "0         антонини татариновый         антонине татариновый  \n",
       "1               и люше власова               и люши власово  \n",
       "2                    терьехину                     терехину  \n",
       "3                  а и дарчике                  а и дарчике  \n",
       "4  ксение ивалиревной волковой  ксени и валеревный волковой  "
      ]
     },
     "execution_count": 29,
     "metadata": {},
     "output_type": "execute_result"
    }
   ],
   "source": [
    "rover_result.head()"
   ]
  },
  {
   "cell_type": "code",
   "execution_count": 30,
   "id": "05615c1d",
   "metadata": {
    "ExecuteTime": {
     "end_time": "2022-05-10T22:40:59.723367Z",
     "start_time": "2022-05-10T22:40:59.064086Z"
    }
   },
   "outputs": [
    {
     "data": {
      "application/vnd.jupyter.widget-view+json": {
       "model_id": "fa4add0701464e18b2e7f4a88598a856",
       "version_major": 2,
       "version_minor": 0
      },
      "text/plain": [
       "  0%|          | 0/12354 [00:00<?, ?it/s]"
      ]
     },
     "metadata": {},
     "output_type": "display_data"
    }
   ],
   "source": [
    "method2wer['ROVER'] = wer(rover_result['agg_text'], rover_result['text'])"
   ]
  },
  {
   "cell_type": "code",
   "execution_count": 31,
   "id": "8a301cb2",
   "metadata": {
    "ExecuteTime": {
     "end_time": "2022-05-10T22:41:02.100609Z",
     "start_time": "2022-05-10T22:41:02.094414Z"
    }
   },
   "outputs": [
    {
     "data": {
      "text/plain": [
       "{'qnet': 0.7652783922138658,\n",
       " 'w2v': 0.5601030720835285,\n",
       " 'w2v_tts': 0.620017745017745,\n",
       " 'ROVER': 0.5634646316005613}"
      ]
     },
     "execution_count": 31,
     "metadata": {},
     "output_type": "execute_result"
    }
   ],
   "source": [
    "method2wer"
   ]
  },
  {
   "cell_type": "markdown",
   "id": "31b48213",
   "metadata": {},
   "source": [
    "Попробуем модернизировать наш Rover, используя BPE, unigram, char токенизаторы из библиотеки sentencepiece.\n",
    "Ссылка - [здесь](https://github.com/google/sentencepiece).\n",
    "Вначале обучим наш токенизатор, к примеру, на Войне и Мире.\n",
    "Исходный текст идет с пропущенными строчками, уберем их, запишем в новый файл."
   ]
  },
  {
   "cell_type": "code",
   "execution_count": 85,
   "id": "f5697c82",
   "metadata": {
    "ExecuteTime": {
     "end_time": "2022-05-11T09:02:06.305206Z",
     "start_time": "2022-05-11T09:02:06.292508Z"
    }
   },
   "outputs": [],
   "source": [
    "with open('War&Peace.txt', 'r', encoding=\"latin-1\") as inf, open('War&Peace_cleaned.txt', 'w', encoding=\"latin-1\") as out:\n",
    "    for line in inf:\n",
    "        if line.strip():\n",
    "            out.write(line)"
   ]
  },
  {
   "cell_type": "code",
   "execution_count": 86,
   "id": "53884545",
   "metadata": {
    "ExecuteTime": {
     "end_time": "2022-05-11T09:02:07.137496Z",
     "start_time": "2022-05-11T09:02:06.784129Z"
    },
    "scrolled": true
   },
   "outputs": [
    {
     "name": "stderr",
     "output_type": "stream",
     "text": [
      "sentencepiece_trainer.cc(177) LOG(INFO) Running command: --input=War&Peace_cleaned.txt --model_prefix=m_bpe --vocab_size=2000 --model_type=bpe\n",
      "sentencepiece_trainer.cc(77) LOG(INFO) Starts training with : \n",
      "trainer_spec {\n",
      "  input: War&Peace_cleaned.txt\n",
      "  input_format: \n",
      "  model_prefix: m_bpe\n",
      "  model_type: BPE\n",
      "  vocab_size: 2000\n",
      "  self_test_sample_size: 0\n",
      "  character_coverage: 0.9995\n",
      "  input_sentence_size: 0\n",
      "  shuffle_input_sentence: 1\n",
      "  seed_sentencepiece_size: 1000000\n",
      "  shrinking_factor: 0.75\n",
      "  max_sentence_length: 4192\n",
      "  num_threads: 16\n",
      "  num_sub_iterations: 2\n",
      "  max_sentencepiece_length: 16\n",
      "  split_by_unicode_script: 1\n",
      "  split_by_number: 1\n",
      "  split_by_whitespace: 1\n",
      "  split_digits: 0\n",
      "  treat_whitespace_as_suffix: 0\n",
      "  allow_whitespace_only_pieces: 0\n",
      "  required_chars: \n",
      "  byte_fallback: 0\n",
      "  vocabulary_output_piece_score: 1\n",
      "  train_extremely_large_corpus: 0\n",
      "  hard_vocab_limit: 1\n",
      "  use_all_vocab: 0\n",
      "  unk_id: 0\n",
      "  bos_id: 1\n",
      "  eos_id: 2\n",
      "  pad_id: -1\n",
      "  unk_piece: <unk>\n",
      "  bos_piece: <s>\n",
      "  eos_piece: </s>\n",
      "  pad_piece: <pad>\n",
      "  unk_surface:  ⁇ \n",
      "}\n",
      "normalizer_spec {\n",
      "  name: nmt_nfkc\n",
      "  add_dummy_prefix: 1\n",
      "  remove_extra_whitespaces: 1\n",
      "  escape_whitespaces: 1\n",
      "  normalization_rule_tsv: \n",
      "}\n",
      "denormalizer_spec {}\n",
      "trainer_interface.cc(329) LOG(INFO) SentenceIterator is not specified. Using MultiFileSentenceIterator.\n",
      "trainer_interface.cc(178) LOG(INFO) Loading corpus: War&Peace_cleaned.txt\n",
      "trainer_interface.cc(385) LOG(INFO) Loaded all 6166 sentences\n",
      "trainer_interface.cc(400) LOG(INFO) Adding meta_piece: <unk>\n",
      "trainer_interface.cc(400) LOG(INFO) Adding meta_piece: <s>\n",
      "trainer_interface.cc(400) LOG(INFO) Adding meta_piece: </s>\n",
      "trainer_interface.cc(405) LOG(INFO) Normalizing sentences...\n",
      "trainer_interface.cc(466) LOG(INFO) all chars count=1549982\n",
      "trainer_interface.cc(477) LOG(INFO) Done: 99.9518% characters are covered.\n",
      "trainer_interface.cc(487) LOG(INFO) Alphabet size=55\n",
      "trainer_interface.cc(488) LOG(INFO) Final character coverage=0.999518\n",
      "trainer_interface.cc(520) LOG(INFO) Done! preprocessed 6166 sentences.\n",
      "trainer_interface.cc(526) LOG(INFO) Tokenizing input sentences with whitespace: 6166\n",
      "trainer_interface.cc(537) LOG(INFO) Done! 4447\n",
      "bpe_model_trainer.cc(167) LOG(INFO) Updating active symbols. max_freq=547241 min_freq=1\n",
      "bpe_model_trainer.cc(258) LOG(INFO) Added: freq=3421 size=20 all=832 active=776 piece=▁��������,\n",
      "bpe_model_trainer.cc(258) LOG(INFO) Added: freq=602 size=40 all=957 active=901 piece=ou\n",
      "bpe_model_trainer.cc(258) LOG(INFO) Added: freq=328 size=60 all=1218 active=1162 piece=an\n",
      "bpe_model_trainer.cc(258) LOG(INFO) Added: freq=201 size=80 all=1482 active=1426 piece=▁2\n",
      "bpe_model_trainer.cc(258) LOG(INFO) Added: freq=151 size=100 all=1758 active=1702 piece=ent\n",
      "bpe_model_trainer.cc(167) LOG(INFO) Updating active symbols. max_freq=150 min_freq=5\n",
      "bpe_model_trainer.cc(258) LOG(INFO) Added: freq=123 size=120 all=1923 active=1132 piece=▁���,��\n",
      "bpe_model_trainer.cc(258) LOG(INFO) Added: freq=112 size=140 all=2060 active=1269 piece=▁que\n",
      "bpe_model_trainer.cc(258) LOG(INFO) Added: freq=90 size=160 all=2327 active=1536 piece=).\n",
      "bpe_model_trainer.cc(258) LOG(INFO) Added: freq=78 size=180 all=2527 active=1736 piece=▁��.��\n",
      "bpe_model_trainer.cc(258) LOG(INFO) Added: freq=67 size=200 all=2696 active=1905 piece=ant\n",
      "bpe_model_trainer.cc(167) LOG(INFO) Updating active symbols. max_freq=67 min_freq=6\n",
      "bpe_model_trainer.cc(258) LOG(INFO) Added: freq=55 size=220 all=2854 active=1132 piece=eu\n",
      "bpe_model_trainer.cc(258) LOG(INFO) Added: freq=48 size=240 all=3031 active=1309 piece=▁����������;\n",
      "bpe_model_trainer.cc(258) LOG(INFO) Added: freq=43 size=260 all=3187 active=1465 piece=▁���:\n",
      "bpe_model_trainer.cc(258) LOG(INFO) Added: freq=39 size=280 all=3274 active=1552 piece=▁��!\n",
      "bpe_model_trainer.cc(258) LOG(INFO) Added: freq=36 size=300 all=3334 active=1612 piece=▁XV\n",
      "bpe_model_trainer.cc(167) LOG(INFO) Updating active symbols. max_freq=36 min_freq=5\n",
      "bpe_model_trainer.cc(258) LOG(INFO) Added: freq=33 size=320 all=3458 active=1123 piece=▁�����.]\n",
      "bpe_model_trainer.cc(258) LOG(INFO) Added: freq=30 size=340 all=3581 active=1246 piece=▁dit\n",
      "bpe_model_trainer.cc(258) LOG(INFO) Added: freq=27 size=360 all=3711 active=1376 piece=▁24\n",
      "bpe_model_trainer.cc(258) LOG(INFO) Added: freq=24 size=380 all=3785 active=1450 piece=▁26\n",
      "bpe_model_trainer.cc(258) LOG(INFO) Added: freq=21 size=400 all=3897 active=1561 piece=▁7\n",
      "bpe_model_trainer.cc(167) LOG(INFO) Updating active symbols. max_freq=21 min_freq=5\n",
      "bpe_model_trainer.cc(258) LOG(INFO) Added: freq=19 size=420 all=3953 active=1045 piece=ot\n",
      "bpe_model_trainer.cc(258) LOG(INFO) Added: freq=18 size=440 all=4064 active=1156 piece=,[4\n",
      "bpe_model_trainer.cc(258) LOG(INFO) Added: freq=17 size=460 all=4157 active=1249 piece=ante\n",
      "bpe_model_trainer.cc(258) LOG(INFO) Added: freq=16 size=480 all=4249 active=1341 piece=-��,\n",
      "bpe_model_trainer.cc(258) LOG(INFO) Added: freq=15 size=500 all=4311 active=1403 piece=ang\n",
      "bpe_model_trainer.cc(167) LOG(INFO) Updating active symbols. max_freq=15 min_freq=4\n",
      "bpe_model_trainer.cc(258) LOG(INFO) Added: freq=14 size=520 all=4375 act"
     ]
    },
    {
     "data": {
      "text/plain": [
       "True"
      ]
     },
     "execution_count": 86,
     "metadata": {},
     "output_type": "execute_result"
    }
   ],
   "source": [
    "import sentencepiece as spm\n",
    "spm.SentencePieceTrainer.train('--input=War&Peace_cleaned.txt --model_prefix=m_bpe --vocab_size=2000 --model_type=bpe')\n",
    "sp_model = spm.SentencePieceProcessor()\n",
    "sp_model.load('m_bpe.model')"
   ]
  },
  {
   "cell_type": "code",
   "execution_count": 88,
   "id": "6e979ad2",
   "metadata": {
    "ExecuteTime": {
     "end_time": "2022-05-11T09:02:23.395877Z",
     "start_time": "2022-05-11T09:02:23.391202Z"
    }
   },
   "outputs": [
    {
     "data": {
      "text/plain": [
       "['▁',\n",
       " 'Съешь',\n",
       " '▁',\n",
       " 'еще',\n",
       " ',',\n",
       " 'дорогой',\n",
       " ',',\n",
       " 'этих',\n",
       " '▁',\n",
       " 'мягких',\n",
       " '▁',\n",
       " 'французских',\n",
       " '▁',\n",
       " 'булок',\n",
       " '▁',\n",
       " 'и',\n",
       " '▁',\n",
       " 'выпей',\n",
       " '▁',\n",
       " 'чаю',\n",
       " '!']"
      ]
     },
     "execution_count": 88,
     "metadata": {},
     "output_type": "execute_result"
    }
   ],
   "source": [
    "sp_model.encode_as_pieces('Съешь еще,дорогой,этих мягких французских булок и выпей чаю!')"
   ]
  },
  {
   "cell_type": "code",
   "execution_count": 89,
   "id": "4a5abfca",
   "metadata": {
    "ExecuteTime": {
     "end_time": "2022-05-11T09:02:39.872355Z",
     "start_time": "2022-05-11T09:02:29.240532Z"
    }
   },
   "outputs": [
    {
     "data": {
      "application/vnd.jupyter.widget-view+json": {
       "model_id": "63ffef58f56a49d3b78fc58298aec864",
       "version_major": 2,
       "version_minor": 0
      },
      "text/plain": [
       "  0%|          | 0/12354 [00:00<?, ?it/s]"
      ]
     },
     "metadata": {},
     "output_type": "display_data"
    }
   ],
   "source": [
    "rover_result = (\n",
    "    ROVER(\n",
    "        tokenizer=lambda x: sp_model.encode_as_pieces(x),\n",
    "        detokenizer=lambda s: \"\".join(s).replace('▁', ' '),\n",
    "        silent=False\n",
    "    )\n",
    "    .fit_predict(val_rover_df)\n",
    ")"
   ]
  },
  {
   "cell_type": "code",
   "execution_count": 90,
   "id": "3300ec72",
   "metadata": {
    "ExecuteTime": {
     "end_time": "2022-05-11T09:02:40.456140Z",
     "start_time": "2022-05-11T09:02:40.426377Z"
    }
   },
   "outputs": [],
   "source": [
    "rover_result = pd.merge(\n",
    "    val_df,\n",
    "    rover_result.reset_index(),\n",
    "    on='task'\n",
    ")"
   ]
  },
  {
   "cell_type": "code",
   "execution_count": 91,
   "id": "e6ae415e",
   "metadata": {
    "ExecuteTime": {
     "end_time": "2022-05-11T09:02:41.903977Z",
     "start_time": "2022-05-11T09:02:41.230064Z"
    }
   },
   "outputs": [
    {
     "data": {
      "application/vnd.jupyter.widget-view+json": {
       "model_id": "5492499266b94ba1a62d2045604bf652",
       "version_major": 2,
       "version_minor": 0
      },
      "text/plain": [
       "  0%|          | 0/12354 [00:00<?, ?it/s]"
      ]
     },
     "metadata": {},
     "output_type": "display_data"
    }
   ],
   "source": [
    "method2wer['ROVER_BPE'] = wer(rover_result['agg_text'], rover_result['text'])"
   ]
  },
  {
   "cell_type": "code",
   "execution_count": 92,
   "id": "25024071",
   "metadata": {
    "ExecuteTime": {
     "end_time": "2022-05-11T09:02:42.943571Z",
     "start_time": "2022-05-11T09:02:42.939420Z"
    }
   },
   "outputs": [
    {
     "data": {
      "text/plain": [
       "{'qnet': 0.7652783922138658,\n",
       " 'w2v': 0.5601030720835285,\n",
       " 'w2v_tts': 0.620017745017745,\n",
       " 'ROVER': 0.5634646316005613,\n",
       " 'ROVER_BPE': 0.5818754608217709,\n",
       " 'ROVER_CHAR': 0.5819034852546917,\n",
       " 'ROVER_UNIGRAM': 0.5819034852546917,\n",
       " 'w2v_corrected': 0.5408682049276496,\n",
       " 'dummy_rescoring': 0.5129448572545953,\n",
       " 'rescoring_opt': 0.5064137661321861,\n",
       " 'oracle_wer': 0.49483770043019165}"
      ]
     },
     "execution_count": 92,
     "metadata": {},
     "output_type": "execute_result"
    }
   ],
   "source": [
    "# Итоговое качество\n",
    "method2wer"
   ]
  },
  {
   "cell_type": "markdown",
   "id": "e08763c0",
   "metadata": {},
   "source": [
    "Забавно, ну хуже, чем с наивным токенизатором"
   ]
  },
  {
   "cell_type": "code",
   "execution_count": 95,
   "id": "87f7c479",
   "metadata": {
    "ExecuteTime": {
     "end_time": "2022-05-11T09:03:57.343747Z",
     "start_time": "2022-05-11T09:03:57.166924Z"
    }
   },
   "outputs": [
    {
     "data": {
      "text/plain": [
       "True"
      ]
     },
     "execution_count": 95,
     "metadata": {},
     "output_type": "execute_result"
    }
   ],
   "source": [
    "# Используем другой тип токенизатора\n",
    "spm.SentencePieceTrainer.train('--input=War&Peace_cleaned.txt --model_prefix=m_char --model_type=char --vocab_size=400')\n",
    "sp_char = spm.SentencePieceProcessor()\n",
    "sp_char.load('m_char.model')"
   ]
  },
  {
   "cell_type": "code",
   "execution_count": 96,
   "id": "cfc6974e",
   "metadata": {
    "ExecuteTime": {
     "end_time": "2022-05-11T09:04:07.365314Z",
     "start_time": "2022-05-11T09:04:07.359188Z"
    }
   },
   "outputs": [
    {
     "data": {
      "text/plain": [
       "['▁',\n",
       " 'Съешь',\n",
       " '▁',\n",
       " 'еще',\n",
       " ',',\n",
       " 'дорогой',\n",
       " ',',\n",
       " 'этих',\n",
       " '▁',\n",
       " 'мягких',\n",
       " '▁',\n",
       " 'французских',\n",
       " '▁',\n",
       " 'булок',\n",
       " '▁',\n",
       " 'и',\n",
       " '▁',\n",
       " 'выпей',\n",
       " '▁',\n",
       " 'чаю',\n",
       " '!']"
      ]
     },
     "execution_count": 96,
     "metadata": {},
     "output_type": "execute_result"
    }
   ],
   "source": [
    "# Проверим разбиение\n",
    "sp_model.encode_as_pieces('Съешь еще,дорогой,этих мягких французских булок и выпей чаю!')"
   ]
  },
  {
   "cell_type": "code",
   "execution_count": 97,
   "id": "0912150a",
   "metadata": {
    "ExecuteTime": {
     "end_time": "2022-05-11T09:04:32.086067Z",
     "start_time": "2022-05-11T09:04:21.426686Z"
    }
   },
   "outputs": [
    {
     "data": {
      "application/vnd.jupyter.widget-view+json": {
       "model_id": "5ec37228c1044acf90b6ff63db01f727",
       "version_major": 2,
       "version_minor": 0
      },
      "text/plain": [
       "  0%|          | 0/12354 [00:00<?, ?it/s]"
      ]
     },
     "metadata": {},
     "output_type": "display_data"
    }
   ],
   "source": [
    "rover_result = (\n",
    "    ROVER(\n",
    "        tokenizer=lambda x: sp_char.encode_as_pieces(x),\n",
    "        detokenizer=lambda s: \"\".join(s).replace('▁', ' '),\n",
    "        silent=False\n",
    "    )\n",
    "    .fit_predict(val_rover_df)\n",
    ")"
   ]
  },
  {
   "cell_type": "code",
   "execution_count": 98,
   "id": "cabaa0c1",
   "metadata": {
    "ExecuteTime": {
     "end_time": "2022-05-11T09:04:32.781338Z",
     "start_time": "2022-05-11T09:04:32.748308Z"
    }
   },
   "outputs": [],
   "source": [
    "rover_result = pd.merge(\n",
    "    val_df,\n",
    "    rover_result.reset_index(),\n",
    "    on='task'\n",
    ")"
   ]
  },
  {
   "cell_type": "code",
   "execution_count": 99,
   "id": "1659099c",
   "metadata": {
    "ExecuteTime": {
     "end_time": "2022-05-11T09:04:33.747702Z",
     "start_time": "2022-05-11T09:04:33.075606Z"
    }
   },
   "outputs": [
    {
     "data": {
      "application/vnd.jupyter.widget-view+json": {
       "model_id": "d2facfd9c32a418ea8ba25382f43914b",
       "version_major": 2,
       "version_minor": 0
      },
      "text/plain": [
       "  0%|          | 0/12354 [00:00<?, ?it/s]"
      ]
     },
     "metadata": {},
     "output_type": "display_data"
    }
   ],
   "source": [
    "method2wer['ROVER_CHAR'] = wer(rover_result['agg_text'], rover_result['text'])"
   ]
  },
  {
   "cell_type": "code",
   "execution_count": 100,
   "id": "32faf312",
   "metadata": {
    "ExecuteTime": {
     "end_time": "2022-05-11T09:04:39.202892Z",
     "start_time": "2022-05-11T09:04:38.536341Z"
    },
    "scrolled": true
   },
   "outputs": [
    {
     "data": {
      "text/plain": [
       "True"
      ]
     },
     "execution_count": 100,
     "metadata": {},
     "output_type": "execute_result"
    }
   ],
   "source": [
    "# А также униграммный токенизатор\n",
    "spm.SentencePieceTrainer.train('--input=War&Peace_cleaned.txt --model_prefix=m_unigram --vocab_size=3000 --model_type=unigram')\n",
    "sp_unigram = spm.SentencePieceProcessor()\n",
    "sp_unigram.load('m_unigram.model')"
   ]
  },
  {
   "cell_type": "code",
   "execution_count": 101,
   "id": "c26b7195",
   "metadata": {
    "ExecuteTime": {
     "end_time": "2022-05-11T09:04:51.437875Z",
     "start_time": "2022-05-11T09:04:40.978572Z"
    }
   },
   "outputs": [
    {
     "data": {
      "application/vnd.jupyter.widget-view+json": {
       "model_id": "5b335eaa810a4b3ebf77125445b1a82d",
       "version_major": 2,
       "version_minor": 0
      },
      "text/plain": [
       "  0%|          | 0/12354 [00:00<?, ?it/s]"
      ]
     },
     "metadata": {},
     "output_type": "display_data"
    }
   ],
   "source": [
    "rover_result = (\n",
    "    ROVER(\n",
    "        tokenizer=lambda x: sp_unigram.encode_as_pieces(x),\n",
    "        detokenizer=lambda s: \"\".join(s).replace('▁', ' '),\n",
    "        silent=False\n",
    "    )\n",
    "    .fit_predict(val_rover_df)\n",
    ")"
   ]
  },
  {
   "cell_type": "code",
   "execution_count": 102,
   "id": "dca737a0",
   "metadata": {
    "ExecuteTime": {
     "end_time": "2022-05-11T09:04:51.649259Z",
     "start_time": "2022-05-11T09:04:51.624768Z"
    }
   },
   "outputs": [],
   "source": [
    "rover_result = pd.merge(\n",
    "    val_df,\n",
    "    rover_result.reset_index(),\n",
    "    on='task'\n",
    ")"
   ]
  },
  {
   "cell_type": "code",
   "execution_count": 103,
   "id": "de1528af",
   "metadata": {
    "ExecuteTime": {
     "end_time": "2022-05-11T09:04:51.888122Z",
     "start_time": "2022-05-11T09:04:51.874818Z"
    }
   },
   "outputs": [
    {
     "data": {
      "text/html": [
       "<div>\n",
       "<style scoped>\n",
       "    .dataframe tbody tr th:only-of-type {\n",
       "        vertical-align: middle;\n",
       "    }\n",
       "\n",
       "    .dataframe tbody tr th {\n",
       "        vertical-align: top;\n",
       "    }\n",
       "\n",
       "    .dataframe thead th {\n",
       "        text-align: right;\n",
       "    }\n",
       "</style>\n",
       "<table border=\"1\" class=\"dataframe\">\n",
       "  <thead>\n",
       "    <tr style=\"text-align: right;\">\n",
       "      <th></th>\n",
       "      <th>task</th>\n",
       "      <th>text</th>\n",
       "      <th>qnet</th>\n",
       "      <th>w2v</th>\n",
       "      <th>w2v_tts</th>\n",
       "      <th>agg_text</th>\n",
       "    </tr>\n",
       "  </thead>\n",
       "  <tbody>\n",
       "    <tr>\n",
       "      <th>0</th>\n",
       "      <td>3c2875271fb918da312865549d444653</td>\n",
       "      <td>антонине татариновой</td>\n",
       "      <td>онпанине то тариновый</td>\n",
       "      <td>антонине татариновый</td>\n",
       "      <td>антонини татариновый</td>\n",
       "      <td>антонини татариновый</td>\n",
       "    </tr>\n",
       "    <tr>\n",
       "      <th>1</th>\n",
       "      <td>1254c97d2434297a886e4dc4b2a16863</td>\n",
       "      <td>илюши власова</td>\n",
       "      <td>илюши влассво</td>\n",
       "      <td>и люши власово</td>\n",
       "      <td>и люше власова</td>\n",
       "      <td>и илюши влассво</td>\n",
       "    </tr>\n",
       "    <tr>\n",
       "      <th>2</th>\n",
       "      <td>867e45b9a914fffff0c8ef976ee0a275</td>\n",
       "      <td>терехину</td>\n",
       "      <td>тере гину</td>\n",
       "      <td>терехину</td>\n",
       "      <td>терьехину</td>\n",
       "      <td>терьехину</td>\n",
       "    </tr>\n",
       "    <tr>\n",
       "      <th>3</th>\n",
       "      <td>32d052f80c431869e7c13914b88f958e</td>\n",
       "      <td>айдарчике</td>\n",
       "      <td>а и дарчики</td>\n",
       "      <td>аидарчике</td>\n",
       "      <td>а и дарчике</td>\n",
       "      <td>а и аидарчике</td>\n",
       "    </tr>\n",
       "    <tr>\n",
       "      <th>4</th>\n",
       "      <td>719cbc316c0f3caa6324c110ad899b81</td>\n",
       "      <td>ксении валерьевны волковой</td>\n",
       "      <td>сени и воверивны в волколы</td>\n",
       "      <td>к сени и валеревны волковой</td>\n",
       "      <td>ксение ивалиревной волковой</td>\n",
       "      <td>сени сени воверивны ивалиревной волковой</td>\n",
       "    </tr>\n",
       "  </tbody>\n",
       "</table>\n",
       "</div>"
      ],
      "text/plain": [
       "                               task                        text  \\\n",
       "0  3c2875271fb918da312865549d444653        антонине татариновой   \n",
       "1  1254c97d2434297a886e4dc4b2a16863               илюши власова   \n",
       "2  867e45b9a914fffff0c8ef976ee0a275                    терехину   \n",
       "3  32d052f80c431869e7c13914b88f958e                   айдарчике   \n",
       "4  719cbc316c0f3caa6324c110ad899b81  ксении валерьевны волковой   \n",
       "\n",
       "                         qnet                          w2v  \\\n",
       "0       онпанине то тариновый         антонине татариновый   \n",
       "1               илюши влассво               и люши власово   \n",
       "2                   тере гину                     терехину   \n",
       "3                 а и дарчики                    аидарчике   \n",
       "4  сени и воверивны в волколы  к сени и валеревны волковой   \n",
       "\n",
       "                       w2v_tts                                   agg_text  \n",
       "0         антонини татариновый                       антонини татариновый  \n",
       "1               и люше власова                            и илюши влассво  \n",
       "2                    терьехину                                  терьехину  \n",
       "3                  а и дарчике                              а и аидарчике  \n",
       "4  ксение ивалиревной волковой   сени сени воверивны ивалиревной волковой  "
      ]
     },
     "execution_count": 103,
     "metadata": {},
     "output_type": "execute_result"
    }
   ],
   "source": [
    "rover_result.head()"
   ]
  },
  {
   "cell_type": "code",
   "execution_count": 104,
   "id": "d9ec6f3c",
   "metadata": {
    "ExecuteTime": {
     "end_time": "2022-05-11T09:04:52.861647Z",
     "start_time": "2022-05-11T09:04:52.114070Z"
    }
   },
   "outputs": [
    {
     "data": {
      "application/vnd.jupyter.widget-view+json": {
       "model_id": "bfef11b4d63a40e2894b968e0820c17c",
       "version_major": 2,
       "version_minor": 0
      },
      "text/plain": [
       "  0%|          | 0/12354 [00:00<?, ?it/s]"
      ]
     },
     "metadata": {},
     "output_type": "display_data"
    }
   ],
   "source": [
    "method2wer['ROVER_UNIGRAM'] = wer(rover_result['agg_text'], rover_result['text'])"
   ]
  },
  {
   "cell_type": "code",
   "execution_count": 105,
   "id": "ffe87d9d",
   "metadata": {
    "ExecuteTime": {
     "end_time": "2022-05-11T09:04:53.101505Z",
     "start_time": "2022-05-11T09:04:53.096967Z"
    }
   },
   "outputs": [
    {
     "data": {
      "text/plain": [
       "{'qnet': 0.7652783922138658,\n",
       " 'w2v': 0.5601030720835285,\n",
       " 'w2v_tts': 0.620017745017745,\n",
       " 'ROVER': 0.5634646316005613,\n",
       " 'ROVER_BPE': 0.5818754608217709,\n",
       " 'ROVER_CHAR': 0.5819034852546917,\n",
       " 'ROVER_UNIGRAM': 0.5819034852546917,\n",
       " 'w2v_corrected': 0.5408682049276496,\n",
       " 'dummy_rescoring': 0.5129448572545953,\n",
       " 'rescoring_opt': 0.5064137661321861,\n",
       " 'oracle_wer': 0.49483770043019165}"
      ]
     },
     "execution_count": 105,
     "metadata": {},
     "output_type": "execute_result"
    }
   ],
   "source": [
    "method2wer"
   ]
  },
  {
   "cell_type": "markdown",
   "id": "f24b992a",
   "metadata": {},
   "source": [
    "Качество ухудшилось, по всей видимости, не донца понял работу этих токенизаторов  \n",
    "Будем считать попытку неудачной"
   ]
  },
  {
   "cell_type": "markdown",
   "id": "4d92463e",
   "metadata": {},
   "source": [
    "* Как можно улучшить ROVER ?"
   ]
  },
  {
   "cell_type": "markdown",
   "id": "17ef1ade",
   "metadata": {},
   "source": [
    "# Error Correction"
   ]
  },
  {
   "cell_type": "markdown",
   "id": "2c6154cb",
   "metadata": {},
   "source": [
    "https://norvig.com/spell-correct.html"
   ]
  },
  {
   "cell_type": "code",
   "execution_count": 51,
   "id": "e5126bf5",
   "metadata": {
    "ExecuteTime": {
     "end_time": "2022-05-10T22:42:37.873823Z",
     "start_time": "2022-05-10T22:42:37.644038Z"
    }
   },
   "outputs": [],
   "source": [
    "def one_edit_words(word: str) -> Set[str]:\n",
    "    \"\"\"\n",
    "    return list of candidates with one correction\n",
    "    \"\"\"\n",
    "    letters = 'абвгдежзийклмнопрстуфхцчшщъыьэюя'\n",
    "    splits = [(word[:i], word[i:]) for i in range(len(word) + 1)]\n",
    "    deletions = [left + right[1:] for left, right in splits if right]\n",
    "    substitutions = [left + c + right[1:] for left, right in splits if right for c in letters]\n",
    "    insertions = [left + c + right for left, right in splits for c in letters]\n",
    "    return set(deletions + substitutions + insertions)\n",
    "\n",
    "\n",
    "word_counts = Counter([word for utterance in train_df['text'].str.split() for word in utterance])\n",
    "\n",
    "\n",
    "@lru_cache(maxsize=None)\n",
    "def correct_word(word: str) -> str:\n",
    "    if word in word_counts:\n",
    "        return word\n",
    "    \n",
    "    candidates = one_edit_words(word)\n",
    "    \n",
    "    candidates = sorted([\n",
    "            (word, word_counts[word])\n",
    "            for word in candidates if word_counts[word] > 0\n",
    "        ],\n",
    "        key=lambda x: -x[1]\n",
    "    )\n",
    "    \n",
    "    if candidates:\n",
    "        return max(candidates, key=lambda x: x[1])[0]\n",
    "    return word"
   ]
  },
  {
   "cell_type": "code",
   "execution_count": 52,
   "id": "5dd24076",
   "metadata": {
    "ExecuteTime": {
     "end_time": "2022-05-10T22:42:40.928556Z",
     "start_time": "2022-05-10T22:42:38.048712Z"
    }
   },
   "outputs": [
    {
     "data": {
      "application/vnd.jupyter.widget-view+json": {
       "model_id": "d4567d08b54f43498007872873aaf384",
       "version_major": 2,
       "version_minor": 0
      },
      "text/plain": [
       "  0%|          | 0/12354 [00:00<?, ?it/s]"
      ]
     },
     "metadata": {},
     "output_type": "display_data"
    }
   ],
   "source": [
    "w2v_corrected = val_df['w2v'].apply(\n",
    "    lambda x: \" \".join([correct_word(w) for w in x.split()])\n",
    ")\n",
    "\n",
    "method2wer['w2v_corrected'] = wer(val_df['text'], w2v_corrected)"
   ]
  },
  {
   "cell_type": "code",
   "execution_count": 106,
   "id": "abee71ec",
   "metadata": {
    "ExecuteTime": {
     "end_time": "2022-05-11T09:05:11.251508Z",
     "start_time": "2022-05-11T09:05:11.244522Z"
    }
   },
   "outputs": [
    {
     "data": {
      "text/plain": [
       "{'qnet': 0.7652783922138658,\n",
       " 'w2v': 0.5601030720835285,\n",
       " 'w2v_tts': 0.620017745017745,\n",
       " 'ROVER': 0.5634646316005613,\n",
       " 'ROVER_BPE': 0.5818754608217709,\n",
       " 'ROVER_CHAR': 0.5819034852546917,\n",
       " 'ROVER_UNIGRAM': 0.5819034852546917,\n",
       " 'w2v_corrected': 0.5408682049276496,\n",
       " 'dummy_rescoring': 0.5129448572545953,\n",
       " 'rescoring_opt': 0.5064137661321861,\n",
       " 'oracle_wer': 0.49483770043019165}"
      ]
     },
     "execution_count": 106,
     "metadata": {},
     "output_type": "execute_result"
    }
   ],
   "source": [
    "method2wer"
   ]
  },
  {
   "cell_type": "markdown",
   "id": "1cb0274d",
   "metadata": {},
   "source": [
    "# Rescoring"
   ]
  },
  {
   "cell_type": "code",
   "execution_count": 54,
   "id": "b788c95d",
   "metadata": {
    "ExecuteTime": {
     "end_time": "2022-05-10T22:42:41.267504Z",
     "start_time": "2022-05-10T22:42:41.252948Z"
    }
   },
   "outputs": [],
   "source": [
    "class LaplaceLanguageModel:\n",
    "    \n",
    "    def __init__(\n",
    "            self, \n",
    "            tokenized_texts: Iterable[Iterable[str]], \n",
    "            n: int, \n",
    "            delta: float = 0.0, \n",
    "            BOS: str='<BOS>',\n",
    "            EOS: str='<EOS>'\n",
    "        ):\n",
    "        self.n = n\n",
    "        self.BOS = BOS\n",
    "        self.EOS = EOS\n",
    "        ngram_counts: Dict[Tuple[str, ...], Dict[str, int]] = self.build_ngram_counts(\n",
    "            tokenized_texts, n, BOS, EOS\n",
    "        )\n",
    "        \n",
    "        self.vocab = {\n",
    "            token for distribution in ngram_counts.values() for token in distribution\n",
    "        }\n",
    "        \n",
    "        self.probs = defaultdict(Counter)\n",
    "\n",
    "        for prefix, distribution in ngram_counts.items():\n",
    "            norm: float = sum(distribution.values()) + delta * len(self.vocab)\n",
    "            self.probs[prefix] = {\n",
    "                token: (count + delta) / norm for token, count in distribution.items()\n",
    "            }\n",
    "            \n",
    "    @staticmethod\n",
    "    def build_ngram_counts(\n",
    "        tokenized_texts: Iterable[Iterable[str]], \n",
    "        n: int,\n",
    "        BOS: str,\n",
    "        EOS: str\n",
    "    ) -> Dict[Tuple[str, ...], Dict[str, int]]:\n",
    "        \n",
    "        counts = defaultdict(Counter)\n",
    "\n",
    "        for text in tokenized_texts:\n",
    "\n",
    "            ngrams = nltk.ngrams(\n",
    "                text, n=n, pad_left=True, pad_right=True, left_pad_symbol=BOS, right_pad_symbol=EOS\n",
    "            )\n",
    "\n",
    "            for ngram in ngrams:\n",
    "                prev, token = ngram[:-1], ngram[-1]\n",
    "                counts[prev][token] += 1\n",
    "\n",
    "        return counts\n",
    "    \n",
    "    \n",
    "    def __get_observed_token_distribution(self, prefix: List[str]) -> Dict[str, float]:\n",
    "        prefix = prefix[max(0, len(prefix) - self.n + 1):]\n",
    "        prefix = [self.BOS] * (self.n - 1 - len(prefix)) + prefix\n",
    "        return self.probs[tuple(prefix)]\n",
    "    \n",
    "    \n",
    "    def get_token_distribution(self, prefix: List[str]) -> Dict[str, float]:\n",
    "        \n",
    "        distribution: Dict[str, float] = self.__get_observed_token_distribution(prefix)\n",
    "        \n",
    "        missing_prob_total: float = 1.0 - sum(distribution.values())\n",
    "        \n",
    "        missing_prob = missing_prob_total / max(1, len(self.vocab) - len(distribution))\n",
    "        \n",
    "        return {token: distribution.get(token, missing_prob) for token in self.vocab}\n",
    "    \n",
    "    \n",
    "    def get_next_token_prob(self, prefix: List[str], next_token: str):\n",
    "        \n",
    "        distribution: Dict[str, float] = self.__get_observed_token_distribution(prefix)\n",
    "        \n",
    "        if next_token in distribution:\n",
    "            return distribution[next_token]\n",
    "        \n",
    "        else:\n",
    "            missing_prob_total = 1.0 - sum(distribution.values())\n",
    "            return max(0, missing_prob_total) / max(1, len(self.vocab) - len(distribution))\n",
    "    \n",
    "    \n",
    "    def score_sequence(self, tokens: List[str], min_logprob: float = np.log(10 ** -50.)) -> float:\n",
    "        prefix = [self.BOS] * (self.n - 1)\n",
    "        padded_tokens = tokens + [self.EOS]\n",
    "        logprobs_sum = 0.0\n",
    "        for token in padded_tokens:\n",
    "            logprob = np.log(self.get_next_token_prob(prefix, token))\n",
    "            prefix = prefix[1:] + [token]\n",
    "            logprobs_sum += max(logprob, min_logprob)\n",
    "        return logprobs_sum / len(tokens) if tokens else 0.0"
   ]
  },
  {
   "cell_type": "code",
   "execution_count": 122,
   "id": "e1bd64ce",
   "metadata": {
    "ExecuteTime": {
     "end_time": "2022-05-11T09:13:14.439417Z",
     "start_time": "2022-05-11T09:12:38.651932Z"
    }
   },
   "outputs": [],
   "source": [
    "lm = LaplaceLanguageModel(\n",
    "    n=5,\n",
    "    tokenized_texts=text_data[0],\n",
    "    delta=1e-5\n",
    ")"
   ]
  },
  {
   "cell_type": "code",
   "execution_count": 123,
   "id": "779cfe48",
   "metadata": {
    "ExecuteTime": {
     "end_time": "2022-05-11T09:13:14.653442Z",
     "start_time": "2022-05-11T09:13:14.649177Z"
    }
   },
   "outputs": [
    {
     "name": "stdout",
     "output_type": "stream",
     "text": [
      "мама мыла раму\t\t-2.50\n",
      "мамо мыла раму\t\t-3.82\n",
      "машинное обучение\t\t-1.86\n",
      "маинное обучение\t\t-2.52\n"
     ]
    }
   ],
   "source": [
    "for text in ('мама мыла раму', 'мамо мыла раму', 'машинное обучение', 'маинное обучение'):\n",
    "    score = lm.score_sequence(list(text))\n",
    "    print(f\"{text}\\t\\t{score:.2f}\")"
   ]
  },
  {
   "cell_type": "code",
   "execution_count": 124,
   "id": "c593b2be",
   "metadata": {
    "ExecuteTime": {
     "end_time": "2022-05-11T09:13:17.055545Z",
     "start_time": "2022-05-11T09:13:14.893332Z"
    }
   },
   "outputs": [],
   "source": [
    "max_likelihood_utterances = val_df.apply(\n",
    "    lambda row: row[\n",
    "        np.array([\n",
    "            lm.score_sequence(tokens=list(row[model])) for model in MODEL_LIST\n",
    "        ]).argmax()\n",
    "    ], \n",
    "    axis=1\n",
    ")"
   ]
  },
  {
   "cell_type": "code",
   "execution_count": 125,
   "id": "8dcfca99",
   "metadata": {
    "ExecuteTime": {
     "end_time": "2022-05-11T09:13:18.079007Z",
     "start_time": "2022-05-11T09:13:17.278050Z"
    }
   },
   "outputs": [
    {
     "data": {
      "application/vnd.jupyter.widget-view+json": {
       "model_id": "9545065b34254b528485d3e9fec142ff",
       "version_major": 2,
       "version_minor": 0
      },
      "text/plain": [
       "  0%|          | 0/12354 [00:00<?, ?it/s]"
      ]
     },
     "metadata": {},
     "output_type": "display_data"
    }
   ],
   "source": [
    "method2wer['dummy_rescoring'] = wer(val_df['text'], max_likelihood_utterances)"
   ]
  },
  {
   "cell_type": "code",
   "execution_count": 127,
   "id": "eb02a457",
   "metadata": {
    "ExecuteTime": {
     "end_time": "2022-05-11T09:13:24.296481Z",
     "start_time": "2022-05-11T09:13:24.289615Z"
    }
   },
   "outputs": [
    {
     "data": {
      "text/plain": [
       "{'qnet': 0.7652783922138658,\n",
       " 'w2v': 0.5601030720835285,\n",
       " 'w2v_tts': 0.620017745017745,\n",
       " 'ROVER': 0.5634646316005613,\n",
       " 'ROVER_BPE': 0.5818754608217709,\n",
       " 'ROVER_CHAR': 0.5819034852546917,\n",
       " 'ROVER_UNIGRAM': 0.5819034852546917,\n",
       " 'w2v_corrected': 0.5408682049276496,\n",
       " 'dummy_rescoring': 0.5129448572545953,\n",
       " 'rescoring_opt': 0.5064137661321861,\n",
       " 'oracle_wer': 0.49483770043019165}"
      ]
     },
     "execution_count": 127,
     "metadata": {},
     "output_type": "execute_result"
    }
   ],
   "source": [
    "method2wer"
   ]
  },
  {
   "cell_type": "markdown",
   "id": "f731f218",
   "metadata": {},
   "source": [
    "Попробуем перебрать по \"сетке\" параметры delta и n для сглаживания.\n",
    "Перебирается долго, ограничим n в пределах 7, а delta в 1e-2"
   ]
  },
  {
   "cell_type": "code",
   "execution_count": 60,
   "id": "73eec374",
   "metadata": {
    "ExecuteTime": {
     "end_time": "2022-05-10T23:09:03.956802Z",
     "start_time": "2022-05-10T22:43:16.730606Z"
    },
    "scrolled": true
   },
   "outputs": [
    {
     "data": {
      "application/vnd.jupyter.widget-view+json": {
       "model_id": "408a3dc0d46240bf9dcaa77281a92a32",
       "version_major": 2,
       "version_minor": 0
      },
      "text/plain": [
       "  0%|          | 0/12354 [00:00<?, ?it/s]"
      ]
     },
     "metadata": {},
     "output_type": "display_data"
    },
    {
     "name": "stdout",
     "output_type": "stream",
     "text": [
      "Iter n=1 with delta=1e-06 | Wer = 0.6491982792334767\n"
     ]
    },
    {
     "data": {
      "application/vnd.jupyter.widget-view+json": {
       "model_id": "92bd088b15124153b65159a518fe0e7d",
       "version_major": 2,
       "version_minor": 0
      },
      "text/plain": [
       "  0%|          | 0/12354 [00:00<?, ?it/s]"
      ]
     },
     "metadata": {},
     "output_type": "display_data"
    },
    {
     "name": "stdout",
     "output_type": "stream",
     "text": [
      "Iter n=1 with delta=0.001112 | Wer = 0.6572545952287837\n"
     ]
    },
    {
     "data": {
      "application/vnd.jupyter.widget-view+json": {
       "model_id": "0e48c69a58d34b0ba9694a52ca9f22b0",
       "version_major": 2,
       "version_minor": 0
      },
      "text/plain": [
       "  0%|          | 0/12354 [00:00<?, ?it/s]"
      ]
     },
     "metadata": {},
     "output_type": "display_data"
    },
    {
     "name": "stdout",
     "output_type": "stream",
     "text": [
      "Iter n=1 with delta=0.002223 | Wer = 0.6491200625733281\n"
     ]
    },
    {
     "data": {
      "application/vnd.jupyter.widget-view+json": {
       "model_id": "ac560d84de3d4f8f813707f99200487b",
       "version_major": 2,
       "version_minor": 0
      },
      "text/plain": [
       "  0%|          | 0/12354 [00:00<?, ?it/s]"
      ]
     },
     "metadata": {},
     "output_type": "display_data"
    },
    {
     "name": "stdout",
     "output_type": "stream",
     "text": [
      "Iter n=1 with delta=0.003334 | Wer = 0.6490809542432538\n"
     ]
    },
    {
     "data": {
      "application/vnd.jupyter.widget-view+json": {
       "model_id": "50063d0a6cf34425935345937091fdbf",
       "version_major": 2,
       "version_minor": 0
      },
      "text/plain": [
       "  0%|          | 0/12354 [00:00<?, ?it/s]"
      ]
     },
     "metadata": {},
     "output_type": "display_data"
    },
    {
     "name": "stdout",
     "output_type": "stream",
     "text": [
      "Iter n=1 with delta=0.004445 | Wer = 0.6490418459131795\n"
     ]
    },
    {
     "data": {
      "application/vnd.jupyter.widget-view+json": {
       "model_id": "22dc624fd09341dabfb1042427dd780e",
       "version_major": 2,
       "version_minor": 0
      },
      "text/plain": [
       "  0%|          | 0/12354 [00:00<?, ?it/s]"
      ]
     },
     "metadata": {},
     "output_type": "display_data"
    },
    {
     "name": "stdout",
     "output_type": "stream",
     "text": [
      "Iter n=1 with delta=0.005556 | Wer = 0.6491200625733281\n"
     ]
    },
    {
     "data": {
      "application/vnd.jupyter.widget-view+json": {
       "model_id": "a7e02b2f6b9a4b74a816a38649114d1a",
       "version_major": 2,
       "version_minor": 0
      },
      "text/plain": [
       "  0%|          | 0/12354 [00:00<?, ?it/s]"
      ]
     },
     "metadata": {},
     "output_type": "display_data"
    },
    {
     "name": "stdout",
     "output_type": "stream",
     "text": [
      "Iter n=1 with delta=0.006667 | Wer = 0.6490809542432538\n"
     ]
    },
    {
     "data": {
      "application/vnd.jupyter.widget-view+json": {
       "model_id": "945bd6a4e96641e7a2fcdfa47c8c333c",
       "version_major": 2,
       "version_minor": 0
      },
      "text/plain": [
       "  0%|          | 0/12354 [00:00<?, ?it/s]"
      ]
     },
     "metadata": {},
     "output_type": "display_data"
    },
    {
     "name": "stdout",
     "output_type": "stream",
     "text": [
      "Iter n=1 with delta=0.007778 | Wer = 0.6491591709034025\n"
     ]
    },
    {
     "data": {
      "application/vnd.jupyter.widget-view+json": {
       "model_id": "f6c7285aac7b4dc69b213f1cf04efcab",
       "version_major": 2,
       "version_minor": 0
      },
      "text/plain": [
       "  0%|          | 0/12354 [00:00<?, ?it/s]"
      ]
     },
     "metadata": {},
     "output_type": "display_data"
    },
    {
     "name": "stdout",
     "output_type": "stream",
     "text": [
      "Iter n=1 with delta=0.008889 | Wer = 0.6491591709034025\n"
     ]
    },
    {
     "data": {
      "application/vnd.jupyter.widget-view+json": {
       "model_id": "1a48b299243848adbfdf034d7659d61c",
       "version_major": 2,
       "version_minor": 0
      },
      "text/plain": [
       "  0%|          | 0/12354 [00:00<?, ?it/s]"
      ]
     },
     "metadata": {},
     "output_type": "display_data"
    },
    {
     "name": "stdout",
     "output_type": "stream",
     "text": [
      "Iter n=1 with delta=0.01 | Wer = 0.6492764958936253\n"
     ]
    },
    {
     "data": {
      "application/vnd.jupyter.widget-view+json": {
       "model_id": "5b1e322d6bdd486bb5f730e2e63606a7",
       "version_major": 2,
       "version_minor": 0
      },
      "text/plain": [
       "  0%|          | 0/12354 [00:00<?, ?it/s]"
      ]
     },
     "metadata": {},
     "output_type": "display_data"
    },
    {
     "name": "stdout",
     "output_type": "stream",
     "text": [
      "Iter n=2 with delta=1e-06 | Wer = 0.6509581540868205\n"
     ]
    },
    {
     "data": {
      "application/vnd.jupyter.widget-view+json": {
       "model_id": "35915b3a0ca8473a9c0a79faebc19682",
       "version_major": 2,
       "version_minor": 0
      },
      "text/plain": [
       "  0%|          | 0/12354 [00:00<?, ?it/s]"
      ]
     },
     "metadata": {},
     "output_type": "display_data"
    },
    {
     "name": "stdout",
     "output_type": "stream",
     "text": [
      "Iter n=2 with delta=0.001112 | Wer = 0.6509581540868205\n"
     ]
    },
    {
     "data": {
      "application/vnd.jupyter.widget-view+json": {
       "model_id": "8eed240da5114b2ab33c44afdbc60c0c",
       "version_major": 2,
       "version_minor": 0
      },
      "text/plain": [
       "  0%|          | 0/12354 [00:00<?, ?it/s]"
      ]
     },
     "metadata": {},
     "output_type": "display_data"
    },
    {
     "name": "stdout",
     "output_type": "stream",
     "text": [
      "Iter n=2 with delta=0.002223 | Wer = 0.6509581540868205\n"
     ]
    },
    {
     "data": {
      "application/vnd.jupyter.widget-view+json": {
       "model_id": "6a50dabb7fb14c4fa7a92a7798aa542a",
       "version_major": 2,
       "version_minor": 0
      },
      "text/plain": [
       "  0%|          | 0/12354 [00:00<?, ?it/s]"
      ]
     },
     "metadata": {},
     "output_type": "display_data"
    },
    {
     "name": "stdout",
     "output_type": "stream",
     "text": [
      "Iter n=2 with delta=0.003334 | Wer = 0.6509581540868205\n"
     ]
    },
    {
     "data": {
      "application/vnd.jupyter.widget-view+json": {
       "model_id": "3d5abbf01e7842bbac0a03023638203b",
       "version_major": 2,
       "version_minor": 0
      },
      "text/plain": [
       "  0%|          | 0/12354 [00:00<?, ?it/s]"
      ]
     },
     "metadata": {},
     "output_type": "display_data"
    },
    {
     "name": "stdout",
     "output_type": "stream",
     "text": [
      "Iter n=2 with delta=0.004445 | Wer = 0.6509581540868205\n"
     ]
    },
    {
     "data": {
      "application/vnd.jupyter.widget-view+json": {
       "model_id": "f599b115e1404f2a96aec5df9ed490e0",
       "version_major": 2,
       "version_minor": 0
      },
      "text/plain": [
       "  0%|          | 0/12354 [00:00<?, ?it/s]"
      ]
     },
     "metadata": {},
     "output_type": "display_data"
    },
    {
     "name": "stdout",
     "output_type": "stream",
     "text": [
      "Iter n=2 with delta=0.005556 | Wer = 0.6509581540868205\n"
     ]
    },
    {
     "data": {
      "application/vnd.jupyter.widget-view+json": {
       "model_id": "4fb1eff0778649539b97e029c2e56111",
       "version_major": 2,
       "version_minor": 0
      },
      "text/plain": [
       "  0%|          | 0/12354 [00:00<?, ?it/s]"
      ]
     },
     "metadata": {},
     "output_type": "display_data"
    },
    {
     "name": "stdout",
     "output_type": "stream",
     "text": [
      "Iter n=2 with delta=0.006667 | Wer = 0.6509581540868205\n"
     ]
    },
    {
     "data": {
      "application/vnd.jupyter.widget-view+json": {
       "model_id": "bd7cd4698422478898032ded6b07be56",
       "version_major": 2,
       "version_minor": 0
      },
      "text/plain": [
       "  0%|          | 0/12354 [00:00<?, ?it/s]"
      ]
     },
     "metadata": {},
     "output_type": "display_data"
    },
    {
     "name": "stdout",
     "output_type": "stream",
     "text": [
      "Iter n=2 with delta=0.007778 | Wer = 0.6509581540868205\n"
     ]
    },
    {
     "data": {
      "application/vnd.jupyter.widget-view+json": {
       "model_id": "3b9524b8a1df4f26813e92f7670c2488",
       "version_major": 2,
       "version_minor": 0
      },
      "text/plain": [
       "  0%|          | 0/12354 [00:00<?, ?it/s]"
      ]
     },
     "metadata": {},
     "output_type": "display_data"
    },
    {
     "name": "stdout",
     "output_type": "stream",
     "text": [
      "Iter n=2 with delta=0.008889 | Wer = 0.6509581540868205\n"
     ]
    },
    {
     "data": {
      "application/vnd.jupyter.widget-view+json": {
       "model_id": "e53aa73094854318a3883e3a7502dc1d",
       "version_major": 2,
       "version_minor": 0
      },
      "text/plain": [
       "  0%|          | 0/12354 [00:00<?, ?it/s]"
      ]
     },
     "metadata": {},
     "output_type": "display_data"
    },
    {
     "name": "stdout",
     "output_type": "stream",
     "text": [
      "Iter n=2 with delta=0.01 | Wer = 0.6509581540868205\n"
     ]
    },
    {
     "data": {
      "application/vnd.jupyter.widget-view+json": {
       "model_id": "7a0e3e70b70c40abb960b691ed10fd31",
       "version_major": 2,
       "version_minor": 0
      },
      "text/plain": [
       "  0%|          | 0/12354 [00:00<?, ?it/s]"
      ]
     },
     "metadata": {},
     "output_type": "display_data"
    },
    {
     "name": "stdout",
     "output_type": "stream",
     "text": [
      "Iter n=3 with delta=1e-06 | Wer = 0.6163472819710598\n"
     ]
    },
    {
     "data": {
      "application/vnd.jupyter.widget-view+json": {
       "model_id": "218166b8841c4a5e9f2f0abe26fbe806",
       "version_major": 2,
       "version_minor": 0
      },
      "text/plain": [
       "  0%|          | 0/12354 [00:00<?, ?it/s]"
      ]
     },
     "metadata": {},
     "output_type": "display_data"
    },
    {
     "name": "stdout",
     "output_type": "stream",
     "text": [
      "Iter n=3 with delta=0.001112 | Wer = 0.6154477903793508\n"
     ]
    },
    {
     "data": {
      "application/vnd.jupyter.widget-view+json": {
       "model_id": "caf5a59e7425409aa5382e30e1fdfea2",
       "version_major": 2,
       "version_minor": 0
      },
      "text/plain": [
       "  0%|          | 0/12354 [00:00<?, ?it/s]"
      ]
     },
     "metadata": {},
     "output_type": "display_data"
    },
    {
     "name": "stdout",
     "output_type": "stream",
     "text": [
      "Iter n=3 with delta=0.002223 | Wer = 0.615213140398905\n"
     ]
    },
    {
     "data": {
      "application/vnd.jupyter.widget-view+json": {
       "model_id": "8dc4ca9112ae46bab67f7b240bf4c0cd",
       "version_major": 2,
       "version_minor": 0
      },
      "text/plain": [
       "  0%|          | 0/12354 [00:00<?, ?it/s]"
      ]
     },
     "metadata": {},
     "output_type": "display_data"
    },
    {
     "name": "stdout",
     "output_type": "stream",
     "text": [
      "Iter n=3 with delta=0.003334 | Wer = 0.6148611654282362\n"
     ]
    },
    {
     "data": {
      "application/vnd.jupyter.widget-view+json": {
       "model_id": "9c6193e5b23f40408e07933f544f98fd",
       "version_major": 2,
       "version_minor": 0
      },
      "text/plain": [
       "  0%|          | 0/12354 [00:00<?, ?it/s]"
      ]
     },
     "metadata": {},
     "output_type": "display_data"
    },
    {
     "name": "stdout",
     "output_type": "stream",
     "text": [
      "Iter n=3 with delta=0.004445 | Wer = 0.6149784904184591\n"
     ]
    },
    {
     "data": {
      "application/vnd.jupyter.widget-view+json": {
       "model_id": "55e5f301948d46989cb39c38fc556240",
       "version_major": 2,
       "version_minor": 0
      },
      "text/plain": [
       "  0%|          | 0/12354 [00:00<?, ?it/s]"
      ]
     },
     "metadata": {},
     "output_type": "display_data"
    },
    {
     "name": "stdout",
     "output_type": "stream",
     "text": [
      "Iter n=3 with delta=0.005556 | Wer = 0.6145874071177161\n"
     ]
    },
    {
     "data": {
      "application/vnd.jupyter.widget-view+json": {
       "model_id": "74abbdb979ef4bb689b76f6e3146ccfe",
       "version_major": 2,
       "version_minor": 0
      },
      "text/plain": [
       "  0%|          | 0/12354 [00:00<?, ?it/s]"
      ]
     },
     "metadata": {},
     "output_type": "display_data"
    },
    {
     "name": "stdout",
     "output_type": "stream",
     "text": [
      "Iter n=3 with delta=0.006667 | Wer = 0.6139616738365272\n"
     ]
    },
    {
     "data": {
      "application/vnd.jupyter.widget-view+json": {
       "model_id": "8d401018aed7426b822516a0596cdbca",
       "version_major": 2,
       "version_minor": 0
      },
      "text/plain": [
       "  0%|          | 0/12354 [00:00<?, ?it/s]"
      ]
     },
     "metadata": {},
     "output_type": "display_data"
    },
    {
     "name": "stdout",
     "output_type": "stream",
     "text": [
      "Iter n=3 with delta=0.007778 | Wer = 0.6140007821666015\n"
     ]
    },
    {
     "data": {
      "application/vnd.jupyter.widget-view+json": {
       "model_id": "aa47adf11cc5443f8d813aca91a553aa",
       "version_major": 2,
       "version_minor": 0
      },
      "text/plain": [
       "  0%|          | 0/12354 [00:00<?, ?it/s]"
      ]
     },
     "metadata": {},
     "output_type": "display_data"
    },
    {
     "name": "stdout",
     "output_type": "stream",
     "text": [
      "Iter n=3 with delta=0.008889 | Wer = 0.6140007821666015\n"
     ]
    },
    {
     "data": {
      "application/vnd.jupyter.widget-view+json": {
       "model_id": "016c198a194041c49eccc0118e2a2cde",
       "version_major": 2,
       "version_minor": 0
      },
      "text/plain": [
       "  0%|          | 0/12354 [00:00<?, ?it/s]"
      ]
     },
     "metadata": {},
     "output_type": "display_data"
    },
    {
     "name": "stdout",
     "output_type": "stream",
     "text": [
      "Iter n=3 with delta=0.01 | Wer = 0.6139616738365272\n"
     ]
    },
    {
     "data": {
      "application/vnd.jupyter.widget-view+json": {
       "model_id": "16c81fdb6f034cfdae0a021f2b36909a",
       "version_major": 2,
       "version_minor": 0
      },
      "text/plain": [
       "  0%|          | 0/12354 [00:00<?, ?it/s]"
      ]
     },
     "metadata": {},
     "output_type": "display_data"
    },
    {
     "name": "stdout",
     "output_type": "stream",
     "text": [
      "Iter n=4 with delta=1e-06 | Wer = 0.5493938208838482\n"
     ]
    },
    {
     "data": {
      "application/vnd.jupyter.widget-view+json": {
       "model_id": "90fa42d6ead946749296d74a53814f88",
       "version_major": 2,
       "version_minor": 0
      },
      "text/plain": [
       "  0%|          | 0/12354 [00:00<?, ?it/s]"
      ]
     },
     "metadata": {},
     "output_type": "display_data"
    },
    {
     "name": "stdout",
     "output_type": "stream",
     "text": [
      "Iter n=4 with delta=0.001112 | Wer = 0.5450919045756746\n"
     ]
    },
    {
     "data": {
      "application/vnd.jupyter.widget-view+json": {
       "model_id": "321870f2628e4f309b327da43d60b581",
       "version_major": 2,
       "version_minor": 0
      },
      "text/plain": [
       "  0%|          | 0/12354 [00:00<?, ?it/s]"
      ]
     },
     "metadata": {},
     "output_type": "display_data"
    },
    {
     "name": "stdout",
     "output_type": "stream",
     "text": [
      "Iter n=4 with delta=0.002223 | Wer = 0.5452092295658976\n"
     ]
    },
    {
     "data": {
      "application/vnd.jupyter.widget-view+json": {
       "model_id": "e7d4095ad98f4b6a8d67e0e0c8bee373",
       "version_major": 2,
       "version_minor": 0
      },
      "text/plain": [
       "  0%|          | 0/12354 [00:00<?, ?it/s]"
      ]
     },
     "metadata": {},
     "output_type": "display_data"
    },
    {
     "name": "stdout",
     "output_type": "stream",
     "text": [
      "Iter n=4 with delta=0.003334 | Wer = 0.5442706296441142\n"
     ]
    },
    {
     "data": {
      "application/vnd.jupyter.widget-view+json": {
       "model_id": "e5761e3eeb894a509a7db4f8c2d18adb",
       "version_major": 2,
       "version_minor": 0
      },
      "text/plain": [
       "  0%|          | 0/12354 [00:00<?, ?it/s]"
      ]
     },
     "metadata": {},
     "output_type": "display_data"
    },
    {
     "name": "stdout",
     "output_type": "stream",
     "text": [
      "Iter n=4 with delta=0.004445 | Wer = 0.5434884630426281\n"
     ]
    },
    {
     "data": {
      "application/vnd.jupyter.widget-view+json": {
       "model_id": "6feaabaf5d284c25a896711cbce288af",
       "version_major": 2,
       "version_minor": 0
      },
      "text/plain": [
       "  0%|          | 0/12354 [00:00<?, ?it/s]"
      ]
     },
     "metadata": {},
     "output_type": "display_data"
    },
    {
     "name": "stdout",
     "output_type": "stream",
     "text": [
      "Iter n=4 with delta=0.005556 | Wer = 0.5432929213922566\n"
     ]
    },
    {
     "data": {
      "application/vnd.jupyter.widget-view+json": {
       "model_id": "171c1d20accd4c11bbf2330e1b6fe586",
       "version_major": 2,
       "version_minor": 0
      },
      "text/plain": [
       "  0%|          | 0/12354 [00:00<?, ?it/s]"
      ]
     },
     "metadata": {},
     "output_type": "display_data"
    },
    {
     "name": "stdout",
     "output_type": "stream",
     "text": [
      "Iter n=4 with delta=0.006667 | Wer = 0.5421587798201016\n"
     ]
    },
    {
     "data": {
      "application/vnd.jupyter.widget-view+json": {
       "model_id": "e7ce1093e450425d91ef30d937732fde",
       "version_major": 2,
       "version_minor": 0
      },
      "text/plain": [
       "  0%|          | 0/12354 [00:00<?, ?it/s]"
      ]
     },
     "metadata": {},
     "output_type": "display_data"
    },
    {
     "name": "stdout",
     "output_type": "stream",
     "text": [
      "Iter n=4 with delta=0.007778 | Wer = 0.5417676965193586\n"
     ]
    },
    {
     "data": {
      "application/vnd.jupyter.widget-view+json": {
       "model_id": "bc94e62410494b9890281315ae3e221f",
       "version_major": 2,
       "version_minor": 0
      },
      "text/plain": [
       "  0%|          | 0/12354 [00:00<?, ?it/s]"
      ]
     },
     "metadata": {},
     "output_type": "display_data"
    },
    {
     "name": "stdout",
     "output_type": "stream",
     "text": [
      "Iter n=4 with delta=0.008889 | Wer = 0.5414157215486899\n"
     ]
    },
    {
     "data": {
      "application/vnd.jupyter.widget-view+json": {
       "model_id": "e7ebea0b12d24807ae7fc2444c0e11a9",
       "version_major": 2,
       "version_minor": 0
      },
      "text/plain": [
       "  0%|          | 0/12354 [00:00<?, ?it/s]"
      ]
     },
     "metadata": {},
     "output_type": "display_data"
    },
    {
     "name": "stdout",
     "output_type": "stream",
     "text": [
      "Iter n=4 with delta=0.01 | Wer = 0.5412592882283926\n"
     ]
    },
    {
     "data": {
      "application/vnd.jupyter.widget-view+json": {
       "model_id": "2ac574bc0244493eab1530a57d1f60ff",
       "version_major": 2,
       "version_minor": 0
      },
      "text/plain": [
       "  0%|          | 0/12354 [00:00<?, ?it/s]"
      ]
     },
     "metadata": {},
     "output_type": "display_data"
    },
    {
     "name": "stdout",
     "output_type": "stream",
     "text": [
      "Iter n=5 with delta=1e-06 | Wer = 0.5119671490027375\n"
     ]
    },
    {
     "data": {
      "application/vnd.jupyter.widget-view+json": {
       "model_id": "703b146343394cc08ae8ae5744c2a9ce",
       "version_major": 2,
       "version_minor": 0
      },
      "text/plain": [
       "  0%|          | 0/12354 [00:00<?, ?it/s]"
      ]
     },
     "metadata": {},
     "output_type": "display_data"
    },
    {
     "name": "stdout",
     "output_type": "stream",
     "text": [
      "Iter n=5 with delta=0.001112 | Wer = 0.50817364098553\n"
     ]
    },
    {
     "data": {
      "application/vnd.jupyter.widget-view+json": {
       "model_id": "53ca58f0da74418a96972c35895df84a",
       "version_major": 2,
       "version_minor": 0
      },
      "text/plain": [
       "  0%|          | 0/12354 [00:00<?, ?it/s]"
      ]
     },
     "metadata": {},
     "output_type": "display_data"
    },
    {
     "name": "stdout",
     "output_type": "stream",
     "text": [
      "Iter n=5 with delta=0.002223 | Wer = 0.5077043410246382\n"
     ]
    },
    {
     "data": {
      "application/vnd.jupyter.widget-view+json": {
       "model_id": "51308369e67e408382576f7cb23a3d3c",
       "version_major": 2,
       "version_minor": 0
      },
      "text/plain": [
       "  0%|          | 0/12354 [00:00<?, ?it/s]"
      ]
     },
     "metadata": {},
     "output_type": "display_data"
    },
    {
     "name": "stdout",
     "output_type": "stream",
     "text": [
      "Iter n=5 with delta=0.003334 | Wer = 0.508564724286273\n"
     ]
    },
    {
     "data": {
      "application/vnd.jupyter.widget-view+json": {
       "model_id": "d49898611ae34480aadd592b7cbf96f7",
       "version_major": 2,
       "version_minor": 0
      },
      "text/plain": [
       "  0%|          | 0/12354 [00:00<?, ?it/s]"
      ]
     },
     "metadata": {},
     "output_type": "display_data"
    },
    {
     "name": "stdout",
     "output_type": "stream",
     "text": [
      "Iter n=5 with delta=0.004445 | Wer = 0.5074696910441924\n"
     ]
    },
    {
     "data": {
      "application/vnd.jupyter.widget-view+json": {
       "model_id": "2ab88e1de6e3487f971e6c22dea3b4db",
       "version_major": 2,
       "version_minor": 0
      },
      "text/plain": [
       "  0%|          | 0/12354 [00:00<?, ?it/s]"
      ]
     },
     "metadata": {},
     "output_type": "display_data"
    },
    {
     "name": "stdout",
     "output_type": "stream",
     "text": [
      "Iter n=5 with delta=0.005556 | Wer = 0.5078998826750097\n"
     ]
    },
    {
     "data": {
      "application/vnd.jupyter.widget-view+json": {
       "model_id": "109cdad987144b8a8aa5a131583d2398",
       "version_major": 2,
       "version_minor": 0
      },
      "text/plain": [
       "  0%|          | 0/12354 [00:00<?, ?it/s]"
      ]
     },
     "metadata": {},
     "output_type": "display_data"
    },
    {
     "name": "stdout",
     "output_type": "stream",
     "text": [
      "Iter n=5 with delta=0.006667 | Wer = 0.507665232694564\n"
     ]
    },
    {
     "data": {
      "application/vnd.jupyter.widget-view+json": {
       "model_id": "c03ff6f274794164aeb2ea54892ae55a",
       "version_major": 2,
       "version_minor": 0
      },
      "text/plain": [
       "  0%|          | 0/12354 [00:00<?, ?it/s]"
      ]
     },
     "metadata": {},
     "output_type": "display_data"
    },
    {
     "name": "stdout",
     "output_type": "stream",
     "text": [
      "Iter n=5 with delta=0.007778 | Wer = 0.5077043410246382\n"
     ]
    },
    {
     "data": {
      "application/vnd.jupyter.widget-view+json": {
       "model_id": "7f9b58a61a4e47488c209753eb5b6f01",
       "version_major": 2,
       "version_minor": 0
      },
      "text/plain": [
       "  0%|          | 0/12354 [00:00<?, ?it/s]"
      ]
     },
     "metadata": {},
     "output_type": "display_data"
    },
    {
     "name": "stdout",
     "output_type": "stream",
     "text": [
      "Iter n=5 with delta=0.008889 | Wer = 0.5069612827532264\n"
     ]
    },
    {
     "data": {
      "application/vnd.jupyter.widget-view+json": {
       "model_id": "81a217599a7c4cecb1a2410bf28e6d97",
       "version_major": 2,
       "version_minor": 0
      },
      "text/plain": [
       "  0%|          | 0/12354 [00:00<?, ?it/s]"
      ]
     },
     "metadata": {},
     "output_type": "display_data"
    },
    {
     "name": "stdout",
     "output_type": "stream",
     "text": [
      "Iter n=5 with delta=0.01 | Wer = 0.5064137661321861\n"
     ]
    },
    {
     "data": {
      "application/vnd.jupyter.widget-view+json": {
       "model_id": "1b31e44206e14a10826db7cfb2e56134",
       "version_major": 2,
       "version_minor": 0
      },
      "text/plain": [
       "  0%|          | 0/12354 [00:00<?, ?it/s]"
      ]
     },
     "metadata": {},
     "output_type": "display_data"
    },
    {
     "name": "stdout",
     "output_type": "stream",
     "text": [
      "Iter n=6 with delta=1e-06 | Wer = 0.526476339460305\n"
     ]
    },
    {
     "data": {
      "application/vnd.jupyter.widget-view+json": {
       "model_id": "e86aef257d8841099e4d599c24c7e3ee",
       "version_major": 2,
       "version_minor": 0
      },
      "text/plain": [
       "  0%|          | 0/12354 [00:00<?, ?it/s]"
      ]
     },
     "metadata": {},
     "output_type": "display_data"
    },
    {
     "name": "stdout",
     "output_type": "stream",
     "text": [
      "Iter n=6 with delta=0.001112 | Wer = 0.5175205318732891\n"
     ]
    },
    {
     "data": {
      "application/vnd.jupyter.widget-view+json": {
       "model_id": "3dfceea8e76f47beb4bde54f98cc882f",
       "version_major": 2,
       "version_minor": 0
      },
      "text/plain": [
       "  0%|          | 0/12354 [00:00<?, ?it/s]"
      ]
     },
     "metadata": {},
     "output_type": "display_data"
    },
    {
     "name": "stdout",
     "output_type": "stream",
     "text": [
      "Iter n=6 with delta=0.002223 | Wer = 0.5159561986703167\n"
     ]
    },
    {
     "data": {
      "application/vnd.jupyter.widget-view+json": {
       "model_id": "68dcf08e03404042bdc643b7bee683a0",
       "version_major": 2,
       "version_minor": 0
      },
      "text/plain": [
       "  0%|          | 0/12354 [00:00<?, ?it/s]"
      ]
     },
     "metadata": {},
     "output_type": "display_data"
    },
    {
     "name": "stdout",
     "output_type": "stream",
     "text": [
      "Iter n=6 with delta=0.003334 | Wer = 0.5156433320297223\n"
     ]
    },
    {
     "data": {
      "application/vnd.jupyter.widget-view+json": {
       "model_id": "400f2abecb334243a8306d07eddd6828",
       "version_major": 2,
       "version_minor": 0
      },
      "text/plain": [
       "  0%|          | 0/12354 [00:00<?, ?it/s]"
      ]
     },
     "metadata": {},
     "output_type": "display_data"
    },
    {
     "name": "stdout",
     "output_type": "stream",
     "text": [
      "Iter n=6 with delta=0.004445 | Wer = 0.5147829487680876\n"
     ]
    },
    {
     "data": {
      "application/vnd.jupyter.widget-view+json": {
       "model_id": "0f8988413e24437c893ac015172d6bcb",
       "version_major": 2,
       "version_minor": 0
      },
      "text/plain": [
       "  0%|          | 0/12354 [00:00<?, ?it/s]"
      ]
     },
     "metadata": {},
     "output_type": "display_data"
    },
    {
     "name": "stdout",
     "output_type": "stream",
     "text": [
      "Iter n=6 with delta=0.005556 | Wer = 0.5140007821666015\n"
     ]
    },
    {
     "data": {
      "application/vnd.jupyter.widget-view+json": {
       "model_id": "49ea5127ce194fc385a3a592d559044d",
       "version_major": 2,
       "version_minor": 0
      },
      "text/plain": [
       "  0%|          | 0/12354 [00:00<?, ?it/s]"
      ]
     },
     "metadata": {},
     "output_type": "display_data"
    },
    {
     "name": "stdout",
     "output_type": "stream",
     "text": [
      "Iter n=6 with delta=0.006667 | Wer = 0.5126710989440751\n"
     ]
    },
    {
     "data": {
      "application/vnd.jupyter.widget-view+json": {
       "model_id": "548d06e4e53948c7aa65d383d4461ea5",
       "version_major": 2,
       "version_minor": 0
      },
      "text/plain": [
       "  0%|          | 0/12354 [00:00<?, ?it/s]"
      ]
     },
     "metadata": {},
     "output_type": "display_data"
    },
    {
     "name": "stdout",
     "output_type": "stream",
     "text": [
      "Iter n=6 with delta=0.007778 | Wer = 0.5135314822057098\n"
     ]
    },
    {
     "data": {
      "application/vnd.jupyter.widget-view+json": {
       "model_id": "e5ef6b4096ec4084b610e1909d069030",
       "version_major": 2,
       "version_minor": 0
      },
      "text/plain": [
       "  0%|          | 0/12354 [00:00<?, ?it/s]"
      ]
     },
     "metadata": {},
     "output_type": "display_data"
    },
    {
     "name": "stdout",
     "output_type": "stream",
     "text": [
      "Iter n=6 with delta=0.008889 | Wer = 0.5129057489245209\n"
     ]
    },
    {
     "data": {
      "application/vnd.jupyter.widget-view+json": {
       "model_id": "6c8feda849134b94b3842a9a7a296078",
       "version_major": 2,
       "version_minor": 0
      },
      "text/plain": [
       "  0%|          | 0/12354 [00:00<?, ?it/s]"
      ]
     },
     "metadata": {},
     "output_type": "display_data"
    },
    {
     "name": "stdout",
     "output_type": "stream",
     "text": [
      "Iter n=6 with delta=0.01 | Wer = 0.5131012905748924\n",
      "[0.5064137661321861, 0.5069612827532264, 0.5074696910441924, 0.507665232694564, 0.5077043410246382, 0.5077043410246382, 0.5078998826750097, 0.50817364098553, 0.508564724286273, 0.5119671490027375, 0.5126710989440751, 0.5129057489245209, 0.5131012905748924, 0.5135314822057098, 0.5140007821666015, 0.5147829487680876, 0.5156433320297223, 0.5159561986703167, 0.5175205318732891, 0.526476339460305, 0.5412592882283926, 0.5414157215486899, 0.5417676965193586, 0.5421587798201016, 0.5432929213922566, 0.5434884630426281, 0.5442706296441142, 0.5450919045756746, 0.5452092295658976, 0.5493938208838482, 0.6139616738365272, 0.6139616738365272, 0.6140007821666015, 0.6140007821666015, 0.6145874071177161, 0.6148611654282362, 0.6149784904184591, 0.615213140398905, 0.6154477903793508, 0.6163472819710598, 0.6490418459131795, 0.6490809542432538, 0.6490809542432538, 0.6491200625733281, 0.6491200625733281, 0.6491591709034025, 0.6491591709034025, 0.6491982792334767, 0.6492764958936253, 0.6509581540868205, 0.6509581540868205, 0.6509581540868205, 0.6509581540868205, 0.6509581540868205, 0.6509581540868205, 0.6509581540868205, 0.6509581540868205, 0.6509581540868205, 0.6509581540868205, 0.6572545952287837]\n"
     ]
    }
   ],
   "source": [
    "wers = []\n",
    "for n in range(1,7):\n",
    "    for delta in np.linspace(start=1e-6, stop=1e-2, num=10):\n",
    "        lm = LaplaceLanguageModel(n=n, tokenized_texts=text_data[0], delta=delta)\n",
    "        max_likelihood_utterances = val_df.apply(\n",
    "        lambda row: row[\n",
    "            np.array([\n",
    "                lm.score_sequence(tokens=list(row[model])) for model in MODEL_LIST\n",
    "            ]).argmax()\n",
    "        ], axis=1)\n",
    "        wer_score = wer(val_df['text'], max_likelihood_utterances)\n",
    "        print(f\"Iter n={n} with delta={delta} | Wer = {wer_score}\")\n",
    "        wers.append(wer_score)\n",
    "print(sorted(wers))"
   ]
  },
  {
   "cell_type": "markdown",
   "id": "9d74b1a0",
   "metadata": {},
   "source": [
    "Получаем лучшее решение при n = 5 и delta = 0,01"
   ]
  },
  {
   "cell_type": "code",
   "execution_count": 128,
   "id": "678a9548",
   "metadata": {
    "ExecuteTime": {
     "end_time": "2022-05-11T09:14:20.449497Z",
     "start_time": "2022-05-11T09:13:44.498090Z"
    }
   },
   "outputs": [],
   "source": [
    "lm = LaplaceLanguageModel(\n",
    "    n=5,\n",
    "    tokenized_texts=text_data[0],\n",
    "    delta=1e-2\n",
    ")"
   ]
  },
  {
   "cell_type": "code",
   "execution_count": 129,
   "id": "5127695a",
   "metadata": {
    "ExecuteTime": {
     "end_time": "2022-05-11T09:14:22.698758Z",
     "start_time": "2022-05-11T09:14:20.653509Z"
    }
   },
   "outputs": [],
   "source": [
    "max_likelihood_utterances = val_df.apply(\n",
    "    lambda row: row[\n",
    "        np.array([\n",
    "            lm.score_sequence(tokens=list(row[model])) for model in MODEL_LIST\n",
    "        ]).argmax()\n",
    "    ], \n",
    "    axis=1\n",
    ")"
   ]
  },
  {
   "cell_type": "code",
   "execution_count": 130,
   "id": "2b39d2c3",
   "metadata": {
    "ExecuteTime": {
     "end_time": "2022-05-11T09:14:23.457031Z",
     "start_time": "2022-05-11T09:14:22.904756Z"
    }
   },
   "outputs": [
    {
     "data": {
      "application/vnd.jupyter.widget-view+json": {
       "model_id": "f1bca34871ff49a2b365d45b937a6006",
       "version_major": 2,
       "version_minor": 0
      },
      "text/plain": [
       "  0%|          | 0/12354 [00:00<?, ?it/s]"
      ]
     },
     "metadata": {},
     "output_type": "display_data"
    }
   ],
   "source": [
    "method2wer['rescoring_opt'] = wer(val_df['text'], max_likelihood_utterances)"
   ]
  },
  {
   "cell_type": "code",
   "execution_count": 131,
   "id": "05137f2f",
   "metadata": {
    "ExecuteTime": {
     "end_time": "2022-05-11T09:14:23.650719Z",
     "start_time": "2022-05-11T09:14:23.646125Z"
    }
   },
   "outputs": [
    {
     "data": {
      "text/plain": [
       "{'qnet': 0.7652783922138658,\n",
       " 'w2v': 0.5601030720835285,\n",
       " 'w2v_tts': 0.620017745017745,\n",
       " 'ROVER': 0.5634646316005613,\n",
       " 'ROVER_BPE': 0.5818754608217709,\n",
       " 'ROVER_CHAR': 0.5819034852546917,\n",
       " 'ROVER_UNIGRAM': 0.5819034852546917,\n",
       " 'w2v_corrected': 0.5408682049276496,\n",
       " 'dummy_rescoring': 0.5129448572545953,\n",
       " 'rescoring_opt': 0.5064137661321861,\n",
       " 'oracle_wer': 0.49483770043019165}"
      ]
     },
     "execution_count": 131,
     "metadata": {},
     "output_type": "execute_result"
    }
   ],
   "source": [
    "method2wer"
   ]
  },
  {
   "cell_type": "markdown",
   "id": "7cbeba7f",
   "metadata": {},
   "source": [
    "# Oracle WER\n",
    "\n",
    "если представить, что мы идеально выбираем лучшую из трех гипотез (Оракул), каким будет Word Error Rate?\\\n",
    "таким образом оценим нижнюю границу Rescoring-системы"
   ]
  },
  {
   "cell_type": "code",
   "execution_count": 132,
   "id": "cea40175",
   "metadata": {
    "ExecuteTime": {
     "end_time": "2022-05-11T09:14:23.863982Z",
     "start_time": "2022-05-11T09:14:23.860441Z"
    }
   },
   "outputs": [],
   "source": [
    "def get_best_transcription(ref: Iterable[str], hyps: Iterable[Iterable[str]]):\n",
    "    return hyps[\n",
    "        np.array([\n",
    "            edit_distance(ref, hyp) for hyp in hyps\n",
    "        ]).argmin()\n",
    "    ]"
   ]
  },
  {
   "cell_type": "code",
   "execution_count": 133,
   "id": "baa6170d",
   "metadata": {
    "ExecuteTime": {
     "end_time": "2022-05-11T09:14:26.141277Z",
     "start_time": "2022-05-11T09:14:24.060802Z"
    }
   },
   "outputs": [],
   "source": [
    "oracle_hyp = val_df.apply(\n",
    "    lambda row: \" \".join(\n",
    "        get_best_transcription(\n",
    "            ref=row['text'].split(),\n",
    "            hyps=[row[model].split() for model in MODEL_LIST]\n",
    "        )\n",
    "    ),\n",
    "    axis=1\n",
    ")"
   ]
  },
  {
   "cell_type": "code",
   "execution_count": 134,
   "id": "c1166a6c",
   "metadata": {
    "ExecuteTime": {
     "end_time": "2022-05-11T09:14:27.003768Z",
     "start_time": "2022-05-11T09:14:26.343768Z"
    }
   },
   "outputs": [
    {
     "data": {
      "application/vnd.jupyter.widget-view+json": {
       "model_id": "8bcfe70f67e3498d906a284003873477",
       "version_major": 2,
       "version_minor": 0
      },
      "text/plain": [
       "  0%|          | 0/12354 [00:00<?, ?it/s]"
      ]
     },
     "metadata": {},
     "output_type": "display_data"
    }
   ],
   "source": [
    "method2wer['oracle_wer'] = wer(val_df['text'], oracle_hyp)"
   ]
  },
  {
   "cell_type": "code",
   "execution_count": 135,
   "id": "4d42bbdf",
   "metadata": {
    "ExecuteTime": {
     "end_time": "2022-05-11T09:14:27.202602Z",
     "start_time": "2022-05-11T09:14:27.198472Z"
    }
   },
   "outputs": [
    {
     "data": {
      "text/plain": [
       "{'qnet': 0.7652783922138658,\n",
       " 'w2v': 0.5601030720835285,\n",
       " 'w2v_tts': 0.620017745017745,\n",
       " 'ROVER': 0.5634646316005613,\n",
       " 'ROVER_BPE': 0.5818754608217709,\n",
       " 'ROVER_CHAR': 0.5819034852546917,\n",
       " 'ROVER_UNIGRAM': 0.5819034852546917,\n",
       " 'w2v_corrected': 0.5408682049276496,\n",
       " 'dummy_rescoring': 0.5129448572545953,\n",
       " 'rescoring_opt': 0.5064137661321861,\n",
       " 'oracle_wer': 0.49483770043019165}"
      ]
     },
     "execution_count": 135,
     "metadata": {},
     "output_type": "execute_result"
    }
   ],
   "source": [
    "method2wer"
   ]
  },
  {
   "cell_type": "markdown",
   "id": "3501f9bf",
   "metadata": {},
   "source": [
    "Как вывод - с учетом \"оптимизации\" параметров мы не добились нижней оценки рескоринга при помощи оракула"
   ]
  },
  {
   "cell_type": "markdown",
   "id": "63d9b785",
   "metadata": {},
   "source": [
    "# Prediction"
   ]
  },
  {
   "cell_type": "code",
   "execution_count": 136,
   "id": "40b68f6e",
   "metadata": {
    "ExecuteTime": {
     "end_time": "2022-05-11T09:14:30.571950Z",
     "start_time": "2022-05-11T09:14:27.432314Z"
    }
   },
   "outputs": [],
   "source": [
    "max_likelihood_utterances = test_df.apply(\n",
    "    lambda row: row[\n",
    "        np.array([\n",
    "            lm.score_sequence(tokens=list(row[model])) for model in MODEL_LIST\n",
    "        ]).argmax()\n",
    "    ], \n",
    "    axis=1\n",
    ")"
   ]
  },
  {
   "cell_type": "code",
   "execution_count": 141,
   "id": "c4fed702",
   "metadata": {
    "ExecuteTime": {
     "end_time": "2022-05-11T09:15:04.258758Z",
     "start_time": "2022-05-11T09:15:04.254408Z"
    }
   },
   "outputs": [],
   "source": [
    "rescoring_result = pd.DataFrame(max_likelihood_utterances)"
   ]
  },
  {
   "cell_type": "code",
   "execution_count": 148,
   "id": "06993abd",
   "metadata": {
    "ExecuteTime": {
     "end_time": "2022-05-11T09:21:02.629195Z",
     "start_time": "2022-05-11T09:21:02.617022Z"
    }
   },
   "outputs": [],
   "source": [
    "rescoring_result['task'] = test_df['task']\n",
    "rescoring_result.rename(columns = {0 : 'prediction'}, inplace = True)"
   ]
  },
  {
   "cell_type": "code",
   "execution_count": 149,
   "id": "c51f362c",
   "metadata": {
    "ExecuteTime": {
     "end_time": "2022-05-11T09:21:03.533175Z",
     "start_time": "2022-05-11T09:21:03.521785Z"
    }
   },
   "outputs": [
    {
     "data": {
      "text/html": [
       "<div>\n",
       "<style scoped>\n",
       "    .dataframe tbody tr th:only-of-type {\n",
       "        vertical-align: middle;\n",
       "    }\n",
       "\n",
       "    .dataframe tbody tr th {\n",
       "        vertical-align: top;\n",
       "    }\n",
       "\n",
       "    .dataframe thead th {\n",
       "        text-align: right;\n",
       "    }\n",
       "</style>\n",
       "<table border=\"1\" class=\"dataframe\">\n",
       "  <thead>\n",
       "    <tr style=\"text-align: right;\">\n",
       "      <th></th>\n",
       "      <th>prediction</th>\n",
       "      <th>task</th>\n",
       "    </tr>\n",
       "  </thead>\n",
       "  <tbody>\n",
       "    <tr>\n",
       "      <th>0</th>\n",
       "      <td>73aff8bc8d99278c6ca6d1ac243557e3</td>\n",
       "      <td>73aff8bc8d99278c6ca6d1ac243557e3</td>\n",
       "    </tr>\n",
       "    <tr>\n",
       "      <th>1</th>\n",
       "      <td>вектор упавнович чунула к лещенуму</td>\n",
       "      <td>ba8443f3cc91e56667278db36dea02b7</td>\n",
       "    </tr>\n",
       "    <tr>\n",
       "      <th>2</th>\n",
       "      <td>риме менниковой</td>\n",
       "      <td>af346fae1d5686a357e32710c5d4f13e</td>\n",
       "    </tr>\n",
       "    <tr>\n",
       "      <th>3</th>\n",
       "      <td>александровик провичо</td>\n",
       "      <td>262fda7ab40a8417b99ecb314b3f7405</td>\n",
       "    </tr>\n",
       "    <tr>\n",
       "      <th>4</th>\n",
       "      <td>ерославцев</td>\n",
       "      <td>08bd8fb35ceaf2843734ffeb389f2283</td>\n",
       "    </tr>\n",
       "    <tr>\n",
       "      <th>...</th>\n",
       "      <td>...</td>\n",
       "      <td>...</td>\n",
       "    </tr>\n",
       "    <tr>\n",
       "      <th>18870</th>\n",
       "      <td>35e142d32571927fa08227a5d1a89152</td>\n",
       "      <td>35e142d32571927fa08227a5d1a89152</td>\n",
       "    </tr>\n",
       "    <tr>\n",
       "      <th>18871</th>\n",
       "      <td>дальфурму на карте</td>\n",
       "      <td>0c7beaae1712adf488fae74a4966b661</td>\n",
       "    </tr>\n",
       "    <tr>\n",
       "      <th>18872</th>\n",
       "      <td>городская полекленника но меродинадцать</td>\n",
       "      <td>5de895309c234ced55d31f001e930250</td>\n",
       "    </tr>\n",
       "    <tr>\n",
       "      <th>18873</th>\n",
       "      <td>beda99f2bada550facb9a70c1c48a62b</td>\n",
       "      <td>beda99f2bada550facb9a70c1c48a62b</td>\n",
       "    </tr>\n",
       "    <tr>\n",
       "      <th>18874</th>\n",
       "      <td>талиятинский рацконер кологически из панцерно ...</td>\n",
       "      <td>ca27457fe19fe859f17a7c755d07b796</td>\n",
       "    </tr>\n",
       "  </tbody>\n",
       "</table>\n",
       "<p>18875 rows × 2 columns</p>\n",
       "</div>"
      ],
      "text/plain": [
       "                                              prediction  \\\n",
       "0                       73aff8bc8d99278c6ca6d1ac243557e3   \n",
       "1                     вектор упавнович чунула к лещенуму   \n",
       "2                                        риме менниковой   \n",
       "3                                  александровик провичо   \n",
       "4                                             ерославцев   \n",
       "...                                                  ...   \n",
       "18870                   35e142d32571927fa08227a5d1a89152   \n",
       "18871                                 дальфурму на карте   \n",
       "18872            городская полекленника но меродинадцать   \n",
       "18873                   beda99f2bada550facb9a70c1c48a62b   \n",
       "18874  талиятинский рацконер кологически из панцерно ...   \n",
       "\n",
       "                                   task  \n",
       "0      73aff8bc8d99278c6ca6d1ac243557e3  \n",
       "1      ba8443f3cc91e56667278db36dea02b7  \n",
       "2      af346fae1d5686a357e32710c5d4f13e  \n",
       "3      262fda7ab40a8417b99ecb314b3f7405  \n",
       "4      08bd8fb35ceaf2843734ffeb389f2283  \n",
       "...                                 ...  \n",
       "18870  35e142d32571927fa08227a5d1a89152  \n",
       "18871  0c7beaae1712adf488fae74a4966b661  \n",
       "18872  5de895309c234ced55d31f001e930250  \n",
       "18873  beda99f2bada550facb9a70c1c48a62b  \n",
       "18874  ca27457fe19fe859f17a7c755d07b796  \n",
       "\n",
       "[18875 rows x 2 columns]"
      ]
     },
     "execution_count": 149,
     "metadata": {},
     "output_type": "execute_result"
    }
   ],
   "source": [
    "rescoring_result"
   ]
  },
  {
   "cell_type": "code",
   "execution_count": 151,
   "id": "1b7f53db",
   "metadata": {
    "ExecuteTime": {
     "end_time": "2022-05-11T09:21:45.354395Z",
     "start_time": "2022-05-11T09:21:45.307278Z"
    }
   },
   "outputs": [],
   "source": [
    "username = \"Ustsov\"\n",
    "\n",
    "test_result.to_json(\n",
    "    f\"noisy_text_aggregation_test_prediction_{username}.jsonl\",\n",
    "    lines=True, orient=\"records\"\n",
    ")"
   ]
  },
  {
   "cell_type": "markdown",
   "id": "e462af93",
   "metadata": {},
   "source": [
    "# TODO\n",
    "\n",
    "* провести эксперименты с разными подходами\n",
    "* аккуратно валидироваться и тестироваться\n",
    "* сформировать файл с предсказаниями\n",
    "* <font color='red'>в переменную `username` указать фамилию <font> \n",
    "* прикрепить на портале jupyter-notebook / .py-file / colab-link и файл с предсказаниями"
   ]
  },
  {
   "cell_type": "code",
   "execution_count": null,
   "id": "0a47d7a1",
   "metadata": {},
   "outputs": [],
   "source": []
  }
 ],
 "metadata": {
  "kernelspec": {
   "display_name": "Python 3 (ipykernel)",
   "language": "python",
   "name": "python3"
  },
  "language_info": {
   "codemirror_mode": {
    "name": "ipython",
    "version": 3
   },
   "file_extension": ".py",
   "mimetype": "text/x-python",
   "name": "python",
   "nbconvert_exporter": "python",
   "pygments_lexer": "ipython3",
   "version": "3.8.10"
  },
  "latex_envs": {
   "LaTeX_envs_menu_present": true,
   "autoclose": false,
   "autocomplete": true,
   "bibliofile": "biblio.bib",
   "cite_by": "apalike",
   "current_citInitial": 1,
   "eqLabelWithNumbers": true,
   "eqNumInitial": 1,
   "hotkeys": {
    "equation": "Ctrl-E",
    "itemize": "Ctrl-I"
   },
   "labels_anchors": false,
   "latex_user_defs": false,
   "report_style_numbering": false,
   "user_envs_cfg": false
  },
  "nbTranslate": {
   "displayLangs": [
    "*"
   ],
   "hotkey": "alt-t",
   "langInMainMenu": true,
   "sourceLang": "en",
   "targetLang": "fr",
   "useGoogleTranslate": true
  },
  "toc": {
   "base_numbering": 1,
   "nav_menu": {},
   "number_sections": true,
   "sideBar": true,
   "skip_h1_title": false,
   "title_cell": "Table of Contents",
   "title_sidebar": "Contents",
   "toc_cell": false,
   "toc_position": {},
   "toc_section_display": true,
   "toc_window_display": false
  },
  "varInspector": {
   "cols": {
    "lenName": 16,
    "lenType": 16,
    "lenVar": 40
   },
   "kernels_config": {
    "python": {
     "delete_cmd_postfix": "",
     "delete_cmd_prefix": "del ",
     "library": "var_list.py",
     "varRefreshCmd": "print(var_dic_list())"
    },
    "r": {
     "delete_cmd_postfix": ") ",
     "delete_cmd_prefix": "rm(",
     "library": "var_list.r",
     "varRefreshCmd": "cat(var_dic_list()) "
    }
   },
   "types_to_exclude": [
    "module",
    "function",
    "builtin_function_or_method",
    "instance",
    "_Feature"
   ],
   "window_display": false
  }
 },
 "nbformat": 4,
 "nbformat_minor": 5
}
