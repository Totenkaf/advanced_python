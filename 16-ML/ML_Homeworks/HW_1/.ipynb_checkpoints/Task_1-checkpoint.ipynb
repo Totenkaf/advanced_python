{
 "cells": [
  {
   "cell_type": "markdown",
   "id": "gross-business",
   "metadata": {},
   "source": [
    "# Домашнее задание №1. Дедлайн - 20 октября\n",
    "Основы машинного обучения. В.Журавлев  \n",
    "Группа ML-13. Студент - Усцов Артем Алексеевич"
   ]
  },
  {
   "cell_type": "markdown",
   "id": "supposed-hughes",
   "metadata": {},
   "source": [
    "\n",
    "# Максимум 5 баллов - по ~0.7 баллов за задание"
   ]
  },
  {
   "cell_type": "code",
   "execution_count": 8,
   "id": "concerned-branch",
   "metadata": {},
   "outputs": [],
   "source": [
    "# Main lib importing\n",
    "import numpy as np"
   ]
  },
  {
   "cell_type": "markdown",
   "id": "sought-beverage",
   "metadata": {},
   "source": [
    "# 1. Подсчитать произведение ненулевых элементов на диагонали прямоугольной матрицы.\n",
    "Для X = np.array([[1, 0, 1], [2, 0, 2], [3, 0, 3], [4, 4, 4]]) ответ 3"
   ]
  },
  {
   "cell_type": "code",
   "execution_count": 2,
   "id": "injured-virtue",
   "metadata": {},
   "outputs": [],
   "source": [
    "# Check correct answer function\n",
    "def wrapperSoluton_1(answer_1, answer_2, answer_3):\n",
    "    if answer_1 == answer_2 == answer_3:\n",
    "        print(f\"EVERYTHING IS OK\")\n",
    "        print(f\"\\t1) Full_Vectorisation = {answer_1};\\n\\t2) Normal_Solution = {answer_2};\\n\\t3) Partial_Vectorisation = {answer_3}.\")\n",
    "    else:\n",
    "        print(f\"FAIL. THERE IS A MISTAKE\")\n",
    "        print(f\"\\t1) Full_Vectorisation = {answer_1};\\n\\t2) Normal_Solution = {answer_2};\\n\\t3) Partial_Vectorisation = {answer_3}.\")"
   ]
  },
  {
   "cell_type": "code",
   "execution_count": 3,
   "id": "partial-colors",
   "metadata": {},
   "outputs": [],
   "source": [
    "# Full vectorisation solution using only numpy.array methods\n",
    "def full_vectorisation_1(X):\n",
    "    return np.prod(np.diag(X)[np.diag(X)!= 0]) "
   ]
  },
  {
   "cell_type": "code",
   "execution_count": 4,
   "id": "acceptable-toddler",
   "metadata": {},
   "outputs": [],
   "source": [
    "# Standard solution with using Python cycles\n",
    "def normal_1(X):\n",
    "    answer_2 = 1\n",
    "    for i in range(X.shape[0]):\n",
    "        for j in range(X.shape[1]):\n",
    "            if i == j and X[i, j] != 0:\n",
    "                answer_2 *= X[i, j]\n",
    "    return answer_2"
   ]
  },
  {
   "cell_type": "code",
   "execution_count": 5,
   "id": "legitimate-finger",
   "metadata": {},
   "outputs": [],
   "source": [
    "# Partial vectorisation with Python generetors\n",
    "def partiral_vectorisation_1(X):\n",
    "    return np.array([x for x in X.diagonal() if x != 0]).prod()"
   ]
  },
  {
   "cell_type": "code",
   "execution_count": 6,
   "id": "usual-rider",
   "metadata": {},
   "outputs": [],
   "source": [
    "def solution_performace(X, full_vectorisation, normal, partiral_vectorisation, wrapperSoluton):\n",
    "    \n",
    "    print(\"Full vectorisation case: \")\n",
    "    %timeit full_vectorisation(X)\n",
    "    answer_1 = full_vectorisation(X)\n",
    "    print()\n",
    "\n",
    "    print(\"Normal case: \")\n",
    "    %timeit normal(X)\n",
    "    answer_2 = normal(X)\n",
    "    print()\n",
    "\n",
    "    print(\"Partial vectorisation case: \")\n",
    "    %timeit partiral_vectorisation(X)\n",
    "    answer_3 = partiral_vectorisation(X)\n",
    "    print()\n",
    "\n",
    "    wrapperSoluton(answer_1, answer_2, answer_3)"
   ]
  },
  {
   "cell_type": "markdown",
   "id": "appropriate-consequence",
   "metadata": {},
   "source": [
    "### Data generation"
   ]
  },
  {
   "cell_type": "markdown",
   "id": "widespread-palestinian",
   "metadata": {},
   "source": [
    "#### Задание матрицы малого размера, базовый случай. Ответ: 3"
   ]
  },
  {
   "cell_type": "code",
   "execution_count": 67,
   "id": "major-satin",
   "metadata": {},
   "outputs": [
    {
     "name": "stdout",
     "output_type": "stream",
     "text": [
      "Матрица целых случайных чисел: \n",
      " [[1 0 1]\n",
      " [2 0 2]\n",
      " [3 0 3]\n",
      " [4 4 4]]\n",
      "Вектор главной диагонали матрицы:\n",
      " [1 0 3]\n"
     ]
    }
   ],
   "source": [
    "X_small = np.array([[1, 0, 1], \n",
    "              [2, 0, 2], \n",
    "              [3, 0, 3], \n",
    "              [4, 4, 4]])\n",
    "print(\"Матрица целых случайных чисел: \\n\", X_small, end='\\n')\n",
    "print(\"Вектор главной диагонали матрицы:\\n\", X_small.diagonal(), end='\\n')"
   ]
  },
  {
   "cell_type": "markdown",
   "id": "prepared-guide",
   "metadata": {},
   "source": [
    "#### Задание матрицы среднего размера."
   ]
  },
  {
   "cell_type": "code",
   "execution_count": 8,
   "id": "tropical-chemical",
   "metadata": {},
   "outputs": [
    {
     "name": "stdout",
     "output_type": "stream",
     "text": [
      "Матрица целых случайных чисел: \n",
      " [[6 3 4 ... 5 4 1]\n",
      " [3 5 5 ... 6 1 3]\n",
      " [3 6 5 ... 0 6 1]\n",
      " ...\n",
      " [0 0 6 ... 1 0 2]\n",
      " [6 3 0 ... 2 2 5]\n",
      " [0 6 3 ... 6 0 3]]\n",
      "Вектор главной диагонали матрицы:\n",
      " [6 5 5 5 3 5 0 6 0 4 5 0 5 1 6 2 5 2 5]\n"
     ]
    }
   ],
   "source": [
    "np.random.seed(42)\n",
    "X_average = np.random.randint(0, 7, size = (78, 19))\n",
    "print(\"Матрица целых случайных чисел: \\n\", X_average, end='\\n')\n",
    "print(\"Вектор главной диагонали матрицы:\\n\", X_average.diagonal(), end='\\n')"
   ]
  },
  {
   "cell_type": "markdown",
   "id": "identical-cabinet",
   "metadata": {},
   "source": [
    "#### Задание матрицы большого размера."
   ]
  },
  {
   "cell_type": "code",
   "execution_count": 9,
   "id": "latest-eligibility",
   "metadata": {},
   "outputs": [
    {
     "name": "stdout",
     "output_type": "stream",
     "text": [
      "Матрица целых случайных чисел: \n",
      " [[2 0 2 ... 0 0 1]\n",
      " [2 2 1 ... 1 2 2]\n",
      " [1 0 0 ... 2 1 1]\n",
      " ...\n",
      " [2 2 0 ... 1 0 0]\n",
      " [2 0 2 ... 2 0 0]\n",
      " [1 1 1 ... 1 1 0]]\n",
      "Вектор главной диагонали матрицы:\n",
      " [2 2 0 2 1 2 0 2 2 2 0 0 1 0 0 2 1 2 0 0 2 1 2 2 2 1 1 1 0 0 1 1 2 2 1 1 2\n",
      " 0 2 2 1 2 1 1 2 0 1 0 2 1 2 0 1 2 0 0 1 2 2 0 1 0 2 1 0 2 2 0 1 2 1 0 2 2\n",
      " 2 0 2 1 2 0 0 1 1 1 1 0 2 0 1 2 0 0 1 1 2 0 2 0 0 2 2 2 0 2 2 1 0 1 0 0 1\n",
      " 2 1 2 2 1 1 1 1 2 2 1 0 2 1 1 0 2 1 1 2 2 1 2]\n"
     ]
    }
   ],
   "source": [
    "np.random.seed(42)\n",
    "X_large = np.random.randint(0, 3, size = (212, 134))\n",
    "print(\"Матрица целых случайных чисел: \\n\", X_large, end='\\n')\n",
    "print(\"Вектор главной диагонали матрицы:\\n\", X_large.diagonal(), end='\\n')"
   ]
  },
  {
   "cell_type": "markdown",
   "id": "legislative-headline",
   "metadata": {},
   "source": [
    "### Check the solution performance"
   ]
  },
  {
   "cell_type": "code",
   "execution_count": 10,
   "id": "proof-hollow",
   "metadata": {},
   "outputs": [
    {
     "name": "stdout",
     "output_type": "stream",
     "text": [
      "Full vectorisation case: \n",
      "9.84 µs ± 69.6 ns per loop (mean ± std. dev. of 7 runs, 100000 loops each)\n",
      "\n",
      "Normal case: \n",
      "2.89 µs ± 46.4 ns per loop (mean ± std. dev. of 7 runs, 100000 loops each)\n",
      "\n",
      "Partial vectorisation case: \n",
      "6.1 µs ± 77.2 ns per loop (mean ± std. dev. of 7 runs, 100000 loops each)\n",
      "\n",
      "EVERYTHING IS OK\n",
      "\t1) Full_Vectorisation = 3;\n",
      "\t2) Normal_Solution = 3;\n",
      "\t3) Partial_Vectorisation = 3.\n"
     ]
    }
   ],
   "source": [
    "solution_performace(X_small, full_vectorisation_1, normal_1, partiral_vectorisation_1, wrapperSoluton_1)"
   ]
  },
  {
   "cell_type": "code",
   "execution_count": 11,
   "id": "taken-picnic",
   "metadata": {},
   "outputs": [
    {
     "name": "stdout",
     "output_type": "stream",
     "text": [
      "Full vectorisation case: \n",
      "10 µs ± 333 ns per loop (mean ± std. dev. of 7 runs, 100000 loops each)\n",
      "\n",
      "Normal case: \n",
      "63.1 µs ± 1.21 µs per loop (mean ± std. dev. of 7 runs, 10000 loops each)\n",
      "\n",
      "Partial vectorisation case: \n",
      "11 µs ± 59.6 ns per loop (mean ± std. dev. of 7 runs, 100000 loops each)\n",
      "\n",
      "EVERYTHING IS OK\n",
      "\t1) Full_Vectorisation = 4050000000;\n",
      "\t2) Normal_Solution = 4050000000;\n",
      "\t3) Partial_Vectorisation = 4050000000.\n"
     ]
    }
   ],
   "source": [
    "solution_performace(X_average, full_vectorisation_1, normal_1, partiral_vectorisation_1, wrapperSoluton_1)"
   ]
  },
  {
   "cell_type": "code",
   "execution_count": 12,
   "id": "small-composer",
   "metadata": {},
   "outputs": [
    {
     "name": "stdout",
     "output_type": "stream",
     "text": [
      "Full vectorisation case: \n",
      "11.4 µs ± 795 ns per loop (mean ± std. dev. of 7 runs, 100000 loops each)\n",
      "\n",
      "Normal case: \n",
      "1.07 ms ± 39.5 µs per loop (mean ± std. dev. of 7 runs, 1000 loops each)\n",
      "\n",
      "Partial vectorisation case: \n",
      "54.7 µs ± 6.27 µs per loop (mean ± std. dev. of 7 runs, 10000 loops each)\n",
      "\n",
      "EVERYTHING IS OK\n",
      "\t1) Full_Vectorisation = 9007199254740992;\n",
      "\t2) Normal_Solution = 9007199254740992;\n",
      "\t3) Partial_Vectorisation = 9007199254740992.\n"
     ]
    }
   ],
   "source": [
    "solution_performace(X_large, full_vectorisation_1, normal_1, partiral_vectorisation_1, wrapperSoluton_1)"
   ]
  },
  {
   "cell_type": "markdown",
   "id": "legitimate-resort",
   "metadata": {},
   "source": [
    "# Conclusion"
   ]
  },
  {
   "cell_type": "markdown",
   "id": "controversial-plain",
   "metadata": {},
   "source": [
    "Как видно, в зависимости от размера входных данных для различных реализаций вычислений, время операций может варьироваться. На малых выборках не имеет значения, используются ли векторизованные вычисления или базовые конструкции Python.  \n",
    "Векторизация начинает иметь все больший вес при увеличении данных. При этом выигрыш в вычислениях в случае большой выборки составляет почти 90 раз.  \n",
    "\n",
    "__Также отметим, что частично векторизованное решение достаточно уступает векторизованному решению__"
   ]
  },
  {
   "cell_type": "markdown",
   "id": "official-assignment",
   "metadata": {},
   "source": [
    "# MARK:"
   ]
  },
  {
   "cell_type": "markdown",
   "id": "atomic-automation",
   "metadata": {},
   "source": [
    "# 2. Дана матрица X и два вектора одинаковой длины i и j. Построить вектор np.array([X[i[0], j[0]], X[i[1], j[1]], ... , X[i[N-1], j[N-1]]])."
   ]
  },
  {
   "cell_type": "code",
   "execution_count": 13,
   "id": "adverse-crime",
   "metadata": {},
   "outputs": [],
   "source": [
    "# Check correct answer function\n",
    "def wrapperSoluton_2(answer_1, answer_2, answer_3):\n",
    "    if np.array_equal(answer_1, answer_2) == np.array_equal(answer_1, answer_3) == np.array_equal(answer_2, answer_3):\n",
    "        print(f\"EVERYTHING IS OK\")\n",
    "        print(f\"\\t1) Full_Vectorisation = {answer_1};\\n\\t2) Normal_Solution = {answer_2};\\n\\t3) Partial_Vectorisation = {answer_3}.\")\n",
    "    else:\n",
    "        print(f\"FAIL. THERE IS A MISTAKE\")\n",
    "        print(f\"\\t1) Full_Vectorisation = {answer_1};\\n\\t2) Normal_Solution = {answer_2};\\n\\t3) Partial_Vectorisation = {answer_3}.\")"
   ]
  },
  {
   "cell_type": "code",
   "execution_count": 14,
   "id": "junior-parallel",
   "metadata": {},
   "outputs": [],
   "source": [
    "def data_generation(matrix_size, vector_size):\n",
    "    np.random.seed(42)\n",
    "    X = np.random.randint(0, 10, size = (matrix_size, matrix_size))\n",
    "    print(\"Матрица целых случайных чисел: \\n\", X, end='\\n')\n",
    "\n",
    "    # Задание первого вектора\n",
    "    i = np.random.randint(0, len(X), size = vector_size)\n",
    "    print(\"Первый вектор индексов: \\n\", i, end='\\n')\n",
    "    # Задание второго вектора\n",
    "    j = np.random.randint(0, len(X), size = vector_size)\n",
    "    print(\"Второй вектор индексов: \\n\", j, end='\\n')\n",
    "    \n",
    "    return X, i, j"
   ]
  },
  {
   "cell_type": "code",
   "execution_count": 15,
   "id": "treated-activity",
   "metadata": {},
   "outputs": [],
   "source": [
    "def solution_performace(X, i, j, full_vectorisation, normal, partiral_vectorisation, wrapperSoluton):\n",
    "    \n",
    "    print(\"Full vectorisation case: \")\n",
    "    %timeit full_vectorisation(X, i, j)\n",
    "    answer_1 = full_vectorisation(X, i, j)\n",
    "    print()\n",
    "\n",
    "    print(\"Normal case: \")\n",
    "    %timeit normal(X, i, j)\n",
    "    answer_2 = np.array(normal(X, i, j))\n",
    "    print()\n",
    "\n",
    "    print(\"Partial vectorisation case: \")\n",
    "    %timeit partiral_vectorisation(X, i, j)\n",
    "    answer_3 = np.array(partiral_vectorisation(X, i, j))\n",
    "    print()\n",
    "\n",
    "    wrapperSoluton(answer_1, answer_2, answer_3)"
   ]
  },
  {
   "cell_type": "code",
   "execution_count": 16,
   "id": "italian-behalf",
   "metadata": {},
   "outputs": [],
   "source": [
    "# Full vectorisation solution using only numpy.array methods\n",
    "def full_vectorisation_2(X, i, j):\n",
    "    return X[i,j]"
   ]
  },
  {
   "cell_type": "code",
   "execution_count": 17,
   "id": "broad-creature",
   "metadata": {},
   "outputs": [],
   "source": [
    "# Standard solution with using Python cycles\n",
    "def normal_2(X, i, j):\n",
    "    answer = []\n",
    "    for k in range(len(i)):\n",
    "        answer.append(X[i[k]][j[k]])\n",
    "    return answer"
   ]
  },
  {
   "cell_type": "code",
   "execution_count": 18,
   "id": "disciplinary-trigger",
   "metadata": {},
   "outputs": [],
   "source": [
    "# Partial vectorisation with Python generetors\n",
    "def partiral_vectorisation_2(X, i, j):\n",
    "    return [X[i[k]][j[k]] for k in range(len(i))]"
   ]
  },
  {
   "cell_type": "code",
   "execution_count": 19,
   "id": "civil-apparatus",
   "metadata": {},
   "outputs": [
    {
     "name": "stdout",
     "output_type": "stream",
     "text": [
      "Матрица целых случайных чисел: \n",
      " [[6 3 7 4]\n",
      " [6 9 2 6]\n",
      " [7 4 3 7]\n",
      " [7 2 5 4]]\n",
      "Первый вектор индексов: \n",
      " [1 3 3]\n",
      "Второй вектор индексов: \n",
      " [1 1 1]\n"
     ]
    }
   ],
   "source": [
    "X_small, i_small, j_small = data_generation(4, 3)"
   ]
  },
  {
   "cell_type": "code",
   "execution_count": 20,
   "id": "involved-bryan",
   "metadata": {},
   "outputs": [
    {
     "name": "stdout",
     "output_type": "stream",
     "text": [
      "Матрица целых случайных чисел: \n",
      " [[6 3 7 4 6 9 2 6 7 4 3 7 7 2 5 4 1 7 5 1 4 0 9 5 8 0 9]\n",
      " [2 6 3 8 2 4 2 6 4 8 6 1 3 8 1 9 8 9 4 1 3 6 7 2 0 3 1]\n",
      " [7 3 1 5 5 9 3 5 1 9 1 9 3 7 6 8 7 4 1 4 7 9 8 8 0 8 6]\n",
      " [8 7 0 7 7 2 0 7 2 2 0 4 9 6 9 8 6 8 7 1 0 6 6 7 4 2 7]\n",
      " [5 2 0 2 4 2 0 4 9 6 6 8 9 9 2 6 0 3 3 4 6 6 3 6 2 5 1]\n",
      " [9 8 4 5 3 9 6 8 6 0 0 8 8 3 8 2 6 5 7 8 4 0 2 9 7 5 7]\n",
      " [8 3 0 0 9 3 6 1 2 0 4 0 7 0 0 1 1 5 6 4 0 0 2 1 4 9 5]\n",
      " [6 3 6 7 0 5 7 4 3 1 5 5 0 8 5 2 3 3 2 9 2 2 3 6 3 8 0]\n",
      " [7 6 1 7 0 8 8 1 6 9 2 6 9 8 3 0 1 0 4 4 6 8 8 2 2 2 3]\n",
      " [7 5 7 0 7 3 0 7 3 5 7 3 2 8 2 8 1 1 1 5 2 8 3 0 3 0 4]\n",
      " [3 7 7 6 2 0 0 2 5 6 5 5 5 2 5 7 1 4 0 0 4 2 3 2 0 0 4]\n",
      " [5 2 8 4 7 0 4 2 0 3 4 6 0 2 1 8 9 5 9 2 7 7 1 5 6 1 9]\n",
      " [1 9 0 7 0 8 5 6 9 6 9 2 1 8 7 9 6 8 3 3 0 7 2 6 1 1 6]\n",
      " [5 2 8 9 5 9 9 5 0 3 9 5 5 4 0 7 4 4 6 3 5 3 2 6 7 3 1]\n",
      " [9 2 0 7 2 9 6 9 4 9 4 6 8 4 0 9 9 0 1 5 8 7 4 0 6 4 5]\n",
      " [6 2 9 2 4 5 8 4 0 3 4 9 9 4 6 3 0 4 6 9 9 5 4 3 1 3 9]\n",
      " [9 2 9 0 7 4 3 7 6 1 0 3 7 1 2 0 0 2 4 2 0 0 7 9 1 2 1]\n",
      " [2 6 0 9 7 9 9 9 1 2 8 6 3 9 4 1 7 3 8 4 8 3 9 4 8 7 2]\n",
      " [0 2 3 1 0 6 7 6 4 0 6 6 8 2 8 0 0 3 8 5 2 0 3 8 2 8 6]\n",
      " [3 2 9 4 4 2 8 3 4 3 4 6 8 6 4 9 9 6 9 4 2 6 1 8 9 9 0]\n",
      " [5 6 7 9 8 1 9 1 4 4 5 2 7 0 5 3 0 6 8 3 3 5 2 5 6 9 9]\n",
      " [2 6 2 1 9 3 7 8 6 0 2 8 0 8 7 0 5 4 5 9 4 5 4 4 3 2 2]\n",
      " [3 8 1 8 0 0 4 5 5 2 6 8 9 7 5 7 4 7 9 3 9 7 9 1 4 8 3]\n",
      " [5 0 8 0 4 3 2 5 1 2 4 8 1 9 7 1 4 6 7 0 5 0 1 0 4 9 8]\n",
      " [5 0 0 1 8 2 0 4 6 5 0 4 4 5 2 4 6 4 4 4 9 9 2 0 4 8 0]\n",
      " [2 3 0 0 7 1 7 6 9 9 1 5 5 2 1 0 5 4 8 0 6 4 4 1 2 6 5]\n",
      " [1 5 1 1 1 2 1 3 8 5 0 7 6 9 2 0 4 3 9 7 0 9 0 3 7 4 1]]\n",
      "Первый вектор индексов: \n",
      " [ 5 20  1 12 10 10]\n",
      "Второй вектор индексов: \n",
      " [15 10 18 14 24 22]\n"
     ]
    }
   ],
   "source": [
    "X_average, i_average, j_average = data_generation(27, 6)"
   ]
  },
  {
   "cell_type": "code",
   "execution_count": 21,
   "id": "disturbed-maryland",
   "metadata": {},
   "outputs": [
    {
     "name": "stdout",
     "output_type": "stream",
     "text": [
      "Матрица целых случайных чисел: \n",
      " [[6 3 7 ... 8 7 1]\n",
      " [0 6 6 ... 5 5 0]\n",
      " [8 5 2 ... 4 7 0]\n",
      " ...\n",
      " [5 2 1 ... 9 2 9]\n",
      " [4 2 4 ... 2 0 7]\n",
      " [5 8 2 ... 6 8 3]]\n",
      "Первый вектор индексов: \n",
      " [24 62 95 29 44 89 60 99 50 97  8 75  1  4 61 68 51 85  4 58 67  8 92 21\n",
      " 26  9 79 60 50  9  5 61  4 69 62 55 58 62 88 58 50 49  3 47 31 50 51 98\n",
      " 73 33 35 69]\n",
      "Второй вектор индексов: \n",
      " [42 15 58 52 18 97 88 94 40 80 46 93 53 54 94 18 61 98 92 58 64 67 27 17\n",
      " 25 18 54 56  5  0  7 96 50 84 87 24 46 54 63 82 92  9 55 11 32 70 16 60\n",
      "  9 30 59 69]\n"
     ]
    }
   ],
   "source": [
    "X_large, i_large, j_large = data_generation(101, 52)"
   ]
  },
  {
   "cell_type": "code",
   "execution_count": 22,
   "id": "judicial-shooting",
   "metadata": {},
   "outputs": [
    {
     "name": "stdout",
     "output_type": "stream",
     "text": [
      "Full vectorisation case: \n",
      "1.11 µs ± 125 ns per loop (mean ± std. dev. of 7 runs, 1000000 loops each)\n",
      "\n",
      "Normal case: \n",
      "2.53 µs ± 374 ns per loop (mean ± std. dev. of 7 runs, 100000 loops each)\n",
      "\n",
      "Partial vectorisation case: \n",
      "3.32 µs ± 335 ns per loop (mean ± std. dev. of 7 runs, 100000 loops each)\n",
      "\n",
      "EVERYTHING IS OK\n",
      "\t1) Full_Vectorisation = [9 2 2];\n",
      "\t2) Normal_Solution = [9 2 2];\n",
      "\t3) Partial_Vectorisation = [9 2 2].\n"
     ]
    }
   ],
   "source": [
    "solution_performace(X_small, i_small, j_small, \n",
    "                    full_vectorisation_2, normal_2, partiral_vectorisation_2, wrapperSoluton_2)"
   ]
  },
  {
   "cell_type": "code",
   "execution_count": 23,
   "id": "developmental-feelings",
   "metadata": {},
   "outputs": [
    {
     "name": "stdout",
     "output_type": "stream",
     "text": [
      "Full vectorisation case: \n",
      "1.19 µs ± 101 ns per loop (mean ± std. dev. of 7 runs, 1000000 loops each)\n",
      "\n",
      "Normal case: \n",
      "4.46 µs ± 364 ns per loop (mean ± std. dev. of 7 runs, 100000 loops each)\n",
      "\n",
      "Partial vectorisation case: \n",
      "4.6 µs ± 378 ns per loop (mean ± std. dev. of 7 runs, 100000 loops each)\n",
      "\n",
      "EVERYTHING IS OK\n",
      "\t1) Full_Vectorisation = [2 5 4 7 0 3];\n",
      "\t2) Normal_Solution = [2 5 4 7 0 3];\n",
      "\t3) Partial_Vectorisation = [2 5 4 7 0 3].\n"
     ]
    }
   ],
   "source": [
    "solution_performace(X_average, i_average, j_average, \n",
    "                    full_vectorisation_2, normal_2, partiral_vectorisation_2, wrapperSoluton_2)"
   ]
  },
  {
   "cell_type": "code",
   "execution_count": 24,
   "id": "japanese-bosnia",
   "metadata": {},
   "outputs": [
    {
     "name": "stdout",
     "output_type": "stream",
     "text": [
      "Full vectorisation case: \n",
      "1.4 µs ± 195 ns per loop (mean ± std. dev. of 7 runs, 1000000 loops each)\n",
      "\n",
      "Normal case: \n",
      "48.1 µs ± 4.9 µs per loop (mean ± std. dev. of 7 runs, 10000 loops each)\n",
      "\n",
      "Partial vectorisation case: \n",
      "43.9 µs ± 1.57 µs per loop (mean ± std. dev. of 7 runs, 10000 loops each)\n",
      "\n",
      "EVERYTHING IS OK\n",
      "\t1) Full_Vectorisation = [6 2 6 3 6 6 0 9 2 1 5 3 8 1 4 8 2 7 6 8 1 9 1 5 6 7 5 8 8 2 6 4 7 7 5 6 0\n",
      " 4 1 1 7 0 5 4 6 1 3 5 5 7 1 9];\n",
      "\t2) Normal_Solution = [6 2 6 3 6 6 0 9 2 1 5 3 8 1 4 8 2 7 6 8 1 9 1 5 6 7 5 8 8 2 6 4 7 7 5 6 0\n",
      " 4 1 1 7 0 5 4 6 1 3 5 5 7 1 9];\n",
      "\t3) Partial_Vectorisation = [6 2 6 3 6 6 0 9 2 1 5 3 8 1 4 8 2 7 6 8 1 9 1 5 6 7 5 8 8 2 6 4 7 7 5 6 0\n",
      " 4 1 1 7 0 5 4 6 1 3 5 5 7 1 9].\n"
     ]
    }
   ],
   "source": [
    "solution_performace(X_large, i_large, j_large, \n",
    "                    full_vectorisation_2, normal_2, partiral_vectorisation_2, wrapperSoluton_2)"
   ]
  },
  {
   "cell_type": "markdown",
   "id": "bright-bernard",
   "metadata": {},
   "source": [
    "# Conclusion"
   ]
  },
  {
   "cell_type": "markdown",
   "id": "earlier-portal",
   "metadata": {},
   "source": [
    "Как и в задании 1. Векторизованное решение выигрывает в разы по сравнению с другими. В данном случае, это правило распространяется на выборки любого размера\n",
    "\n",
    "__Также отметим, что частично векторизованное решение достаточно уступает векторизованному решению__"
   ]
  },
  {
   "cell_type": "markdown",
   "id": "returning-walter",
   "metadata": {},
   "source": [
    "# MARK:"
   ]
  },
  {
   "cell_type": "markdown",
   "id": "standing-smooth",
   "metadata": {},
   "source": [
    "# 3. Даны два вектора x и y. Проверить, задают ли они одно и то же мультимножество. \n",
    "Для x = np.array([1, 2, 2, 4]), y = np.array([4, 2, 1, 2]) ответ True."
   ]
  },
  {
   "cell_type": "markdown",
   "id": "spread-remains",
   "metadata": {},
   "source": [
    "\"Мультимножество — модификация понятия множества, допускающая включение одного и того же элемента в совокупность по нескольку раз. Число элементов в мультимножестве, с учётом повторяющихся элементов, называется его размером или мощностью.\""
   ]
  },
  {
   "cell_type": "code",
   "execution_count": 25,
   "id": "fifty-community",
   "metadata": {},
   "outputs": [],
   "source": [
    "# Check correct answer function\n",
    "def wrapperSoluton_3(answer_1, answer_2, answer_3):\n",
    "    if answer_1 and answer_2 and answer_3:\n",
    "        print(f\"EVERYTHING IS OK\")\n",
    "        print(f\"\\t1) Full_Vectorisation = {answer_1};\\n\\t2) Normal_Solution = {answer_2};\\n\\t3) Partial_Vectorisation = {answer_3}.\")\n",
    "    else:\n",
    "        print(f\"FAIL. THERE IS A MISTAKE\")\n",
    "        print(f\"\\t1) Full_Vectorisation = {answer_1};\\n\\t2) Normal_Solution = {answer_2};\\n\\t3) Partial_Vectorisation = {answer_3}.\")"
   ]
  },
  {
   "cell_type": "code",
   "execution_count": 26,
   "id": "compliant-niger",
   "metadata": {},
   "outputs": [],
   "source": [
    "def data_generation(vector_size_1, vector_size_2):\n",
    "\n",
    "    # Задание первого вектора\n",
    "    x = np.random.randint(0, 2, size = vector_size_1)\n",
    "    print(\"Первый вектор индексов: \\n\", x, end='\\n')\n",
    "    # Задание второго вектора\n",
    "    y = np.random.randint(0, 2, size = vector_size_2)\n",
    "    print(\"Второй вектор индексов: \\n\", y, end='\\n')\n",
    "    \n",
    "    return x, y"
   ]
  },
  {
   "cell_type": "code",
   "execution_count": 27,
   "id": "supposed-oxford",
   "metadata": {},
   "outputs": [],
   "source": [
    "def solution_performace(x, y, full_vectorisation, normal, partiral_vectorisation, wrapperSoluton):\n",
    "    \n",
    "    print(\"Full vectorisation case: \")\n",
    "    %timeit full_vectorisation(x, y)\n",
    "    answer_1 = full_vectorisation(x, y)\n",
    "    print()\n",
    "\n",
    "    print(\"Normal case: \")\n",
    "    %timeit normal(x, y)\n",
    "    answer_2 = normal(x, y)\n",
    "    print()\n",
    "\n",
    "    print(\"Partial vectorisation case: \")\n",
    "    %timeit partiral_vectorisation(x, y)\n",
    "    answer_3 = partiral_vectorisation(x, y)\n",
    "    print()\n",
    "\n",
    "    wrapperSoluton(answer_1, answer_2, answer_3)"
   ]
  },
  {
   "cell_type": "code",
   "execution_count": 28,
   "id": "instructional-blake",
   "metadata": {},
   "outputs": [],
   "source": [
    "# Full vectorisation solution using only numpy.array methods\n",
    "def full_vectorisation_3(x, y):\n",
    "    x.sort()\n",
    "    y.sort()\n",
    "    return np.array_equal(x, y)"
   ]
  },
  {
   "cell_type": "code",
   "execution_count": 29,
   "id": "surrounded-lesson",
   "metadata": {},
   "outputs": [],
   "source": [
    "# Standard solution with using Python cycles\n",
    "def normal_3(x, y):\n",
    "    if len(x) != len(y):\n",
    "        return False\n",
    "\n",
    "    x.sort()\n",
    "    y.sort()\n",
    "\n",
    "    answer = False\n",
    "    for i in range(len(x)):\n",
    "        if x[i] == y[i]:\n",
    "            answer = True\n",
    "        else:\n",
    "            answer = False\n",
    "            break\n",
    "\n",
    "    return answer"
   ]
  },
  {
   "cell_type": "code",
   "execution_count": 30,
   "id": "stainless-jordan",
   "metadata": {},
   "outputs": [],
   "source": [
    "# Using collections.Counter\n",
    "from collections import Counter\n",
    "def partiral_vectorisation_3(x, y):\n",
    "    if len(x) != len(y):\n",
    "        return False\n",
    "\n",
    "    x_counter, y_counter = Counter(), Counter()\n",
    "\n",
    "    for x_digit, y_digit in zip(x, y):\n",
    "        x_counter[x_digit] += 1\n",
    "        y_counter[y_digit] += 1\n",
    "    if x_counter == y_counter:\n",
    "        return True\n",
    "    else:\n",
    "        return False"
   ]
  },
  {
   "cell_type": "code",
   "execution_count": 31,
   "id": "built-vitamin",
   "metadata": {},
   "outputs": [
    {
     "name": "stdout",
     "output_type": "stream",
     "text": [
      "Первый вектор индексов: \n",
      " [0 1 0 1 1]\n",
      "Второй вектор индексов: \n",
      " [1 0 1 1 1]\n"
     ]
    }
   ],
   "source": [
    "x_small, y_small = data_generation(5, 5)"
   ]
  },
  {
   "cell_type": "code",
   "execution_count": 32,
   "id": "welsh-progressive",
   "metadata": {},
   "outputs": [
    {
     "name": "stdout",
     "output_type": "stream",
     "text": [
      "Первый вектор индексов: \n",
      " [1 0 0 1 1 1 0 1 1 0 0 0 1 0 0 1 0 1 1 0 1 0 0 0 1 0 1 1 1]\n",
      "Второй вектор индексов: \n",
      " [0 1 1 0 0 1 1 0 1 1 1 1 0 1 0 1 0 1 0 1 0 1 1 0 0 0 0 0 1]\n"
     ]
    }
   ],
   "source": [
    "x_average, y_average = data_generation(29, 29)"
   ]
  },
  {
   "cell_type": "code",
   "execution_count": 33,
   "id": "whole-lafayette",
   "metadata": {},
   "outputs": [
    {
     "name": "stdout",
     "output_type": "stream",
     "text": [
      "Первый вектор индексов: \n",
      " [0 0 1 0 0 0 1 0 1 1 0 1 0 0 0 0 0 1 1 1 1 0 0 1 0 1 1 1 1 0 0 1 1 1 1 1 0\n",
      " 1 1 0 0 0 0 0 0 0 0 0 1 0 1 1 1 1 1 1 1 1 0 1 1 1 1 0 1 0 0 1 1 0 1 1 0 0\n",
      " 1 1 1 0 1 0 0 1 0 1 1 0 1 0 0 1 1 1 1 0 0 0 1 0 0 1 1 1 0 1 0 0 0 0 0 1 0\n",
      " 1 0 0 1 0 0 1 1 0 0 0 1 0 1 1 0 1 0 0 1 1 1 1 1 1 0 0 0 1 1 1 0 0 1 1 1 1\n",
      " 0 0 0 1 0 1 1 1 0 0 1 0 1 1 1 0 0 1 0 0 0 0 1 0 1 1 0 1 1 0 1 1 0 0 0 0 0\n",
      " 1 1 0 0 1 0 0 1 1 1 0 1 0 1 0 0 0 1 1 1 0 1 1 0 0 1 1 1 0 1 0 0 1 1 0 0 1\n",
      " 1 1 0 0 1 0 0 1 0 1 1 0 0 1 0 1 0 0 0 1 0 1 1 1 0 1 1 0 1 1 0 1 0 1 1 0 1\n",
      " 1 1 0 0 0 0 0 1 0 0 0 1 1 0 1 1 1 1 0 0 1 1 1 1 0 1 0 1 0 1 0 0 0 1 0 1 0\n",
      " 0 1 0 1 1 1 1 0 0 1 0 0 1 0 1 0 0 1 0 0 1 0 1 0 1 1 1 1 1 0 0 1 0 1 0 0 1\n",
      " 1 0 0 1 0 0 1 0 1 1 1 0 0 1 1 0 0 0 1 1 0 0 0 1 1 0 0 1 1 0 0 0 1 0 1 1 0\n",
      " 0 1 0 1 0 0 0 0 1 1 1 0 1 1 1 0 1 0 0 1 0 1 1 1 1 1 0 1 0 1 1 1 0 0 0 0 1\n",
      " 1 0 0 0 1 0 0 1 0 1 1 1 1 1 0 0 1 1 0 0 1 0 0 1 0 0 0 0 1 0 1 0 1 1 0 1 1\n",
      " 1 1 1 0 1 1]\n",
      "Второй вектор индексов: \n",
      " [0 0 1 0 0 0 0 0 0 1 1 0 0 1 0 1 0 1 1 0 0 0 0 1 0 1 0 1 0 0 1 0 0 0 0 0 1\n",
      " 0 1 0 0 1 1 1 1 1 0 1 1 0 0 1 1 1 0 1 0 0 0 0 1 0 0 1 0 1 0 1 0 0 1 0 0 1\n",
      " 0 0 1 1 1 1 1 0 1 0 1 0 0 1 0 0 1 1 1 1 0 0 0 0 0 0 1 0 0 0 1 1 1 1 0 0 0\n",
      " 1 0 0 0 1 1 1 0 0 0 0 1 0 1 0 1 0 0 1 1 0 0 0 1 0 1 0 0 0 0 1 1 0 0 0 1 0\n",
      " 1 1 1 1 0 0 1 0 0 0 1 0 0 0 0 0 0 0 0 0 0 1 0 1 0 1 1 0 1 1 1 0 1 1 0 1 1\n",
      " 1 0 1 0 1 1 1 1 0 1 0 1 0 1 1 0 0 0 0 1 0 0 0 1 1 1 1 0 1 0 1 0 0 0 0 0 1\n",
      " 0 0 0 0 1 1 0 0 0 0 1 1 0 0 0 0 0 1 1 0 1 1 1 0 1 1 0 1 0 1 0 0 1 1 0 0 1\n",
      " 1 1 1 0 0 0 1 1 0 0 0 0 0 0 1 0 0 0 0 0 0 0 1 0 1 1 1 0 0 0 0 0 0 0 0 0 0\n",
      " 1 0 0 0 1 0 0 1 0 1 1 1 1 0 1 1 0 0 0 1 0 1 1 0 0 0 0 0 0 1 1 0 1 1 1 1 1\n",
      " 1 0 0 0 1 0 0 0 1 0 1 0 0 0 1 1 1 1 1 0 0 1 1 0 1 0 1 0 1 1 0 0 1 1 0 1 0\n",
      " 0 1 0 0 1 0 0 0 0 1 0 1 0 1 0 1 0 0 0 0 1 1 0 1 0 0 1 1 1 0 0 1 0 1 1 1 1\n",
      " 1 1 0 0 1 1 1 0 1 1 1 0 1 0 0 1 0 0 0 1 0 1 1 1 0 1 0 0 0 0 1 1 0 1 1 1 0\n",
      " 1 0 1 0 0 0]\n"
     ]
    }
   ],
   "source": [
    "x_large, y_large = data_generation(450, 450)"
   ]
  },
  {
   "cell_type": "code",
   "execution_count": 34,
   "id": "valued-cedar",
   "metadata": {},
   "outputs": [
    {
     "name": "stdout",
     "output_type": "stream",
     "text": [
      "Full vectorisation case: \n",
      "6.67 µs ± 273 ns per loop (mean ± std. dev. of 7 runs, 100000 loops each)\n",
      "\n",
      "Normal case: \n",
      "1.7 µs ± 41.5 ns per loop (mean ± std. dev. of 7 runs, 100000 loops each)\n",
      "\n",
      "Partial vectorisation case: \n",
      "5.81 µs ± 581 ns per loop (mean ± std. dev. of 7 runs, 100000 loops each)\n",
      "\n",
      "FAIL. THERE IS A MISTAKE\n",
      "\t1) Full_Vectorisation = False;\n",
      "\t2) Normal_Solution = False;\n",
      "\t3) Partial_Vectorisation = False.\n"
     ]
    }
   ],
   "source": [
    "solution_performace(x_small, y_small, \n",
    "                    full_vectorisation_3, normal_3, partiral_vectorisation_3, wrapperSoluton_3)"
   ]
  },
  {
   "cell_type": "code",
   "execution_count": 35,
   "id": "furnished-spare",
   "metadata": {},
   "outputs": [
    {
     "name": "stdout",
     "output_type": "stream",
     "text": [
      "Full vectorisation case: \n",
      "4.77 µs ± 386 ns per loop (mean ± std. dev. of 7 runs, 100000 loops each)\n",
      "\n",
      "Normal case: \n",
      "8.16 µs ± 62.5 ns per loop (mean ± std. dev. of 7 runs, 100000 loops each)\n",
      "\n",
      "Partial vectorisation case: \n",
      "22.5 µs ± 3.51 µs per loop (mean ± std. dev. of 7 runs, 100000 loops each)\n",
      "\n",
      "EVERYTHING IS OK\n",
      "\t1) Full_Vectorisation = True;\n",
      "\t2) Normal_Solution = True;\n",
      "\t3) Partial_Vectorisation = True.\n"
     ]
    }
   ],
   "source": [
    "solution_performace(x_average, y_average, \n",
    "                    full_vectorisation_3, normal_3, partiral_vectorisation_3, wrapperSoluton_3)"
   ]
  },
  {
   "cell_type": "code",
   "execution_count": 36,
   "id": "organized-administrator",
   "metadata": {},
   "outputs": [
    {
     "name": "stdout",
     "output_type": "stream",
     "text": [
      "Full vectorisation case: \n",
      "8.42 µs ± 573 ns per loop (mean ± std. dev. of 7 runs, 100000 loops each)\n",
      "\n",
      "Normal case: \n",
      "68.9 µs ± 4.43 µs per loop (mean ± std. dev. of 7 runs, 10000 loops each)\n",
      "\n",
      "Partial vectorisation case: \n",
      "296 µs ± 50.3 µs per loop (mean ± std. dev. of 7 runs, 1000 loops each)\n",
      "\n",
      "FAIL. THERE IS A MISTAKE\n",
      "\t1) Full_Vectorisation = False;\n",
      "\t2) Normal_Solution = False;\n",
      "\t3) Partial_Vectorisation = False.\n"
     ]
    }
   ],
   "source": [
    "solution_performace(x_large, y_large, \n",
    "                    full_vectorisation_3, normal_3, partiral_vectorisation_3, wrapperSoluton_3)"
   ]
  },
  {
   "cell_type": "markdown",
   "id": "spoken-wholesale",
   "metadata": {},
   "source": [
    "# Conclusion"
   ]
  },
  {
   "cell_type": "markdown",
   "id": "understanding-cycle",
   "metadata": {},
   "source": [
    "Аналогичная ситуация. Векторизованные методы отрабатывают быстрее невекторизованных. \n",
    "Использование модуля collections.Counter сильно замедляет работу в вычислениях.\n",
    "\n",
    "__Примечание__  \n",
    "В изначальном варианте векторизованного решения в метод np.array_equal передавались не заранее отсортированные массивы, а массивы, обертнутые в функци sorted(), т.е np.array_equal(sorted(X), sorted(Y)). Такое решение было в дальнейшем отвергнуто, в связи с большим падением скорости в вычислениях, получилась, что невекторизованное решение было в 2-3 раза эффективнее векторизованного."
   ]
  },
  {
   "cell_type": "markdown",
   "id": "circular-representation",
   "metadata": {},
   "source": [
    "# MARK:"
   ]
  },
  {
   "cell_type": "markdown",
   "id": "dimensional-stamp",
   "metadata": {},
   "source": [
    "# 4. Найти максимальный элемент в векторе x среди элементов, перед которыми стоит нулевой. \n",
    "Для x = np.array([6, 2, 0, 3, 0, 0, 5, 7, 0]) ответ 5."
   ]
  },
  {
   "cell_type": "code",
   "execution_count": 37,
   "id": "earned-travel",
   "metadata": {},
   "outputs": [],
   "source": [
    "# Check correct answer function\n",
    "def wrapperSoluton_4(answer_1, answer_2, answer_3):\n",
    "    if answer_1 == answer_2 == answer_3:\n",
    "        print(f\"EVERYTHING IS OK\")\n",
    "        print(f\"\\t1) Full_Vectorisation = {answer_1};\\n\\t2) Normal_Solution = {answer_2};\\n\\t3) Partial_Vectorisation = {answer_3}.\")\n",
    "    else:\n",
    "        print(f\"FAIL. THERE IS A MISTAKE\")\n",
    "        print(f\"\\t1) Full_Vectorisation = {answer_1};\\n\\t2) Normal_Solution = {answer_2};\\n\\t3) Partial_Vectorisation = {answer_3}.\")"
   ]
  },
  {
   "cell_type": "code",
   "execution_count": 38,
   "id": "useful-finance",
   "metadata": {},
   "outputs": [],
   "source": [
    "def data_generation(vector_size):\n",
    "\n",
    "    # Задание вектор\n",
    "    x = np.random.randint(0, 12, size = vector_size)\n",
    "    print(\"Первый вектор индексов: \\n\", x, end='\\n')\n",
    "\n",
    "    return x"
   ]
  },
  {
   "cell_type": "code",
   "execution_count": 39,
   "id": "graphic-academy",
   "metadata": {},
   "outputs": [],
   "source": [
    "def solution_performace(x, full_vectorisation, normal, partiral_vectorisation, wrapperSoluton):\n",
    "    \n",
    "    print(\"Full vectorisation case: \")\n",
    "    %timeit full_vectorisation(x)\n",
    "    answer_1 = full_vectorisation(x)\n",
    "    print()\n",
    "\n",
    "    print(\"Normal case: \")\n",
    "    %timeit normal(x)\n",
    "    answer_2 = normal(x)\n",
    "    print()\n",
    "\n",
    "    print(\"Partial vectorisation case: \")\n",
    "    %timeit partiral_vectorisation(x)\n",
    "    answer_3 = partiral_vectorisation(x)\n",
    "    print()\n",
    "\n",
    "    wrapperSoluton(answer_1, answer_2, answer_3)"
   ]
  },
  {
   "cell_type": "code",
   "execution_count": 40,
   "id": "important-insurance",
   "metadata": {},
   "outputs": [],
   "source": [
    "# Full vectorisation solution using only numpy.array methods\n",
    "def full_vectorisation_4(x):\n",
    "# Create a zero_mask\n",
    "    zero_mask = (x==0)\n",
    "    max_after_zero = x[1:][zero_mask[:-1]].max()\n",
    "    return max_after_zero"
   ]
  },
  {
   "cell_type": "code",
   "execution_count": 41,
   "id": "sorted-trace",
   "metadata": {},
   "outputs": [],
   "source": [
    "# Standard solution with using Python cycles\n",
    "def normal_4(x):\n",
    "    max_after_zero = -float(\"inf\")\n",
    "    for i in range(len(x)-1):\n",
    "        if (x[i] == 0) and (x[i+1] > max_after_zero):\n",
    "            max_after_zero = x[i+1]\n",
    "    return max_after_zero"
   ]
  },
  {
   "cell_type": "code",
   "execution_count": 42,
   "id": "characteristic-council",
   "metadata": {},
   "outputs": [],
   "source": [
    "# Using Python generators\n",
    "def partiral_vectorisation_4(x):\n",
    "    max_after_zero = max(x[i] for i in range(1, len(x)) if not x[i-1])\n",
    "    return max_after_zero"
   ]
  },
  {
   "cell_type": "code",
   "execution_count": 43,
   "id": "dress-missile",
   "metadata": {},
   "outputs": [
    {
     "name": "stdout",
     "output_type": "stream",
     "text": [
      "Первый вектор индексов: \n",
      " [ 9  2 11  0 11]\n"
     ]
    }
   ],
   "source": [
    "x_small = data_generation(5)"
   ]
  },
  {
   "cell_type": "code",
   "execution_count": 44,
   "id": "collectible-checklist",
   "metadata": {},
   "outputs": [
    {
     "name": "stdout",
     "output_type": "stream",
     "text": [
      "Первый вектор индексов: \n",
      " [ 2  4  6  3 10 10  0  5  1 11  2  3  5  5  6  4  6  1  0 11  9  7  0]\n"
     ]
    }
   ],
   "source": [
    "x_average = data_generation(23)"
   ]
  },
  {
   "cell_type": "code",
   "execution_count": 45,
   "id": "deluxe-handle",
   "metadata": {},
   "outputs": [
    {
     "name": "stdout",
     "output_type": "stream",
     "text": [
      "Первый вектор индексов: \n",
      " [11  1 10 11  9  5  0  9  2  6 11  7  3 11  2  0 11  8  9  5  5  8  0  5\n",
      " 11  4 10  5 10  7  4  1 11 11  1  9  4  2  9  2  7  6  0 11 11  4  8  3\n",
      "  0  7  4  1 11  0 11 11 11  2  8  0  3  7  7  9 11 10 10  7  9  7  3  7\n",
      "  8  6 11  1  8 10  7  4 11  2  6  1  2 11  8  3  3  2  4  2  8  2  1 11\n",
      "  4  5  0 11 10]\n"
     ]
    }
   ],
   "source": [
    "x_large = data_generation(101)"
   ]
  },
  {
   "cell_type": "code",
   "execution_count": 46,
   "id": "novel-season",
   "metadata": {},
   "outputs": [
    {
     "name": "stdout",
     "output_type": "stream",
     "text": [
      "Full vectorisation case: \n",
      "3.79 µs ± 145 ns per loop (mean ± std. dev. of 7 runs, 100000 loops each)\n",
      "\n",
      "Normal case: \n",
      "3 µs ± 55.9 ns per loop (mean ± std. dev. of 7 runs, 100000 loops each)\n",
      "\n",
      "Partial vectorisation case: \n",
      "1.19 µs ± 47.8 ns per loop (mean ± std. dev. of 7 runs, 1000000 loops each)\n",
      "\n",
      "EVERYTHING IS OK\n",
      "\t1) Full_Vectorisation = 11;\n",
      "\t2) Normal_Solution = 11;\n",
      "\t3) Partial_Vectorisation = 11.\n"
     ]
    }
   ],
   "source": [
    "solution_performace(x_small, \n",
    "                    full_vectorisation_4, normal_4, partiral_vectorisation_4, wrapperSoluton_4)"
   ]
  },
  {
   "cell_type": "code",
   "execution_count": 47,
   "id": "handy-wrestling",
   "metadata": {},
   "outputs": [
    {
     "name": "stdout",
     "output_type": "stream",
     "text": [
      "Full vectorisation case: \n",
      "5.79 µs ± 968 ns per loop (mean ± std. dev. of 7 runs, 100000 loops each)\n",
      "\n",
      "Normal case: \n",
      "11.7 µs ± 1.67 µs per loop (mean ± std. dev. of 7 runs, 100000 loops each)\n",
      "\n",
      "Partial vectorisation case: \n",
      "5.8 µs ± 481 ns per loop (mean ± std. dev. of 7 runs, 100000 loops each)\n",
      "\n",
      "EVERYTHING IS OK\n",
      "\t1) Full_Vectorisation = 11;\n",
      "\t2) Normal_Solution = 11;\n",
      "\t3) Partial_Vectorisation = 11.\n"
     ]
    }
   ],
   "source": [
    "solution_performace(x_average, \n",
    "                    full_vectorisation_4, normal_4, partiral_vectorisation_4, wrapperSoluton_4)"
   ]
  },
  {
   "cell_type": "code",
   "execution_count": 48,
   "id": "applied-biotechnology",
   "metadata": {},
   "outputs": [
    {
     "name": "stdout",
     "output_type": "stream",
     "text": [
      "Full vectorisation case: \n",
      "6.3 µs ± 1.33 µs per loop (mean ± std. dev. of 7 runs, 100000 loops each)\n",
      "\n",
      "Normal case: \n",
      "34.2 µs ± 3.14 µs per loop (mean ± std. dev. of 7 runs, 10000 loops each)\n",
      "\n",
      "Partial vectorisation case: \n",
      "15.4 µs ± 599 ns per loop (mean ± std. dev. of 7 runs, 100000 loops each)\n",
      "\n",
      "EVERYTHING IS OK\n",
      "\t1) Full_Vectorisation = 11;\n",
      "\t2) Normal_Solution = 11;\n",
      "\t3) Partial_Vectorisation = 11.\n"
     ]
    }
   ],
   "source": [
    "solution_performace(x_large, \n",
    "                    full_vectorisation_4, normal_4, partiral_vectorisation_4, wrapperSoluton_4)"
   ]
  },
  {
   "cell_type": "markdown",
   "id": "signed-tokyo",
   "metadata": {},
   "source": [
    "# Conclusion"
   ]
  },
  {
   "cell_type": "markdown",
   "id": "orange-documentation",
   "metadata": {},
   "source": [
    "Аналогичная ситуация c задачами выше. Векторизованные методы отрабатывают быстрее невекторизованных. "
   ]
  },
  {
   "cell_type": "markdown",
   "id": "persistent-season",
   "metadata": {},
   "source": [
    "# MARK:"
   ]
  },
  {
   "cell_type": "markdown",
   "id": "developed-links",
   "metadata": {},
   "source": [
    "# 5. Дан трёхмерный массив, содержащий изображение, размера (height, width, numChannels), а также вектор длины numChannels. \n",
    "- Сложить каналы изображения с указанными весами, и вернуть результат в виде матрицы размера (height, width).  \n",
    "- Считать реальное изображение можно при помощи функции scipy.misc.imread (если изображение не в формате png, установите пакет pillow: conda install pillow). Преобразуйте цветное изображение в оттенки серого, использовав коэффициенты np.array([0.299, 0.587, 0.114])"
   ]
  },
  {
   "cell_type": "code",
   "execution_count": null,
   "id": "elementary-muslim",
   "metadata": {},
   "outputs": [],
   "source": [
    "# Check correct answer function\n",
    "def wrapperSoluton_5(answer_1, answer_2, answer_3):\n",
    "    if answer_1 == answer_2 == answer_3:\n",
    "        print(f\"EVERYTHING IS OK\")\n",
    "        print(f\"\\t1) Full_Vectorisation = {answer_1};\\n\\t2) Normal_Solution = {answer_2};\\n\\t3) Partial_Vectorisation = {answer_3}.\")\n",
    "    else:\n",
    "        print(f\"FAIL. THERE IS A MISTAKE\")\n",
    "        print(f\"\\t1) Full_Vectorisation = {answer_1};\\n\\t2) Normal_Solution = {answer_2};\\n\\t3) Partial_Vectorisation = {answer_3}.\")"
   ]
  },
  {
   "cell_type": "code",
   "execution_count": null,
   "id": "forward-aquarium",
   "metadata": {},
   "outputs": [],
   "source": [
    "def solution_performace(x, full_vectorisation, normal, partiral_vectorisation, wrapperSoluton):\n",
    "    \n",
    "    print(\"Full vectorisation case: \")\n",
    "    %timeit full_vectorisation(x)\n",
    "    answer_1 = full_vectorisation(x)\n",
    "    print()\n",
    "\n",
    "    print(\"Normal case: \")\n",
    "    %timeit normal(x)\n",
    "    answer_2 = normal(x)\n",
    "    print()\n",
    "\n",
    "    print(\"Partial vectorisation case: \")\n",
    "    %timeit partiral_vectorisation(x)\n",
    "    answer_3 = partiral_vectorisation(x)\n",
    "    print()\n",
    "\n",
    "    wrapperSoluton(answer_1, answer_2, answer_3)"
   ]
  },
  {
   "cell_type": "code",
   "execution_count": null,
   "id": "mathematical-democracy",
   "metadata": {},
   "outputs": [],
   "source": [
    "# Full vectorisation solution using only numpy.array methods\n",
    "def full_vectorisation_5(x):\n",
    "# Create a zero_mask\n",
    "    zero_mask = (x==0)\n",
    "    max_after_zero = x[1:][zero_mask[:-1]].max()\n",
    "    return max_after_zero"
   ]
  },
  {
   "cell_type": "code",
   "execution_count": null,
   "id": "buried-project",
   "metadata": {},
   "outputs": [],
   "source": [
    "# Standard solution with using Python cycles\n",
    "def normal_5(x):\n",
    "    max_after_zero = -float(\"inf\")\n",
    "    for i in range(len(x)-1):\n",
    "        if (x[i] == 0) and (x[i+1] > max_after_zero):\n",
    "            max_after_zero = x[i+1]\n",
    "    return max_after_zero"
   ]
  },
  {
   "cell_type": "code",
   "execution_count": 16,
   "id": "afraid-clinic",
   "metadata": {},
   "outputs": [],
   "source": [
    "# Using Python generators\n",
    "from itertools import groupby\n",
    "def partiral_vectorisation_5(x):\n",
    "    return tuple(zip(*((key, len(tuple(group))) for key, group in groupby(x))))"
   ]
  },
  {
   "cell_type": "code",
   "execution_count": 49,
   "id": "minor-container",
   "metadata": {},
   "outputs": [],
   "source": [
    "# In progress"
   ]
  },
  {
   "cell_type": "markdown",
   "id": "korean-mining",
   "metadata": {},
   "source": [
    "# Conclusion"
   ]
  },
  {
   "cell_type": "markdown",
   "id": "mathematical-attraction",
   "metadata": {},
   "source": [
    "Аналогичная ситуация c задачами выше. Векторизованные методы отрабатывают быстрее невекторизованных. "
   ]
  },
  {
   "cell_type": "markdown",
   "id": "animated-affairs",
   "metadata": {},
   "source": [
    "# MARK:"
   ]
  },
  {
   "cell_type": "markdown",
   "id": "undefined-trouble",
   "metadata": {},
   "source": [
    "# 6. Реализовать кодирование длин серий (Run-length encoding). Дан вектор x. Необходимо вернуть кортеж из двух векторов одинаковой длины. Первый содержит числа, а второй - сколько раз их нужно повторить.\n",
    "Пример: x = np.array([2, 2, 2, 3, 3, 3, 5]). Ответ: (np.array([2, 3, 5]), np.array([3, 3, 1]))."
   ]
  },
  {
   "cell_type": "code",
   "execution_count": 354,
   "id": "diagnostic-tanzania",
   "metadata": {},
   "outputs": [],
   "source": [
    "# Check correct answer function\n",
    "def wrapperSoluton_6(answer_1, answer_2, answer_3):\n",
    "    st_1 = np.array_equal(answer_1[0], answer_2[0]) and np.array_equal(answer_1[1], answer_2[1])\n",
    "    st_2 = np.array_equal(answer_1[0], answer_3[0]) and np.array_equal(answer_1[1], answer_3[1])\n",
    "    st_3 = np.array_equal(answer_2[0], answer_3[0]) and np.array_equal(answer_2[1], answer_3[1])\n",
    "\n",
    "    if st_1 and st_2 and st_3:\n",
    "        print(f\"EVERYTHING IS OK\")\n",
    "        print(f\"\\t1) Full_Vectorisation = {answer_1};\\n\\t2) Normal_Solution = {answer_2};\\n\\t3) Partial_Vectorisation = {answer_3}.\")\n",
    "    else:\n",
    "        print(f\"FAIL. THERE IS A MISTAKE\")\n",
    "        print(f\"\\t1) Full_Vectorisation = {answer_1};\\n\\t2) Normal_Solution = {answer_2};\\n\\t3) Partial_Vectorisation = {answer_3}.\")"
   ]
  },
  {
   "cell_type": "code",
   "execution_count": 368,
   "id": "hydraulic-voltage",
   "metadata": {},
   "outputs": [],
   "source": [
    "def data_generation(vector_size):\n",
    "    # Задание вектора\n",
    "    x = np.random.randint(1, 6, size = vector_size)\n",
    "    print(\"Вектор чисел: \\n\", x, end='\\n')\n",
    "    return x"
   ]
  },
  {
   "cell_type": "code",
   "execution_count": 361,
   "id": "recognized-asthma",
   "metadata": {},
   "outputs": [],
   "source": [
    "def solution_performace(X, full_vectorisation, normal, partiral_vectorisation, wrapperSoluton):\n",
    "    \n",
    "    print(\"Full vectorisation case: \")\n",
    "    %timeit full_vectorisation(X)\n",
    "    answer_1 = full_vectorisation(X)\n",
    "    print()\n",
    "\n",
    "    print(\"Normal case: \")\n",
    "    %timeit normal(X)\n",
    "    answer_2 = normal(X)\n",
    "    print()\n",
    "\n",
    "    print(\"Partial vectorisation case: \")\n",
    "    %timeit partiral_vectorisation(X)\n",
    "    answer_3 = partiral_vectorisation(X)\n",
    "    print()\n",
    "\n",
    "    wrapperSoluton(answer_1, answer_2, answer_3)"
   ]
  },
  {
   "cell_type": "code",
   "execution_count": 346,
   "id": "mathematical-insurance",
   "metadata": {},
   "outputs": [],
   "source": [
    "# Full vectorisation solution using only numpy.array methods\n",
    "def full_vectorisation_6(X):\n",
    "    len_X = len(X)\n",
    "    unequal_pairwase = (X[1:] != X[:-1])\n",
    "    run_index = np.append(np.where(unequal_pairwase), len_X - 1)\n",
    "    run_lengths = np.diff(np.append(-1, run_index))\n",
    "    run_position = np.cumsum(np.append(0, run_lengths))[:-1]\n",
    "\n",
    "    return (X[run_index], run_lengths)"
   ]
  },
  {
   "cell_type": "code",
   "execution_count": 356,
   "id": "invisible-jersey",
   "metadata": {},
   "outputs": [],
   "source": [
    "def normal_6(X):\n",
    "    count = 0\n",
    "    a_encode = []\n",
    "    a_count_el = []\n",
    "\n",
    "    for i in range(len(X)-1):        \n",
    "        if X[i] == X[i+1]:\n",
    "            count += 1\n",
    "        else:\n",
    "            count += 1\n",
    "            a_encode.append(X[i])\n",
    "            a_count_el.append(count)\n",
    "            count = 0\n",
    "\n",
    "    count += 1\n",
    "    a_encode.append(X[i+1])\n",
    "    a_count_el.append(count)\n",
    "    out = (np.array(a_encode), np.array(a_count_el))\n",
    "\n",
    "    return out"
   ]
  },
  {
   "cell_type": "code",
   "execution_count": 323,
   "id": "thick-phone",
   "metadata": {},
   "outputs": [],
   "source": [
    "# Using Python itertools and Python generators\n",
    "from itertools import groupby\n",
    "def partiral_vectorisation_6(x):\n",
    "    a = np.ravel([[key, len(tuple(group))] for key, group in groupby(x)])\n",
    "    return (a[::2], a[1::2])"
   ]
  },
  {
   "cell_type": "code",
   "execution_count": 369,
   "id": "prostate-pennsylvania",
   "metadata": {},
   "outputs": [
    {
     "name": "stdout",
     "output_type": "stream",
     "text": [
      "Вектор чисел: \n",
      " [4 5 5 4 1 4 2]\n"
     ]
    }
   ],
   "source": [
    "X_small = data_generation(7)"
   ]
  },
  {
   "cell_type": "code",
   "execution_count": 362,
   "id": "solar-bosnia",
   "metadata": {},
   "outputs": [
    {
     "name": "stdout",
     "output_type": "stream",
     "text": [
      "Full vectorisation case: \n",
      "24.2 µs ± 333 ns per loop (mean ± std. dev. of 7 runs, 10000 loops each)\n",
      "\n",
      "Normal case: \n",
      "6.07 µs ± 271 ns per loop (mean ± std. dev. of 7 runs, 100000 loops each)\n",
      "\n",
      "Partial vectorisation case: \n",
      "10.9 µs ± 149 ns per loop (mean ± std. dev. of 7 runs, 100000 loops each)\n",
      "\n",
      "EVERYTHING IS OK\n",
      "\t1) Full_Vectorisation = (array([2, 5, 3, 2, 3, 5]), array([1, 1, 2, 1, 1, 1]));\n",
      "\t2) Normal_Solution = (array([2, 5, 3, 2, 3, 5]), array([1, 1, 2, 1, 1, 1]));\n",
      "\t3) Partial_Vectorisation = (array([2, 5, 3, 2, 3, 5]), array([1, 1, 2, 1, 1, 1])).\n"
     ]
    }
   ],
   "source": [
    "print(\"Full vectorisation case: \")\n",
    "%timeit full_vectorisation_6(X_small)\n",
    "answer_1 = full_vectorisation_6(X_small)\n",
    "print()\n",
    "\n",
    "print(\"Normal case: \")\n",
    "%timeit normal_6(X_small)\n",
    "answer_2 = normal_6(X_small)\n",
    "print()\n",
    "\n",
    "print(\"Partial vectorisation case: \")\n",
    "%timeit partiral_vectorisation_6(X_small)\n",
    "answer_3 = partiral_vectorisation_6(X_small)\n",
    "print()\n",
    "\n",
    "wrapperSoluton(answer_1, answer_2, answer_3)"
   ]
  },
  {
   "cell_type": "code",
   "execution_count": 370,
   "id": "pregnant-framework",
   "metadata": {},
   "outputs": [
    {
     "name": "stdout",
     "output_type": "stream",
     "text": [
      "Вектор чисел: \n",
      " [2 2 5 2 5 1 5 5 1 5 1 3 1 1 4 5 1 4 2 3 3 5 2]\n"
     ]
    }
   ],
   "source": [
    "X_average = data_generation(23)"
   ]
  },
  {
   "cell_type": "code",
   "execution_count": 365,
   "id": "academic-chassis",
   "metadata": {},
   "outputs": [
    {
     "name": "stdout",
     "output_type": "stream",
     "text": [
      "Full vectorisation case: \n",
      "24.4 µs ± 357 ns per loop (mean ± std. dev. of 7 runs, 10000 loops each)\n",
      "\n",
      "Normal case: \n",
      "15.4 µs ± 825 ns per loop (mean ± std. dev. of 7 runs, 100000 loops each)\n",
      "\n",
      "Partial vectorisation case: \n",
      "24.8 µs ± 380 ns per loop (mean ± std. dev. of 7 runs, 10000 loops each)\n",
      "\n",
      "EVERYTHING IS OK\n",
      "\t1) Full_Vectorisation = (array([4, 3, 5, 4, 2, 4, 1, 4, 3, 5, 3, 4, 2, 5, 1, 2, 1, 5, 1]), array([1, 1, 2, 1, 1, 1, 1, 1, 1, 2, 1, 1, 1, 1, 1, 2, 2, 1, 1]));\n",
      "\t2) Normal_Solution = (array([4, 3, 5, 4, 2, 4, 1, 4, 3, 5, 3, 4, 2, 5, 1, 2, 1, 5, 1]), array([1, 1, 2, 1, 1, 1, 1, 1, 1, 2, 1, 1, 1, 1, 1, 2, 2, 1, 1]));\n",
      "\t3) Partial_Vectorisation = (array([4, 3, 5, 4, 2, 4, 1, 4, 3, 5, 3, 4, 2, 5, 1, 2, 1, 5, 1]), array([1, 1, 2, 1, 1, 1, 1, 1, 1, 2, 1, 1, 1, 1, 1, 2, 2, 1, 1])).\n"
     ]
    }
   ],
   "source": [
    "print(\"Full vectorisation case: \")\n",
    "%timeit full_vectorisation_6(X_average)\n",
    "answer_1 = full_vectorisation_6(X_average)\n",
    "print()\n",
    "\n",
    "print(\"Normal case: \")\n",
    "%timeit normal_6(X_average)\n",
    "answer_2 = normal_6(X_average)\n",
    "print()\n",
    "\n",
    "print(\"Partial vectorisation case: \")\n",
    "%timeit partiral_vectorisation_6(X_average)\n",
    "answer_3 = partiral_vectorisation_6(X_average)\n",
    "print()\n",
    "\n",
    "wrapperSoluton(answer_1, answer_2, answer_3)"
   ]
  },
  {
   "cell_type": "code",
   "execution_count": 371,
   "id": "prepared-headquarters",
   "metadata": {},
   "outputs": [
    {
     "name": "stdout",
     "output_type": "stream",
     "text": [
      "Вектор чисел: \n",
      " [5 3 3 2 1 3 3 5 5 1 3 2 1 5 2 1 2 1 2 3 4 1 5 3 4 4 3 5 5 2 4 2 2 4 2 3 5\n",
      " 1 2 5 4 4 2 3 1 2 4 3 2 5 1 1 4 2 3 4 3 4 5 2 1 5 5 1 5 1 1 2 2 1 5 2 1 2\n",
      " 5 3 5 5 4 5 1 3 1 2 5 2 1 2 2 2 1 1 5 4 4 3 4 2 4 3 5 2 4 2 2 1 5 4 4 4 3\n",
      " 1 1 3 4 1 2]\n"
     ]
    }
   ],
   "source": [
    "X_large = data_generation(117)"
   ]
  },
  {
   "cell_type": "code",
   "execution_count": 367,
   "id": "connected-cathedral",
   "metadata": {},
   "outputs": [
    {
     "name": "stdout",
     "output_type": "stream",
     "text": [
      "Full vectorisation case: \n",
      "24.9 µs ± 452 ns per loop (mean ± std. dev. of 7 runs, 10000 loops each)\n",
      "\n",
      "Normal case: \n",
      "69.5 µs ± 3.5 µs per loop (mean ± std. dev. of 7 runs, 10000 loops each)\n",
      "\n",
      "Partial vectorisation case: \n",
      "111 µs ± 2.13 µs per loop (mean ± std. dev. of 7 runs, 10000 loops each)\n",
      "\n",
      "EVERYTHING IS OK\n",
      "\t1) Full_Vectorisation = (array([2, 1, 4, 5, 3, 4, 1, 3, 2, 5, 4, 2, 1, 4, 5, 4, 5, 4, 1, 2, 5, 4,\n",
      "       2, 5, 1, 3, 1, 5, 2, 1, 2, 5, 1, 5, 4, 2, 5, 2, 3, 5, 3, 4, 2, 1,\n",
      "       4, 3, 2, 3, 1, 4, 1, 5, 1, 5, 2, 4, 1, 5, 2, 4, 2, 3, 2, 1, 5, 2,\n",
      "       5, 3, 2, 1, 3, 4, 2, 1, 5, 3, 1, 3, 1, 5, 3, 5, 4, 3, 5, 2, 4, 1,\n",
      "       2, 3, 4, 3, 4, 1, 4, 2, 5, 4, 2]), array([2, 1, 2, 3, 2, 1, 3, 1, 1, 2, 1, 1, 1, 1, 1, 2, 1, 1, 1, 1, 1, 1,\n",
      "       1, 1, 1, 1, 1, 1, 1, 1, 1, 1, 1, 1, 1, 1, 1, 1, 1, 1, 1, 1, 1, 1,\n",
      "       1, 1, 2, 1, 1, 1, 1, 1, 1, 1, 1, 1, 1, 1, 1, 1, 1, 1, 1, 2, 1, 1,\n",
      "       1, 1, 1, 1, 1, 4, 1, 1, 2, 1, 2, 1, 1, 2, 1, 1, 1, 1, 1, 1, 1, 1,\n",
      "       1, 1, 1, 1, 1, 1, 2, 1, 1, 1, 1]));\n",
      "\t2) Normal_Solution = (array([2, 1, 4, 5, 3, 4, 1, 3, 2, 5, 4, 2, 1, 4, 5, 4, 5, 4, 1, 2, 5, 4,\n",
      "       2, 5, 1, 3, 1, 5, 2, 1, 2, 5, 1, 5, 4, 2, 5, 2, 3, 5, 3, 4, 2, 1,\n",
      "       4, 3, 2, 3, 1, 4, 1, 5, 1, 5, 2, 4, 1, 5, 2, 4, 2, 3, 2, 1, 5, 2,\n",
      "       5, 3, 2, 1, 3, 4, 2, 1, 5, 3, 1, 3, 1, 5, 3, 5, 4, 3, 5, 2, 4, 1,\n",
      "       2, 3, 4, 3, 4, 1, 4, 2, 5, 4, 2]), array([2, 1, 2, 3, 2, 1, 3, 1, 1, 2, 1, 1, 1, 1, 1, 2, 1, 1, 1, 1, 1, 1,\n",
      "       1, 1, 1, 1, 1, 1, 1, 1, 1, 1, 1, 1, 1, 1, 1, 1, 1, 1, 1, 1, 1, 1,\n",
      "       1, 1, 2, 1, 1, 1, 1, 1, 1, 1, 1, 1, 1, 1, 1, 1, 1, 1, 1, 2, 1, 1,\n",
      "       1, 1, 1, 1, 1, 4, 1, 1, 2, 1, 2, 1, 1, 2, 1, 1, 1, 1, 1, 1, 1, 1,\n",
      "       1, 1, 1, 1, 1, 1, 2, 1, 1, 1, 1]));\n",
      "\t3) Partial_Vectorisation = (array([2, 1, 4, 5, 3, 4, 1, 3, 2, 5, 4, 2, 1, 4, 5, 4, 5, 4, 1, 2, 5, 4,\n",
      "       2, 5, 1, 3, 1, 5, 2, 1, 2, 5, 1, 5, 4, 2, 5, 2, 3, 5, 3, 4, 2, 1,\n",
      "       4, 3, 2, 3, 1, 4, 1, 5, 1, 5, 2, 4, 1, 5, 2, 4, 2, 3, 2, 1, 5, 2,\n",
      "       5, 3, 2, 1, 3, 4, 2, 1, 5, 3, 1, 3, 1, 5, 3, 5, 4, 3, 5, 2, 4, 1,\n",
      "       2, 3, 4, 3, 4, 1, 4, 2, 5, 4, 2]), array([2, 1, 2, 3, 2, 1, 3, 1, 1, 2, 1, 1, 1, 1, 1, 2, 1, 1, 1, 1, 1, 1,\n",
      "       1, 1, 1, 1, 1, 1, 1, 1, 1, 1, 1, 1, 1, 1, 1, 1, 1, 1, 1, 1, 1, 1,\n",
      "       1, 1, 2, 1, 1, 1, 1, 1, 1, 1, 1, 1, 1, 1, 1, 1, 1, 1, 1, 2, 1, 1,\n",
      "       1, 1, 1, 1, 1, 4, 1, 1, 2, 1, 2, 1, 1, 2, 1, 1, 1, 1, 1, 1, 1, 1,\n",
      "       1, 1, 1, 1, 1, 1, 2, 1, 1, 1, 1])).\n"
     ]
    }
   ],
   "source": [
    "print(\"Full vectorisation case: \")\n",
    "%timeit full_vectorisation_6(X_large)\n",
    "answer_1 = full_vectorisation_6(X_large)\n",
    "print()\n",
    "\n",
    "print(\"Normal case: \")\n",
    "%timeit normal_6(X_large)\n",
    "answer_2 = normal_6(X_large)\n",
    "print()\n",
    "\n",
    "print(\"Partial vectorisation case: \")\n",
    "%timeit partiral_vectorisation_6(X_large)\n",
    "answer_3 = partiral_vectorisation_6(X_large)\n",
    "print()\n",
    "\n",
    "wrapperSoluton(answer_1, answer_2, answer_3)"
   ]
  },
  {
   "cell_type": "markdown",
   "id": "satellite-arkansas",
   "metadata": {},
   "source": [
    "# Conclusion"
   ]
  },
  {
   "cell_type": "markdown",
   "id": "environmental-diversity",
   "metadata": {},
   "source": [
    "Аналогичная ситуация c задачами выше. Векторизованные методы отрабатывают быстрее невекторизованных на больших выборках данных. "
   ]
  },
  {
   "cell_type": "markdown",
   "id": "educated-herald",
   "metadata": {},
   "source": [
    "# MARK:"
   ]
  },
  {
   "cell_type": "markdown",
   "id": "greatest-intranet",
   "metadata": {},
   "source": [
    "# 7. Даны две выборки объектов - X и Y. Вычислить матрицу евклидовых расстояний между объектами. \n",
    "- Сравнить с функцией scipy.spatial.distance.cdist."
   ]
  },
  {
   "cell_type": "code",
   "execution_count": 51,
   "id": "figured-accent",
   "metadata": {},
   "outputs": [],
   "source": [
    "from scipy.spatial.distance import cdist"
   ]
  },
  {
   "cell_type": "code",
   "execution_count": 52,
   "id": "lyric-wrist",
   "metadata": {},
   "outputs": [],
   "source": [
    "# Check correct answer function\n",
    "def wrapperSoluton_7(answer_1, answer_2, answer_3, answer_4):\n",
    "    if np.array_equal(answer_1, answer_2) == np.array_equal(answer_1, answer_3) == np.array_equal(answer_1, answer_4) == np.array_equal(answer_2, answer_3) == np.array_equal(answer_2, answer_4) == np.array_equal(answer_3, answer_4):\n",
    "        print(f\"EVERYTHING IS OK\")\n",
    "        print(f\"\\t1) Full_Vectorisation = \\n{answer_1};\\n\\t2) Normal_Solution =\\n {answer_2};\\n\\t3) Partial_Vectorisation =\\n {answer_3};\\n\\t4) Scipy =\\n {answer_4}.\")\n",
    "    else:\n",
    "        print(f\"FAIL. THERE IS A MISTAKE\")\n",
    "        print(f\"\\t1) Full_Vectorisation = {answer_1};\\n\\t2) Normal_Solution = {answer_2};\\n\\t3) Partial_Vectorisation = {answer_3};\\n\\t4) Scipy =\\n {answer_4}.\")"
   ]
  },
  {
   "cell_type": "code",
   "execution_count": 53,
   "id": "exotic-framing",
   "metadata": {},
   "outputs": [],
   "source": [
    "def data_generation(vector_size):\n",
    "    matrix = []\n",
    "    # Задание первого вектора\n",
    "    x = np.random.randint(0, 10, size = vector_size)\n",
    "    print(\"Коордианата x: \\n\", x, end='\\n')\n",
    "    # Задание второго вектора\n",
    "    y = np.random.randint(0, 10, size = vector_size)\n",
    "    print(\"Коордианата y: \\n\", y, end='\\n')\n",
    "    \n",
    "    matrix = np.column_stack((x, y))\n",
    "    print(\"Выборка объектов: \", matrix, sep='\\n', end='\\n')\n",
    "    return matrix"
   ]
  },
  {
   "cell_type": "code",
   "execution_count": 54,
   "id": "portuguese-fountain",
   "metadata": {},
   "outputs": [],
   "source": [
    "def solution_performace(x, y, full_vectorisation, normal, partiral_vectorisation, wrapperSoluton):\n",
    "    \n",
    "    print(\"Full vectorisation case: \")\n",
    "    %timeit full_vectorisation(x, y)\n",
    "    answer_1 = full_vectorisation(x, y)\n",
    "    print()\n",
    "\n",
    "    print(\"Normal case: \")\n",
    "    %timeit normal(x, y)\n",
    "    answer_2 = normal(x, y)\n",
    "    print()\n",
    "\n",
    "    print(\"Partial vectorisation case: \")\n",
    "    %timeit partiral_vectorisation(x, y)\n",
    "    answer_3 = partiral_vectorisation(x, y)\n",
    "    print()\n",
    "    \n",
    "    print(\"Scipy solution case: \")\n",
    "    %timeit cdist(x, y)\n",
    "    answer_4 = cdist(x, y)\n",
    "    print()\n",
    "\n",
    "    wrapperSoluton(answer_1, answer_2, answer_3, answer_4)"
   ]
  },
  {
   "cell_type": "code",
   "execution_count": 55,
   "id": "activated-wallace",
   "metadata": {},
   "outputs": [],
   "source": [
    "# Full vectorisation solution using only numpy.array methods\n",
    "def full_vectorisation_7(X, Y):\n",
    "    diff = X_small[np.newaxis, :] - Y_small[:, np.newaxis]\n",
    "    return np.sqrt(np.sum(diff ** 2, axis = -1)).T"
   ]
  },
  {
   "cell_type": "code",
   "execution_count": 56,
   "id": "polished-trail",
   "metadata": {},
   "outputs": [],
   "source": [
    "# Standard solution with using Python cycles\n",
    "def normal_7(X, Y):\n",
    "    euqlide_matrix = []\n",
    "    euqlide_dist = 0\n",
    "    for point_1 in X:\n",
    "        euqlide_matrix_row = []\n",
    "        for point_2 in Y:\n",
    "            euqlide_dist = ((point_1[0] - point_2[0]) ** 2 + (point_1[1] - point_2[1]) ** 2) ** 0.5\n",
    "            euqlide_matrix_row.append(euqlide_dist)\n",
    "        euqlide_matrix.append(euqlide_matrix_row)\n",
    "    return np.array(euqlide_matrix)"
   ]
  },
  {
   "cell_type": "code",
   "execution_count": 57,
   "id": "opposite-pressing",
   "metadata": {},
   "outputs": [],
   "source": [
    "# Using a complex number definition specific\n",
    "def partiral_vectorisation_7(X, Y):\n",
    "    z_point_X = np.array([complex(point[0], point[1]) for point in X_small])\n",
    "    z_point_Y = np.array([complex(point[0], point[1]) for point in Y_small])\n",
    "    mesh_x_axis, mesh_y_axis = np.meshgrid(z_point_X, z_point_Y)\n",
    "    return abs(mesh_x_axis - mesh_y_axis).T"
   ]
  },
  {
   "cell_type": "code",
   "execution_count": 58,
   "id": "meaning-gambling",
   "metadata": {},
   "outputs": [
    {
     "name": "stdout",
     "output_type": "stream",
     "text": [
      "Коордианата x: \n",
      " [5 9 2 3 5]\n",
      "Коордианата y: \n",
      " [7 8 5 6 4]\n",
      "Выборка объектов: \n",
      "[[5 7]\n",
      " [9 8]\n",
      " [2 5]\n",
      " [3 6]\n",
      " [5 4]]\n"
     ]
    }
   ],
   "source": [
    "X_small = data_generation(5)"
   ]
  },
  {
   "cell_type": "code",
   "execution_count": 59,
   "id": "metallic-phase",
   "metadata": {},
   "outputs": [
    {
     "name": "stdout",
     "output_type": "stream",
     "text": [
      "Коордианата x: \n",
      " [8 3 9 5 4]\n",
      "Коордианата y: \n",
      " [0 4 4 8 0]\n",
      "Выборка объектов: \n",
      "[[8 0]\n",
      " [3 4]\n",
      " [9 4]\n",
      " [5 8]\n",
      " [4 0]]\n"
     ]
    }
   ],
   "source": [
    "Y_small = data_generation(5)"
   ]
  },
  {
   "cell_type": "code",
   "execution_count": 60,
   "id": "psychological-player",
   "metadata": {},
   "outputs": [
    {
     "name": "stdout",
     "output_type": "stream",
     "text": [
      "Full vectorisation case: \n",
      "10.4 µs ± 1.82 µs per loop (mean ± std. dev. of 7 runs, 100000 loops each)\n",
      "\n",
      "Normal case: \n",
      "113 µs ± 4.94 µs per loop (mean ± std. dev. of 7 runs, 10000 loops each)\n",
      "\n",
      "Partial vectorisation case: \n",
      "37 µs ± 496 ns per loop (mean ± std. dev. of 7 runs, 10000 loops each)\n",
      "\n",
      "Scipy solution case: \n",
      "9.8 µs ± 1.9 µs per loop (mean ± std. dev. of 7 runs, 100000 loops each)\n",
      "\n",
      "EVERYTHING IS OK\n",
      "\t1) Full_Vectorisation = \n",
      "[[7.61577311 3.60555128 5.         1.         7.07106781]\n",
      " [8.06225775 7.21110255 4.         4.         9.43398113]\n",
      " [7.81024968 1.41421356 7.07106781 4.24264069 5.38516481]\n",
      " [7.81024968 2.         6.32455532 2.82842712 6.08276253]\n",
      " [5.         2.         4.         4.         4.12310563]];\n",
      "\t2) Normal_Solution =\n",
      " [[7.61577311 3.60555128 5.         1.         7.07106781]\n",
      " [8.06225775 7.21110255 4.         4.         9.43398113]\n",
      " [7.81024968 1.41421356 7.07106781 4.24264069 5.38516481]\n",
      " [7.81024968 2.         6.32455532 2.82842712 6.08276253]\n",
      " [5.         2.         4.         4.         4.12310563]];\n",
      "\t3) Partial_Vectorisation =\n",
      " [[7.61577311 3.60555128 5.         1.         7.07106781]\n",
      " [8.06225775 7.21110255 4.         4.         9.43398113]\n",
      " [7.81024968 1.41421356 7.07106781 4.24264069 5.38516481]\n",
      " [7.81024968 2.         6.32455532 2.82842712 6.08276253]\n",
      " [5.         2.         4.         4.         4.12310563]];\n",
      "\t4) Scipy =\n",
      " [[7.61577311 3.60555128 5.         1.         7.07106781]\n",
      " [8.06225775 7.21110255 4.         4.         9.43398113]\n",
      " [7.81024968 1.41421356 7.07106781 4.24264069 5.38516481]\n",
      " [7.81024968 2.         6.32455532 2.82842712 6.08276253]\n",
      " [5.         2.         4.         4.         4.12310563]].\n"
     ]
    }
   ],
   "source": [
    "solution_performace(X_small, Y_small,\n",
    "                    full_vectorisation_7, normal_7, partiral_vectorisation_7, wrapperSoluton_7)"
   ]
  },
  {
   "cell_type": "code",
   "execution_count": 61,
   "id": "uniform-surveillance",
   "metadata": {},
   "outputs": [
    {
     "name": "stdout",
     "output_type": "stream",
     "text": [
      "Коордианата x: \n",
      " [4 6 5 5 6 5 4 9 4 8 7 9 3 3 9]\n",
      "Коордианата y: \n",
      " [4 2 7 6 4 9 2 4 2 9 4 0 5 9 3]\n",
      "Выборка объектов: \n",
      "[[4 4]\n",
      " [6 2]\n",
      " [5 7]\n",
      " [5 6]\n",
      " [6 4]\n",
      " [5 9]\n",
      " [4 2]\n",
      " [9 4]\n",
      " [4 2]\n",
      " [8 9]\n",
      " [7 4]\n",
      " [9 0]\n",
      " [3 5]\n",
      " [3 9]\n",
      " [9 3]]\n"
     ]
    }
   ],
   "source": [
    "X_average = data_generation(15)"
   ]
  },
  {
   "cell_type": "code",
   "execution_count": 62,
   "id": "pressed-swiss",
   "metadata": {},
   "outputs": [
    {
     "name": "stdout",
     "output_type": "stream",
     "text": [
      "Коордианата x: \n",
      " [3 7 1 3 1 0 9 2 7 5 6 1 5 7 7]\n",
      "Коордианата y: \n",
      " [3 5 4 8 7 1 6 6 0 0 3 4 3 6 2]\n",
      "Выборка объектов: \n",
      "[[3 3]\n",
      " [7 5]\n",
      " [1 4]\n",
      " [3 8]\n",
      " [1 7]\n",
      " [0 1]\n",
      " [9 6]\n",
      " [2 6]\n",
      " [7 0]\n",
      " [5 0]\n",
      " [6 3]\n",
      " [1 4]\n",
      " [5 3]\n",
      " [7 6]\n",
      " [7 2]]\n"
     ]
    }
   ],
   "source": [
    "Y_average = data_generation(15)"
   ]
  },
  {
   "cell_type": "code",
   "execution_count": 63,
   "id": "frozen-shelf",
   "metadata": {},
   "outputs": [
    {
     "name": "stdout",
     "output_type": "stream",
     "text": [
      "Full vectorisation case: \n",
      "9.72 µs ± 600 ns per loop (mean ± std. dev. of 7 runs, 100000 loops each)\n",
      "\n",
      "Normal case: \n",
      "897 µs ± 53.2 µs per loop (mean ± std. dev. of 7 runs, 1000 loops each)\n",
      "\n",
      "Partial vectorisation case: \n",
      "41.3 µs ± 5.4 µs per loop (mean ± std. dev. of 7 runs, 10000 loops each)\n",
      "\n",
      "Scipy solution case: \n",
      "11.9 µs ± 826 ns per loop (mean ± std. dev. of 7 runs, 100000 loops each)\n",
      "\n",
      "FAIL. THERE IS A MISTAKE\n",
      "\t1) Full_Vectorisation = [[7.61577311 3.60555128 5.         1.         7.07106781]\n",
      " [8.06225775 7.21110255 4.         4.         9.43398113]\n",
      " [7.81024968 1.41421356 7.07106781 4.24264069 5.38516481]\n",
      " [7.81024968 2.         6.32455532 2.82842712 6.08276253]\n",
      " [5.         2.         4.         4.         4.12310563]];\n",
      "\t2) Normal_Solution = [[ 1.41421356  3.16227766  3.          4.12310563  4.24264069  5.\n",
      "   5.38516481  2.82842712  5.          4.12310563  2.23606798  3.\n",
      "   1.41421356  3.60555128  3.60555128]\n",
      " [ 3.16227766  3.16227766  5.38516481  6.70820393  7.07106781  6.08276253\n",
      "   5.          5.65685425  2.23606798  2.23606798  1.          5.38516481\n",
      "   1.41421356  4.12310563  1.        ]\n",
      " [ 4.47213595  2.82842712  5.          2.23606798  4.          7.81024968\n",
      "   4.12310563  3.16227766  7.28010989  7.          4.12310563  5.\n",
      "   4.          2.23606798  5.38516481]\n",
      " [ 3.60555128  2.23606798  4.47213595  2.82842712  4.12310563  7.07106781\n",
      "   4.          3.          6.32455532  6.          3.16227766  4.47213595\n",
      "   3.          2.          4.47213595]\n",
      " [ 3.16227766  1.41421356  5.          5.          5.83095189  6.70820393\n",
      "   3.60555128  4.47213595  4.12310563  4.12310563  1.          5.\n",
      "   1.41421356  2.23606798  2.23606798]\n",
      " [ 6.32455532  4.47213595  6.40312424  2.23606798  4.47213595  9.43398113\n",
      "   5.          4.24264069  9.21954446  9.          6.08276253  6.40312424\n",
      "   6.          3.60555128  7.28010989]\n",
      " [ 1.41421356  4.24264069  3.60555128  6.08276253  5.83095189  4.12310563\n",
      "   6.40312424  4.47213595  3.60555128  2.23606798  2.23606798  3.60555128\n",
      "   1.41421356  5.          3.        ]\n",
      " [ 6.08276253  2.23606798  8.          7.21110255  8.54400375  9.48683298\n",
      "   2.          7.28010989  4.47213595  5.65685425  3.16227766  8.\n",
      "   4.12310563  2.82842712  2.82842712]\n",
      " [ 1.41421356  4.24264069  3.60555128  6.08276253  5.83095189  4.12310563\n",
      "   6.40312424  4.47213595  3.60555128  2.23606798  2.23606798  3.60555128\n",
      "   1.41421356  5.          3.        ]\n",
      " [ 7.81024968  4.12310563  8.60232527  5.09901951  7.28010989 11.3137085\n",
      "   3.16227766  6.70820393  9.05538514  9.48683298  6.32455532  8.60232527\n",
      "   6.70820393  3.16227766  7.07106781]\n",
      " [ 4.12310563  1.          6.          5.65685425  6.70820393  7.61577311\n",
      "   2.82842712  5.38516481  4.          4.47213595  1.41421356  6.\n",
      "   2.23606798  2.          2.        ]\n",
      " [ 6.70820393  5.38516481  8.94427191 10.         10.63014581  9.05538514\n",
      "   6.          9.21954446  2.          4.          4.24264069  8.94427191\n",
      "   5.          6.32455532  2.82842712]\n",
      " [ 2.          4.          2.23606798  3.          2.82842712  5.\n",
      "   6.08276253  1.41421356  6.40312424  5.38516481  3.60555128  2.23606798\n",
      "   2.82842712  4.12310563  5.        ]\n",
      " [ 6.          5.65685425  5.38516481  1.          2.82842712  8.54400375\n",
      "   6.70820393  3.16227766  9.8488578   9.21954446  6.70820393  5.38516481\n",
      "   6.32455532  5.          8.06225775]\n",
      " [ 6.          2.82842712  8.06225775  7.81024968  8.94427191  9.21954446\n",
      "   3.          7.61577311  3.60555128  5.          3.          8.06225775\n",
      "   4.          3.60555128  2.23606798]];\n",
      "\t3) Partial_Vectorisation = [[7.61577311 3.60555128 5.         1.         7.07106781]\n",
      " [8.06225775 7.21110255 4.         4.         9.43398113]\n",
      " [7.81024968 1.41421356 7.07106781 4.24264069 5.38516481]\n",
      " [7.81024968 2.         6.32455532 2.82842712 6.08276253]\n",
      " [5.         2.         4.         4.         4.12310563]];\n",
      "\t4) Scipy =\n",
      " [[ 1.41421356  3.16227766  3.          4.12310563  4.24264069  5.\n",
      "   5.38516481  2.82842712  5.          4.12310563  2.23606798  3.\n",
      "   1.41421356  3.60555128  3.60555128]\n",
      " [ 3.16227766  3.16227766  5.38516481  6.70820393  7.07106781  6.08276253\n",
      "   5.          5.65685425  2.23606798  2.23606798  1.          5.38516481\n",
      "   1.41421356  4.12310563  1.        ]\n",
      " [ 4.47213595  2.82842712  5.          2.23606798  4.          7.81024968\n",
      "   4.12310563  3.16227766  7.28010989  7.          4.12310563  5.\n",
      "   4.          2.23606798  5.38516481]\n",
      " [ 3.60555128  2.23606798  4.47213595  2.82842712  4.12310563  7.07106781\n",
      "   4.          3.          6.32455532  6.          3.16227766  4.47213595\n",
      "   3.          2.          4.47213595]\n",
      " [ 3.16227766  1.41421356  5.          5.          5.83095189  6.70820393\n",
      "   3.60555128  4.47213595  4.12310563  4.12310563  1.          5.\n",
      "   1.41421356  2.23606798  2.23606798]\n",
      " [ 6.32455532  4.47213595  6.40312424  2.23606798  4.47213595  9.43398113\n",
      "   5.          4.24264069  9.21954446  9.          6.08276253  6.40312424\n",
      "   6.          3.60555128  7.28010989]\n",
      " [ 1.41421356  4.24264069  3.60555128  6.08276253  5.83095189  4.12310563\n",
      "   6.40312424  4.47213595  3.60555128  2.23606798  2.23606798  3.60555128\n",
      "   1.41421356  5.          3.        ]\n",
      " [ 6.08276253  2.23606798  8.          7.21110255  8.54400375  9.48683298\n",
      "   2.          7.28010989  4.47213595  5.65685425  3.16227766  8.\n",
      "   4.12310563  2.82842712  2.82842712]\n",
      " [ 1.41421356  4.24264069  3.60555128  6.08276253  5.83095189  4.12310563\n",
      "   6.40312424  4.47213595  3.60555128  2.23606798  2.23606798  3.60555128\n",
      "   1.41421356  5.          3.        ]\n",
      " [ 7.81024968  4.12310563  8.60232527  5.09901951  7.28010989 11.3137085\n",
      "   3.16227766  6.70820393  9.05538514  9.48683298  6.32455532  8.60232527\n",
      "   6.70820393  3.16227766  7.07106781]\n",
      " [ 4.12310563  1.          6.          5.65685425  6.70820393  7.61577311\n",
      "   2.82842712  5.38516481  4.          4.47213595  1.41421356  6.\n",
      "   2.23606798  2.          2.        ]\n",
      " [ 6.70820393  5.38516481  8.94427191 10.         10.63014581  9.05538514\n",
      "   6.          9.21954446  2.          4.          4.24264069  8.94427191\n",
      "   5.          6.32455532  2.82842712]\n",
      " [ 2.          4.          2.23606798  3.          2.82842712  5.\n",
      "   6.08276253  1.41421356  6.40312424  5.38516481  3.60555128  2.23606798\n",
      "   2.82842712  4.12310563  5.        ]\n",
      " [ 6.          5.65685425  5.38516481  1.          2.82842712  8.54400375\n",
      "   6.70820393  3.16227766  9.8488578   9.21954446  6.70820393  5.38516481\n",
      "   6.32455532  5.          8.06225775]\n",
      " [ 6.          2.82842712  8.06225775  7.81024968  8.94427191  9.21954446\n",
      "   3.          7.61577311  3.60555128  5.          3.          8.06225775\n",
      "   4.          3.60555128  2.23606798]].\n"
     ]
    }
   ],
   "source": [
    "solution_performace(X_average, Y_average,\n",
    "                    full_vectorisation_7, normal_7, partiral_vectorisation_7, wrapperSoluton_7)"
   ]
  },
  {
   "cell_type": "code",
   "execution_count": 64,
   "id": "noted-mediterranean",
   "metadata": {},
   "outputs": [
    {
     "name": "stdout",
     "output_type": "stream",
     "text": [
      "Коордианата x: \n",
      " [6 7 5 5 7 7 6 5 5 9 5 7 0 4 2 7 5 1 6 6 4 7 4 0 8 3 1 3 8 1 3 1 4 2 9 1 8\n",
      " 4 9 4 0 5 6 0 8 7 7 6 4 2 8 6 9 9 7 5 4 7 2 6 1 2 1 4 6 9 9 0 9 8 0 0 9 7\n",
      " 5 5 8 3 7 3 1 7 6 3 8 8 7 0 6 4 6 8 1 3 3 1 2 7 8 5 9]\n",
      "Коордианата y: \n",
      " [1 1 6 7 7 5 9 7 0 8 0 2 8 4 8 8 5 0 9 6 5 8 6 3 6 1 5 5 1 3 7 7 7 7 0 1 3\n",
      " 8 2 5 6 7 6 2 5 4 9 3 0 6 7 1 6 5 4 3 1 9 5 4 1 9 6 5 8 9 4 8 8 0 4 8 6 5\n",
      " 5 6 0 3 0 5 3 0 8 3 5 6 7 8 8 7 9 2 1 4 0 2 0 2 3 6 4]\n",
      "Выборка объектов: \n",
      "[[6 1]\n",
      " [7 1]\n",
      " [5 6]\n",
      " [5 7]\n",
      " [7 7]\n",
      " [7 5]\n",
      " [6 9]\n",
      " [5 7]\n",
      " [5 0]\n",
      " [9 8]\n",
      " [5 0]\n",
      " [7 2]\n",
      " [0 8]\n",
      " [4 4]\n",
      " [2 8]\n",
      " [7 8]\n",
      " [5 5]\n",
      " [1 0]\n",
      " [6 9]\n",
      " [6 6]\n",
      " [4 5]\n",
      " [7 8]\n",
      " [4 6]\n",
      " [0 3]\n",
      " [8 6]\n",
      " [3 1]\n",
      " [1 5]\n",
      " [3 5]\n",
      " [8 1]\n",
      " [1 3]\n",
      " [3 7]\n",
      " [1 7]\n",
      " [4 7]\n",
      " [2 7]\n",
      " [9 0]\n",
      " [1 1]\n",
      " [8 3]\n",
      " [4 8]\n",
      " [9 2]\n",
      " [4 5]\n",
      " [0 6]\n",
      " [5 7]\n",
      " [6 6]\n",
      " [0 2]\n",
      " [8 5]\n",
      " [7 4]\n",
      " [7 9]\n",
      " [6 3]\n",
      " [4 0]\n",
      " [2 6]\n",
      " [8 7]\n",
      " [6 1]\n",
      " [9 6]\n",
      " [9 5]\n",
      " [7 4]\n",
      " [5 3]\n",
      " [4 1]\n",
      " [7 9]\n",
      " [2 5]\n",
      " [6 4]\n",
      " [1 1]\n",
      " [2 9]\n",
      " [1 6]\n",
      " [4 5]\n",
      " [6 8]\n",
      " [9 9]\n",
      " [9 4]\n",
      " [0 8]\n",
      " [9 8]\n",
      " [8 0]\n",
      " [0 4]\n",
      " [0 8]\n",
      " [9 6]\n",
      " [7 5]\n",
      " [5 5]\n",
      " [5 6]\n",
      " [8 0]\n",
      " [3 3]\n",
      " [7 0]\n",
      " [3 5]\n",
      " [1 3]\n",
      " [7 0]\n",
      " [6 8]\n",
      " [3 3]\n",
      " [8 5]\n",
      " [8 6]\n",
      " [7 7]\n",
      " [0 8]\n",
      " [6 8]\n",
      " [4 7]\n",
      " [6 9]\n",
      " [8 2]\n",
      " [1 1]\n",
      " [3 4]\n",
      " [3 0]\n",
      " [1 2]\n",
      " [2 0]\n",
      " [7 2]\n",
      " [8 3]\n",
      " [5 6]\n",
      " [9 4]]\n"
     ]
    }
   ],
   "source": [
    "X_large = data_generation(101)"
   ]
  },
  {
   "cell_type": "code",
   "execution_count": 65,
   "id": "complex-dream",
   "metadata": {
    "scrolled": true
   },
   "outputs": [
    {
     "name": "stdout",
     "output_type": "stream",
     "text": [
      "Коордианата x: \n",
      " [4 0 7 3 9 4 1 0 8 1 5 0 0 8 3 8 4 6 0 5 7 0 8 2 0 0 5 5 0 2 6 9 2 2 2 6 3\n",
      " 3 2 9 8 1 3 7 5 6 6 1 3 9 9 5 2 8 3 9 1 5 0 5 9 0 7 4 5 1 1 8 2 5 9 4 3 9\n",
      " 1 7 9 6 1 5 7 6 0 4 1 5 6 6 2 6 4 7 7 6 5 1 5 8 1 0 4]\n",
      "Коордианата y: \n",
      " [5 2 7 6 1 6 0 8 6 5 1 2 0 9 4 8 5 4 2 4 7 1 4 5 9 7 7 4 8 3 8 6 5 3 1 7 5\n",
      " 2 6 9 6 5 1 7 0 0 5 4 8 6 1 6 2 0 7 2 7 6 1 0 6 0 5 9 9 7 6 3 0 0 3 4 6 3\n",
      " 9 0 9 6 1 1 7 9 9 9 4 9 1 4 7 5 2 7 8 4 1 1 6 0 9 1 9]\n",
      "Выборка объектов: \n",
      "[[4 5]\n",
      " [0 2]\n",
      " [7 7]\n",
      " [3 6]\n",
      " [9 1]\n",
      " [4 6]\n",
      " [1 0]\n",
      " [0 8]\n",
      " [8 6]\n",
      " [1 5]\n",
      " [5 1]\n",
      " [0 2]\n",
      " [0 0]\n",
      " [8 9]\n",
      " [3 4]\n",
      " [8 8]\n",
      " [4 5]\n",
      " [6 4]\n",
      " [0 2]\n",
      " [5 4]\n",
      " [7 7]\n",
      " [0 1]\n",
      " [8 4]\n",
      " [2 5]\n",
      " [0 9]\n",
      " [0 7]\n",
      " [5 7]\n",
      " [5 4]\n",
      " [0 8]\n",
      " [2 3]\n",
      " [6 8]\n",
      " [9 6]\n",
      " [2 5]\n",
      " [2 3]\n",
      " [2 1]\n",
      " [6 7]\n",
      " [3 5]\n",
      " [3 2]\n",
      " [2 6]\n",
      " [9 9]\n",
      " [8 6]\n",
      " [1 5]\n",
      " [3 1]\n",
      " [7 7]\n",
      " [5 0]\n",
      " [6 0]\n",
      " [6 5]\n",
      " [1 4]\n",
      " [3 8]\n",
      " [9 6]\n",
      " [9 1]\n",
      " [5 6]\n",
      " [2 2]\n",
      " [8 0]\n",
      " [3 7]\n",
      " [9 2]\n",
      " [1 7]\n",
      " [5 6]\n",
      " [0 1]\n",
      " [5 0]\n",
      " [9 6]\n",
      " [0 0]\n",
      " [7 5]\n",
      " [4 9]\n",
      " [5 9]\n",
      " [1 7]\n",
      " [1 6]\n",
      " [8 3]\n",
      " [2 0]\n",
      " [5 0]\n",
      " [9 3]\n",
      " [4 4]\n",
      " [3 6]\n",
      " [9 3]\n",
      " [1 9]\n",
      " [7 0]\n",
      " [9 9]\n",
      " [6 6]\n",
      " [1 1]\n",
      " [5 1]\n",
      " [7 7]\n",
      " [6 9]\n",
      " [0 9]\n",
      " [4 9]\n",
      " [1 4]\n",
      " [5 9]\n",
      " [6 1]\n",
      " [6 4]\n",
      " [2 7]\n",
      " [6 5]\n",
      " [4 2]\n",
      " [7 7]\n",
      " [7 8]\n",
      " [6 4]\n",
      " [5 1]\n",
      " [1 1]\n",
      " [5 6]\n",
      " [8 0]\n",
      " [1 9]\n",
      " [0 1]\n",
      " [4 9]]\n"
     ]
    }
   ],
   "source": [
    "Y_large = data_generation(101)"
   ]
  },
  {
   "cell_type": "code",
   "execution_count": 66,
   "id": "ideal-bacteria",
   "metadata": {},
   "outputs": [
    {
     "name": "stdout",
     "output_type": "stream",
     "text": [
      "Full vectorisation case: \n",
      "9.72 µs ± 550 ns per loop (mean ± std. dev. of 7 runs, 100000 loops each)\n",
      "\n",
      "Normal case: \n",
      "35.4 ms ± 528 µs per loop (mean ± std. dev. of 7 runs, 10 loops each)\n",
      "\n",
      "Partial vectorisation case: \n",
      "39.5 µs ± 2.29 µs per loop (mean ± std. dev. of 7 runs, 10000 loops each)\n",
      "\n",
      "Scipy solution case: \n",
      "33.9 µs ± 4.47 µs per loop (mean ± std. dev. of 7 runs, 10000 loops each)\n",
      "\n",
      "FAIL. THERE IS A MISTAKE\n",
      "\t1) Full_Vectorisation = [[7.61577311 3.60555128 5.         1.         7.07106781]\n",
      " [8.06225775 7.21110255 4.         4.         9.43398113]\n",
      " [7.81024968 1.41421356 7.07106781 4.24264069 5.38516481]\n",
      " [7.81024968 2.         6.32455532 2.82842712 6.08276253]\n",
      " [5.         2.         4.         4.         4.12310563]];\n",
      "\t2) Normal_Solution = [[ 4.47213595  6.08276253  6.08276253 ...  9.43398113  6.\n",
      "   8.24621125]\n",
      " [ 5.          7.07106781  6.         ... 10.          7.\n",
      "   8.54400375]\n",
      " [ 1.41421356  6.40312424  2.23606798 ...  5.          7.07106781\n",
      "   3.16227766]\n",
      " ...\n",
      " [ 4.47213595  8.06225775  4.12310563 ...  9.21954446  8.24621125\n",
      "   7.21110255]\n",
      " [ 1.41421356  6.40312424  2.23606798 ...  5.          7.07106781\n",
      "   3.16227766]\n",
      " [ 5.09901951  9.21954446  3.60555128 ...  9.43398113  9.48683298\n",
      "   7.07106781]];\n",
      "\t3) Partial_Vectorisation = [[7.61577311 3.60555128 5.         1.         7.07106781]\n",
      " [8.06225775 7.21110255 4.         4.         9.43398113]\n",
      " [7.81024968 1.41421356 7.07106781 4.24264069 5.38516481]\n",
      " [7.81024968 2.         6.32455532 2.82842712 6.08276253]\n",
      " [5.         2.         4.         4.         4.12310563]];\n",
      "\t4) Scipy =\n",
      " [[ 4.47213595  6.08276253  6.08276253 ...  9.43398113  6.\n",
      "   8.24621125]\n",
      " [ 5.          7.07106781  6.         ... 10.          7.\n",
      "   8.54400375]\n",
      " [ 1.41421356  6.40312424  2.23606798 ...  5.          7.07106781\n",
      "   3.16227766]\n",
      " ...\n",
      " [ 4.47213595  8.06225775  4.12310563 ...  9.21954446  8.24621125\n",
      "   7.21110255]\n",
      " [ 1.41421356  6.40312424  2.23606798 ...  5.          7.07106781\n",
      "   3.16227766]\n",
      " [ 5.09901951  9.21954446  3.60555128 ...  9.43398113  9.48683298\n",
      "   7.07106781]].\n"
     ]
    }
   ],
   "source": [
    "solution_performace(X_large, Y_large,\n",
    "                    full_vectorisation_7, normal_7, partiral_vectorisation_7, wrapperSoluton_7)"
   ]
  },
  {
   "cell_type": "markdown",
   "id": "thorough-humanitarian",
   "metadata": {},
   "source": [
    "# Conclusion"
   ]
  },
  {
   "cell_type": "markdown",
   "id": "angry-discipline",
   "metadata": {},
   "source": [
    "Аналогичная ситуация c задачами выше. Векторизованные методы отрабатывают быстрее невекторизованных. \n",
    "При этом встроенная функция scipe...cdist() дает хороший результат только на маленьких выборках данных."
   ]
  },
  {
   "cell_type": "markdown",
   "id": "posted-observer",
   "metadata": {},
   "source": [
    "# MARK:"
   ]
  },
  {
   "cell_type": "markdown",
   "id": "angry-bhutan",
   "metadata": {},
   "source": [
    "Work was done by Artyom Ustsov - ML-13.  \n",
    "__All rigths reserved__"
   ]
  },
  {
   "cell_type": "markdown",
   "id": "toxic-fashion",
   "metadata": {},
   "source": [
    "# TOTAL MARK:"
   ]
  },
  {
   "cell_type": "markdown",
   "id": "numerical-steal",
   "metadata": {},
   "source": [
    "### Замечание.  Можно считать, что все указанные объекты непустые (к примеру, в задаче №1 на диагонали матрицы есть ненулевые элементы).\n",
    "Полезные функции NumPy: np.zeros, np.ones, np.diag, np.eye, np.arange, np.linspace, np.meshgrid,\n",
    "np.random.random, np.random.randint, np.shape, np.reshape, np.transpose, np.any, np.all, np.nonzero, np.where,\n",
    "np.sum, np.cumsum, np.prod, np.diff, np.min, np.max, np.minimum, np.maximum, np.argmin, np.argmax, np.unique,\n",
    "np.sort, np.argsort, np.bincount, np.ravel, np.newaxis, np.dot, np.linalg.inv, np.linalg.solve.\n",
    "Многие из этих функций можно использовать так: x.argmin()."
   ]
  },
  {
   "cell_type": "markdown",
   "id": "effective-algorithm",
   "metadata": {},
   "source": [
    "### Для каждой из задач:\n",
    "(a) Написать на Python + NumPy несколько вариантов кода различной эффективности. Должно быть не\n",
    "менее трёх вариантов, в том числе как минимум один полностью векторизованный вариант, и один\n",
    "вариант без векторизации. Третий вариант решения — на ваше усмотрение, например, это может быть\n",
    "наиболее хорошо читаемый способ решения, или частично векторизованный вариант. Все варианты\n",
    "решения одной задачи должны содержаться в отдельном Python модуле.\n",
    "\n",
    "(b) Сравнить в IPython Notebook при помощи %timeit скорость работы на нескольких тестовых наборах\n",
    "разного размера (минимум 3).\n",
    "\n",
    "(c) Проанализировать полученные данные о скорости работы разных реализаций.\n",
    "\n",
    "(d) Получить выводы."
   ]
  },
  {
   "cell_type": "code",
   "execution_count": null,
   "id": "veterinary-radical",
   "metadata": {},
   "outputs": [],
   "source": []
  }
 ],
 "metadata": {
  "kernelspec": {
   "display_name": "Python 3",
   "language": "python",
   "name": "python3"
  },
  "language_info": {
   "codemirror_mode": {
    "name": "ipython",
    "version": 3
   },
   "file_extension": ".py",
   "mimetype": "text/x-python",
   "name": "python",
   "nbconvert_exporter": "python",
   "pygments_lexer": "ipython3",
   "version": "3.8.10"
  }
 },
 "nbformat": 4,
 "nbformat_minor": 5
}
