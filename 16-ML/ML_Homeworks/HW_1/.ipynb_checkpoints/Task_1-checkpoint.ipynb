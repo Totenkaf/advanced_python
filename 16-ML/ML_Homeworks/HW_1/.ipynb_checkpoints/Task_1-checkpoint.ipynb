{
 "cells": [
  {
   "cell_type": "markdown",
   "id": "gross-business",
   "metadata": {},
   "source": [
    "# Домашнее задание №1. Дедлайн - 20 октября\n",
    "Основы машинного обучения. В.Журавлев  \n",
    "Группа ML-13. Студент - Усцов Артем Алексеевич"
   ]
  },
  {
   "cell_type": "markdown",
   "id": "supposed-hughes",
   "metadata": {},
   "source": [
    "\n",
    "# Максимум 5 баллов - по ~0.7 баллов за задание"
   ]
  },
  {
   "cell_type": "code",
   "execution_count": 8,
   "id": "concerned-branch",
   "metadata": {},
   "source": [
    "# Main lib importing\n",
    "import numpy as np"
   ],
   "outputs": []
  },
  {
   "cell_type": "markdown",
   "id": "sought-beverage",
   "metadata": {},
   "source": [
    "# 1. Подсчитать произведение ненулевых элементов на диагонали прямоугольной матрицы.\n",
    "Для X = np.array([[1, 0, 1], [2, 0, 2], [3, 0, 3], [4, 4, 4]]) ответ 3"
   ]
  },
  {
   "cell_type": "code",
   "execution_count": 2,
   "id": "injured-virtue",
   "metadata": {},
   "source": [
    "# Check correct answer function\n",
    "def wrapperSoluton_1(answer_1, answer_2, answer_3):\n",
    "    if answer_1 == answer_2 == answer_3:\n",
    "        print(f\"EVERYTHING IS OK\")\n",
    "        print(f\"\\t1) Full_Vectorisation = {answer_1};\\n\\t2) Normal_Solution = {answer_2};\\n\\t3) Partial_Vectorisation = {answer_3}.\")\n",
    "    else:\n",
    "        print(f\"FAIL. THERE IS A MISTAKE\")\n",
    "        print(f\"\\t1) Full_Vectorisation = {answer_1};\\n\\t2) Normal_Solution = {answer_2};\\n\\t3) Partial_Vectorisation = {answer_3}.\")"
   ],
   "outputs": []
  },
  {
   "cell_type": "code",
   "execution_count": 3,
   "id": "partial-colors",
   "metadata": {},
   "source": [
    "# Full vectorisation solution using only numpy.array methods\n",
    "def full_vectorisation_1(X):\n",
    "    return np.prod(np.diag(X)[np.diag(X)!= 0]) "
   ],
   "outputs": []
  },
  {
   "cell_type": "code",
   "execution_count": 4,
   "id": "acceptable-toddler",
   "metadata": {},
   "source": [
    "# Standard solution with using Python cycles\n",
    "def normal_1(X):\n",
    "    answer_2 = 1\n",
    "    for i in range(X.shape[0]):\n",
    "        for j in range(X.shape[1]):\n",
    "            if i == j and X[i, j] != 0:\n",
    "                answer_2 *= X[i, j]\n",
    "    return answer_2"
   ],
   "outputs": []
  },
  {
   "cell_type": "code",
   "execution_count": 5,
   "id": "legitimate-finger",
   "metadata": {},
   "source": [
    "# Partial vectorisation with Python generetors\n",
    "def partiral_vectorisation_1(X):\n",
    "    return np.array([x for x in X.diagonal() if x != 0]).prod()"
   ],
   "outputs": []
  },
  {
   "cell_type": "code",
   "execution_count": 6,
   "id": "usual-rider",
   "metadata": {},
   "source": [
    "def solution_performace(X, full_vectorisation, normal, partiral_vectorisation, wrapperSoluton):\n",
    "    \n",
    "    print(\"Full vectorisation case: \")\n",
    "    %timeit full_vectorisation(X)\n",
    "    answer_1 = full_vectorisation(X)\n",
    "    print()\n",
    "\n",
    "    print(\"Normal case: \")\n",
    "    %timeit normal(X)\n",
    "    answer_2 = normal(X)\n",
    "    print()\n",
    "\n",
    "    print(\"Partial vectorisation case: \")\n",
    "    %timeit partiral_vectorisation(X)\n",
    "    answer_3 = partiral_vectorisation(X)\n",
    "    print()\n",
    "\n",
    "    wrapperSoluton(answer_1, answer_2, answer_3)"
   ],
   "outputs": []
  },
  {
   "cell_type": "markdown",
   "id": "appropriate-consequence",
   "metadata": {},
   "source": [
    "### Data generation"
   ]
  },
  {
   "cell_type": "markdown",
   "id": "widespread-palestinian",
   "metadata": {},
   "source": [
    "#### Задание матрицы малого размера, базовый случай. Ответ: 3"
   ]
  },
  {
   "cell_type": "code",
   "execution_count": 67,
   "id": "major-satin",
   "metadata": {},
   "source": [
    "X_small = np.array([[1, 0, 1], \n",
    "              [2, 0, 2], \n",
    "              [3, 0, 3], \n",
    "              [4, 4, 4]])\n",
    "print(\"Матрица целых случайных чисел: \\n\", X_small, end='\\n')\n",
    "print(\"Вектор главной диагонали матрицы:\\n\", X_small.diagonal(), end='\\n')"
   ],
   "outputs": []
  },
  {
   "cell_type": "markdown",
   "id": "prepared-guide",
   "metadata": {},
   "source": [
    "#### Задание матрицы среднего размера."
   ]
  },
  {
   "cell_type": "code",
   "execution_count": 8,
   "id": "tropical-chemical",
   "metadata": {},
   "source": [
    "np.random.seed(42)\n",
    "X_average = np.random.randint(0, 7, size = (78, 19))\n",
    "print(\"Матрица целых случайных чисел: \\n\", X_average, end='\\n')\n",
    "print(\"Вектор главной диагонали матрицы:\\n\", X_average.diagonal(), end='\\n')"
   ],
   "outputs": []
  },
  {
   "cell_type": "markdown",
   "id": "identical-cabinet",
   "metadata": {},
   "source": [
    "#### Задание матрицы большого размера."
   ]
  },
  {
   "cell_type": "code",
   "execution_count": 9,
   "id": "latest-eligibility",
   "metadata": {},
   "source": [
    "np.random.seed(42)\n",
    "X_large = np.random.randint(0, 3, size = (212, 134))\n",
    "print(\"Матрица целых случайных чисел: \\n\", X_large, end='\\n')\n",
    "print(\"Вектор главной диагонали матрицы:\\n\", X_large.diagonal(), end='\\n')"
   ],
   "outputs": []
  },
  {
   "cell_type": "markdown",
   "id": "legislative-headline",
   "metadata": {},
   "source": [
    "### Check the solution performance"
   ]
  },
  {
   "cell_type": "code",
   "execution_count": 10,
   "id": "proof-hollow",
   "metadata": {},
   "source": [
    "solution_performace(X_small, full_vectorisation_1, normal_1, partiral_vectorisation_1, wrapperSoluton_1)"
   ],
   "outputs": []
  },
  {
   "cell_type": "code",
   "execution_count": 11,
   "id": "taken-picnic",
   "metadata": {},
   "source": [
    "solution_performace(X_average, full_vectorisation_1, normal_1, partiral_vectorisation_1, wrapperSoluton_1)"
   ],
   "outputs": []
  },
  {
   "cell_type": "code",
   "execution_count": 12,
   "id": "small-composer",
   "metadata": {},
   "source": [
    "solution_performace(X_large, full_vectorisation_1, normal_1, partiral_vectorisation_1, wrapperSoluton_1)"
   ],
   "outputs": []
  },
  {
   "cell_type": "markdown",
   "id": "legitimate-resort",
   "metadata": {},
   "source": [
    "# Conclusion"
   ]
  },
  {
   "cell_type": "markdown",
   "id": "controversial-plain",
   "metadata": {},
   "source": [
    "Как видно, в зависимости от размера входных данных для различных реализаций вычислений, время операций может варьироваться. На малых выборках не имеет значения, используются ли векторизованные вычисления или базовые конструкции Python.  \n",
    "Векторизация начинает иметь все больший вес при увеличении данных. При этом выигрыш в вычислениях в случае большой выборки составляет почти 90 раз.  \n",
    "\n",
    "__Также отметим, что частично векторизованное решение достаточно уступает векторизованному решению__"
   ]
  },
  {
   "cell_type": "markdown",
   "id": "official-assignment",
   "metadata": {},
   "source": [
    "# MARK:"
   ]
  },
  {
   "cell_type": "markdown",
   "id": "atomic-automation",
   "metadata": {},
   "source": [
    "# 2. Дана матрица X и два вектора одинаковой длины i и j. Построить вектор np.array([X[i[0], j[0]], X[i[1], j[1]], ... , X[i[N-1], j[N-1]]])."
   ]
  },
  {
   "cell_type": "code",
   "execution_count": 13,
   "id": "adverse-crime",
   "metadata": {},
   "source": [
    "# Check correct answer function\n",
    "def wrapperSoluton_2(answer_1, answer_2, answer_3):\n",
    "    if np.array_equal(answer_1, answer_2) == np.array_equal(answer_1, answer_3) == np.array_equal(answer_2, answer_3):\n",
    "        print(f\"EVERYTHING IS OK\")\n",
    "        print(f\"\\t1) Full_Vectorisation = {answer_1};\\n\\t2) Normal_Solution = {answer_2};\\n\\t3) Partial_Vectorisation = {answer_3}.\")\n",
    "    else:\n",
    "        print(f\"FAIL. THERE IS A MISTAKE\")\n",
    "        print(f\"\\t1) Full_Vectorisation = {answer_1};\\n\\t2) Normal_Solution = {answer_2};\\n\\t3) Partial_Vectorisation = {answer_3}.\")"
   ],
   "outputs": []
  },
  {
   "cell_type": "code",
   "execution_count": 14,
   "id": "junior-parallel",
   "metadata": {},
   "source": [
    "def data_generation(matrix_size, vector_size):\n",
    "    np.random.seed(42)\n",
    "    X = np.random.randint(0, 10, size = (matrix_size, matrix_size))\n",
    "    print(\"Матрица целых случайных чисел: \\n\", X, end='\\n')\n",
    "\n",
    "    # Задание первого вектора\n",
    "    i = np.random.randint(0, len(X), size = vector_size)\n",
    "    print(\"Первый вектор индексов: \\n\", i, end='\\n')\n",
    "    # Задание второго вектора\n",
    "    j = np.random.randint(0, len(X), size = vector_size)\n",
    "    print(\"Второй вектор индексов: \\n\", j, end='\\n')\n",
    "    \n",
    "    return X, i, j"
   ],
   "outputs": []
  },
  {
   "cell_type": "code",
   "execution_count": 15,
   "id": "treated-activity",
   "metadata": {},
   "source": [
    "def solution_performace(X, i, j, full_vectorisation, normal, partiral_vectorisation, wrapperSoluton):\n",
    "    \n",
    "    print(\"Full vectorisation case: \")\n",
    "    %timeit full_vectorisation(X, i, j)\n",
    "    answer_1 = full_vectorisation(X, i, j)\n",
    "    print()\n",
    "\n",
    "    print(\"Normal case: \")\n",
    "    %timeit normal(X, i, j)\n",
    "    answer_2 = np.array(normal(X, i, j))\n",
    "    print()\n",
    "\n",
    "    print(\"Partial vectorisation case: \")\n",
    "    %timeit partiral_vectorisation(X, i, j)\n",
    "    answer_3 = np.array(partiral_vectorisation(X, i, j))\n",
    "    print()\n",
    "\n",
    "    wrapperSoluton(answer_1, answer_2, answer_3)"
   ],
   "outputs": []
  },
  {
   "cell_type": "code",
   "execution_count": 16,
   "id": "italian-behalf",
   "metadata": {},
   "source": [
    "# Full vectorisation solution using only numpy.array methods\n",
    "def full_vectorisation_2(X, i, j):\n",
    "    return X[i,j]"
   ],
   "outputs": []
  },
  {
   "cell_type": "code",
   "execution_count": 17,
   "id": "broad-creature",
   "metadata": {},
   "source": [
    "# Standard solution with using Python cycles\n",
    "def normal_2(X, i, j):\n",
    "    answer = []\n",
    "    for k in range(len(i)):\n",
    "        answer.append(X[i[k]][j[k]])\n",
    "    return answer"
   ],
   "outputs": []
  },
  {
   "cell_type": "code",
   "execution_count": 18,
   "id": "disciplinary-trigger",
   "metadata": {},
   "source": [
    "# Partial vectorisation with Python generetors\n",
    "def partiral_vectorisation_2(X, i, j):\n",
    "    return [X[i[k]][j[k]] for k in range(len(i))]"
   ],
   "outputs": []
  },
  {
   "cell_type": "code",
   "execution_count": 19,
   "id": "civil-apparatus",
   "metadata": {},
   "source": [
    "X_small, i_small, j_small = data_generation(4, 3)"
   ],
   "outputs": []
  },
  {
   "cell_type": "code",
   "execution_count": 20,
   "id": "involved-bryan",
   "metadata": {},
   "source": [
    "X_average, i_average, j_average = data_generation(27, 6)"
   ],
   "outputs": []
  },
  {
   "cell_type": "code",
   "execution_count": 21,
   "id": "disturbed-maryland",
   "metadata": {},
   "source": [
    "X_large, i_large, j_large = data_generation(101, 52)"
   ],
   "outputs": []
  },
  {
   "cell_type": "code",
   "execution_count": 22,
   "id": "judicial-shooting",
   "metadata": {},
   "source": [
    "solution_performace(X_small, i_small, j_small, \n",
    "                    full_vectorisation_2, normal_2, partiral_vectorisation_2, wrapperSoluton_2)"
   ],
   "outputs": []
  },
  {
   "cell_type": "code",
   "execution_count": 23,
   "id": "developmental-feelings",
   "metadata": {},
   "source": [
    "solution_performace(X_average, i_average, j_average, \n",
    "                    full_vectorisation_2, normal_2, partiral_vectorisation_2, wrapperSoluton_2)"
   ],
   "outputs": []
  },
  {
   "cell_type": "code",
   "execution_count": 24,
   "id": "japanese-bosnia",
   "metadata": {},
   "source": [
    "solution_performace(X_large, i_large, j_large, \n",
    "                    full_vectorisation_2, normal_2, partiral_vectorisation_2, wrapperSoluton_2)"
   ],
   "outputs": []
  },
  {
   "cell_type": "markdown",
   "id": "bright-bernard",
   "metadata": {},
   "source": [
    "# Conclusion"
   ]
  },
  {
   "cell_type": "markdown",
   "id": "earlier-portal",
   "metadata": {},
   "source": [
    "Как и в задании 1. Векторизованное решение выигрывает в разы по сравнению с другими. В данном случае, это правило распространяется на выборки любого размера\n",
    "\n",
    "__Также отметим, что частично векторизованное решение достаточно уступает векторизованному решению__"
   ]
  },
  {
   "cell_type": "markdown",
   "id": "returning-walter",
   "metadata": {},
   "source": [
    "# MARK:"
   ]
  },
  {
   "cell_type": "markdown",
   "id": "standing-smooth",
   "metadata": {},
   "source": [
    "# 3. Даны два вектора x и y. Проверить, задают ли они одно и то же мультимножество. \n",
    "Для x = np.array([1, 2, 2, 4]), y = np.array([4, 2, 1, 2]) ответ True."
   ]
  },
  {
   "cell_type": "markdown",
   "id": "spread-remains",
   "metadata": {},
   "source": [
    "\"Мультимножество — модификация понятия множества, допускающая включение одного и того же элемента в совокупность по нескольку раз. Число элементов в мультимножестве, с учётом повторяющихся элементов, называется его размером или мощностью.\""
   ]
  },
  {
   "cell_type": "code",
   "execution_count": 25,
   "id": "fifty-community",
   "metadata": {},
   "source": [
    "# Check correct answer function\n",
    "def wrapperSoluton_3(answer_1, answer_2, answer_3):\n",
    "    if answer_1 and answer_2 and answer_3:\n",
    "        print(f\"EVERYTHING IS OK\")\n",
    "        print(f\"\\t1) Full_Vectorisation = {answer_1};\\n\\t2) Normal_Solution = {answer_2};\\n\\t3) Partial_Vectorisation = {answer_3}.\")\n",
    "    else:\n",
    "        print(f\"FAIL. THERE IS A MISTAKE\")\n",
    "        print(f\"\\t1) Full_Vectorisation = {answer_1};\\n\\t2) Normal_Solution = {answer_2};\\n\\t3) Partial_Vectorisation = {answer_3}.\")"
   ],
   "outputs": []
  },
  {
   "cell_type": "code",
   "execution_count": 26,
   "id": "compliant-niger",
   "metadata": {},
   "source": [
    "def data_generation(vector_size_1, vector_size_2):\n",
    "\n",
    "    # Задание первого вектора\n",
    "    x = np.random.randint(0, 2, size = vector_size_1)\n",
    "    print(\"Первый вектор индексов: \\n\", x, end='\\n')\n",
    "    # Задание второго вектора\n",
    "    y = np.random.randint(0, 2, size = vector_size_2)\n",
    "    print(\"Второй вектор индексов: \\n\", y, end='\\n')\n",
    "    \n",
    "    return x, y"
   ],
   "outputs": []
  },
  {
   "cell_type": "code",
   "execution_count": 27,
   "id": "supposed-oxford",
   "metadata": {},
   "source": [
    "def solution_performace(x, y, full_vectorisation, normal, partiral_vectorisation, wrapperSoluton):\n",
    "    \n",
    "    print(\"Full vectorisation case: \")\n",
    "    %timeit full_vectorisation(x, y)\n",
    "    answer_1 = full_vectorisation(x, y)\n",
    "    print()\n",
    "\n",
    "    print(\"Normal case: \")\n",
    "    %timeit normal(x, y)\n",
    "    answer_2 = normal(x, y)\n",
    "    print()\n",
    "\n",
    "    print(\"Partial vectorisation case: \")\n",
    "    %timeit partiral_vectorisation(x, y)\n",
    "    answer_3 = partiral_vectorisation(x, y)\n",
    "    print()\n",
    "\n",
    "    wrapperSoluton(answer_1, answer_2, answer_3)"
   ],
   "outputs": []
  },
  {
   "cell_type": "code",
   "execution_count": 28,
   "id": "instructional-blake",
   "metadata": {},
   "source": [
    "# Full vectorisation solution using only numpy.array methods\n",
    "def full_vectorisation_3(x, y):\n",
    "    x.sort()\n",
    "    y.sort()\n",
    "    return np.array_equal(x, y)"
   ],
   "outputs": []
  },
  {
   "cell_type": "code",
   "execution_count": 29,
   "id": "surrounded-lesson",
   "metadata": {},
   "source": [
    "# Standard solution with using Python cycles\n",
    "def normal_3(x, y):\n",
    "    if len(x) != len(y):\n",
    "        return False\n",
    "\n",
    "    x.sort()\n",
    "    y.sort()\n",
    "\n",
    "    answer = False\n",
    "    for i in range(len(x)):\n",
    "        if x[i] == y[i]:\n",
    "            answer = True\n",
    "        else:\n",
    "            answer = False\n",
    "            break\n",
    "\n",
    "    return answer"
   ],
   "outputs": []
  },
  {
   "cell_type": "code",
   "execution_count": 30,
   "id": "stainless-jordan",
   "metadata": {},
   "source": [
    "# Using collections.Counter\n",
    "from collections import Counter\n",
    "def partiral_vectorisation_3(x, y):\n",
    "    if len(x) != len(y):\n",
    "        return False\n",
    "\n",
    "    x_counter, y_counter = Counter(), Counter()\n",
    "\n",
    "    for x_digit, y_digit in zip(x, y):\n",
    "        x_counter[x_digit] += 1\n",
    "        y_counter[y_digit] += 1\n",
    "    if x_counter == y_counter:\n",
    "        return True\n",
    "    else:\n",
    "        return False"
   ],
   "outputs": []
  },
  {
   "cell_type": "code",
   "execution_count": 31,
   "id": "built-vitamin",
   "metadata": {},
   "source": [
    "x_small, y_small = data_generation(5, 5)"
   ],
   "outputs": []
  },
  {
   "cell_type": "code",
   "execution_count": 32,
   "id": "welsh-progressive",
   "metadata": {},
   "source": [
    "x_average, y_average = data_generation(29, 29)"
   ],
   "outputs": []
  },
  {
   "cell_type": "code",
   "execution_count": 33,
   "id": "whole-lafayette",
   "metadata": {},
   "source": [
    "x_large, y_large = data_generation(450, 450)"
   ],
   "outputs": []
  },
  {
   "cell_type": "code",
   "execution_count": 34,
   "id": "valued-cedar",
   "metadata": {},
   "source": [
    "solution_performace(x_small, y_small, \n",
    "                    full_vectorisation_3, normal_3, partiral_vectorisation_3, wrapperSoluton_3)"
   ],
   "outputs": []
  },
  {
   "cell_type": "code",
   "execution_count": 35,
   "id": "furnished-spare",
   "metadata": {},
   "source": [
    "solution_performace(x_average, y_average, \n",
    "                    full_vectorisation_3, normal_3, partiral_vectorisation_3, wrapperSoluton_3)"
   ],
   "outputs": []
  },
  {
   "cell_type": "code",
   "execution_count": 36,
   "id": "organized-administrator",
   "metadata": {},
   "source": [
    "solution_performace(x_large, y_large, \n",
    "                    full_vectorisation_3, normal_3, partiral_vectorisation_3, wrapperSoluton_3)"
   ],
   "outputs": []
  },
  {
   "cell_type": "markdown",
   "id": "spoken-wholesale",
   "metadata": {},
   "source": [
    "# Conclusion"
   ]
  },
  {
   "cell_type": "markdown",
   "id": "understanding-cycle",
   "metadata": {},
   "source": [
    "Аналогичная ситуация. Векторизованные методы отрабатывают быстрее невекторизованных. \n",
    "Использование модуля collections.Counter сильно замедляет работу в вычислениях.\n",
    "\n",
    "__Примечание__  \n",
    "В изначальном варианте векторизованного решения в метод np.array_equal передавались не заранее отсортированные массивы, а массивы, обертнутые в функци sorted(), т.е np.array_equal(sorted(X), sorted(Y)). Такое решение было в дальнейшем отвергнуто, в связи с большим падением скорости в вычислениях, получилась, что невекторизованное решение было в 2-3 раза эффективнее векторизованного."
   ]
  },
  {
   "cell_type": "markdown",
   "id": "circular-representation",
   "metadata": {},
   "source": [
    "# MARK:"
   ]
  },
  {
   "cell_type": "markdown",
   "id": "dimensional-stamp",
   "metadata": {},
   "source": [
    "# 4. Найти максимальный элемент в векторе x среди элементов, перед которыми стоит нулевой. \n",
    "Для x = np.array([6, 2, 0, 3, 0, 0, 5, 7, 0]) ответ 5."
   ]
  },
  {
   "cell_type": "code",
   "execution_count": 37,
   "id": "earned-travel",
   "metadata": {},
   "source": [
    "# Check correct answer function\n",
    "def wrapperSoluton_4(answer_1, answer_2, answer_3):\n",
    "    if answer_1 == answer_2 == answer_3:\n",
    "        print(f\"EVERYTHING IS OK\")\n",
    "        print(f\"\\t1) Full_Vectorisation = {answer_1};\\n\\t2) Normal_Solution = {answer_2};\\n\\t3) Partial_Vectorisation = {answer_3}.\")\n",
    "    else:\n",
    "        print(f\"FAIL. THERE IS A MISTAKE\")\n",
    "        print(f\"\\t1) Full_Vectorisation = {answer_1};\\n\\t2) Normal_Solution = {answer_2};\\n\\t3) Partial_Vectorisation = {answer_3}.\")"
   ],
   "outputs": []
  },
  {
   "cell_type": "code",
   "execution_count": 38,
   "id": "useful-finance",
   "metadata": {},
   "source": [
    "def data_generation(vector_size):\n",
    "\n",
    "    # Задание вектор\n",
    "    x = np.random.randint(0, 12, size = vector_size)\n",
    "    print(\"Первый вектор индексов: \\n\", x, end='\\n')\n",
    "\n",
    "    return x"
   ],
   "outputs": []
  },
  {
   "cell_type": "code",
   "execution_count": 39,
   "id": "graphic-academy",
   "metadata": {},
   "source": [
    "def solution_performace(x, full_vectorisation, normal, partiral_vectorisation, wrapperSoluton):\n",
    "    \n",
    "    print(\"Full vectorisation case: \")\n",
    "    %timeit full_vectorisation(x)\n",
    "    answer_1 = full_vectorisation(x)\n",
    "    print()\n",
    "\n",
    "    print(\"Normal case: \")\n",
    "    %timeit normal(x)\n",
    "    answer_2 = normal(x)\n",
    "    print()\n",
    "\n",
    "    print(\"Partial vectorisation case: \")\n",
    "    %timeit partiral_vectorisation(x)\n",
    "    answer_3 = partiral_vectorisation(x)\n",
    "    print()\n",
    "\n",
    "    wrapperSoluton(answer_1, answer_2, answer_3)"
   ],
   "outputs": []
  },
  {
   "cell_type": "code",
   "execution_count": 40,
   "id": "important-insurance",
   "metadata": {},
   "source": [
    "# Full vectorisation solution using only numpy.array methods\n",
    "def full_vectorisation_4(x):\n",
    "# Create a zero_mask\n",
    "    zero_mask = (x==0)\n",
    "    max_after_zero = x[1:][zero_mask[:-1]].max()\n",
    "    return max_after_zero"
   ],
   "outputs": []
  },
  {
   "cell_type": "code",
   "execution_count": 41,
   "id": "sorted-trace",
   "metadata": {},
   "source": [
    "# Standard solution with using Python cycles\n",
    "def normal_4(x):\n",
    "    max_after_zero = -float(\"inf\")\n",
    "    for i in range(len(x)-1):\n",
    "        if (x[i] == 0) and (x[i+1] > max_after_zero):\n",
    "            max_after_zero = x[i+1]\n",
    "    return max_after_zero"
   ],
   "outputs": []
  },
  {
   "cell_type": "code",
   "execution_count": 42,
   "id": "characteristic-council",
   "metadata": {},
   "source": [
    "# Using Python generators\n",
    "def partiral_vectorisation_4(x):\n",
    "    max_after_zero = max(x[i] for i in range(1, len(x)) if not x[i-1])\n",
    "    return max_after_zero"
   ],
   "outputs": []
  },
  {
   "cell_type": "code",
   "execution_count": 43,
   "id": "dress-missile",
   "metadata": {},
   "source": [
    "x_small = data_generation(5)"
   ],
   "outputs": []
  },
  {
   "cell_type": "code",
   "execution_count": 44,
   "id": "collectible-checklist",
   "metadata": {},
   "source": [
    "x_average = data_generation(23)"
   ],
   "outputs": []
  },
  {
   "cell_type": "code",
   "execution_count": 45,
   "id": "deluxe-handle",
   "metadata": {},
   "source": [
    "x_large = data_generation(101)"
   ],
   "outputs": []
  },
  {
   "cell_type": "code",
   "execution_count": 46,
   "id": "novel-season",
   "metadata": {},
   "source": [
    "solution_performace(x_small, \n",
    "                    full_vectorisation_4, normal_4, partiral_vectorisation_4, wrapperSoluton_4)"
   ],
   "outputs": []
  },
  {
   "cell_type": "code",
   "execution_count": 47,
   "id": "handy-wrestling",
   "metadata": {},
   "source": [
    "solution_performace(x_average, \n",
    "                    full_vectorisation_4, normal_4, partiral_vectorisation_4, wrapperSoluton_4)"
   ],
   "outputs": []
  },
  {
   "cell_type": "code",
   "execution_count": 48,
   "id": "applied-biotechnology",
   "metadata": {},
   "source": [
    "solution_performace(x_large, \n",
    "                    full_vectorisation_4, normal_4, partiral_vectorisation_4, wrapperSoluton_4)"
   ],
   "outputs": []
  },
  {
   "cell_type": "markdown",
   "id": "signed-tokyo",
   "metadata": {},
   "source": [
    "# Conclusion"
   ]
  },
  {
   "cell_type": "markdown",
   "id": "orange-documentation",
   "metadata": {},
   "source": [
    "Аналогичная ситуация c задачами выше. Векторизованные методы отрабатывают быстрее невекторизованных. "
   ]
  },
  {
   "cell_type": "markdown",
   "id": "persistent-season",
   "metadata": {},
   "source": [
    "# MARK:"
   ]
  },
  {
   "cell_type": "markdown",
   "id": "developed-links",
   "metadata": {},
   "source": [
    "# 5. Дан трёхмерный массив, содержащий изображение, размера (height, width, numChannels), а также вектор длины numChannels. \n",
    "- Сложить каналы изображения с указанными весами, и вернуть результат в виде матрицы размера (height, width).  \n",
    "- Считать реальное изображение можно при помощи функции scipy.misc.imread (если изображение не в формате png, установите пакет pillow: conda install pillow). Преобразуйте цветное изображение в оттенки серого, использовав коэффициенты np.array([0.299, 0.587, 0.114])"
   ]
  },
  {
   "cell_type": "code",
   "execution_count": null,
   "id": "elementary-muslim",
   "metadata": {},
   "source": [
    "# Check correct answer function\n",
    "def wrapperSoluton_5(answer_1, answer_2, answer_3):\n",
    "    if answer_1 == answer_2 == answer_3:\n",
    "        print(f\"EVERYTHING IS OK\")\n",
    "        print(f\"\\t1) Full_Vectorisation = {answer_1};\\n\\t2) Normal_Solution = {answer_2};\\n\\t3) Partial_Vectorisation = {answer_3}.\")\n",
    "    else:\n",
    "        print(f\"FAIL. THERE IS A MISTAKE\")\n",
    "        print(f\"\\t1) Full_Vectorisation = {answer_1};\\n\\t2) Normal_Solution = {answer_2};\\n\\t3) Partial_Vectorisation = {answer_3}.\")"
   ],
   "outputs": []
  },
  {
   "cell_type": "code",
   "execution_count": null,
   "id": "forward-aquarium",
   "metadata": {},
   "source": [
    "def solution_performace(x, full_vectorisation, normal, partiral_vectorisation, wrapperSoluton):\n",
    "    \n",
    "    print(\"Full vectorisation case: \")\n",
    "    %timeit full_vectorisation(x)\n",
    "    answer_1 = full_vectorisation(x)\n",
    "    print()\n",
    "\n",
    "    print(\"Normal case: \")\n",
    "    %timeit normal(x)\n",
    "    answer_2 = normal(x)\n",
    "    print()\n",
    "\n",
    "    print(\"Partial vectorisation case: \")\n",
    "    %timeit partiral_vectorisation(x)\n",
    "    answer_3 = partiral_vectorisation(x)\n",
    "    print()\n",
    "\n",
    "    wrapperSoluton(answer_1, answer_2, answer_3)"
   ],
   "outputs": []
  },
  {
   "cell_type": "code",
   "execution_count": null,
   "id": "mathematical-democracy",
   "metadata": {},
   "source": [
    "# Full vectorisation solution using only numpy.array methods\n",
    "def full_vectorisation_5(x):\n",
    "# Create a zero_mask\n",
    "    zero_mask = (x==0)\n",
    "    max_after_zero = x[1:][zero_mask[:-1]].max()\n",
    "    return max_after_zero"
   ],
   "outputs": []
  },
  {
   "cell_type": "code",
   "execution_count": null,
   "id": "buried-project",
   "metadata": {},
   "source": [
    "# Standard solution with using Python cycles\n",
    "def normal_5(x):\n",
    "    max_after_zero = -float(\"inf\")\n",
    "    for i in range(len(x)-1):\n",
    "        if (x[i] == 0) and (x[i+1] > max_after_zero):\n",
    "            max_after_zero = x[i+1]\n",
    "    return max_after_zero"
   ],
   "outputs": []
  },
  {
   "cell_type": "code",
   "execution_count": 16,
   "id": "afraid-clinic",
   "metadata": {},
   "source": [
    "# Using Python generators\n",
    "from itertools import groupby\n",
    "def partiral_vectorisation_5(x):\n",
    "    return tuple(zip(*((key, len(tuple(group))) for key, group in groupby(x))))"
   ],
   "outputs": []
  },
  {
   "cell_type": "code",
   "execution_count": 49,
   "id": "minor-container",
   "metadata": {},
   "source": [
    "# In progress"
   ],
   "outputs": []
  },
  {
   "cell_type": "markdown",
   "id": "korean-mining",
   "metadata": {},
   "source": [
    "# Conclusion"
   ]
  },
  {
   "cell_type": "markdown",
   "id": "mathematical-attraction",
   "metadata": {},
   "source": [
    "Аналогичная ситуация c задачами выше. Векторизованные методы отрабатывают быстрее невекторизованных. "
   ]
  },
  {
   "cell_type": "markdown",
   "id": "animated-affairs",
   "metadata": {},
   "source": [
    "# MARK:"
   ]
  },
  {
   "cell_type": "markdown",
   "id": "undefined-trouble",
   "metadata": {},
   "source": [
    "# 6. Реализовать кодирование длин серий (Run-length encoding). Дан вектор x. Необходимо вернуть кортеж из двух векторов одинаковой длины. Первый содержит числа, а второй - сколько раз их нужно повторить.\n",
    "Пример: x = np.array([2, 2, 2, 3, 3, 3, 5]). Ответ: (np.array([2, 3, 5]), np.array([3, 3, 1]))."
   ]
  },
  {
   "cell_type": "code",
   "execution_count": 354,
   "id": "diagnostic-tanzania",
   "metadata": {},
   "source": [
    "# Check correct answer function\n",
    "def wrapperSoluton_6(answer_1, answer_2, answer_3):\n",
    "    st_1 = np.array_equal(answer_1[0], answer_2[0]) and np.array_equal(answer_1[1], answer_2[1])\n",
    "    st_2 = np.array_equal(answer_1[0], answer_3[0]) and np.array_equal(answer_1[1], answer_3[1])\n",
    "    st_3 = np.array_equal(answer_2[0], answer_3[0]) and np.array_equal(answer_2[1], answer_3[1])\n",
    "\n",
    "    if st_1 and st_2 and st_3:\n",
    "        print(f\"EVERYTHING IS OK\")\n",
    "        print(f\"\\t1) Full_Vectorisation = {answer_1};\\n\\t2) Normal_Solution = {answer_2};\\n\\t3) Partial_Vectorisation = {answer_3}.\")\n",
    "    else:\n",
    "        print(f\"FAIL. THERE IS A MISTAKE\")\n",
    "        print(f\"\\t1) Full_Vectorisation = {answer_1};\\n\\t2) Normal_Solution = {answer_2};\\n\\t3) Partial_Vectorisation = {answer_3}.\")"
   ],
   "outputs": []
  },
  {
   "cell_type": "code",
   "execution_count": 368,
   "id": "hydraulic-voltage",
   "metadata": {},
   "source": [
    "def data_generation(vector_size):\n",
    "    # Задание вектора\n",
    "    x = np.random.randint(1, 6, size = vector_size)\n",
    "    print(\"Вектор чисел: \\n\", x, end='\\n')\n",
    "    return x"
   ],
   "outputs": []
  },
  {
   "cell_type": "code",
   "execution_count": 361,
   "id": "recognized-asthma",
   "metadata": {},
   "source": [
    "def solution_performace(X, full_vectorisation, normal, partiral_vectorisation, wrapperSoluton):\n",
    "    \n",
    "    print(\"Full vectorisation case: \")\n",
    "    %timeit full_vectorisation(X)\n",
    "    answer_1 = full_vectorisation(X)\n",
    "    print()\n",
    "\n",
    "    print(\"Normal case: \")\n",
    "    %timeit normal(X)\n",
    "    answer_2 = normal(X)\n",
    "    print()\n",
    "\n",
    "    print(\"Partial vectorisation case: \")\n",
    "    %timeit partiral_vectorisation(X)\n",
    "    answer_3 = partiral_vectorisation(X)\n",
    "    print()\n",
    "\n",
    "    wrapperSoluton(answer_1, answer_2, answer_3)"
   ],
   "outputs": []
  },
  {
   "cell_type": "code",
   "execution_count": 346,
   "id": "mathematical-insurance",
   "metadata": {},
   "source": [
    "# Full vectorisation solution using only numpy.array methods\n",
    "def full_vectorisation_6(X):\n",
    "    len_X = len(X)\n",
    "    unequal_pairwase = (X[1:] != X[:-1])\n",
    "    run_index = np.append(np.where(unequal_pairwase), len_X - 1)\n",
    "    run_lengths = np.diff(np.append(-1, run_index))\n",
    "    run_position = np.cumsum(np.append(0, run_lengths))[:-1]\n",
    "\n",
    "    return (X[run_index], run_lengths)"
   ],
   "outputs": []
  },
  {
   "cell_type": "code",
   "execution_count": 356,
   "id": "invisible-jersey",
   "metadata": {},
   "source": [
    "def normal_6(X):\n",
    "    count = 0\n",
    "    a_encode = []\n",
    "    a_count_el = []\n",
    "\n",
    "    for i in range(len(X)-1):        \n",
    "        if X[i] == X[i+1]:\n",
    "            count += 1\n",
    "        else:\n",
    "            count += 1\n",
    "            a_encode.append(X[i])\n",
    "            a_count_el.append(count)\n",
    "            count = 0\n",
    "\n",
    "    count += 1\n",
    "    a_encode.append(X[i+1])\n",
    "    a_count_el.append(count)\n",
    "    out = (np.array(a_encode), np.array(a_count_el))\n",
    "\n",
    "    return out"
   ],
   "outputs": []
  },
  {
   "cell_type": "code",
   "execution_count": 323,
   "id": "thick-phone",
   "metadata": {},
   "source": [
    "# Using Python itertools and Python generators\n",
    "from itertools import groupby\n",
    "def partiral_vectorisation_6(x):\n",
    "    a = np.ravel([[key, len(tuple(group))] for key, group in groupby(x)])\n",
    "    return (a[::2], a[1::2])"
   ],
   "outputs": []
  },
  {
   "cell_type": "code",
   "execution_count": 369,
   "id": "prostate-pennsylvania",
   "metadata": {},
   "source": [
    "X_small = data_generation(7)"
   ],
   "outputs": []
  },
  {
   "cell_type": "code",
   "execution_count": 362,
   "id": "solar-bosnia",
   "metadata": {},
   "source": [
    "print(\"Full vectorisation case: \")\n",
    "%timeit full_vectorisation_6(X_small)\n",
    "answer_1 = full_vectorisation_6(X_small)\n",
    "print()\n",
    "\n",
    "print(\"Normal case: \")\n",
    "%timeit normal_6(X_small)\n",
    "answer_2 = normal_6(X_small)\n",
    "print()\n",
    "\n",
    "print(\"Partial vectorisation case: \")\n",
    "%timeit partiral_vectorisation_6(X_small)\n",
    "answer_3 = partiral_vectorisation_6(X_small)\n",
    "print()\n",
    "\n",
    "wrapperSoluton(answer_1, answer_2, answer_3)"
   ],
   "outputs": []
  },
  {
   "cell_type": "code",
   "execution_count": 370,
   "id": "pregnant-framework",
   "metadata": {},
   "source": [
    "X_average = data_generation(23)"
   ],
   "outputs": []
  },
  {
   "cell_type": "code",
   "execution_count": 365,
   "id": "academic-chassis",
   "metadata": {},
   "source": [
    "print(\"Full vectorisation case: \")\n",
    "%timeit full_vectorisation_6(X_average)\n",
    "answer_1 = full_vectorisation_6(X_average)\n",
    "print()\n",
    "\n",
    "print(\"Normal case: \")\n",
    "%timeit normal_6(X_average)\n",
    "answer_2 = normal_6(X_average)\n",
    "print()\n",
    "\n",
    "print(\"Partial vectorisation case: \")\n",
    "%timeit partiral_vectorisation_6(X_average)\n",
    "answer_3 = partiral_vectorisation_6(X_average)\n",
    "print()\n",
    "\n",
    "wrapperSoluton(answer_1, answer_2, answer_3)"
   ],
   "outputs": []
  },
  {
   "cell_type": "code",
   "execution_count": 371,
   "id": "prepared-headquarters",
   "metadata": {},
   "source": [
    "X_large = data_generation(117)"
   ],
   "outputs": []
  },
  {
   "cell_type": "code",
   "execution_count": 367,
   "id": "connected-cathedral",
   "metadata": {},
   "source": [
    "print(\"Full vectorisation case: \")\n",
    "%timeit full_vectorisation_6(X_large)\n",
    "answer_1 = full_vectorisation_6(X_large)\n",
    "print()\n",
    "\n",
    "print(\"Normal case: \")\n",
    "%timeit normal_6(X_large)\n",
    "answer_2 = normal_6(X_large)\n",
    "print()\n",
    "\n",
    "print(\"Partial vectorisation case: \")\n",
    "%timeit partiral_vectorisation_6(X_large)\n",
    "answer_3 = partiral_vectorisation_6(X_large)\n",
    "print()\n",
    "\n",
    "wrapperSoluton(answer_1, answer_2, answer_3)"
   ],
   "outputs": []
  },
  {
   "cell_type": "markdown",
   "id": "satellite-arkansas",
   "metadata": {},
   "source": [
    "# Conclusion"
   ]
  },
  {
   "cell_type": "markdown",
   "id": "environmental-diversity",
   "metadata": {},
   "source": [
    "Аналогичная ситуация c задачами выше. Векторизованные методы отрабатывают быстрее невекторизованных на больших выборках данных. "
   ]
  },
  {
   "cell_type": "markdown",
   "id": "educated-herald",
   "metadata": {},
   "source": [
    "# MARK:"
   ]
  },
  {
   "cell_type": "markdown",
   "id": "greatest-intranet",
   "metadata": {},
   "source": [
    "# 7. Даны две выборки объектов - X и Y. Вычислить матрицу евклидовых расстояний между объектами. \n",
    "- Сравнить с функцией scipy.spatial.distance.cdist."
   ]
  },
  {
   "cell_type": "code",
   "execution_count": 51,
   "id": "figured-accent",
   "metadata": {},
   "source": [
    "from scipy.spatial.distance import cdist"
   ],
   "outputs": []
  },
  {
   "cell_type": "code",
   "execution_count": 52,
   "id": "lyric-wrist",
   "metadata": {},
   "source": [
    "# Check correct answer function\n",
    "def wrapperSoluton_7(answer_1, answer_2, answer_3, answer_4):\n",
    "    if np.array_equal(answer_1, answer_2) == np.array_equal(answer_1, answer_3) == np.array_equal(answer_1, answer_4) == np.array_equal(answer_2, answer_3) == np.array_equal(answer_2, answer_4) == np.array_equal(answer_3, answer_4):\n",
    "        print(f\"EVERYTHING IS OK\")\n",
    "        print(f\"\\t1) Full_Vectorisation = \\n{answer_1};\\n\\t2) Normal_Solution =\\n {answer_2};\\n\\t3) Partial_Vectorisation =\\n {answer_3};\\n\\t4) Scipy =\\n {answer_4}.\")\n",
    "    else:\n",
    "        print(f\"FAIL. THERE IS A MISTAKE\")\n",
    "        print(f\"\\t1) Full_Vectorisation = {answer_1};\\n\\t2) Normal_Solution = {answer_2};\\n\\t3) Partial_Vectorisation = {answer_3};\\n\\t4) Scipy =\\n {answer_4}.\")"
   ],
   "outputs": []
  },
  {
   "cell_type": "code",
   "execution_count": 53,
   "id": "exotic-framing",
   "metadata": {},
   "source": [
    "def data_generation(vector_size):\n",
    "    matrix = []\n",
    "    # Задание первого вектора\n",
    "    x = np.random.randint(0, 10, size = vector_size)\n",
    "    print(\"Коордианата x: \\n\", x, end='\\n')\n",
    "    # Задание второго вектора\n",
    "    y = np.random.randint(0, 10, size = vector_size)\n",
    "    print(\"Коордианата y: \\n\", y, end='\\n')\n",
    "    \n",
    "    matrix = np.column_stack((x, y))\n",
    "    print(\"Выборка объектов: \", matrix, sep='\\n', end='\\n')\n",
    "    return matrix"
   ],
   "outputs": []
  },
  {
   "cell_type": "code",
   "execution_count": 54,
   "id": "portuguese-fountain",
   "metadata": {},
   "source": [
    "def solution_performace(x, y, full_vectorisation, normal, partiral_vectorisation, wrapperSoluton):\n",
    "    \n",
    "    print(\"Full vectorisation case: \")\n",
    "    %timeit full_vectorisation(x, y)\n",
    "    answer_1 = full_vectorisation(x, y)\n",
    "    print()\n",
    "\n",
    "    print(\"Normal case: \")\n",
    "    %timeit normal(x, y)\n",
    "    answer_2 = normal(x, y)\n",
    "    print()\n",
    "\n",
    "    print(\"Partial vectorisation case: \")\n",
    "    %timeit partiral_vectorisation(x, y)\n",
    "    answer_3 = partiral_vectorisation(x, y)\n",
    "    print()\n",
    "    \n",
    "    print(\"Scipy solution case: \")\n",
    "    %timeit cdist(x, y)\n",
    "    answer_4 = cdist(x, y)\n",
    "    print()\n",
    "\n",
    "    wrapperSoluton(answer_1, answer_2, answer_3, answer_4)"
   ],
   "outputs": []
  },
  {
   "cell_type": "code",
   "execution_count": 55,
   "id": "activated-wallace",
   "metadata": {},
   "source": [
    "# Full vectorisation solution using only numpy.array methods\n",
    "def full_vectorisation_7(X, Y):\n",
    "    diff = X_small[np.newaxis, :] - Y_small[:, np.newaxis]\n",
    "    return np.sqrt(np.sum(diff ** 2, axis = -1)).T"
   ],
   "outputs": []
  },
  {
   "cell_type": "code",
   "execution_count": 56,
   "id": "polished-trail",
   "metadata": {},
   "source": [
    "# Standard solution with using Python cycles\n",
    "def normal_7(X, Y):\n",
    "    euqlide_matrix = []\n",
    "    euqlide_dist = 0\n",
    "    for point_1 in X:\n",
    "        euqlide_matrix_row = []\n",
    "        for point_2 in Y:\n",
    "            euqlide_dist = ((point_1[0] - point_2[0]) ** 2 + (point_1[1] - point_2[1]) ** 2) ** 0.5\n",
    "            euqlide_matrix_row.append(euqlide_dist)\n",
    "        euqlide_matrix.append(euqlide_matrix_row)\n",
    "    return np.array(euqlide_matrix)"
   ],
   "outputs": []
  },
  {
   "cell_type": "code",
   "execution_count": 57,
   "id": "opposite-pressing",
   "metadata": {},
   "source": [
    "# Using a complex number definition specific\n",
    "def partiral_vectorisation_7(X, Y):\n",
    "    z_point_X = np.array([complex(point[0], point[1]) for point in X_small])\n",
    "    z_point_Y = np.array([complex(point[0], point[1]) for point in Y_small])\n",
    "    mesh_x_axis, mesh_y_axis = np.meshgrid(z_point_X, z_point_Y)\n",
    "    return abs(mesh_x_axis - mesh_y_axis).T"
   ],
   "outputs": []
  },
  {
   "cell_type": "code",
   "execution_count": 58,
   "id": "meaning-gambling",
   "metadata": {},
   "source": [
    "X_small = data_generation(5)"
   ],
   "outputs": []
  },
  {
   "cell_type": "code",
   "execution_count": 59,
   "id": "metallic-phase",
   "metadata": {},
   "source": [
    "Y_small = data_generation(5)"
   ],
   "outputs": []
  },
  {
   "cell_type": "code",
   "execution_count": 60,
   "id": "psychological-player",
   "metadata": {},
   "source": [
    "solution_performace(X_small, Y_small,\n",
    "                    full_vectorisation_7, normal_7, partiral_vectorisation_7, wrapperSoluton_7)"
   ],
   "outputs": []
  },
  {
   "cell_type": "code",
   "execution_count": 61,
   "id": "uniform-surveillance",
   "metadata": {},
   "source": [
    "X_average = data_generation(15)"
   ],
   "outputs": []
  },
  {
   "cell_type": "code",
   "execution_count": 62,
   "id": "pressed-swiss",
   "metadata": {},
   "source": [
    "Y_average = data_generation(15)"
   ],
   "outputs": []
  },
  {
   "cell_type": "code",
   "execution_count": 63,
   "id": "frozen-shelf",
   "metadata": {},
   "source": [
    "solution_performace(X_average, Y_average,\n",
    "                    full_vectorisation_7, normal_7, partiral_vectorisation_7, wrapperSoluton_7)"
   ],
   "outputs": []
  },
  {
   "cell_type": "code",
   "execution_count": 64,
   "id": "noted-mediterranean",
   "metadata": {},
   "source": [
    "X_large = data_generation(101)"
   ],
   "outputs": []
  },
  {
   "cell_type": "code",
   "execution_count": 65,
   "id": "complex-dream",
   "metadata": {
    "scrolled": true
   },
   "source": [
    "Y_large = data_generation(101)"
   ],
   "outputs": []
  },
  {
   "cell_type": "code",
   "execution_count": 66,
   "id": "ideal-bacteria",
   "metadata": {},
   "source": [
    "solution_performace(X_large, Y_large,\n",
    "                    full_vectorisation_7, normal_7, partiral_vectorisation_7, wrapperSoluton_7)"
   ],
   "outputs": []
  },
  {
   "cell_type": "markdown",
   "id": "thorough-humanitarian",
   "metadata": {},
   "source": [
    "# Conclusion"
   ]
  },
  {
   "cell_type": "markdown",
   "id": "angry-discipline",
   "metadata": {},
   "source": [
    "Аналогичная ситуация c задачами выше. Векторизованные методы отрабатывают быстрее невекторизованных. \n",
    "При этом встроенная функция scipe...cdist() дает хороший результат только на маленьких выборках данных."
   ]
  },
  {
   "cell_type": "markdown",
   "id": "posted-observer",
   "metadata": {},
   "source": [
    "# MARK:"
   ]
  },
  {
   "cell_type": "markdown",
   "id": "angry-bhutan",
   "metadata": {},
   "source": [
    "Work was done by Artyom Ustsov - ML-13.  \n",
    "__All rigths reserved__"
   ]
  },
  {
   "cell_type": "markdown",
   "id": "toxic-fashion",
   "metadata": {},
   "source": [
    "# TOTAL MARK:"
   ]
  },
  {
   "cell_type": "markdown",
   "id": "numerical-steal",
   "metadata": {},
   "source": [
    "### Замечание.  Можно считать, что все указанные объекты непустые (к примеру, в задаче №1 на диагонали матрицы есть ненулевые элементы).\n",
    "Полезные функции NumPy: np.zeros, np.ones, np.diag, np.eye, np.arange, np.linspace, np.meshgrid,\n",
    "np.random.random, np.random.randint, np.shape, np.reshape, np.transpose, np.any, np.all, np.nonzero, np.where,\n",
    "np.sum, np.cumsum, np.prod, np.diff, np.min, np.max, np.minimum, np.maximum, np.argmin, np.argmax, np.unique,\n",
    "np.sort, np.argsort, np.bincount, np.ravel, np.newaxis, np.dot, np.linalg.inv, np.linalg.solve.\n",
    "Многие из этих функций можно использовать так: x.argmin()."
   ]
  },
  {
   "cell_type": "markdown",
   "id": "effective-algorithm",
   "metadata": {},
   "source": [
    "### Для каждой из задач:\n",
    "(a) Написать на Python + NumPy несколько вариантов кода различной эффективности. Должно быть не\n",
    "менее трёх вариантов, в том числе как минимум один полностью векторизованный вариант, и один\n",
    "вариант без векторизации. Третий вариант решения — на ваше усмотрение, например, это может быть\n",
    "наиболее хорошо читаемый способ решения, или частично векторизованный вариант. Все варианты\n",
    "решения одной задачи должны содержаться в отдельном Python модуле.\n",
    "\n",
    "(b) Сравнить в IPython Notebook при помощи %timeit скорость работы на нескольких тестовых наборах\n",
    "разного размера (минимум 3).\n",
    "\n",
    "(c) Проанализировать полученные данные о скорости работы разных реализаций.\n",
    "\n",
    "(d) Получить выводы."
   ]
  },
  {
   "cell_type": "code",
   "execution_count": null,
   "id": "veterinary-radical",
   "metadata": {},
   "source": [],
   "outputs": []
  }
 ],
 "metadata": {
  "kernelspec": {
   "display_name": "Python 3",
   "language": "python",
   "name": "python3"
  },
  "language_info": {
   "codemirror_mode": {
    "name": "ipython",
    "version": 3
   },
   "file_extension": ".py",
   "mimetype": "text/x-python",
   "name": "python",
   "nbconvert_exporter": "python",
   "pygments_lexer": "ipython3",
   "version": "3.8.10"
  }
 },
 "nbformat": 4,
 "nbformat_minor": 5
}
