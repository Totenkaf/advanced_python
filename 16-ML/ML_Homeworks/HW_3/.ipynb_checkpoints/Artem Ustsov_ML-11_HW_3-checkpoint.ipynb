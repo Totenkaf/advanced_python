{
 "cells": [
  {
   "cell_type": "markdown",
   "metadata": {},
   "source": [
    "# Домашнее задание №3\n",
    "Основы машинного обучения. К.Шематоров  \n",
    "Группа ML-11. __Студент - Усцов Артем Алексеевич__"
   ]
  },
  {
   "cell_type": "code",
   "execution_count": 11,
   "metadata": {
    "ExecuteTime": {
     "end_time": "2022-04-18T17:58:24.369290Z",
     "start_time": "2022-04-18T17:58:24.360931Z"
    }
   },
   "outputs": [
    {
     "name": "stdout",
     "output_type": "stream",
     "text": [
      "The watermark extension is already loaded. To reload it, use:\n",
      "  %reload_ext watermark\n"
     ]
    }
   ],
   "source": [
    "# Для функционирования watermark - раскомментируйте строку ниже, либо установите библиотеку в консоли вручную\n",
    "# !pip install watermark\n",
    "%load_ext watermark"
   ]
  },
  {
   "cell_type": "code",
   "execution_count": 12,
   "metadata": {
    "ExecuteTime": {
     "end_time": "2022-04-18T17:58:24.592443Z",
     "start_time": "2022-04-18T17:58:24.556292Z"
    }
   },
   "outputs": [
    {
     "name": "stdout",
     "output_type": "stream",
     "text": [
      "Python implementation: CPython\n",
      "Python version       : 3.8.10\n",
      "IPython version      : 7.28.0\n",
      "\n",
      "numpy     : 1.20.1\n",
      "scipy     : 1.6.2\n",
      "matplotlib: 3.4.3\n",
      "pandas    : 1.2.2\n",
      "sklearn   : 0.0\n",
      "nltk      : 3.6.5\n",
      "codecs    : unknown\n",
      "\n",
      "Compiler    : GCC 9.3.0\n",
      "OS          : Linux\n",
      "Release     : 5.4.0-88-generic\n",
      "Machine     : x86_64\n",
      "Processor   : x86_64\n",
      "CPU cores   : 8\n",
      "Architecture: 64bit\n",
      "\n",
      "Git hash: 040aca39bc26672cd92fd4d4fb1b45c281250c93\n",
      "\n"
     ]
    }
   ],
   "source": [
    "%watermark -v -m -p numpy,scipy,matplotlib,pandas,sklearn,nltk,codecs -g"
   ]
  },
  {
   "cell_type": "markdown",
   "metadata": {},
   "source": [
    "# Service function declaration\n",
    "\n",
    "Connecting all the libraries necessary for work and declaring functions"
   ]
  },
  {
   "cell_type": "code",
   "execution_count": 356,
   "metadata": {
    "ExecuteTime": {
     "end_time": "2022-04-20T09:36:46.465097Z",
     "start_time": "2022-04-20T09:36:46.454086Z"
    }
   },
   "outputs": [],
   "source": [
    "# Main libraries\n",
    "import numpy as np\n",
    "import pandas as pd\n",
    "\n",
    "\n",
    "# Метрики\n",
    "from sklearn.metrics import f1_score\n",
    "from sklearn.model_selection import train_test_split\n",
    "from sklearn.metrics import roc_auc_score, roc_curve\n",
    "from sklearn.metrics import confusion_matrix\n",
    "from sklearn.metrics import classification_report\n",
    "\n",
    "# Отрисовка графики\n",
    "import matplotlib.pyplot as plt\n",
    "\n",
    "# Нормализаторы\n",
    "import nltk\n",
    "from nltk.corpus import stopwords\n",
    "import re\n",
    "import codecs\n",
    "\n",
    "# Обучающие модели\n",
    "from sklearn.naive_bayes import MultinomialNB\n",
    "from sklearn.linear_model import SGDClassifier\n",
    "from sklearn.feature_extraction.text import CountVectorizer\n",
    "from sklearn.feature_extraction.text import TfidfVectorizer\n",
    "from sklearn.model_selection import GridSearchCV\n",
    "from sklearn.linear_model import LogisticRegressionCV\n",
    "from sklearn.ensemble import VotingClassifier\n",
    "\n",
    "# Статус команд\n",
    "from tqdm.notebook import tqdm\n",
    "\n",
    "# Системные службы\n",
    "import os\n",
    "import warnings\n",
    "warnings.filterwarnings('ignore')\n",
    "\n",
    "# Трансформеры и пайпланы данных\n",
    "from sklearn.pipeline import Pipeline\n",
    "from sklearn.compose import ColumnTransformer\n",
    "\n",
    "%matplotlib inline"
   ]
  },
  {
   "cell_type": "code",
   "execution_count": 357,
   "metadata": {
    "ExecuteTime": {
     "end_time": "2022-04-20T09:36:52.807572Z",
     "start_time": "2022-04-20T09:36:52.800055Z"
    }
   },
   "outputs": [
    {
     "data": {
      "text/plain": [
       "'/home/tater/Technopark/Sem_1/ML_Homeworks/HW_3'"
      ]
     },
     "execution_count": 357,
     "metadata": {},
     "output_type": "execute_result"
    }
   ],
   "source": [
    "os.getcwd()"
   ]
  },
  {
   "cell_type": "markdown",
   "metadata": {},
   "source": [
    "# Data Analysis"
   ]
  },
  {
   "cell_type": "code",
   "execution_count": 14,
   "metadata": {
    "ExecuteTime": {
     "end_time": "2022-04-18T17:58:26.016560Z",
     "start_time": "2022-04-18T17:58:25.535449Z"
    }
   },
   "outputs": [
    {
     "data": {
      "text/html": [
       "<div>\n",
       "<style scoped>\n",
       "    .dataframe tbody tr th:only-of-type {\n",
       "        vertical-align: middle;\n",
       "    }\n",
       "\n",
       "    .dataframe tbody tr th {\n",
       "        vertical-align: top;\n",
       "    }\n",
       "\n",
       "    .dataframe thead th {\n",
       "        text-align: right;\n",
       "    }\n",
       "</style>\n",
       "<table border=\"1\" class=\"dataframe\">\n",
       "  <thead>\n",
       "    <tr style=\"text-align: right;\">\n",
       "      <th></th>\n",
       "      <th>id</th>\n",
       "      <th>url</th>\n",
       "      <th>title</th>\n",
       "      <th>target</th>\n",
       "    </tr>\n",
       "  </thead>\n",
       "  <tbody>\n",
       "    <tr>\n",
       "      <th>0</th>\n",
       "      <td>0</td>\n",
       "      <td>m.kp.md</td>\n",
       "      <td>Экс-министр экономики Молдовы - главе МИДЭИ, ц...</td>\n",
       "      <td>False</td>\n",
       "    </tr>\n",
       "    <tr>\n",
       "      <th>1</th>\n",
       "      <td>1</td>\n",
       "      <td>www.kp.by</td>\n",
       "      <td>Эта песня стала известна многим телезрителям б...</td>\n",
       "      <td>False</td>\n",
       "    </tr>\n",
       "    <tr>\n",
       "      <th>2</th>\n",
       "      <td>2</td>\n",
       "      <td>fanserials.tv</td>\n",
       "      <td>Банши 4 сезон 2 серия Бремя красоты смотреть о...</td>\n",
       "      <td>False</td>\n",
       "    </tr>\n",
       "    <tr>\n",
       "      <th>3</th>\n",
       "      <td>3</td>\n",
       "      <td>colorbox.spb.ru</td>\n",
       "      <td>Не Беси Меня Картинки</td>\n",
       "      <td>False</td>\n",
       "    </tr>\n",
       "    <tr>\n",
       "      <th>4</th>\n",
       "      <td>4</td>\n",
       "      <td>tula-sport.ru</td>\n",
       "      <td>В Новомосковске сыграют следж-хоккеисты алекси...</td>\n",
       "      <td>False</td>\n",
       "    </tr>\n",
       "  </tbody>\n",
       "</table>\n",
       "</div>"
      ],
      "text/plain": [
       "   id              url                                              title  \\\n",
       "0   0          m.kp.md  Экс-министр экономики Молдовы - главе МИДЭИ, ц...   \n",
       "1   1        www.kp.by  Эта песня стала известна многим телезрителям б...   \n",
       "2   2    fanserials.tv  Банши 4 сезон 2 серия Бремя красоты смотреть о...   \n",
       "3   3  colorbox.spb.ru                              Не Беси Меня Картинки   \n",
       "4   4    tula-sport.ru  В Новомосковске сыграют следж-хоккеисты алекси...   \n",
       "\n",
       "   target  \n",
       "0   False  \n",
       "1   False  \n",
       "2   False  \n",
       "3   False  \n",
       "4   False  "
      ]
     },
     "execution_count": 14,
     "metadata": {},
     "output_type": "execute_result"
    }
   ],
   "source": [
    "# Train dataset\n",
    "train_df = pd.read_csv(\"./data/train.csv\")\n",
    "train_df.head()"
   ]
  },
  {
   "cell_type": "code",
   "execution_count": 15,
   "metadata": {
    "ExecuteTime": {
     "end_time": "2022-04-18T17:58:26.041403Z",
     "start_time": "2022-04-18T17:58:26.019162Z"
    }
   },
   "outputs": [
    {
     "data": {
      "text/plain": [
       "id        False\n",
       "url       False\n",
       "title     False\n",
       "target    False\n",
       "dtype: bool"
      ]
     },
     "execution_count": 15,
     "metadata": {},
     "output_type": "execute_result"
    }
   ],
   "source": [
    "# Check the empty data\n",
    "train_df.isnull().any()"
   ]
  },
  {
   "cell_type": "code",
   "execution_count": 16,
   "metadata": {
    "ExecuteTime": {
     "end_time": "2022-04-18T17:58:26.604276Z",
     "start_time": "2022-04-18T17:58:26.082484Z"
    }
   },
   "outputs": [
    {
     "data": {
      "text/html": [
       "<div>\n",
       "<style scoped>\n",
       "    .dataframe tbody tr th:only-of-type {\n",
       "        vertical-align: middle;\n",
       "    }\n",
       "\n",
       "    .dataframe tbody tr th {\n",
       "        vertical-align: top;\n",
       "    }\n",
       "\n",
       "    .dataframe thead th {\n",
       "        text-align: right;\n",
       "    }\n",
       "</style>\n",
       "<table border=\"1\" class=\"dataframe\">\n",
       "  <thead>\n",
       "    <tr style=\"text-align: right;\">\n",
       "      <th></th>\n",
       "      <th>id</th>\n",
       "      <th>url</th>\n",
       "      <th>title</th>\n",
       "    </tr>\n",
       "  </thead>\n",
       "  <tbody>\n",
       "    <tr>\n",
       "      <th>0</th>\n",
       "      <td>135309</td>\n",
       "      <td>www.kommersant.ru</td>\n",
       "      <td>Шестой кассационный суд в Самаре начнет работу...</td>\n",
       "    </tr>\n",
       "    <tr>\n",
       "      <th>1</th>\n",
       "      <td>135310</td>\n",
       "      <td>urexpert.online</td>\n",
       "      <td>Что такое индексация алиментов, кем и в каких ...</td>\n",
       "    </tr>\n",
       "    <tr>\n",
       "      <th>2</th>\n",
       "      <td>135311</td>\n",
       "      <td>imperimeha.ru</td>\n",
       "      <td>Женщинам | Империя Меха - Part 12</td>\n",
       "    </tr>\n",
       "    <tr>\n",
       "      <th>3</th>\n",
       "      <td>135312</td>\n",
       "      <td>national-porn.com</td>\n",
       "      <td>Небритые, волосатые киски: Порно всех стран и ...</td>\n",
       "    </tr>\n",
       "    <tr>\n",
       "      <th>4</th>\n",
       "      <td>135313</td>\n",
       "      <td>2gis.ru</td>\n",
       "      <td>67</td>\n",
       "    </tr>\n",
       "  </tbody>\n",
       "</table>\n",
       "</div>"
      ],
      "text/plain": [
       "       id                url  \\\n",
       "0  135309  www.kommersant.ru   \n",
       "1  135310    urexpert.online   \n",
       "2  135311      imperimeha.ru   \n",
       "3  135312  national-porn.com   \n",
       "4  135313            2gis.ru   \n",
       "\n",
       "                                               title  \n",
       "0  Шестой кассационный суд в Самаре начнет работу...  \n",
       "1  Что такое индексация алиментов, кем и в каких ...  \n",
       "2                  Женщинам | Империя Меха - Part 12  \n",
       "3  Небритые, волосатые киски: Порно всех стран и ...  \n",
       "4                                                 67  "
      ]
     },
     "execution_count": 16,
     "metadata": {},
     "output_type": "execute_result"
    }
   ],
   "source": [
    "# Test dataset\n",
    "test_df = pd.read_csv(\"./data/test.csv\")\n",
    "test_df.head()"
   ]
  },
  {
   "cell_type": "code",
   "execution_count": 17,
   "metadata": {
    "ExecuteTime": {
     "end_time": "2022-04-18T17:58:26.660651Z",
     "start_time": "2022-04-18T17:58:26.640549Z"
    }
   },
   "outputs": [
    {
     "data": {
      "text/plain": [
       "id       False\n",
       "url      False\n",
       "title    False\n",
       "dtype: bool"
      ]
     },
     "execution_count": 17,
     "metadata": {},
     "output_type": "execute_result"
    }
   ],
   "source": [
    "# Check the empty data\n",
    "test_df.isnull().any()"
   ]
  },
  {
   "cell_type": "markdown",
   "metadata": {},
   "source": [
    "Как видно, пропусков в данных не имеется. Дополнительная обработка данного случая не требуется"
   ]
  },
  {
   "cell_type": "code",
   "execution_count": 18,
   "metadata": {
    "ExecuteTime": {
     "end_time": "2022-04-18T17:58:26.690891Z",
     "start_time": "2022-04-18T17:58:26.687337Z"
    }
   },
   "outputs": [
    {
     "name": "stdout",
     "output_type": "stream",
     "text": [
      "Длина вектора данных на обучении - 135309\n",
      "Длина вектора данных на тесте - 165378\n",
      "Соотношение теста к обучающим - 1.22\n"
     ]
    }
   ],
   "source": [
    "print(f\"Длина вектора данных на обучении - {len(train_df)}\")\n",
    "print(f\"Длина вектора данных на тесте - {len(test_df)}\")\n",
    "print(f\"Соотношение теста к обучающим - {round(len(test_df) / len(train_df), 2)}\")"
   ]
  },
  {
   "cell_type": "markdown",
   "metadata": {},
   "source": [
    "Имеем перекос в размере данных на обучающей выборке на 22%"
   ]
  },
  {
   "cell_type": "code",
   "execution_count": 19,
   "metadata": {
    "ExecuteTime": {
     "end_time": "2022-04-18T17:58:26.906670Z",
     "start_time": "2022-04-18T17:58:26.899263Z"
    }
   },
   "outputs": [
    {
     "data": {
      "text/plain": [
       "[118594, 16715]"
      ]
     },
     "execution_count": 19,
     "metadata": {},
     "output_type": "execute_result"
    }
   ],
   "source": [
    "list(train_df[\"target\"].value_counts())"
   ]
  },
  {
   "cell_type": "code",
   "execution_count": 20,
   "metadata": {
    "ExecuteTime": {
     "end_time": "2022-04-18T17:58:27.084125Z",
     "start_time": "2022-04-18T17:58:27.077206Z"
    }
   },
   "outputs": [
    {
     "data": {
      "text/plain": [
       "False    118594\n",
       "True      16715\n",
       "Name: target, dtype: int64"
      ]
     },
     "execution_count": 20,
     "metadata": {},
     "output_type": "execute_result"
    }
   ],
   "source": [
    "# Labels balance\n",
    "train_df[\"target\"].value_counts()"
   ]
  },
  {
   "cell_type": "code",
   "execution_count": 21,
   "metadata": {
    "ExecuteTime": {
     "end_time": "2022-04-18T17:58:27.280056Z",
     "start_time": "2022-04-18T17:58:27.269823Z"
    }
   },
   "outputs": [
    {
     "name": "stdout",
     "output_type": "stream",
     "text": [
      "Соотношение меток внутри датасета\n",
      "Меток класса False от общего количества: 88.0%\n",
      "Меток класса True от общего количества: 12.0%\n"
     ]
    }
   ],
   "source": [
    "false_counts = list(train_df[\"target\"].value_counts())[0]\n",
    "true_counts = list(train_df[\"target\"].value_counts())[1]\n",
    "print(f\"Соотношение меток внутри датасета\")\n",
    "print(f\"Меток класса False от общего количества: {round(false_counts / (false_counts + true_counts), 2) * 100}%\")\n",
    "print(f\"Меток класса True от общего количества: {round(true_counts / (false_counts + true_counts), 2) * 100}%\")"
   ]
  },
  {
   "cell_type": "markdown",
   "metadata": {},
   "source": [
    "Как видно, внутри меток огромный перекос, по-хорошему требуется доразметка данных"
   ]
  },
  {
   "cell_type": "code",
   "execution_count": 22,
   "metadata": {
    "ExecuteTime": {
     "end_time": "2022-04-18T17:58:28.178311Z",
     "start_time": "2022-04-18T17:58:28.174107Z"
    }
   },
   "outputs": [],
   "source": [
    "X_train = train_df[\"title\"].values\n",
    "X_test = test_df[\"title\"].values\n",
    "y_train = train_df[\"target\"].astype(int).values"
   ]
  },
  {
   "cell_type": "markdown",
   "metadata": {},
   "source": [
    "# Simple baseline realisation"
   ]
  },
  {
   "cell_type": "code",
   "execution_count": 23,
   "metadata": {
    "ExecuteTime": {
     "end_time": "2022-04-18T17:58:28.415025Z",
     "start_time": "2022-04-18T17:58:28.387390Z"
    }
   },
   "outputs": [],
   "source": [
    "y_pred = [int(\"порно\" in text) for text in X_train]"
   ]
  },
  {
   "cell_type": "code",
   "execution_count": 24,
   "metadata": {
    "ExecuteTime": {
     "end_time": "2022-04-18T17:58:28.855327Z",
     "start_time": "2022-04-18T17:58:28.647759Z"
    }
   },
   "outputs": [
    {
     "name": "stdout",
     "output_type": "stream",
     "text": [
      "              precision    recall  f1-score   support\n",
      "\n",
      "           0      0.897     1.000     0.946    118594\n",
      "           1      0.989     0.186     0.312     16715\n",
      "\n",
      "    accuracy                          0.899    135309\n",
      "   macro avg      0.943     0.593     0.629    135309\n",
      "weighted avg      0.908     0.899     0.867    135309\n",
      "\n"
     ]
    }
   ],
   "source": [
    "print(classification_report(y_train, y_pred, digits=3))"
   ]
  },
  {
   "cell_type": "code",
   "execution_count": 25,
   "metadata": {
    "ExecuteTime": {
     "end_time": "2022-04-18T17:58:29.230297Z",
     "start_time": "2022-04-18T17:58:28.906350Z"
    }
   },
   "outputs": [
    {
     "name": "stdout",
     "output_type": "stream",
     "text": [
      "AUC-ROC metric: 0.593\n"
     ]
    },
    {
     "data": {
      "text/plain": [
       "Text(0.5, 1.0, 'ROC curve')"
      ]
     },
     "execution_count": 25,
     "metadata": {},
     "output_type": "execute_result"
    },
    {
     "data": {
      "image/png": "[encoded data removed]",
      "text/plain": [
       "<Figure size 432x288 with 1 Axes>"
      ]
     },
     "metadata": {
      "needs_background": "light"
     },
     "output_type": "display_data"
    }
   ],
   "source": [
    "print(f\"AUC-ROC metric: {round(roc_auc_score(y_train, y_pred), 3)}\")\n",
    "fpr, tpr, _ = roc_curve(y_train, y_pred)\n",
    "\n",
    "plt.plot(fpr, tpr, label=\"Simple baseline case\")\n",
    "plt.legend()\n",
    "plt.grid()\n",
    "plt.title('ROC curve')"
   ]
  },
  {
   "cell_type": "markdown",
   "metadata": {},
   "source": [
    "## Submit"
   ]
  },
  {
   "cell_type": "code",
   "execution_count": 26,
   "metadata": {
    "ExecuteTime": {
     "end_time": "2022-04-18T17:58:29.608653Z",
     "start_time": "2022-04-18T17:58:29.277260Z"
    }
   },
   "outputs": [
    {
     "name": "stdout",
     "output_type": "stream",
     "text": [
      "id,target\r\n",
      "135309,False\r\n",
      "135310,False\r\n",
      "135311,False\r\n",
      "135312,False\r\n",
      "135313,False\r\n",
      "135314,False\r\n",
      "135315,False\r\n",
      "135316,False\r\n",
      "135317,False\r\n",
      "cat: ошибка записи: Обрыв канала\r\n"
     ]
    }
   ],
   "source": [
    "test_df[\"target\"] = [(\"порно\" in text) for text in X_test]\n",
    "\n",
    "# Create file and read in stdout\n",
    "test_df[[\"id\", \"target\"]].to_csv(\"simple_baseline.csv\", index=False)\n",
    "!cat simple_baseline.csv | head"
   ]
  },
  {
   "cell_type": "markdown",
   "metadata": {},
   "source": [
    "## Не все так однозначно\n",
    "\n",
    "**не порно**:\n",
    "- Болезни опорно-двигательной системы и импотенция: взаимосвязь\n",
    "- Транссексуальные рыбы - National Geographic Россия: красота мира в каждом кадре\n",
    "- Групповая обзорная экскурсия по Афинам - цена €50\n",
    "- Больного раком Задорнова затравили в соцсетях.\n",
    "- Гомосексуалисты на «Первом канале»? Эрнст и Галкин – скрытая гей-пара российского шоу-бизнеса | Заметки о стиле, моде и жизни\n",
    "\n",
    "**порно**:\n",
    "- Отборная домашка\n",
    "- Сюзанна - карьера горничной / Susanna cameriera perversa (с русским переводом) 1995 г., DVDRip"
   ]
  },
  {
   "cell_type": "markdown",
   "metadata": {},
   "source": [
    "## Conclusion:"
   ]
  },
  {
   "cell_type": "markdown",
   "metadata": {},
   "source": [
    "Требуется добавить отслеживание \"схожести\" слов, а также важен порядок следования слов в предложении"
   ]
  },
  {
   "cell_type": "markdown",
   "metadata": {},
   "source": [
    "# ML baseline realisation\n",
    "Использование базовой векторизации и простейшей модели классификации - мультиномиального наивного байесовского классификатора"
   ]
  },
  {
   "cell_type": "code",
   "execution_count": 28,
   "metadata": {
    "ExecuteTime": {
     "end_time": "2022-04-18T17:58:30.967680Z",
     "start_time": "2022-04-18T17:58:30.965176Z"
    }
   },
   "outputs": [],
   "source": [
    "vectorizer = CountVectorizer()\n",
    "model = MultinomialNB()"
   ]
  },
  {
   "cell_type": "code",
   "execution_count": 29,
   "metadata": {
    "ExecuteTime": {
     "end_time": "2022-04-18T17:58:33.320690Z",
     "start_time": "2022-04-18T17:58:31.161375Z"
    }
   },
   "outputs": [],
   "source": [
    "X_train_vectorized = vectorizer.fit_transform(X_train)"
   ]
  },
  {
   "cell_type": "code",
   "execution_count": 30,
   "metadata": {
    "ExecuteTime": {
     "end_time": "2022-04-18T17:58:33.669502Z",
     "start_time": "2022-04-18T17:58:33.398664Z"
    }
   },
   "outputs": [],
   "source": [
    "feature_names = np.array(vectorizer.get_feature_names())"
   ]
  },
  {
   "cell_type": "code",
   "execution_count": 31,
   "metadata": {
    "ExecuteTime": {
     "end_time": "2022-04-18T17:58:33.732566Z",
     "start_time": "2022-04-18T17:58:33.727029Z"
    }
   },
   "outputs": [
    {
     "name": "stdout",
     "output_type": "stream",
     "text": [
      "Презентация на тему \"Приближенное значение. Абсолютная и относительная погрешнос\n"
     ]
    },
    {
     "data": {
      "text/plain": [
       "['абсолютная',\n",
       " 'значение',\n",
       " 'на',\n",
       " 'относительная',\n",
       " 'погрешнос',\n",
       " 'презентация',\n",
       " 'приближенное',\n",
       " 'тему']"
      ]
     },
     "execution_count": 31,
     "metadata": {},
     "output_type": "execute_result"
    }
   ],
   "source": [
    "id_ = 42\n",
    "print(X_train[id_])\n",
    "x_vector = X_train_vectorized.getrow(id_).toarray()[0]\n",
    "[feature for feature in feature_names[x_vector > 0]]"
   ]
  },
  {
   "cell_type": "code",
   "execution_count": 32,
   "metadata": {
    "ExecuteTime": {
     "end_time": "2022-04-18T17:58:33.859836Z",
     "start_time": "2022-04-18T17:58:33.806184Z"
    }
   },
   "outputs": [
    {
     "name": "stdout",
     "output_type": "stream",
     "text": [
      "CPU times: user 50.4 ms, sys: 0 ns, total: 50.4 ms\n",
      "Wall time: 49.1 ms\n"
     ]
    }
   ],
   "source": [
    "%%time\n",
    "\n",
    "model.fit(X_train_vectorized, y_train)\n",
    "y_pred = model.predict(X_train_vectorized)"
   ]
  },
  {
   "cell_type": "code",
   "execution_count": 33,
   "metadata": {
    "ExecuteTime": {
     "end_time": "2022-04-18T17:58:34.115803Z",
     "start_time": "2022-04-18T17:58:33.905442Z"
    }
   },
   "outputs": [
    {
     "name": "stdout",
     "output_type": "stream",
     "text": [
      "              precision    recall  f1-score   support\n",
      "\n",
      "           0      0.995     0.976     0.985    118594\n",
      "           1      0.851     0.963     0.904     16715\n",
      "\n",
      "    accuracy                          0.975    135309\n",
      "   macro avg      0.923     0.970     0.945    135309\n",
      "weighted avg      0.977     0.975     0.975    135309\n",
      "\n"
     ]
    }
   ],
   "source": [
    "print(classification_report(y_train, y_pred, digits=3))"
   ]
  },
  {
   "cell_type": "code",
   "execution_count": 34,
   "metadata": {
    "ExecuteTime": {
     "end_time": "2022-04-18T17:58:34.337928Z",
     "start_time": "2022-04-18T17:58:34.165914Z"
    }
   },
   "outputs": [
    {
     "name": "stdout",
     "output_type": "stream",
     "text": [
      "AUC-ROC metric: 0.97\n"
     ]
    },
    {
     "data": {
      "text/plain": [
       "Text(0.5, 1.0, 'ROC curve')"
      ]
     },
     "execution_count": 34,
     "metadata": {},
     "output_type": "execute_result"
    },
    {
     "data": {
      "image/png": "[encoded data removed]",
      "text/plain": [
       "<Figure size 432x288 with 1 Axes>"
      ]
     },
     "metadata": {
      "needs_background": "light"
     },
     "output_type": "display_data"
    }
   ],
   "source": [
    "print(f\"AUC-ROC metric: {round(roc_auc_score(y_train, y_pred), 3)}\")\n",
    "fpr, tpr, _ = roc_curve(y_train, y_pred)\n",
    "\n",
    "plt.plot(fpr, tpr, label=\"Simple baseline case\")\n",
    "plt.legend()\n",
    "plt.grid()\n",
    "plt.title('ROC curve')"
   ]
  },
  {
   "cell_type": "markdown",
   "metadata": {},
   "source": [
    "## Submit"
   ]
  },
  {
   "cell_type": "code",
   "execution_count": 35,
   "metadata": {
    "ExecuteTime": {
     "end_time": "2022-04-18T17:58:37.288433Z",
     "start_time": "2022-04-18T17:58:35.029631Z"
    }
   },
   "outputs": [
    {
     "name": "stdout",
     "output_type": "stream",
     "text": [
      "id,target\r\n",
      "135309,False\r\n",
      "135310,False\r\n",
      "135311,False\r\n",
      "135312,True\r\n",
      "135313,False\r\n",
      "135314,False\r\n",
      "135315,False\r\n",
      "135316,False\r\n",
      "135317,False\r\n",
      "cat: ошибка записи: Обрыв канала\r\n"
     ]
    }
   ],
   "source": [
    "X_test_vectorized = vectorizer.transform(X_test)\n",
    "test_df[\"target\"] = model.predict(X_test_vectorized).astype(bool)\n",
    "\n",
    "# Create file and read in stdout\n",
    "test_df[[\"id\", \"target\"]].to_csv(\"./data/ml_baseline.csv\", index=False)\n",
    "!cat ml_baseline.csv | head"
   ]
  },
  {
   "cell_type": "markdown",
   "metadata": {},
   "source": [
    "## Conclusion:"
   ]
  },
  {
   "cell_type": "markdown",
   "metadata": {},
   "source": [
    "Как видно, токенизация слов и простейший классификатор хоть и дают результаты лучше, чем при простом отсеивании по ключевому слову, однако качество все равно оставляет желать лучшего. Попробуем увеличить качество"
   ]
  },
  {
   "cell_type": "markdown",
   "metadata": {},
   "source": [
    "# Smart data processing"
   ]
  },
  {
   "cell_type": "markdown",
   "metadata": {},
   "source": [
    "## Normalizing data\n",
    "1) __Titles:__ удалялись лишние символы и числа. Производилась лемматизация. Форма слова выбиралась по наиболее лучшим тегам. Далее из полученных списков токенов удалялись стоп слова и слова короче 2 символов. Пустым строкам присваивалось значение '#nan'   \n",
    "\n",
    "2) __Urls:__ сплитились по мусорным символам. Удалялись com ru www. Каждое слово списка билось на ngram-ы."
   ]
  },
  {
   "cell_type": "code",
   "execution_count": 36,
   "metadata": {
    "ExecuteTime": {
     "end_time": "2022-04-18T17:58:52.859547Z",
     "start_time": "2022-04-18T17:58:52.853156Z"
    }
   },
   "outputs": [
    {
     "name": "stderr",
     "output_type": "stream",
     "text": [
      "[nltk_data] Downloading package stopwords to /home/tater/nltk_data...\n",
      "[nltk_data]   Package stopwords is already up-to-date!\n"
     ]
    },
    {
     "data": {
      "text/plain": [
       "True"
      ]
     },
     "execution_count": 36,
     "metadata": {},
     "output_type": "execute_result"
    }
   ],
   "source": [
    "nltk.download('stopwords')"
   ]
  },
  {
   "cell_type": "code",
   "execution_count": null,
   "metadata": {},
   "outputs": [],
   "source": [
    "# Раскомментируйте, если не установлен пакет\n",
    "# !pip install natasha"
   ]
  },
  {
   "cell_type": "code",
   "execution_count": 278,
   "metadata": {
    "ExecuteTime": {
     "end_time": "2022-04-20T08:26:17.501142Z",
     "start_time": "2022-04-20T08:26:17.496380Z"
    },
    "code_folding": []
   },
   "outputs": [],
   "source": [
    "# Полученный результат после токенизатора объединяет в грамотную строчку\n",
    "def joiner(text):\n",
    "    text = ' '.join(word.replace(\"'\",\"\")  for word in text.strip('[]').split(\",\"))\n",
    "    return text"
   ]
  },
  {
   "cell_type": "code",
   "execution_count": 37,
   "metadata": {
    "ExecuteTime": {
     "end_time": "2022-04-18T17:58:55.526597Z",
     "start_time": "2022-04-18T17:58:55.514304Z"
    }
   },
   "outputs": [],
   "source": [
    "# Токенизатор для разбиения слов на слоги\n",
    "from nltk.tokenize import SyllableTokenizer\n",
    "tk = SyllableTokenizer()\n",
    "\n",
    "# Разбиение на n-grams\n",
    "def urls_tokenize(df):\n",
    "    stop_ngram = ['ru', 'com', 'www', '', ' ']\n",
    "    for i in tqdm(range(df.shape[0])):\n",
    "        split = re.split('[^A-Za-z0-9]+', df.url[i])\n",
    "        df.url[i] = [token for token in split if token not in stop_ngram]\n",
    "    \n",
    "    for i in tqdm(range(df.shape[0])):\n",
    "        ngrams =[]\n",
    "        for word in df.url[i]:\n",
    "            ngrams = ngrams + tk.tokenize(word)\n",
    "        df.url[i] = ngrams\n",
    "    return df"
   ]
  },
  {
   "cell_type": "code",
   "execution_count": null,
   "metadata": {},
   "outputs": [],
   "source": [
    "# Вместо Pymorhy была выбрана Natasha после прочтения статьи\n",
    "# https://habr.com/ru/post/516098/\n",
    "\n",
    "from nltk.corpus import stopwords\n",
    "from natasha import (\n",
    "    Segmenter,\n",
    "    NewsEmbedding,\n",
    "    NewsMorphTagger, \n",
    "    MorphVocab,\n",
    "    Doc,\n",
    ")\n",
    "segmenter = Segmenter()\n",
    "emb = NewsEmbedding()\n",
    "morph_tagger = NewsMorphTagger(emb)\n",
    "morph_vocab = MorphVocab()\n",
    "\n",
    "\n",
    "def preprocessing_data(df):\n",
    "    \n",
    "    def my_filter(text): # к нижнему регистру все буквы\n",
    "        return re.findall(\"[а-яА-ЯёЁa-zA-Z]+\", text.lower())\n",
    "    \n",
    "    print(\"filter start: \")\n",
    "    for i in tqdm(range(df.shape[0])):\n",
    "        df.title[i] = my_filter(df.title[i]);train_tokenized\n",
    "    print(\"filter finish: \")\n",
    "    for i in tqdm(range(df.shape[0])):\n",
    "        string = ' '.join(df.title[i])\n",
    "        df.title[i] = string\n",
    "    \n",
    "    def lemmatizer(text):\n",
    "        doc = Doc(text)\n",
    "        doc.segment(segmenter)\n",
    "        doc.tag_morph(morph_tagger)\n",
    "        for token in doc.tokens:\n",
    "            token.lemmatize(morph_vocab)\n",
    "        return [_.lemma for _ in doc.tokens]\n",
    "    \n",
    "    print(\"lemmatizer start: \")\n",
    "    for i in tqdm(range(df.shape[0])):\n",
    "        df.title[i] = lemmatizer(df.title[i])\n",
    "    print(\"lemmatizer finish:\")\n",
    "    \n",
    "    print(\"stop words start\")\n",
    "    for i in tqdm(range(df.shape[0])):\n",
    "        clear = [token for token in df.title[i] if token not in stopwords.words(['russian', 'english'])]\n",
    "        df.title[i] = clear\n",
    "    print(\"stop words finish\")\n",
    "\n",
    "    print('delete words < 2 start: ')\n",
    "    for i in tqdm(range(df.shape[0])):\n",
    "        clear = [token for token in df.title[i] if len(token) > 2 ]\n",
    "        df.title[i] = clear\n",
    "    print('delete words < 2 finish: ')\n",
    "    return df"
   ]
  },
  {
   "cell_type": "markdown",
   "metadata": {},
   "source": [
    "Стоит отметить, что работа по нормализации текста как для titles, так и для urls занимает большое количество времени, поэтому далее процесс обучения опущен. Используются уже обработанные датасеты. Однако при желании есть возможность запустить их и убедиться в работоспособности самостоятельно"
   ]
  },
  {
   "cell_type": "code",
   "execution_count": 279,
   "metadata": {
    "ExecuteTime": {
     "end_time": "2022-04-20T08:45:19.002510Z",
     "start_time": "2022-04-20T08:45:18.601706Z"
    }
   },
   "outputs": [
    {
     "data": {
      "text/html": [
       "<div>\n",
       "<style scoped>\n",
       "    .dataframe tbody tr th:only-of-type {\n",
       "        vertical-align: middle;\n",
       "    }\n",
       "\n",
       "    .dataframe tbody tr th {\n",
       "        vertical-align: top;\n",
       "    }\n",
       "\n",
       "    .dataframe thead th {\n",
       "        text-align: right;\n",
       "    }\n",
       "</style>\n",
       "<table border=\"1\" class=\"dataframe\">\n",
       "  <thead>\n",
       "    <tr style=\"text-align: right;\">\n",
       "      <th></th>\n",
       "      <th>id</th>\n",
       "      <th>url</th>\n",
       "      <th>title</th>\n",
       "      <th>target</th>\n",
       "    </tr>\n",
       "  </thead>\n",
       "  <tbody>\n",
       "    <tr>\n",
       "      <th>0</th>\n",
       "      <td>0</td>\n",
       "      <td>m.kp.md</td>\n",
       "      <td>Экс-министр экономики Молдовы - главе МИДЭИ, ц...</td>\n",
       "      <td>False</td>\n",
       "    </tr>\n",
       "    <tr>\n",
       "      <th>1</th>\n",
       "      <td>1</td>\n",
       "      <td>www.kp.by</td>\n",
       "      <td>Эта песня стала известна многим телезрителям б...</td>\n",
       "      <td>False</td>\n",
       "    </tr>\n",
       "    <tr>\n",
       "      <th>2</th>\n",
       "      <td>2</td>\n",
       "      <td>fanserials.tv</td>\n",
       "      <td>Банши 4 сезон 2 серия Бремя красоты смотреть о...</td>\n",
       "      <td>False</td>\n",
       "    </tr>\n",
       "    <tr>\n",
       "      <th>3</th>\n",
       "      <td>3</td>\n",
       "      <td>colorbox.spb.ru</td>\n",
       "      <td>Не Беси Меня Картинки</td>\n",
       "      <td>False</td>\n",
       "    </tr>\n",
       "    <tr>\n",
       "      <th>4</th>\n",
       "      <td>4</td>\n",
       "      <td>tula-sport.ru</td>\n",
       "      <td>В Новомосковске сыграют следж-хоккеисты алекси...</td>\n",
       "      <td>False</td>\n",
       "    </tr>\n",
       "  </tbody>\n",
       "</table>\n",
       "</div>"
      ],
      "text/plain": [
       "   id              url                                              title  \\\n",
       "0   0          m.kp.md  Экс-министр экономики Молдовы - главе МИДЭИ, ц...   \n",
       "1   1        www.kp.by  Эта песня стала известна многим телезрителям б...   \n",
       "2   2    fanserials.tv  Банши 4 сезон 2 серия Бремя красоты смотреть о...   \n",
       "3   3  colorbox.spb.ru                              Не Беси Меня Картинки   \n",
       "4   4    tula-sport.ru  В Новомосковске сыграют следж-хоккеисты алекси...   \n",
       "\n",
       "   target  \n",
       "0   False  \n",
       "1   False  \n",
       "2   False  \n",
       "3   False  \n",
       "4   False  "
      ]
     },
     "execution_count": 279,
     "metadata": {},
     "output_type": "execute_result"
    }
   ],
   "source": [
    "# Исходный трейновый датасет\n",
    "df = pd.read_csv(\"./data/train.csv\")\n",
    "df.head()"
   ]
  },
  {
   "cell_type": "code",
   "execution_count": null,
   "metadata": {},
   "outputs": [],
   "source": [
    "# # Процессинг titles на трейне\n",
    "# df = preprocessing_data(df)"
   ]
  },
  {
   "cell_type": "code",
   "execution_count": null,
   "metadata": {},
   "outputs": [],
   "source": [
    "# # Процессинг urls на трейне\n",
    "# df = urls_tokenize(df)"
   ]
  },
  {
   "cell_type": "code",
   "execution_count": 295,
   "metadata": {
    "ExecuteTime": {
     "end_time": "2022-04-20T08:56:50.943310Z",
     "start_time": "2022-04-20T08:56:50.938721Z"
    }
   },
   "outputs": [],
   "source": [
    "# # Исходный трейновый токенизированный датасет\n",
    "# df_tokenized = pd.read_csv(\"train_tokenized.csv\")\n",
    "# df_tokenized.head()"
   ]
  },
  {
   "cell_type": "code",
   "execution_count": 294,
   "metadata": {
    "ExecuteTime": {
     "end_time": "2022-04-20T08:56:46.247928Z",
     "start_time": "2022-04-20T08:56:46.243462Z"
    }
   },
   "outputs": [],
   "source": [
    "# # Развертка токенов в единую строку\n",
    "# df_tokenized[\"title_tokens\"] = df_tokenized.apply(lambda x: joiner(x['title_tokens']), axis=1)\n",
    "# df_tokenized[\"url_tokens\"] = df_tokenized.apply(lambda x: joiner(x['url_tokens']), axis=1)\n",
    "# df_tokenized.head()"
   ]
  },
  {
   "cell_type": "code",
   "execution_count": 293,
   "metadata": {
    "ExecuteTime": {
     "end_time": "2022-04-20T08:56:42.766368Z",
     "start_time": "2022-04-20T08:56:42.761866Z"
    }
   },
   "outputs": [],
   "source": [
    "# # Конкатенация датафреймов\n",
    "# df_tokenized[\"title\"] = \"\"\n",
    "# df_tokenized[\"url\"] = \"\"\n",
    "\n",
    "# df_tokenized[\"title\"] = df[\"title\"]\n",
    "# df_tokenized[\"url\"] = df[\"url\"]"
   ]
  },
  {
   "cell_type": "code",
   "execution_count": 292,
   "metadata": {
    "ExecuteTime": {
     "end_time": "2022-04-20T08:56:30.972771Z",
     "start_time": "2022-04-20T08:56:30.967969Z"
    }
   },
   "outputs": [],
   "source": [
    "# df_tokenized.to_csv(\".data/train_main.csv\", index=False)"
   ]
  },
  {
   "cell_type": "code",
   "execution_count": 296,
   "metadata": {
    "ExecuteTime": {
     "end_time": "2022-04-20T08:56:59.076293Z",
     "start_time": "2022-04-20T08:56:58.298393Z"
    }
   },
   "outputs": [
    {
     "data": {
      "text/html": [
       "<div>\n",
       "<style scoped>\n",
       "    .dataframe tbody tr th:only-of-type {\n",
       "        vertical-align: middle;\n",
       "    }\n",
       "\n",
       "    .dataframe tbody tr th {\n",
       "        vertical-align: top;\n",
       "    }\n",
       "\n",
       "    .dataframe thead th {\n",
       "        text-align: right;\n",
       "    }\n",
       "</style>\n",
       "<table border=\"1\" class=\"dataframe\">\n",
       "  <thead>\n",
       "    <tr style=\"text-align: right;\">\n",
       "      <th></th>\n",
       "      <th>id</th>\n",
       "      <th>title_tokens</th>\n",
       "      <th>url_tokens</th>\n",
       "      <th>url</th>\n",
       "      <th>title</th>\n",
       "      <th>target</th>\n",
       "    </tr>\n",
       "  </thead>\n",
       "  <tbody>\n",
       "    <tr>\n",
       "      <th>0</th>\n",
       "      <td>0</td>\n",
       "      <td>экс  министр  экономика  молдова  глава  мидэи...</td>\n",
       "      <td>m  kp  md</td>\n",
       "      <td>m.kp.md</td>\n",
       "      <td>Экс-министр экономики Молдовы - главе МИДЭИ, ц...</td>\n",
       "      <td>False</td>\n",
       "    </tr>\n",
       "    <tr>\n",
       "      <th>1</th>\n",
       "      <td>1</td>\n",
       "      <td>песня  стать  известный  многий  телезритель  ...</td>\n",
       "      <td>kp  by</td>\n",
       "      <td>www.kp.by</td>\n",
       "      <td>Эта песня стала известна многим телезрителям б...</td>\n",
       "      <td>False</td>\n",
       "    </tr>\n",
       "    <tr>\n",
       "      <th>2</th>\n",
       "      <td>2</td>\n",
       "      <td>банша  сезон  серия  бремя  красота  смотреть ...</td>\n",
       "      <td>fan  se  rials  tv</td>\n",
       "      <td>fanserials.tv</td>\n",
       "      <td>Банши 4 сезон 2 серия Бремя красоты смотреть о...</td>\n",
       "      <td>False</td>\n",
       "    </tr>\n",
       "    <tr>\n",
       "      <th>3</th>\n",
       "      <td>3</td>\n",
       "      <td>бесить  картинка</td>\n",
       "      <td>co  lor  box  spb</td>\n",
       "      <td>colorbox.spb.ru</td>\n",
       "      <td>Не Беси Меня Картинки</td>\n",
       "      <td>False</td>\n",
       "    </tr>\n",
       "    <tr>\n",
       "      <th>4</th>\n",
       "      <td>4</td>\n",
       "      <td>новомосковск  сыграть  следж  хоккеист  алекси...</td>\n",
       "      <td>tu  la  sport</td>\n",
       "      <td>tula-sport.ru</td>\n",
       "      <td>В Новомосковске сыграют следж-хоккеисты алекси...</td>\n",
       "      <td>False</td>\n",
       "    </tr>\n",
       "  </tbody>\n",
       "</table>\n",
       "</div>"
      ],
      "text/plain": [
       "   id                                       title_tokens          url_tokens  \\\n",
       "0   0  экс  министр  экономика  молдова  глава  мидэи...           m  kp  md   \n",
       "1   1  песня  стать  известный  многий  телезритель  ...              kp  by   \n",
       "2   2  банша  сезон  серия  бремя  красота  смотреть ...  fan  se  rials  tv   \n",
       "3   3                                   бесить  картинка   co  lor  box  spb   \n",
       "4   4  новомосковск  сыграть  следж  хоккеист  алекси...       tu  la  sport   \n",
       "\n",
       "               url                                              title  target  \n",
       "0          m.kp.md  Экс-министр экономики Молдовы - главе МИДЭИ, ц...   False  \n",
       "1        www.kp.by  Эта песня стала известна многим телезрителям б...   False  \n",
       "2    fanserials.tv  Банши 4 сезон 2 серия Бремя красоты смотреть о...   False  \n",
       "3  colorbox.spb.ru                              Не Беси Меня Картинки   False  \n",
       "4    tula-sport.ru  В Новомосковске сыграют следж-хоккеисты алекси...   False  "
      ]
     },
     "execution_count": 296,
     "metadata": {},
     "output_type": "execute_result"
    }
   ],
   "source": [
    "# Исходный трейновый конкатенированный датасет c развернутыми токенами\n",
    "df_main = pd.read_csv(\"./data/train_main.csv\")\n",
    "df_main.head()"
   ]
  },
  {
   "cell_type": "markdown",
   "metadata": {},
   "source": [
    "Попробуем спроецировать все наше n-мерное пространство признаков в 2-х мерное пространство при помощи метода главных компонент, чтобы проверить, насколько хорошо разделимы наши данные"
   ]
  },
  {
   "cell_type": "markdown",
   "metadata": {},
   "source": [
    "## Ensemble modelling\n",
    "Во втором файле на гитхаб можно найти подробный анализ tfidfvectorizer, на котором обучена логистическая регрессия. \n",
    "На трейне качество модели было неплохое, однако результаты на Kaggle оставляли желать лучшего - меньше ML baseline\n",
    "\n",
    "Здесь предпринята попытка при помощи TfIdf и CountVectorizer создать ансамбль из моделей логистической регресии"
   ]
  },
  {
   "cell_type": "code",
   "execution_count": 43,
   "metadata": {
    "ExecuteTime": {
     "end_time": "2022-04-18T19:27:45.279119Z",
     "start_time": "2022-04-18T19:27:45.195073Z"
    }
   },
   "outputs": [],
   "source": [
    "preprocessor1 = ColumnTransformer([\n",
    "    ('url_tokens', TfidfVectorizer(analyzer='word', dtype = np.float32 ), 'url_tokens'),\n",
    "    ('title_tokens', TfidfVectorizer(analyzer='word', dtype = np.float32), 'title_tokens'),   \n",
    "])\n",
    "preprocessor2 = ColumnTransformer([\n",
    "    ('url_tokens', TfidfVectorizer(analyzer='word', dtype = np.float32), 'url_tokens'),\n",
    "    ('title_tokens', TfidfVectorizer(analyzer='word', dtype = np.float32), 'title_tokens'),   \n",
    "])\n",
    "preprocessor3 = ColumnTransformer([\n",
    "    ('url', CountVectorizer(analyzer='char_wb', ngram_range = (2, 4), dtype = np.float32, max_features=100000), 'url'),\n",
    "    ('title', CountVectorizer(analyzer='char_wb',ngram_range = (2, 4), dtype = np.float32, max_features=100000), 'title')  \n",
    "])\n",
    "preprocessor4 = ColumnTransformer([\n",
    "    ('url', CountVectorizer(analyzer = 'char_wb', ngram_range = (2, 4), dtype = np.float32, max_features=100000), 'url'),   \n",
    "    ('title', CountVectorizer(analyzer = 'char_wb', ngram_range = (2, 4), dtype = np.float32, max_features=100000), 'title')\n",
    "])\n",
    "\n",
    "    \n",
    "\n",
    "\n",
    "model1 = Pipeline([\n",
    "    ('preprocessor', preprocessor1),\n",
    "    ('linear_model', LogisticRegressionCV(class_weight = 'balanced', cv = 3))\n",
    "])\n",
    "model2 = Pipeline([\n",
    "    ('preprocessor', preprocessor2),\n",
    "    ('linear_model', LogisticRegressionCV(class_weight = 'balanced', cv = 3))\n",
    "])\n",
    "model3 = Pipeline([\n",
    "    ('preprocessor', preprocessor3),\n",
    "    ('linear_model', LogisticRegressionCV(class_weight = 'balanced', cv = 3))\n",
    "])\n",
    "model4 = Pipeline([\n",
    "    ('preprocessor', preprocessor4),\n",
    "    ('linear_model', LogisticRegressionCV(class_weight = 'balanced', cv = 3))\n",
    "])\n",
    "\n",
    "\n",
    "ensamble = VotingClassifier(estimators=[('mod1', model1), ('mod2', model2),\n",
    "                                     ('mod3', model3), ('mod4', model4)], voting = 'soft')"
   ]
  },
  {
   "cell_type": "code",
   "execution_count": 244,
   "metadata": {
    "ExecuteTime": {
     "end_time": "2022-04-19T19:24:26.270378Z",
     "start_time": "2022-04-19T19:24:26.231225Z"
    }
   },
   "outputs": [],
   "source": [
    "df_train, df_test = train_test_split(df_main, train_size=0.8, random_state=42, shuffle=True)\n",
    "y_train = df_train.target.values.astype(np.float32)\n",
    "y_test = df_test.target.values.astype(np.float32)"
   ]
  },
  {
   "cell_type": "code",
   "execution_count": 245,
   "metadata": {
    "ExecuteTime": {
     "end_time": "2022-04-19T19:24:29.476665Z",
     "start_time": "2022-04-19T19:24:29.461221Z"
    }
   },
   "outputs": [
    {
     "data": {
      "text/html": [
       "<div>\n",
       "<style scoped>\n",
       "    .dataframe tbody tr th:only-of-type {\n",
       "        vertical-align: middle;\n",
       "    }\n",
       "\n",
       "    .dataframe tbody tr th {\n",
       "        vertical-align: top;\n",
       "    }\n",
       "\n",
       "    .dataframe thead th {\n",
       "        text-align: right;\n",
       "    }\n",
       "</style>\n",
       "<table border=\"1\" class=\"dataframe\">\n",
       "  <thead>\n",
       "    <tr style=\"text-align: right;\">\n",
       "      <th></th>\n",
       "      <th>id</th>\n",
       "      <th>title_tokens</th>\n",
       "      <th>url_tokens</th>\n",
       "      <th>url</th>\n",
       "      <th>title</th>\n",
       "      <th>target</th>\n",
       "    </tr>\n",
       "  </thead>\n",
       "  <tbody>\n",
       "    <tr>\n",
       "      <th>36898</th>\n",
       "      <td>36898</td>\n",
       "      <td>амиксидин  продажа  цена  санкт  петербург  ме...</td>\n",
       "      <td>ka  rat  spb</td>\n",
       "      <td>karat.spb.ru</td>\n",
       "      <td>Амиксидин: продажа, цена в Санкт-Петербурге. м...</td>\n",
       "      <td>False</td>\n",
       "    </tr>\n",
       "    <tr>\n",
       "      <th>69667</th>\n",
       "      <td>69667</td>\n",
       "      <td>ультрасет  new</td>\n",
       "      <td>sa  ma  ra  far  for</td>\n",
       "      <td>samara.farfor.ru</td>\n",
       "      <td>Ультрасет new</td>\n",
       "      <td>False</td>\n",
       "    </tr>\n",
       "    <tr>\n",
       "      <th>111124</th>\n",
       "      <td>111124</td>\n",
       "      <td>lada  vesta  cross  видеообзор  презентация  с...</td>\n",
       "      <td>zr</td>\n",
       "      <td>www.zr.ru</td>\n",
       "      <td>Lada Vesta Cross: видеообзор с презентации сер...</td>\n",
       "      <td>False</td>\n",
       "    </tr>\n",
       "    <tr>\n",
       "      <th>35818</th>\n",
       "      <td>35818</td>\n",
       "      <td>фрезерный  станок  моделист  cnc  продажа  цен...</td>\n",
       "      <td>xn  htbdmo  dofzk  c0c  xn  p1a  i</td>\n",
       "      <td>xn----htbdmodofzkc0c.xn--p1ai</td>\n",
       "      <td>Фрезерный станок Моделист CNC-6090AL 600х900мм...</td>\n",
       "      <td>False</td>\n",
       "    </tr>\n",
       "    <tr>\n",
       "      <th>123149</th>\n",
       "      <td>123149</td>\n",
       "      <td>популярный  порно  просмотр  порнуха  популярн...</td>\n",
       "      <td>por  no3  6  5  co</td>\n",
       "      <td>porno365.co</td>\n",
       "      <td>Популярное порно по просмотрам - порнуха попул...</td>\n",
       "      <td>True</td>\n",
       "    </tr>\n",
       "    <tr>\n",
       "      <th>...</th>\n",
       "      <td>...</td>\n",
       "      <td>...</td>\n",
       "      <td>...</td>\n",
       "      <td>...</td>\n",
       "      <td>...</td>\n",
       "      <td>...</td>\n",
       "    </tr>\n",
       "    <tr>\n",
       "      <th>110268</th>\n",
       "      <td>110268</td>\n",
       "      <td>смотреть  бритый  вагин  фото</td>\n",
       "      <td>por  nop  ho  to  pro</td>\n",
       "      <td>pornophoto.pro</td>\n",
       "      <td>Смотреть бритые вагины фото</td>\n",
       "      <td>True</td>\n",
       "    </tr>\n",
       "    <tr>\n",
       "      <th>119879</th>\n",
       "      <td>119879</td>\n",
       "      <td>продать  трехкомнатная  вторичка  мкр  олимпий...</td>\n",
       "      <td>mul  ti  lis  ting  su</td>\n",
       "      <td>multilisting.su</td>\n",
       "      <td>Продам трехкомнатную вторичку мкр Олимпийский ...</td>\n",
       "      <td>False</td>\n",
       "    </tr>\n",
       "    <tr>\n",
       "      <th>103694</th>\n",
       "      <td>103694</td>\n",
       "      <td>sharp  купить  минск</td>\n",
       "      <td>di  gi  tal  1k  by</td>\n",
       "      <td>digital.1k.by</td>\n",
       "      <td>Sharp AN-3DG35 купить в Минске на 1K.by</td>\n",
       "      <td>False</td>\n",
       "    </tr>\n",
       "    <tr>\n",
       "      <th>131932</th>\n",
       "      <td>131932</td>\n",
       "      <td>купить  web  камера  logitech  conferencecam  ...</td>\n",
       "      <td>ci  ti  link</td>\n",
       "      <td>www.citilink.ru</td>\n",
       "      <td>Купить Web-камера LOGITECH ConferenceCam Rally...</td>\n",
       "      <td>False</td>\n",
       "    </tr>\n",
       "    <tr>\n",
       "      <th>121958</th>\n",
       "      <td>121958</td>\n",
       "      <td>rnb  gold  classics  скачать  сборник  бесплат...</td>\n",
       "      <td>myz  cloud  pro</td>\n",
       "      <td>myzcloud.pro</td>\n",
       "      <td>100 Rnb Gold Classics (2015) - Скачать сборник...</td>\n",
       "      <td>False</td>\n",
       "    </tr>\n",
       "  </tbody>\n",
       "</table>\n",
       "<p>108247 rows × 6 columns</p>\n",
       "</div>"
      ],
      "text/plain": [
       "            id                                       title_tokens  \\\n",
       "36898    36898  амиксидин  продажа  цена  санкт  петербург  ме...   \n",
       "69667    69667                                     ультрасет  new   \n",
       "111124  111124  lada  vesta  cross  видеообзор  презентация  с...   \n",
       "35818    35818  фрезерный  станок  моделист  cnc  продажа  цен...   \n",
       "123149  123149  популярный  порно  просмотр  порнуха  популярн...   \n",
       "...        ...                                                ...   \n",
       "110268  110268                      смотреть  бритый  вагин  фото   \n",
       "119879  119879  продать  трехкомнатная  вторичка  мкр  олимпий...   \n",
       "103694  103694                               sharp  купить  минск   \n",
       "131932  131932  купить  web  камера  logitech  conferencecam  ...   \n",
       "121958  121958  rnb  gold  classics  скачать  сборник  бесплат...   \n",
       "\n",
       "                                url_tokens                            url  \\\n",
       "36898                         ka  rat  spb                   karat.spb.ru   \n",
       "69667                 sa  ma  ra  far  for               samara.farfor.ru   \n",
       "111124                                  zr                      www.zr.ru   \n",
       "35818   xn  htbdmo  dofzk  c0c  xn  p1a  i  xn----htbdmodofzkc0c.xn--p1ai   \n",
       "123149                  por  no3  6  5  co                    porno365.co   \n",
       "...                                    ...                            ...   \n",
       "110268               por  nop  ho  to  pro                 pornophoto.pro   \n",
       "119879              mul  ti  lis  ting  su                multilisting.su   \n",
       "103694                 di  gi  tal  1k  by                  digital.1k.by   \n",
       "131932                        ci  ti  link                www.citilink.ru   \n",
       "121958                     myz  cloud  pro                   myzcloud.pro   \n",
       "\n",
       "                                                    title  target  \n",
       "36898   Амиксидин: продажа, цена в Санкт-Петербурге. м...   False  \n",
       "69667                                       Ультрасет new   False  \n",
       "111124  Lada Vesta Cross: видеообзор с презентации сер...   False  \n",
       "35818   Фрезерный станок Моделист CNC-6090AL 600х900мм...   False  \n",
       "123149  Популярное порно по просмотрам - порнуха попул...    True  \n",
       "...                                                   ...     ...  \n",
       "110268                        Смотреть бритые вагины фото    True  \n",
       "119879  Продам трехкомнатную вторичку мкр Олимпийский ...   False  \n",
       "103694            Sharp AN-3DG35 купить в Минске на 1K.by   False  \n",
       "131932  Купить Web-камера LOGITECH ConferenceCam Rally...   False  \n",
       "121958  100 Rnb Gold Classics (2015) - Скачать сборник...   False  \n",
       "\n",
       "[108247 rows x 6 columns]"
      ]
     },
     "execution_count": 245,
     "metadata": {},
     "output_type": "execute_result"
    }
   ],
   "source": [
    "df_train"
   ]
  },
  {
   "cell_type": "code",
   "execution_count": 246,
   "metadata": {
    "ExecuteTime": {
     "end_time": "2022-04-19T19:49:28.398306Z",
     "start_time": "2022-04-19T19:24:35.438663Z"
    }
   },
   "outputs": [
    {
     "name": "stdout",
     "output_type": "stream",
     "text": [
      "train f1_score:  0.9995889540749598\n",
      "test f1_score:  0.9876728803367408\n"
     ]
    }
   ],
   "source": [
    "ensamble.fit(df_train, y_train)\n",
    "pred_train = ensamble.predict(df_train)\n",
    "pred_test = ensamble.predict(df_test)\n",
    "print('train f1_score: ', f1_score(pred_train, y_train))\n",
    "print('test f1_score: ', f1_score(pred_test, y_test))"
   ]
  },
  {
   "cell_type": "markdown",
   "metadata": {},
   "source": [
    "Как видно качество на тесте значительно увеличилось.\n",
    "Перейдем к предсказанию меток на тестовом датасете.   \n",
    "__По аналогии с трейном, тестовый препроцессинг опущен, но им можно воспользоваться при желании__"
   ]
  },
  {
   "cell_type": "code",
   "execution_count": 332,
   "metadata": {
    "ExecuteTime": {
     "end_time": "2022-04-20T09:22:10.332272Z",
     "start_time": "2022-04-20T09:22:10.324336Z"
    }
   },
   "outputs": [],
   "source": [
    "# В качестве обучающей возьмем все метки трейнового датасета\n",
    "y_train = df_main.target.values.astype(np.float32)"
   ]
  },
  {
   "cell_type": "code",
   "execution_count": 333,
   "metadata": {
    "ExecuteTime": {
     "end_time": "2022-04-20T09:22:11.505199Z",
     "start_time": "2022-04-20T09:22:11.490806Z"
    }
   },
   "outputs": [
    {
     "data": {
      "text/html": [
       "<div>\n",
       "<style scoped>\n",
       "    .dataframe tbody tr th:only-of-type {\n",
       "        vertical-align: middle;\n",
       "    }\n",
       "\n",
       "    .dataframe tbody tr th {\n",
       "        vertical-align: top;\n",
       "    }\n",
       "\n",
       "    .dataframe thead th {\n",
       "        text-align: right;\n",
       "    }\n",
       "</style>\n",
       "<table border=\"1\" class=\"dataframe\">\n",
       "  <thead>\n",
       "    <tr style=\"text-align: right;\">\n",
       "      <th></th>\n",
       "      <th>url</th>\n",
       "      <th>url_tokens</th>\n",
       "      <th>title</th>\n",
       "      <th>title_tokens</th>\n",
       "    </tr>\n",
       "  </thead>\n",
       "  <tbody>\n",
       "    <tr>\n",
       "      <th>0</th>\n",
       "      <td>m.kp.md</td>\n",
       "      <td>m  kp  md</td>\n",
       "      <td>Экс-министр экономики Молдовы - главе МИДЭИ, ц...</td>\n",
       "      <td>экс  министр  экономика  молдова  глава  мидэи...</td>\n",
       "    </tr>\n",
       "    <tr>\n",
       "      <th>1</th>\n",
       "      <td>www.kp.by</td>\n",
       "      <td>kp  by</td>\n",
       "      <td>Эта песня стала известна многим телезрителям б...</td>\n",
       "      <td>песня  стать  известный  многий  телезритель  ...</td>\n",
       "    </tr>\n",
       "    <tr>\n",
       "      <th>2</th>\n",
       "      <td>fanserials.tv</td>\n",
       "      <td>fan  se  rials  tv</td>\n",
       "      <td>Банши 4 сезон 2 серия Бремя красоты смотреть о...</td>\n",
       "      <td>банша  сезон  серия  бремя  красота  смотреть ...</td>\n",
       "    </tr>\n",
       "    <tr>\n",
       "      <th>3</th>\n",
       "      <td>colorbox.spb.ru</td>\n",
       "      <td>co  lor  box  spb</td>\n",
       "      <td>Не Беси Меня Картинки</td>\n",
       "      <td>бесить  картинка</td>\n",
       "    </tr>\n",
       "    <tr>\n",
       "      <th>4</th>\n",
       "      <td>tula-sport.ru</td>\n",
       "      <td>tu  la  sport</td>\n",
       "      <td>В Новомосковске сыграют следж-хоккеисты алекси...</td>\n",
       "      <td>новомосковск  сыграть  следж  хоккеист  алекси...</td>\n",
       "    </tr>\n",
       "  </tbody>\n",
       "</table>\n",
       "</div>"
      ],
      "text/plain": [
       "               url          url_tokens  \\\n",
       "0          m.kp.md           m  kp  md   \n",
       "1        www.kp.by              kp  by   \n",
       "2    fanserials.tv  fan  se  rials  tv   \n",
       "3  colorbox.spb.ru   co  lor  box  spb   \n",
       "4    tula-sport.ru       tu  la  sport   \n",
       "\n",
       "                                               title  \\\n",
       "0  Экс-министр экономики Молдовы - главе МИДЭИ, ц...   \n",
       "1  Эта песня стала известна многим телезрителям б...   \n",
       "2  Банши 4 сезон 2 серия Бремя красоты смотреть о...   \n",
       "3                              Не Беси Меня Картинки   \n",
       "4  В Новомосковске сыграют следж-хоккеисты алекси...   \n",
       "\n",
       "                                        title_tokens  \n",
       "0  экс  министр  экономика  молдова  глава  мидэи...  \n",
       "1  песня  стать  известный  многий  телезритель  ...  \n",
       "2  банша  сезон  серия  бремя  красота  смотреть ...  \n",
       "3                                   бесить  картинка  \n",
       "4  новомосковск  сыграть  следж  хоккеист  алекси...  "
      ]
     },
     "execution_count": 333,
     "metadata": {},
     "output_type": "execute_result"
    }
   ],
   "source": [
    "order = {\"title_tokens\", \"url_tokens\", \"url\", \"title\"}\n",
    "X = df_main[order]\n",
    "X.head()"
   ]
  },
  {
   "cell_type": "code",
   "execution_count": 252,
   "metadata": {
    "ExecuteTime": {
     "end_time": "2022-04-19T19:54:27.526385Z",
     "start_time": "2022-04-19T19:54:26.980684Z"
    }
   },
   "outputs": [
    {
     "data": {
      "text/html": [
       "<div>\n",
       "<style scoped>\n",
       "    .dataframe tbody tr th:only-of-type {\n",
       "        vertical-align: middle;\n",
       "    }\n",
       "\n",
       "    .dataframe tbody tr th {\n",
       "        vertical-align: top;\n",
       "    }\n",
       "\n",
       "    .dataframe thead th {\n",
       "        text-align: right;\n",
       "    }\n",
       "</style>\n",
       "<table border=\"1\" class=\"dataframe\">\n",
       "  <thead>\n",
       "    <tr style=\"text-align: right;\">\n",
       "      <th></th>\n",
       "      <th>id</th>\n",
       "      <th>url</th>\n",
       "      <th>title</th>\n",
       "    </tr>\n",
       "  </thead>\n",
       "  <tbody>\n",
       "    <tr>\n",
       "      <th>0</th>\n",
       "      <td>135309</td>\n",
       "      <td>www.kommersant.ru</td>\n",
       "      <td>Шестой кассационный суд в Самаре начнет работу...</td>\n",
       "    </tr>\n",
       "    <tr>\n",
       "      <th>1</th>\n",
       "      <td>135310</td>\n",
       "      <td>urexpert.online</td>\n",
       "      <td>Что такое индексация алиментов, кем и в каких ...</td>\n",
       "    </tr>\n",
       "    <tr>\n",
       "      <th>2</th>\n",
       "      <td>135311</td>\n",
       "      <td>imperimeha.ru</td>\n",
       "      <td>Женщинам | Империя Меха - Part 12</td>\n",
       "    </tr>\n",
       "    <tr>\n",
       "      <th>3</th>\n",
       "      <td>135312</td>\n",
       "      <td>national-porn.com</td>\n",
       "      <td>Небритые, волосатые киски: Порно всех стран и ...</td>\n",
       "    </tr>\n",
       "    <tr>\n",
       "      <th>4</th>\n",
       "      <td>135313</td>\n",
       "      <td>2gis.ru</td>\n",
       "      <td>67</td>\n",
       "    </tr>\n",
       "  </tbody>\n",
       "</table>\n",
       "</div>"
      ],
      "text/plain": [
       "       id                url  \\\n",
       "0  135309  www.kommersant.ru   \n",
       "1  135310    urexpert.online   \n",
       "2  135311      imperimeha.ru   \n",
       "3  135312  national-porn.com   \n",
       "4  135313            2gis.ru   \n",
       "\n",
       "                                               title  \n",
       "0  Шестой кассационный суд в Самаре начнет работу...  \n",
       "1  Что такое индексация алиментов, кем и в каких ...  \n",
       "2                  Женщинам | Империя Меха - Part 12  \n",
       "3  Небритые, волосатые киски: Порно всех стран и ...  \n",
       "4                                                 67  "
      ]
     },
     "execution_count": 252,
     "metadata": {},
     "output_type": "execute_result"
    }
   ],
   "source": [
    "df_test = pd.read_csv(\".data/test.csv\")\n",
    "df_test.head()"
   ]
  },
  {
   "cell_type": "code",
   "execution_count": 253,
   "metadata": {
    "ExecuteTime": {
     "end_time": "2022-04-19T21:27:19.681511Z",
     "start_time": "2022-04-19T19:57:47.887850Z"
    }
   },
   "outputs": [
    {
     "name": "stdout",
     "output_type": "stream",
     "text": [
      "filter start: \n"
     ]
    },
    {
     "data": {
      "application/vnd.jupyter.widget-view+json": {
       "model_id": "e542f357b87443f2956a5b7846f7d0b1",
       "version_major": 2,
       "version_minor": 0
      },
      "text/plain": [
       "  0%|          | 0/165378 [00:00<?, ?it/s]"
      ]
     },
     "metadata": {},
     "output_type": "display_data"
    },
    {
     "name": "stdout",
     "output_type": "stream",
     "text": [
      "filter finish: \n"
     ]
    },
    {
     "data": {
      "application/vnd.jupyter.widget-view+json": {
       "model_id": "fff2f7db56b84f1ea2633515d1ddd044",
       "version_major": 2,
       "version_minor": 0
      },
      "text/plain": [
       "  0%|          | 0/165378 [00:00<?, ?it/s]"
      ]
     },
     "metadata": {},
     "output_type": "display_data"
    },
    {
     "name": "stdout",
     "output_type": "stream",
     "text": [
      "lemmatizer start: \n"
     ]
    },
    {
     "data": {
      "application/vnd.jupyter.widget-view+json": {
       "model_id": "55f4ba80c9ca488ab4e643d9eab16a34",
       "version_major": 2,
       "version_minor": 0
      },
      "text/plain": [
       "  0%|          | 0/165378 [00:00<?, ?it/s]"
      ]
     },
     "metadata": {},
     "output_type": "display_data"
    },
    {
     "name": "stdout",
     "output_type": "stream",
     "text": [
      "lemmatizer finish:\n",
      "stop words start\n"
     ]
    },
    {
     "data": {
      "application/vnd.jupyter.widget-view+json": {
       "model_id": "7645ac66123c49a2a656ebb3be285198",
       "version_major": 2,
       "version_minor": 0
      },
      "text/plain": [
       "  0%|          | 0/165378 [00:00<?, ?it/s]"
      ]
     },
     "metadata": {},
     "output_type": "display_data"
    },
    {
     "name": "stdout",
     "output_type": "stream",
     "text": [
      "stop words finish\n",
      "delete words < 2 start: \n"
     ]
    },
    {
     "data": {
      "application/vnd.jupyter.widget-view+json": {
       "model_id": "03bf6264dfd24a16b0087ccf9c560cd2",
       "version_major": 2,
       "version_minor": 0
      },
      "text/plain": [
       "  0%|          | 0/165378 [00:00<?, ?it/s]"
      ]
     },
     "metadata": {},
     "output_type": "display_data"
    },
    {
     "name": "stdout",
     "output_type": "stream",
     "text": [
      "delete words < 2 finisha: \n"
     ]
    }
   ],
   "source": [
    "# df_test = preprocessing_data(df_test)"
   ]
  },
  {
   "cell_type": "code",
   "execution_count": 254,
   "metadata": {
    "ExecuteTime": {
     "end_time": "2022-04-20T06:13:17.221112Z",
     "start_time": "2022-04-19T21:27:20.257807Z"
    }
   },
   "outputs": [
    {
     "data": {
      "application/vnd.jupyter.widget-view+json": {
       "model_id": "02e86a4e6cda4705b1eaf2da43316b2b",
       "version_major": 2,
       "version_minor": 0
      },
      "text/plain": [
       "  0%|          | 0/165378 [00:00<?, ?it/s]"
      ]
     },
     "metadata": {},
     "output_type": "display_data"
    },
    {
     "data": {
      "application/vnd.jupyter.widget-view+json": {
       "model_id": "85bad15580e74e13936074b18f7ac075",
       "version_major": 2,
       "version_minor": 0
      },
      "text/plain": [
       "  0%|          | 0/165378 [00:00<?, ?it/s]"
      ]
     },
     "metadata": {},
     "output_type": "display_data"
    }
   ],
   "source": [
    "# df_test = urls_tokenize(df_test)"
   ]
  },
  {
   "cell_type": "code",
   "execution_count": 255,
   "metadata": {
    "ExecuteTime": {
     "end_time": "2022-04-20T06:13:17.801639Z",
     "start_time": "2022-04-20T06:13:17.798334Z"
    }
   },
   "outputs": [],
   "source": [
    "# df_test.rename(columns = {'url' : 'url_tokens', 'title' : 'title_tokens'}, inplace = True)\n",
    "# df_test.to_csv(\"./data/test_tokenized.csv\", index=False)"
   ]
  },
  {
   "cell_type": "code",
   "execution_count": 257,
   "metadata": {
    "ExecuteTime": {
     "end_time": "2022-04-20T06:13:20.568279Z",
     "start_time": "2022-04-20T06:13:20.119962Z"
    }
   },
   "outputs": [],
   "source": [
    "# df = pd.read_csv(\".data/test.csv\")"
   ]
  },
  {
   "cell_type": "code",
   "execution_count": 258,
   "metadata": {
    "ExecuteTime": {
     "end_time": "2022-04-20T06:13:21.165361Z",
     "start_time": "2022-04-20T06:13:21.160513Z"
    }
   },
   "outputs": [],
   "source": [
    "# df_test[\"url\"] = \"\"\n",
    "# df_test[\"title\"] = \"\"\n",
    "# df_test[\"url\"] = df[\"url\"]\n",
    "# df_test[\"title\"] = df[\"title\"]"
   ]
  },
  {
   "cell_type": "code",
   "execution_count": 260,
   "metadata": {
    "ExecuteTime": {
     "end_time": "2022-04-20T06:13:23.909781Z",
     "start_time": "2022-04-20T06:13:22.360270Z"
    }
   },
   "outputs": [],
   "source": [
    "# df_test.to_csv(\"./data/test_main.csv\", index=False)"
   ]
  },
  {
   "cell_type": "code",
   "execution_count": 346,
   "metadata": {
    "ExecuteTime": {
     "end_time": "2022-04-20T09:30:20.214786Z",
     "start_time": "2022-04-20T09:30:19.276456Z"
    }
   },
   "outputs": [],
   "source": [
    "df_test = pd.read_csv(\"./data/test_main.csv\")"
   ]
  },
  {
   "cell_type": "code",
   "execution_count": 347,
   "metadata": {
    "ExecuteTime": {
     "end_time": "2022-04-20T09:30:24.027568Z",
     "start_time": "2022-04-20T09:30:21.234325Z"
    }
   },
   "outputs": [],
   "source": [
    "df_test[\"title_tokens\"] = df_test.apply(lambda x: joiner(x['title_tokens']), axis=1)\n",
    "df_test[\"url_tokens\"] = df_test.apply(lambda x: joiner(x['url_tokens']), axis=1)"
   ]
  },
  {
   "cell_type": "code",
   "execution_count": 348,
   "metadata": {
    "ExecuteTime": {
     "end_time": "2022-04-20T09:30:25.061805Z",
     "start_time": "2022-04-20T09:30:25.045650Z"
    }
   },
   "outputs": [
    {
     "data": {
      "text/html": [
       "<div>\n",
       "<style scoped>\n",
       "    .dataframe tbody tr th:only-of-type {\n",
       "        vertical-align: middle;\n",
       "    }\n",
       "\n",
       "    .dataframe tbody tr th {\n",
       "        vertical-align: top;\n",
       "    }\n",
       "\n",
       "    .dataframe thead th {\n",
       "        text-align: right;\n",
       "    }\n",
       "</style>\n",
       "<table border=\"1\" class=\"dataframe\">\n",
       "  <thead>\n",
       "    <tr style=\"text-align: right;\">\n",
       "      <th></th>\n",
       "      <th>url</th>\n",
       "      <th>url_tokens</th>\n",
       "      <th>title</th>\n",
       "      <th>title_tokens</th>\n",
       "    </tr>\n",
       "  </thead>\n",
       "  <tbody>\n",
       "    <tr>\n",
       "      <th>0</th>\n",
       "      <td>www.kommersant.ru</td>\n",
       "      <td>kom  mer  sant</td>\n",
       "      <td>Шестой кассационный суд в Самаре начнет работу...</td>\n",
       "      <td>шестой  кассационный  суд  самара  начать  раб...</td>\n",
       "    </tr>\n",
       "    <tr>\n",
       "      <th>1</th>\n",
       "      <td>urexpert.online</td>\n",
       "      <td>u  rex  pert  on  li  ne</td>\n",
       "      <td>Что такое индексация алиментов, кем и в каких ...</td>\n",
       "      <td>индексация  алименты  случай  производиться  к...</td>\n",
       "    </tr>\n",
       "    <tr>\n",
       "      <th>2</th>\n",
       "      <td>imperimeha.ru</td>\n",
       "      <td>im  pe  ri  me  ha</td>\n",
       "      <td>Женщинам | Империя Меха - Part 12</td>\n",
       "      <td>женщина  империя  мех  part</td>\n",
       "    </tr>\n",
       "    <tr>\n",
       "      <th>3</th>\n",
       "      <td>national-porn.com</td>\n",
       "      <td>na  tio  nal  porn</td>\n",
       "      <td>Небритые, волосатые киски: Порно всех стран и ...</td>\n",
       "      <td>небритый  волосатый  киска  порно  весь  стран...</td>\n",
       "    </tr>\n",
       "    <tr>\n",
       "      <th>4</th>\n",
       "      <td>2gis.ru</td>\n",
       "      <td>2  gis</td>\n",
       "      <td>67</td>\n",
       "      <td></td>\n",
       "    </tr>\n",
       "  </tbody>\n",
       "</table>\n",
       "</div>"
      ],
      "text/plain": [
       "                 url                url_tokens  \\\n",
       "0  www.kommersant.ru            kom  mer  sant   \n",
       "1    urexpert.online  u  rex  pert  on  li  ne   \n",
       "2      imperimeha.ru        im  pe  ri  me  ha   \n",
       "3  national-porn.com        na  tio  nal  porn   \n",
       "4            2gis.ru                    2  gis   \n",
       "\n",
       "                                               title  \\\n",
       "0  Шестой кассационный суд в Самаре начнет работу...   \n",
       "1  Что такое индексация алиментов, кем и в каких ...   \n",
       "2                  Женщинам | Империя Меха - Part 12   \n",
       "3  Небритые, волосатые киски: Порно всех стран и ...   \n",
       "4                                                 67   \n",
       "\n",
       "                                        title_tokens  \n",
       "0  шестой  кассационный  суд  самара  начать  раб...  \n",
       "1  индексация  алименты  случай  производиться  к...  \n",
       "2                        женщина  империя  мех  part  \n",
       "3  небритый  волосатый  киска  порно  весь  стран...  \n",
       "4                                                     "
      ]
     },
     "execution_count": 348,
     "metadata": {},
     "output_type": "execute_result"
    }
   ],
   "source": [
    "X_test = df_test[order]\n",
    "X_test.head()"
   ]
  },
  {
   "cell_type": "code",
   "execution_count": 265,
   "metadata": {
    "ExecuteTime": {
     "end_time": "2022-04-20T07:42:19.187759Z",
     "start_time": "2022-04-20T07:13:49.676233Z"
    }
   },
   "outputs": [
    {
     "name": "stdout",
     "output_type": "stream",
     "text": [
      "train f1_score:  0.9995813897859108\n"
     ]
    }
   ],
   "source": [
    "ensamble.fit(X, y_train)\n",
    "pred_train = ensamble.predict(X)\n",
    "X_test[\"target\"] = ensamble.predict(X_test)\n",
    "print('train f1_score: ', f1_score(pred_train, y_train))"
   ]
  },
  {
   "cell_type": "code",
   "execution_count": 267,
   "metadata": {
    "ExecuteTime": {
     "end_time": "2022-04-20T07:43:30.484429Z",
     "start_time": "2022-04-20T07:43:30.476938Z"
    }
   },
   "outputs": [],
   "source": [
    "X_test[\"target\"] = X_test[\"target\"].astype(bool)\n",
    "X_test[\"id\"] = \"\""
   ]
  },
  {
   "cell_type": "code",
   "execution_count": 270,
   "metadata": {
    "ExecuteTime": {
     "end_time": "2022-04-20T07:46:15.286403Z",
     "start_time": "2022-04-20T07:46:15.281233Z"
    }
   },
   "outputs": [],
   "source": [
    "# Добавление id меток\n",
    "df = pd.read_csv(\"./data/test.csv\")\n",
    "X_test[\"id\"] = df[\"id\"]"
   ]
  },
  {
   "cell_type": "code",
   "execution_count": 277,
   "metadata": {
    "ExecuteTime": {
     "end_time": "2022-04-20T08:24:34.742957Z",
     "start_time": "2022-04-20T08:24:33.797552Z"
    }
   },
   "outputs": [],
   "source": [
    "# X_test.to_csv(\"./data/test_fpredicted.csv\", index=False)"
   ]
  },
  {
   "cell_type": "code",
   "execution_count": 353,
   "metadata": {
    "ExecuteTime": {
     "end_time": "2022-04-20T09:31:50.107966Z",
     "start_time": "2022-04-20T09:31:50.101508Z"
    }
   },
   "outputs": [],
   "source": [
    "# X_test = pd.read_csv(\"./data/test_fpredicted.csv\")"
   ]
  },
  {
   "cell_type": "code",
   "execution_count": 276,
   "metadata": {
    "ExecuteTime": {
     "end_time": "2022-04-20T07:47:07.256426Z",
     "start_time": "2022-04-20T07:47:06.885864Z"
    }
   },
   "outputs": [
    {
     "name": "stdout",
     "output_type": "stream",
     "text": [
      "id,target\r\n",
      "135309,False\r\n",
      "135310,False\r\n",
      "135311,False\r\n",
      "135312,True\r\n",
      "135313,False\r\n",
      "135314,False\r\n",
      "135315,False\r\n",
      "135316,False\r\n",
      "135317,False\r\n",
      "cat: ошибка записи: Обрыв канала\r\n"
     ]
    }
   ],
   "source": [
    "X_test[[\"id\", \"target\"]].to_csv(\"./data/ml_ensemble.csv\", index=False)\n",
    "!cat ml_tfidf.csv | head"
   ]
  },
  {
   "cell_type": "markdown",
   "metadata": {
    "ExecuteTime": {
     "end_time": "2022-04-20T09:25:20.533192Z",
     "start_time": "2022-04-20T09:25:20.525178Z"
    }
   },
   "source": [
    "## Conclusion\n",
    "Сабмит показал себя удивительно хорошо.\n",
    "На f1-мере на Kaggle значение составило - 0.98831"
   ]
  },
  {
   "cell_type": "code",
   "execution_count": null,
   "metadata": {},
   "outputs": [],
   "source": []
  }
 ],
 "metadata": {
  "kernelspec": {
   "display_name": "Python 3 (ipykernel)",
   "language": "python",
   "name": "python3"
  },
  "language_info": {
   "codemirror_mode": {
    "name": "ipython",
    "version": 3
   },
   "file_extension": ".py",
   "mimetype": "text/x-python",
   "name": "python",
   "nbconvert_exporter": "python",
   "pygments_lexer": "ipython3",
   "version": "3.8.10"
  },
  "latex_envs": {
   "LaTeX_envs_menu_present": true,
   "autoclose": false,
   "autocomplete": true,
   "bibliofile": "biblio.bib",
   "cite_by": "apalike",
   "current_citInitial": 1,
   "eqLabelWithNumbers": true,
   "eqNumInitial": 1,
   "hotkeys": {
    "equation": "Ctrl-E",
    "itemize": "Ctrl-I"
   },
   "labels_anchors": false,
   "latex_user_defs": false,
   "report_style_numbering": false,
   "user_envs_cfg": false
  },
  "nbTranslate": {
   "displayLangs": [
    "*"
   ],
   "hotkey": "alt-t",
   "langInMainMenu": true,
   "sourceLang": "en",
   "targetLang": "fr",
   "useGoogleTranslate": true
  },
  "toc": {
   "base_numbering": 1,
   "nav_menu": {},
   "number_sections": true,
   "sideBar": true,
   "skip_h1_title": false,
   "title_cell": "Table of Contents",
   "title_sidebar": "Contents",
   "toc_cell": false,
   "toc_position": {
    "height": "calc(100% - 180px)",
    "left": "10px",
    "top": "150px",
    "width": "425.191px"
   },
   "toc_section_display": true,
   "toc_window_display": true
  },
  "varInspector": {
   "cols": {
    "lenName": 16,
    "lenType": 16,
    "lenVar": 40
   },
   "kernels_config": {
    "python": {
     "delete_cmd_postfix": "",
     "delete_cmd_prefix": "del ",
     "library": "var_list.py",
     "varRefreshCmd": "print(var_dic_list())"
    },
    "r": {
     "delete_cmd_postfix": ") ",
     "delete_cmd_prefix": "rm(",
     "library": "var_list.r",
     "varRefreshCmd": "cat(var_dic_list()) "
    }
   },
   "position": {
    "height": "884.861px",
    "left": "1603.33px",
    "right": "20px",
    "top": "147px",
    "width": "429.774px"
   },
   "types_to_exclude": [
    "module",
    "function",
    "builtin_function_or_method",
    "instance",
    "_Feature"
   ],
   "window_display": true
  }
 },
 "nbformat": 4,
 "nbformat_minor": 2
}
