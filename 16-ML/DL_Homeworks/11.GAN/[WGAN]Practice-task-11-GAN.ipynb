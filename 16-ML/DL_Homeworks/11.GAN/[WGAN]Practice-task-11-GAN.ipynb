{
 "cells": [
  {
   "cell_type": "markdown",
   "metadata": {
    "id": "Sux0ZJMHIoqa"
   },
   "source": [
    "ФИО: Усцов Артем Алексеевич"
   ]
  },
  {
   "cell_type": "code",
   "execution_count": 1,
   "metadata": {
    "id": "VzUoUJ7hIIOL",
    "executionInfo": {
     "status": "ok",
     "timestamp": 1670612887789,
     "user_tz": -180,
     "elapsed": 3750,
     "user": {
      "displayName": "Артём Усцов",
      "userId": "16141628694791373514"
     }
    }
   },
   "source": [
    "import torch\n",
    "import torch.nn as nn\n",
    "import torch.nn.functional as F\n",
    "import torch.optim as optim\n",
    "from torch import autograd\n",
    "from torch.utils.data import DataLoader, Dataset\n",
    "\n",
    "import torchvision\n",
    "import matplotlib.pyplot as plt\n",
    "import numpy as np\n",
    "\n",
    "from torch.autograd import Variable"
   ],
   "outputs": []
  },
  {
   "cell_type": "markdown",
   "metadata": {
    "id": "MgFN1mdBIIOO"
   },
   "source": [
    "### Creating config object (argparse workaround)"
   ]
  },
  {
   "cell_type": "code",
   "execution_count": 2,
   "metadata": {
    "id": "XkXqXBEQIIOQ",
    "executionInfo": {
     "status": "ok",
     "timestamp": 1670612887790,
     "user_tz": -180,
     "elapsed": 7,
     "user": {
      "displayName": "Артём Усцов",
      "userId": "16141628694791373514"
     }
    }
   },
   "source": [
    "class Config:\n",
    "    pass\n",
    "\n",
    "config = Config()\n",
    "config.mnist_path = None\n",
    "config.batch_size = 16\n",
    "config.num_workers = 3\n",
    "config.num_epochs = 10\n",
    "config.noise_size = 50\n",
    "config.print_freq = 100"
   ],
   "outputs": []
  },
  {
   "cell_type": "markdown",
   "metadata": {
    "id": "xcgm5zA5IIOR"
   },
   "source": [
    "### Create dataloder"
   ]
  },
  {
   "cell_type": "code",
   "execution_count": 3,
   "metadata": {
    "colab": {
     "base_uri": "https://localhost:8080/",
     "height": 443,
     "referenced_widgets": [
      "cd1f7c1e25dd414b959d51afc1b8465c",
      "d9ce774944ca4132ba78b98b6a333fb9",
      "14e32bcffa844097b02c863e3f3b4427",
      "15e6027e40024b79b96b92c06b4e199e",
      "910eea0e78b24c9cb6fb22e66bfd9298",
      "5877a36c30994c78b8f55286ce983585",
      "976d57be118646d69408da5bf6d5461f",
      "f8e9fdf56e8b4165b3cda37424367225",
      "2b164e9364e845d3be9784c9f92c50de",
      "f42e79e4302d43e49e8e48c014351b39",
      "5e7b531866774f208ffb48d1a31ce280",
      "80b3906d30494b83a53a320c35bc3626",
      "a6fdacc1a4544793b8f72eb1017b0906",
      "8b8f3c91ee704d6c9c58beb56e0e2517",
      "854c99e5e9134be89c594980e083c5cf",
      "63392bca3e7d465f8b309041092fe49c",
      "6f64b03bc0ef4fcf9c2005f25c949aa9",
      "1bdd05476a6840c0a307ad8d6bd2dc01",
      "8d1b212c171740ffb75f2b70c93e821a",
      "dfa97f25ee6f4baba1ae7c0c2840d4f2",
      "18daf832999b4b72855924bf2fb25c32",
      "4437c70ac3bb4c54a9ae86f2935f0262",
      "2de3e30763a54ca392c3abc1a9ae6644",
      "8f0aac2a26b1460e949cf96f77b55748",
      "72b8806333214a998a112905fa156d1b",
      "9d73fcb621e6472db801395dc9b5d8ff",
      "0160a8a578414dc7a47e3dec8bce86dd",
      "5df7d7e4d22e4b7dbe8dd5be35fe4225",
      "400f15f1c06c47ef926409244caae7e0",
      "6b93563e312548a6afe53353fee8799e",
      "6f24394439df4896a3330cf6c43e2e4a",
      "a40e61295d9c4e00a656b6fc0d032723",
      "cb5bb2f2029f4fc1aea59878b2c0a680",
      "7cd9a7e664d540bbaa17d987f8a5f4f5",
      "14addd724fd14fbab16c16b7569c4ae6",
      "63dfad4ae71c4025bfe884ccabd7b5e2",
      "fa9f2ea888c64888b167b3a88e3369d7",
      "b4fe4cdef8d54668a70f23967848576c",
      "0b0699cd042d41929170ad4054b0ff2e",
      "6f8bd32ce6be42179e1cc68b2d0462e9",
      "5be2256cbf454a3aa9516e5b96ec015a",
      "c60caa37b1794f9d97ae66ddecb48d64",
      "c4844fd1109942428c27a96d4e3917a3",
      "2405cfc6f42b482292a51ea1a5117999"
     ]
    },
    "executionInfo": {
     "elapsed": 1339,
     "status": "ok",
     "timestamp": 1670612889122,
     "user": {
      "displayName": "Артём Усцов",
      "userId": "16141628694791373514"
     },
     "user_tz": -180
    },
    "id": "M933J0GSIIOR",
    "outputId": "fde747d7-7067-43b9-e99c-647d142e9100"
   },
   "source": [
    "train = torchvision.datasets.FashionMNIST(\"fashion_mnist\", train=True, transform=torchvision.transforms.ToTensor(), download=True)"
   ],
   "outputs": []
  },
  {
   "cell_type": "code",
   "execution_count": 4,
   "metadata": {
    "id": "29JRNAmIIIOS",
    "executionInfo": {
     "status": "ok",
     "timestamp": 1670612889122,
     "user_tz": -180,
     "elapsed": 8,
     "user": {
      "displayName": "Артём Усцов",
      "userId": "16141628694791373514"
     }
    }
   },
   "source": [
    "dataloader = DataLoader(train, batch_size=16, shuffle=True)"
   ],
   "outputs": []
  },
  {
   "cell_type": "code",
   "execution_count": 5,
   "metadata": {
    "colab": {
     "base_uri": "https://localhost:8080/"
    },
    "executionInfo": {
     "elapsed": 8,
     "status": "ok",
     "timestamp": 1670612889123,
     "user": {
      "displayName": "Артём Усцов",
      "userId": "16141628694791373514"
     },
     "user_tz": -180
    },
    "id": "9p7EQovFIIOS",
    "outputId": "e4bf9077-74f4-4c4e-9854-e6bdcee56079"
   },
   "source": [
    "len(dataloader)"
   ],
   "outputs": []
  },
  {
   "cell_type": "code",
   "execution_count": 6,
   "metadata": {
    "id": "KPhaSCvpIIOT",
    "executionInfo": {
     "status": "ok",
     "timestamp": 1670612889123,
     "user_tz": -180,
     "elapsed": 7,
     "user": {
      "displayName": "Артём Усцов",
      "userId": "16141628694791373514"
     }
    }
   },
   "source": [
    "for image, cat in dataloader:\n",
    "    break"
   ],
   "outputs": []
  },
  {
   "cell_type": "code",
   "execution_count": 7,
   "metadata": {
    "colab": {
     "base_uri": "https://localhost:8080/"
    },
    "executionInfo": {
     "elapsed": 7,
     "status": "ok",
     "timestamp": 1670612889123,
     "user": {
      "displayName": "Артём Усцов",
      "userId": "16141628694791373514"
     },
     "user_tz": -180
    },
    "id": "dbhwqPlWIIOU",
    "outputId": "525cb75a-1a01-40c3-a0f0-b07ddeb0276d",
    "scrolled": true
   },
   "source": [
    "image.size()"
   ],
   "outputs": []
  },
  {
   "cell_type": "code",
   "execution_count": 8,
   "metadata": {
    "colab": {
     "base_uri": "https://localhost:8080/"
    },
    "executionInfo": {
     "elapsed": 5,
     "status": "ok",
     "timestamp": 1670612889123,
     "user": {
      "displayName": "Артём Усцов",
      "userId": "16141628694791373514"
     },
     "user_tz": -180
    },
    "id": "qTK6TFH1IIOU",
    "outputId": "912f3b95-fea8-49f4-ab2f-7e76522f6019"
   },
   "source": [
    "28*28"
   ],
   "outputs": []
  },
  {
   "cell_type": "markdown",
   "metadata": {
    "id": "oHSXIPzHIIOV"
   },
   "source": [
    "### Create generator and discriminator"
   ]
  },
  {
   "cell_type": "code",
   "execution_count": 9,
   "metadata": {
    "id": "02eYab7NIIOW",
    "executionInfo": {
     "status": "ok",
     "timestamp": 1670612889124,
     "user_tz": -180,
     "elapsed": 5,
     "user": {
      "displayName": "Артём Усцов",
      "userId": "16141628694791373514"
     }
    }
   },
   "source": [
    "class Generator(nn.Module):\n",
    "    def __init__(self):\n",
    "        super(Generator, self).__init__()\n",
    "        self.model = nn.Sequential( \n",
    "            nn.Linear(config.noise_size, 200),\n",
    "            nn.ReLU(inplace=True),\n",
    "            nn.Linear(200, 28*28),\n",
    "            nn.Sigmoid())\n",
    "        \n",
    "    def forward(self, x):\n",
    "        return self.model(x)\n",
    "    \n",
    "class Discriminator(nn.Module):\n",
    "    def __init__(self):\n",
    "        super(Discriminator, self).__init__()\n",
    "        self.model = nn.Sequential(\n",
    "            nn.Linear(28*28, 200),\n",
    "            nn.ReLU(inplace=True),\n",
    "            nn.Linear(200, 50),\n",
    "            nn.ReLU(inplace=True),\n",
    "            nn.Linear(50, 1), \n",
    "            nn.Sigmoid())\n",
    "    def forward(self, x):\n",
    "        return self.model(x)"
   ],
   "outputs": []
  },
  {
   "cell_type": "code",
   "execution_count": 10,
   "metadata": {
    "id": "ephIEaFkIIOW",
    "executionInfo": {
     "status": "ok",
     "timestamp": 1670612889124,
     "user_tz": -180,
     "elapsed": 5,
     "user": {
      "displayName": "Артём Усцов",
      "userId": "16141628694791373514"
     }
    }
   },
   "source": [
    "generator = Generator()\n",
    "discriminator = Discriminator()"
   ],
   "outputs": []
  },
  {
   "cell_type": "markdown",
   "metadata": {
    "id": "Zmjm5v-TIIOW"
   },
   "source": [
    "### Create optimizers and loss"
   ]
  },
  {
   "cell_type": "code",
   "execution_count": 11,
   "metadata": {
    "id": "699-8PMeIIOX",
    "executionInfo": {
     "status": "ok",
     "timestamp": 1670612889125,
     "user_tz": -180,
     "elapsed": 6,
     "user": {
      "displayName": "Артём Усцов",
      "userId": "16141628694791373514"
     }
    }
   },
   "source": [
    "optim_G = optim.Adam(params=generator.parameters(), lr=0.0001)\n",
    "optim_D = optim.Adam(params=discriminator.parameters(), lr=0.0001)\n",
    "\n",
    "criterion = nn.BCELoss()"
   ],
   "outputs": []
  },
  {
   "cell_type": "markdown",
   "metadata": {
    "id": "PjfvUlf1IIOX"
   },
   "source": [
    "### Create necessary variables"
   ]
  },
  {
   "cell_type": "code",
   "execution_count": 12,
   "metadata": {
    "id": "dJXCRvIzIIOY",
    "executionInfo": {
     "status": "ok",
     "timestamp": 1670612889125,
     "user_tz": -180,
     "elapsed": 5,
     "user": {
      "displayName": "Артём Усцов",
      "userId": "16141628694791373514"
     }
    }
   },
   "source": [
    "input = Variable(torch.FloatTensor(config.batch_size, 28*28))\n",
    "noise = Variable(torch.FloatTensor(config.batch_size, config.noise_size))\n",
    "fixed_noise = Variable(torch.FloatTensor(config.batch_size, config.noise_size).normal_(0, 1))\n",
    "label = Variable(torch.FloatTensor(config.batch_size)).unsqueeze(1)\n",
    "real_label = 1\n",
    "fake_label = 0"
   ],
   "outputs": []
  },
  {
   "cell_type": "markdown",
   "metadata": {
    "id": "pElqLFHSIIOY"
   },
   "source": [
    "### Задание\n",
    "\n",
    "1) Модифицируйте код и реализуйте [Wasserstein GAN](https://arxiv.org/abs/1701.07875) ([From GAN to WGAN\n",
    "](https://lilianweng.github.io/posts/2017-08-20-gan/)) используя weight clipping. (1 балл)\n",
    "\n",
    "2) Замените  weight clipping на [gradient penalty](https://arxiv.org/pdf/1704.00028v3.pdf). (1 балл)\n",
    "\n",
    "3) Добавьте к обучению WGAN условие на метку, продемонстрируйте [условную генерацию](https://arxiv.org/pdf/1411.1784.pdf).  (1 балл) \n",
    "\n",
    "Напишите отчет о том, что попробовали, какие результаты получили, какую архитектуру использовали, как вам кажется надо обучать GAN, чтобы добиться сходимости? Каждый пункт обязательно сопроводите визуализациями."
   ]
  },
  {
   "cell_type": "markdown",
   "metadata": {
    "id": "X70UrPiYIIOZ"
   },
   "source": [
    "### GAN"
   ]
  },
  {
   "cell_type": "code",
   "execution_count": 13,
   "metadata": {
    "id": "bo0VvS3JIIOZ",
    "scrolled": true,
    "colab": {
     "base_uri": "https://localhost:8080/",
     "height": 1000
    },
    "executionInfo": {
     "status": "ok",
     "timestamp": 1670613171775,
     "user_tz": -180,
     "elapsed": 282655,
     "user": {
      "displayName": "Артём Усцов",
      "userId": "16141628694791373514"
     }
    },
    "outputId": "9690dda9-36d7-4ccf-a66c-9a3888c264f1"
   },
   "source": [
    "ERRD_x = np.zeros(config.num_epochs)\n",
    "ERRD_z = np.zeros(config.num_epochs)\n",
    "ERRG = np.zeros(config.num_epochs)\n",
    "#z is noise\n",
    "#x is pictures\n",
    "N = len(dataloader)\n",
    "\n",
    "for epoch in range(config.num_epochs):\n",
    "    for iteration, (images, cat) in enumerate(dataloader):\n",
    "        ####### \n",
    "        # Generator is fixed\n",
    "        # Discriminator stage: maximize log(D(x)) + log(1 - D(G(z))) \n",
    "        #######\n",
    "        discriminator.zero_grad()\n",
    "        \n",
    "        # real\n",
    "        label.data.fill_(real_label)\n",
    "        input_data = images.view(images.shape[0], -1)\n",
    "        output = discriminator(input_data)\n",
    "        errD_x = criterion(output, label)\n",
    "        ERRD_x[epoch] += errD_x.item()\n",
    "        errD_x.backward()\n",
    "        \n",
    "        # fake \n",
    "        noise.data.normal_(0, 1)\n",
    "        fake = generator(noise)\n",
    "        label.data.fill_(fake_label)\n",
    "        output = discriminator(fake.detach())\n",
    "        errD_z = criterion(output, label)\n",
    "        ERRD_z[epoch] += errD_z.item()\n",
    "        errD_z.backward()\n",
    "        \n",
    "        optim_D.step()\n",
    "        \n",
    "        ####### \n",
    "        # Discriminator is fixed\n",
    "        # Generator stage: maximize log(D(G(z)) ekv minimize (1-log(D(G(z)))\n",
    "        #######\n",
    "        generator.zero_grad()\n",
    "        label.data.fill_(real_label) #to have only 1st elem in cross-entropy\n",
    "        output = discriminator(fake) #to have only 2nd elem in gan-formula\n",
    "        errG = criterion(output, label)\n",
    "        ERRG[epoch] += errG.item()\n",
    "        errG.backward()\n",
    "        \n",
    "        optim_G.step()\n",
    "        \n",
    "        if (iteration+1) % config.print_freq == 0:\n",
    "            print('Epoch:{} Iter: {} errD_x: {:.2f} errD_z: {:.2f} errG: {:.2f}'.format(epoch+1,\n",
    "                                                                                            iteration+1, \n",
    "                                                                                            errD_x.item(),\n",
    "                                                                                            errD_z.item(), \n",
    "                                                                                            errG.item()))\n",
    "            \n",
    "            \n",
    "plt.figure(figsize=(10,10))\n",
    "plt.plot(ERRD_x,label='ERRD_x')\n",
    "plt.plot(ERRD_z,label='ERRD_z')\n",
    "plt.plot(ERRG,label='ERRG')\n",
    "plt.legend()\n",
    "plt.show()"
   ],
   "outputs": []
  },
  {
   "cell_type": "code",
   "execution_count": 14,
   "metadata": {
    "colab": {
     "base_uri": "https://localhost:8080/",
     "height": 401
    },
    "executionInfo": {
     "elapsed": 1256,
     "status": "ok",
     "timestamp": 1670613299085,
     "user": {
      "displayName": "Артём Усцов",
      "userId": "16141628694791373514"
     },
     "user_tz": -180
    },
    "id": "C9SdAwrsIIOa",
    "outputId": "77752000-63c9-4c8a-da35-484bed4c664c"
   },
   "source": [
    "noise.data.normal_(0, 1)\n",
    "fake = generator(noise)\n",
    "\n",
    "plt.figure(figsize=(6, 7))\n",
    "for i in range(16):\n",
    "    plt.subplot(4, 4, i + 1)\n",
    "    plt.imshow(fake[i].detach().numpy().reshape(28, 28), cmap=plt.cm.Greys_r)\n",
    "    plt.axis('off')"
   ],
   "outputs": []
  },
  {
   "cell_type": "markdown",
   "metadata": {
    "id": "FLO0zJFc4DPn"
   },
   "source": [
    "Wasserstain GAN (WGAN) with weight clipping"
   ]
  },
  {
   "cell_type": "code",
   "source": [
    "class Config:\n",
    "    pass\n",
    "\n",
    "config = Config()\n",
    "config.mnist_path = None\n",
    "config.batch_size = 16\n",
    "config.num_workers = 3\n",
    "config.num_epochs = 10\n",
    "config.noise_size = 50\n",
    "config.print_freq = 100\n",
    "\n",
    "# for weight clipping\n",
    "config.clip_value = 0.01\n",
    "\n",
    "# Update the Discriminator model more \n",
    "# times than the generator each iteration\n",
    "config.n_critic = 5"
   ],
   "metadata": {
    "id": "WvY69c6neQa2",
    "executionInfo": {
     "status": "ok",
     "timestamp": 1670624478679,
     "user_tz": -180,
     "elapsed": 350,
     "user": {
      "displayName": "Артём Усцов",
      "userId": "16141628694791373514"
     }
    }
   },
   "execution_count": 177,
   "outputs": []
  },
  {
   "cell_type": "code",
   "source": [
    "class WGenerator(nn.Module):\n",
    "    def __init__(self):\n",
    "        super(WGenerator, self).__init__()\n",
    "        self.model = nn.Sequential( \n",
    "            nn.Linear(config.noise_size, 200),\n",
    "            nn.LeakyReLU(0.2, inplace=True),\n",
    "            nn.Linear(200, 28*28),\n",
    "            nn.Tanh(),\n",
    "        )\n",
    "        \n",
    "    def forward(self, x):\n",
    "        return self.model(x)\n",
    "    \n",
    "class WDiscriminator(nn.Module):\n",
    "    def __init__(self):\n",
    "        super(WDiscriminator, self).__init__()\n",
    "        self.model = nn.Sequential(\n",
    "            nn.Linear(28*28, 200),\n",
    "            nn.LeakyReLU(0.2, inplace=True),\n",
    "            nn.Linear(200, 50),\n",
    "            nn.LeakyReLU(0.2, inplace=True),\n",
    "            nn.Linear(50, 1), \n",
    "            # Use a linear activation function in the output layer \n",
    "            # of the discriminator model (instead of sigmoid)\n",
    "        )\n",
    "    def forward(self, x):\n",
    "        return self.model(x)"
   ],
   "metadata": {
    "id": "gdzMYBoGWXsp",
    "executionInfo": {
     "status": "ok",
     "timestamp": 1670624479047,
     "user_tz": -180,
     "elapsed": 1,
     "user": {
      "displayName": "Артём Усцов",
      "userId": "16141628694791373514"
     }
    }
   },
   "execution_count": 178,
   "outputs": []
  },
  {
   "cell_type": "code",
   "source": [
    "generator = WGenerator()\n",
    "discriminator = WDiscriminator()\n",
    "\n",
    "# Use the RMSProp version of gradient descent \n",
    "# with small learning rate and no momentum\n",
    "optim_G = optim.RMSprop(params=generator.parameters(), lr=0.00005)\n",
    "optim_D = optim.RMSprop(params=discriminator.parameters(), lr=0.00005)"
   ],
   "metadata": {
    "id": "wWGB1B9PJvFf",
    "executionInfo": {
     "status": "ok",
     "timestamp": 1670624479379,
     "user_tz": -180,
     "elapsed": 3,
     "user": {
      "displayName": "Артём Усцов",
      "userId": "16141628694791373514"
     }
    }
   },
   "execution_count": 179,
   "outputs": []
  },
  {
   "cell_type": "code",
   "execution_count": 180,
   "metadata": {
    "id": "SLftzau75VpA",
    "colab": {
     "base_uri": "https://localhost:8080/",
     "height": 1000
    },
    "executionInfo": {
     "status": "ok",
     "timestamp": 1670624665869,
     "user_tz": -180,
     "elapsed": 186162,
     "user": {
      "displayName": "Артём Усцов",
      "userId": "16141628694791373514"
     }
    },
    "outputId": "b6d24b03-45d3-41ac-c138-a08ab8e6fd94"
   },
   "source": [
    "noise = Variable(torch.FloatTensor(config.batch_size, config.noise_size))\n",
    "label = Variable(torch.FloatTensor(config.batch_size))\n",
    "real_label = 1\n",
    "fake_label = 0\n",
    "\n",
    "ERRD = np.zeros(config.num_epochs)\n",
    "ERRD_z = np.zeros(config.num_epochs)\n",
    "ERRG = np.zeros(config.num_epochs)\n",
    "#z is noise\n",
    "#x is pictures\n",
    "N = len(dataloader)\n",
    "\n",
    "for epoch in range(config.num_epochs):\n",
    "    for iteration, (images, cat) in enumerate(dataloader):\n",
    "        ####### \n",
    "        # Generator is fixed\n",
    "        # Discriminator maximize: D(x) - D(G(z))\n",
    "        \"\"\"The discriminator tries to maximize this function. \n",
    "        In other words, it tries to maximize the difference between its output \n",
    "        on real instances and its output on fake instances.\"\"\"\n",
    "        #######\n",
    "        discriminator.zero_grad()\n",
    "        \n",
    "        # real\n",
    "        label.data.fill_(real_label)\n",
    "        input_data = images.view(images.shape[0], -1)\n",
    "\n",
    "\n",
    "        noise.data.normal_(0, 1)\n",
    "        fake = generator(noise)\n",
    "\n",
    "        # Use Wasserstein loss to train the discriminator and generator models \n",
    "        # that promote larger difference between scores \n",
    "        # for real and generated images.\n",
    "        errD = torch.mean(discriminator(fake.detach())) - torch.mean(discriminator(input_data))\n",
    "        ERRD[epoch] += errD.item()\n",
    "        errD.backward()\n",
    "\n",
    "        optim_D.step()\n",
    "\n",
    "        # Constrain discriminator model weights to a limited \n",
    "        # range after each mini batch update.\n",
    "        # Weight clipping\n",
    "        for p in discriminator.parameters():\n",
    "            p.data.clamp_(-config.clip_value, config.clip_value)\n",
    "\n",
    "        # Update the generator model less \n",
    "        # times than the discriminator each iteration\n",
    "        if iteration % config.n_critic == 0:\n",
    "        \n",
    "            ####### \n",
    "            # Discriminator is fixed\n",
    "            # Generator Maximize: D(G(z))\n",
    "            \"\"\"The generator tries to maximize this function. \n",
    "            In other words, It tries to maximize the discriminator's \n",
    "            output for its fake instances.\n",
    "            \"\"\"\n",
    "            #######\n",
    "            generator.zero_grad()\n",
    "            label.data.fill_(real_label) #to have only 1st elem in cross-entropy\n",
    "            output = discriminator(fake) #to have only 2nd elem in gan-formula\n",
    "            errG = -torch.mean(output)\n",
    "            ERRG[epoch] += errG.item()\n",
    "            errG.backward()\n",
    "            \n",
    "            optim_G.step()\n",
    "        \n",
    "        if (iteration+1) % config.print_freq == 0:\n",
    "            print('Epoch:{} Iter: {} errD: {:.2f} errG: {:.2f}'.format(epoch+1,\n",
    "                                                                      iteration+1, \n",
    "                                                                      errD.item(),\n",
    "                                                                      errG.item()))\n",
    "            \n",
    "            \n",
    "            \n",
    "                 \n",
    "plt.figure(figsize=(10,10))\n",
    "plt.plot(ERRD_x,label='ERRD')\n",
    "plt.plot(ERRG,label='ERRG')\n",
    "plt.legend()\n",
    "plt.show()"
   ],
   "outputs": []
  },
  {
   "cell_type": "code",
   "source": [
    "noise.data.normal_(0, 1)\n",
    "fake = generator(noise)\n",
    "\n",
    "plt.figure(figsize=(6, 7))\n",
    "for i in range(16):\n",
    "    plt.subplot(4, 4, i + 1)\n",
    "    plt.imshow(fake[i].detach().numpy().reshape(28, 28), cmap=plt.cm.Greys_r)\n",
    "    plt.axis('off')"
   ],
   "metadata": {
    "colab": {
     "base_uri": "https://localhost:8080/",
     "height": 401
    },
    "id": "kW9bmTXsft6x",
    "executionInfo": {
     "status": "ok",
     "timestamp": 1670624670485,
     "user_tz": -180,
     "elapsed": 1154,
     "user": {
      "displayName": "Артём Усцов",
      "userId": "16141628694791373514"
     }
    },
    "outputId": "31ab43d2-d379-4e12-e03b-43fc8510ffe1"
   },
   "execution_count": 181,
   "outputs": []
  },
  {
   "cell_type": "markdown",
   "source": [
    "Wasserstain GAN (WGAN) with gradient penalty"
   ],
   "metadata": {
    "id": "f3UNRdJxx0xw"
   }
  },
  {
   "cell_type": "code",
   "source": [
    "class Config:\n",
    "    pass\n",
    "\n",
    "config = Config()\n",
    "config.mnist_path = None\n",
    "config.batch_size = 16\n",
    "config.num_workers = 3\n",
    "config.num_epochs = 10\n",
    "config.noise_size = 50\n",
    "config.print_freq = 100\n",
    "\n",
    "# for weight clipping\n",
    "config.clip_value = 0.01\n",
    "\n",
    "# Update the Discriminator model more \n",
    "# times than the generator each iteration\n",
    "config.n_critic = 5\n",
    "\n",
    "# the penalty coefficient\n",
    "config.w_gp = 10"
   ],
   "metadata": {
    "id": "p2stsuuix9YX",
    "executionInfo": {
     "status": "ok",
     "timestamp": 1670625788774,
     "user_tz": -180,
     "elapsed": 1,
     "user": {
      "displayName": "Артём Усцов",
      "userId": "16141628694791373514"
     }
    }
   },
   "execution_count": 195,
   "outputs": []
  },
  {
   "cell_type": "code",
   "source": [
    "class WGenerator(nn.Module):\n",
    "    def __init__(self):\n",
    "        super().__init__()\n",
    "        self.model = nn.Sequential( \n",
    "            nn.Linear(config.noise_size, 200),\n",
    "            nn.LeakyReLU(0.2, inplace=True),\n",
    "            nn.Linear(200, 28*28),\n",
    "            nn.Tanh(),\n",
    "        )\n",
    "        \n",
    "    def forward(self, x):\n",
    "        return self.model(x)\n",
    "    \n",
    "class WDiscriminator(nn.Module):\n",
    "    def __init__(self):\n",
    "        super().__init__()\n",
    "        self.model = nn.Sequential(\n",
    "            nn.Linear(28*28, 200),\n",
    "            nn.LeakyReLU(0.2, inplace=True),\n",
    "            nn.Linear(200, 50),\n",
    "            nn.LeakyReLU(0.2, inplace=True),\n",
    "            nn.Linear(50, 1), \n",
    "            # Use a linear activation function in the output layer \n",
    "            # of the discriminator model (instead of sigmoid)\n",
    "        )\n",
    "    def forward(self, x):\n",
    "        return self.model(x)"
   ],
   "metadata": {
    "id": "r5z7PFfIx9d_",
    "executionInfo": {
     "status": "ok",
     "timestamp": 1670625790111,
     "user_tz": -180,
     "elapsed": 2,
     "user": {
      "displayName": "Артём Усцов",
      "userId": "16141628694791373514"
     }
    }
   },
   "execution_count": 196,
   "outputs": []
  },
  {
   "cell_type": "code",
   "source": [
    "generator = WGenerator()\n",
    "discriminator = WDiscriminator()\n",
    "\n",
    "# Use the RMSProp version of gradient descent \n",
    "# with small learning rate and no momentum\n",
    "optim_G = optim.RMSprop(params=generator.parameters(), lr=0.00005)\n",
    "optim_D = optim.RMSprop(params=discriminator.parameters(), lr=0.00005)"
   ],
   "metadata": {
    "id": "OtKsEJZgyCq4",
    "executionInfo": {
     "status": "ok",
     "timestamp": 1670625791550,
     "user_tz": -180,
     "elapsed": 1,
     "user": {
      "displayName": "Артём Усцов",
      "userId": "16141628694791373514"
     }
    }
   },
   "execution_count": 197,
   "outputs": []
  },
  {
   "cell_type": "code",
   "source": [
    "def grad_penalty(M, real_data, fake_data, lmbda):\n",
    "\n",
    "    alpha = torch.rand(real_data.size(0), 1, 1, 1)\n",
    "    lerp = alpha * real_data + ((1 - alpha) * fake_data)\n",
    "    lerp.requires_grad = True\n",
    "    lerp_d = M.model(lerp)\n",
    "\n",
    "    gradients = torch.autograd.grad(\n",
    "        outputs=lerp_d, \n",
    "        inputs=lerp, \n",
    "        grad_outputs=torch.ones(lerp_d.size()), \n",
    "        create_graph=True, \n",
    "        retain_graph=True, \n",
    "        only_inputs=True,\n",
    "        )[0]\n",
    "\n",
    "    gradients = gradients.view(gradients.size(0), -1)\n",
    "    return ((gradients.norm(2, dim=1) - 1) ** 2).mean() * lmbda"
   ],
   "metadata": {
    "id": "YjsL6qIzB07R",
    "executionInfo": {
     "status": "ok",
     "timestamp": 1670625792847,
     "user_tz": -180,
     "elapsed": 3,
     "user": {
      "displayName": "Артём Усцов",
      "userId": "16141628694791373514"
     }
    }
   },
   "execution_count": 198,
   "outputs": []
  },
  {
   "cell_type": "code",
   "source": [
    "noise = Variable(torch.FloatTensor(config.batch_size, config.noise_size))\n",
    "label = Variable(torch.FloatTensor(config.batch_size))\n",
    "real_label = 1\n",
    "fake_label = 0\n",
    "\n",
    "ERRD = np.zeros(config.num_epochs)\n",
    "ERRD_x = np.zeros(config.num_epochs)\n",
    "ERRD_z = np.zeros(config.num_epochs)\n",
    "ERRG = np.zeros(config.num_epochs)\n",
    "N = len(dataloader)\n",
    "\n",
    "for epoch in range(config.num_epochs):\n",
    "      for iteration, (images, cat) in enumerate(dataloader):\n",
    "        ####### \n",
    "        # Generator is fixed\n",
    "        # Discriminator maximize: D(x) - D(G(z))\n",
    "        \"\"\"The discriminator tries to maximize this function. \n",
    "        In other words, it tries to maximize the difference between its output \n",
    "        on real instances and its output on fake instances.\"\"\"\n",
    "        #######\n",
    "        discriminator.zero_grad()\n",
    "        \n",
    "        # real\n",
    "        label.data.fill_(real_label)\n",
    "        input_data = images.view(images.shape[0], -1)\n",
    "        output = discriminator(input_data)\n",
    "        errD_x = torch.mean(output)\n",
    "        ERRD_x[epoch] += errD_x.item()\n",
    "        errD_x.backward(-1.0*torch.ones(1)[0])\n",
    "        \n",
    "        # fake \n",
    "        noise.data.normal_(0, 1)\n",
    "        fake = generator(noise)\n",
    "        label.data.fill_(fake_label)\n",
    "        output = discriminator(fake.detach())\n",
    "        errD_z = torch.mean(output)\n",
    "        ERRD_z[epoch] += errD_z.item()\n",
    "        errD_z.backward(1.0*torch.ones(1)[0])\n",
    "        \n",
    "        # gradient penalty\n",
    "        grad_pen = grad_penalty(\n",
    "            discriminator,\n",
    "            input_data.data,\n",
    "            fake.data,\n",
    "            lmbda=config.w_gp,\n",
    "        )\n",
    "        grad_pen.backward()\n",
    "\n",
    "        optim_D.step()\n",
    "        \n",
    "        # Update the generator model less \n",
    "        # times than the discriminator each iteration\n",
    "        if iteration % config.n_critic == 0:\n",
    "        \n",
    "            ####### \n",
    "            # Discriminator is fixed\n",
    "            # Generator Maximize: D(G(z))\n",
    "            \"\"\"The generator tries to maximize this function. \n",
    "            In other words, It tries to maximize the discriminator's \n",
    "            output for its fake instances.\n",
    "            \"\"\"\n",
    "            #######\n",
    "            generator.zero_grad()\n",
    "            label.data.fill_(real_label) #to have only 1st elem in cross-entropy\n",
    "            output = discriminator(fake) #to have only 2nd elem in gan-formula\n",
    "            errG = -torch.mean(output)\n",
    "            ERRG[epoch] += errG.item()\n",
    "            errG.backward()\n",
    "            \n",
    "            optim_G.step()\n",
    "        \n",
    "        if (iteration+1) % config.print_freq == 0:\n",
    "            print('Epoch:{} Iter: {} errD_x: {:.2f} errD_z: {:.2f} errG: {:.2f}'.format(epoch+1,\n",
    "                                                                                        iteration+1, \n",
    "                                                                                        errD_x.item(),\n",
    "                                                                                        errD_z.item(), \n",
    "                                                                                        errG.item()))\n",
    "            \n",
    "            \n",
    "            \n",
    "                 \n",
    "plt.figure(figsize=(10,10))\n",
    "plt.plot(ERRD_x,label='ERRD_x')\n",
    "plt.plot(ERRD_z,label='ERRD_z')\n",
    "plt.plot(ERRG,label='ERRG')\n",
    "plt.legend()\n",
    "plt.show()"
   ],
   "metadata": {
    "id": "bv3sSTuPyCxF",
    "colab": {
     "base_uri": "https://localhost:8080/",
     "height": 1000
    },
    "executionInfo": {
     "status": "ok",
     "timestamp": 1670626297695,
     "user_tz": -180,
     "elapsed": 502895,
     "user": {
      "displayName": "Артём Усцов",
      "userId": "16141628694791373514"
     }
    },
    "outputId": "10799f99-e348-439e-e78f-65c0407044fe"
   },
   "execution_count": 199,
   "outputs": []
  },
  {
   "cell_type": "code",
   "source": [
    "noise.data.normal_(0, 1)\n",
    "fake = generator(noise)\n",
    "\n",
    "plt.figure(figsize=(6, 7))\n",
    "for i in range(16):\n",
    "    plt.subplot(4, 4, i + 1)\n",
    "    plt.imshow(fake[i].detach().numpy().reshape(28, 28), cmap=plt.cm.Greys_r)\n",
    "    plt.axis('off')"
   ],
   "metadata": {
    "id": "p4ZZVY0ByC2m",
    "colab": {
     "base_uri": "https://localhost:8080/",
     "height": 401
    },
    "executionInfo": {
     "status": "ok",
     "timestamp": 1670626299327,
     "user_tz": -180,
     "elapsed": 6,
     "user": {
      "displayName": "Артём Усцов",
      "userId": "16141628694791373514"
     }
    },
    "outputId": "df022ec8-f49e-46bc-c7f2-c5635dbfd8c1"
   },
   "execution_count": 200,
   "outputs": []
  },
  {
   "cell_type": "markdown",
   "metadata": {
    "id": "e24onvRS48iB"
   },
   "source": [
    "Wasserstain GAN (WGAN) with conditional generation"
   ]
  },
  {
   "cell_type": "code",
   "execution_count": 237,
   "metadata": {
    "id": "neZ8TrLV4Zxa",
    "executionInfo": {
     "status": "ok",
     "timestamp": 1670627141296,
     "user_tz": -180,
     "elapsed": 2,
     "user": {
      "displayName": "Артём Усцов",
      "userId": "16141628694791373514"
     }
    }
   },
   "source": [
    "class Config:\n",
    "    pass\n",
    "\n",
    "config = Config()\n",
    "config.mnist_path = None\n",
    "config.batch_size = 16\n",
    "config.num_workers = 3\n",
    "config.num_epochs = 10\n",
    "config.noise_size = 50\n",
    "config.print_freq = 100\n",
    "\n",
    "# for weight clipping\n",
    "config.clip_value = 0.01\n",
    "\n",
    "# Update the Discriminator model more \n",
    "# times than the generator each iteration\n",
    "config.n_critic = 5\n",
    "\n",
    "# for conditional generating\n",
    "config.emb_size = 256\n",
    "config.num_classes = 10"
   ],
   "outputs": []
  },
  {
   "cell_type": "code",
   "execution_count": 243,
   "metadata": {
    "id": "3TPvBlA65Bqh",
    "executionInfo": {
     "status": "ok",
     "timestamp": 1670627432697,
     "user_tz": -180,
     "elapsed": 320,
     "user": {
      "displayName": "Артём Усцов",
      "userId": "16141628694791373514"
     }
    }
   },
   "source": [
    "class WGeneratorConditional(nn.Module):\n",
    "    def __init__(self):\n",
    "        super().__init__()\n",
    "        self.embedding = nn.Linear(config.num_classes, config.emb_size)\n",
    "        self.model = nn.Sequential( \n",
    "            nn.Linear(config.noise_size + config.emb_size, 200),\n",
    "            nn.LeakyReLU(0.2, inplace=True),\n",
    "            nn.Linear(200, 28*28),\n",
    "            nn.Tanh())\n",
    "        \n",
    "    def forward(self, x, y):\n",
    "        emb = self.embedding(y)\n",
    "        z = torch.cat([x, emb], 1)\n",
    "        return self.model(z)\n",
    "\n",
    "\n",
    "class WDiscriminatorConditional(nn.Module):\n",
    "    def __init__(self):\n",
    "        super().__init__()\n",
    "        self.embedding = nn.Linear(config.num_classes, config.emb_size)\n",
    "        self.model = nn.Sequential(\n",
    "            nn.Linear(28*28 + config.emb_size, 200),\n",
    "            nn.LeakyReLU(0.2, inplace=True),\n",
    "            nn.Linear(200, 50),\n",
    "            nn.LeakyReLU(0.2, inplace=True),\n",
    "            nn.Linear(50, 1))\n",
    "            # Use a linear activation function in the output layer \n",
    "            # of the discriminator model (instead of sigmoid)\n",
    "        \n",
    "    def forward(self, x, y):\n",
    "        emb = self.embedding(y)\n",
    "        im = torch.cat([x, emb], 1)\n",
    "        return self.model(im)"
   ],
   "outputs": []
  },
  {
   "cell_type": "code",
   "source": [
    "generator = WGeneratorConditional()\n",
    "discriminator = WDiscriminatorConditional()\n",
    "\n",
    "\n",
    "optim_G = optim.RMSprop(params=generator.parameters(), lr=0.00005)\n",
    "optim_D = optim.RMSprop(params=discriminator.parameters(), lr=0.00005)"
   ],
   "metadata": {
    "id": "DyovJX1YD6nu",
    "executionInfo": {
     "status": "ok",
     "timestamp": 1670627433985,
     "user_tz": -180,
     "elapsed": 2,
     "user": {
      "displayName": "Артём Усцов",
      "userId": "16141628694791373514"
     }
    }
   },
   "execution_count": 244,
   "outputs": []
  },
  {
   "cell_type": "code",
   "source": [
    "noise = Variable(torch.FloatTensor(config.batch_size, config.noise_size))\n",
    "label = Variable(torch.FloatTensor(config.batch_size))\n",
    "real_label = 1\n",
    "fake_label = 0\n",
    "\n",
    "ERRD_x = np.zeros(config.num_epochs)\n",
    "ERRD_z = np.zeros(config.num_epochs)\n",
    "ERRG = np.zeros(config.num_epochs)\n",
    "#z is noise\n",
    "#x is pictures\n",
    "N = len(dataloader)\n",
    "\n",
    "for epoch in range(config.num_epochs):\n",
    "    for iteration, (images, cat) in enumerate(dataloader):\n",
    "        ####### \n",
    "        # Generator is fixed\n",
    "        # Discriminator maximize: D(x) - D(G(z))\n",
    "        \"\"\"The discriminator tries to maximize this function. \n",
    "        In other words, it tries to maximize the difference between its output \n",
    "        on real instances and its output on fake instances.\"\"\"\n",
    "        #######\n",
    "        discriminator.zero_grad()\n",
    "\n",
    "        one_hot_cat = Variable(torch.zeros(config.batch_size, config.num_classes))\n",
    "        one_hot_cat[:, cat] = 1.0\n",
    "        \n",
    "        # real\n",
    "        label.data.fill_(real_label)\n",
    "        input_data = images.view(images.shape[0], -1)\n",
    "\n",
    "\n",
    "        noise.data.normal_(0, 1)\n",
    "        fake = generator(noise, one_hot_cat)\n",
    "\n",
    "        # Use Wasserstein loss to train the discriminator and generator models \n",
    "        # that promote larger difference between scores \n",
    "        # for real and generated images.\n",
    "        errD = torch.mean(discriminator(fake.detach(), one_hot_cat)) - \\\n",
    "                              torch.mean(discriminator(input_data, one_hot_cat))\n",
    "        ERRD[epoch] += errD.item()\n",
    "        errD.backward()\n",
    "\n",
    "        optim_D.step()\n",
    "\n",
    "        # Constrain discriminator model weights to a limited \n",
    "        # range after each mini batch update.\n",
    "        # Weight clipping\n",
    "        for p in discriminator.parameters():\n",
    "            p.data.clamp_(-config.clip_value, config.clip_value)\n",
    "\n",
    "        # Update the generator model less \n",
    "        # times than the discriminator each iteration\n",
    "        if iteration % config.n_critic == 0:\n",
    "        \n",
    "            ####### \n",
    "            # Discriminator is fixed\n",
    "            # Generator Maximize: D(G(z))\n",
    "            \"\"\"The generator tries to maximize this function. \n",
    "            In other words, It tries to maximize the discriminator's \n",
    "            output for its fake instances.\n",
    "            \"\"\"\n",
    "            #######\n",
    "            generator.zero_grad()\n",
    "            label.data.fill_(real_label) #to have only 1st elem in cross-entropy\n",
    "            output = discriminator(fake, one_hot_cat) #to have only 2nd elem in gan-formula\n",
    "            errG = -torch.mean(output)\n",
    "            ERRG[epoch] += errG.item()\n",
    "            errG.backward()\n",
    "            \n",
    "            optim_G.step()\n",
    "        \n",
    "        if (iteration+1) % config.print_freq == 0:\n",
    "            print('Epoch:{} Iter: {} errD: {:.2f} errG: {:.2f}'.format(epoch+1,\n",
    "                                                                      iteration+1, \n",
    "                                                                      errD.item(),\n",
    "                                                                      errG.item()))\n",
    "            \n",
    "            \n",
    "            \n",
    "                 \n",
    "plt.figure(figsize=(10,10))\n",
    "plt.plot(ERRD_x,label='ERRD')\n",
    "plt.plot(ERRG,label='ERRG')\n",
    "plt.legend()\n",
    "plt.show()"
   ],
   "metadata": {
    "colab": {
     "base_uri": "https://localhost:8080/",
     "height": 1000
    },
    "id": "8r_UMMp5Dy0q",
    "executionInfo": {
     "status": "ok",
     "timestamp": 1670627652345,
     "user_tz": -180,
     "elapsed": 213897,
     "user": {
      "displayName": "Артём Усцов",
      "userId": "16141628694791373514"
     }
    },
    "outputId": "0c8b9e68-e3e6-4d24-9e69-aa66464d29a9"
   },
   "execution_count": 246,
   "outputs": []
  },
  {
   "cell_type": "code",
   "source": [
    "noise.data.normal_(0, 1)\n",
    "one_hot_cat = torch.zeros(config.batch_size, config.num_classes)\n",
    "one_hot_cat[ torch.randint(0, 9, (config.batch_size,) ) ] = 1.0\n",
    "\n",
    "fake = generator(noise, one_hot_cat)\n",
    "\n",
    "plt.figure(figsize=(6, 7))\n",
    "for i in range(16):\n",
    "    plt.subplot(4, 4, i + 1)\n",
    "    plt.imshow(fake[i].detach().numpy().reshape(28, 28), cmap=plt.cm.Greys_r)\n",
    "    plt.axis('off')"
   ],
   "metadata": {
    "colab": {
     "base_uri": "https://localhost:8080/",
     "height": 401
    },
    "id": "J00aqMwrGc5L",
    "executionInfo": {
     "status": "ok",
     "timestamp": 1670627658195,
     "user_tz": -180,
     "elapsed": 1169,
     "user": {
      "displayName": "Артём Усцов",
      "userId": "16141628694791373514"
     }
    },
    "outputId": "bdd5345d-0e95-4dc1-83fd-22ee617ff3cb"
   },
   "execution_count": 247,
   "outputs": []
  },
  {
   "cell_type": "markdown",
   "source": [
    "Лучше всего себя показал WGAN с условием на метку, генерируя правдоподобные изображения одежды. \n",
    "\n",
    "WGAN с gradient penalty оказался лучше, чем WGAN с клиппингом весов, однако он дольше всего обучается.\n",
    "Вероятно, имея много GPU, а также попробовав добавить в WGAN с gradinet penalty условие на метку, получатся наиболее правдоподобные генеративные модели"
   ],
   "metadata": {
    "id": "Qkf9L9coKH3w"
   }
  },
  {
   "cell_type": "code",
   "source": [],
   "metadata": {
    "id": "rbQUTkACKLJc"
   },
   "execution_count": null,
   "outputs": []
  }
 ],
 "metadata": {
  "accelerator": "GPU",
  "anaconda-cloud": {},
  "colab": {
   "provenance": [],
   "toc_visible": true
  },
  "gpuClass": "standard",
  "kernelspec": {
   "display_name": "Python 3 (ipykernel)",
   "language": "python",
   "name": "python3"
  },
  "language_info": {
   "codemirror_mode": {
    "name": "ipython",
    "version": 3
   },
   "file_extension": ".py",
   "mimetype": "text/x-python",
   "name": "python",
   "nbconvert_exporter": "python",
   "pygments_lexer": "ipython3",
   "version": "3.8.11"
  },
  "widgets": {
   "application/vnd.jupyter.widget-state+json": {
    "cd1f7c1e25dd414b959d51afc1b8465c": {
     "model_module": "@jupyter-widgets/controls",
     "model_name": "HBoxModel",
     "model_module_version": "1.5.0",
     "state": {
      "_dom_classes": [],
      "_model_module": "@jupyter-widgets/controls",
      "_model_module_version": "1.5.0",
      "_model_name": "HBoxModel",
      "_view_count": null,
      "_view_module": "@jupyter-widgets/controls",
      "_view_module_version": "1.5.0",
      "_view_name": "HBoxView",
      "box_style": "",
      "children": [
       "IPY_MODEL_d9ce774944ca4132ba78b98b6a333fb9",
       "IPY_MODEL_14e32bcffa844097b02c863e3f3b4427",
       "IPY_MODEL_15e6027e40024b79b96b92c06b4e199e"
      ],
      "layout": "IPY_MODEL_910eea0e78b24c9cb6fb22e66bfd9298"
     }
    },
    "d9ce774944ca4132ba78b98b6a333fb9": {
     "model_module": "@jupyter-widgets/controls",
     "model_name": "HTMLModel",
     "model_module_version": "1.5.0",
     "state": {
      "_dom_classes": [],
      "_model_module": "@jupyter-widgets/controls",
      "_model_module_version": "1.5.0",
      "_model_name": "HTMLModel",
      "_view_count": null,
      "_view_module": "@jupyter-widgets/controls",
      "_view_module_version": "1.5.0",
      "_view_name": "HTMLView",
      "description": "",
      "description_tooltip": null,
      "layout": "IPY_MODEL_5877a36c30994c78b8f55286ce983585",
      "placeholder": "​",
      "style": "IPY_MODEL_976d57be118646d69408da5bf6d5461f",
      "value": "100%"
     }
    },
    "14e32bcffa844097b02c863e3f3b4427": {
     "model_module": "@jupyter-widgets/controls",
     "model_name": "FloatProgressModel",
     "model_module_version": "1.5.0",
     "state": {
      "_dom_classes": [],
      "_model_module": "@jupyter-widgets/controls",
      "_model_module_version": "1.5.0",
      "_model_name": "FloatProgressModel",
      "_view_count": null,
      "_view_module": "@jupyter-widgets/controls",
      "_view_module_version": "1.5.0",
      "_view_name": "ProgressView",
      "bar_style": "success",
      "description": "",
      "description_tooltip": null,
      "layout": "IPY_MODEL_f8e9fdf56e8b4165b3cda37424367225",
      "max": 26421880,
      "min": 0,
      "orientation": "horizontal",
      "style": "IPY_MODEL_2b164e9364e845d3be9784c9f92c50de",
      "value": 26421880
     }
    },
    "15e6027e40024b79b96b92c06b4e199e": {
     "model_module": "@jupyter-widgets/controls",
     "model_name": "HTMLModel",
     "model_module_version": "1.5.0",
     "state": {
      "_dom_classes": [],
      "_model_module": "@jupyter-widgets/controls",
      "_model_module_version": "1.5.0",
      "_model_name": "HTMLModel",
      "_view_count": null,
      "_view_module": "@jupyter-widgets/controls",
      "_view_module_version": "1.5.0",
      "_view_name": "HTMLView",
      "description": "",
      "description_tooltip": null,
      "layout": "IPY_MODEL_f42e79e4302d43e49e8e48c014351b39",
      "placeholder": "​",
      "style": "IPY_MODEL_5e7b531866774f208ffb48d1a31ce280",
      "value": " 26421880/26421880 [00:00&lt;00:00, 127567817.25it/s]"
     }
    },
    "910eea0e78b24c9cb6fb22e66bfd9298": {
     "model_module": "@jupyter-widgets/base",
     "model_name": "LayoutModel",
     "model_module_version": "1.2.0",
     "state": {
      "_model_module": "@jupyter-widgets/base",
      "_model_module_version": "1.2.0",
      "_model_name": "LayoutModel",
      "_view_count": null,
      "_view_module": "@jupyter-widgets/base",
      "_view_module_version": "1.2.0",
      "_view_name": "LayoutView",
      "align_content": null,
      "align_items": null,
      "align_self": null,
      "border": null,
      "bottom": null,
      "display": null,
      "flex": null,
      "flex_flow": null,
      "grid_area": null,
      "grid_auto_columns": null,
      "grid_auto_flow": null,
      "grid_auto_rows": null,
      "grid_column": null,
      "grid_gap": null,
      "grid_row": null,
      "grid_template_areas": null,
      "grid_template_columns": null,
      "grid_template_rows": null,
      "height": null,
      "justify_content": null,
      "justify_items": null,
      "left": null,
      "margin": null,
      "max_height": null,
      "max_width": null,
      "min_height": null,
      "min_width": null,
      "object_fit": null,
      "object_position": null,
      "order": null,
      "overflow": null,
      "overflow_x": null,
      "overflow_y": null,
      "padding": null,
      "right": null,
      "top": null,
      "visibility": null,
      "width": null
     }
    },
    "5877a36c30994c78b8f55286ce983585": {
     "model_module": "@jupyter-widgets/base",
     "model_name": "LayoutModel",
     "model_module_version": "1.2.0",
     "state": {
      "_model_module": "@jupyter-widgets/base",
      "_model_module_version": "1.2.0",
      "_model_name": "LayoutModel",
      "_view_count": null,
      "_view_module": "@jupyter-widgets/base",
      "_view_module_version": "1.2.0",
      "_view_name": "LayoutView",
      "align_content": null,
      "align_items": null,
      "align_self": null,
      "border": null,
      "bottom": null,
      "display": null,
      "flex": null,
      "flex_flow": null,
      "grid_area": null,
      "grid_auto_columns": null,
      "grid_auto_flow": null,
      "grid_auto_rows": null,
      "grid_column": null,
      "grid_gap": null,
      "grid_row": null,
      "grid_template_areas": null,
      "grid_template_columns": null,
      "grid_template_rows": null,
      "height": null,
      "justify_content": null,
      "justify_items": null,
      "left": null,
      "margin": null,
      "max_height": null,
      "max_width": null,
      "min_height": null,
      "min_width": null,
      "object_fit": null,
      "object_position": null,
      "order": null,
      "overflow": null,
      "overflow_x": null,
      "overflow_y": null,
      "padding": null,
      "right": null,
      "top": null,
      "visibility": null,
      "width": null
     }
    },
    "976d57be118646d69408da5bf6d5461f": {
     "model_module": "@jupyter-widgets/controls",
     "model_name": "DescriptionStyleModel",
     "model_module_version": "1.5.0",
     "state": {
      "_model_module": "@jupyter-widgets/controls",
      "_model_module_version": "1.5.0",
      "_model_name": "DescriptionStyleModel",
      "_view_count": null,
      "_view_module": "@jupyter-widgets/base",
      "_view_module_version": "1.2.0",
      "_view_name": "StyleView",
      "description_width": ""
     }
    },
    "f8e9fdf56e8b4165b3cda37424367225": {
     "model_module": "@jupyter-widgets/base",
     "model_name": "LayoutModel",
     "model_module_version": "1.2.0",
     "state": {
      "_model_module": "@jupyter-widgets/base",
      "_model_module_version": "1.2.0",
      "_model_name": "LayoutModel",
      "_view_count": null,
      "_view_module": "@jupyter-widgets/base",
      "_view_module_version": "1.2.0",
      "_view_name": "LayoutView",
      "align_content": null,
      "align_items": null,
      "align_self": null,
      "border": null,
      "bottom": null,
      "display": null,
      "flex": null,
      "flex_flow": null,
      "grid_area": null,
      "grid_auto_columns": null,
      "grid_auto_flow": null,
      "grid_auto_rows": null,
      "grid_column": null,
      "grid_gap": null,
      "grid_row": null,
      "grid_template_areas": null,
      "grid_template_columns": null,
      "grid_template_rows": null,
      "height": null,
      "justify_content": null,
      "justify_items": null,
      "left": null,
      "margin": null,
      "max_height": null,
      "max_width": null,
      "min_height": null,
      "min_width": null,
      "object_fit": null,
      "object_position": null,
      "order": null,
      "overflow": null,
      "overflow_x": null,
      "overflow_y": null,
      "padding": null,
      "right": null,
      "top": null,
      "visibility": null,
      "width": null
     }
    },
    "2b164e9364e845d3be9784c9f92c50de": {
     "model_module": "@jupyter-widgets/controls",
     "model_name": "ProgressStyleModel",
     "model_module_version": "1.5.0",
     "state": {
      "_model_module": "@jupyter-widgets/controls",
      "_model_module_version": "1.5.0",
      "_model_name": "ProgressStyleModel",
      "_view_count": null,
      "_view_module": "@jupyter-widgets/base",
      "_view_module_version": "1.2.0",
      "_view_name": "StyleView",
      "bar_color": null,
      "description_width": ""
     }
    },
    "f42e79e4302d43e49e8e48c014351b39": {
     "model_module": "@jupyter-widgets/base",
     "model_name": "LayoutModel",
     "model_module_version": "1.2.0",
     "state": {
      "_model_module": "@jupyter-widgets/base",
      "_model_module_version": "1.2.0",
      "_model_name": "LayoutModel",
      "_view_count": null,
      "_view_module": "@jupyter-widgets/base",
      "_view_module_version": "1.2.0",
      "_view_name": "LayoutView",
      "align_content": null,
      "align_items": null,
      "align_self": null,
      "border": null,
      "bottom": null,
      "display": null,
      "flex": null,
      "flex_flow": null,
      "grid_area": null,
      "grid_auto_columns": null,
      "grid_auto_flow": null,
      "grid_auto_rows": null,
      "grid_column": null,
      "grid_gap": null,
      "grid_row": null,
      "grid_template_areas": null,
      "grid_template_columns": null,
      "grid_template_rows": null,
      "height": null,
      "justify_content": null,
      "justify_items": null,
      "left": null,
      "margin": null,
      "max_height": null,
      "max_width": null,
      "min_height": null,
      "min_width": null,
      "object_fit": null,
      "object_position": null,
      "order": null,
      "overflow": null,
      "overflow_x": null,
      "overflow_y": null,
      "padding": null,
      "right": null,
      "top": null,
      "visibility": null,
      "width": null
     }
    },
    "5e7b531866774f208ffb48d1a31ce280": {
     "model_module": "@jupyter-widgets/controls",
     "model_name": "DescriptionStyleModel",
     "model_module_version": "1.5.0",
     "state": {
      "_model_module": "@jupyter-widgets/controls",
      "_model_module_version": "1.5.0",
      "_model_name": "DescriptionStyleModel",
      "_view_count": null,
      "_view_module": "@jupyter-widgets/base",
      "_view_module_version": "1.2.0",
      "_view_name": "StyleView",
      "description_width": ""
     }
    },
    "80b3906d30494b83a53a320c35bc3626": {
     "model_module": "@jupyter-widgets/controls",
     "model_name": "HBoxModel",
     "model_module_version": "1.5.0",
     "state": {
      "_dom_classes": [],
      "_model_module": "@jupyter-widgets/controls",
      "_model_module_version": "1.5.0",
      "_model_name": "HBoxModel",
      "_view_count": null,
      "_view_module": "@jupyter-widgets/controls",
      "_view_module_version": "1.5.0",
      "_view_name": "HBoxView",
      "box_style": "",
      "children": [
       "IPY_MODEL_a6fdacc1a4544793b8f72eb1017b0906",
       "IPY_MODEL_8b8f3c91ee704d6c9c58beb56e0e2517",
       "IPY_MODEL_854c99e5e9134be89c594980e083c5cf"
      ],
      "layout": "IPY_MODEL_63392bca3e7d465f8b309041092fe49c"
     }
    },
    "a6fdacc1a4544793b8f72eb1017b0906": {
     "model_module": "@jupyter-widgets/controls",
     "model_name": "HTMLModel",
     "model_module_version": "1.5.0",
     "state": {
      "_dom_classes": [],
      "_model_module": "@jupyter-widgets/controls",
      "_model_module_version": "1.5.0",
      "_model_name": "HTMLModel",
      "_view_count": null,
      "_view_module": "@jupyter-widgets/controls",
      "_view_module_version": "1.5.0",
      "_view_name": "HTMLView",
      "description": "",
      "description_tooltip": null,
      "layout": "IPY_MODEL_6f64b03bc0ef4fcf9c2005f25c949aa9",
      "placeholder": "​",
      "style": "IPY_MODEL_1bdd05476a6840c0a307ad8d6bd2dc01",
      "value": "100%"
     }
    },
    "8b8f3c91ee704d6c9c58beb56e0e2517": {
     "model_module": "@jupyter-widgets/controls",
     "model_name": "FloatProgressModel",
     "model_module_version": "1.5.0",
     "state": {
      "_dom_classes": [],
      "_model_module": "@jupyter-widgets/controls",
      "_model_module_version": "1.5.0",
      "_model_name": "FloatProgressModel",
      "_view_count": null,
      "_view_module": "@jupyter-widgets/controls",
      "_view_module_version": "1.5.0",
      "_view_name": "ProgressView",
      "bar_style": "success",
      "description": "",
      "description_tooltip": null,
      "layout": "IPY_MODEL_8d1b212c171740ffb75f2b70c93e821a",
      "max": 29515,
      "min": 0,
      "orientation": "horizontal",
      "style": "IPY_MODEL_dfa97f25ee6f4baba1ae7c0c2840d4f2",
      "value": 29515
     }
    },
    "854c99e5e9134be89c594980e083c5cf": {
     "model_module": "@jupyter-widgets/controls",
     "model_name": "HTMLModel",
     "model_module_version": "1.5.0",
     "state": {
      "_dom_classes": [],
      "_model_module": "@jupyter-widgets/controls",
      "_model_module_version": "1.5.0",
      "_model_name": "HTMLModel",
      "_view_count": null,
      "_view_module": "@jupyter-widgets/controls",
      "_view_module_version": "1.5.0",
      "_view_name": "HTMLView",
      "description": "",
      "description_tooltip": null,
      "layout": "IPY_MODEL_18daf832999b4b72855924bf2fb25c32",
      "placeholder": "​",
      "style": "IPY_MODEL_4437c70ac3bb4c54a9ae86f2935f0262",
      "value": " 29515/29515 [00:00&lt;00:00, 625760.79it/s]"
     }
    },
    "63392bca3e7d465f8b309041092fe49c": {
     "model_module": "@jupyter-widgets/base",
     "model_name": "LayoutModel",
     "model_module_version": "1.2.0",
     "state": {
      "_model_module": "@jupyter-widgets/base",
      "_model_module_version": "1.2.0",
      "_model_name": "LayoutModel",
      "_view_count": null,
      "_view_module": "@jupyter-widgets/base",
      "_view_module_version": "1.2.0",
      "_view_name": "LayoutView",
      "align_content": null,
      "align_items": null,
      "align_self": null,
      "border": null,
      "bottom": null,
      "display": null,
      "flex": null,
      "flex_flow": null,
      "grid_area": null,
      "grid_auto_columns": null,
      "grid_auto_flow": null,
      "grid_auto_rows": null,
      "grid_column": null,
      "grid_gap": null,
      "grid_row": null,
      "grid_template_areas": null,
      "grid_template_columns": null,
      "grid_template_rows": null,
      "height": null,
      "justify_content": null,
      "justify_items": null,
      "left": null,
      "margin": null,
      "max_height": null,
      "max_width": null,
      "min_height": null,
      "min_width": null,
      "object_fit": null,
      "object_position": null,
      "order": null,
      "overflow": null,
      "overflow_x": null,
      "overflow_y": null,
      "padding": null,
      "right": null,
      "top": null,
      "visibility": null,
      "width": null
     }
    },
    "6f64b03bc0ef4fcf9c2005f25c949aa9": {
     "model_module": "@jupyter-widgets/base",
     "model_name": "LayoutModel",
     "model_module_version": "1.2.0",
     "state": {
      "_model_module": "@jupyter-widgets/base",
      "_model_module_version": "1.2.0",
      "_model_name": "LayoutModel",
      "_view_count": null,
      "_view_module": "@jupyter-widgets/base",
      "_view_module_version": "1.2.0",
      "_view_name": "LayoutView",
      "align_content": null,
      "align_items": null,
      "align_self": null,
      "border": null,
      "bottom": null,
      "display": null,
      "flex": null,
      "flex_flow": null,
      "grid_area": null,
      "grid_auto_columns": null,
      "grid_auto_flow": null,
      "grid_auto_rows": null,
      "grid_column": null,
      "grid_gap": null,
      "grid_row": null,
      "grid_template_areas": null,
      "grid_template_columns": null,
      "grid_template_rows": null,
      "height": null,
      "justify_content": null,
      "justify_items": null,
      "left": null,
      "margin": null,
      "max_height": null,
      "max_width": null,
      "min_height": null,
      "min_width": null,
      "object_fit": null,
      "object_position": null,
      "order": null,
      "overflow": null,
      "overflow_x": null,
      "overflow_y": null,
      "padding": null,
      "right": null,
      "top": null,
      "visibility": null,
      "width": null
     }
    },
    "1bdd05476a6840c0a307ad8d6bd2dc01": {
     "model_module": "@jupyter-widgets/controls",
     "model_name": "DescriptionStyleModel",
     "model_module_version": "1.5.0",
     "state": {
      "_model_module": "@jupyter-widgets/controls",
      "_model_module_version": "1.5.0",
      "_model_name": "DescriptionStyleModel",
      "_view_count": null,
      "_view_module": "@jupyter-widgets/base",
      "_view_module_version": "1.2.0",
      "_view_name": "StyleView",
      "description_width": ""
     }
    },
    "8d1b212c171740ffb75f2b70c93e821a": {
     "model_module": "@jupyter-widgets/base",
     "model_name": "LayoutModel",
     "model_module_version": "1.2.0",
     "state": {
      "_model_module": "@jupyter-widgets/base",
      "_model_module_version": "1.2.0",
      "_model_name": "LayoutModel",
      "_view_count": null,
      "_view_module": "@jupyter-widgets/base",
      "_view_module_version": "1.2.0",
      "_view_name": "LayoutView",
      "align_content": null,
      "align_items": null,
      "align_self": null,
      "border": null,
      "bottom": null,
      "display": null,
      "flex": null,
      "flex_flow": null,
      "grid_area": null,
      "grid_auto_columns": null,
      "grid_auto_flow": null,
      "grid_auto_rows": null,
      "grid_column": null,
      "grid_gap": null,
      "grid_row": null,
      "grid_template_areas": null,
      "grid_template_columns": null,
      "grid_template_rows": null,
      "height": null,
      "justify_content": null,
      "justify_items": null,
      "left": null,
      "margin": null,
      "max_height": null,
      "max_width": null,
      "min_height": null,
      "min_width": null,
      "object_fit": null,
      "object_position": null,
      "order": null,
      "overflow": null,
      "overflow_x": null,
      "overflow_y": null,
      "padding": null,
      "right": null,
      "top": null,
      "visibility": null,
      "width": null
     }
    },
    "dfa97f25ee6f4baba1ae7c0c2840d4f2": {
     "model_module": "@jupyter-widgets/controls",
     "model_name": "ProgressStyleModel",
     "model_module_version": "1.5.0",
     "state": {
      "_model_module": "@jupyter-widgets/controls",
      "_model_module_version": "1.5.0",
      "_model_name": "ProgressStyleModel",
      "_view_count": null,
      "_view_module": "@jupyter-widgets/base",
      "_view_module_version": "1.2.0",
      "_view_name": "StyleView",
      "bar_color": null,
      "description_width": ""
     }
    },
    "18daf832999b4b72855924bf2fb25c32": {
     "model_module": "@jupyter-widgets/base",
     "model_name": "LayoutModel",
     "model_module_version": "1.2.0",
     "state": {
      "_model_module": "@jupyter-widgets/base",
      "_model_module_version": "1.2.0",
      "_model_name": "LayoutModel",
      "_view_count": null,
      "_view_module": "@jupyter-widgets/base",
      "_view_module_version": "1.2.0",
      "_view_name": "LayoutView",
      "align_content": null,
      "align_items": null,
      "align_self": null,
      "border": null,
      "bottom": null,
      "display": null,
      "flex": null,
      "flex_flow": null,
      "grid_area": null,
      "grid_auto_columns": null,
      "grid_auto_flow": null,
      "grid_auto_rows": null,
      "grid_column": null,
      "grid_gap": null,
      "grid_row": null,
      "grid_template_areas": null,
      "grid_template_columns": null,
      "grid_template_rows": null,
      "height": null,
      "justify_content": null,
      "justify_items": null,
      "left": null,
      "margin": null,
      "max_height": null,
      "max_width": null,
      "min_height": null,
      "min_width": null,
      "object_fit": null,
      "object_position": null,
      "order": null,
      "overflow": null,
      "overflow_x": null,
      "overflow_y": null,
      "padding": null,
      "right": null,
      "top": null,
      "visibility": null,
      "width": null
     }
    },
    "4437c70ac3bb4c54a9ae86f2935f0262": {
     "model_module": "@jupyter-widgets/controls",
     "model_name": "DescriptionStyleModel",
     "model_module_version": "1.5.0",
     "state": {
      "_model_module": "@jupyter-widgets/controls",
      "_model_module_version": "1.5.0",
      "_model_name": "DescriptionStyleModel",
      "_view_count": null,
      "_view_module": "@jupyter-widgets/base",
      "_view_module_version": "1.2.0",
      "_view_name": "StyleView",
      "description_width": ""
     }
    },
    "2de3e30763a54ca392c3abc1a9ae6644": {
     "model_module": "@jupyter-widgets/controls",
     "model_name": "HBoxModel",
     "model_module_version": "1.5.0",
     "state": {
      "_dom_classes": [],
      "_model_module": "@jupyter-widgets/controls",
      "_model_module_version": "1.5.0",
      "_model_name": "HBoxModel",
      "_view_count": null,
      "_view_module": "@jupyter-widgets/controls",
      "_view_module_version": "1.5.0",
      "_view_name": "HBoxView",
      "box_style": "",
      "children": [
       "IPY_MODEL_8f0aac2a26b1460e949cf96f77b55748",
       "IPY_MODEL_72b8806333214a998a112905fa156d1b",
       "IPY_MODEL_9d73fcb621e6472db801395dc9b5d8ff"
      ],
      "layout": "IPY_MODEL_0160a8a578414dc7a47e3dec8bce86dd"
     }
    },
    "8f0aac2a26b1460e949cf96f77b55748": {
     "model_module": "@jupyter-widgets/controls",
     "model_name": "HTMLModel",
     "model_module_version": "1.5.0",
     "state": {
      "_dom_classes": [],
      "_model_module": "@jupyter-widgets/controls",
      "_model_module_version": "1.5.0",
      "_model_name": "HTMLModel",
      "_view_count": null,
      "_view_module": "@jupyter-widgets/controls",
      "_view_module_version": "1.5.0",
      "_view_name": "HTMLView",
      "description": "",
      "description_tooltip": null,
      "layout": "IPY_MODEL_5df7d7e4d22e4b7dbe8dd5be35fe4225",
      "placeholder": "​",
      "style": "IPY_MODEL_400f15f1c06c47ef926409244caae7e0",
      "value": "100%"
     }
    },
    "72b8806333214a998a112905fa156d1b": {
     "model_module": "@jupyter-widgets/controls",
     "model_name": "FloatProgressModel",
     "model_module_version": "1.5.0",
     "state": {
      "_dom_classes": [],
      "_model_module": "@jupyter-widgets/controls",
      "_model_module_version": "1.5.0",
      "_model_name": "FloatProgressModel",
      "_view_count": null,
      "_view_module": "@jupyter-widgets/controls",
      "_view_module_version": "1.5.0",
      "_view_name": "ProgressView",
      "bar_style": "success",
      "description": "",
      "description_tooltip": null,
      "layout": "IPY_MODEL_6b93563e312548a6afe53353fee8799e",
      "max": 4422102,
      "min": 0,
      "orientation": "horizontal",
      "style": "IPY_MODEL_6f24394439df4896a3330cf6c43e2e4a",
      "value": 4422102
     }
    },
    "9d73fcb621e6472db801395dc9b5d8ff": {
     "model_module": "@jupyter-widgets/controls",
     "model_name": "HTMLModel",
     "model_module_version": "1.5.0",
     "state": {
      "_dom_classes": [],
      "_model_module": "@jupyter-widgets/controls",
      "_model_module_version": "1.5.0",
      "_model_name": "HTMLModel",
      "_view_count": null,
      "_view_module": "@jupyter-widgets/controls",
      "_view_module_version": "1.5.0",
      "_view_name": "HTMLView",
      "description": "",
      "description_tooltip": null,
      "layout": "IPY_MODEL_a40e61295d9c4e00a656b6fc0d032723",
      "placeholder": "​",
      "style": "IPY_MODEL_cb5bb2f2029f4fc1aea59878b2c0a680",
      "value": " 4422102/4422102 [00:00&lt;00:00, 48381530.01it/s]"
     }
    },
    "0160a8a578414dc7a47e3dec8bce86dd": {
     "model_module": "@jupyter-widgets/base",
     "model_name": "LayoutModel",
     "model_module_version": "1.2.0",
     "state": {
      "_model_module": "@jupyter-widgets/base",
      "_model_module_version": "1.2.0",
      "_model_name": "LayoutModel",
      "_view_count": null,
      "_view_module": "@jupyter-widgets/base",
      "_view_module_version": "1.2.0",
      "_view_name": "LayoutView",
      "align_content": null,
      "align_items": null,
      "align_self": null,
      "border": null,
      "bottom": null,
      "display": null,
      "flex": null,
      "flex_flow": null,
      "grid_area": null,
      "grid_auto_columns": null,
      "grid_auto_flow": null,
      "grid_auto_rows": null,
      "grid_column": null,
      "grid_gap": null,
      "grid_row": null,
      "grid_template_areas": null,
      "grid_template_columns": null,
      "grid_template_rows": null,
      "height": null,
      "justify_content": null,
      "justify_items": null,
      "left": null,
      "margin": null,
      "max_height": null,
      "max_width": null,
      "min_height": null,
      "min_width": null,
      "object_fit": null,
      "object_position": null,
      "order": null,
      "overflow": null,
      "overflow_x": null,
      "overflow_y": null,
      "padding": null,
      "right": null,
      "top": null,
      "visibility": null,
      "width": null
     }
    },
    "5df7d7e4d22e4b7dbe8dd5be35fe4225": {
     "model_module": "@jupyter-widgets/base",
     "model_name": "LayoutModel",
     "model_module_version": "1.2.0",
     "state": {
      "_model_module": "@jupyter-widgets/base",
      "_model_module_version": "1.2.0",
      "_model_name": "LayoutModel",
      "_view_count": null,
      "_view_module": "@jupyter-widgets/base",
      "_view_module_version": "1.2.0",
      "_view_name": "LayoutView",
      "align_content": null,
      "align_items": null,
      "align_self": null,
      "border": null,
      "bottom": null,
      "display": null,
      "flex": null,
      "flex_flow": null,
      "grid_area": null,
      "grid_auto_columns": null,
      "grid_auto_flow": null,
      "grid_auto_rows": null,
      "grid_column": null,
      "grid_gap": null,
      "grid_row": null,
      "grid_template_areas": null,
      "grid_template_columns": null,
      "grid_template_rows": null,
      "height": null,
      "justify_content": null,
      "justify_items": null,
      "left": null,
      "margin": null,
      "max_height": null,
      "max_width": null,
      "min_height": null,
      "min_width": null,
      "object_fit": null,
      "object_position": null,
      "order": null,
      "overflow": null,
      "overflow_x": null,
      "overflow_y": null,
      "padding": null,
      "right": null,
      "top": null,
      "visibility": null,
      "width": null
     }
    },
    "400f15f1c06c47ef926409244caae7e0": {
     "model_module": "@jupyter-widgets/controls",
     "model_name": "DescriptionStyleModel",
     "model_module_version": "1.5.0",
     "state": {
      "_model_module": "@jupyter-widgets/controls",
      "_model_module_version": "1.5.0",
      "_model_name": "DescriptionStyleModel",
      "_view_count": null,
      "_view_module": "@jupyter-widgets/base",
      "_view_module_version": "1.2.0",
      "_view_name": "StyleView",
      "description_width": ""
     }
    },
    "6b93563e312548a6afe53353fee8799e": {
     "model_module": "@jupyter-widgets/base",
     "model_name": "LayoutModel",
     "model_module_version": "1.2.0",
     "state": {
      "_model_module": "@jupyter-widgets/base",
      "_model_module_version": "1.2.0",
      "_model_name": "LayoutModel",
      "_view_count": null,
      "_view_module": "@jupyter-widgets/base",
      "_view_module_version": "1.2.0",
      "_view_name": "LayoutView",
      "align_content": null,
      "align_items": null,
      "align_self": null,
      "border": null,
      "bottom": null,
      "display": null,
      "flex": null,
      "flex_flow": null,
      "grid_area": null,
      "grid_auto_columns": null,
      "grid_auto_flow": null,
      "grid_auto_rows": null,
      "grid_column": null,
      "grid_gap": null,
      "grid_row": null,
      "grid_template_areas": null,
      "grid_template_columns": null,
      "grid_template_rows": null,
      "height": null,
      "justify_content": null,
      "justify_items": null,
      "left": null,
      "margin": null,
      "max_height": null,
      "max_width": null,
      "min_height": null,
      "min_width": null,
      "object_fit": null,
      "object_position": null,
      "order": null,
      "overflow": null,
      "overflow_x": null,
      "overflow_y": null,
      "padding": null,
      "right": null,
      "top": null,
      "visibility": null,
      "width": null
     }
    },
    "6f24394439df4896a3330cf6c43e2e4a": {
     "model_module": "@jupyter-widgets/controls",
     "model_name": "ProgressStyleModel",
     "model_module_version": "1.5.0",
     "state": {
      "_model_module": "@jupyter-widgets/controls",
      "_model_module_version": "1.5.0",
      "_model_name": "ProgressStyleModel",
      "_view_count": null,
      "_view_module": "@jupyter-widgets/base",
      "_view_module_version": "1.2.0",
      "_view_name": "StyleView",
      "bar_color": null,
      "description_width": ""
     }
    },
    "a40e61295d9c4e00a656b6fc0d032723": {
     "model_module": "@jupyter-widgets/base",
     "model_name": "LayoutModel",
     "model_module_version": "1.2.0",
     "state": {
      "_model_module": "@jupyter-widgets/base",
      "_model_module_version": "1.2.0",
      "_model_name": "LayoutModel",
      "_view_count": null,
      "_view_module": "@jupyter-widgets/base",
      "_view_module_version": "1.2.0",
      "_view_name": "LayoutView",
      "align_content": null,
      "align_items": null,
      "align_self": null,
      "border": null,
      "bottom": null,
      "display": null,
      "flex": null,
      "flex_flow": null,
      "grid_area": null,
      "grid_auto_columns": null,
      "grid_auto_flow": null,
      "grid_auto_rows": null,
      "grid_column": null,
      "grid_gap": null,
      "grid_row": null,
      "grid_template_areas": null,
      "grid_template_columns": null,
      "grid_template_rows": null,
      "height": null,
      "justify_content": null,
      "justify_items": null,
      "left": null,
      "margin": null,
      "max_height": null,
      "max_width": null,
      "min_height": null,
      "min_width": null,
      "object_fit": null,
      "object_position": null,
      "order": null,
      "overflow": null,
      "overflow_x": null,
      "overflow_y": null,
      "padding": null,
      "right": null,
      "top": null,
      "visibility": null,
      "width": null
     }
    },
    "cb5bb2f2029f4fc1aea59878b2c0a680": {
     "model_module": "@jupyter-widgets/controls",
     "model_name": "DescriptionStyleModel",
     "model_module_version": "1.5.0",
     "state": {
      "_model_module": "@jupyter-widgets/controls",
      "_model_module_version": "1.5.0",
      "_model_name": "DescriptionStyleModel",
      "_view_count": null,
      "_view_module": "@jupyter-widgets/base",
      "_view_module_version": "1.2.0",
      "_view_name": "StyleView",
      "description_width": ""
     }
    },
    "7cd9a7e664d540bbaa17d987f8a5f4f5": {
     "model_module": "@jupyter-widgets/controls",
     "model_name": "HBoxModel",
     "model_module_version": "1.5.0",
     "state": {
      "_dom_classes": [],
      "_model_module": "@jupyter-widgets/controls",
      "_model_module_version": "1.5.0",
      "_model_name": "HBoxModel",
      "_view_count": null,
      "_view_module": "@jupyter-widgets/controls",
      "_view_module_version": "1.5.0",
      "_view_name": "HBoxView",
      "box_style": "",
      "children": [
       "IPY_MODEL_14addd724fd14fbab16c16b7569c4ae6",
       "IPY_MODEL_63dfad4ae71c4025bfe884ccabd7b5e2",
       "IPY_MODEL_fa9f2ea888c64888b167b3a88e3369d7"
      ],
      "layout": "IPY_MODEL_b4fe4cdef8d54668a70f23967848576c"
     }
    },
    "14addd724fd14fbab16c16b7569c4ae6": {
     "model_module": "@jupyter-widgets/controls",
     "model_name": "HTMLModel",
     "model_module_version": "1.5.0",
     "state": {
      "_dom_classes": [],
      "_model_module": "@jupyter-widgets/controls",
      "_model_module_version": "1.5.0",
      "_model_name": "HTMLModel",
      "_view_count": null,
      "_view_module": "@jupyter-widgets/controls",
      "_view_module_version": "1.5.0",
      "_view_name": "HTMLView",
      "description": "",
      "description_tooltip": null,
      "layout": "IPY_MODEL_0b0699cd042d41929170ad4054b0ff2e",
      "placeholder": "​",
      "style": "IPY_MODEL_6f8bd32ce6be42179e1cc68b2d0462e9",
      "value": "100%"
     }
    },
    "63dfad4ae71c4025bfe884ccabd7b5e2": {
     "model_module": "@jupyter-widgets/controls",
     "model_name": "FloatProgressModel",
     "model_module_version": "1.5.0",
     "state": {
      "_dom_classes": [],
      "_model_module": "@jupyter-widgets/controls",
      "_model_module_version": "1.5.0",
      "_model_name": "FloatProgressModel",
      "_view_count": null,
      "_view_module": "@jupyter-widgets/controls",
      "_view_module_version": "1.5.0",
      "_view_name": "ProgressView",
      "bar_style": "success",
      "description": "",
      "description_tooltip": null,
      "layout": "IPY_MODEL_5be2256cbf454a3aa9516e5b96ec015a",
      "max": 5148,
      "min": 0,
      "orientation": "horizontal",
      "style": "IPY_MODEL_c60caa37b1794f9d97ae66ddecb48d64",
      "value": 5148
     }
    },
    "fa9f2ea888c64888b167b3a88e3369d7": {
     "model_module": "@jupyter-widgets/controls",
     "model_name": "HTMLModel",
     "model_module_version": "1.5.0",
     "state": {
      "_dom_classes": [],
      "_model_module": "@jupyter-widgets/controls",
      "_model_module_version": "1.5.0",
      "_model_name": "HTMLModel",
      "_view_count": null,
      "_view_module": "@jupyter-widgets/controls",
      "_view_module_version": "1.5.0",
      "_view_name": "HTMLView",
      "description": "",
      "description_tooltip": null,
      "layout": "IPY_MODEL_c4844fd1109942428c27a96d4e3917a3",
      "placeholder": "​",
      "style": "IPY_MODEL_2405cfc6f42b482292a51ea1a5117999",
      "value": " 5148/5148 [00:00&lt;00:00, 127273.93it/s]"
     }
    },
    "b4fe4cdef8d54668a70f23967848576c": {
     "model_module": "@jupyter-widgets/base",
     "model_name": "LayoutModel",
     "model_module_version": "1.2.0",
     "state": {
      "_model_module": "@jupyter-widgets/base",
      "_model_module_version": "1.2.0",
      "_model_name": "LayoutModel",
      "_view_count": null,
      "_view_module": "@jupyter-widgets/base",
      "_view_module_version": "1.2.0",
      "_view_name": "LayoutView",
      "align_content": null,
      "align_items": null,
      "align_self": null,
      "border": null,
      "bottom": null,
      "display": null,
      "flex": null,
      "flex_flow": null,
      "grid_area": null,
      "grid_auto_columns": null,
      "grid_auto_flow": null,
      "grid_auto_rows": null,
      "grid_column": null,
      "grid_gap": null,
      "grid_row": null,
      "grid_template_areas": null,
      "grid_template_columns": null,
      "grid_template_rows": null,
      "height": null,
      "justify_content": null,
      "justify_items": null,
      "left": null,
      "margin": null,
      "max_height": null,
      "max_width": null,
      "min_height": null,
      "min_width": null,
      "object_fit": null,
      "object_position": null,
      "order": null,
      "overflow": null,
      "overflow_x": null,
      "overflow_y": null,
      "padding": null,
      "right": null,
      "top": null,
      "visibility": null,
      "width": null
     }
    },
    "0b0699cd042d41929170ad4054b0ff2e": {
     "model_module": "@jupyter-widgets/base",
     "model_name": "LayoutModel",
     "model_module_version": "1.2.0",
     "state": {
      "_model_module": "@jupyter-widgets/base",
      "_model_module_version": "1.2.0",
      "_model_name": "LayoutModel",
      "_view_count": null,
      "_view_module": "@jupyter-widgets/base",
      "_view_module_version": "1.2.0",
      "_view_name": "LayoutView",
      "align_content": null,
      "align_items": null,
      "align_self": null,
      "border": null,
      "bottom": null,
      "display": null,
      "flex": null,
      "flex_flow": null,
      "grid_area": null,
      "grid_auto_columns": null,
      "grid_auto_flow": null,
      "grid_auto_rows": null,
      "grid_column": null,
      "grid_gap": null,
      "grid_row": null,
      "grid_template_areas": null,
      "grid_template_columns": null,
      "grid_template_rows": null,
      "height": null,
      "justify_content": null,
      "justify_items": null,
      "left": null,
      "margin": null,
      "max_height": null,
      "max_width": null,
      "min_height": null,
      "min_width": null,
      "object_fit": null,
      "object_position": null,
      "order": null,
      "overflow": null,
      "overflow_x": null,
      "overflow_y": null,
      "padding": null,
      "right": null,
      "top": null,
      "visibility": null,
      "width": null
     }
    },
    "6f8bd32ce6be42179e1cc68b2d0462e9": {
     "model_module": "@jupyter-widgets/controls",
     "model_name": "DescriptionStyleModel",
     "model_module_version": "1.5.0",
     "state": {
      "_model_module": "@jupyter-widgets/controls",
      "_model_module_version": "1.5.0",
      "_model_name": "DescriptionStyleModel",
      "_view_count": null,
      "_view_module": "@jupyter-widgets/base",
      "_view_module_version": "1.2.0",
      "_view_name": "StyleView",
      "description_width": ""
     }
    },
    "5be2256cbf454a3aa9516e5b96ec015a": {
     "model_module": "@jupyter-widgets/base",
     "model_name": "LayoutModel",
     "model_module_version": "1.2.0",
     "state": {
      "_model_module": "@jupyter-widgets/base",
      "_model_module_version": "1.2.0",
      "_model_name": "LayoutModel",
      "_view_count": null,
      "_view_module": "@jupyter-widgets/base",
      "_view_module_version": "1.2.0",
      "_view_name": "LayoutView",
      "align_content": null,
      "align_items": null,
      "align_self": null,
      "border": null,
      "bottom": null,
      "display": null,
      "flex": null,
      "flex_flow": null,
      "grid_area": null,
      "grid_auto_columns": null,
      "grid_auto_flow": null,
      "grid_auto_rows": null,
      "grid_column": null,
      "grid_gap": null,
      "grid_row": null,
      "grid_template_areas": null,
      "grid_template_columns": null,
      "grid_template_rows": null,
      "height": null,
      "justify_content": null,
      "justify_items": null,
      "left": null,
      "margin": null,
      "max_height": null,
      "max_width": null,
      "min_height": null,
      "min_width": null,
      "object_fit": null,
      "object_position": null,
      "order": null,
      "overflow": null,
      "overflow_x": null,
      "overflow_y": null,
      "padding": null,
      "right": null,
      "top": null,
      "visibility": null,
      "width": null
     }
    },
    "c60caa37b1794f9d97ae66ddecb48d64": {
     "model_module": "@jupyter-widgets/controls",
     "model_name": "ProgressStyleModel",
     "model_module_version": "1.5.0",
     "state": {
      "_model_module": "@jupyter-widgets/controls",
      "_model_module_version": "1.5.0",
      "_model_name": "ProgressStyleModel",
      "_view_count": null,
      "_view_module": "@jupyter-widgets/base",
      "_view_module_version": "1.2.0",
      "_view_name": "StyleView",
      "bar_color": null,
      "description_width": ""
     }
    },
    "c4844fd1109942428c27a96d4e3917a3": {
     "model_module": "@jupyter-widgets/base",
     "model_name": "LayoutModel",
     "model_module_version": "1.2.0",
     "state": {
      "_model_module": "@jupyter-widgets/base",
      "_model_module_version": "1.2.0",
      "_model_name": "LayoutModel",
      "_view_count": null,
      "_view_module": "@jupyter-widgets/base",
      "_view_module_version": "1.2.0",
      "_view_name": "LayoutView",
      "align_content": null,
      "align_items": null,
      "align_self": null,
      "border": null,
      "bottom": null,
      "display": null,
      "flex": null,
      "flex_flow": null,
      "grid_area": null,
      "grid_auto_columns": null,
      "grid_auto_flow": null,
      "grid_auto_rows": null,
      "grid_column": null,
      "grid_gap": null,
      "grid_row": null,
      "grid_template_areas": null,
      "grid_template_columns": null,
      "grid_template_rows": null,
      "height": null,
      "justify_content": null,
      "justify_items": null,
      "left": null,
      "margin": null,
      "max_height": null,
      "max_width": null,
      "min_height": null,
      "min_width": null,
      "object_fit": null,
      "object_position": null,
      "order": null,
      "overflow": null,
      "overflow_x": null,
      "overflow_y": null,
      "padding": null,
      "right": null,
      "top": null,
      "visibility": null,
      "width": null
     }
    },
    "2405cfc6f42b482292a51ea1a5117999": {
     "model_module": "@jupyter-widgets/controls",
     "model_name": "DescriptionStyleModel",
     "model_module_version": "1.5.0",
     "state": {
      "_model_module": "@jupyter-widgets/controls",
      "_model_module_version": "1.5.0",
      "_model_name": "DescriptionStyleModel",
      "_view_count": null,
      "_view_module": "@jupyter-widgets/base",
      "_view_module_version": "1.2.0",
      "_view_name": "StyleView",
      "description_width": ""
     }
    }
   }
  }
 },
 "nbformat": 4,
 "nbformat_minor": 0
}
