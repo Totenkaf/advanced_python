{
 "nbformat": 4,
 "nbformat_minor": 0,
 "metadata": {
  "kernelspec": {
   "display_name": "Python 3",
   "language": "python",
   "name": "python3"
  },
  "language_info": {
   "codemirror_mode": {
    "name": "ipython",
    "version": 3
   },
   "file_extension": ".py",
   "mimetype": "text/x-python",
   "name": "python",
   "nbconvert_exporter": "python",
   "pygments_lexer": "ipython3",
   "version": "3.8.2"
  },
  "varInspector": {
   "cols": {
    "lenName": 16,
    "lenType": 16,
    "lenVar": 40
   },
   "kernels_config": {
    "python": {
     "delete_cmd_postfix": "",
     "delete_cmd_prefix": "del ",
     "library": "var_list.py",
     "varRefreshCmd": "print(var_dic_list())"
    },
    "r": {
     "delete_cmd_postfix": ") ",
     "delete_cmd_prefix": "rm(",
     "library": "var_list.r",
     "varRefreshCmd": "cat(var_dic_list()) "
    }
   },
   "types_to_exclude": [
    "module",
    "function",
    "builtin_function_or_method",
    "instance",
    "_Feature"
   ],
   "window_display": false
  },
  "colab": {
   "name": "Seminar-14.ipynb",
   "provenance": [],
   "collapsed_sections": []
  },
  "widgets": {
   "application/vnd.jupyter.widget-state+json": {
    "f7dc1bb5d3734b09b401382ae6709d10": {
     "model_module": "@jupyter-widgets/controls",
     "model_name": "HBoxModel",
     "state": {
      "_view_name": "HBoxView",
      "_dom_classes": [],
      "_model_name": "HBoxModel",
      "_view_module": "@jupyter-widgets/controls",
      "_model_module_version": "1.5.0",
      "_view_count": null,
      "_view_module_version": "1.5.0",
      "box_style": "",
      "layout": "IPY_MODEL_b2239ec0d77a412d8431cad9b1e429ec",
      "_model_module": "@jupyter-widgets/controls",
      "children": [
       "IPY_MODEL_638b9223fd1447169ec9a545f7826dcc",
       "IPY_MODEL_8eaddf56dde64632b6a40fb564008e00"
      ]
     }
    },
    "b2239ec0d77a412d8431cad9b1e429ec": {
     "model_module": "@jupyter-widgets/base",
     "model_name": "LayoutModel",
     "state": {
      "_view_name": "LayoutView",
      "grid_template_rows": null,
      "right": null,
      "justify_content": null,
      "_view_module": "@jupyter-widgets/base",
      "overflow": null,
      "_model_module_version": "1.2.0",
      "_view_count": null,
      "flex_flow": null,
      "width": null,
      "min_width": null,
      "border": null,
      "align_items": null,
      "bottom": null,
      "_model_module": "@jupyter-widgets/base",
      "top": null,
      "grid_column": null,
      "overflow_y": null,
      "overflow_x": null,
      "grid_auto_flow": null,
      "grid_area": null,
      "grid_template_columns": null,
      "flex": null,
      "_model_name": "LayoutModel",
      "justify_items": null,
      "grid_row": null,
      "max_height": null,
      "align_content": null,
      "visibility": null,
      "align_self": null,
      "height": null,
      "min_height": null,
      "padding": null,
      "grid_auto_rows": null,
      "grid_gap": null,
      "max_width": null,
      "order": null,
      "_view_module_version": "1.2.0",
      "grid_template_areas": null,
      "object_position": null,
      "object_fit": null,
      "grid_auto_columns": null,
      "margin": null,
      "display": null,
      "left": null
     }
    },
    "638b9223fd1447169ec9a545f7826dcc": {
     "model_module": "@jupyter-widgets/controls",
     "model_name": "FloatProgressModel",
     "state": {
      "_view_name": "ProgressView",
      "style": "IPY_MODEL_038dc800dd5a4b2d908ab9ce890702c3",
      "_dom_classes": [],
      "description": "  0%",
      "_model_name": "FloatProgressModel",
      "bar_style": "danger",
      "max": 100000,
      "_view_module": "@jupyter-widgets/controls",
      "_model_module_version": "1.5.0",
      "value": 6,
      "_view_count": null,
      "_view_module_version": "1.5.0",
      "orientation": "horizontal",
      "min": 0,
      "description_tooltip": null,
      "_model_module": "@jupyter-widgets/controls",
      "layout": "IPY_MODEL_2305426b622440ffb425defc81ba1c18"
     }
    },
    "8eaddf56dde64632b6a40fb564008e00": {
     "model_module": "@jupyter-widgets/controls",
     "model_name": "HTMLModel",
     "state": {
      "_view_name": "HTMLView",
      "style": "IPY_MODEL_8bb1f7fa98224f8481bfc02d1f74c76e",
      "_dom_classes": [],
      "description": "",
      "_model_name": "HTMLModel",
      "placeholder": "​",
      "_view_module": "@jupyter-widgets/controls",
      "_model_module_version": "1.5.0",
      "value": " 6/100000 [00:11&lt;34:12, 48.72it/s]",
      "_view_count": null,
      "_view_module_version": "1.5.0",
      "description_tooltip": null,
      "_model_module": "@jupyter-widgets/controls",
      "layout": "IPY_MODEL_d7e7886c28d14e7ebcd825abebfbd6fd"
     }
    },
    "038dc800dd5a4b2d908ab9ce890702c3": {
     "model_module": "@jupyter-widgets/controls",
     "model_name": "ProgressStyleModel",
     "state": {
      "_view_name": "StyleView",
      "_model_name": "ProgressStyleModel",
      "description_width": "initial",
      "_view_module": "@jupyter-widgets/base",
      "_model_module_version": "1.5.0",
      "_view_count": null,
      "_view_module_version": "1.2.0",
      "bar_color": null,
      "_model_module": "@jupyter-widgets/controls"
     }
    },
    "2305426b622440ffb425defc81ba1c18": {
     "model_module": "@jupyter-widgets/base",
     "model_name": "LayoutModel",
     "state": {
      "_view_name": "LayoutView",
      "grid_template_rows": null,
      "right": null,
      "justify_content": null,
      "_view_module": "@jupyter-widgets/base",
      "overflow": null,
      "_model_module_version": "1.2.0",
      "_view_count": null,
      "flex_flow": null,
      "width": null,
      "min_width": null,
      "border": null,
      "align_items": null,
      "bottom": null,
      "_model_module": "@jupyter-widgets/base",
      "top": null,
      "grid_column": null,
      "overflow_y": null,
      "overflow_x": null,
      "grid_auto_flow": null,
      "grid_area": null,
      "grid_template_columns": null,
      "flex": null,
      "_model_name": "LayoutModel",
      "justify_items": null,
      "grid_row": null,
      "max_height": null,
      "align_content": null,
      "visibility": null,
      "align_self": null,
      "height": null,
      "min_height": null,
      "padding": null,
      "grid_auto_rows": null,
      "grid_gap": null,
      "max_width": null,
      "order": null,
      "_view_module_version": "1.2.0",
      "grid_template_areas": null,
      "object_position": null,
      "object_fit": null,
      "grid_auto_columns": null,
      "margin": null,
      "display": null,
      "left": null
     }
    },
    "8bb1f7fa98224f8481bfc02d1f74c76e": {
     "model_module": "@jupyter-widgets/controls",
     "model_name": "DescriptionStyleModel",
     "state": {
      "_view_name": "StyleView",
      "_model_name": "DescriptionStyleModel",
      "description_width": "",
      "_view_module": "@jupyter-widgets/base",
      "_model_module_version": "1.5.0",
      "_view_count": null,
      "_view_module_version": "1.2.0",
      "_model_module": "@jupyter-widgets/controls"
     }
    },
    "d7e7886c28d14e7ebcd825abebfbd6fd": {
     "model_module": "@jupyter-widgets/base",
     "model_name": "LayoutModel",
     "state": {
      "_view_name": "LayoutView",
      "grid_template_rows": null,
      "right": null,
      "justify_content": null,
      "_view_module": "@jupyter-widgets/base",
      "overflow": null,
      "_model_module_version": "1.2.0",
      "_view_count": null,
      "flex_flow": null,
      "width": null,
      "min_width": null,
      "border": null,
      "align_items": null,
      "bottom": null,
      "_model_module": "@jupyter-widgets/base",
      "top": null,
      "grid_column": null,
      "overflow_y": null,
      "overflow_x": null,
      "grid_auto_flow": null,
      "grid_area": null,
      "grid_template_columns": null,
      "flex": null,
      "_model_name": "LayoutModel",
      "justify_items": null,
      "grid_row": null,
      "max_height": null,
      "align_content": null,
      "visibility": null,
      "align_self": null,
      "height": null,
      "min_height": null,
      "padding": null,
      "grid_auto_rows": null,
      "grid_gap": null,
      "max_width": null,
      "order": null,
      "_view_module_version": "1.2.0",
      "grid_template_areas": null,
      "object_position": null,
      "object_fit": null,
      "grid_auto_columns": null,
      "margin": null,
      "display": null,
      "left": null
     }
    }
   }
  }
 },
 "cells": [
  {
   "cell_type": "markdown",
   "metadata": {
    "id": "SW7wxJh-aZlB"
   },
   "source": [
    "## Семинар 13: \"Обучение с подкреплением 1\""
   ]
  },
  {
   "cell_type": "markdown",
   "metadata": {
    "id": "aPW8qFHraZlF"
   },
   "source": [
    "ФИО: Калашников Дмитрий"
   ]
  },
  {
   "cell_type": "markdown",
   "metadata": {
    "id": "0XiziIYsaZlG"
   },
   "source": [
    "###  FrozenLake\n",
    "\n",
    "\n",
    "<img src=\"http://vignette2.wikia.nocookie.net/riseoftheguardians/images/4/4c/Jack's_little_sister_on_the_ice.jpg/revision/latest?cb=20141218030206\" alt=\"a random image to attract attention\" style=\"width: 400px;\"/>\n",
    "\n"
   ]
  },
  {
   "cell_type": "code",
   "metadata": {
    "id": "BqobN7r3aZlH"
   },
   "source": [
    "import gym\n",
    "import numpy as np \n",
    "\n",
    "#create a single game instance\n",
    "env = gym.make(\"FrozenLake-v0\")\n",
    "\n",
    "#start new game\n",
    "env.reset();"
   ],
   "execution_count": 1,
   "outputs": []
  },
  {
   "cell_type": "code",
   "metadata": {
    "colab": {
     "base_uri": "https://localhost:8080/"
    },
    "id": "AVS0O_lSaZlI",
    "outputId": "f945615d-3fb9-4855-f29c-5358f9996538"
   },
   "source": [
    "# display the game state\n",
    "env.render()"
   ],
   "execution_count": 2,
   "outputs": []
  },
  {
   "cell_type": "markdown",
   "metadata": {
    "id": "s9bmmssEaZlJ"
   },
   "source": [
    "### legend\n",
    "\n",
    "![img](https://cdn-images-1.medium.com/max/800/1*MCjDzR-wfMMkS0rPqXSmKw.png)"
   ]
  },
  {
   "cell_type": "markdown",
   "metadata": {
    "id": "65X_MK8qaZlK"
   },
   "source": [
    "### Gym interface\n",
    "\n",
    "The three main methods of an environment are\n",
    "* __reset()__ - reset environment to initial state, _return first observation_\n",
    "* __render()__ - show current environment state (a more colorful version :) )\n",
    "* __step(a)__ - commit action __a__ and return (new observation, reward, is done, info)\n",
    " * _new observation_ - an observation right after commiting the action __a__\n",
    " * _reward_ - a number representing your reward for commiting action __a__\n",
    " * _is done_ - True if the MDP has just finished, False if still in progress\n",
    " * _info_ - some auxilary stuff about what just happened. Ignore it for now"
   ]
  },
  {
   "cell_type": "code",
   "metadata": {
    "scrolled": true,
    "colab": {
     "base_uri": "https://localhost:8080/"
    },
    "id": "VmYscMzcaZlL",
    "outputId": "230ec2b0-517b-48b6-8e25-4d77ac273889"
   },
   "source": [
    "print(\"initial observation code:\", env.reset())\n",
    "print('printing observation:')\n",
    "env.render()\n",
    "print(\"observations:\", env.observation_space, 'n=', env.observation_space.n)\n",
    "print(\"actions:\", env.action_space, 'n=', env.action_space.n)"
   ],
   "execution_count": 3,
   "outputs": []
  },
  {
   "cell_type": "code",
   "metadata": {
    "colab": {
     "base_uri": "https://localhost:8080/"
    },
    "id": "tUqnWXhHaZlM",
    "outputId": "649cca7d-c5b2-4857-ec88-a2725517c1aa"
   },
   "source": [
    "print(\"taking action 2 (right)\")\n",
    "new_obs, reward, is_done, _ = env.step(2)\n",
    "print(\"new observation code:\", new_obs)\n",
    "print(\"reward:\", reward)\n",
    "print(\"is game over?:\", is_done)\n",
    "print(\"printing new state:\")\n",
    "env.render()"
   ],
   "execution_count": 4,
   "outputs": []
  },
  {
   "cell_type": "code",
   "metadata": {
    "colab": {
     "base_uri": "https://localhost:8080/",
     "height": 158
    },
    "id": "AkkJlkdsrfiX",
    "outputId": "875a3f42-b34a-4315-bdae-7df5ed700ac1"
   },
   "source": [
    "env.compute_reward()"
   ],
   "execution_count": 8,
   "outputs": []
  },
  {
   "cell_type": "code",
   "metadata": {
    "id": "RaqCbbZuraex"
   },
   "source": [
    "env.__dir__()"
   ],
   "execution_count": null,
   "outputs": []
  },
  {
   "cell_type": "code",
   "metadata": {
    "id": "-j7lKtRqaZlN"
   },
   "source": [
    "action_to_i = {\n",
    "    'left':0,\n",
    "    'down':1,\n",
    "    'right':2, \n",
    "    'up':3\n",
    "}"
   ],
   "execution_count": 53,
   "outputs": []
  },
  {
   "cell_type": "markdown",
   "metadata": {
    "id": "Ae9vwdhiaZlN"
   },
   "source": [
    "### Попробуйте походить по замерзшему озеру, не упав в дырку. \n",
    "* Каждый шаг вы с вероятностью __0.5__ будете двигаться в выбранном направлении и с вероятностью __0.5__ в случайном.\n",
    "* Если упадете, используйте __env.reset()__ чтобы перезапустить __env__"
   ]
  },
  {
   "cell_type": "code",
   "metadata": {
    "colab": {
     "base_uri": "https://localhost:8080/"
    },
    "id": "O7FLUXE2aZlO",
    "outputId": "fc8da72d-1cfb-4991-bba5-1cbafe968cbb"
   },
   "source": [
    "#env.reset()\n",
    "env.render()\n",
    "new_obs, reward, is_done, _ = env.step(2)\n",
    "print(\"new observation code:\", new_obs)"
   ],
   "execution_count": null,
   "outputs": []
  },
  {
   "cell_type": "code",
   "metadata": {
    "id": "9L9xuLKEoTln"
   },
   "source": [
    "strategy = {...}"
   ],
   "execution_count": null,
   "outputs": []
  },
  {
   "cell_type": "code",
   "metadata": {
    "id": "USunvjbTalWs"
   },
   "source": [
    "for i_episode in range(2):\n",
    "    observation = env.reset()\n",
    "    next_step = action_to_i['right']\n",
    "    for t in range(10):\n",
    "        env.render()\n",
    "        print(observation)\n",
    "        observation, reward, done, info = env.step(next_step)\n",
    "        if done:\n",
    "            print(\"Episode finished after {} timesteps\".format(t+1))\n",
    "            break\n",
    "        if next_step % 4 == 3:\n",
    "            next_step = action_to_i['down']\n",
    "        \n",
    "#env.close()"
   ],
   "execution_count": null,
   "outputs": []
  },
  {
   "cell_type": "markdown",
   "metadata": {
    "id": "1LTytYuGaZlR"
   },
   "source": [
    "## Задание: \n",
    "Следуя шаблонам функций реализуйте алгоритм Policy iteration.\n",
    "Протестируйте его с помощью функции __evaluate_policy__.\n",
    "Попробуйте разные значение для gamma и сравните результаты."
   ]
  },
  {
   "cell_type": "code",
   "metadata": {
    "id": "2s98MbmDHIfX"
   },
   "source": [
    "import numpy as np\n",
    "from tqdm.notebook import tqdm as tqdm"
   ],
   "execution_count": 79,
   "outputs": []
  },
  {
   "cell_type": "code",
   "metadata": {
    "id": "kM4Ub0UwaZlT"
   },
   "source": [
    "def run_episode(env, policy, gamma = 1.0, render = False):\n",
    "    obs = env.reset()\n",
    "    total_reward = 0\n",
    "    step_idx = 0\n",
    "    while True:\n",
    "        if render:\n",
    "            env.render()\n",
    "        obs, reward, done , _ = env.step(int(policy[obs]))\n",
    "        total_reward += (gamma ** step_idx * reward)\n",
    "        step_idx += 1\n",
    "        if done:\n",
    "            break\n",
    "    return total_reward"
   ],
   "execution_count": 71,
   "outputs": []
  },
  {
   "cell_type": "code",
   "metadata": {
    "id": "4mVKaJMQaZlU"
   },
   "source": [
    "def evaluate_policy(env, policy, gamma = 1.0,  n = 100):\n",
    "    scores = [\n",
    "            run_episode(env, policy, gamma = gamma, render = False)\n",
    "            for _ in range(n)]\n",
    "    return np.mean(scores)"
   ],
   "execution_count": 72,
   "outputs": []
  },
  {
   "cell_type": "code",
   "metadata": {
    "id": "9EK8KwkraZlV"
   },
   "source": [
    "# Используя фиксированную value_function и жадную стратегию получите policy\n",
    "\n",
    "ACTIONS_NUM = 4\n",
    "def extract_policy(v, gamma = 1.0, max_iteration=10000):\n",
    "    n = v.size\n",
    "    policy = np.zeros(n)\n",
    "\n",
    "    for i in range(max_iteration):\n",
    "        policy_stable = True\n",
    "        for s in range(n):\n",
    "            values = []\n",
    "            cur_best_step = policy[s]\n",
    "            for action in range(ACTIONS_NUM):\n",
    "                value = 0\n",
    "                for prob, new_s, r, done in env.P[s][action]:\n",
    "                    value += prob * (r + gamma * v[new_s])\n",
    "                values.append( value )\n",
    "\n",
    "            best_step = np.argmax(values)\n",
    "            if best_step != cur_best_step:\n",
    "                policy_stable = False\n",
    "\n",
    "            policy[s] = best_step\n",
    "        \n",
    "        if policy_stable:\n",
    "            break\n",
    "\n",
    "    return policy"
   ],
   "execution_count": 92,
   "outputs": []
  },
  {
   "cell_type": "code",
   "metadata": {
    "id": "kKEFS9v0aZlV"
   },
   "source": [
    "# Используя фиксированную policy с помощью сэмплирования получите оценку для value_function с точностью 1e-10\n",
    "\n",
    "def compute_policy_v(env, policy, gamma=1.0, max_iterations = 10000, eps=1e-10):\n",
    "    n = env.observation_space.n\n",
    "    v = np.zeros( n )\n",
    "\n",
    "    for i in range(max_iterations):\n",
    "        delta = 0\n",
    "        for s in range(n):\n",
    "            value = 0\n",
    "            for prob, new_s, r, done in env.P[s][policy[s]]:\n",
    "                value += prob * (r + gamma * v[new_s])\n",
    "            delta = max(delta, abs(v[s] - value))\n",
    "            v[s] = value\n",
    "        if delta <= eps:\n",
    "            break\n",
    "        if i == max_iterations - 1:\n",
    "            print('Compute Policy V hasnt converged')\n",
    "\n",
    "    return v"
   ],
   "execution_count": 105,
   "outputs": []
  },
  {
   "cell_type": "code",
   "metadata": {
    "id": "GVnFwveTaZlW"
   },
   "source": [
    "def policy_iteration(env, gamma = 1.0):\n",
    "    \n",
    "    max_iterations = 100000\n",
    "\n",
    "    policy = np.zeros(env.observation_space.n)\n",
    "    for i in range(max_iterations):\n",
    "        old_policy_v = compute_policy_v(env, policy, gamma)\n",
    "        new_policy = extract_policy(old_policy_v, gamma)\n",
    "        if (np.all(policy == new_policy)):\n",
    "            break\n",
    "        policy = new_policy\n",
    "        if i == max_iterations - 1:\n",
    "            print('Policy iterations hasnt converged')\n",
    "\n",
    "    return policy"
   ],
   "execution_count": 114,
   "outputs": []
  },
  {
   "cell_type": "code",
   "metadata": {
    "id": "arqjrORwaZlX",
    "colab": {
     "base_uri": "https://localhost:8080/",
     "height": 65,
     "referenced_widgets": [
      "f7dc1bb5d3734b09b401382ae6709d10",
      "b2239ec0d77a412d8431cad9b1e429ec",
      "638b9223fd1447169ec9a545f7826dcc",
      "8eaddf56dde64632b6a40fb564008e00",
      "038dc800dd5a4b2d908ab9ce890702c3",
      "2305426b622440ffb425defc81ba1c18",
      "8bb1f7fa98224f8481bfc02d1f74c76e",
      "d7e7886c28d14e7ebcd825abebfbd6fd"
     ]
    },
    "outputId": "82c70223-9130-40a9-dc23-65efef19990a"
   },
   "source": [
    "gamma = 1.0\n",
    "env = gym.make(\"FrozenLake-v0\")\n",
    "optimal_policy = policy_iteration(env.env, gamma=gamma)\n",
    "policy_score = evaluate_policy(env, optimal_policy, gamma, n=100)\n",
    "\n",
    "print(policy_score)"
   ],
   "execution_count": 112,
   "outputs": []
  },
  {
   "cell_type": "code",
   "metadata": {
    "id": "L1h1ZWq8M00u"
   },
   "source": [
    "results = []\n",
    "gammas = np.linspace(0, 1, 20)\n",
    "for gamma in gammas:\n",
    "    env = gym.make(\"FrozenLake-v0\")\n",
    "    optimal_policy = policy_iteration(env.env, gamma=gamma)\n",
    "    policy_score = evaluate_policy(env, optimal_policy, gamma, n=100)\n",
    "\n",
    "    results.append(policy_score)"
   ],
   "execution_count": 119,
   "outputs": []
  },
  {
   "cell_type": "code",
   "metadata": {
    "colab": {
     "base_uri": "https://localhost:8080/",
     "height": 443
    },
    "id": "ljgsZr4kM0lu",
    "outputId": "099235b6-5859-4d03-8001-cad0acc022de"
   },
   "source": [
    "import matplotlib.pyplot as plt\n",
    "plt.figure(figsize=(14,7))\n",
    "plt.scatter(gammas, results) \n"
   ],
   "execution_count": 125,
   "outputs": []
  }
 ]
}
