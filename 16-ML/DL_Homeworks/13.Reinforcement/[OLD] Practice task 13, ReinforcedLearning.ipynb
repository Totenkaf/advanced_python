{
 "cells": [
  {
   "cell_type": "markdown",
   "metadata": {
    "id": "HfF_tjwsiodi"
   },
   "source": [
    "## Семинар 13: \"Обучение с подкреплением\""
   ]
  },
  {
   "cell_type": "markdown",
   "metadata": {
    "id": "BixhGOa7iodm"
   },
   "source": [
    "ФИО: Усцов Артем Алексеевич"
   ]
  },
  {
   "cell_type": "markdown",
   "metadata": {
    "id": "0lq0VMqwiodn"
   },
   "source": [
    "###  FrozenLake\n",
    "\n",
    "\n",
    "<img src=\"http://vignette2.wikia.nocookie.net/riseoftheguardians/images/4/4c/Jack's_little_sister_on_the_ice.jpg/revision/latest?cb=20141218030206\" alt=\"a random image to attract attention\" style=\"width: 400px;\"/>\n",
    "\n"
   ]
  },
  {
   "cell_type": "code",
   "execution_count": 3,
   "metadata": {},
   "source": [
    "# Uncomment and install firstly\n",
    "# !pip3 install gym\n",
    "# !pip3 install pygame"
   ],
   "outputs": []
  },
  {
   "cell_type": "code",
   "execution_count": 17,
   "metadata": {},
   "source": [
    "# Uncomment all and download a game picture\n",
    "# !pip install gdown\n",
    "# import gdown\n",
    "\n",
    "# url = \"https://drive.google.com/uc?id=1oPc4U-JaT2a4DsRCx0fOI4hV130uvBE_\"\n",
    "# output = \"frozen_lake_human_like.jpg\"\n",
    "# gdown.download(url, output)"
   ],
   "outputs": []
  },
  {
   "cell_type": "code",
   "execution_count": 46,
   "metadata": {},
   "source": [
    "from PIL import Image\n",
    "import matplotlib.pyplot as plt\n",
    "%matplotlib inline"
   ],
   "outputs": []
  },
  {
   "cell_type": "code",
   "execution_count": 47,
   "metadata": {},
   "source": [
    "def show(img):\n",
    "    plt.figure(figsize=(6,6))\n",
    "    plt.imshow(img)\n",
    "    plt.axis('off')"
   ],
   "outputs": []
  },
  {
   "cell_type": "code",
   "execution_count": 48,
   "metadata": {},
   "source": [
    "show(Image.open('frozen_lake_human_like.jpg'))"
   ],
   "outputs": []
  },
  {
   "cell_type": "code",
   "execution_count": 49,
   "metadata": {
    "executionInfo": {
     "elapsed": 502,
     "status": "ok",
     "timestamp": 1669914414761,
     "user": {
      "displayName": "Артём Усцов",
      "userId": "16141628694791373514"
     },
     "user_tz": -180
    },
    "id": "D6MBTn73iodo"
   },
   "source": [
    "import gym\n",
    "import numpy as np \n",
    "\n",
    "# create a single game instance\n",
    "# new version is available (so it need version -v1)\n",
    "env = gym.make(\"FrozenLake-v1\", render_mode=\"ansi\")\n",
    "\n",
    "#start new game\n",
    "env.reset();"
   ],
   "outputs": []
  },
  {
   "cell_type": "code",
   "execution_count": 50,
   "metadata": {
    "executionInfo": {
     "elapsed": 3,
     "status": "ok",
     "timestamp": 1669914291702,
     "user": {
      "displayName": "Артём Усцов",
      "userId": "16141628694791373514"
     },
     "user_tz": -180
    },
    "id": "t940cWV2iodp"
   },
   "source": [
    "# display the game state\n",
    "print(env.render())"
   ],
   "outputs": []
  },
  {
   "cell_type": "markdown",
   "metadata": {
    "id": "yxjUAQRxiodq"
   },
   "source": [
    "### legend\n",
    "\n",
    "![img](https://cdn-images-1.medium.com/max/800/1*MCjDzR-wfMMkS0rPqXSmKw.png)"
   ]
  },
  {
   "cell_type": "markdown",
   "metadata": {
    "id": "7DeMX6Yyiodq"
   },
   "source": [
    "### Gym interface\n",
    "\n",
    "The three main methods of an environment are\n",
    "* __reset()__ - reset environment to initial state, _return first observation_\n",
    "* __render()__ - show current environment state (a more colorful version :) )\n",
    "* __step(a)__ - commit action __a__ and return (new observation, reward, is done, info)\n",
    " * _new observation_ - an observation right after commiting the action __a__\n",
    " * _reward_ - a number representing your reward for commiting action __a__\n",
    " * _is done_ - True if the MDP has just finished, False if still in progress\n",
    " * _info_ - some auxilary stuff about what just happened. Ignore it for now"
   ]
  },
  {
   "cell_type": "code",
   "execution_count": 51,
   "metadata": {
    "colab": {
     "base_uri": "https://localhost:8080/"
    },
    "executionInfo": {
     "elapsed": 523,
     "status": "ok",
     "timestamp": 1669914048366,
     "user": {
      "displayName": "Артём Усцов",
      "userId": "16141628694791373514"
     },
     "user_tz": -180
    },
    "id": "O257NhMLiodr",
    "outputId": "2b4004c7-8ff7-4043-eaa6-f3a27972eaaa",
    "scrolled": true
   },
   "source": [
    "print(\"initial observation code:\", env.reset())\n",
    "print('printing observation:')\n",
    "print(env.render())\n",
    "print(\"observations:\", env.observation_space, 'n=', env.observation_space.n)\n",
    "print(\"actions:\", env.action_space, 'n=', env.action_space.n)"
   ],
   "outputs": []
  },
  {
   "cell_type": "code",
   "execution_count": 52,
   "metadata": {
    "colab": {
     "base_uri": "https://localhost:8080/"
    },
    "executionInfo": {
     "elapsed": 558,
     "status": "ok",
     "timestamp": 1669914154185,
     "user": {
      "displayName": "Артём Усцов",
      "userId": "16141628694791373514"
     },
     "user_tz": -180
    },
    "id": "Z3pAK9lpiods",
    "outputId": "cce58f4e-201c-47ab-c398-876a92e2b47c"
   },
   "source": [
    "print(\"taking action 2 (right)\")\n",
    "new_obs, reward, is_done, _, prob = env.step(2)\n",
    "print(\"new observation code:\", new_obs)\n",
    "print(\"reward:\", reward)\n",
    "print(\"is game over?:\", is_done)\n",
    "print(\"printing new state:\")\n",
    "print(env.render())"
   ],
   "outputs": []
  },
  {
   "cell_type": "code",
   "execution_count": 53,
   "metadata": {
    "executionInfo": {
     "elapsed": 469,
     "status": "ok",
     "timestamp": 1669914162427,
     "user": {
      "displayName": "Артём Усцов",
      "userId": "16141628694791373514"
     },
     "user_tz": -180
    },
    "id": "yJpDjBiNiodt"
   },
   "source": [
    "action_to_i = {\n",
    "    'left':0,\n",
    "    'down':1,\n",
    "    'right':2,\n",
    "    'up':3\n",
    "}"
   ],
   "outputs": []
  },
  {
   "cell_type": "markdown",
   "metadata": {
    "id": "stw8DNhSiodt"
   },
   "source": [
    "### Попробуйте походить по замерзшему озеру, не упав в дырку. \n",
    "* Каждый шаг вы с вероятностью __0.5__ будете двигаться в выбранном направлении и с вероятностью __0.5__ в случайном.\n",
    "* Если упадете, используйте __env.reset()__ чтобы перезапустить __env__"
   ]
  },
  {
   "cell_type": "code",
   "execution_count": 57,
   "metadata": {
    "id": "KbDxXlokiodu",
    "outputId": "11cc9909-0924-43eb-8bba-3993ae3951c2"
   },
   "source": [
    "env.reset()\n",
    "print(env.render())\n",
    "new_obs, reward, is_done, _, prob = env.step(2)\n",
    "print(\"new observation code:\", new_obs)"
   ],
   "outputs": []
  },
  {
   "cell_type": "code",
   "execution_count": 58,
   "metadata": {
    "id": "uTx_ekjeiodu",
    "outputId": "0354e77f-5cee-4232-cf58-1092648bbc48"
   },
   "source": [
    "strategy = {...}"
   ],
   "outputs": []
  },
  {
   "cell_type": "code",
   "execution_count": 59,
   "metadata": {
    "id": "8GeJ_jqziodu"
   },
   "source": [
    "for i_episode in range(2):\n",
    "    observation = env.reset()\n",
    "    next_step = action_to_i['right']\n",
    "    for t in range(10):\n",
    "        print(env.render())\n",
    "        print(observation)\n",
    "        observation, reward, done, info, prob = env.step(next_step)\n",
    "        if done:\n",
    "            print(\"Episode finished after {} timesteps\".format(t+1))\n",
    "            break\n",
    "        if next_step % 4 == 3:\n",
    "            next_step = action_to_i['down']\n",
    "        \n",
    "#env.close()"
   ],
   "outputs": []
  },
  {
   "cell_type": "markdown",
   "metadata": {
    "id": "tK9AVj9oiodv"
   },
   "source": [
    "## Задание: \n",
    "Следуя шаблонам функций реализуйте алгоритм Policy iteration.\n",
    "Протестируйте его с помощью функции __evaluate_policy__.\n",
    "Попробуйте разные значение для gamma и сравните результаты."
   ]
  },
  {
   "cell_type": "code",
   "execution_count": 131,
   "metadata": {
    "id": "F_VMoRzziodv"
   },
   "source": [
    "import numpy as np\n",
    "from tqdm.notebook import tqdm as tqdm"
   ],
   "outputs": []
  },
  {
   "cell_type": "code",
   "execution_count": 132,
   "metadata": {
    "id": "9AhyrPUviodv"
   },
   "source": [
    "def run_episode(env, policy, gamma=1.0, render=False):\n",
    "    obs = env.reset()[0]\n",
    "    total_reward = 0\n",
    "    step_idx = 0\n",
    "    while True:\n",
    "        if render:\n",
    "            print(env.render())\n",
    "        obs, reward, done , _, prob = env.step(int(policy[obs]))\n",
    "        total_reward += (gamma ** step_idx * reward)\n",
    "        step_idx += 1\n",
    "        if done:\n",
    "            break\n",
    "    return total_reward"
   ],
   "outputs": []
  },
  {
   "cell_type": "code",
   "execution_count": 133,
   "metadata": {
    "id": "NMJ2cAtxiodw"
   },
   "source": [
    "def evaluate_policy(env, policy, gamma=1.0, n=100):\n",
    "    scores = [\n",
    "            run_episode(env, policy, gamma = gamma, render = False)\n",
    "            for _ in range(n)]\n",
    "    return np.mean(scores)"
   ],
   "outputs": []
  },
  {
   "cell_type": "code",
   "execution_count": 134,
   "metadata": {
    "id": "jPilO42Piodw"
   },
   "source": [
    "# Используя фиксированную value_function и жадную стратегию получите policy\n",
    "\n",
    "ACTIONS_NUM = 4\n",
    "def extract_policy(v, gamma=1.0, max_iteration=10000):\n",
    "    n = v.size\n",
    "    policy = np.zeros(n)\n",
    "\n",
    "    for i in range(max_iteration):\n",
    "        policy_stable = True\n",
    "        for s in range(n):\n",
    "            values = []\n",
    "            cur_best_step = policy[s]\n",
    "            for action in range(ACTIONS_NUM):\n",
    "                value = 0\n",
    "                for prob, new_s, r, done in env.P[s][action]:\n",
    "                    value += prob * (r + gamma * v[new_s])\n",
    "                values.append( value )\n",
    "\n",
    "            best_step = np.argmax(values)\n",
    "            if best_step != cur_best_step:\n",
    "                policy_stable = False\n",
    "\n",
    "            policy[s] = best_step\n",
    "        \n",
    "        if policy_stable:\n",
    "            break\n",
    "\n",
    "    return policy"
   ],
   "outputs": []
  },
  {
   "cell_type": "code",
   "execution_count": 135,
   "metadata": {
    "id": "2qh5cvY1iodw"
   },
   "source": [
    "# Используя фиксированную policy с помощью сэмплирования получите оценку для value_function с точностью 1e-10\n",
    "\n",
    "\n",
    "def compute_policy_v(env, policy, gamma=1.0, max_iterations=10000, eps=1e-10):\n",
    "    n = env.observation_space.n\n",
    "    v = np.zeros( n )\n",
    "\n",
    "    for i in range(max_iterations):\n",
    "        delta = 0\n",
    "        for s in range(n):\n",
    "            value = 0\n",
    "            for prob, new_s, r, done in env.P[s][policy[s]]:\n",
    "                value += prob * (r + gamma * v[new_s])\n",
    "            delta = max(delta, abs(v[s] - value))\n",
    "            v[s] = value\n",
    "        if delta <= eps:\n",
    "            break\n",
    "        if i == max_iterations - 1:\n",
    "            print(\"Compute Policy V hasn't converged\")\n",
    "\n",
    "    return v"
   ],
   "outputs": []
  },
  {
   "cell_type": "code",
   "execution_count": 136,
   "metadata": {
    "id": "3PSGGpoiiodw"
   },
   "source": [
    "def policy_iteration(env, gamma=1.0, max_iterations=100000):\n",
    "    \n",
    "    policy = np.zeros(env.observation_space.n)\n",
    "    for i in range(max_iterations):\n",
    "        old_policy_v = compute_policy_v(env, policy, gamma)\n",
    "        new_policy = extract_policy(old_policy_v, gamma)\n",
    "        if (np.all(policy == new_policy)):\n",
    "            break\n",
    "        policy = new_policy\n",
    "        if i == max_iterations - 1:\n",
    "            print(\"Policy iterations hasn't converged\")\n",
    "\n",
    "    return policy"
   ],
   "outputs": []
  },
  {
   "cell_type": "code",
   "execution_count": 137,
   "metadata": {
    "id": "uNqenRnriodx"
   },
   "source": [
    "gamma = 1.0\n",
    "env = gym.make(\"FrozenLake-v1\", render_mode=\"ansi\")\n",
    "optimal_policy = policy_iteration(env.env, gamma=gamma, max_iterations=100000)\n",
    "policy_score = evaluate_policy(env, optimal_policy, gamma, n=100)\n",
    "\n",
    "print(policy_score)"
   ],
   "outputs": []
  },
  {
   "cell_type": "code",
   "execution_count": 143,
   "metadata": {
    "id": "Dm6Y3Kc4iodx"
   },
   "source": [
    "policy_scores = []\n",
    "gammas = np.linspace(0, 1, 50)\n",
    "for gamma in gammas:\n",
    "    env = gym.make(\"FrozenLake-v1\", render_mode=\"ansi\")\n",
    "    optimal_policy = policy_iteration(env.env, gamma=gamma)\n",
    "    policy_score = evaluate_policy(env, optimal_policy, gamma, n=100)\n",
    "    policy_scores.append(policy_score)"
   ],
   "outputs": []
  },
  {
   "cell_type": "code",
   "execution_count": 144,
   "metadata": {
    "id": "6OPohbWyiodx"
   },
   "source": [
    "plt.figure(figsize=(5,5))\n",
    "plt.scatter(gammas, policy_scores)\n",
    "plt.xlabel('Gamma')\n",
    "plt.ylabel('Policy Score')\n",
    "plt.grid(True) "
   ],
   "outputs": []
  },
  {
   "cell_type": "code",
   "execution_count": null,
   "metadata": {
    "id": "NarPgIrLiodx"
   },
   "source": [],
   "outputs": []
  }
 ],
 "metadata": {
  "accelerator": "GPU",
  "colab": {
   "provenance": []
  },
  "gpuClass": "standard",
  "kernelspec": {
   "display_name": "Python 3 (ipykernel)",
   "language": "python",
   "name": "python3"
  },
  "language_info": {
   "codemirror_mode": {
    "name": "ipython",
    "version": 3
   },
   "file_extension": ".py",
   "mimetype": "text/x-python",
   "name": "python",
   "nbconvert_exporter": "python",
   "pygments_lexer": "ipython3",
   "version": "3.10.7"
  }
 },
 "nbformat": 4,
 "nbformat_minor": 1
}
