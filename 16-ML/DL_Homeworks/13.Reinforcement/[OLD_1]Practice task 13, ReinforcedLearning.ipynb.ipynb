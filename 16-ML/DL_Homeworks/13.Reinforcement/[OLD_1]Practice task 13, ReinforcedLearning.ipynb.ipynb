{
 "cells": [
  {
   "cell_type": "markdown",
   "id": "3801d352",
   "metadata": {
    "id": "3801d352"
   },
   "source": [
    "## Домашнее задание : \"Обучение с подкреплением\""
   ]
  },
  {
   "cell_type": "markdown",
   "id": "e0c3d037",
   "metadata": {
    "id": "e0c3d037"
   },
   "source": [
    "ФИО: Усцов Артем Алеексеевич"
   ]
  },
  {
   "cell_type": "markdown",
   "id": "9528f5be",
   "metadata": {
    "id": "9528f5be"
   },
   "source": [
    "# Задание 1\n",
    "\n",
    "Обучите алгоритм Q-learning для сред FrozenLake-v1 и Blackjack-v1, в частности подберите оптимальную alpha. (1 балл)"
   ]
  },
  {
   "cell_type": "code",
   "source": [
    "!pip uninstall gym -y\n",
    "!pip install gym\n",
    "!pip uninstall ale-py -y\n",
    "!pip install ale-py\n",
    "!pip install \"gym[toy_text]\""
   ],
   "metadata": {
    "colab": {
     "base_uri": "https://localhost:8080/"
    },
    "id": "PNhkDRWmMQrS",
    "executionInfo": {
     "status": "ok",
     "timestamp": 1670713265290,
     "user_tz": -180,
     "elapsed": 29623,
     "user": {
      "displayName": "Артём Усцов",
      "userId": "16141628694791373514"
     }
    },
    "outputId": "f46e115f-e90e-48c1-8070-3dc05fe8f8d5"
   },
   "id": "PNhkDRWmMQrS",
   "execution_count": 1,
   "outputs": []
  },
  {
   "cell_type": "code",
   "source": [
    "import matplotlib.pyplot as plt\n",
    "import os\n",
    "os.environ[\"SDL_VIDEODRIVER\"] = \"dummy\"\n",
    "from IPython.display import clear_output\n",
    "\n",
    "import gym\n",
    "import numpy as np \n",
    "from gym.envs.toy_text.frozen_lake import generate_random_map\n",
    "import numpy as np \n",
    "import random\n",
    "\n",
    "import ale_py\n",
    "\n",
    "import itertools\n",
    "from tqdm.notebook import tqdm\n",
    "\n",
    "#create a single game instance\n",
    "env = gym.make(\"FrozenLake-v1\", map_name=\"8x8\", render_mode=\"rgb_array\", is_slippery=True)\n",
    "\n",
    "#start new game\n",
    "env.reset()"
   ],
   "metadata": {
    "colab": {
     "base_uri": "https://localhost:8080/"
    },
    "id": "jiQGYnQ7MRGC",
    "executionInfo": {
     "status": "ok",
     "timestamp": 1670713279893,
     "user_tz": -180,
     "elapsed": 350,
     "user": {
      "displayName": "Артём Усцов",
      "userId": "16141628694791373514"
     }
    },
    "outputId": "96e698c7-70ec-4b25-ce7f-db4cbf4b0b36"
   },
   "id": "jiQGYnQ7MRGC",
   "execution_count": 3,
   "outputs": []
  },
  {
   "cell_type": "code",
   "source": [
    "# display the game state\n",
    "plt.imshow(env.render())"
   ],
   "metadata": {
    "colab": {
     "base_uri": "https://localhost:8080/",
     "height": 286
    },
    "id": "zOcKVV0yMRbh",
    "executionInfo": {
     "status": "ok",
     "timestamp": 1670713291647,
     "user_tz": -180,
     "elapsed": 1046,
     "user": {
      "displayName": "Артём Усцов",
      "userId": "16141628694791373514"
     }
    },
    "outputId": "e2a2b2d5-4435-48f3-a59f-1ccaa718e0ed"
   },
   "id": "zOcKVV0yMRbh",
   "execution_count": 5,
   "outputs": []
  },
  {
   "cell_type": "code",
   "source": [
    "class QLearn:\n",
    "    def __init__(self, actions, epsilon=0.1, alpha=0.2, gamma=0.9):\n",
    "        self.q = {}\n",
    "        self.epsilon = epsilon\n",
    "        self.alpha = alpha\n",
    "        self.gamma = gamma\n",
    "        self.actions = actions\n",
    "\n",
    "    def getQ(self, state, action):\n",
    "        return self.q.get((state, action), 0.0)\n",
    "\n",
    "    def learnQ(self, state, action, reward, value):\n",
    "        oldv = self.q.get((state, action), None)\n",
    "\n",
    "        if oldv is None:\n",
    "            self.q[(state, action)] = reward\n",
    "        else:\n",
    "            self.q[(state, action)] = oldv + self.alpha * (value - oldv)\n",
    "\n",
    "    def chooseAction(self, state):\n",
    "        if random.random() < self.epsilon:\n",
    "            action = random.choice(self.actions)\n",
    "        else:\n",
    "            q = [self.getQ(state, a) for a in self.actions]\n",
    "            maxQ = max(q)\n",
    "            count = q.count(maxQ)\n",
    "            if count > 1:\n",
    "                best = [i for i in range(len(self.actions)) if q[i] == maxQ]\n",
    "                i = random.choice(best)\n",
    "            else:\n",
    "                i = q.index(maxQ)\n",
    "\n",
    "            action = self.actions[i]\n",
    "        return action\n",
    "\n",
    "    def learn(self, state1, action1, reward, state2):\n",
    "        maxqnew = max([self.getQ(state2, a) for a in self.actions])\n",
    "        self.learnQ(state1, action1, reward, reward + self.gamma*maxqnew)"
   ],
   "metadata": {
    "id": "Wy-OFHh3MRhx"
   },
   "id": "Wy-OFHh3MRhx",
   "execution_count": null,
   "outputs": []
  },
  {
   "cell_type": "code",
   "source": [
    "def run_episode_qlearn_learn(env, qlearn, gamma = 1.0, render = False):\n",
    "    obs = env.reset()\n",
    "    total_reward = 0\n",
    "    step_idx = 0\n",
    "    while True:\n",
    "        if render:\n",
    "            env.render()\n",
    "        action = qlearn.chooseAction(obs)\n",
    "        obs_new, reward, done, _, __ = env.step(action)\n",
    "        qlearn.learn(obs, action, reward, obs_new)\n",
    "        obs = obs_new\n",
    "        total_reward += (gamma ** step_idx * reward)\n",
    "        step_idx += 1\n",
    "        if done:\n",
    "            break\n",
    "    return total_reward"
   ],
   "metadata": {
    "id": "G9Rd7wJYMRmc"
   },
   "id": "G9Rd7wJYMRmc",
   "execution_count": null,
   "outputs": []
  },
  {
   "cell_type": "code",
   "source": [
    "def run_episode_qlearn(env, qlearn, gamma = 1.0, render = False):\n",
    "    obs = env.reset()\n",
    "    total_reward = 0\n",
    "    step_idx = 0\n",
    "    while True:\n",
    "        if render:\n",
    "            env.render()\n",
    "        action = qlearn.chooseAction(obs)\n",
    "        obs_new, reward, done, _, __ = env.step(action)\n",
    "        obs = obs_new\n",
    "        total_reward += (gamma ** step_idx * reward)\n",
    "        step_idx += 1\n",
    "        if done:\n",
    "            break\n",
    "    return total_reward"
   ],
   "metadata": {
    "id": "8gz-5AiINkBr"
   },
   "id": "8gz-5AiINkBr",
   "execution_count": null,
   "outputs": []
  },
  {
   "cell_type": "code",
   "source": [
    "def evaluate_qlearn(env, qlearn, gamma = 1.0, n = 100):\n",
    "    scores = [\n",
    "            run_episode_qlearn(env, qlearn, gamma = gamma, render = False)\n",
    "            for _ in range(n)]\n",
    "    return np.mean(scores)"
   ],
   "metadata": {
    "id": "UshfnXgSNkX5"
   },
   "id": "UshfnXgSNkX5",
   "execution_count": null,
   "outputs": []
  },
  {
   "cell_type": "code",
   "source": [
    "def qlearning(env, qlearn, gamma = 1.0, render = False, n_epochs=10, verbose=False):\n",
    "    for epoch in range(n_epochs):\n",
    "        total_reward = run_episode_qlearn(env, qlearn, gamma, render)\n",
    "        if verbose and epoch % 100 == 0:\n",
    "            print(f'reward {total_reward} for {epoch} epochs')"
   ],
   "metadata": {
    "id": "S2hiz1p8Nken"
   },
   "id": "S2hiz1p8Nken",
   "execution_count": null,
   "outputs": []
  },
  {
   "cell_type": "code",
   "source": [
    "gamma = 1.0\n",
    "n_epochs = 1000\n",
    "epsilon = 0.21 # 0.1\n",
    "alpha = 0.89 # 0.2"
   ],
   "metadata": {
    "id": "z2xTG8ooNkjP"
   },
   "id": "z2xTG8ooNkjP",
   "execution_count": null,
   "outputs": []
  },
  {
   "cell_type": "code",
   "source": [
    "env.unwrapped.action_space.n"
   ],
   "metadata": {
    "colab": {
     "base_uri": "https://localhost:8080/"
    },
    "id": "-SxKT-e3OcL-",
    "executionInfo": {
     "status": "ok",
     "timestamp": 1670710246346,
     "user_tz": -180,
     "elapsed": 3,
     "user": {
      "displayName": "Артём Усцов",
      "userId": "16141628694791373514"
     }
    },
    "outputId": "45ea22e4-565c-47c8-a541-9614ce33dc34"
   },
   "id": "-SxKT-e3OcL-",
   "execution_count": null,
   "outputs": []
  },
  {
   "cell_type": "code",
   "source": [
    "env.reset()"
   ],
   "metadata": {
    "colab": {
     "base_uri": "https://localhost:8080/"
    },
    "id": "UUUpP0T5RgF8",
    "executionInfo": {
     "status": "ok",
     "timestamp": 1670710247554,
     "user_tz": -180,
     "elapsed": 3,
     "user": {
      "displayName": "Артём Усцов",
      "userId": "16141628694791373514"
     }
    },
    "outputId": "db8ae23f-ccef-452a-e297-defdcb312166"
   },
   "id": "UUUpP0T5RgF8",
   "execution_count": null,
   "outputs": []
  },
  {
   "cell_type": "code",
   "source": [
    "results = []\n",
    "for gamma, epsilon, alpha in tqdm(itertools.product( np.linspace(0, 1.0, 5), np.linspace(0, 1.0, 20), np.linspace(0, 1.0, 20) )):\n",
    "    qlearn = QLearn(actions=range(env.unwrapped.action_space.n), gamma=gamma, epsilon=epsilon, alpha=alpha)\n",
    "    env = gym.make(\"FrozenLake-v1\", new_step_api=True)\n",
    "    qlearning(env.env, qlearn, gamma, render=False, n_epochs=n_epochs)\n",
    "    q_score = evaluate_qlearn(env, qlearn, gamma = gamma, n = 100)\n",
    "    results.append([q_score, gamma, epsilon, alpha])"
   ],
   "metadata": {
    "colab": {
     "base_uri": "https://localhost:8080/",
     "height": 49,
     "referenced_widgets": [
      "05889910cbda4fcc9d70cb1ade7ffa48",
      "e4e7a0f181bd4a86b133a772ac35a7df",
      "36e7e2d589eb47afb8f188620766e070",
      "4ca61aea8ef24a7fa6b959cda964e67b",
      "7f8c9e2754754a1db1825a871ad263df",
      "5e2382d0add1422fa828e0d06f1b80dc",
      "c42f2d9c8d2443a1ac2c0aed2a1ec011",
      "9b0569d76752482699a61a46976311ab",
      "66f43d13e9014efdb37c00dbd4b7bb85",
      "e4d8982c77cc420f8174b62e9801fbd4",
      "3ee8e992b549471f8b734e640f9ee13a"
     ]
    },
    "id": "Ox49tDCHNknT",
    "executionInfo": {
     "status": "ok",
     "timestamp": 1670710709787,
     "user_tz": -180,
     "elapsed": 426956,
     "user": {
      "displayName": "Артём Усцов",
      "userId": "16141628694791373514"
     }
    },
    "outputId": "c2057a72-b2ab-45c6-881c-014c611f459a"
   },
   "id": "Ox49tDCHNknT",
   "execution_count": null,
   "outputs": []
  },
  {
   "cell_type": "code",
   "source": [
    "sorted(results, reverse=True)[:15]"
   ],
   "metadata": {
    "colab": {
     "base_uri": "https://localhost:8080/"
    },
    "id": "2_syNTI_UxhI",
    "executionInfo": {
     "status": "ok",
     "timestamp": 1670710722450,
     "user_tz": -180,
     "elapsed": 298,
     "user": {
      "displayName": "Артём Усцов",
      "userId": "16141628694791373514"
     }
    },
    "outputId": "7687d096-a03a-4fba-949d-3a3b113023a8"
   },
   "id": "2_syNTI_UxhI",
   "execution_count": null,
   "outputs": []
  },
  {
   "cell_type": "code",
   "source": [
    "gamma = 1.0\n",
    "n_epochs = 1000\n",
    "\n",
    "epsilon = 0.315\n",
    "alpha = 0.263"
   ],
   "metadata": {
    "id": "EQ37F5rDHz7L"
   },
   "id": "EQ37F5rDHz7L",
   "execution_count": null,
   "outputs": []
  },
  {
   "cell_type": "code",
   "source": [
    "qlearn = QLearn(actions=range(env.unwrapped.action_space.n), gamma=gamma, epsilon=epsilon, alpha=alpha)\n",
    "env = gym.make(\"FrozenLake-v1\", new_step_api=True)\n",
    "qlearning(env.env, qlearn, gamma, render=False, n_epochs=n_epochs)\n",
    "q_score = evaluate_qlearn(env, qlearn, gamma = gamma, n = 100)\n",
    "q_score"
   ],
   "metadata": {
    "colab": {
     "base_uri": "https://localhost:8080/"
    },
    "id": "VFMUfLTHH2dF",
    "executionInfo": {
     "status": "ok",
     "timestamp": 1670711718678,
     "user_tz": -180,
     "elapsed": 990,
     "user": {
      "displayName": "Артём Усцов",
      "userId": "16141628694791373514"
     }
    },
    "outputId": "dc142c15-0e32-4ce5-cd92-14a58077ef45"
   },
   "id": "VFMUfLTHH2dF",
   "execution_count": null,
   "outputs": []
  },
  {
   "cell_type": "code",
   "source": [
    "env.reset()\n",
    "\n",
    "#create a single game instance\n",
    "env = gym.make(\"Blackjack-v1\", render_mode=\"rgb_array\")\n",
    "\n",
    "#start new game\n",
    "env.reset()"
   ],
   "metadata": {
    "colab": {
     "base_uri": "https://localhost:8080/"
    },
    "id": "_999q6JrUiPA",
    "executionInfo": {
     "status": "ok",
     "timestamp": 1670713314990,
     "user_tz": -180,
     "elapsed": 3,
     "user": {
      "displayName": "Артём Усцов",
      "userId": "16141628694791373514"
     }
    },
    "outputId": "5c240d9d-e114-4ba6-8298-6a6302232fb0"
   },
   "id": "_999q6JrUiPA",
   "execution_count": 7,
   "outputs": []
  },
  {
   "cell_type": "code",
   "source": [
    "# display the game state\n",
    "plt.imshow(env.render())"
   ],
   "metadata": {
    "colab": {
     "base_uri": "https://localhost:8080/",
     "height": 286
    },
    "id": "kmcjp6K8UiHw",
    "executionInfo": {
     "status": "ok",
     "timestamp": 1670713320563,
     "user_tz": -180,
     "elapsed": 591,
     "user": {
      "displayName": "Артём Усцов",
      "userId": "16141628694791373514"
     }
    },
    "outputId": "8f5937d1-6b9e-463b-8a8a-d56593c2b880"
   },
   "id": "kmcjp6K8UiHw",
   "execution_count": 8,
   "outputs": []
  },
  {
   "cell_type": "code",
   "source": [
    "results = []\n",
    "for gamma, epsilon, alpha in tqdm(itertools.product( np.linspace(0, 1.0, 5), np.linspace(0, 1.0, 20), np.linspace(0, 1.0, 20) )):\n",
    "    qlearn = QLearn(actions=range(env.unwrapped.action_space.n), gamma=gamma, epsilon=epsilon, alpha=alpha)\n",
    "    env = gym.make(\"Blackjack-v1\", new_step_api=True)\n",
    "    qlearning(env.env, qlearn, gamma, render=False, n_epochs=n_epochs)\n",
    "    q_score = evaluate_qlearn(env, qlearn, gamma = gamma, n = 100)\n",
    "    results.append([q_score, gamma, epsilon, alpha])"
   ],
   "metadata": {
    "colab": {
     "base_uri": "https://localhost:8080/",
     "height": 49,
     "referenced_widgets": [
      "fbcdfe8fc7934c2ba6696d4e03fcce84",
      "b5a0e41052714088a10b10cdba4768ba",
      "a9dff3ea141b4860af4308bbce9736b5",
      "e8479d50570d42268607206734b4b360",
      "44e5a8992cab44198ac87eaa97d89836",
      "23bdd3f1ab0f45b195d90241c0332373",
      "315fddd66bfe4c1dbba62a8dfc22a8e1",
      "bb71e29885c24e84a99d7eb84411367d",
      "203c8935bf984113bf84610542af06df",
      "e96a46a8043f49ef91991f1571dd3837",
      "e67e00861f6f434fa61fc8c5caebd066"
     ]
    },
    "id": "7DPwSDiUNt6p",
    "executionInfo": {
     "status": "ok",
     "timestamp": 1670711217582,
     "user_tz": -180,
     "elapsed": 326579,
     "user": {
      "displayName": "Артём Усцов",
      "userId": "16141628694791373514"
     }
    },
    "outputId": "cc4e1355-43a4-4f75-b651-b06274d4575e"
   },
   "id": "7DPwSDiUNt6p",
   "execution_count": null,
   "outputs": []
  },
  {
   "cell_type": "code",
   "source": [
    "sorted(results, reverse=True)[:15]"
   ],
   "metadata": {
    "colab": {
     "base_uri": "https://localhost:8080/"
    },
    "id": "iQ3xrMPdNuA2",
    "executionInfo": {
     "status": "ok",
     "timestamp": 1670711751799,
     "user_tz": -180,
     "elapsed": 255,
     "user": {
      "displayName": "Артём Усцов",
      "userId": "16141628694791373514"
     }
    },
    "outputId": "e73768fa-f10c-4adf-f033-d57a055755d7"
   },
   "id": "iQ3xrMPdNuA2",
   "execution_count": null,
   "outputs": []
  },
  {
   "cell_type": "code",
   "source": [
    "gamma = 1.0\n",
    "n_epochs = 1000\n",
    "\n",
    "epsilon = 0.737\n",
    "alpha = 0.631"
   ],
   "metadata": {
    "id": "xhT9jsnKISPB"
   },
   "id": "xhT9jsnKISPB",
   "execution_count": null,
   "outputs": []
  },
  {
   "cell_type": "code",
   "source": [
    "env.reset()"
   ],
   "metadata": {
    "colab": {
     "base_uri": "https://localhost:8080/"
    },
    "id": "NdNe1xJCLuEj",
    "executionInfo": {
     "status": "ok",
     "timestamp": 1670711815803,
     "user_tz": -180,
     "elapsed": 339,
     "user": {
      "displayName": "Артём Усцов",
      "userId": "16141628694791373514"
     }
    },
    "outputId": "f4a725f3-61a2-4e49-d35f-78dcfaad6d28"
   },
   "id": "NdNe1xJCLuEj",
   "execution_count": null,
   "outputs": []
  },
  {
   "cell_type": "code",
   "source": [
    "qlearn = QLearn(actions=range(env.unwrapped.action_space.n), gamma=gamma, epsilon=epsilon, alpha=alpha)\n",
    "env = gym.make(\"Blackjack-v1\", new_step_api=True)\n",
    "qlearning(env.env, qlearn, gamma, render=False, n_epochs=n_epochs)\n",
    "q_score = evaluate_qlearn(env, qlearn, gamma = gamma, n = 100)\n",
    "q_score"
   ],
   "metadata": {
    "colab": {
     "base_uri": "https://localhost:8080/"
    },
    "id": "hL7FdNbEIXoh",
    "executionInfo": {
     "status": "ok",
     "timestamp": 1670711835964,
     "user_tz": -180,
     "elapsed": 350,
     "user": {
      "displayName": "Артём Усцов",
      "userId": "16141628694791373514"
     }
    },
    "outputId": "be9c47c2-f872-41ed-e1ec-005cb60716f5"
   },
   "id": "hL7FdNbEIXoh",
   "execution_count": null,
   "outputs": []
  },
  {
   "cell_type": "markdown",
   "id": "89eab25f",
   "metadata": {
    "id": "89eab25f"
   },
   "source": [
    "# Задание 2\n",
    "\n",
    "Обучите алгоритм Policy Gradients (или Actor Critic) для среды https://www.gymlibrary.dev/environments/atari/breakout/ . Продемонстрируйте, что для обученного агента растет время игры. (2 балла)"
   ]
  },
  {
   "cell_type": "code",
   "execution_count": 17,
   "id": "0fd0b061",
   "metadata": {
    "id": "0fd0b061",
    "executionInfo": {
     "status": "ok",
     "timestamp": 1670713493456,
     "user_tz": -180,
     "elapsed": 252,
     "user": {
      "displayName": "Артём Усцов",
      "userId": "16141628694791373514"
     }
    }
   },
   "source": [
    "def run_episode(env, policy, gamma = 1.0, render = False):\n",
    "    obs = env.reset()[0]\n",
    "    total_reward = 0\n",
    "    step_idx = 0\n",
    "    #reward = 0\n",
    "    while True:\n",
    "        if render:\n",
    "            env.render()\n",
    "        obs, reward, done , _, _ = env.step(int(policy[obs]))\n",
    "\n",
    "        total_reward += (gamma ** step_idx * reward)\n",
    "        step_idx += 1\n",
    "        if done:\n",
    "            break\n",
    "    return total_reward"
   ],
   "outputs": []
  },
  {
   "cell_type": "code",
   "source": [
    "def evaluate_policy(env, policy, gamma = 1.0,  n = 100):\n",
    "    scores = [\n",
    "            run_episode(env, policy, gamma = gamma, render = False)\n",
    "            for _ in range(n)]\n",
    "    return np.mean(scores)"
   ],
   "metadata": {
    "id": "tfeQbDyMT8dc",
    "executionInfo": {
     "status": "ok",
     "timestamp": 1670713493853,
     "user_tz": -180,
     "elapsed": 2,
     "user": {
      "displayName": "Артём Усцов",
      "userId": "16141628694791373514"
     }
    }
   },
   "id": "tfeQbDyMT8dc",
   "execution_count": 18,
   "outputs": []
  },
  {
   "cell_type": "code",
   "source": [
    "def extract_policy(v, gamma = 1.0):\n",
    "    policy = np.zeros(env.observation_space.n)\n",
    "    q = np.zeros((env.observation_space.n, env.action_space.n))\n",
    "    for S in env.env.P.keys():\n",
    "        for a in env.env.P[S].keys():\n",
    "            for p, s, r, _ in env.env.P[S][a]:\n",
    "                q[S, a] += p * r + p * gamma * v[s]\n",
    "        policy[S] = np.argmax(q[S, :])\n",
    "    return policy"
   ],
   "metadata": {
    "id": "p1XtLi2JT82Q",
    "executionInfo": {
     "status": "ok",
     "timestamp": 1670714042579,
     "user_tz": -180,
     "elapsed": 2,
     "user": {
      "displayName": "Артём Усцов",
      "userId": "16141628694791373514"
     }
    }
   },
   "id": "p1XtLi2JT82Q",
   "execution_count": 48,
   "outputs": []
  },
  {
   "cell_type": "code",
   "source": [
    "def compute_policy_v(env, policy, gamma=1.0):\n",
    "    v_cur = np.zeros(env.observation_space.shape[0])\n",
    "    while True:\n",
    "        v_prev = v_cur.copy()\n",
    "        for S in range(env.observation_space.shape[0]):\n",
    "            v_cur[S] = np.sum([p * (r + gamma * v_prev[s]) \n",
    "                               for p, s, r, _ in env.env.P[S][policy[S]]])\n",
    "        if np.linalg.norm(v_cur - v_prev) < 1e-10:\n",
    "            break\n",
    "    return v_cur"
   ],
   "metadata": {
    "id": "vvGXyjO1T88g",
    "executionInfo": {
     "status": "ok",
     "timestamp": 1670714042945,
     "user_tz": -180,
     "elapsed": 2,
     "user": {
      "displayName": "Артём Усцов",
      "userId": "16141628694791373514"
     }
    }
   },
   "id": "vvGXyjO1T88g",
   "execution_count": 49,
   "outputs": []
  },
  {
   "cell_type": "code",
   "source": [
    "def policy_iteration(env, gamma = 1.0):\n",
    "    policy = np.random.choice(np.arange(env.action_space.n), env.observation_space.shape[0])\n",
    "    max_iterations = 1000\n",
    "    \n",
    "    for i in range(max_iterations):\n",
    "        old_policy_v = compute_policy_v(env, policy, gamma)\n",
    "        new_policy = extract_policy(old_policy_v, gamma)\n",
    "        if (np.all(policy == new_policy)):\n",
    "            break\n",
    "\n",
    "        policy = new_policy\n",
    "    return policy"
   ],
   "metadata": {
    "id": "s_NZFGiMUCKG",
    "executionInfo": {
     "status": "ok",
     "timestamp": 1670714043262,
     "user_tz": -180,
     "elapsed": 4,
     "user": {
      "displayName": "Артём Усцов",
      "userId": "16141628694791373514"
     }
    }
   },
   "id": "s_NZFGiMUCKG",
   "execution_count": 50,
   "outputs": []
  },
  {
   "cell_type": "code",
   "source": [
    "gamma = 1.0\n",
    "env = gym.make(\"Breakout-v4\")\n",
    "optimal_policy = policy_iteration(env.env, gamma=gamma)\n",
    "policy_score = evaluate_policy(env, optimal_policy, gamma, n=100)\n",
    "\n",
    "print(policy_score)"
   ],
   "metadata": {
    "colab": {
     "base_uri": "https://localhost:8080/",
     "height": 380
    },
    "id": "u1VKnIx9UChi",
    "executionInfo": {
     "status": "error",
     "timestamp": 1670714043724,
     "user_tz": -180,
     "elapsed": 465,
     "user": {
      "displayName": "Артём Усцов",
      "userId": "16141628694791373514"
     }
    },
    "outputId": "249c91bf-2fc4-4974-bfef-ba74aa945552"
   },
   "id": "u1VKnIx9UChi",
   "execution_count": 51,
   "outputs": []
  },
  {
   "cell_type": "code",
   "source": [
    "dir(env.unwrapped.P)"
   ],
   "metadata": {
    "colab": {
     "base_uri": "https://localhost:8080/",
     "height": 165
    },
    "id": "AiCY5Cl7QC3G",
    "executionInfo": {
     "status": "error",
     "timestamp": 1670713983377,
     "user_tz": -180,
     "elapsed": 5,
     "user": {
      "displayName": "Артём Усцов",
      "userId": "16141628694791373514"
     }
    },
    "outputId": "644b7a12-e255-4a45-cc40-4f33ef7980a5"
   },
   "id": "AiCY5Cl7QC3G",
   "execution_count": 47,
   "outputs": []
  },
  {
   "cell_type": "code",
   "source": [
    "policy_scores = []\n",
    "gammas = np.linspace(0, 1, 20)\n",
    "for gamma in gammas:\n",
    "    env = gym.make(\"ALE/Breakout-v5\", render_mode=\"ansi\")\n",
    "    optimal_policy = policy_iteration(env.env, gamma=gamma)\n",
    "    policy_score = evaluate_policy(env, optimal_policy, gamma, n=100)\n",
    "\n",
    "    policy_scores.append(policy_score)"
   ],
   "metadata": {
    "colab": {
     "base_uri": "https://localhost:8080/",
     "height": 380
    },
    "id": "h4a2Nb2SUIPt",
    "executionInfo": {
     "status": "error",
     "timestamp": 1670711845045,
     "user_tz": -180,
     "elapsed": 3,
     "user": {
      "displayName": "Артём Усцов",
      "userId": "16141628694791373514"
     }
    },
    "outputId": "abe74e0f-844d-49fc-d5a4-616ccaca87ad"
   },
   "id": "h4a2Nb2SUIPt",
   "execution_count": null,
   "outputs": []
  },
  {
   "cell_type": "code",
   "source": [
    "plt.figure(figsize=(5,5))\n",
    "plt.scatter(gammas, policy_scores)\n",
    "plt.xlabel('Gamma')\n",
    "plt.ylabel('Policy Score')\n",
    "plt.grid(True) "
   ],
   "metadata": {
    "id": "BG_f0WY1UIZr"
   },
   "id": "BG_f0WY1UIZr",
   "execution_count": null,
   "outputs": []
  },
  {
   "cell_type": "code",
   "source": [],
   "metadata": {
    "id": "pw2Up798VI_e"
   },
   "id": "pw2Up798VI_e",
   "execution_count": null,
   "outputs": []
  }
 ],
 "metadata": {
  "kernelspec": {
   "display_name": "Python 3 (ipykernel)",
   "language": "python",
   "name": "python3"
  },
  "language_info": {
   "codemirror_mode": {
    "name": "ipython",
    "version": 3
   },
   "file_extension": ".py",
   "mimetype": "text/x-python",
   "name": "python",
   "nbconvert_exporter": "python",
   "pygments_lexer": "ipython3",
   "version": "3.9.15"
  },
  "colab": {
   "provenance": []
  },
  "widgets": {
   "application/vnd.jupyter.widget-state+json": {
    "05889910cbda4fcc9d70cb1ade7ffa48": {
     "model_module": "@jupyter-widgets/controls",
     "model_name": "HBoxModel",
     "model_module_version": "1.5.0",
     "state": {
      "_dom_classes": [],
      "_model_module": "@jupyter-widgets/controls",
      "_model_module_version": "1.5.0",
      "_model_name": "HBoxModel",
      "_view_count": null,
      "_view_module": "@jupyter-widgets/controls",
      "_view_module_version": "1.5.0",
      "_view_name": "HBoxView",
      "box_style": "",
      "children": [
       "IPY_MODEL_e4e7a0f181bd4a86b133a772ac35a7df",
       "IPY_MODEL_36e7e2d589eb47afb8f188620766e070",
       "IPY_MODEL_4ca61aea8ef24a7fa6b959cda964e67b"
      ],
      "layout": "IPY_MODEL_7f8c9e2754754a1db1825a871ad263df"
     }
    },
    "e4e7a0f181bd4a86b133a772ac35a7df": {
     "model_module": "@jupyter-widgets/controls",
     "model_name": "HTMLModel",
     "model_module_version": "1.5.0",
     "state": {
      "_dom_classes": [],
      "_model_module": "@jupyter-widgets/controls",
      "_model_module_version": "1.5.0",
      "_model_name": "HTMLModel",
      "_view_count": null,
      "_view_module": "@jupyter-widgets/controls",
      "_view_module_version": "1.5.0",
      "_view_name": "HTMLView",
      "description": "",
      "description_tooltip": null,
      "layout": "IPY_MODEL_5e2382d0add1422fa828e0d06f1b80dc",
      "placeholder": "​",
      "style": "IPY_MODEL_c42f2d9c8d2443a1ac2c0aed2a1ec011",
      "value": ""
     }
    },
    "36e7e2d589eb47afb8f188620766e070": {
     "model_module": "@jupyter-widgets/controls",
     "model_name": "FloatProgressModel",
     "model_module_version": "1.5.0",
     "state": {
      "_dom_classes": [],
      "_model_module": "@jupyter-widgets/controls",
      "_model_module_version": "1.5.0",
      "_model_name": "FloatProgressModel",
      "_view_count": null,
      "_view_module": "@jupyter-widgets/controls",
      "_view_module_version": "1.5.0",
      "_view_name": "ProgressView",
      "bar_style": "success",
      "description": "",
      "description_tooltip": null,
      "layout": "IPY_MODEL_9b0569d76752482699a61a46976311ab",
      "max": 1,
      "min": 0,
      "orientation": "horizontal",
      "style": "IPY_MODEL_66f43d13e9014efdb37c00dbd4b7bb85",
      "value": 1
     }
    },
    "4ca61aea8ef24a7fa6b959cda964e67b": {
     "model_module": "@jupyter-widgets/controls",
     "model_name": "HTMLModel",
     "model_module_version": "1.5.0",
     "state": {
      "_dom_classes": [],
      "_model_module": "@jupyter-widgets/controls",
      "_model_module_version": "1.5.0",
      "_model_name": "HTMLModel",
      "_view_count": null,
      "_view_module": "@jupyter-widgets/controls",
      "_view_module_version": "1.5.0",
      "_view_name": "HTMLView",
      "description": "",
      "description_tooltip": null,
      "layout": "IPY_MODEL_e4d8982c77cc420f8174b62e9801fbd4",
      "placeholder": "​",
      "style": "IPY_MODEL_3ee8e992b549471f8b734e640f9ee13a",
      "value": " 2000/? [07:06&lt;00:00,  5.32it/s]"
     }
    },
    "7f8c9e2754754a1db1825a871ad263df": {
     "model_module": "@jupyter-widgets/base",
     "model_name": "LayoutModel",
     "model_module_version": "1.2.0",
     "state": {
      "_model_module": "@jupyter-widgets/base",
      "_model_module_version": "1.2.0",
      "_model_name": "LayoutModel",
      "_view_count": null,
      "_view_module": "@jupyter-widgets/base",
      "_view_module_version": "1.2.0",
      "_view_name": "LayoutView",
      "align_content": null,
      "align_items": null,
      "align_self": null,
      "border": null,
      "bottom": null,
      "display": null,
      "flex": null,
      "flex_flow": null,
      "grid_area": null,
      "grid_auto_columns": null,
      "grid_auto_flow": null,
      "grid_auto_rows": null,
      "grid_column": null,
      "grid_gap": null,
      "grid_row": null,
      "grid_template_areas": null,
      "grid_template_columns": null,
      "grid_template_rows": null,
      "height": null,
      "justify_content": null,
      "justify_items": null,
      "left": null,
      "margin": null,
      "max_height": null,
      "max_width": null,
      "min_height": null,
      "min_width": null,
      "object_fit": null,
      "object_position": null,
      "order": null,
      "overflow": null,
      "overflow_x": null,
      "overflow_y": null,
      "padding": null,
      "right": null,
      "top": null,
      "visibility": null,
      "width": null
     }
    },
    "5e2382d0add1422fa828e0d06f1b80dc": {
     "model_module": "@jupyter-widgets/base",
     "model_name": "LayoutModel",
     "model_module_version": "1.2.0",
     "state": {
      "_model_module": "@jupyter-widgets/base",
      "_model_module_version": "1.2.0",
      "_model_name": "LayoutModel",
      "_view_count": null,
      "_view_module": "@jupyter-widgets/base",
      "_view_module_version": "1.2.0",
      "_view_name": "LayoutView",
      "align_content": null,
      "align_items": null,
      "align_self": null,
      "border": null,
      "bottom": null,
      "display": null,
      "flex": null,
      "flex_flow": null,
      "grid_area": null,
      "grid_auto_columns": null,
      "grid_auto_flow": null,
      "grid_auto_rows": null,
      "grid_column": null,
      "grid_gap": null,
      "grid_row": null,
      "grid_template_areas": null,
      "grid_template_columns": null,
      "grid_template_rows": null,
      "height": null,
      "justify_content": null,
      "justify_items": null,
      "left": null,
      "margin": null,
      "max_height": null,
      "max_width": null,
      "min_height": null,
      "min_width": null,
      "object_fit": null,
      "object_position": null,
      "order": null,
      "overflow": null,
      "overflow_x": null,
      "overflow_y": null,
      "padding": null,
      "right": null,
      "top": null,
      "visibility": null,
      "width": null
     }
    },
    "c42f2d9c8d2443a1ac2c0aed2a1ec011": {
     "model_module": "@jupyter-widgets/controls",
     "model_name": "DescriptionStyleModel",
     "model_module_version": "1.5.0",
     "state": {
      "_model_module": "@jupyter-widgets/controls",
      "_model_module_version": "1.5.0",
      "_model_name": "DescriptionStyleModel",
      "_view_count": null,
      "_view_module": "@jupyter-widgets/base",
      "_view_module_version": "1.2.0",
      "_view_name": "StyleView",
      "description_width": ""
     }
    },
    "9b0569d76752482699a61a46976311ab": {
     "model_module": "@jupyter-widgets/base",
     "model_name": "LayoutModel",
     "model_module_version": "1.2.0",
     "state": {
      "_model_module": "@jupyter-widgets/base",
      "_model_module_version": "1.2.0",
      "_model_name": "LayoutModel",
      "_view_count": null,
      "_view_module": "@jupyter-widgets/base",
      "_view_module_version": "1.2.0",
      "_view_name": "LayoutView",
      "align_content": null,
      "align_items": null,
      "align_self": null,
      "border": null,
      "bottom": null,
      "display": null,
      "flex": null,
      "flex_flow": null,
      "grid_area": null,
      "grid_auto_columns": null,
      "grid_auto_flow": null,
      "grid_auto_rows": null,
      "grid_column": null,
      "grid_gap": null,
      "grid_row": null,
      "grid_template_areas": null,
      "grid_template_columns": null,
      "grid_template_rows": null,
      "height": null,
      "justify_content": null,
      "justify_items": null,
      "left": null,
      "margin": null,
      "max_height": null,
      "max_width": null,
      "min_height": null,
      "min_width": null,
      "object_fit": null,
      "object_position": null,
      "order": null,
      "overflow": null,
      "overflow_x": null,
      "overflow_y": null,
      "padding": null,
      "right": null,
      "top": null,
      "visibility": null,
      "width": "20px"
     }
    },
    "66f43d13e9014efdb37c00dbd4b7bb85": {
     "model_module": "@jupyter-widgets/controls",
     "model_name": "ProgressStyleModel",
     "model_module_version": "1.5.0",
     "state": {
      "_model_module": "@jupyter-widgets/controls",
      "_model_module_version": "1.5.0",
      "_model_name": "ProgressStyleModel",
      "_view_count": null,
      "_view_module": "@jupyter-widgets/base",
      "_view_module_version": "1.2.0",
      "_view_name": "StyleView",
      "bar_color": null,
      "description_width": ""
     }
    },
    "e4d8982c77cc420f8174b62e9801fbd4": {
     "model_module": "@jupyter-widgets/base",
     "model_name": "LayoutModel",
     "model_module_version": "1.2.0",
     "state": {
      "_model_module": "@jupyter-widgets/base",
      "_model_module_version": "1.2.0",
      "_model_name": "LayoutModel",
      "_view_count": null,
      "_view_module": "@jupyter-widgets/base",
      "_view_module_version": "1.2.0",
      "_view_name": "LayoutView",
      "align_content": null,
      "align_items": null,
      "align_self": null,
      "border": null,
      "bottom": null,
      "display": null,
      "flex": null,
      "flex_flow": null,
      "grid_area": null,
      "grid_auto_columns": null,
      "grid_auto_flow": null,
      "grid_auto_rows": null,
      "grid_column": null,
      "grid_gap": null,
      "grid_row": null,
      "grid_template_areas": null,
      "grid_template_columns": null,
      "grid_template_rows": null,
      "height": null,
      "justify_content": null,
      "justify_items": null,
      "left": null,
      "margin": null,
      "max_height": null,
      "max_width": null,
      "min_height": null,
      "min_width": null,
      "object_fit": null,
      "object_position": null,
      "order": null,
      "overflow": null,
      "overflow_x": null,
      "overflow_y": null,
      "padding": null,
      "right": null,
      "top": null,
      "visibility": null,
      "width": null
     }
    },
    "3ee8e992b549471f8b734e640f9ee13a": {
     "model_module": "@jupyter-widgets/controls",
     "model_name": "DescriptionStyleModel",
     "model_module_version": "1.5.0",
     "state": {
      "_model_module": "@jupyter-widgets/controls",
      "_model_module_version": "1.5.0",
      "_model_name": "DescriptionStyleModel",
      "_view_count": null,
      "_view_module": "@jupyter-widgets/base",
      "_view_module_version": "1.2.0",
      "_view_name": "StyleView",
      "description_width": ""
     }
    },
    "fbcdfe8fc7934c2ba6696d4e03fcce84": {
     "model_module": "@jupyter-widgets/controls",
     "model_name": "HBoxModel",
     "model_module_version": "1.5.0",
     "state": {
      "_dom_classes": [],
      "_model_module": "@jupyter-widgets/controls",
      "_model_module_version": "1.5.0",
      "_model_name": "HBoxModel",
      "_view_count": null,
      "_view_module": "@jupyter-widgets/controls",
      "_view_module_version": "1.5.0",
      "_view_name": "HBoxView",
      "box_style": "",
      "children": [
       "IPY_MODEL_b5a0e41052714088a10b10cdba4768ba",
       "IPY_MODEL_a9dff3ea141b4860af4308bbce9736b5",
       "IPY_MODEL_e8479d50570d42268607206734b4b360"
      ],
      "layout": "IPY_MODEL_44e5a8992cab44198ac87eaa97d89836"
     }
    },
    "b5a0e41052714088a10b10cdba4768ba": {
     "model_module": "@jupyter-widgets/controls",
     "model_name": "HTMLModel",
     "model_module_version": "1.5.0",
     "state": {
      "_dom_classes": [],
      "_model_module": "@jupyter-widgets/controls",
      "_model_module_version": "1.5.0",
      "_model_name": "HTMLModel",
      "_view_count": null,
      "_view_module": "@jupyter-widgets/controls",
      "_view_module_version": "1.5.0",
      "_view_name": "HTMLView",
      "description": "",
      "description_tooltip": null,
      "layout": "IPY_MODEL_23bdd3f1ab0f45b195d90241c0332373",
      "placeholder": "​",
      "style": "IPY_MODEL_315fddd66bfe4c1dbba62a8dfc22a8e1",
      "value": ""
     }
    },
    "a9dff3ea141b4860af4308bbce9736b5": {
     "model_module": "@jupyter-widgets/controls",
     "model_name": "FloatProgressModel",
     "model_module_version": "1.5.0",
     "state": {
      "_dom_classes": [],
      "_model_module": "@jupyter-widgets/controls",
      "_model_module_version": "1.5.0",
      "_model_name": "FloatProgressModel",
      "_view_count": null,
      "_view_module": "@jupyter-widgets/controls",
      "_view_module_version": "1.5.0",
      "_view_name": "ProgressView",
      "bar_style": "success",
      "description": "",
      "description_tooltip": null,
      "layout": "IPY_MODEL_bb71e29885c24e84a99d7eb84411367d",
      "max": 1,
      "min": 0,
      "orientation": "horizontal",
      "style": "IPY_MODEL_203c8935bf984113bf84610542af06df",
      "value": 1
     }
    },
    "e8479d50570d42268607206734b4b360": {
     "model_module": "@jupyter-widgets/controls",
     "model_name": "HTMLModel",
     "model_module_version": "1.5.0",
     "state": {
      "_dom_classes": [],
      "_model_module": "@jupyter-widgets/controls",
      "_model_module_version": "1.5.0",
      "_model_name": "HTMLModel",
      "_view_count": null,
      "_view_module": "@jupyter-widgets/controls",
      "_view_module_version": "1.5.0",
      "_view_name": "HTMLView",
      "description": "",
      "description_tooltip": null,
      "layout": "IPY_MODEL_e96a46a8043f49ef91991f1571dd3837",
      "placeholder": "​",
      "style": "IPY_MODEL_e67e00861f6f434fa61fc8c5caebd066",
      "value": " 2000/? [05:26&lt;00:00,  6.60it/s]"
     }
    },
    "44e5a8992cab44198ac87eaa97d89836": {
     "model_module": "@jupyter-widgets/base",
     "model_name": "LayoutModel",
     "model_module_version": "1.2.0",
     "state": {
      "_model_module": "@jupyter-widgets/base",
      "_model_module_version": "1.2.0",
      "_model_name": "LayoutModel",
      "_view_count": null,
      "_view_module": "@jupyter-widgets/base",
      "_view_module_version": "1.2.0",
      "_view_name": "LayoutView",
      "align_content": null,
      "align_items": null,
      "align_self": null,
      "border": null,
      "bottom": null,
      "display": null,
      "flex": null,
      "flex_flow": null,
      "grid_area": null,
      "grid_auto_columns": null,
      "grid_auto_flow": null,
      "grid_auto_rows": null,
      "grid_column": null,
      "grid_gap": null,
      "grid_row": null,
      "grid_template_areas": null,
      "grid_template_columns": null,
      "grid_template_rows": null,
      "height": null,
      "justify_content": null,
      "justify_items": null,
      "left": null,
      "margin": null,
      "max_height": null,
      "max_width": null,
      "min_height": null,
      "min_width": null,
      "object_fit": null,
      "object_position": null,
      "order": null,
      "overflow": null,
      "overflow_x": null,
      "overflow_y": null,
      "padding": null,
      "right": null,
      "top": null,
      "visibility": null,
      "width": null
     }
    },
    "23bdd3f1ab0f45b195d90241c0332373": {
     "model_module": "@jupyter-widgets/base",
     "model_name": "LayoutModel",
     "model_module_version": "1.2.0",
     "state": {
      "_model_module": "@jupyter-widgets/base",
      "_model_module_version": "1.2.0",
      "_model_name": "LayoutModel",
      "_view_count": null,
      "_view_module": "@jupyter-widgets/base",
      "_view_module_version": "1.2.0",
      "_view_name": "LayoutView",
      "align_content": null,
      "align_items": null,
      "align_self": null,
      "border": null,
      "bottom": null,
      "display": null,
      "flex": null,
      "flex_flow": null,
      "grid_area": null,
      "grid_auto_columns": null,
      "grid_auto_flow": null,
      "grid_auto_rows": null,
      "grid_column": null,
      "grid_gap": null,
      "grid_row": null,
      "grid_template_areas": null,
      "grid_template_columns": null,
      "grid_template_rows": null,
      "height": null,
      "justify_content": null,
      "justify_items": null,
      "left": null,
      "margin": null,
      "max_height": null,
      "max_width": null,
      "min_height": null,
      "min_width": null,
      "object_fit": null,
      "object_position": null,
      "order": null,
      "overflow": null,
      "overflow_x": null,
      "overflow_y": null,
      "padding": null,
      "right": null,
      "top": null,
      "visibility": null,
      "width": null
     }
    },
    "315fddd66bfe4c1dbba62a8dfc22a8e1": {
     "model_module": "@jupyter-widgets/controls",
     "model_name": "DescriptionStyleModel",
     "model_module_version": "1.5.0",
     "state": {
      "_model_module": "@jupyter-widgets/controls",
      "_model_module_version": "1.5.0",
      "_model_name": "DescriptionStyleModel",
      "_view_count": null,
      "_view_module": "@jupyter-widgets/base",
      "_view_module_version": "1.2.0",
      "_view_name": "StyleView",
      "description_width": ""
     }
    },
    "bb71e29885c24e84a99d7eb84411367d": {
     "model_module": "@jupyter-widgets/base",
     "model_name": "LayoutModel",
     "model_module_version": "1.2.0",
     "state": {
      "_model_module": "@jupyter-widgets/base",
      "_model_module_version": "1.2.0",
      "_model_name": "LayoutModel",
      "_view_count": null,
      "_view_module": "@jupyter-widgets/base",
      "_view_module_version": "1.2.0",
      "_view_name": "LayoutView",
      "align_content": null,
      "align_items": null,
      "align_self": null,
      "border": null,
      "bottom": null,
      "display": null,
      "flex": null,
      "flex_flow": null,
      "grid_area": null,
      "grid_auto_columns": null,
      "grid_auto_flow": null,
      "grid_auto_rows": null,
      "grid_column": null,
      "grid_gap": null,
      "grid_row": null,
      "grid_template_areas": null,
      "grid_template_columns": null,
      "grid_template_rows": null,
      "height": null,
      "justify_content": null,
      "justify_items": null,
      "left": null,
      "margin": null,
      "max_height": null,
      "max_width": null,
      "min_height": null,
      "min_width": null,
      "object_fit": null,
      "object_position": null,
      "order": null,
      "overflow": null,
      "overflow_x": null,
      "overflow_y": null,
      "padding": null,
      "right": null,
      "top": null,
      "visibility": null,
      "width": "20px"
     }
    },
    "203c8935bf984113bf84610542af06df": {
     "model_module": "@jupyter-widgets/controls",
     "model_name": "ProgressStyleModel",
     "model_module_version": "1.5.0",
     "state": {
      "_model_module": "@jupyter-widgets/controls",
      "_model_module_version": "1.5.0",
      "_model_name": "ProgressStyleModel",
      "_view_count": null,
      "_view_module": "@jupyter-widgets/base",
      "_view_module_version": "1.2.0",
      "_view_name": "StyleView",
      "bar_color": null,
      "description_width": ""
     }
    },
    "e96a46a8043f49ef91991f1571dd3837": {
     "model_module": "@jupyter-widgets/base",
     "model_name": "LayoutModel",
     "model_module_version": "1.2.0",
     "state": {
      "_model_module": "@jupyter-widgets/base",
      "_model_module_version": "1.2.0",
      "_model_name": "LayoutModel",
      "_view_count": null,
      "_view_module": "@jupyter-widgets/base",
      "_view_module_version": "1.2.0",
      "_view_name": "LayoutView",
      "align_content": null,
      "align_items": null,
      "align_self": null,
      "border": null,
      "bottom": null,
      "display": null,
      "flex": null,
      "flex_flow": null,
      "grid_area": null,
      "grid_auto_columns": null,
      "grid_auto_flow": null,
      "grid_auto_rows": null,
      "grid_column": null,
      "grid_gap": null,
      "grid_row": null,
      "grid_template_areas": null,
      "grid_template_columns": null,
      "grid_template_rows": null,
      "height": null,
      "justify_content": null,
      "justify_items": null,
      "left": null,
      "margin": null,
      "max_height": null,
      "max_width": null,
      "min_height": null,
      "min_width": null,
      "object_fit": null,
      "object_position": null,
      "order": null,
      "overflow": null,
      "overflow_x": null,
      "overflow_y": null,
      "padding": null,
      "right": null,
      "top": null,
      "visibility": null,
      "width": null
     }
    },
    "e67e00861f6f434fa61fc8c5caebd066": {
     "model_module": "@jupyter-widgets/controls",
     "model_name": "DescriptionStyleModel",
     "model_module_version": "1.5.0",
     "state": {
      "_model_module": "@jupyter-widgets/controls",
      "_model_module_version": "1.5.0",
      "_model_name": "DescriptionStyleModel",
      "_view_count": null,
      "_view_module": "@jupyter-widgets/base",
      "_view_module_version": "1.2.0",
      "_view_name": "StyleView",
      "description_width": ""
     }
    }
   }
  }
 },
 "nbformat": 4,
 "nbformat_minor": 5
}
