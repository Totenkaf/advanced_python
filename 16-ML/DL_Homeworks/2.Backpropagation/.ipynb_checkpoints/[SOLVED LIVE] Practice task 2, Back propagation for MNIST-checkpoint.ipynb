{
 "cells": [
  {
   "cell_type": "markdown",
   "metadata": {},
   "source": [
    "## Семинар 2 \"Распознавание рукописных цифр\""
   ]
  },
  {
   "cell_type": "markdown",
   "metadata": {},
   "source": [
    "ФИО: "
   ]
  },
  {
   "cell_type": "markdown",
   "metadata": {},
   "source": [
    "В этом задании мы используем нейронную сеть из предыдущего семинара для распознавания рукописных цифр. Также мы исследуем как влияет выбор нелинейности и предобработка данных на качество классификации. \n",
    "\n",
    "Чтобы не тратить время на подготовку данных, мы прилагаем готовый код с примером использования для получения обучающей и тестовой выборок. Для запуска скрипта вам понадобится библиотека PyTorch (инструкции по установке можно найти на сайте <a href=\"http://pytorch.org\">pytorch.org</a>)"
   ]
  },
  {
   "cell_type": "code",
   "execution_count": 1,
   "metadata": {},
   "source": [
    "import matplotlib.pyplot as plt\n",
    "from torch.utils.data import DataLoader\n",
    "from torchvision.datasets import MNIST\n",
    "from torchvision import transforms\n",
    "import numpy as np\n",
    "from layers import Linear, Sigmoid, NLLLoss, NeuralNetwork # Results from Seminar 1\n",
    "%matplotlib inline"
   ],
   "outputs": []
  },
  {
   "cell_type": "code",
   "execution_count": 2,
   "metadata": {},
   "source": [
    "transform = transforms.Compose([\n",
    "                       transforms.ToTensor(),\n",
    "                       transforms.Normalize((0.1307,), (0.3081,))\n",
    "                    ])\n",
    "train_dataset = MNIST('.', train=True, download=True, transform=transform)\n",
    "test_dataset = MNIST('.', train=False, transform=transform)\n",
    "\n",
    "train_loader = DataLoader(train_dataset, batch_size=32, shuffle=True)\n",
    "test_loader = DataLoader(test_dataset, batch_size=32, shuffle=True)"
   ],
   "outputs": []
  },
  {
   "cell_type": "code",
   "execution_count": 7,
   "metadata": {},
   "source": [
    "## Usage example:\n",
    "for X, y in train_loader:\n",
    "    X = X.view(X.shape[0], -1)\n",
    "    X = X.numpy() ### Converts torch.Tensor to numpy array\n",
    "    y = y.numpy()\n",
    "    \n",
    "    print(X.shape)\n",
    "    print(y)\n",
    "    break"
   ],
   "outputs": []
  },
  {
   "cell_type": "code",
   "execution_count": 5,
   "metadata": {},
   "source": [
    "plt.figure(figsize=(6, 7))\n",
    "for i in range(25):\n",
    "    plt.subplot(5, 5, i+1)\n",
    "    plt.imshow(X[i].reshape(28, 28), cmap=plt.cm.Greys_r)\n",
    "    plt.title(y[i])\n",
    "    plt.axis('off')"
   ],
   "outputs": []
  },
  {
   "cell_type": "markdown",
   "metadata": {},
   "source": [
    "### Часть 1: MNIST\n",
    "Обучите полносвязную нейронную сеть с архитектурой 784-100-100-10 и сигмоидой в качестве нелинейности. Какую точность классификации удалось получить? Нарисуйте график сходимости на обучающей и тестовой выборках. В качестве темпа обучения (learning rate) возьмите 0.01"
   ]
  },
  {
   "cell_type": "code",
   "execution_count": 156,
   "metadata": {},
   "source": [
    "activation = ReLU()\n",
    "#№activation = Sigmoid()\n",
    "\n",
    "inner_dim = 64\n",
    "\n",
    "layers = [Linear(784, inner_dim), activation]\n",
    "for i in range(1):\n",
    "    layers.extend([Linear(inner_dim, inner_dim), activation])\n",
    "\n",
    "layers.append(Linear(inner_dim, 10))\n",
    "\n",
    "net = NeuralNetwork(layers)\n",
    "loss = NLLLoss()"
   ],
   "outputs": []
  },
  {
   "cell_type": "code",
   "execution_count": 138,
   "metadata": {},
   "source": [
    "for X, y in train_loader:\n",
    "    X = X.numpy()\n",
    "    break\n",
    "plt.imshow(X[0].reshape(28, 28), cmap=plt.cm.Greys_r)"
   ],
   "outputs": []
  },
  {
   "cell_type": "code",
   "execution_count": 139,
   "metadata": {},
   "source": [
    "x = net.forward(X[0].reshape(1, -1))[0]\n",
    "order = np.argsort(x)[::-1]\n",
    "print(order, x[order])"
   ],
   "outputs": []
  },
  {
   "cell_type": "code",
   "execution_count": 157,
   "metadata": {},
   "source": [
    "losses = []\n",
    "\n",
    "## Usage example:\n",
    "for X, y in train_loader:\n",
    "    X = X.view(X.shape[0], -1)\n",
    "    X = X.numpy() ### Converts torch.Tensor to numpy array\n",
    "    y = y.numpy()\n",
    "    \n",
    "    res = net.forward(X)\n",
    "    l = loss.forward(res, y)\n",
    "    \n",
    "    losses.append(l)\n",
    "    \n",
    "    dLdy = loss.backward()\n",
    "    \n",
    "    net.backward(dLdy)\n",
    "    net.step(0.1)"
   ],
   "outputs": []
  },
  {
   "cell_type": "code",
   "execution_count": 158,
   "metadata": {},
   "source": [
    "plt.plot(losses)\n",
    "plt.plot(sigm_losses)\n",
    "plt.plot(good_relu_losses)\n",
    "plt.show()"
   ],
   "outputs": []
  },
  {
   "cell_type": "code",
   "execution_count": 89,
   "metadata": {},
   "source": [
    "good_relu_losses = losses"
   ],
   "outputs": []
  },
  {
   "cell_type": "code",
   "execution_count": 43,
   "metadata": {},
   "source": [
    "print(l)"
   ],
   "outputs": []
  },
  {
   "cell_type": "markdown",
   "metadata": {},
   "source": [
    "### Часть 2: Нелинейности"
   ]
  },
  {
   "cell_type": "markdown",
   "metadata": {},
   "source": [
    "Обучите нейронную сеть с другими нелинейностями: ReLU и ELU. Сравните скорости сходимости и качество классификации с различными функциями активации."
   ]
  },
  {
   "cell_type": "code",
   "execution_count": 66,
   "metadata": {},
   "source": [
    "class ReLU:\n",
    "    def __init__(self):\n",
    "        pass\n",
    "    \n",
    "    def forward(self, X):\n",
    "        '''\n",
    "        Passes objects through this layer.\n",
    "        X is np.array of size (N, d)\n",
    "        '''\n",
    "        self.s = (X > 0).astype(float)*X\n",
    "        return self.s\n",
    "    \n",
    "    def backward(self, dLdy):\n",
    "        '''\n",
    "        1. Compute dLdx.\n",
    "        2. Return dLdx\n",
    "        '''\n",
    "        return (self.s > 0).astype(float)*dLdy\n",
    "    \n",
    "    def step(self, learning_rate):\n",
    "        pass"
   ],
   "outputs": []
  },
  {
   "cell_type": "code",
   "execution_count": 67,
   "metadata": {},
   "source": [
    "x = np.array([1, 2])\n",
    "(x > 1.5).astype(float)"
   ],
   "outputs": []
  },
  {
   "cell_type": "markdown",
   "metadata": {},
   "source": [
    "### Часть 3: Анализ ошибок\n",
    "На каких объектах сеть ошибается больше всего?"
   ]
  },
  {
   "cell_type": "code",
   "execution_count": 159,
   "metadata": {},
   "source": [
    "errors = []\n",
    "\n",
    "for X, y in test_loader:\n",
    "    X = X.view(X.shape[0], -1)\n",
    "    X = X.numpy() ### Converts torch.Tensor to numpy array\n",
    "    y = y.numpy()\n",
    "    \n",
    "    res = net.forward(X)\n",
    "    \n",
    "    for x_i, y_i in zip(X, y):\n",
    "        l = loss.forward(x_i.reshape(1, -1), y_i.reshape(1, -1))\n",
    "        errors.append((l, x_i.reshape(28, 28)))\n",
    "    \n",
    "    if len(errors) > 1000:\n",
    "        break"
   ],
   "outputs": []
  },
  {
   "cell_type": "code",
   "execution_count": 163,
   "metadata": {},
   "source": [
    "errors.sort(key=lambda x: x[0], reverse=True)"
   ],
   "outputs": []
  },
  {
   "cell_type": "code",
   "execution_count": 195,
   "metadata": {},
   "source": [
    "print(errors[18][1])"
   ],
   "outputs": []
  },
  {
   "cell_type": "code",
   "execution_count": 212,
   "metadata": {},
   "source": [
    "img = np.copy(errors[10][1])\n",
    "img += np.random.randn(28*28).reshape(28, 28)*0.2\n",
    "plt.imshow(img, cmap=plt.cm.Greys_r)\n",
    "#print(errors[1000][0])"
   ],
   "outputs": []
  },
  {
   "cell_type": "markdown",
   "metadata": {},
   "source": [
    "### HW1 (1 балл): Реализовать Tanh"
   ]
  },
  {
   "cell_type": "code",
   "execution_count": null,
   "metadata": {},
   "source": [],
   "outputs": []
  },
  {
   "cell_type": "markdown",
   "metadata": {},
   "source": [
    "### Часть 4: Аугментация (HW, 2 балла)\n",
    "* Небольшие вращения (-15, 15)\n",
    "* Случайные сдвиги\n",
    "* Шум\n",
    "\n",
    "Какой прирост дают эти аугментации вместе и по отдельности"
   ]
  },
  {
   "cell_type": "code",
   "execution_count": null,
   "metadata": {},
   "source": [],
   "outputs": []
  },
  {
   "cell_type": "markdown",
   "metadata": {},
   "source": [
    "Обучите нейронную сеть с другими нелинейностями: ReLU и ELU. Сравните скорости сходимости и качество классификации с различными функциями активации."
   ]
  },
  {
   "cell_type": "code",
   "execution_count": null,
   "metadata": {
    "collapsed": true
   },
   "source": [],
   "outputs": []
  },
  {
   "cell_type": "markdown",
   "metadata": {},
   "source": [
    "### Часть 5: Выводы\n",
    "Опишите полученные результаты: как влияют выбор нелинейности и предобработка данных на скорость сходимости и итоговое качество?"
   ]
  },
  {
   "cell_type": "code",
   "execution_count": null,
   "metadata": {
    "collapsed": true
   },
   "source": [],
   "outputs": []
  }
 ],
 "metadata": {
  "kernelspec": {
   "display_name": "Python 3 (ipykernel)",
   "language": "python",
   "name": "python3"
  },
  "language_info": {
   "codemirror_mode": {
    "name": "ipython",
    "version": 3
   },
   "file_extension": ".py",
   "mimetype": "text/x-python",
   "name": "python",
   "nbconvert_exporter": "python",
   "pygments_lexer": "ipython3",
   "version": "3.8.10"
  },
  "latex_envs": {
   "LaTeX_envs_menu_present": true,
   "autoclose": false,
   "autocomplete": true,
   "bibliofile": "biblio.bib",
   "cite_by": "apalike",
   "current_citInitial": 1,
   "eqLabelWithNumbers": true,
   "eqNumInitial": 1,
   "hotkeys": {
    "equation": "Ctrl-E",
    "itemize": "Ctrl-I"
   },
   "labels_anchors": false,
   "latex_user_defs": false,
   "report_style_numbering": false,
   "user_envs_cfg": false
  },
  "nbTranslate": {
   "displayLangs": [
    "*"
   ],
   "hotkey": "alt-t",
   "langInMainMenu": true,
   "sourceLang": "en",
   "targetLang": "fr",
   "useGoogleTranslate": true
  },
  "toc": {
   "base_numbering": 1,
   "nav_menu": {},
   "number_sections": true,
   "sideBar": true,
   "skip_h1_title": false,
   "title_cell": "Table of Contents",
   "title_sidebar": "Contents",
   "toc_cell": false,
   "toc_position": {},
   "toc_section_display": true,
   "toc_window_display": false
  },
  "varInspector": {
   "cols": {
    "lenName": 16,
    "lenType": 16,
    "lenVar": 40
   },
   "kernels_config": {
    "python": {
     "delete_cmd_postfix": "",
     "delete_cmd_prefix": "del ",
     "library": "var_list.py",
     "varRefreshCmd": "print(var_dic_list())"
    },
    "r": {
     "delete_cmd_postfix": ") ",
     "delete_cmd_prefix": "rm(",
     "library": "var_list.r",
     "varRefreshCmd": "cat(var_dic_list()) "
    }
   },
   "types_to_exclude": [
    "module",
    "function",
    "builtin_function_or_method",
    "instance",
    "_Feature"
   ],
   "window_display": false
  }
 },
 "nbformat": 4,
 "nbformat_minor": 2
}
