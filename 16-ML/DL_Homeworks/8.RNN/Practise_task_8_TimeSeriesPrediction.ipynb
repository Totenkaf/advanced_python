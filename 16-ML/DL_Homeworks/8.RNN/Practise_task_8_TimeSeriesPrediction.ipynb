{
 "cells": [
  {
   "cell_type": "markdown",
   "source": [
    " ФИО: Усцов Артем Алексеевич"
   ],
   "metadata": {
    "id": "x5ilfCcTk4ft"
   }
  },
  {
   "cell_type": "code",
   "source": [
    "# uncomment to install pmdarima, plotly for the first\n",
    "!pip install pmdarima\n",
    "!pip install plotly"
   ],
   "metadata": {
    "id": "ZzzE9DrxkcbQ"
   },
   "execution_count": null,
   "outputs": []
  },
  {
   "cell_type": "code",
   "execution_count": null,
   "metadata": {
    "id": "uEEECO0YuBne"
   },
   "source": [
    "import torch\n",
    "import torch.nn as nn\n",
    "from torch.optim import Adam\n",
    "import torch.optim as optim\n",
    "from torch.utils.data import DataLoader, Dataset\n",
    "from torch.utils.tensorboard import SummaryWriter\n",
    "import pandas as pd\n",
    "import os\n",
    "from tqdm import *\n",
    "import matplotlib.pyplot as plt\n",
    "from sklearn.metrics import mean_squared_error\n",
    "import pmdarima as pm\n",
    "import numpy as np\n",
    "%matplotlib inline"
   ],
   "outputs": []
  },
  {
   "cell_type": "markdown",
   "metadata": {
    "id": "UZt4AUonuBnh"
   },
   "source": [
    "# Ноутбук для ДЗ №8 обработка временных последовательностей RNN\n",
    "В данном дз вам будут данных времменая последовательно, которая описывает распределение хитов по времени за несколько лет. Вам нужно будет обучить модель RNN на исторических данных и потом сделать предсказание для \"будущего\" года, в текущей задаче это 2019 год"
   ]
  },
  {
   "cell_type": "markdown",
   "metadata": {
    "id": "JH_bS6dMuBni"
   },
   "source": [
    "## Готовим данные\n",
    "Три файла с данными\n",
    "1. исторические данные - train\n",
    "2. Тестовые данные текущего момента - derived\n",
    "3. Пример сабмита резкльтатов конкурса на кагле"
   ]
  },
  {
   "cell_type": "code",
   "source": [
    "# get data\n",
    "!wget https://github.com/Totenkaf/DL_Homeworks/raw/main/HW_8/data/derived.csv -P data/\n",
    "!wget https://github.com/Totenkaf/DL_Homeworks/raw/main/HW_8/data/sample_submission.csv -P data/\n",
    "!wget https://github.com/Totenkaf/DL_Homeworks/raw/main/HW_8/data/train.csv -P data/"
   ],
   "metadata": {
    "id": "62KVL1nykfie",
    "colab": {
     "base_uri": "https://localhost:8080/"
    },
    "executionInfo": {
     "status": "ok",
     "timestamp": 1671803196391,
     "user_tz": -180,
     "elapsed": 1442,
     "user": {
      "displayName": "Артём Усцов",
      "userId": "16141628694791373514"
     }
    },
    "outputId": "eb6ef96f-71fe-46fe-a216-d1a1ce70f192"
   },
   "execution_count": null,
   "outputs": []
  },
  {
   "cell_type": "code",
   "execution_count": null,
   "metadata": {
    "id": "p8kTWpXbuBnj"
   },
   "source": [
    "def read_set(file):\n",
    "    data = pd.read_csv(file)\n",
    "    data['date'] = pd.to_datetime(data['date'])\n",
    "    data = data.rename(columns = {'DATE':'date'})\n",
    "    data = data.rename(columns = {'hits':'value'})\n",
    "    data = data.set_index('date')\n",
    "    return data"
   ],
   "outputs": []
  },
  {
   "cell_type": "code",
   "execution_count": null,
   "metadata": {
    "id": "0uRKsNPHuBnj",
    "outputId": "797ee3f0-9a04-4828-9a00-1114b15cc665",
    "colab": {
     "base_uri": "https://localhost:8080/",
     "height": 424
    },
    "executionInfo": {
     "status": "ok",
     "timestamp": 1671803196645,
     "user_tz": -180,
     "elapsed": 14,
     "user": {
      "displayName": "Артём Усцов",
      "userId": "16141628694791373514"
     }
    }
   },
   "source": [
    "data = pd.read_csv('data/train.csv')\n",
    "data"
   ],
   "outputs": []
  },
  {
   "cell_type": "code",
   "execution_count": null,
   "metadata": {
    "id": "6OVbPx2AuBnk"
   },
   "source": [
    "data_train = read_set('data/train.csv')\n",
    "data_test =  read_set('data/derived.csv')\n",
    "data_sample = read_set('data/sample_submission.csv')"
   ],
   "outputs": []
  },
  {
   "cell_type": "code",
   "execution_count": null,
   "metadata": {
    "id": "lH--5idfuBnl",
    "outputId": "d4ee2c81-b73f-4dd3-adcb-a8bd376e6d9a",
    "colab": {
     "base_uri": "https://localhost:8080/",
     "height": 455
    },
    "executionInfo": {
     "status": "ok",
     "timestamp": 1671803196646,
     "user_tz": -180,
     "elapsed": 12,
     "user": {
      "displayName": "Артём Усцов",
      "userId": "16141628694791373514"
     }
    }
   },
   "source": [
    "data_train"
   ],
   "outputs": []
  },
  {
   "cell_type": "markdown",
   "metadata": {
    "id": "iIq5yUNbuBnl"
   },
   "source": [
    "### Проверим наши данные, что мы загрузили"
   ]
  },
  {
   "cell_type": "code",
   "execution_count": null,
   "metadata": {
    "id": "9yIzV1K6uBnm",
    "outputId": "b49233a2-e2fc-4975-c9b9-6098fe5d6c95",
    "colab": {
     "base_uri": "https://localhost:8080/"
    },
    "executionInfo": {
     "status": "ok",
     "timestamp": 1671803196648,
     "user_tz": -180,
     "elapsed": 12,
     "user": {
      "displayName": "Артём Усцов",
      "userId": "16141628694791373514"
     }
    }
   },
   "source": [
    "print( data_train.info() )\n",
    "print( data_test.info() )\n",
    "print( data_sample.info() )"
   ],
   "outputs": []
  },
  {
   "cell_type": "code",
   "execution_count": null,
   "metadata": {
    "id": "xjLwJ4x2uBnm",
    "outputId": "9e2ff4ee-6da3-4cd8-cf19-9a3ec4594ec7",
    "colab": {
     "base_uri": "https://localhost:8080/",
     "height": 300
    },
    "executionInfo": {
     "status": "ok",
     "timestamp": 1671803196892,
     "user_tz": -180,
     "elapsed": 253,
     "user": {
      "displayName": "Артём Усцов",
      "userId": "16141628694791373514"
     }
    }
   },
   "source": [
    "data_train.describe()"
   ],
   "outputs": []
  },
  {
   "cell_type": "code",
   "execution_count": null,
   "metadata": {
    "id": "2MjZPYYtuBnn",
    "outputId": "b4b4dff5-7a28-4735-e291-06248bc83711",
    "colab": {
     "base_uri": "https://localhost:8080/",
     "height": 300
    },
    "executionInfo": {
     "status": "ok",
     "timestamp": 1671803196892,
     "user_tz": -180,
     "elapsed": 10,
     "user": {
      "displayName": "Артём Усцов",
      "userId": "16141628694791373514"
     }
    }
   },
   "source": [
    "data_test.describe()"
   ],
   "outputs": []
  },
  {
   "cell_type": "code",
   "execution_count": null,
   "metadata": {
    "id": "E7FsVj5XuBnn",
    "outputId": "2ea3fb40-05fa-4339-e0cd-9a7f87714032",
    "colab": {
     "base_uri": "https://localhost:8080/",
     "height": 300
    },
    "executionInfo": {
     "status": "ok",
     "timestamp": 1671803196893,
     "user_tz": -180,
     "elapsed": 10,
     "user": {
      "displayName": "Артём Усцов",
      "userId": "16141628694791373514"
     }
    }
   },
   "source": [
    "data_sample.describe()"
   ],
   "outputs": []
  },
  {
   "cell_type": "markdown",
   "metadata": {
    "id": "9Rp9XYUiuBnn"
   },
   "source": [
    "## Графики наших временных последовательностей"
   ]
  },
  {
   "cell_type": "code",
   "execution_count": null,
   "metadata": {
    "id": "XJdvc9jquBno",
    "outputId": "948ca8b3-c056-4dd6-eb8d-765b97d8b0ba",
    "colab": {
     "base_uri": "https://localhost:8080/",
     "height": 290
    },
    "executionInfo": {
     "status": "ok",
     "timestamp": 1671803197141,
     "user_tz": -180,
     "elapsed": 257,
     "user": {
      "displayName": "Артём Усцов",
      "userId": "16141628694791373514"
     }
    }
   },
   "source": [
    "plt.figure()\n",
    "data_train['value'].plot(kind = 'line')\n",
    "data_test['value'].plot(kind = 'line')\n",
    "data_sample['value'].plot(kind = 'line')\n",
    "plt.show()"
   ],
   "outputs": []
  },
  {
   "cell_type": "markdown",
   "metadata": {
    "id": "K7dCXMqvuBno"
   },
   "source": [
    "## Статистическая модель [ARIMA](https://ru.wikipedia.org/wiki/ARIMA)\n"
   ]
  },
  {
   "cell_type": "code",
   "execution_count": null,
   "metadata": {
    "id": "rDNpiApvuBno",
    "outputId": "ec3077d5-ce6c-40c1-c6da-e23795b67f21",
    "colab": {
     "base_uri": "https://localhost:8080/"
    },
    "executionInfo": {
     "status": "ok",
     "timestamp": 1671803322179,
     "user_tz": -180,
     "elapsed": 125042,
     "user": {
      "displayName": "Артём Усцов",
      "userId": "16141628694791373514"
     }
    }
   },
   "source": [
    "# обучаем модель\n",
    "arima_model=model = pm.auto_arima(data_train, seasonal = True,m = 4,test='adf',error_action='ignore',  \n",
    "                           suppress_warnings=True,\n",
    "                      stepwise=True, trace=True)"
   ],
   "outputs": []
  },
  {
   "cell_type": "code",
   "execution_count": null,
   "metadata": {
    "id": "_08RxylDuBnp"
   },
   "source": [
    "prediction = pd.DataFrame(model.predict(n_periods = int(data_test.size)), data_test.index)"
   ],
   "outputs": []
  },
  {
   "cell_type": "code",
   "execution_count": null,
   "metadata": {
    "id": "vQ71s0gYuBnp",
    "outputId": "b3105d3e-a83b-42e1-c080-fa2d155560cc",
    "colab": {
     "base_uri": "https://localhost:8080/",
     "height": 455
    },
    "executionInfo": {
     "status": "ok",
     "timestamp": 1671803322180,
     "user_tz": -180,
     "elapsed": 18,
     "user": {
      "displayName": "Артём Усцов",
      "userId": "16141628694791373514"
     }
    }
   },
   "source": [
    "prediction"
   ],
   "outputs": []
  },
  {
   "cell_type": "code",
   "execution_count": null,
   "metadata": {
    "id": "5QmYi5qKuBnp"
   },
   "source": [
    "prediction = prediction .rename(columns = {0:'value'})"
   ],
   "outputs": []
  },
  {
   "cell_type": "markdown",
   "metadata": {
    "id": "-r6Ohi40uBnp"
   },
   "source": [
    "смотрим, что она нам предсказала"
   ]
  },
  {
   "cell_type": "code",
   "execution_count": null,
   "metadata": {
    "id": "Q2SKMROIuBnq",
    "outputId": "aff8926d-e1ff-45d4-b36a-da2c89b211d1",
    "colab": {
     "base_uri": "https://localhost:8080/",
     "height": 290
    },
    "executionInfo": {
     "status": "ok",
     "timestamp": 1671803322661,
     "user_tz": -180,
     "elapsed": 498,
     "user": {
      "displayName": "Артём Усцов",
      "userId": "16141628694791373514"
     }
    }
   },
   "source": [
    "plt.figure()\n",
    "data_train['value'].plot(kind = 'line')\n",
    "data_test['value'].plot(kind = 'line')\n",
    "#plt.plot(data_forecaste, label = \"Prediction\")\n",
    "prediction['value'].plot(kind = 'line')\n",
    "plt.show()"
   ],
   "outputs": []
  },
  {
   "cell_type": "markdown",
   "metadata": {
    "id": "u11PbAj5uBnq"
   },
   "source": [
    "### Функция подсчета метрик для конкурса"
   ]
  },
  {
   "cell_type": "code",
   "execution_count": null,
   "metadata": {
    "id": "bgRyXaSwuBnq"
   },
   "source": [
    "def MAPE(y_true, y_pred):\n",
    "    mape = np.abs(y_pred - y_true) / np.maximum(np.abs(y_true), 1e-6)\n",
    "    mape  = np.average(mape) * 100\n",
    "    return mape"
   ],
   "outputs": []
  },
  {
   "cell_type": "markdown",
   "metadata": {
    "id": "gTiHTMO_uBnq"
   },
   "source": [
    "### MAPE для ARIMA и тестового сабмишена"
   ]
  },
  {
   "cell_type": "code",
   "execution_count": null,
   "metadata": {
    "id": "qfBVIBa7uBnr",
    "outputId": "0319551b-e53d-490b-e2d7-cdb0d1a23327",
    "colab": {
     "base_uri": "https://localhost:8080/"
    },
    "executionInfo": {
     "status": "ok",
     "timestamp": 1671803322662,
     "user_tz": -180,
     "elapsed": 22,
     "user": {
      "displayName": "Артём Усцов",
      "userId": "16141628694791373514"
     }
    }
   },
   "source": [
    "MAPE(data_test, prediction)"
   ],
   "outputs": []
  },
  {
   "cell_type": "code",
   "execution_count": null,
   "metadata": {
    "id": "JnCLujxWuBnr",
    "outputId": "e52769a3-2a33-4e7e-840d-a939f40aefff",
    "colab": {
     "base_uri": "https://localhost:8080/"
    },
    "executionInfo": {
     "status": "ok",
     "timestamp": 1671803322662,
     "user_tz": -180,
     "elapsed": 17,
     "user": {
      "displayName": "Артём Усцов",
      "userId": "16141628694791373514"
     }
    }
   },
   "source": [
    "MAPE(data_test, data_sample)"
   ],
   "outputs": []
  },
  {
   "cell_type": "markdown",
   "metadata": {
    "id": "pwvGlHhhuBnr"
   },
   "source": [
    "## Из пандас строим датасет"
   ]
  },
  {
   "cell_type": "code",
   "execution_count": null,
   "metadata": {
    "id": "J9wZ3_97uBnr"
   },
   "source": [
    "class Stats:\n",
    "    def __init__(self, dataset):\n",
    "        self.mean = np.mean(dataset)\n",
    "        self.std = np.std(dataset)\n",
    "        self.data = (dataset - self.mean) / self.std \n",
    "\n",
    "stats = Stats(data_train)"
   ],
   "outputs": []
  },
  {
   "cell_type": "code",
   "execution_count": null,
   "metadata": {
    "id": "2rSnmhoMuBnr"
   },
   "source": [
    "class TSDataset(Dataset):\n",
    "    \n",
    "    def __init__(self, data, seq_len):\n",
    "        super().__init__()\n",
    "        self._len = len(data) - seq_len + 1 # Кол-во проходов заданным окном\n",
    "        self.mean = stats.mean \n",
    "        self.std = stats.std\n",
    "        self.data = (data- self.mean) / self.std # Нормализация\n",
    "        self.seq_len = seq_len # Длина окна\n",
    "        \n",
    "    def __len__(self):\n",
    "        return self._len\n",
    "    \n",
    "    def __getitem__(self, idx):\n",
    "        d = self.data[idx:idx + self.seq_len] # Берем последовательность датафрейма\n",
    "        targets = []\n",
    "        days   = []\n",
    "        months = []\n",
    "        year = []\n",
    "        weekday = []\n",
    "        for row in  d.iterrows(): # итератор по строкам dataframe\n",
    "            targets += [ row[1]['value'] ] # Получить value из строки\n",
    "            days += [ row[0].day ] # \n",
    "            months += [row[0].month]\n",
    "            year += [row[0].year]\n",
    "            weekday += [row[0].weekday()]\n",
    "            \n",
    "        return torch.LongTensor(days), \\\n",
    "               torch.LongTensor(months), \\\n",
    "               torch.LongTensor(weekday), \\\n",
    "               torch.FloatTensor(targets)"
   ],
   "outputs": []
  },
  {
   "cell_type": "code",
   "execution_count": null,
   "metadata": {
    "id": "BgarH7z3uBns",
    "outputId": "6c1e2568-3d98-4824-bd33-8901be830e3a",
    "colab": {
     "base_uri": "https://localhost:8080/"
    },
    "executionInfo": {
     "status": "ok",
     "timestamp": 1671805028807,
     "user_tz": -180,
     "elapsed": 4,
     "user": {
      "displayName": "Артём Усцов",
      "userId": "16141628694791373514"
     }
    }
   },
   "source": [
    "ds_train = TSDataset(data_train, 20) \n",
    "ds_test  = TSDataset(data_test, 20)\n",
    "print(len(ds_train))\n"
   ],
   "outputs": []
  },
  {
   "cell_type": "markdown",
   "metadata": {
    "id": "5mJ3F371uBns"
   },
   "source": [
    "## Теперь нужно определить нашу модель "
   ]
  },
  {
   "cell_type": "code",
   "execution_count": null,
   "metadata": {
    "id": "wx6ZXBs0kPYJ"
   },
   "source": [
    "def seed_everything(seed: int):\n",
    "    import random, os\n",
    "    import numpy as np\n",
    "    import torch\n",
    "    \n",
    "    random.seed(seed)\n",
    "    os.environ['PYTHONHASHSEED'] = str(seed)\n",
    "    np.random.seed(seed)\n",
    "    torch.manual_seed(seed)\n",
    "    torch.cuda.manual_seed(seed)\n",
    "    torch.backends.cudnn.deterministic = True\n",
    "    torch.backends.cudnn.benchmark = True\n",
    "    \n",
    "seed_everything(777)"
   ],
   "outputs": []
  },
  {
   "cell_type": "code",
   "execution_count": null,
   "metadata": {
    "id": "yULL_vBDkPYK",
    "outputId": "29abae5d-95d3-4f89-b602-4b4bdef4d39c",
    "colab": {
     "base_uri": "https://localhost:8080/"
    },
    "executionInfo": {
     "status": "ok",
     "timestamp": 1671805029508,
     "user_tz": -180,
     "elapsed": 3,
     "user": {
      "displayName": "Артём Усцов",
      "userId": "16141628694791373514"
     }
    }
   },
   "source": [
    "import datetime\n",
    "ans = datetime.date(2022, 1, 4)\n",
    "ans.weekday()"
   ],
   "outputs": []
  },
  {
   "cell_type": "code",
   "execution_count": null,
   "metadata": {
    "id": "ofufupBBuBns"
   },
   "source": [
    "class TimeSeriesModel(nn.Module):\n",
    "    def __init__(self, hidden_size: int, input_sizes: tuple):\n",
    "        super().__init__()\n",
    "        self.mon_emb = nn.Embedding(12+1, input_sizes[0]) # Эмбеддинги для месяцев (обучаемые)\n",
    "        self.day_emb = nn.Embedding(31+1, input_sizes[1]) # Эмбеддинги для годов (обучаемые)\n",
    "        self.weekday_emb = nn.Embedding(7, input_sizes[2])\n",
    "        self.weekend_emb = nn.Embedding(7, input_sizes[3])\n",
    "        \n",
    "        # LSTM input: Эмбеддинги годов, месяцев, значение                      \n",
    "        self._rnn = nn.LSTM(input_sizes[0] + input_sizes[1] + input_sizes[2] + input_sizes[3] + 1,\n",
    "                            hidden_size,  batch_first=True, dropout=0.3)\n",
    "        self._output = nn.Linear(hidden_size, 1)\n",
    "\n",
    "    def forward(self, batch, ctx = None):\n",
    "        days, mons, weekday, targets = batch\n",
    "        mon_tensor = self.mon_emb(mons) # batch_sz x seq_len x emb_len (8 x 20 x 4)\n",
    "        day_tensor = self.day_emb(days)\n",
    "        weekday_tensor = self.weekday_emb(weekday)\n",
    "        weekend = ((weekday == 5) | (weekday == 6))\n",
    "        weekend_tensor = self.weekend_emb(weekend.long())\n",
    "        rnn_input  = torch.cat([mon_tensor, day_tensor, weekday_tensor, weekend_tensor], dim=-1) # 8 x 20 x 8\n",
    "        targets = targets.unsqueeze(-1)\n",
    "        rnn_input = torch.cat([rnn_input, targets ], dim=-1) # 8 x 20 x 9\n",
    "        # Берем все элементы последовательности, кроме последнего, предсказание идет на 1 шаг вперед\n",
    "        rnn_input = rnn_input[:, :-1, :] if ctx is None else rnn_input # 8 x 19 x 9\n",
    "        output, ctx = self._rnn(rnn_input, ctx)\n",
    "        # 8 x 19 x 32, 1 x 8 x 32\n",
    "        # print((self._output(output)).size()) 8 x 19 x 1\n",
    "        output = self._output(output).squeeze() # 8 x 19 \n",
    "        return output, ctx        "
   ],
   "outputs": []
  },
  {
   "cell_type": "markdown",
   "metadata": {
    "id": "5sMJF-D9uBns"
   },
   "source": [
    "### Определяем даталоадеры для теста и трейна"
   ]
  },
  {
   "cell_type": "code",
   "execution_count": null,
   "metadata": {
    "id": "jQy6HEiduBns",
    "outputId": "514e7dfe-591e-45f7-ef91-6800f868f067",
    "colab": {
     "base_uri": "https://localhost:8080/"
    },
    "executionInfo": {
     "status": "ok",
     "timestamp": 1671805030920,
     "user_tz": -180,
     "elapsed": 2,
     "user": {
      "displayName": "Артём Усцов",
      "userId": "16141628694791373514"
     }
    }
   },
   "source": [
    "batch_sz = 8\n",
    "hidden_size = 32\n",
    "emb_size = (3, 4, 2, 1)\n",
    "\n",
    "dl_train = DataLoader(ds_train, batch_sz , True)\n",
    "dl_test = DataLoader(ds_test, batch_sz , False)\n",
    "series_model = TimeSeriesModel(hidden_size, emb_size)"
   ],
   "outputs": []
  },
  {
   "cell_type": "code",
   "execution_count": null,
   "metadata": {
    "id": "XBZL6GaxkPYL"
   },
   "source": [
    "from torch.optim.lr_scheduler import ExponentialLR"
   ],
   "outputs": []
  },
  {
   "cell_type": "code",
   "execution_count": null,
   "metadata": {
    "id": "su4RuAdTuBnt"
   },
   "source": [
    "loss = nn.L1Loss()\n",
    "optimizer = Adam(series_model.parameters(), lr=7e-4)# lr=5e-4)\n",
    "scheduler = ExponentialLR(optimizer, gamma=0.97)"
   ],
   "outputs": []
  },
  {
   "cell_type": "code",
   "execution_count": null,
   "metadata": {
    "id": "2cO-DepLuBnt"
   },
   "source": [
    "# инициализируем тензорборд, для вывода графиков\n",
    "writer = SummaryWriter(log_dir='./rnn_hw')"
   ],
   "outputs": []
  },
  {
   "cell_type": "markdown",
   "metadata": {
    "id": "FGgpY23JuBnt"
   },
   "source": [
    "### Обучаем модель"
   ]
  },
  {
   "cell_type": "code",
   "execution_count": null,
   "metadata": {
    "id": "saddmCO5uBnt"
   },
   "source": [
    "global_epoch = 0\n",
    "global_iter = 0"
   ],
   "outputs": []
  },
  {
   "cell_type": "code",
   "execution_count": null,
   "metadata": {
    "id": "d82IPrHNuBnt"
   },
   "source": [
    "def test_model(epoch):\n",
    "    test_iter  = tqdm(dl_test)\n",
    "    sum_loss = 0\n",
    "    num_batches = 0\n",
    "    for i, batch in enumerate(test_iter):\n",
    "        # Чтобы сохранялась временная зависимость\n",
    "        # для предсказания таргет должен быть смешен на один временной шаг\n",
    "        # относительно входа модели\n",
    "        target = batch[-1][:, 1:]\n",
    "        result, _ = series_model(batch)\n",
    "        batch_loss = loss(result, target)\n",
    "        sum_loss += batch_loss\n",
    "        num_batches += 1\n",
    "    sum_loss /= num_batches\n",
    "    writer.add_scalar('Loss/val', sum_loss , epoch)\n",
    "    print(\"Test:\", sum_loss.item(), epoch)\n",
    "    return sum_loss"
   ],
   "outputs": []
  },
  {
   "cell_type": "code",
   "execution_count": null,
   "metadata": {
    "scrolled": false,
    "id": "Fdiq8kyIkPYM",
    "outputId": "125ae185-ec3b-4fac-8879-cfc7a29632b5",
    "colab": {
     "base_uri": "https://localhost:8080/"
    },
    "executionInfo": {
     "status": "ok",
     "timestamp": 1671807049962,
     "user_tz": -180,
     "elapsed": 2016312,
     "user": {
      "displayName": "Артём Усцов",
      "userId": "16141628694791373514"
     }
    }
   },
   "source": [
    "# модель обучаем в режиме teacher forcing, т.е. на вход подаем сразу всю последовательность,\n",
    "# на выходе таргет должен быть смещен на один временной шаг, чтобы правильно считался лосс\n",
    "\n",
    "for epoch in range(0, 500):\n",
    "    epoch_iter = tqdm(dl_train)\n",
    "    series_model.train()\n",
    "    for batch in epoch_iter:\n",
    "        optimizer.zero_grad()\n",
    "        # Чтобы сохранялась временная зависимость\n",
    "        # для предсказания таргет должен быть смешен на один временной шаг\n",
    "        # относительно входа модели\n",
    "        #print(batch[0].size())\n",
    "        # batch.size() : 4 (day, month, year, target) x batch_sz x seg_len\n",
    "        #import sys\n",
    "        #sys.exit()\n",
    "        target = batch[-1][:,1:] # Берем все значения, начиная  с 1\n",
    "        result, hidden = series_model(batch)\n",
    "        batch_loss = loss(result, target)\n",
    "        batch_loss.backward()\n",
    "        epoch_iter.set_description(\"Epoch: %04d, Iter Loss: %.4f\"  %(epoch, batch_loss))\n",
    "        writer.add_scalar('Loss/train', batch_loss , global_iter)\n",
    "        global_iter += 1\n",
    "        optimizer.step()\n",
    "    scheduler.step()\n",
    "    with torch.no_grad():\n",
    "        series_model.eval()\n",
    "        test_model(global_epoch)\n",
    "    global_epoch += 1"
   ],
   "outputs": []
  },
  {
   "cell_type": "code",
   "execution_count": null,
   "metadata": {
    "id": "iuhFpuvSuBnu"
   },
   "source": [
    "# сохраняем модель\n",
    "torch.save(series_model.state_dict(), 'series_model2.ptx')"
   ],
   "outputs": []
  },
  {
   "cell_type": "code",
   "execution_count": null,
   "metadata": {
    "id": "W2XwivAPuBnu",
    "outputId": "456fe446-059d-4625-8a6f-2441ca16e9a1",
    "colab": {
     "base_uri": "https://localhost:8080/"
    },
    "executionInfo": {
     "status": "ok",
     "timestamp": 1671807049964,
     "user_tz": -180,
     "elapsed": 27,
     "user": {
      "displayName": "Артём Усцов",
      "userId": "16141628694791373514"
     }
    }
   },
   "source": [
    "# восстанавливаем модель\n",
    "series_model = TimeSeriesModel(hidden_size, emb_size)\n",
    "series_model.load_state_dict(torch.load('series_model2.ptx'))"
   ],
   "outputs": []
  },
  {
   "cell_type": "markdown",
   "metadata": {
    "id": "w7zyXH01uBnu"
   },
   "source": [
    "### TODO\n",
    "Теперь нам нужно для нашего тестового сета сгенерировать результат, и сделать правильный сабмишен. В отличии от режима обучения мы не должгны использовать значения таргетов в тесте, поэтому нам придется тут реализовывать инкрементальный режим генерации сети, т.е. когда на вход подаются фичи и таргет с предыдущего шага на каждоим шаге генерации."
   ]
  },
  {
   "cell_type": "code",
   "execution_count": null,
   "metadata": {
    "id": "kPb5sUATkPYN"
   },
   "source": [
    "# новые даталоадеры НЕ перемешанные\n",
    "new_ds_train = TSDataset(data_train, 1) \n",
    "new_ds_test  = TSDataset(data_test, 1)\n",
    "new_dl_train = DataLoader(new_ds_train, 1 , False)\n",
    "new_dl_test = DataLoader(new_ds_test, 1, False)"
   ],
   "outputs": []
  },
  {
   "cell_type": "code",
   "execution_count": null,
   "metadata": {
    "id": "kcjRYPZVkPYN"
   },
   "source": [
    "# Уже с предобученной моделью - посчитаем h, c за все предыдущие года\n",
    "h = torch.zeros(1, 1, hidden_size)\n",
    "c = torch.zeros(1, 1, hidden_size)\n",
    "hidden = (h, c)\n",
    "ole = []\n",
    "with torch.no_grad():\n",
    "    series_model.eval()\n",
    "    for batch in new_dl_train:\n",
    "        result, hidden = series_model(batch, hidden) # Накапливаем память о последовательности\n",
    "        ole.append(result.item())\n",
    "last_res = result\n",
    "results = []\n",
    "\n",
    "with torch.no_grad():\n",
    "    series_model.eval()\n",
    "    for batch in new_dl_test:\n",
    "        batch[3][0] = last_res\n",
    "        results.append(last_res.item())\n",
    "        last_res, hidden = series_model(batch, hidden)\n",
    "results = np.array(results)"
   ],
   "outputs": []
  },
  {
   "cell_type": "code",
   "execution_count": null,
   "metadata": {
    "id": "g3b0-lCBkPYO",
    "outputId": "69fd74f7-1496-4012-b5e6-d62fe11b8d5a",
    "colab": {
     "base_uri": "https://localhost:8080/"
    },
    "executionInfo": {
     "status": "ok",
     "timestamp": 1671807051302,
     "user_tz": -180,
     "elapsed": 253,
     "user": {
      "displayName": "Артём Усцов",
      "userId": "16141628694791373514"
     }
    }
   },
   "source": [
    "plt.plot(results)"
   ],
   "outputs": []
  },
  {
   "cell_type": "code",
   "execution_count": null,
   "metadata": {
    "id": "I52cx7eOkPYO"
   },
   "source": [
    "results = results * stats.std.value + stats.mean.value"
   ],
   "outputs": []
  },
  {
   "cell_type": "code",
   "execution_count": null,
   "metadata": {
    "id": "hM7I-i5gkPYO"
   },
   "source": [
    "prediction = pd.DataFrame(results, data_test.index)\n",
    "prediction = prediction.rename(columns = {0:'value'})"
   ],
   "outputs": []
  },
  {
   "cell_type": "code",
   "execution_count": null,
   "metadata": {
    "scrolled": true,
    "id": "ead0ZFVPkPYO",
    "outputId": "1a7d061c-b9d7-4dab-fc71-11428423a49e",
    "colab": {
     "base_uri": "https://localhost:8080/"
    },
    "executionInfo": {
     "status": "ok",
     "timestamp": 1671807051543,
     "user_tz": -180,
     "elapsed": 244,
     "user": {
      "displayName": "Артём Усцов",
      "userId": "16141628694791373514"
     }
    }
   },
   "source": [
    "plt.figure()\n",
    "data_train['value'].plot(kind = 'line')\n",
    "data_test['value'].plot(kind = 'line')\n",
    "#plt.plot(data_forecaste, label = \"Prediction\")\n",
    "prediction['value'].plot()\n",
    "plt.show()"
   ],
   "outputs": []
  },
  {
   "cell_type": "code",
   "execution_count": null,
   "metadata": {
    "id": "pqoHeqKrkPYO",
    "outputId": "286c1326-4679-43d3-e528-0dcfa09f5023",
    "colab": {
     "base_uri": "https://localhost:8080/"
    },
    "executionInfo": {
     "status": "ok",
     "timestamp": 1671807051543,
     "user_tz": -180,
     "elapsed": 12,
     "user": {
      "displayName": "Артём Усцов",
      "userId": "16141628694791373514"
     }
    }
   },
   "source": [
    "MAPE(data_test, prediction)"
   ],
   "outputs": []
  },
  {
   "cell_type": "code",
   "execution_count": null,
   "metadata": {
    "id": "i_MTuikxkPYO",
    "outputId": "bdaec3a5-9fa0-4268-d0da-2178daef2b26",
    "colab": {
     "base_uri": "https://localhost:8080/"
    },
    "executionInfo": {
     "status": "ok",
     "timestamp": 1671807051544,
     "user_tz": -180,
     "elapsed": 10,
     "user": {
      "displayName": "Артём Усцов",
      "userId": "16141628694791373514"
     }
    }
   },
   "source": [
    "MAPE(data_test, prediction)"
   ],
   "outputs": []
  },
  {
   "cell_type": "code",
   "execution_count": null,
   "metadata": {
    "id": "Al7DFmHRkPYO",
    "outputId": "f93f2856-7f4a-4432-f3bf-d5d94679aff8",
    "colab": {
     "base_uri": "https://localhost:8080/"
    },
    "executionInfo": {
     "status": "ok",
     "timestamp": 1671807051544,
     "user_tz": -180,
     "elapsed": 8,
     "user": {
      "displayName": "Артём Усцов",
      "userId": "16141628694791373514"
     }
    }
   },
   "source": [
    "prediction = prediction.rename(columns = {\"value\" :'hits'})\n",
    "prediction"
   ],
   "outputs": []
  },
  {
   "cell_type": "code",
   "execution_count": null,
   "metadata": {
    "id": "dUYAZr0ZkPYP"
   },
   "source": [
    "prediction.to_csv(\"submission.csv\")"
   ],
   "outputs": []
  },
  {
   "cell_type": "code",
   "execution_count": null,
   "metadata": {
    "id": "Pf6tuM4EkPYP"
   },
   "source": [],
   "outputs": []
  }
 ],
 "metadata": {
  "colab": {
   "provenance": []
  },
  "kernelspec": {
   "display_name": "Python 3 (ipykernel)",
   "language": "python",
   "name": "python3"
  },
  "language_info": {
   "codemirror_mode": {
    "name": "ipython",
    "version": 3
   },
   "file_extension": ".py",
   "mimetype": "text/x-python",
   "name": "python",
   "nbconvert_exporter": "python",
   "pygments_lexer": "ipython3",
   "version": "3.8.10"
  }
 },
 "nbformat": 4,
 "nbformat_minor": 0
}
