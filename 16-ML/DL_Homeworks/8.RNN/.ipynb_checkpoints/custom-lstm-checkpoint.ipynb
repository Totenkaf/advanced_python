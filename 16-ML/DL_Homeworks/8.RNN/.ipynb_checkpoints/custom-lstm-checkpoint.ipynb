{
 "cells": [
  {
   "cell_type": "code",
   "execution_count": null,
   "id": "e64e7403",
   "metadata": {
    "execution": {
     "iopub.execute_input": "2022-04-09T16:01:46.058238Z",
     "iopub.status.busy": "2022-04-09T16:01:46.056445Z",
     "iopub.status.idle": "2022-04-09T16:01:58.317060Z",
     "shell.execute_reply": "2022-04-09T16:01:58.316151Z",
     "shell.execute_reply.started": "2022-04-09T15:58:12.792961Z"
    },
    "papermill": {
     "duration": 12.310499,
     "end_time": "2022-04-09T16:01:58.317256",
     "exception": false,
     "start_time": "2022-04-09T16:01:46.006757",
     "status": "completed"
    },
    "tags": []
   },
   "source": [
    "!pip3 install pmdarima\n",
    "!pip3 install pyplot"
   ],
   "outputs": []
  },
  {
   "cell_type": "code",
   "execution_count": 18,
   "id": "c6335092",
   "metadata": {
    "execution": {
     "iopub.execute_input": "2022-04-09T16:01:58.433024Z",
     "iopub.status.busy": "2022-04-09T16:01:58.432194Z",
     "iopub.status.idle": "2022-04-09T16:02:02.042234Z",
     "shell.execute_reply": "2022-04-09T16:02:02.041439Z",
     "shell.execute_reply.started": "2022-04-09T15:58:21.557144Z"
    },
    "papermill": {
     "duration": 3.673198,
     "end_time": "2022-04-09T16:02:02.042388",
     "exception": false,
     "start_time": "2022-04-09T16:01:58.369190",
     "status": "completed"
    },
    "tags": []
   },
   "source": [
    "import torch\n",
    "import torch.nn as nn\n",
    "from torch.optim import Adam\n",
    "from torch.utils.data import DataLoader, Dataset\n",
    "from datetime import datetime\n",
    "from torch.utils.tensorboard import SummaryWriter\n",
    "import pandas as pd\n",
    "import os\n",
    "from tqdm.notebook import tqdm\n",
    "import matplotlib.pyplot as plt\n",
    "from sklearn.metrics import mean_absolute_error, mean_squared_error, r2_score\n",
    "import pmdarima as pm\n",
    "import numpy as np\n",
    "\n",
    "RANDOM_SEED = 90\n",
    "\n",
    "np.random.seed(RANDOM_SEED)\n",
    "torch.manual_seed(RANDOM_SEED)\n",
    "\n",
    "device = \"cuda\" if torch.cuda.is_available() else \"cpu\"\n",
    "print(f\"{device}\" \" is available.\")\n",
    "\n",
    "%matplotlib inline"
   ],
   "outputs": []
  },
  {
   "cell_type": "markdown",
   "id": "d7496e0f",
   "metadata": {
    "papermill": {
     "duration": 0.052735,
     "end_time": "2022-04-09T16:02:02.145582",
     "exception": false,
     "start_time": "2022-04-09T16:02:02.092847",
     "status": "completed"
    },
    "tags": []
   },
   "source": [
    "# Ноутбук для ДЗ №8 обработка временных последовательностей RNN\n",
    "В данном дз вам будут данных времменая последовательно, которая описывает распределение хитов по времени за несколько лет. Вам нужно будет обучить модель RNN на исторических данных и потом сделать предсказание для \"будущего\" года, в текущей задаче это 2019 год"
   ]
  },
  {
   "cell_type": "markdown",
   "id": "5c89c3d4",
   "metadata": {
    "papermill": {
     "duration": 0.049602,
     "end_time": "2022-04-09T16:02:02.245298",
     "exception": false,
     "start_time": "2022-04-09T16:02:02.195696",
     "status": "completed"
    },
    "tags": []
   },
   "source": [
    "## Готовим данные\n",
    "Три файла с данными\n",
    "1. исторические данные - train\n",
    "2. Тестовые данные текущего момента - derived\n",
    "3. Пример сабмита резкльтатов конкурса на кагле"
   ]
  },
  {
   "cell_type": "code",
   "execution_count": 2,
   "id": "9516519f",
   "metadata": {
    "execution": {
     "iopub.execute_input": "2022-04-09T16:02:02.353235Z",
     "iopub.status.busy": "2022-04-09T16:02:02.352295Z",
     "iopub.status.idle": "2022-04-09T16:02:02.355101Z",
     "shell.execute_reply": "2022-04-09T16:02:02.354554Z",
     "shell.execute_reply.started": "2022-04-09T15:58:21.578485Z"
    },
    "papermill": {
     "duration": 0.059693,
     "end_time": "2022-04-09T16:02:02.355257",
     "exception": false,
     "start_time": "2022-04-09T16:02:02.295564",
     "status": "completed"
    },
    "tags": []
   },
   "source": [
    "def read_set(file):\n",
    "    data = pd.read_csv(file)\n",
    "    data['date'] = pd.to_datetime(data['date'])\n",
    "    data = data.rename(columns = {'DATE':'date'})\n",
    "    data = data.rename(columns = {'hits':'value'})\n",
    "    data = data.set_index('date')\n",
    "    return data"
   ],
   "outputs": []
  },
  {
   "cell_type": "code",
   "execution_count": 3,
   "id": "8e34bf20",
   "metadata": {},
   "source": [
    "# get data\n",
    "!wget https://github.com/Totenkaf/DL_Homeworks/raw/main/HW_8/data/derived.csv -P data/\n",
    "!wget https://github.com/Totenkaf/DL_Homeworks/raw/main/HW_8/data/sample_submission.csv -P data/\n",
    "!wget https://github.com/Totenkaf/DL_Homeworks/raw/main/HW_8/data/train.csv -P data/"
   ],
   "outputs": []
  },
  {
   "cell_type": "code",
   "execution_count": 19,
   "id": "4125c00f",
   "metadata": {},
   "source": [
    "# make subsidiary directories\n",
    "!mkdir -p logs\n",
    "!mkdir -p models\n",
    "!mkdir -p submissions"
   ],
   "outputs": []
  },
  {
   "cell_type": "code",
   "execution_count": 20,
   "id": "cde3554f",
   "metadata": {
    "execution": {
     "iopub.execute_input": "2022-04-09T16:02:02.460437Z",
     "iopub.status.busy": "2022-04-09T16:02:02.459448Z",
     "iopub.status.idle": "2022-04-09T16:02:02.509853Z",
     "shell.execute_reply": "2022-04-09T16:02:02.510331Z",
     "shell.execute_reply.started": "2022-04-09T15:58:21.588367Z"
    },
    "papermill": {
     "duration": 0.104216,
     "end_time": "2022-04-09T16:02:02.510529",
     "exception": false,
     "start_time": "2022-04-09T16:02:02.406313",
     "status": "completed"
    },
    "tags": []
   },
   "source": [
    "data_train = read_set('data/train.csv')\n",
    "data_test =  read_set('data/derived.csv')\n",
    "data_sample = read_set('data/sample_submission.csv')"
   ],
   "outputs": []
  },
  {
   "cell_type": "markdown",
   "id": "1295567e",
   "metadata": {
    "papermill": {
     "duration": 0.049843,
     "end_time": "2022-04-09T16:02:02.611891",
     "exception": false,
     "start_time": "2022-04-09T16:02:02.562048",
     "status": "completed"
    },
    "tags": []
   },
   "source": [
    "### Проверим наши данные, что мы загрузили"
   ]
  },
  {
   "cell_type": "code",
   "execution_count": 21,
   "id": "f8f7c347",
   "metadata": {
    "execution": {
     "iopub.execute_input": "2022-04-09T16:02:02.747476Z",
     "iopub.status.busy": "2022-04-09T16:02:02.746423Z",
     "iopub.status.idle": "2022-04-09T16:02:02.751077Z",
     "shell.execute_reply": "2022-04-09T16:02:02.751526Z",
     "shell.execute_reply.started": "2022-04-09T15:58:21.628721Z"
    },
    "papermill": {
     "duration": 0.089637,
     "end_time": "2022-04-09T16:02:02.751750",
     "exception": false,
     "start_time": "2022-04-09T16:02:02.662113",
     "status": "completed"
    },
    "tags": []
   },
   "source": [
    "print(data_train.info())\n",
    "print(data_test.info())\n",
    "print(data_sample.info())"
   ],
   "outputs": []
  },
  {
   "cell_type": "markdown",
   "id": "197d6716",
   "metadata": {
    "papermill": {
     "duration": 0.050686,
     "end_time": "2022-04-09T16:02:02.854285",
     "exception": false,
     "start_time": "2022-04-09T16:02:02.803599",
     "status": "completed"
    },
    "tags": []
   },
   "source": [
    "## Графики наших временных последовательностей"
   ]
  },
  {
   "cell_type": "code",
   "execution_count": 22,
   "id": "74139e9b",
   "metadata": {
    "execution": {
     "iopub.execute_input": "2022-04-09T16:02:02.972497Z",
     "iopub.status.busy": "2022-04-09T16:02:02.971637Z",
     "iopub.status.idle": "2022-04-09T16:02:03.002055Z",
     "shell.execute_reply": "2022-04-09T16:02:03.001289Z",
     "shell.execute_reply.started": "2022-04-09T15:58:21.657792Z"
    },
    "papermill": {
     "duration": 0.092648,
     "end_time": "2022-04-09T16:02:03.002211",
     "exception": false,
     "start_time": "2022-04-09T16:02:02.909563",
     "status": "completed"
    },
    "tags": []
   },
   "source": [
    "import plotly.graph_objs as go\n",
    "from plotly.offline import iplot\n",
    "\n",
    "def plot_datasets(df_s, names, title=None):\n",
    "    data = []\n",
    "    for i, df in enumerate(df_s):\n",
    "        value = go.Scatter(\n",
    "            x=df.index,\n",
    "            y=df.value,\n",
    "            mode=\"lines\",\n",
    "            name=names[i],\n",
    "            marker=dict(),\n",
    "            text=df.index,\n",
    "        )\n",
    "\n",
    "        data.append(value)\n",
    "\n",
    "    layout = dict(\n",
    "        title=title,\n",
    "        xaxis=dict(title=\"Date\", ticklen=5, zeroline=False),\n",
    "        yaxis=dict(title=\"Value\", ticklen=5, zeroline=False),\n",
    "    )\n",
    "\n",
    "    fig = dict(data=data, layout=layout)\n",
    "    iplot(fig)"
   ],
   "outputs": []
  },
  {
   "cell_type": "code",
   "execution_count": 23,
   "id": "35570201",
   "metadata": {
    "execution": {
     "iopub.execute_input": "2022-04-09T16:02:03.111278Z",
     "iopub.status.busy": "2022-04-09T16:02:03.110547Z",
     "iopub.status.idle": "2022-04-09T16:02:04.236123Z",
     "shell.execute_reply": "2022-04-09T16:02:04.236669Z",
     "shell.execute_reply.started": "2022-04-09T15:58:21.667433Z"
    },
    "papermill": {
     "duration": 1.183342,
     "end_time": "2022-04-09T16:02:04.236853",
     "exception": false,
     "start_time": "2022-04-09T16:02:03.053511",
     "status": "completed"
    },
    "tags": []
   },
   "source": [
    "plot_datasets([data_train, data_test, data_sample], names=['Train', 'Test', 'Sample'], title='Data')"
   ],
   "outputs": []
  },
  {
   "cell_type": "markdown",
   "id": "448b436a",
   "metadata": {
    "papermill": {
     "duration": 0.054118,
     "end_time": "2022-04-09T16:02:04.348439",
     "exception": false,
     "start_time": "2022-04-09T16:02:04.294321",
     "status": "completed"
    },
    "tags": []
   },
   "source": [
    "## Статистическая модель [ARIMA](https://ru.wikipedia.org/wiki/ARIMA)\n"
   ]
  },
  {
   "cell_type": "code",
   "execution_count": 10,
   "id": "14fa1584",
   "metadata": {
    "execution": {
     "iopub.execute_input": "2022-04-09T16:02:04.465345Z",
     "iopub.status.busy": "2022-04-09T16:02:04.463643Z",
     "iopub.status.idle": "2022-04-09T16:02:04.468085Z",
     "shell.execute_reply": "2022-04-09T16:02:04.467378Z",
     "shell.execute_reply.started": "2022-04-09T15:58:21.882266Z"
    },
    "papermill": {
     "duration": 0.062599,
     "end_time": "2022-04-09T16:02:04.468244",
     "exception": false,
     "start_time": "2022-04-09T16:02:04.405645",
     "status": "completed"
    },
    "tags": []
   },
   "source": [
    "# обучаем модель\n",
    "arima_model=model = pm.auto_arima(data_train, \n",
    "                                   seasonal=True, m=4, test='adf', error_action='ignore',  \n",
    "                                   suppress_warnings=True,\n",
    "                                   stepwise=True, trace=True\n",
    "                              )"
   ],
   "outputs": []
  },
  {
   "cell_type": "code",
   "execution_count": 11,
   "id": "1a430ee8",
   "metadata": {
    "execution": {
     "iopub.execute_input": "2022-04-09T16:02:04.584711Z",
     "iopub.status.busy": "2022-04-09T16:02:04.583646Z",
     "iopub.status.idle": "2022-04-09T16:02:04.585850Z",
     "shell.execute_reply": "2022-04-09T16:02:04.586324Z",
     "shell.execute_reply.started": "2022-04-09T15:58:21.888461Z"
    },
    "papermill": {
     "duration": 0.062653,
     "end_time": "2022-04-09T16:02:04.586514",
     "exception": false,
     "start_time": "2022-04-09T16:02:04.523861",
     "status": "completed"
    },
    "tags": []
   },
   "source": [
    "prediction = pd.DataFrame(model.predict(n_periods=int(data_test.size)), data_test.index)"
   ],
   "outputs": []
  },
  {
   "cell_type": "code",
   "execution_count": 12,
   "id": "894ccf71",
   "metadata": {
    "execution": {
     "iopub.execute_input": "2022-04-09T16:02:04.701715Z",
     "iopub.status.busy": "2022-04-09T16:02:04.700948Z",
     "iopub.status.idle": "2022-04-09T16:02:04.703333Z",
     "shell.execute_reply": "2022-04-09T16:02:04.703847Z",
     "shell.execute_reply.started": "2022-04-09T15:58:21.901994Z"
    },
    "papermill": {
     "duration": 0.06289,
     "end_time": "2022-04-09T16:02:04.704021",
     "exception": false,
     "start_time": "2022-04-09T16:02:04.641131",
     "status": "completed"
    },
    "tags": []
   },
   "source": [
    "prediction = prediction.rename(columns = {0:'value'})"
   ],
   "outputs": []
  },
  {
   "cell_type": "markdown",
   "id": "5790d9f2",
   "metadata": {
    "papermill": {
     "duration": 0.05379,
     "end_time": "2022-04-09T16:02:04.812147",
     "exception": false,
     "start_time": "2022-04-09T16:02:04.758357",
     "status": "completed"
    },
    "tags": []
   },
   "source": [
    "смотрим, что она нам предсказала"
   ]
  },
  {
   "cell_type": "code",
   "execution_count": 24,
   "id": "8824b059",
   "metadata": {
    "execution": {
     "iopub.execute_input": "2022-04-09T16:02:04.925558Z",
     "iopub.status.busy": "2022-04-09T16:02:04.924881Z",
     "iopub.status.idle": "2022-04-09T16:02:04.927227Z",
     "shell.execute_reply": "2022-04-09T16:02:04.926671Z",
     "shell.execute_reply.started": "2022-04-09T15:58:21.913816Z"
    },
    "papermill": {
     "duration": 0.061289,
     "end_time": "2022-04-09T16:02:04.927367",
     "exception": false,
     "start_time": "2022-04-09T16:02:04.866078",
     "status": "completed"
    },
    "tags": []
   },
   "source": [
    "plot_datasets([data_train, data_test, prediction], names=['Train', 'Test', 'Arima'], title='Data')"
   ],
   "outputs": []
  },
  {
   "cell_type": "code",
   "execution_count": 25,
   "id": "ece3057b",
   "metadata": {},
   "source": [
    "res = calculate_metrics(data_test, data_sample)"
   ],
   "outputs": []
  },
  {
   "cell_type": "markdown",
   "id": "ec715871",
   "metadata": {
    "papermill": {
     "duration": 0.05532,
     "end_time": "2022-04-09T16:02:05.038320",
     "exception": false,
     "start_time": "2022-04-09T16:02:04.983000",
     "status": "completed"
    },
    "tags": []
   },
   "source": [
    "### Функция подсчета метрик для конкурса"
   ]
  },
  {
   "cell_type": "code",
   "execution_count": 16,
   "id": "0f575188",
   "metadata": {
    "execution": {
     "iopub.execute_input": "2022-04-09T16:02:05.160324Z",
     "iopub.status.busy": "2022-04-09T16:02:05.159209Z",
     "iopub.status.idle": "2022-04-09T16:02:05.162367Z",
     "shell.execute_reply": "2022-04-09T16:02:05.161696Z",
     "shell.execute_reply.started": "2022-04-09T15:58:21.927353Z"
    },
    "papermill": {
     "duration": 0.068301,
     "end_time": "2022-04-09T16:02:05.162516",
     "exception": false,
     "start_time": "2022-04-09T16:02:05.094215",
     "status": "completed"
    },
    "tags": []
   },
   "source": [
    "def MAPE(y_true, y_pred):\n",
    "    mape = np.abs(y_pred - y_true) / np.maximum(np.abs(y_true), 1e-6)\n",
    "    mape  = np.average(mape) * 100\n",
    "    return mape\n",
    "\n",
    "def calculate_metrics(value, prediction):\n",
    "    result_metrics = {\n",
    "        'MAE' : mean_absolute_error(value, prediction),\n",
    "        'RMSE' : mean_squared_error(value, prediction, squared=False),\n",
    "        'R2' : r2_score(value, prediction),\n",
    "        'MAPE': MAPE(value, prediction)\n",
    "    }\n",
    "    \n",
    "    print(f\"Mean Absolute Error:       {result_metrics['MAE']}\")\n",
    "    print(f\"Root Mean Squared Error:   {result_metrics['RMSE']}\")\n",
    "    print(f\"R2 Score:                  {result_metrics['R2']}\")\n",
    "    print(f\"MAPE Score:                {result_metrics['MAPE']}\")\n",
    "\n",
    "    return result_metrics"
   ],
   "outputs": []
  },
  {
   "cell_type": "markdown",
   "id": "989e0172",
   "metadata": {
    "papermill": {
     "duration": 0.054367,
     "end_time": "2022-04-09T16:02:05.271759",
     "exception": false,
     "start_time": "2022-04-09T16:02:05.217392",
     "status": "completed"
    },
    "tags": []
   },
   "source": [
    "### MAPE для ARIMA и тестового сабмишена"
   ]
  },
  {
   "cell_type": "code",
   "execution_count": null,
   "id": "8129527e",
   "metadata": {
    "execution": {
     "iopub.execute_input": "2022-04-09T16:02:05.386005Z",
     "iopub.status.busy": "2022-04-09T16:02:05.384993Z",
     "iopub.status.idle": "2022-04-09T16:02:05.400228Z",
     "shell.execute_reply": "2022-04-09T16:02:05.400834Z",
     "shell.execute_reply.started": "2022-04-09T15:58:21.941576Z"
    },
    "papermill": {
     "duration": 0.07465,
     "end_time": "2022-04-09T16:02:05.401036",
     "exception": false,
     "start_time": "2022-04-09T16:02:05.326386",
     "status": "completed"
    },
    "tags": []
   },
   "source": [],
   "outputs": []
  },
  {
   "cell_type": "markdown",
   "id": "4c785a07",
   "metadata": {
    "papermill": {
     "duration": 0.054243,
     "end_time": "2022-04-09T16:02:05.510383",
     "exception": false,
     "start_time": "2022-04-09T16:02:05.456140",
     "status": "completed"
    },
    "tags": []
   },
   "source": [
    "## Из пандас строим датасет"
   ]
  },
  {
   "cell_type": "code",
   "execution_count": null,
   "id": "4c11f199",
   "metadata": {
    "execution": {
     "iopub.execute_input": "2022-04-09T16:02:05.623831Z",
     "iopub.status.busy": "2022-04-09T16:02:05.622715Z",
     "iopub.status.idle": "2022-04-09T16:02:05.627955Z",
     "shell.execute_reply": "2022-04-09T16:02:05.628435Z",
     "shell.execute_reply.started": "2022-04-09T15:58:21.966404Z"
    },
    "papermill": {
     "duration": 0.06355,
     "end_time": "2022-04-09T16:02:05.628658",
     "exception": false,
     "start_time": "2022-04-09T16:02:05.565108",
     "status": "completed"
    },
    "tags": []
   },
   "source": [
    "from sklearn.preprocessing import MinMaxScaler, StandardScaler, MaxAbsScaler, RobustScaler\n",
    "\n",
    "def get_scaler(scaler):\n",
    "    scalers = {\n",
    "        \"minmax\": MinMaxScaler,\n",
    "        \"standard\": StandardScaler,\n",
    "        \"maxabs\": MaxAbsScaler,\n",
    "        \"robust\": RobustScaler,\n",
    "    }\n",
    "    return scalers.get(scaler.lower())()"
   ],
   "outputs": []
  },
  {
   "cell_type": "code",
   "execution_count": null,
   "id": "a66e40ca",
   "metadata": {
    "execution": {
     "iopub.execute_input": "2022-04-09T16:02:05.750756Z",
     "iopub.status.busy": "2022-04-09T16:02:05.749833Z",
     "iopub.status.idle": "2022-04-09T16:02:05.752604Z",
     "shell.execute_reply": "2022-04-09T16:02:05.752087Z",
     "shell.execute_reply.started": "2022-04-09T15:58:21.978599Z"
    },
    "papermill": {
     "duration": 0.068899,
     "end_time": "2022-04-09T16:02:05.752802",
     "exception": false,
     "start_time": "2022-04-09T16:02:05.683903",
     "status": "completed"
    },
    "tags": []
   },
   "source": [
    "class TSDataset(Dataset):\n",
    "    def __init__(self, data, seq_len):\n",
    "        super().__init__()\n",
    "        # будем обучать окнами, поэтому сделаем отступ\n",
    "        self._len = len(data) - (seq_len - 1)\n",
    "        self._len -= 1 # Добавим 1 к seq_len, чтобы возвращать y\n",
    "        print(data, self._len)\n",
    "        self.data = data\n",
    "        self.seq_len = seq_len\n",
    "        \n",
    "    def __len__(self):\n",
    "        return self._len\n",
    "    \n",
    "    def __getitem__(self, idx):\n",
    "        d = self.data[idx:idx + self.seq_len]\n",
    "        targets = []\n",
    "        days   = []\n",
    "        months = []\n",
    "        year = []\n",
    "        y = []\n",
    "        for i, row in enumerate(d.iterrows()):\n",
    "            if i+1 < self.seq_len:\n",
    "                targets += [ row[1]['value'] ]\n",
    "                days += [ row[0].day ]\n",
    "                months += [ row[0].month ]\n",
    "                year += [ row[0].year ]\n",
    "            else:\n",
    "                y += [ row[1]['value'] ]\n",
    "            \n",
    "        return torch.LongTensor(days), \\\n",
    "                torch.LongTensor(months), \\\n",
    "                torch.LongTensor(year), \\\n",
    "                torch.FloatTensor(targets), \\\n",
    "                torch.FloatTensor(y)"
   ],
   "outputs": []
  },
  {
   "cell_type": "code",
   "execution_count": null,
   "id": "28c80ed9",
   "metadata": {
    "execution": {
     "iopub.execute_input": "2022-04-09T16:02:05.871756Z",
     "iopub.status.busy": "2022-04-09T16:02:05.870947Z",
     "iopub.status.idle": "2022-04-09T16:02:05.889508Z",
     "shell.execute_reply": "2022-04-09T16:02:05.890109Z",
     "shell.execute_reply.started": "2022-04-09T15:58:21.993255Z"
    },
    "papermill": {
     "duration": 0.082693,
     "end_time": "2022-04-09T16:02:05.890289",
     "exception": false,
     "start_time": "2022-04-09T16:02:05.807596",
     "status": "completed"
    },
    "tags": []
   },
   "source": [
    "data_train"
   ],
   "outputs": []
  },
  {
   "cell_type": "code",
   "execution_count": null,
   "id": "7a224af5",
   "metadata": {
    "execution": {
     "iopub.execute_input": "2022-04-09T16:02:06.005820Z",
     "iopub.status.busy": "2022-04-09T16:02:06.005109Z",
     "iopub.status.idle": "2022-04-09T16:02:06.015285Z",
     "shell.execute_reply": "2022-04-09T16:02:06.015887Z",
     "shell.execute_reply.started": "2022-04-09T15:58:22.018188Z"
    },
    "papermill": {
     "duration": 0.070555,
     "end_time": "2022-04-09T16:02:06.016072",
     "exception": false,
     "start_time": "2022-04-09T16:02:05.945517",
     "status": "completed"
    },
    "tags": []
   },
   "source": [
    "data_test"
   ],
   "outputs": []
  },
  {
   "cell_type": "code",
   "execution_count": null,
   "id": "7f2e1aa2",
   "metadata": {
    "execution": {
     "iopub.execute_input": "2022-04-09T16:02:06.132635Z",
     "iopub.status.busy": "2022-04-09T16:02:06.131954Z",
     "iopub.status.idle": "2022-04-09T16:02:06.147155Z",
     "shell.execute_reply": "2022-04-09T16:02:06.147734Z",
     "shell.execute_reply.started": "2022-04-09T15:58:22.037122Z"
    },
    "papermill": {
     "duration": 0.07478,
     "end_time": "2022-04-09T16:02:06.147926",
     "exception": false,
     "start_time": "2022-04-09T16:02:06.073146",
     "status": "completed"
    },
    "tags": []
   },
   "source": [
    "data_train_scaled = data_train.copy()\n",
    "data_test_scaled = data_test.copy()\n",
    "\n",
    "shift_size = 20\n",
    "\n",
    "data_test_shifted = pd.concat([ data_train_scaled.tail(shift_size), data_test_scaled])\n",
    "data_shifted = data_train_scaled.iloc[:-shift_size]\n",
    "\n",
    "# Нормализуем таргеты\n",
    "scaler = get_scaler('minmax')\n",
    "\n",
    "data_shifted[['value']] = scaler.fit_transform(data_shifted[['value']])\n",
    "data_test_shifted[['value']] = scaler.transform(data_test_shifted[['value']])"
   ],
   "outputs": []
  },
  {
   "cell_type": "code",
   "execution_count": null,
   "id": "ac9ef9b7",
   "metadata": {
    "execution": {
     "iopub.execute_input": "2022-04-09T16:02:06.267729Z",
     "iopub.status.busy": "2022-04-09T16:02:06.266677Z",
     "iopub.status.idle": "2022-04-09T16:02:06.277088Z",
     "shell.execute_reply": "2022-04-09T16:02:06.277601Z",
     "shell.execute_reply.started": "2022-04-09T15:58:22.061412Z"
    },
    "papermill": {
     "duration": 0.072787,
     "end_time": "2022-04-09T16:02:06.277797",
     "exception": false,
     "start_time": "2022-04-09T16:02:06.205010",
     "status": "completed"
    },
    "tags": []
   },
   "source": [
    "ds_train = TSDataset(data_shifted, shift_size) \n",
    "ds_test  = TSDataset(data_test_shifted, shift_size)"
   ],
   "outputs": []
  },
  {
   "cell_type": "code",
   "execution_count": null,
   "id": "5760e64e",
   "metadata": {
    "execution": {
     "iopub.execute_input": "2022-04-09T16:02:06.403002Z",
     "iopub.status.busy": "2022-04-09T16:02:06.394586Z",
     "iopub.status.idle": "2022-04-09T16:02:06.487987Z",
     "shell.execute_reply": "2022-04-09T16:02:06.488667Z",
     "shell.execute_reply.started": "2022-04-09T15:58:22.081737Z"
    },
    "papermill": {
     "duration": 0.153785,
     "end_time": "2022-04-09T16:02:06.488909",
     "exception": false,
     "start_time": "2022-04-09T16:02:06.335124",
     "status": "completed"
    },
    "tags": []
   },
   "source": [
    "print(ds_train[1057])\n",
    "ds_test[0]"
   ],
   "outputs": []
  },
  {
   "cell_type": "markdown",
   "id": "feadb726",
   "metadata": {
    "papermill": {
     "duration": 0.056889,
     "end_time": "2022-04-09T16:02:06.603728",
     "exception": false,
     "start_time": "2022-04-09T16:02:06.546839",
     "status": "completed"
    },
    "tags": []
   },
   "source": [
    "## Теперь нужно определить нашу модель "
   ]
  },
  {
   "cell_type": "code",
   "execution_count": null,
   "id": "afea98e8",
   "metadata": {
    "execution": {
     "iopub.execute_input": "2022-04-09T16:02:06.727596Z",
     "iopub.status.busy": "2022-04-09T16:02:06.726859Z",
     "iopub.status.idle": "2022-04-09T16:02:06.734467Z",
     "shell.execute_reply": "2022-04-09T16:02:06.735019Z",
     "shell.execute_reply.started": "2022-04-09T15:58:22.102920Z"
    },
    "papermill": {
     "duration": 0.074204,
     "end_time": "2022-04-09T16:02:06.735226",
     "exception": false,
     "start_time": "2022-04-09T16:02:06.661022",
     "status": "completed"
    },
    "tags": []
   },
   "source": [
    "class LSTMModel(nn.Module):\n",
    "    def __init__(self, input_dim, hidden_dim, layer_dim, output_dim, dropout_prob, use_ctx=False):\n",
    "        super(LSTMModel, self).__init__()\n",
    "\n",
    "        self.hidden_dim = hidden_dim\n",
    "        self.layer_dim = layer_dim\n",
    "        self.use_ctx = use_ctx\n",
    "\n",
    "        self.day_emb = nn.Embedding(32, input_dim[0])\n",
    "        self.month_emb = nn.Embedding(13, input_dim[1])\n",
    "\n",
    "        self.lstm = nn.LSTM(\n",
    "            sum(input_dim)+1, hidden_dim, layer_dim, batch_first=True, dropout=dropout_prob, bias=True\n",
    "        )\n",
    "\n",
    "        self.fc = nn.Linear(hidden_dim, output_dim)\n",
    "\n",
    "    def forward(self, batch, ctx=None):\n",
    "        # Initializing hidden state for first input with zeros\n",
    "        days, months, _, x, y = batch\n",
    "\n",
    "        days_tensor = self.day_emb(days)\n",
    "        months_tensor = self.day_emb(months)\n",
    "\n",
    "        h0 = torch.zeros(self.layer_dim, x.size(0), self.hidden_dim).requires_grad_()\n",
    "        c0 = torch.zeros(self.layer_dim, x.size(0), self.hidden_dim).requires_grad_()\n",
    "\n",
    "        if ctx == None or self.use_ctx == False:\n",
    "            ctx = (h0, c0)\n",
    "\n",
    "        # We need to detach as we are doing truncated backpropagation through time (BPTT)\n",
    "        # If we don't, we'll backprop all the way to the start even after going through another batch\n",
    "        # Forward propagation by passing in the input, hidden state, and cell state into the model\n",
    "\n",
    "        input = torch.cat([days_tensor, months_tensor, x.unsqueeze(-1)], dim=-1)\n",
    "        out, ctx = self.lstm(input, (ctx[0].detach(), ctx[1].detach()))\n",
    "\n",
    "        # Reshaping the outputs in the shape of (batch_size, seq_length, hidden_size)\n",
    "        # so that it can fit into the fully connected layer\n",
    "        out = out[:, -1, :]\n",
    "\n",
    "        # Convert the final state to our desired output shape (batch_size, output_dim)\n",
    "        out = self.fc(out)\n",
    "        return out, ctx"
   ],
   "outputs": []
  },
  {
   "cell_type": "markdown",
   "id": "13c0ba36",
   "metadata": {
    "papermill": {
     "duration": 0.05708,
     "end_time": "2022-04-09T16:02:06.851117",
     "exception": false,
     "start_time": "2022-04-09T16:02:06.794037",
     "status": "completed"
    },
    "tags": []
   },
   "source": [
    "### Определяем класс, в котором будем обучать"
   ]
  },
  {
   "cell_type": "code",
   "execution_count": null,
   "id": "0370535c",
   "metadata": {
    "execution": {
     "iopub.execute_input": "2022-04-09T16:02:07.002033Z",
     "iopub.status.busy": "2022-04-09T16:02:07.000895Z",
     "iopub.status.idle": "2022-04-09T16:02:07.027636Z",
     "shell.execute_reply": "2022-04-09T16:02:07.028199Z",
     "shell.execute_reply.started": "2022-04-09T15:58:22.117590Z"
    },
    "papermill": {
     "duration": 0.100825,
     "end_time": "2022-04-09T16:02:07.028380",
     "exception": false,
     "start_time": "2022-04-09T16:02:06.927555",
     "status": "completed"
    },
    "tags": []
   },
   "source": [
    "class Optimization:\n",
    "    def __init__(self, model, loss_fn, optimizer, scheduler):\n",
    "        self.model = model\n",
    "        self.loss_fn = loss_fn\n",
    "        self.optimizer = optimizer\n",
    "        self.scheduler = scheduler\n",
    "        self.train_losses = []\n",
    "        self.val_losses = []\n",
    "        \n",
    "        self.ctx_last = None\n",
    "        \n",
    "    def train_step(self, batch, ctx=None):\n",
    "        # Sets model to train mode\n",
    "        self.model.train()\n",
    "\n",
    "        # Makes predictions\n",
    "        yhat, ctx = self.model(batch, ctx)\n",
    "\n",
    "        y = batch[-1]\n",
    "        # Computes loss\n",
    "        loss = self.loss_fn(y, yhat)\n",
    "\n",
    "        # Computes gradients\n",
    "        loss.backward()\n",
    "\n",
    "        # Updates parameters and zeroes gradients\n",
    "        self.optimizer.step()\n",
    "        self.optimizer.zero_grad()\n",
    "\n",
    "        # Returns the loss\n",
    "        return loss.item(), ctx\n",
    "\n",
    "    def train(self, train_loader, val_loader, batch_size=64, n_epochs=50):\n",
    "        model_path = f'{self.model}_{datetime.now().strftime(\"%Y-%m-%d %H:%M:%S\")}'\n",
    "        \n",
    "        ctx = None\n",
    "        for epoch in tqdm(range(1, n_epochs + 1)):\n",
    "            batch_losses = []\n",
    "            for batch in train_loader:\n",
    "                loss, ctx = self.train_step(batch, ctx)\n",
    "                self.ctx_last = ctx\n",
    "                batch_losses.append(loss)\n",
    "                \n",
    "            training_loss = np.mean(batch_losses)\n",
    "            self.train_losses.append(training_loss)\n",
    "            \n",
    "            with torch.no_grad():\n",
    "                batch_val_losses = []\n",
    "                ctx_val = None\n",
    "                for batch_eval in val_loader:\n",
    "                    self.model.eval()\n",
    "                    yhat, ctx_val = self.model(batch_eval, ctx_val)\n",
    "                    val_loss = self.loss_fn(batch_eval[-1], yhat).item()\n",
    "                    batch_val_losses.append(val_loss)\n",
    "                    \n",
    "                validation_loss = np.mean(batch_val_losses)\n",
    "                self.scheduler.step(validation_loss)\n",
    "                self.val_losses.append(validation_loss)\n",
    "\n",
    "            if epoch % 10 == 0:\n",
    "                print(\n",
    "                    f\"[{epoch}/{n_epochs}] Training loss: {training_loss:.4f}\\t Validation loss: {validation_loss:.4f}\"\n",
    "                )\n",
    "\n",
    "        torch.save(self.model.state_dict(), model_path)\n",
    "\n",
    "    def evaluate(self, test_loader, batch_size=1):\n",
    "        with torch.no_grad():\n",
    "            predictions = []\n",
    "            values = []\n",
    "            ctx = None\n",
    "            for batch in tqdm(test_loader):\n",
    "                self.model.eval()\n",
    "                yhat, ctx = self.model(batch, ctx)\n",
    "                predictions.append(yhat.to(device).detach().numpy())\n",
    "                values.append(batch[-1].to(device).detach().numpy())\n",
    "\n",
    "        return predictions, values\n",
    "    \n",
    "    def make_prediction(self, test_loader, batch_size=1):\n",
    "        with torch.no_grad():\n",
    "            self.model.eval()\n",
    "            predictions = []\n",
    "            values = []\n",
    "\n",
    "            _, _, _, x_test, _ = next(iter(test_loader))\n",
    "            ctx = (torch.unsqueeze(self.ctx_last[0][:, -1, :], 1), torch.unsqueeze(self.ctx_last[1][:, -1, :], 1))\n",
    "            for batch in tqdm(test_loader):\n",
    "                made_batch = [batch[0], batch[1], batch[2], x_test, batch[4]]\n",
    "\n",
    "                y_test = batch[-1]\n",
    "                yhat, ctx = self.model(made_batch, ctx)\n",
    "                \n",
    "                predictions.append(yhat.to(device).detach().numpy())\n",
    "                values.append(y_test.to(device).detach().numpy())\n",
    "                \n",
    "                torch.reshape(x_test, (-1,))\n",
    "                x_test = torch.cat((torch.reshape(x_test, (-1,)), torch.reshape(yhat, (-1,))))[None, 1:]\n",
    "                \n",
    "\n",
    "        return predictions, values\n",
    "            \n",
    "\n",
    "    def plot_losses(self):\n",
    "        \"\"\"The method plots the calculated loss values for training and validation\n",
    "        \"\"\"\n",
    "        plt.plot(self.train_losses, label=\"Training loss\")\n",
    "        plt.plot(self.val_losses, label=\"Test loss\")\n",
    "        plt.legend()\n",
    "        plt.title(\"Losses\")\n",
    "        plt.show()\n",
    "        plt.close()"
   ],
   "outputs": []
  },
  {
   "cell_type": "markdown",
   "id": "fd17aaec",
   "metadata": {
    "papermill": {
     "duration": 0.058041,
     "end_time": "2022-04-09T16:02:07.144104",
     "exception": false,
     "start_time": "2022-04-09T16:02:07.086063",
     "status": "completed"
    },
    "tags": []
   },
   "source": [
    "### Определяем даталоадеры для теста и трейна"
   ]
  },
  {
   "cell_type": "code",
   "execution_count": null,
   "id": "3b6263df",
   "metadata": {
    "execution": {
     "iopub.execute_input": "2022-04-09T16:02:07.264746Z",
     "iopub.status.busy": "2022-04-09T16:02:07.263677Z",
     "iopub.status.idle": "2022-04-09T16:02:07.268498Z",
     "shell.execute_reply": "2022-04-09T16:02:07.269124Z",
     "shell.execute_reply.started": "2022-04-09T15:58:22.147647Z"
    },
    "papermill": {
     "duration": 0.067541,
     "end_time": "2022-04-09T16:02:07.269301",
     "exception": false,
     "start_time": "2022-04-09T16:02:07.201760",
     "status": "completed"
    },
    "tags": []
   },
   "source": [
    "def get_loss_func(loss_name):\n",
    "    losses = {\n",
    "        'mse': nn.MSELoss(reduction=\"mean\"),\n",
    "        'l1': nn.L1Loss()\n",
    "    }\n",
    "    return losses[loss_name.lower()]"
   ],
   "outputs": []
  },
  {
   "cell_type": "code",
   "execution_count": null,
   "id": "5f10f096",
   "metadata": {
    "execution": {
     "iopub.execute_input": "2022-04-09T16:02:07.389129Z",
     "iopub.status.busy": "2022-04-09T16:02:07.388065Z",
     "iopub.status.idle": "2022-04-09T16:02:07.393483Z",
     "shell.execute_reply": "2022-04-09T16:02:07.394188Z",
     "shell.execute_reply.started": "2022-04-09T15:58:22.162248Z"
    },
    "papermill": {
     "duration": 0.066713,
     "end_time": "2022-04-09T16:02:07.394372",
     "exception": false,
     "start_time": "2022-04-09T16:02:07.327659",
     "status": "completed"
    },
    "tags": []
   },
   "source": [
    "batch_size = 16\n",
    "dl_train = DataLoader(ds_train, batch_size, shuffle=False, drop_last=True)\n",
    "dl_test = DataLoader(ds_test, batch_size, shuffle=False, drop_last=True)\n",
    "dl_test_one = DataLoader(ds_test, 1, shuffle=False)"
   ],
   "outputs": []
  },
  {
   "cell_type": "code",
   "execution_count": null,
   "id": "d285fec9",
   "metadata": {
    "execution": {
     "iopub.execute_input": "2022-04-09T16:02:07.520141Z",
     "iopub.status.busy": "2022-04-09T16:02:07.519442Z",
     "iopub.status.idle": "2022-04-09T16:02:07.529466Z",
     "shell.execute_reply": "2022-04-09T16:02:07.528863Z",
     "shell.execute_reply.started": "2022-04-09T15:58:22.177621Z"
    },
    "papermill": {
     "duration": 0.0775,
     "end_time": "2022-04-09T16:02:07.529648",
     "exception": false,
     "start_time": "2022-04-09T16:02:07.452148",
     "status": "completed"
    },
    "tags": []
   },
   "source": [
    "# input_dim = len(X_train.columns)\n",
    "input_dim = (4, 4)\n",
    "output_dim = 1\n",
    "hidden_dim = 64\n",
    "layer_dim = 2\n",
    "dropout = 0.2\n",
    "n_epochs = 500\n",
    "learning_rate = 1e-3\n",
    "weight_decay = 1e-5\n",
    "\n",
    "model_params = {'input_dim': input_dim,\n",
    "                'hidden_dim': hidden_dim,\n",
    "                'layer_dim': layer_dim,\n",
    "                'output_dim': output_dim,\n",
    "                'dropout_prob': dropout,\n",
    "                'use_ctx': True\n",
    "               }\n",
    "\n",
    "model = LSTMModel(**model_params)\n",
    "\n",
    "loss_fn = get_loss_func('l1')\n",
    "optimizer = Adam(model.parameters(), lr=learning_rate, weight_decay=weight_decay)\n",
    "scheduler = torch.optim.lr_scheduler.ReduceLROnPlateau(optimizer, patience=50, factor=0.1, min_lr=1e-8, verbose=True)\n",
    "\n",
    "\n",
    "opt = Optimization(model=model, loss_fn=loss_fn, optimizer=optimizer, scheduler=scheduler)"
   ],
   "outputs": []
  },
  {
   "cell_type": "code",
   "execution_count": null,
   "id": "443191c0",
   "metadata": {
    "execution": {
     "iopub.execute_input": "2022-04-09T16:02:07.675141Z",
     "iopub.status.busy": "2022-04-09T16:02:07.651564Z",
     "iopub.status.idle": "2022-04-09T16:24:36.557581Z",
     "shell.execute_reply": "2022-04-09T16:24:36.558186Z",
     "shell.execute_reply.started": "2022-04-09T15:58:22.192229Z"
    },
    "papermill": {
     "duration": 1348.970866,
     "end_time": "2022-04-09T16:24:36.558404",
     "exception": false,
     "start_time": "2022-04-09T16:02:07.587538",
     "status": "completed"
    },
    "tags": []
   },
   "source": [
    "opt.train(dl_train, dl_test, batch_size=batch_size, n_epochs=n_epochs)"
   ],
   "outputs": []
  },
  {
   "cell_type": "code",
   "execution_count": null,
   "id": "ab440167",
   "metadata": {
    "execution": {
     "iopub.execute_input": "2022-04-09T16:24:36.725531Z",
     "iopub.status.busy": "2022-04-09T16:24:36.724726Z",
     "iopub.status.idle": "2022-04-09T16:24:36.955585Z",
     "shell.execute_reply": "2022-04-09T16:24:36.954943Z",
     "shell.execute_reply.started": "2022-04-09T15:59:59.659475Z"
    },
    "papermill": {
     "duration": 0.317217,
     "end_time": "2022-04-09T16:24:36.955747",
     "exception": false,
     "start_time": "2022-04-09T16:24:36.638530",
     "status": "completed"
    },
    "tags": []
   },
   "source": [
    "opt.plot_losses()"
   ],
   "outputs": []
  },
  {
   "cell_type": "code",
   "execution_count": null,
   "id": "e5acdeba",
   "metadata": {
    "execution": {
     "iopub.execute_input": "2022-04-09T16:24:37.143405Z",
     "iopub.status.busy": "2022-04-09T16:24:37.142434Z",
     "iopub.status.idle": "2022-04-09T16:24:38.330444Z",
     "shell.execute_reply": "2022-04-09T16:24:38.329790Z",
     "shell.execute_reply.started": "2022-04-09T16:00:01.269404Z"
    },
    "papermill": {
     "duration": 1.294768,
     "end_time": "2022-04-09T16:24:38.330586",
     "exception": false,
     "start_time": "2022-04-09T16:24:37.035818",
     "status": "completed"
    },
    "tags": []
   },
   "source": [
    "# Predictions for evaluating model\n",
    "predictions, values = opt.evaluate(\n",
    "    dl_test_one,\n",
    "    batch_size=1\n",
    ")"
   ],
   "outputs": []
  },
  {
   "cell_type": "code",
   "execution_count": null,
   "id": "09df2c02",
   "metadata": {
    "execution": {
     "iopub.execute_input": "2022-04-09T16:24:38.518511Z",
     "iopub.status.busy": "2022-04-09T16:24:38.517364Z",
     "iopub.status.idle": "2022-04-09T16:24:38.521726Z",
     "shell.execute_reply": "2022-04-09T16:24:38.521168Z",
     "shell.execute_reply.started": "2022-04-09T16:00:05.253636Z"
    },
    "papermill": {
     "duration": 0.110872,
     "end_time": "2022-04-09T16:24:38.521870",
     "exception": false,
     "start_time": "2022-04-09T16:24:38.410998",
     "status": "completed"
    },
    "tags": []
   },
   "source": [
    "def inverse_transform(scaler, df, columns):\n",
    "    for col in columns:\n",
    "        df[col] = scaler.inverse_transform(df[col])\n",
    "    return df\n",
    "\n",
    "\n",
    "def format_predictions(predictions, values, df_test, scaler):\n",
    "    vals = np.concatenate(values, axis=0).ravel()\n",
    "    preds = np.concatenate(predictions, axis=0).ravel()\n",
    "    df_result = pd.DataFrame(data={\"value\": vals, \"prediction\": preds}, index=df_test.tail(len(vals)).index)\n",
    "    df_result = df_result.sort_index()\n",
    "    df_result = inverse_transform(scaler, df_result, [[\"value\", \"prediction\"]])\n",
    "    return df_result\n",
    "\n",
    "\n",
    "df_result = format_predictions(predictions, values, data_test, scaler)\n",
    "df_result"
   ],
   "outputs": []
  },
  {
   "cell_type": "code",
   "execution_count": null,
   "id": "f37d5103",
   "metadata": {
    "execution": {
     "iopub.execute_input": "2022-04-09T16:24:38.692938Z",
     "iopub.status.busy": "2022-04-09T16:24:38.691863Z",
     "iopub.status.idle": "2022-04-09T16:24:38.695444Z",
     "shell.execute_reply": "2022-04-09T16:24:38.695992Z",
     "shell.execute_reply.started": "2022-04-09T16:00:07.256489Z"
    },
    "papermill": {
     "duration": 0.092623,
     "end_time": "2022-04-09T16:24:38.696182",
     "exception": false,
     "start_time": "2022-04-09T16:24:38.603559",
     "status": "completed"
    },
    "tags": []
   },
   "source": [
    "result_metrics = calculate_metrics(df_result.value, df_result.prediction)"
   ],
   "outputs": []
  },
  {
   "cell_type": "code",
   "execution_count": null,
   "id": "b7cade30",
   "metadata": {
    "execution": {
     "iopub.execute_input": "2022-04-09T16:24:38.866518Z",
     "iopub.status.busy": "2022-04-09T16:24:38.865848Z",
     "iopub.status.idle": "2022-04-09T16:24:39.063146Z",
     "shell.execute_reply": "2022-04-09T16:24:39.063713Z",
     "shell.execute_reply.started": "2022-04-09T16:00:09.138252Z"
    },
    "papermill": {
     "duration": 0.284967,
     "end_time": "2022-04-09T16:24:39.063907",
     "exception": false,
     "start_time": "2022-04-09T16:24:38.778940",
     "status": "completed"
    },
    "tags": []
   },
   "source": [
    "eval_answer = pd.DataFrame(df_result['prediction']).rename(columns={'prediction': 'value'})\n",
    "plot_datasets([data_train, data_test, eval_answer], names=['Train', 'Test', 'Eval'], title='Data')"
   ],
   "outputs": []
  },
  {
   "cell_type": "code",
   "execution_count": null,
   "id": "50c86502",
   "metadata": {
    "execution": {
     "iopub.execute_input": "2022-04-09T16:24:39.239044Z",
     "iopub.status.busy": "2022-04-09T16:24:39.236143Z",
     "iopub.status.idle": "2022-04-09T16:24:40.501397Z",
     "shell.execute_reply": "2022-04-09T16:24:40.501885Z",
     "shell.execute_reply.started": "2022-04-09T16:00:16.061279Z"
    },
    "papermill": {
     "duration": 1.353338,
     "end_time": "2022-04-09T16:24:40.502075",
     "exception": false,
     "start_time": "2022-04-09T16:24:39.148737",
     "status": "completed"
    },
    "tags": []
   },
   "source": [
    "# Predictions for real testing model\n",
    "predictions, values = opt.make_prediction(\n",
    "    dl_test_one,\n",
    "    batch_size=1\n",
    ")\n",
    "\n",
    "df_prediction = format_predictions(predictions, values, data_test, scaler)\n",
    "df_prediction"
   ],
   "outputs": []
  },
  {
   "cell_type": "code",
   "execution_count": null,
   "id": "ebbdd814",
   "metadata": {
    "execution": {
     "iopub.execute_input": "2022-04-09T16:24:40.681894Z",
     "iopub.status.busy": "2022-04-09T16:24:40.680801Z",
     "iopub.status.idle": "2022-04-09T16:24:40.685750Z",
     "shell.execute_reply": "2022-04-09T16:24:40.685047Z",
     "shell.execute_reply.started": "2022-04-09T16:00:21.049590Z"
    },
    "papermill": {
     "duration": 0.09835,
     "end_time": "2022-04-09T16:24:40.685905",
     "exception": false,
     "start_time": "2022-04-09T16:24:40.587555",
     "status": "completed"
    },
    "tags": []
   },
   "source": [
    "result_metrics = calculate_metrics(df_prediction.value, df_prediction.prediction)"
   ],
   "outputs": []
  },
  {
   "cell_type": "code",
   "execution_count": null,
   "id": "93e8d222",
   "metadata": {
    "execution": {
     "iopub.execute_input": "2022-04-09T16:24:40.864443Z",
     "iopub.status.busy": "2022-04-09T16:24:40.861095Z",
     "iopub.status.idle": "2022-04-09T16:24:41.060666Z",
     "shell.execute_reply": "2022-04-09T16:24:41.061169Z",
     "shell.execute_reply.started": "2022-04-09T16:00:22.536171Z"
    },
    "papermill": {
     "duration": 0.290057,
     "end_time": "2022-04-09T16:24:41.061345",
     "exception": false,
     "start_time": "2022-04-09T16:24:40.771288",
     "status": "completed"
    },
    "tags": []
   },
   "source": [
    "answer = pd.DataFrame(df_prediction['prediction']).rename(columns={'prediction': 'value'})\n",
    "plot_datasets([data_train, data_test, answer], names=['Train', 'Test', 'Preds'], title='Data')"
   ],
   "outputs": []
  },
  {
   "cell_type": "code",
   "execution_count": null,
   "id": "acf92360",
   "metadata": {
    "execution": {
     "iopub.execute_input": "2022-04-09T16:24:41.242188Z",
     "iopub.status.busy": "2022-04-09T16:24:41.241229Z",
     "iopub.status.idle": "2022-04-09T16:24:41.253022Z",
     "shell.execute_reply": "2022-04-09T16:24:41.253524Z",
     "shell.execute_reply.started": "2022-04-09T16:00:23.861832Z"
    },
    "papermill": {
     "duration": 0.103832,
     "end_time": "2022-04-09T16:24:41.253748",
     "exception": false,
     "start_time": "2022-04-09T16:24:41.149916",
     "status": "completed"
    },
    "tags": []
   },
   "source": [
    "answer.rename(columns={'value': 'hits'}).to_csv('answer.csv')"
   ],
   "outputs": []
  },
  {
   "cell_type": "code",
   "execution_count": null,
   "id": "6fe2b7a2",
   "metadata": {
    "papermill": {
     "duration": 0.088821,
     "end_time": "2022-04-09T16:24:41.432333",
     "exception": false,
     "start_time": "2022-04-09T16:24:41.343512",
     "status": "completed"
    },
    "tags": []
   },
   "source": [],
   "outputs": []
  }
 ],
 "metadata": {
  "kernelspec": {
   "display_name": "Python 3 (ipykernel)",
   "language": "python",
   "name": "python3"
  },
  "language_info": {
   "codemirror_mode": {
    "name": "ipython",
    "version": 3
   },
   "file_extension": ".py",
   "mimetype": "text/x-python",
   "name": "python",
   "nbconvert_exporter": "python",
   "pygments_lexer": "ipython3",
   "version": "3.10.7"
  },
  "papermill": {
   "default_parameters": {},
   "duration": 1387.409128,
   "end_time": "2022-04-09T16:24:42.538566",
   "environment_variables": {},
   "exception": null,
   "input_path": "__notebook__.ipynb",
   "output_path": "__notebook__.ipynb",
   "parameters": {},
   "start_time": "2022-04-09T16:01:35.129438",
   "version": "2.3.3"
  },
  "widgets": {
   "application/vnd.jupyter.widget-state+json": {
    "state": {
     "1a1f62f42c8b43438c601b8c74959e9d": {
      "model_module": "@jupyter-widgets/controls",
      "model_module_version": "1.5.0",
      "model_name": "FloatProgressModel",
      "state": {
       "_dom_classes": [],
       "_model_module": "@jupyter-widgets/controls",
       "_model_module_version": "1.5.0",
       "_model_name": "FloatProgressModel",
       "_view_count": null,
       "_view_module": "@jupyter-widgets/controls",
       "_view_module_version": "1.5.0",
       "_view_name": "ProgressView",
       "bar_style": "success",
       "description": "",
       "description_tooltip": null,
       "layout": "IPY_MODEL_518092f24a6e40d5b402b4ae18411271",
       "max": 365,
       "min": 0,
       "orientation": "horizontal",
       "style": "IPY_MODEL_33a0fa3322cc4d76a6b9cff66ff5477a",
       "value": 365
      }
     },
     "33a0fa3322cc4d76a6b9cff66ff5477a": {
      "model_module": "@jupyter-widgets/controls",
      "model_module_version": "1.5.0",
      "model_name": "ProgressStyleModel",
      "state": {
       "_model_module": "@jupyter-widgets/controls",
       "_model_module_version": "1.5.0",
       "_model_name": "ProgressStyleModel",
       "_view_count": null,
       "_view_module": "@jupyter-widgets/base",
       "_view_module_version": "1.2.0",
       "_view_name": "StyleView",
       "bar_color": null,
       "description_width": ""
      }
     },
     "3ace94b282a04e7baf5edad48eecd680": {
      "model_module": "@jupyter-widgets/base",
      "model_module_version": "1.2.0",
      "model_name": "LayoutModel",
      "state": {
       "_model_module": "@jupyter-widgets/base",
       "_model_module_version": "1.2.0",
       "_model_name": "LayoutModel",
       "_view_count": null,
       "_view_module": "@jupyter-widgets/base",
       "_view_module_version": "1.2.0",
       "_view_name": "LayoutView",
       "align_content": null,
       "align_items": null,
       "align_self": null,
       "border": null,
       "bottom": null,
       "display": null,
       "flex": null,
       "flex_flow": null,
       "grid_area": null,
       "grid_auto_columns": null,
       "grid_auto_flow": null,
       "grid_auto_rows": null,
       "grid_column": null,
       "grid_gap": null,
       "grid_row": null,
       "grid_template_areas": null,
       "grid_template_columns": null,
       "grid_template_rows": null,
       "height": null,
       "justify_content": null,
       "justify_items": null,
       "left": null,
       "margin": null,
       "max_height": null,
       "max_width": null,
       "min_height": null,
       "min_width": null,
       "object_fit": null,
       "object_position": null,
       "order": null,
       "overflow": null,
       "overflow_x": null,
       "overflow_y": null,
       "padding": null,
       "right": null,
       "top": null,
       "visibility": null,
       "width": null
      }
     },
     "43d24844724a4d0cab5781fdf8f349bb": {
      "model_module": "@jupyter-widgets/controls",
      "model_module_version": "1.5.0",
      "model_name": "HBoxModel",
      "state": {
       "_dom_classes": [],
       "_model_module": "@jupyter-widgets/controls",
       "_model_module_version": "1.5.0",
       "_model_name": "HBoxModel",
       "_view_count": null,
       "_view_module": "@jupyter-widgets/controls",
       "_view_module_version": "1.5.0",
       "_view_name": "HBoxView",
       "box_style": "",
       "children": [
        "IPY_MODEL_e492d092a8de4d6aba03e6db311b528a",
        "IPY_MODEL_72c691fe645945afa3857125187ce8b9",
        "IPY_MODEL_e291ac45168a4255abcd79579bed450c"
       ],
       "layout": "IPY_MODEL_cc62a4de02da474489f1610baaab26ad"
      }
     },
     "4b8c03b8fb454ae2918c998681147f73": {
      "model_module": "@jupyter-widgets/controls",
      "model_module_version": "1.5.0",
      "model_name": "HBoxModel",
      "state": {
       "_dom_classes": [],
       "_model_module": "@jupyter-widgets/controls",
       "_model_module_version": "1.5.0",
       "_model_name": "HBoxModel",
       "_view_count": null,
       "_view_module": "@jupyter-widgets/controls",
       "_view_module_version": "1.5.0",
       "_view_name": "HBoxView",
       "box_style": "",
       "children": [
        "IPY_MODEL_8fe4237ca6084693b795cc5b6ba2df54",
        "IPY_MODEL_ff430de80adb4a1ab46ebf3a2e523875",
        "IPY_MODEL_9803940113f6479c8e3bd161b94eff3d"
       ],
       "layout": "IPY_MODEL_ff390c645fad4f5db66240031611e540"
      }
     },
     "518092f24a6e40d5b402b4ae18411271": {
      "model_module": "@jupyter-widgets/base",
      "model_module_version": "1.2.0",
      "model_name": "LayoutModel",
      "state": {
       "_model_module": "@jupyter-widgets/base",
       "_model_module_version": "1.2.0",
       "_model_name": "LayoutModel",
       "_view_count": null,
       "_view_module": "@jupyter-widgets/base",
       "_view_module_version": "1.2.0",
       "_view_name": "LayoutView",
       "align_content": null,
       "align_items": null,
       "align_self": null,
       "border": null,
       "bottom": null,
       "display": null,
       "flex": null,
       "flex_flow": null,
       "grid_area": null,
       "grid_auto_columns": null,
       "grid_auto_flow": null,
       "grid_auto_rows": null,
       "grid_column": null,
       "grid_gap": null,
       "grid_row": null,
       "grid_template_areas": null,
       "grid_template_columns": null,
       "grid_template_rows": null,
       "height": null,
       "justify_content": null,
       "justify_items": null,
       "left": null,
       "margin": null,
       "max_height": null,
       "max_width": null,
       "min_height": null,
       "min_width": null,
       "object_fit": null,
       "object_position": null,
       "order": null,
       "overflow": null,
       "overflow_x": null,
       "overflow_y": null,
       "padding": null,
       "right": null,
       "top": null,
       "visibility": null,
       "width": null
      }
     },
     "5775676c677145fba377b6b04e4fcead": {
      "model_module": "@jupyter-widgets/base",
      "model_module_version": "1.2.0",
      "model_name": "LayoutModel",
      "state": {
       "_model_module": "@jupyter-widgets/base",
       "_model_module_version": "1.2.0",
       "_model_name": "LayoutModel",
       "_view_count": null,
       "_view_module": "@jupyter-widgets/base",
       "_view_module_version": "1.2.0",
       "_view_name": "LayoutView",
       "align_content": null,
       "align_items": null,
       "align_self": null,
       "border": null,
       "bottom": null,
       "display": null,
       "flex": null,
       "flex_flow": null,
       "grid_area": null,
       "grid_auto_columns": null,
       "grid_auto_flow": null,
       "grid_auto_rows": null,
       "grid_column": null,
       "grid_gap": null,
       "grid_row": null,
       "grid_template_areas": null,
       "grid_template_columns": null,
       "grid_template_rows": null,
       "height": null,
       "justify_content": null,
       "justify_items": null,
       "left": null,
       "margin": null,
       "max_height": null,
       "max_width": null,
       "min_height": null,
       "min_width": null,
       "object_fit": null,
       "object_position": null,
       "order": null,
       "overflow": null,
       "overflow_x": null,
       "overflow_y": null,
       "padding": null,
       "right": null,
       "top": null,
       "visibility": null,
       "width": null
      }
     },
     "694f4958f2ea47a2afea0958716db634": {
      "model_module": "@jupyter-widgets/controls",
      "model_module_version": "1.5.0",
      "model_name": "DescriptionStyleModel",
      "state": {
       "_model_module": "@jupyter-widgets/controls",
       "_model_module_version": "1.5.0",
       "_model_name": "DescriptionStyleModel",
       "_view_count": null,
       "_view_module": "@jupyter-widgets/base",
       "_view_module_version": "1.2.0",
       "_view_name": "StyleView",
       "description_width": ""
      }
     },
     "6bb26b689792423f99668403566f847d": {
      "model_module": "@jupyter-widgets/controls",
      "model_module_version": "1.5.0",
      "model_name": "DescriptionStyleModel",
      "state": {
       "_model_module": "@jupyter-widgets/controls",
       "_model_module_version": "1.5.0",
       "_model_name": "DescriptionStyleModel",
       "_view_count": null,
       "_view_module": "@jupyter-widgets/base",
       "_view_module_version": "1.2.0",
       "_view_name": "StyleView",
       "description_width": ""
      }
     },
     "72c691fe645945afa3857125187ce8b9": {
      "model_module": "@jupyter-widgets/controls",
      "model_module_version": "1.5.0",
      "model_name": "FloatProgressModel",
      "state": {
       "_dom_classes": [],
       "_model_module": "@jupyter-widgets/controls",
       "_model_module_version": "1.5.0",
       "_model_name": "FloatProgressModel",
       "_view_count": null,
       "_view_module": "@jupyter-widgets/controls",
       "_view_module_version": "1.5.0",
       "_view_name": "ProgressView",
       "bar_style": "success",
       "description": "",
       "description_tooltip": null,
       "layout": "IPY_MODEL_86884d482a834122bb3060b74579803b",
       "max": 500,
       "min": 0,
       "orientation": "horizontal",
       "style": "IPY_MODEL_afb0282339304d6d8ed54e94881393b3",
       "value": 500
      }
     },
     "75d0ceb6f2154afd8ce9f0d689fc38e0": {
      "model_module": "@jupyter-widgets/controls",
      "model_module_version": "1.5.0",
      "model_name": "DescriptionStyleModel",
      "state": {
       "_model_module": "@jupyter-widgets/controls",
       "_model_module_version": "1.5.0",
       "_model_name": "DescriptionStyleModel",
       "_view_count": null,
       "_view_module": "@jupyter-widgets/base",
       "_view_module_version": "1.2.0",
       "_view_name": "StyleView",
       "description_width": ""
      }
     },
     "7f8666a013514bfeb8474de4302b08f6": {
      "model_module": "@jupyter-widgets/controls",
      "model_module_version": "1.5.0",
      "model_name": "DescriptionStyleModel",
      "state": {
       "_model_module": "@jupyter-widgets/controls",
       "_model_module_version": "1.5.0",
       "_model_name": "DescriptionStyleModel",
       "_view_count": null,
       "_view_module": "@jupyter-widgets/base",
       "_view_module_version": "1.2.0",
       "_view_name": "StyleView",
       "description_width": ""
      }
     },
     "86884d482a834122bb3060b74579803b": {
      "model_module": "@jupyter-widgets/base",
      "model_module_version": "1.2.0",
      "model_name": "LayoutModel",
      "state": {
       "_model_module": "@jupyter-widgets/base",
       "_model_module_version": "1.2.0",
       "_model_name": "LayoutModel",
       "_view_count": null,
       "_view_module": "@jupyter-widgets/base",
       "_view_module_version": "1.2.0",
       "_view_name": "LayoutView",
       "align_content": null,
       "align_items": null,
       "align_self": null,
       "border": null,
       "bottom": null,
       "display": null,
       "flex": null,
       "flex_flow": null,
       "grid_area": null,
       "grid_auto_columns": null,
       "grid_auto_flow": null,
       "grid_auto_rows": null,
       "grid_column": null,
       "grid_gap": null,
       "grid_row": null,
       "grid_template_areas": null,
       "grid_template_columns": null,
       "grid_template_rows": null,
       "height": null,
       "justify_content": null,
       "justify_items": null,
       "left": null,
       "margin": null,
       "max_height": null,
       "max_width": null,
       "min_height": null,
       "min_width": null,
       "object_fit": null,
       "object_position": null,
       "order": null,
       "overflow": null,
       "overflow_x": null,
       "overflow_y": null,
       "padding": null,
       "right": null,
       "top": null,
       "visibility": null,
       "width": null
      }
     },
     "8fe4237ca6084693b795cc5b6ba2df54": {
      "model_module": "@jupyter-widgets/controls",
      "model_module_version": "1.5.0",
      "model_name": "HTMLModel",
      "state": {
       "_dom_classes": [],
       "_model_module": "@jupyter-widgets/controls",
       "_model_module_version": "1.5.0",
       "_model_name": "HTMLModel",
       "_view_count": null,
       "_view_module": "@jupyter-widgets/controls",
       "_view_module_version": "1.5.0",
       "_view_name": "HTMLView",
       "description": "",
       "description_tooltip": null,
       "layout": "IPY_MODEL_ff06839641ee4bf68d3697e13b00ec6f",
       "placeholder": "​",
       "style": "IPY_MODEL_694f4958f2ea47a2afea0958716db634",
       "value": "100%"
      }
     },
     "9803940113f6479c8e3bd161b94eff3d": {
      "model_module": "@jupyter-widgets/controls",
      "model_module_version": "1.5.0",
      "model_name": "HTMLModel",
      "state": {
       "_dom_classes": [],
       "_model_module": "@jupyter-widgets/controls",
       "_model_module_version": "1.5.0",
       "_model_name": "HTMLModel",
       "_view_count": null,
       "_view_module": "@jupyter-widgets/controls",
       "_view_module_version": "1.5.0",
       "_view_name": "HTMLView",
       "description": "",
       "description_tooltip": null,
       "layout": "IPY_MODEL_e5d9efef5d9f4f5dad1e9508e397d328",
       "placeholder": "​",
       "style": "IPY_MODEL_f24be7d078c248b79f9c8c37f62c4532",
       "value": " 365/365 [00:01&lt;00:00, 313.24it/s]"
      }
     },
     "a6b627bacee2400c80693bda62dbe15b": {
      "model_module": "@jupyter-widgets/controls",
      "model_module_version": "1.5.0",
      "model_name": "ProgressStyleModel",
      "state": {
       "_model_module": "@jupyter-widgets/controls",
       "_model_module_version": "1.5.0",
       "_model_name": "ProgressStyleModel",
       "_view_count": null,
       "_view_module": "@jupyter-widgets/base",
       "_view_module_version": "1.2.0",
       "_view_name": "StyleView",
       "bar_color": null,
       "description_width": ""
      }
     },
     "ac1c9085db3a44d194e1a51b8fa2ef11": {
      "model_module": "@jupyter-widgets/controls",
      "model_module_version": "1.5.0",
      "model_name": "HTMLModel",
      "state": {
       "_dom_classes": [],
       "_model_module": "@jupyter-widgets/controls",
       "_model_module_version": "1.5.0",
       "_model_name": "HTMLModel",
       "_view_count": null,
       "_view_module": "@jupyter-widgets/controls",
       "_view_module_version": "1.5.0",
       "_view_name": "HTMLView",
       "description": "",
       "description_tooltip": null,
       "layout": "IPY_MODEL_e6c1022561784659b51ca05bb11f3aa8",
       "placeholder": "​",
       "style": "IPY_MODEL_6bb26b689792423f99668403566f847d",
       "value": "100%"
      }
     },
     "afb0282339304d6d8ed54e94881393b3": {
      "model_module": "@jupyter-widgets/controls",
      "model_module_version": "1.5.0",
      "model_name": "ProgressStyleModel",
      "state": {
       "_model_module": "@jupyter-widgets/controls",
       "_model_module_version": "1.5.0",
       "_model_name": "ProgressStyleModel",
       "_view_count": null,
       "_view_module": "@jupyter-widgets/base",
       "_view_module_version": "1.2.0",
       "_view_name": "StyleView",
       "bar_color": null,
       "description_width": ""
      }
     },
     "be7dea898f3c46e68d30d4a5613d7752": {
      "model_module": "@jupyter-widgets/controls",
      "model_module_version": "1.5.0",
      "model_name": "DescriptionStyleModel",
      "state": {
       "_model_module": "@jupyter-widgets/controls",
       "_model_module_version": "1.5.0",
       "_model_name": "DescriptionStyleModel",
       "_view_count": null,
       "_view_module": "@jupyter-widgets/base",
       "_view_module_version": "1.2.0",
       "_view_name": "StyleView",
       "description_width": ""
      }
     },
     "c5174668f27a454f98ad316663fc8ad0": {
      "model_module": "@jupyter-widgets/base",
      "model_module_version": "1.2.0",
      "model_name": "LayoutModel",
      "state": {
       "_model_module": "@jupyter-widgets/base",
       "_model_module_version": "1.2.0",
       "_model_name": "LayoutModel",
       "_view_count": null,
       "_view_module": "@jupyter-widgets/base",
       "_view_module_version": "1.2.0",
       "_view_name": "LayoutView",
       "align_content": null,
       "align_items": null,
       "align_self": null,
       "border": null,
       "bottom": null,
       "display": null,
       "flex": null,
       "flex_flow": null,
       "grid_area": null,
       "grid_auto_columns": null,
       "grid_auto_flow": null,
       "grid_auto_rows": null,
       "grid_column": null,
       "grid_gap": null,
       "grid_row": null,
       "grid_template_areas": null,
       "grid_template_columns": null,
       "grid_template_rows": null,
       "height": null,
       "justify_content": null,
       "justify_items": null,
       "left": null,
       "margin": null,
       "max_height": null,
       "max_width": null,
       "min_height": null,
       "min_width": null,
       "object_fit": null,
       "object_position": null,
       "order": null,
       "overflow": null,
       "overflow_x": null,
       "overflow_y": null,
       "padding": null,
       "right": null,
       "top": null,
       "visibility": null,
       "width": null
      }
     },
     "c68818db496f41a1a95aeb03566d458a": {
      "model_module": "@jupyter-widgets/base",
      "model_module_version": "1.2.0",
      "model_name": "LayoutModel",
      "state": {
       "_model_module": "@jupyter-widgets/base",
       "_model_module_version": "1.2.0",
       "_model_name": "LayoutModel",
       "_view_count": null,
       "_view_module": "@jupyter-widgets/base",
       "_view_module_version": "1.2.0",
       "_view_name": "LayoutView",
       "align_content": null,
       "align_items": null,
       "align_self": null,
       "border": null,
       "bottom": null,
       "display": null,
       "flex": null,
       "flex_flow": null,
       "grid_area": null,
       "grid_auto_columns": null,
       "grid_auto_flow": null,
       "grid_auto_rows": null,
       "grid_column": null,
       "grid_gap": null,
       "grid_row": null,
       "grid_template_areas": null,
       "grid_template_columns": null,
       "grid_template_rows": null,
       "height": null,
       "justify_content": null,
       "justify_items": null,
       "left": null,
       "margin": null,
       "max_height": null,
       "max_width": null,
       "min_height": null,
       "min_width": null,
       "object_fit": null,
       "object_position": null,
       "order": null,
       "overflow": null,
       "overflow_x": null,
       "overflow_y": null,
       "padding": null,
       "right": null,
       "top": null,
       "visibility": null,
       "width": null
      }
     },
     "cc62a4de02da474489f1610baaab26ad": {
      "model_module": "@jupyter-widgets/base",
      "model_module_version": "1.2.0",
      "model_name": "LayoutModel",
      "state": {
       "_model_module": "@jupyter-widgets/base",
       "_model_module_version": "1.2.0",
       "_model_name": "LayoutModel",
       "_view_count": null,
       "_view_module": "@jupyter-widgets/base",
       "_view_module_version": "1.2.0",
       "_view_name": "LayoutView",
       "align_content": null,
       "align_items": null,
       "align_self": null,
       "border": null,
       "bottom": null,
       "display": null,
       "flex": null,
       "flex_flow": null,
       "grid_area": null,
       "grid_auto_columns": null,
       "grid_auto_flow": null,
       "grid_auto_rows": null,
       "grid_column": null,
       "grid_gap": null,
       "grid_row": null,
       "grid_template_areas": null,
       "grid_template_columns": null,
       "grid_template_rows": null,
       "height": null,
       "justify_content": null,
       "justify_items": null,
       "left": null,
       "margin": null,
       "max_height": null,
       "max_width": null,
       "min_height": null,
       "min_width": null,
       "object_fit": null,
       "object_position": null,
       "order": null,
       "overflow": null,
       "overflow_x": null,
       "overflow_y": null,
       "padding": null,
       "right": null,
       "top": null,
       "visibility": null,
       "width": null
      }
     },
     "d559b97a60ea4b14816a2fcfa255fbe6": {
      "model_module": "@jupyter-widgets/base",
      "model_module_version": "1.2.0",
      "model_name": "LayoutModel",
      "state": {
       "_model_module": "@jupyter-widgets/base",
       "_model_module_version": "1.2.0",
       "_model_name": "LayoutModel",
       "_view_count": null,
       "_view_module": "@jupyter-widgets/base",
       "_view_module_version": "1.2.0",
       "_view_name": "LayoutView",
       "align_content": null,
       "align_items": null,
       "align_self": null,
       "border": null,
       "bottom": null,
       "display": null,
       "flex": null,
       "flex_flow": null,
       "grid_area": null,
       "grid_auto_columns": null,
       "grid_auto_flow": null,
       "grid_auto_rows": null,
       "grid_column": null,
       "grid_gap": null,
       "grid_row": null,
       "grid_template_areas": null,
       "grid_template_columns": null,
       "grid_template_rows": null,
       "height": null,
       "justify_content": null,
       "justify_items": null,
       "left": null,
       "margin": null,
       "max_height": null,
       "max_width": null,
       "min_height": null,
       "min_width": null,
       "object_fit": null,
       "object_position": null,
       "order": null,
       "overflow": null,
       "overflow_x": null,
       "overflow_y": null,
       "padding": null,
       "right": null,
       "top": null,
       "visibility": null,
       "width": null
      }
     },
     "e291ac45168a4255abcd79579bed450c": {
      "model_module": "@jupyter-widgets/controls",
      "model_module_version": "1.5.0",
      "model_name": "HTMLModel",
      "state": {
       "_dom_classes": [],
       "_model_module": "@jupyter-widgets/controls",
       "_model_module_version": "1.5.0",
       "_model_name": "HTMLModel",
       "_view_count": null,
       "_view_module": "@jupyter-widgets/controls",
       "_view_module_version": "1.5.0",
       "_view_name": "HTMLView",
       "description": "",
       "description_tooltip": null,
       "layout": "IPY_MODEL_3ace94b282a04e7baf5edad48eecd680",
       "placeholder": "​",
       "style": "IPY_MODEL_be7dea898f3c46e68d30d4a5613d7752",
       "value": " 500/500 [22:28&lt;00:00,  2.70s/it]"
      }
     },
     "e492d092a8de4d6aba03e6db311b528a": {
      "model_module": "@jupyter-widgets/controls",
      "model_module_version": "1.5.0",
      "model_name": "HTMLModel",
      "state": {
       "_dom_classes": [],
       "_model_module": "@jupyter-widgets/controls",
       "_model_module_version": "1.5.0",
       "_model_name": "HTMLModel",
       "_view_count": null,
       "_view_module": "@jupyter-widgets/controls",
       "_view_module_version": "1.5.0",
       "_view_name": "HTMLView",
       "description": "",
       "description_tooltip": null,
       "layout": "IPY_MODEL_d559b97a60ea4b14816a2fcfa255fbe6",
       "placeholder": "​",
       "style": "IPY_MODEL_7f8666a013514bfeb8474de4302b08f6",
       "value": "100%"
      }
     },
     "e5d9efef5d9f4f5dad1e9508e397d328": {
      "model_module": "@jupyter-widgets/base",
      "model_module_version": "1.2.0",
      "model_name": "LayoutModel",
      "state": {
       "_model_module": "@jupyter-widgets/base",
       "_model_module_version": "1.2.0",
       "_model_name": "LayoutModel",
       "_view_count": null,
       "_view_module": "@jupyter-widgets/base",
       "_view_module_version": "1.2.0",
       "_view_name": "LayoutView",
       "align_content": null,
       "align_items": null,
       "align_self": null,
       "border": null,
       "bottom": null,
       "display": null,
       "flex": null,
       "flex_flow": null,
       "grid_area": null,
       "grid_auto_columns": null,
       "grid_auto_flow": null,
       "grid_auto_rows": null,
       "grid_column": null,
       "grid_gap": null,
       "grid_row": null,
       "grid_template_areas": null,
       "grid_template_columns": null,
       "grid_template_rows": null,
       "height": null,
       "justify_content": null,
       "justify_items": null,
       "left": null,
       "margin": null,
       "max_height": null,
       "max_width": null,
       "min_height": null,
       "min_width": null,
       "object_fit": null,
       "object_position": null,
       "order": null,
       "overflow": null,
       "overflow_x": null,
       "overflow_y": null,
       "padding": null,
       "right": null,
       "top": null,
       "visibility": null,
       "width": null
      }
     },
     "e6c1022561784659b51ca05bb11f3aa8": {
      "model_module": "@jupyter-widgets/base",
      "model_module_version": "1.2.0",
      "model_name": "LayoutModel",
      "state": {
       "_model_module": "@jupyter-widgets/base",
       "_model_module_version": "1.2.0",
       "_model_name": "LayoutModel",
       "_view_count": null,
       "_view_module": "@jupyter-widgets/base",
       "_view_module_version": "1.2.0",
       "_view_name": "LayoutView",
       "align_content": null,
       "align_items": null,
       "align_self": null,
       "border": null,
       "bottom": null,
       "display": null,
       "flex": null,
       "flex_flow": null,
       "grid_area": null,
       "grid_auto_columns": null,
       "grid_auto_flow": null,
       "grid_auto_rows": null,
       "grid_column": null,
       "grid_gap": null,
       "grid_row": null,
       "grid_template_areas": null,
       "grid_template_columns": null,
       "grid_template_rows": null,
       "height": null,
       "justify_content": null,
       "justify_items": null,
       "left": null,
       "margin": null,
       "max_height": null,
       "max_width": null,
       "min_height": null,
       "min_width": null,
       "object_fit": null,
       "object_position": null,
       "order": null,
       "overflow": null,
       "overflow_x": null,
       "overflow_y": null,
       "padding": null,
       "right": null,
       "top": null,
       "visibility": null,
       "width": null
      }
     },
     "ea06628a3a40432cbdcc7d7ba800a1f1": {
      "model_module": "@jupyter-widgets/controls",
      "model_module_version": "1.5.0",
      "model_name": "HBoxModel",
      "state": {
       "_dom_classes": [],
       "_model_module": "@jupyter-widgets/controls",
       "_model_module_version": "1.5.0",
       "_model_name": "HBoxModel",
       "_view_count": null,
       "_view_module": "@jupyter-widgets/controls",
       "_view_module_version": "1.5.0",
       "_view_name": "HBoxView",
       "box_style": "",
       "children": [
        "IPY_MODEL_ac1c9085db3a44d194e1a51b8fa2ef11",
        "IPY_MODEL_1a1f62f42c8b43438c601b8c74959e9d",
        "IPY_MODEL_fe2f2fb3507c4592bb4aac41cd390b10"
       ],
       "layout": "IPY_MODEL_c5174668f27a454f98ad316663fc8ad0"
      }
     },
     "f24be7d078c248b79f9c8c37f62c4532": {
      "model_module": "@jupyter-widgets/controls",
      "model_module_version": "1.5.0",
      "model_name": "DescriptionStyleModel",
      "state": {
       "_model_module": "@jupyter-widgets/controls",
       "_model_module_version": "1.5.0",
       "_model_name": "DescriptionStyleModel",
       "_view_count": null,
       "_view_module": "@jupyter-widgets/base",
       "_view_module_version": "1.2.0",
       "_view_name": "StyleView",
       "description_width": ""
      }
     },
     "fe2f2fb3507c4592bb4aac41cd390b10": {
      "model_module": "@jupyter-widgets/controls",
      "model_module_version": "1.5.0",
      "model_name": "HTMLModel",
      "state": {
       "_dom_classes": [],
       "_model_module": "@jupyter-widgets/controls",
       "_model_module_version": "1.5.0",
       "_model_name": "HTMLModel",
       "_view_count": null,
       "_view_module": "@jupyter-widgets/controls",
       "_view_module_version": "1.5.0",
       "_view_name": "HTMLView",
       "description": "",
       "description_tooltip": null,
       "layout": "IPY_MODEL_5775676c677145fba377b6b04e4fcead",
       "placeholder": "​",
       "style": "IPY_MODEL_75d0ceb6f2154afd8ce9f0d689fc38e0",
       "value": " 365/365 [00:01&lt;00:00, 301.07it/s]"
      }
     },
     "ff06839641ee4bf68d3697e13b00ec6f": {
      "model_module": "@jupyter-widgets/base",
      "model_module_version": "1.2.0",
      "model_name": "LayoutModel",
      "state": {
       "_model_module": "@jupyter-widgets/base",
       "_model_module_version": "1.2.0",
       "_model_name": "LayoutModel",
       "_view_count": null,
       "_view_module": "@jupyter-widgets/base",
       "_view_module_version": "1.2.0",
       "_view_name": "LayoutView",
       "align_content": null,
       "align_items": null,
       "align_self": null,
       "border": null,
       "bottom": null,
       "display": null,
       "flex": null,
       "flex_flow": null,
       "grid_area": null,
       "grid_auto_columns": null,
       "grid_auto_flow": null,
       "grid_auto_rows": null,
       "grid_column": null,
       "grid_gap": null,
       "grid_row": null,
       "grid_template_areas": null,
       "grid_template_columns": null,
       "grid_template_rows": null,
       "height": null,
       "justify_content": null,
       "justify_items": null,
       "left": null,
       "margin": null,
       "max_height": null,
       "max_width": null,
       "min_height": null,
       "min_width": null,
       "object_fit": null,
       "object_position": null,
       "order": null,
       "overflow": null,
       "overflow_x": null,
       "overflow_y": null,
       "padding": null,
       "right": null,
       "top": null,
       "visibility": null,
       "width": null
      }
     },
     "ff390c645fad4f5db66240031611e540": {
      "model_module": "@jupyter-widgets/base",
      "model_module_version": "1.2.0",
      "model_name": "LayoutModel",
      "state": {
       "_model_module": "@jupyter-widgets/base",
       "_model_module_version": "1.2.0",
       "_model_name": "LayoutModel",
       "_view_count": null,
       "_view_module": "@jupyter-widgets/base",
       "_view_module_version": "1.2.0",
       "_view_name": "LayoutView",
       "align_content": null,
       "align_items": null,
       "align_self": null,
       "border": null,
       "bottom": null,
       "display": null,
       "flex": null,
       "flex_flow": null,
       "grid_area": null,
       "grid_auto_columns": null,
       "grid_auto_flow": null,
       "grid_auto_rows": null,
       "grid_column": null,
       "grid_gap": null,
       "grid_row": null,
       "grid_template_areas": null,
       "grid_template_columns": null,
       "grid_template_rows": null,
       "height": null,
       "justify_content": null,
       "justify_items": null,
       "left": null,
       "margin": null,
       "max_height": null,
       "max_width": null,
       "min_height": null,
       "min_width": null,
       "object_fit": null,
       "object_position": null,
       "order": null,
       "overflow": null,
       "overflow_x": null,
       "overflow_y": null,
       "padding": null,
       "right": null,
       "top": null,
       "visibility": null,
       "width": null
      }
     },
     "ff430de80adb4a1ab46ebf3a2e523875": {
      "model_module": "@jupyter-widgets/controls",
      "model_module_version": "1.5.0",
      "model_name": "FloatProgressModel",
      "state": {
       "_dom_classes": [],
       "_model_module": "@jupyter-widgets/controls",
       "_model_module_version": "1.5.0",
       "_model_name": "FloatProgressModel",
       "_view_count": null,
       "_view_module": "@jupyter-widgets/controls",
       "_view_module_version": "1.5.0",
       "_view_name": "ProgressView",
       "bar_style": "success",
       "description": "",
       "description_tooltip": null,
       "layout": "IPY_MODEL_c68818db496f41a1a95aeb03566d458a",
       "max": 365,
       "min": 0,
       "orientation": "horizontal",
       "style": "IPY_MODEL_a6b627bacee2400c80693bda62dbe15b",
       "value": 365
      }
     }
    },
    "version_major": 2,
    "version_minor": 0
   }
  }
 },
 "nbformat": 4,
 "nbformat_minor": 5
}
