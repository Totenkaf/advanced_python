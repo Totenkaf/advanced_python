{
 "cells": [
  {
   "cell_type": "markdown",
   "metadata": {
    "id": "0fmznjfN355Y"
   },
   "source": [
    "## Семинар 6 \"Segmentation\""
   ]
  },
  {
   "cell_type": "markdown",
   "metadata": {
    "id": "6Xxd1tvd355b"
   },
   "source": [
    "ФИО: Усцов Артем Алексеевич"
   ]
  },
  {
   "cell_type": "markdown",
   "metadata": {
    "id": "jOAIdyAv355b"
   },
   "source": [
    "## Задание"
   ]
  },
  {
   "cell_type": "markdown",
   "metadata": {
    "id": "9b18K0h3355c"
   },
   "source": [
    "Предлагается поучаствовать в конкурсе https://drive.grand-challenge.org/\n",
    "\n",
    "Для зачета требуется получить значение dice-coefficient на leaderboard не меньше 0.8 и прислать ноутбук с кодом и кратким отчетом: что пробовали, что сделали, мысли почему окончательная архитектура лучше остальных.\n",
    "\n",
    "Называйте своего юзера с суффиксом [sphere].\n",
    "\n",
    "Также первые 3 человека получат бонусные 6, 4, 2 балл соответственно. (deadline: 23:59 15 декабря 2022).  \n",
    "Скорее всего будут дополнительные плюшки для призеров конкурса.\n"
   ]
  },
  {
   "cell_type": "code",
   "execution_count": 1,
   "metadata": {
    "colab": {
     "base_uri": "https://localhost:8080/"
    },
    "id": "bJZ5H0Bq355c",
    "executionInfo": {
     "status": "ok",
     "timestamp": 1671655831086,
     "user_tz": -180,
     "elapsed": 24823,
     "user": {
      "displayName": "Артём Усцов",
      "userId": "16141628694791373514"
     }
    },
    "outputId": "b45afd07-e728-4af5-be5b-330250ab9ee9"
   },
   "source": [
    "!pip install pytorch_lightning\n",
    "!pip install imagecodecs-lite\n",
    "!pip install --upgrade tifffile"
   ],
   "outputs": []
  },
  {
   "cell_type": "code",
   "execution_count": 2,
   "metadata": {
    "colab": {
     "base_uri": "https://localhost:8080/"
    },
    "id": "ww3hJUv_355d",
    "executionInfo": {
     "status": "ok",
     "timestamp": 1671655837680,
     "user_tz": -180,
     "elapsed": 6598,
     "user": {
      "displayName": "Артём Усцов",
      "userId": "16141628694791373514"
     }
    },
    "outputId": "7200c9de-8dfa-4620-a5aa-4a108af74d61"
   },
   "source": [
    "!wget https://www.dropbox.com/sh/z4hbbzqai0ilqht/AADp_8oefNFs2bjC2kzl2_Fqa/training.zip -P dataset/\n",
    "!wget https://www.dropbox.com/sh/z4hbbzqai0ilqht/AABuUJQJ5yG5oCuziYzYu8jWa/test.zip -P dataset/"
   ],
   "outputs": []
  },
  {
   "cell_type": "code",
   "execution_count": 3,
   "metadata": {
    "colab": {
     "base_uri": "https://localhost:8080/"
    },
    "id": "239Vsswq355e",
    "executionInfo": {
     "status": "ok",
     "timestamp": 1671655838155,
     "user_tz": -180,
     "elapsed": 480,
     "user": {
      "displayName": "Артём Усцов",
      "userId": "16141628694791373514"
     }
    },
    "outputId": "ab7d4e70-4378-4a8e-dfcc-dc0f91d5d2ad"
   },
   "source": [
    "!unzip dataset/test.zip\n",
    "!unzip dataset/training.zip && mv ./training ./train"
   ],
   "outputs": []
  },
  {
   "cell_type": "code",
   "execution_count": 4,
   "metadata": {
    "id": "cbc8yxcM355e",
    "executionInfo": {
     "status": "ok",
     "timestamp": 1671655843627,
     "user_tz": -180,
     "elapsed": 5474,
     "user": {
      "displayName": "Артём Усцов",
      "userId": "16141628694791373514"
     }
    }
   },
   "source": [
    "import os\n",
    "import numpy as np\n",
    "import pandas as pd\n",
    "from tqdm import tqdm\n",
    "\n",
    "import torch as t\n",
    "import torch.nn as nn\n",
    "import torch.nn.functional as F\n",
    "from torch.utils import data\n",
    "from torch.utils.tensorboard import SummaryWriter\n",
    "\n",
    "from torchvision import transforms as tsf\n",
    "\n",
    "from pathlib import Path\n",
    "from pytorch_lightning import Trainer\n",
    "from pytorch_lightning.callbacks import ModelCheckpoint, EarlyStopping\n",
    "\n",
    "import PIL\n",
    "from PIL import Image\n",
    "\n",
    "import skimage\n",
    "from skimage import io\n",
    "import skimage.transform\n",
    "from imagecodecs import imread\n",
    "import imageio\n",
    "\n",
    "\n",
    "TRAIN_PATH = './train.pth'\n",
    "TEST_PATH = './test.tph'\n",
    "\n",
    "import matplotlib.pyplot as plt\n",
    "%matplotlib inline"
   ],
   "outputs": []
  },
  {
   "cell_type": "code",
   "source": [
    "t.cuda.is_available()"
   ],
   "metadata": {
    "colab": {
     "base_uri": "https://localhost:8080/"
    },
    "id": "hYEoVjupLhQd",
    "executionInfo": {
     "status": "ok",
     "timestamp": 1671655844054,
     "user_tz": -180,
     "elapsed": 431,
     "user": {
      "displayName": "Артём Усцов",
      "userId": "16141628694791373514"
     }
    },
    "outputId": "a7acc59f-9613-400a-940c-949c48d1559c"
   },
   "execution_count": 5,
   "outputs": []
  },
  {
   "cell_type": "code",
   "source": [
    "!nvidia-smi"
   ],
   "metadata": {
    "colab": {
     "base_uri": "https://localhost:8080/"
    },
    "id": "uqPGHk4mNTx-",
    "executionInfo": {
     "status": "ok",
     "timestamp": 1671655844054,
     "user_tz": -180,
     "elapsed": 8,
     "user": {
      "displayName": "Артём Усцов",
      "userId": "16141628694791373514"
     }
    },
    "outputId": "6bb5b8ef-2010-440e-fb3b-e6e4e56cbfc0"
   },
   "execution_count": 6,
   "outputs": []
  },
  {
   "cell_type": "code",
   "execution_count": 7,
   "metadata": {
    "id": "REy7LFgg355f",
    "executionInfo": {
     "status": "ok",
     "timestamp": 1671655844054,
     "user_tz": -180,
     "elapsed": 4,
     "user": {
      "displayName": "Артём Усцов",
      "userId": "16141628694791373514"
     }
    }
   },
   "source": [
    "def process(dataset_path, mask_path=None):\n",
    "    data = []\n",
    "    if mask_path:\n",
    "        mask_path = Path(mask_path)\n",
    "\n",
    "    for image in sorted(Path(dataset_path).iterdir()):\n",
    "        item = {}\n",
    "        img = io.imread(image)\n",
    "        \n",
    "        if img.shape[2] > 3:\n",
    "            assert(img[:,:,3]!=255).sum() == 0\n",
    "        \n",
    "        img = img[:,:,:3]\n",
    "        item['name'] = image.name.split(\"_\")[0]\n",
    "        item['img'] = t.from_numpy(img)\n",
    "        if mask_path:\n",
    "            mask = io.imread(mask_path/(item['name'] + \"_manual1.gif\"))\n",
    "            item['mask'] = t.from_numpy(mask)\n",
    "        data.append(item)\n",
    "    \n",
    "    return data"
   ],
   "outputs": []
  },
  {
   "cell_type": "code",
   "execution_count": 8,
   "metadata": {
    "id": "q0A219UP355g",
    "executionInfo": {
     "status": "ok",
     "timestamp": 1671655845897,
     "user_tz": -180,
     "elapsed": 1847,
     "user": {
      "displayName": "Артём Усцов",
      "userId": "16141628694791373514"
     }
    }
   },
   "source": [
    "test = process('test/images/')\n",
    "t.save(test, TEST_PATH)\n",
    "train_data = process('train/images', \"train/1st_manual/\")"
   ],
   "outputs": []
  },
  {
   "cell_type": "code",
   "execution_count": 9,
   "metadata": {
    "id": "2puFTBbi355g",
    "executionInfo": {
     "status": "ok",
     "timestamp": 1671655845898,
     "user_tz": -180,
     "elapsed": 18,
     "user": {
      "displayName": "Артём Усцов",
      "userId": "16141628694791373514"
     }
    }
   },
   "source": [
    "class Dataset():\n",
    "    def __init__(\n",
    "        self, data,\n",
    "        source_transform,\n",
    "        target_transform,\n",
    "    ):\n",
    "        self.datas = data\n",
    "        self.s_transform = source_transform\n",
    "        self.t_transform = target_transform\n",
    "\n",
    "    def __getitem__(self, index):\n",
    "        data = self.datas[index]\n",
    "        img = data['img'].numpy()\n",
    "        mask = data['mask'][:,:,None].byte().numpy()\n",
    "        img = self.s_transform(img)\n",
    "        mask = self.t_transform(mask)\n",
    "        return img, mask\n",
    "\n",
    "    def __len__(self):\n",
    "        return len(self.datas)"
   ],
   "outputs": []
  },
  {
   "cell_type": "code",
   "execution_count": 10,
   "metadata": {
    "colab": {
     "base_uri": "https://localhost:8080/"
    },
    "id": "IRhPCD0W355h",
    "executionInfo": {
     "status": "ok",
     "timestamp": 1671655845898,
     "user_tz": -180,
     "elapsed": 17,
     "user": {
      "displayName": "Артём Усцов",
      "userId": "16141628694791373514"
     }
    },
    "outputId": "8e151c24-91aa-4432-8ca8-07075b8909fd"
   },
   "source": [
    "s_trans = tsf.Compose([\n",
    "    tsf.ToPILImage(),\n",
    "    tsf.Resize((256,256)), # increase image size\n",
    "    tsf.ToTensor(),\n",
    "    tsf.Normalize(mean = [0.5,0.5,0.5], std = [0.5,0.5,0.5])\n",
    "]\n",
    ")\n",
    "t_trans = tsf.Compose([\n",
    "    tsf.ToPILImage(),\n",
    "    tsf.Resize(\n",
    "        (256,256), \n",
    "        interpolation=PIL.Image.NEAREST),\n",
    "    tsf.ToTensor(),\n",
    "    ]\n",
    ")"
   ],
   "outputs": []
  },
  {
   "cell_type": "code",
   "execution_count": 11,
   "metadata": {
    "id": "kTSEygsY355h",
    "executionInfo": {
     "status": "ok",
     "timestamp": 1671655845899,
     "user_tz": -180,
     "elapsed": 17,
     "user": {
      "displayName": "Артём Усцов",
      "userId": "16141628694791373514"
     }
    }
   },
   "source": [
    "train_dataset = Dataset(train_data, s_trans, t_trans)"
   ],
   "outputs": []
  },
  {
   "cell_type": "code",
   "execution_count": 12,
   "metadata": {
    "colab": {
     "base_uri": "https://localhost:8080/",
     "height": 221
    },
    "id": "qfmo9PFa355i",
    "executionInfo": {
     "status": "ok",
     "timestamp": 1671655845899,
     "user_tz": -180,
     "elapsed": 17,
     "user": {
      "displayName": "Артём Усцов",
      "userId": "16141628694791373514"
     }
    },
    "outputId": "820cc710-ad7b-44d7-ec2b-5ea973ec2b8b"
   },
   "source": [
    "img, mask = train_dataset[12]\n",
    "\n",
    "plt.subplot(121)\n",
    "plt.imshow(img.permute(1,2,0).numpy()*0.5+0.5)\n",
    "\n",
    "plt.subplot(122)\n",
    "plt.imshow(mask[0].numpy(), cmap=\"gray\")"
   ],
   "outputs": []
  },
  {
   "cell_type": "code",
   "source": [
    "img, mask = train_dataset[5]\n",
    "plt.subplot(121)\n",
    "plt.imshow(img.permute(1,2,0).numpy()*0.5+0.5)\n",
    "\n",
    "plt.subplot(122)\n",
    "plt.imshow(mask[0].numpy(), cmap=\"gray\")"
   ],
   "metadata": {
    "colab": {
     "base_uri": "https://localhost:8080/",
     "height": 221
    },
    "id": "zMcKKJYXRlG_",
    "executionInfo": {
     "status": "ok",
     "timestamp": 1671655846801,
     "user_tz": -180,
     "elapsed": 914,
     "user": {
      "displayName": "Артём Усцов",
      "userId": "16141628694791373514"
     }
    },
    "outputId": "00cc4145-76d8-4691-bb01-ebed0e28b501"
   },
   "execution_count": 13,
   "outputs": []
  },
  {
   "cell_type": "code",
   "execution_count": 14,
   "metadata": {
    "id": "TSFFZFQY355i",
    "executionInfo": {
     "status": "ok",
     "timestamp": 1671655846802,
     "user_tz": -180,
     "elapsed": 13,
     "user": {
      "displayName": "Артём Усцов",
      "userId": "16141628694791373514"
     }
    }
   },
   "source": [
    "class double_conv(nn.Module):\n",
    "    def __init__(self, in_ch, out_ch):\n",
    "        super(double_conv, self).__init__()\n",
    "        self.conv = nn.Sequential(\n",
    "            nn.Conv2d(in_ch, out_ch, 3, padding=1),\n",
    "            nn.BatchNorm2d(out_ch),\n",
    "            nn.ReLU(inplace=True),\n",
    "            nn.Conv2d(out_ch, out_ch, 3, padding=1),\n",
    "            nn.BatchNorm2d(out_ch),\n",
    "            nn.ReLU(inplace=True),\n",
    "        )\n",
    "\n",
    "    def forward(self, x):\n",
    "        x = self.conv(x)\n",
    "        return x\n",
    "\n",
    "class down(nn.Module):\n",
    "    def __init__(self, in_ch, out_ch):\n",
    "        super(down, self).__init__()\n",
    "        self.mpconv = nn.Sequential(\n",
    "            nn.MaxPool2d(2),\n",
    "            double_conv(in_ch, out_ch)\n",
    "        )\n",
    "\n",
    "    def forward(self, x):\n",
    "        x = self.mpconv(x)\n",
    "        return x\n",
    "\n",
    "# class up(nn.Module):\n",
    "#     def __init__(self, in_ch, out_ch):\n",
    "#         super(up, self).__init__()\n",
    "#         self.up = nn.ConvTranspose2d(in_ch//2, in_ch//2, 2, stride=2)\n",
    "#         self.conv = double_conv(in_ch, out_ch)\n",
    "\n",
    "class up(nn.Module):\n",
    "    def __init__(self, in_ch, out_ch, bilinear=False):\n",
    "        super(up, self).__init__()\n",
    "\n",
    "        #  would be a nice idea if the upsampling could be learned too\n",
    "        # but not enough GPU memory for it with high definition images((\n",
    "        if bilinear:\n",
    "            self.up = nn.Upsample(scale_factor=2, mode='bilinear', align_corners=True)\n",
    "        else:\n",
    "            self.up = nn.ConvTranspose2d(in_ch//2, in_ch//2, 2, stride=2)\n",
    "\n",
    "        self.conv = double_conv(in_ch, out_ch)\n",
    "\n",
    "    def forward(self, x1, x2):\n",
    "        x1 = self.up(x1)\n",
    "        diffY = x2.size()[2] - x1.size()[2]\n",
    "        diffX = x2.size()[3] - x1.size()[3]\n",
    "\n",
    "        x1 = F.pad(x1, (diffX // 2, diffX - diffX//2,\n",
    "                        diffY // 2, diffY - diffY//2))\n",
    "\n",
    "        x = t.cat([x2, x1], dim=1)\n",
    "        x = self.conv(x)\n",
    "        return x"
   ],
   "outputs": []
  },
  {
   "cell_type": "code",
   "source": [
    "class UNet(nn.Module):\n",
    "    def __init__(self, n_channels):\n",
    "        super(UNet, self).__init__()\n",
    "        self.inc = double_conv(n_channels, 64)\n",
    "        self.down1 = down(64, 128)\n",
    "        self.down2 = down(128, 256)\n",
    "        self.down3 = down(256, 512)\n",
    "        self.down4 = down(512, 512)\n",
    "        self.up1 = up(1024, 256)\n",
    "        self.up2 = up(512, 128)\n",
    "        self.up3 = up(256, 64)\n",
    "        self.up4 = up(128, 64)\n",
    "        self.outc = nn.Conv2d(64, n_channels, 1)\n",
    "\n",
    "    def forward(self, x):\n",
    "        x1 = self.inc(x)\n",
    "        x2 = self.down1(x1)\n",
    "        x3 = self.down2(x2)\n",
    "        x4 = self.down3(x3)\n",
    "        x5 = self.down4(x4)\n",
    "        x = self.up1(x5, x4)\n",
    "        x = self.up2(x, x3)\n",
    "        x = self.up3(x, x2)\n",
    "        x = self.up4(x, x1)\n",
    "        x = self.outc(x)\n",
    "        x = t.sigmoid(x)\n",
    "        return x"
   ],
   "metadata": {
    "id": "V1ppRd_d4Z2g",
    "executionInfo": {
     "status": "ok",
     "timestamp": 1671655846802,
     "user_tz": -180,
     "elapsed": 12,
     "user": {
      "displayName": "Артём Усцов",
      "userId": "16141628694791373514"
     }
    }
   },
   "execution_count": 15,
   "outputs": []
  },
  {
   "cell_type": "code",
   "source": [
    "class SoftDiceLoss(nn.Module):\n",
    "    '''\n",
    "    soft-dice loss, useful in binary segmentation\n",
    "    '''\n",
    "    def __init__(self,\n",
    "                 p=1,\n",
    "                 smooth=1):\n",
    "        super(SoftDiceLoss, self).__init__()\n",
    "        self.p = p\n",
    "        self.smooth = smooth\n",
    "\n",
    "    def forward(self, probs, labels):\n",
    "        '''\n",
    "        inputs:\n",
    "            logits: tensor of shape (N, H, W, ...)\n",
    "            label: tensor of shape(N, H, W, ...)\n",
    "        output:\n",
    "            loss: tensor of shape(1, )\n",
    "        '''\n",
    "        numer = (probs * labels).sum()\n",
    "        denor = (probs.pow(self.p) + labels.pow(self.p)).sum()\n",
    "        loss = 1. - (2 * numer + self.smooth) / (denor + self.smooth)\n",
    "        return loss\n"
   ],
   "metadata": {
    "id": "mY_jm3XSkAu4",
    "executionInfo": {
     "status": "ok",
     "timestamp": 1671655846803,
     "user_tz": -180,
     "elapsed": 12,
     "user": {
      "displayName": "Артём Усцов",
      "userId": "16141628694791373514"
     }
    }
   },
   "execution_count": 16,
   "outputs": []
  },
  {
   "cell_type": "code",
   "source": [
    "from torch.autograd import Variable\n",
    "from IPython.display import clear_output"
   ],
   "metadata": {
    "id": "x00gVsV7VEQr",
    "executionInfo": {
     "status": "ok",
     "timestamp": 1671655846803,
     "user_tz": -180,
     "elapsed": 12,
     "user": {
      "displayName": "Артём Усцов",
      "userId": "16141628694791373514"
     }
    }
   },
   "execution_count": 17,
   "outputs": []
  },
  {
   "cell_type": "code",
   "source": [
    "def run_net_learning_process(net, optimizer, train_loader, valid_loader,\n",
    "                             epochs, criterion, scheduler,\n",
    "                             plot=True, verbose=True,\n",
    "                             threshold=0.5,\n",
    "                            ):\n",
    "\n",
    "    train_loss_epochs = []\n",
    "    train_accuracy_epochs = []\n",
    "    val_loss_epochs = []\n",
    "    val_accuracy_epochs = []\n",
    "\n",
    "    try:\n",
    "        for epoch in tqdm(range(epochs)):\n",
    "            # Decay Learning Rate\n",
    "            scheduler.step()\n",
    "\n",
    "            losses = []\n",
    "            accuracy = 0\n",
    "            for batch_idx, (data, target) in enumerate(train_loader):\n",
    "                data = data.cuda()\n",
    "                target = target.cuda()\n",
    "                data, target = Variable(data), Variable(target)\n",
    "\n",
    "                optimizer.zero_grad()\n",
    "                net_out = net(data)\n",
    "                loss = criterion(net_out, target)\n",
    "                losses.append(loss.data.item())\n",
    "\n",
    "                accuracy = ((net_out > threshold) == target).float().mean()\n",
    "                loss.backward()\n",
    "\n",
    "                optimizer.step()\n",
    "\n",
    "            train_loss_epochs.append(np.mean(losses))\n",
    "            train_accuracy_epochs.append(accuracy.cpu())\n",
    "\n",
    "\n",
    "            losses = []\n",
    "            accuracy = 0\n",
    "            for data, target in valid_loader:\n",
    "              data = data.cuda()\n",
    "              target = target.cuda()\n",
    "              data, target = Variable(data), Variable(target)\n",
    "              net_out = net(data)\n",
    "\n",
    "              loss = criterion(net_out, target)\n",
    "              losses.append(loss.data.item())\n",
    "\n",
    "              accuracy = ((net_out > threshold) == target).float().mean()\n",
    "            \n",
    "            val_loss_epochs.append(np.mean(losses))\n",
    "            val_accuracy_epochs.append(accuracy.cpu())\n",
    "\n",
    "            # для динамического обновления графиков, wait - очищает вывод\n",
    "            clear_output(wait=True) \n",
    "\n",
    "            # детализация выводимой информации\n",
    "            if verbose:\n",
    "                print(\n",
    "                      f'Network: <{type(net).__name__}>\\n'\n",
    "                      f'Optimizer: <{type(optimizer).__name__}>\\n'\n",
    "                      f'Loss type: <{type(criterion).__name__}>\\n\\n'\n",
    "                      f'Epoch: {epoch+1}\\n'\n",
    "                      f'<Train/Test>\\n'\n",
    "                      f'Loss: {np.round(train_loss_epochs[-1], 3)} / {np.round(val_loss_epochs[-1], 3)} '\n",
    "                      f'| Accuracy: {train_accuracy_epochs[-1]:.3f} /{val_accuracy_epochs[-1]:.3f}'\n",
    "                     )\n",
    "\n",
    "            if plot:\n",
    "                plt.figure(figsize=(12, 5))\n",
    "\n",
    "                # Отображение изменения ошибки\n",
    "                plt.subplot(1, 2, 1)\n",
    "                plt.plot(train_loss_epochs, label='Train')\n",
    "                plt.plot(val_loss_epochs, label='Test')\n",
    "                plt.xlabel('Epochs', fontsize=16)\n",
    "                plt.ylabel('Loss', fontsize=16)\n",
    "                plt.legend(loc=0, fontsize=16)\n",
    "                plt.grid('on')\n",
    "\n",
    "                # Отображение изменения accuracy\n",
    "                plt.subplot(1, 2, 2)\n",
    "                plt.plot(train_accuracy_epochs, label='Train')\n",
    "                plt.plot(val_accuracy_epochs, label='Test')\n",
    "                plt.xlabel('Epochs', fontsize=16)\n",
    "                plt.ylabel('Accuracy', fontsize=16)\n",
    "                plt.legend(loc=0, fontsize=16)\n",
    "                plt.grid('on')\n",
    "                plt.show()\n",
    "\n",
    "    except KeyboardInterrupt as KI:\n",
    "        print(KI)\n",
    "\n",
    "    return train_loss_epochs, \\\n",
    "       train_accuracy_epochs"
   ],
   "metadata": {
    "id": "7UUUeCHiU_j5",
    "executionInfo": {
     "status": "ok",
     "timestamp": 1671655846803,
     "user_tz": -180,
     "elapsed": 12,
     "user": {
      "displayName": "Артём Усцов",
      "userId": "16141628694791373514"
     }
    }
   },
   "execution_count": 18,
   "outputs": []
  },
  {
   "cell_type": "code",
   "source": [
    "img.shape"
   ],
   "metadata": {
    "colab": {
     "base_uri": "https://localhost:8080/"
    },
    "id": "yAnHOoyBf6JG",
    "executionInfo": {
     "status": "ok",
     "timestamp": 1671655846803,
     "user_tz": -180,
     "elapsed": 11,
     "user": {
      "displayName": "Артём Усцов",
      "userId": "16141628694791373514"
     }
    },
    "outputId": "199388af-79a8-4d0f-f588-fbf38a809369"
   },
   "execution_count": 19,
   "outputs": []
  },
  {
   "cell_type": "code",
   "source": [
    "mask.shape"
   ],
   "metadata": {
    "colab": {
     "base_uri": "https://localhost:8080/"
    },
    "id": "4a0XM4BlguR4",
    "executionInfo": {
     "status": "ok",
     "timestamp": 1671655846804,
     "user_tz": -180,
     "elapsed": 9,
     "user": {
      "displayName": "Артём Усцов",
      "userId": "16141628694791373514"
     }
    },
    "outputId": "4d399b9f-12ab-4846-828c-31b18aa179b0"
   },
   "execution_count": 20,
   "outputs": []
  },
  {
   "cell_type": "code",
   "source": [
    "VAL_SIZE = 2\n",
    "TRAIN_SIZE = len(train_dataset) - VAL_SIZE"
   ],
   "metadata": {
    "id": "6i-44qiDm7th",
    "executionInfo": {
     "status": "ok",
     "timestamp": 1671655846804,
     "user_tz": -180,
     "elapsed": 8,
     "user": {
      "displayName": "Артём Усцов",
      "userId": "16141628694791373514"
     }
    }
   },
   "execution_count": 21,
   "outputs": []
  },
  {
   "cell_type": "code",
   "source": [
    "train_set, val_set = t.utils.data.random_split(train_dataset, [TRAIN_SIZE, VAL_SIZE])\n",
    "\n",
    "train_dataloader = t.utils.data.DataLoader(train_set, batch_size=32)\n",
    "val_dataloader = t.utils.data.DataLoader(val_set, batch_size=32)"
   ],
   "metadata": {
    "id": "BipMwlpuhoJb",
    "executionInfo": {
     "status": "ok",
     "timestamp": 1671655846804,
     "user_tz": -180,
     "elapsed": 7,
     "user": {
      "displayName": "Артём Усцов",
      "userId": "16141628694791373514"
     }
    }
   },
   "execution_count": 22,
   "outputs": []
  },
  {
   "cell_type": "code",
   "execution_count": 23,
   "metadata": {
    "id": "gK74vskl355j",
    "executionInfo": {
     "status": "ok",
     "timestamp": 1671655852647,
     "user_tz": -180,
     "elapsed": 5850,
     "user": {
      "displayName": "Артём Усцов",
      "userId": "16141628694791373514"
     }
    }
   },
   "source": [
    "model = UNet(3).cuda()\n",
    "criterion = SoftDiceLoss().cuda()\n",
    "# criterion = nn.CrossEntropyLoss().cuda()\n",
    "\n",
    "optimizer = t.optim.RMSprop( #Adam\n",
    "    model.parameters(), \n",
    "    lr=1e-4, \n",
    "    momentum=0.9, \n",
    "    weight_decay=1e-4,\n",
    ")\n",
    "\n",
    "exp_lr_scheduler = t.optim.lr_scheduler.StepLR(optimizer, step_size=20, gamma=0.6)"
   ],
   "outputs": []
  },
  {
   "cell_type": "code",
   "source": [
    "tr, tr_ac =\\\n",
    "run_net_learning_process(\n",
    "    net=model, \n",
    "    optimizer=optimizer, \n",
    "    epochs=200, \n",
    "    criterion=criterion,\n",
    "    scheduler=exp_lr_scheduler,\n",
    "    train_loader=train_dataloader,\n",
    "    valid_loader=val_dataloader,\n",
    "    plot=True, \n",
    "    verbose=True,\n",
    "    threshold=0.5,\n",
    ")"
   ],
   "metadata": {
    "colab": {
     "base_uri": "https://localhost:8080/",
     "height": 478
    },
    "id": "X06vQLmCUx34",
    "executionInfo": {
     "status": "ok",
     "timestamp": 1671656114750,
     "user_tz": -180,
     "elapsed": 262108,
     "user": {
      "displayName": "Артём Усцов",
      "userId": "16141628694791373514"
     }
    },
    "outputId": "65923af8-f177-49ae-8671-a3dafb8fba22"
   },
   "execution_count": 24,
   "outputs": []
  },
  {
   "cell_type": "markdown",
   "source": [
    "По наблюдениям, 200 итераций более, чем достаточно, чтобы выйти на линию \"насыщения\" на трейне"
   ],
   "metadata": {
    "id": "P4e_FjjT97bl"
   }
  },
  {
   "cell_type": "code",
   "execution_count": 25,
   "metadata": {
    "id": "KRlt0XIA355j",
    "executionInfo": {
     "status": "ok",
     "timestamp": 1671656120949,
     "user_tz": -180,
     "elapsed": 3,
     "user": {
      "displayName": "Артём Усцов",
      "userId": "16141628694791373514"
     }
    }
   },
   "source": [
    "class TestDataset():\n",
    "    def __init__(self,path,source_transform):\n",
    "        self.datas = t.load(path)\n",
    "        self.s_transform = source_transform\n",
    "\n",
    "    def __getitem__(self, index):\n",
    "        data = self.datas[index]\n",
    "        img = data['img'].numpy()\n",
    "        img = self.s_transform(img)\n",
    "        return img\n",
    "\n",
    "    def __len__(self):\n",
    "        return len(self.datas)"
   ],
   "outputs": []
  },
  {
   "cell_type": "code",
   "source": [
    "testset = TestDataset(TEST_PATH, s_trans)\n",
    "test_dataloader = t.utils.data.DataLoader(testset,batch_size=1)"
   ],
   "metadata": {
    "id": "K7sYC6xsxLeA",
    "executionInfo": {
     "status": "ok",
     "timestamp": 1671656123639,
     "user_tz": -180,
     "elapsed": 4,
     "user": {
      "displayName": "Артём Усцов",
      "userId": "16141628694791373514"
     }
    }
   },
   "execution_count": 26,
   "outputs": []
  },
  {
   "cell_type": "code",
   "execution_count": 27,
   "metadata": {
    "id": "mWxJoyrT355j",
    "executionInfo": {
     "status": "ok",
     "timestamp": 1671656123639,
     "user_tz": -180,
     "elapsed": 3,
     "user": {
      "displayName": "Артём Усцов",
      "userId": "16141628694791373514"
     }
    }
   },
   "source": [
    "if not os.path.isdir(\"result\"):\n",
    "  os.makedirs(\"result\")"
   ],
   "outputs": []
  },
  {
   "cell_type": "code",
   "execution_count": 28,
   "metadata": {
    "id": "QI5syT4G355j",
    "colab": {
     "base_uri": "https://localhost:8080/"
    },
    "executionInfo": {
     "status": "ok",
     "timestamp": 1671656126202,
     "user_tz": -180,
     "elapsed": 1658,
     "user": {
      "displayName": "Артём Усцов",
      "userId": "16141628694791373514"
     }
    },
    "outputId": "3e1bb869-8715-4d89-fdb3-74fedd28bc66"
   },
   "source": [
    "model = model.eval()\n",
    "for ex_id, data in enumerate(test_dataloader):\n",
    "    data = t.autograd.Variable(data, volatile=True).cuda()\n",
    "    o = model(data)\n",
    "    \n",
    "    source_image = io.imread(\"test/images/%s_test.tif\" % str(ex_id + 1).zfill(2))\n",
    "    tm = o[0][0].data.cpu().numpy()\n",
    "    tm = skimage.transform.resize(tm, source_image.shape[:-1])\n",
    "    tm = (tm > 0.5).astype(int)\n",
    "\n",
    "    imageio.imwrite(\"result/%s.png\" % (ex_id + 1), tm)"
   ],
   "outputs": []
  },
  {
   "cell_type": "code",
   "execution_count": 29,
   "metadata": {
    "id": "Ubk941Xs355k",
    "colab": {
     "base_uri": "https://localhost:8080/",
     "height": 221
    },
    "executionInfo": {
     "status": "ok",
     "timestamp": 1671656129187,
     "user_tz": -180,
     "elapsed": 8,
     "user": {
      "displayName": "Артём Усцов",
      "userId": "16141628694791373514"
     }
    },
    "outputId": "4e226c31-f628-4ab9-b904-7636b424bdb2"
   },
   "source": [
    "tm = o[0][0].data.cpu().numpy()\n",
    "plt.subplot(121)\n",
    "plt.imshow(data[0].data.cpu().permute(1,2,0).numpy()*0.5+0.5)\n",
    "plt.subplot(122)\n",
    "plt.imshow(tm, cmap=\"gray\")"
   ],
   "outputs": []
  },
  {
   "cell_type": "markdown",
   "source": [
    "В целом, выглядит очень реалистично"
   ],
   "metadata": {
    "id": "VlFOkWK092Jf"
   }
  },
  {
   "cell_type": "code",
   "execution_count": 30,
   "metadata": {
    "id": "9lDt2Fqn355k",
    "colab": {
     "base_uri": "https://localhost:8080/"
    },
    "executionInfo": {
     "status": "ok",
     "timestamp": 1671656134792,
     "user_tz": -180,
     "elapsed": 6,
     "user": {
      "displayName": "Артём Усцов",
      "userId": "16141628694791373514"
     }
    },
    "outputId": "e6da006a-5b19-4877-da70-494b485a088c"
   },
   "source": [
    "!zip -r result.zip result"
   ],
   "outputs": []
  },
  {
   "cell_type": "code",
   "source": [],
   "metadata": {
    "id": "vZsmTdTSKDmD"
   },
   "execution_count": null,
   "outputs": []
  },
  {
   "cell_type": "markdown",
   "source": [
    "Добавим аугментации. \n",
    "\n",
    "Возьмем небольшие углы поворота и растяжения картинки, чтобы не сломать модель"
   ],
   "metadata": {
    "id": "RwmYp3wi-VIy"
   }
  },
  {
   "cell_type": "code",
   "source": [
    "jitter_param = 0.1\n",
    "angle = 0.01\n",
    "imsize = 256"
   ],
   "metadata": {
    "id": "xIOeoKSPSWbD",
    "executionInfo": {
     "status": "ok",
     "timestamp": 1671657371388,
     "user_tz": -180,
     "elapsed": 1461,
     "user": {
      "displayName": "Артём Усцов",
      "userId": "16141628694791373514"
     }
    }
   },
   "execution_count": 83,
   "outputs": []
  },
  {
   "cell_type": "code",
   "source": [
    "s_trans = tsf.Compose([\n",
    "    tsf.ToPILImage(),\n",
    "    tsf.Resize((imsize,imsize)),\n",
    "    tsf.ColorJitter(brightness=jitter_param),\n",
    "    tsf.Lambda(lambda x: tsf.functional.affine(x, angle,\n",
    "                                        translate=(0, 0), scale=1, \n",
    "                                        shear = False)),\n",
    "    tsf.ToTensor(),\n",
    "    # tsf.RandomAffine(0.1, (0.1, 0.1)),\n",
    "    # tsf.Lambda(lambda x : x + t.normal(0, 0.001, size=tuple(x.data.shape))),\n",
    "    tsf.Normalize(mean = [0.5,0.5,0.5], std = [0.5,0.5,0.5])\n",
    "]\n",
    ")\n",
    "t_trans = tsf.Compose([\n",
    "    tsf.ToPILImage(),\n",
    "    tsf.Resize(\n",
    "        (imsize,imsize), \n",
    "        interpolation=PIL.Image.NEAREST),\n",
    "    tsf.ColorJitter(brightness=jitter_param),\n",
    "    tsf.Lambda(lambda x: tsf.functional.affine(x, angle,\n",
    "                                    translate=(0, 0), scale=1, \n",
    "                                    shear = False)),\n",
    "    tsf.ToTensor(),\n",
    "    # tsf.RandomAffine(0.1, (0.1, 0.1)),\n",
    "    # tsf.Lambda(lambda x : x + t.normal(0, 0.001, size=tuple(x.data.shape))),\n",
    "    ]\n",
    ")"
   ],
   "metadata": {
    "id": "ubG_YE4s-UJM",
    "executionInfo": {
     "status": "ok",
     "timestamp": 1671657373516,
     "user_tz": -180,
     "elapsed": 3,
     "user": {
      "displayName": "Артём Усцов",
      "userId": "16141628694791373514"
     }
    },
    "colab": {
     "base_uri": "https://localhost:8080/"
    },
    "outputId": "d3b8a1ab-32b2-43d6-e157-b9096d7e0583"
   },
   "execution_count": 84,
   "outputs": []
  },
  {
   "cell_type": "code",
   "source": [
    "s_trans_val = tsf.Compose([\n",
    "    tsf.ToPILImage(),\n",
    "    tsf.Resize((imsize,imsize)),\n",
    "    tsf.ToTensor(),\n",
    "    tsf.Normalize(mean = [0.5,0.5,0.5], std = [0.5,0.5,0.5])\n",
    "]\n",
    ")\n",
    "t_trans_val = tsf.Compose([\n",
    "    tsf.ToPILImage(),\n",
    "    tsf.Resize(\n",
    "        (imsize,imsize), \n",
    "        interpolation=PIL.Image.NEAREST),\n",
    "    tsf.ToTensor(),\n",
    "    ]\n",
    ")"
   ],
   "metadata": {
    "id": "hNA-kPTzfkop",
    "executionInfo": {
     "status": "ok",
     "timestamp": 1671657373944,
     "user_tz": -180,
     "elapsed": 4,
     "user": {
      "displayName": "Артём Усцов",
      "userId": "16141628694791373514"
     }
    }
   },
   "execution_count": 85,
   "outputs": []
  },
  {
   "cell_type": "code",
   "source": [
    "train_dataset, val_dataset = t.utils.data.random_split(train_data, [TRAIN_SIZE, VAL_SIZE])"
   ],
   "metadata": {
    "id": "LnccwUb7fvYJ",
    "executionInfo": {
     "status": "ok",
     "timestamp": 1671657373945,
     "user_tz": -180,
     "elapsed": 3,
     "user": {
      "displayName": "Артём Усцов",
      "userId": "16141628694791373514"
     }
    }
   },
   "execution_count": 86,
   "outputs": []
  },
  {
   "cell_type": "code",
   "source": [
    "train_set = Dataset(train_dataset, s_trans, t_trans)\n",
    "val_set = Dataset(val_dataset, s_trans_val, t_trans_val)"
   ],
   "metadata": {
    "id": "-QeY_uZQXAsF",
    "executionInfo": {
     "status": "ok",
     "timestamp": 1671657375461,
     "user_tz": -180,
     "elapsed": 3,
     "user": {
      "displayName": "Артём Усцов",
      "userId": "16141628694791373514"
     }
    }
   },
   "execution_count": 87,
   "outputs": []
  },
  {
   "cell_type": "code",
   "source": [
    "train_dataloader = t.utils.data.DataLoader(train_set, batch_size=32)\n",
    "val_dataloader = t.utils.data.DataLoader(val_set, batch_size=32)"
   ],
   "metadata": {
    "id": "VeIHYlCmXBTw",
    "executionInfo": {
     "status": "ok",
     "timestamp": 1671657377347,
     "user_tz": -180,
     "elapsed": 2,
     "user": {
      "displayName": "Артём Усцов",
      "userId": "16141628694791373514"
     }
    }
   },
   "execution_count": 88,
   "outputs": []
  },
  {
   "cell_type": "code",
   "source": [
    "model_1 = UNet(3).cuda()\n",
    "criterion = SoftDiceLoss().cuda()\n",
    "# criterion = nn.CrossEntropyLoss().cuda()\n",
    "\n",
    "optimizer = t.optim.RMSprop( #Adam\n",
    "    model_1.parameters(), \n",
    "    lr=1e-4, \n",
    "    momentum=0.9, \n",
    "    weight_decay=1e-4,\n",
    ")\n",
    "\n",
    "exp_lr_scheduler = t.optim.lr_scheduler.StepLR(optimizer, step_size=30, gamma=0.6)"
   ],
   "metadata": {
    "id": "8sUBB3t0_Xih",
    "executionInfo": {
     "status": "ok",
     "timestamp": 1671657382393,
     "user_tz": -180,
     "elapsed": 3,
     "user": {
      "displayName": "Артём Усцов",
      "userId": "16141628694791373514"
     }
    }
   },
   "execution_count": 90,
   "outputs": []
  },
  {
   "cell_type": "code",
   "source": [
    "tr_aug, tr_ac_aug =\\\n",
    "run_net_learning_process(\n",
    "    net=model_1, \n",
    "    optimizer=optimizer, \n",
    "    epochs=300, \n",
    "    criterion=criterion,\n",
    "    scheduler=exp_lr_scheduler,\n",
    "    train_loader=train_dataloader,\n",
    "    valid_loader=val_dataloader,\n",
    "    plot=True, \n",
    "    verbose=True,\n",
    "    threshold=0.5,\n",
    ")"
   ],
   "metadata": {
    "colab": {
     "base_uri": "https://localhost:8080/",
     "height": 478
    },
    "id": "xEB1kQ8u_-Tx",
    "executionInfo": {
     "status": "ok",
     "timestamp": 1671657777783,
     "user_tz": -180,
     "elapsed": 391981,
     "user": {
      "displayName": "Артём Усцов",
      "userId": "16141628694791373514"
     }
    },
    "outputId": "4b79b263-2089-4907-a1b3-6ad2425dbc87"
   },
   "execution_count": 91,
   "outputs": []
  },
  {
   "cell_type": "code",
   "source": [
    "if not os.path.isdir(\"result_aug\"):\n",
    "  os.makedirs(\"result_aug\")"
   ],
   "metadata": {
    "id": "b-qLSsAqBd-u",
    "executionInfo": {
     "status": "ok",
     "timestamp": 1671658000593,
     "user_tz": -180,
     "elapsed": 414,
     "user": {
      "displayName": "Артём Усцов",
      "userId": "16141628694791373514"
     }
    }
   },
   "execution_count": 92,
   "outputs": []
  },
  {
   "cell_type": "markdown",
   "source": [],
   "metadata": {
    "id": "1Wnd61NtiT0J"
   }
  },
  {
   "cell_type": "code",
   "source": [
    "model_1 = model_1.eval()\n",
    "for ex_id, data in enumerate(test_dataloader):\n",
    "    data = t.autograd.Variable(data, volatile=True).cuda()\n",
    "    o = model_1(data)\n",
    "    \n",
    "    source_image = io.imread(\"test/images/%s_test.tif\" % str(ex_id + 1).zfill(2))\n",
    "    tm = o[0][0].data.cpu().numpy()\n",
    "    tm = skimage.transform.resize(tm, source_image.shape[:-1])\n",
    "    tm = (tm > 0.5).astype(int)\n",
    "\n",
    "    imageio.imwrite(\"result_aug/%s.png\" % (ex_id + 1), tm)"
   ],
   "metadata": {
    "colab": {
     "base_uri": "https://localhost:8080/"
    },
    "id": "75ASBWJBA_bI",
    "executionInfo": {
     "status": "ok",
     "timestamp": 1671658005497,
     "user_tz": -180,
     "elapsed": 1411,
     "user": {
      "displayName": "Артём Усцов",
      "userId": "16141628694791373514"
     }
    },
    "outputId": "f15173e9-1b7d-4f39-fc26-b56d64ebd774"
   },
   "execution_count": 93,
   "outputs": []
  },
  {
   "cell_type": "code",
   "source": [
    "tm = o[0][0].data.cpu().numpy()\n",
    "plt.subplot(121)\n",
    "plt.imshow(data[0].data.cpu().permute(1,2,0).numpy()*0.5+0.5)\n",
    "plt.subplot(122)\n",
    "plt.imshow(tm, cmap=\"gray\")"
   ],
   "metadata": {
    "colab": {
     "base_uri": "https://localhost:8080/",
     "height": 221
    },
    "id": "Tvr6Y1vLB0Zw",
    "executionInfo": {
     "status": "ok",
     "timestamp": 1671658006357,
     "user_tz": -180,
     "elapsed": 5,
     "user": {
      "displayName": "Артём Усцов",
      "userId": "16141628694791373514"
     }
    },
    "outputId": "ea8c9440-bdb8-4707-a4e7-e1be7092f540"
   },
   "execution_count": 94,
   "outputs": []
  },
  {
   "cell_type": "code",
   "source": [
    "!zip -r result_aug.zip result_aug"
   ],
   "metadata": {
    "colab": {
     "base_uri": "https://localhost:8080/"
    },
    "id": "2bvylTc0B4io",
    "executionInfo": {
     "status": "ok",
     "timestamp": 1671658010180,
     "user_tz": -180,
     "elapsed": 1056,
     "user": {
      "displayName": "Артём Усцов",
      "userId": "16141628694791373514"
     }
    },
    "outputId": "1f8feffc-9914-419b-dc2a-645ac1a47176"
   },
   "execution_count": 95,
   "outputs": []
  },
  {
   "cell_type": "code",
   "source": [],
   "metadata": {
    "id": "NtqBZ_LKHOBa"
   },
   "execution_count": null,
   "outputs": []
  }
 ],
 "metadata": {
  "kernelspec": {
   "display_name": "Python 3 (ipykernel)",
   "language": "python",
   "name": "python3"
  },
  "language_info": {
   "codemirror_mode": {
    "name": "ipython",
    "version": 3
   },
   "file_extension": ".py",
   "mimetype": "text/x-python",
   "name": "python",
   "nbconvert_exporter": "python",
   "pygments_lexer": "ipython3",
   "version": "3.10.7"
  },
  "colab": {
   "provenance": []
  },
  "accelerator": "GPU",
  "gpuClass": "standard"
 },
 "nbformat": 4,
 "nbformat_minor": 0
}
