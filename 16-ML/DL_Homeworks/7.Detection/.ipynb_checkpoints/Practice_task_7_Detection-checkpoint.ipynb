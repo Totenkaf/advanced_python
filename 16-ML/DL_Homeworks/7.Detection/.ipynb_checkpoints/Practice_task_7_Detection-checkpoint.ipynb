{
 "cells": [
  {
   "cell_type": "code",
   "execution_count": 2,
   "id": "1980f61f",
   "metadata": {},
   "source": [
    "from IPython.display import Image"
   ],
   "outputs": []
  },
  {
   "cell_type": "markdown",
   "id": "622115ae",
   "metadata": {},
   "source": [
    "# Обучение модели FasterRCNN и YOLOv5 для детекции Helmet"
   ]
  },
  {
   "cell_type": "code",
   "execution_count": 6,
   "id": "615caecc",
   "metadata": {},
   "source": [
    "Image(filename='helmet.jpg')"
   ],
   "outputs": []
  },
  {
   "cell_type": "markdown",
   "id": "90d9470e",
   "metadata": {},
   "source": [
    "* Используем dataset LVIS [link](https://www.lvisdataset.org/)"
   ]
  },
  {
   "cell_type": "markdown",
   "id": "f60551c2",
   "metadata": {},
   "source": [
    "* [Репозиторий YOLOv5](https://github.com/ultralytics/yolov5)"
   ]
  },
  {
   "cell_type": "markdown",
   "id": "da900ce6",
   "metadata": {},
   "source": [
    "* [Конфигурационный файл](https://github.com/ultralytics/yolov5/blob/master/data/coco128.yaml)"
   ]
  },
  {
   "cell_type": "code",
   "execution_count": null,
   "id": "7b2b17cf",
   "metadata": {},
   "source": [],
   "outputs": []
  }
 ],
 "metadata": {
  "kernelspec": {
   "display_name": "Python 3 (ipykernel)",
   "language": "python",
   "name": "python3"
  },
  "language_info": {
   "codemirror_mode": {
    "name": "ipython",
    "version": 3
   },
   "file_extension": ".py",
   "mimetype": "text/x-python",
   "name": "python",
   "nbconvert_exporter": "python",
   "pygments_lexer": "ipython3",
   "version": "3.10.7"
  }
 },
 "nbformat": 4,
 "nbformat_minor": 5
}
