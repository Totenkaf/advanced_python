{
 "cells": [
  {
   "cell_type": "code",
   "execution_count": 7,
   "id": "8b383ea2",
   "metadata": {},
   "source": [
    "class Singleton:\n",
    "    _instance = None\n",
    "\n",
    "    def __new__(cls, *args, **kwargs):\n",
    "        print(args, kwargs)\n",
    "        if cls._instance is None:\n",
    "            cls._instance = super().__new__(cls)\n",
    "        return cls._instance\n",
    "    \n",
    "    def __init__(self, x):\n",
    "        self.x = x\n",
    "\n",
    "\n",
    "inst1 = Singleton(10)\n",
    "print(f\"{inst1.x}\")\n",
    "\n",
    "inst2 = Singleton(20)\n",
    "print(f\"{inst2.x}\")\n",
    "\n",
    "inst1 is inst2"
   ],
   "outputs": []
  },
  {
   "cell_type": "code",
   "execution_count": 17,
   "id": "24394bce",
   "metadata": {},
   "source": [
    "class Connector:\n",
    "    def __init__(self, db_name):\n",
    "        self.conn = db_name\n",
    "\n",
    "    def __del__(self):\n",
    "        print(\"DEL\")\n",
    "\n",
    "\n",
    "db = Connector(\"users\")\n",
    "db2 = db\n",
    "del db  # ???\n",
    "del db2"
   ],
   "outputs": []
  },
  {
   "cell_type": "code",
   "execution_count": null,
   "id": "0699ede2",
   "metadata": {},
   "source": [],
   "outputs": []
  },
  {
   "cell_type": "code",
   "execution_count": 20,
   "id": "bb62ca4f",
   "metadata": {},
   "source": [
    "class Attr:\n",
    "    def __set_name__(self, owner, name):\n",
    "        print(f\"{locals()}=\")\n",
    "        self.name = name\n",
    "\n",
    "        \n",
    "class AttrNoName:\n",
    "    def __init__(self, name):\n",
    "        self.name = name\n",
    "\n",
    "\n",
    "class A:\n",
    "    x = Attr()\n",
    "    no_name1 = AttrNoName(\"no_name1\")\n",
    "    no_name2 = AttrNoName(\"no_name2\")\n",
    "    no_name3 = AttrNoName(\"no_name3\")"
   ],
   "outputs": []
  },
  {
   "cell_type": "code",
   "execution_count": null,
   "id": "e4e616c0",
   "metadata": {},
   "source": [],
   "outputs": []
  },
  {
   "cell_type": "code",
   "execution_count": 25,
   "id": "bcd31e7d",
   "metadata": {},
   "source": [
    "class Adder:\n",
    "    def __init__(self, num):\n",
    "        self.num = num\n",
    "    \n",
    "    def __call__(self, val):\n",
    "        return self.num + val\n",
    "    \n",
    "adder = Adder(10)\n",
    "print(adder(5))\n",
    "print(adder(-10))\n",
    "print(adder(88))\n",
    "print(adder.__call__)"
   ],
   "outputs": []
  },
  {
   "cell_type": "code",
   "execution_count": 24,
   "id": "906522c0",
   "metadata": {},
   "source": [
    "def func():\n",
    "    pass\n",
    "\n",
    "func.__call__"
   ],
   "outputs": []
  },
  {
   "cell_type": "code",
   "execution_count": null,
   "id": "0735f256",
   "metadata": {},
   "source": [],
   "outputs": []
  },
  {
   "cell_type": "code",
   "execution_count": 31,
   "id": "1172c4ac",
   "metadata": {},
   "source": [
    "class Point:\n",
    "    __slots__ = (\"x\", \"y\")\n",
    "\n",
    "    def __init__(self, x, y):\n",
    "        self.x = x\n",
    "        self.y = y\n",
    "        \n",
    "\n",
    "p = Point(10, 20)\n",
    "print(f\"{p.x=}, {p.y=}\")\n",
    "\n",
    "p.x = 99\n",
    "p.y = 88\n",
    "print(f\"{p.x=}, {p.y=}\")"
   ],
   "outputs": []
  },
  {
   "cell_type": "code",
   "execution_count": 32,
   "id": "a631dbdc",
   "metadata": {},
   "source": [
    "p.z = 10"
   ],
   "outputs": []
  },
  {
   "cell_type": "code",
   "execution_count": 33,
   "id": "7597a8ec",
   "metadata": {},
   "source": [
    "Point.__dict__"
   ],
   "outputs": []
  },
  {
   "cell_type": "code",
   "execution_count": 35,
   "id": "ef011771",
   "metadata": {},
   "source": [
    "p.__dict__"
   ],
   "outputs": []
  },
  {
   "cell_type": "code",
   "execution_count": 36,
   "id": "9ffc240f",
   "metadata": {},
   "source": [
    "a = Adder(22)"
   ],
   "outputs": []
  },
  {
   "cell_type": "code",
   "execution_count": 38,
   "id": "4932bced",
   "metadata": {},
   "source": [
    "a.__dict__, id(a.__dict__)"
   ],
   "outputs": []
  },
  {
   "cell_type": "code",
   "execution_count": 39,
   "id": "dcd903d6",
   "metadata": {},
   "source": [
    "Adder.__dict__, id(Adder.__dict__)"
   ],
   "outputs": []
  },
  {
   "cell_type": "code",
   "execution_count": 42,
   "id": "9eead99c",
   "metadata": {},
   "source": [
    "class XXX:\n",
    "    name = \"xxx\"\n",
    "\n",
    "x = XXX()\n",
    "print(x.name, XXX.name, x.__dict__)\n",
    "\n",
    "x.name = \"yyy\"\n",
    "print(x.name, XXX.name, x.__dict__)"
   ],
   "outputs": []
  },
  {
   "cell_type": "code",
   "execution_count": null,
   "id": "311bc9e8",
   "metadata": {},
   "source": [],
   "outputs": []
  },
  {
   "cell_type": "code",
   "execution_count": 45,
   "id": "29cdb3fa",
   "metadata": {},
   "source": [
    "class Timing:\n",
    "    def __init__(self, start, end):\n",
    "        self.start = start\n",
    "        self.end = end\n",
    "\n",
    "    @classmethod\n",
    "    def __init_subclass__(cls, **kwargs):\n",
    "        print(\"INIT subclass\", cls, kwargs)\n",
    "        super().__init_subclass__(**kwargs)\n",
    "\n",
    "\n",
    "class MinuteTiming(Timing):\n",
    "    def duration(self):\n",
    "        print(\"MinuteTiming.duration\")\n",
    "        seconds = super().duration()\n",
    "        return seconds / 60\n",
    "    \n",
    "\n",
    "class SecondsTiming(Timing):\n",
    "    pass\n",
    "\n",
    "\n",
    "class SecondsTiming(MinuteTiming):\n",
    "    pass"
   ],
   "outputs": []
  },
  {
   "cell_type": "code",
   "execution_count": null,
   "id": "adebaa2f",
   "metadata": {},
   "source": [],
   "outputs": []
  },
  {
   "cell_type": "code",
   "execution_count": 90,
   "id": "6e053e69",
   "metadata": {},
   "source": [
    "class Attrs:\n",
    "    def __init__(self, num):\n",
    "        self.num = num\n",
    "        self.__priv = \"PRIV\"\n",
    "\n",
    "    def __getattribute__(self, name):\n",
    "        print(f\"getattribute {self=}, {name=}\")\n",
    "        return super().__getattribute__(name)\n",
    "    \n",
    "    def __getattr__(self, name):\n",
    "        print(f\"getattr {self=}, {name=}\")\n",
    "#         return 42\n",
    "        return super().__getattribute__(name)\n",
    "\n",
    "    def __setattr__(self, name, val):\n",
    "        print(f\"setattr {self=}, {name=}, {val=}\")\n",
    "        return super().__setattr__(name, val)\n",
    "    \n",
    "    def __delattr__(self, name):\n",
    "        print(f\"delattr {self=}, {name=}\")\n",
    "        return super().__delattr__(name)\n",
    "    \n",
    "\n",
    "a = Attrs(99)\n",
    "a.diff = \"qwerty\""
   ],
   "outputs": []
  },
  {
   "cell_type": "code",
   "execution_count": 78,
   "id": "9434ead0",
   "metadata": {},
   "source": [
    "a.__dict__"
   ],
   "outputs": []
  },
  {
   "cell_type": "code",
   "execution_count": null,
   "id": "c9af1a51",
   "metadata": {},
   "source": [],
   "outputs": []
  },
  {
   "cell_type": "code",
   "execution_count": 51,
   "id": "b4c89e01",
   "metadata": {},
   "source": [
    "a.diff"
   ],
   "outputs": []
  },
  {
   "cell_type": "code",
   "execution_count": 52,
   "id": "36c72ad3",
   "metadata": {},
   "source": [
    "a.num"
   ],
   "outputs": []
  },
  {
   "cell_type": "code",
   "execution_count": 87,
   "id": "0f1373b0",
   "metadata": {},
   "source": [
    "a.fake, a.fake2"
   ],
   "outputs": []
  },
  {
   "cell_type": "code",
   "execution_count": null,
   "id": "7ae2d36d",
   "metadata": {},
   "source": [],
   "outputs": []
  },
  {
   "cell_type": "code",
   "execution_count": 73,
   "id": "738202bb",
   "metadata": {},
   "source": [
    "a.__dict__"
   ],
   "outputs": []
  },
  {
   "cell_type": "code",
   "execution_count": 74,
   "id": "a1e7d91a",
   "metadata": {},
   "source": [
    "del a.num"
   ],
   "outputs": []
  },
  {
   "cell_type": "code",
   "execution_count": 75,
   "id": "3a9abb89",
   "metadata": {},
   "source": [
    "a.__dict__"
   ],
   "outputs": []
  },
  {
   "cell_type": "code",
   "execution_count": 76,
   "id": "8f786775",
   "metadata": {},
   "source": [
    "a.num"
   ],
   "outputs": []
  },
  {
   "cell_type": "code",
   "execution_count": 91,
   "id": "98c3ba15",
   "metadata": {},
   "source": [
    "hasattr(a, \"num\"), hasattr(a, \"fake\")"
   ],
   "outputs": []
  },
  {
   "cell_type": "code",
   "execution_count": 93,
   "id": "1ae9e658",
   "metadata": {},
   "source": [
    "getattr(a, \"num\"), getattr(a, \"fake\", 42)"
   ],
   "outputs": []
  },
  {
   "cell_type": "code",
   "execution_count": 94,
   "id": "68108377",
   "metadata": {},
   "source": [
    "setattr(a, \"num\", \"777\"), setattr(a, \"fake\", 84)\n",
    "print(a.num, a.fake)"
   ],
   "outputs": []
  },
  {
   "cell_type": "code",
   "execution_count": 95,
   "id": "a5639c41",
   "metadata": {},
   "source": [
    "delattr(a, \"num\"), delattr(a, \"fake1\")"
   ],
   "outputs": []
  },
  {
   "cell_type": "code",
   "execution_count": 96,
   "id": "c8bf128c",
   "metadata": {},
   "source": [
    "a.num"
   ],
   "outputs": []
  },
  {
   "cell_type": "code",
   "execution_count": null,
   "id": "21baee7c",
   "metadata": {},
   "source": [],
   "outputs": []
  },
  {
   "cell_type": "code",
   "execution_count": null,
   "id": "b045e33a",
   "metadata": {},
   "source": [],
   "outputs": []
  },
  {
   "cell_type": "code",
   "execution_count": null,
   "id": "fa68465c",
   "metadata": {},
   "source": [],
   "outputs": []
  },
  {
   "cell_type": "code",
   "execution_count": null,
   "id": "1167c533",
   "metadata": {},
   "source": [],
   "outputs": []
  },
  {
   "cell_type": "code",
   "execution_count": null,
   "id": "bc598680",
   "metadata": {},
   "source": [],
   "outputs": []
  },
  {
   "cell_type": "code",
   "execution_count": 106,
   "id": "b9d68b81",
   "metadata": {},
   "source": [
    "class MyDescriptor:\n",
    "    \n",
    "    def __init__(self):\n",
    "        self.val = 0\n",
    "\n",
    "    def __get__(self, obj, objtype):\n",
    "        print(f\"get {obj} cls={objtype}\")\n",
    "\n",
    "        return self.val\n",
    "\n",
    "    def __set__(self, obj, val):\n",
    "        print(f\"set {val} for {obj} {id(self)=}\")\n",
    "        self.val = val\n",
    "        \n",
    "    def __delete__(self, obj):\n",
    "        print(f\"delete from {obj}\")\n",
    "\n",
    "        \n",
    "class MyClass:\n",
    "    field = MyDescriptor()\n",
    "\n",
    "\n",
    "class MyClassInit:\n",
    "    field = MyDescriptor()\n",
    "    \n",
    "    def __init__(self, val):\n",
    "        self.field = val\n",
    "\n",
    "\n",
    "obj1 = MyClass()\n",
    "obj2 = MyClass()\n",
    "\n",
    "obj1.field = 1\n",
    "obj2.field = 2\n",
    "print(f\"\\n{obj1.field=}, {obj2.field=}\")\n",
    "\n",
    "obj3 = MyClassInit(3)\n",
    "obj4 = MyClassInit(4)\n",
    "print(f\"\\n{obj3.field=}, {obj4.field=}\")\n",
    "\n",
    "obj3.field = 33\n",
    "obj4.field = 44\n",
    "\n",
    "print(f\"\\n{obj3.field=}, {obj4.field=}\")"
   ],
   "outputs": []
  },
  {
   "cell_type": "code",
   "execution_count": 103,
   "id": "74832215",
   "metadata": {},
   "source": [
    "MyClass.__dict__"
   ],
   "outputs": []
  },
  {
   "cell_type": "code",
   "execution_count": 104,
   "id": "734ea945",
   "metadata": {},
   "source": [
    "obj1.__dict__"
   ],
   "outputs": []
  },
  {
   "cell_type": "code",
   "execution_count": 119,
   "id": "5b962a9f",
   "metadata": {},
   "source": [
    "class MyDescriptor:\n",
    "    \n",
    "    def __set_name__(self, owner, name):\n",
    "        self.name = name\n",
    "        self._protected_name = f\"_{name}\"\n",
    "\n",
    "    def __get__(self, obj, objtype):\n",
    "        print(f\"get {obj} cls={objtype}\")\n",
    "        \n",
    "        return getattr(obj, self._protected_name)\n",
    "\n",
    "    def __set__(self, obj, val):\n",
    "        print(f\"set {val} for {obj}\")\n",
    "\n",
    "        return setattr(obj, self._protected_name, val)\n",
    "        \n",
    "    def __delete__(self, obj):\n",
    "        print(f\"delete from {obj}\")\n",
    "        delattr(obj, self._protected_name)\n",
    "\n",
    "        \n",
    "class MyClass:\n",
    "    field = MyDescriptor()\n",
    "\n",
    "\n",
    "obj1 = MyClass()\n",
    "obj2 = MyClass()\n",
    "\n",
    "obj1.field = 1\n",
    "obj2.field = 2\n",
    "print(f\"\\n{obj1.field=}, {obj2.field=}\")\n",
    "\n",
    "# obj3 = MyClassInit(3)\n",
    "# obj4 = MyClassInit(4)\n",
    "# print(f\"\\n{obj3.field=}, {obj4.field=}\")\n",
    "\n",
    "# obj3.field = 33\n",
    "# obj4.field = 44\n",
    "\n",
    "# print(f\"\\n{obj3.field=}, {obj4.field=}\")"
   ],
   "outputs": []
  },
  {
   "cell_type": "code",
   "execution_count": 109,
   "id": "060af038",
   "metadata": {},
   "source": [
    "obj1.__dict__"
   ],
   "outputs": []
  },
  {
   "cell_type": "code",
   "execution_count": 110,
   "id": "f025b23f",
   "metadata": {},
   "source": [
    "obj1._field, "
   ],
   "outputs": []
  },
  {
   "cell_type": "code",
   "execution_count": 111,
   "id": "6bf943aa",
   "metadata": {},
   "source": [
    "obj1.field = \"123\""
   ],
   "outputs": []
  },
  {
   "cell_type": "code",
   "execution_count": 121,
   "id": "5f90a763",
   "metadata": {},
   "source": [
    "obj1.__dict__[\"field\"] = \"9999\""
   ],
   "outputs": []
  },
  {
   "cell_type": "code",
   "execution_count": 122,
   "id": "82efbc6a",
   "metadata": {},
   "source": [
    "obj1.field"
   ],
   "outputs": []
  },
  {
   "cell_type": "code",
   "execution_count": 115,
   "id": "e94cee41",
   "metadata": {},
   "source": [
    "obj1.__dict__"
   ],
   "outputs": []
  },
  {
   "cell_type": "code",
   "execution_count": 124,
   "id": "221c7cf6",
   "metadata": {},
   "source": [
    "obj1.field"
   ],
   "outputs": []
  },
  {
   "cell_type": "code",
   "execution_count": 123,
   "id": "c3b64160",
   "metadata": {},
   "source": [
    "del obj1.field"
   ],
   "outputs": []
  },
  {
   "cell_type": "code",
   "execution_count": null,
   "id": "35dab7dc",
   "metadata": {},
   "source": [],
   "outputs": []
  },
  {
   "cell_type": "code",
   "execution_count": null,
   "id": "ed3c6c6f",
   "metadata": {},
   "source": [],
   "outputs": []
  },
  {
   "cell_type": "code",
   "execution_count": null,
   "id": "38da1371",
   "metadata": {},
   "source": [],
   "outputs": []
  },
  {
   "cell_type": "code",
   "execution_count": 125,
   "id": "7cf4ed35",
   "metadata": {},
   "source": [
    "class Foo:\n",
    "    pass\n",
    "\n",
    "f = Foo()"
   ],
   "outputs": []
  },
  {
   "cell_type": "code",
   "execution_count": 127,
   "id": "d1c7ee9f",
   "metadata": {},
   "source": [
    "isinstance(f, Foo), isinstance(f, (int, float, str, Foo))"
   ],
   "outputs": []
  },
  {
   "cell_type": "code",
   "execution_count": 128,
   "id": "7e0e0685",
   "metadata": {},
   "source": [
    "isinstance(f, object)"
   ],
   "outputs": []
  },
  {
   "cell_type": "code",
   "execution_count": 132,
   "id": "1319a3da",
   "metadata": {},
   "source": [
    "(\n",
    "    issubclass(Foo, object),\n",
    "    issubclass(Foo, (int, float, str, object)),\n",
    "    issubclass(Foo, (int, float))\n",
    ")"
   ],
   "outputs": []
  },
  {
   "cell_type": "code",
   "execution_count": 137,
   "id": "d8e568f4",
   "metadata": {},
   "source": [
    "isinstance(object, type), isinstance(Foo, type), isinstance(type, object)"
   ],
   "outputs": []
  },
  {
   "cell_type": "code",
   "execution_count": 138,
   "id": "c7a87409",
   "metadata": {},
   "source": [
    "issubclass(object, type), issubclass(Foo, type), issubclass(type, object)"
   ],
   "outputs": []
  },
  {
   "cell_type": "code",
   "execution_count": null,
   "id": "7e563e35",
   "metadata": {},
   "source": [],
   "outputs": []
  },
  {
   "cell_type": "code",
   "execution_count": 140,
   "id": "748e4bad",
   "metadata": {},
   "source": [
    "type(1), type(f), type(object), type(type)"
   ],
   "outputs": []
  },
  {
   "cell_type": "code",
   "execution_count": null,
   "id": "8a7d6868",
   "metadata": {},
   "source": [],
   "outputs": []
  },
  {
   "cell_type": "code",
   "execution_count": null,
   "id": "5b352b19",
   "metadata": {},
   "source": [],
   "outputs": []
  },
  {
   "cell_type": "code",
   "execution_count": 143,
   "id": "46353b76",
   "metadata": {},
   "source": [
    "class Foo:\n",
    "    def __init__(self):\n",
    "        self.val = 10\n",
    "\n",
    "f = Foo()\n",
    "\n",
    "\n",
    "Foo2 = Foo\n",
    "print(Foo2.__name__, Foo.__name__)"
   ],
   "outputs": []
  },
  {
   "cell_type": "code",
   "execution_count": null,
   "id": "40bcfad1",
   "metadata": {},
   "source": [],
   "outputs": []
  },
  {
   "cell_type": "code",
   "execution_count": null,
   "id": "cae3497e",
   "metadata": {},
   "source": [],
   "outputs": []
  },
  {
   "cell_type": "code",
   "execution_count": 145,
   "id": "a9516cec",
   "metadata": {},
   "source": [
    "Bar = type(\"Bar\", (Foo,), dict(attr=100))\n",
    "\n",
    "Bar.attr"
   ],
   "outputs": []
  },
  {
   "cell_type": "code",
   "execution_count": 146,
   "id": "e9cc0d75",
   "metadata": {},
   "source": [
    "b = Bar()\n",
    "b.attr"
   ],
   "outputs": []
  },
  {
   "cell_type": "code",
   "execution_count": 148,
   "id": "e569b343",
   "metadata": {},
   "source": [
    "isinstance(b, object), isinstance(b, type), isinstance(Bar, type), issubclass(Bar, object)"
   ],
   "outputs": []
  },
  {
   "cell_type": "code",
   "execution_count": null,
   "id": "e457949f",
   "metadata": {},
   "source": [],
   "outputs": []
  },
  {
   "cell_type": "code",
   "execution_count": 164,
   "id": "aef88c9f",
   "metadata": {},
   "source": [
    "class AMeta(type):\n",
    "    def __new__(mcs, name, bases, classdict, **kwargs):\n",
    "        print('Meta __new__ mcs', mcs)\n",
    "        cls = super().__new__(mcs, name, bases, classdict)\n",
    "        print('Meta __new__ cls', cls)\n",
    "        return cls\n",
    "\n",
    "    def __init__(cls, name, bases, classdict, **kwargs):\n",
    "        print(\"meta.__init__\", cls)\n",
    "        super().__init__(name, bases, classdict, **kwargs)\n",
    "\n",
    "    def __call__(cls, *args, **kwargs):\n",
    "        print('Meta __call__', cls)\n",
    "        return super().__call__(*args, **kwargs)\n",
    "\n",
    "    @classmethod\n",
    "    def __prepare__(mcs, name, bases, **kwargs):\n",
    "        print('Meta __prepare__', **kwargs)\n",
    "        return {'b': 2, 'a': 5}"
   ],
   "outputs": []
  },
  {
   "cell_type": "code",
   "execution_count": 154,
   "id": "9cdbf152",
   "metadata": {},
   "source": [
    "Bar2 = AMeta(\"Bar2\", (Foo,), dict(attr=100))"
   ],
   "outputs": []
  },
  {
   "cell_type": "code",
   "execution_count": 165,
   "id": "6ca3e3ff",
   "metadata": {},
   "source": [
    "class Custom(metaclass=AMeta):\n",
    "    field = 42\n",
    "    \n",
    "    def __init__(self):\n",
    "        print(\"custom.__init__\")\n",
    "        self.val = 10\n",
    "\n",
    "print('-----')\n",
    "cust = Custom()\n",
    "print(cust.a, cust.b, cust.val)"
   ],
   "outputs": []
  },
  {
   "cell_type": "code",
   "execution_count": 158,
   "id": "cce02d1e",
   "metadata": {},
   "source": [
    "Custom.__dict__"
   ],
   "outputs": []
  },
  {
   "cell_type": "code",
   "execution_count": null,
   "id": "6339c1ab",
   "metadata": {},
   "source": [],
   "outputs": []
  },
  {
   "cell_type": "code",
   "execution_count": null,
   "id": "bac97361",
   "metadata": {},
   "source": [],
   "outputs": []
  },
  {
   "cell_type": "code",
   "execution_count": 170,
   "id": "3865c957",
   "metadata": {},
   "source": [
    "class Singleton:\n",
    "    _instance = None\n",
    "\n",
    "    def __new__(cls, *args, **kwargs):\n",
    "        print(args, kwargs)\n",
    "        if cls._instance is None:\n",
    "            cls._instance = super().__new__(cls)\n",
    "        return cls._instance\n",
    "    \n",
    "    def __init__(self, x):\n",
    "        self.x = x\n",
    "\n",
    "\n",
    "inst1 = Singleton(10)\n",
    "print(f\"{inst1.x}\")\n",
    "\n",
    "inst2 = Singleton(20)\n",
    "print(f\"{inst2.x}\")\n",
    "\n",
    "inst1 is inst2"
   ],
   "outputs": []
  },
  {
   "cell_type": "code",
   "execution_count": 169,
   "id": "3a4897d9",
   "metadata": {},
   "source": [
    "class SingletonMeta(type):\n",
    "    \n",
    "    def __call__(cls, *args, **kwargs):\n",
    "        print('Meta __call__', cls)\n",
    "        \n",
    "        if not hasattr(cls, \"_instance\"):\n",
    "            cls._instance = super().__call__(*args, **kwargs)\n",
    "\n",
    "        return cls._instance\n",
    "\n",
    "\n",
    "class Singleton(metaclass=SingletonMeta):\n",
    "\n",
    "    def __init__(self, x):\n",
    "        print(\"init_single\", x)\n",
    "        self.x = x\n",
    "        \n",
    "\n",
    "inst1 = Singleton(10)\n",
    "print(f\"{inst1.x}\")\n",
    "\n",
    "inst2 = Singleton(20)\n",
    "print(f\"{inst2.x}\")\n",
    "\n",
    "inst1 is inst2"
   ],
   "outputs": []
  },
  {
   "cell_type": "code",
   "execution_count": null,
   "id": "e194cfb0",
   "metadata": {},
   "source": [],
   "outputs": []
  },
  {
   "cell_type": "code",
   "execution_count": null,
   "id": "50a718d8",
   "metadata": {},
   "source": [
    "class Custom(metaclass=dwdw):\n",
    "    attr = 42\n",
    "    \n",
    "Custom.attr -> AttrError\n",
    "Custom.custom_attr == 42"
   ],
   "outputs": []
  },
  {
   "cell_type": "code",
   "execution_count": null,
   "id": "f97256e1",
   "metadata": {},
   "source": [],
   "outputs": []
  },
  {
   "cell_type": "code",
   "execution_count": null,
   "id": "62661639",
   "metadata": {},
   "source": [],
   "outputs": []
  },
  {
   "cell_type": "code",
   "execution_count": 171,
   "id": "5edea142",
   "metadata": {},
   "source": [
    "class Cust(list):\n",
    "    pass\n",
    "\n",
    "c = Cust()\n",
    "\n",
    "type(c) is list, isinstance(c, list)"
   ],
   "outputs": []
  },
  {
   "cell_type": "code",
   "execution_count": null,
   "id": "e93bc51c",
   "metadata": {},
   "source": [],
   "outputs": []
  }
 ],
 "metadata": {
  "kernelspec": {
   "display_name": "Python 3 (ipykernel)",
   "language": "python",
   "name": "python3"
  },
  "language_info": {
   "codemirror_mode": {
    "name": "ipython",
    "version": 3
   },
   "file_extension": ".py",
   "mimetype": "text/x-python",
   "name": "python",
   "nbconvert_exporter": "python",
   "pygments_lexer": "ipython3",
   "version": "3.10.2"
  }
 },
 "nbformat": 4,
 "nbformat_minor": 5
}
