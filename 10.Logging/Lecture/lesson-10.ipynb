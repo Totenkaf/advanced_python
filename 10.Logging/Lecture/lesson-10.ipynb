{
 "cells": [
  {
   "cell_type": "code",
   "execution_count": 1,
   "id": "1568b368",
   "metadata": {},
   "outputs": [],
   "source": [
    "import logging\n",
    "\n",
    "\n",
    "logging.basicConfig(\n",
    "    filename=\"example.log\",\n",
    "    level=logging.DEBUG,\n",
    "    format=\"%(asctime)s\\t%(name)s\\t%(levelname)s\\t%(message)s\",\n",
    ")\n",
    "\n",
    "logging.debug(\"This message should go to the log file\")\n",
    "logging.info(\"So should this\")\n",
    "logging.warning(\"And this, too\")\n",
    "\n",
    "\n",
    "logger = logging.getLogger()\n",
    "logger.info(\"logger!!!!!\")"
   ]
  },
  {
   "cell_type": "code",
   "execution_count": 5,
   "id": "4459f538",
   "metadata": {},
   "outputs": [
    {
     "name": "stdout",
     "output_type": "stream",
     "text": [
      "\u001b[01;31m\u001b[Kexample.log\u001b[m\u001b[K\r\n"
     ]
    }
   ],
   "source": [
    "!ls | grep example.log"
   ]
  },
  {
   "cell_type": "code",
   "execution_count": 2,
   "id": "2c3767e9",
   "metadata": {},
   "outputs": [
    {
     "name": "stdout",
     "output_type": "stream",
     "text": [
      "2022-11-18 18:49:26,231\tINFO\tSo should this\r\n",
      "2022-11-18 18:49:26,231\tWARNING\tAnd this, too\r\n",
      "2022-11-18 18:50:02,335\tINFO\tSo should this\r\n",
      "2022-11-18 18:50:02,336\tWARNING\tAnd this, too\r\n",
      "2022-11-18 18:50:17,724\\rootINFO\tSo should this\r\n",
      "2022-11-18 18:50:17,724\\rootWARNING\tAnd this, too\r\n",
      "2022-11-18 18:50:44,755\troot\tDEBUG\tThis message should go to the log file\r\n",
      "2022-11-18 18:50:44,756\troot\tINFO\tSo should this\r\n",
      "2022-11-18 18:50:44,756\troot\tWARNING\tAnd this, too\r\n",
      "2022-11-18 18:51:19,698\tparso.cache\tDEBUG\tpickle loaded: /Users/g.kandaurov/projects/deep_python_autumn_2022/.venv/lib/python3.10/site-packages/jedi/third_party/typeshed/stdlib/3/builtins.pyi\r\n",
      "2022-11-18 18:51:19,702\tparso.cache\tDEBUG\tpickle loaded: /Users/g.kandaurov/projects/deep_python_autumn_2022/.venv/lib/python3.10/site-packages/jedi/third_party/typeshed/stdlib/3/sys.pyi\r\n",
      "2022-11-18 18:51:48,882\troot\tDEBUG\tThis message should go to the log file\r\n",
      "2022-11-18 18:51:48,882\troot\tINFO\tSo should this\r\n",
      "2022-11-18 18:51:48,882\troot\tWARNING\tAnd this, too\r\n",
      "2022-11-18 18:51:48,882\troot\tINFO\tlogger!!!!!\r\n"
     ]
    }
   ],
   "source": [
    "!cat example.log"
   ]
  },
  {
   "cell_type": "code",
   "execution_count": null,
   "id": "87865551",
   "metadata": {},
   "outputs": [],
   "source": [
    "logging.FileHandler"
   ]
  },
  {
   "cell_type": "code",
   "execution_count": 4,
   "id": "f67e7e83",
   "metadata": {},
   "outputs": [],
   "source": [
    "!rm complex.log simple.log"
   ]
  },
  {
   "cell_type": "code",
   "execution_count": 1,
   "id": "999dd8c1",
   "metadata": {},
   "outputs": [],
   "source": [
    "import logging\n",
    "import logging.config\n",
    "\n",
    "\n",
    "log_conf = {\n",
    "    \"version\": 1,\n",
    "    \"formatters\": {\n",
    "        \"simple\": {\n",
    "            \"format\": \"%(name)s\\t%(levelname)s\\t%(message)s\",\n",
    "        },\n",
    "        \"complex\": {\n",
    "            \"format\": \"%(asctime)s\\t%(name)s\\t%(levelname)s\\t%(message)s\",\n",
    "        },\n",
    "    },\n",
    "    \"handlers\": {\n",
    "        \"simple_log\": {\n",
    "            \"level\": \"INFO\",\n",
    "            \"filename\": \"simple.log\",\n",
    "            \"class\": \"logging.FileHandler\",\n",
    "            \"formatter\": \"simple\",\n",
    "        },\n",
    "        \"complex_log\": {\n",
    "            \"level\": \"ERROR\",\n",
    "            \"filename\": \"complex.log\",\n",
    "            \"class\": \"logging.FileHandler\",\n",
    "            \"formatter\": \"complex\",\n",
    "        },\n",
    "    },\n",
    "    \"loggers\": {\n",
    "        \"\": {\n",
    "            \"level\": \"ERROR\",\n",
    "            \"handlers\": [\"simple_log\", \"complex_log\"],\n",
    "        },\n",
    "        \"complex\": {\n",
    "            \"level\": \"ERROR\",\n",
    "            \"handlers\": [\"complex_log\"],\n",
    "        },\n",
    "    },\n",
    "}\n",
    "\n",
    "logging.config.dictConfig(log_conf)\n",
    "\n",
    "\n",
    "root = logging.getLogger()\n",
    "compl = logging.getLogger(\"complex\")\n",
    "\n",
    "\n",
    "def test_log(logger):\n",
    "    logger.debug(\"1111\")\n",
    "    logger.info(\"2222\")\n",
    "    logger.error(\"3333\")\n",
    "\n",
    "\n",
    "test_log(root)\n",
    "test_log(compl)"
   ]
  },
  {
   "cell_type": "code",
   "execution_count": 2,
   "id": "a0a0a22e",
   "metadata": {},
   "outputs": [
    {
     "name": "stdout",
     "output_type": "stream",
     "text": [
      "2022-11-18 19:11:49,960\troot\tERROR\t3333\r\n",
      "2022-11-18 19:11:49,960\tcomplex\tERROR\t3333\r\n",
      "2022-11-18 19:11:49,960\tcomplex\tERROR\t3333\r\n",
      "2022-11-18 19:13:46,558\troot\tERROR\t3333\r\n",
      "2022-11-18 19:13:46,558\tcomplex\tERROR\t3333\r\n",
      "2022-11-18 19:13:46,558\tcomplex\tERROR\t3333\r\n"
     ]
    }
   ],
   "source": [
    "!cat complex.log"
   ]
  },
  {
   "cell_type": "code",
   "execution_count": 3,
   "id": "60cee27b",
   "metadata": {},
   "outputs": [
    {
     "name": "stdout",
     "output_type": "stream",
     "text": [
      "root\tINFO\t2222\r\n",
      "root\tERROR\t3333\r\n",
      "complex\tINFO\t2222\r\n",
      "complex\tERROR\t3333\r\n",
      "root\tERROR\t3333\r\n",
      "complex\tERROR\t3333\r\n"
     ]
    }
   ],
   "source": [
    "!cat simple.log"
   ]
  },
  {
   "cell_type": "code",
   "execution_count": 2,
   "id": "7be6bbdd",
   "metadata": {},
   "outputs": [
    {
     "name": "stdout",
     "output_type": "stream",
     "text": [
      "root\tERROR\t3333\r\n",
      "complex\tERROR\t3333\r\n"
     ]
    }
   ],
   "source": [
    "!cat simple.log"
   ]
  },
  {
   "cell_type": "code",
   "execution_count": null,
   "id": "f999652e",
   "metadata": {},
   "outputs": [],
   "source": []
  },
  {
   "cell_type": "code",
   "execution_count": null,
   "id": "a22cae78",
   "metadata": {},
   "outputs": [],
   "source": []
  },
  {
   "cell_type": "code",
   "execution_count": 1,
   "id": "77b6e0c2",
   "metadata": {},
   "outputs": [],
   "source": [
    "import logging\n",
    "\n",
    "\n",
    "class StubFilter(logging.Filter):\n",
    "    def filter(self, record):\n",
    "        #import pdb; pdb.set_trace()\n",
    "        return \"stub\" not in record.msg\n",
    "\n",
    "\n",
    "formatter = logging.Formatter(\"%(asctime)s\\t%(name)s\\t%(levelname)s\\t%(message)s\")\n",
    "\n",
    "file_handler = logging.FileHandler(\"f.log\")\n",
    "file_handler.setLevel(logging.DEBUG)\n",
    "file_handler.setFormatter(formatter)\n",
    "file_handler.addFilter(StubFilter())\n",
    "\n",
    "logger = logging.getLogger(\"log\")\n",
    "logger.setLevel(logging.DEBUG)\n",
    "logger.addHandler(file_handler)\n",
    "\n",
    "\n",
    "def test_log(logger):\n",
    "    logger.debug(\"1111\")\n",
    "    logger.info(\"2222\")\n",
    "    logger.error(\"stub 3333\")\n",
    "    logger.error(\"3333\")\n",
    "    \n",
    "\n",
    "test_log(logger)"
   ]
  },
  {
   "cell_type": "code",
   "execution_count": 2,
   "id": "2f8f1c29",
   "metadata": {},
   "outputs": [
    {
     "name": "stdout",
     "output_type": "stream",
     "text": [
      "2022-11-18 19:23:01,773\tlog\tDEBUG\t1111\r\n",
      "2022-11-18 19:23:01,773\tlog\tINFO\t2222\r\n",
      "2022-11-18 19:23:01,773\tlog\tERROR\t3333\r\n",
      "2022-11-18 19:23:48,715\tlog\tDEBUG\t1111\r\n",
      "2022-11-18 19:26:31,274\tlog\tDEBUG\t1111\r\n",
      "2022-11-18 19:26:31,275\tlog\tINFO\t2222\r\n",
      "2022-11-18 19:26:31,275\tlog\tERROR\tstub 3333\r\n",
      "2022-11-18 19:26:31,275\tlog\tERROR\t3333\r\n",
      "2022-11-18 19:26:45,416\tlog\tDEBUG\t1111\r\n",
      "2022-11-18 19:26:45,417\tlog\tINFO\t2222\r\n",
      "2022-11-18 19:26:45,417\tlog\tERROR\t3333\r\n"
     ]
    }
   ],
   "source": [
    "!cat f.log"
   ]
  },
  {
   "cell_type": "code",
   "execution_count": 3,
   "id": "127f811c",
   "metadata": {},
   "outputs": [],
   "source": [
    "!rm f.log"
   ]
  },
  {
   "cell_type": "code",
   "execution_count": null,
   "id": "37a8195a",
   "metadata": {},
   "outputs": [],
   "source": []
  },
  {
   "cell_type": "code",
   "execution_count": null,
   "id": "e8657666",
   "metadata": {},
   "outputs": [],
   "source": []
  },
  {
   "cell_type": "code",
   "execution_count": null,
   "id": "f1703a7f",
   "metadata": {},
   "outputs": [],
   "source": []
  },
  {
   "cell_type": "code",
   "execution_count": 2,
   "id": "ec946fa6",
   "metadata": {},
   "outputs": [
    {
     "name": "stdout",
     "output_type": "stream",
     "text": [
      "0.42\n",
      "> \u001b[0;32m/var/folders/c1/9wdb7dps2x332c6l1y2hrqkh0000gp/T/ipykernel_59931/637564362.py\u001b[0m(41)\u001b[0;36mtrace_fn\u001b[0;34m()\u001b[0m\n",
      "\u001b[0;32m     39 \u001b[0;31m\u001b[0;32mdef\u001b[0m \u001b[0mtrace_fn\u001b[0m\u001b[0;34m(\u001b[0m\u001b[0;34m)\u001b[0m\u001b[0;34m:\u001b[0m\u001b[0;34m\u001b[0m\u001b[0;34m\u001b[0m\u001b[0m\n",
      "\u001b[0m\u001b[0;32m     40 \u001b[0;31m    \u001b[0mpdb\u001b[0m\u001b[0;34m.\u001b[0m\u001b[0mset_trace\u001b[0m\u001b[0;34m(\u001b[0m\u001b[0;34m)\u001b[0m\u001b[0;34m\u001b[0m\u001b[0;34m\u001b[0m\u001b[0m\n",
      "\u001b[0m\u001b[0;32m---> 41 \u001b[0;31m    \u001b[0mx\u001b[0m \u001b[0;34m=\u001b[0m \u001b[0mhonda\u001b[0m\u001b[0;34m.\u001b[0m\u001b[0mget_power_in_newtons\u001b[0m\u001b[0;34m(\u001b[0m\u001b[0;34m)\u001b[0m\u001b[0;34m\u001b[0m\u001b[0;34m\u001b[0m\u001b[0m\n",
      "\u001b[0m\u001b[0;32m     42 \u001b[0;31m    \u001b[0mprint\u001b[0m\u001b[0;34m(\u001b[0m\u001b[0mx\u001b[0m\u001b[0;34m)\u001b[0m\u001b[0;34m\u001b[0m\u001b[0;34m\u001b[0m\u001b[0m\n",
      "\u001b[0m\u001b[0;32m     43 \u001b[0;31m\u001b[0;34m\u001b[0m\u001b[0m\n",
      "\u001b[0m\n",
      "ipdb> l\n",
      "\u001b[1;32m     36 \u001b[0m\u001b[0mCar\u001b[0m\u001b[0;34m.\u001b[0m\u001b[0mnewton_div\u001b[0m \u001b[0;34m=\u001b[0m \u001b[0;36m0\u001b[0m\u001b[0;34m\u001b[0m\u001b[0;34m\u001b[0m\u001b[0m\n",
      "\u001b[1;32m     37 \u001b[0m\u001b[0;34m\u001b[0m\u001b[0m\n",
      "\u001b[1;32m     38 \u001b[0m\u001b[0;34m\u001b[0m\u001b[0m\n",
      "\u001b[1;32m     39 \u001b[0m\u001b[0;32mdef\u001b[0m \u001b[0mtrace_fn\u001b[0m\u001b[0;34m(\u001b[0m\u001b[0;34m)\u001b[0m\u001b[0;34m:\u001b[0m\u001b[0;34m\u001b[0m\u001b[0;34m\u001b[0m\u001b[0m\n",
      "\u001b[1;32m     40 \u001b[0m    \u001b[0mpdb\u001b[0m\u001b[0;34m.\u001b[0m\u001b[0mset_trace\u001b[0m\u001b[0;34m(\u001b[0m\u001b[0;34m)\u001b[0m\u001b[0;34m\u001b[0m\u001b[0;34m\u001b[0m\u001b[0m\n",
      "\u001b[0;32m---> 41 \u001b[0;31m    \u001b[0mx\u001b[0m \u001b[0;34m=\u001b[0m \u001b[0mhonda\u001b[0m\u001b[0;34m.\u001b[0m\u001b[0mget_power_in_newtons\u001b[0m\u001b[0;34m(\u001b[0m\u001b[0;34m)\u001b[0m\u001b[0;34m\u001b[0m\u001b[0;34m\u001b[0m\u001b[0m\n",
      "\u001b[0m\u001b[1;32m     42 \u001b[0m    \u001b[0mprint\u001b[0m\u001b[0;34m(\u001b[0m\u001b[0mx\u001b[0m\u001b[0;34m)\u001b[0m\u001b[0;34m\u001b[0m\u001b[0;34m\u001b[0m\u001b[0m\n",
      "\u001b[1;32m     43 \u001b[0m\u001b[0;34m\u001b[0m\u001b[0m\n",
      "\u001b[1;32m     44 \u001b[0m\u001b[0;34m\u001b[0m\u001b[0m\n",
      "\u001b[1;32m     45 \u001b[0m\u001b[0mtrace_fn\u001b[0m\u001b[0;34m(\u001b[0m\u001b[0;34m)\u001b[0m\u001b[0;34m\u001b[0m\u001b[0;34m\u001b[0m\u001b[0m\n",
      "\n",
      "ipdb> s\n",
      "--Call--\n",
      "> \u001b[0;32m/var/folders/c1/9wdb7dps2x332c6l1y2hrqkh0000gp/T/ipykernel_59931/637564362.py\u001b[0m(25)\u001b[0;36mget_power_in_newtons\u001b[0;34m()\u001b[0m\n",
      "\u001b[0;32m     23 \u001b[0;31m        \u001b[0;32mreturn\u001b[0m \u001b[0mpower\u001b[0m\u001b[0;34m\u001b[0m\u001b[0;34m\u001b[0m\u001b[0m\n",
      "\u001b[0m\u001b[0;32m     24 \u001b[0;31m\u001b[0;34m\u001b[0m\u001b[0m\n",
      "\u001b[0m\u001b[0;32m---> 25 \u001b[0;31m    \u001b[0;32mdef\u001b[0m \u001b[0mget_power_in_newtons\u001b[0m\u001b[0;34m(\u001b[0m\u001b[0mself\u001b[0m\u001b[0;34m)\u001b[0m\u001b[0;34m:\u001b[0m\u001b[0;34m\u001b[0m\u001b[0;34m\u001b[0m\u001b[0m\n",
      "\u001b[0m\u001b[0;32m     26 \u001b[0;31m        \u001b[0mpower\u001b[0m \u001b[0;34m=\u001b[0m \u001b[0mself\u001b[0m\u001b[0;34m.\u001b[0m\u001b[0mget_power\u001b[0m\u001b[0;34m(\u001b[0m\u001b[0;34m)\u001b[0m\u001b[0;34m\u001b[0m\u001b[0;34m\u001b[0m\u001b[0m\n",
      "\u001b[0m\u001b[0;32m     27 \u001b[0;31m\u001b[0;34m\u001b[0m\u001b[0m\n",
      "\u001b[0m\n",
      "ipdb> s\n",
      "> \u001b[0;32m/var/folders/c1/9wdb7dps2x332c6l1y2hrqkh0000gp/T/ipykernel_59931/637564362.py\u001b[0m(26)\u001b[0;36mget_power_in_newtons\u001b[0;34m()\u001b[0m\n",
      "\u001b[0;32m     24 \u001b[0;31m\u001b[0;34m\u001b[0m\u001b[0m\n",
      "\u001b[0m\u001b[0;32m     25 \u001b[0;31m    \u001b[0;32mdef\u001b[0m \u001b[0mget_power_in_newtons\u001b[0m\u001b[0;34m(\u001b[0m\u001b[0mself\u001b[0m\u001b[0;34m)\u001b[0m\u001b[0;34m:\u001b[0m\u001b[0;34m\u001b[0m\u001b[0;34m\u001b[0m\u001b[0m\n",
      "\u001b[0m\u001b[0;32m---> 26 \u001b[0;31m        \u001b[0mpower\u001b[0m \u001b[0;34m=\u001b[0m \u001b[0mself\u001b[0m\u001b[0;34m.\u001b[0m\u001b[0mget_power\u001b[0m\u001b[0;34m(\u001b[0m\u001b[0;34m)\u001b[0m\u001b[0;34m\u001b[0m\u001b[0;34m\u001b[0m\u001b[0m\n",
      "\u001b[0m\u001b[0;32m     27 \u001b[0;31m\u001b[0;34m\u001b[0m\u001b[0m\n",
      "\u001b[0m\u001b[0;32m     28 \u001b[0;31m        \u001b[0mn_power\u001b[0m \u001b[0;34m=\u001b[0m \u001b[0mpower\u001b[0m \u001b[0;34m/\u001b[0m \u001b[0mCar\u001b[0m\u001b[0;34m.\u001b[0m\u001b[0mnewton_div\u001b[0m\u001b[0;34m\u001b[0m\u001b[0;34m\u001b[0m\u001b[0m\n",
      "\u001b[0m\n",
      "ipdb> h\n",
      "\n",
      "Documented commands (type help <topic>):\n",
      "========================================\n",
      "EOF    commands   enable    ll        pp       s                until \n",
      "a      condition  exit      longlist  psource  skip_hidden      up    \n",
      "alias  cont       h         n         q        skip_predicates  w     \n",
      "args   context    help      next      quit     source           whatis\n",
      "b      continue   ignore    p         r        step             where \n",
      "break  d          interact  pdef      restart  tbreak         \n",
      "bt     debug      j         pdoc      return   u              \n",
      "c      disable    jump      pfile     retval   unalias        \n",
      "cl     display    l         pinfo     run      undisplay      \n",
      "clear  down       list      pinfo2    rv       unt            \n",
      "\n",
      "Miscellaneous help topics:\n",
      "==========================\n",
      "exec  pdb\n",
      "\n",
      "ipdb> l\n",
      "\u001b[1;32m     21 \u001b[0m        \u001b[0mpower\u001b[0m \u001b[0;34m=\u001b[0m \u001b[0mself\u001b[0m\u001b[0;34m.\u001b[0m\u001b[0mengine\u001b[0m\u001b[0;34m.\u001b[0m\u001b[0mpower\u001b[0m\u001b[0;34m\u001b[0m\u001b[0;34m\u001b[0m\u001b[0m\n",
      "\u001b[1;32m     22 \u001b[0m\u001b[0;34m\u001b[0m\u001b[0m\n",
      "\u001b[1;32m     23 \u001b[0m        \u001b[0;32mreturn\u001b[0m \u001b[0mpower\u001b[0m\u001b[0;34m\u001b[0m\u001b[0;34m\u001b[0m\u001b[0m\n",
      "\u001b[1;32m     24 \u001b[0m\u001b[0;34m\u001b[0m\u001b[0m\n",
      "\u001b[1;32m     25 \u001b[0m    \u001b[0;32mdef\u001b[0m \u001b[0mget_power_in_newtons\u001b[0m\u001b[0;34m(\u001b[0m\u001b[0mself\u001b[0m\u001b[0;34m)\u001b[0m\u001b[0;34m:\u001b[0m\u001b[0;34m\u001b[0m\u001b[0;34m\u001b[0m\u001b[0m\n",
      "\u001b[0;32m---> 26 \u001b[0;31m        \u001b[0mpower\u001b[0m \u001b[0;34m=\u001b[0m \u001b[0mself\u001b[0m\u001b[0;34m.\u001b[0m\u001b[0mget_power\u001b[0m\u001b[0;34m(\u001b[0m\u001b[0;34m)\u001b[0m\u001b[0;34m\u001b[0m\u001b[0;34m\u001b[0m\u001b[0m\n",
      "\u001b[0m\u001b[1;32m     27 \u001b[0m\u001b[0;34m\u001b[0m\u001b[0m\n",
      "\u001b[1;32m     28 \u001b[0m        \u001b[0mn_power\u001b[0m \u001b[0;34m=\u001b[0m \u001b[0mpower\u001b[0m \u001b[0;34m/\u001b[0m \u001b[0mCar\u001b[0m\u001b[0;34m.\u001b[0m\u001b[0mnewton_div\u001b[0m\u001b[0;34m\u001b[0m\u001b[0;34m\u001b[0m\u001b[0m\n",
      "\u001b[1;32m     29 \u001b[0m\u001b[0;34m\u001b[0m\u001b[0m\n",
      "\u001b[1;32m     30 \u001b[0m        \u001b[0;32mreturn\u001b[0m \u001b[0mn_power\u001b[0m\u001b[0;34m\u001b[0m\u001b[0;34m\u001b[0m\u001b[0m\n",
      "\u001b[1;32m     31 \u001b[0m\u001b[0;34m\u001b[0m\u001b[0m\n",
      "\n",
      "ipdb> ll\n",
      "\u001b[1;32m     25 \u001b[0m    \u001b[0;32mdef\u001b[0m \u001b[0mget_power_in_newtons\u001b[0m\u001b[0;34m(\u001b[0m\u001b[0mself\u001b[0m\u001b[0;34m)\u001b[0m\u001b[0;34m:\u001b[0m\u001b[0;34m\u001b[0m\u001b[0;34m\u001b[0m\u001b[0m\n",
      "\u001b[0;32m---> 26 \u001b[0;31m        \u001b[0mpower\u001b[0m \u001b[0;34m=\u001b[0m \u001b[0mself\u001b[0m\u001b[0;34m.\u001b[0m\u001b[0mget_power\u001b[0m\u001b[0;34m(\u001b[0m\u001b[0;34m)\u001b[0m\u001b[0;34m\u001b[0m\u001b[0;34m\u001b[0m\u001b[0m\n",
      "\u001b[0m\u001b[1;32m     27 \u001b[0m\u001b[0;34m\u001b[0m\u001b[0m\n",
      "\u001b[1;32m     28 \u001b[0m        \u001b[0mn_power\u001b[0m \u001b[0;34m=\u001b[0m \u001b[0mpower\u001b[0m \u001b[0;34m/\u001b[0m \u001b[0mCar\u001b[0m\u001b[0;34m.\u001b[0m\u001b[0mnewton_div\u001b[0m\u001b[0;34m\u001b[0m\u001b[0;34m\u001b[0m\u001b[0m\n",
      "\u001b[1;32m     29 \u001b[0m\u001b[0;34m\u001b[0m\u001b[0m\n",
      "\u001b[1;32m     30 \u001b[0m        \u001b[0;32mreturn\u001b[0m \u001b[0mn_power\u001b[0m\u001b[0;34m\u001b[0m\u001b[0;34m\u001b[0m\u001b[0m\n",
      "\u001b[1;32m     31 \u001b[0m\u001b[0;34m\u001b[0m\u001b[0m\n",
      "\n",
      "ipdb> up\n",
      "> \u001b[0;32m/var/folders/c1/9wdb7dps2x332c6l1y2hrqkh0000gp/T/ipykernel_59931/637564362.py\u001b[0m(41)\u001b[0;36mtrace_fn\u001b[0;34m()\u001b[0m\n",
      "\u001b[0;32m     39 \u001b[0;31m\u001b[0;32mdef\u001b[0m \u001b[0mtrace_fn\u001b[0m\u001b[0;34m(\u001b[0m\u001b[0;34m)\u001b[0m\u001b[0;34m:\u001b[0m\u001b[0;34m\u001b[0m\u001b[0;34m\u001b[0m\u001b[0m\n",
      "\u001b[0m\u001b[0;32m     40 \u001b[0;31m    \u001b[0mpdb\u001b[0m\u001b[0;34m.\u001b[0m\u001b[0mset_trace\u001b[0m\u001b[0;34m(\u001b[0m\u001b[0;34m)\u001b[0m\u001b[0;34m\u001b[0m\u001b[0;34m\u001b[0m\u001b[0m\n",
      "\u001b[0m\u001b[0;32m---> 41 \u001b[0;31m    \u001b[0mx\u001b[0m \u001b[0;34m=\u001b[0m \u001b[0mhonda\u001b[0m\u001b[0;34m.\u001b[0m\u001b[0mget_power_in_newtons\u001b[0m\u001b[0;34m(\u001b[0m\u001b[0;34m)\u001b[0m\u001b[0;34m\u001b[0m\u001b[0;34m\u001b[0m\u001b[0m\n",
      "\u001b[0m\u001b[0;32m     42 \u001b[0;31m    \u001b[0mprint\u001b[0m\u001b[0;34m(\u001b[0m\u001b[0mx\u001b[0m\u001b[0;34m)\u001b[0m\u001b[0;34m\u001b[0m\u001b[0;34m\u001b[0m\u001b[0m\n",
      "\u001b[0m\u001b[0;32m     43 \u001b[0;31m\u001b[0;34m\u001b[0m\u001b[0m\n",
      "\u001b[0m\n",
      "ipdb> down\n",
      "> \u001b[0;32m/var/folders/c1/9wdb7dps2x332c6l1y2hrqkh0000gp/T/ipykernel_59931/637564362.py\u001b[0m(26)\u001b[0;36mget_power_in_newtons\u001b[0;34m()\u001b[0m\n",
      "\u001b[0;32m     24 \u001b[0;31m\u001b[0;34m\u001b[0m\u001b[0m\n",
      "\u001b[0m\u001b[0;32m     25 \u001b[0;31m    \u001b[0;32mdef\u001b[0m \u001b[0mget_power_in_newtons\u001b[0m\u001b[0;34m(\u001b[0m\u001b[0mself\u001b[0m\u001b[0;34m)\u001b[0m\u001b[0;34m:\u001b[0m\u001b[0;34m\u001b[0m\u001b[0;34m\u001b[0m\u001b[0m\n",
      "\u001b[0m\u001b[0;32m---> 26 \u001b[0;31m        \u001b[0mpower\u001b[0m \u001b[0;34m=\u001b[0m \u001b[0mself\u001b[0m\u001b[0;34m.\u001b[0m\u001b[0mget_power\u001b[0m\u001b[0;34m(\u001b[0m\u001b[0;34m)\u001b[0m\u001b[0;34m\u001b[0m\u001b[0;34m\u001b[0m\u001b[0m\n",
      "\u001b[0m\u001b[0;32m     27 \u001b[0;31m\u001b[0;34m\u001b[0m\u001b[0m\n",
      "\u001b[0m\u001b[0;32m     28 \u001b[0;31m        \u001b[0mn_power\u001b[0m \u001b[0;34m=\u001b[0m \u001b[0mpower\u001b[0m \u001b[0;34m/\u001b[0m \u001b[0mCar\u001b[0m\u001b[0;34m.\u001b[0m\u001b[0mnewton_div\u001b[0m\u001b[0;34m\u001b[0m\u001b[0;34m\u001b[0m\u001b[0m\n",
      "\u001b[0m\n",
      "ipdb> down\n",
      "*** Newest frame\n",
      "ipdb> s\n",
      "--Call--\n",
      "> \u001b[0;32m/var/folders/c1/9wdb7dps2x332c6l1y2hrqkh0000gp/T/ipykernel_59931/637564362.py\u001b[0m(20)\u001b[0;36mget_power\u001b[0;34m()\u001b[0m\n",
      "\u001b[0;32m     18 \u001b[0;31m        \u001b[0mself\u001b[0m\u001b[0;34m.\u001b[0m\u001b[0mengine\u001b[0m \u001b[0;34m=\u001b[0m \u001b[0mEngine\u001b[0m\u001b[0;34m(\u001b[0m\u001b[0mpower\u001b[0m\u001b[0;34m,\u001b[0m \u001b[0mself\u001b[0m\u001b[0;34m)\u001b[0m\u001b[0;34m\u001b[0m\u001b[0;34m\u001b[0m\u001b[0m\n",
      "\u001b[0m\u001b[0;32m     19 \u001b[0;31m\u001b[0;34m\u001b[0m\u001b[0m\n",
      "\u001b[0m\u001b[0;32m---> 20 \u001b[0;31m    \u001b[0;32mdef\u001b[0m \u001b[0mget_power\u001b[0m\u001b[0;34m(\u001b[0m\u001b[0mself\u001b[0m\u001b[0;34m)\u001b[0m\u001b[0;34m:\u001b[0m\u001b[0;34m\u001b[0m\u001b[0;34m\u001b[0m\u001b[0m\n",
      "\u001b[0m\u001b[0;32m     21 \u001b[0;31m        \u001b[0mpower\u001b[0m \u001b[0;34m=\u001b[0m \u001b[0mself\u001b[0m\u001b[0;34m.\u001b[0m\u001b[0mengine\u001b[0m\u001b[0;34m.\u001b[0m\u001b[0mpower\u001b[0m\u001b[0;34m\u001b[0m\u001b[0;34m\u001b[0m\u001b[0m\n",
      "\u001b[0m\u001b[0;32m     22 \u001b[0;31m\u001b[0;34m\u001b[0m\u001b[0m\n",
      "\u001b[0m\n",
      "ipdb> l\n",
      "\u001b[1;32m     15 \u001b[0m    \u001b[0mnewton_div\u001b[0m \u001b[0;34m=\u001b[0m \u001b[0;36m100\u001b[0m\u001b[0;34m\u001b[0m\u001b[0;34m\u001b[0m\u001b[0m\n",
      "\u001b[1;32m     16 \u001b[0m\u001b[0;34m\u001b[0m\u001b[0m\n",
      "\u001b[1;32m     17 \u001b[0m    \u001b[0;32mdef\u001b[0m \u001b[0m__init__\u001b[0m\u001b[0;34m(\u001b[0m\u001b[0mself\u001b[0m\u001b[0;34m,\u001b[0m \u001b[0mpower\u001b[0m\u001b[0;34m)\u001b[0m\u001b[0;34m:\u001b[0m\u001b[0;34m\u001b[0m\u001b[0;34m\u001b[0m\u001b[0m\n",
      "\u001b[1;32m     18 \u001b[0m        \u001b[0mself\u001b[0m\u001b[0;34m.\u001b[0m\u001b[0mengine\u001b[0m \u001b[0;34m=\u001b[0m \u001b[0mEngine\u001b[0m\u001b[0;34m(\u001b[0m\u001b[0mpower\u001b[0m\u001b[0;34m,\u001b[0m \u001b[0mself\u001b[0m\u001b[0;34m)\u001b[0m\u001b[0;34m\u001b[0m\u001b[0;34m\u001b[0m\u001b[0m\n",
      "\u001b[1;32m     19 \u001b[0m\u001b[0;34m\u001b[0m\u001b[0m\n",
      "\u001b[0;32m---> 20 \u001b[0;31m    \u001b[0;32mdef\u001b[0m \u001b[0mget_power\u001b[0m\u001b[0;34m(\u001b[0m\u001b[0mself\u001b[0m\u001b[0;34m)\u001b[0m\u001b[0;34m:\u001b[0m\u001b[0;34m\u001b[0m\u001b[0;34m\u001b[0m\u001b[0m\n",
      "\u001b[0m\u001b[1;32m     21 \u001b[0m        \u001b[0mpower\u001b[0m \u001b[0;34m=\u001b[0m \u001b[0mself\u001b[0m\u001b[0;34m.\u001b[0m\u001b[0mengine\u001b[0m\u001b[0;34m.\u001b[0m\u001b[0mpower\u001b[0m\u001b[0;34m\u001b[0m\u001b[0;34m\u001b[0m\u001b[0m\n",
      "\u001b[1;32m     22 \u001b[0m\u001b[0;34m\u001b[0m\u001b[0m\n",
      "\u001b[1;32m     23 \u001b[0m        \u001b[0;32mreturn\u001b[0m \u001b[0mpower\u001b[0m\u001b[0;34m\u001b[0m\u001b[0;34m\u001b[0m\u001b[0m\n",
      "\u001b[1;32m     24 \u001b[0m\u001b[0;34m\u001b[0m\u001b[0m\n",
      "\u001b[1;32m     25 \u001b[0m    \u001b[0;32mdef\u001b[0m \u001b[0mget_power_in_newtons\u001b[0m\u001b[0;34m(\u001b[0m\u001b[0mself\u001b[0m\u001b[0;34m)\u001b[0m\u001b[0;34m:\u001b[0m\u001b[0;34m\u001b[0m\u001b[0;34m\u001b[0m\u001b[0m\n",
      "\n"
     ]
    },
    {
     "name": "stdout",
     "output_type": "stream",
     "text": [
      "ipdb> up\n",
      "> \u001b[0;32m/var/folders/c1/9wdb7dps2x332c6l1y2hrqkh0000gp/T/ipykernel_59931/637564362.py\u001b[0m(26)\u001b[0;36mget_power_in_newtons\u001b[0;34m()\u001b[0m\n",
      "\u001b[0;32m     24 \u001b[0;31m\u001b[0;34m\u001b[0m\u001b[0m\n",
      "\u001b[0m\u001b[0;32m     25 \u001b[0;31m    \u001b[0;32mdef\u001b[0m \u001b[0mget_power_in_newtons\u001b[0m\u001b[0;34m(\u001b[0m\u001b[0mself\u001b[0m\u001b[0;34m)\u001b[0m\u001b[0;34m:\u001b[0m\u001b[0;34m\u001b[0m\u001b[0;34m\u001b[0m\u001b[0m\n",
      "\u001b[0m\u001b[0;32m---> 26 \u001b[0;31m        \u001b[0mpower\u001b[0m \u001b[0;34m=\u001b[0m \u001b[0mself\u001b[0m\u001b[0;34m.\u001b[0m\u001b[0mget_power\u001b[0m\u001b[0;34m(\u001b[0m\u001b[0;34m)\u001b[0m\u001b[0;34m\u001b[0m\u001b[0;34m\u001b[0m\u001b[0m\n",
      "\u001b[0m\u001b[0;32m     27 \u001b[0;31m\u001b[0;34m\u001b[0m\u001b[0m\n",
      "\u001b[0m\u001b[0;32m     28 \u001b[0;31m        \u001b[0mn_power\u001b[0m \u001b[0;34m=\u001b[0m \u001b[0mpower\u001b[0m \u001b[0;34m/\u001b[0m \u001b[0mCar\u001b[0m\u001b[0;34m.\u001b[0m\u001b[0mnewton_div\u001b[0m\u001b[0;34m\u001b[0m\u001b[0;34m\u001b[0m\u001b[0m\n",
      "\u001b[0m\n",
      "ipdb> up\n",
      "> \u001b[0;32m/var/folders/c1/9wdb7dps2x332c6l1y2hrqkh0000gp/T/ipykernel_59931/637564362.py\u001b[0m(41)\u001b[0;36mtrace_fn\u001b[0;34m()\u001b[0m\n",
      "\u001b[0;32m     39 \u001b[0;31m\u001b[0;32mdef\u001b[0m \u001b[0mtrace_fn\u001b[0m\u001b[0;34m(\u001b[0m\u001b[0;34m)\u001b[0m\u001b[0;34m:\u001b[0m\u001b[0;34m\u001b[0m\u001b[0;34m\u001b[0m\u001b[0m\n",
      "\u001b[0m\u001b[0;32m     40 \u001b[0;31m    \u001b[0mpdb\u001b[0m\u001b[0;34m.\u001b[0m\u001b[0mset_trace\u001b[0m\u001b[0;34m(\u001b[0m\u001b[0;34m)\u001b[0m\u001b[0;34m\u001b[0m\u001b[0;34m\u001b[0m\u001b[0m\n",
      "\u001b[0m\u001b[0;32m---> 41 \u001b[0;31m    \u001b[0mx\u001b[0m \u001b[0;34m=\u001b[0m \u001b[0mhonda\u001b[0m\u001b[0;34m.\u001b[0m\u001b[0mget_power_in_newtons\u001b[0m\u001b[0;34m(\u001b[0m\u001b[0;34m)\u001b[0m\u001b[0;34m\u001b[0m\u001b[0;34m\u001b[0m\u001b[0m\n",
      "\u001b[0m\u001b[0;32m     42 \u001b[0;31m    \u001b[0mprint\u001b[0m\u001b[0;34m(\u001b[0m\u001b[0mx\u001b[0m\u001b[0;34m)\u001b[0m\u001b[0;34m\u001b[0m\u001b[0;34m\u001b[0m\u001b[0m\n",
      "\u001b[0m\u001b[0;32m     43 \u001b[0;31m\u001b[0;34m\u001b[0m\u001b[0m\n",
      "\u001b[0m\n",
      "ipdb> down\n",
      "> \u001b[0;32m/var/folders/c1/9wdb7dps2x332c6l1y2hrqkh0000gp/T/ipykernel_59931/637564362.py\u001b[0m(26)\u001b[0;36mget_power_in_newtons\u001b[0;34m()\u001b[0m\n",
      "\u001b[0;32m     24 \u001b[0;31m\u001b[0;34m\u001b[0m\u001b[0m\n",
      "\u001b[0m\u001b[0;32m     25 \u001b[0;31m    \u001b[0;32mdef\u001b[0m \u001b[0mget_power_in_newtons\u001b[0m\u001b[0;34m(\u001b[0m\u001b[0mself\u001b[0m\u001b[0;34m)\u001b[0m\u001b[0;34m:\u001b[0m\u001b[0;34m\u001b[0m\u001b[0;34m\u001b[0m\u001b[0m\n",
      "\u001b[0m\u001b[0;32m---> 26 \u001b[0;31m        \u001b[0mpower\u001b[0m \u001b[0;34m=\u001b[0m \u001b[0mself\u001b[0m\u001b[0;34m.\u001b[0m\u001b[0mget_power\u001b[0m\u001b[0;34m(\u001b[0m\u001b[0;34m)\u001b[0m\u001b[0;34m\u001b[0m\u001b[0;34m\u001b[0m\u001b[0m\n",
      "\u001b[0m\u001b[0;32m     27 \u001b[0;31m\u001b[0;34m\u001b[0m\u001b[0m\n",
      "\u001b[0m\u001b[0;32m     28 \u001b[0;31m        \u001b[0mn_power\u001b[0m \u001b[0;34m=\u001b[0m \u001b[0mpower\u001b[0m \u001b[0;34m/\u001b[0m \u001b[0mCar\u001b[0m\u001b[0;34m.\u001b[0m\u001b[0mnewton_div\u001b[0m\u001b[0;34m\u001b[0m\u001b[0;34m\u001b[0m\u001b[0m\n",
      "\u001b[0m\n",
      "ipdb> down\n",
      "> \u001b[0;32m/var/folders/c1/9wdb7dps2x332c6l1y2hrqkh0000gp/T/ipykernel_59931/637564362.py\u001b[0m(20)\u001b[0;36mget_power\u001b[0;34m()\u001b[0m\n",
      "\u001b[0;32m     18 \u001b[0;31m        \u001b[0mself\u001b[0m\u001b[0;34m.\u001b[0m\u001b[0mengine\u001b[0m \u001b[0;34m=\u001b[0m \u001b[0mEngine\u001b[0m\u001b[0;34m(\u001b[0m\u001b[0mpower\u001b[0m\u001b[0;34m,\u001b[0m \u001b[0mself\u001b[0m\u001b[0;34m)\u001b[0m\u001b[0;34m\u001b[0m\u001b[0;34m\u001b[0m\u001b[0m\n",
      "\u001b[0m\u001b[0;32m     19 \u001b[0;31m\u001b[0;34m\u001b[0m\u001b[0m\n",
      "\u001b[0m\u001b[0;32m---> 20 \u001b[0;31m    \u001b[0;32mdef\u001b[0m \u001b[0mget_power\u001b[0m\u001b[0;34m(\u001b[0m\u001b[0mself\u001b[0m\u001b[0;34m)\u001b[0m\u001b[0;34m:\u001b[0m\u001b[0;34m\u001b[0m\u001b[0;34m\u001b[0m\u001b[0m\n",
      "\u001b[0m\u001b[0;32m     21 \u001b[0;31m        \u001b[0mpower\u001b[0m \u001b[0;34m=\u001b[0m \u001b[0mself\u001b[0m\u001b[0;34m.\u001b[0m\u001b[0mengine\u001b[0m\u001b[0;34m.\u001b[0m\u001b[0mpower\u001b[0m\u001b[0;34m\u001b[0m\u001b[0;34m\u001b[0m\u001b[0m\n",
      "\u001b[0m\u001b[0;32m     22 \u001b[0;31m\u001b[0;34m\u001b[0m\u001b[0m\n",
      "\u001b[0m\n",
      "ipdb> down\n",
      "*** Newest frame\n",
      "ipdb> self\n",
      "<__main__.Car object at 0x10b7ec1f0>\n",
      "ipdb> print(self)\n",
      "<__main__.Car object at 0x10b7ec1f0>\n",
      "ipdb> locals()\n",
      "{'self': <__main__.Car object at 0x10b7ec1f0>}\n",
      "ipdb> n\n",
      "> \u001b[0;32m/var/folders/c1/9wdb7dps2x332c6l1y2hrqkh0000gp/T/ipykernel_59931/637564362.py\u001b[0m(21)\u001b[0;36mget_power\u001b[0;34m()\u001b[0m\n",
      "\u001b[0;32m     19 \u001b[0;31m\u001b[0;34m\u001b[0m\u001b[0m\n",
      "\u001b[0m\u001b[0;32m     20 \u001b[0;31m    \u001b[0;32mdef\u001b[0m \u001b[0mget_power\u001b[0m\u001b[0;34m(\u001b[0m\u001b[0mself\u001b[0m\u001b[0;34m)\u001b[0m\u001b[0;34m:\u001b[0m\u001b[0;34m\u001b[0m\u001b[0;34m\u001b[0m\u001b[0m\n",
      "\u001b[0m\u001b[0;32m---> 21 \u001b[0;31m        \u001b[0mpower\u001b[0m \u001b[0;34m=\u001b[0m \u001b[0mself\u001b[0m\u001b[0;34m.\u001b[0m\u001b[0mengine\u001b[0m\u001b[0;34m.\u001b[0m\u001b[0mpower\u001b[0m\u001b[0;34m\u001b[0m\u001b[0;34m\u001b[0m\u001b[0m\n",
      "\u001b[0m\u001b[0;32m     22 \u001b[0;31m\u001b[0;34m\u001b[0m\u001b[0m\n",
      "\u001b[0m\u001b[0;32m     23 \u001b[0;31m        \u001b[0;32mreturn\u001b[0m \u001b[0mpower\u001b[0m\u001b[0;34m\u001b[0m\u001b[0;34m\u001b[0m\u001b[0m\n",
      "\u001b[0m\n",
      "ipdb> l\n",
      "\u001b[1;32m     16 \u001b[0m\u001b[0;34m\u001b[0m\u001b[0m\n",
      "\u001b[1;32m     17 \u001b[0m    \u001b[0;32mdef\u001b[0m \u001b[0m__init__\u001b[0m\u001b[0;34m(\u001b[0m\u001b[0mself\u001b[0m\u001b[0;34m,\u001b[0m \u001b[0mpower\u001b[0m\u001b[0;34m)\u001b[0m\u001b[0;34m:\u001b[0m\u001b[0;34m\u001b[0m\u001b[0;34m\u001b[0m\u001b[0m\n",
      "\u001b[1;32m     18 \u001b[0m        \u001b[0mself\u001b[0m\u001b[0;34m.\u001b[0m\u001b[0mengine\u001b[0m \u001b[0;34m=\u001b[0m \u001b[0mEngine\u001b[0m\u001b[0;34m(\u001b[0m\u001b[0mpower\u001b[0m\u001b[0;34m,\u001b[0m \u001b[0mself\u001b[0m\u001b[0;34m)\u001b[0m\u001b[0;34m\u001b[0m\u001b[0;34m\u001b[0m\u001b[0m\n",
      "\u001b[1;32m     19 \u001b[0m\u001b[0;34m\u001b[0m\u001b[0m\n",
      "\u001b[1;32m     20 \u001b[0m    \u001b[0;32mdef\u001b[0m \u001b[0mget_power\u001b[0m\u001b[0;34m(\u001b[0m\u001b[0mself\u001b[0m\u001b[0;34m)\u001b[0m\u001b[0;34m:\u001b[0m\u001b[0;34m\u001b[0m\u001b[0;34m\u001b[0m\u001b[0m\n",
      "\u001b[0;32m---> 21 \u001b[0;31m        \u001b[0mpower\u001b[0m \u001b[0;34m=\u001b[0m \u001b[0mself\u001b[0m\u001b[0;34m.\u001b[0m\u001b[0mengine\u001b[0m\u001b[0;34m.\u001b[0m\u001b[0mpower\u001b[0m\u001b[0;34m\u001b[0m\u001b[0;34m\u001b[0m\u001b[0m\n",
      "\u001b[0m\u001b[1;32m     22 \u001b[0m\u001b[0;34m\u001b[0m\u001b[0m\n",
      "\u001b[1;32m     23 \u001b[0m        \u001b[0;32mreturn\u001b[0m \u001b[0mpower\u001b[0m\u001b[0;34m\u001b[0m\u001b[0;34m\u001b[0m\u001b[0m\n",
      "\u001b[1;32m     24 \u001b[0m\u001b[0;34m\u001b[0m\u001b[0m\n",
      "\u001b[1;32m     25 \u001b[0m    \u001b[0;32mdef\u001b[0m \u001b[0mget_power_in_newtons\u001b[0m\u001b[0;34m(\u001b[0m\u001b[0mself\u001b[0m\u001b[0;34m)\u001b[0m\u001b[0;34m:\u001b[0m\u001b[0;34m\u001b[0m\u001b[0;34m\u001b[0m\u001b[0m\n",
      "\u001b[1;32m     26 \u001b[0m        \u001b[0mpower\u001b[0m \u001b[0;34m=\u001b[0m \u001b[0mself\u001b[0m\u001b[0;34m.\u001b[0m\u001b[0mget_power\u001b[0m\u001b[0;34m(\u001b[0m\u001b[0;34m)\u001b[0m\u001b[0;34m\u001b[0m\u001b[0;34m\u001b[0m\u001b[0m\n",
      "\n",
      "ipdb> n\n",
      "> \u001b[0;32m/var/folders/c1/9wdb7dps2x332c6l1y2hrqkh0000gp/T/ipykernel_59931/637564362.py\u001b[0m(23)\u001b[0;36mget_power\u001b[0;34m()\u001b[0m\n",
      "\u001b[0;32m     21 \u001b[0;31m        \u001b[0mpower\u001b[0m \u001b[0;34m=\u001b[0m \u001b[0mself\u001b[0m\u001b[0;34m.\u001b[0m\u001b[0mengine\u001b[0m\u001b[0;34m.\u001b[0m\u001b[0mpower\u001b[0m\u001b[0;34m\u001b[0m\u001b[0;34m\u001b[0m\u001b[0m\n",
      "\u001b[0m\u001b[0;32m     22 \u001b[0;31m\u001b[0;34m\u001b[0m\u001b[0m\n",
      "\u001b[0m\u001b[0;32m---> 23 \u001b[0;31m        \u001b[0;32mreturn\u001b[0m \u001b[0mpower\u001b[0m\u001b[0;34m\u001b[0m\u001b[0;34m\u001b[0m\u001b[0m\n",
      "\u001b[0m\u001b[0;32m     24 \u001b[0;31m\u001b[0;34m\u001b[0m\u001b[0m\n",
      "\u001b[0m\u001b[0;32m     25 \u001b[0;31m    \u001b[0;32mdef\u001b[0m \u001b[0mget_power_in_newtons\u001b[0m\u001b[0;34m(\u001b[0m\u001b[0mself\u001b[0m\u001b[0;34m)\u001b[0m\u001b[0;34m:\u001b[0m\u001b[0;34m\u001b[0m\u001b[0;34m\u001b[0m\u001b[0m\n",
      "\u001b[0m\n",
      "ipdb> locals()\n",
      "{'self': <__main__.Car object at 0x10b7ec1f0>, 'power': 42}\n",
      "ipdb> power\n",
      "42\n",
      "ipdb> ll\n",
      "\u001b[1;32m     20 \u001b[0m    \u001b[0;32mdef\u001b[0m \u001b[0mget_power\u001b[0m\u001b[0;34m(\u001b[0m\u001b[0mself\u001b[0m\u001b[0;34m)\u001b[0m\u001b[0;34m:\u001b[0m\u001b[0;34m\u001b[0m\u001b[0;34m\u001b[0m\u001b[0m\n",
      "\u001b[1;32m     21 \u001b[0m        \u001b[0mpower\u001b[0m \u001b[0;34m=\u001b[0m \u001b[0mself\u001b[0m\u001b[0;34m.\u001b[0m\u001b[0mengine\u001b[0m\u001b[0;34m.\u001b[0m\u001b[0mpower\u001b[0m\u001b[0;34m\u001b[0m\u001b[0;34m\u001b[0m\u001b[0m\n",
      "\u001b[1;32m     22 \u001b[0m\u001b[0;34m\u001b[0m\u001b[0m\n",
      "\u001b[0;32m---> 23 \u001b[0;31m        \u001b[0;32mreturn\u001b[0m \u001b[0mpower\u001b[0m\u001b[0;34m\u001b[0m\u001b[0;34m\u001b[0m\u001b[0m\n",
      "\u001b[0m\u001b[1;32m     24 \u001b[0m\u001b[0;34m\u001b[0m\u001b[0m\n",
      "\n",
      "ipdb> s\n",
      "--Return--\n",
      "42\n",
      "> \u001b[0;32m/var/folders/c1/9wdb7dps2x332c6l1y2hrqkh0000gp/T/ipykernel_59931/637564362.py\u001b[0m(23)\u001b[0;36mget_power\u001b[0;34m()\u001b[0m\n",
      "\u001b[0;32m     21 \u001b[0;31m        \u001b[0mpower\u001b[0m \u001b[0;34m=\u001b[0m \u001b[0mself\u001b[0m\u001b[0;34m.\u001b[0m\u001b[0mengine\u001b[0m\u001b[0;34m.\u001b[0m\u001b[0mpower\u001b[0m\u001b[0;34m\u001b[0m\u001b[0;34m\u001b[0m\u001b[0m\n",
      "\u001b[0m\u001b[0;32m     22 \u001b[0;31m\u001b[0;34m\u001b[0m\u001b[0m\n",
      "\u001b[0m\u001b[0;32m---> 23 \u001b[0;31m        \u001b[0;32mreturn\u001b[0m \u001b[0mpower\u001b[0m\u001b[0;34m\u001b[0m\u001b[0;34m\u001b[0m\u001b[0m\n",
      "\u001b[0m\u001b[0;32m     24 \u001b[0;31m\u001b[0;34m\u001b[0m\u001b[0m\n",
      "\u001b[0m\u001b[0;32m     25 \u001b[0;31m    \u001b[0;32mdef\u001b[0m \u001b[0mget_power_in_newtons\u001b[0m\u001b[0;34m(\u001b[0m\u001b[0mself\u001b[0m\u001b[0;34m)\u001b[0m\u001b[0;34m:\u001b[0m\u001b[0;34m\u001b[0m\u001b[0;34m\u001b[0m\u001b[0m\n",
      "\u001b[0m\n",
      "ipdb> s\n",
      "> \u001b[0;32m/var/folders/c1/9wdb7dps2x332c6l1y2hrqkh0000gp/T/ipykernel_59931/637564362.py\u001b[0m(28)\u001b[0;36mget_power_in_newtons\u001b[0;34m()\u001b[0m\n",
      "\u001b[0;32m     26 \u001b[0;31m        \u001b[0mpower\u001b[0m \u001b[0;34m=\u001b[0m \u001b[0mself\u001b[0m\u001b[0;34m.\u001b[0m\u001b[0mget_power\u001b[0m\u001b[0;34m(\u001b[0m\u001b[0;34m)\u001b[0m\u001b[0;34m\u001b[0m\u001b[0;34m\u001b[0m\u001b[0m\n",
      "\u001b[0m\u001b[0;32m     27 \u001b[0;31m\u001b[0;34m\u001b[0m\u001b[0m\n",
      "\u001b[0m\u001b[0;32m---> 28 \u001b[0;31m        \u001b[0mn_power\u001b[0m \u001b[0;34m=\u001b[0m \u001b[0mpower\u001b[0m \u001b[0;34m/\u001b[0m \u001b[0mCar\u001b[0m\u001b[0;34m.\u001b[0m\u001b[0mnewton_div\u001b[0m\u001b[0;34m\u001b[0m\u001b[0;34m\u001b[0m\u001b[0m\n",
      "\u001b[0m\u001b[0;32m     29 \u001b[0;31m\u001b[0;34m\u001b[0m\u001b[0m\n",
      "\u001b[0m\u001b[0;32m     30 \u001b[0;31m        \u001b[0;32mreturn\u001b[0m \u001b[0mn_power\u001b[0m\u001b[0;34m\u001b[0m\u001b[0;34m\u001b[0m\u001b[0m\n",
      "\u001b[0m\n",
      "ipdb> locals()\n",
      "{'self': <__main__.Car object at 0x10b7ec1f0>, 'power': 42}\n",
      "ipdb> Car.newton_div\n",
      "0\n",
      "ipdb> n\n",
      "ZeroDivisionError: division by zero\n",
      "> \u001b[0;32m/var/folders/c1/9wdb7dps2x332c6l1y2hrqkh0000gp/T/ipykernel_59931/637564362.py\u001b[0m(28)\u001b[0;36mget_power_in_newtons\u001b[0;34m()\u001b[0m\n",
      "\u001b[0;32m     26 \u001b[0;31m        \u001b[0mpower\u001b[0m \u001b[0;34m=\u001b[0m \u001b[0mself\u001b[0m\u001b[0;34m.\u001b[0m\u001b[0mget_power\u001b[0m\u001b[0;34m(\u001b[0m\u001b[0;34m)\u001b[0m\u001b[0;34m\u001b[0m\u001b[0;34m\u001b[0m\u001b[0m\n",
      "\u001b[0m\u001b[0;32m     27 \u001b[0;31m\u001b[0;34m\u001b[0m\u001b[0m\n",
      "\u001b[0m\u001b[0;32m---> 28 \u001b[0;31m        \u001b[0mn_power\u001b[0m \u001b[0;34m=\u001b[0m \u001b[0mpower\u001b[0m \u001b[0;34m/\u001b[0m \u001b[0mCar\u001b[0m\u001b[0;34m.\u001b[0m\u001b[0mnewton_div\u001b[0m\u001b[0;34m\u001b[0m\u001b[0;34m\u001b[0m\u001b[0m\n",
      "\u001b[0m\u001b[0;32m     29 \u001b[0;31m\u001b[0;34m\u001b[0m\u001b[0m\n",
      "\u001b[0m\u001b[0;32m     30 \u001b[0;31m        \u001b[0;32mreturn\u001b[0m \u001b[0mn_power\u001b[0m\u001b[0;34m\u001b[0m\u001b[0;34m\u001b[0m\u001b[0m\n",
      "\u001b[0m\n",
      "ipdb> l\n",
      "\u001b[1;32m     23 \u001b[0m        \u001b[0;32mreturn\u001b[0m \u001b[0mpower\u001b[0m\u001b[0;34m\u001b[0m\u001b[0;34m\u001b[0m\u001b[0m\n",
      "\u001b[1;32m     24 \u001b[0m\u001b[0;34m\u001b[0m\u001b[0m\n",
      "\u001b[1;32m     25 \u001b[0m    \u001b[0;32mdef\u001b[0m \u001b[0mget_power_in_newtons\u001b[0m\u001b[0;34m(\u001b[0m\u001b[0mself\u001b[0m\u001b[0;34m)\u001b[0m\u001b[0;34m:\u001b[0m\u001b[0;34m\u001b[0m\u001b[0;34m\u001b[0m\u001b[0m\n",
      "\u001b[1;32m     26 \u001b[0m        \u001b[0mpower\u001b[0m \u001b[0;34m=\u001b[0m \u001b[0mself\u001b[0m\u001b[0;34m.\u001b[0m\u001b[0mget_power\u001b[0m\u001b[0;34m(\u001b[0m\u001b[0;34m)\u001b[0m\u001b[0;34m\u001b[0m\u001b[0;34m\u001b[0m\u001b[0m\n",
      "\u001b[1;32m     27 \u001b[0m\u001b[0;34m\u001b[0m\u001b[0m\n",
      "\u001b[0;32m---> 28 \u001b[0;31m        \u001b[0mn_power\u001b[0m \u001b[0;34m=\u001b[0m \u001b[0mpower\u001b[0m \u001b[0;34m/\u001b[0m \u001b[0mCar\u001b[0m\u001b[0;34m.\u001b[0m\u001b[0mnewton_div\u001b[0m\u001b[0;34m\u001b[0m\u001b[0;34m\u001b[0m\u001b[0m\n",
      "\u001b[0m\u001b[1;32m     29 \u001b[0m\u001b[0;34m\u001b[0m\u001b[0m\n",
      "\u001b[1;32m     30 \u001b[0m        \u001b[0;32mreturn\u001b[0m \u001b[0mn_power\u001b[0m\u001b[0;34m\u001b[0m\u001b[0;34m\u001b[0m\u001b[0m\n",
      "\u001b[1;32m     31 \u001b[0m\u001b[0;34m\u001b[0m\u001b[0m\n",
      "\u001b[1;32m     32 \u001b[0m\u001b[0;34m\u001b[0m\u001b[0m\n",
      "\u001b[1;32m     33 \u001b[0m\u001b[0mhonda\u001b[0m \u001b[0;34m=\u001b[0m \u001b[0mCar\u001b[0m\u001b[0;34m(\u001b[0m\u001b[0;36m42\u001b[0m\u001b[0;34m)\u001b[0m\u001b[0;34m\u001b[0m\u001b[0;34m\u001b[0m\u001b[0m\n",
      "\n"
     ]
    },
    {
     "name": "stdout",
     "output_type": "stream",
     "text": [
      "ipdb> n\n",
      "--Return--\n",
      "None\n",
      "> \u001b[0;32m/var/folders/c1/9wdb7dps2x332c6l1y2hrqkh0000gp/T/ipykernel_59931/637564362.py\u001b[0m(28)\u001b[0;36mget_power_in_newtons\u001b[0;34m()\u001b[0m\n",
      "\u001b[0;32m     26 \u001b[0;31m        \u001b[0mpower\u001b[0m \u001b[0;34m=\u001b[0m \u001b[0mself\u001b[0m\u001b[0;34m.\u001b[0m\u001b[0mget_power\u001b[0m\u001b[0;34m(\u001b[0m\u001b[0;34m)\u001b[0m\u001b[0;34m\u001b[0m\u001b[0;34m\u001b[0m\u001b[0m\n",
      "\u001b[0m\u001b[0;32m     27 \u001b[0;31m\u001b[0;34m\u001b[0m\u001b[0m\n",
      "\u001b[0m\u001b[0;32m---> 28 \u001b[0;31m        \u001b[0mn_power\u001b[0m \u001b[0;34m=\u001b[0m \u001b[0mpower\u001b[0m \u001b[0;34m/\u001b[0m \u001b[0mCar\u001b[0m\u001b[0;34m.\u001b[0m\u001b[0mnewton_div\u001b[0m\u001b[0;34m\u001b[0m\u001b[0;34m\u001b[0m\u001b[0m\n",
      "\u001b[0m\u001b[0;32m     29 \u001b[0;31m\u001b[0;34m\u001b[0m\u001b[0m\n",
      "\u001b[0m\u001b[0;32m     30 \u001b[0;31m        \u001b[0;32mreturn\u001b[0m \u001b[0mn_power\u001b[0m\u001b[0;34m\u001b[0m\u001b[0;34m\u001b[0m\u001b[0m\n",
      "\u001b[0m\n",
      "ipdb> n\n",
      "ZeroDivisionError: division by zero\n",
      "> \u001b[0;32m/var/folders/c1/9wdb7dps2x332c6l1y2hrqkh0000gp/T/ipykernel_59931/637564362.py\u001b[0m(41)\u001b[0;36mtrace_fn\u001b[0;34m()\u001b[0m\n",
      "\u001b[0;32m     39 \u001b[0;31m\u001b[0;32mdef\u001b[0m \u001b[0mtrace_fn\u001b[0m\u001b[0;34m(\u001b[0m\u001b[0;34m)\u001b[0m\u001b[0;34m:\u001b[0m\u001b[0;34m\u001b[0m\u001b[0;34m\u001b[0m\u001b[0m\n",
      "\u001b[0m\u001b[0;32m     40 \u001b[0;31m    \u001b[0mpdb\u001b[0m\u001b[0;34m.\u001b[0m\u001b[0mset_trace\u001b[0m\u001b[0;34m(\u001b[0m\u001b[0;34m)\u001b[0m\u001b[0;34m\u001b[0m\u001b[0;34m\u001b[0m\u001b[0m\n",
      "\u001b[0m\u001b[0;32m---> 41 \u001b[0;31m    \u001b[0mx\u001b[0m \u001b[0;34m=\u001b[0m \u001b[0mhonda\u001b[0m\u001b[0;34m.\u001b[0m\u001b[0mget_power_in_newtons\u001b[0m\u001b[0;34m(\u001b[0m\u001b[0;34m)\u001b[0m\u001b[0;34m\u001b[0m\u001b[0;34m\u001b[0m\u001b[0m\n",
      "\u001b[0m\u001b[0;32m     42 \u001b[0;31m    \u001b[0mprint\u001b[0m\u001b[0;34m(\u001b[0m\u001b[0mx\u001b[0m\u001b[0;34m)\u001b[0m\u001b[0;34m\u001b[0m\u001b[0;34m\u001b[0m\u001b[0m\n",
      "\u001b[0m\u001b[0;32m     43 \u001b[0;31m\u001b[0;34m\u001b[0m\u001b[0m\n",
      "\u001b[0m\n",
      "ipdb> x\n",
      "*** NameError: name 'x' is not defined\n",
      "ipdb> n\n",
      "--Return--\n",
      "None\n",
      "> \u001b[0;32m/var/folders/c1/9wdb7dps2x332c6l1y2hrqkh0000gp/T/ipykernel_59931/637564362.py\u001b[0m(41)\u001b[0;36mtrace_fn\u001b[0;34m()\u001b[0m\n",
      "\u001b[0;32m     39 \u001b[0;31m\u001b[0;32mdef\u001b[0m \u001b[0mtrace_fn\u001b[0m\u001b[0;34m(\u001b[0m\u001b[0;34m)\u001b[0m\u001b[0;34m:\u001b[0m\u001b[0;34m\u001b[0m\u001b[0;34m\u001b[0m\u001b[0m\n",
      "\u001b[0m\u001b[0;32m     40 \u001b[0;31m    \u001b[0mpdb\u001b[0m\u001b[0;34m.\u001b[0m\u001b[0mset_trace\u001b[0m\u001b[0;34m(\u001b[0m\u001b[0;34m)\u001b[0m\u001b[0;34m\u001b[0m\u001b[0;34m\u001b[0m\u001b[0m\n",
      "\u001b[0m\u001b[0;32m---> 41 \u001b[0;31m    \u001b[0mx\u001b[0m \u001b[0;34m=\u001b[0m \u001b[0mhonda\u001b[0m\u001b[0;34m.\u001b[0m\u001b[0mget_power_in_newtons\u001b[0m\u001b[0;34m(\u001b[0m\u001b[0;34m)\u001b[0m\u001b[0;34m\u001b[0m\u001b[0;34m\u001b[0m\u001b[0m\n",
      "\u001b[0m\u001b[0;32m     42 \u001b[0;31m    \u001b[0mprint\u001b[0m\u001b[0;34m(\u001b[0m\u001b[0mx\u001b[0m\u001b[0;34m)\u001b[0m\u001b[0;34m\u001b[0m\u001b[0;34m\u001b[0m\u001b[0m\n",
      "\u001b[0m\u001b[0;32m     43 \u001b[0;31m\u001b[0;34m\u001b[0m\u001b[0m\n",
      "\u001b[0m\n",
      "ipdb> \n",
      "ZeroDivisionError: division by zero\n",
      "None\n",
      "> \u001b[0;32m/var/folders/c1/9wdb7dps2x332c6l1y2hrqkh0000gp/T/ipykernel_59931/637564362.py\u001b[0m(45)\u001b[0;36m<module>\u001b[0;34m()\u001b[0m\n",
      "\u001b[0;32m     41 \u001b[0;31m    \u001b[0mx\u001b[0m \u001b[0;34m=\u001b[0m \u001b[0mhonda\u001b[0m\u001b[0;34m.\u001b[0m\u001b[0mget_power_in_newtons\u001b[0m\u001b[0;34m(\u001b[0m\u001b[0;34m)\u001b[0m\u001b[0;34m\u001b[0m\u001b[0;34m\u001b[0m\u001b[0m\n",
      "\u001b[0m\u001b[0;32m     42 \u001b[0;31m    \u001b[0mprint\u001b[0m\u001b[0;34m(\u001b[0m\u001b[0mx\u001b[0m\u001b[0;34m)\u001b[0m\u001b[0;34m\u001b[0m\u001b[0;34m\u001b[0m\u001b[0m\n",
      "\u001b[0m\u001b[0;32m     43 \u001b[0;31m\u001b[0;34m\u001b[0m\u001b[0m\n",
      "\u001b[0m\u001b[0;32m     44 \u001b[0;31m\u001b[0;34m\u001b[0m\u001b[0m\n",
      "\u001b[0m\u001b[0;32m---> 45 \u001b[0;31m\u001b[0mtrace_fn\u001b[0m\u001b[0;34m(\u001b[0m\u001b[0;34m)\u001b[0m\u001b[0;34m\u001b[0m\u001b[0;34m\u001b[0m\u001b[0m\n",
      "\u001b[0m\n",
      "ipdb> x\n",
      "*** NameError: name 'x' is not defined\n",
      "ipdb> c\n"
     ]
    },
    {
     "ename": "ZeroDivisionError",
     "evalue": "division by zero",
     "output_type": "error",
     "traceback": [
      "\u001b[0;31m---------------------------------------------------------------------------\u001b[0m",
      "\u001b[0;31mZeroDivisionError\u001b[0m                         Traceback (most recent call last)",
      "Cell \u001b[0;32mIn [2], line 45\u001b[0m\n\u001b[1;32m     41\u001b[0m     x \u001b[38;5;241m=\u001b[39m honda\u001b[38;5;241m.\u001b[39mget_power_in_newtons()\n\u001b[1;32m     42\u001b[0m     \u001b[38;5;28mprint\u001b[39m(x)\n\u001b[0;32m---> 45\u001b[0m \u001b[43mtrace_fn\u001b[49m\u001b[43m(\u001b[49m\u001b[43m)\u001b[49m\n",
      "Cell \u001b[0;32mIn [2], line 41\u001b[0m, in \u001b[0;36mtrace_fn\u001b[0;34m()\u001b[0m\n\u001b[1;32m     39\u001b[0m \u001b[38;5;28;01mdef\u001b[39;00m \u001b[38;5;21mtrace_fn\u001b[39m():\n\u001b[1;32m     40\u001b[0m     pdb\u001b[38;5;241m.\u001b[39mset_trace()\n\u001b[0;32m---> 41\u001b[0m     x \u001b[38;5;241m=\u001b[39m \u001b[43mhonda\u001b[49m\u001b[38;5;241;43m.\u001b[39;49m\u001b[43mget_power_in_newtons\u001b[49m\u001b[43m(\u001b[49m\u001b[43m)\u001b[49m\n\u001b[1;32m     42\u001b[0m     \u001b[38;5;28mprint\u001b[39m(x)\n",
      "Cell \u001b[0;32mIn [2], line 28\u001b[0m, in \u001b[0;36mCar.get_power_in_newtons\u001b[0;34m(self)\u001b[0m\n\u001b[1;32m     25\u001b[0m \u001b[38;5;28;01mdef\u001b[39;00m \u001b[38;5;21mget_power_in_newtons\u001b[39m(\u001b[38;5;28mself\u001b[39m):\n\u001b[1;32m     26\u001b[0m     power \u001b[38;5;241m=\u001b[39m \u001b[38;5;28mself\u001b[39m\u001b[38;5;241m.\u001b[39mget_power()\n\u001b[0;32m---> 28\u001b[0m     n_power \u001b[38;5;241m=\u001b[39m \u001b[43mpower\u001b[49m\u001b[43m \u001b[49m\u001b[38;5;241;43m/\u001b[39;49m\u001b[43m \u001b[49m\u001b[43mCar\u001b[49m\u001b[38;5;241;43m.\u001b[39;49m\u001b[43mnewton_div\u001b[49m\n\u001b[1;32m     30\u001b[0m     \u001b[38;5;28;01mreturn\u001b[39;00m n_power\n",
      "\u001b[0;31mZeroDivisionError\u001b[0m: division by zero"
     ]
    }
   ],
   "source": [
    "import pdb\n",
    "\n",
    "\n",
    "class Engine:\n",
    "    def __init__(self, power, car):\n",
    "        self._power = power\n",
    "        self.car = car\n",
    "\n",
    "    @property\n",
    "    def power(self):\n",
    "        return self._power\n",
    "\n",
    "\n",
    "class Car:\n",
    "    newton_div = 100\n",
    "\n",
    "    def __init__(self, power):\n",
    "        self.engine = Engine(power, self)\n",
    "    \n",
    "    def get_power(self):\n",
    "        power = self.engine.power\n",
    "\n",
    "        return power\n",
    "    \n",
    "    def get_power_in_newtons(self):\n",
    "        power = self.get_power()\n",
    "        \n",
    "        n_power = power / Car.newton_div\n",
    "        \n",
    "        return n_power\n",
    "    \n",
    "\n",
    "honda = Car(42)\n",
    "print(honda.get_power_in_newtons())\n",
    "\n",
    "Car.newton_div = 0\n",
    "\n",
    "\n",
    "def trace_fn():\n",
    "    pdb.set_trace()\n",
    "    x = honda.get_power_in_newtons()\n",
    "    print(x)\n",
    "    \n",
    "\n",
    "trace_fn()"
   ]
  },
  {
   "cell_type": "code",
   "execution_count": null,
   "id": "f9665f19",
   "metadata": {},
   "outputs": [],
   "source": []
  },
  {
   "cell_type": "code",
   "execution_count": null,
   "id": "4e04aa35",
   "metadata": {},
   "outputs": [],
   "source": []
  },
  {
   "cell_type": "code",
   "execution_count": 23,
   "id": "24aac28e",
   "metadata": {},
   "outputs": [
    {
     "name": "stdout",
     "output_type": "stream",
     "text": [
      "[17, 12, 15]\n"
     ]
    }
   ],
   "source": [
    "import dis\n",
    "\n",
    "\n",
    "def add_nums(a: int, b: int) -> list[int]:\n",
    "    z = a + b\n",
    "    tp = (z, a, b)\n",
    "    lst = map(lambda x: x + 10, tp)\n",
    "    \n",
    "    def inner(x):\n",
    "        return x + 10\n",
    "\n",
    "    return list(lst)\n",
    "\n",
    "\n",
    "print(add_nums(2, 5))"
   ]
  },
  {
   "cell_type": "code",
   "execution_count": 13,
   "id": "87318a99",
   "metadata": {},
   "outputs": [
    {
     "name": "stdout",
     "output_type": "stream",
     "text": [
      "  5           0 LOAD_FAST                0 (a)\n",
      "              2 LOAD_FAST                1 (b)\n",
      "              4 BINARY_ADD\n",
      "              6 STORE_FAST               2 (z)\n",
      "\n",
      "  6           8 LOAD_FAST                2 (z)\n",
      "             10 LOAD_FAST                0 (a)\n",
      "             12 LOAD_FAST                1 (b)\n",
      "             14 BUILD_TUPLE              3\n",
      "             16 STORE_FAST               3 (tp)\n",
      "\n",
      "  7          18 LOAD_GLOBAL              0 (map)\n",
      "             20 LOAD_CONST               1 (<code object <lambda> at 0x10e953890, file \"/var/folders/c1/9wdb7dps2x332c6l1y2hrqkh0000gp/T/ipykernel_59931/2317036252.py\", line 7>)\n",
      "             22 LOAD_CONST               2 ('add_nums.<locals>.<lambda>')\n",
      "             24 MAKE_FUNCTION            0\n",
      "             26 LOAD_FAST                3 (tp)\n",
      "             28 CALL_FUNCTION            2\n",
      "             30 STORE_FAST               4 (lst)\n",
      "\n",
      "  9          32 LOAD_CONST               3 (<code object inner at 0x10e953e10, file \"/var/folders/c1/9wdb7dps2x332c6l1y2hrqkh0000gp/T/ipykernel_59931/2317036252.py\", line 9>)\n",
      "             34 LOAD_CONST               4 ('add_nums.<locals>.inner')\n",
      "             36 MAKE_FUNCTION            0\n",
      "             38 STORE_FAST               5 (inner)\n",
      "\n",
      " 12          40 LOAD_GLOBAL              1 (list)\n",
      "             42 LOAD_FAST                4 (lst)\n",
      "             44 CALL_FUNCTION            1\n",
      "             46 RETURN_VALUE\n",
      "\n",
      "Disassembly of <code object <lambda> at 0x10e953890, file \"/var/folders/c1/9wdb7dps2x332c6l1y2hrqkh0000gp/T/ipykernel_59931/2317036252.py\", line 7>:\n",
      "  7           0 LOAD_FAST                0 (x)\n",
      "              2 LOAD_CONST               1 (10)\n",
      "              4 BINARY_ADD\n",
      "              6 RETURN_VALUE\n",
      "\n",
      "Disassembly of <code object inner at 0x10e953e10, file \"/var/folders/c1/9wdb7dps2x332c6l1y2hrqkh0000gp/T/ipykernel_59931/2317036252.py\", line 9>:\n",
      " 10           0 LOAD_FAST                0 (x)\n",
      "              2 LOAD_CONST               1 (10)\n",
      "              4 BINARY_ADD\n",
      "              6 RETURN_VALUE\n"
     ]
    }
   ],
   "source": [
    "dis.dis(add_nums)"
   ]
  },
  {
   "cell_type": "code",
   "execution_count": 6,
   "id": "62bd6bca",
   "metadata": {},
   "outputs": [
    {
     "name": "stdout",
     "output_type": "stream",
     "text": [
      "  1           0 LOAD_CONST               0 (20)\n",
      "              2 STORE_NAME               0 (x)\n",
      "              4 LOAD_CONST               1 (None)\n",
      "              6 RETURN_VALUE\n"
     ]
    }
   ],
   "source": [
    "dis.dis(\"x = 20\")"
   ]
  },
  {
   "cell_type": "code",
   "execution_count": 14,
   "id": "edd779be",
   "metadata": {},
   "outputs": [
    {
     "name": "stdout",
     "output_type": "stream",
     "text": [
      "Name:              add_nums\n",
      "Filename:          /var/folders/c1/9wdb7dps2x332c6l1y2hrqkh0000gp/T/ipykernel_59931/2317036252.py\n",
      "Argument count:    2\n",
      "Positional-only arguments: 0\n",
      "Kw-only arguments: 0\n",
      "Number of locals:  6\n",
      "Stack size:        3\n",
      "Flags:             OPTIMIZED, NEWLOCALS, NOFREE\n",
      "Constants:\n",
      "   0: None\n",
      "   1: <code object <lambda> at 0x10e953890, file \"/var/folders/c1/9wdb7dps2x332c6l1y2hrqkh0000gp/T/ipykernel_59931/2317036252.py\", line 7>\n",
      "   2: 'add_nums.<locals>.<lambda>'\n",
      "   3: <code object inner at 0x10e953e10, file \"/var/folders/c1/9wdb7dps2x332c6l1y2hrqkh0000gp/T/ipykernel_59931/2317036252.py\", line 9>\n",
      "   4: 'add_nums.<locals>.inner'\n",
      "Names:\n",
      "   0: map\n",
      "   1: list\n",
      "Variable names:\n",
      "   0: a\n",
      "   1: b\n",
      "   2: z\n",
      "   3: tp\n",
      "   4: lst\n",
      "   5: inner\n"
     ]
    }
   ],
   "source": [
    "dis.show_code(add_nums)"
   ]
  },
  {
   "cell_type": "code",
   "execution_count": 18,
   "id": "04dd9f07",
   "metadata": {},
   "outputs": [
    {
     "name": "stdout",
     "output_type": "stream",
     "text": [
      "              0 GEN_START                0\n",
      "\n",
      "  2           2 LOAD_CONST               1 (10)\n",
      "              4 YIELD_VALUE\n",
      "              6 POP_TOP\n",
      "              8 LOAD_CONST               0 (None)\n",
      "             10 RETURN_VALUE\n"
     ]
    }
   ],
   "source": [
    "def gen():\n",
    "    yield 10\n",
    "    \n",
    "dis.dis(gen)"
   ]
  },
  {
   "cell_type": "code",
   "execution_count": null,
   "id": "f86c4e3b",
   "metadata": {},
   "outputs": [],
   "source": []
  },
  {
   "cell_type": "code",
   "execution_count": null,
   "id": "9073ad7a",
   "metadata": {},
   "outputs": [],
   "source": []
  },
  {
   "cell_type": "code",
   "execution_count": 19,
   "id": "b13bfa62",
   "metadata": {},
   "outputs": [],
   "source": [
    "import inspect"
   ]
  },
  {
   "cell_type": "code",
   "execution_count": 24,
   "id": "af9fc839",
   "metadata": {},
   "outputs": [
    {
     "data": {
      "text/plain": [
       "{'a': int, 'b': int, 'return': list[int]}"
      ]
     },
     "execution_count": 24,
     "metadata": {},
     "output_type": "execute_result"
    }
   ],
   "source": [
    "inspect.get_annotations(add_nums)"
   ]
  },
  {
   "cell_type": "code",
   "execution_count": 25,
   "id": "f91959d5",
   "metadata": {},
   "outputs": [
    {
     "data": {
      "text/plain": [
       "{'a': int, 'b': int, 'return': list[int]}"
      ]
     },
     "execution_count": 25,
     "metadata": {},
     "output_type": "execute_result"
    }
   ],
   "source": [
    "add_nums.__annotations__"
   ]
  },
  {
   "cell_type": "code",
   "execution_count": 26,
   "id": "a6214bc9",
   "metadata": {},
   "outputs": [
    {
     "data": {
      "text/plain": [
       "<frame at 0x7f9e286bae10, file '/var/folders/c1/9wdb7dps2x332c6l1y2hrqkh0000gp/T/ipykernel_59931/3468241129.py', line 1, code <module>>"
      ]
     },
     "execution_count": 26,
     "metadata": {},
     "output_type": "execute_result"
    }
   ],
   "source": [
    "inspect.currentframe()"
   ]
  },
  {
   "cell_type": "code",
   "execution_count": 31,
   "id": "fb01f18a",
   "metadata": {},
   "outputs": [
    {
     "data": {
      "text/plain": [
       "Traceback(filename='/var/folders/c1/9wdb7dps2x332c6l1y2hrqkh0000gp/T/ipykernel_59931/2154058773.py', lineno=1, function='<module>', code_context=['inspect.getframeinfo(inspect.currentframe())\\n'], index=0)"
      ]
     },
     "execution_count": 31,
     "metadata": {},
     "output_type": "execute_result"
    }
   ],
   "source": [
    "inspect.getframeinfo(inspect.currentframe())"
   ]
  },
  {
   "cell_type": "code",
   "execution_count": 36,
   "id": "91e5601c",
   "metadata": {},
   "outputs": [
    {
     "data": {
      "text/plain": [
       "(True, True, False)"
      ]
     },
     "execution_count": 36,
     "metadata": {},
     "output_type": "execute_result"
    }
   ],
   "source": [
    "inspect.isgenerator(gen()), inspect.isgeneratorfunction(gen), inspect.isgenerator(gen)"
   ]
  },
  {
   "cell_type": "code",
   "execution_count": 39,
   "id": "feaf44d0",
   "metadata": {},
   "outputs": [
    {
     "data": {
      "text/plain": [
       "(True, True, False)"
      ]
     },
     "execution_count": 39,
     "metadata": {},
     "output_type": "execute_result"
    }
   ],
   "source": [
    "inspect.isfunction(gen), inspect.isfunction(add_nums), inspect.isfunction(Car)"
   ]
  },
  {
   "cell_type": "code",
   "execution_count": 40,
   "id": "ac0cefaa",
   "metadata": {},
   "outputs": [
    {
     "data": {
      "text/plain": [
       "<Signature ()>"
      ]
     },
     "execution_count": 40,
     "metadata": {},
     "output_type": "execute_result"
    }
   ],
   "source": [
    "inspect.signature(gen)"
   ]
  },
  {
   "cell_type": "code",
   "execution_count": 41,
   "id": "00ee0540",
   "metadata": {},
   "outputs": [
    {
     "data": {
      "text/plain": [
       "<Signature (a: int, b: int) -> list[int]>"
      ]
     },
     "execution_count": 41,
     "metadata": {},
     "output_type": "execute_result"
    }
   ],
   "source": [
    "inspect.signature(add_nums)"
   ]
  },
  {
   "cell_type": "code",
   "execution_count": 42,
   "id": "92c41988",
   "metadata": {},
   "outputs": [
    {
     "data": {
      "text/plain": [
       "<Signature (power)>"
      ]
     },
     "execution_count": 42,
     "metadata": {},
     "output_type": "execute_result"
    }
   ],
   "source": [
    "inspect.signature(Car)"
   ]
  },
  {
   "cell_type": "code",
   "execution_count": 43,
   "id": "a0e20eac",
   "metadata": {},
   "outputs": [
    {
     "data": {
      "text/plain": [
       "15"
      ]
     },
     "execution_count": 43,
     "metadata": {},
     "output_type": "execute_result"
    }
   ],
   "source": [
    "HIGH_RATE = 2.1\n",
    "\n",
    "\n",
    "class CamelCase:\n",
    "    def get_name(self):\n",
    "        low_rate = 0.1\n",
    "        return\n",
    "    \n",
    "def fn(y, x=12):\n",
    "    return x\n",
    "\n",
    "\n",
    "fn(y=10, x=15)"
   ]
  },
  {
   "cell_type": "code",
   "execution_count": 44,
   "id": "14fd7bc0",
   "metadata": {},
   "outputs": [],
   "source": [
    "from collections import deque, \\\n",
    "     defaultdict"
   ]
  },
  {
   "cell_type": "code",
   "execution_count": 45,
   "id": "c87594eb",
   "metadata": {},
   "outputs": [],
   "source": [
    "from collections import (\n",
    "    deque,\n",
    "    defaultdict,\n",
    ")"
   ]
  },
  {
   "cell_type": "code",
   "execution_count": 46,
   "id": "e165b751",
   "metadata": {},
   "outputs": [
    {
     "name": "stdout",
     "output_type": "stream",
     "text": [
      "10\n"
     ]
    }
   ],
   "source": [
    "if (\n",
    "    \"xxxx\"\n",
    "    and \"yyyyy\"\n",
    "    or \"zzzz\"\n",
    "):\n",
    "    print(10)"
   ]
  },
  {
   "cell_type": "code",
   "execution_count": null,
   "id": "0bce0b12",
   "metadata": {},
   "outputs": [],
   "source": [
    "with open(\"file1\") as f1:\n",
    "    with open(\"file2\") as f2:\n",
    "        pass"
   ]
  },
  {
   "cell_type": "code",
   "execution_count": 47,
   "id": "85852067",
   "metadata": {},
   "outputs": [],
   "source": [
    "with (\n",
    "    open(\"file1\", \"w\") as f1,\n",
    "    open(\"file2\", \"w\") as f2,\n",
    "):\n",
    "    pass"
   ]
  },
  {
   "cell_type": "code",
   "execution_count": 48,
   "id": "bd26e9dd",
   "metadata": {},
   "outputs": [],
   "source": [
    "with open(\"file1\", \"w\") as f1, \\\n",
    "     open(\"file2\", \"w\") as f2:\n",
    "    pass"
   ]
  },
  {
   "cell_type": "code",
   "execution_count": 49,
   "id": "94401ab7",
   "metadata": {},
   "outputs": [],
   "source": [
    "with open(\n",
    "    \"file1\", \"w\"\n",
    ") as f1, open(\n",
    "    \"file2\", \"w\"\n",
    ") as f2:\n",
    "    pass"
   ]
  },
  {
   "cell_type": "code",
   "execution_count": null,
   "id": "e78a2d75",
   "metadata": {},
   "outputs": [],
   "source": [
    "logger = getLoogger(\"\")\n",
    "\n",
    "class LRU:\n",
    "    def __init__(self, logger, capacity):\n",
    "        self.logger = logger\n",
    "        logger.info(capacity)\n",
    "        \n",
    "    def get(self, key):\n",
    "        self.logger.debug(f\"call get({key})\")\n",
    "        \n",
    "        if key in self.__cache:\n",
    "            self.looger.info(\"---\")\n",
    "            \n",
    "            self.update_queue()\n",
    "            returrn self._cache[key]\n",
    "        else:\n",
    "            self.looger.error(\"unknown key\")\n",
    "            return None\n",
    "        \n",
    "def run():\n",
    "    lru = LRU()\n",
    "    lru.get(dwd)\n",
    "    lru.set()\n",
    "    lru.get(dwd)\n",
    "    lru.set()\n",
    "    lru.get(dwd)\n",
    "    lru.set()\n",
    "\n",
    "    \n",
    "if __name__ == \"__main__\":\n",
    "    run()"
   ]
  },
  {
   "cell_type": "code",
   "execution_count": null,
   "id": "fe53f2a7",
   "metadata": {},
   "outputs": [],
   "source": [
    "from unittest.mock import "
   ]
  }
 ],
 "metadata": {
  "kernelspec": {
   "display_name": "Python 3 (ipykernel)",
   "language": "python",
   "name": "python3"
  },
  "language_info": {
   "codemirror_mode": {
    "name": "ipython",
    "version": 3
   },
   "file_extension": ".py",
   "mimetype": "text/x-python",
   "name": "python",
   "nbconvert_exporter": "python",
   "pygments_lexer": "ipython3",
   "version": "3.10.2"
  }
 },
 "nbformat": 4,
 "nbformat_minor": 5
}
