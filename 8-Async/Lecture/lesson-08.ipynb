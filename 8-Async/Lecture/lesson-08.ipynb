{
 "cells": [
  {
   "cell_type": "code",
   "execution_count": 1,
   "id": "c8c601be",
   "metadata": {},
   "source": [
    "import subprocess"
   ],
   "outputs": []
  },
  {
   "cell_type": "code",
   "execution_count": 6,
   "id": "c50cca92",
   "metadata": {},
   "source": [
    "subprocess.run(\"ls -la /dev/null\", shell=True)"
   ],
   "outputs": []
  },
  {
   "cell_type": "code",
   "execution_count": 7,
   "id": "374aacd4",
   "metadata": {},
   "source": [
    "subprocess.run(\"python -c 'print(1/ 7)'\", shell=True)"
   ],
   "outputs": []
  },
  {
   "cell_type": "code",
   "execution_count": 8,
   "id": "f18b36b3",
   "metadata": {},
   "source": [
    "subprocess.run(\"false\", shell=True)"
   ],
   "outputs": []
  },
  {
   "cell_type": "code",
   "execution_count": null,
   "id": "449e932d",
   "metadata": {},
   "source": [],
   "outputs": []
  },
  {
   "cell_type": "code",
   "execution_count": null,
   "id": "9771c458",
   "metadata": {},
   "source": [],
   "outputs": []
  },
  {
   "cell_type": "code",
   "execution_count": 9,
   "id": "f4b1b926",
   "metadata": {},
   "source": [
    "import socket"
   ],
   "outputs": []
  },
  {
   "cell_type": "code",
   "execution_count": null,
   "id": "44d75a12",
   "metadata": {},
   "source": [],
   "outputs": []
  },
  {
   "cell_type": "code",
   "execution_count": null,
   "id": "8e782ec2",
   "metadata": {},
   "source": [],
   "outputs": []
  },
  {
   "cell_type": "code",
   "execution_count": 10,
   "id": "2547385e",
   "metadata": {},
   "source": [
    "def grep(pattern):\n",
    "    print(\"start grep for\", pattern)\n",
    "    while True:\n",
    "        s = yield\n",
    "        if pattern in s:\n",
    "            print(\"found!\", s)\n",
    "        else:\n",
    "            print(\"no %s in %s\" % (pattern, s))"
   ],
   "outputs": []
  },
  {
   "cell_type": "code",
   "execution_count": 16,
   "id": "f8c9ab30",
   "metadata": {},
   "source": [
    "g = grep(\"hello\")\n",
    "next(g)"
   ],
   "outputs": []
  },
  {
   "cell_type": "code",
   "execution_count": 17,
   "id": "cea1c82b",
   "metadata": {},
   "source": [
    "g.send(\"hello world\")"
   ],
   "outputs": []
  },
  {
   "cell_type": "code",
   "execution_count": 18,
   "id": "6ddfa53b",
   "metadata": {},
   "source": [
    "g.send(\"dwkjdkwjjd world\")"
   ],
   "outputs": []
  },
  {
   "cell_type": "code",
   "execution_count": 15,
   "id": "11d2b6fa",
   "metadata": {},
   "source": [
    "g.send(\"dwdw\")"
   ],
   "outputs": []
  },
  {
   "cell_type": "code",
   "execution_count": 19,
   "id": "900ca89d",
   "metadata": {},
   "source": [
    "g.throw(ValueError(\"err\"))"
   ],
   "outputs": []
  },
  {
   "cell_type": "code",
   "execution_count": 20,
   "id": "9158ba95",
   "metadata": {},
   "source": [
    "g.send(\"dwdw\")"
   ],
   "outputs": []
  },
  {
   "cell_type": "code",
   "execution_count": 21,
   "id": "95656de1",
   "metadata": {},
   "source": [
    "import asyncio"
   ],
   "outputs": []
  },
  {
   "cell_type": "code",
   "execution_count": 22,
   "id": "bd0312bc",
   "metadata": {},
   "source": [
    "@asyncio.coroutine\n",
    "def old_coro():\n",
    "    yield 1\n",
    "    yield 2\n",
    "\n"
   ],
   "outputs": []
  },
  {
   "cell_type": "code",
   "execution_count": 31,
   "id": "0f71856a",
   "metadata": {},
   "source": [
    "async def countdown(n):\n",
    "    print(f\"start count_{n}\")\n",
    "    for i in range(n):\n",
    "        print(f\"count_{n}: {i}\")\n",
    "        await asyncio.sleep(1)"
   ],
   "outputs": []
  },
  {
   "cell_type": "code",
   "execution_count": 35,
   "id": "5d380722",
   "metadata": {},
   "source": [
    "import time\n",
    "\n",
    "t1 = time.time()\n",
    "\n",
    "c = countdown(5)\n",
    "print(c)\n",
    "\n",
    "await c\n",
    "\n",
    "t2 = time.time()\n",
    "print(\"time\", t2 - t1)"
   ],
   "outputs": []
  },
  {
   "cell_type": "code",
   "execution_count": 36,
   "id": "c092bf8f",
   "metadata": {},
   "source": [
    "t1 = time.time()\n",
    "\n",
    "await countdown(5)\n",
    "await countdown(6)\n",
    "\n",
    "t2 = time.time()\n",
    "print(\"time\", t2 - t1)"
   ],
   "outputs": []
  },
  {
   "cell_type": "code",
   "execution_count": 40,
   "id": "17a4c1c2",
   "metadata": {},
   "source": [
    "t1 = time.time()\n",
    "\n",
    "task1 = asyncio.create_task(countdown(5))\n",
    "print(\"created task\")\n",
    "\n",
    "await countdown(6)\n",
    "print(\"end count 6\")\n",
    "\n",
    "await task1\n",
    "print(\"end task\")\n",
    "\n",
    "t2 = time.time()\n",
    "print(\"time\", t2 - t1)"
   ],
   "outputs": []
  },
  {
   "cell_type": "code",
   "execution_count": 42,
   "id": "46e615e8",
   "metadata": {},
   "source": [
    "t1 = time.time()\n",
    "\n",
    "tasks = [\n",
    "    asyncio.create_task(countdown(i))\n",
    "    for i in (5, 6, 3, 4)\n",
    "]\n",
    "print(\"created tasks\")\n",
    "\n",
    "await asyncio.gather(*tasks)\n",
    "print(\"end gather\")\n",
    "\n",
    "t2 = time.time()\n",
    "print(\"time\", t2 - t1)"
   ],
   "outputs": []
  },
  {
   "cell_type": "code",
   "execution_count": 51,
   "id": "96b001e9",
   "metadata": {},
   "source": [
    "async def countdown(n):\n",
    "    print(f\"start count_{n}\")\n",
    "    for i in range(n):\n",
    "        print(f\"count_{n}: {i}\")\n",
    "        await asyncio.sleep(1)\n",
    "    \n",
    "    return n\n",
    "\n",
    "t1 = time.time()\n",
    "\n",
    "tasks = [\n",
    "    asyncio.create_task(countdown(i))\n",
    "    for i in (5, 6, 3, 4)\n",
    "]\n",
    "print(\"created tasks\")\n",
    "\n",
    "for coro in asyncio.as_completed(tasks):\n",
    "    res = await coro\n",
    "    print(res, coro)\n",
    "\n",
    "print(\"end gather\")\n",
    "\n",
    "t2 = time.time()\n",
    "print(\"time\", t2 - t1)"
   ],
   "outputs": []
  },
  {
   "cell_type": "code",
   "execution_count": 53,
   "id": "4c266b67",
   "metadata": {},
   "source": [
    "async def countdown(n):\n",
    "    print(f\"start count_{n}\")\n",
    "    for i in range(n):\n",
    "        print(f\"count_{n}: {i}\")\n",
    "        await asyncio.sleep(1)\n",
    "    \n",
    "    return n\n",
    "\n",
    "\n",
    "async def block_coro(n):\n",
    "    time.sleep(n)\n",
    "\n",
    "\n",
    "t1 = time.time()\n",
    "\n",
    "tasks = [\n",
    "    asyncio.create_task(countdown(5)),\n",
    "    asyncio.create_task(block_coro(5)),\n",
    "]\n",
    "print(\"created tasks\")\n",
    "\n",
    "await asyncio.gather(*tasks)\n",
    "\n",
    "print(\"end gather\")\n",
    "\n",
    "t2 = time.time()\n",
    "print(\"time\", t2 - t1)"
   ],
   "outputs": []
  },
  {
   "cell_type": "code",
   "execution_count": 54,
   "id": "0a7fc901",
   "metadata": {},
   "source": [
    "asyncio.get_event_loop()"
   ],
   "outputs": []
  },
  {
   "cell_type": "code",
   "execution_count": null,
   "id": "e4e660e0",
   "metadata": {},
   "source": [],
   "outputs": []
  },
  {
   "cell_type": "code",
   "execution_count": 56,
   "id": "263b9dff",
   "metadata": {},
   "source": [
    "!pip install aiohttp"
   ],
   "outputs": []
  },
  {
   "cell_type": "code",
   "execution_count": 57,
   "id": "592f3620",
   "metadata": {},
   "source": [
    "import aiohttp"
   ],
   "outputs": []
  },
  {
   "cell_type": "code",
   "execution_count": null,
   "id": "66addf61",
   "metadata": {},
   "source": [],
   "outputs": []
  },
  {
   "cell_type": "code",
   "execution_count": 86,
   "id": "426ce129",
   "metadata": {},
   "source": [
    "URL = \"https://docs.python.org/3/whatsnew/3.11.html\"\n",
    "URLS = [URL] * 50\n",
    "\n",
    "\n",
    "async def fetch(url, session):\n",
    "    async with session.get(url) as resp:\n",
    "        data = await resp.read()\n",
    "        assert resp.status == 200\n",
    "        #print(resp.status, len(data))\n",
    "    \n",
    "\n",
    "async def batch_fetch(urls):\n",
    "    async with aiohttp.ClientSession() as session:\n",
    "        for url in urls:\n",
    "            await fetch(url, session)\n",
    "\n",
    "t1 = time.time()\n",
    "\n",
    "await batch_fetch(URLS)\n",
    "\n",
    "t2 = time.time()\n",
    "print(\"time\", t2 - t1)"
   ],
   "outputs": []
  },
  {
   "cell_type": "code",
   "execution_count": 79,
   "id": "da68a8d8",
   "metadata": {},
   "source": [
    "URL = \"https://docs.python.org/3/whatsnew/3.11.html\"\n",
    "URLS = [URL] * 50\n",
    "\n",
    "\n",
    "async def fetch(url, session, sem):\n",
    "    async with sem:\n",
    "        async with session.get(url) as resp:\n",
    "            data = await resp.read()\n",
    "            assert resp.status == 200\n",
    "            #print(resp.status, len(data))\n",
    "    \n",
    "\n",
    "async def batch_fetch(urls, sem):\n",
    "    async with aiohttp.ClientSession() as session:\n",
    "        tasks = [\n",
    "            asyncio.create_task(fetch(url, session, sem))\n",
    "            for url in urls\n",
    "        ]\n",
    "        await asyncio.gather(*tasks)\n",
    "\n",
    "            \n",
    "t1 = time.time()\n",
    "\n",
    "sem = asyncio.Semaphore(10)\n",
    "await batch_fetch(URLS, sem)\n",
    "\n",
    "t2 = time.time()\n",
    "print(\"time\", t2 - t1)"
   ],
   "outputs": []
  },
  {
   "cell_type": "code",
   "execution_count": 89,
   "id": "8f791b07",
   "metadata": {},
   "source": [
    "URL = \"https://docs.python.org/3/whatsnew/3.11.html\"\n",
    "URLS = [URL] * 50\n",
    "counter = 0\n",
    "\n",
    "\n",
    "async def fetch(session, q):\n",
    "    while True:\n",
    "        url = await q.get()\n",
    "        global counter\n",
    "        counter += 1\n",
    "\n",
    "        try:\n",
    "            async with session.get(url) as resp:\n",
    "                data = await resp.read()\n",
    "                assert resp.status == 200\n",
    "        finally:\n",
    "            q.task_done()\n",
    "    \n",
    "\n",
    "async def batch_fetch(urls, workers=5):\n",
    "    q = asyncio.Queue()\n",
    "    for url in urls:\n",
    "        await q.put(url)\n",
    "\n",
    "    async with aiohttp.ClientSession() as session:\n",
    "        workers = [\n",
    "            asyncio.create_task(fetch(session, q))\n",
    "            for _ in range(workers)\n",
    "        ]\n",
    "        await q.join()\n",
    "        \n",
    "        for w in workers:\n",
    "            w.cancel()\n",
    "\n",
    "\n",
    "t1 = time.time()\n",
    "\n",
    "await batch_fetch(URLS, workers=1)\n",
    "\n",
    "t2 = time.time()\n",
    "print(\"time\", t2 - t1)\n",
    "print(\"count\", counter)"
   ],
   "outputs": []
  },
  {
   "cell_type": "code",
   "execution_count": 90,
   "id": "dd01f410",
   "metadata": {},
   "source": [
    "event = asyncio.get_event_loop()"
   ],
   "outputs": []
  },
  {
   "cell_type": "code",
   "execution_count": 91,
   "id": "4ac1ca2f",
   "metadata": {},
   "source": [],
   "outputs": []
  },
  {
   "cell_type": "code",
   "execution_count": null,
   "id": "892fdc05",
   "metadata": {},
   "source": [],
   "outputs": []
  }
 ],
 "metadata": {
  "kernelspec": {
   "display_name": "Python 3 (ipykernel)",
   "language": "python",
   "name": "python3"
  },
  "language_info": {
   "codemirror_mode": {
    "name": "ipython",
    "version": 3
   },
   "file_extension": ".py",
   "mimetype": "text/x-python",
   "name": "python",
   "nbconvert_exporter": "python",
   "pygments_lexer": "ipython3",
   "version": "3.10.2"
  }
 },
 "nbformat": 4,
 "nbformat_minor": 5
}
