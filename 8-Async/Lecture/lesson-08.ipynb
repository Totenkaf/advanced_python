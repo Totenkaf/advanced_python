{
 "cells": [
  {
   "cell_type": "code",
   "execution_count": 1,
   "id": "c8c601be",
   "metadata": {},
   "outputs": [],
   "source": [
    "import subprocess"
   ]
  },
  {
   "cell_type": "code",
   "execution_count": 6,
   "id": "c50cca92",
   "metadata": {},
   "outputs": [
    {
     "name": "stdout",
     "output_type": "stream",
     "text": [
      "crw-rw-rw-  1 root  wheel  0x3000002 Oct 28 18:24 /dev/null\n"
     ]
    },
    {
     "data": {
      "text/plain": [
       "CompletedProcess(args='ls -la /dev/null', returncode=0)"
      ]
     },
     "execution_count": 6,
     "metadata": {},
     "output_type": "execute_result"
    }
   ],
   "source": [
    "subprocess.run(\"ls -la /dev/null\", shell=True)"
   ]
  },
  {
   "cell_type": "code",
   "execution_count": 7,
   "id": "374aacd4",
   "metadata": {},
   "outputs": [
    {
     "name": "stdout",
     "output_type": "stream",
     "text": [
      "0.14285714285714285\n"
     ]
    },
    {
     "data": {
      "text/plain": [
       "CompletedProcess(args=\"python -c 'print(1/ 7)'\", returncode=0)"
      ]
     },
     "execution_count": 7,
     "metadata": {},
     "output_type": "execute_result"
    }
   ],
   "source": [
    "subprocess.run(\"python -c 'print(1/ 7)'\", shell=True)"
   ]
  },
  {
   "cell_type": "code",
   "execution_count": 8,
   "id": "f18b36b3",
   "metadata": {},
   "outputs": [
    {
     "data": {
      "text/plain": [
       "CompletedProcess(args='false', returncode=1)"
      ]
     },
     "execution_count": 8,
     "metadata": {},
     "output_type": "execute_result"
    }
   ],
   "source": [
    "subprocess.run(\"false\", shell=True)"
   ]
  },
  {
   "cell_type": "code",
   "execution_count": null,
   "id": "449e932d",
   "metadata": {},
   "outputs": [],
   "source": []
  },
  {
   "cell_type": "code",
   "execution_count": null,
   "id": "9771c458",
   "metadata": {},
   "outputs": [],
   "source": []
  },
  {
   "cell_type": "code",
   "execution_count": 9,
   "id": "f4b1b926",
   "metadata": {},
   "outputs": [],
   "source": [
    "import socket"
   ]
  },
  {
   "cell_type": "code",
   "execution_count": null,
   "id": "44d75a12",
   "metadata": {},
   "outputs": [],
   "source": []
  },
  {
   "cell_type": "code",
   "execution_count": null,
   "id": "8e782ec2",
   "metadata": {},
   "outputs": [],
   "source": []
  },
  {
   "cell_type": "code",
   "execution_count": 10,
   "id": "2547385e",
   "metadata": {},
   "outputs": [],
   "source": [
    "def grep(pattern):\n",
    "    print(\"start grep for\", pattern)\n",
    "    while True:\n",
    "        s = yield\n",
    "        if pattern in s:\n",
    "            print(\"found!\", s)\n",
    "        else:\n",
    "            print(\"no %s in %s\" % (pattern, s))"
   ]
  },
  {
   "cell_type": "code",
   "execution_count": 16,
   "id": "f8c9ab30",
   "metadata": {},
   "outputs": [
    {
     "name": "stdout",
     "output_type": "stream",
     "text": [
      "start grep for hello\n"
     ]
    }
   ],
   "source": [
    "g = grep(\"hello\")\n",
    "next(g)"
   ]
  },
  {
   "cell_type": "code",
   "execution_count": 17,
   "id": "cea1c82b",
   "metadata": {},
   "outputs": [
    {
     "name": "stdout",
     "output_type": "stream",
     "text": [
      "found! hello world\n"
     ]
    }
   ],
   "source": [
    "g.send(\"hello world\")"
   ]
  },
  {
   "cell_type": "code",
   "execution_count": 18,
   "id": "6ddfa53b",
   "metadata": {},
   "outputs": [
    {
     "name": "stdout",
     "output_type": "stream",
     "text": [
      "no hello in dwkjdkwjjd world\n"
     ]
    }
   ],
   "source": [
    "g.send(\"dwkjdkwjjd world\")"
   ]
  },
  {
   "cell_type": "code",
   "execution_count": 15,
   "id": "11d2b6fa",
   "metadata": {},
   "outputs": [
    {
     "ename": "StopIteration",
     "evalue": "",
     "output_type": "error",
     "traceback": [
      "\u001b[0;31m---------------------------------------------------------------------------\u001b[0m",
      "\u001b[0;31mStopIteration\u001b[0m                             Traceback (most recent call last)",
      "Cell \u001b[0;32mIn [15], line 1\u001b[0m\n\u001b[0;32m----> 1\u001b[0m \u001b[43mg\u001b[49m\u001b[38;5;241;43m.\u001b[39;49m\u001b[43msend\u001b[49m\u001b[43m(\u001b[49m\u001b[38;5;124;43m\"\u001b[39;49m\u001b[38;5;124;43mdwdw\u001b[39;49m\u001b[38;5;124;43m\"\u001b[39;49m\u001b[43m)\u001b[49m\n",
      "\u001b[0;31mStopIteration\u001b[0m: "
     ]
    }
   ],
   "source": [
    "g.send(\"dwdw\")"
   ]
  },
  {
   "cell_type": "code",
   "execution_count": 19,
   "id": "900ca89d",
   "metadata": {},
   "outputs": [
    {
     "ename": "ValueError",
     "evalue": "err",
     "output_type": "error",
     "traceback": [
      "\u001b[0;31m---------------------------------------------------------------------------\u001b[0m",
      "\u001b[0;31mValueError\u001b[0m                                Traceback (most recent call last)",
      "Cell \u001b[0;32mIn [19], line 1\u001b[0m\n\u001b[0;32m----> 1\u001b[0m \u001b[43mg\u001b[49m\u001b[38;5;241;43m.\u001b[39;49m\u001b[43mthrow\u001b[49m\u001b[43m(\u001b[49m\u001b[38;5;167;43;01mValueError\u001b[39;49;00m\u001b[43m(\u001b[49m\u001b[38;5;124;43m\"\u001b[39;49m\u001b[38;5;124;43merr\u001b[39;49m\u001b[38;5;124;43m\"\u001b[39;49m\u001b[43m)\u001b[49m\u001b[43m)\u001b[49m\n",
      "Cell \u001b[0;32mIn [10], line 4\u001b[0m, in \u001b[0;36mgrep\u001b[0;34m(pattern)\u001b[0m\n\u001b[1;32m      2\u001b[0m \u001b[38;5;28mprint\u001b[39m(\u001b[38;5;124m\"\u001b[39m\u001b[38;5;124mstart grep for\u001b[39m\u001b[38;5;124m\"\u001b[39m, pattern)\n\u001b[1;32m      3\u001b[0m \u001b[38;5;28;01mwhile\u001b[39;00m \u001b[38;5;28;01mTrue\u001b[39;00m:\n\u001b[0;32m----> 4\u001b[0m     s \u001b[38;5;241m=\u001b[39m \u001b[38;5;28;01myield\u001b[39;00m\n\u001b[1;32m      5\u001b[0m     \u001b[38;5;28;01mif\u001b[39;00m pattern \u001b[38;5;129;01min\u001b[39;00m s:\n\u001b[1;32m      6\u001b[0m         \u001b[38;5;28mprint\u001b[39m(\u001b[38;5;124m\"\u001b[39m\u001b[38;5;124mfound!\u001b[39m\u001b[38;5;124m\"\u001b[39m, s)\n",
      "\u001b[0;31mValueError\u001b[0m: err"
     ]
    }
   ],
   "source": [
    "g.throw(ValueError(\"err\"))"
   ]
  },
  {
   "cell_type": "code",
   "execution_count": 20,
   "id": "9158ba95",
   "metadata": {},
   "outputs": [
    {
     "ename": "StopIteration",
     "evalue": "",
     "output_type": "error",
     "traceback": [
      "\u001b[0;31m---------------------------------------------------------------------------\u001b[0m",
      "\u001b[0;31mStopIteration\u001b[0m                             Traceback (most recent call last)",
      "Cell \u001b[0;32mIn [20], line 1\u001b[0m\n\u001b[0;32m----> 1\u001b[0m \u001b[43mg\u001b[49m\u001b[38;5;241;43m.\u001b[39;49m\u001b[43msend\u001b[49m\u001b[43m(\u001b[49m\u001b[38;5;124;43m\"\u001b[39;49m\u001b[38;5;124;43mdwdw\u001b[39;49m\u001b[38;5;124;43m\"\u001b[39;49m\u001b[43m)\u001b[49m\n",
      "\u001b[0;31mStopIteration\u001b[0m: "
     ]
    }
   ],
   "source": [
    "g.send(\"dwdw\")"
   ]
  },
  {
   "cell_type": "code",
   "execution_count": 21,
   "id": "95656de1",
   "metadata": {},
   "outputs": [],
   "source": [
    "import asyncio"
   ]
  },
  {
   "cell_type": "code",
   "execution_count": 22,
   "id": "bd0312bc",
   "metadata": {},
   "outputs": [
    {
     "name": "stderr",
     "output_type": "stream",
     "text": [
      "/var/folders/c1/9wdb7dps2x332c6l1y2hrqkh0000gp/T/ipykernel_36788/905156526.py:2: DeprecationWarning: \"@coroutine\" decorator is deprecated since Python 3.8, use \"async def\" instead\n",
      "  def old_coro():\n"
     ]
    }
   ],
   "source": [
    "@asyncio.coroutine\n",
    "def old_coro():\n",
    "    yield 1\n",
    "    yield 2\n",
    "\n"
   ]
  },
  {
   "cell_type": "code",
   "execution_count": 31,
   "id": "0f71856a",
   "metadata": {},
   "outputs": [],
   "source": [
    "async def countdown(n):\n",
    "    print(f\"start count_{n}\")\n",
    "    for i in range(n):\n",
    "        print(f\"count_{n}: {i}\")\n",
    "        await asyncio.sleep(1)"
   ]
  },
  {
   "cell_type": "code",
   "execution_count": 35,
   "id": "5d380722",
   "metadata": {},
   "outputs": [
    {
     "name": "stderr",
     "output_type": "stream",
     "text": [
      "/var/folders/c1/9wdb7dps2x332c6l1y2hrqkh0000gp/T/ipykernel_36788/2788219470.py:5: RuntimeWarning: coroutine 'countdown' was never awaited\n",
      "  c = countdown(5)\n",
      "RuntimeWarning: Enable tracemalloc to get the object allocation traceback\n"
     ]
    },
    {
     "name": "stdout",
     "output_type": "stream",
     "text": [
      "<coroutine object countdown at 0x10f05fa70>\n",
      "start count_5\n",
      "count_5: 0\n",
      "count_5: 1\n",
      "count_5: 2\n",
      "count_5: 3\n",
      "count_5: 4\n",
      "time 5.004100799560547\n"
     ]
    }
   ],
   "source": [
    "import time\n",
    "\n",
    "t1 = time.time()\n",
    "\n",
    "c = countdown(5)\n",
    "print(c)\n",
    "\n",
    "await c\n",
    "\n",
    "t2 = time.time()\n",
    "print(\"time\", t2 - t1)"
   ]
  },
  {
   "cell_type": "code",
   "execution_count": 36,
   "id": "c092bf8f",
   "metadata": {},
   "outputs": [
    {
     "name": "stdout",
     "output_type": "stream",
     "text": [
      "start count_5\n",
      "count_5: 0\n",
      "count_5: 1\n",
      "count_5: 2\n",
      "count_5: 3\n",
      "count_5: 4\n",
      "start count_6\n",
      "count_6: 0\n",
      "count_6: 1\n",
      "count_6: 2\n",
      "count_6: 3\n",
      "count_6: 4\n",
      "count_6: 5\n",
      "time 11.025007963180542\n"
     ]
    }
   ],
   "source": [
    "t1 = time.time()\n",
    "\n",
    "await countdown(5)\n",
    "await countdown(6)\n",
    "\n",
    "t2 = time.time()\n",
    "print(\"time\", t2 - t1)"
   ]
  },
  {
   "cell_type": "code",
   "execution_count": 40,
   "id": "17a4c1c2",
   "metadata": {},
   "outputs": [
    {
     "name": "stdout",
     "output_type": "stream",
     "text": [
      "created task\n",
      "start count_6\n",
      "count_6: 0\n",
      "start count_5\n",
      "count_5: 0\n",
      "count_6: 1\n",
      "count_5: 1\n",
      "count_6: 2\n",
      "count_5: 2\n",
      "count_6: 3\n",
      "count_5: 3\n",
      "count_6: 4\n",
      "count_5: 4\n",
      "count_6: 5\n",
      "end count 6\n",
      "end task\n",
      "time 6.007227182388306\n"
     ]
    }
   ],
   "source": [
    "t1 = time.time()\n",
    "\n",
    "task1 = asyncio.create_task(countdown(5))\n",
    "print(\"created task\")\n",
    "\n",
    "await countdown(6)\n",
    "print(\"end count 6\")\n",
    "\n",
    "await task1\n",
    "print(\"end task\")\n",
    "\n",
    "t2 = time.time()\n",
    "print(\"time\", t2 - t1)"
   ]
  },
  {
   "cell_type": "code",
   "execution_count": 42,
   "id": "46e615e8",
   "metadata": {},
   "outputs": [
    {
     "name": "stdout",
     "output_type": "stream",
     "text": [
      "created tasks\n",
      "start count_5\n",
      "count_5: 0\n",
      "start count_6\n",
      "count_6: 0\n",
      "start count_3\n",
      "count_3: 0\n",
      "start count_4\n",
      "count_4: 0\n",
      "count_5: 1\n",
      "count_6: 1\n",
      "count_3: 1\n",
      "count_4: 1\n",
      "count_5: 2\n",
      "count_6: 2\n",
      "count_3: 2\n",
      "count_4: 2\n",
      "count_5: 3\n",
      "count_6: 3\n",
      "count_4: 3\n",
      "count_5: 4\n",
      "count_6: 4\n",
      "count_6: 5\n",
      "end gather\n",
      "time 6.007719993591309\n"
     ]
    }
   ],
   "source": [
    "t1 = time.time()\n",
    "\n",
    "tasks = [\n",
    "    asyncio.create_task(countdown(i))\n",
    "    for i in (5, 6, 3, 4)\n",
    "]\n",
    "print(\"created tasks\")\n",
    "\n",
    "await asyncio.gather(*tasks)\n",
    "print(\"end gather\")\n",
    "\n",
    "t2 = time.time()\n",
    "print(\"time\", t2 - t1)"
   ]
  },
  {
   "cell_type": "code",
   "execution_count": 51,
   "id": "96b001e9",
   "metadata": {},
   "outputs": [
    {
     "name": "stdout",
     "output_type": "stream",
     "text": [
      "created tasks\n",
      "start count_5\n",
      "count_5: 0\n",
      "start count_6\n",
      "count_6: 0\n",
      "start count_3\n",
      "count_3: 0\n",
      "start count_4\n",
      "count_4: 0\n",
      "count_5: 1\n",
      "count_6: 1\n",
      "count_3: 1\n",
      "count_4: 1\n",
      "count_5: 2\n",
      "count_6: 2\n",
      "count_3: 2\n",
      "count_4: 2\n",
      "count_5: 3\n",
      "count_6: 3\n",
      "count_4: 3\n",
      "3 <coroutine object as_completed.<locals>._wait_for_one at 0x10f291e00>\n",
      "count_5: 4\n",
      "count_6: 4\n",
      "4 <coroutine object as_completed.<locals>._wait_for_one at 0x10f291d20>\n",
      "count_6: 5\n",
      "5 <coroutine object as_completed.<locals>._wait_for_one at 0x10f291e00>\n",
      "6 <coroutine object as_completed.<locals>._wait_for_one at 0x10f291d20>\n",
      "end gather\n",
      "time 6.008459091186523\n"
     ]
    }
   ],
   "source": [
    "async def countdown(n):\n",
    "    print(f\"start count_{n}\")\n",
    "    for i in range(n):\n",
    "        print(f\"count_{n}: {i}\")\n",
    "        await asyncio.sleep(1)\n",
    "    \n",
    "    return n\n",
    "\n",
    "t1 = time.time()\n",
    "\n",
    "tasks = [\n",
    "    asyncio.create_task(countdown(i))\n",
    "    for i in (5, 6, 3, 4)\n",
    "]\n",
    "print(\"created tasks\")\n",
    "\n",
    "for coro in asyncio.as_completed(tasks):\n",
    "    res = await coro\n",
    "    print(res, coro)\n",
    "\n",
    "print(\"end gather\")\n",
    "\n",
    "t2 = time.time()\n",
    "print(\"time\", t2 - t1)"
   ]
  },
  {
   "cell_type": "code",
   "execution_count": 53,
   "id": "4c266b67",
   "metadata": {},
   "outputs": [
    {
     "name": "stdout",
     "output_type": "stream",
     "text": [
      "created tasks\n",
      "start count_5\n",
      "count_5: 0\n",
      "count_5: 1\n",
      "count_5: 2\n",
      "count_5: 3\n",
      "count_5: 4\n",
      "end gather\n",
      "time 9.0088529586792\n"
     ]
    }
   ],
   "source": [
    "async def countdown(n):\n",
    "    print(f\"start count_{n}\")\n",
    "    for i in range(n):\n",
    "        print(f\"count_{n}: {i}\")\n",
    "        await asyncio.sleep(1)\n",
    "    \n",
    "    return n\n",
    "\n",
    "\n",
    "async def block_coro(n):\n",
    "    time.sleep(n)\n",
    "\n",
    "\n",
    "t1 = time.time()\n",
    "\n",
    "tasks = [\n",
    "    asyncio.create_task(countdown(5)),\n",
    "    asyncio.create_task(block_coro(5)),\n",
    "]\n",
    "print(\"created tasks\")\n",
    "\n",
    "await asyncio.gather(*tasks)\n",
    "\n",
    "print(\"end gather\")\n",
    "\n",
    "t2 = time.time()\n",
    "print(\"time\", t2 - t1)"
   ]
  },
  {
   "cell_type": "code",
   "execution_count": 54,
   "id": "0a7fc901",
   "metadata": {},
   "outputs": [
    {
     "data": {
      "text/plain": [
       "<_UnixSelectorEventLoop running=True closed=False debug=False>"
      ]
     },
     "execution_count": 54,
     "metadata": {},
     "output_type": "execute_result"
    }
   ],
   "source": [
    "asyncio.get_event_loop()"
   ]
  },
  {
   "cell_type": "code",
   "execution_count": null,
   "id": "e4e660e0",
   "metadata": {},
   "outputs": [],
   "source": []
  },
  {
   "cell_type": "code",
   "execution_count": 56,
   "id": "263b9dff",
   "metadata": {},
   "outputs": [
    {
     "name": "stdout",
     "output_type": "stream",
     "text": [
      "Collecting aiohttp\n",
      "  Downloading aiohttp-3.8.3-cp310-cp310-macosx_10_9_x86_64.whl (358 kB)\n",
      "\u001b[K     |████████████████████████████████| 358 kB 1.1 MB/s eta 0:00:01\n",
      "\u001b[?25hCollecting async-timeout<5.0,>=4.0.0a3\n",
      "  Using cached async_timeout-4.0.2-py3-none-any.whl (5.8 kB)\n",
      "Requirement already satisfied: attrs>=17.3.0 in ./.venv/lib/python3.10/site-packages (from aiohttp) (22.1.0)\n",
      "Collecting yarl<2.0,>=1.0\n",
      "  Downloading yarl-1.8.1-cp310-cp310-macosx_10_9_x86_64.whl (61 kB)\n",
      "\u001b[K     |████████████████████████████████| 61 kB 1.1 MB/s eta 0:00:01\n",
      "\u001b[?25hCollecting multidict<7.0,>=4.5\n",
      "  Using cached multidict-6.0.2-cp310-cp310-macosx_10_9_x86_64.whl (28 kB)\n",
      "Collecting charset-normalizer<3.0,>=2.0\n",
      "  Downloading charset_normalizer-2.1.1-py3-none-any.whl (39 kB)\n",
      "Collecting aiosignal>=1.1.2\n",
      "  Using cached aiosignal-1.2.0-py3-none-any.whl (8.2 kB)\n",
      "Collecting frozenlist>=1.1.1\n",
      "  Downloading frozenlist-1.3.1-cp310-cp310-macosx_10_9_x86_64.whl (35 kB)\n",
      "Collecting idna>=2.0\n",
      "  Downloading idna-3.4-py3-none-any.whl (61 kB)\n",
      "\u001b[K     |████████████████████████████████| 61 kB 321 kB/s eta 0:00:01\n",
      "\u001b[?25hInstalling collected packages: multidict, idna, frozenlist, yarl, charset-normalizer, async-timeout, aiosignal, aiohttp\n",
      "Successfully installed aiohttp-3.8.3 aiosignal-1.2.0 async-timeout-4.0.2 charset-normalizer-2.1.1 frozenlist-1.3.1 idna-3.4 multidict-6.0.2 yarl-1.8.1\n",
      "\u001b[33mWARNING: You are using pip version 21.2.4; however, version 22.3 is available.\n",
      "You should consider upgrading via the '/Users/g.kandaurov/projects/deep_python_autumn_2022/.venv/bin/python3 -m pip install --upgrade pip' command.\u001b[0m\n"
     ]
    }
   ],
   "source": [
    "!pip install aiohttp"
   ]
  },
  {
   "cell_type": "code",
   "execution_count": 57,
   "id": "592f3620",
   "metadata": {},
   "outputs": [],
   "source": [
    "import aiohttp"
   ]
  },
  {
   "cell_type": "code",
   "execution_count": null,
   "id": "66addf61",
   "metadata": {},
   "outputs": [],
   "source": []
  },
  {
   "cell_type": "code",
   "execution_count": 86,
   "id": "426ce129",
   "metadata": {},
   "outputs": [
    {
     "name": "stdout",
     "output_type": "stream",
     "text": [
      "time 2.5192630290985107\n"
     ]
    }
   ],
   "source": [
    "URL = \"https://docs.python.org/3/whatsnew/3.11.html\"\n",
    "URLS = [URL] * 50\n",
    "\n",
    "\n",
    "async def fetch(url, session):\n",
    "    async with session.get(url) as resp:\n",
    "        data = await resp.read()\n",
    "        assert resp.status == 200\n",
    "        #print(resp.status, len(data))\n",
    "    \n",
    "\n",
    "async def batch_fetch(urls):\n",
    "    async with aiohttp.ClientSession() as session:\n",
    "        for url in urls:\n",
    "            await fetch(url, session)\n",
    "\n",
    "t1 = time.time()\n",
    "\n",
    "await batch_fetch(URLS)\n",
    "\n",
    "t2 = time.time()\n",
    "print(\"time\", t2 - t1)"
   ]
  },
  {
   "cell_type": "code",
   "execution_count": 79,
   "id": "da68a8d8",
   "metadata": {},
   "outputs": [
    {
     "name": "stdout",
     "output_type": "stream",
     "text": [
      "time 0.5454750061035156\n"
     ]
    }
   ],
   "source": [
    "URL = \"https://docs.python.org/3/whatsnew/3.11.html\"\n",
    "URLS = [URL] * 50\n",
    "\n",
    "\n",
    "async def fetch(url, session, sem):\n",
    "    async with sem:\n",
    "        async with session.get(url) as resp:\n",
    "            data = await resp.read()\n",
    "            assert resp.status == 200\n",
    "            #print(resp.status, len(data))\n",
    "    \n",
    "\n",
    "async def batch_fetch(urls, sem):\n",
    "    async with aiohttp.ClientSession() as session:\n",
    "        tasks = [\n",
    "            asyncio.create_task(fetch(url, session, sem))\n",
    "            for url in urls\n",
    "        ]\n",
    "        await asyncio.gather(*tasks)\n",
    "\n",
    "            \n",
    "t1 = time.time()\n",
    "\n",
    "sem = asyncio.Semaphore(10)\n",
    "await batch_fetch(URLS, sem)\n",
    "\n",
    "t2 = time.time()\n",
    "print(\"time\", t2 - t1)"
   ]
  },
  {
   "cell_type": "code",
   "execution_count": 89,
   "id": "8f791b07",
   "metadata": {},
   "outputs": [
    {
     "name": "stdout",
     "output_type": "stream",
     "text": [
      "time 3.0875022411346436\n",
      "count 50\n"
     ]
    }
   ],
   "source": [
    "URL = \"https://docs.python.org/3/whatsnew/3.11.html\"\n",
    "URLS = [URL] * 50\n",
    "counter = 0\n",
    "\n",
    "\n",
    "async def fetch(session, q):\n",
    "    while True:\n",
    "        url = await q.get()\n",
    "        global counter\n",
    "        counter += 1\n",
    "\n",
    "        try:\n",
    "            async with session.get(url) as resp:\n",
    "                data = await resp.read()\n",
    "                assert resp.status == 200\n",
    "        finally:\n",
    "            q.task_done()\n",
    "    \n",
    "\n",
    "async def batch_fetch(urls, workers=5):\n",
    "    q = asyncio.Queue()\n",
    "    for url in urls:\n",
    "        await q.put(url)\n",
    "\n",
    "    async with aiohttp.ClientSession() as session:\n",
    "        workers = [\n",
    "            asyncio.create_task(fetch(session, q))\n",
    "            for _ in range(workers)\n",
    "        ]\n",
    "        await q.join()\n",
    "        \n",
    "        for w in workers:\n",
    "            w.cancel()\n",
    "\n",
    "\n",
    "t1 = time.time()\n",
    "\n",
    "await batch_fetch(URLS, workers=1)\n",
    "\n",
    "t2 = time.time()\n",
    "print(\"time\", t2 - t1)\n",
    "print(\"count\", counter)"
   ]
  },
  {
   "cell_type": "code",
   "execution_count": 90,
   "id": "dd01f410",
   "metadata": {},
   "outputs": [],
   "source": [
    "event = asyncio.get_event_loop()"
   ]
  },
  {
   "cell_type": "code",
   "execution_count": 91,
   "id": "4ac1ca2f",
   "metadata": {},
   "outputs": [
    {
     "data": {
      "text/plain": [
       "<module 'asyncio.exceptions' from '/Library/Frameworks/Python.framework/Versions/3.10/lib/python3.10/asyncio/exceptions.py'>"
      ]
     },
     "execution_count": 91,
     "metadata": {},
     "output_type": "execute_result"
    }
   ],
   "source": []
  },
  {
   "cell_type": "code",
   "execution_count": null,
   "id": "892fdc05",
   "metadata": {},
   "outputs": [],
   "source": []
  }
 ],
 "metadata": {
  "kernelspec": {
   "display_name": "Python 3 (ipykernel)",
   "language": "python",
   "name": "python3"
  },
  "language_info": {
   "codemirror_mode": {
    "name": "ipython",
    "version": 3
   },
   "file_extension": ".py",
   "mimetype": "text/x-python",
   "name": "python",
   "nbconvert_exporter": "python",
   "pygments_lexer": "ipython3",
   "version": "3.10.2"
  }
 },
 "nbformat": 4,
 "nbformat_minor": 5
}
