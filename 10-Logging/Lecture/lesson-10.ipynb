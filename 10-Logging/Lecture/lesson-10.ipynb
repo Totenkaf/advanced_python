{
 "cells": [
  {
   "cell_type": "code",
   "execution_count": 1,
   "id": "1568b368",
   "metadata": {},
   "source": [
    "import logging\n",
    "\n",
    "\n",
    "logging.basicConfig(\n",
    "    filename=\"example.log\",\n",
    "    level=logging.DEBUG,\n",
    "    format=\"%(asctime)s\\t%(name)s\\t%(levelname)s\\t%(message)s\",\n",
    ")\n",
    "\n",
    "logging.debug(\"This message should go to the log file\")\n",
    "logging.info(\"So should this\")\n",
    "logging.warning(\"And this, too\")\n",
    "\n",
    "\n",
    "logger = logging.getLogger()\n",
    "logger.info(\"logger!!!!!\")"
   ],
   "outputs": []
  },
  {
   "cell_type": "code",
   "execution_count": 5,
   "id": "4459f538",
   "metadata": {},
   "source": [
    "!ls | grep example.log"
   ],
   "outputs": []
  },
  {
   "cell_type": "code",
   "execution_count": 2,
   "id": "2c3767e9",
   "metadata": {},
   "source": [
    "!cat example.log"
   ],
   "outputs": []
  },
  {
   "cell_type": "code",
   "execution_count": null,
   "id": "87865551",
   "metadata": {},
   "source": [
    "logging.FileHandler"
   ],
   "outputs": []
  },
  {
   "cell_type": "code",
   "execution_count": 4,
   "id": "f67e7e83",
   "metadata": {},
   "source": [
    "!rm complex.log simple.log"
   ],
   "outputs": []
  },
  {
   "cell_type": "code",
   "execution_count": 1,
   "id": "999dd8c1",
   "metadata": {},
   "source": [
    "import logging\n",
    "import logging.config\n",
    "\n",
    "\n",
    "log_conf = {\n",
    "    \"version\": 1,\n",
    "    \"formatters\": {\n",
    "        \"simple\": {\n",
    "            \"format\": \"%(name)s\\t%(levelname)s\\t%(message)s\",\n",
    "        },\n",
    "        \"complex\": {\n",
    "            \"format\": \"%(asctime)s\\t%(name)s\\t%(levelname)s\\t%(message)s\",\n",
    "        },\n",
    "    },\n",
    "    \"handlers\": {\n",
    "        \"simple_log\": {\n",
    "            \"level\": \"INFO\",\n",
    "            \"filename\": \"simple.log\",\n",
    "            \"class\": \"logging.FileHandler\",\n",
    "            \"formatter\": \"simple\",\n",
    "        },\n",
    "        \"complex_log\": {\n",
    "            \"level\": \"ERROR\",\n",
    "            \"filename\": \"complex.log\",\n",
    "            \"class\": \"logging.FileHandler\",\n",
    "            \"formatter\": \"complex\",\n",
    "        },\n",
    "    },\n",
    "    \"loggers\": {\n",
    "        \"\": {\n",
    "            \"level\": \"ERROR\",\n",
    "            \"handlers\": [\"simple_log\", \"complex_log\"],\n",
    "        },\n",
    "        \"complex\": {\n",
    "            \"level\": \"ERROR\",\n",
    "            \"handlers\": [\"complex_log\"],\n",
    "        },\n",
    "    },\n",
    "}\n",
    "\n",
    "logging.config.dictConfig(log_conf)\n",
    "\n",
    "\n",
    "root = logging.getLogger()\n",
    "compl = logging.getLogger(\"complex\")\n",
    "\n",
    "\n",
    "def test_log(logger):\n",
    "    logger.debug(\"1111\")\n",
    "    logger.info(\"2222\")\n",
    "    logger.error(\"3333\")\n",
    "\n",
    "\n",
    "test_log(root)\n",
    "test_log(compl)"
   ],
   "outputs": []
  },
  {
   "cell_type": "code",
   "execution_count": 2,
   "id": "a0a0a22e",
   "metadata": {},
   "source": [
    "!cat complex.log"
   ],
   "outputs": []
  },
  {
   "cell_type": "code",
   "execution_count": 3,
   "id": "60cee27b",
   "metadata": {},
   "source": [
    "!cat simple.log"
   ],
   "outputs": []
  },
  {
   "cell_type": "code",
   "execution_count": 2,
   "id": "7be6bbdd",
   "metadata": {},
   "source": [
    "!cat simple.log"
   ],
   "outputs": []
  },
  {
   "cell_type": "code",
   "execution_count": null,
   "id": "f999652e",
   "metadata": {},
   "source": [],
   "outputs": []
  },
  {
   "cell_type": "code",
   "execution_count": null,
   "id": "a22cae78",
   "metadata": {},
   "source": [],
   "outputs": []
  },
  {
   "cell_type": "code",
   "execution_count": 1,
   "id": "77b6e0c2",
   "metadata": {},
   "source": [
    "import logging\n",
    "\n",
    "\n",
    "class StubFilter(logging.Filter):\n",
    "    def filter(self, record):\n",
    "        #import pdb; pdb.set_trace()\n",
    "        return \"stub\" not in record.msg\n",
    "\n",
    "\n",
    "formatter = logging.Formatter(\"%(asctime)s\\t%(name)s\\t%(levelname)s\\t%(message)s\")\n",
    "\n",
    "file_handler = logging.FileHandler(\"f.log\")\n",
    "file_handler.setLevel(logging.DEBUG)\n",
    "file_handler.setFormatter(formatter)\n",
    "file_handler.addFilter(StubFilter())\n",
    "\n",
    "logger = logging.getLogger(\"log\")\n",
    "logger.setLevel(logging.DEBUG)\n",
    "logger.addHandler(file_handler)\n",
    "\n",
    "\n",
    "def test_log(logger):\n",
    "    logger.debug(\"1111\")\n",
    "    logger.info(\"2222\")\n",
    "    logger.error(\"stub 3333\")\n",
    "    logger.error(\"3333\")\n",
    "    \n",
    "\n",
    "test_log(logger)"
   ],
   "outputs": []
  },
  {
   "cell_type": "code",
   "execution_count": 2,
   "id": "2f8f1c29",
   "metadata": {},
   "source": [
    "!cat f.log"
   ],
   "outputs": []
  },
  {
   "cell_type": "code",
   "execution_count": 3,
   "id": "127f811c",
   "metadata": {},
   "source": [
    "!rm f.log"
   ],
   "outputs": []
  },
  {
   "cell_type": "code",
   "execution_count": null,
   "id": "37a8195a",
   "metadata": {},
   "source": [],
   "outputs": []
  },
  {
   "cell_type": "code",
   "execution_count": null,
   "id": "e8657666",
   "metadata": {},
   "source": [],
   "outputs": []
  },
  {
   "cell_type": "code",
   "execution_count": null,
   "id": "f1703a7f",
   "metadata": {},
   "source": [],
   "outputs": []
  },
  {
   "cell_type": "code",
   "execution_count": 2,
   "id": "ec946fa6",
   "metadata": {},
   "source": [
    "import pdb\n",
    "\n",
    "\n",
    "class Engine:\n",
    "    def __init__(self, power, car):\n",
    "        self._power = power\n",
    "        self.car = car\n",
    "\n",
    "    @property\n",
    "    def power(self):\n",
    "        return self._power\n",
    "\n",
    "\n",
    "class Car:\n",
    "    newton_div = 100\n",
    "\n",
    "    def __init__(self, power):\n",
    "        self.engine = Engine(power, self)\n",
    "    \n",
    "    def get_power(self):\n",
    "        power = self.engine.power\n",
    "\n",
    "        return power\n",
    "    \n",
    "    def get_power_in_newtons(self):\n",
    "        power = self.get_power()\n",
    "        \n",
    "        n_power = power / Car.newton_div\n",
    "        \n",
    "        return n_power\n",
    "    \n",
    "\n",
    "honda = Car(42)\n",
    "print(honda.get_power_in_newtons())\n",
    "\n",
    "Car.newton_div = 0\n",
    "\n",
    "\n",
    "def trace_fn():\n",
    "    pdb.set_trace()\n",
    "    x = honda.get_power_in_newtons()\n",
    "    print(x)\n",
    "    \n",
    "\n",
    "trace_fn()"
   ],
   "outputs": []
  },
  {
   "cell_type": "code",
   "execution_count": null,
   "id": "f9665f19",
   "metadata": {},
   "source": [],
   "outputs": []
  },
  {
   "cell_type": "code",
   "execution_count": null,
   "id": "4e04aa35",
   "metadata": {},
   "source": [],
   "outputs": []
  },
  {
   "cell_type": "code",
   "execution_count": 23,
   "id": "24aac28e",
   "metadata": {},
   "source": [
    "import dis\n",
    "\n",
    "\n",
    "def add_nums(a: int, b: int) -> list[int]:\n",
    "    z = a + b\n",
    "    tp = (z, a, b)\n",
    "    lst = map(lambda x: x + 10, tp)\n",
    "    \n",
    "    def inner(x):\n",
    "        return x + 10\n",
    "\n",
    "    return list(lst)\n",
    "\n",
    "\n",
    "print(add_nums(2, 5))"
   ],
   "outputs": []
  },
  {
   "cell_type": "code",
   "execution_count": 13,
   "id": "87318a99",
   "metadata": {},
   "source": [
    "dis.dis(add_nums)"
   ],
   "outputs": []
  },
  {
   "cell_type": "code",
   "execution_count": 6,
   "id": "62bd6bca",
   "metadata": {},
   "source": [
    "dis.dis(\"x = 20\")"
   ],
   "outputs": []
  },
  {
   "cell_type": "code",
   "execution_count": 14,
   "id": "edd779be",
   "metadata": {},
   "source": [
    "dis.show_code(add_nums)"
   ],
   "outputs": []
  },
  {
   "cell_type": "code",
   "execution_count": 18,
   "id": "04dd9f07",
   "metadata": {},
   "source": [
    "def gen():\n",
    "    yield 10\n",
    "    \n",
    "dis.dis(gen)"
   ],
   "outputs": []
  },
  {
   "cell_type": "code",
   "execution_count": null,
   "id": "f86c4e3b",
   "metadata": {},
   "source": [],
   "outputs": []
  },
  {
   "cell_type": "code",
   "execution_count": null,
   "id": "9073ad7a",
   "metadata": {},
   "source": [],
   "outputs": []
  },
  {
   "cell_type": "code",
   "execution_count": 19,
   "id": "b13bfa62",
   "metadata": {},
   "source": [
    "import inspect"
   ],
   "outputs": []
  },
  {
   "cell_type": "code",
   "execution_count": 24,
   "id": "af9fc839",
   "metadata": {},
   "source": [
    "inspect.get_annotations(add_nums)"
   ],
   "outputs": []
  },
  {
   "cell_type": "code",
   "execution_count": 25,
   "id": "f91959d5",
   "metadata": {},
   "source": [
    "add_nums.__annotations__"
   ],
   "outputs": []
  },
  {
   "cell_type": "code",
   "execution_count": 26,
   "id": "a6214bc9",
   "metadata": {},
   "source": [
    "inspect.currentframe()"
   ],
   "outputs": []
  },
  {
   "cell_type": "code",
   "execution_count": 31,
   "id": "fb01f18a",
   "metadata": {},
   "source": [
    "inspect.getframeinfo(inspect.currentframe())"
   ],
   "outputs": []
  },
  {
   "cell_type": "code",
   "execution_count": 36,
   "id": "91e5601c",
   "metadata": {},
   "source": [
    "inspect.isgenerator(gen()), inspect.isgeneratorfunction(gen), inspect.isgenerator(gen)"
   ],
   "outputs": []
  },
  {
   "cell_type": "code",
   "execution_count": 39,
   "id": "feaf44d0",
   "metadata": {},
   "source": [
    "inspect.isfunction(gen), inspect.isfunction(add_nums), inspect.isfunction(Car)"
   ],
   "outputs": []
  },
  {
   "cell_type": "code",
   "execution_count": 40,
   "id": "ac0cefaa",
   "metadata": {},
   "source": [
    "inspect.signature(gen)"
   ],
   "outputs": []
  },
  {
   "cell_type": "code",
   "execution_count": 41,
   "id": "00ee0540",
   "metadata": {},
   "source": [
    "inspect.signature(add_nums)"
   ],
   "outputs": []
  },
  {
   "cell_type": "code",
   "execution_count": 42,
   "id": "92c41988",
   "metadata": {},
   "source": [
    "inspect.signature(Car)"
   ],
   "outputs": []
  },
  {
   "cell_type": "code",
   "execution_count": 43,
   "id": "a0e20eac",
   "metadata": {},
   "source": [
    "HIGH_RATE = 2.1\n",
    "\n",
    "\n",
    "class CamelCase:\n",
    "    def get_name(self):\n",
    "        low_rate = 0.1\n",
    "        return\n",
    "    \n",
    "def fn(y, x=12):\n",
    "    return x\n",
    "\n",
    "\n",
    "fn(y=10, x=15)"
   ],
   "outputs": []
  },
  {
   "cell_type": "code",
   "execution_count": 44,
   "id": "14fd7bc0",
   "metadata": {},
   "source": [
    "from collections import deque, \\\n",
    "     defaultdict"
   ],
   "outputs": []
  },
  {
   "cell_type": "code",
   "execution_count": 45,
   "id": "c87594eb",
   "metadata": {},
   "source": [
    "from collections import (\n",
    "    deque,\n",
    "    defaultdict,\n",
    ")"
   ],
   "outputs": []
  },
  {
   "cell_type": "code",
   "execution_count": 46,
   "id": "e165b751",
   "metadata": {},
   "source": [
    "if (\n",
    "    \"xxxx\"\n",
    "    and \"yyyyy\"\n",
    "    or \"zzzz\"\n",
    "):\n",
    "    print(10)"
   ],
   "outputs": []
  },
  {
   "cell_type": "code",
   "execution_count": null,
   "id": "0bce0b12",
   "metadata": {},
   "source": [
    "with open(\"file1\") as f1:\n",
    "    with open(\"file2\") as f2:\n",
    "        pass"
   ],
   "outputs": []
  },
  {
   "cell_type": "code",
   "execution_count": 47,
   "id": "85852067",
   "metadata": {},
   "source": [
    "with (\n",
    "    open(\"file1\", \"w\") as f1,\n",
    "    open(\"file2\", \"w\") as f2,\n",
    "):\n",
    "    pass"
   ],
   "outputs": []
  },
  {
   "cell_type": "code",
   "execution_count": 48,
   "id": "bd26e9dd",
   "metadata": {},
   "source": [
    "with open(\"file1\", \"w\") as f1, \\\n",
    "     open(\"file2\", \"w\") as f2:\n",
    "    pass"
   ],
   "outputs": []
  },
  {
   "cell_type": "code",
   "execution_count": 49,
   "id": "94401ab7",
   "metadata": {},
   "source": [
    "with open(\n",
    "    \"file1\", \"w\"\n",
    ") as f1, open(\n",
    "    \"file2\", \"w\"\n",
    ") as f2:\n",
    "    pass"
   ],
   "outputs": []
  },
  {
   "cell_type": "code",
   "execution_count": null,
   "id": "e78a2d75",
   "metadata": {},
   "source": [
    "logger = getLoogger(\"\")\n",
    "\n",
    "class LRU:\n",
    "    def __init__(self, logger, capacity):\n",
    "        self.logger = logger\n",
    "        logger.info(capacity)\n",
    "        \n",
    "    def get(self, key):\n",
    "        self.logger.debug(f\"call get({key})\")\n",
    "        \n",
    "        if key in self.__cache:\n",
    "            self.looger.info(\"---\")\n",
    "            \n",
    "            self.update_queue()\n",
    "            returrn self._cache[key]\n",
    "        else:\n",
    "            self.looger.error(\"unknown key\")\n",
    "            return None\n",
    "        \n",
    "def run():\n",
    "    lru = LRU()\n",
    "    lru.get(dwd)\n",
    "    lru.set()\n",
    "    lru.get(dwd)\n",
    "    lru.set()\n",
    "    lru.get(dwd)\n",
    "    lru.set()\n",
    "\n",
    "    \n",
    "if __name__ == \"__main__\":\n",
    "    run()"
   ],
   "outputs": []
  },
  {
   "cell_type": "code",
   "execution_count": null,
   "id": "fe53f2a7",
   "metadata": {},
   "source": [
    "from unittest.mock import "
   ],
   "outputs": []
  }
 ],
 "metadata": {
  "kernelspec": {
   "display_name": "Python 3 (ipykernel)",
   "language": "python",
   "name": "python3"
  },
  "language_info": {
   "codemirror_mode": {
    "name": "ipython",
    "version": 3
   },
   "file_extension": ".py",
   "mimetype": "text/x-python",
   "name": "python",
   "nbconvert_exporter": "python",
   "pygments_lexer": "ipython3",
   "version": "3.10.2"
  }
 },
 "nbformat": 4,
 "nbformat_minor": 5
}
