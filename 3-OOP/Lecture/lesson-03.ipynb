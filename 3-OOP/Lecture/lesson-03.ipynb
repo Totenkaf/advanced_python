{
 "cells": [
  {
   "cell_type": "code",
   "execution_count": 53,
   "id": "dea8eaa3",
   "metadata": {},
   "outputs": [
    {
     "name": "stdout",
     "output_type": "stream",
     "text": [
      "self.val=10, self._protected='protected', self.__private='private', self.name='cls_name', self.__cls_private='cls_private'\n",
      "self.val=10, self._protected='protected', self.__private='private', self.name='cls_name', self.__cls_private='cls_private'\n"
     ]
    }
   ],
   "source": [
    "class AAA:\n",
    "    name = \"cls_name\"\n",
    "    __cls_private = \"cls_private\"\n",
    "\n",
    "    def __init__(self, val):\n",
    "        self.val = val\n",
    "        self._protected = \"protected\"\n",
    "        self.__private = \"private\"\n",
    "\n",
    "    def print(self):\n",
    "        print(\n",
    "            f\"{self.val=}, {self._protected=}, {self.__private=}, \"\n",
    "            f\"{self.name=}, {self.__cls_private=}\"\n",
    "        )\n",
    "\n",
    "    def update_name(self, name):\n",
    "        self.name = name\n",
    "    \n",
    "    def update_class_name(self, name):\n",
    "        AAA.name = name\n",
    "        \n",
    "    def update_class_name_magic(self, name):\n",
    "        self.__class__.name = name\n",
    "\n",
    "        \n",
    "\n",
    "a = AAA(10)\n",
    "a.print()\n",
    "AAA.print(a)"
   ]
  },
  {
   "cell_type": "code",
   "execution_count": null,
   "id": "243249e3",
   "metadata": {},
   "outputs": [],
   "source": []
  },
  {
   "cell_type": "code",
   "execution_count": null,
   "id": "0829bb92",
   "metadata": {},
   "outputs": [],
   "source": []
  },
  {
   "cell_type": "code",
   "execution_count": 57,
   "id": "84469cba",
   "metadata": {},
   "outputs": [
    {
     "data": {
      "text/plain": [
       "('new_name', 'cls_private')"
      ]
     },
     "execution_count": 57,
     "metadata": {},
     "output_type": "execute_result"
    }
   ],
   "source": [
    "AAA.name, AAA._AAA__cls_private"
   ]
  },
  {
   "cell_type": "code",
   "execution_count": 55,
   "id": "bc7dd57e",
   "metadata": {},
   "outputs": [
    {
     "ename": "AttributeError",
     "evalue": "type object 'AAA' has no attribute '__cls_private'",
     "output_type": "error",
     "traceback": [
      "\u001b[0;31m---------------------------------------------------------------------------\u001b[0m",
      "\u001b[0;31mAttributeError\u001b[0m                            Traceback (most recent call last)",
      "Cell \u001b[0;32mIn [55], line 1\u001b[0m\n\u001b[0;32m----> 1\u001b[0m \u001b[43mAAA\u001b[49m\u001b[38;5;241;43m.\u001b[39;49m\u001b[43m__cls_private\u001b[49m\n",
      "\u001b[0;31mAttributeError\u001b[0m: type object 'AAA' has no attribute '__cls_private'"
     ]
    }
   ],
   "source": [
    "AAA.__cls_private"
   ]
  },
  {
   "cell_type": "code",
   "execution_count": null,
   "id": "b6882751",
   "metadata": {},
   "outputs": [],
   "source": []
  },
  {
   "cell_type": "code",
   "execution_count": 41,
   "id": "c3535845",
   "metadata": {},
   "outputs": [
    {
     "name": "stdout",
     "output_type": "stream",
     "text": [
      "cls_name cls_name\n",
      "cls_name new_name\n"
     ]
    }
   ],
   "source": [
    "print(AAA.name, a.name)\n",
    "\n",
    "a.update_name(\"new_name\")\n",
    "\n",
    "print(AAA.name, a.name)"
   ]
  },
  {
   "cell_type": "code",
   "execution_count": 43,
   "id": "2bdeb8d5",
   "metadata": {},
   "outputs": [
    {
     "name": "stdout",
     "output_type": "stream",
     "text": [
      "cls_name cls_name\n",
      "new_name new_name\n"
     ]
    }
   ],
   "source": [
    "print(AAA.name, a.name)\n",
    "\n",
    "a.update_class_name(\"new_name\")\n",
    "\n",
    "print(AAA.name, a.name)"
   ]
  },
  {
   "cell_type": "code",
   "execution_count": 54,
   "id": "9f139784",
   "metadata": {},
   "outputs": [
    {
     "name": "stdout",
     "output_type": "stream",
     "text": [
      "cls_name cls_name\n",
      "new_name new_name\n"
     ]
    }
   ],
   "source": [
    "print(AAA.name, a.name)\n",
    "\n",
    "a.update_class_name_magic(\"new_name\")\n",
    "\n",
    "print(AAA.name, a.name)"
   ]
  },
  {
   "cell_type": "code",
   "execution_count": null,
   "id": "204e867b",
   "metadata": {},
   "outputs": [],
   "source": []
  },
  {
   "cell_type": "code",
   "execution_count": 19,
   "id": "fd514143",
   "metadata": {},
   "outputs": [
    {
     "data": {
      "text/plain": [
       "'updated_name'"
      ]
     },
     "execution_count": 19,
     "metadata": {},
     "output_type": "execute_result"
    }
   ],
   "source": [
    "AAA.name = \"updated_name\"\n",
    "AAA.name"
   ]
  },
  {
   "cell_type": "code",
   "execution_count": 21,
   "id": "49f6813c",
   "metadata": {},
   "outputs": [
    {
     "data": {
      "text/plain": [
       "<__main__.AAA at 0x112bbbfa0>"
      ]
     },
     "execution_count": 21,
     "metadata": {},
     "output_type": "execute_result"
    }
   ],
   "source": [
    "a"
   ]
  },
  {
   "cell_type": "code",
   "execution_count": 22,
   "id": "22fdc596",
   "metadata": {},
   "outputs": [
    {
     "data": {
      "text/plain": [
       "4609261472"
      ]
     },
     "execution_count": 22,
     "metadata": {},
     "output_type": "execute_result"
    }
   ],
   "source": [
    "id(a)"
   ]
  },
  {
   "cell_type": "code",
   "execution_count": 24,
   "id": "66d10a3d",
   "metadata": {},
   "outputs": [
    {
     "data": {
      "text/plain": [
       "4609261472"
      ]
     },
     "execution_count": 24,
     "metadata": {},
     "output_type": "execute_result"
    }
   ],
   "source": [
    "int(0x112bbbfa0)"
   ]
  },
  {
   "cell_type": "code",
   "execution_count": 25,
   "id": "3516d6d0",
   "metadata": {},
   "outputs": [
    {
     "data": {
      "text/plain": [
       "4610723984"
      ]
     },
     "execution_count": 25,
     "metadata": {},
     "output_type": "execute_result"
    }
   ],
   "source": [
    "b = AAA(20)\n",
    "id(b)"
   ]
  },
  {
   "cell_type": "code",
   "execution_count": 29,
   "id": "b1c179a2",
   "metadata": {},
   "outputs": [
    {
     "name": "stdout",
     "output_type": "stream",
     "text": [
      "10 protected\n",
      "42 updated_protected\n"
     ]
    }
   ],
   "source": [
    "print(a.val, a._protected)\n",
    "\n",
    "a.val = \"42\"\n",
    "a._protected = \"updated_protected\"\n",
    "\n",
    "print(a.val, a._protected)"
   ]
  },
  {
   "cell_type": "code",
   "execution_count": 34,
   "id": "cb09be0c",
   "metadata": {},
   "outputs": [
    {
     "ename": "AttributeError",
     "evalue": "'AAA' object has no attribute '__private'",
     "output_type": "error",
     "traceback": [
      "\u001b[0;31m---------------------------------------------------------------------------\u001b[0m",
      "\u001b[0;31mAttributeError\u001b[0m                            Traceback (most recent call last)",
      "Cell \u001b[0;32mIn [34], line 1\u001b[0m\n\u001b[0;32m----> 1\u001b[0m \u001b[43ma\u001b[49m\u001b[38;5;241;43m.\u001b[39;49m\u001b[43m__private\u001b[49m\n",
      "\u001b[0;31mAttributeError\u001b[0m: 'AAA' object has no attribute '__private'"
     ]
    }
   ],
   "source": [
    "a.__private"
   ]
  },
  {
   "cell_type": "code",
   "execution_count": 33,
   "id": "bc068337",
   "metadata": {},
   "outputs": [
    {
     "data": {
      "text/plain": [
       "'private'"
      ]
     },
     "execution_count": 33,
     "metadata": {},
     "output_type": "execute_result"
    }
   ],
   "source": [
    "a._AAA__private"
   ]
  },
  {
   "cell_type": "code",
   "execution_count": null,
   "id": "423b31df",
   "metadata": {},
   "outputs": [],
   "source": []
  },
  {
   "cell_type": "code",
   "execution_count": null,
   "id": "e01113de",
   "metadata": {},
   "outputs": [],
   "source": []
  },
  {
   "cell_type": "code",
   "execution_count": null,
   "id": "fe5088d1",
   "metadata": {},
   "outputs": [],
   "source": []
  },
  {
   "cell_type": "code",
   "execution_count": null,
   "id": "5a576cb2",
   "metadata": {},
   "outputs": [],
   "source": []
  },
  {
   "cell_type": "code",
   "execution_count": null,
   "id": "32218ad4",
   "metadata": {},
   "outputs": [],
   "source": []
  },
  {
   "cell_type": "code",
   "execution_count": null,
   "id": "81fc3e08",
   "metadata": {},
   "outputs": [],
   "source": []
  },
  {
   "cell_type": "code",
   "execution_count": 59,
   "id": "44704a3b",
   "metadata": {},
   "outputs": [
    {
     "name": "stdout",
     "output_type": "stream",
     "text": [
      "f.__name__='add'\n",
      "f.__name__='add2'\n"
     ]
    },
    {
     "data": {
      "text/plain": [
       "3"
      ]
     },
     "execution_count": 59,
     "metadata": {},
     "output_type": "execute_result"
    }
   ],
   "source": [
    "def deco(f):\n",
    "    def inner(*args, **kwargs):\n",
    "        print(f\"{f.__name__=}\")\n",
    "        return f(*args, **kwargs)\n",
    "    return inner\n",
    "\n",
    "\n",
    "@deco\n",
    "def add(a, b):\n",
    "    return a + b\n",
    "\n",
    "\n",
    "def add2(a, b):\n",
    "    return a + b\n",
    "add2 = deco(add2)\n",
    "\n",
    "\n",
    "add(1, 2)\n",
    "add2(1, 2)"
   ]
  },
  {
   "cell_type": "code",
   "execution_count": null,
   "id": "bd3ca708",
   "metadata": {},
   "outputs": [],
   "source": []
  },
  {
   "cell_type": "code",
   "execution_count": null,
   "id": "4e2b2450",
   "metadata": {},
   "outputs": [],
   "source": []
  },
  {
   "cell_type": "code",
   "execution_count": null,
   "id": "7c4581fe",
   "metadata": {},
   "outputs": [],
   "source": []
  },
  {
   "cell_type": "code",
   "execution_count": 64,
   "id": "424d3eaa",
   "metadata": {},
   "outputs": [],
   "source": [
    "class Author:\n",
    "    def __init__(self, name):\n",
    "        self.name = name\n",
    "        \n",
    "    def get_name(self):\n",
    "        return self.__name\n",
    "    \n",
    "    def set_name(self, val):\n",
    "        self.__name = val\n",
    "        \n",
    "    def del_name(self):\n",
    "        print('delete name')\n",
    "        del self.__name\n",
    "        \n",
    "    name = property(\n",
    "        get_name,\n",
    "        set_name,\n",
    "        del_name,\n",
    "        \"name doc\",\n",
    "    )"
   ]
  },
  {
   "cell_type": "code",
   "execution_count": 65,
   "id": "1f07cb2e",
   "metadata": {},
   "outputs": [
    {
     "name": "stdout",
     "output_type": "stream",
     "text": [
      "U\n",
      "Erlend U\n",
      "delete name\n"
     ]
    }
   ],
   "source": [
    "a = Author(\"U\")\n",
    "print(a.name)\n",
    "a.name = \"Erlend U\"\n",
    "print(a.name)\n",
    "\n",
    "del a.name"
   ]
  },
  {
   "cell_type": "code",
   "execution_count": 66,
   "id": "523445a0",
   "metadata": {},
   "outputs": [
    {
     "ename": "AttributeError",
     "evalue": "'Author' object has no attribute '_Author__name'",
     "output_type": "error",
     "traceback": [
      "\u001b[0;31m---------------------------------------------------------------------------\u001b[0m",
      "\u001b[0;31mAttributeError\u001b[0m                            Traceback (most recent call last)",
      "Cell \u001b[0;32mIn [66], line 1\u001b[0m\n\u001b[0;32m----> 1\u001b[0m \u001b[43ma\u001b[49m\u001b[38;5;241;43m.\u001b[39;49m\u001b[43mname\u001b[49m\n",
      "Cell \u001b[0;32mIn [64], line 6\u001b[0m, in \u001b[0;36mAuthor.get_name\u001b[0;34m(self)\u001b[0m\n\u001b[1;32m      5\u001b[0m \u001b[38;5;28;01mdef\u001b[39;00m \u001b[38;5;21mget_name\u001b[39m(\u001b[38;5;28mself\u001b[39m):\n\u001b[0;32m----> 6\u001b[0m     \u001b[38;5;28;01mreturn\u001b[39;00m \u001b[38;5;28;43mself\u001b[39;49m\u001b[38;5;241;43m.\u001b[39;49m\u001b[43m__name\u001b[49m\n",
      "\u001b[0;31mAttributeError\u001b[0m: 'Author' object has no attribute '_Author__name'"
     ]
    }
   ],
   "source": [
    "a.name"
   ]
  },
  {
   "cell_type": "code",
   "execution_count": null,
   "id": "5a0639f2",
   "metadata": {},
   "outputs": [],
   "source": []
  },
  {
   "cell_type": "code",
   "execution_count": null,
   "id": "cf2730b8",
   "metadata": {},
   "outputs": [],
   "source": []
  },
  {
   "cell_type": "code",
   "execution_count": 88,
   "id": "0dc3b8eb",
   "metadata": {},
   "outputs": [],
   "source": [
    "class Author:\n",
    "    def __init__(self, name):\n",
    "        self.name = name\n",
    "        #self.__b = 0 -> _Author__b\n",
    "    \n",
    "    def print_b(self):\n",
    "        print(f\"{self.__b=}\")\n",
    "\n",
    "    @property\n",
    "    def name(self):\n",
    "        \"\"\"name doc\"\"\"\n",
    "        return self.__name\n",
    "\n",
    "    @name.setter\n",
    "    def name(self, val):\n",
    "        self.__name = val\n",
    "        \n",
    "    @name.deleter\n",
    "    def name(self):\n",
    "        print(\"delete name\")\n",
    "        del self.__name\n",
    "        "
   ]
  },
  {
   "cell_type": "code",
   "execution_count": 76,
   "id": "3ff95dab",
   "metadata": {},
   "outputs": [
    {
     "name": "stdout",
     "output_type": "stream",
     "text": [
      "U\n",
      "Erlend U\n"
     ]
    }
   ],
   "source": [
    "a = Author(\"U\")\n",
    "print(a.name)\n",
    "a.name = \"Erlend U\"\n",
    "print(a.name)\n",
    "\n",
    "# del a.name"
   ]
  },
  {
   "cell_type": "code",
   "execution_count": 69,
   "id": "315c8920",
   "metadata": {},
   "outputs": [
    {
     "ename": "AttributeError",
     "evalue": "'Author' object has no attribute '_Author__name'",
     "output_type": "error",
     "traceback": [
      "\u001b[0;31m---------------------------------------------------------------------------\u001b[0m",
      "\u001b[0;31mAttributeError\u001b[0m                            Traceback (most recent call last)",
      "Cell \u001b[0;32mIn [69], line 1\u001b[0m\n\u001b[0;32m----> 1\u001b[0m \u001b[43ma\u001b[49m\u001b[38;5;241;43m.\u001b[39;49m\u001b[43mname\u001b[49m\n",
      "Cell \u001b[0;32mIn [67], line 8\u001b[0m, in \u001b[0;36mAuthor.name\u001b[0;34m(self)\u001b[0m\n\u001b[1;32m      5\u001b[0m \u001b[38;5;129m@property\u001b[39m\n\u001b[1;32m      6\u001b[0m \u001b[38;5;28;01mdef\u001b[39;00m \u001b[38;5;21mname\u001b[39m(\u001b[38;5;28mself\u001b[39m):\n\u001b[1;32m      7\u001b[0m     \u001b[38;5;124;03m\"\"\"name doc\"\"\"\u001b[39;00m\n\u001b[0;32m----> 8\u001b[0m     \u001b[38;5;28;01mreturn\u001b[39;00m \u001b[38;5;28;43mself\u001b[39;49m\u001b[38;5;241;43m.\u001b[39;49m\u001b[43m__name\u001b[49m\n",
      "\u001b[0;31mAttributeError\u001b[0m: 'Author' object has no attribute '_Author__name'"
     ]
    }
   ],
   "source": [
    "a.name"
   ]
  },
  {
   "cell_type": "code",
   "execution_count": 80,
   "id": "0f002df2",
   "metadata": {},
   "outputs": [],
   "source": [
    "a.__b = \"BB\""
   ]
  },
  {
   "cell_type": "code",
   "execution_count": 81,
   "id": "8df32545",
   "metadata": {},
   "outputs": [
    {
     "data": {
      "text/plain": [
       "'BB'"
      ]
     },
     "execution_count": 81,
     "metadata": {},
     "output_type": "execute_result"
    }
   ],
   "source": [
    "a.__b"
   ]
  },
  {
   "cell_type": "code",
   "execution_count": 82,
   "id": "5de623bf",
   "metadata": {},
   "outputs": [
    {
     "ename": "AttributeError",
     "evalue": "'Author' object has no attribute '_Author__b'",
     "output_type": "error",
     "traceback": [
      "\u001b[0;31m---------------------------------------------------------------------------\u001b[0m",
      "\u001b[0;31mAttributeError\u001b[0m                            Traceback (most recent call last)",
      "Cell \u001b[0;32mIn [82], line 1\u001b[0m\n\u001b[0;32m----> 1\u001b[0m \u001b[43ma\u001b[49m\u001b[38;5;241;43m.\u001b[39;49m\u001b[43m_Author__b\u001b[49m\n",
      "\u001b[0;31mAttributeError\u001b[0m: 'Author' object has no attribute '_Author__b'"
     ]
    }
   ],
   "source": [
    "a._Author__b"
   ]
  },
  {
   "cell_type": "code",
   "execution_count": 89,
   "id": "3feac630",
   "metadata": {},
   "outputs": [
    {
     "name": "stdout",
     "output_type": "stream",
     "text": [
      "self.__b='BBB'\n"
     ]
    }
   ],
   "source": [
    "a = Author(\"U\")\n",
    "\n",
    "a._Author__b = \"BBB\"\n",
    "\n",
    "a.print_b()"
   ]
  },
  {
   "cell_type": "code",
   "execution_count": 90,
   "id": "e131124e",
   "metadata": {},
   "outputs": [
    {
     "ename": "AttributeError",
     "evalue": "'Author' object has no attribute '__b'",
     "output_type": "error",
     "traceback": [
      "\u001b[0;31m---------------------------------------------------------------------------\u001b[0m",
      "\u001b[0;31mAttributeError\u001b[0m                            Traceback (most recent call last)",
      "Cell \u001b[0;32mIn [90], line 1\u001b[0m\n\u001b[0;32m----> 1\u001b[0m \u001b[43ma\u001b[49m\u001b[38;5;241;43m.\u001b[39;49m\u001b[43m__b\u001b[49m\n",
      "\u001b[0;31mAttributeError\u001b[0m: 'Author' object has no attribute '__b'"
     ]
    }
   ],
   "source": [
    "a.__b"
   ]
  },
  {
   "cell_type": "code",
   "execution_count": null,
   "id": "e453e70d",
   "metadata": {},
   "outputs": [],
   "source": []
  },
  {
   "cell_type": "code",
   "execution_count": null,
   "id": "cf6aa073",
   "metadata": {},
   "outputs": [],
   "source": []
  },
  {
   "cell_type": "code",
   "execution_count": null,
   "id": "fd1fc4ff",
   "metadata": {},
   "outputs": [],
   "source": []
  },
  {
   "cell_type": "code",
   "execution_count": 96,
   "id": "2c8d4441",
   "metadata": {},
   "outputs": [],
   "source": [
    "class Storage:\n",
    "    def __init__(self, name, password):\n",
    "        self.__name = name\n",
    "        self.password_hash = None\n",
    "        self.password = password\n",
    "\n",
    "    @property\n",
    "    def name(self):\n",
    "        \"\"\"name is read-only\"\"\"\n",
    "        return self.__name\n",
    "    \n",
    "    @property\n",
    "    def password(self):\n",
    "        raise AttributeError(\"Password is write-only\")\n",
    "\n",
    "    @password.setter\n",
    "    def password(self, plaintext):\n",
    "        self.password_hash = make_hash_from_password(plaintext)"
   ]
  },
  {
   "cell_type": "code",
   "execution_count": 97,
   "id": "56d1b7c8",
   "metadata": {},
   "outputs": [
    {
     "name": "stdout",
     "output_type": "stream",
     "text": [
      "U 123\n"
     ]
    }
   ],
   "source": [
    "s = Storage(\"U\", \"123\")\n",
    "\n",
    "print(s.name, s.password_hash)"
   ]
  },
  {
   "cell_type": "code",
   "execution_count": 98,
   "id": "86a0fe34",
   "metadata": {},
   "outputs": [
    {
     "ename": "AttributeError",
     "evalue": "can't set attribute 'name'",
     "output_type": "error",
     "traceback": [
      "\u001b[0;31m---------------------------------------------------------------------------\u001b[0m",
      "\u001b[0;31mAttributeError\u001b[0m                            Traceback (most recent call last)",
      "Cell \u001b[0;32mIn [98], line 1\u001b[0m\n\u001b[0;32m----> 1\u001b[0m \u001b[43ms\u001b[49m\u001b[38;5;241;43m.\u001b[39;49m\u001b[43mname\u001b[49m \u001b[38;5;241m=\u001b[39m \u001b[38;5;124m\"\u001b[39m\u001b[38;5;124mNEW NAME\u001b[39m\u001b[38;5;124m\"\u001b[39m\n",
      "\u001b[0;31mAttributeError\u001b[0m: can't set attribute 'name'"
     ]
    }
   ],
   "source": [
    "s.name = \"NEW NAME\""
   ]
  },
  {
   "cell_type": "code",
   "execution_count": 100,
   "id": "d5ac7f31",
   "metadata": {},
   "outputs": [
    {
     "ename": "AttributeError",
     "evalue": "Password is write-only",
     "output_type": "error",
     "traceback": [
      "\u001b[0;31m---------------------------------------------------------------------------\u001b[0m",
      "\u001b[0;31mAttributeError\u001b[0m                            Traceback (most recent call last)",
      "Cell \u001b[0;32mIn [100], line 1\u001b[0m\n\u001b[0;32m----> 1\u001b[0m \u001b[43ms\u001b[49m\u001b[38;5;241;43m.\u001b[39;49m\u001b[43mpassword\u001b[49m\n",
      "Cell \u001b[0;32mIn [96], line 14\u001b[0m, in \u001b[0;36mStorage.password\u001b[0;34m(self)\u001b[0m\n\u001b[1;32m     12\u001b[0m \u001b[38;5;129m@property\u001b[39m\n\u001b[1;32m     13\u001b[0m \u001b[38;5;28;01mdef\u001b[39;00m \u001b[38;5;21mpassword\u001b[39m(\u001b[38;5;28mself\u001b[39m):\n\u001b[0;32m---> 14\u001b[0m     \u001b[38;5;28;01mraise\u001b[39;00m \u001b[38;5;167;01mAttributeError\u001b[39;00m(\u001b[38;5;124m\"\u001b[39m\u001b[38;5;124mPassword is write-only\u001b[39m\u001b[38;5;124m\"\u001b[39m)\n",
      "\u001b[0;31mAttributeError\u001b[0m: Password is write-only"
     ]
    }
   ],
   "source": [
    "s.password"
   ]
  },
  {
   "cell_type": "code",
   "execution_count": 101,
   "id": "c52a9320",
   "metadata": {},
   "outputs": [
    {
     "name": "stdout",
     "output_type": "stream",
     "text": [
      "new_pass\n"
     ]
    }
   ],
   "source": [
    "s.password = \"new_pass\"\n",
    "print(s.password_hash)"
   ]
  },
  {
   "cell_type": "code",
   "execution_count": null,
   "id": "81fc31e7",
   "metadata": {},
   "outputs": [],
   "source": []
  },
  {
   "cell_type": "code",
   "execution_count": null,
   "id": "aabf5cf3",
   "metadata": {},
   "outputs": [],
   "source": []
  },
  {
   "cell_type": "code",
   "execution_count": null,
   "id": "491466ec",
   "metadata": {},
   "outputs": [],
   "source": []
  },
  {
   "cell_type": "code",
   "execution_count": null,
   "id": "13aaac41",
   "metadata": {},
   "outputs": [],
   "source": []
  },
  {
   "cell_type": "code",
   "execution_count": 115,
   "id": "25214ddf",
   "metadata": {},
   "outputs": [],
   "source": [
    "class A:\n",
    "    @staticmethod\n",
    "    def print_static():\n",
    "        print(\"static\")\n",
    "\n",
    "    @classmethod\n",
    "    def print_cls(cls):\n",
    "        print(f\"class_method for {cls.__name__}, {cls=}\")\n",
    "        \n",
    "    @classmethod\n",
    "    def init_author(cls, name):\n",
    "        return cls(name=name)\n",
    "\n",
    "    @classmethod\n",
    "    def init_student(cls, age):\n",
    "        return cls(age=age)\n",
    "        \n",
    "    def __init__(self, name=\"\", age=0):\n",
    "        self.name = name\n",
    "        self.age = age\n",
    "        \n",
    "#     def print_offset(self, offset=10):\n",
    "#         print(self.val + offset)\n",
    "    \n",
    "    def __str__(self):\n",
    "        return f\"{self.name=}, {self.age=}\"\n",
    "#         return f\"{self.__class__.__name__}:val={self.val}\"\n",
    "\n",
    "class B(A):\n",
    "    pass"
   ]
  },
  {
   "cell_type": "code",
   "execution_count": 109,
   "id": "3e30dde6",
   "metadata": {},
   "outputs": [],
   "source": [
    "a = A()\n",
    "a = A(\"U\", 18)\n"
   ]
  },
  {
   "cell_type": "code",
   "execution_count": 110,
   "id": "95c4015e",
   "metadata": {},
   "outputs": [
    {
     "name": "stdout",
     "output_type": "stream",
     "text": [
      "self.name='U', self.age=0\n",
      "self.name='', self.age=42\n"
     ]
    }
   ],
   "source": [
    "a = A.init_author(\"U\")\n",
    "print(a)\n",
    "\n",
    "b = A.init_student(42)\n",
    "print(b)"
   ]
  },
  {
   "cell_type": "code",
   "execution_count": 111,
   "id": "31942ef2",
   "metadata": {},
   "outputs": [
    {
     "name": "stdout",
     "output_type": "stream",
     "text": [
      "class_method for A, cls=<class '__main__.A'>\n",
      "class_method for A, cls=<class '__main__.A'>\n"
     ]
    }
   ],
   "source": [
    "A.print_cls()\n",
    "a.print_cls()"
   ]
  },
  {
   "cell_type": "code",
   "execution_count": 113,
   "id": "b7773c2e",
   "metadata": {},
   "outputs": [
    {
     "name": "stdout",
     "output_type": "stream",
     "text": [
      "static\n",
      "static\n"
     ]
    }
   ],
   "source": [
    "A.print_static()\n",
    "a.print_static()"
   ]
  },
  {
   "cell_type": "code",
   "execution_count": 117,
   "id": "2c9a47b3",
   "metadata": {},
   "outputs": [
    {
     "name": "stdout",
     "output_type": "stream",
     "text": [
      "class_method for B, cls=<class '__main__.B'>\n",
      "class_method for B, cls=<class '__main__.B'>\n"
     ]
    }
   ],
   "source": [
    "B.print_cls()\n",
    "b = B()\n",
    "b.print_cls()"
   ]
  },
  {
   "cell_type": "code",
   "execution_count": null,
   "id": "bdc5550c",
   "metadata": {},
   "outputs": [],
   "source": []
  }
 ],
 "metadata": {
  "kernelspec": {
   "display_name": "Python 3 (ipykernel)",
   "language": "python",
   "name": "python3"
  },
  "language_info": {
   "codemirror_mode": {
    "name": "ipython",
    "version": 3
   },
   "file_extension": ".py",
   "mimetype": "text/x-python",
   "name": "python",
   "nbconvert_exporter": "python",
   "pygments_lexer": "ipython3",
   "version": "3.10.2"
  }
 },
 "nbformat": 4,
 "nbformat_minor": 5
}
