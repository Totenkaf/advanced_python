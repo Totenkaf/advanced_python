{
 "cells": [
  {
   "cell_type": "code",
   "execution_count": 1,
   "id": "a943303c",
   "metadata": {},
   "outputs": [],
   "source": [
    "import threading"
   ]
  },
  {
   "cell_type": "code",
   "execution_count": 18,
   "id": "50058027",
   "metadata": {},
   "outputs": [
    {
     "name": "stdout",
     "output_type": "stream",
     "text": [
      "startbefore\n",
      "\n",
      "<Thread(counter_example, started 123145611214848)> counter_example True False 123145611214848 13315028\n",
      "after\n"
     ]
    }
   ],
   "source": [
    "def counter(n):\n",
    "    print(\"start\")\n",
    "    th = threading.current_thread()\n",
    "    print(th, th.name, th.is_alive(), th.daemon, th.ident, th.native_id)\n",
    "    while n > 0:\n",
    "        n -= 1\n",
    "\n",
    "        \n",
    "th = threading.Thread(\n",
    "    target=counter,\n",
    "    args=(100000000,),\n",
    "    name=\"counter_example\"\n",
    ")\n",
    "th.start()\n",
    "print(\"before\")\n",
    "th.join()\n",
    "print(\"after\")\n",
    "\n",
    "\n",
    "# counter(*args, **kwargs)"
   ]
  },
  {
   "cell_type": "code",
   "execution_count": 11,
   "id": "79f7cbb8",
   "metadata": {},
   "outputs": [
    {
     "data": {
      "text/plain": [
       "8"
      ]
     },
     "execution_count": 11,
     "metadata": {},
     "output_type": "execute_result"
    }
   ],
   "source": [
    "threading.active_count()"
   ]
  },
  {
   "cell_type": "code",
   "execution_count": 13,
   "id": "0e435ca1",
   "metadata": {},
   "outputs": [
    {
     "data": {
      "text/plain": [
       "(<_MainThread(MainThread, started 4560991744)>, 'MainThread')"
      ]
     },
     "execution_count": 13,
     "metadata": {},
     "output_type": "execute_result"
    }
   ],
   "source": [
    "threading.current_thread(), threading.current_thread().name"
   ]
  },
  {
   "cell_type": "code",
   "execution_count": 14,
   "id": "f33c1ffa",
   "metadata": {},
   "outputs": [
    {
     "data": {
      "text/plain": [
       "[<_MainThread(MainThread, started 4560991744)>,\n",
       " <Thread(IOPub, started daemon 123145492078592)>,\n",
       " <Heartbeat(Heartbeat, started daemon 123145508868096)>,\n",
       " <Thread(Thread-3 (_watch_pipe_fd), started daemon 123145526730752)>,\n",
       " <Thread(Thread-4 (_watch_pipe_fd), started daemon 123145543520256)>,\n",
       " <ControlThread(Control, started daemon 123145560309760)>,\n",
       " <HistorySavingThread(IPythonHistorySavingThread, started 123145577099264)>,\n",
       " <ParentPollerUnix(Thread-2, started daemon 123145594425344)>]"
      ]
     },
     "execution_count": 14,
     "metadata": {},
     "output_type": "execute_result"
    }
   ],
   "source": [
    "threading.enumerate()"
   ]
  },
  {
   "cell_type": "code",
   "execution_count": null,
   "id": "35f1eda9",
   "metadata": {},
   "outputs": [],
   "source": []
  },
  {
   "cell_type": "code",
   "execution_count": null,
   "id": "9c231851",
   "metadata": {},
   "outputs": [],
   "source": []
  },
  {
   "cell_type": "code",
   "execution_count": 49,
   "id": "264b3048",
   "metadata": {},
   "outputs": [],
   "source": [
    "N = 100000\n",
    "ITERS = 1000\n",
    "# counter_calls = 0\n",
    "\n",
    "def _counter(n):\n",
    "#     global counter_calls\n",
    "#     counter_calls += 1\n",
    "\n",
    "    while n >= 0:\n",
    "        n -= 1\n",
    "\n",
    "        \n",
    "def countdown(iters):\n",
    "    for i in range(iters):        \n",
    "        _counter(N)\n"
   ]
  },
  {
   "cell_type": "code",
   "execution_count": 44,
   "id": "da93e363",
   "metadata": {},
   "outputs": [
    {
     "name": "stdout",
     "output_type": "stream",
     "text": [
      "1000\n",
      "CPU times: user 4.46 s, sys: 55.8 ms, total: 4.51 s\n",
      "Wall time: 4.97 s\n"
     ]
    }
   ],
   "source": [
    "%%time\n",
    "\n",
    "countdown(ITERS)\n",
    "print(counter_calls)"
   ]
  },
  {
   "cell_type": "code",
   "execution_count": 43,
   "id": "93b3dbb1",
   "metadata": {},
   "outputs": [],
   "source": []
  },
  {
   "cell_type": "code",
   "execution_count": 39,
   "id": "8273f3ff",
   "metadata": {},
   "outputs": [
    {
     "name": "stdout",
     "output_type": "stream",
     "text": [
      "CPU times: user 4.52 s, sys: 49.5 ms, total: 4.57 s\n",
      "Wall time: 5.03 s\n"
     ]
    }
   ],
   "source": [
    "%%time\n",
    "\n",
    "th = threading.Thread(\n",
    "    target=countdown,\n",
    "    args=(ITERS,),\n",
    "    name=\"counter_example\"\n",
    ")\n",
    "th.start()\n",
    "th.join()"
   ]
  },
  {
   "cell_type": "code",
   "execution_count": 47,
   "id": "c3e6f292",
   "metadata": {},
   "outputs": [
    {
     "name": "stdout",
     "output_type": "stream",
     "text": [
      "1000\n",
      "CPU times: user 4.4 s, sys: 97.9 ms, total: 4.5 s\n",
      "Wall time: 4.67 s\n"
     ]
    }
   ],
   "source": [
    "%%time\n",
    "\n",
    "N_THREADS = 100\n",
    "\n",
    "\n",
    "threads = [\n",
    "    threading.Thread(\n",
    "        target=countdown,\n",
    "        args=(ITERS // N_THREADS,),\n",
    "    )\n",
    "    for _ in range(N_THREADS)\n",
    "]\n",
    "\n",
    "for th in threads:\n",
    "    th.start()\n",
    "\n",
    "for th in threads:\n",
    "    th.join()\n",
    "    \n",
    "    \n",
    "print(counter_calls)"
   ]
  },
  {
   "cell_type": "code",
   "execution_count": 48,
   "id": "f27e189f",
   "metadata": {},
   "outputs": [],
   "source": [
    "#GIL"
   ]
  },
  {
   "cell_type": "code",
   "execution_count": null,
   "id": "6b36bd2d",
   "metadata": {},
   "outputs": [],
   "source": []
  },
  {
   "cell_type": "code",
   "execution_count": 50,
   "id": "bd47b728",
   "metadata": {},
   "outputs": [],
   "source": [
    "from urllib.request import urlopen\n",
    "\n",
    "URL = \"https://ru.wikipedia.org/wiki/Python\"\n",
    "N = 100\n",
    "\n",
    "\n",
    "def fetch_url(url):\n",
    "    resp = urlopen(url)\n",
    "    return resp\n",
    "\n",
    "\n",
    "def fetch_batch_urls(url, times):\n",
    "    for _ in range(times):\n",
    "        resp = fetch_url(url)"
   ]
  },
  {
   "cell_type": "code",
   "execution_count": null,
   "id": "5097b8ab",
   "metadata": {},
   "outputs": [],
   "source": []
  },
  {
   "cell_type": "code",
   "execution_count": null,
   "id": "b342ea18",
   "metadata": {},
   "outputs": [],
   "source": []
  },
  {
   "cell_type": "code",
   "execution_count": null,
   "id": "35481339",
   "metadata": {},
   "outputs": [],
   "source": []
  },
  {
   "cell_type": "code",
   "execution_count": 51,
   "id": "803bc7c9",
   "metadata": {},
   "outputs": [
    {
     "name": "stdout",
     "output_type": "stream",
     "text": [
      "CPU times: user 957 ms, sys: 109 ms, total: 1.07 s\n",
      "Wall time: 16.6 s\n"
     ]
    }
   ],
   "source": [
    "%%time\n",
    "\n",
    "fetch_batch_urls(URL, N)"
   ]
  },
  {
   "cell_type": "code",
   "execution_count": 53,
   "id": "2a801a72",
   "metadata": {},
   "outputs": [
    {
     "name": "stdout",
     "output_type": "stream",
     "text": [
      "CPU times: user 962 ms, sys: 104 ms, total: 1.07 s\n",
      "Wall time: 16.3 s\n"
     ]
    }
   ],
   "source": [
    "%%time\n",
    "\n",
    "N_THREADS = 1\n",
    "\n",
    "\n",
    "threads = [\n",
    "    threading.Thread(\n",
    "        target=fetch_batch_urls,\n",
    "        args=(URL, N // N_THREADS,),\n",
    "    )\n",
    "    for _ in range(N_THREADS)\n",
    "]\n",
    "\n",
    "for th in threads:\n",
    "    th.start()\n",
    "\n",
    "for th in threads:\n",
    "    th.join()"
   ]
  },
  {
   "cell_type": "code",
   "execution_count": 55,
   "id": "07feea23",
   "metadata": {},
   "outputs": [
    {
     "name": "stdout",
     "output_type": "stream",
     "text": [
      "CPU times: user 952 ms, sys: 105 ms, total: 1.06 s\n",
      "Wall time: 2.18 s\n"
     ]
    }
   ],
   "source": [
    "%%time\n",
    "\n",
    "N_THREADS = 10\n",
    "\n",
    "\n",
    "threads = [\n",
    "    threading.Thread(\n",
    "        target=fetch_batch_urls,\n",
    "        args=(URL, N // N_THREADS,),\n",
    "    )\n",
    "    for _ in range(N_THREADS)\n",
    "]\n",
    "\n",
    "for th in threads:\n",
    "    th.start()\n",
    "\n",
    "for th in threads:\n",
    "    th.join()"
   ]
  },
  {
   "cell_type": "code",
   "execution_count": null,
   "id": "7ec29580",
   "metadata": {},
   "outputs": [],
   "source": []
  },
  {
   "cell_type": "code",
   "execution_count": null,
   "id": "70a51513",
   "metadata": {},
   "outputs": [],
   "source": []
  },
  {
   "cell_type": "code",
   "execution_count": 60,
   "id": "3185a80a",
   "metadata": {},
   "outputs": [
    {
     "name": "stdout",
     "output_type": "stream",
     "text": [
      "[18679]\n",
      "CPU times: user 1.08 s, sys: 1.51 s, total: 2.59 s\n",
      "Wall time: 1.71 s\n"
     ]
    }
   ],
   "source": [
    "%%time\n",
    "\n",
    "import time\n",
    "\n",
    "global_count = [0]\n",
    "\n",
    "\n",
    "def danger(iters):\n",
    "    for _ in range(iters):\n",
    "        c = global_count[0]\n",
    "        c += 1\n",
    "        time.sleep(0.0000000001)\n",
    "        global_count[0] = c\n",
    "        \n",
    "        #global_count[0] += 1\n",
    "\n",
    "\n",
    "threads = [\n",
    "    threading.Thread(\n",
    "        target=danger,\n",
    "        args=(10,),\n",
    "    )\n",
    "    for _ in range(10000)\n",
    "]\n",
    "\n",
    "for th in threads:\n",
    "    th.start()\n",
    "\n",
    "for th in threads:\n",
    "    th.join()\n",
    "    \n",
    "    \n",
    "print(global_count)"
   ]
  },
  {
   "cell_type": "code",
   "execution_count": null,
   "id": "002a6743",
   "metadata": {},
   "outputs": [],
   "source": []
  },
  {
   "cell_type": "code",
   "execution_count": 63,
   "id": "173fc825",
   "metadata": {},
   "outputs": [
    {
     "name": "stdout",
     "output_type": "stream",
     "text": [
      "[100000]\n",
      "CPU times: user 458 ms, sys: 2.01 s, total: 2.47 s\n",
      "Wall time: 1.79 s\n"
     ]
    }
   ],
   "source": [
    "%%time\n",
    "\n",
    "import time\n",
    "\n",
    "global_count = [0]\n",
    "lock = threading.Lock()\n",
    "\n",
    "\n",
    "def danger_atomic(iters, lock):\n",
    "    for _ in range(iters):\n",
    "        lock.acquire()\n",
    "        \n",
    "        c = global_count[0]\n",
    "        c += 1\n",
    "        time.sleep(0.0000000001)\n",
    "        global_count[0] = c\n",
    "        \n",
    "        lock.release()\n",
    "\n",
    "\n",
    "threads = [\n",
    "    threading.Thread(\n",
    "        target=danger_atomic,\n",
    "        args=(100, lock),\n",
    "    )\n",
    "    for _ in range(1000)\n",
    "]\n",
    "\n",
    "for th in threads:\n",
    "    th.start()\n",
    "\n",
    "for th in threads:\n",
    "    th.join()\n",
    "    \n",
    "    \n",
    "print(global_count)"
   ]
  },
  {
   "cell_type": "code",
   "execution_count": null,
   "id": "550f44df",
   "metadata": {},
   "outputs": [],
   "source": []
  },
  {
   "cell_type": "code",
   "execution_count": null,
   "id": "59829eb3",
   "metadata": {},
   "outputs": [],
   "source": []
  },
  {
   "cell_type": "code",
   "execution_count": 69,
   "id": "c5e2c307",
   "metadata": {},
   "outputs": [
    {
     "name": "stdout",
     "output_type": "stream",
     "text": [
      "CPU times: user 998 ms, sys: 108 ms, total: 1.11 s\n",
      "Wall time: 9.01 s\n"
     ]
    }
   ],
   "source": [
    "%%time\n",
    "\n",
    "from urllib.request import urlopen\n",
    "\n",
    "URL = \"https://ru.wikipedia.org/wiki/Python\"\n",
    "N = 100\n",
    "N_THREADS = 10\n",
    "\n",
    "sem = threading.Semaphore(2)\n",
    "\n",
    "\n",
    "def fetch_url(url, sem):\n",
    "    with sem:\n",
    "        resp = urlopen(url)\n",
    "    return resp\n",
    "\n",
    "\n",
    "def fetch_batch_urls(url, times, sem):\n",
    "    for _ in range(times):\n",
    "        resp = fetch_url(url, sem)\n",
    "        \n",
    "\n",
    "threads = [\n",
    "    threading.Thread(\n",
    "        target=fetch_batch_urls,\n",
    "        args=(URL, N // N_THREADS, sem),\n",
    "    )\n",
    "    for _ in range(N_THREADS)\n",
    "]\n",
    "\n",
    "for th in threads:\n",
    "    th.start()\n",
    "\n",
    "for th in threads:\n",
    "    th.join()"
   ]
  },
  {
   "cell_type": "code",
   "execution_count": 79,
   "id": "213263c1",
   "metadata": {},
   "outputs": [
    {
     "name": "stdout",
     "output_type": "stream",
     "text": [
      "status 200\n",
      "status 200\n",
      "status 200\n",
      "status 200\n",
      "status 200\n",
      "status 200\n",
      "status 200\n",
      "status 200\n",
      "status 200\n",
      "status 200\n",
      "status 200\n",
      "status 200\n",
      "statusstatus 200\n",
      "status 200\n",
      "status 200\n",
      " 200\n",
      "status 200\n",
      "status 200\n",
      "status 200\n",
      "status 200\n",
      "status 200\n",
      "status 200\n",
      "status 200\n",
      "status 200\n",
      "status 200\n",
      "status 200\n",
      "status 200\n",
      "status 200\n",
      "status 200\n",
      "status 200\n",
      "status 200\n",
      "status 200\n",
      "status 200\n",
      "status 200\n",
      "status 200\n",
      "status 200\n",
      "status 200\n",
      "status 200\n",
      "status 200\n",
      "status 200\n",
      "status 200\n",
      "status 200\n",
      "status 200\n",
      "status 200\n",
      "status 200\n",
      "status 200\n",
      "status 200\n",
      "status 200\n",
      "status 200\n",
      "status 200\n",
      "status 200\n",
      "status 200\n",
      "status 200\n",
      "status 200\n",
      "status 200\n",
      "status 200\n",
      "status 200\n",
      "status 200\n",
      "status 200\n",
      "status 200\n",
      "status 200\n",
      "status 200\n",
      "status 200\n",
      "status 200\n",
      "statusstatus 200\n",
      " 200\n",
      "status 200\n",
      "status 200\n",
      "status 200\n",
      "status 200\n",
      "status 200\n",
      "status 200\n",
      "status 200\n",
      "status 200\n",
      "status 200\n",
      "status 200\n",
      "status 200\n",
      "status 200\n",
      "status 200\n",
      "status 200\n",
      "status 200\n",
      "status 200\n",
      "status 200\n",
      "status 200\n",
      "status 200\n",
      "status 200\n",
      "status 200\n",
      "status 200\n",
      "status 200\n",
      "status 200\n",
      "status 200\n",
      "status 200\n",
      "status 200\n",
      "status 200\n",
      "status 200\n",
      "status 200\n",
      "status 200\n",
      "status 200\n",
      "status 200\n",
      "status 200\n",
      "CPU times: user 1.07 s, sys: 135 ms, total: 1.21 s\n",
      "Wall time: 2.2 s\n"
     ]
    }
   ],
   "source": [
    "%%time\n",
    "\n",
    "from urllib.request import urlopen\n",
    "import queue\n",
    "\n",
    "\n",
    "URL = \"https://ru.wikipedia.org/wiki/Python\"\n",
    "N = 100\n",
    "N_THREADS = 10\n",
    "\n",
    "\n",
    "sem = threading.Semaphore(10)\n",
    "que = queue.Queue(20)\n",
    "\n",
    "\n",
    "def fetch_url(sem, que):\n",
    "    while True:\n",
    "        try:\n",
    "            url = que.get(timeout=1)\n",
    "            if url is None:\n",
    "                break\n",
    "        except Exception:\n",
    "            continue\n",
    "\n",
    "        with sem:\n",
    "            resp = urlopen(url)\n",
    "            print(\"status\", resp.code)\n",
    "        \n",
    "\n",
    "threads = [\n",
    "    threading.Thread(\n",
    "        target=fetch_url,\n",
    "        args=(sem, que),\n",
    "    )\n",
    "    for _ in range(N_THREADS)\n",
    "]\n",
    "\n",
    "for th in threads:\n",
    "    th.start()\n",
    "\n",
    "\n",
    "for _ in range(N):\n",
    "    que.put(URL)\n",
    "\n",
    "    \n",
    "for _ in range(N_THREADS):\n",
    "    que.put(None)\n",
    "\n",
    "    \n",
    "for th in threads:\n",
    "    th.join()"
   ]
  },
  {
   "cell_type": "code",
   "execution_count": null,
   "id": "ecf6200f",
   "metadata": {},
   "outputs": [],
   "source": []
  },
  {
   "cell_type": "code",
   "execution_count": null,
   "id": "0680cb05",
   "metadata": {},
   "outputs": [],
   "source": []
  },
  {
   "cell_type": "code",
   "execution_count": null,
   "id": "88db6cf8",
   "metadata": {},
   "outputs": [],
   "source": []
  },
  {
   "cell_type": "code",
   "execution_count": 82,
   "id": "5191b09b",
   "metadata": {},
   "outputs": [
    {
     "name": "stdout",
     "output_type": "stream",
     "text": [
      "before {}\n",
      "after {}\n"
     ]
    },
    {
     "name": "stderr",
     "output_type": "stream",
     "text": [
      "Traceback (most recent call last):\n",
      "  File \"<string>\", line 1, in <module>\n",
      "  File \"/Library/Frameworks/Python.framework/Versions/3.10/lib/python3.10/multiprocessing/spawn.py\", line 116, in spawn_main\n",
      "    exitcode = _main(fd, parent_sentinel)\n",
      "  File \"/Library/Frameworks/Python.framework/Versions/3.10/lib/python3.10/multiprocessing/spawn.py\", line 126, in _main\n",
      "    self = reduction.pickle.load(from_parent)\n",
      "AttributeError: Can't get attribute 'multy_func' on <module '__main__' (built-in)>\n"
     ]
    }
   ],
   "source": [
    "import multiprocessing\n",
    "\n",
    "\n",
    "class A:\n",
    "    x = 42\n",
    "    \n",
    "\n",
    "def multy_func(dct):\n",
    "    dct[\"data\"] = A()\n",
    "    dct[\"qwerty\"] = 99\n",
    "\n",
    "\n",
    "with multiprocessing.Manager() as manager:\n",
    "    dct = manager.dict()\n",
    "    \n",
    "    print(\"before\", dct)\n",
    "    \n",
    "    p = multiprocessing.Process(target=multy_func, args=(dct,))\n",
    "    p.start()\n",
    "    p.join()\n",
    "    \n",
    "    print(\"after\", dct)"
   ]
  },
  {
   "cell_type": "code",
   "execution_count": null,
   "id": "b470cae7",
   "metadata": {},
   "outputs": [],
   "source": []
  }
 ],
 "metadata": {
  "kernelspec": {
   "display_name": "Python 3 (ipykernel)",
   "language": "python",
   "name": "python3"
  },
  "language_info": {
   "codemirror_mode": {
    "name": "ipython",
    "version": 3
   },
   "file_extension": ".py",
   "mimetype": "text/x-python",
   "name": "python",
   "nbconvert_exporter": "python",
   "pygments_lexer": "ipython3",
   "version": "3.10.2"
  }
 },
 "nbformat": 4,
 "nbformat_minor": 5
}
