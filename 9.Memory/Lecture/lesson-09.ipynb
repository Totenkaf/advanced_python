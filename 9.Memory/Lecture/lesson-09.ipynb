{
 "cells": [
  {
   "cell_type": "code",
   "execution_count": 1,
   "id": "f947e445",
   "metadata": {},
   "outputs": [],
   "source": [
    "import sys"
   ]
  },
  {
   "cell_type": "code",
   "execution_count": null,
   "id": "9a2b3b80",
   "metadata": {},
   "outputs": [],
   "source": []
  },
  {
   "cell_type": "code",
   "execution_count": 6,
   "id": "9ffdfd4f",
   "metadata": {},
   "outputs": [],
   "source": [
    "x1 = 5\n",
    "t1 = 257"
   ]
  },
  {
   "cell_type": "code",
   "execution_count": 7,
   "id": "92b51ae1",
   "metadata": {},
   "outputs": [],
   "source": [
    "x2 = 5\n",
    "t2 = 257"
   ]
  },
  {
   "cell_type": "code",
   "execution_count": 9,
   "id": "fce62ba8",
   "metadata": {},
   "outputs": [],
   "source": [
    "t3 = t2"
   ]
  },
  {
   "cell_type": "code",
   "execution_count": 10,
   "id": "27efb59f",
   "metadata": {},
   "outputs": [
    {
     "data": {
      "text/plain": [
       "(True, False, True)"
      ]
     },
     "execution_count": 10,
     "metadata": {},
     "output_type": "execute_result"
    }
   ],
   "source": [
    "x1 is x2, t1 is t2, t3 is t2"
   ]
  },
  {
   "cell_type": "code",
   "execution_count": 11,
   "id": "043f98c2",
   "metadata": {},
   "outputs": [
    {
     "data": {
      "text/plain": [
       "False"
      ]
     },
     "execution_count": 11,
     "metadata": {},
     "output_type": "execute_result"
    }
   ],
   "source": [
    "t1 = 257\n",
    "t2 = 257\n",
    "\n",
    "t1 is t2"
   ]
  },
  {
   "cell_type": "code",
   "execution_count": 12,
   "id": "d6dd9bff",
   "metadata": {},
   "outputs": [],
   "source": [
    "s1 = \"name\""
   ]
  },
  {
   "cell_type": "code",
   "execution_count": 13,
   "id": "a3fb3757",
   "metadata": {},
   "outputs": [],
   "source": [
    "s2 = \"name\""
   ]
  },
  {
   "cell_type": "code",
   "execution_count": 14,
   "id": "731a5f22",
   "metadata": {},
   "outputs": [
    {
     "data": {
      "text/plain": [
       "True"
      ]
     },
     "execution_count": 14,
     "metadata": {},
     "output_type": "execute_result"
    }
   ],
   "source": [
    "s1 is s2"
   ]
  },
  {
   "cell_type": "code",
   "execution_count": 15,
   "id": "0f192164",
   "metadata": {},
   "outputs": [],
   "source": [
    "s3 = \"!name\""
   ]
  },
  {
   "cell_type": "code",
   "execution_count": 16,
   "id": "17334201",
   "metadata": {},
   "outputs": [],
   "source": [
    "s4 = \"!name\""
   ]
  },
  {
   "cell_type": "code",
   "execution_count": 17,
   "id": "2cc0f7aa",
   "metadata": {},
   "outputs": [
    {
     "data": {
      "text/plain": [
       "False"
      ]
     },
     "execution_count": 17,
     "metadata": {},
     "output_type": "execute_result"
    }
   ],
   "source": [
    "s3 is s4"
   ]
  },
  {
   "cell_type": "code",
   "execution_count": 20,
   "id": "8e995949",
   "metadata": {},
   "outputs": [
    {
     "data": {
      "text/plain": [
       "False"
      ]
     },
     "execution_count": 20,
     "metadata": {},
     "output_type": "execute_result"
    }
   ],
   "source": [
    "s = \"na\"\n",
    "s3 = s + \"me\"\n",
    "s4 = s + \"me\"\n",
    "\n",
    "s3 is s4"
   ]
  },
  {
   "cell_type": "code",
   "execution_count": null,
   "id": "72c13e8d",
   "metadata": {},
   "outputs": [],
   "source": []
  },
  {
   "cell_type": "code",
   "execution_count": 23,
   "id": "de20388c",
   "metadata": {},
   "outputs": [
    {
     "data": {
      "text/plain": [
       "(5544, 2)"
      ]
     },
     "execution_count": 23,
     "metadata": {},
     "output_type": "execute_result"
    }
   ],
   "source": [
    "sys.getrefcount(0), sys.getrefcount(2 ** 8 + 1)"
   ]
  },
  {
   "cell_type": "code",
   "execution_count": 24,
   "id": "63bafada",
   "metadata": {},
   "outputs": [
    {
     "data": {
      "text/plain": [
       "2"
      ]
     },
     "execution_count": 24,
     "metadata": {},
     "output_type": "execute_result"
    }
   ],
   "source": [
    "lst = [1, 2, 3]\n",
    "\n",
    "sys.getrefcount(lst)"
   ]
  },
  {
   "cell_type": "code",
   "execution_count": 29,
   "id": "ee611274",
   "metadata": {},
   "outputs": [
    {
     "data": {
      "text/plain": [
       "[1, 2, 3, [...]]"
      ]
     },
     "execution_count": 29,
     "metadata": {},
     "output_type": "execute_result"
    }
   ],
   "source": [
    "lst1 = [1, 2, 3]\n",
    "lst1.append(lst1)\n",
    "\n",
    "lst1"
   ]
  },
  {
   "cell_type": "code",
   "execution_count": 30,
   "id": "3556d478",
   "metadata": {},
   "outputs": [
    {
     "data": {
      "text/plain": [
       "10"
      ]
     },
     "execution_count": 30,
     "metadata": {},
     "output_type": "execute_result"
    }
   ],
   "source": [
    "sys.getrefcount(lst1)"
   ]
  },
  {
   "cell_type": "code",
   "execution_count": 32,
   "id": "465e8ad0",
   "metadata": {},
   "outputs": [
    {
     "data": {
      "text/plain": [
       "([1, 2, 3, [...]], [1, 2, 3, [...]])"
      ]
     },
     "execution_count": 32,
     "metadata": {},
     "output_type": "execute_result"
    }
   ],
   "source": [
    "lst1, lst1[3]"
   ]
  },
  {
   "cell_type": "code",
   "execution_count": null,
   "id": "dffb1f27",
   "metadata": {},
   "outputs": [],
   "source": []
  },
  {
   "cell_type": "code",
   "execution_count": null,
   "id": "7b3e11c8",
   "metadata": {},
   "outputs": [],
   "source": []
  },
  {
   "cell_type": "code",
   "execution_count": 39,
   "id": "14a9ab53",
   "metadata": {},
   "outputs": [
    {
     "name": "stdout",
     "output_type": "stream",
     "text": [
      "init 2\n",
      "lst2 3\n",
      "lst3 4\n",
      "tp 5\n",
      "del 2\n",
      "count_refs 4\n",
      "call 2\n"
     ]
    }
   ],
   "source": [
    "lst = [1, 2, 3]\n",
    "print(\"init\", sys.getrefcount(lst))\n",
    "\n",
    "lst2 = lst\n",
    "print(\"lst2\", sys.getrefcount(lst))\n",
    "\n",
    "lst3 = lst\n",
    "print(\"lst3\", sys.getrefcount(lst))\n",
    "\n",
    "tp = (4, 5, lst)\n",
    "print(\"tp\", sys.getrefcount(lst))\n",
    "\n",
    "del lst2, lst3, tp\n",
    "print(\"del\", sys.getrefcount(lst))\n",
    "\n",
    "def count_refs(obj):\n",
    "    print(\"count_refs\", sys.getrefcount(obj))\n",
    "\n",
    "count_refs(lst)\n",
    "print(\"call\", sys.getrefcount(lst))"
   ]
  },
  {
   "cell_type": "code",
   "execution_count": 53,
   "id": "fd70b76d",
   "metadata": {},
   "outputs": [],
   "source": [
    "import ctypes\n",
    "import gc"
   ]
  },
  {
   "cell_type": "code",
   "execution_count": 52,
   "id": "e68ee4a3",
   "metadata": {},
   "outputs": [
    {
     "name": "stdout",
     "output_type": "stream",
     "text": [
      "cty 1\n"
     ]
    }
   ],
   "source": [
    "class PyObject(ctypes.Structure):\n",
    "    _fields_ = [(\"refcnt\", ctypes.c_long)]\n",
    "\n",
    "\n",
    "lst1 = [1, 2, 3]\n",
    "lst1.append(lst1)\n",
    "\n",
    "lst_id = id(lst1)\n",
    "\n",
    "del lst1\n",
    "\n",
    "#print(\"sys\", sys.getrefcount(lst1))\n",
    "print(\"cty\", PyObject.from_address(lst_id).refcnt)"
   ]
  },
  {
   "cell_type": "code",
   "execution_count": 56,
   "id": "06ae6c77",
   "metadata": {},
   "outputs": [
    {
     "name": "stdout",
     "output_type": "stream",
     "text": [
      "cty 0\n"
     ]
    }
   ],
   "source": [
    "class PyObject(ctypes.Structure):\n",
    "    _fields_ = [(\"refcnt\", ctypes.c_long)]\n",
    "\n",
    "\n",
    "gc.disable()\n",
    "\n",
    "lst1 = [1, 2, 3]\n",
    "lst1.append(lst1)\n",
    "\n",
    "lst_id = id(lst1)\n",
    "\n",
    "del lst1\n",
    "\n",
    "gc.collect()\n",
    "gc.enable()\n",
    "\n",
    "#print(\"sys\", sys.getrefcount(lst1))\n",
    "print(\"cty\", PyObject.from_address(lst_id).refcnt)"
   ]
  },
  {
   "cell_type": "code",
   "execution_count": 55,
   "id": "2c468d84",
   "metadata": {},
   "outputs": [
    {
     "name": "stdout",
     "output_type": "stream",
     "text": [
      "cty 22\n"
     ]
    }
   ],
   "source": [
    "class PyObject(ctypes.Structure):\n",
    "    _fields_ = [(\"refcnt\", ctypes.c_long)]\n",
    "\n",
    "\n",
    "gc.disable()\n",
    "\n",
    "lst1 = [1, 2, 3]\n",
    "lst1.append(lst1)\n",
    "\n",
    "lst_id = id(lst1)\n",
    "\n",
    "del lst1\n",
    "\n",
    "gc.collect()\n",
    "gc.enable()\n",
    "\n",
    "#print(\"sys\", sys.getrefcount(lst1))\n",
    "print(\"cty\", PyObject.from_address(lst_id).refcnt)"
   ]
  },
  {
   "cell_type": "code",
   "execution_count": null,
   "id": "51826dd6",
   "metadata": {},
   "outputs": [],
   "source": []
  },
  {
   "cell_type": "code",
   "execution_count": 59,
   "id": "ae0e29e7",
   "metadata": {},
   "outputs": [
    {
     "data": {
      "text/plain": [
       "(180667, [423, 2338, 177918])"
      ]
     },
     "execution_count": 59,
     "metadata": {},
     "output_type": "execute_result"
    }
   ],
   "source": [
    "len(gc.get_objects()), [len(gc.get_objects(generation=i)) for i in range(3)]"
   ]
  },
  {
   "cell_type": "code",
   "execution_count": null,
   "id": "a77b937e",
   "metadata": {},
   "outputs": [],
   "source": []
  },
  {
   "cell_type": "code",
   "execution_count": 60,
   "id": "67a4eb36",
   "metadata": {},
   "outputs": [],
   "source": [
    "import weakref"
   ]
  },
  {
   "cell_type": "code",
   "execution_count": 66,
   "id": "8d479900",
   "metadata": {},
   "outputs": [
    {
     "name": "stdout",
     "output_type": "stream",
     "text": [
      "init 2\n",
      "weak 2\n",
      "obj2 3\n",
      "weak 210242 None\n"
     ]
    }
   ],
   "source": [
    "class A:\n",
    "    pass\n",
    "\n",
    "\n",
    "obj = A()\n",
    "print(\"init\", sys.getrefcount(obj))\n",
    "\n",
    "weak = weakref.ref(obj)\n",
    "print(\"weak\", sys.getrefcount(obj))\n",
    "\n",
    "obj2 = weak()\n",
    "print(\"obj2\", sys.getrefcount(obj))\n",
    "\n",
    "del obj, obj2\n",
    "\n",
    "obj3 = weak()\n",
    "print(\"weak\", sys.getrefcount(obj3), obj3)"
   ]
  },
  {
   "cell_type": "code",
   "execution_count": null,
   "id": "5151e018",
   "metadata": {},
   "outputs": [],
   "source": [
    "class Engine:\n",
    "    def __init__(self, car):\n",
    "        self.car = weakref.ref(car)\n",
    "\n",
    "\n",
    "class Car:\n",
    "    def __init__(self):\n",
    "        self.engine = Engine(self)\n",
    "\n",
    "\n",
    "car = Car()"
   ]
  },
  {
   "cell_type": "code",
   "execution_count": null,
   "id": "6085bdb3",
   "metadata": {},
   "outputs": [],
   "source": []
  },
  {
   "cell_type": "code",
   "execution_count": 84,
   "id": "16149ce3",
   "metadata": {},
   "outputs": [],
   "source": [
    "N = 10_000_000\n",
    "\n",
    "class Point:\n",
    "    def __init__(self, x, y):\n",
    "        self.x = x\n",
    "        self.y = y\n",
    "\n",
    "\n",
    "class PointSlots:\n",
    "    __slots__ = (\"x\", \"y\")\n",
    "    def __init__(self, x, y):\n",
    "        self.x = x\n",
    "        self.y = y\n",
    "        \n",
    "\n",
    "def process_list(lst):\n",
    "    for obj in lst:\n",
    "        z = obj.x + obj.y\n",
    "        obj.x += obj.y\n",
    "        obj.y = z"
   ]
  },
  {
   "cell_type": "code",
   "execution_count": 85,
   "id": "d3b0d02a",
   "metadata": {},
   "outputs": [
    {
     "name": "stdout",
     "output_type": "stream",
     "text": [
      "CPU times: user 8.94 s, sys: 634 ms, total: 9.57 s\n",
      "Wall time: 10.7 s\n"
     ]
    }
   ],
   "source": [
    "%%time\n",
    "\n",
    "points = [Point(5, 1) for _ in range(N)]"
   ]
  },
  {
   "cell_type": "code",
   "execution_count": 86,
   "id": "374de3d0",
   "metadata": {},
   "outputs": [
    {
     "name": "stdout",
     "output_type": "stream",
     "text": [
      "CPU times: user 5.6 s, sys: 245 ms, total: 5.85 s\n",
      "Wall time: 6.4 s\n"
     ]
    }
   ],
   "source": [
    "%%time\n",
    "\n",
    "slot_points = [PointSlots(5, 1) for _ in range(N)]"
   ]
  },
  {
   "cell_type": "code",
   "execution_count": 89,
   "id": "dfbf0d23",
   "metadata": {},
   "outputs": [
    {
     "name": "stdout",
     "output_type": "stream",
     "text": [
      "CPU times: user 1.96 s, sys: 30 ms, total: 1.99 s\n",
      "Wall time: 2.24 s\n"
     ]
    }
   ],
   "source": [
    "%%time\n",
    "\n",
    "process_list(points)"
   ]
  },
  {
   "cell_type": "code",
   "execution_count": 90,
   "id": "8eb0930c",
   "metadata": {},
   "outputs": [
    {
     "name": "stdout",
     "output_type": "stream",
     "text": [
      "CPU times: user 1.52 s, sys: 15.9 ms, total: 1.54 s\n",
      "Wall time: 1.63 s\n"
     ]
    }
   ],
   "source": [
    "%%time\n",
    "\n",
    "process_list(slot_points)"
   ]
  },
  {
   "cell_type": "code",
   "execution_count": null,
   "id": "ce5a21d3",
   "metadata": {},
   "outputs": [],
   "source": []
  },
  {
   "cell_type": "code",
   "execution_count": 94,
   "id": "e5819bed",
   "metadata": {},
   "outputs": [
    {
     "data": {
      "text/plain": [
       "(49, 50, 51, 76, 78)"
      ]
     },
     "execution_count": 94,
     "metadata": {},
     "output_type": "execute_result"
    }
   ],
   "source": [
    "sys.getsizeof(\"\"), sys.getsizeof(\"1\"), sys.getsizeof(\"12\"), sys.getsizeof(\"Щ\"), sys.getsizeof(\"ЩЩ\")"
   ]
  },
  {
   "cell_type": "code",
   "execution_count": 96,
   "id": "e5530521",
   "metadata": {},
   "outputs": [
    {
     "data": {
      "text/plain": [
       "(56, 64, 72)"
      ]
     },
     "execution_count": 96,
     "metadata": {},
     "output_type": "execute_result"
    }
   ],
   "source": [
    "sys.getsizeof([]), sys.getsizeof([1]), sys.getsizeof([1, 2])"
   ]
  },
  {
   "cell_type": "code",
   "execution_count": 98,
   "id": "52bdc640",
   "metadata": {},
   "outputs": [
    {
     "data": {
      "text/plain": [
       "(64, 232)"
      ]
     },
     "execution_count": 98,
     "metadata": {},
     "output_type": "execute_result"
    }
   ],
   "source": [
    "sys.getsizeof({}), sys.getsizeof({1: 11})"
   ]
  },
  {
   "cell_type": "code",
   "execution_count": 99,
   "id": "ce84d5c9",
   "metadata": {},
   "outputs": [],
   "source": [
    "p = Point(10, 20)"
   ]
  },
  {
   "cell_type": "code",
   "execution_count": 102,
   "id": "05b0fcb0",
   "metadata": {},
   "outputs": [
    {
     "data": {
      "text/plain": [
       "({'x': 10, 'y': 20}, 104, 48)"
      ]
     },
     "execution_count": 102,
     "metadata": {},
     "output_type": "execute_result"
    }
   ],
   "source": [
    "p.__dict__, sys.getsizeof(p.__dict__), sys.getsizeof(p)"
   ]
  },
  {
   "cell_type": "code",
   "execution_count": 103,
   "id": "67fd50b5",
   "metadata": {},
   "outputs": [
    {
     "data": {
      "text/plain": [
       "48"
      ]
     },
     "execution_count": 103,
     "metadata": {},
     "output_type": "execute_result"
    }
   ],
   "source": [
    "s = PointSlots(10, 20)\n",
    "\n",
    "sys.getsizeof(s)"
   ]
  },
  {
   "cell_type": "code",
   "execution_count": 104,
   "id": "576432c4",
   "metadata": {},
   "outputs": [
    {
     "data": {
      "text/plain": [
       "11.0"
      ]
     },
     "execution_count": 104,
     "metadata": {},
     "output_type": "execute_result"
    }
   ],
   "source": [
    "def calc_sum(a, b):\n",
    "    return a + b\n",
    "\n",
    "\n",
    "def calc_percent(a, p):\n",
    "    b = calc_sum(a, a * p)\n",
    "    return b\n",
    "\n",
    "\n",
    "calc_percent(10, 0.1)"
   ]
  },
  {
   "cell_type": "code",
   "execution_count": 105,
   "id": "3fa95a27",
   "metadata": {},
   "outputs": [],
   "source": [
    "import cProfile, pstats, io"
   ]
  },
  {
   "cell_type": "code",
   "execution_count": null,
   "id": "416707ef",
   "metadata": {},
   "outputs": [],
   "source": []
  },
  {
   "cell_type": "code",
   "execution_count": 106,
   "id": "2604c50c",
   "metadata": {},
   "outputs": [
    {
     "name": "stdout",
     "output_type": "stream",
     "text": [
      "         39 function calls in 2.994 seconds\n",
      "\n",
      "   Ordered by: cumulative time\n",
      "\n",
      "   ncalls  tottime  percall  cumtime  percall filename:lineno(function)\n",
      "        2    0.000    0.000    2.994    1.497 /Users/g.kandaurov/projects/deep_python_autumn_2022/.venv/lib/python3.10/site-packages/IPython/core/interactiveshell.py:3342(run_code)\n",
      "        2    0.000    0.000    2.994    1.497 {built-in method builtins.exec}\n",
      "        1    0.000    0.000    2.994    2.994 /var/folders/c1/9wdb7dps2x332c6l1y2hrqkh0000gp/T/ipykernel_4086/1586059520.py:1(<module>)\n",
      "        1    2.994    2.994    2.994    2.994 /var/folders/c1/9wdb7dps2x332c6l1y2hrqkh0000gp/T/ipykernel_4086/2475959611.py:16(process_list)\n",
      "        2    0.000    0.000    0.000    0.000 /Library/Frameworks/Python.framework/Versions/3.10/lib/python3.10/codeop.py:149(__call__)\n",
      "        2    0.000    0.000    0.000    0.000 {built-in method builtins.compile}\n",
      "        2    0.000    0.000    0.000    0.000 /Library/Frameworks/Python.framework/Versions/3.10/lib/python3.10/contextlib.py:279(helper)\n",
      "        2    0.000    0.000    0.000    0.000 /Library/Frameworks/Python.framework/Versions/3.10/lib/python3.10/contextlib.py:139(__exit__)\n",
      "        2    0.000    0.000    0.000    0.000 /Library/Frameworks/Python.framework/Versions/3.10/lib/python3.10/contextlib.py:102(__init__)\n",
      "        2    0.000    0.000    0.000    0.000 /Library/Frameworks/Python.framework/Versions/3.10/lib/python3.10/contextlib.py:130(__enter__)\n",
      "        4    0.000    0.000    0.000    0.000 {built-in method builtins.next}\n",
      "        2    0.000    0.000    0.000    0.000 /Users/g.kandaurov/projects/deep_python_autumn_2022/.venv/lib/python3.10/site-packages/traitlets/traitlets.py:675(__get__)\n",
      "        4    0.000    0.000    0.000    0.000 /Users/g.kandaurov/projects/deep_python_autumn_2022/.venv/lib/python3.10/site-packages/IPython/core/compilerop.py:174(extra_flags)\n",
      "        2    0.000    0.000    0.000    0.000 /Users/g.kandaurov/projects/deep_python_autumn_2022/.venv/lib/python3.10/site-packages/traitlets/traitlets.py:643(get)\n",
      "        4    0.000    0.000    0.000    0.000 {built-in method builtins.getattr}\n",
      "        2    0.000    0.000    0.000    0.000 /Users/g.kandaurov/projects/deep_python_autumn_2022/.venv/lib/python3.10/site-packages/IPython/core/interactiveshell.py:3294(compare)\n",
      "        2    0.000    0.000    0.000    0.000 /Users/g.kandaurov/projects/deep_python_autumn_2022/.venv/lib/python3.10/site-packages/IPython/core/interactiveshell.py:1196(user_global_ns)\n",
      "        1    0.000    0.000    0.000    0.000 {method 'disable' of '_lsprof.Profiler' objects}\n",
      "\n",
      "\n",
      "\n"
     ]
    }
   ],
   "source": [
    "pr = cProfile.Profile()\n",
    "pr.enable()\n",
    "\n",
    "process_list(points)\n",
    "\n",
    "pr.disable()\n",
    "\n",
    "\n",
    "s = io.StringIO()\n",
    "sortby = \"cumulative\"\n",
    "ps = pstats.Stats(pr, stream=s).sort_stats(sortby)\n",
    "ps.print_stats()\n",
    "\n",
    "print(s.getvalue())"
   ]
  },
  {
   "cell_type": "code",
   "execution_count": 110,
   "id": "c970066f",
   "metadata": {},
   "outputs": [
    {
     "name": "stdout",
     "output_type": "stream",
     "text": [
      "         80 function calls in 0.000 seconds\n",
      "\n",
      "   Ordered by: cumulative time\n",
      "\n",
      "   ncalls  tottime  percall  cumtime  percall filename:lineno(function)\n",
      "        4    0.000    0.000    0.000    0.000 /Library/Frameworks/Python.framework/Versions/3.10/lib/python3.10/codeop.py:149(__call__)\n",
      "        4    0.000    0.000    0.000    0.000 {built-in method builtins.compile}\n",
      "        4    0.000    0.000    0.000    0.000 /Users/g.kandaurov/projects/deep_python_autumn_2022/.venv/lib/python3.10/site-packages/IPython/core/interactiveshell.py:3342(run_code)\n",
      "        4    0.000    0.000    0.000    0.000 {built-in method builtins.exec}\n",
      "        4    0.000    0.000    0.000    0.000 /Library/Frameworks/Python.framework/Versions/3.10/lib/python3.10/contextlib.py:279(helper)\n",
      "        8    0.000    0.000    0.000    0.000 {built-in method builtins.next}\n",
      "        4    0.000    0.000    0.000    0.000 /Library/Frameworks/Python.framework/Versions/3.10/lib/python3.10/contextlib.py:130(__enter__)\n",
      "        4    0.000    0.000    0.000    0.000 /Library/Frameworks/Python.framework/Versions/3.10/lib/python3.10/contextlib.py:139(__exit__)\n",
      "        4    0.000    0.000    0.000    0.000 /Library/Frameworks/Python.framework/Versions/3.10/lib/python3.10/contextlib.py:102(__init__)\n",
      "        8    0.000    0.000    0.000    0.000 /Users/g.kandaurov/projects/deep_python_autumn_2022/.venv/lib/python3.10/site-packages/IPython/core/compilerop.py:174(extra_flags)\n",
      "        4    0.000    0.000    0.000    0.000 /Users/g.kandaurov/projects/deep_python_autumn_2022/.venv/lib/python3.10/site-packages/traitlets/traitlets.py:675(__get__)\n",
      "        3    0.000    0.000    0.000    0.000 /var/folders/c1/9wdb7dps2x332c6l1y2hrqkh0000gp/T/ipykernel_4086/1567470222.py:5(calc_percent)\n",
      "        1    0.000    0.000    0.000    0.000 /var/folders/c1/9wdb7dps2x332c6l1y2hrqkh0000gp/T/ipykernel_4086/820668960.py:1(<module>)\n",
      "        4    0.000    0.000    0.000    0.000 /Users/g.kandaurov/projects/deep_python_autumn_2022/.venv/lib/python3.10/site-packages/IPython/core/interactiveshell.py:3294(compare)\n",
      "        4    0.000    0.000    0.000    0.000 /Users/g.kandaurov/projects/deep_python_autumn_2022/.venv/lib/python3.10/site-packages/traitlets/traitlets.py:643(get)\n",
      "        8    0.000    0.000    0.000    0.000 {built-in method builtins.getattr}\n",
      "        4    0.000    0.000    0.000    0.000 /Users/g.kandaurov/projects/deep_python_autumn_2022/.venv/lib/python3.10/site-packages/IPython/core/interactiveshell.py:1196(user_global_ns)\n",
      "        3    0.000    0.000    0.000    0.000 /var/folders/c1/9wdb7dps2x332c6l1y2hrqkh0000gp/T/ipykernel_4086/1567470222.py:1(calc_sum)\n",
      "        1    0.000    0.000    0.000    0.000 {method 'disable' of '_lsprof.Profiler' objects}\n",
      "\n",
      "\n",
      "\n"
     ]
    }
   ],
   "source": [
    "pr = cProfile.Profile()\n",
    "pr.enable()\n",
    "\n",
    "calc_percent(10, 0.1)\n",
    "calc_percent(100, 0.1)\n",
    "calc_percent(100, 0.001)\n",
    "\n",
    "\n",
    "pr.disable()\n",
    "\n",
    "\n",
    "s = io.StringIO()\n",
    "sortby = \"cumulative\"\n",
    "ps = pstats.Stats(pr, stream=s).sort_stats(sortby)\n",
    "ps.print_stats()\n",
    "\n",
    "print(s.getvalue())"
   ]
  },
  {
   "cell_type": "code",
   "execution_count": null,
   "id": "e2999c1c",
   "metadata": {},
   "outputs": [],
   "source": []
  }
 ],
 "metadata": {
  "kernelspec": {
   "display_name": "Python 3 (ipykernel)",
   "language": "python",
   "name": "python3"
  },
  "language_info": {
   "codemirror_mode": {
    "name": "ipython",
    "version": 3
   },
   "file_extension": ".py",
   "mimetype": "text/x-python",
   "name": "python",
   "nbconvert_exporter": "python",
   "pygments_lexer": "ipython3",
   "version": "3.10.2"
  }
 },
 "nbformat": 4,
 "nbformat_minor": 5
}
