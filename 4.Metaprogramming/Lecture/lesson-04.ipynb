{
 "cells": [
  {
   "cell_type": "code",
   "execution_count": 7,
   "id": "8b383ea2",
   "metadata": {},
   "outputs": [
    {
     "name": "stdout",
     "output_type": "stream",
     "text": [
      "(10,) {}\n",
      "10\n",
      "(20,) {}\n",
      "20\n"
     ]
    },
    {
     "data": {
      "text/plain": [
       "True"
      ]
     },
     "execution_count": 7,
     "metadata": {},
     "output_type": "execute_result"
    }
   ],
   "source": [
    "class Singleton:\n",
    "    _instance = None\n",
    "\n",
    "    def __new__(cls, *args, **kwargs):\n",
    "        print(args, kwargs)\n",
    "        if cls._instance is None:\n",
    "            cls._instance = super().__new__(cls)\n",
    "        return cls._instance\n",
    "    \n",
    "    def __init__(self, x):\n",
    "        self.x = x\n",
    "\n",
    "\n",
    "inst1 = Singleton(10)\n",
    "print(f\"{inst1.x}\")\n",
    "\n",
    "inst2 = Singleton(20)\n",
    "print(f\"{inst2.x}\")\n",
    "\n",
    "inst1 is inst2"
   ]
  },
  {
   "cell_type": "code",
   "execution_count": 17,
   "id": "24394bce",
   "metadata": {},
   "outputs": [
    {
     "name": "stdout",
     "output_type": "stream",
     "text": [
      "DEL\n"
     ]
    }
   ],
   "source": [
    "class Connector:\n",
    "    def __init__(self, db_name):\n",
    "        self.conn = db_name\n",
    "\n",
    "    def __del__(self):\n",
    "        print(\"DEL\")\n",
    "\n",
    "\n",
    "db = Connector(\"users\")\n",
    "db2 = db\n",
    "del db  # ???\n",
    "del db2"
   ]
  },
  {
   "cell_type": "code",
   "execution_count": null,
   "id": "0699ede2",
   "metadata": {},
   "outputs": [],
   "source": []
  },
  {
   "cell_type": "code",
   "execution_count": 20,
   "id": "bb62ca4f",
   "metadata": {},
   "outputs": [
    {
     "name": "stdout",
     "output_type": "stream",
     "text": [
      "{'self': <__main__.Attr object at 0x10b359450>, 'owner': <class '__main__.A'>, 'name': 'x'}=\n"
     ]
    }
   ],
   "source": [
    "class Attr:\n",
    "    def __set_name__(self, owner, name):\n",
    "        print(f\"{locals()}=\")\n",
    "        self.name = name\n",
    "\n",
    "        \n",
    "class AttrNoName:\n",
    "    def __init__(self, name):\n",
    "        self.name = name\n",
    "\n",
    "\n",
    "class A:\n",
    "    x = Attr()\n",
    "    no_name1 = AttrNoName(\"no_name1\")\n",
    "    no_name2 = AttrNoName(\"no_name2\")\n",
    "    no_name3 = AttrNoName(\"no_name3\")"
   ]
  },
  {
   "cell_type": "code",
   "execution_count": null,
   "id": "e4e616c0",
   "metadata": {},
   "outputs": [],
   "source": []
  },
  {
   "cell_type": "code",
   "execution_count": 25,
   "id": "bcd31e7d",
   "metadata": {},
   "outputs": [
    {
     "name": "stdout",
     "output_type": "stream",
     "text": [
      "15\n",
      "0\n",
      "98\n",
      "<bound method Adder.__call__ of <__main__.Adder object at 0x10b359b70>>\n"
     ]
    }
   ],
   "source": [
    "class Adder:\n",
    "    def __init__(self, num):\n",
    "        self.num = num\n",
    "    \n",
    "    def __call__(self, val):\n",
    "        return self.num + val\n",
    "    \n",
    "adder = Adder(10)\n",
    "print(adder(5))\n",
    "print(adder(-10))\n",
    "print(adder(88))\n",
    "print(adder.__call__)"
   ]
  },
  {
   "cell_type": "code",
   "execution_count": 24,
   "id": "906522c0",
   "metadata": {},
   "outputs": [
    {
     "data": {
      "text/plain": [
       "<method-wrapper '__call__' of function object at 0x10be504c0>"
      ]
     },
     "execution_count": 24,
     "metadata": {},
     "output_type": "execute_result"
    }
   ],
   "source": [
    "def func():\n",
    "    pass\n",
    "\n",
    "func.__call__"
   ]
  },
  {
   "cell_type": "code",
   "execution_count": null,
   "id": "0735f256",
   "metadata": {},
   "outputs": [],
   "source": []
  },
  {
   "cell_type": "code",
   "execution_count": 31,
   "id": "1172c4ac",
   "metadata": {},
   "outputs": [
    {
     "name": "stdout",
     "output_type": "stream",
     "text": [
      "p.x=10, p.y=20\n",
      "p.x=99, p.y=88\n"
     ]
    }
   ],
   "source": [
    "class Point:\n",
    "    __slots__ = (\"x\", \"y\")\n",
    "\n",
    "    def __init__(self, x, y):\n",
    "        self.x = x\n",
    "        self.y = y\n",
    "        \n",
    "\n",
    "p = Point(10, 20)\n",
    "print(f\"{p.x=}, {p.y=}\")\n",
    "\n",
    "p.x = 99\n",
    "p.y = 88\n",
    "print(f\"{p.x=}, {p.y=}\")"
   ]
  },
  {
   "cell_type": "code",
   "execution_count": 32,
   "id": "a631dbdc",
   "metadata": {},
   "outputs": [
    {
     "ename": "AttributeError",
     "evalue": "'Point' object has no attribute 'z'",
     "output_type": "error",
     "traceback": [
      "\u001b[0;31m---------------------------------------------------------------------------\u001b[0m",
      "\u001b[0;31mAttributeError\u001b[0m                            Traceback (most recent call last)",
      "Cell \u001b[0;32mIn [32], line 1\u001b[0m\n\u001b[0;32m----> 1\u001b[0m \u001b[43mp\u001b[49m\u001b[38;5;241;43m.\u001b[39;49m\u001b[43mz\u001b[49m \u001b[38;5;241m=\u001b[39m \u001b[38;5;241m10\u001b[39m\n",
      "\u001b[0;31mAttributeError\u001b[0m: 'Point' object has no attribute 'z'"
     ]
    }
   ],
   "source": [
    "p.z = 10"
   ]
  },
  {
   "cell_type": "code",
   "execution_count": 33,
   "id": "7597a8ec",
   "metadata": {},
   "outputs": [
    {
     "data": {
      "text/plain": [
       "mappingproxy({'__module__': '__main__',\n",
       "              '__slots__': ('x', 'y'),\n",
       "              '__init__': <function __main__.Point.__init__(self, x, y)>,\n",
       "              'x': <member 'x' of 'Point' objects>,\n",
       "              'y': <member 'y' of 'Point' objects>,\n",
       "              '__doc__': None})"
      ]
     },
     "execution_count": 33,
     "metadata": {},
     "output_type": "execute_result"
    }
   ],
   "source": [
    "Point.__dict__"
   ]
  },
  {
   "cell_type": "code",
   "execution_count": 35,
   "id": "ef011771",
   "metadata": {},
   "outputs": [
    {
     "ename": "AttributeError",
     "evalue": "'Point' object has no attribute '__dict__'",
     "output_type": "error",
     "traceback": [
      "\u001b[0;31m---------------------------------------------------------------------------\u001b[0m",
      "\u001b[0;31mAttributeError\u001b[0m                            Traceback (most recent call last)",
      "Cell \u001b[0;32mIn [35], line 1\u001b[0m\n\u001b[0;32m----> 1\u001b[0m \u001b[43mp\u001b[49m\u001b[38;5;241;43m.\u001b[39;49m\u001b[38;5;18;43m__dict__\u001b[39;49m\n",
      "\u001b[0;31mAttributeError\u001b[0m: 'Point' object has no attribute '__dict__'"
     ]
    }
   ],
   "source": [
    "p.__dict__"
   ]
  },
  {
   "cell_type": "code",
   "execution_count": 36,
   "id": "9ffc240f",
   "metadata": {},
   "outputs": [],
   "source": [
    "a = Adder(22)"
   ]
  },
  {
   "cell_type": "code",
   "execution_count": 38,
   "id": "4932bced",
   "metadata": {},
   "outputs": [
    {
     "data": {
      "text/plain": [
       "({'num': 22}, 4481748544)"
      ]
     },
     "execution_count": 38,
     "metadata": {},
     "output_type": "execute_result"
    }
   ],
   "source": [
    "a.__dict__, id(a.__dict__)"
   ]
  },
  {
   "cell_type": "code",
   "execution_count": 39,
   "id": "dcd903d6",
   "metadata": {},
   "outputs": [
    {
     "data": {
      "text/plain": [
       "(mappingproxy({'__module__': '__main__',\n",
       "               '__init__': <function __main__.Adder.__init__(self, num)>,\n",
       "               '__call__': <function __main__.Adder.__call__(self, val)>,\n",
       "               '__dict__': <attribute '__dict__' of 'Adder' objects>,\n",
       "               '__weakref__': <attribute '__weakref__' of 'Adder' objects>,\n",
       "               '__doc__': None}),\n",
       " 4481149168)"
      ]
     },
     "execution_count": 39,
     "metadata": {},
     "output_type": "execute_result"
    }
   ],
   "source": [
    "Adder.__dict__, id(Adder.__dict__)"
   ]
  },
  {
   "cell_type": "code",
   "execution_count": 42,
   "id": "9eead99c",
   "metadata": {},
   "outputs": [
    {
     "name": "stdout",
     "output_type": "stream",
     "text": [
      "xxx xxx {}\n",
      "yyy xxx {'name': 'yyy'}\n"
     ]
    }
   ],
   "source": [
    "class XXX:\n",
    "    name = \"xxx\"\n",
    "\n",
    "x = XXX()\n",
    "print(x.name, XXX.name, x.__dict__)\n",
    "\n",
    "x.name = \"yyy\"\n",
    "print(x.name, XXX.name, x.__dict__)"
   ]
  },
  {
   "cell_type": "code",
   "execution_count": null,
   "id": "311bc9e8",
   "metadata": {},
   "outputs": [],
   "source": []
  },
  {
   "cell_type": "code",
   "execution_count": 45,
   "id": "29cdb3fa",
   "metadata": {},
   "outputs": [
    {
     "name": "stdout",
     "output_type": "stream",
     "text": [
      "INIT subclass <class '__main__.MinuteTiming'> {}\n",
      "INIT subclass <class '__main__.SecondsTiming'> {}\n",
      "INIT subclass <class '__main__.SecondsTiming'> {}\n"
     ]
    }
   ],
   "source": [
    "class Timing:\n",
    "    def __init__(self, start, end):\n",
    "        self.start = start\n",
    "        self.end = end\n",
    "\n",
    "    @classmethod\n",
    "    def __init_subclass__(cls, **kwargs):\n",
    "        print(\"INIT subclass\", cls, kwargs)\n",
    "        super().__init_subclass__(**kwargs)\n",
    "\n",
    "\n",
    "class MinuteTiming(Timing):\n",
    "    def duration(self):\n",
    "        print(\"MinuteTiming.duration\")\n",
    "        seconds = super().duration()\n",
    "        return seconds / 60\n",
    "    \n",
    "\n",
    "class SecondsTiming(Timing):\n",
    "    pass\n",
    "\n",
    "\n",
    "class SecondsTiming(MinuteTiming):\n",
    "    pass"
   ]
  },
  {
   "cell_type": "code",
   "execution_count": null,
   "id": "adebaa2f",
   "metadata": {},
   "outputs": [],
   "source": []
  },
  {
   "cell_type": "code",
   "execution_count": 90,
   "id": "6e053e69",
   "metadata": {},
   "outputs": [
    {
     "name": "stdout",
     "output_type": "stream",
     "text": [
      "setattr self=<__main__.Attrs object at 0x10b3db490>, name='num', val=99\n",
      "setattr self=<__main__.Attrs object at 0x10b3db490>, name='_Attrs__priv', val='PRIV'\n",
      "setattr self=<__main__.Attrs object at 0x10b3db490>, name='diff', val='qwerty'\n"
     ]
    }
   ],
   "source": [
    "class Attrs:\n",
    "    def __init__(self, num):\n",
    "        self.num = num\n",
    "        self.__priv = \"PRIV\"\n",
    "\n",
    "    def __getattribute__(self, name):\n",
    "        print(f\"getattribute {self=}, {name=}\")\n",
    "        return super().__getattribute__(name)\n",
    "    \n",
    "    def __getattr__(self, name):\n",
    "        print(f\"getattr {self=}, {name=}\")\n",
    "#         return 42\n",
    "        return super().__getattribute__(name)\n",
    "\n",
    "    def __setattr__(self, name, val):\n",
    "        print(f\"setattr {self=}, {name=}, {val=}\")\n",
    "        return super().__setattr__(name, val)\n",
    "    \n",
    "    def __delattr__(self, name):\n",
    "        print(f\"delattr {self=}, {name=}\")\n",
    "        return super().__delattr__(name)\n",
    "    \n",
    "\n",
    "a = Attrs(99)\n",
    "a.diff = \"qwerty\""
   ]
  },
  {
   "cell_type": "code",
   "execution_count": 78,
   "id": "9434ead0",
   "metadata": {},
   "outputs": [
    {
     "name": "stdout",
     "output_type": "stream",
     "text": [
      "getattribute self=<__main__.Attrs object at 0x10b3c4d00>, name='__dict__'\n"
     ]
    },
    {
     "data": {
      "text/plain": [
       "{'num': 99, '_Attrs__priv': 'PRIV', 'diff': 'qwerty'}"
      ]
     },
     "execution_count": 78,
     "metadata": {},
     "output_type": "execute_result"
    }
   ],
   "source": [
    "a.__dict__"
   ]
  },
  {
   "cell_type": "code",
   "execution_count": null,
   "id": "c9af1a51",
   "metadata": {},
   "outputs": [],
   "source": []
  },
  {
   "cell_type": "code",
   "execution_count": 51,
   "id": "b4c89e01",
   "metadata": {},
   "outputs": [
    {
     "name": "stdout",
     "output_type": "stream",
     "text": [
      "getattribute self=<__main__.Attrs object at 0x10b368d00>, name='diff'\n"
     ]
    },
    {
     "data": {
      "text/plain": [
       "'qwerty'"
      ]
     },
     "execution_count": 51,
     "metadata": {},
     "output_type": "execute_result"
    }
   ],
   "source": [
    "a.diff"
   ]
  },
  {
   "cell_type": "code",
   "execution_count": 52,
   "id": "36c72ad3",
   "metadata": {},
   "outputs": [
    {
     "name": "stdout",
     "output_type": "stream",
     "text": [
      "getattribute self=<__main__.Attrs object at 0x10b368d00>, name='num'\n"
     ]
    },
    {
     "data": {
      "text/plain": [
       "99"
      ]
     },
     "execution_count": 52,
     "metadata": {},
     "output_type": "execute_result"
    }
   ],
   "source": [
    "a.num"
   ]
  },
  {
   "cell_type": "code",
   "execution_count": 87,
   "id": "0f1373b0",
   "metadata": {},
   "outputs": [
    {
     "name": "stdout",
     "output_type": "stream",
     "text": [
      "getattribute self=<__main__.Attrs object at 0x10b3da380>, name='fake'\n",
      "getattr self=<__main__.Attrs object at 0x10b3da380>, name='fake'\n",
      "getattribute self=<__main__.Attrs object at 0x10b3da380>, name='fake2'\n",
      "getattr self=<__main__.Attrs object at 0x10b3da380>, name='fake2'\n"
     ]
    },
    {
     "data": {
      "text/plain": [
       "(42, 42)"
      ]
     },
     "execution_count": 87,
     "metadata": {},
     "output_type": "execute_result"
    }
   ],
   "source": [
    "a.fake, a.fake2"
   ]
  },
  {
   "cell_type": "code",
   "execution_count": null,
   "id": "7ae2d36d",
   "metadata": {},
   "outputs": [],
   "source": []
  },
  {
   "cell_type": "code",
   "execution_count": 73,
   "id": "738202bb",
   "metadata": {},
   "outputs": [
    {
     "name": "stdout",
     "output_type": "stream",
     "text": [
      "getattribute self=<__main__.Attrs object at 0x10b3c9b40>, name='__dict__'\n"
     ]
    },
    {
     "data": {
      "text/plain": [
       "{'num': 99, 'diff': 'qwerty'}"
      ]
     },
     "execution_count": 73,
     "metadata": {},
     "output_type": "execute_result"
    }
   ],
   "source": [
    "a.__dict__"
   ]
  },
  {
   "cell_type": "code",
   "execution_count": 74,
   "id": "a1e7d91a",
   "metadata": {},
   "outputs": [
    {
     "name": "stdout",
     "output_type": "stream",
     "text": [
      "delattr self=<__main__.Attrs object at 0x10b3c9b40>, name='num'\n"
     ]
    }
   ],
   "source": [
    "del a.num"
   ]
  },
  {
   "cell_type": "code",
   "execution_count": 75,
   "id": "3a9abb89",
   "metadata": {},
   "outputs": [
    {
     "name": "stdout",
     "output_type": "stream",
     "text": [
      "getattribute self=<__main__.Attrs object at 0x10b3c9b40>, name='__dict__'\n"
     ]
    },
    {
     "data": {
      "text/plain": [
       "{'diff': 'qwerty'}"
      ]
     },
     "execution_count": 75,
     "metadata": {},
     "output_type": "execute_result"
    }
   ],
   "source": [
    "a.__dict__"
   ]
  },
  {
   "cell_type": "code",
   "execution_count": 76,
   "id": "8f786775",
   "metadata": {},
   "outputs": [
    {
     "name": "stdout",
     "output_type": "stream",
     "text": [
      "getattribute self=<__main__.Attrs object at 0x10b3c9b40>, name='num'\n",
      "getattr self=<__main__.Attrs object at 0x10b3c9b40>, name='num'\n"
     ]
    },
    {
     "ename": "AttributeError",
     "evalue": "type object 'object' has no attribute '__getattr__'",
     "output_type": "error",
     "traceback": [
      "\u001b[0;31m---------------------------------------------------------------------------\u001b[0m",
      "\u001b[0;31mAttributeError\u001b[0m                            Traceback (most recent call last)",
      "Cell \u001b[0;32mIn [76], line 1\u001b[0m\n\u001b[0;32m----> 1\u001b[0m \u001b[43ma\u001b[49m\u001b[38;5;241;43m.\u001b[39;49m\u001b[43mnum\u001b[49m\n",
      "Cell \u001b[0;32mIn [72], line 11\u001b[0m, in \u001b[0;36mAttrs.__getattr__\u001b[0;34m(self, name)\u001b[0m\n\u001b[1;32m      9\u001b[0m \u001b[38;5;28;01mdef\u001b[39;00m \u001b[38;5;21m__getattr__\u001b[39m(\u001b[38;5;28mself\u001b[39m, name):\n\u001b[1;32m     10\u001b[0m     \u001b[38;5;28mprint\u001b[39m(\u001b[38;5;124mf\u001b[39m\u001b[38;5;124m\"\u001b[39m\u001b[38;5;124mgetattr \u001b[39m\u001b[38;5;132;01m{\u001b[39;00m\u001b[38;5;28mself\u001b[39m\u001b[38;5;132;01m=}\u001b[39;00m\u001b[38;5;124m, \u001b[39m\u001b[38;5;132;01m{\u001b[39;00mname\u001b[38;5;132;01m=}\u001b[39;00m\u001b[38;5;124m\"\u001b[39m)\n\u001b[0;32m---> 11\u001b[0m     \u001b[38;5;28;01mreturn\u001b[39;00m \u001b[38;5;28;43mobject\u001b[39;49m\u001b[38;5;241;43m.\u001b[39;49m\u001b[38;5;21;43m__getattr__\u001b[39;49m(name)\n",
      "\u001b[0;31mAttributeError\u001b[0m: type object 'object' has no attribute '__getattr__'"
     ]
    }
   ],
   "source": [
    "a.num"
   ]
  },
  {
   "cell_type": "code",
   "execution_count": 91,
   "id": "98c3ba15",
   "metadata": {},
   "outputs": [
    {
     "name": "stdout",
     "output_type": "stream",
     "text": [
      "getattribute self=<__main__.Attrs object at 0x10b3db490>, name='num'\n",
      "getattribute self=<__main__.Attrs object at 0x10b3db490>, name='fake'\n",
      "getattr self=<__main__.Attrs object at 0x10b3db490>, name='fake'\n"
     ]
    },
    {
     "data": {
      "text/plain": [
       "(True, False)"
      ]
     },
     "execution_count": 91,
     "metadata": {},
     "output_type": "execute_result"
    }
   ],
   "source": [
    "hasattr(a, \"num\"), hasattr(a, \"fake\")"
   ]
  },
  {
   "cell_type": "code",
   "execution_count": 93,
   "id": "1ae9e658",
   "metadata": {},
   "outputs": [
    {
     "name": "stdout",
     "output_type": "stream",
     "text": [
      "getattribute self=<__main__.Attrs object at 0x10b3db490>, name='num'\n",
      "getattribute self=<__main__.Attrs object at 0x10b3db490>, name='fake'\n",
      "getattr self=<__main__.Attrs object at 0x10b3db490>, name='fake'\n"
     ]
    },
    {
     "data": {
      "text/plain": [
       "(99, 42)"
      ]
     },
     "execution_count": 93,
     "metadata": {},
     "output_type": "execute_result"
    }
   ],
   "source": [
    "getattr(a, \"num\"), getattr(a, \"fake\", 42)"
   ]
  },
  {
   "cell_type": "code",
   "execution_count": 94,
   "id": "68108377",
   "metadata": {},
   "outputs": [
    {
     "name": "stdout",
     "output_type": "stream",
     "text": [
      "setattr self=<__main__.Attrs object at 0x10b3db490>, name='num', val='777'\n",
      "setattr self=<__main__.Attrs object at 0x10b3db490>, name='fake', val=84\n",
      "getattribute self=<__main__.Attrs object at 0x10b3db490>, name='num'\n",
      "getattribute self=<__main__.Attrs object at 0x10b3db490>, name='fake'\n",
      "777 84\n"
     ]
    }
   ],
   "source": [
    "setattr(a, \"num\", \"777\"), setattr(a, \"fake\", 84)\n",
    "print(a.num, a.fake)"
   ]
  },
  {
   "cell_type": "code",
   "execution_count": 95,
   "id": "a5639c41",
   "metadata": {},
   "outputs": [
    {
     "name": "stdout",
     "output_type": "stream",
     "text": [
      "delattr self=<__main__.Attrs object at 0x10b3db490>, name='num'\n",
      "delattr self=<__main__.Attrs object at 0x10b3db490>, name='fake1'\n"
     ]
    },
    {
     "ename": "AttributeError",
     "evalue": "fake1",
     "output_type": "error",
     "traceback": [
      "\u001b[0;31m---------------------------------------------------------------------------\u001b[0m",
      "\u001b[0;31mAttributeError\u001b[0m                            Traceback (most recent call last)",
      "Cell \u001b[0;32mIn [95], line 1\u001b[0m\n\u001b[0;32m----> 1\u001b[0m \u001b[38;5;28mdelattr\u001b[39m(a, \u001b[38;5;124m\"\u001b[39m\u001b[38;5;124mnum\u001b[39m\u001b[38;5;124m\"\u001b[39m), \u001b[38;5;28;43mdelattr\u001b[39;49m\u001b[43m(\u001b[49m\u001b[43ma\u001b[49m\u001b[43m,\u001b[49m\u001b[43m \u001b[49m\u001b[38;5;124;43m\"\u001b[39;49m\u001b[38;5;124;43mfake1\u001b[39;49m\u001b[38;5;124;43m\"\u001b[39;49m\u001b[43m)\u001b[49m\n",
      "Cell \u001b[0;32mIn [90], line 21\u001b[0m, in \u001b[0;36mAttrs.__delattr__\u001b[0;34m(self, name)\u001b[0m\n\u001b[1;32m     19\u001b[0m \u001b[38;5;28;01mdef\u001b[39;00m \u001b[38;5;21m__delattr__\u001b[39m(\u001b[38;5;28mself\u001b[39m, name):\n\u001b[1;32m     20\u001b[0m     \u001b[38;5;28mprint\u001b[39m(\u001b[38;5;124mf\u001b[39m\u001b[38;5;124m\"\u001b[39m\u001b[38;5;124mdelattr \u001b[39m\u001b[38;5;132;01m{\u001b[39;00m\u001b[38;5;28mself\u001b[39m\u001b[38;5;132;01m=}\u001b[39;00m\u001b[38;5;124m, \u001b[39m\u001b[38;5;132;01m{\u001b[39;00mname\u001b[38;5;132;01m=}\u001b[39;00m\u001b[38;5;124m\"\u001b[39m)\n\u001b[0;32m---> 21\u001b[0m     \u001b[38;5;28;01mreturn\u001b[39;00m \u001b[38;5;28;43msuper\u001b[39;49m\u001b[43m(\u001b[49m\u001b[43m)\u001b[49m\u001b[38;5;241;43m.\u001b[39;49m\u001b[38;5;21;43m__delattr__\u001b[39;49m\u001b[43m(\u001b[49m\u001b[43mname\u001b[49m\u001b[43m)\u001b[49m\n",
      "\u001b[0;31mAttributeError\u001b[0m: fake1"
     ]
    }
   ],
   "source": [
    "delattr(a, \"num\"), delattr(a, \"fake1\")"
   ]
  },
  {
   "cell_type": "code",
   "execution_count": 96,
   "id": "c8bf128c",
   "metadata": {},
   "outputs": [
    {
     "name": "stdout",
     "output_type": "stream",
     "text": [
      "getattribute self=<__main__.Attrs object at 0x10b3db490>, name='num'\n",
      "getattr self=<__main__.Attrs object at 0x10b3db490>, name='num'\n"
     ]
    },
    {
     "ename": "AttributeError",
     "evalue": "'Attrs' object has no attribute 'num'",
     "output_type": "error",
     "traceback": [
      "\u001b[0;31m---------------------------------------------------------------------------\u001b[0m",
      "\u001b[0;31mAttributeError\u001b[0m                            Traceback (most recent call last)",
      "Cell \u001b[0;32mIn [96], line 1\u001b[0m\n\u001b[0;32m----> 1\u001b[0m \u001b[43ma\u001b[49m\u001b[38;5;241;43m.\u001b[39;49m\u001b[43mnum\u001b[49m\n",
      "Cell \u001b[0;32mIn [90], line 13\u001b[0m, in \u001b[0;36mAttrs.__getattr__\u001b[0;34m(self, name)\u001b[0m\n\u001b[1;32m     11\u001b[0m         \u001b[38;5;28mprint\u001b[39m(\u001b[38;5;124mf\u001b[39m\u001b[38;5;124m\"\u001b[39m\u001b[38;5;124mgetattr \u001b[39m\u001b[38;5;132;01m{\u001b[39;00m\u001b[38;5;28mself\u001b[39m\u001b[38;5;132;01m=}\u001b[39;00m\u001b[38;5;124m, \u001b[39m\u001b[38;5;132;01m{\u001b[39;00mname\u001b[38;5;132;01m=}\u001b[39;00m\u001b[38;5;124m\"\u001b[39m)\n\u001b[1;32m     12\u001b[0m \u001b[38;5;66;03m#         return 42\u001b[39;00m\n\u001b[0;32m---> 13\u001b[0m         \u001b[38;5;28;01mreturn\u001b[39;00m \u001b[38;5;28;43msuper\u001b[39;49m\u001b[43m(\u001b[49m\u001b[43m)\u001b[49m\u001b[38;5;241;43m.\u001b[39;49m\u001b[38;5;21;43m__getattribute__\u001b[39;49m\u001b[43m(\u001b[49m\u001b[43mname\u001b[49m\u001b[43m)\u001b[49m\n",
      "\u001b[0;31mAttributeError\u001b[0m: 'Attrs' object has no attribute 'num'"
     ]
    }
   ],
   "source": [
    "a.num"
   ]
  },
  {
   "cell_type": "code",
   "execution_count": null,
   "id": "21baee7c",
   "metadata": {},
   "outputs": [],
   "source": []
  },
  {
   "cell_type": "code",
   "execution_count": null,
   "id": "b045e33a",
   "metadata": {},
   "outputs": [],
   "source": []
  },
  {
   "cell_type": "code",
   "execution_count": null,
   "id": "fa68465c",
   "metadata": {},
   "outputs": [],
   "source": []
  },
  {
   "cell_type": "code",
   "execution_count": null,
   "id": "1167c533",
   "metadata": {},
   "outputs": [],
   "source": []
  },
  {
   "cell_type": "code",
   "execution_count": null,
   "id": "bc598680",
   "metadata": {},
   "outputs": [],
   "source": []
  },
  {
   "cell_type": "code",
   "execution_count": 106,
   "id": "b9d68b81",
   "metadata": {},
   "outputs": [
    {
     "name": "stdout",
     "output_type": "stream",
     "text": [
      "set 1 for <__main__.MyClass object at 0x10cbb38e0> id(self)=4508553552\n",
      "set 2 for <__main__.MyClass object at 0x10cbb25c0> id(self)=4508553552\n",
      "get <__main__.MyClass object at 0x10cbb38e0> cls=<class '__main__.MyClass'>\n",
      "get <__main__.MyClass object at 0x10cbb25c0> cls=<class '__main__.MyClass'>\n",
      "\n",
      "obj1.field=2, obj2.field=2\n",
      "set 3 for <__main__.MyClassInit object at 0x10cbb1180> id(self)=4508563248\n",
      "set 4 for <__main__.MyClassInit object at 0x10cbb3250> id(self)=4508563248\n",
      "get <__main__.MyClassInit object at 0x10cbb1180> cls=<class '__main__.MyClassInit'>\n",
      "get <__main__.MyClassInit object at 0x10cbb3250> cls=<class '__main__.MyClassInit'>\n",
      "\n",
      "obj3.field=4, obj4.field=4\n",
      "set 33 for <__main__.MyClassInit object at 0x10cbb1180> id(self)=4508563248\n",
      "set 44 for <__main__.MyClassInit object at 0x10cbb3250> id(self)=4508563248\n",
      "get <__main__.MyClassInit object at 0x10cbb1180> cls=<class '__main__.MyClassInit'>\n",
      "get <__main__.MyClassInit object at 0x10cbb3250> cls=<class '__main__.MyClassInit'>\n",
      "\n",
      "obj3.field=44, obj4.field=44\n"
     ]
    }
   ],
   "source": [
    "class MyDescriptor:\n",
    "    \n",
    "    def __init__(self):\n",
    "        self.val = 0\n",
    "\n",
    "    def __get__(self, obj, objtype):\n",
    "        print(f\"get {obj} cls={objtype}\")\n",
    "\n",
    "        return self.val\n",
    "\n",
    "    def __set__(self, obj, val):\n",
    "        print(f\"set {val} for {obj} {id(self)=}\")\n",
    "        self.val = val\n",
    "        \n",
    "    def __delete__(self, obj):\n",
    "        print(f\"delete from {obj}\")\n",
    "\n",
    "        \n",
    "class MyClass:\n",
    "    field = MyDescriptor()\n",
    "\n",
    "\n",
    "class MyClassInit:\n",
    "    field = MyDescriptor()\n",
    "    \n",
    "    def __init__(self, val):\n",
    "        self.field = val\n",
    "\n",
    "\n",
    "obj1 = MyClass()\n",
    "obj2 = MyClass()\n",
    "\n",
    "obj1.field = 1\n",
    "obj2.field = 2\n",
    "print(f\"\\n{obj1.field=}, {obj2.field=}\")\n",
    "\n",
    "obj3 = MyClassInit(3)\n",
    "obj4 = MyClassInit(4)\n",
    "print(f\"\\n{obj3.field=}, {obj4.field=}\")\n",
    "\n",
    "obj3.field = 33\n",
    "obj4.field = 44\n",
    "\n",
    "print(f\"\\n{obj3.field=}, {obj4.field=}\")"
   ]
  },
  {
   "cell_type": "code",
   "execution_count": 103,
   "id": "74832215",
   "metadata": {},
   "outputs": [
    {
     "data": {
      "text/plain": [
       "mappingproxy({'__module__': '__main__',\n",
       "              'field': <__main__.MyDescriptor at 0x10c283e80>,\n",
       "              '__dict__': <attribute '__dict__' of 'MyClass' objects>,\n",
       "              '__weakref__': <attribute '__weakref__' of 'MyClass' objects>,\n",
       "              '__doc__': None})"
      ]
     },
     "execution_count": 103,
     "metadata": {},
     "output_type": "execute_result"
    }
   ],
   "source": [
    "MyClass.__dict__"
   ]
  },
  {
   "cell_type": "code",
   "execution_count": 104,
   "id": "734ea945",
   "metadata": {},
   "outputs": [
    {
     "data": {
      "text/plain": [
       "{}"
      ]
     },
     "execution_count": 104,
     "metadata": {},
     "output_type": "execute_result"
    }
   ],
   "source": [
    "obj1.__dict__"
   ]
  },
  {
   "cell_type": "code",
   "execution_count": 119,
   "id": "5b962a9f",
   "metadata": {},
   "outputs": [
    {
     "name": "stdout",
     "output_type": "stream",
     "text": [
      "set 1 for <__main__.MyClass object at 0x10c27ed40>\n",
      "set 2 for <__main__.MyClass object at 0x10c27c280>\n",
      "get <__main__.MyClass object at 0x10c27ed40> cls=<class '__main__.MyClass'>\n",
      "get <__main__.MyClass object at 0x10c27c280> cls=<class '__main__.MyClass'>\n",
      "\n",
      "obj1.field=1, obj2.field=2\n"
     ]
    }
   ],
   "source": [
    "class MyDescriptor:\n",
    "    \n",
    "    def __set_name__(self, owner, name):\n",
    "        self.name = name\n",
    "        self._protected_name = f\"_{name}\"\n",
    "\n",
    "    def __get__(self, obj, objtype):\n",
    "        print(f\"get {obj} cls={objtype}\")\n",
    "        \n",
    "        return getattr(obj, self._protected_name)\n",
    "\n",
    "    def __set__(self, obj, val):\n",
    "        print(f\"set {val} for {obj}\")\n",
    "\n",
    "        return setattr(obj, self._protected_name, val)\n",
    "        \n",
    "    def __delete__(self, obj):\n",
    "        print(f\"delete from {obj}\")\n",
    "        delattr(obj, self._protected_name)\n",
    "\n",
    "        \n",
    "class MyClass:\n",
    "    field = MyDescriptor()\n",
    "\n",
    "\n",
    "obj1 = MyClass()\n",
    "obj2 = MyClass()\n",
    "\n",
    "obj1.field = 1\n",
    "obj2.field = 2\n",
    "print(f\"\\n{obj1.field=}, {obj2.field=}\")\n",
    "\n",
    "# obj3 = MyClassInit(3)\n",
    "# obj4 = MyClassInit(4)\n",
    "# print(f\"\\n{obj3.field=}, {obj4.field=}\")\n",
    "\n",
    "# obj3.field = 33\n",
    "# obj4.field = 44\n",
    "\n",
    "# print(f\"\\n{obj3.field=}, {obj4.field=}\")"
   ]
  },
  {
   "cell_type": "code",
   "execution_count": 109,
   "id": "060af038",
   "metadata": {},
   "outputs": [
    {
     "data": {
      "text/plain": [
       "{'_field': 1}"
      ]
     },
     "execution_count": 109,
     "metadata": {},
     "output_type": "execute_result"
    }
   ],
   "source": [
    "obj1.__dict__"
   ]
  },
  {
   "cell_type": "code",
   "execution_count": 110,
   "id": "f025b23f",
   "metadata": {},
   "outputs": [
    {
     "data": {
      "text/plain": [
       "1"
      ]
     },
     "execution_count": 110,
     "metadata": {},
     "output_type": "execute_result"
    }
   ],
   "source": [
    "obj1._field, "
   ]
  },
  {
   "cell_type": "code",
   "execution_count": 111,
   "id": "6bf943aa",
   "metadata": {},
   "outputs": [
    {
     "name": "stdout",
     "output_type": "stream",
     "text": [
      "set 123 for <__main__.MyClass object at 0x10c27f910>\n"
     ]
    }
   ],
   "source": [
    "obj1.field = \"123\""
   ]
  },
  {
   "cell_type": "code",
   "execution_count": 121,
   "id": "5f90a763",
   "metadata": {},
   "outputs": [],
   "source": [
    "obj1.__dict__[\"field\"] = \"9999\""
   ]
  },
  {
   "cell_type": "code",
   "execution_count": 122,
   "id": "82efbc6a",
   "metadata": {},
   "outputs": [
    {
     "name": "stdout",
     "output_type": "stream",
     "text": [
      "get <__main__.MyClass object at 0x10c27ed40> cls=<class '__main__.MyClass'>\n"
     ]
    },
    {
     "data": {
      "text/plain": [
       "1"
      ]
     },
     "execution_count": 122,
     "metadata": {},
     "output_type": "execute_result"
    }
   ],
   "source": [
    "obj1.field"
   ]
  },
  {
   "cell_type": "code",
   "execution_count": 115,
   "id": "e94cee41",
   "metadata": {},
   "outputs": [
    {
     "data": {
      "text/plain": [
       "{'_field': '123', 'field': '9999'}"
      ]
     },
     "execution_count": 115,
     "metadata": {},
     "output_type": "execute_result"
    }
   ],
   "source": [
    "obj1.__dict__"
   ]
  },
  {
   "cell_type": "code",
   "execution_count": 124,
   "id": "221c7cf6",
   "metadata": {},
   "outputs": [
    {
     "name": "stdout",
     "output_type": "stream",
     "text": [
      "get <__main__.MyClass object at 0x10c27ed40> cls=<class '__main__.MyClass'>\n"
     ]
    },
    {
     "ename": "AttributeError",
     "evalue": "'MyClass' object has no attribute '_field'",
     "output_type": "error",
     "traceback": [
      "\u001b[0;31m---------------------------------------------------------------------------\u001b[0m",
      "\u001b[0;31mAttributeError\u001b[0m                            Traceback (most recent call last)",
      "Cell \u001b[0;32mIn [124], line 1\u001b[0m\n\u001b[0;32m----> 1\u001b[0m \u001b[43mobj1\u001b[49m\u001b[38;5;241;43m.\u001b[39;49m\u001b[43mfield\u001b[49m\n",
      "Cell \u001b[0;32mIn [119], line 10\u001b[0m, in \u001b[0;36mMyDescriptor.__get__\u001b[0;34m(self, obj, objtype)\u001b[0m\n\u001b[1;32m      7\u001b[0m \u001b[38;5;28;01mdef\u001b[39;00m \u001b[38;5;21m__get__\u001b[39m(\u001b[38;5;28mself\u001b[39m, obj, objtype):\n\u001b[1;32m      8\u001b[0m     \u001b[38;5;28mprint\u001b[39m(\u001b[38;5;124mf\u001b[39m\u001b[38;5;124m\"\u001b[39m\u001b[38;5;124mget \u001b[39m\u001b[38;5;132;01m{\u001b[39;00mobj\u001b[38;5;132;01m}\u001b[39;00m\u001b[38;5;124m cls=\u001b[39m\u001b[38;5;132;01m{\u001b[39;00mobjtype\u001b[38;5;132;01m}\u001b[39;00m\u001b[38;5;124m\"\u001b[39m)\n\u001b[0;32m---> 10\u001b[0m     \u001b[38;5;28;01mreturn\u001b[39;00m \u001b[38;5;28;43mgetattr\u001b[39;49m\u001b[43m(\u001b[49m\u001b[43mobj\u001b[49m\u001b[43m,\u001b[49m\u001b[43m \u001b[49m\u001b[38;5;28;43mself\u001b[39;49m\u001b[38;5;241;43m.\u001b[39;49m\u001b[43m_protected_name\u001b[49m\u001b[43m)\u001b[49m\n",
      "\u001b[0;31mAttributeError\u001b[0m: 'MyClass' object has no attribute '_field'"
     ]
    }
   ],
   "source": [
    "obj1.field"
   ]
  },
  {
   "cell_type": "code",
   "execution_count": 123,
   "id": "c3b64160",
   "metadata": {},
   "outputs": [
    {
     "name": "stdout",
     "output_type": "stream",
     "text": [
      "delete from <__main__.MyClass object at 0x10c27ed40>\n"
     ]
    }
   ],
   "source": [
    "del obj1.field"
   ]
  },
  {
   "cell_type": "code",
   "execution_count": null,
   "id": "35dab7dc",
   "metadata": {},
   "outputs": [],
   "source": []
  },
  {
   "cell_type": "code",
   "execution_count": null,
   "id": "ed3c6c6f",
   "metadata": {},
   "outputs": [],
   "source": []
  },
  {
   "cell_type": "code",
   "execution_count": null,
   "id": "38da1371",
   "metadata": {},
   "outputs": [],
   "source": []
  },
  {
   "cell_type": "code",
   "execution_count": 125,
   "id": "7cf4ed35",
   "metadata": {},
   "outputs": [],
   "source": [
    "class Foo:\n",
    "    pass\n",
    "\n",
    "f = Foo()"
   ]
  },
  {
   "cell_type": "code",
   "execution_count": 127,
   "id": "d1c7ee9f",
   "metadata": {},
   "outputs": [
    {
     "data": {
      "text/plain": [
       "(True, True)"
      ]
     },
     "execution_count": 127,
     "metadata": {},
     "output_type": "execute_result"
    }
   ],
   "source": [
    "isinstance(f, Foo), isinstance(f, (int, float, str, Foo))"
   ]
  },
  {
   "cell_type": "code",
   "execution_count": 128,
   "id": "7e0e0685",
   "metadata": {},
   "outputs": [
    {
     "data": {
      "text/plain": [
       "True"
      ]
     },
     "execution_count": 128,
     "metadata": {},
     "output_type": "execute_result"
    }
   ],
   "source": [
    "isinstance(f, object)"
   ]
  },
  {
   "cell_type": "code",
   "execution_count": 132,
   "id": "1319a3da",
   "metadata": {},
   "outputs": [
    {
     "data": {
      "text/plain": [
       "(True, True, False)"
      ]
     },
     "execution_count": 132,
     "metadata": {},
     "output_type": "execute_result"
    }
   ],
   "source": [
    "(\n",
    "    issubclass(Foo, object),\n",
    "    issubclass(Foo, (int, float, str, object)),\n",
    "    issubclass(Foo, (int, float))\n",
    ")"
   ]
  },
  {
   "cell_type": "code",
   "execution_count": 137,
   "id": "d8e568f4",
   "metadata": {},
   "outputs": [
    {
     "data": {
      "text/plain": [
       "(True, True, True)"
      ]
     },
     "execution_count": 137,
     "metadata": {},
     "output_type": "execute_result"
    }
   ],
   "source": [
    "isinstance(object, type), isinstance(Foo, type), isinstance(type, object)"
   ]
  },
  {
   "cell_type": "code",
   "execution_count": 138,
   "id": "c7a87409",
   "metadata": {},
   "outputs": [
    {
     "data": {
      "text/plain": [
       "(False, False, True)"
      ]
     },
     "execution_count": 138,
     "metadata": {},
     "output_type": "execute_result"
    }
   ],
   "source": [
    "issubclass(object, type), issubclass(Foo, type), issubclass(type, object)"
   ]
  },
  {
   "cell_type": "code",
   "execution_count": null,
   "id": "7e563e35",
   "metadata": {},
   "outputs": [],
   "source": []
  },
  {
   "cell_type": "code",
   "execution_count": 140,
   "id": "748e4bad",
   "metadata": {},
   "outputs": [
    {
     "data": {
      "text/plain": [
       "(int, __main__.Foo, type, type)"
      ]
     },
     "execution_count": 140,
     "metadata": {},
     "output_type": "execute_result"
    }
   ],
   "source": [
    "type(1), type(f), type(object), type(type)"
   ]
  },
  {
   "cell_type": "code",
   "execution_count": null,
   "id": "8a7d6868",
   "metadata": {},
   "outputs": [],
   "source": []
  },
  {
   "cell_type": "code",
   "execution_count": null,
   "id": "5b352b19",
   "metadata": {},
   "outputs": [],
   "source": []
  },
  {
   "cell_type": "code",
   "execution_count": 143,
   "id": "46353b76",
   "metadata": {},
   "outputs": [
    {
     "name": "stdout",
     "output_type": "stream",
     "text": [
      "Foo Foo\n"
     ]
    }
   ],
   "source": [
    "class Foo:\n",
    "    def __init__(self):\n",
    "        self.val = 10\n",
    "\n",
    "f = Foo()\n",
    "\n",
    "\n",
    "Foo2 = Foo\n",
    "print(Foo2.__name__, Foo.__name__)"
   ]
  },
  {
   "cell_type": "code",
   "execution_count": null,
   "id": "40bcfad1",
   "metadata": {},
   "outputs": [],
   "source": []
  },
  {
   "cell_type": "code",
   "execution_count": null,
   "id": "cae3497e",
   "metadata": {},
   "outputs": [],
   "source": []
  },
  {
   "cell_type": "code",
   "execution_count": 145,
   "id": "a9516cec",
   "metadata": {},
   "outputs": [
    {
     "data": {
      "text/plain": [
       "100"
      ]
     },
     "execution_count": 145,
     "metadata": {},
     "output_type": "execute_result"
    }
   ],
   "source": [
    "Bar = type(\"Bar\", (Foo,), dict(attr=100))\n",
    "\n",
    "Bar.attr"
   ]
  },
  {
   "cell_type": "code",
   "execution_count": 146,
   "id": "e9cc0d75",
   "metadata": {},
   "outputs": [
    {
     "data": {
      "text/plain": [
       "100"
      ]
     },
     "execution_count": 146,
     "metadata": {},
     "output_type": "execute_result"
    }
   ],
   "source": [
    "b = Bar()\n",
    "b.attr"
   ]
  },
  {
   "cell_type": "code",
   "execution_count": 148,
   "id": "e569b343",
   "metadata": {},
   "outputs": [
    {
     "data": {
      "text/plain": [
       "(True, False, True, True)"
      ]
     },
     "execution_count": 148,
     "metadata": {},
     "output_type": "execute_result"
    }
   ],
   "source": [
    "isinstance(b, object), isinstance(b, type), isinstance(Bar, type), issubclass(Bar, object)"
   ]
  },
  {
   "cell_type": "code",
   "execution_count": null,
   "id": "e457949f",
   "metadata": {},
   "outputs": [],
   "source": []
  },
  {
   "cell_type": "code",
   "execution_count": 164,
   "id": "aef88c9f",
   "metadata": {},
   "outputs": [],
   "source": [
    "class AMeta(type):\n",
    "    def __new__(mcs, name, bases, classdict, **kwargs):\n",
    "        print('Meta __new__ mcs', mcs)\n",
    "        cls = super().__new__(mcs, name, bases, classdict)\n",
    "        print('Meta __new__ cls', cls)\n",
    "        return cls\n",
    "\n",
    "    def __init__(cls, name, bases, classdict, **kwargs):\n",
    "        print(\"meta.__init__\", cls)\n",
    "        super().__init__(name, bases, classdict, **kwargs)\n",
    "\n",
    "    def __call__(cls, *args, **kwargs):\n",
    "        print('Meta __call__', cls)\n",
    "        return super().__call__(*args, **kwargs)\n",
    "\n",
    "    @classmethod\n",
    "    def __prepare__(mcs, name, bases, **kwargs):\n",
    "        print('Meta __prepare__', **kwargs)\n",
    "        return {'b': 2, 'a': 5}"
   ]
  },
  {
   "cell_type": "code",
   "execution_count": 154,
   "id": "9cdbf152",
   "metadata": {},
   "outputs": [
    {
     "name": "stdout",
     "output_type": "stream",
     "text": [
      "Meta __new__ mcs <class '__main__.AMeta'>\n",
      "Meta __new__ cls <class '__main__.Bar2'>\n",
      "meta.__init__\n"
     ]
    }
   ],
   "source": [
    "Bar2 = AMeta(\"Bar2\", (Foo,), dict(attr=100))"
   ]
  },
  {
   "cell_type": "code",
   "execution_count": 165,
   "id": "6ca3e3ff",
   "metadata": {},
   "outputs": [
    {
     "name": "stdout",
     "output_type": "stream",
     "text": [
      "Meta __prepare__\n",
      "Meta __new__ mcs <class '__main__.AMeta'>\n",
      "Meta __new__ cls <class '__main__.Custom'>\n",
      "meta.__init__ <class '__main__.Custom'>\n",
      "-----\n",
      "Meta __call__ <class '__main__.Custom'>\n",
      "custom.__init__\n",
      "5 2 10\n"
     ]
    }
   ],
   "source": [
    "class Custom(metaclass=AMeta):\n",
    "    field = 42\n",
    "    \n",
    "    def __init__(self):\n",
    "        print(\"custom.__init__\")\n",
    "        self.val = 10\n",
    "\n",
    "print('-----')\n",
    "cust = Custom()\n",
    "print(cust.a, cust.b, cust.val)"
   ]
  },
  {
   "cell_type": "code",
   "execution_count": 158,
   "id": "cce02d1e",
   "metadata": {},
   "outputs": [
    {
     "data": {
      "text/plain": [
       "mappingproxy({'b': 2,\n",
       "              'a': 2,\n",
       "              '__module__': '__main__',\n",
       "              'field': 42,\n",
       "              '__init__': <function __main__.Custom.__init__(self)>,\n",
       "              '__dict__': <attribute '__dict__' of 'Custom' objects>,\n",
       "              '__weakref__': <attribute '__weakref__' of 'Custom' objects>,\n",
       "              '__doc__': None})"
      ]
     },
     "execution_count": 158,
     "metadata": {},
     "output_type": "execute_result"
    }
   ],
   "source": [
    "Custom.__dict__"
   ]
  },
  {
   "cell_type": "code",
   "execution_count": null,
   "id": "6339c1ab",
   "metadata": {},
   "outputs": [],
   "source": []
  },
  {
   "cell_type": "code",
   "execution_count": null,
   "id": "bac97361",
   "metadata": {},
   "outputs": [],
   "source": []
  },
  {
   "cell_type": "code",
   "execution_count": 170,
   "id": "3865c957",
   "metadata": {},
   "outputs": [
    {
     "name": "stdout",
     "output_type": "stream",
     "text": [
      "(10,) {}\n",
      "10\n",
      "(20,) {}\n",
      "20\n"
     ]
    },
    {
     "data": {
      "text/plain": [
       "True"
      ]
     },
     "execution_count": 170,
     "metadata": {},
     "output_type": "execute_result"
    }
   ],
   "source": [
    "class Singleton:\n",
    "    _instance = None\n",
    "\n",
    "    def __new__(cls, *args, **kwargs):\n",
    "        print(args, kwargs)\n",
    "        if cls._instance is None:\n",
    "            cls._instance = super().__new__(cls)\n",
    "        return cls._instance\n",
    "    \n",
    "    def __init__(self, x):\n",
    "        self.x = x\n",
    "\n",
    "\n",
    "inst1 = Singleton(10)\n",
    "print(f\"{inst1.x}\")\n",
    "\n",
    "inst2 = Singleton(20)\n",
    "print(f\"{inst2.x}\")\n",
    "\n",
    "inst1 is inst2"
   ]
  },
  {
   "cell_type": "code",
   "execution_count": 169,
   "id": "3a4897d9",
   "metadata": {},
   "outputs": [
    {
     "name": "stdout",
     "output_type": "stream",
     "text": [
      "Meta __call__ <class '__main__.Singleton'>\n",
      "init_single 10\n",
      "10\n",
      "Meta __call__ <class '__main__.Singleton'>\n",
      "10\n"
     ]
    },
    {
     "data": {
      "text/plain": [
       "True"
      ]
     },
     "execution_count": 169,
     "metadata": {},
     "output_type": "execute_result"
    }
   ],
   "source": [
    "class SingletonMeta(type):\n",
    "    \n",
    "    def __call__(cls, *args, **kwargs):\n",
    "        print('Meta __call__', cls)\n",
    "        \n",
    "        if not hasattr(cls, \"_instance\"):\n",
    "            cls._instance = super().__call__(*args, **kwargs)\n",
    "\n",
    "        return cls._instance\n",
    "\n",
    "\n",
    "class Singleton(metaclass=SingletonMeta):\n",
    "\n",
    "    def __init__(self, x):\n",
    "        print(\"init_single\", x)\n",
    "        self.x = x\n",
    "        \n",
    "\n",
    "inst1 = Singleton(10)\n",
    "print(f\"{inst1.x}\")\n",
    "\n",
    "inst2 = Singleton(20)\n",
    "print(f\"{inst2.x}\")\n",
    "\n",
    "inst1 is inst2"
   ]
  },
  {
   "cell_type": "code",
   "execution_count": null,
   "id": "e194cfb0",
   "metadata": {},
   "outputs": [],
   "source": []
  },
  {
   "cell_type": "code",
   "execution_count": null,
   "id": "50a718d8",
   "metadata": {},
   "outputs": [],
   "source": [
    "class Custom(metaclass=dwdw):\n",
    "    attr = 42\n",
    "    \n",
    "Custom.attr -> AttrError\n",
    "Custom.custom_attr == 42"
   ]
  },
  {
   "cell_type": "code",
   "execution_count": null,
   "id": "f97256e1",
   "metadata": {},
   "outputs": [],
   "source": []
  },
  {
   "cell_type": "code",
   "execution_count": null,
   "id": "62661639",
   "metadata": {},
   "outputs": [],
   "source": []
  },
  {
   "cell_type": "code",
   "execution_count": 171,
   "id": "5edea142",
   "metadata": {},
   "outputs": [
    {
     "data": {
      "text/plain": [
       "(False, True)"
      ]
     },
     "execution_count": 171,
     "metadata": {},
     "output_type": "execute_result"
    }
   ],
   "source": [
    "class Cust(list):\n",
    "    pass\n",
    "\n",
    "c = Cust()\n",
    "\n",
    "type(c) is list, isinstance(c, list)"
   ]
  },
  {
   "cell_type": "code",
   "execution_count": null,
   "id": "e93bc51c",
   "metadata": {},
   "outputs": [],
   "source": []
  }
 ],
 "metadata": {
  "kernelspec": {
   "display_name": "Python 3 (ipykernel)",
   "language": "python",
   "name": "python3"
  },
  "language_info": {
   "codemirror_mode": {
    "name": "ipython",
    "version": 3
   },
   "file_extension": ".py",
   "mimetype": "text/x-python",
   "name": "python",
   "nbconvert_exporter": "python",
   "pygments_lexer": "ipython3",
   "version": "3.10.2"
  }
 },
 "nbformat": 4,
 "nbformat_minor": 5
}
