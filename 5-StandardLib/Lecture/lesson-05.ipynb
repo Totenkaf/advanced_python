{
 "cells": [
  {
   "cell_type": "code",
   "execution_count": 13,
   "id": "badebfc7",
   "metadata": {},
   "outputs": [],
   "source": [
    "from abc import ABC, ABCMeta, abstractmethod\n",
    "\n",
    "\n",
    "# class AbstractFeature(ABC):\n",
    "class AbstractFeature(metaclass=ABCMeta):\n",
    "    @abstractmethod\n",
    "    def print_total(self):\n",
    "        print(\"AbstractFeature.print_total\")\n",
    "\n",
    "\n",
    "class JsonFeature(AbstractFeature):\n",
    "\n",
    "    def print_total(self):\n",
    "        print(\"JsonFeature.print_total\")\n",
    "        super().print_total()"
   ]
  },
  {
   "cell_type": "code",
   "execution_count": 14,
   "id": "ff178a34",
   "metadata": {},
   "outputs": [
    {
     "ename": "TypeError",
     "evalue": "Can't instantiate abstract class AbstractFeature with abstract method print_total",
     "output_type": "error",
     "traceback": [
      "\u001b[0;31m---------------------------------------------------------------------------\u001b[0m",
      "\u001b[0;31mTypeError\u001b[0m                                 Traceback (most recent call last)",
      "Cell \u001b[0;32mIn [14], line 1\u001b[0m\n\u001b[0;32m----> 1\u001b[0m abstr \u001b[38;5;241m=\u001b[39m \u001b[43mAbstractFeature\u001b[49m\u001b[43m(\u001b[49m\u001b[43m)\u001b[49m\n",
      "\u001b[0;31mTypeError\u001b[0m: Can't instantiate abstract class AbstractFeature with abstract method print_total"
     ]
    }
   ],
   "source": [
    "abstr = AbstractFeature()"
   ]
  },
  {
   "cell_type": "code",
   "execution_count": 15,
   "id": "e85139d9",
   "metadata": {},
   "outputs": [
    {
     "name": "stdout",
     "output_type": "stream",
     "text": [
      "JsonFeature.print_total\n",
      "AbstractFeature.print_total\n"
     ]
    }
   ],
   "source": [
    "js = JsonFeature()\n",
    "js.print_total()"
   ]
  },
  {
   "cell_type": "code",
   "execution_count": null,
   "id": "afb0b0ea",
   "metadata": {},
   "outputs": [],
   "source": []
  },
  {
   "cell_type": "code",
   "execution_count": null,
   "id": "faccaea8",
   "metadata": {},
   "outputs": [],
   "source": []
  },
  {
   "cell_type": "code",
   "execution_count": 37,
   "id": "1d5579c3",
   "metadata": {},
   "outputs": [],
   "source": [
    "class Predictable(ABC):\n",
    "\n",
    "    @abstractmethod\n",
    "    def predict(self):\n",
    "        pass\n",
    "\n",
    "    @classmethod\n",
    "    def __subclasshook__(cls, C):\n",
    "        if cls is Predictable:\n",
    "            for class_ in C.__mro__:\n",
    "                if (\n",
    "                    \"predict\" in class_.__dict__\n",
    "                    and callable(class_.__dict__[\"predict\"])\n",
    "                ):\n",
    "                    return True\n",
    "\n",
    "        return NotImplemented\n",
    "#Predictable.__subclasshook__(RandomForest)\n",
    "\n",
    "class RandomForest:\n",
    "    __slots__ = (\"x\", \"y\")\n",
    "    \n",
    "    def predict(self):\n",
    "        print(\"RandomForest.predict\")\n",
    "    \n",
    "\n",
    "class Tree:\n",
    "    predict = \"value\"\n",
    "        "
   ]
  },
  {
   "cell_type": "code",
   "execution_count": 34,
   "id": "a97be531",
   "metadata": {},
   "outputs": [
    {
     "data": {
      "text/plain": [
       "(True, True)"
      ]
     },
     "execution_count": 34,
     "metadata": {},
     "output_type": "execute_result"
    }
   ],
   "source": [
    "rand = RandomForest()\n",
    "\n",
    "issubclass(RandomForest, Predictable), isinstance(rand, Predictable)"
   ]
  },
  {
   "cell_type": "code",
   "execution_count": 35,
   "id": "96e0487e",
   "metadata": {},
   "outputs": [
    {
     "data": {
      "text/plain": [
       "(False, False)"
      ]
     },
     "execution_count": 35,
     "metadata": {},
     "output_type": "execute_result"
    }
   ],
   "source": [
    "tr = Tree()\n",
    "\n",
    "issubclass(Tree, Predictable), isinstance(tr, Predictable)"
   ]
  },
  {
   "cell_type": "code",
   "execution_count": null,
   "id": "da9eac62",
   "metadata": {},
   "outputs": [],
   "source": []
  },
  {
   "cell_type": "code",
   "execution_count": null,
   "id": "f8b33c61",
   "metadata": {},
   "outputs": [],
   "source": []
  },
  {
   "cell_type": "code",
   "execution_count": 39,
   "id": "9e21c7f6",
   "metadata": {},
   "outputs": [
    {
     "name": "stdout",
     "output_type": "stream",
     "text": [
      "True\n",
      "0.1428571428571428571428571429\n",
      "3/10\n",
      "23/63\n"
     ]
    }
   ],
   "source": [
    "from decimal import Decimal\n",
    "from fractions import Fraction\n",
    "\n",
    "print(Decimal(\"0.1\") + Decimal(\"0.2\") == Decimal(\"0.3\"))\n",
    "print(Decimal(1) / Decimal(7))\n",
    "\n",
    "fr = Fraction(1, 10)\n",
    "print(Fraction(1, 10) + Fraction(2, 10))\n",
    "print(Fraction(1, 7) + Fraction(2, 9))"
   ]
  },
  {
   "cell_type": "code",
   "execution_count": null,
   "id": "75bebb10",
   "metadata": {},
   "outputs": [],
   "source": []
  },
  {
   "cell_type": "code",
   "execution_count": null,
   "id": "874a8307",
   "metadata": {},
   "outputs": [],
   "source": []
  },
  {
   "cell_type": "code",
   "execution_count": 40,
   "id": "2292d124",
   "metadata": {},
   "outputs": [],
   "source": [
    "s = \"1¹²²³⁴⁴\""
   ]
  },
  {
   "cell_type": "code",
   "execution_count": 45,
   "id": "b3e8dcf9",
   "metadata": {},
   "outputs": [
    {
     "data": {
      "text/plain": [
       "(False, True, False, True)"
      ]
     },
     "execution_count": 45,
     "metadata": {},
     "output_type": "execute_result"
    }
   ],
   "source": [
    "s.isidentifier(), \"_abc\".isidentifier(), \"1_abc\".isidentifier(), \"переменка\".isidentifier()"
   ]
  },
  {
   "cell_type": "code",
   "execution_count": 47,
   "id": "2d0855c5",
   "metadata": {},
   "outputs": [
    {
     "data": {
      "text/plain": [
       "(False, True, True, True)"
      ]
     },
     "execution_count": 47,
     "metadata": {},
     "output_type": "execute_result"
    }
   ],
   "source": [
    "s.isdecimal(), s.isalnum(), s.isdigit(), s.isnumeric()"
   ]
  },
  {
   "cell_type": "code",
   "execution_count": 50,
   "id": "eb60588c",
   "metadata": {},
   "outputs": [
    {
     "ename": "ValueError",
     "evalue": "invalid literal for int() with base 10: '1¹²²³⁴⁴'",
     "output_type": "error",
     "traceback": [
      "\u001b[0;31m---------------------------------------------------------------------------\u001b[0m",
      "\u001b[0;31mValueError\u001b[0m                                Traceback (most recent call last)",
      "Cell \u001b[0;32mIn [50], line 1\u001b[0m\n\u001b[0;32m----> 1\u001b[0m \u001b[38;5;28mint\u001b[39m(\u001b[38;5;124m\"\u001b[39m\u001b[38;5;124m1234\u001b[39m\u001b[38;5;124m\"\u001b[39m), \u001b[38;5;28;43mint\u001b[39;49m\u001b[43m(\u001b[49m\u001b[43ms\u001b[49m\u001b[43m)\u001b[49m\n",
      "\u001b[0;31mValueError\u001b[0m: invalid literal for int() with base 10: '1¹²²³⁴⁴'"
     ]
    }
   ],
   "source": [
    "int(\"1234\"), int(s)"
   ]
  },
  {
   "cell_type": "code",
   "execution_count": null,
   "id": "0a583090",
   "metadata": {},
   "outputs": [],
   "source": []
  },
  {
   "cell_type": "code",
   "execution_count": 57,
   "id": "cb485028",
   "metadata": {},
   "outputs": [],
   "source": [
    "s = \"Шла Саша по шоссе 60\""
   ]
  },
  {
   "cell_type": "code",
   "execution_count": 58,
   "id": "f5453483",
   "metadata": {},
   "outputs": [
    {
     "data": {
      "text/plain": [
       "'Шла саша по шоссе 60'"
      ]
     },
     "execution_count": 58,
     "metadata": {},
     "output_type": "execute_result"
    }
   ],
   "source": [
    "s.capitalize()"
   ]
  },
  {
   "cell_type": "code",
   "execution_count": 59,
   "id": "e861c1c7",
   "metadata": {},
   "outputs": [
    {
     "data": {
      "text/plain": [
       "('Шла Саша По Шоссе 60', True)"
      ]
     },
     "execution_count": 59,
     "metadata": {},
     "output_type": "execute_result"
    }
   ],
   "source": [
    "s.title(), s.title().istitle()"
   ]
  },
  {
   "cell_type": "code",
   "execution_count": 60,
   "id": "bb33ba87",
   "metadata": {},
   "outputs": [
    {
     "data": {
      "text/plain": [
       "('ШЛА САША ПО ШОССЕ 60', 'шла саша по шоссе 60')"
      ]
     },
     "execution_count": 60,
     "metadata": {},
     "output_type": "execute_result"
    }
   ],
   "source": [
    "s.upper(), s.lower()"
   ]
  },
  {
   "cell_type": "code",
   "execution_count": 61,
   "id": "ddf4ec8e",
   "metadata": {},
   "outputs": [
    {
     "data": {
      "text/plain": [
       "'шЛА сАША ПО ШОССЕ 60'"
      ]
     },
     "execution_count": 61,
     "metadata": {},
     "output_type": "execute_result"
    }
   ],
   "source": [
    "s.swapcase()"
   ]
  },
  {
   "cell_type": "code",
   "execution_count": 62,
   "id": "49d12543",
   "metadata": {},
   "outputs": [
    {
     "data": {
      "text/plain": [
       "(True, False)"
      ]
     },
     "execution_count": 62,
     "metadata": {},
     "output_type": "execute_result"
    }
   ],
   "source": [
    "\"\\t\\n\\r\\v\".isspace(), s.isspace()"
   ]
  },
  {
   "cell_type": "code",
   "execution_count": null,
   "id": "9d227841",
   "metadata": {},
   "outputs": [],
   "source": []
  },
  {
   "cell_type": "code",
   "execution_count": 65,
   "id": "11bc1d8f",
   "metadata": {},
   "outputs": [],
   "source": [
    "s = \"Шла Саша по шоссе 60\""
   ]
  },
  {
   "cell_type": "code",
   "execution_count": 66,
   "id": "72dc2dff",
   "metadata": {},
   "outputs": [
    {
     "data": {
      "text/plain": [
       "(4, -1, -1)"
      ]
     },
     "execution_count": 66,
     "metadata": {},
     "output_type": "execute_result"
    }
   ],
   "source": [
    "s.find(\"Саша\"), s.find(\"Саша\", 10), s.find(\"uwyqyetyq\")"
   ]
  },
  {
   "cell_type": "code",
   "execution_count": 68,
   "id": "c5f68fbd",
   "metadata": {},
   "outputs": [
    {
     "data": {
      "text/plain": [
       "(1, 3)"
      ]
     },
     "execution_count": 68,
     "metadata": {},
     "output_type": "execute_result"
    }
   ],
   "source": [
    "s.count(\"Саша\"), s.count(\"а\")"
   ]
  },
  {
   "cell_type": "code",
   "execution_count": 70,
   "id": "076cf26b",
   "metadata": {},
   "outputs": [
    {
     "ename": "ValueError",
     "evalue": "substring not found",
     "output_type": "error",
     "traceback": [
      "\u001b[0;31m---------------------------------------------------------------------------\u001b[0m",
      "\u001b[0;31mValueError\u001b[0m                                Traceback (most recent call last)",
      "Cell \u001b[0;32mIn [70], line 1\u001b[0m\n\u001b[0;32m----> 1\u001b[0m \u001b[43ms\u001b[49m\u001b[38;5;241;43m.\u001b[39;49m\u001b[43mindex\u001b[49m\u001b[43m(\u001b[49m\u001b[38;5;124;43m\"\u001b[39;49m\u001b[38;5;124;43mСаша123\u001b[39;49m\u001b[38;5;124;43m\"\u001b[39;49m\u001b[43m)\u001b[49m\n",
      "\u001b[0;31mValueError\u001b[0m: substring not found"
     ]
    }
   ],
   "source": [
    "s.index(\"Саша123\")"
   ]
  },
  {
   "cell_type": "code",
   "execution_count": 71,
   "id": "3dc8b77e",
   "metadata": {},
   "outputs": [
    {
     "data": {
      "text/plain": [
       "True"
      ]
     },
     "execution_count": 71,
     "metadata": {},
     "output_type": "execute_result"
    }
   ],
   "source": [
    "\"Саша\" in s  # nm"
   ]
  },
  {
   "cell_type": "code",
   "execution_count": 73,
   "id": "2471bc79",
   "metadata": {},
   "outputs": [
    {
     "data": {
      "text/plain": [
       "('Шла Миранда по шоссе 60', 'Шла Саша по шоссе 60')"
      ]
     },
     "execution_count": 73,
     "metadata": {},
     "output_type": "execute_result"
    }
   ],
   "source": [
    "s.replace(\"Саша\", \"Миранда\"), s"
   ]
  },
  {
   "cell_type": "code",
   "execution_count": null,
   "id": "6659064a",
   "metadata": {},
   "outputs": [],
   "source": []
  },
  {
   "cell_type": "code",
   "execution_count": 77,
   "id": "f4ea9b6b",
   "metadata": {},
   "outputs": [],
   "source": [
    "s = \"Шла Саша    по    \\n\\n шоссе 60\""
   ]
  },
  {
   "cell_type": "code",
   "execution_count": 75,
   "id": "2be96f8a",
   "metadata": {},
   "outputs": [
    {
     "data": {
      "text/plain": [
       "'а Саша по шоссе'"
      ]
     },
     "execution_count": 75,
     "metadata": {},
     "output_type": "execute_result"
    }
   ],
   "source": [
    "s.strip(\"лШ 06\")"
   ]
  },
  {
   "cell_type": "code",
   "execution_count": 76,
   "id": "97597dd4",
   "metadata": {},
   "outputs": [
    {
     "data": {
      "text/plain": [
       "'Шла Саша по шоссе 60'"
      ]
     },
     "execution_count": 76,
     "metadata": {},
     "output_type": "execute_result"
    }
   ],
   "source": [
    "\"       \\t\\t\\tШла Саша по шоссе 60\\n\\r\".strip()"
   ]
  },
  {
   "cell_type": "code",
   "execution_count": 78,
   "id": "76850dfc",
   "metadata": {},
   "outputs": [
    {
     "data": {
      "text/plain": [
       "['Шла', 'Саша', 'по', 'шоссе', '60']"
      ]
     },
     "execution_count": 78,
     "metadata": {},
     "output_type": "execute_result"
    }
   ],
   "source": [
    "s.split()"
   ]
  },
  {
   "cell_type": "code",
   "execution_count": 81,
   "id": "3e3b11be",
   "metadata": {},
   "outputs": [
    {
     "data": {
      "text/plain": [
       "('Шла_Саша_по_шоссе_60', 'Шла Саша по шоссе 60')"
      ]
     },
     "execution_count": 81,
     "metadata": {},
     "output_type": "execute_result"
    }
   ],
   "source": [
    "s = \"Шла Саша    по    \\n\\n шоссе 60\"\n",
    "\"_\".join(s.split()), \" \".join(s.split())"
   ]
  },
  {
   "cell_type": "code",
   "execution_count": 82,
   "id": "94702407",
   "metadata": {},
   "outputs": [
    {
     "data": {
      "text/plain": [
       "['Шла ', '    по    \\n\\n шоссе 60']"
      ]
     },
     "execution_count": 82,
     "metadata": {},
     "output_type": "execute_result"
    }
   ],
   "source": [
    "s.split(\"Саша\")"
   ]
  },
  {
   "cell_type": "code",
   "execution_count": null,
   "id": "76f4c0d7",
   "metadata": {},
   "outputs": [],
   "source": []
  },
  {
   "cell_type": "code",
   "execution_count": 85,
   "id": "ab4d9919",
   "metadata": {},
   "outputs": [],
   "source": [
    "s = \"Шла Саша по шоссе 60\""
   ]
  },
  {
   "cell_type": "code",
   "execution_count": 86,
   "id": "7e83933a",
   "metadata": {},
   "outputs": [
    {
     "data": {
      "text/plain": [
       "('Шла ', 'Саша', ' по шоссе 60')"
      ]
     },
     "execution_count": 86,
     "metadata": {},
     "output_type": "execute_result"
    }
   ],
   "source": [
    "s.partition(\"Саша\")"
   ]
  },
  {
   "cell_type": "code",
   "execution_count": 87,
   "id": "9033df27",
   "metadata": {},
   "outputs": [
    {
     "data": {
      "text/plain": [
       "('Шл', 'а', ' Саша по шоссе 60')"
      ]
     },
     "execution_count": 87,
     "metadata": {},
     "output_type": "execute_result"
    }
   ],
   "source": [
    "s.partition(\"а\")"
   ]
  },
  {
   "cell_type": "code",
   "execution_count": 88,
   "id": "c04e0272",
   "metadata": {},
   "outputs": [
    {
     "data": {
      "text/plain": [
       "('Шла Саша по шоссе 60', '', '')"
      ]
     },
     "execution_count": 88,
     "metadata": {},
     "output_type": "execute_result"
    }
   ],
   "source": [
    "s.partition(\"аdkwmkdw\")"
   ]
  },
  {
   "cell_type": "code",
   "execution_count": null,
   "id": "262bd94f",
   "metadata": {},
   "outputs": [],
   "source": []
  },
  {
   "cell_type": "code",
   "execution_count": null,
   "id": "c25352a5",
   "metadata": {},
   "outputs": [],
   "source": []
  },
  {
   "cell_type": "code",
   "execution_count": null,
   "id": "8ceea569",
   "metadata": {},
   "outputs": [],
   "source": []
  },
  {
   "cell_type": "code",
   "execution_count": 89,
   "id": "c6381001",
   "metadata": {},
   "outputs": [],
   "source": [
    "import collections as cl"
   ]
  },
  {
   "cell_type": "code",
   "execution_count": 90,
   "id": "20445aaa",
   "metadata": {},
   "outputs": [
    {
     "name": "stdout",
     "output_type": "stream",
     "text": [
      "Point(x=10, y=20)\n",
      "10 20\n",
      "10 20\n"
     ]
    }
   ],
   "source": [
    "Point = cl.namedtuple(\"Point\", [\"x\", \"y\"])\n",
    "p = Point(10, 20)\n",
    "\n",
    "print(p)\n",
    "print(p[0], p[1])\n",
    "print(p.x, p.y)"
   ]
  },
  {
   "cell_type": "code",
   "execution_count": 91,
   "id": "1c964486",
   "metadata": {},
   "outputs": [
    {
     "ename": "AttributeError",
     "evalue": "can't set attribute",
     "output_type": "error",
     "traceback": [
      "\u001b[0;31m---------------------------------------------------------------------------\u001b[0m",
      "\u001b[0;31mAttributeError\u001b[0m                            Traceback (most recent call last)",
      "Cell \u001b[0;32mIn [91], line 1\u001b[0m\n\u001b[0;32m----> 1\u001b[0m \u001b[43mp\u001b[49m\u001b[38;5;241;43m.\u001b[39;49m\u001b[43mx\u001b[49m \u001b[38;5;241m=\u001b[39m \u001b[38;5;241m20\u001b[39m\n",
      "\u001b[0;31mAttributeError\u001b[0m: can't set attribute"
     ]
    }
   ],
   "source": [
    "p.x = 20"
   ]
  },
  {
   "cell_type": "code",
   "execution_count": 92,
   "id": "89d99a7b",
   "metadata": {},
   "outputs": [
    {
     "ename": "AttributeError",
     "evalue": "'Point' object has no attribute 'z'",
     "output_type": "error",
     "traceback": [
      "\u001b[0;31m---------------------------------------------------------------------------\u001b[0m",
      "\u001b[0;31mAttributeError\u001b[0m                            Traceback (most recent call last)",
      "Cell \u001b[0;32mIn [92], line 1\u001b[0m\n\u001b[0;32m----> 1\u001b[0m \u001b[43mp\u001b[49m\u001b[38;5;241;43m.\u001b[39;49m\u001b[43mz\u001b[49m \u001b[38;5;241m=\u001b[39m \u001b[38;5;241m30\u001b[39m\n",
      "\u001b[0;31mAttributeError\u001b[0m: 'Point' object has no attribute 'z'"
     ]
    }
   ],
   "source": [
    "p.z = 30"
   ]
  },
  {
   "cell_type": "code",
   "execution_count": null,
   "id": "3aae3c30",
   "metadata": {},
   "outputs": [],
   "source": []
  },
  {
   "cell_type": "code",
   "execution_count": 97,
   "id": "87650d05",
   "metadata": {},
   "outputs": [
    {
     "data": {
      "text/plain": [
       "0"
      ]
     },
     "execution_count": 97,
     "metadata": {},
     "output_type": "execute_result"
    }
   ],
   "source": [
    "cnt = cl.Counter()\n",
    "cnt[9] += 10\n",
    "cnt[1]"
   ]
  },
  {
   "cell_type": "code",
   "execution_count": 98,
   "id": "8d8575f7",
   "metadata": {},
   "outputs": [
    {
     "data": {
      "text/plain": [
       "Counter({9: 10})"
      ]
     },
     "execution_count": 98,
     "metadata": {},
     "output_type": "execute_result"
    }
   ],
   "source": [
    "cnt"
   ]
  },
  {
   "cell_type": "code",
   "execution_count": 101,
   "id": "4baa5762",
   "metadata": {},
   "outputs": [
    {
     "data": {
      "text/plain": [
       "Counter({'q': 14,\n",
       "         'k': 4,\n",
       "         'j': 3,\n",
       "         'd': 10,\n",
       "         'l': 1,\n",
       "         'w': 10,\n",
       "         'h': 11,\n",
       "         ' ': 4,\n",
       "         'o': 1,\n",
       "         'u': 3,\n",
       "         'i': 1,\n",
       "         'g': 7,\n",
       "         'e': 5,\n",
       "         'r': 1,\n",
       "         'y': 1,\n",
       "         'b': 1,\n",
       "         'f': 1})"
      ]
     },
     "execution_count": 101,
     "metadata": {},
     "output_type": "execute_result"
    }
   ],
   "source": [
    "cnt = cl.Counter(\"qkjdlqwhqhwd hqwd qhwdqhowudh uqihwdugqwdgqwgd kqhwdqgerjygeqkhdqwjebhqegfkheg\")\n",
    "cnt"
   ]
  },
  {
   "cell_type": "code",
   "execution_count": 103,
   "id": "8334525b",
   "metadata": {},
   "outputs": [
    {
     "data": {
      "text/plain": [
       "[('q', 14), ('h', 11), ('d', 10)]"
      ]
     },
     "execution_count": 103,
     "metadata": {},
     "output_type": "execute_result"
    }
   ],
   "source": [
    "cnt.most_common(3)"
   ]
  },
  {
   "cell_type": "code",
   "execution_count": 109,
   "id": "a94e8ad6",
   "metadata": {},
   "outputs": [
    {
     "data": {
      "text/plain": [
       "['q',\n",
       " 'q',\n",
       " 'q',\n",
       " 'q',\n",
       " 'q',\n",
       " 'q',\n",
       " 'q',\n",
       " 'q',\n",
       " 'q',\n",
       " 'q',\n",
       " 'q',\n",
       " 'q',\n",
       " 'q',\n",
       " 'q',\n",
       " 'k',\n",
       " 'k',\n",
       " 'k',\n",
       " 'k',\n",
       " 'j',\n",
       " 'j']"
      ]
     },
     "execution_count": 109,
     "metadata": {},
     "output_type": "execute_result"
    }
   ],
   "source": [
    "list(cnt.elements())[:20]"
   ]
  },
  {
   "cell_type": "code",
   "execution_count": 116,
   "id": "1e5d08dd",
   "metadata": {},
   "outputs": [
    {
     "data": {
      "text/plain": [
       "'123'"
      ]
     },
     "execution_count": 116,
     "metadata": {},
     "output_type": "execute_result"
    }
   ],
   "source": [
    "dd = cl.defaultdict(lambda: \"123\")\n",
    "dd[3] += \"456\"\n",
    "dd[4] = \"99\"\n",
    "dd[1]"
   ]
  },
  {
   "cell_type": "code",
   "execution_count": 117,
   "id": "e6ece558",
   "metadata": {},
   "outputs": [
    {
     "data": {
      "text/plain": [
       "defaultdict(<function __main__.<lambda>()>, {3: '123456', 4: '99', 1: '123'})"
      ]
     },
     "execution_count": 117,
     "metadata": {},
     "output_type": "execute_result"
    }
   ],
   "source": [
    "dd"
   ]
  },
  {
   "cell_type": "code",
   "execution_count": null,
   "id": "85416959",
   "metadata": {},
   "outputs": [],
   "source": []
  },
  {
   "cell_type": "code",
   "execution_count": 118,
   "id": "fdd7d55c",
   "metadata": {},
   "outputs": [],
   "source": [
    "deq = cl.deque(\"0123456789\")"
   ]
  },
  {
   "cell_type": "code",
   "execution_count": 119,
   "id": "ab9cc862",
   "metadata": {},
   "outputs": [
    {
     "data": {
      "text/plain": [
       "deque(['0', '1', '2', '3', '4', '5', '6', '7', '8', '9'])"
      ]
     },
     "execution_count": 119,
     "metadata": {},
     "output_type": "execute_result"
    }
   ],
   "source": [
    "deq"
   ]
  },
  {
   "cell_type": "code",
   "execution_count": 120,
   "id": "a7c05773",
   "metadata": {},
   "outputs": [],
   "source": [
    "deq.appendleft(\"-1\")"
   ]
  },
  {
   "cell_type": "code",
   "execution_count": 121,
   "id": "42bdd6fc",
   "metadata": {},
   "outputs": [
    {
     "data": {
      "text/plain": [
       "deque(['-1', '0', '1', '2', '3', '4', '5', '6', '7', '8', '9'])"
      ]
     },
     "execution_count": 121,
     "metadata": {},
     "output_type": "execute_result"
    }
   ],
   "source": [
    "deq"
   ]
  },
  {
   "cell_type": "code",
   "execution_count": 122,
   "id": "026dda56",
   "metadata": {},
   "outputs": [],
   "source": [
    "deq.append(\"42\")"
   ]
  },
  {
   "cell_type": "code",
   "execution_count": 125,
   "id": "cc2ff6b4",
   "metadata": {},
   "outputs": [
    {
     "data": {
      "text/plain": [
       "deque(['-1', '0', '1', '2', '3', '4', '5', '6', '7', '8', '9', '42'])"
      ]
     },
     "execution_count": 125,
     "metadata": {},
     "output_type": "execute_result"
    }
   ],
   "source": [
    "deq"
   ]
  },
  {
   "cell_type": "code",
   "execution_count": 127,
   "id": "382f9f3b",
   "metadata": {},
   "outputs": [],
   "source": [
    "deq = cl.deque(\"0123456789\", maxlen=5)"
   ]
  },
  {
   "cell_type": "code",
   "execution_count": 128,
   "id": "5fda8b3b",
   "metadata": {},
   "outputs": [
    {
     "data": {
      "text/plain": [
       "deque(['5', '6', '7', '8', '9'], maxlen=5)"
      ]
     },
     "execution_count": 128,
     "metadata": {},
     "output_type": "execute_result"
    }
   ],
   "source": [
    "deq"
   ]
  },
  {
   "cell_type": "code",
   "execution_count": 129,
   "id": "32dc9177",
   "metadata": {},
   "outputs": [],
   "source": [
    "deq.append(\"10\")"
   ]
  },
  {
   "cell_type": "code",
   "execution_count": 130,
   "id": "ab5f8a4f",
   "metadata": {},
   "outputs": [
    {
     "data": {
      "text/plain": [
       "deque(['6', '7', '8', '9', '10'], maxlen=5)"
      ]
     },
     "execution_count": 130,
     "metadata": {},
     "output_type": "execute_result"
    }
   ],
   "source": [
    "deq"
   ]
  },
  {
   "cell_type": "code",
   "execution_count": 131,
   "id": "f5898ccf",
   "metadata": {},
   "outputs": [],
   "source": [
    "deq.appendleft(\"5\")"
   ]
  },
  {
   "cell_type": "code",
   "execution_count": 134,
   "id": "40cf1b60",
   "metadata": {},
   "outputs": [
    {
     "data": {
      "text/plain": [
       "deque(['5', '6', '7', '8', '9'], maxlen=5)"
      ]
     },
     "execution_count": 134,
     "metadata": {},
     "output_type": "execute_result"
    }
   ],
   "source": [
    "deq"
   ]
  },
  {
   "cell_type": "code",
   "execution_count": null,
   "id": "9720d0c3",
   "metadata": {},
   "outputs": [],
   "source": [
    "words = re.findall(r\"\\w+\", open(\"hamlet.txt\").read().lower())\n",
    "\n",
    "Counter(words).most_common(5)"
   ]
  },
  {
   "cell_type": "code",
   "execution_count": null,
   "id": "2d005a5b",
   "metadata": {},
   "outputs": [],
   "source": []
  },
  {
   "cell_type": "code",
   "execution_count": null,
   "id": "f1bf3f9a",
   "metadata": {},
   "outputs": [],
   "source": []
  },
  {
   "cell_type": "code",
   "execution_count": 135,
   "id": "fa5c25f0",
   "metadata": {},
   "outputs": [],
   "source": [
    "from functools import wraps, partial"
   ]
  },
  {
   "cell_type": "code",
   "execution_count": 147,
   "id": "fb646492",
   "metadata": {},
   "outputs": [],
   "source": [
    "def deco(fn):\n",
    "    @wraps(fn)\n",
    "    def inner(*args, **kwargs):\n",
    "        return fn(*args, **kwargs)\n",
    "    return inner\n",
    "\n",
    "\n",
    "@deco\n",
    "def add(a, b):\n",
    "    return a + b"
   ]
  },
  {
   "cell_type": "code",
   "execution_count": 148,
   "id": "996d4cc6",
   "metadata": {},
   "outputs": [
    {
     "data": {
      "text/plain": [
       "1"
      ]
     },
     "execution_count": 148,
     "metadata": {},
     "output_type": "execute_result"
    }
   ],
   "source": [
    "add(1, 0)"
   ]
  },
  {
   "cell_type": "code",
   "execution_count": 139,
   "id": "403afb79",
   "metadata": {},
   "outputs": [
    {
     "data": {
      "text/plain": [
       "'inner'"
      ]
     },
     "execution_count": 139,
     "metadata": {},
     "output_type": "execute_result"
    }
   ],
   "source": [
    "add.__name__"
   ]
  },
  {
   "cell_type": "code",
   "execution_count": 150,
   "id": "c7de2d50",
   "metadata": {},
   "outputs": [
    {
     "data": {
      "text/plain": [
       "('add', None)"
      ]
     },
     "execution_count": 150,
     "metadata": {},
     "output_type": "execute_result"
    }
   ],
   "source": [
    "add.__name__, add.__doc__"
   ]
  },
  {
   "cell_type": "code",
   "execution_count": null,
   "id": "f865ca3c",
   "metadata": {},
   "outputs": [],
   "source": []
  },
  {
   "cell_type": "code",
   "execution_count": null,
   "id": "d3a606aa",
   "metadata": {},
   "outputs": [],
   "source": []
  },
  {
   "cell_type": "code",
   "execution_count": 151,
   "id": "f0f42241",
   "metadata": {},
   "outputs": [
    {
     "data": {
      "text/plain": [
       "13"
      ]
     },
     "execution_count": 151,
     "metadata": {},
     "output_type": "execute_result"
    }
   ],
   "source": [
    "add3 = partial(add, 3)\n",
    "add3(10)"
   ]
  },
  {
   "cell_type": "code",
   "execution_count": 152,
   "id": "c99e1e03",
   "metadata": {},
   "outputs": [
    {
     "data": {
      "text/plain": [
       "13"
      ]
     },
     "execution_count": 152,
     "metadata": {},
     "output_type": "execute_result"
    }
   ],
   "source": [
    "add_3_10 = partial(add, 3, 10)\n",
    "\n",
    "dd = cl.defaultdict(add_3_10)\n",
    "dd[3]"
   ]
  },
  {
   "cell_type": "code",
   "execution_count": null,
   "id": "5e8fafcc",
   "metadata": {},
   "outputs": [],
   "source": []
  },
  {
   "cell_type": "code",
   "execution_count": null,
   "id": "2ef78641",
   "metadata": {},
   "outputs": [],
   "source": []
  },
  {
   "cell_type": "code",
   "execution_count": null,
   "id": "f63bcce2",
   "metadata": {},
   "outputs": [],
   "source": []
  },
  {
   "cell_type": "code",
   "execution_count": 158,
   "id": "30ff2ee9",
   "metadata": {},
   "outputs": [
    {
     "name": "stdout",
     "output_type": "stream",
     "text": [
      "1\n",
      "2\n",
      "3\n",
      "4\n",
      "5\n"
     ]
    }
   ],
   "source": [
    "class SpecialIterator:\n",
    "    def __init__(self, limit):\n",
    "        self.limit = limit\n",
    "        self.counter = 0\n",
    "    \n",
    "    def __next__(self):\n",
    "        if self.counter < self.limit:\n",
    "            self.counter += 1\n",
    "            return self.counter\n",
    "        else:\n",
    "            raise StopIteration\n",
    "            \n",
    "\n",
    "it = SpecialIterator(5)\n",
    "for _ in range(5):\n",
    "    print(next(it))"
   ]
  },
  {
   "cell_type": "code",
   "execution_count": 159,
   "id": "3a9a44db",
   "metadata": {},
   "outputs": [
    {
     "ename": "StopIteration",
     "evalue": "",
     "output_type": "error",
     "traceback": [
      "\u001b[0;31m---------------------------------------------------------------------------\u001b[0m",
      "\u001b[0;31mStopIteration\u001b[0m                             Traceback (most recent call last)",
      "Cell \u001b[0;32mIn [159], line 1\u001b[0m\n\u001b[0;32m----> 1\u001b[0m \u001b[38;5;28;43mnext\u001b[39;49m\u001b[43m(\u001b[49m\u001b[43mit\u001b[49m\u001b[43m)\u001b[49m\n",
      "Cell \u001b[0;32mIn [158], line 11\u001b[0m, in \u001b[0;36mSpecialIterator.__next__\u001b[0;34m(self)\u001b[0m\n\u001b[1;32m      9\u001b[0m     \u001b[38;5;28;01mreturn\u001b[39;00m \u001b[38;5;28mself\u001b[39m\u001b[38;5;241m.\u001b[39mcounter\n\u001b[1;32m     10\u001b[0m \u001b[38;5;28;01melse\u001b[39;00m:\n\u001b[0;32m---> 11\u001b[0m     \u001b[38;5;28;01mraise\u001b[39;00m \u001b[38;5;167;01mStopIteration\u001b[39;00m\n",
      "\u001b[0;31mStopIteration\u001b[0m: "
     ]
    }
   ],
   "source": [
    "next(it)"
   ]
  },
  {
   "cell_type": "code",
   "execution_count": null,
   "id": "b5482b29",
   "metadata": {},
   "outputs": [],
   "source": []
  },
  {
   "cell_type": "code",
   "execution_count": 163,
   "id": "978e9404",
   "metadata": {},
   "outputs": [
    {
     "name": "stdout",
     "output_type": "stream",
     "text": [
      "(1, 2, 3)\n"
     ]
    }
   ],
   "source": [
    "it = iter([1, 2, 3])\n",
    "\n",
    "print(tuple(it))"
   ]
  },
  {
   "cell_type": "code",
   "execution_count": 173,
   "id": "9111d207",
   "metadata": {},
   "outputs": [
    {
     "name": "stdout",
     "output_type": "stream",
     "text": [
      "ITER\n",
      "NEXT\n",
      "NEXT\n",
      "NEXT\n",
      "NEXT\n",
      "[1, 4, 7]\n",
      "ITER\n",
      "NEXT\n",
      "1\n",
      "NEXT\n",
      "4\n",
      "NEXT\n",
      "7\n",
      "NEXT\n"
     ]
    }
   ],
   "source": [
    "class FineIter:\n",
    "    def __init__(self, seq):\n",
    "        self.seq = seq\n",
    "        self.idx = 0\n",
    "    \n",
    "    def __iter__(self):\n",
    "        print('ITER')\n",
    "        # return iter(self.seq)\n",
    "        return self\n",
    "    \n",
    "    def __next__(self):\n",
    "        print('NEXT')\n",
    "        if self.idx < len(self.seq):\n",
    "            val = self.seq[self.idx]\n",
    "            self.idx += 1\n",
    "            return val\n",
    "\n",
    "        raise StopIteration()\n",
    "\n",
    "\n",
    "it = FineIter([1, 4, 7])\n",
    "print(list(it))\n",
    "\n",
    "for i in FineIter([1, 4, 7]):\n",
    "    print(i)"
   ]
  },
  {
   "cell_type": "code",
   "execution_count": 171,
   "id": "fcaddc82",
   "metadata": {},
   "outputs": [
    {
     "data": {
      "text/plain": [
       "[1, 4, 7]"
      ]
     },
     "execution_count": 171,
     "metadata": {},
     "output_type": "execute_result"
    }
   ],
   "source": [
    "list(iter(FineIter([1, 4, 7])))"
   ]
  },
  {
   "cell_type": "code",
   "execution_count": 172,
   "id": "d22db535",
   "metadata": {},
   "outputs": [
    {
     "ename": "AttributeError",
     "evalue": "type object 'list' has no attribute '__next__'",
     "output_type": "error",
     "traceback": [
      "\u001b[0;31m---------------------------------------------------------------------------\u001b[0m",
      "\u001b[0;31mAttributeError\u001b[0m                            Traceback (most recent call last)",
      "Cell \u001b[0;32mIn [172], line 2\u001b[0m\n\u001b[1;32m      1\u001b[0m lst \u001b[38;5;241m=\u001b[39m [\u001b[38;5;241m1\u001b[39m, \u001b[38;5;241m3\u001b[39m, \u001b[38;5;241m7\u001b[39m]\n\u001b[0;32m----> 2\u001b[0m \u001b[38;5;28;43mlist\u001b[39;49m\u001b[38;5;241;43m.\u001b[39;49m\u001b[38;5;21;43m__next__\u001b[39;49m(lst)\n",
      "\u001b[0;31mAttributeError\u001b[0m: type object 'list' has no attribute '__next__'"
     ]
    }
   ],
   "source": [
    "lst = [1, 3, 7]\n",
    "list.__next__(lst)"
   ]
  },
  {
   "cell_type": "code",
   "execution_count": 175,
   "id": "8c2fac29",
   "metadata": {},
   "outputs": [
    {
     "name": "stdout",
     "output_type": "stream",
     "text": [
      "ITER\n",
      "NEXT\n"
     ]
    },
    {
     "data": {
      "text/plain": [
       "1"
      ]
     },
     "execution_count": 175,
     "metadata": {},
     "output_type": "execute_result"
    }
   ],
   "source": [
    "it = iter(FineIter([1, 4, 7]))\n",
    "next(it)"
   ]
  },
  {
   "cell_type": "code",
   "execution_count": 177,
   "id": "f53a26e1",
   "metadata": {},
   "outputs": [
    {
     "data": {
      "text/plain": [
       "([0, 1, 2, 3, 4, 5, 6, 7, 8, 9], [])"
      ]
     },
     "execution_count": 177,
     "metadata": {},
     "output_type": "execute_result"
    }
   ],
   "source": [
    "it = iter(list(range(10)))\n",
    "list(it), list(it)"
   ]
  },
  {
   "cell_type": "code",
   "execution_count": 178,
   "id": "105bd39c",
   "metadata": {},
   "outputs": [
    {
     "data": {
      "text/plain": [
       "[(0, 1), (2, 9), (4, 25), (6, 49), (8, 81)]"
      ]
     },
     "execution_count": 178,
     "metadata": {},
     "output_type": "execute_result"
    }
   ],
   "source": [
    "it = iter(list(range(10)))\n",
    "\n",
    "list(\n",
    "    zip(it, map(lambda x: x ** 2, it))\n",
    ")"
   ]
  },
  {
   "cell_type": "code",
   "execution_count": 179,
   "id": "2aa45647",
   "metadata": {},
   "outputs": [
    {
     "data": {
      "text/plain": [
       "[(0, 1, 2), (3, 4, 5), (6, 7, 8)]"
      ]
     },
     "execution_count": 179,
     "metadata": {},
     "output_type": "execute_result"
    }
   ],
   "source": [
    "it = iter(list(range(10)))\n",
    "\n",
    "list(\n",
    "    zip(it, it, it)\n",
    ")"
   ]
  },
  {
   "cell_type": "code",
   "execution_count": null,
   "id": "5e729a7b",
   "metadata": {},
   "outputs": [],
   "source": []
  },
  {
   "cell_type": "code",
   "execution_count": 180,
   "id": "1684c52c",
   "metadata": {},
   "outputs": [],
   "source": [
    "import itertools"
   ]
  },
  {
   "cell_type": "code",
   "execution_count": 182,
   "id": "ccdc3673",
   "metadata": {},
   "outputs": [
    {
     "name": "stdout",
     "output_type": "stream",
     "text": [
      "2\n",
      "4\n",
      "6\n",
      "8\n",
      "10\n",
      "12\n",
      "14\n",
      "16\n",
      "18\n",
      "20\n"
     ]
    }
   ],
   "source": [
    "it = itertools.count(2, 2)\n",
    "for _ in range(10):\n",
    "    print(next(it))"
   ]
  },
  {
   "cell_type": "code",
   "execution_count": 189,
   "id": "c29dfbc1",
   "metadata": {},
   "outputs": [
    {
     "name": "stdout",
     "output_type": "stream",
     "text": [
      "[2, 4, 6, 8, 10, 12, 14, 16, 18, 20]\n",
      "[222, 228, 234, 240, 246, 252, 258]\n"
     ]
    }
   ],
   "source": [
    "it = itertools.count(2, 2)\n",
    "\n",
    "print(list(itertools.islice(it, 10)))\n",
    "\n",
    "print(list(itertools.islice(it, 100, 120, 3)))"
   ]
  },
  {
   "cell_type": "code",
   "execution_count": 191,
   "id": "b5d6ed0c",
   "metadata": {},
   "outputs": [
    {
     "data": {
      "text/plain": [
       "[1, 3, 6, 10, 15]"
      ]
     },
     "execution_count": 191,
     "metadata": {},
     "output_type": "execute_result"
    }
   ],
   "source": [
    "list(itertools.accumulate([1, 2, 3, 4, 5]))"
   ]
  },
  {
   "cell_type": "code",
   "execution_count": 194,
   "id": "edd7818c",
   "metadata": {},
   "outputs": [
    {
     "data": {
      "text/plain": [
       "[1, 2, 6, 24, 120]"
      ]
     },
     "execution_count": 194,
     "metadata": {},
     "output_type": "execute_result"
    }
   ],
   "source": [
    "list(itertools.accumulate([1, 2, 3, 4, 5], lambda a, b: a * b))"
   ]
  },
  {
   "cell_type": "code",
   "execution_count": 196,
   "id": "6e153e82",
   "metadata": {},
   "outputs": [
    {
     "name": "stdout",
     "output_type": "stream",
     "text": [
      "q 3 ['q', 'q', 'q']\n",
      "w 2 ['w', 'w']\n",
      "e 1 ['e']\n",
      "r 2 ['r', 'r']\n",
      "t 1 ['t']\n",
      "e 3 ['e', 'e', 'e']\n",
      "w 12 ['w', 'w', 'w', 'w', 'w', 'w', 'w', 'w', 'w', 'w', 'w', 'w']\n"
     ]
    }
   ],
   "source": [
    "s = \"qqqwwerrteeewwwwwwwwwwww\"\n",
    "for ch, ch_iter in itertools.groupby(s):\n",
    "    elems = list(ch_iter)\n",
    "    print(ch, len(elems), elems)"
   ]
  },
  {
   "cell_type": "code",
   "execution_count": null,
   "id": "292121b1",
   "metadata": {},
   "outputs": [],
   "source": []
  },
  {
   "cell_type": "code",
   "execution_count": null,
   "id": "845c2a70",
   "metadata": {},
   "outputs": [],
   "source": []
  },
  {
   "cell_type": "code",
   "execution_count": 199,
   "id": "9a80f6b8",
   "metadata": {},
   "outputs": [
    {
     "data": {
      "text/plain": [
       "[(0, 0, 0, 0, 0, 0),\n",
       " (1, 1, 1, 1, 1, 1),\n",
       " (2, 2, 2, 2, 2, 2),\n",
       " (3, 3, 3, 3, 3, 3),\n",
       " (4, 4, 4, 4, 4, 4)]"
      ]
     },
     "execution_count": 199,
     "metadata": {},
     "output_type": "execute_result"
    }
   ],
   "source": [
    "it = iter(list(range(5)))\n",
    "\n",
    "list(\n",
    "    zip(*itertools.tee(it, 6))\n",
    ")"
   ]
  },
  {
   "cell_type": "code",
   "execution_count": 198,
   "id": "4d001da5",
   "metadata": {},
   "outputs": [
    {
     "data": {
      "text/plain": [
       "[(0, 0, 0), (1, 1, 1), (2, 2, 2), (3, 3, 3), (4, 4, 4)]"
      ]
     },
     "execution_count": 198,
     "metadata": {},
     "output_type": "execute_result"
    }
   ],
   "source": [
    "it = iter(list(range(5)))\n",
    "it1, it2, it3 = itertools.tee(it, 3)\n",
    "\n",
    "list(\n",
    "    zip(it1, it2, it3)\n",
    ")"
   ]
  },
  {
   "cell_type": "code",
   "execution_count": 201,
   "id": "55d83c48",
   "metadata": {},
   "outputs": [
    {
     "data": {
      "text/plain": [
       "[0, 1, 2, 3, 4, 0, 1, 2, 3, 4, 0, 1, 2, 3, 4]"
      ]
     },
     "execution_count": 201,
     "metadata": {},
     "output_type": "execute_result"
    }
   ],
   "source": [
    "it = iter(list(range(5)))\n",
    "it1, it2, it3 = itertools.tee(it, 3)\n",
    "\n",
    "list(\n",
    "    itertools.chain(it1, it2, it3)\n",
    ")"
   ]
  },
  {
   "cell_type": "code",
   "execution_count": null,
   "id": "a054c03a",
   "metadata": {},
   "outputs": [],
   "source": []
  },
  {
   "cell_type": "code",
   "execution_count": null,
   "id": "3972c2c0",
   "metadata": {},
   "outputs": [],
   "source": []
  },
  {
   "cell_type": "code",
   "execution_count": 202,
   "id": "10403899",
   "metadata": {},
   "outputs": [
    {
     "name": "stdout",
     "output_type": "stream",
     "text": [
      "total 344\r\n",
      "drwxr-xr-x  17 g.kandaurov  staff    544 Oct  7 21:05 \u001b[1m\u001b[34m.\u001b[m\u001b[m\r\n",
      "drwxr-xr-x  32 g.kandaurov  staff   1024 Sep 12 18:37 \u001b[1m\u001b[34m..\u001b[m\u001b[m\r\n",
      "-rw-r--r--   1 g.kandaurov  staff  53248 Sep  9 15:44 .coverage\r\n",
      "drwxr-xr-x  15 g.kandaurov  staff    480 Oct  7 17:56 \u001b[1m\u001b[34m.git\u001b[m\u001b[m\r\n",
      "-rw-r--r--   1 g.kandaurov  staff   1799 Sep  9 11:43 .gitignore\r\n",
      "drwxr-xr-x   6 g.kandaurov  staff    192 Oct  7 17:58 \u001b[1m\u001b[34m.ipynb_checkpoints\u001b[m\u001b[m\r\n",
      "drwxr-xr-x   7 g.kandaurov  staff    224 Sep  9 19:12 \u001b[1m\u001b[34m.venv\u001b[m\u001b[m\r\n",
      "-rw-r--r--   1 g.kandaurov  staff    552 Oct  7 16:54 README.md\r\n",
      "drwxr-xr-x   4 g.kandaurov  staff    128 Sep  9 16:03 \u001b[1m\u001b[34m__pycache__\u001b[m\u001b[m\r\n",
      "-rw-r--r--   1 g.kandaurov  staff  40711 Oct  7 21:05 class_05.ipynb\r\n",
      "-rw-r--r--   1 g.kandaurov  staff  45746 Sep 30 13:31 class_05_old.ipynb\r\n",
      "drwxr-xr-x   8 g.kandaurov  staff    256 Sep  9 21:30 \u001b[1m\u001b[34mlesson-01\u001b[m\u001b[m\r\n",
      "drwxr-xr-x   6 g.kandaurov  staff    192 Sep 29 18:51 \u001b[1m\u001b[34mlesson-02\u001b[m\u001b[m\r\n",
      "drwxr-xr-x   5 g.kandaurov  staff    160 Sep 23 21:30 \u001b[1m\u001b[34mlesson-03\u001b[m\u001b[m\r\n",
      "drwxr-xr-x   5 g.kandaurov  staff    160 Oct  7 16:54 \u001b[1m\u001b[34mlesson-04\u001b[m\u001b[m\r\n",
      "-rw-r--r--   1 g.kandaurov  staff  21566 Sep 30 17:27 lesson-04.ipynb\r\n",
      "drwxr-xr-x   4 g.kandaurov  staff    128 Oct  7 17:43 \u001b[1m\u001b[34mlesson-05\u001b[m\u001b[m\r\n"
     ]
    }
   ],
   "source": [
    "!ls -al"
   ]
  },
  {
   "cell_type": "code",
   "execution_count": 205,
   "id": "dec42d21",
   "metadata": {},
   "outputs": [],
   "source": [
    "with open(\"data\", \"w\") as f:\n",
    "    f.write(\"12334\\n4567899\\n\")\n",
    "    f.writelines([\"abc\\n\", \"drtyew\\n\"])"
   ]
  },
  {
   "cell_type": "code",
   "execution_count": 206,
   "id": "75db8983",
   "metadata": {},
   "outputs": [
    {
     "name": "stdout",
     "output_type": "stream",
     "text": [
      "12334\r\n",
      "4567899\r\n",
      "abc\r\n",
      "drtyew\r\n"
     ]
    }
   ],
   "source": [
    "!cat data"
   ]
  },
  {
   "cell_type": "code",
   "execution_count": 226,
   "id": "d3a081af",
   "metadata": {},
   "outputs": [],
   "source": [
    "with open(\"data\", \"w\") as f:\n",
    "    for i in range(10):\n",
    "        f.write(f\"made_{i}\\n\")"
   ]
  },
  {
   "cell_type": "code",
   "execution_count": 208,
   "id": "605be53f",
   "metadata": {},
   "outputs": [
    {
     "name": "stdout",
     "output_type": "stream",
     "text": [
      "made_0\r\n",
      "made_1\r\n",
      "made_2\r\n",
      "made_3\r\n",
      "made_4\r\n",
      "made_5\r\n",
      "made_6\r\n",
      "made_7\r\n",
      "made_8\r\n",
      "made_9\r\n"
     ]
    }
   ],
   "source": [
    "!cat data"
   ]
  },
  {
   "cell_type": "code",
   "execution_count": 211,
   "id": "f6b3aa99",
   "metadata": {},
   "outputs": [
    {
     "name": "stdout",
     "output_type": "stream",
     "text": [
      "made_0\n",
      "mad\n"
     ]
    }
   ],
   "source": [
    "with open(\"data\") as f:\n",
    "    print(f.read(10))"
   ]
  },
  {
   "cell_type": "code",
   "execution_count": 216,
   "id": "c382ba77",
   "metadata": {},
   "outputs": [
    {
     "name": "stdout",
     "output_type": "stream",
     "text": [
      "['made_0', 'made_1', 'made_2', 'made_3', 'made_4', 'made_5', 'made_6', 'made_7', 'made_8', 'made_9']\n"
     ]
    }
   ],
   "source": [
    "with open(\"data\") as f:\n",
    "    print(\n",
    "        [s.strip() for s in f.readlines()]\n",
    "    )"
   ]
  },
  {
   "cell_type": "code",
   "execution_count": 218,
   "id": "838df86f",
   "metadata": {},
   "outputs": [
    {
     "name": "stdout",
     "output_type": "stream",
     "text": [
      "made_0\n",
      "made_1\n",
      "made_2\n",
      "made_3\n",
      "made_4\n",
      "made_5\n",
      "made_6\n",
      "made_7\n",
      "made_8\n",
      "made_9\n"
     ]
    }
   ],
   "source": [
    "with open(\"data\") as f:\n",
    "    for line in f:\n",
    "        print(line.strip())"
   ]
  },
  {
   "cell_type": "code",
   "execution_count": 221,
   "id": "29ae046e",
   "metadata": {},
   "outputs": [
    {
     "name": "stdout",
     "output_type": "stream",
     "text": [
      "made_0\n",
      " 72\n"
     ]
    }
   ],
   "source": [
    "with open(\"data\") as f:\n",
    "    print(f.__next__(), f.fileno())"
   ]
  },
  {
   "cell_type": "code",
   "execution_count": 222,
   "id": "528db380",
   "metadata": {},
   "outputs": [
    {
     "name": "stdout",
     "output_type": "stream",
     "text": [
      "5\n",
      "made_6\n",
      "made_7\n",
      "made_8\n",
      "made_9\n",
      "\n"
     ]
    }
   ],
   "source": [
    "with open(\"data\") as f:\n",
    "    f.seek(40)\n",
    "    print(f.read())\n"
   ]
  },
  {
   "cell_type": "code",
   "execution_count": 232,
   "id": "192915f9",
   "metadata": {},
   "outputs": [
    {
     "name": "stdout",
     "output_type": "stream",
     "text": [
      "made_0\n",
      "made_1\n",
      "made_2\n",
      "made_3\n",
      "made_4\n",
      "made_9999999999rty_7\n",
      "made_8\n",
      "made_9\n",
      "\n"
     ]
    }
   ],
   "source": [
    "with open(\"data\", \"r+\") as f:\n",
    "    f.seek(40)\n",
    "    f.write(\"9999999999\")\n",
    "    f.seek(0)\n",
    "    print(f.read())"
   ]
  },
  {
   "cell_type": "code",
   "execution_count": 233,
   "id": "cc2cf765",
   "metadata": {},
   "outputs": [
    {
     "name": "stdout",
     "output_type": "stream",
     "text": [
      "init\n",
      "enter\n",
      "start\n",
      "made_0\n",
      "made_1\n",
      "made_2\n",
      "made_3\n",
      "made_4\n",
      "made_9999999999rty_7\n",
      "made_8\n",
      "made_9\n",
      "\n",
      "exit\n",
      "end\n"
     ]
    }
   ],
   "source": [
    "class ConstextManager:\n",
    "    def __init__(self, filename, mode):\n",
    "        print('init')\n",
    "        self.filename = filename\n",
    "        self.mode = mode\n",
    "        self.fobj = None\n",
    "\n",
    "    def __enter__(self):\n",
    "        print('enter')\n",
    "        self.fobj = open(self.filename, self.mode)\n",
    "        return self.fobj\n",
    "    \n",
    "    def __exit__(self, *args):\n",
    "        print('exit')\n",
    "        self.fobj.close()\n",
    "        \n",
    "        \n",
    "with ConstextManager(\"data\", \"r+\") as f:\n",
    "    print('start')\n",
    "    print(f.read())\n",
    "\n",
    "print('end')"
   ]
  },
  {
   "cell_type": "code",
   "execution_count": null,
   "id": "f67d8786",
   "metadata": {},
   "outputs": [],
   "source": [
    "\n"
   ]
  }
 ],
 "metadata": {
  "kernelspec": {
   "display_name": "Python 3 (ipykernel)",
   "language": "python",
   "name": "python3"
  },
  "language_info": {
   "codemirror_mode": {
    "name": "ipython",
    "version": 3
   },
   "file_extension": ".py",
   "mimetype": "text/x-python",
   "name": "python",
   "nbconvert_exporter": "python",
   "pygments_lexer": "ipython3",
   "version": "3.10.2"
  }
 },
 "nbformat": 4,
 "nbformat_minor": 5
}
