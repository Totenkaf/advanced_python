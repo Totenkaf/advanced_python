{
 "cells": [
  {
   "cell_type": "code",
   "execution_count": 13,
   "id": "badebfc7",
   "metadata": {},
   "source": [
    "from abc import ABC, ABCMeta, abstractmethod\n",
    "\n",
    "\n",
    "# class AbstractFeature(ABC):\n",
    "class AbstractFeature(metaclass=ABCMeta):\n",
    "    @abstractmethod\n",
    "    def print_total(self):\n",
    "        print(\"AbstractFeature.print_total\")\n",
    "\n",
    "\n",
    "class JsonFeature(AbstractFeature):\n",
    "\n",
    "    def print_total(self):\n",
    "        print(\"JsonFeature.print_total\")\n",
    "        super().print_total()"
   ],
   "outputs": []
  },
  {
   "cell_type": "code",
   "execution_count": 14,
   "id": "ff178a34",
   "metadata": {},
   "source": [
    "abstr = AbstractFeature()"
   ],
   "outputs": []
  },
  {
   "cell_type": "code",
   "execution_count": 15,
   "id": "e85139d9",
   "metadata": {},
   "source": [
    "js = JsonFeature()\n",
    "js.print_total()"
   ],
   "outputs": []
  },
  {
   "cell_type": "code",
   "execution_count": null,
   "id": "afb0b0ea",
   "metadata": {},
   "source": [],
   "outputs": []
  },
  {
   "cell_type": "code",
   "execution_count": null,
   "id": "faccaea8",
   "metadata": {},
   "source": [],
   "outputs": []
  },
  {
   "cell_type": "code",
   "execution_count": 37,
   "id": "1d5579c3",
   "metadata": {},
   "source": [
    "class Predictable(ABC):\n",
    "\n",
    "    @abstractmethod\n",
    "    def predict(self):\n",
    "        pass\n",
    "\n",
    "    @classmethod\n",
    "    def __subclasshook__(cls, C):\n",
    "        if cls is Predictable:\n",
    "            for class_ in C.__mro__:\n",
    "                if (\n",
    "                    \"predict\" in class_.__dict__\n",
    "                    and callable(class_.__dict__[\"predict\"])\n",
    "                ):\n",
    "                    return True\n",
    "\n",
    "        return NotImplemented\n",
    "#Predictable.__subclasshook__(RandomForest)\n",
    "\n",
    "class RandomForest:\n",
    "    __slots__ = (\"x\", \"y\")\n",
    "    \n",
    "    def predict(self):\n",
    "        print(\"RandomForest.predict\")\n",
    "    \n",
    "\n",
    "class Tree:\n",
    "    predict = \"value\"\n",
    "        "
   ],
   "outputs": []
  },
  {
   "cell_type": "code",
   "execution_count": 34,
   "id": "a97be531",
   "metadata": {},
   "source": [
    "rand = RandomForest()\n",
    "\n",
    "issubclass(RandomForest, Predictable), isinstance(rand, Predictable)"
   ],
   "outputs": []
  },
  {
   "cell_type": "code",
   "execution_count": 35,
   "id": "96e0487e",
   "metadata": {},
   "source": [
    "tr = Tree()\n",
    "\n",
    "issubclass(Tree, Predictable), isinstance(tr, Predictable)"
   ],
   "outputs": []
  },
  {
   "cell_type": "code",
   "execution_count": null,
   "id": "da9eac62",
   "metadata": {},
   "source": [],
   "outputs": []
  },
  {
   "cell_type": "code",
   "execution_count": null,
   "id": "f8b33c61",
   "metadata": {},
   "source": [],
   "outputs": []
  },
  {
   "cell_type": "code",
   "execution_count": 39,
   "id": "9e21c7f6",
   "metadata": {},
   "source": [
    "from decimal import Decimal\n",
    "from fractions import Fraction\n",
    "\n",
    "print(Decimal(\"0.1\") + Decimal(\"0.2\") == Decimal(\"0.3\"))\n",
    "print(Decimal(1) / Decimal(7))\n",
    "\n",
    "fr = Fraction(1, 10)\n",
    "print(Fraction(1, 10) + Fraction(2, 10))\n",
    "print(Fraction(1, 7) + Fraction(2, 9))"
   ],
   "outputs": []
  },
  {
   "cell_type": "code",
   "execution_count": null,
   "id": "75bebb10",
   "metadata": {},
   "source": [],
   "outputs": []
  },
  {
   "cell_type": "code",
   "execution_count": null,
   "id": "874a8307",
   "metadata": {},
   "source": [],
   "outputs": []
  },
  {
   "cell_type": "code",
   "execution_count": 40,
   "id": "2292d124",
   "metadata": {},
   "source": [
    "s = \"1¹²²³⁴⁴\""
   ],
   "outputs": []
  },
  {
   "cell_type": "code",
   "execution_count": 45,
   "id": "b3e8dcf9",
   "metadata": {},
   "source": [
    "s.isidentifier(), \"_abc\".isidentifier(), \"1_abc\".isidentifier(), \"переменка\".isidentifier()"
   ],
   "outputs": []
  },
  {
   "cell_type": "code",
   "execution_count": 47,
   "id": "2d0855c5",
   "metadata": {},
   "source": [
    "s.isdecimal(), s.isalnum(), s.isdigit(), s.isnumeric()"
   ],
   "outputs": []
  },
  {
   "cell_type": "code",
   "execution_count": 50,
   "id": "eb60588c",
   "metadata": {},
   "source": [
    "int(\"1234\"), int(s)"
   ],
   "outputs": []
  },
  {
   "cell_type": "code",
   "execution_count": null,
   "id": "0a583090",
   "metadata": {},
   "source": [],
   "outputs": []
  },
  {
   "cell_type": "code",
   "execution_count": 57,
   "id": "cb485028",
   "metadata": {},
   "source": [
    "s = \"Шла Саша по шоссе 60\""
   ],
   "outputs": []
  },
  {
   "cell_type": "code",
   "execution_count": 58,
   "id": "f5453483",
   "metadata": {},
   "source": [
    "s.capitalize()"
   ],
   "outputs": []
  },
  {
   "cell_type": "code",
   "execution_count": 59,
   "id": "e861c1c7",
   "metadata": {},
   "source": [
    "s.title(), s.title().istitle()"
   ],
   "outputs": []
  },
  {
   "cell_type": "code",
   "execution_count": 60,
   "id": "bb33ba87",
   "metadata": {},
   "source": [
    "s.upper(), s.lower()"
   ],
   "outputs": []
  },
  {
   "cell_type": "code",
   "execution_count": 61,
   "id": "ddf4ec8e",
   "metadata": {},
   "source": [
    "s.swapcase()"
   ],
   "outputs": []
  },
  {
   "cell_type": "code",
   "execution_count": 62,
   "id": "49d12543",
   "metadata": {},
   "source": [
    "\"\\t\\n\\r\\v\".isspace(), s.isspace()"
   ],
   "outputs": []
  },
  {
   "cell_type": "code",
   "execution_count": null,
   "id": "9d227841",
   "metadata": {},
   "source": [],
   "outputs": []
  },
  {
   "cell_type": "code",
   "execution_count": 65,
   "id": "11bc1d8f",
   "metadata": {},
   "source": [
    "s = \"Шла Саша по шоссе 60\""
   ],
   "outputs": []
  },
  {
   "cell_type": "code",
   "execution_count": 66,
   "id": "72dc2dff",
   "metadata": {},
   "source": [
    "s.find(\"Саша\"), s.find(\"Саша\", 10), s.find(\"uwyqyetyq\")"
   ],
   "outputs": []
  },
  {
   "cell_type": "code",
   "execution_count": 68,
   "id": "c5f68fbd",
   "metadata": {},
   "source": [
    "s.count(\"Саша\"), s.count(\"а\")"
   ],
   "outputs": []
  },
  {
   "cell_type": "code",
   "execution_count": 70,
   "id": "076cf26b",
   "metadata": {},
   "source": [
    "s.index(\"Саша123\")"
   ],
   "outputs": []
  },
  {
   "cell_type": "code",
   "execution_count": 71,
   "id": "3dc8b77e",
   "metadata": {},
   "source": [
    "\"Саша\" in s  # nm"
   ],
   "outputs": []
  },
  {
   "cell_type": "code",
   "execution_count": 73,
   "id": "2471bc79",
   "metadata": {},
   "source": [
    "s.replace(\"Саша\", \"Миранда\"), s"
   ],
   "outputs": []
  },
  {
   "cell_type": "code",
   "execution_count": null,
   "id": "6659064a",
   "metadata": {},
   "source": [],
   "outputs": []
  },
  {
   "cell_type": "code",
   "execution_count": 77,
   "id": "f4ea9b6b",
   "metadata": {},
   "source": [
    "s = \"Шла Саша    по    \\n\\n шоссе 60\""
   ],
   "outputs": []
  },
  {
   "cell_type": "code",
   "execution_count": 75,
   "id": "2be96f8a",
   "metadata": {},
   "source": [
    "s.strip(\"лШ 06\")"
   ],
   "outputs": []
  },
  {
   "cell_type": "code",
   "execution_count": 76,
   "id": "97597dd4",
   "metadata": {},
   "source": [
    "\"       \\t\\t\\tШла Саша по шоссе 60\\n\\r\".strip()"
   ],
   "outputs": []
  },
  {
   "cell_type": "code",
   "execution_count": 78,
   "id": "76850dfc",
   "metadata": {},
   "source": [
    "s.split()"
   ],
   "outputs": []
  },
  {
   "cell_type": "code",
   "execution_count": 81,
   "id": "3e3b11be",
   "metadata": {},
   "source": [
    "s = \"Шла Саша    по    \\n\\n шоссе 60\"\n",
    "\"_\".join(s.split()), \" \".join(s.split())"
   ],
   "outputs": []
  },
  {
   "cell_type": "code",
   "execution_count": 82,
   "id": "94702407",
   "metadata": {},
   "source": [
    "s.split(\"Саша\")"
   ],
   "outputs": []
  },
  {
   "cell_type": "code",
   "execution_count": null,
   "id": "76f4c0d7",
   "metadata": {},
   "source": [],
   "outputs": []
  },
  {
   "cell_type": "code",
   "execution_count": 85,
   "id": "ab4d9919",
   "metadata": {},
   "source": [
    "s = \"Шла Саша по шоссе 60\""
   ],
   "outputs": []
  },
  {
   "cell_type": "code",
   "execution_count": 86,
   "id": "7e83933a",
   "metadata": {},
   "source": [
    "s.partition(\"Саша\")"
   ],
   "outputs": []
  },
  {
   "cell_type": "code",
   "execution_count": 87,
   "id": "9033df27",
   "metadata": {},
   "source": [
    "s.partition(\"а\")"
   ],
   "outputs": []
  },
  {
   "cell_type": "code",
   "execution_count": 88,
   "id": "c04e0272",
   "metadata": {},
   "source": [
    "s.partition(\"аdkwmkdw\")"
   ],
   "outputs": []
  },
  {
   "cell_type": "code",
   "execution_count": null,
   "id": "262bd94f",
   "metadata": {},
   "source": [],
   "outputs": []
  },
  {
   "cell_type": "code",
   "execution_count": null,
   "id": "c25352a5",
   "metadata": {},
   "source": [],
   "outputs": []
  },
  {
   "cell_type": "code",
   "execution_count": null,
   "id": "8ceea569",
   "metadata": {},
   "source": [],
   "outputs": []
  },
  {
   "cell_type": "code",
   "execution_count": 89,
   "id": "c6381001",
   "metadata": {},
   "source": [
    "import collections as cl"
   ],
   "outputs": []
  },
  {
   "cell_type": "code",
   "execution_count": 90,
   "id": "20445aaa",
   "metadata": {},
   "source": [
    "Point = cl.namedtuple(\"Point\", [\"x\", \"y\"])\n",
    "p = Point(10, 20)\n",
    "\n",
    "print(p)\n",
    "print(p[0], p[1])\n",
    "print(p.x, p.y)"
   ],
   "outputs": []
  },
  {
   "cell_type": "code",
   "execution_count": 91,
   "id": "1c964486",
   "metadata": {},
   "source": [
    "p.x = 20"
   ],
   "outputs": []
  },
  {
   "cell_type": "code",
   "execution_count": 92,
   "id": "89d99a7b",
   "metadata": {},
   "source": [
    "p.z = 30"
   ],
   "outputs": []
  },
  {
   "cell_type": "code",
   "execution_count": null,
   "id": "3aae3c30",
   "metadata": {},
   "source": [],
   "outputs": []
  },
  {
   "cell_type": "code",
   "execution_count": 97,
   "id": "87650d05",
   "metadata": {},
   "source": [
    "cnt = cl.Counter()\n",
    "cnt[9] += 10\n",
    "cnt[1]"
   ],
   "outputs": []
  },
  {
   "cell_type": "code",
   "execution_count": 98,
   "id": "8d8575f7",
   "metadata": {},
   "source": [
    "cnt"
   ],
   "outputs": []
  },
  {
   "cell_type": "code",
   "execution_count": 101,
   "id": "4baa5762",
   "metadata": {},
   "source": [
    "cnt = cl.Counter(\"qkjdlqwhqhwd hqwd qhwdqhowudh uqihwdugqwdgqwgd kqhwdqgerjygeqkhdqwjebhqegfkheg\")\n",
    "cnt"
   ],
   "outputs": []
  },
  {
   "cell_type": "code",
   "execution_count": 103,
   "id": "8334525b",
   "metadata": {},
   "source": [
    "cnt.most_common(3)"
   ],
   "outputs": []
  },
  {
   "cell_type": "code",
   "execution_count": 109,
   "id": "a94e8ad6",
   "metadata": {},
   "source": [
    "list(cnt.elements())[:20]"
   ],
   "outputs": []
  },
  {
   "cell_type": "code",
   "execution_count": 116,
   "id": "1e5d08dd",
   "metadata": {},
   "source": [
    "dd = cl.defaultdict(lambda: \"123\")\n",
    "dd[3] += \"456\"\n",
    "dd[4] = \"99\"\n",
    "dd[1]"
   ],
   "outputs": []
  },
  {
   "cell_type": "code",
   "execution_count": 117,
   "id": "e6ece558",
   "metadata": {},
   "source": [
    "dd"
   ],
   "outputs": []
  },
  {
   "cell_type": "code",
   "execution_count": null,
   "id": "85416959",
   "metadata": {},
   "source": [],
   "outputs": []
  },
  {
   "cell_type": "code",
   "execution_count": 118,
   "id": "fdd7d55c",
   "metadata": {},
   "source": [
    "deq = cl.deque(\"0123456789\")"
   ],
   "outputs": []
  },
  {
   "cell_type": "code",
   "execution_count": 119,
   "id": "ab9cc862",
   "metadata": {},
   "source": [
    "deq"
   ],
   "outputs": []
  },
  {
   "cell_type": "code",
   "execution_count": 120,
   "id": "a7c05773",
   "metadata": {},
   "source": [
    "deq.appendleft(\"-1\")"
   ],
   "outputs": []
  },
  {
   "cell_type": "code",
   "execution_count": 121,
   "id": "42bdd6fc",
   "metadata": {},
   "source": [
    "deq"
   ],
   "outputs": []
  },
  {
   "cell_type": "code",
   "execution_count": 122,
   "id": "026dda56",
   "metadata": {},
   "source": [
    "deq.append(\"42\")"
   ],
   "outputs": []
  },
  {
   "cell_type": "code",
   "execution_count": 125,
   "id": "cc2ff6b4",
   "metadata": {},
   "source": [
    "deq"
   ],
   "outputs": []
  },
  {
   "cell_type": "code",
   "execution_count": 127,
   "id": "382f9f3b",
   "metadata": {},
   "source": [
    "deq = cl.deque(\"0123456789\", maxlen=5)"
   ],
   "outputs": []
  },
  {
   "cell_type": "code",
   "execution_count": 128,
   "id": "5fda8b3b",
   "metadata": {},
   "source": [
    "deq"
   ],
   "outputs": []
  },
  {
   "cell_type": "code",
   "execution_count": 129,
   "id": "32dc9177",
   "metadata": {},
   "source": [
    "deq.append(\"10\")"
   ],
   "outputs": []
  },
  {
   "cell_type": "code",
   "execution_count": 130,
   "id": "ab5f8a4f",
   "metadata": {},
   "source": [
    "deq"
   ],
   "outputs": []
  },
  {
   "cell_type": "code",
   "execution_count": 131,
   "id": "f5898ccf",
   "metadata": {},
   "source": [
    "deq.appendleft(\"5\")"
   ],
   "outputs": []
  },
  {
   "cell_type": "code",
   "execution_count": 134,
   "id": "40cf1b60",
   "metadata": {},
   "source": [
    "deq"
   ],
   "outputs": []
  },
  {
   "cell_type": "code",
   "execution_count": null,
   "id": "9720d0c3",
   "metadata": {},
   "source": [
    "words = re.findall(r\"\\w+\", open(\"hamlet.txt\").read().lower())\n",
    "\n",
    "Counter(words).most_common(5)"
   ],
   "outputs": []
  },
  {
   "cell_type": "code",
   "execution_count": null,
   "id": "2d005a5b",
   "metadata": {},
   "source": [],
   "outputs": []
  },
  {
   "cell_type": "code",
   "execution_count": null,
   "id": "f1bf3f9a",
   "metadata": {},
   "source": [],
   "outputs": []
  },
  {
   "cell_type": "code",
   "execution_count": 135,
   "id": "fa5c25f0",
   "metadata": {},
   "source": [
    "from functools import wraps, partial"
   ],
   "outputs": []
  },
  {
   "cell_type": "code",
   "execution_count": 147,
   "id": "fb646492",
   "metadata": {},
   "source": [
    "def deco(fn):\n",
    "    @wraps(fn)\n",
    "    def inner(*args, **kwargs):\n",
    "        return fn(*args, **kwargs)\n",
    "    return inner\n",
    "\n",
    "\n",
    "@deco\n",
    "def add(a, b):\n",
    "    return a + b"
   ],
   "outputs": []
  },
  {
   "cell_type": "code",
   "execution_count": 148,
   "id": "996d4cc6",
   "metadata": {},
   "source": [
    "add(1, 0)"
   ],
   "outputs": []
  },
  {
   "cell_type": "code",
   "execution_count": 139,
   "id": "403afb79",
   "metadata": {},
   "source": [
    "add.__name__"
   ],
   "outputs": []
  },
  {
   "cell_type": "code",
   "execution_count": 150,
   "id": "c7de2d50",
   "metadata": {},
   "source": [
    "add.__name__, add.__doc__"
   ],
   "outputs": []
  },
  {
   "cell_type": "code",
   "execution_count": null,
   "id": "f865ca3c",
   "metadata": {},
   "source": [],
   "outputs": []
  },
  {
   "cell_type": "code",
   "execution_count": null,
   "id": "d3a606aa",
   "metadata": {},
   "source": [],
   "outputs": []
  },
  {
   "cell_type": "code",
   "execution_count": 151,
   "id": "f0f42241",
   "metadata": {},
   "source": [
    "add3 = partial(add, 3)\n",
    "add3(10)"
   ],
   "outputs": []
  },
  {
   "cell_type": "code",
   "execution_count": 152,
   "id": "c99e1e03",
   "metadata": {},
   "source": [
    "add_3_10 = partial(add, 3, 10)\n",
    "\n",
    "dd = cl.defaultdict(add_3_10)\n",
    "dd[3]"
   ],
   "outputs": []
  },
  {
   "cell_type": "code",
   "execution_count": null,
   "id": "5e8fafcc",
   "metadata": {},
   "source": [],
   "outputs": []
  },
  {
   "cell_type": "code",
   "execution_count": null,
   "id": "2ef78641",
   "metadata": {},
   "source": [],
   "outputs": []
  },
  {
   "cell_type": "code",
   "execution_count": null,
   "id": "f63bcce2",
   "metadata": {},
   "source": [],
   "outputs": []
  },
  {
   "cell_type": "code",
   "execution_count": 158,
   "id": "30ff2ee9",
   "metadata": {},
   "source": [
    "class SpecialIterator:\n",
    "    def __init__(self, limit):\n",
    "        self.limit = limit\n",
    "        self.counter = 0\n",
    "    \n",
    "    def __next__(self):\n",
    "        if self.counter < self.limit:\n",
    "            self.counter += 1\n",
    "            return self.counter\n",
    "        else:\n",
    "            raise StopIteration\n",
    "            \n",
    "\n",
    "it = SpecialIterator(5)\n",
    "for _ in range(5):\n",
    "    print(next(it))"
   ],
   "outputs": []
  },
  {
   "cell_type": "code",
   "execution_count": 159,
   "id": "3a9a44db",
   "metadata": {},
   "source": [
    "next(it)"
   ],
   "outputs": []
  },
  {
   "cell_type": "code",
   "execution_count": null,
   "id": "b5482b29",
   "metadata": {},
   "source": [],
   "outputs": []
  },
  {
   "cell_type": "code",
   "execution_count": 163,
   "id": "978e9404",
   "metadata": {},
   "source": [
    "it = iter([1, 2, 3])\n",
    "\n",
    "print(tuple(it))"
   ],
   "outputs": []
  },
  {
   "cell_type": "code",
   "execution_count": 173,
   "id": "9111d207",
   "metadata": {},
   "source": [
    "class FineIter:\n",
    "    def __init__(self, seq):\n",
    "        self.seq = seq\n",
    "        self.idx = 0\n",
    "    \n",
    "    def __iter__(self):\n",
    "        print('ITER')\n",
    "        # return iter(self.seq)\n",
    "        return self\n",
    "    \n",
    "    def __next__(self):\n",
    "        print('NEXT')\n",
    "        if self.idx < len(self.seq):\n",
    "            val = self.seq[self.idx]\n",
    "            self.idx += 1\n",
    "            return val\n",
    "\n",
    "        raise StopIteration()\n",
    "\n",
    "\n",
    "it = FineIter([1, 4, 7])\n",
    "print(list(it))\n",
    "\n",
    "for i in FineIter([1, 4, 7]):\n",
    "    print(i)"
   ],
   "outputs": []
  },
  {
   "cell_type": "code",
   "execution_count": 171,
   "id": "fcaddc82",
   "metadata": {},
   "source": [
    "list(iter(FineIter([1, 4, 7])))"
   ],
   "outputs": []
  },
  {
   "cell_type": "code",
   "execution_count": 172,
   "id": "d22db535",
   "metadata": {},
   "source": [
    "lst = [1, 3, 7]\n",
    "list.__next__(lst)"
   ],
   "outputs": []
  },
  {
   "cell_type": "code",
   "execution_count": 175,
   "id": "8c2fac29",
   "metadata": {},
   "source": [
    "it = iter(FineIter([1, 4, 7]))\n",
    "next(it)"
   ],
   "outputs": []
  },
  {
   "cell_type": "code",
   "execution_count": 177,
   "id": "f53a26e1",
   "metadata": {},
   "source": [
    "it = iter(list(range(10)))\n",
    "list(it), list(it)"
   ],
   "outputs": []
  },
  {
   "cell_type": "code",
   "execution_count": 178,
   "id": "105bd39c",
   "metadata": {},
   "source": [
    "it = iter(list(range(10)))\n",
    "\n",
    "list(\n",
    "    zip(it, map(lambda x: x ** 2, it))\n",
    ")"
   ],
   "outputs": []
  },
  {
   "cell_type": "code",
   "execution_count": 179,
   "id": "2aa45647",
   "metadata": {},
   "source": [
    "it = iter(list(range(10)))\n",
    "\n",
    "list(\n",
    "    zip(it, it, it)\n",
    ")"
   ],
   "outputs": []
  },
  {
   "cell_type": "code",
   "execution_count": null,
   "id": "5e729a7b",
   "metadata": {},
   "source": [],
   "outputs": []
  },
  {
   "cell_type": "code",
   "execution_count": 180,
   "id": "1684c52c",
   "metadata": {},
   "source": [
    "import itertools"
   ],
   "outputs": []
  },
  {
   "cell_type": "code",
   "execution_count": 182,
   "id": "ccdc3673",
   "metadata": {},
   "source": [
    "it = itertools.count(2, 2)\n",
    "for _ in range(10):\n",
    "    print(next(it))"
   ],
   "outputs": []
  },
  {
   "cell_type": "code",
   "execution_count": 189,
   "id": "c29dfbc1",
   "metadata": {},
   "source": [
    "it = itertools.count(2, 2)\n",
    "\n",
    "print(list(itertools.islice(it, 10)))\n",
    "\n",
    "print(list(itertools.islice(it, 100, 120, 3)))"
   ],
   "outputs": []
  },
  {
   "cell_type": "code",
   "execution_count": 191,
   "id": "b5d6ed0c",
   "metadata": {},
   "source": [
    "list(itertools.accumulate([1, 2, 3, 4, 5]))"
   ],
   "outputs": []
  },
  {
   "cell_type": "code",
   "execution_count": 194,
   "id": "edd7818c",
   "metadata": {},
   "source": [
    "list(itertools.accumulate([1, 2, 3, 4, 5], lambda a, b: a * b))"
   ],
   "outputs": []
  },
  {
   "cell_type": "code",
   "execution_count": 196,
   "id": "6e153e82",
   "metadata": {},
   "source": [
    "s = \"qqqwwerrteeewwwwwwwwwwww\"\n",
    "for ch, ch_iter in itertools.groupby(s):\n",
    "    elems = list(ch_iter)\n",
    "    print(ch, len(elems), elems)"
   ],
   "outputs": []
  },
  {
   "cell_type": "code",
   "execution_count": null,
   "id": "292121b1",
   "metadata": {},
   "source": [],
   "outputs": []
  },
  {
   "cell_type": "code",
   "execution_count": null,
   "id": "845c2a70",
   "metadata": {},
   "source": [],
   "outputs": []
  },
  {
   "cell_type": "code",
   "execution_count": 199,
   "id": "9a80f6b8",
   "metadata": {},
   "source": [
    "it = iter(list(range(5)))\n",
    "\n",
    "list(\n",
    "    zip(*itertools.tee(it, 6))\n",
    ")"
   ],
   "outputs": []
  },
  {
   "cell_type": "code",
   "execution_count": 198,
   "id": "4d001da5",
   "metadata": {},
   "source": [
    "it = iter(list(range(5)))\n",
    "it1, it2, it3 = itertools.tee(it, 3)\n",
    "\n",
    "list(\n",
    "    zip(it1, it2, it3)\n",
    ")"
   ],
   "outputs": []
  },
  {
   "cell_type": "code",
   "execution_count": 201,
   "id": "55d83c48",
   "metadata": {},
   "source": [
    "it = iter(list(range(5)))\n",
    "it1, it2, it3 = itertools.tee(it, 3)\n",
    "\n",
    "list(\n",
    "    itertools.chain(it1, it2, it3)\n",
    ")"
   ],
   "outputs": []
  },
  {
   "cell_type": "code",
   "execution_count": null,
   "id": "a054c03a",
   "metadata": {},
   "source": [],
   "outputs": []
  },
  {
   "cell_type": "code",
   "execution_count": null,
   "id": "3972c2c0",
   "metadata": {},
   "source": [],
   "outputs": []
  },
  {
   "cell_type": "code",
   "execution_count": 202,
   "id": "10403899",
   "metadata": {},
   "source": [
    "!ls -al"
   ],
   "outputs": []
  },
  {
   "cell_type": "code",
   "execution_count": 205,
   "id": "dec42d21",
   "metadata": {},
   "source": [
    "with open(\"data\", \"w\") as f:\n",
    "    f.write(\"12334\\n4567899\\n\")\n",
    "    f.writelines([\"abc\\n\", \"drtyew\\n\"])"
   ],
   "outputs": []
  },
  {
   "cell_type": "code",
   "execution_count": 206,
   "id": "75db8983",
   "metadata": {},
   "source": [
    "!cat data"
   ],
   "outputs": []
  },
  {
   "cell_type": "code",
   "execution_count": 226,
   "id": "d3a081af",
   "metadata": {},
   "source": [
    "with open(\"data\", \"w\") as f:\n",
    "    for i in range(10):\n",
    "        f.write(f\"made_{i}\\n\")"
   ],
   "outputs": []
  },
  {
   "cell_type": "code",
   "execution_count": 208,
   "id": "605be53f",
   "metadata": {},
   "source": [
    "!cat data"
   ],
   "outputs": []
  },
  {
   "cell_type": "code",
   "execution_count": 211,
   "id": "f6b3aa99",
   "metadata": {},
   "source": [
    "with open(\"data\") as f:\n",
    "    print(f.read(10))"
   ],
   "outputs": []
  },
  {
   "cell_type": "code",
   "execution_count": 216,
   "id": "c382ba77",
   "metadata": {},
   "source": [
    "with open(\"data\") as f:\n",
    "    print(\n",
    "        [s.strip() for s in f.readlines()]\n",
    "    )"
   ],
   "outputs": []
  },
  {
   "cell_type": "code",
   "execution_count": 218,
   "id": "838df86f",
   "metadata": {},
   "source": [
    "with open(\"data\") as f:\n",
    "    for line in f:\n",
    "        print(line.strip())"
   ],
   "outputs": []
  },
  {
   "cell_type": "code",
   "execution_count": 221,
   "id": "29ae046e",
   "metadata": {},
   "source": [
    "with open(\"data\") as f:\n",
    "    print(f.__next__(), f.fileno())"
   ],
   "outputs": []
  },
  {
   "cell_type": "code",
   "execution_count": 222,
   "id": "528db380",
   "metadata": {},
   "source": [
    "with open(\"data\") as f:\n",
    "    f.seek(40)\n",
    "    print(f.read())\n"
   ],
   "outputs": []
  },
  {
   "cell_type": "code",
   "execution_count": 232,
   "id": "192915f9",
   "metadata": {},
   "source": [
    "with open(\"data\", \"r+\") as f:\n",
    "    f.seek(40)\n",
    "    f.write(\"9999999999\")\n",
    "    f.seek(0)\n",
    "    print(f.read())"
   ],
   "outputs": []
  },
  {
   "cell_type": "code",
   "execution_count": 233,
   "id": "cc2cf765",
   "metadata": {},
   "source": [
    "class ConstextManager:\n",
    "    def __init__(self, filename, mode):\n",
    "        print('init')\n",
    "        self.filename = filename\n",
    "        self.mode = mode\n",
    "        self.fobj = None\n",
    "\n",
    "    def __enter__(self):\n",
    "        print('enter')\n",
    "        self.fobj = open(self.filename, self.mode)\n",
    "        return self.fobj\n",
    "    \n",
    "    def __exit__(self, *args):\n",
    "        print('exit')\n",
    "        self.fobj.close()\n",
    "        \n",
    "        \n",
    "with ConstextManager(\"data\", \"r+\") as f:\n",
    "    print('start')\n",
    "    print(f.read())\n",
    "\n",
    "print('end')"
   ],
   "outputs": []
  },
  {
   "cell_type": "code",
   "execution_count": null,
   "id": "f67d8786",
   "metadata": {},
   "source": [
    "\n"
   ],
   "outputs": []
  }
 ],
 "metadata": {
  "kernelspec": {
   "display_name": "Python 3 (ipykernel)",
   "language": "python",
   "name": "python3"
  },
  "language_info": {
   "codemirror_mode": {
    "name": "ipython",
    "version": 3
   },
   "file_extension": ".py",
   "mimetype": "text/x-python",
   "name": "python",
   "nbconvert_exporter": "python",
   "pygments_lexer": "ipython3",
   "version": "3.10.2"
  }
 },
 "nbformat": 4,
 "nbformat_minor": 5
}
